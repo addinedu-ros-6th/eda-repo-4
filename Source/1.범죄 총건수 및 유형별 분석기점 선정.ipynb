{
 "cells": [
  {
   "cell_type": "markdown",
   "metadata": {},
   "source": [
    "# 범죄 총건수 및 유형별 분석기점 선정  "
   ]
  },
  {
   "cell_type": "markdown",
   "metadata": {},
   "source": [
    "## 1. 연도별 범죄 총 건수 시각화"
   ]
  },
  {
   "cell_type": "code",
   "execution_count": null,
   "metadata": {},
   "outputs": [],
   "source": [
    "import csv"
   ]
  },
  {
   "cell_type": "code",
   "execution_count": null,
   "metadata": {},
   "outputs": [],
   "source": [
    "import pandas as pd\n",
    "\n",
    "\n",
    "# Step 1: Read the CSV files\n",
    "df2 = pd.read_csv('../Data/범죄발생및검거현황/범죄발생_검거현황(11~22).csv')\n",
    "df1 = pd.read_csv('../Data//범죄발생및검거현황/범죄발생_검거현황(94~10).csv')\n",
    "df1.drop(columns=['죄종별(1)'], inplace=True)\n",
    "df2.drop(columns=['죄종별(1)'], inplace=True)"
   ]
  },
  {
   "cell_type": "code",
   "execution_count": null,
   "metadata": {},
   "outputs": [],
   "source": [
    "df1.columns=['연도','범죄 총 건수', '검거율', '검거인원', '남(검거수)', '여(검거수)']\n",
    "df2.columns=['연도','범죄 총 건수', '검거율', '검거인원', '남(검거수)', '여(검거수)']"
   ]
  },
  {
   "cell_type": "code",
   "execution_count": null,
   "metadata": {},
   "outputs": [],
   "source": [
    "df1, df2"
   ]
  },
  {
   "cell_type": "code",
   "execution_count": null,
   "metadata": {},
   "outputs": [],
   "source": [
    "import pandas as pd\n",
    "import matplotlib.pyplot as plt\n",
    "import seaborn as sns\n",
    "import koreanize_matplotlib\n",
    "from matplotlib.ticker import FuncFormatter\n",
    "\n",
    "# 94년도 데이터 계산을 위한 93년 데이터 추가\n",
    "total = pd.concat([df1, df2])\n",
    "new_row = pd.DataFrame({'연도': ['1993'], '범죄 총 건수': [1304349]})\n",
    "total = pd.concat([new_row, total]).reset_index(drop=True)\n",
    "\n",
    "total['범죄 총 건수'] = pd.to_numeric(total['범죄 총 건수'], errors='coerce')\n",
    "\n",
    "total['차이'] = total['범죄 총 건수'].diff()  \n",
    "total['퍼센트변화'] = total['범죄 총 건수'].pct_change() * 100  # 퍼센트로 계산\n",
    "\n",
    "total_for_plot = total[total['연도'] != '1993']\n",
    "total_for_plot['퍼센트변화'] = total_for_plot['범죄 총 건수'].pct_change() * 100\n",
    "\n",
    "threshold_10 = 10\n",
    "\n",
    "fig, ax = plt.subplots(1, 2, figsize=(20, 6))\n",
    "formatter = FuncFormatter(lambda x, pos: \"{:,.0f}\".format(x//10000) + \"만\")\n",
    "\n",
    "sns.lineplot(x='연도', y='범죄 총 건수', data=total_for_plot, marker='o', markersize=8, color='r', linewidth=2, ax=ax[0])\n",
    "ax[0].set_title('연도별 총 범죄 발생 건수', fontsize=15)\n",
    "ax[0].set_xlabel('연도', fontsize=12)\n",
    "ax[0].set_ylabel('범죄 총 건수', fontsize=12)\n",
    "ax[0].yaxis.set_major_formatter(formatter)\n",
    "\n",
    "sns.lineplot(x='연도', y='퍼센트변화', data=total_for_plot, marker='s', markersize=1, color='black', linewidth=2, ax=ax[1])\n",
    "ax[1].set_title('전년대비 총 범죄 발생 건수의 퍼센트 변화', fontsize=15)\n",
    "ax[1].set_xlabel('연도', fontsize=12)\n",
    "ax[1].set_ylabel('퍼센트 변화 (%)', fontsize=12)\n",
    "\n",
    "diff_points_10_positive = total_for_plot[total_for_plot['퍼센트변화'] > threshold_10]\n",
    "ax[1].scatter(x=diff_points_10_positive['연도'], y=diff_points_10_positive['퍼센트변화'], color='red', s=100, marker='s', label=f'>{threshold_10}% 차이')\n",
    "\n",
    "diff_points_10_negative = total_for_plot[total_for_plot['퍼센트변화'] < -threshold_10]\n",
    "ax[1].scatter(x=diff_points_10_negative['연도'], y=diff_points_10_negative['퍼센트변화'], color='b', s=100, marker='s', label=f'< -{threshold_10}% 차이')\n",
    "\n",
    "# Annotate points\n",
    "for i, row in diff_points_10_positive.iterrows():\n",
    "    ax[1].annotate(f\"{row['퍼센트변화']:.2f}%\", (row['연도'], row['퍼센트변화']), textcoords=\"offset points\", xytext=(0,5), ha='center', fontsize=15, color='r')\n",
    "for i, row in diff_points_10_negative.iterrows():\n",
    "    ax[1].annotate(f\"{row['퍼센트변화']:.2f}%\", (row['연도'], row['퍼센트변화']), textcoords=\"offset points\", xytext=(0,-15), ha='center', fontsize=15, color='b')\n",
    "\n",
    "plt.setp(ax[0].get_xticklabels(), ha=\"right\", rotation_mode=\"anchor\")\n",
    "plt.setp(ax[1].get_xticklabels(), ha=\"right\", rotation_mode=\"anchor\")\n",
    "\n",
    "ax[0].grid(True)\n",
    "ax[1].grid(True)\n",
    "\n",
    "ax[1].legend()\n",
    "plt.tight_layout()\n",
    "\n",
    "plt.show()\n"
   ]
  },
  {
   "cell_type": "markdown",
   "metadata": {},
   "source": [
    "### 분석 기점 선정\n",
    "\n",
    "1. 전년대비 퍼센트 1998, 2008년에 왜 10%이상이나 증가했는가?\n",
    "2. 2005, 2010, 2017 -10%이상이나 감소했는가?\n",
    "* 해당하는 년도 +-1연결해서 분석\n",
    "--------------------------------------------------"
   ]
  },
  {
   "cell_type": "code",
   "execution_count": null,
   "metadata": {},
   "outputs": [],
   "source": [
    "total_for_plot.info()"
   ]
  },
  {
   "cell_type": "markdown",
   "metadata": {},
   "source": [
    "## 2. 범죄 유형별 성장률 뽑아내기"
   ]
  },
  {
   "cell_type": "markdown",
   "metadata": {},
   "source": [
    "### 데이터 정리"
   ]
  },
  {
   "cell_type": "code",
   "execution_count": null,
   "metadata": {},
   "outputs": [],
   "source": [
    "import pandas as pd\n",
    "\n",
    "cate_df2 = pd.read_csv('../Data/범죄발생및검거현황/유형발생건수(11~22).csv')\n",
    "cate_df1 = pd.read_csv('../Data/범죄발생및검거현황/유형발생건수(94~10).csv')"
   ]
  },
  {
   "cell_type": "code",
   "execution_count": null,
   "metadata": {},
   "outputs": [],
   "source": [
    "\n",
    "cate_df1.columns=['연도','강력범', '절도범', '폭력범', '지능범', '풍속범', '특별범법']\n",
    "cate_df1.drop(cate_df1.index[:2], inplace=True)\n",
    "cate_df1 = cate_df1.reset_index(drop=True)"
   ]
  },
  {
   "cell_type": "code",
   "execution_count": null,
   "metadata": {},
   "outputs": [],
   "source": [
    "cate_df2.columns=['연도','강력범', '절도범', '폭력범', '지능범', '풍속범', '특별경제범', '마약범','보건범','환경범','교통범', '노동범', '안보범', '선거범', '병역범', '기타범']\n",
    "cate_df2.drop(cate_df2.index[:1], inplace=True)\n",
    "cate_df2 = cate_df2.reset_index(drop=True)"
   ]
  },
  {
   "cell_type": "code",
   "execution_count": null,
   "metadata": {},
   "outputs": [],
   "source": [
    "# 모든 값 정수형으로 변환\n",
    "numeric_cols_df2 = ['연도','강력범', '절도범', '폭력범', '지능범', '풍속범', '특별경제범', '마약범','보건범','환경범','교통범', '노동범', '안보범', '선거범', '병역범', '기타범']\n",
    "numeric_cols_df1 = ['연도','강력범', '절도범', '폭력범', '지능범', '풍속범', '특별범법']\n",
    "\n",
    "cate_df2[numeric_cols_df2] = cate_df2[numeric_cols_df2].astype(int)\n",
    "cate_df1[numeric_cols_df1] = cate_df1[numeric_cols_df1].astype(int)"
   ]
  },
  {
   "cell_type": "code",
   "execution_count": null,
   "metadata": {},
   "outputs": [],
   "source": [
    "total['차이'] = total['범죄 총 건수'].diff()  \n",
    "total['퍼센트변화'] = total['범죄 총 건수'].pct_change() * 100  # 퍼센트로 계산"
   ]
  },
  {
   "cell_type": "markdown",
   "metadata": {},
   "source": [
    "### 범죄 94~22년까지의 라인그래프 보여주기 모든 유형"
   ]
  },
  {
   "cell_type": "code",
   "execution_count": null,
   "metadata": {},
   "outputs": [],
   "source": [
    "#유의미한 데이터만 추출합니다.\n",
    "cate10 = cate_df1.iloc[:, :5]\n",
    "cate22 = cate_df2.iloc[:, :-1]"
   ]
  },
  {
   "cell_type": "code",
   "execution_count": null,
   "metadata": {},
   "outputs": [],
   "source": [
    "# cate10 데이터프레임을 와이드 형식에서 롱 형식으로 변환합니다.\n",
    "alldata10 = cate10.melt(id_vars=['연도'], var_name='범죄 유형', value_name='범죄 수')\n",
    "alldata22 = cate22.melt(id_vars=['연도'], var_name='범죄 유형', value_name='범죄 수')"
   ]
  },
  {
   "cell_type": "code",
   "execution_count": null,
   "metadata": {},
   "outputs": [],
   "source": [
    "plt.figure(figsize=(30, 12))\n",
    "\n",
    "plt.subplot(1, 2, 1)\n",
    "sns.barplot(x='연도', y='범죄 수', hue='범죄 유형', data=alldata10)\n",
    "plt.xlabel('연도')\n",
    "plt.ylabel('범죄 수')\n",
    "plt.title('94~10 연도별 범죄 발생 현황')\n",
    "plt.xticks(rotation=45)\n",
    "plt.yscale('log')\n",
    "plt.legend(title='범죄 유형', loc='upper left')\n",
    "\n",
    "\n",
    "plt.subplot(1, 2, 2)\n",
    "sns.barplot(x='연도', y='범죄 수', hue='범죄 유형', data=alldata22)\n",
    "plt.xlabel('연도')\n",
    "plt.ylabel('범죄 수')\n",
    "plt.title('94~10 연도별 범죄 발생 현황')\n",
    "plt.xticks(rotation=45)\n",
    "plt.legend(title='범죄 유형', loc='upper left')\n",
    "plt.yscale('log')\n",
    "plt.tight_layout()\n",
    "plt.show()"
   ]
  },
  {
   "cell_type": "code",
   "execution_count": null,
   "metadata": {},
   "outputs": [],
   "source": [
    "alldata10_proportion = alldata10.groupby(['연도', '범죄 유형'])['범죄 수'].sum().reset_index()\n",
    "alldata10_proportion['proportion'] = alldata10_proportion['범죄 수'] / alldata10_proportion.groupby('연도')['범죄 수'].transform('sum')\n",
    "\n",
    "alldata22_proportion = alldata22.groupby(['연도', '범죄 유형'])['범죄 수'].sum().reset_index()\n",
    "alldata22_proportion['proportion'] = alldata22_proportion['범죄 수'] / alldata22_proportion.groupby('연도')['범죄 수'].transform('sum')\n",
    "\n",
    "# Plot the proportion\n",
    "plt.figure(figsize=(18, 10))\n",
    "\n",
    "ax1 = plt.subplot(1, 2, 1)\n",
    "sns.lineplot(x='연도', y='proportion', hue='범죄 유형', data=alldata10_proportion, marker='o', markersize=8)\n",
    "plt.xlabel('연도')\n",
    "plt.ylabel('비율')\n",
    "plt.title('94~10 연도별 범죄 유형 비율')\n",
    "plt.xticks(rotation=45)\n",
    "ax1.yaxis.set_major_formatter(formatter)\n",
    "# plt.yscale('log')\n",
    "for crime_type in alldata10_proportion['범죄 유형'].unique():\n",
    "    subset = alldata10_proportion[alldata10_proportion['범죄 유형'] == crime_type]\n",
    "    start_year = subset['연도'].min()\n",
    "    start_value = subset[subset['연도'] == start_year]['proportion'].values[0]\n",
    "    ax1.text(start_year, start_value, crime_type, horizontalalignment='right', size='small', color='black', weight='semibold',\n",
    "             verticalalignment='bottom')\n",
    "\n",
    "\n",
    "formatter = FuncFormatter(lambda x, pos: \"{:,.0f}\".format(x*100) + \"%\")\n",
    "\n",
    "ax2 = plt.subplot(1, 2, 2)\n",
    "sns.lineplot(x='연도', y='proportion', hue='범죄 유형', data=alldata22_proportion, marker='o', markersize=8)\n",
    "plt.xlabel('연도')\n",
    "plt.ylabel('비율')\n",
    "plt.title('11~22 연도별 범죄 유형 비율')\n",
    "plt.xticks(rotation=45)\n",
    "ax2.yaxis.set_major_formatter(formatter)\n",
    "# plt.yscale('log')\n",
    "\n",
    "cnt = 0\n",
    "for crime_type in alldata22_proportion['범죄 유형'].unique():\n",
    "    subset = alldata22_proportion[alldata22_proportion['범죄 유형'] == crime_type]\n",
    "    start_year = subset['연도'].min()\n",
    "    start_value = subset[subset['연도'] == start_year]['proportion'].values[0]\n",
    "    ax2.text(start_year + cnt, start_value, crime_type, horizontalalignment='right', size='small', color='black', weight='semibold',\n",
    "             verticalalignment='bottom')\n",
    "            \n",
    "    cnt+=0.145\n",
    "\n",
    "plt.tight_layout()\n",
    "plt.show()"
   ]
  },
  {
   "cell_type": "markdown",
   "metadata": {},
   "source": [
    "## 범죄 유형별 분석점\n",
    "------------------\n",
    "1. 94~10\n",
    "    - 99년부터 꾸준히 늘어난 이유 -> 절도\n",
    "    - 99년 기점으로 절도 및 폭력이 갑자기 증가한 이유\n",
    "    - 지능범이 99기점으로 떨어진 이유\n",
    "------------------\n",
    "2. 11~22\n",
    "    - 지능범이 꾸준히 증가한 이유는 무엇인가?\n",
    "    - 교통범의 비율이 줄어든 이유"
   ]
  },
  {
   "cell_type": "markdown",
   "metadata": {},
   "source": [
    "## 겹치는 5개 데이터 값만 나타내기"
   ]
  },
  {
   "cell_type": "code",
   "execution_count": null,
   "metadata": {},
   "outputs": [],
   "source": [
    "# 5개 유형만 비교\n",
    "cate10 = cate_df1.iloc[:, :6]\n",
    "cate22 = cate_df2.iloc[:, :-1]"
   ]
  },
  {
   "cell_type": "markdown",
   "metadata": {},
   "source": [
    "### 좀깁니다..."
   ]
  },
  {
   "cell_type": "code",
   "execution_count": null,
   "metadata": {},
   "outputs": [],
   "source": [
    "colors = {\n",
    "    '강력범': 'r',\n",
    "    '절도범': 'g',\n",
    "    '폭력범': 'b',\n",
    "    '지능범': 'purple',\n",
    "    '풍속범': 'orange',\n",
    "    '교통범': 'brown'\n",
    "}\n",
    "def millions_formatter(x, pos):\n",
    "    return \"{:,.0f}만\".format(x // 1000)\n",
    "\n",
    "# 그래프 크기 설정\n",
    "plt.figure(figsize=(20, 20))\n",
    "\n",
    "# 각 범죄 유형에 대한 발생 현황 (cate10)\n",
    "plt.subplot(6, 2, 1)\n",
    "sns.lineplot(x='연도', y='강력범', data=cate10, marker='o', color=colors['강력범'], markersize=8)\n",
    "plt.xlabel('')\n",
    "plt.ylabel('범죄 수')\n",
    "plt.title('강력범 연도별 발생 현황 (1994~2010)')\n",
    "plt.gca().yaxis.set_major_formatter(FuncFormatter(millions_formatter))\n",
    "\n",
    "plt.subplot(6, 2, 5)\n",
    "sns.lineplot(x='연도', y='절도범', data=cate10, marker='o', color=colors['절도범'], markersize=8)\n",
    "plt.xlabel('')\n",
    "plt.ylabel('범죄 수')\n",
    "plt.title('절도범 연도별 발생 현황 (1994~2010)')\n",
    "plt.gca().yaxis.set_major_formatter(FuncFormatter(millions_formatter))\n",
    "\n",
    "plt.subplot(6, 2, 3)\n",
    "sns.lineplot(x='연도', y='폭력범', data=cate10, marker='o', color=colors['폭력범'], markersize=8)\n",
    "plt.xlabel('')\n",
    "plt.ylabel('범죄 수')\n",
    "plt.title('폭력범 연도별 발생 현황 (1994~2010)')\n",
    "plt.gca().yaxis.set_major_formatter(FuncFormatter(millions_formatter))\n",
    "\n",
    "plt.subplot(6, 2, 7)\n",
    "sns.lineplot(x='연도', y='지능범', data=cate10, marker='o', color=colors['지능범'], markersize=8)\n",
    "plt.xlabel('')\n",
    "plt.ylabel('범죄 수')\n",
    "plt.title('지능범 연도별 발생 현황 (1994~2010)')\n",
    "plt.gca().yaxis.set_major_formatter(FuncFormatter(millions_formatter))\n",
    "\n",
    "# 각 범죄 유형에 대한 증감율 (cate22)\n",
    "plt.subplot(6, 2, 2)\n",
    "sns.lineplot(x='연도', y='강력범', data=cate22, marker='o', color=colors['강력범'], markersize=8)\n",
    "plt.xlabel('')\n",
    "plt.ylabel('증감율')\n",
    "plt.title('강력범 연도별 증감율 (2011~2022)')\n",
    "plt.gca().yaxis.set_major_formatter(FuncFormatter(millions_formatter))\n",
    "\n",
    "plt.subplot(6, 2, 6)\n",
    "sns.lineplot(x='연도', y='절도범', data=cate22, marker='o', color=colors['절도범'], markersize=8)\n",
    "plt.xlabel('')\n",
    "plt.ylabel('증감율')\n",
    "plt.title('절도범 연도별 증감율 (2011~2022)')\n",
    "plt.gca().yaxis.set_major_formatter(FuncFormatter(millions_formatter))\n",
    "\n",
    "plt.subplot(6, 2, 4)\n",
    "sns.lineplot(x='연도', y='폭력범', data=cate22, marker='o', color=colors['폭력범'], markersize=8)\n",
    "plt.xlabel('')\n",
    "plt.ylabel('증감율')\n",
    "plt.title('폭력범 연도별 증감율 (2011~2022)')\n",
    "plt.gca().yaxis.set_major_formatter(FuncFormatter(millions_formatter))\n",
    "\n",
    "plt.subplot(6, 2, 8)\n",
    "sns.lineplot(x='연도', y='지능범', data=cate22, marker='o', color=colors['지능범'], markersize=8)\n",
    "plt.xlabel('')\n",
    "plt.ylabel('증감율')\n",
    "plt.title('지능범 연도별 증감율 (2011~2022)')\n",
    "plt.gca().yaxis.set_major_formatter(FuncFormatter(millions_formatter))\n",
    "\n",
    "plt.subplot(6, 2, 9)\n",
    "sns.lineplot(x='연도', y='풍속범', data=cate22, marker='o', color=colors['풍속범'], markersize=8)\n",
    "plt.xlabel('연도')\n",
    "plt.ylabel('증감율')\n",
    "plt.title('풍속범 연도별 증감율 (2011~2022)')\n",
    "plt.gca().yaxis.set_major_formatter(FuncFormatter(millions_formatter))\n",
    "\n",
    "plt.subplot(6, 2, 10)\n",
    "sns.lineplot(x='연도', y='교통범', data=cate22, marker='o', color=colors['교통범'], markersize=8)\n",
    "plt.xlabel('연도')\n",
    "plt.ylabel('증감율')\n",
    "plt.title('교통범 연도별 증감율 (2011~2022)')\n",
    "plt.gca().yaxis.set_major_formatter(FuncFormatter(millions_formatter))\n",
    "\n",
    "plt.tight_layout()\n",
    "plt.show()"
   ]
  },
  {
   "cell_type": "markdown",
   "metadata": {},
   "source": [
    "### 1. 분석 방향 [94~10]  \n",
    "1. 절도범 범죄비율 및 발생 횟수 동일하게 증가 -> 분석    \n",
    "2. 99년 기점으로 절도 및 폭력 범죄 비율에 따른 횟수도 증가 -> 분석   \n",
    "3. 99년을 기점으로 지능범의 범죄 비율은 낮아졌으나 횟수는 전체적으로 증가 -> 분석    \n",
    "4. 강력범 년도별 범죄 비율 편차는 미미하나 횟수 자체는 증가 -> 분석      \n",
    "5. 지능범 2009(+-1년)년 급증한 기준 분석    \n",
    "--------------------------------------------------------------- \n",
    "\n"
   ]
  },
  {
   "cell_type": "markdown",
   "metadata": {},
   "source": [
    "### 2. 분석 방향 [11~22]  \n",
    "1. 교통범: 2016년도 기점으로 발생 횟수 및 비율이 동시에 급격하게 감소한 이유 분석    \n",
    "2. 지능범: 비율은 증가 추세이며 2017년도를 기점으로 발생 횟수가 급격하게 증가한 이유    \n",
    "3. 절도범: 비율 변화 조금씩 줄어드는 추세이나 발생 횟수 자체는 급격하게 감소하는 이유   \n",
    "4. 강력범 & 폭력범: 2019~2021년까지 발생 횟수가 급격하게 감소한 이유 및 2021~2022년 사이 발생 횟수가 다시 급격하게 상승한 이유"
   ]
  },
  {
   "cell_type": "markdown",
   "metadata": {},
   "source": [
    "## 유형별 성장률 데이터 보여주기"
   ]
  },
  {
   "cell_type": "code",
   "execution_count": null,
   "metadata": {},
   "outputs": [],
   "source": [
    "total_cate_growth = total_cate.set_index('연도').pct_change().reset_index()\n",
    "\n",
    "# Melting the data for easier plotting with seaborn\n",
    "total_cate_growth_melted = total_cate_growth.melt(id_vars='연도', var_name='범죄 유형', value_name='증감율')\n",
    "\n",
    "# Plotting\n",
    "plt.figure(figsize=(10,  5))\n",
    "sns.lineplot(x='연도', y='증감율', hue='범죄 유형', data=total_cate_growth_melted, marker='o', markersize=2)\n",
    "\n",
    "plt.title('연도별 범죄 유형에 따른 증감율', fontsize=15)\n",
    "plt.xlabel('연도', fontsize=12)\n",
    "plt.ylabel('증감율', fontsize=12)\n",
    "plt.xticks(rotation=45)\n",
    "plt.grid(True)\n",
    "\n",
    "plt.legend(title='범죄 유형', loc='upper left')\n",
    "plt.tight_layout()\n",
    "plt.show()"
   ]
  },
  {
   "cell_type": "markdown",
   "metadata": {},
   "source": [
    "조금더 잘볼수있는방법.."
   ]
  },
  {
   "cell_type": "code",
   "execution_count": null,
   "metadata": {},
   "outputs": [],
   "source": [
    "# 5개의 토탈값 구하기\n",
    "total_cate_sum = total_cate[['연도', '강력범', '절도범', '폭력범', '지능범', '풍속범']].groupby('연도').sum().reset_index()\n",
    "total_cate_sum['5total'] = total_cate_sum[['강력범', '절도범', '폭력범', '지능범', '풍속범']].sum(axis=1)\n",
    "print(total_cate_sum)\n"
   ]
  },
  {
   "cell_type": "code",
   "execution_count": null,
   "metadata": {},
   "outputs": [],
   "source": [
    "total_yearly = total.groupby('연도')['범죄 총 건수'].sum().reset_index()\n",
    "total_yearly.columns = ['연도', 'total']\n",
    "total_cate2 = pd.merge(total_cate_sum, total_yearly, on='연도')\n",
    "\n",
    "crime_categories = ['강력범', '절도범', '폭력범', '지능범', '풍속범']\n",
    "for category in crime_categories:\n",
    "    total_cate2[f'{category}_발생률'] = total_cate2[category] / total_cate2['5total'] * 100\n",
    "\n",
    "import matplotlib.pyplot as plt\n",
    "import seaborn as sns\n",
    "\n",
    "plt.figure(figsize=(12, 8))\n",
    "\n",
    "# Plot each crime category's crime rate over the years\n",
    "sns.lineplot(x='연도', y='강력범_발생률', data=total_cate2, marker='o', markersize=8, label='강력범')\n",
    "sns.lineplot(x='연도', y='절도범_발생률', data=total_cate2, marker='o', markersize=8, label='절도범')\n",
    "sns.lineplot(x='연도', y='폭력범_발생률', data=total_cate2, marker='o', markersize=8, label='폭력범')\n",
    "sns.lineplot(x='연도', y='지능범_발생률', data=total_cate2, marker='o', markersize=8, label='지능범')\n",
    "sns.lineplot(x='연도', y='풍속범_발생률', data=total_cate2, marker='o', markersize=8, label='풍속범')\n",
    "\n",
    "# Customize labels and title\n",
    "plt.xlabel('연도')\n",
    "plt.ylabel('범죄 발생률 %')\n",
    "plt.title('연도별 범죄 발생률')\n",
    "plt.xticks(rotation=45)\n",
    "plt.grid(True)\n",
    "plt.legend(title='범죄 유형')\n",
    "\n",
    "# Show plot\n",
    "plt.tight_layout()\n",
    "plt.show()\n"
   ]
  },
  {
   "cell_type": "code",
   "execution_count": null,
   "metadata": {},
   "outputs": [],
   "source": [
    "total_cate2\n",
    "# 5범죄 비율이랑 전체 범죄발생수의 사이도 볼수있다."
   ]
  },
  {
   "cell_type": "code",
   "execution_count": null,
   "metadata": {},
   "outputs": [],
   "source": [
    "import seaborn as sns\n",
    "import matplotlib.pyplot as plt\n",
    "\n",
    "plt.figure(figsize=(20, 20))\n",
    "\n",
    "# subplot 1\n",
    "plt.subplot(5, 3, 1)\n",
    "sns.lineplot(x='연도', y='강력범', data=total_cate, marker='o', markersize=8)\n",
    "plt.xlabel('')  # x축 라벨 비움\n",
    "plt.ylabel('범죄 수')\n",
    "plt.title('강력범 연도별 발생 현황')\n",
    "\n",
    "# subplot 2\n",
    "plt.subplot(5, 3, 2)\n",
    "sns.lineplot(x='연도', y='절도범', data=total_cate, marker='o', markersize=8)\n",
    "plt.xlabel('')  # x축 라벨 비움\n",
    "plt.ylabel('범죄 수')\n",
    "plt.title('절도범 연도별 발생 현황')\n",
    "\n",
    "# subplot 3\n",
    "plt.subplot(5, 3, 3)\n",
    "sns.lineplot(x='연도', y='폭력범', data=total_cate, marker='o', markersize=8)\n",
    "plt.xlabel('')  # x축 라벨 비움\n",
    "plt.ylabel('범죄 수')\n",
    "plt.title('폭력범 연도별 발생 현황')\n",
    "\n",
    "# subplot 4\n",
    "plt.subplot(5, 3, 4)\n",
    "sns.lineplot(x='연도', y='지능범', data=total_cate, marker='o', markersize=8)\n",
    "plt.xlabel('')  # x축 라벨 비움\n",
    "plt.ylabel('범죄 수')\n",
    "plt.title('지능범 연도별 발생 현황')\n",
    "\n",
    "# subplot 5\n",
    "plt.subplot(5, 3, 5)\n",
    "sns.lineplot(x='연도', y='풍속범', data=total_cate, marker='o', markersize=8)\n",
    "plt.xlabel('연도')  # x축 라벨 추가\n",
    "plt.ylabel('범죄 수')\n",
    "plt.title('풍속범 연도별 발생 현황')\n",
    "\n",
    "# 축 라벨 회전\n",
    "plt.xticks(rotation=45)\n",
    "plt.yticks(rotation=45)\n",
    "\n",
    "plt.tight_layout()\n",
    "plt.show()\n"
   ]
  },
  {
   "cell_type": "code",
   "execution_count": null,
   "metadata": {},
   "outputs": [],
   "source": [
    "crime_data_df1 = cate10.melt(id_vars=['연도'], var_name='범죄 유형', value_name='범죄 수')\n",
    "crime_data_df2 = cate22.melt(id_vars=['연도'], var_name='범죄 유형', value_name='범죄 수')"
   ]
  },
  {
   "cell_type": "code",
   "execution_count": null,
   "metadata": {},
   "outputs": [],
   "source": [
    "crime_data_df1"
   ]
  },
  {
   "cell_type": "markdown",
   "metadata": {},
   "source": [
    "## 종합적인 그래프 보여주기"
   ]
  },
  {
   "cell_type": "code",
   "execution_count": null,
   "metadata": {},
   "outputs": [],
   "source": [
    "# 그래프 그리기\n",
    "plt.figure(figsize=(18, 10))\n",
    "\n",
    "# cate10 데이터프레임에 대한 lineplot\n",
    "plt.subplot(2, 2, 1)\n",
    "sns.lineplot(x='연도', y='범죄 수', hue='범죄 유형', data=crime_data_df1, marker='o', markersize=8)\n",
    "plt.xlabel('연도')\n",
    "plt.ylabel('범죄 수')\n",
    "plt.title('94~10 연도별 범죄 발생 현황')\n",
    "plt.xticks(rotation=45)\n",
    "plt.legend(title='범죄 유형', loc='upper left')\n",
    "\n",
    "# cate22 데이터프레임에 대한 lineplot\n",
    "plt.subplot(2, 2, 2)\n",
    "sns.lineplot(x='연도', y='범죄 수', hue='범죄 유형', data=crime_data_df2, marker='o', markersize=8)\n",
    "plt.xlabel('연도')\n",
    "plt.ylabel('범죄 수')\n",
    "plt.title('11~22 연도별 범죄 발생 현황')\n",
    "plt.xticks(rotation=45)\n",
    "plt.legend(title='범죄 유형', loc='upper left')\n",
    "\n",
    "\n",
    "# cate10 데이터프레임에 대한 barplot\n",
    "plt.subplot(2, 2, 3)\n",
    "sns.barplot(x='연도', y='범죄 수', hue='범죄 유형', data=crime_data_df1)\n",
    "plt.xlabel('연도')\n",
    "plt.ylabel('범죄 수')\n",
    "plt.title('94~10 연도별 범죄 발생 현황')\n",
    "plt.xticks(rotation=45)\n",
    "plt.legend(title='범죄 유형', loc='upper left')\n",
    "\n",
    "# cate22 데이터프레임에 대한 barplot\n",
    "plt.subplot(2, 2, 4)\n",
    "sns.barplot(x='연도', y='범죄 수', hue='범죄 유형', data=crime_data_df2)\n",
    "plt.xlabel('연도')\n",
    "plt.ylabel('범죄 수')\n",
    "plt.title('11~22 연도별 범죄 발생 현황')\n",
    "plt.xticks(rotation=45)\n",
    "plt.legend(title='범죄 유형', loc='upper left')\n",
    "\n",
    "plt.tight_layout()\n",
    "plt.show()\n"
   ]
  },
  {
   "cell_type": "code",
   "execution_count": null,
   "metadata": {},
   "outputs": [],
   "source": [
    "plt.figure(figsize=(12, 8))\n",
    "\n",
    "# Plot each crime category's crime rate over the years\n",
    "sns.lineplot(x='연도', y='강력범_발생률', data=total_cate2, marker='o', markersize=8, label='강력범')\n",
    "sns.lineplot(x='연도', y='절도범_발생률', data=total_cate2, marker='o', markersize=8, label='절도범')\n",
    "sns.lineplot(x='연도', y='폭력범_발생률', data=total_cate2, marker='o', markersize=8, label='폭력범')\n",
    "sns.lineplot(x='연도', y='지능범_발생률', data=total_cate2, marker='o', markersize=8, label='지능범')\n",
    "sns.lineplot(x='연도', y='풍속범_발생률', data=total_cate2, marker='o', markersize=8, label='풍속범')\n",
    "\n",
    "# Customize labels and title\n",
    "plt.xlabel('연도')\n",
    "plt.ylabel('범죄 발생률 (per 10 crimes)')\n",
    "plt.title('연도별 범죄 발생률')\n",
    "plt.xticks(rotation=45)\n",
    "plt.grid(True)\n",
    "plt.legend(title='범죄 유형')\n",
    "\n",
    "# Show plot\n",
    "plt.tight_layout()\n",
    "plt.show()"
   ]
  },
  {
   "cell_type": "code",
   "execution_count": null,
   "metadata": {},
   "outputs": [],
   "source": [
    "total_cate2"
   ]
  },
  {
   "cell_type": "code",
   "execution_count": null,
   "metadata": {},
   "outputs": [],
   "source": [
    "plt.figure(figsize=(12, 8))\n",
    "sns.barplot(x='연도', y='절도범_발생률', data=total_cate2, color='g', alpha=0.6, label='절도범')\n",
    "sns.barplot(x='연도', y='강력범_발생률', data=total_cate2, color='b', alpha=0.6, label='강력범')\n",
    "plt.xlabel('연도')\n",
    "plt.ylabel('범죄 발생률 (per 10 crimes)')\n",
    "plt.title('연도별 범죄 발생률')\n",
    "plt.xticks(rotation=45)\n",
    "plt.grid(True)\n",
    "plt.legend(title='범죄 유형')\n",
    "\n",
    "# Show plot\n",
    "plt.tight_layout()\n",
    "plt.show()\n"
   ]
  },
  {
   "cell_type": "code",
   "execution_count": null,
   "metadata": {},
   "outputs": [],
   "source": [
    "import matplotlib.pyplot as plt\n",
    "import seaborn as sns\n",
    "\n",
    "plt.figure(figsize=(12, 8))\n",
    "\n",
    "\n",
    "sns.barplot(x='연도', y='풍속범_발생률', data=total_cate2, color='purple', alpha=0.6, label='풍속범')\n",
    "sns.barplot(x='연도', y='폭력범_발생률', data=total_cate2, color='r', alpha=0.6, label='폭력범')\n",
    "sns.barplot(x='연도', y='지능범_발생률', data=total_cate2, color='y', alpha=0.6, label='지능범')\n",
    "\n",
    "plt.xlabel('연도')\n",
    "plt.ylabel('범죄 발생률 (per 10 crimes)')\n",
    "plt.title('연도별 범죄 발생률')\n",
    "plt.xticks(rotation=45)\n",
    "plt.grid(True)\n",
    "plt.legend(title='범죄 유형')\n",
    "\n",
    "# Show plot\n",
    "plt.tight_layout()\n",
    "plt.show()\n"
   ]
  },
  {
   "cell_type": "markdown",
   "metadata": {},
   "source": [
    "### 라인그래프 합쳐서 보여주기"
   ]
  },
  {
   "cell_type": "code",
   "execution_count": null,
   "metadata": {},
   "outputs": [],
   "source": [
    "# 그래프 그리기\n",
    "plt.figure(figsize=(12, 8))\n",
    "\n",
    "# cate10 데이터프레임에 대한 lineplot\n",
    "sns.lineplot(x='연도', y='범죄 수', hue='범죄 유형', data=crime_data_df1, marker='o', markersize=8)\n",
    "\n",
    "# cate22 데이터프레임에 대한 lineplot\n",
    "sns.lineplot(x='연도', y='범죄 수', hue='범죄 유형', data=crime_data_df2, marker='o', markersize=8)\n",
    "\n",
    "plt.xlabel('연도')\n",
    "plt.ylabel('범죄 수')\n",
    "plt.title('연도별 범죄 발생 현황')\n",
    "plt.xticks(rotation=45)\n",
    "plt.legend(title='데이터프레임', loc='upper left')\n",
    "\n",
    "plt.tight_layout()\n",
    "plt.show();"
   ]
  }
 ],
 "metadata": {
  "kernelspec": {
   "display_name": "Python 3",
   "language": "python",
   "name": "python3"
  },
  "language_info": {
   "codemirror_mode": {
    "name": "ipython",
    "version": 3
   },
   "file_extension": ".py",
   "mimetype": "text/x-python",
   "name": "python",
   "nbconvert_exporter": "python",
   "pygments_lexer": "ipython3",
   "version": "3.10.12"
  }
 },
 "nbformat": 4,
 "nbformat_minor": 2
}
