{
 "cells": [
  {
   "cell_type": "code",
   "execution_count": 2,
   "metadata": {},
   "outputs": [],
   "source": [
    "import mysql.connector\n",
    "import pandas as pd\n",
    "import plotly.express as px\n",
    "import plotly.graph_objects as go\n",
    "import seaborn as sns\n",
    "import matplotlib.pyplot as plt \n",
    "import koreanize_matplotlib\n",
    "from plotly.subplots import make_subplots\n",
    "import os, json\n",
    "import pandas as pd"
   ]
  },
  {
   "cell_type": "code",
   "execution_count": 3,
   "metadata": {},
   "outputs": [],
   "source": [
    "aws_RDS = mysql.connector.connect(\n",
    "host = \"database-1.cz44qgu84nin.ap-northeast-2.rds.amazonaws.com\",\n",
    "user = \"jb\",\n",
    "password = \"1234\",\n",
    "database = \"edabase\"\n",
    ")"
   ]
  },
  {
   "cell_type": "code",
   "execution_count": 4,
   "metadata": {},
   "outputs": [],
   "source": [
    "crime = aws_RDS.cursor(dictionary=True, buffered=True)"
   ]
  },
  {
   "cell_type": "code",
   "execution_count": 31,
   "metadata": {},
   "outputs": [],
   "source": [
    "crime.execute(\"SELECT * FROM crime_age_after\")\n",
    "result = crime.fetchall()"
   ]
  },
  {
   "cell_type": "code",
   "execution_count": 32,
   "metadata": {},
   "outputs": [
    {
     "data": {
      "text/html": [
       "<div>\n",
       "<style scoped>\n",
       "    .dataframe tbody tr th:only-of-type {\n",
       "        vertical-align: middle;\n",
       "    }\n",
       "\n",
       "    .dataframe tbody tr th {\n",
       "        vertical-align: top;\n",
       "    }\n",
       "\n",
       "    .dataframe thead th {\n",
       "        text-align: right;\n",
       "    }\n",
       "</style>\n",
       "<table border=\"1\" class=\"dataframe\">\n",
       "  <thead>\n",
       "    <tr style=\"text-align: right;\">\n",
       "      <th></th>\n",
       "      <th>0</th>\n",
       "      <th>1</th>\n",
       "      <th>2</th>\n",
       "      <th>3</th>\n",
       "      <th>4</th>\n",
       "      <th>5</th>\n",
       "      <th>6</th>\n",
       "      <th>7</th>\n",
       "      <th>8</th>\n",
       "      <th>9</th>\n",
       "      <th>10</th>\n",
       "      <th>11</th>\n",
       "      <th>12</th>\n",
       "      <th>13</th>\n",
       "      <th>14</th>\n",
       "      <th>15</th>\n",
       "    </tr>\n",
       "  </thead>\n",
       "  <tbody>\n",
       "    <tr>\n",
       "      <th>0</th>\n",
       "      <td>총범죄</td>\n",
       "      <td>소계</td>\n",
       "      <td>소계</td>\n",
       "      <td>미성년</td>\n",
       "      <td>86616</td>\n",
       "      <td>104532</td>\n",
       "      <td>88549</td>\n",
       "      <td>77280</td>\n",
       "      <td>79342</td>\n",
       "      <td>75757</td>\n",
       "      <td>72425</td>\n",
       "      <td>65784</td>\n",
       "      <td>65907</td>\n",
       "      <td>64152</td>\n",
       "      <td>53760</td>\n",
       "      <td>60691</td>\n",
       "    </tr>\n",
       "    <tr>\n",
       "      <th>1</th>\n",
       "      <td>총범죄</td>\n",
       "      <td>소계</td>\n",
       "      <td>소계</td>\n",
       "      <td>14세미만</td>\n",
       "      <td>316</td>\n",
       "      <td>654</td>\n",
       "      <td>281</td>\n",
       "      <td>54</td>\n",
       "      <td>80</td>\n",
       "      <td>78</td>\n",
       "      <td>88</td>\n",
       "      <td>0</td>\n",
       "      <td>0</td>\n",
       "      <td>0</td>\n",
       "      <td>0</td>\n",
       "      <td>0</td>\n",
       "    </tr>\n",
       "    <tr>\n",
       "      <th>2</th>\n",
       "      <td>총범죄</td>\n",
       "      <td>소계</td>\n",
       "      <td>소계</td>\n",
       "      <td>성인</td>\n",
       "      <td>1728590</td>\n",
       "      <td>1618724</td>\n",
       "      <td>1651378</td>\n",
       "      <td>1633101</td>\n",
       "      <td>1689960</td>\n",
       "      <td>1768887</td>\n",
       "      <td>1611388</td>\n",
       "      <td>1513619</td>\n",
       "      <td>1516477</td>\n",
       "      <td>1425704</td>\n",
       "      <td>1192060</td>\n",
       "      <td>1187696</td>\n",
       "    </tr>\n",
       "    <tr>\n",
       "      <th>3</th>\n",
       "      <td>총범죄</td>\n",
       "      <td>소계</td>\n",
       "      <td>소계</td>\n",
       "      <td>미상</td>\n",
       "      <td>27</td>\n",
       "      <td>559</td>\n",
       "      <td>1375</td>\n",
       "      <td>2054</td>\n",
       "      <td>2088</td>\n",
       "      <td>2961</td>\n",
       "      <td>1648</td>\n",
       "      <td>2519</td>\n",
       "      <td>3254</td>\n",
       "      <td>4565</td>\n",
       "      <td>1860</td>\n",
       "      <td>1943</td>\n",
       "    </tr>\n",
       "    <tr>\n",
       "      <th>4</th>\n",
       "      <td>총범죄</td>\n",
       "      <td>강력범죄</td>\n",
       "      <td>소계</td>\n",
       "      <td>미성년</td>\n",
       "      <td>3209</td>\n",
       "      <td>3231</td>\n",
       "      <td>3052</td>\n",
       "      <td>2610</td>\n",
       "      <td>2377</td>\n",
       "      <td>2410</td>\n",
       "      <td>2311</td>\n",
       "      <td>2267</td>\n",
       "      <td>2358</td>\n",
       "      <td>1898</td>\n",
       "      <td>1648</td>\n",
       "      <td>1808</td>\n",
       "    </tr>\n",
       "  </tbody>\n",
       "</table>\n",
       "</div>"
      ],
      "text/plain": [
       "    0     1   2      3        4        5        6        7        8        9   \\\n",
       "0  총범죄    소계  소계    미성년    86616   104532    88549    77280    79342    75757   \n",
       "1  총범죄    소계  소계  14세미만      316      654      281       54       80       78   \n",
       "2  총범죄    소계  소계     성인  1728590  1618724  1651378  1633101  1689960  1768887   \n",
       "3  총범죄    소계  소계     미상       27      559     1375     2054     2088     2961   \n",
       "4  총범죄  강력범죄  소계    미성년     3209     3231     3052     2610     2377     2410   \n",
       "\n",
       "        10       11       12       13       14       15  \n",
       "0    72425    65784    65907    64152    53760    60691  \n",
       "1       88        0        0        0        0        0  \n",
       "2  1611388  1513619  1516477  1425704  1192060  1187696  \n",
       "3     1648     2519     3254     4565     1860     1943  \n",
       "4     2311     2267     2358     1898     1648     1808  "
      ]
     },
     "execution_count": 32,
     "metadata": {},
     "output_type": "execute_result"
    }
   ],
   "source": [
    "crime_age_df = pd.DataFrame(result)\n",
    "crime_age_df.head()"
   ]
  },
  {
   "cell_type": "code",
   "execution_count": 33,
   "metadata": {},
   "outputs": [],
   "source": [
    "year_list = [\"2011년\", \"2012년\", \"2013년\", \"2014년\", \"2015년\", \"2016년\", \"2017년\", \"2018년\", \"2019년\", \"2020년\", \"2021년\", \"2022년\"]\n",
    "column_list = [\"대\", \"중\", \"소\", \"연령별\", \"|2011년\", \"2012년\", \"2013년\", \"2014년\", \"2015년\", \"2016년\" \"2017년\", \"2018년\" \"2019년\", \"2020년\", \"2021년\", \"2022년\"]"
   ]
  },
  {
   "cell_type": "code",
   "execution_count": 34,
   "metadata": {},
   "outputs": [
    {
     "data": {
      "text/html": [
       "<div>\n",
       "<style scoped>\n",
       "    .dataframe tbody tr th:only-of-type {\n",
       "        vertical-align: middle;\n",
       "    }\n",
       "\n",
       "    .dataframe tbody tr th {\n",
       "        vertical-align: top;\n",
       "    }\n",
       "\n",
       "    .dataframe thead th {\n",
       "        text-align: right;\n",
       "    }\n",
       "</style>\n",
       "<table border=\"1\" class=\"dataframe\">\n",
       "  <thead>\n",
       "    <tr style=\"text-align: right;\">\n",
       "      <th></th>\n",
       "      <th>대</th>\n",
       "      <th>중</th>\n",
       "      <th>소</th>\n",
       "      <th>연령별</th>\n",
       "      <th>2011년</th>\n",
       "      <th>2012년</th>\n",
       "      <th>2013년</th>\n",
       "      <th>2014년</th>\n",
       "      <th>2015년</th>\n",
       "      <th>2016년</th>\n",
       "      <th>2017년</th>\n",
       "      <th>2018년</th>\n",
       "      <th>2019년</th>\n",
       "      <th>2020년</th>\n",
       "      <th>2021년</th>\n",
       "      <th>2022년</th>\n",
       "    </tr>\n",
       "  </thead>\n",
       "  <tbody>\n",
       "    <tr>\n",
       "      <th>0</th>\n",
       "      <td>총범죄</td>\n",
       "      <td>소계</td>\n",
       "      <td>소계</td>\n",
       "      <td>미성년</td>\n",
       "      <td>86616</td>\n",
       "      <td>104532</td>\n",
       "      <td>88549</td>\n",
       "      <td>77280</td>\n",
       "      <td>79342</td>\n",
       "      <td>75757</td>\n",
       "      <td>72425</td>\n",
       "      <td>65784</td>\n",
       "      <td>65907</td>\n",
       "      <td>64152</td>\n",
       "      <td>53760</td>\n",
       "      <td>60691</td>\n",
       "    </tr>\n",
       "    <tr>\n",
       "      <th>1</th>\n",
       "      <td>총범죄</td>\n",
       "      <td>소계</td>\n",
       "      <td>소계</td>\n",
       "      <td>14세미만</td>\n",
       "      <td>316</td>\n",
       "      <td>654</td>\n",
       "      <td>281</td>\n",
       "      <td>54</td>\n",
       "      <td>80</td>\n",
       "      <td>78</td>\n",
       "      <td>88</td>\n",
       "      <td>0</td>\n",
       "      <td>0</td>\n",
       "      <td>0</td>\n",
       "      <td>0</td>\n",
       "      <td>0</td>\n",
       "    </tr>\n",
       "    <tr>\n",
       "      <th>2</th>\n",
       "      <td>총범죄</td>\n",
       "      <td>소계</td>\n",
       "      <td>소계</td>\n",
       "      <td>성인</td>\n",
       "      <td>1728590</td>\n",
       "      <td>1618724</td>\n",
       "      <td>1651378</td>\n",
       "      <td>1633101</td>\n",
       "      <td>1689960</td>\n",
       "      <td>1768887</td>\n",
       "      <td>1611388</td>\n",
       "      <td>1513619</td>\n",
       "      <td>1516477</td>\n",
       "      <td>1425704</td>\n",
       "      <td>1192060</td>\n",
       "      <td>1187696</td>\n",
       "    </tr>\n",
       "    <tr>\n",
       "      <th>3</th>\n",
       "      <td>총범죄</td>\n",
       "      <td>소계</td>\n",
       "      <td>소계</td>\n",
       "      <td>미상</td>\n",
       "      <td>27</td>\n",
       "      <td>559</td>\n",
       "      <td>1375</td>\n",
       "      <td>2054</td>\n",
       "      <td>2088</td>\n",
       "      <td>2961</td>\n",
       "      <td>1648</td>\n",
       "      <td>2519</td>\n",
       "      <td>3254</td>\n",
       "      <td>4565</td>\n",
       "      <td>1860</td>\n",
       "      <td>1943</td>\n",
       "    </tr>\n",
       "    <tr>\n",
       "      <th>4</th>\n",
       "      <td>총범죄</td>\n",
       "      <td>강력범죄</td>\n",
       "      <td>소계</td>\n",
       "      <td>미성년</td>\n",
       "      <td>3209</td>\n",
       "      <td>3231</td>\n",
       "      <td>3052</td>\n",
       "      <td>2610</td>\n",
       "      <td>2377</td>\n",
       "      <td>2410</td>\n",
       "      <td>2311</td>\n",
       "      <td>2267</td>\n",
       "      <td>2358</td>\n",
       "      <td>1898</td>\n",
       "      <td>1648</td>\n",
       "      <td>1808</td>\n",
       "    </tr>\n",
       "  </tbody>\n",
       "</table>\n",
       "</div>"
      ],
      "text/plain": [
       "     대     중   소    연령별    2011년    2012년    2013년    2014년    2015년    2016년  \\\n",
       "0  총범죄    소계  소계    미성년    86616   104532    88549    77280    79342    75757   \n",
       "1  총범죄    소계  소계  14세미만      316      654      281       54       80       78   \n",
       "2  총범죄    소계  소계     성인  1728590  1618724  1651378  1633101  1689960  1768887   \n",
       "3  총범죄    소계  소계     미상       27      559     1375     2054     2088     2961   \n",
       "4  총범죄  강력범죄  소계    미성년     3209     3231     3052     2610     2377     2410   \n",
       "\n",
       "     2017년    2018년    2019년    2020년    2021년    2022년  \n",
       "0    72425    65784    65907    64152    53760    60691  \n",
       "1       88        0        0        0        0        0  \n",
       "2  1611388  1513619  1516477  1425704  1192060  1187696  \n",
       "3     1648     2519     3254     4565     1860     1943  \n",
       "4     2311     2267     2358     1898     1648     1808  "
      ]
     },
     "execution_count": 34,
     "metadata": {},
     "output_type": "execute_result"
    }
   ],
   "source": [
    "crime_age_df = crime_age_df.rename(columns={0:\"대\", 1:\"중\", 2:\"소\", 3:\"연령별\", 4:\"2011년\", 5:\"2012년\", 6:\"2013년\", 7:\"2014년\", 8:\"2015년\", 9:\"2016년\", 10:\"2017년\", 11:\"2018년\", 12:\"2019년\", 13:\"2020년\", 14:\"2021년\", 15:\"2022년\"}, errors='raise', copy=True)\n",
    "crime_age_df.head()"
   ]
  },
  {
   "cell_type": "code",
   "execution_count": 35,
   "metadata": {},
   "outputs": [
    {
     "data": {
      "text/html": [
       "<div>\n",
       "<style scoped>\n",
       "    .dataframe tbody tr th:only-of-type {\n",
       "        vertical-align: middle;\n",
       "    }\n",
       "\n",
       "    .dataframe tbody tr th {\n",
       "        vertical-align: top;\n",
       "    }\n",
       "\n",
       "    .dataframe thead th {\n",
       "        text-align: right;\n",
       "    }\n",
       "</style>\n",
       "<table border=\"1\" class=\"dataframe\">\n",
       "  <thead>\n",
       "    <tr style=\"text-align: right;\">\n",
       "      <th></th>\n",
       "      <th>대</th>\n",
       "      <th>중</th>\n",
       "      <th>소</th>\n",
       "      <th>연령별</th>\n",
       "      <th>2011년</th>\n",
       "      <th>2012년</th>\n",
       "      <th>2013년</th>\n",
       "      <th>2014년</th>\n",
       "      <th>2015년</th>\n",
       "      <th>2016년</th>\n",
       "      <th>2017년</th>\n",
       "      <th>2018년</th>\n",
       "      <th>2019년</th>\n",
       "      <th>2020년</th>\n",
       "      <th>2021년</th>\n",
       "      <th>2022년</th>\n",
       "    </tr>\n",
       "  </thead>\n",
       "  <tbody>\n",
       "    <tr>\n",
       "      <th>44</th>\n",
       "      <td>총범죄</td>\n",
       "      <td>절도범죄</td>\n",
       "      <td>소계</td>\n",
       "      <td>미성년</td>\n",
       "      <td>32693</td>\n",
       "      <td>36634</td>\n",
       "      <td>32499</td>\n",
       "      <td>25999</td>\n",
       "      <td>25914</td>\n",
       "      <td>22507</td>\n",
       "      <td>19971</td>\n",
       "      <td>16873</td>\n",
       "      <td>17111</td>\n",
       "      <td>17027</td>\n",
       "      <td>12692</td>\n",
       "      <td>14772</td>\n",
       "    </tr>\n",
       "    <tr>\n",
       "      <th>45</th>\n",
       "      <td>총범죄</td>\n",
       "      <td>절도범죄</td>\n",
       "      <td>소계</td>\n",
       "      <td>14세미만</td>\n",
       "      <td>63</td>\n",
       "      <td>276</td>\n",
       "      <td>69</td>\n",
       "      <td>5</td>\n",
       "      <td>13</td>\n",
       "      <td>5</td>\n",
       "      <td>8</td>\n",
       "      <td>0</td>\n",
       "      <td>0</td>\n",
       "      <td>0</td>\n",
       "      <td>0</td>\n",
       "      <td>0</td>\n",
       "    </tr>\n",
       "    <tr>\n",
       "      <th>46</th>\n",
       "      <td>총범죄</td>\n",
       "      <td>절도범죄</td>\n",
       "      <td>소계</td>\n",
       "      <td>성인</td>\n",
       "      <td>78695</td>\n",
       "      <td>67779</td>\n",
       "      <td>70136</td>\n",
       "      <td>69613</td>\n",
       "      <td>77210</td>\n",
       "      <td>83833</td>\n",
       "      <td>85681</td>\n",
       "      <td>80381</td>\n",
       "      <td>84099</td>\n",
       "      <td>81328</td>\n",
       "      <td>72931</td>\n",
       "      <td>79478</td>\n",
       "    </tr>\n",
       "    <tr>\n",
       "      <th>47</th>\n",
       "      <td>총범죄</td>\n",
       "      <td>절도범죄</td>\n",
       "      <td>소계</td>\n",
       "      <td>미상</td>\n",
       "      <td>2</td>\n",
       "      <td>21</td>\n",
       "      <td>23</td>\n",
       "      <td>33</td>\n",
       "      <td>42</td>\n",
       "      <td>75</td>\n",
       "      <td>43</td>\n",
       "      <td>80</td>\n",
       "      <td>85</td>\n",
       "      <td>70</td>\n",
       "      <td>64</td>\n",
       "      <td>65</td>\n",
       "    </tr>\n",
       "  </tbody>\n",
       "</table>\n",
       "</div>"
      ],
      "text/plain": [
       "      대     중   소    연령별  2011년  2012년  2013년  2014년  2015년  2016년  2017년  \\\n",
       "44  총범죄  절도범죄  소계    미성년  32693  36634  32499  25999  25914  22507  19971   \n",
       "45  총범죄  절도범죄  소계  14세미만     63    276     69      5     13      5      8   \n",
       "46  총범죄  절도범죄  소계     성인  78695  67779  70136  69613  77210  83833  85681   \n",
       "47  총범죄  절도범죄  소계     미상      2     21     23     33     42     75     43   \n",
       "\n",
       "    2018년  2019년  2020년  2021년  2022년  \n",
       "44  16873  17111  17027  12692  14772  \n",
       "45      0      0      0      0      0  \n",
       "46  80381  84099  81328  72931  79478  \n",
       "47     80     85     70     64     65  "
      ]
     },
     "execution_count": 35,
     "metadata": {},
     "output_type": "execute_result"
    }
   ],
   "source": [
    "theft_age_df = crime_age_df[crime_age_df[\"중\"] == '절도범죄']\n",
    "theft_age_df.head()"
   ]
  },
  {
   "cell_type": "code",
   "execution_count": 36,
   "metadata": {},
   "outputs": [
    {
     "name": "stderr",
     "output_type": "stream",
     "text": [
      "/tmp/ipykernel_19617/1925795677.py:2: SettingWithCopyWarning:\n",
      "\n",
      "\n",
      "A value is trying to be set on a copy of a slice from a DataFrame\n",
      "\n",
      "See the caveats in the documentation: https://pandas.pydata.org/pandas-docs/stable/user_guide/indexing.html#returning-a-view-versus-a-copy\n",
      "\n"
     ]
    },
    {
     "data": {
      "text/html": [
       "<div>\n",
       "<style scoped>\n",
       "    .dataframe tbody tr th:only-of-type {\n",
       "        vertical-align: middle;\n",
       "    }\n",
       "\n",
       "    .dataframe tbody tr th {\n",
       "        vertical-align: top;\n",
       "    }\n",
       "\n",
       "    .dataframe thead th {\n",
       "        text-align: right;\n",
       "    }\n",
       "</style>\n",
       "<table border=\"1\" class=\"dataframe\">\n",
       "  <thead>\n",
       "    <tr style=\"text-align: right;\">\n",
       "      <th>연령별</th>\n",
       "      <th>미성년</th>\n",
       "      <th>14세미만</th>\n",
       "      <th>성인</th>\n",
       "      <th>미상</th>\n",
       "    </tr>\n",
       "  </thead>\n",
       "  <tbody>\n",
       "    <tr>\n",
       "      <th>2011년</th>\n",
       "      <td>32693</td>\n",
       "      <td>63</td>\n",
       "      <td>78695</td>\n",
       "      <td>2</td>\n",
       "    </tr>\n",
       "    <tr>\n",
       "      <th>2012년</th>\n",
       "      <td>36634</td>\n",
       "      <td>276</td>\n",
       "      <td>67779</td>\n",
       "      <td>21</td>\n",
       "    </tr>\n",
       "    <tr>\n",
       "      <th>2013년</th>\n",
       "      <td>32499</td>\n",
       "      <td>69</td>\n",
       "      <td>70136</td>\n",
       "      <td>23</td>\n",
       "    </tr>\n",
       "    <tr>\n",
       "      <th>2014년</th>\n",
       "      <td>25999</td>\n",
       "      <td>5</td>\n",
       "      <td>69613</td>\n",
       "      <td>33</td>\n",
       "    </tr>\n",
       "    <tr>\n",
       "      <th>2015년</th>\n",
       "      <td>25914</td>\n",
       "      <td>13</td>\n",
       "      <td>77210</td>\n",
       "      <td>42</td>\n",
       "    </tr>\n",
       "    <tr>\n",
       "      <th>2016년</th>\n",
       "      <td>22507</td>\n",
       "      <td>5</td>\n",
       "      <td>83833</td>\n",
       "      <td>75</td>\n",
       "    </tr>\n",
       "    <tr>\n",
       "      <th>2017년</th>\n",
       "      <td>19971</td>\n",
       "      <td>8</td>\n",
       "      <td>85681</td>\n",
       "      <td>43</td>\n",
       "    </tr>\n",
       "    <tr>\n",
       "      <th>2018년</th>\n",
       "      <td>16873</td>\n",
       "      <td>0</td>\n",
       "      <td>80381</td>\n",
       "      <td>80</td>\n",
       "    </tr>\n",
       "    <tr>\n",
       "      <th>2019년</th>\n",
       "      <td>17111</td>\n",
       "      <td>0</td>\n",
       "      <td>84099</td>\n",
       "      <td>85</td>\n",
       "    </tr>\n",
       "    <tr>\n",
       "      <th>2020년</th>\n",
       "      <td>17027</td>\n",
       "      <td>0</td>\n",
       "      <td>81328</td>\n",
       "      <td>70</td>\n",
       "    </tr>\n",
       "    <tr>\n",
       "      <th>2021년</th>\n",
       "      <td>12692</td>\n",
       "      <td>0</td>\n",
       "      <td>72931</td>\n",
       "      <td>64</td>\n",
       "    </tr>\n",
       "    <tr>\n",
       "      <th>2022년</th>\n",
       "      <td>14772</td>\n",
       "      <td>0</td>\n",
       "      <td>79478</td>\n",
       "      <td>65</td>\n",
       "    </tr>\n",
       "  </tbody>\n",
       "</table>\n",
       "</div>"
      ],
      "text/plain": [
       "연령별      미성년  14세미만     성인  미상\n",
       "2011년  32693     63  78695   2\n",
       "2012년  36634    276  67779  21\n",
       "2013년  32499     69  70136  23\n",
       "2014년  25999      5  69613  33\n",
       "2015년  25914     13  77210  42\n",
       "2016년  22507      5  83833  75\n",
       "2017년  19971      8  85681  43\n",
       "2018년  16873      0  80381  80\n",
       "2019년  17111      0  84099  85\n",
       "2020년  17027      0  81328  70\n",
       "2021년  12692      0  72931  64\n",
       "2022년  14772      0  79478  65"
      ]
     },
     "execution_count": 36,
     "metadata": {},
     "output_type": "execute_result"
    }
   ],
   "source": [
    "theft_age_df.set_index(\"연령별\", inplace=True)\n",
    "theft_age_df.drop([\"대\", \"중\", \"소\"], axis=1, inplace=True)\n",
    "theft_age_df = theft_age_df.transpose()\n",
    "theft_age_df"
   ]
  },
  {
   "cell_type": "code",
   "execution_count": 108,
   "metadata": {},
   "outputs": [
    {
     "data": {
      "text/plain": [
       "Index(['2011년', '2012년', '2013년', '2014년', '2015년', '2016년', '2017년', '2018년',\n",
       "       '2019년', '2020년', '2021년', '2022년'],\n",
       "      dtype='object')"
      ]
     },
     "execution_count": 108,
     "metadata": {},
     "output_type": "execute_result"
    }
   ],
   "source": [
    "theft_age_df.index"
   ]
  },
  {
   "cell_type": "code",
   "execution_count": 113,
   "metadata": {},
   "outputs": [
    {
     "data": {
      "text/plain": [
       "Index(['미성년', '14세미만', '성인', '미상', '년도'], dtype='object', name='연령별')"
      ]
     },
     "execution_count": 113,
     "metadata": {},
     "output_type": "execute_result"
    }
   ],
   "source": [
    "theft_age_df.columns"
   ]
  },
  {
   "cell_type": "code",
   "execution_count": 131,
   "metadata": {},
   "outputs": [
    {
     "data": {
      "application/vnd.plotly.v1+json": {
       "config": {
        "plotlyServerURL": "https://plot.ly"
       },
       "data": [
        {
         "mode": "lines+markers",
         "name": "14세미만",
         "type": "scatter",
         "x": [
          "2011년",
          "2012년",
          "2013년",
          "2014년",
          "2015년",
          "2016년",
          "2017년",
          "2018년",
          "2019년",
          "2020년",
          "2021년",
          "2022년"
         ],
         "y": [
          63,
          276,
          69,
          5,
          13,
          5,
          8,
          0,
          0,
          0,
          0,
          0
         ]
        },
        {
         "mode": "lines+markers",
         "name": "미성년",
         "type": "scatter",
         "x": [
          "2011년",
          "2012년",
          "2013년",
          "2014년",
          "2015년",
          "2016년",
          "2017년",
          "2018년",
          "2019년",
          "2020년",
          "2021년",
          "2022년"
         ],
         "y": [
          32693,
          36634,
          32499,
          25999,
          25914,
          22507,
          19971,
          16873,
          17111,
          17027,
          12692,
          14772
         ]
        },
        {
         "mode": "lines+markers",
         "name": "성인",
         "type": "scatter",
         "x": [
          "2011년",
          "2012년",
          "2013년",
          "2014년",
          "2015년",
          "2016년",
          "2017년",
          "2018년",
          "2019년",
          "2020년",
          "2021년",
          "2022년"
         ],
         "y": [
          78695,
          67779,
          70136,
          69613,
          77210,
          83833,
          85681,
          80381,
          84099,
          81328,
          72931,
          79478
         ]
        },
        {
         "mode": "lines+markers",
         "name": "미상",
         "type": "scatter",
         "x": [
          "2011년",
          "2012년",
          "2013년",
          "2014년",
          "2015년",
          "2016년",
          "2017년",
          "2018년",
          "2019년",
          "2020년",
          "2021년",
          "2022년"
         ],
         "y": [
          2,
          21,
          23,
          33,
          42,
          75,
          43,
          80,
          85,
          70,
          64,
          65
         ]
        }
       ],
       "layout": {
        "template": {
         "data": {
          "bar": [
           {
            "error_x": {
             "color": "#2a3f5f"
            },
            "error_y": {
             "color": "#2a3f5f"
            },
            "marker": {
             "line": {
              "color": "#E5ECF6",
              "width": 0.5
             },
             "pattern": {
              "fillmode": "overlay",
              "size": 10,
              "solidity": 0.2
             }
            },
            "type": "bar"
           }
          ],
          "barpolar": [
           {
            "marker": {
             "line": {
              "color": "#E5ECF6",
              "width": 0.5
             },
             "pattern": {
              "fillmode": "overlay",
              "size": 10,
              "solidity": 0.2
             }
            },
            "type": "barpolar"
           }
          ],
          "carpet": [
           {
            "aaxis": {
             "endlinecolor": "#2a3f5f",
             "gridcolor": "white",
             "linecolor": "white",
             "minorgridcolor": "white",
             "startlinecolor": "#2a3f5f"
            },
            "baxis": {
             "endlinecolor": "#2a3f5f",
             "gridcolor": "white",
             "linecolor": "white",
             "minorgridcolor": "white",
             "startlinecolor": "#2a3f5f"
            },
            "type": "carpet"
           }
          ],
          "choropleth": [
           {
            "colorbar": {
             "outlinewidth": 0,
             "ticks": ""
            },
            "type": "choropleth"
           }
          ],
          "contour": [
           {
            "colorbar": {
             "outlinewidth": 0,
             "ticks": ""
            },
            "colorscale": [
             [
              0,
              "#0d0887"
             ],
             [
              0.1111111111111111,
              "#46039f"
             ],
             [
              0.2222222222222222,
              "#7201a8"
             ],
             [
              0.3333333333333333,
              "#9c179e"
             ],
             [
              0.4444444444444444,
              "#bd3786"
             ],
             [
              0.5555555555555556,
              "#d8576b"
             ],
             [
              0.6666666666666666,
              "#ed7953"
             ],
             [
              0.7777777777777778,
              "#fb9f3a"
             ],
             [
              0.8888888888888888,
              "#fdca26"
             ],
             [
              1,
              "#f0f921"
             ]
            ],
            "type": "contour"
           }
          ],
          "contourcarpet": [
           {
            "colorbar": {
             "outlinewidth": 0,
             "ticks": ""
            },
            "type": "contourcarpet"
           }
          ],
          "heatmap": [
           {
            "colorbar": {
             "outlinewidth": 0,
             "ticks": ""
            },
            "colorscale": [
             [
              0,
              "#0d0887"
             ],
             [
              0.1111111111111111,
              "#46039f"
             ],
             [
              0.2222222222222222,
              "#7201a8"
             ],
             [
              0.3333333333333333,
              "#9c179e"
             ],
             [
              0.4444444444444444,
              "#bd3786"
             ],
             [
              0.5555555555555556,
              "#d8576b"
             ],
             [
              0.6666666666666666,
              "#ed7953"
             ],
             [
              0.7777777777777778,
              "#fb9f3a"
             ],
             [
              0.8888888888888888,
              "#fdca26"
             ],
             [
              1,
              "#f0f921"
             ]
            ],
            "type": "heatmap"
           }
          ],
          "heatmapgl": [
           {
            "colorbar": {
             "outlinewidth": 0,
             "ticks": ""
            },
            "colorscale": [
             [
              0,
              "#0d0887"
             ],
             [
              0.1111111111111111,
              "#46039f"
             ],
             [
              0.2222222222222222,
              "#7201a8"
             ],
             [
              0.3333333333333333,
              "#9c179e"
             ],
             [
              0.4444444444444444,
              "#bd3786"
             ],
             [
              0.5555555555555556,
              "#d8576b"
             ],
             [
              0.6666666666666666,
              "#ed7953"
             ],
             [
              0.7777777777777778,
              "#fb9f3a"
             ],
             [
              0.8888888888888888,
              "#fdca26"
             ],
             [
              1,
              "#f0f921"
             ]
            ],
            "type": "heatmapgl"
           }
          ],
          "histogram": [
           {
            "marker": {
             "pattern": {
              "fillmode": "overlay",
              "size": 10,
              "solidity": 0.2
             }
            },
            "type": "histogram"
           }
          ],
          "histogram2d": [
           {
            "colorbar": {
             "outlinewidth": 0,
             "ticks": ""
            },
            "colorscale": [
             [
              0,
              "#0d0887"
             ],
             [
              0.1111111111111111,
              "#46039f"
             ],
             [
              0.2222222222222222,
              "#7201a8"
             ],
             [
              0.3333333333333333,
              "#9c179e"
             ],
             [
              0.4444444444444444,
              "#bd3786"
             ],
             [
              0.5555555555555556,
              "#d8576b"
             ],
             [
              0.6666666666666666,
              "#ed7953"
             ],
             [
              0.7777777777777778,
              "#fb9f3a"
             ],
             [
              0.8888888888888888,
              "#fdca26"
             ],
             [
              1,
              "#f0f921"
             ]
            ],
            "type": "histogram2d"
           }
          ],
          "histogram2dcontour": [
           {
            "colorbar": {
             "outlinewidth": 0,
             "ticks": ""
            },
            "colorscale": [
             [
              0,
              "#0d0887"
             ],
             [
              0.1111111111111111,
              "#46039f"
             ],
             [
              0.2222222222222222,
              "#7201a8"
             ],
             [
              0.3333333333333333,
              "#9c179e"
             ],
             [
              0.4444444444444444,
              "#bd3786"
             ],
             [
              0.5555555555555556,
              "#d8576b"
             ],
             [
              0.6666666666666666,
              "#ed7953"
             ],
             [
              0.7777777777777778,
              "#fb9f3a"
             ],
             [
              0.8888888888888888,
              "#fdca26"
             ],
             [
              1,
              "#f0f921"
             ]
            ],
            "type": "histogram2dcontour"
           }
          ],
          "mesh3d": [
           {
            "colorbar": {
             "outlinewidth": 0,
             "ticks": ""
            },
            "type": "mesh3d"
           }
          ],
          "parcoords": [
           {
            "line": {
             "colorbar": {
              "outlinewidth": 0,
              "ticks": ""
             }
            },
            "type": "parcoords"
           }
          ],
          "pie": [
           {
            "automargin": true,
            "type": "pie"
           }
          ],
          "scatter": [
           {
            "fillpattern": {
             "fillmode": "overlay",
             "size": 10,
             "solidity": 0.2
            },
            "type": "scatter"
           }
          ],
          "scatter3d": [
           {
            "line": {
             "colorbar": {
              "outlinewidth": 0,
              "ticks": ""
             }
            },
            "marker": {
             "colorbar": {
              "outlinewidth": 0,
              "ticks": ""
             }
            },
            "type": "scatter3d"
           }
          ],
          "scattercarpet": [
           {
            "marker": {
             "colorbar": {
              "outlinewidth": 0,
              "ticks": ""
             }
            },
            "type": "scattercarpet"
           }
          ],
          "scattergeo": [
           {
            "marker": {
             "colorbar": {
              "outlinewidth": 0,
              "ticks": ""
             }
            },
            "type": "scattergeo"
           }
          ],
          "scattergl": [
           {
            "marker": {
             "colorbar": {
              "outlinewidth": 0,
              "ticks": ""
             }
            },
            "type": "scattergl"
           }
          ],
          "scattermapbox": [
           {
            "marker": {
             "colorbar": {
              "outlinewidth": 0,
              "ticks": ""
             }
            },
            "type": "scattermapbox"
           }
          ],
          "scatterpolar": [
           {
            "marker": {
             "colorbar": {
              "outlinewidth": 0,
              "ticks": ""
             }
            },
            "type": "scatterpolar"
           }
          ],
          "scatterpolargl": [
           {
            "marker": {
             "colorbar": {
              "outlinewidth": 0,
              "ticks": ""
             }
            },
            "type": "scatterpolargl"
           }
          ],
          "scatterternary": [
           {
            "marker": {
             "colorbar": {
              "outlinewidth": 0,
              "ticks": ""
             }
            },
            "type": "scatterternary"
           }
          ],
          "surface": [
           {
            "colorbar": {
             "outlinewidth": 0,
             "ticks": ""
            },
            "colorscale": [
             [
              0,
              "#0d0887"
             ],
             [
              0.1111111111111111,
              "#46039f"
             ],
             [
              0.2222222222222222,
              "#7201a8"
             ],
             [
              0.3333333333333333,
              "#9c179e"
             ],
             [
              0.4444444444444444,
              "#bd3786"
             ],
             [
              0.5555555555555556,
              "#d8576b"
             ],
             [
              0.6666666666666666,
              "#ed7953"
             ],
             [
              0.7777777777777778,
              "#fb9f3a"
             ],
             [
              0.8888888888888888,
              "#fdca26"
             ],
             [
              1,
              "#f0f921"
             ]
            ],
            "type": "surface"
           }
          ],
          "table": [
           {
            "cells": {
             "fill": {
              "color": "#EBF0F8"
             },
             "line": {
              "color": "white"
             }
            },
            "header": {
             "fill": {
              "color": "#C8D4E3"
             },
             "line": {
              "color": "white"
             }
            },
            "type": "table"
           }
          ]
         },
         "layout": {
          "annotationdefaults": {
           "arrowcolor": "#2a3f5f",
           "arrowhead": 0,
           "arrowwidth": 1
          },
          "autotypenumbers": "strict",
          "coloraxis": {
           "colorbar": {
            "outlinewidth": 0,
            "ticks": ""
           }
          },
          "colorscale": {
           "diverging": [
            [
             0,
             "#8e0152"
            ],
            [
             0.1,
             "#c51b7d"
            ],
            [
             0.2,
             "#de77ae"
            ],
            [
             0.3,
             "#f1b6da"
            ],
            [
             0.4,
             "#fde0ef"
            ],
            [
             0.5,
             "#f7f7f7"
            ],
            [
             0.6,
             "#e6f5d0"
            ],
            [
             0.7,
             "#b8e186"
            ],
            [
             0.8,
             "#7fbc41"
            ],
            [
             0.9,
             "#4d9221"
            ],
            [
             1,
             "#276419"
            ]
           ],
           "sequential": [
            [
             0,
             "#0d0887"
            ],
            [
             0.1111111111111111,
             "#46039f"
            ],
            [
             0.2222222222222222,
             "#7201a8"
            ],
            [
             0.3333333333333333,
             "#9c179e"
            ],
            [
             0.4444444444444444,
             "#bd3786"
            ],
            [
             0.5555555555555556,
             "#d8576b"
            ],
            [
             0.6666666666666666,
             "#ed7953"
            ],
            [
             0.7777777777777778,
             "#fb9f3a"
            ],
            [
             0.8888888888888888,
             "#fdca26"
            ],
            [
             1,
             "#f0f921"
            ]
           ],
           "sequentialminus": [
            [
             0,
             "#0d0887"
            ],
            [
             0.1111111111111111,
             "#46039f"
            ],
            [
             0.2222222222222222,
             "#7201a8"
            ],
            [
             0.3333333333333333,
             "#9c179e"
            ],
            [
             0.4444444444444444,
             "#bd3786"
            ],
            [
             0.5555555555555556,
             "#d8576b"
            ],
            [
             0.6666666666666666,
             "#ed7953"
            ],
            [
             0.7777777777777778,
             "#fb9f3a"
            ],
            [
             0.8888888888888888,
             "#fdca26"
            ],
            [
             1,
             "#f0f921"
            ]
           ]
          },
          "colorway": [
           "#636efa",
           "#EF553B",
           "#00cc96",
           "#ab63fa",
           "#FFA15A",
           "#19d3f3",
           "#FF6692",
           "#B6E880",
           "#FF97FF",
           "#FECB52"
          ],
          "font": {
           "color": "#2a3f5f"
          },
          "geo": {
           "bgcolor": "white",
           "lakecolor": "white",
           "landcolor": "#E5ECF6",
           "showlakes": true,
           "showland": true,
           "subunitcolor": "white"
          },
          "hoverlabel": {
           "align": "left"
          },
          "hovermode": "closest",
          "mapbox": {
           "style": "light"
          },
          "paper_bgcolor": "white",
          "plot_bgcolor": "#E5ECF6",
          "polar": {
           "angularaxis": {
            "gridcolor": "white",
            "linecolor": "white",
            "ticks": ""
           },
           "bgcolor": "#E5ECF6",
           "radialaxis": {
            "gridcolor": "white",
            "linecolor": "white",
            "ticks": ""
           }
          },
          "scene": {
           "xaxis": {
            "backgroundcolor": "#E5ECF6",
            "gridcolor": "white",
            "gridwidth": 2,
            "linecolor": "white",
            "showbackground": true,
            "ticks": "",
            "zerolinecolor": "white"
           },
           "yaxis": {
            "backgroundcolor": "#E5ECF6",
            "gridcolor": "white",
            "gridwidth": 2,
            "linecolor": "white",
            "showbackground": true,
            "ticks": "",
            "zerolinecolor": "white"
           },
           "zaxis": {
            "backgroundcolor": "#E5ECF6",
            "gridcolor": "white",
            "gridwidth": 2,
            "linecolor": "white",
            "showbackground": true,
            "ticks": "",
            "zerolinecolor": "white"
           }
          },
          "shapedefaults": {
           "line": {
            "color": "#2a3f5f"
           }
          },
          "ternary": {
           "aaxis": {
            "gridcolor": "white",
            "linecolor": "white",
            "ticks": ""
           },
           "baxis": {
            "gridcolor": "white",
            "linecolor": "white",
            "ticks": ""
           },
           "bgcolor": "#E5ECF6",
           "caxis": {
            "gridcolor": "white",
            "linecolor": "white",
            "ticks": ""
           }
          },
          "title": {
           "x": 0.05
          },
          "xaxis": {
           "automargin": true,
           "gridcolor": "white",
           "linecolor": "white",
           "ticks": "",
           "title": {
            "standoff": 15
           },
           "zerolinecolor": "white",
           "zerolinewidth": 2
          },
          "yaxis": {
           "automargin": true,
           "gridcolor": "white",
           "linecolor": "white",
           "ticks": "",
           "title": {
            "standoff": 15
           },
           "zerolinecolor": "white",
           "zerolinewidth": 2
          }
         }
        },
        "title": {
         "font": {
          "size": 22
         },
         "text": "년도별 나이 대에 따른 절도범죄 발생 건 수",
         "x": 0.5
        },
        "xaxis": {
         "tickangle": -45,
         "title": {
          "text": "년도"
         }
        },
        "yaxis": {
         "title": {
          "text": "발생 건수"
         }
        }
       }
      }
     },
     "metadata": {},
     "output_type": "display_data"
    }
   ],
   "source": [
    "fig = go.Figure()\n",
    "\n",
    "fig.update_layout(title_text=\"년도별 나이 대에 따른 절도범죄 발생 건 수\", xaxis_tickangle=-45, title_x = 0.5, title_font_size=22)\n",
    "fig.update_xaxes(title_text=\"년도\")\n",
    "fig.update_yaxes(title_text=\"발생 건수\")\n",
    "fig.add_trace(go.Scatter(x=theft_age_df.index, y=theft_age_df[\"14세미만\"], name='14세미만', mode='lines+markers'))\n",
    "fig.add_trace(go.Scatter(x=theft_age_df.index, y=theft_age_df[\"미성년\"], name='미성년',mode='lines+markers'))\n",
    "fig.add_trace(go.Scatter(x=theft_age_df.index, y=theft_age_df[\"성인\"], name='성인', mode='lines+markers'))\n",
    "fig.add_trace(go.Scatter(x=theft_age_df.index, y=theft_age_df[\"미상\"], name='미상', mode='lines+markers'))\n",
    "\n",
    "fig.show()"
   ]
  },
  {
   "cell_type": "code",
   "execution_count": 37,
   "metadata": {},
   "outputs": [
    {
     "data": {
      "text/html": [
       "<div>\n",
       "<style scoped>\n",
       "    .dataframe tbody tr th:only-of-type {\n",
       "        vertical-align: middle;\n",
       "    }\n",
       "\n",
       "    .dataframe tbody tr th {\n",
       "        vertical-align: top;\n",
       "    }\n",
       "\n",
       "    .dataframe thead th {\n",
       "        text-align: right;\n",
       "    }\n",
       "</style>\n",
       "<table border=\"1\" class=\"dataframe\">\n",
       "  <thead>\n",
       "    <tr style=\"text-align: right;\">\n",
       "      <th></th>\n",
       "      <th>대</th>\n",
       "      <th>중</th>\n",
       "      <th>소</th>\n",
       "      <th>연령별</th>\n",
       "      <th>2011년</th>\n",
       "      <th>2012년</th>\n",
       "      <th>2013년</th>\n",
       "      <th>2014년</th>\n",
       "      <th>2015년</th>\n",
       "      <th>2016년</th>\n",
       "      <th>2017년</th>\n",
       "      <th>2018년</th>\n",
       "      <th>2019년</th>\n",
       "      <th>2020년</th>\n",
       "      <th>2021년</th>\n",
       "      <th>2022년</th>\n",
       "    </tr>\n",
       "  </thead>\n",
       "  <tbody>\n",
       "    <tr>\n",
       "      <th>152</th>\n",
       "      <td>총범죄</td>\n",
       "      <td>교통범죄</td>\n",
       "      <td>소계</td>\n",
       "      <td>미성년</td>\n",
       "      <td>11795</td>\n",
       "      <td>11977</td>\n",
       "      <td>9751</td>\n",
       "      <td>9247</td>\n",
       "      <td>9022</td>\n",
       "      <td>9307</td>\n",
       "      <td>9338</td>\n",
       "      <td>7391</td>\n",
       "      <td>7081</td>\n",
       "      <td>7779</td>\n",
       "      <td>6684</td>\n",
       "      <td>6611</td>\n",
       "    </tr>\n",
       "    <tr>\n",
       "      <th>153</th>\n",
       "      <td>총범죄</td>\n",
       "      <td>교통범죄</td>\n",
       "      <td>소계</td>\n",
       "      <td>14세미만</td>\n",
       "      <td>123</td>\n",
       "      <td>42</td>\n",
       "      <td>31</td>\n",
       "      <td>6</td>\n",
       "      <td>13</td>\n",
       "      <td>10</td>\n",
       "      <td>23</td>\n",
       "      <td>0</td>\n",
       "      <td>0</td>\n",
       "      <td>0</td>\n",
       "      <td>0</td>\n",
       "      <td>0</td>\n",
       "    </tr>\n",
       "    <tr>\n",
       "      <th>154</th>\n",
       "      <td>총범죄</td>\n",
       "      <td>교통범죄</td>\n",
       "      <td>소계</td>\n",
       "      <td>성인</td>\n",
       "      <td>512553</td>\n",
       "      <td>500039</td>\n",
       "      <td>526907</td>\n",
       "      <td>523635</td>\n",
       "      <td>540135</td>\n",
       "      <td>545644</td>\n",
       "      <td>475077</td>\n",
       "      <td>405659</td>\n",
       "      <td>376521</td>\n",
       "      <td>348544</td>\n",
       "      <td>304493</td>\n",
       "      <td>233527</td>\n",
       "    </tr>\n",
       "    <tr>\n",
       "      <th>155</th>\n",
       "      <td>총범죄</td>\n",
       "      <td>교통범죄</td>\n",
       "      <td>소계</td>\n",
       "      <td>미상</td>\n",
       "      <td>2</td>\n",
       "      <td>60</td>\n",
       "      <td>98</td>\n",
       "      <td>244</td>\n",
       "      <td>217</td>\n",
       "      <td>401</td>\n",
       "      <td>137</td>\n",
       "      <td>97</td>\n",
       "      <td>115</td>\n",
       "      <td>123</td>\n",
       "      <td>55</td>\n",
       "      <td>78</td>\n",
       "    </tr>\n",
       "  </tbody>\n",
       "</table>\n",
       "</div>"
      ],
      "text/plain": [
       "       대     중   소    연령별   2011년   2012년   2013년   2014년   2015년   2016년  \\\n",
       "152  총범죄  교통범죄  소계    미성년   11795   11977    9751    9247    9022    9307   \n",
       "153  총범죄  교통범죄  소계  14세미만     123      42      31       6      13      10   \n",
       "154  총범죄  교통범죄  소계     성인  512553  500039  526907  523635  540135  545644   \n",
       "155  총범죄  교통범죄  소계     미상       2      60      98     244     217     401   \n",
       "\n",
       "      2017년   2018년   2019년   2020년   2021년   2022년  \n",
       "152    9338    7391    7081    7779    6684    6611  \n",
       "153      23       0       0       0       0       0  \n",
       "154  475077  405659  376521  348544  304493  233527  \n",
       "155     137      97     115     123      55      78  "
      ]
     },
     "execution_count": 37,
     "metadata": {},
     "output_type": "execute_result"
    }
   ],
   "source": [
    "vehicle_age_df = crime_age_df[crime_age_df[\"중\"]==\"교통범죄\"]\n",
    "vehicle_age_df"
   ]
  },
  {
   "cell_type": "code",
   "execution_count": 38,
   "metadata": {},
   "outputs": [
    {
     "name": "stderr",
     "output_type": "stream",
     "text": [
      "/tmp/ipykernel_19617/1926953815.py:2: SettingWithCopyWarning:\n",
      "\n",
      "\n",
      "A value is trying to be set on a copy of a slice from a DataFrame\n",
      "\n",
      "See the caveats in the documentation: https://pandas.pydata.org/pandas-docs/stable/user_guide/indexing.html#returning-a-view-versus-a-copy\n",
      "\n"
     ]
    },
    {
     "data": {
      "text/html": [
       "<div>\n",
       "<style scoped>\n",
       "    .dataframe tbody tr th:only-of-type {\n",
       "        vertical-align: middle;\n",
       "    }\n",
       "\n",
       "    .dataframe tbody tr th {\n",
       "        vertical-align: top;\n",
       "    }\n",
       "\n",
       "    .dataframe thead th {\n",
       "        text-align: right;\n",
       "    }\n",
       "</style>\n",
       "<table border=\"1\" class=\"dataframe\">\n",
       "  <thead>\n",
       "    <tr style=\"text-align: right;\">\n",
       "      <th>연령별</th>\n",
       "      <th>미성년</th>\n",
       "      <th>14세미만</th>\n",
       "      <th>성인</th>\n",
       "      <th>미상</th>\n",
       "    </tr>\n",
       "  </thead>\n",
       "  <tbody>\n",
       "    <tr>\n",
       "      <th>2011년</th>\n",
       "      <td>11795</td>\n",
       "      <td>123</td>\n",
       "      <td>512553</td>\n",
       "      <td>2</td>\n",
       "    </tr>\n",
       "    <tr>\n",
       "      <th>2012년</th>\n",
       "      <td>11977</td>\n",
       "      <td>42</td>\n",
       "      <td>500039</td>\n",
       "      <td>60</td>\n",
       "    </tr>\n",
       "    <tr>\n",
       "      <th>2013년</th>\n",
       "      <td>9751</td>\n",
       "      <td>31</td>\n",
       "      <td>526907</td>\n",
       "      <td>98</td>\n",
       "    </tr>\n",
       "    <tr>\n",
       "      <th>2014년</th>\n",
       "      <td>9247</td>\n",
       "      <td>6</td>\n",
       "      <td>523635</td>\n",
       "      <td>244</td>\n",
       "    </tr>\n",
       "    <tr>\n",
       "      <th>2015년</th>\n",
       "      <td>9022</td>\n",
       "      <td>13</td>\n",
       "      <td>540135</td>\n",
       "      <td>217</td>\n",
       "    </tr>\n",
       "    <tr>\n",
       "      <th>2016년</th>\n",
       "      <td>9307</td>\n",
       "      <td>10</td>\n",
       "      <td>545644</td>\n",
       "      <td>401</td>\n",
       "    </tr>\n",
       "    <tr>\n",
       "      <th>2017년</th>\n",
       "      <td>9338</td>\n",
       "      <td>23</td>\n",
       "      <td>475077</td>\n",
       "      <td>137</td>\n",
       "    </tr>\n",
       "    <tr>\n",
       "      <th>2018년</th>\n",
       "      <td>7391</td>\n",
       "      <td>0</td>\n",
       "      <td>405659</td>\n",
       "      <td>97</td>\n",
       "    </tr>\n",
       "    <tr>\n",
       "      <th>2019년</th>\n",
       "      <td>7081</td>\n",
       "      <td>0</td>\n",
       "      <td>376521</td>\n",
       "      <td>115</td>\n",
       "    </tr>\n",
       "    <tr>\n",
       "      <th>2020년</th>\n",
       "      <td>7779</td>\n",
       "      <td>0</td>\n",
       "      <td>348544</td>\n",
       "      <td>123</td>\n",
       "    </tr>\n",
       "    <tr>\n",
       "      <th>2021년</th>\n",
       "      <td>6684</td>\n",
       "      <td>0</td>\n",
       "      <td>304493</td>\n",
       "      <td>55</td>\n",
       "    </tr>\n",
       "    <tr>\n",
       "      <th>2022년</th>\n",
       "      <td>6611</td>\n",
       "      <td>0</td>\n",
       "      <td>233527</td>\n",
       "      <td>78</td>\n",
       "    </tr>\n",
       "  </tbody>\n",
       "</table>\n",
       "</div>"
      ],
      "text/plain": [
       "연령별      미성년  14세미만      성인   미상\n",
       "2011년  11795    123  512553    2\n",
       "2012년  11977     42  500039   60\n",
       "2013년   9751     31  526907   98\n",
       "2014년   9247      6  523635  244\n",
       "2015년   9022     13  540135  217\n",
       "2016년   9307     10  545644  401\n",
       "2017년   9338     23  475077  137\n",
       "2018년   7391      0  405659   97\n",
       "2019년   7081      0  376521  115\n",
       "2020년   7779      0  348544  123\n",
       "2021년   6684      0  304493   55\n",
       "2022년   6611      0  233527   78"
      ]
     },
     "execution_count": 38,
     "metadata": {},
     "output_type": "execute_result"
    }
   ],
   "source": [
    "vehicle_age_df.set_index(\"연령별\", inplace=True)\n",
    "vehicle_age_df.drop([\"대\", \"중\", \"소\"], axis=1, inplace=True)\n",
    "vehicle_age_df = vehicle_age_df.transpose()\n",
    "vehicle_age_df"
   ]
  },
  {
   "cell_type": "code",
   "execution_count": 39,
   "metadata": {},
   "outputs": [
    {
     "data": {
      "application/vnd.plotly.v1+json": {
       "config": {
        "plotlyServerURL": "https://plot.ly"
       },
       "data": [
        {
         "mode": "lines+markers",
         "name": "14세미만",
         "type": "scatter",
         "x": [
          "2016년",
          "2017년",
          "2018년",
          "2019년",
          "2020년",
          "2021년",
          "2022년"
         ],
         "y": [
          5,
          8,
          0,
          0,
          0,
          0,
          0
         ]
        },
        {
         "mode": "lines+markers",
         "name": "미성년",
         "type": "scatter",
         "x": [
          "2016년",
          "2017년",
          "2018년",
          "2019년",
          "2020년",
          "2021년",
          "2022년"
         ],
         "y": [
          22507,
          19971,
          16873,
          17111,
          17027,
          12692,
          14772
         ]
        },
        {
         "mode": "lines+markers",
         "name": "성인",
         "type": "scatter",
         "x": [
          "2016년",
          "2017년",
          "2018년",
          "2019년",
          "2020년",
          "2021년",
          "2022년"
         ],
         "y": [
          83833,
          85681,
          80381,
          84099,
          81328,
          72931,
          79478
         ]
        },
        {
         "mode": "lines+markers",
         "name": "미상",
         "type": "scatter",
         "x": [
          "2016년",
          "2017년",
          "2018년",
          "2019년",
          "2020년",
          "2021년",
          "2022년"
         ],
         "y": [
          75,
          43,
          80,
          85,
          70,
          64,
          65
         ]
        }
       ],
       "layout": {
        "template": {
         "data": {
          "bar": [
           {
            "error_x": {
             "color": "#2a3f5f"
            },
            "error_y": {
             "color": "#2a3f5f"
            },
            "marker": {
             "line": {
              "color": "#E5ECF6",
              "width": 0.5
             },
             "pattern": {
              "fillmode": "overlay",
              "size": 10,
              "solidity": 0.2
             }
            },
            "type": "bar"
           }
          ],
          "barpolar": [
           {
            "marker": {
             "line": {
              "color": "#E5ECF6",
              "width": 0.5
             },
             "pattern": {
              "fillmode": "overlay",
              "size": 10,
              "solidity": 0.2
             }
            },
            "type": "barpolar"
           }
          ],
          "carpet": [
           {
            "aaxis": {
             "endlinecolor": "#2a3f5f",
             "gridcolor": "white",
             "linecolor": "white",
             "minorgridcolor": "white",
             "startlinecolor": "#2a3f5f"
            },
            "baxis": {
             "endlinecolor": "#2a3f5f",
             "gridcolor": "white",
             "linecolor": "white",
             "minorgridcolor": "white",
             "startlinecolor": "#2a3f5f"
            },
            "type": "carpet"
           }
          ],
          "choropleth": [
           {
            "colorbar": {
             "outlinewidth": 0,
             "ticks": ""
            },
            "type": "choropleth"
           }
          ],
          "contour": [
           {
            "colorbar": {
             "outlinewidth": 0,
             "ticks": ""
            },
            "colorscale": [
             [
              0,
              "#0d0887"
             ],
             [
              0.1111111111111111,
              "#46039f"
             ],
             [
              0.2222222222222222,
              "#7201a8"
             ],
             [
              0.3333333333333333,
              "#9c179e"
             ],
             [
              0.4444444444444444,
              "#bd3786"
             ],
             [
              0.5555555555555556,
              "#d8576b"
             ],
             [
              0.6666666666666666,
              "#ed7953"
             ],
             [
              0.7777777777777778,
              "#fb9f3a"
             ],
             [
              0.8888888888888888,
              "#fdca26"
             ],
             [
              1,
              "#f0f921"
             ]
            ],
            "type": "contour"
           }
          ],
          "contourcarpet": [
           {
            "colorbar": {
             "outlinewidth": 0,
             "ticks": ""
            },
            "type": "contourcarpet"
           }
          ],
          "heatmap": [
           {
            "colorbar": {
             "outlinewidth": 0,
             "ticks": ""
            },
            "colorscale": [
             [
              0,
              "#0d0887"
             ],
             [
              0.1111111111111111,
              "#46039f"
             ],
             [
              0.2222222222222222,
              "#7201a8"
             ],
             [
              0.3333333333333333,
              "#9c179e"
             ],
             [
              0.4444444444444444,
              "#bd3786"
             ],
             [
              0.5555555555555556,
              "#d8576b"
             ],
             [
              0.6666666666666666,
              "#ed7953"
             ],
             [
              0.7777777777777778,
              "#fb9f3a"
             ],
             [
              0.8888888888888888,
              "#fdca26"
             ],
             [
              1,
              "#f0f921"
             ]
            ],
            "type": "heatmap"
           }
          ],
          "heatmapgl": [
           {
            "colorbar": {
             "outlinewidth": 0,
             "ticks": ""
            },
            "colorscale": [
             [
              0,
              "#0d0887"
             ],
             [
              0.1111111111111111,
              "#46039f"
             ],
             [
              0.2222222222222222,
              "#7201a8"
             ],
             [
              0.3333333333333333,
              "#9c179e"
             ],
             [
              0.4444444444444444,
              "#bd3786"
             ],
             [
              0.5555555555555556,
              "#d8576b"
             ],
             [
              0.6666666666666666,
              "#ed7953"
             ],
             [
              0.7777777777777778,
              "#fb9f3a"
             ],
             [
              0.8888888888888888,
              "#fdca26"
             ],
             [
              1,
              "#f0f921"
             ]
            ],
            "type": "heatmapgl"
           }
          ],
          "histogram": [
           {
            "marker": {
             "pattern": {
              "fillmode": "overlay",
              "size": 10,
              "solidity": 0.2
             }
            },
            "type": "histogram"
           }
          ],
          "histogram2d": [
           {
            "colorbar": {
             "outlinewidth": 0,
             "ticks": ""
            },
            "colorscale": [
             [
              0,
              "#0d0887"
             ],
             [
              0.1111111111111111,
              "#46039f"
             ],
             [
              0.2222222222222222,
              "#7201a8"
             ],
             [
              0.3333333333333333,
              "#9c179e"
             ],
             [
              0.4444444444444444,
              "#bd3786"
             ],
             [
              0.5555555555555556,
              "#d8576b"
             ],
             [
              0.6666666666666666,
              "#ed7953"
             ],
             [
              0.7777777777777778,
              "#fb9f3a"
             ],
             [
              0.8888888888888888,
              "#fdca26"
             ],
             [
              1,
              "#f0f921"
             ]
            ],
            "type": "histogram2d"
           }
          ],
          "histogram2dcontour": [
           {
            "colorbar": {
             "outlinewidth": 0,
             "ticks": ""
            },
            "colorscale": [
             [
              0,
              "#0d0887"
             ],
             [
              0.1111111111111111,
              "#46039f"
             ],
             [
              0.2222222222222222,
              "#7201a8"
             ],
             [
              0.3333333333333333,
              "#9c179e"
             ],
             [
              0.4444444444444444,
              "#bd3786"
             ],
             [
              0.5555555555555556,
              "#d8576b"
             ],
             [
              0.6666666666666666,
              "#ed7953"
             ],
             [
              0.7777777777777778,
              "#fb9f3a"
             ],
             [
              0.8888888888888888,
              "#fdca26"
             ],
             [
              1,
              "#f0f921"
             ]
            ],
            "type": "histogram2dcontour"
           }
          ],
          "mesh3d": [
           {
            "colorbar": {
             "outlinewidth": 0,
             "ticks": ""
            },
            "type": "mesh3d"
           }
          ],
          "parcoords": [
           {
            "line": {
             "colorbar": {
              "outlinewidth": 0,
              "ticks": ""
             }
            },
            "type": "parcoords"
           }
          ],
          "pie": [
           {
            "automargin": true,
            "type": "pie"
           }
          ],
          "scatter": [
           {
            "fillpattern": {
             "fillmode": "overlay",
             "size": 10,
             "solidity": 0.2
            },
            "type": "scatter"
           }
          ],
          "scatter3d": [
           {
            "line": {
             "colorbar": {
              "outlinewidth": 0,
              "ticks": ""
             }
            },
            "marker": {
             "colorbar": {
              "outlinewidth": 0,
              "ticks": ""
             }
            },
            "type": "scatter3d"
           }
          ],
          "scattercarpet": [
           {
            "marker": {
             "colorbar": {
              "outlinewidth": 0,
              "ticks": ""
             }
            },
            "type": "scattercarpet"
           }
          ],
          "scattergeo": [
           {
            "marker": {
             "colorbar": {
              "outlinewidth": 0,
              "ticks": ""
             }
            },
            "type": "scattergeo"
           }
          ],
          "scattergl": [
           {
            "marker": {
             "colorbar": {
              "outlinewidth": 0,
              "ticks": ""
             }
            },
            "type": "scattergl"
           }
          ],
          "scattermapbox": [
           {
            "marker": {
             "colorbar": {
              "outlinewidth": 0,
              "ticks": ""
             }
            },
            "type": "scattermapbox"
           }
          ],
          "scatterpolar": [
           {
            "marker": {
             "colorbar": {
              "outlinewidth": 0,
              "ticks": ""
             }
            },
            "type": "scatterpolar"
           }
          ],
          "scatterpolargl": [
           {
            "marker": {
             "colorbar": {
              "outlinewidth": 0,
              "ticks": ""
             }
            },
            "type": "scatterpolargl"
           }
          ],
          "scatterternary": [
           {
            "marker": {
             "colorbar": {
              "outlinewidth": 0,
              "ticks": ""
             }
            },
            "type": "scatterternary"
           }
          ],
          "surface": [
           {
            "colorbar": {
             "outlinewidth": 0,
             "ticks": ""
            },
            "colorscale": [
             [
              0,
              "#0d0887"
             ],
             [
              0.1111111111111111,
              "#46039f"
             ],
             [
              0.2222222222222222,
              "#7201a8"
             ],
             [
              0.3333333333333333,
              "#9c179e"
             ],
             [
              0.4444444444444444,
              "#bd3786"
             ],
             [
              0.5555555555555556,
              "#d8576b"
             ],
             [
              0.6666666666666666,
              "#ed7953"
             ],
             [
              0.7777777777777778,
              "#fb9f3a"
             ],
             [
              0.8888888888888888,
              "#fdca26"
             ],
             [
              1,
              "#f0f921"
             ]
            ],
            "type": "surface"
           }
          ],
          "table": [
           {
            "cells": {
             "fill": {
              "color": "#EBF0F8"
             },
             "line": {
              "color": "white"
             }
            },
            "header": {
             "fill": {
              "color": "#C8D4E3"
             },
             "line": {
              "color": "white"
             }
            },
            "type": "table"
           }
          ]
         },
         "layout": {
          "annotationdefaults": {
           "arrowcolor": "#2a3f5f",
           "arrowhead": 0,
           "arrowwidth": 1
          },
          "autotypenumbers": "strict",
          "coloraxis": {
           "colorbar": {
            "outlinewidth": 0,
            "ticks": ""
           }
          },
          "colorscale": {
           "diverging": [
            [
             0,
             "#8e0152"
            ],
            [
             0.1,
             "#c51b7d"
            ],
            [
             0.2,
             "#de77ae"
            ],
            [
             0.3,
             "#f1b6da"
            ],
            [
             0.4,
             "#fde0ef"
            ],
            [
             0.5,
             "#f7f7f7"
            ],
            [
             0.6,
             "#e6f5d0"
            ],
            [
             0.7,
             "#b8e186"
            ],
            [
             0.8,
             "#7fbc41"
            ],
            [
             0.9,
             "#4d9221"
            ],
            [
             1,
             "#276419"
            ]
           ],
           "sequential": [
            [
             0,
             "#0d0887"
            ],
            [
             0.1111111111111111,
             "#46039f"
            ],
            [
             0.2222222222222222,
             "#7201a8"
            ],
            [
             0.3333333333333333,
             "#9c179e"
            ],
            [
             0.4444444444444444,
             "#bd3786"
            ],
            [
             0.5555555555555556,
             "#d8576b"
            ],
            [
             0.6666666666666666,
             "#ed7953"
            ],
            [
             0.7777777777777778,
             "#fb9f3a"
            ],
            [
             0.8888888888888888,
             "#fdca26"
            ],
            [
             1,
             "#f0f921"
            ]
           ],
           "sequentialminus": [
            [
             0,
             "#0d0887"
            ],
            [
             0.1111111111111111,
             "#46039f"
            ],
            [
             0.2222222222222222,
             "#7201a8"
            ],
            [
             0.3333333333333333,
             "#9c179e"
            ],
            [
             0.4444444444444444,
             "#bd3786"
            ],
            [
             0.5555555555555556,
             "#d8576b"
            ],
            [
             0.6666666666666666,
             "#ed7953"
            ],
            [
             0.7777777777777778,
             "#fb9f3a"
            ],
            [
             0.8888888888888888,
             "#fdca26"
            ],
            [
             1,
             "#f0f921"
            ]
           ]
          },
          "colorway": [
           "#636efa",
           "#EF553B",
           "#00cc96",
           "#ab63fa",
           "#FFA15A",
           "#19d3f3",
           "#FF6692",
           "#B6E880",
           "#FF97FF",
           "#FECB52"
          ],
          "font": {
           "color": "#2a3f5f"
          },
          "geo": {
           "bgcolor": "white",
           "lakecolor": "white",
           "landcolor": "#E5ECF6",
           "showlakes": true,
           "showland": true,
           "subunitcolor": "white"
          },
          "hoverlabel": {
           "align": "left"
          },
          "hovermode": "closest",
          "mapbox": {
           "style": "light"
          },
          "paper_bgcolor": "white",
          "plot_bgcolor": "#E5ECF6",
          "polar": {
           "angularaxis": {
            "gridcolor": "white",
            "linecolor": "white",
            "ticks": ""
           },
           "bgcolor": "#E5ECF6",
           "radialaxis": {
            "gridcolor": "white",
            "linecolor": "white",
            "ticks": ""
           }
          },
          "scene": {
           "xaxis": {
            "backgroundcolor": "#E5ECF6",
            "gridcolor": "white",
            "gridwidth": 2,
            "linecolor": "white",
            "showbackground": true,
            "ticks": "",
            "zerolinecolor": "white"
           },
           "yaxis": {
            "backgroundcolor": "#E5ECF6",
            "gridcolor": "white",
            "gridwidth": 2,
            "linecolor": "white",
            "showbackground": true,
            "ticks": "",
            "zerolinecolor": "white"
           },
           "zaxis": {
            "backgroundcolor": "#E5ECF6",
            "gridcolor": "white",
            "gridwidth": 2,
            "linecolor": "white",
            "showbackground": true,
            "ticks": "",
            "zerolinecolor": "white"
           }
          },
          "shapedefaults": {
           "line": {
            "color": "#2a3f5f"
           }
          },
          "ternary": {
           "aaxis": {
            "gridcolor": "white",
            "linecolor": "white",
            "ticks": ""
           },
           "baxis": {
            "gridcolor": "white",
            "linecolor": "white",
            "ticks": ""
           },
           "bgcolor": "#E5ECF6",
           "caxis": {
            "gridcolor": "white",
            "linecolor": "white",
            "ticks": ""
           }
          },
          "title": {
           "x": 0.05
          },
          "xaxis": {
           "automargin": true,
           "gridcolor": "white",
           "linecolor": "white",
           "ticks": "",
           "title": {
            "standoff": 15
           },
           "zerolinecolor": "white",
           "zerolinewidth": 2
          },
          "yaxis": {
           "automargin": true,
           "gridcolor": "white",
           "linecolor": "white",
           "ticks": "",
           "title": {
            "standoff": 15
           },
           "zerolinecolor": "white",
           "zerolinewidth": 2
          }
         }
        },
        "title": {
         "font": {
          "size": 22
         },
         "text": "2016년 후 나이 대에 따른 교통범죄 발생 건 수",
         "x": 0.5
        },
        "xaxis": {
         "tickangle": -45,
         "title": {
          "text": "년도"
         }
        },
        "yaxis": {
         "title": {
          "text": "발생 건수"
         }
        }
       }
      }
     },
     "metadata": {},
     "output_type": "display_data"
    }
   ],
   "source": [
    "fig = go.Figure()\n",
    "\n",
    "fig.update_layout(title_text=\"2016년 후 나이 대에 따른 교통범죄 발생 건 수\", xaxis_tickangle=-45, title_x = 0.5, title_font_size=22 )\n",
    "fig.update_xaxes(title_text=\"년도\")\n",
    "fig.update_yaxes(title_text=\"발생 건수\")\n",
    "fig.add_trace(go.Scatter(x=vehicle_age_df.index[5:], y=theft_age_df[\"14세미만\"][5:], name='14세미만', mode='lines+markers'))\n",
    "fig.add_trace(go.Scatter(x=vehicle_age_df.index[5:], y=theft_age_df[\"미성년\"][5:], name='미성년',mode='lines+markers'))\n",
    "fig.add_trace(go.Scatter(x=vehicle_age_df.index[5:], y=theft_age_df[\"성인\"][5:], name='성인', mode='lines+markers'))\n",
    "fig.add_trace(go.Scatter(x=vehicle_age_df.index[5:], y=theft_age_df[\"미상\"][5:], name='미상', mode='lines+markers'))\n",
    "\n",
    "fig.show()"
   ]
  },
  {
   "cell_type": "code",
   "execution_count": 17,
   "metadata": {},
   "outputs": [
    {
     "data": {
      "text/html": [
       "<div>\n",
       "<style scoped>\n",
       "    .dataframe tbody tr th:only-of-type {\n",
       "        vertical-align: middle;\n",
       "    }\n",
       "\n",
       "    .dataframe tbody tr th {\n",
       "        vertical-align: top;\n",
       "    }\n",
       "\n",
       "    .dataframe thead th {\n",
       "        text-align: right;\n",
       "    }\n",
       "</style>\n",
       "<table border=\"1\" class=\"dataframe\">\n",
       "  <thead>\n",
       "    <tr style=\"text-align: right;\">\n",
       "      <th></th>\n",
       "      <th>0</th>\n",
       "      <th>1</th>\n",
       "      <th>2</th>\n",
       "      <th>3</th>\n",
       "      <th>4</th>\n",
       "      <th>5</th>\n",
       "      <th>6</th>\n",
       "      <th>7</th>\n",
       "      <th>8</th>\n",
       "      <th>9</th>\n",
       "      <th>10</th>\n",
       "      <th>11</th>\n",
       "      <th>12</th>\n",
       "      <th>13</th>\n",
       "      <th>14</th>\n",
       "      <th>15</th>\n",
       "    </tr>\n",
       "  </thead>\n",
       "  <tbody>\n",
       "    <tr>\n",
       "      <th>0</th>\n",
       "      <td>소계</td>\n",
       "      <td>소계</td>\n",
       "      <td>소계</td>\n",
       "      <td>이욕</td>\n",
       "      <td>157196</td>\n",
       "      <td>140413</td>\n",
       "      <td>134375</td>\n",
       "      <td>125751</td>\n",
       "      <td>139683</td>\n",
       "      <td>149315</td>\n",
       "      <td>144996</td>\n",
       "      <td>135729</td>\n",
       "      <td>144146</td>\n",
       "      <td>137185</td>\n",
       "      <td>111711</td>\n",
       "      <td>110149</td>\n",
       "    </tr>\n",
       "    <tr>\n",
       "      <th>1</th>\n",
       "      <td>소계</td>\n",
       "      <td>소계</td>\n",
       "      <td>소계</td>\n",
       "      <td>사행심</td>\n",
       "      <td>26902</td>\n",
       "      <td>22190</td>\n",
       "      <td>20705</td>\n",
       "      <td>19462</td>\n",
       "      <td>18322</td>\n",
       "      <td>20396</td>\n",
       "      <td>16361</td>\n",
       "      <td>17034</td>\n",
       "      <td>18666</td>\n",
       "      <td>16916</td>\n",
       "      <td>12457</td>\n",
       "      <td>11839</td>\n",
       "    </tr>\n",
       "    <tr>\n",
       "      <th>2</th>\n",
       "      <td>소계</td>\n",
       "      <td>소계</td>\n",
       "      <td>소계</td>\n",
       "      <td>보복</td>\n",
       "      <td>345</td>\n",
       "      <td>336</td>\n",
       "      <td>339</td>\n",
       "      <td>347</td>\n",
       "      <td>371</td>\n",
       "      <td>496</td>\n",
       "      <td>349</td>\n",
       "      <td>297</td>\n",
       "      <td>305</td>\n",
       "      <td>324</td>\n",
       "      <td>379</td>\n",
       "      <td>366</td>\n",
       "    </tr>\n",
       "    <tr>\n",
       "      <th>3</th>\n",
       "      <td>소계</td>\n",
       "      <td>소계</td>\n",
       "      <td>소계</td>\n",
       "      <td>가정불화</td>\n",
       "      <td>5753</td>\n",
       "      <td>6069</td>\n",
       "      <td>7255</td>\n",
       "      <td>6977</td>\n",
       "      <td>19857</td>\n",
       "      <td>25730</td>\n",
       "      <td>22481</td>\n",
       "      <td>20314</td>\n",
       "      <td>22845</td>\n",
       "      <td>20135</td>\n",
       "      <td>23208</td>\n",
       "      <td>20357</td>\n",
       "    </tr>\n",
       "    <tr>\n",
       "      <th>4</th>\n",
       "      <td>소계</td>\n",
       "      <td>소계</td>\n",
       "      <td>소계</td>\n",
       "      <td>호기심</td>\n",
       "      <td>19546</td>\n",
       "      <td>16230</td>\n",
       "      <td>17336</td>\n",
       "      <td>16053</td>\n",
       "      <td>16177</td>\n",
       "      <td>21623</td>\n",
       "      <td>17666</td>\n",
       "      <td>9384</td>\n",
       "      <td>10375</td>\n",
       "      <td>13367</td>\n",
       "      <td>13438</td>\n",
       "      <td>13985</td>\n",
       "    </tr>\n",
       "  </tbody>\n",
       "</table>\n",
       "</div>"
      ],
      "text/plain": [
       "   0   1   2     3       4       5       6       7       8       9       10  \\\n",
       "0  소계  소계  소계    이욕  157196  140413  134375  125751  139683  149315  144996   \n",
       "1  소계  소계  소계   사행심   26902   22190   20705   19462   18322   20396   16361   \n",
       "2  소계  소계  소계    보복     345     336     339     347     371     496     349   \n",
       "3  소계  소계  소계  가정불화    5753    6069    7255    6977   19857   25730   22481   \n",
       "4  소계  소계  소계   호기심   19546   16230   17336   16053   16177   21623   17666   \n",
       "\n",
       "       11      12      13      14      15  \n",
       "0  135729  144146  137185  111711  110149  \n",
       "1   17034   18666   16916   12457   11839  \n",
       "2     297     305     324     379     366  \n",
       "3   20314   22845   20135   23208   20357  \n",
       "4    9384   10375   13367   13438   13985  "
      ]
     },
     "execution_count": 17,
     "metadata": {},
     "output_type": "execute_result"
    }
   ],
   "source": [
    "crime.execute(\"SELECT * FROM crime_motive_after\")\n",
    "result = crime.fetchall()\n",
    "\n",
    "crime_motive_df = pd.DataFrame(result)\n",
    "crime_motive_df.head()"
   ]
  },
  {
   "cell_type": "code",
   "execution_count": 18,
   "metadata": {},
   "outputs": [
    {
     "data": {
      "text/html": [
       "<div>\n",
       "<style scoped>\n",
       "    .dataframe tbody tr th:only-of-type {\n",
       "        vertical-align: middle;\n",
       "    }\n",
       "\n",
       "    .dataframe tbody tr th {\n",
       "        vertical-align: top;\n",
       "    }\n",
       "\n",
       "    .dataframe thead th {\n",
       "        text-align: right;\n",
       "    }\n",
       "</style>\n",
       "<table border=\"1\" class=\"dataframe\">\n",
       "  <thead>\n",
       "    <tr style=\"text-align: right;\">\n",
       "      <th></th>\n",
       "      <th>대</th>\n",
       "      <th>중</th>\n",
       "      <th>소</th>\n",
       "      <th>연령별</th>\n",
       "      <th>2011년</th>\n",
       "      <th>2012년</th>\n",
       "      <th>2013년</th>\n",
       "      <th>2014년</th>\n",
       "      <th>2015년</th>\n",
       "      <th>2016년</th>\n",
       "      <th>2017년</th>\n",
       "      <th>2018년</th>\n",
       "      <th>2019년</th>\n",
       "      <th>2020년</th>\n",
       "      <th>2021년</th>\n",
       "      <th>2022년</th>\n",
       "    </tr>\n",
       "  </thead>\n",
       "  <tbody>\n",
       "    <tr>\n",
       "      <th>0</th>\n",
       "      <td>소계</td>\n",
       "      <td>소계</td>\n",
       "      <td>소계</td>\n",
       "      <td>이욕</td>\n",
       "      <td>157196</td>\n",
       "      <td>140413</td>\n",
       "      <td>134375</td>\n",
       "      <td>125751</td>\n",
       "      <td>139683</td>\n",
       "      <td>149315</td>\n",
       "      <td>144996</td>\n",
       "      <td>135729</td>\n",
       "      <td>144146</td>\n",
       "      <td>137185</td>\n",
       "      <td>111711</td>\n",
       "      <td>110149</td>\n",
       "    </tr>\n",
       "    <tr>\n",
       "      <th>1</th>\n",
       "      <td>소계</td>\n",
       "      <td>소계</td>\n",
       "      <td>소계</td>\n",
       "      <td>사행심</td>\n",
       "      <td>26902</td>\n",
       "      <td>22190</td>\n",
       "      <td>20705</td>\n",
       "      <td>19462</td>\n",
       "      <td>18322</td>\n",
       "      <td>20396</td>\n",
       "      <td>16361</td>\n",
       "      <td>17034</td>\n",
       "      <td>18666</td>\n",
       "      <td>16916</td>\n",
       "      <td>12457</td>\n",
       "      <td>11839</td>\n",
       "    </tr>\n",
       "    <tr>\n",
       "      <th>2</th>\n",
       "      <td>소계</td>\n",
       "      <td>소계</td>\n",
       "      <td>소계</td>\n",
       "      <td>보복</td>\n",
       "      <td>345</td>\n",
       "      <td>336</td>\n",
       "      <td>339</td>\n",
       "      <td>347</td>\n",
       "      <td>371</td>\n",
       "      <td>496</td>\n",
       "      <td>349</td>\n",
       "      <td>297</td>\n",
       "      <td>305</td>\n",
       "      <td>324</td>\n",
       "      <td>379</td>\n",
       "      <td>366</td>\n",
       "    </tr>\n",
       "    <tr>\n",
       "      <th>3</th>\n",
       "      <td>소계</td>\n",
       "      <td>소계</td>\n",
       "      <td>소계</td>\n",
       "      <td>가정불화</td>\n",
       "      <td>5753</td>\n",
       "      <td>6069</td>\n",
       "      <td>7255</td>\n",
       "      <td>6977</td>\n",
       "      <td>19857</td>\n",
       "      <td>25730</td>\n",
       "      <td>22481</td>\n",
       "      <td>20314</td>\n",
       "      <td>22845</td>\n",
       "      <td>20135</td>\n",
       "      <td>23208</td>\n",
       "      <td>20357</td>\n",
       "    </tr>\n",
       "    <tr>\n",
       "      <th>4</th>\n",
       "      <td>소계</td>\n",
       "      <td>소계</td>\n",
       "      <td>소계</td>\n",
       "      <td>호기심</td>\n",
       "      <td>19546</td>\n",
       "      <td>16230</td>\n",
       "      <td>17336</td>\n",
       "      <td>16053</td>\n",
       "      <td>16177</td>\n",
       "      <td>21623</td>\n",
       "      <td>17666</td>\n",
       "      <td>9384</td>\n",
       "      <td>10375</td>\n",
       "      <td>13367</td>\n",
       "      <td>13438</td>\n",
       "      <td>13985</td>\n",
       "    </tr>\n",
       "  </tbody>\n",
       "</table>\n",
       "</div>"
      ],
      "text/plain": [
       "    대   중   소   연령별   2011년   2012년   2013년   2014년   2015년   2016년   2017년  \\\n",
       "0  소계  소계  소계    이욕  157196  140413  134375  125751  139683  149315  144996   \n",
       "1  소계  소계  소계   사행심   26902   22190   20705   19462   18322   20396   16361   \n",
       "2  소계  소계  소계    보복     345     336     339     347     371     496     349   \n",
       "3  소계  소계  소계  가정불화    5753    6069    7255    6977   19857   25730   22481   \n",
       "4  소계  소계  소계   호기심   19546   16230   17336   16053   16177   21623   17666   \n",
       "\n",
       "    2018년   2019년   2020년   2021년   2022년  \n",
       "0  135729  144146  137185  111711  110149  \n",
       "1   17034   18666   16916   12457   11839  \n",
       "2     297     305     324     379     366  \n",
       "3   20314   22845   20135   23208   20357  \n",
       "4    9384   10375   13367   13438   13985  "
      ]
     },
     "execution_count": 18,
     "metadata": {},
     "output_type": "execute_result"
    }
   ],
   "source": [
    "crime_motive_df = crime_motive_df.rename(columns={0:\"대\", 1:\"중\", 2:\"소\", 3:\"연령별\", 4:\"2011년\", 5:\"2012년\", 6:\"2013년\", 7:\"2014년\", 8:\"2015년\", 9:\"2016년\", 10:\"2017년\", 11:\"2018년\", 12:\"2019년\", 13:\"2020년\", 14:\"2021년\", 15:\"2022년\"}, errors='raise', copy=True)\n",
    "crime_motive_df.head()"
   ]
  },
  {
   "cell_type": "code",
   "execution_count": 19,
   "metadata": {},
   "outputs": [
    {
     "data": {
      "text/html": [
       "<div>\n",
       "<style scoped>\n",
       "    .dataframe tbody tr th:only-of-type {\n",
       "        vertical-align: middle;\n",
       "    }\n",
       "\n",
       "    .dataframe tbody tr th {\n",
       "        vertical-align: top;\n",
       "    }\n",
       "\n",
       "    .dataframe thead th {\n",
       "        text-align: right;\n",
       "    }\n",
       "</style>\n",
       "<table border=\"1\" class=\"dataframe\">\n",
       "  <thead>\n",
       "    <tr style=\"text-align: right;\">\n",
       "      <th></th>\n",
       "      <th>대</th>\n",
       "      <th>중</th>\n",
       "      <th>소</th>\n",
       "      <th>범행동기</th>\n",
       "      <th>2011년</th>\n",
       "      <th>2012년</th>\n",
       "      <th>2013년</th>\n",
       "      <th>2014년</th>\n",
       "      <th>2015년</th>\n",
       "      <th>2016년</th>\n",
       "      <th>2017년</th>\n",
       "      <th>2018년</th>\n",
       "      <th>2019년</th>\n",
       "      <th>2020년</th>\n",
       "      <th>2021년</th>\n",
       "      <th>2022년</th>\n",
       "    </tr>\n",
       "  </thead>\n",
       "  <tbody>\n",
       "    <tr>\n",
       "      <th>121</th>\n",
       "      <td>소계</td>\n",
       "      <td>절도범죄</td>\n",
       "      <td>소계</td>\n",
       "      <td>이욕</td>\n",
       "      <td>31921</td>\n",
       "      <td>29688</td>\n",
       "      <td>29445</td>\n",
       "      <td>26909</td>\n",
       "      <td>30625</td>\n",
       "      <td>30853</td>\n",
       "      <td>30220</td>\n",
       "      <td>24897</td>\n",
       "      <td>25109</td>\n",
       "      <td>24558</td>\n",
       "      <td>22226</td>\n",
       "      <td>22698</td>\n",
       "    </tr>\n",
       "    <tr>\n",
       "      <th>122</th>\n",
       "      <td>소계</td>\n",
       "      <td>절도범죄</td>\n",
       "      <td>소계</td>\n",
       "      <td>사행심</td>\n",
       "      <td>2065</td>\n",
       "      <td>2023</td>\n",
       "      <td>1906</td>\n",
       "      <td>1650</td>\n",
       "      <td>1724</td>\n",
       "      <td>1600</td>\n",
       "      <td>1729</td>\n",
       "      <td>1729</td>\n",
       "      <td>1802</td>\n",
       "      <td>1854</td>\n",
       "      <td>1607</td>\n",
       "      <td>1926</td>\n",
       "    </tr>\n",
       "    <tr>\n",
       "      <th>123</th>\n",
       "      <td>소계</td>\n",
       "      <td>절도범죄</td>\n",
       "      <td>소계</td>\n",
       "      <td>보복</td>\n",
       "      <td>19</td>\n",
       "      <td>12</td>\n",
       "      <td>10</td>\n",
       "      <td>4</td>\n",
       "      <td>3</td>\n",
       "      <td>7</td>\n",
       "      <td>2</td>\n",
       "      <td>1</td>\n",
       "      <td>5</td>\n",
       "      <td>2</td>\n",
       "      <td>6</td>\n",
       "      <td>2</td>\n",
       "    </tr>\n",
       "    <tr>\n",
       "      <th>124</th>\n",
       "      <td>소계</td>\n",
       "      <td>절도범죄</td>\n",
       "      <td>소계</td>\n",
       "      <td>가정불화</td>\n",
       "      <td>84</td>\n",
       "      <td>74</td>\n",
       "      <td>90</td>\n",
       "      <td>77</td>\n",
       "      <td>67</td>\n",
       "      <td>71</td>\n",
       "      <td>69</td>\n",
       "      <td>29</td>\n",
       "      <td>26</td>\n",
       "      <td>35</td>\n",
       "      <td>40</td>\n",
       "      <td>44</td>\n",
       "    </tr>\n",
       "    <tr>\n",
       "      <th>125</th>\n",
       "      <td>소계</td>\n",
       "      <td>절도범죄</td>\n",
       "      <td>소계</td>\n",
       "      <td>호기심</td>\n",
       "      <td>6923</td>\n",
       "      <td>5583</td>\n",
       "      <td>5299</td>\n",
       "      <td>4813</td>\n",
       "      <td>4882</td>\n",
       "      <td>4680</td>\n",
       "      <td>4274</td>\n",
       "      <td>1438</td>\n",
       "      <td>1474</td>\n",
       "      <td>2799</td>\n",
       "      <td>2756</td>\n",
       "      <td>2924</td>\n",
       "    </tr>\n",
       "  </tbody>\n",
       "</table>\n",
       "</div>"
      ],
      "text/plain": [
       "      대     중   소  범행동기  2011년  2012년  2013년  2014년  2015년  2016년  2017년  \\\n",
       "121  소계  절도범죄  소계    이욕  31921  29688  29445  26909  30625  30853  30220   \n",
       "122  소계  절도범죄  소계   사행심   2065   2023   1906   1650   1724   1600   1729   \n",
       "123  소계  절도범죄  소계    보복     19     12     10      4      3      7      2   \n",
       "124  소계  절도범죄  소계  가정불화     84     74     90     77     67     71     69   \n",
       "125  소계  절도범죄  소계   호기심   6923   5583   5299   4813   4882   4680   4274   \n",
       "\n",
       "     2018년  2019년  2020년  2021년  2022년  \n",
       "121  24897  25109  24558  22226  22698  \n",
       "122   1729   1802   1854   1607   1926  \n",
       "123      1      5      2      6      2  \n",
       "124     29     26     35     40     44  \n",
       "125   1438   1474   2799   2756   2924  "
      ]
     },
     "execution_count": 19,
     "metadata": {},
     "output_type": "execute_result"
    }
   ],
   "source": [
    "crime_motive_df = crime_motive_df.rename(columns={\"연령별\":\"범행동기\"}, errors='raise', copy=True)\n",
    "\n",
    "theft_motive_df= crime_motive_df[crime_motive_df[\"중\"]==\"절도범죄\"]\n",
    "theft_motive_df.head()"
   ]
  },
  {
   "cell_type": "code",
   "execution_count": 20,
   "metadata": {},
   "outputs": [
    {
     "name": "stderr",
     "output_type": "stream",
     "text": [
      "/tmp/ipykernel_19617/1949608987.py:2: SettingWithCopyWarning: \n",
      "A value is trying to be set on a copy of a slice from a DataFrame\n",
      "\n",
      "See the caveats in the documentation: https://pandas.pydata.org/pandas-docs/stable/user_guide/indexing.html#returning-a-view-versus-a-copy\n",
      "  theft_motive_df.drop([\"대\", \"중\", \"소\"], axis=1, inplace=True)\n"
     ]
    },
    {
     "data": {
      "text/html": [
       "<div>\n",
       "<style scoped>\n",
       "    .dataframe tbody tr th:only-of-type {\n",
       "        vertical-align: middle;\n",
       "    }\n",
       "\n",
       "    .dataframe tbody tr th {\n",
       "        vertical-align: top;\n",
       "    }\n",
       "\n",
       "    .dataframe thead th {\n",
       "        text-align: right;\n",
       "    }\n",
       "</style>\n",
       "<table border=\"1\" class=\"dataframe\">\n",
       "  <thead>\n",
       "    <tr style=\"text-align: right;\">\n",
       "      <th>범행동기</th>\n",
       "      <th>이욕</th>\n",
       "      <th>사행심</th>\n",
       "      <th>보복</th>\n",
       "      <th>가정불화</th>\n",
       "      <th>호기심</th>\n",
       "      <th>유혹</th>\n",
       "      <th>우발적</th>\n",
       "      <th>현실불만</th>\n",
       "      <th>부주의</th>\n",
       "      <th>기타</th>\n",
       "      <th>미상</th>\n",
       "    </tr>\n",
       "  </thead>\n",
       "  <tbody>\n",
       "    <tr>\n",
       "      <th>2011년</th>\n",
       "      <td>31921</td>\n",
       "      <td>2065</td>\n",
       "      <td>19</td>\n",
       "      <td>84</td>\n",
       "      <td>6923</td>\n",
       "      <td>3246</td>\n",
       "      <td>30259</td>\n",
       "      <td>472</td>\n",
       "      <td>2912</td>\n",
       "      <td>23289</td>\n",
       "      <td>10200</td>\n",
       "    </tr>\n",
       "    <tr>\n",
       "      <th>2012년</th>\n",
       "      <td>29688</td>\n",
       "      <td>2023</td>\n",
       "      <td>12</td>\n",
       "      <td>74</td>\n",
       "      <td>5583</td>\n",
       "      <td>3251</td>\n",
       "      <td>29104</td>\n",
       "      <td>304</td>\n",
       "      <td>2342</td>\n",
       "      <td>24599</td>\n",
       "      <td>7454</td>\n",
       "    </tr>\n",
       "    <tr>\n",
       "      <th>2013년</th>\n",
       "      <td>29445</td>\n",
       "      <td>1906</td>\n",
       "      <td>10</td>\n",
       "      <td>90</td>\n",
       "      <td>5299</td>\n",
       "      <td>3168</td>\n",
       "      <td>29030</td>\n",
       "      <td>356</td>\n",
       "      <td>2512</td>\n",
       "      <td>23511</td>\n",
       "      <td>7331</td>\n",
       "    </tr>\n",
       "    <tr>\n",
       "      <th>2014년</th>\n",
       "      <td>26909</td>\n",
       "      <td>1650</td>\n",
       "      <td>4</td>\n",
       "      <td>77</td>\n",
       "      <td>4813</td>\n",
       "      <td>2524</td>\n",
       "      <td>26840</td>\n",
       "      <td>272</td>\n",
       "      <td>2581</td>\n",
       "      <td>22556</td>\n",
       "      <td>7419</td>\n",
       "    </tr>\n",
       "    <tr>\n",
       "      <th>2015년</th>\n",
       "      <td>30625</td>\n",
       "      <td>1724</td>\n",
       "      <td>3</td>\n",
       "      <td>67</td>\n",
       "      <td>4882</td>\n",
       "      <td>2304</td>\n",
       "      <td>28057</td>\n",
       "      <td>275</td>\n",
       "      <td>2465</td>\n",
       "      <td>24416</td>\n",
       "      <td>8348</td>\n",
       "    </tr>\n",
       "    <tr>\n",
       "      <th>2016년</th>\n",
       "      <td>30853</td>\n",
       "      <td>1600</td>\n",
       "      <td>7</td>\n",
       "      <td>71</td>\n",
       "      <td>4680</td>\n",
       "      <td>2170</td>\n",
       "      <td>29117</td>\n",
       "      <td>295</td>\n",
       "      <td>3162</td>\n",
       "      <td>25513</td>\n",
       "      <td>8947</td>\n",
       "    </tr>\n",
       "    <tr>\n",
       "      <th>2017년</th>\n",
       "      <td>30220</td>\n",
       "      <td>1729</td>\n",
       "      <td>2</td>\n",
       "      <td>69</td>\n",
       "      <td>4274</td>\n",
       "      <td>2112</td>\n",
       "      <td>29487</td>\n",
       "      <td>278</td>\n",
       "      <td>3422</td>\n",
       "      <td>24155</td>\n",
       "      <td>9947</td>\n",
       "    </tr>\n",
       "    <tr>\n",
       "      <th>2018년</th>\n",
       "      <td>24897</td>\n",
       "      <td>1729</td>\n",
       "      <td>1</td>\n",
       "      <td>29</td>\n",
       "      <td>1438</td>\n",
       "      <td>1254</td>\n",
       "      <td>29707</td>\n",
       "      <td>184</td>\n",
       "      <td>3125</td>\n",
       "      <td>17838</td>\n",
       "      <td>17132</td>\n",
       "    </tr>\n",
       "    <tr>\n",
       "      <th>2019년</th>\n",
       "      <td>25109</td>\n",
       "      <td>1802</td>\n",
       "      <td>5</td>\n",
       "      <td>26</td>\n",
       "      <td>1474</td>\n",
       "      <td>1171</td>\n",
       "      <td>31717</td>\n",
       "      <td>194</td>\n",
       "      <td>3351</td>\n",
       "      <td>18243</td>\n",
       "      <td>18203</td>\n",
       "    </tr>\n",
       "    <tr>\n",
       "      <th>2020년</th>\n",
       "      <td>24558</td>\n",
       "      <td>1854</td>\n",
       "      <td>2</td>\n",
       "      <td>35</td>\n",
       "      <td>2799</td>\n",
       "      <td>1070</td>\n",
       "      <td>31334</td>\n",
       "      <td>180</td>\n",
       "      <td>3319</td>\n",
       "      <td>19012</td>\n",
       "      <td>14262</td>\n",
       "    </tr>\n",
       "    <tr>\n",
       "      <th>2021년</th>\n",
       "      <td>22226</td>\n",
       "      <td>1607</td>\n",
       "      <td>6</td>\n",
       "      <td>40</td>\n",
       "      <td>2756</td>\n",
       "      <td>1113</td>\n",
       "      <td>28832</td>\n",
       "      <td>144</td>\n",
       "      <td>2961</td>\n",
       "      <td>17690</td>\n",
       "      <td>8312</td>\n",
       "    </tr>\n",
       "    <tr>\n",
       "      <th>2022년</th>\n",
       "      <td>22698</td>\n",
       "      <td>1926</td>\n",
       "      <td>2</td>\n",
       "      <td>44</td>\n",
       "      <td>2924</td>\n",
       "      <td>1215</td>\n",
       "      <td>32060</td>\n",
       "      <td>161</td>\n",
       "      <td>3300</td>\n",
       "      <td>20420</td>\n",
       "      <td>9565</td>\n",
       "    </tr>\n",
       "  </tbody>\n",
       "</table>\n",
       "</div>"
      ],
      "text/plain": [
       "범행동기      이욕   사행심  보복  가정불화   호기심    유혹    우발적  현실불만   부주의     기타     미상\n",
       "2011년  31921  2065  19    84  6923  3246  30259   472  2912  23289  10200\n",
       "2012년  29688  2023  12    74  5583  3251  29104   304  2342  24599   7454\n",
       "2013년  29445  1906  10    90  5299  3168  29030   356  2512  23511   7331\n",
       "2014년  26909  1650   4    77  4813  2524  26840   272  2581  22556   7419\n",
       "2015년  30625  1724   3    67  4882  2304  28057   275  2465  24416   8348\n",
       "2016년  30853  1600   7    71  4680  2170  29117   295  3162  25513   8947\n",
       "2017년  30220  1729   2    69  4274  2112  29487   278  3422  24155   9947\n",
       "2018년  24897  1729   1    29  1438  1254  29707   184  3125  17838  17132\n",
       "2019년  25109  1802   5    26  1474  1171  31717   194  3351  18243  18203\n",
       "2020년  24558  1854   2    35  2799  1070  31334   180  3319  19012  14262\n",
       "2021년  22226  1607   6    40  2756  1113  28832   144  2961  17690   8312\n",
       "2022년  22698  1926   2    44  2924  1215  32060   161  3300  20420   9565"
      ]
     },
     "execution_count": 20,
     "metadata": {},
     "output_type": "execute_result"
    }
   ],
   "source": [
    "theft_motive_df.set_index(\"범행동기\", inplace=True)\n",
    "theft_motive_df.drop([\"대\", \"중\", \"소\"], axis=1, inplace=True)\n",
    "theft_motive_df = theft_motive_df.transpose()\n",
    "theft_motive_df"
   ]
  },
  {
   "cell_type": "code",
   "execution_count": 21,
   "metadata": {},
   "outputs": [
    {
     "data": {
      "application/vnd.plotly.v1+json": {
       "config": {
        "plotlyServerURL": "https://plot.ly"
       },
       "data": [
        {
         "mode": "lines+markers",
         "name": "이욕",
         "type": "scatter",
         "x": [
          "2011년",
          "2012년",
          "2013년",
          "2014년",
          "2015년",
          "2016년",
          "2017년",
          "2018년",
          "2019년",
          "2020년",
          "2021년",
          "2022년"
         ],
         "y": [
          31921,
          29688,
          29445,
          26909,
          30625,
          30853,
          30220,
          24897,
          25109,
          24558,
          22226,
          22698
         ]
        },
        {
         "mode": "lines+markers",
         "name": "사행심",
         "type": "scatter",
         "x": [
          "2011년",
          "2012년",
          "2013년",
          "2014년",
          "2015년",
          "2016년",
          "2017년",
          "2018년",
          "2019년",
          "2020년",
          "2021년",
          "2022년"
         ],
         "y": [
          2065,
          2023,
          1906,
          1650,
          1724,
          1600,
          1729,
          1729,
          1802,
          1854,
          1607,
          1926
         ]
        },
        {
         "mode": "lines+markers",
         "name": "보복",
         "type": "scatter",
         "x": [
          "2011년",
          "2012년",
          "2013년",
          "2014년",
          "2015년",
          "2016년",
          "2017년",
          "2018년",
          "2019년",
          "2020년",
          "2021년",
          "2022년"
         ],
         "y": [
          19,
          12,
          10,
          4,
          3,
          7,
          2,
          1,
          5,
          2,
          6,
          2
         ]
        },
        {
         "mode": "lines+markers",
         "name": "가정불화",
         "type": "scatter",
         "x": [
          "2011년",
          "2012년",
          "2013년",
          "2014년",
          "2015년",
          "2016년",
          "2017년",
          "2018년",
          "2019년",
          "2020년",
          "2021년",
          "2022년"
         ],
         "y": [
          84,
          74,
          90,
          77,
          67,
          71,
          69,
          29,
          26,
          35,
          40,
          44
         ]
        },
        {
         "mode": "lines+markers",
         "name": "호기심",
         "type": "scatter",
         "x": [
          "2011년",
          "2012년",
          "2013년",
          "2014년",
          "2015년",
          "2016년",
          "2017년",
          "2018년",
          "2019년",
          "2020년",
          "2021년",
          "2022년"
         ],
         "y": [
          6923,
          5583,
          5299,
          4813,
          4882,
          4680,
          4274,
          1438,
          1474,
          2799,
          2756,
          2924
         ]
        },
        {
         "mode": "lines+markers",
         "name": "유혹",
         "type": "scatter",
         "x": [
          "2011년",
          "2012년",
          "2013년",
          "2014년",
          "2015년",
          "2016년",
          "2017년",
          "2018년",
          "2019년",
          "2020년",
          "2021년",
          "2022년"
         ],
         "y": [
          3246,
          3251,
          3168,
          2524,
          2304,
          2170,
          2112,
          1254,
          1171,
          1070,
          1113,
          1215
         ]
        },
        {
         "mode": "lines+markers",
         "name": "우발적",
         "type": "scatter",
         "x": [
          "2011년",
          "2012년",
          "2013년",
          "2014년",
          "2015년",
          "2016년",
          "2017년",
          "2018년",
          "2019년",
          "2020년",
          "2021년",
          "2022년"
         ],
         "y": [
          30259,
          29104,
          29030,
          26840,
          28057,
          29117,
          29487,
          29707,
          31717,
          31334,
          28832,
          32060
         ]
        },
        {
         "mode": "lines+markers",
         "name": "현실불만",
         "type": "scatter",
         "x": [
          "2011년",
          "2012년",
          "2013년",
          "2014년",
          "2015년",
          "2016년",
          "2017년",
          "2018년",
          "2019년",
          "2020년",
          "2021년",
          "2022년"
         ],
         "y": [
          472,
          304,
          356,
          272,
          275,
          295,
          278,
          184,
          194,
          180,
          144,
          161
         ]
        },
        {
         "mode": "lines+markers",
         "name": "부주의",
         "type": "scatter",
         "x": [
          "2011년",
          "2012년",
          "2013년",
          "2014년",
          "2015년",
          "2016년",
          "2017년",
          "2018년",
          "2019년",
          "2020년",
          "2021년",
          "2022년"
         ],
         "y": [
          2912,
          2342,
          2512,
          2581,
          2465,
          3162,
          3422,
          3125,
          3351,
          3319,
          2961,
          3300
         ]
        },
        {
         "mode": "lines+markers",
         "name": "기타",
         "type": "scatter",
         "x": [
          "2011년",
          "2012년",
          "2013년",
          "2014년",
          "2015년",
          "2016년",
          "2017년",
          "2018년",
          "2019년",
          "2020년",
          "2021년",
          "2022년"
         ],
         "y": [
          23289,
          24599,
          23511,
          22556,
          24416,
          25513,
          24155,
          17838,
          18243,
          19012,
          17690,
          20420
         ]
        },
        {
         "mode": "lines+markers",
         "name": "미상",
         "type": "scatter",
         "x": [
          "2011년",
          "2012년",
          "2013년",
          "2014년",
          "2015년",
          "2016년",
          "2017년",
          "2018년",
          "2019년",
          "2020년",
          "2021년",
          "2022년"
         ],
         "y": [
          10200,
          7454,
          7331,
          7419,
          8348,
          8947,
          9947,
          17132,
          18203,
          14262,
          8312,
          9565
         ]
        }
       ],
       "layout": {
        "template": {
         "data": {
          "bar": [
           {
            "error_x": {
             "color": "#2a3f5f"
            },
            "error_y": {
             "color": "#2a3f5f"
            },
            "marker": {
             "line": {
              "color": "#E5ECF6",
              "width": 0.5
             },
             "pattern": {
              "fillmode": "overlay",
              "size": 10,
              "solidity": 0.2
             }
            },
            "type": "bar"
           }
          ],
          "barpolar": [
           {
            "marker": {
             "line": {
              "color": "#E5ECF6",
              "width": 0.5
             },
             "pattern": {
              "fillmode": "overlay",
              "size": 10,
              "solidity": 0.2
             }
            },
            "type": "barpolar"
           }
          ],
          "carpet": [
           {
            "aaxis": {
             "endlinecolor": "#2a3f5f",
             "gridcolor": "white",
             "linecolor": "white",
             "minorgridcolor": "white",
             "startlinecolor": "#2a3f5f"
            },
            "baxis": {
             "endlinecolor": "#2a3f5f",
             "gridcolor": "white",
             "linecolor": "white",
             "minorgridcolor": "white",
             "startlinecolor": "#2a3f5f"
            },
            "type": "carpet"
           }
          ],
          "choropleth": [
           {
            "colorbar": {
             "outlinewidth": 0,
             "ticks": ""
            },
            "type": "choropleth"
           }
          ],
          "contour": [
           {
            "colorbar": {
             "outlinewidth": 0,
             "ticks": ""
            },
            "colorscale": [
             [
              0,
              "#0d0887"
             ],
             [
              0.1111111111111111,
              "#46039f"
             ],
             [
              0.2222222222222222,
              "#7201a8"
             ],
             [
              0.3333333333333333,
              "#9c179e"
             ],
             [
              0.4444444444444444,
              "#bd3786"
             ],
             [
              0.5555555555555556,
              "#d8576b"
             ],
             [
              0.6666666666666666,
              "#ed7953"
             ],
             [
              0.7777777777777778,
              "#fb9f3a"
             ],
             [
              0.8888888888888888,
              "#fdca26"
             ],
             [
              1,
              "#f0f921"
             ]
            ],
            "type": "contour"
           }
          ],
          "contourcarpet": [
           {
            "colorbar": {
             "outlinewidth": 0,
             "ticks": ""
            },
            "type": "contourcarpet"
           }
          ],
          "heatmap": [
           {
            "colorbar": {
             "outlinewidth": 0,
             "ticks": ""
            },
            "colorscale": [
             [
              0,
              "#0d0887"
             ],
             [
              0.1111111111111111,
              "#46039f"
             ],
             [
              0.2222222222222222,
              "#7201a8"
             ],
             [
              0.3333333333333333,
              "#9c179e"
             ],
             [
              0.4444444444444444,
              "#bd3786"
             ],
             [
              0.5555555555555556,
              "#d8576b"
             ],
             [
              0.6666666666666666,
              "#ed7953"
             ],
             [
              0.7777777777777778,
              "#fb9f3a"
             ],
             [
              0.8888888888888888,
              "#fdca26"
             ],
             [
              1,
              "#f0f921"
             ]
            ],
            "type": "heatmap"
           }
          ],
          "heatmapgl": [
           {
            "colorbar": {
             "outlinewidth": 0,
             "ticks": ""
            },
            "colorscale": [
             [
              0,
              "#0d0887"
             ],
             [
              0.1111111111111111,
              "#46039f"
             ],
             [
              0.2222222222222222,
              "#7201a8"
             ],
             [
              0.3333333333333333,
              "#9c179e"
             ],
             [
              0.4444444444444444,
              "#bd3786"
             ],
             [
              0.5555555555555556,
              "#d8576b"
             ],
             [
              0.6666666666666666,
              "#ed7953"
             ],
             [
              0.7777777777777778,
              "#fb9f3a"
             ],
             [
              0.8888888888888888,
              "#fdca26"
             ],
             [
              1,
              "#f0f921"
             ]
            ],
            "type": "heatmapgl"
           }
          ],
          "histogram": [
           {
            "marker": {
             "pattern": {
              "fillmode": "overlay",
              "size": 10,
              "solidity": 0.2
             }
            },
            "type": "histogram"
           }
          ],
          "histogram2d": [
           {
            "colorbar": {
             "outlinewidth": 0,
             "ticks": ""
            },
            "colorscale": [
             [
              0,
              "#0d0887"
             ],
             [
              0.1111111111111111,
              "#46039f"
             ],
             [
              0.2222222222222222,
              "#7201a8"
             ],
             [
              0.3333333333333333,
              "#9c179e"
             ],
             [
              0.4444444444444444,
              "#bd3786"
             ],
             [
              0.5555555555555556,
              "#d8576b"
             ],
             [
              0.6666666666666666,
              "#ed7953"
             ],
             [
              0.7777777777777778,
              "#fb9f3a"
             ],
             [
              0.8888888888888888,
              "#fdca26"
             ],
             [
              1,
              "#f0f921"
             ]
            ],
            "type": "histogram2d"
           }
          ],
          "histogram2dcontour": [
           {
            "colorbar": {
             "outlinewidth": 0,
             "ticks": ""
            },
            "colorscale": [
             [
              0,
              "#0d0887"
             ],
             [
              0.1111111111111111,
              "#46039f"
             ],
             [
              0.2222222222222222,
              "#7201a8"
             ],
             [
              0.3333333333333333,
              "#9c179e"
             ],
             [
              0.4444444444444444,
              "#bd3786"
             ],
             [
              0.5555555555555556,
              "#d8576b"
             ],
             [
              0.6666666666666666,
              "#ed7953"
             ],
             [
              0.7777777777777778,
              "#fb9f3a"
             ],
             [
              0.8888888888888888,
              "#fdca26"
             ],
             [
              1,
              "#f0f921"
             ]
            ],
            "type": "histogram2dcontour"
           }
          ],
          "mesh3d": [
           {
            "colorbar": {
             "outlinewidth": 0,
             "ticks": ""
            },
            "type": "mesh3d"
           }
          ],
          "parcoords": [
           {
            "line": {
             "colorbar": {
              "outlinewidth": 0,
              "ticks": ""
             }
            },
            "type": "parcoords"
           }
          ],
          "pie": [
           {
            "automargin": true,
            "type": "pie"
           }
          ],
          "scatter": [
           {
            "fillpattern": {
             "fillmode": "overlay",
             "size": 10,
             "solidity": 0.2
            },
            "type": "scatter"
           }
          ],
          "scatter3d": [
           {
            "line": {
             "colorbar": {
              "outlinewidth": 0,
              "ticks": ""
             }
            },
            "marker": {
             "colorbar": {
              "outlinewidth": 0,
              "ticks": ""
             }
            },
            "type": "scatter3d"
           }
          ],
          "scattercarpet": [
           {
            "marker": {
             "colorbar": {
              "outlinewidth": 0,
              "ticks": ""
             }
            },
            "type": "scattercarpet"
           }
          ],
          "scattergeo": [
           {
            "marker": {
             "colorbar": {
              "outlinewidth": 0,
              "ticks": ""
             }
            },
            "type": "scattergeo"
           }
          ],
          "scattergl": [
           {
            "marker": {
             "colorbar": {
              "outlinewidth": 0,
              "ticks": ""
             }
            },
            "type": "scattergl"
           }
          ],
          "scattermapbox": [
           {
            "marker": {
             "colorbar": {
              "outlinewidth": 0,
              "ticks": ""
             }
            },
            "type": "scattermapbox"
           }
          ],
          "scatterpolar": [
           {
            "marker": {
             "colorbar": {
              "outlinewidth": 0,
              "ticks": ""
             }
            },
            "type": "scatterpolar"
           }
          ],
          "scatterpolargl": [
           {
            "marker": {
             "colorbar": {
              "outlinewidth": 0,
              "ticks": ""
             }
            },
            "type": "scatterpolargl"
           }
          ],
          "scatterternary": [
           {
            "marker": {
             "colorbar": {
              "outlinewidth": 0,
              "ticks": ""
             }
            },
            "type": "scatterternary"
           }
          ],
          "surface": [
           {
            "colorbar": {
             "outlinewidth": 0,
             "ticks": ""
            },
            "colorscale": [
             [
              0,
              "#0d0887"
             ],
             [
              0.1111111111111111,
              "#46039f"
             ],
             [
              0.2222222222222222,
              "#7201a8"
             ],
             [
              0.3333333333333333,
              "#9c179e"
             ],
             [
              0.4444444444444444,
              "#bd3786"
             ],
             [
              0.5555555555555556,
              "#d8576b"
             ],
             [
              0.6666666666666666,
              "#ed7953"
             ],
             [
              0.7777777777777778,
              "#fb9f3a"
             ],
             [
              0.8888888888888888,
              "#fdca26"
             ],
             [
              1,
              "#f0f921"
             ]
            ],
            "type": "surface"
           }
          ],
          "table": [
           {
            "cells": {
             "fill": {
              "color": "#EBF0F8"
             },
             "line": {
              "color": "white"
             }
            },
            "header": {
             "fill": {
              "color": "#C8D4E3"
             },
             "line": {
              "color": "white"
             }
            },
            "type": "table"
           }
          ]
         },
         "layout": {
          "annotationdefaults": {
           "arrowcolor": "#2a3f5f",
           "arrowhead": 0,
           "arrowwidth": 1
          },
          "autotypenumbers": "strict",
          "coloraxis": {
           "colorbar": {
            "outlinewidth": 0,
            "ticks": ""
           }
          },
          "colorscale": {
           "diverging": [
            [
             0,
             "#8e0152"
            ],
            [
             0.1,
             "#c51b7d"
            ],
            [
             0.2,
             "#de77ae"
            ],
            [
             0.3,
             "#f1b6da"
            ],
            [
             0.4,
             "#fde0ef"
            ],
            [
             0.5,
             "#f7f7f7"
            ],
            [
             0.6,
             "#e6f5d0"
            ],
            [
             0.7,
             "#b8e186"
            ],
            [
             0.8,
             "#7fbc41"
            ],
            [
             0.9,
             "#4d9221"
            ],
            [
             1,
             "#276419"
            ]
           ],
           "sequential": [
            [
             0,
             "#0d0887"
            ],
            [
             0.1111111111111111,
             "#46039f"
            ],
            [
             0.2222222222222222,
             "#7201a8"
            ],
            [
             0.3333333333333333,
             "#9c179e"
            ],
            [
             0.4444444444444444,
             "#bd3786"
            ],
            [
             0.5555555555555556,
             "#d8576b"
            ],
            [
             0.6666666666666666,
             "#ed7953"
            ],
            [
             0.7777777777777778,
             "#fb9f3a"
            ],
            [
             0.8888888888888888,
             "#fdca26"
            ],
            [
             1,
             "#f0f921"
            ]
           ],
           "sequentialminus": [
            [
             0,
             "#0d0887"
            ],
            [
             0.1111111111111111,
             "#46039f"
            ],
            [
             0.2222222222222222,
             "#7201a8"
            ],
            [
             0.3333333333333333,
             "#9c179e"
            ],
            [
             0.4444444444444444,
             "#bd3786"
            ],
            [
             0.5555555555555556,
             "#d8576b"
            ],
            [
             0.6666666666666666,
             "#ed7953"
            ],
            [
             0.7777777777777778,
             "#fb9f3a"
            ],
            [
             0.8888888888888888,
             "#fdca26"
            ],
            [
             1,
             "#f0f921"
            ]
           ]
          },
          "colorway": [
           "#636efa",
           "#EF553B",
           "#00cc96",
           "#ab63fa",
           "#FFA15A",
           "#19d3f3",
           "#FF6692",
           "#B6E880",
           "#FF97FF",
           "#FECB52"
          ],
          "font": {
           "color": "#2a3f5f"
          },
          "geo": {
           "bgcolor": "white",
           "lakecolor": "white",
           "landcolor": "#E5ECF6",
           "showlakes": true,
           "showland": true,
           "subunitcolor": "white"
          },
          "hoverlabel": {
           "align": "left"
          },
          "hovermode": "closest",
          "mapbox": {
           "style": "light"
          },
          "paper_bgcolor": "white",
          "plot_bgcolor": "#E5ECF6",
          "polar": {
           "angularaxis": {
            "gridcolor": "white",
            "linecolor": "white",
            "ticks": ""
           },
           "bgcolor": "#E5ECF6",
           "radialaxis": {
            "gridcolor": "white",
            "linecolor": "white",
            "ticks": ""
           }
          },
          "scene": {
           "xaxis": {
            "backgroundcolor": "#E5ECF6",
            "gridcolor": "white",
            "gridwidth": 2,
            "linecolor": "white",
            "showbackground": true,
            "ticks": "",
            "zerolinecolor": "white"
           },
           "yaxis": {
            "backgroundcolor": "#E5ECF6",
            "gridcolor": "white",
            "gridwidth": 2,
            "linecolor": "white",
            "showbackground": true,
            "ticks": "",
            "zerolinecolor": "white"
           },
           "zaxis": {
            "backgroundcolor": "#E5ECF6",
            "gridcolor": "white",
            "gridwidth": 2,
            "linecolor": "white",
            "showbackground": true,
            "ticks": "",
            "zerolinecolor": "white"
           }
          },
          "shapedefaults": {
           "line": {
            "color": "#2a3f5f"
           }
          },
          "ternary": {
           "aaxis": {
            "gridcolor": "white",
            "linecolor": "white",
            "ticks": ""
           },
           "baxis": {
            "gridcolor": "white",
            "linecolor": "white",
            "ticks": ""
           },
           "bgcolor": "#E5ECF6",
           "caxis": {
            "gridcolor": "white",
            "linecolor": "white",
            "ticks": ""
           }
          },
          "title": {
           "x": 0.05
          },
          "xaxis": {
           "automargin": true,
           "gridcolor": "white",
           "linecolor": "white",
           "ticks": "",
           "title": {
            "standoff": 15
           },
           "zerolinecolor": "white",
           "zerolinewidth": 2
          },
          "yaxis": {
           "automargin": true,
           "gridcolor": "white",
           "linecolor": "white",
           "ticks": "",
           "title": {
            "standoff": 15
           },
           "zerolinecolor": "white",
           "zerolinewidth": 2
          }
         }
        },
        "title": {
         "font": {
          "size": 22
         },
         "text": "년도에 따른 범죄동기 별 절도범죄 발생 건 수",
         "x": 0.5
        },
        "xaxis": {
         "tickangle": -45,
         "title": {
          "text": "년도"
         }
        },
        "yaxis": {
         "title": {
          "text": "발생 건수"
         }
        }
       }
      }
     },
     "metadata": {},
     "output_type": "display_data"
    }
   ],
   "source": [
    "fig = go.Figure()\n",
    "\n",
    "fig.update_layout(title_text=\"년도에 따른 범죄동기 별 절도범죄 발생 건 수\", xaxis_tickangle=-45, title_x = 0.5, title_font_size=22 )\n",
    "fig.update_xaxes(title_text=\"년도\")\n",
    "fig.update_yaxes(title_text=\"발생 건수\")\n",
    "fig.add_trace(go.Scatter(x=theft_motive_df.index, y=theft_motive_df[\"이욕\"], name='이욕', mode='lines+markers'))\n",
    "fig.add_trace(go.Scatter(x=theft_motive_df.index, y=theft_motive_df[\"사행심\"], name='사행심',mode='lines+markers'))\n",
    "fig.add_trace(go.Scatter(x=theft_motive_df.index, y=theft_motive_df[\"보복\"], name='보복', mode='lines+markers'))\n",
    "fig.add_trace(go.Scatter(x=theft_motive_df.index, y=theft_motive_df[\"가정불화\"], name='가정불화', mode='lines+markers'))\n",
    "fig.add_trace(go.Scatter(x=theft_motive_df.index, y=theft_motive_df[\"호기심\"], name='호기심', mode='lines+markers'))\n",
    "fig.add_trace(go.Scatter(x=theft_motive_df.index, y=theft_motive_df[\"유혹\"], name='유혹',mode='lines+markers'))\n",
    "fig.add_trace(go.Scatter(x=theft_motive_df.index, y=theft_motive_df[\"우발적\"], name='우발적', mode='lines+markers'))\n",
    "fig.add_trace(go.Scatter(x=theft_motive_df.index, y=theft_motive_df[\"현실불만\"], name='현실불만', mode='lines+markers'))\n",
    "fig.add_trace(go.Scatter(x=theft_motive_df.index, y=theft_motive_df[\"부주의\"], name='부주의',mode='lines+markers'))\n",
    "fig.add_trace(go.Scatter(x=theft_motive_df.index, y=theft_motive_df[\"기타\"], name='기타', mode='lines+markers'))\n",
    "fig.add_trace(go.Scatter(x=theft_motive_df.index, y=theft_motive_df[\"미상\"], name='미상', mode='lines+markers'))\n",
    "\n",
    "fig.show()"
   ]
  },
  {
   "cell_type": "code",
   "execution_count": 24,
   "metadata": {},
   "outputs": [
    {
     "data": {
      "text/html": [
       "<div>\n",
       "<style scoped>\n",
       "    .dataframe tbody tr th:only-of-type {\n",
       "        vertical-align: middle;\n",
       "    }\n",
       "\n",
       "    .dataframe tbody tr th {\n",
       "        vertical-align: top;\n",
       "    }\n",
       "\n",
       "    .dataframe thead th {\n",
       "        text-align: right;\n",
       "    }\n",
       "</style>\n",
       "<table border=\"1\" class=\"dataframe\">\n",
       "  <thead>\n",
       "    <tr style=\"text-align: right;\">\n",
       "      <th></th>\n",
       "      <th>대</th>\n",
       "      <th>중</th>\n",
       "      <th>소</th>\n",
       "      <th>범행동기</th>\n",
       "      <th>2011년</th>\n",
       "      <th>2012년</th>\n",
       "      <th>2013년</th>\n",
       "      <th>2014년</th>\n",
       "      <th>2015년</th>\n",
       "      <th>2016년</th>\n",
       "      <th>2017년</th>\n",
       "      <th>2018년</th>\n",
       "      <th>2019년</th>\n",
       "      <th>2020년</th>\n",
       "      <th>2021년</th>\n",
       "      <th>2022년</th>\n",
       "    </tr>\n",
       "  </thead>\n",
       "  <tbody>\n",
       "    <tr>\n",
       "      <th>418</th>\n",
       "      <td>소계</td>\n",
       "      <td>교통범죄</td>\n",
       "      <td>소계</td>\n",
       "      <td>이욕</td>\n",
       "      <td>8251</td>\n",
       "      <td>7834</td>\n",
       "      <td>5529</td>\n",
       "      <td>1315</td>\n",
       "      <td>1089</td>\n",
       "      <td>1202</td>\n",
       "      <td>1146</td>\n",
       "      <td>992</td>\n",
       "      <td>652</td>\n",
       "      <td>603</td>\n",
       "      <td>592</td>\n",
       "      <td>585</td>\n",
       "    </tr>\n",
       "    <tr>\n",
       "      <th>419</th>\n",
       "      <td>소계</td>\n",
       "      <td>교통범죄</td>\n",
       "      <td>소계</td>\n",
       "      <td>사행심</td>\n",
       "      <td>187</td>\n",
       "      <td>76</td>\n",
       "      <td>196</td>\n",
       "      <td>189</td>\n",
       "      <td>199</td>\n",
       "      <td>136</td>\n",
       "      <td>89</td>\n",
       "      <td>233</td>\n",
       "      <td>255</td>\n",
       "      <td>254</td>\n",
       "      <td>251</td>\n",
       "      <td>196</td>\n",
       "    </tr>\n",
       "    <tr>\n",
       "      <th>420</th>\n",
       "      <td>소계</td>\n",
       "      <td>교통범죄</td>\n",
       "      <td>소계</td>\n",
       "      <td>보복</td>\n",
       "      <td>4</td>\n",
       "      <td>3</td>\n",
       "      <td>12</td>\n",
       "      <td>0</td>\n",
       "      <td>3</td>\n",
       "      <td>3</td>\n",
       "      <td>2</td>\n",
       "      <td>2</td>\n",
       "      <td>2</td>\n",
       "      <td>1</td>\n",
       "      <td>2</td>\n",
       "      <td>1</td>\n",
       "    </tr>\n",
       "    <tr>\n",
       "      <th>421</th>\n",
       "      <td>소계</td>\n",
       "      <td>교통범죄</td>\n",
       "      <td>소계</td>\n",
       "      <td>가정불화</td>\n",
       "      <td>233</td>\n",
       "      <td>174</td>\n",
       "      <td>209</td>\n",
       "      <td>192</td>\n",
       "      <td>162</td>\n",
       "      <td>160</td>\n",
       "      <td>120</td>\n",
       "      <td>88</td>\n",
       "      <td>89</td>\n",
       "      <td>86</td>\n",
       "      <td>74</td>\n",
       "      <td>76</td>\n",
       "    </tr>\n",
       "    <tr>\n",
       "      <th>422</th>\n",
       "      <td>소계</td>\n",
       "      <td>교통범죄</td>\n",
       "      <td>소계</td>\n",
       "      <td>호기심</td>\n",
       "      <td>1490</td>\n",
       "      <td>1535</td>\n",
       "      <td>1587</td>\n",
       "      <td>1387</td>\n",
       "      <td>1338</td>\n",
       "      <td>1622</td>\n",
       "      <td>1712</td>\n",
       "      <td>606</td>\n",
       "      <td>701</td>\n",
       "      <td>1426</td>\n",
       "      <td>1691</td>\n",
       "      <td>1546</td>\n",
       "    </tr>\n",
       "    <tr>\n",
       "      <th>423</th>\n",
       "      <td>소계</td>\n",
       "      <td>교통범죄</td>\n",
       "      <td>소계</td>\n",
       "      <td>유혹</td>\n",
       "      <td>2082</td>\n",
       "      <td>1767</td>\n",
       "      <td>1293</td>\n",
       "      <td>876</td>\n",
       "      <td>1300</td>\n",
       "      <td>1350</td>\n",
       "      <td>1198</td>\n",
       "      <td>730</td>\n",
       "      <td>469</td>\n",
       "      <td>488</td>\n",
       "      <td>408</td>\n",
       "      <td>464</td>\n",
       "    </tr>\n",
       "    <tr>\n",
       "      <th>424</th>\n",
       "      <td>소계</td>\n",
       "      <td>교통범죄</td>\n",
       "      <td>소계</td>\n",
       "      <td>우발적</td>\n",
       "      <td>39267</td>\n",
       "      <td>33334</td>\n",
       "      <td>33785</td>\n",
       "      <td>30450</td>\n",
       "      <td>29908</td>\n",
       "      <td>28692</td>\n",
       "      <td>26044</td>\n",
       "      <td>25804</td>\n",
       "      <td>24602</td>\n",
       "      <td>25588</td>\n",
       "      <td>24994</td>\n",
       "      <td>28405</td>\n",
       "    </tr>\n",
       "    <tr>\n",
       "      <th>425</th>\n",
       "      <td>소계</td>\n",
       "      <td>교통범죄</td>\n",
       "      <td>소계</td>\n",
       "      <td>현실불만</td>\n",
       "      <td>167</td>\n",
       "      <td>139</td>\n",
       "      <td>308</td>\n",
       "      <td>347</td>\n",
       "      <td>236</td>\n",
       "      <td>299</td>\n",
       "      <td>102</td>\n",
       "      <td>108</td>\n",
       "      <td>70</td>\n",
       "      <td>78</td>\n",
       "      <td>127</td>\n",
       "      <td>103</td>\n",
       "    </tr>\n",
       "    <tr>\n",
       "      <th>426</th>\n",
       "      <td>소계</td>\n",
       "      <td>교통범죄</td>\n",
       "      <td>소계</td>\n",
       "      <td>부주의</td>\n",
       "      <td>187583</td>\n",
       "      <td>182010</td>\n",
       "      <td>186010</td>\n",
       "      <td>184435</td>\n",
       "      <td>186037</td>\n",
       "      <td>179206</td>\n",
       "      <td>160586</td>\n",
       "      <td>137464</td>\n",
       "      <td>124880</td>\n",
       "      <td>112601</td>\n",
       "      <td>102147</td>\n",
       "      <td>99616</td>\n",
       "    </tr>\n",
       "    <tr>\n",
       "      <th>427</th>\n",
       "      <td>소계</td>\n",
       "      <td>교통범죄</td>\n",
       "      <td>소계</td>\n",
       "      <td>기타</td>\n",
       "      <td>169746</td>\n",
       "      <td>165428</td>\n",
       "      <td>182156</td>\n",
       "      <td>174684</td>\n",
       "      <td>168770</td>\n",
       "      <td>174876</td>\n",
       "      <td>147899</td>\n",
       "      <td>109571</td>\n",
       "      <td>85838</td>\n",
       "      <td>79180</td>\n",
       "      <td>73290</td>\n",
       "      <td>76020</td>\n",
       "    </tr>\n",
       "    <tr>\n",
       "      <th>428</th>\n",
       "      <td>소계</td>\n",
       "      <td>교통범죄</td>\n",
       "      <td>소계</td>\n",
       "      <td>미상</td>\n",
       "      <td>115340</td>\n",
       "      <td>119776</td>\n",
       "      <td>125671</td>\n",
       "      <td>139251</td>\n",
       "      <td>160332</td>\n",
       "      <td>167806</td>\n",
       "      <td>145654</td>\n",
       "      <td>137549</td>\n",
       "      <td>146159</td>\n",
       "      <td>136141</td>\n",
       "      <td>107656</td>\n",
       "      <td>33204</td>\n",
       "    </tr>\n",
       "  </tbody>\n",
       "</table>\n",
       "</div>"
      ],
      "text/plain": [
       "      대     중   소  범행동기   2011년   2012년   2013년   2014년   2015년   2016년  \\\n",
       "418  소계  교통범죄  소계    이욕    8251    7834    5529    1315    1089    1202   \n",
       "419  소계  교통범죄  소계   사행심     187      76     196     189     199     136   \n",
       "420  소계  교통범죄  소계    보복       4       3      12       0       3       3   \n",
       "421  소계  교통범죄  소계  가정불화     233     174     209     192     162     160   \n",
       "422  소계  교통범죄  소계   호기심    1490    1535    1587    1387    1338    1622   \n",
       "423  소계  교통범죄  소계    유혹    2082    1767    1293     876    1300    1350   \n",
       "424  소계  교통범죄  소계   우발적   39267   33334   33785   30450   29908   28692   \n",
       "425  소계  교통범죄  소계  현실불만     167     139     308     347     236     299   \n",
       "426  소계  교통범죄  소계   부주의  187583  182010  186010  184435  186037  179206   \n",
       "427  소계  교통범죄  소계    기타  169746  165428  182156  174684  168770  174876   \n",
       "428  소계  교통범죄  소계    미상  115340  119776  125671  139251  160332  167806   \n",
       "\n",
       "      2017년   2018년   2019년   2020년   2021년  2022년  \n",
       "418    1146     992     652     603     592    585  \n",
       "419      89     233     255     254     251    196  \n",
       "420       2       2       2       1       2      1  \n",
       "421     120      88      89      86      74     76  \n",
       "422    1712     606     701    1426    1691   1546  \n",
       "423    1198     730     469     488     408    464  \n",
       "424   26044   25804   24602   25588   24994  28405  \n",
       "425     102     108      70      78     127    103  \n",
       "426  160586  137464  124880  112601  102147  99616  \n",
       "427  147899  109571   85838   79180   73290  76020  \n",
       "428  145654  137549  146159  136141  107656  33204  "
      ]
     },
     "execution_count": 24,
     "metadata": {},
     "output_type": "execute_result"
    }
   ],
   "source": [
    "vehicle_motive_df= crime_motive_df[crime_motive_df[\"중\"]==\"교통범죄\"]\n",
    "vehicle_motive_df"
   ]
  },
  {
   "cell_type": "code",
   "execution_count": 25,
   "metadata": {},
   "outputs": [
    {
     "name": "stderr",
     "output_type": "stream",
     "text": [
      "/tmp/ipykernel_19617/2353725930.py:2: SettingWithCopyWarning:\n",
      "\n",
      "\n",
      "A value is trying to be set on a copy of a slice from a DataFrame\n",
      "\n",
      "See the caveats in the documentation: https://pandas.pydata.org/pandas-docs/stable/user_guide/indexing.html#returning-a-view-versus-a-copy\n",
      "\n"
     ]
    },
    {
     "data": {
      "text/html": [
       "<div>\n",
       "<style scoped>\n",
       "    .dataframe tbody tr th:only-of-type {\n",
       "        vertical-align: middle;\n",
       "    }\n",
       "\n",
       "    .dataframe tbody tr th {\n",
       "        vertical-align: top;\n",
       "    }\n",
       "\n",
       "    .dataframe thead th {\n",
       "        text-align: right;\n",
       "    }\n",
       "</style>\n",
       "<table border=\"1\" class=\"dataframe\">\n",
       "  <thead>\n",
       "    <tr style=\"text-align: right;\">\n",
       "      <th>범행동기</th>\n",
       "      <th>이욕</th>\n",
       "      <th>사행심</th>\n",
       "      <th>보복</th>\n",
       "      <th>가정불화</th>\n",
       "      <th>호기심</th>\n",
       "      <th>유혹</th>\n",
       "      <th>우발적</th>\n",
       "      <th>현실불만</th>\n",
       "      <th>부주의</th>\n",
       "      <th>기타</th>\n",
       "      <th>미상</th>\n",
       "    </tr>\n",
       "  </thead>\n",
       "  <tbody>\n",
       "    <tr>\n",
       "      <th>2011년</th>\n",
       "      <td>8251</td>\n",
       "      <td>187</td>\n",
       "      <td>4</td>\n",
       "      <td>233</td>\n",
       "      <td>1490</td>\n",
       "      <td>2082</td>\n",
       "      <td>39267</td>\n",
       "      <td>167</td>\n",
       "      <td>187583</td>\n",
       "      <td>169746</td>\n",
       "      <td>115340</td>\n",
       "    </tr>\n",
       "    <tr>\n",
       "      <th>2012년</th>\n",
       "      <td>7834</td>\n",
       "      <td>76</td>\n",
       "      <td>3</td>\n",
       "      <td>174</td>\n",
       "      <td>1535</td>\n",
       "      <td>1767</td>\n",
       "      <td>33334</td>\n",
       "      <td>139</td>\n",
       "      <td>182010</td>\n",
       "      <td>165428</td>\n",
       "      <td>119776</td>\n",
       "    </tr>\n",
       "    <tr>\n",
       "      <th>2013년</th>\n",
       "      <td>5529</td>\n",
       "      <td>196</td>\n",
       "      <td>12</td>\n",
       "      <td>209</td>\n",
       "      <td>1587</td>\n",
       "      <td>1293</td>\n",
       "      <td>33785</td>\n",
       "      <td>308</td>\n",
       "      <td>186010</td>\n",
       "      <td>182156</td>\n",
       "      <td>125671</td>\n",
       "    </tr>\n",
       "    <tr>\n",
       "      <th>2014년</th>\n",
       "      <td>1315</td>\n",
       "      <td>189</td>\n",
       "      <td>0</td>\n",
       "      <td>192</td>\n",
       "      <td>1387</td>\n",
       "      <td>876</td>\n",
       "      <td>30450</td>\n",
       "      <td>347</td>\n",
       "      <td>184435</td>\n",
       "      <td>174684</td>\n",
       "      <td>139251</td>\n",
       "    </tr>\n",
       "    <tr>\n",
       "      <th>2015년</th>\n",
       "      <td>1089</td>\n",
       "      <td>199</td>\n",
       "      <td>3</td>\n",
       "      <td>162</td>\n",
       "      <td>1338</td>\n",
       "      <td>1300</td>\n",
       "      <td>29908</td>\n",
       "      <td>236</td>\n",
       "      <td>186037</td>\n",
       "      <td>168770</td>\n",
       "      <td>160332</td>\n",
       "    </tr>\n",
       "    <tr>\n",
       "      <th>2016년</th>\n",
       "      <td>1202</td>\n",
       "      <td>136</td>\n",
       "      <td>3</td>\n",
       "      <td>160</td>\n",
       "      <td>1622</td>\n",
       "      <td>1350</td>\n",
       "      <td>28692</td>\n",
       "      <td>299</td>\n",
       "      <td>179206</td>\n",
       "      <td>174876</td>\n",
       "      <td>167806</td>\n",
       "    </tr>\n",
       "    <tr>\n",
       "      <th>2017년</th>\n",
       "      <td>1146</td>\n",
       "      <td>89</td>\n",
       "      <td>2</td>\n",
       "      <td>120</td>\n",
       "      <td>1712</td>\n",
       "      <td>1198</td>\n",
       "      <td>26044</td>\n",
       "      <td>102</td>\n",
       "      <td>160586</td>\n",
       "      <td>147899</td>\n",
       "      <td>145654</td>\n",
       "    </tr>\n",
       "    <tr>\n",
       "      <th>2018년</th>\n",
       "      <td>992</td>\n",
       "      <td>233</td>\n",
       "      <td>2</td>\n",
       "      <td>88</td>\n",
       "      <td>606</td>\n",
       "      <td>730</td>\n",
       "      <td>25804</td>\n",
       "      <td>108</td>\n",
       "      <td>137464</td>\n",
       "      <td>109571</td>\n",
       "      <td>137549</td>\n",
       "    </tr>\n",
       "    <tr>\n",
       "      <th>2019년</th>\n",
       "      <td>652</td>\n",
       "      <td>255</td>\n",
       "      <td>2</td>\n",
       "      <td>89</td>\n",
       "      <td>701</td>\n",
       "      <td>469</td>\n",
       "      <td>24602</td>\n",
       "      <td>70</td>\n",
       "      <td>124880</td>\n",
       "      <td>85838</td>\n",
       "      <td>146159</td>\n",
       "    </tr>\n",
       "    <tr>\n",
       "      <th>2020년</th>\n",
       "      <td>603</td>\n",
       "      <td>254</td>\n",
       "      <td>1</td>\n",
       "      <td>86</td>\n",
       "      <td>1426</td>\n",
       "      <td>488</td>\n",
       "      <td>25588</td>\n",
       "      <td>78</td>\n",
       "      <td>112601</td>\n",
       "      <td>79180</td>\n",
       "      <td>136141</td>\n",
       "    </tr>\n",
       "    <tr>\n",
       "      <th>2021년</th>\n",
       "      <td>592</td>\n",
       "      <td>251</td>\n",
       "      <td>2</td>\n",
       "      <td>74</td>\n",
       "      <td>1691</td>\n",
       "      <td>408</td>\n",
       "      <td>24994</td>\n",
       "      <td>127</td>\n",
       "      <td>102147</td>\n",
       "      <td>73290</td>\n",
       "      <td>107656</td>\n",
       "    </tr>\n",
       "    <tr>\n",
       "      <th>2022년</th>\n",
       "      <td>585</td>\n",
       "      <td>196</td>\n",
       "      <td>1</td>\n",
       "      <td>76</td>\n",
       "      <td>1546</td>\n",
       "      <td>464</td>\n",
       "      <td>28405</td>\n",
       "      <td>103</td>\n",
       "      <td>99616</td>\n",
       "      <td>76020</td>\n",
       "      <td>33204</td>\n",
       "    </tr>\n",
       "  </tbody>\n",
       "</table>\n",
       "</div>"
      ],
      "text/plain": [
       "범행동기     이욕  사행심  보복  가정불화   호기심    유혹    우발적  현실불만     부주의      기타      미상\n",
       "2011년  8251  187   4   233  1490  2082  39267   167  187583  169746  115340\n",
       "2012년  7834   76   3   174  1535  1767  33334   139  182010  165428  119776\n",
       "2013년  5529  196  12   209  1587  1293  33785   308  186010  182156  125671\n",
       "2014년  1315  189   0   192  1387   876  30450   347  184435  174684  139251\n",
       "2015년  1089  199   3   162  1338  1300  29908   236  186037  168770  160332\n",
       "2016년  1202  136   3   160  1622  1350  28692   299  179206  174876  167806\n",
       "2017년  1146   89   2   120  1712  1198  26044   102  160586  147899  145654\n",
       "2018년   992  233   2    88   606   730  25804   108  137464  109571  137549\n",
       "2019년   652  255   2    89   701   469  24602    70  124880   85838  146159\n",
       "2020년   603  254   1    86  1426   488  25588    78  112601   79180  136141\n",
       "2021년   592  251   2    74  1691   408  24994   127  102147   73290  107656\n",
       "2022년   585  196   1    76  1546   464  28405   103   99616   76020   33204"
      ]
     },
     "execution_count": 25,
     "metadata": {},
     "output_type": "execute_result"
    }
   ],
   "source": [
    "vehicle_motive_df.set_index(\"범행동기\", inplace=True)\n",
    "vehicle_motive_df.drop([\"대\", \"중\", \"소\"], axis=1, inplace=True)\n",
    "vehicle_motive_df = vehicle_motive_df.transpose()\n",
    "vehicle_motive_df"
   ]
  },
  {
   "cell_type": "code",
   "execution_count": 28,
   "metadata": {},
   "outputs": [
    {
     "data": {
      "text/plain": [
       "2016년    1202\n",
       "2017년    1146\n",
       "2018년     992\n",
       "2019년     652\n",
       "2020년     603\n",
       "2021년     592\n",
       "2022년     585\n",
       "Name: 이욕, dtype: int64"
      ]
     },
     "execution_count": 28,
     "metadata": {},
     "output_type": "execute_result"
    }
   ],
   "source": [
    "vehicle_motive_df[\"이욕\"][5:]"
   ]
  },
  {
   "cell_type": "code",
   "execution_count": null,
   "metadata": {},
   "outputs": [
    {
     "data": {
      "application/vnd.plotly.v1+json": {
       "config": {
        "plotlyServerURL": "https://plot.ly"
       },
       "data": [
        {
         "mode": "lines+markers",
         "name": "이욕",
         "type": "scatter",
         "x": [
          "2016년",
          "2017년",
          "2018년",
          "2019년",
          "2020년",
          "2021년",
          "2022년"
         ],
         "y": [
          1202,
          1146,
          992,
          652,
          603,
          592,
          585
         ]
        },
        {
         "mode": "lines+markers",
         "name": "사행심",
         "type": "scatter",
         "x": [
          "2016년",
          "2017년",
          "2018년",
          "2019년",
          "2020년",
          "2021년",
          "2022년"
         ],
         "y": [
          136,
          89,
          233,
          255,
          254,
          251,
          196
         ]
        },
        {
         "mode": "lines+markers",
         "name": "보복",
         "type": "scatter",
         "x": [
          "2016년",
          "2017년",
          "2018년",
          "2019년",
          "2020년",
          "2021년",
          "2022년"
         ],
         "y": [
          3,
          2,
          2,
          2,
          1,
          2,
          1
         ]
        },
        {
         "mode": "lines+markers",
         "name": "가정불화",
         "type": "scatter",
         "x": [
          "2016년",
          "2017년",
          "2018년",
          "2019년",
          "2020년",
          "2021년",
          "2022년"
         ],
         "y": [
          160,
          120,
          88,
          89,
          86,
          74,
          76
         ]
        },
        {
         "mode": "lines+markers",
         "name": "호기심",
         "type": "scatter",
         "x": [
          "2016년",
          "2017년",
          "2018년",
          "2019년",
          "2020년",
          "2021년",
          "2022년"
         ],
         "y": [
          1622,
          1712,
          606,
          701,
          1426,
          1691,
          1546
         ]
        },
        {
         "mode": "lines+markers",
         "name": "유혹",
         "type": "scatter",
         "x": [
          "2016년",
          "2017년",
          "2018년",
          "2019년",
          "2020년",
          "2021년",
          "2022년"
         ],
         "y": [
          1350,
          1198,
          730,
          469,
          488,
          408,
          464
         ]
        },
        {
         "mode": "lines+markers",
         "name": "우발적",
         "type": "scatter",
         "x": [
          "2016년",
          "2017년",
          "2018년",
          "2019년",
          "2020년",
          "2021년",
          "2022년"
         ],
         "y": [
          28692,
          26044,
          25804,
          24602,
          25588,
          24994,
          28405
         ]
        },
        {
         "mode": "lines+markers",
         "name": "현실불만",
         "type": "scatter",
         "x": [
          "2016년",
          "2017년",
          "2018년",
          "2019년",
          "2020년",
          "2021년",
          "2022년"
         ],
         "y": [
          299,
          102,
          108,
          70,
          78,
          127,
          103
         ]
        },
        {
         "mode": "lines+markers",
         "name": "부주의",
         "type": "scatter",
         "x": [
          "2016년",
          "2017년",
          "2018년",
          "2019년",
          "2020년",
          "2021년",
          "2022년"
         ],
         "y": [
          179206,
          160586,
          137464,
          124880,
          112601,
          102147,
          99616
         ]
        },
        {
         "mode": "lines+markers",
         "name": "기타",
         "type": "scatter",
         "x": [
          "2016년",
          "2017년",
          "2018년",
          "2019년",
          "2020년",
          "2021년",
          "2022년"
         ],
         "y": [
          174876,
          147899,
          109571,
          85838,
          79180,
          73290,
          76020
         ]
        },
        {
         "mode": "lines+markers",
         "name": "미상",
         "type": "scatter",
         "x": [
          "2016년",
          "2017년",
          "2018년",
          "2019년",
          "2020년",
          "2021년",
          "2022년"
         ],
         "y": [
          167806,
          145654,
          137549,
          146159,
          136141,
          107656,
          33204
         ]
        }
       ],
       "layout": {
        "template": {
         "data": {
          "bar": [
           {
            "error_x": {
             "color": "#2a3f5f"
            },
            "error_y": {
             "color": "#2a3f5f"
            },
            "marker": {
             "line": {
              "color": "#E5ECF6",
              "width": 0.5
             },
             "pattern": {
              "fillmode": "overlay",
              "size": 10,
              "solidity": 0.2
             }
            },
            "type": "bar"
           }
          ],
          "barpolar": [
           {
            "marker": {
             "line": {
              "color": "#E5ECF6",
              "width": 0.5
             },
             "pattern": {
              "fillmode": "overlay",
              "size": 10,
              "solidity": 0.2
             }
            },
            "type": "barpolar"
           }
          ],
          "carpet": [
           {
            "aaxis": {
             "endlinecolor": "#2a3f5f",
             "gridcolor": "white",
             "linecolor": "white",
             "minorgridcolor": "white",
             "startlinecolor": "#2a3f5f"
            },
            "baxis": {
             "endlinecolor": "#2a3f5f",
             "gridcolor": "white",
             "linecolor": "white",
             "minorgridcolor": "white",
             "startlinecolor": "#2a3f5f"
            },
            "type": "carpet"
           }
          ],
          "choropleth": [
           {
            "colorbar": {
             "outlinewidth": 0,
             "ticks": ""
            },
            "type": "choropleth"
           }
          ],
          "contour": [
           {
            "colorbar": {
             "outlinewidth": 0,
             "ticks": ""
            },
            "colorscale": [
             [
              0,
              "#0d0887"
             ],
             [
              0.1111111111111111,
              "#46039f"
             ],
             [
              0.2222222222222222,
              "#7201a8"
             ],
             [
              0.3333333333333333,
              "#9c179e"
             ],
             [
              0.4444444444444444,
              "#bd3786"
             ],
             [
              0.5555555555555556,
              "#d8576b"
             ],
             [
              0.6666666666666666,
              "#ed7953"
             ],
             [
              0.7777777777777778,
              "#fb9f3a"
             ],
             [
              0.8888888888888888,
              "#fdca26"
             ],
             [
              1,
              "#f0f921"
             ]
            ],
            "type": "contour"
           }
          ],
          "contourcarpet": [
           {
            "colorbar": {
             "outlinewidth": 0,
             "ticks": ""
            },
            "type": "contourcarpet"
           }
          ],
          "heatmap": [
           {
            "colorbar": {
             "outlinewidth": 0,
             "ticks": ""
            },
            "colorscale": [
             [
              0,
              "#0d0887"
             ],
             [
              0.1111111111111111,
              "#46039f"
             ],
             [
              0.2222222222222222,
              "#7201a8"
             ],
             [
              0.3333333333333333,
              "#9c179e"
             ],
             [
              0.4444444444444444,
              "#bd3786"
             ],
             [
              0.5555555555555556,
              "#d8576b"
             ],
             [
              0.6666666666666666,
              "#ed7953"
             ],
             [
              0.7777777777777778,
              "#fb9f3a"
             ],
             [
              0.8888888888888888,
              "#fdca26"
             ],
             [
              1,
              "#f0f921"
             ]
            ],
            "type": "heatmap"
           }
          ],
          "heatmapgl": [
           {
            "colorbar": {
             "outlinewidth": 0,
             "ticks": ""
            },
            "colorscale": [
             [
              0,
              "#0d0887"
             ],
             [
              0.1111111111111111,
              "#46039f"
             ],
             [
              0.2222222222222222,
              "#7201a8"
             ],
             [
              0.3333333333333333,
              "#9c179e"
             ],
             [
              0.4444444444444444,
              "#bd3786"
             ],
             [
              0.5555555555555556,
              "#d8576b"
             ],
             [
              0.6666666666666666,
              "#ed7953"
             ],
             [
              0.7777777777777778,
              "#fb9f3a"
             ],
             [
              0.8888888888888888,
              "#fdca26"
             ],
             [
              1,
              "#f0f921"
             ]
            ],
            "type": "heatmapgl"
           }
          ],
          "histogram": [
           {
            "marker": {
             "pattern": {
              "fillmode": "overlay",
              "size": 10,
              "solidity": 0.2
             }
            },
            "type": "histogram"
           }
          ],
          "histogram2d": [
           {
            "colorbar": {
             "outlinewidth": 0,
             "ticks": ""
            },
            "colorscale": [
             [
              0,
              "#0d0887"
             ],
             [
              0.1111111111111111,
              "#46039f"
             ],
             [
              0.2222222222222222,
              "#7201a8"
             ],
             [
              0.3333333333333333,
              "#9c179e"
             ],
             [
              0.4444444444444444,
              "#bd3786"
             ],
             [
              0.5555555555555556,
              "#d8576b"
             ],
             [
              0.6666666666666666,
              "#ed7953"
             ],
             [
              0.7777777777777778,
              "#fb9f3a"
             ],
             [
              0.8888888888888888,
              "#fdca26"
             ],
             [
              1,
              "#f0f921"
             ]
            ],
            "type": "histogram2d"
           }
          ],
          "histogram2dcontour": [
           {
            "colorbar": {
             "outlinewidth": 0,
             "ticks": ""
            },
            "colorscale": [
             [
              0,
              "#0d0887"
             ],
             [
              0.1111111111111111,
              "#46039f"
             ],
             [
              0.2222222222222222,
              "#7201a8"
             ],
             [
              0.3333333333333333,
              "#9c179e"
             ],
             [
              0.4444444444444444,
              "#bd3786"
             ],
             [
              0.5555555555555556,
              "#d8576b"
             ],
             [
              0.6666666666666666,
              "#ed7953"
             ],
             [
              0.7777777777777778,
              "#fb9f3a"
             ],
             [
              0.8888888888888888,
              "#fdca26"
             ],
             [
              1,
              "#f0f921"
             ]
            ],
            "type": "histogram2dcontour"
           }
          ],
          "mesh3d": [
           {
            "colorbar": {
             "outlinewidth": 0,
             "ticks": ""
            },
            "type": "mesh3d"
           }
          ],
          "parcoords": [
           {
            "line": {
             "colorbar": {
              "outlinewidth": 0,
              "ticks": ""
             }
            },
            "type": "parcoords"
           }
          ],
          "pie": [
           {
            "automargin": true,
            "type": "pie"
           }
          ],
          "scatter": [
           {
            "fillpattern": {
             "fillmode": "overlay",
             "size": 10,
             "solidity": 0.2
            },
            "type": "scatter"
           }
          ],
          "scatter3d": [
           {
            "line": {
             "colorbar": {
              "outlinewidth": 0,
              "ticks": ""
             }
            },
            "marker": {
             "colorbar": {
              "outlinewidth": 0,
              "ticks": ""
             }
            },
            "type": "scatter3d"
           }
          ],
          "scattercarpet": [
           {
            "marker": {
             "colorbar": {
              "outlinewidth": 0,
              "ticks": ""
             }
            },
            "type": "scattercarpet"
           }
          ],
          "scattergeo": [
           {
            "marker": {
             "colorbar": {
              "outlinewidth": 0,
              "ticks": ""
             }
            },
            "type": "scattergeo"
           }
          ],
          "scattergl": [
           {
            "marker": {
             "colorbar": {
              "outlinewidth": 0,
              "ticks": ""
             }
            },
            "type": "scattergl"
           }
          ],
          "scattermapbox": [
           {
            "marker": {
             "colorbar": {
              "outlinewidth": 0,
              "ticks": ""
             }
            },
            "type": "scattermapbox"
           }
          ],
          "scatterpolar": [
           {
            "marker": {
             "colorbar": {
              "outlinewidth": 0,
              "ticks": ""
             }
            },
            "type": "scatterpolar"
           }
          ],
          "scatterpolargl": [
           {
            "marker": {
             "colorbar": {
              "outlinewidth": 0,
              "ticks": ""
             }
            },
            "type": "scatterpolargl"
           }
          ],
          "scatterternary": [
           {
            "marker": {
             "colorbar": {
              "outlinewidth": 0,
              "ticks": ""
             }
            },
            "type": "scatterternary"
           }
          ],
          "surface": [
           {
            "colorbar": {
             "outlinewidth": 0,
             "ticks": ""
            },
            "colorscale": [
             [
              0,
              "#0d0887"
             ],
             [
              0.1111111111111111,
              "#46039f"
             ],
             [
              0.2222222222222222,
              "#7201a8"
             ],
             [
              0.3333333333333333,
              "#9c179e"
             ],
             [
              0.4444444444444444,
              "#bd3786"
             ],
             [
              0.5555555555555556,
              "#d8576b"
             ],
             [
              0.6666666666666666,
              "#ed7953"
             ],
             [
              0.7777777777777778,
              "#fb9f3a"
             ],
             [
              0.8888888888888888,
              "#fdca26"
             ],
             [
              1,
              "#f0f921"
             ]
            ],
            "type": "surface"
           }
          ],
          "table": [
           {
            "cells": {
             "fill": {
              "color": "#EBF0F8"
             },
             "line": {
              "color": "white"
             }
            },
            "header": {
             "fill": {
              "color": "#C8D4E3"
             },
             "line": {
              "color": "white"
             }
            },
            "type": "table"
           }
          ]
         },
         "layout": {
          "annotationdefaults": {
           "arrowcolor": "#2a3f5f",
           "arrowhead": 0,
           "arrowwidth": 1
          },
          "autotypenumbers": "strict",
          "coloraxis": {
           "colorbar": {
            "outlinewidth": 0,
            "ticks": ""
           }
          },
          "colorscale": {
           "diverging": [
            [
             0,
             "#8e0152"
            ],
            [
             0.1,
             "#c51b7d"
            ],
            [
             0.2,
             "#de77ae"
            ],
            [
             0.3,
             "#f1b6da"
            ],
            [
             0.4,
             "#fde0ef"
            ],
            [
             0.5,
             "#f7f7f7"
            ],
            [
             0.6,
             "#e6f5d0"
            ],
            [
             0.7,
             "#b8e186"
            ],
            [
             0.8,
             "#7fbc41"
            ],
            [
             0.9,
             "#4d9221"
            ],
            [
             1,
             "#276419"
            ]
           ],
           "sequential": [
            [
             0,
             "#0d0887"
            ],
            [
             0.1111111111111111,
             "#46039f"
            ],
            [
             0.2222222222222222,
             "#7201a8"
            ],
            [
             0.3333333333333333,
             "#9c179e"
            ],
            [
             0.4444444444444444,
             "#bd3786"
            ],
            [
             0.5555555555555556,
             "#d8576b"
            ],
            [
             0.6666666666666666,
             "#ed7953"
            ],
            [
             0.7777777777777778,
             "#fb9f3a"
            ],
            [
             0.8888888888888888,
             "#fdca26"
            ],
            [
             1,
             "#f0f921"
            ]
           ],
           "sequentialminus": [
            [
             0,
             "#0d0887"
            ],
            [
             0.1111111111111111,
             "#46039f"
            ],
            [
             0.2222222222222222,
             "#7201a8"
            ],
            [
             0.3333333333333333,
             "#9c179e"
            ],
            [
             0.4444444444444444,
             "#bd3786"
            ],
            [
             0.5555555555555556,
             "#d8576b"
            ],
            [
             0.6666666666666666,
             "#ed7953"
            ],
            [
             0.7777777777777778,
             "#fb9f3a"
            ],
            [
             0.8888888888888888,
             "#fdca26"
            ],
            [
             1,
             "#f0f921"
            ]
           ]
          },
          "colorway": [
           "#636efa",
           "#EF553B",
           "#00cc96",
           "#ab63fa",
           "#FFA15A",
           "#19d3f3",
           "#FF6692",
           "#B6E880",
           "#FF97FF",
           "#FECB52"
          ],
          "font": {
           "color": "#2a3f5f"
          },
          "geo": {
           "bgcolor": "white",
           "lakecolor": "white",
           "landcolor": "#E5ECF6",
           "showlakes": true,
           "showland": true,
           "subunitcolor": "white"
          },
          "hoverlabel": {
           "align": "left"
          },
          "hovermode": "closest",
          "mapbox": {
           "style": "light"
          },
          "paper_bgcolor": "white",
          "plot_bgcolor": "#E5ECF6",
          "polar": {
           "angularaxis": {
            "gridcolor": "white",
            "linecolor": "white",
            "ticks": ""
           },
           "bgcolor": "#E5ECF6",
           "radialaxis": {
            "gridcolor": "white",
            "linecolor": "white",
            "ticks": ""
           }
          },
          "scene": {
           "xaxis": {
            "backgroundcolor": "#E5ECF6",
            "gridcolor": "white",
            "gridwidth": 2,
            "linecolor": "white",
            "showbackground": true,
            "ticks": "",
            "zerolinecolor": "white"
           },
           "yaxis": {
            "backgroundcolor": "#E5ECF6",
            "gridcolor": "white",
            "gridwidth": 2,
            "linecolor": "white",
            "showbackground": true,
            "ticks": "",
            "zerolinecolor": "white"
           },
           "zaxis": {
            "backgroundcolor": "#E5ECF6",
            "gridcolor": "white",
            "gridwidth": 2,
            "linecolor": "white",
            "showbackground": true,
            "ticks": "",
            "zerolinecolor": "white"
           }
          },
          "shapedefaults": {
           "line": {
            "color": "#2a3f5f"
           }
          },
          "ternary": {
           "aaxis": {
            "gridcolor": "white",
            "linecolor": "white",
            "ticks": ""
           },
           "baxis": {
            "gridcolor": "white",
            "linecolor": "white",
            "ticks": ""
           },
           "bgcolor": "#E5ECF6",
           "caxis": {
            "gridcolor": "white",
            "linecolor": "white",
            "ticks": ""
           }
          },
          "title": {
           "x": 0.05
          },
          "xaxis": {
           "automargin": true,
           "gridcolor": "white",
           "linecolor": "white",
           "ticks": "",
           "title": {
            "standoff": 15
           },
           "zerolinecolor": "white",
           "zerolinewidth": 2
          },
          "yaxis": {
           "automargin": true,
           "gridcolor": "white",
           "linecolor": "white",
           "ticks": "",
           "title": {
            "standoff": 15
           },
           "zerolinecolor": "white",
           "zerolinewidth": 2
          }
         }
        },
        "title": {
         "font": {
          "size": 22
         },
         "text": "2016년도 이후 따른 범죄동기 별 절도범죄 발생 건 수",
         "x": 0.5
        },
        "xaxis": {
         "tickangle": -45,
         "title": {
          "text": "년도"
         }
        },
        "yaxis": {
         "title": {
          "text": "발생 건수"
         }
        }
       }
      }
     },
     "metadata": {},
     "output_type": "display_data"
    }
   ],
   "source": [
    "fig = go.Figure()\n",
    "\n",
    "fig.update_layout(title_text=\"2016년도 이후 따른 범죄동기 별 교통범죄 발생 건 수\", xaxis_tickangle=-45, title_x = 0.5, title_font_size=22 )\n",
    "fig.update_xaxes(title_text=\"년도\")\n",
    "fig.update_yaxes(title_text=\"발생 건수\")\n",
    "fig.add_trace(go.Scatter(x=vehicle_motive_df.index[5:], y=vehicle_motive_df[\"이욕\"][5:], name='이욕', mode='lines+markers'))\n",
    "fig.add_trace(go.Scatter(x=vehicle_motive_df.index[5:], y=vehicle_motive_df[\"사행심\"][5:], name='사행심',mode='lines+markers'))\n",
    "fig.add_trace(go.Scatter(x=vehicle_motive_df.index[5:], y=vehicle_motive_df[\"보복\"][5:], name='보복', mode='lines+markers'))\n",
    "fig.add_trace(go.Scatter(x=vehicle_motive_df.index[5:], y=vehicle_motive_df[\"가정불화\"][5:], name='가정불화', mode='lines+markers'))\n",
    "fig.add_trace(go.Scatter(x=vehicle_motive_df.index[5:], y=vehicle_motive_df[\"호기심\"][5:], name='호기심', mode='lines+markers'))\n",
    "fig.add_trace(go.Scatter(x=vehicle_motive_df.index[5:], y=vehicle_motive_df[\"유혹\"][5:], name='유혹',mode='lines+markers'))\n",
    "fig.add_trace(go.Scatter(x=vehicle_motive_df.index[5:], y=vehicle_motive_df[\"우발적\"][5:], name='우발적', mode='lines+markers'))\n",
    "fig.add_trace(go.Scatter(x=vehicle_motive_df.index[5:], y=vehicle_motive_df[\"현실불만\"][5:], name='현실불만', mode='lines+markers'))\n",
    "fig.add_trace(go.Scatter(x=vehicle_motive_df.index[5:], y=vehicle_motive_df[\"부주의\"][5:], name='부주의',mode='lines+markers'))\n",
    "fig.add_trace(go.Scatter(x=vehicle_motive_df.index[5:], y=vehicle_motive_df[\"기타\"][5:], name='기타', mode='lines+markers'))\n",
    "fig.add_trace(go.Scatter(x=vehicle_motive_df.index[5:], y=vehicle_motive_df[\"미상\"][5:], name='미상', mode='lines+markers'))\n",
    "\n",
    "fig.show()"
   ]
  },
  {
   "cell_type": "code",
   "execution_count": 8,
   "metadata": {},
   "outputs": [
    {
     "data": {
      "text/html": [
       "<div>\n",
       "<style scoped>\n",
       "    .dataframe tbody tr th:only-of-type {\n",
       "        vertical-align: middle;\n",
       "    }\n",
       "\n",
       "    .dataframe tbody tr th {\n",
       "        vertical-align: top;\n",
       "    }\n",
       "\n",
       "    .dataframe thead th {\n",
       "        text-align: right;\n",
       "    }\n",
       "</style>\n",
       "<table border=\"1\" class=\"dataframe\">\n",
       "  <thead>\n",
       "    <tr style=\"text-align: right;\">\n",
       "      <th></th>\n",
       "      <th>대</th>\n",
       "      <th>중</th>\n",
       "      <th>소</th>\n",
       "      <th>발생시간</th>\n",
       "      <th>2011년</th>\n",
       "      <th>2012년</th>\n",
       "      <th>2013년</th>\n",
       "      <th>2014년</th>\n",
       "      <th>2015년</th>\n",
       "      <th>2016년</th>\n",
       "      <th>2017년</th>\n",
       "      <th>2018년</th>\n",
       "      <th>2019년</th>\n",
       "      <th>2020년</th>\n",
       "      <th>2021년</th>\n",
       "      <th>2022년</th>\n",
       "    </tr>\n",
       "  </thead>\n",
       "  <tbody>\n",
       "    <tr>\n",
       "      <th>0</th>\n",
       "      <td>총범죄</td>\n",
       "      <td>계</td>\n",
       "      <td>소계</td>\n",
       "      <td>00:00~02:59</td>\n",
       "      <td>175531</td>\n",
       "      <td>130371</td>\n",
       "      <td>127974</td>\n",
       "      <td>124068</td>\n",
       "      <td>124560</td>\n",
       "      <td>121805</td>\n",
       "      <td>111172</td>\n",
       "      <td>99089</td>\n",
       "      <td>94095</td>\n",
       "      <td>86398</td>\n",
       "      <td>57763</td>\n",
       "      <td>71808</td>\n",
       "    </tr>\n",
       "    <tr>\n",
       "      <th>1</th>\n",
       "      <td>총범죄</td>\n",
       "      <td>계</td>\n",
       "      <td>소계</td>\n",
       "      <td>03:00~05:59</td>\n",
       "      <td>101392</td>\n",
       "      <td>106086</td>\n",
       "      <td>109583</td>\n",
       "      <td>101193</td>\n",
       "      <td>104919</td>\n",
       "      <td>107865</td>\n",
       "      <td>98922</td>\n",
       "      <td>89509</td>\n",
       "      <td>86471</td>\n",
       "      <td>81043</td>\n",
       "      <td>50928</td>\n",
       "      <td>65179</td>\n",
       "    </tr>\n",
       "    <tr>\n",
       "      <th>2</th>\n",
       "      <td>총범죄</td>\n",
       "      <td>계</td>\n",
       "      <td>소계</td>\n",
       "      <td>06:00~08:59</td>\n",
       "      <td>88871</td>\n",
       "      <td>94612</td>\n",
       "      <td>95392</td>\n",
       "      <td>93165</td>\n",
       "      <td>102344</td>\n",
       "      <td>108645</td>\n",
       "      <td>97823</td>\n",
       "      <td>87417</td>\n",
       "      <td>88488</td>\n",
       "      <td>81052</td>\n",
       "      <td>68799</td>\n",
       "      <td>69113</td>\n",
       "    </tr>\n",
       "    <tr>\n",
       "      <th>3</th>\n",
       "      <td>총범죄</td>\n",
       "      <td>계</td>\n",
       "      <td>소계</td>\n",
       "      <td>09:00~11:59</td>\n",
       "      <td>178310</td>\n",
       "      <td>191682</td>\n",
       "      <td>211569</td>\n",
       "      <td>198855</td>\n",
       "      <td>210771</td>\n",
       "      <td>227039</td>\n",
       "      <td>202798</td>\n",
       "      <td>179038</td>\n",
       "      <td>183235</td>\n",
       "      <td>174325</td>\n",
       "      <td>147157</td>\n",
       "      <td>135849</td>\n",
       "    </tr>\n",
       "    <tr>\n",
       "      <th>4</th>\n",
       "      <td>총범죄</td>\n",
       "      <td>계</td>\n",
       "      <td>소계</td>\n",
       "      <td>12:00~14:59</td>\n",
       "      <td>99469</td>\n",
       "      <td>156610</td>\n",
       "      <td>162572</td>\n",
       "      <td>159772</td>\n",
       "      <td>173791</td>\n",
       "      <td>181967</td>\n",
       "      <td>166767</td>\n",
       "      <td>157707</td>\n",
       "      <td>169090</td>\n",
       "      <td>172610</td>\n",
       "      <td>164739</td>\n",
       "      <td>159299</td>\n",
       "    </tr>\n",
       "  </tbody>\n",
       "</table>\n",
       "</div>"
      ],
      "text/plain": [
       "     대  중   소         발생시간   2011년   2012년   2013년   2014년   2015년   2016년  \\\n",
       "0  총범죄  계  소계  00:00~02:59  175531  130371  127974  124068  124560  121805   \n",
       "1  총범죄  계  소계  03:00~05:59  101392  106086  109583  101193  104919  107865   \n",
       "2  총범죄  계  소계  06:00~08:59   88871   94612   95392   93165  102344  108645   \n",
       "3  총범죄  계  소계  09:00~11:59  178310  191682  211569  198855  210771  227039   \n",
       "4  총범죄  계  소계  12:00~14:59   99469  156610  162572  159772  173791  181967   \n",
       "\n",
       "    2017년   2018년   2019년   2020년   2021년   2022년  \n",
       "0  111172   99089   94095   86398   57763   71808  \n",
       "1   98922   89509   86471   81043   50928   65179  \n",
       "2   97823   87417   88488   81052   68799   69113  \n",
       "3  202798  179038  183235  174325  147157  135849  \n",
       "4  166767  157707  169090  172610  164739  159299  "
      ]
     },
     "execution_count": 8,
     "metadata": {},
     "output_type": "execute_result"
    }
   ],
   "source": [
    "crime.execute(\"SELECT * FROM crime_time_after\")\n",
    "result = crime.fetchall()\n",
    "\n",
    "crime_time_df = pd.DataFrame(result)\n",
    "crime_time_df.head()"
   ]
  },
  {
   "cell_type": "code",
   "execution_count": 81,
   "metadata": {},
   "outputs": [
    {
     "data": {
      "text/html": [
       "<div>\n",
       "<style scoped>\n",
       "    .dataframe tbody tr th:only-of-type {\n",
       "        vertical-align: middle;\n",
       "    }\n",
       "\n",
       "    .dataframe tbody tr th {\n",
       "        vertical-align: top;\n",
       "    }\n",
       "\n",
       "    .dataframe thead th {\n",
       "        text-align: right;\n",
       "    }\n",
       "</style>\n",
       "<table border=\"1\" class=\"dataframe\">\n",
       "  <thead>\n",
       "    <tr style=\"text-align: right;\">\n",
       "      <th></th>\n",
       "      <th>대</th>\n",
       "      <th>중</th>\n",
       "      <th>소</th>\n",
       "      <th>발생시간</th>\n",
       "      <th>2011년</th>\n",
       "      <th>2012년</th>\n",
       "      <th>2013년</th>\n",
       "      <th>2014년</th>\n",
       "      <th>2015년</th>\n",
       "      <th>2016년</th>\n",
       "      <th>2017년</th>\n",
       "      <th>2018년</th>\n",
       "      <th>2019년</th>\n",
       "      <th>2020년</th>\n",
       "      <th>2021년</th>\n",
       "      <th>2022년</th>\n",
       "    </tr>\n",
       "  </thead>\n",
       "  <tbody>\n",
       "    <tr>\n",
       "      <th>99</th>\n",
       "      <td>총범죄</td>\n",
       "      <td>절도범죄</td>\n",
       "      <td>소계</td>\n",
       "      <td>00:00~02:59</td>\n",
       "      <td>33013</td>\n",
       "      <td>23761</td>\n",
       "      <td>23674</td>\n",
       "      <td>21567</td>\n",
       "      <td>19591</td>\n",
       "      <td>15516</td>\n",
       "      <td>13734</td>\n",
       "      <td>12581</td>\n",
       "      <td>13088</td>\n",
       "      <td>11778</td>\n",
       "      <td>9358</td>\n",
       "      <td>10252</td>\n",
       "    </tr>\n",
       "    <tr>\n",
       "      <th>100</th>\n",
       "      <td>총범죄</td>\n",
       "      <td>절도범죄</td>\n",
       "      <td>소계</td>\n",
       "      <td>03:00~05:59</td>\n",
       "      <td>20502</td>\n",
       "      <td>23392</td>\n",
       "      <td>24309</td>\n",
       "      <td>21195</td>\n",
       "      <td>19544</td>\n",
       "      <td>15827</td>\n",
       "      <td>14362</td>\n",
       "      <td>13717</td>\n",
       "      <td>14167</td>\n",
       "      <td>13661</td>\n",
       "      <td>10610</td>\n",
       "      <td>11681</td>\n",
       "    </tr>\n",
       "    <tr>\n",
       "      <th>101</th>\n",
       "      <td>총범죄</td>\n",
       "      <td>절도범죄</td>\n",
       "      <td>소계</td>\n",
       "      <td>06:00~08:59</td>\n",
       "      <td>19069</td>\n",
       "      <td>20292</td>\n",
       "      <td>19715</td>\n",
       "      <td>17918</td>\n",
       "      <td>16573</td>\n",
       "      <td>13871</td>\n",
       "      <td>12491</td>\n",
       "      <td>12473</td>\n",
       "      <td>13094</td>\n",
       "      <td>12380</td>\n",
       "      <td>12020</td>\n",
       "      <td>13489</td>\n",
       "    </tr>\n",
       "    <tr>\n",
       "      <th>102</th>\n",
       "      <td>총범죄</td>\n",
       "      <td>절도범죄</td>\n",
       "      <td>소계</td>\n",
       "      <td>09:00~11:59</td>\n",
       "      <td>31812</td>\n",
       "      <td>31732</td>\n",
       "      <td>31528</td>\n",
       "      <td>29081</td>\n",
       "      <td>26273</td>\n",
       "      <td>22842</td>\n",
       "      <td>21376</td>\n",
       "      <td>20412</td>\n",
       "      <td>21501</td>\n",
       "      <td>21210</td>\n",
       "      <td>21357</td>\n",
       "      <td>23397</td>\n",
       "    </tr>\n",
       "    <tr>\n",
       "      <th>103</th>\n",
       "      <td>총범죄</td>\n",
       "      <td>절도범죄</td>\n",
       "      <td>소계</td>\n",
       "      <td>12:00~14:59</td>\n",
       "      <td>20846</td>\n",
       "      <td>32648</td>\n",
       "      <td>33167</td>\n",
       "      <td>30903</td>\n",
       "      <td>29383</td>\n",
       "      <td>26339</td>\n",
       "      <td>24533</td>\n",
       "      <td>24515</td>\n",
       "      <td>27167</td>\n",
       "      <td>26695</td>\n",
       "      <td>26178</td>\n",
       "      <td>28486</td>\n",
       "    </tr>\n",
       "    <tr>\n",
       "      <th>104</th>\n",
       "      <td>총범죄</td>\n",
       "      <td>절도범죄</td>\n",
       "      <td>소계</td>\n",
       "      <td>15:00~17:59</td>\n",
       "      <td>34307</td>\n",
       "      <td>36720</td>\n",
       "      <td>36569</td>\n",
       "      <td>34679</td>\n",
       "      <td>32602</td>\n",
       "      <td>28529</td>\n",
       "      <td>26865</td>\n",
       "      <td>26631</td>\n",
       "      <td>28553</td>\n",
       "      <td>28619</td>\n",
       "      <td>27544</td>\n",
       "      <td>30883</td>\n",
       "    </tr>\n",
       "    <tr>\n",
       "      <th>105</th>\n",
       "      <td>총범죄</td>\n",
       "      <td>절도범죄</td>\n",
       "      <td>소계</td>\n",
       "      <td>18:00~20:59</td>\n",
       "      <td>44176</td>\n",
       "      <td>45653</td>\n",
       "      <td>44081</td>\n",
       "      <td>40322</td>\n",
       "      <td>35746</td>\n",
       "      <td>29447</td>\n",
       "      <td>26609</td>\n",
       "      <td>25655</td>\n",
       "      <td>27229</td>\n",
       "      <td>25781</td>\n",
       "      <td>24162</td>\n",
       "      <td>26343</td>\n",
       "    </tr>\n",
       "    <tr>\n",
       "      <th>106</th>\n",
       "      <td>총범죄</td>\n",
       "      <td>절도범죄</td>\n",
       "      <td>소계</td>\n",
       "      <td>21:00~23:59</td>\n",
       "      <td>38819</td>\n",
       "      <td>39745</td>\n",
       "      <td>37964</td>\n",
       "      <td>35015</td>\n",
       "      <td>30550</td>\n",
       "      <td>25121</td>\n",
       "      <td>22137</td>\n",
       "      <td>19962</td>\n",
       "      <td>20568</td>\n",
       "      <td>19245</td>\n",
       "      <td>17908</td>\n",
       "      <td>18882</td>\n",
       "    </tr>\n",
       "    <tr>\n",
       "      <th>107</th>\n",
       "      <td>총범죄</td>\n",
       "      <td>절도범죄</td>\n",
       "      <td>소계</td>\n",
       "      <td>미상</td>\n",
       "      <td>38818</td>\n",
       "      <td>36517</td>\n",
       "      <td>37336</td>\n",
       "      <td>35542</td>\n",
       "      <td>35591</td>\n",
       "      <td>25545</td>\n",
       "      <td>21650</td>\n",
       "      <td>20863</td>\n",
       "      <td>21590</td>\n",
       "      <td>20148</td>\n",
       "      <td>17272</td>\n",
       "      <td>18857</td>\n",
       "    </tr>\n",
       "  </tbody>\n",
       "</table>\n",
       "</div>"
      ],
      "text/plain": [
       "       대     중   소         발생시간  2011년  2012년  2013년  2014년  2015년  2016년  \\\n",
       "99   총범죄  절도범죄  소계  00:00~02:59  33013  23761  23674  21567  19591  15516   \n",
       "100  총범죄  절도범죄  소계  03:00~05:59  20502  23392  24309  21195  19544  15827   \n",
       "101  총범죄  절도범죄  소계  06:00~08:59  19069  20292  19715  17918  16573  13871   \n",
       "102  총범죄  절도범죄  소계  09:00~11:59  31812  31732  31528  29081  26273  22842   \n",
       "103  총범죄  절도범죄  소계  12:00~14:59  20846  32648  33167  30903  29383  26339   \n",
       "104  총범죄  절도범죄  소계  15:00~17:59  34307  36720  36569  34679  32602  28529   \n",
       "105  총범죄  절도범죄  소계  18:00~20:59  44176  45653  44081  40322  35746  29447   \n",
       "106  총범죄  절도범죄  소계  21:00~23:59  38819  39745  37964  35015  30550  25121   \n",
       "107  총범죄  절도범죄  소계           미상  38818  36517  37336  35542  35591  25545   \n",
       "\n",
       "     2017년  2018년  2019년  2020년  2021년  2022년  \n",
       "99   13734  12581  13088  11778   9358  10252  \n",
       "100  14362  13717  14167  13661  10610  11681  \n",
       "101  12491  12473  13094  12380  12020  13489  \n",
       "102  21376  20412  21501  21210  21357  23397  \n",
       "103  24533  24515  27167  26695  26178  28486  \n",
       "104  26865  26631  28553  28619  27544  30883  \n",
       "105  26609  25655  27229  25781  24162  26343  \n",
       "106  22137  19962  20568  19245  17908  18882  \n",
       "107  21650  20863  21590  20148  17272  18857  "
      ]
     },
     "execution_count": 81,
     "metadata": {},
     "output_type": "execute_result"
    }
   ],
   "source": [
    "theft_time_df = crime_time_df[crime_time_df[\"중\"] == \"절도범죄\"]\n",
    "theft_time_df"
   ]
  },
  {
   "cell_type": "code",
   "execution_count": 82,
   "metadata": {},
   "outputs": [],
   "source": [
    "theft_time_df = theft_time_df.melt(id_vars=[\"대\",\"중\",\"소\",\"발생시간\"], var_name=\"년도\", value_name=\"발생건수\")"
   ]
  },
  {
   "cell_type": "code",
   "execution_count": 83,
   "metadata": {},
   "outputs": [
    {
     "data": {
      "text/html": [
       "<div>\n",
       "<style scoped>\n",
       "    .dataframe tbody tr th:only-of-type {\n",
       "        vertical-align: middle;\n",
       "    }\n",
       "\n",
       "    .dataframe tbody tr th {\n",
       "        vertical-align: top;\n",
       "    }\n",
       "\n",
       "    .dataframe thead th {\n",
       "        text-align: right;\n",
       "    }\n",
       "</style>\n",
       "<table border=\"1\" class=\"dataframe\">\n",
       "  <thead>\n",
       "    <tr style=\"text-align: right;\">\n",
       "      <th></th>\n",
       "      <th>대</th>\n",
       "      <th>중</th>\n",
       "      <th>소</th>\n",
       "      <th>발생시간</th>\n",
       "      <th>년도</th>\n",
       "      <th>발생건수</th>\n",
       "    </tr>\n",
       "  </thead>\n",
       "  <tbody>\n",
       "    <tr>\n",
       "      <th>0</th>\n",
       "      <td>총범죄</td>\n",
       "      <td>절도범죄</td>\n",
       "      <td>소계</td>\n",
       "      <td>00:00~02:59</td>\n",
       "      <td>2011년</td>\n",
       "      <td>33013</td>\n",
       "    </tr>\n",
       "    <tr>\n",
       "      <th>1</th>\n",
       "      <td>총범죄</td>\n",
       "      <td>절도범죄</td>\n",
       "      <td>소계</td>\n",
       "      <td>03:00~05:59</td>\n",
       "      <td>2011년</td>\n",
       "      <td>20502</td>\n",
       "    </tr>\n",
       "    <tr>\n",
       "      <th>2</th>\n",
       "      <td>총범죄</td>\n",
       "      <td>절도범죄</td>\n",
       "      <td>소계</td>\n",
       "      <td>06:00~08:59</td>\n",
       "      <td>2011년</td>\n",
       "      <td>19069</td>\n",
       "    </tr>\n",
       "    <tr>\n",
       "      <th>3</th>\n",
       "      <td>총범죄</td>\n",
       "      <td>절도범죄</td>\n",
       "      <td>소계</td>\n",
       "      <td>09:00~11:59</td>\n",
       "      <td>2011년</td>\n",
       "      <td>31812</td>\n",
       "    </tr>\n",
       "    <tr>\n",
       "      <th>4</th>\n",
       "      <td>총범죄</td>\n",
       "      <td>절도범죄</td>\n",
       "      <td>소계</td>\n",
       "      <td>12:00~14:59</td>\n",
       "      <td>2011년</td>\n",
       "      <td>20846</td>\n",
       "    </tr>\n",
       "    <tr>\n",
       "      <th>...</th>\n",
       "      <td>...</td>\n",
       "      <td>...</td>\n",
       "      <td>...</td>\n",
       "      <td>...</td>\n",
       "      <td>...</td>\n",
       "      <td>...</td>\n",
       "    </tr>\n",
       "    <tr>\n",
       "      <th>103</th>\n",
       "      <td>총범죄</td>\n",
       "      <td>절도범죄</td>\n",
       "      <td>소계</td>\n",
       "      <td>12:00~14:59</td>\n",
       "      <td>2022년</td>\n",
       "      <td>28486</td>\n",
       "    </tr>\n",
       "    <tr>\n",
       "      <th>104</th>\n",
       "      <td>총범죄</td>\n",
       "      <td>절도범죄</td>\n",
       "      <td>소계</td>\n",
       "      <td>15:00~17:59</td>\n",
       "      <td>2022년</td>\n",
       "      <td>30883</td>\n",
       "    </tr>\n",
       "    <tr>\n",
       "      <th>105</th>\n",
       "      <td>총범죄</td>\n",
       "      <td>절도범죄</td>\n",
       "      <td>소계</td>\n",
       "      <td>18:00~20:59</td>\n",
       "      <td>2022년</td>\n",
       "      <td>26343</td>\n",
       "    </tr>\n",
       "    <tr>\n",
       "      <th>106</th>\n",
       "      <td>총범죄</td>\n",
       "      <td>절도범죄</td>\n",
       "      <td>소계</td>\n",
       "      <td>21:00~23:59</td>\n",
       "      <td>2022년</td>\n",
       "      <td>18882</td>\n",
       "    </tr>\n",
       "    <tr>\n",
       "      <th>107</th>\n",
       "      <td>총범죄</td>\n",
       "      <td>절도범죄</td>\n",
       "      <td>소계</td>\n",
       "      <td>미상</td>\n",
       "      <td>2022년</td>\n",
       "      <td>18857</td>\n",
       "    </tr>\n",
       "  </tbody>\n",
       "</table>\n",
       "<p>108 rows × 6 columns</p>\n",
       "</div>"
      ],
      "text/plain": [
       "       대     중   소         발생시간     년도   발생건수\n",
       "0    총범죄  절도범죄  소계  00:00~02:59  2011년  33013\n",
       "1    총범죄  절도범죄  소계  03:00~05:59  2011년  20502\n",
       "2    총범죄  절도범죄  소계  06:00~08:59  2011년  19069\n",
       "3    총범죄  절도범죄  소계  09:00~11:59  2011년  31812\n",
       "4    총범죄  절도범죄  소계  12:00~14:59  2011년  20846\n",
       "..   ...   ...  ..          ...    ...    ...\n",
       "103  총범죄  절도범죄  소계  12:00~14:59  2022년  28486\n",
       "104  총범죄  절도범죄  소계  15:00~17:59  2022년  30883\n",
       "105  총범죄  절도범죄  소계  18:00~20:59  2022년  26343\n",
       "106  총범죄  절도범죄  소계  21:00~23:59  2022년  18882\n",
       "107  총범죄  절도범죄  소계           미상  2022년  18857\n",
       "\n",
       "[108 rows x 6 columns]"
      ]
     },
     "execution_count": 83,
     "metadata": {},
     "output_type": "execute_result"
    }
   ],
   "source": [
    "theft_time_df"
   ]
  },
  {
   "cell_type": "code",
   "execution_count": 104,
   "metadata": {},
   "outputs": [
    {
     "data": {
      "application/vnd.plotly.v1+json": {
       "config": {
        "plotlyServerURL": "https://plot.ly"
       },
       "data": [
        {
         "hovertemplate": "발생시간=00:00~02:59<br>년도=%{x}<br>발생건수=%{marker.size}<extra></extra>",
         "legendgroup": "00:00~02:59",
         "marker": {
          "color": "#636efa",
          "size": [
           33013,
           23761,
           23674,
           21567,
           19591,
           15516,
           13734,
           12581,
           13088,
           11778,
           9358,
           10252
          ],
          "sizemode": "area",
          "sizeref": 157.96885813148788,
          "symbol": "circle"
         },
         "mode": "markers",
         "name": "00:00~02:59",
         "orientation": "v",
         "showlegend": true,
         "type": "scatter",
         "x": [
          "2011년",
          "2012년",
          "2013년",
          "2014년",
          "2015년",
          "2016년",
          "2017년",
          "2018년",
          "2019년",
          "2020년",
          "2021년",
          "2022년"
         ],
         "xaxis": "x",
         "y": [
          33013,
          23761,
          23674,
          21567,
          19591,
          15516,
          13734,
          12581,
          13088,
          11778,
          9358,
          10252
         ],
         "yaxis": "y"
        },
        {
         "hovertemplate": "발생시간=03:00~05:59<br>년도=%{x}<br>발생건수=%{marker.size}<extra></extra>",
         "legendgroup": "03:00~05:59",
         "marker": {
          "color": "#EF553B",
          "size": [
           20502,
           23392,
           24309,
           21195,
           19544,
           15827,
           14362,
           13717,
           14167,
           13661,
           10610,
           11681
          ],
          "sizemode": "area",
          "sizeref": 157.96885813148788,
          "symbol": "circle"
         },
         "mode": "markers",
         "name": "03:00~05:59",
         "orientation": "v",
         "showlegend": true,
         "type": "scatter",
         "x": [
          "2011년",
          "2012년",
          "2013년",
          "2014년",
          "2015년",
          "2016년",
          "2017년",
          "2018년",
          "2019년",
          "2020년",
          "2021년",
          "2022년"
         ],
         "xaxis": "x",
         "y": [
          20502,
          23392,
          24309,
          21195,
          19544,
          15827,
          14362,
          13717,
          14167,
          13661,
          10610,
          11681
         ],
         "yaxis": "y"
        },
        {
         "hovertemplate": "발생시간=06:00~08:59<br>년도=%{x}<br>발생건수=%{marker.size}<extra></extra>",
         "legendgroup": "06:00~08:59",
         "marker": {
          "color": "#00cc96",
          "size": [
           19069,
           20292,
           19715,
           17918,
           16573,
           13871,
           12491,
           12473,
           13094,
           12380,
           12020,
           13489
          ],
          "sizemode": "area",
          "sizeref": 157.96885813148788,
          "symbol": "circle"
         },
         "mode": "markers",
         "name": "06:00~08:59",
         "orientation": "v",
         "showlegend": true,
         "type": "scatter",
         "x": [
          "2011년",
          "2012년",
          "2013년",
          "2014년",
          "2015년",
          "2016년",
          "2017년",
          "2018년",
          "2019년",
          "2020년",
          "2021년",
          "2022년"
         ],
         "xaxis": "x",
         "y": [
          19069,
          20292,
          19715,
          17918,
          16573,
          13871,
          12491,
          12473,
          13094,
          12380,
          12020,
          13489
         ],
         "yaxis": "y"
        },
        {
         "hovertemplate": "발생시간=09:00~11:59<br>년도=%{x}<br>발생건수=%{marker.size}<extra></extra>",
         "legendgroup": "09:00~11:59",
         "marker": {
          "color": "#ab63fa",
          "size": [
           31812,
           31732,
           31528,
           29081,
           26273,
           22842,
           21376,
           20412,
           21501,
           21210,
           21357,
           23397
          ],
          "sizemode": "area",
          "sizeref": 157.96885813148788,
          "symbol": "circle"
         },
         "mode": "markers",
         "name": "09:00~11:59",
         "orientation": "v",
         "showlegend": true,
         "type": "scatter",
         "x": [
          "2011년",
          "2012년",
          "2013년",
          "2014년",
          "2015년",
          "2016년",
          "2017년",
          "2018년",
          "2019년",
          "2020년",
          "2021년",
          "2022년"
         ],
         "xaxis": "x",
         "y": [
          31812,
          31732,
          31528,
          29081,
          26273,
          22842,
          21376,
          20412,
          21501,
          21210,
          21357,
          23397
         ],
         "yaxis": "y"
        },
        {
         "hovertemplate": "발생시간=12:00~14:59<br>년도=%{x}<br>발생건수=%{marker.size}<extra></extra>",
         "legendgroup": "12:00~14:59",
         "marker": {
          "color": "#FFA15A",
          "size": [
           20846,
           32648,
           33167,
           30903,
           29383,
           26339,
           24533,
           24515,
           27167,
           26695,
           26178,
           28486
          ],
          "sizemode": "area",
          "sizeref": 157.96885813148788,
          "symbol": "circle"
         },
         "mode": "markers",
         "name": "12:00~14:59",
         "orientation": "v",
         "showlegend": true,
         "type": "scatter",
         "x": [
          "2011년",
          "2012년",
          "2013년",
          "2014년",
          "2015년",
          "2016년",
          "2017년",
          "2018년",
          "2019년",
          "2020년",
          "2021년",
          "2022년"
         ],
         "xaxis": "x",
         "y": [
          20846,
          32648,
          33167,
          30903,
          29383,
          26339,
          24533,
          24515,
          27167,
          26695,
          26178,
          28486
         ],
         "yaxis": "y"
        },
        {
         "hovertemplate": "발생시간=15:00~17:59<br>년도=%{x}<br>발생건수=%{marker.size}<extra></extra>",
         "legendgroup": "15:00~17:59",
         "marker": {
          "color": "#19d3f3",
          "size": [
           34307,
           36720,
           36569,
           34679,
           32602,
           28529,
           26865,
           26631,
           28553,
           28619,
           27544,
           30883
          ],
          "sizemode": "area",
          "sizeref": 157.96885813148788,
          "symbol": "circle"
         },
         "mode": "markers",
         "name": "15:00~17:59",
         "orientation": "v",
         "showlegend": true,
         "type": "scatter",
         "x": [
          "2011년",
          "2012년",
          "2013년",
          "2014년",
          "2015년",
          "2016년",
          "2017년",
          "2018년",
          "2019년",
          "2020년",
          "2021년",
          "2022년"
         ],
         "xaxis": "x",
         "y": [
          34307,
          36720,
          36569,
          34679,
          32602,
          28529,
          26865,
          26631,
          28553,
          28619,
          27544,
          30883
         ],
         "yaxis": "y"
        },
        {
         "hovertemplate": "발생시간=18:00~20:59<br>년도=%{x}<br>발생건수=%{marker.size}<extra></extra>",
         "legendgroup": "18:00~20:59",
         "marker": {
          "color": "#FF6692",
          "size": [
           44176,
           45653,
           44081,
           40322,
           35746,
           29447,
           26609,
           25655,
           27229,
           25781,
           24162,
           26343
          ],
          "sizemode": "area",
          "sizeref": 157.96885813148788,
          "symbol": "circle"
         },
         "mode": "markers",
         "name": "18:00~20:59",
         "orientation": "v",
         "showlegend": true,
         "type": "scatter",
         "x": [
          "2011년",
          "2012년",
          "2013년",
          "2014년",
          "2015년",
          "2016년",
          "2017년",
          "2018년",
          "2019년",
          "2020년",
          "2021년",
          "2022년"
         ],
         "xaxis": "x",
         "y": [
          44176,
          45653,
          44081,
          40322,
          35746,
          29447,
          26609,
          25655,
          27229,
          25781,
          24162,
          26343
         ],
         "yaxis": "y"
        },
        {
         "hovertemplate": "발생시간=21:00~23:59<br>년도=%{x}<br>발생건수=%{marker.size}<extra></extra>",
         "legendgroup": "21:00~23:59",
         "marker": {
          "color": "#B6E880",
          "size": [
           38819,
           39745,
           37964,
           35015,
           30550,
           25121,
           22137,
           19962,
           20568,
           19245,
           17908,
           18882
          ],
          "sizemode": "area",
          "sizeref": 157.96885813148788,
          "symbol": "circle"
         },
         "mode": "markers",
         "name": "21:00~23:59",
         "orientation": "v",
         "showlegend": true,
         "type": "scatter",
         "x": [
          "2011년",
          "2012년",
          "2013년",
          "2014년",
          "2015년",
          "2016년",
          "2017년",
          "2018년",
          "2019년",
          "2020년",
          "2021년",
          "2022년"
         ],
         "xaxis": "x",
         "y": [
          38819,
          39745,
          37964,
          35015,
          30550,
          25121,
          22137,
          19962,
          20568,
          19245,
          17908,
          18882
         ],
         "yaxis": "y"
        },
        {
         "hovertemplate": "발생시간=미상<br>년도=%{x}<br>발생건수=%{marker.size}<extra></extra>",
         "legendgroup": "미상",
         "marker": {
          "color": "#FF97FF",
          "size": [
           38818,
           36517,
           37336,
           35542,
           35591,
           25545,
           21650,
           20863,
           21590,
           20148,
           17272,
           18857
          ],
          "sizemode": "area",
          "sizeref": 157.96885813148788,
          "symbol": "circle"
         },
         "mode": "markers",
         "name": "미상",
         "orientation": "v",
         "showlegend": true,
         "type": "scatter",
         "x": [
          "2011년",
          "2012년",
          "2013년",
          "2014년",
          "2015년",
          "2016년",
          "2017년",
          "2018년",
          "2019년",
          "2020년",
          "2021년",
          "2022년"
         ],
         "xaxis": "x",
         "y": [
          38818,
          36517,
          37336,
          35542,
          35591,
          25545,
          21650,
          20863,
          21590,
          20148,
          17272,
          18857
         ],
         "yaxis": "y"
        }
       ],
       "layout": {
        "legend": {
         "itemsizing": "constant",
         "title": {
          "text": "발생시간"
         },
         "tracegroupgap": 0
        },
        "margin": {
         "t": 60
        },
        "template": {
         "data": {
          "bar": [
           {
            "error_x": {
             "color": "#2a3f5f"
            },
            "error_y": {
             "color": "#2a3f5f"
            },
            "marker": {
             "line": {
              "color": "#E5ECF6",
              "width": 0.5
             },
             "pattern": {
              "fillmode": "overlay",
              "size": 10,
              "solidity": 0.2
             }
            },
            "type": "bar"
           }
          ],
          "barpolar": [
           {
            "marker": {
             "line": {
              "color": "#E5ECF6",
              "width": 0.5
             },
             "pattern": {
              "fillmode": "overlay",
              "size": 10,
              "solidity": 0.2
             }
            },
            "type": "barpolar"
           }
          ],
          "carpet": [
           {
            "aaxis": {
             "endlinecolor": "#2a3f5f",
             "gridcolor": "white",
             "linecolor": "white",
             "minorgridcolor": "white",
             "startlinecolor": "#2a3f5f"
            },
            "baxis": {
             "endlinecolor": "#2a3f5f",
             "gridcolor": "white",
             "linecolor": "white",
             "minorgridcolor": "white",
             "startlinecolor": "#2a3f5f"
            },
            "type": "carpet"
           }
          ],
          "choropleth": [
           {
            "colorbar": {
             "outlinewidth": 0,
             "ticks": ""
            },
            "type": "choropleth"
           }
          ],
          "contour": [
           {
            "colorbar": {
             "outlinewidth": 0,
             "ticks": ""
            },
            "colorscale": [
             [
              0,
              "#0d0887"
             ],
             [
              0.1111111111111111,
              "#46039f"
             ],
             [
              0.2222222222222222,
              "#7201a8"
             ],
             [
              0.3333333333333333,
              "#9c179e"
             ],
             [
              0.4444444444444444,
              "#bd3786"
             ],
             [
              0.5555555555555556,
              "#d8576b"
             ],
             [
              0.6666666666666666,
              "#ed7953"
             ],
             [
              0.7777777777777778,
              "#fb9f3a"
             ],
             [
              0.8888888888888888,
              "#fdca26"
             ],
             [
              1,
              "#f0f921"
             ]
            ],
            "type": "contour"
           }
          ],
          "contourcarpet": [
           {
            "colorbar": {
             "outlinewidth": 0,
             "ticks": ""
            },
            "type": "contourcarpet"
           }
          ],
          "heatmap": [
           {
            "colorbar": {
             "outlinewidth": 0,
             "ticks": ""
            },
            "colorscale": [
             [
              0,
              "#0d0887"
             ],
             [
              0.1111111111111111,
              "#46039f"
             ],
             [
              0.2222222222222222,
              "#7201a8"
             ],
             [
              0.3333333333333333,
              "#9c179e"
             ],
             [
              0.4444444444444444,
              "#bd3786"
             ],
             [
              0.5555555555555556,
              "#d8576b"
             ],
             [
              0.6666666666666666,
              "#ed7953"
             ],
             [
              0.7777777777777778,
              "#fb9f3a"
             ],
             [
              0.8888888888888888,
              "#fdca26"
             ],
             [
              1,
              "#f0f921"
             ]
            ],
            "type": "heatmap"
           }
          ],
          "heatmapgl": [
           {
            "colorbar": {
             "outlinewidth": 0,
             "ticks": ""
            },
            "colorscale": [
             [
              0,
              "#0d0887"
             ],
             [
              0.1111111111111111,
              "#46039f"
             ],
             [
              0.2222222222222222,
              "#7201a8"
             ],
             [
              0.3333333333333333,
              "#9c179e"
             ],
             [
              0.4444444444444444,
              "#bd3786"
             ],
             [
              0.5555555555555556,
              "#d8576b"
             ],
             [
              0.6666666666666666,
              "#ed7953"
             ],
             [
              0.7777777777777778,
              "#fb9f3a"
             ],
             [
              0.8888888888888888,
              "#fdca26"
             ],
             [
              1,
              "#f0f921"
             ]
            ],
            "type": "heatmapgl"
           }
          ],
          "histogram": [
           {
            "marker": {
             "pattern": {
              "fillmode": "overlay",
              "size": 10,
              "solidity": 0.2
             }
            },
            "type": "histogram"
           }
          ],
          "histogram2d": [
           {
            "colorbar": {
             "outlinewidth": 0,
             "ticks": ""
            },
            "colorscale": [
             [
              0,
              "#0d0887"
             ],
             [
              0.1111111111111111,
              "#46039f"
             ],
             [
              0.2222222222222222,
              "#7201a8"
             ],
             [
              0.3333333333333333,
              "#9c179e"
             ],
             [
              0.4444444444444444,
              "#bd3786"
             ],
             [
              0.5555555555555556,
              "#d8576b"
             ],
             [
              0.6666666666666666,
              "#ed7953"
             ],
             [
              0.7777777777777778,
              "#fb9f3a"
             ],
             [
              0.8888888888888888,
              "#fdca26"
             ],
             [
              1,
              "#f0f921"
             ]
            ],
            "type": "histogram2d"
           }
          ],
          "histogram2dcontour": [
           {
            "colorbar": {
             "outlinewidth": 0,
             "ticks": ""
            },
            "colorscale": [
             [
              0,
              "#0d0887"
             ],
             [
              0.1111111111111111,
              "#46039f"
             ],
             [
              0.2222222222222222,
              "#7201a8"
             ],
             [
              0.3333333333333333,
              "#9c179e"
             ],
             [
              0.4444444444444444,
              "#bd3786"
             ],
             [
              0.5555555555555556,
              "#d8576b"
             ],
             [
              0.6666666666666666,
              "#ed7953"
             ],
             [
              0.7777777777777778,
              "#fb9f3a"
             ],
             [
              0.8888888888888888,
              "#fdca26"
             ],
             [
              1,
              "#f0f921"
             ]
            ],
            "type": "histogram2dcontour"
           }
          ],
          "mesh3d": [
           {
            "colorbar": {
             "outlinewidth": 0,
             "ticks": ""
            },
            "type": "mesh3d"
           }
          ],
          "parcoords": [
           {
            "line": {
             "colorbar": {
              "outlinewidth": 0,
              "ticks": ""
             }
            },
            "type": "parcoords"
           }
          ],
          "pie": [
           {
            "automargin": true,
            "type": "pie"
           }
          ],
          "scatter": [
           {
            "fillpattern": {
             "fillmode": "overlay",
             "size": 10,
             "solidity": 0.2
            },
            "type": "scatter"
           }
          ],
          "scatter3d": [
           {
            "line": {
             "colorbar": {
              "outlinewidth": 0,
              "ticks": ""
             }
            },
            "marker": {
             "colorbar": {
              "outlinewidth": 0,
              "ticks": ""
             }
            },
            "type": "scatter3d"
           }
          ],
          "scattercarpet": [
           {
            "marker": {
             "colorbar": {
              "outlinewidth": 0,
              "ticks": ""
             }
            },
            "type": "scattercarpet"
           }
          ],
          "scattergeo": [
           {
            "marker": {
             "colorbar": {
              "outlinewidth": 0,
              "ticks": ""
             }
            },
            "type": "scattergeo"
           }
          ],
          "scattergl": [
           {
            "marker": {
             "colorbar": {
              "outlinewidth": 0,
              "ticks": ""
             }
            },
            "type": "scattergl"
           }
          ],
          "scattermapbox": [
           {
            "marker": {
             "colorbar": {
              "outlinewidth": 0,
              "ticks": ""
             }
            },
            "type": "scattermapbox"
           }
          ],
          "scatterpolar": [
           {
            "marker": {
             "colorbar": {
              "outlinewidth": 0,
              "ticks": ""
             }
            },
            "type": "scatterpolar"
           }
          ],
          "scatterpolargl": [
           {
            "marker": {
             "colorbar": {
              "outlinewidth": 0,
              "ticks": ""
             }
            },
            "type": "scatterpolargl"
           }
          ],
          "scatterternary": [
           {
            "marker": {
             "colorbar": {
              "outlinewidth": 0,
              "ticks": ""
             }
            },
            "type": "scatterternary"
           }
          ],
          "surface": [
           {
            "colorbar": {
             "outlinewidth": 0,
             "ticks": ""
            },
            "colorscale": [
             [
              0,
              "#0d0887"
             ],
             [
              0.1111111111111111,
              "#46039f"
             ],
             [
              0.2222222222222222,
              "#7201a8"
             ],
             [
              0.3333333333333333,
              "#9c179e"
             ],
             [
              0.4444444444444444,
              "#bd3786"
             ],
             [
              0.5555555555555556,
              "#d8576b"
             ],
             [
              0.6666666666666666,
              "#ed7953"
             ],
             [
              0.7777777777777778,
              "#fb9f3a"
             ],
             [
              0.8888888888888888,
              "#fdca26"
             ],
             [
              1,
              "#f0f921"
             ]
            ],
            "type": "surface"
           }
          ],
          "table": [
           {
            "cells": {
             "fill": {
              "color": "#EBF0F8"
             },
             "line": {
              "color": "white"
             }
            },
            "header": {
             "fill": {
              "color": "#C8D4E3"
             },
             "line": {
              "color": "white"
             }
            },
            "type": "table"
           }
          ]
         },
         "layout": {
          "annotationdefaults": {
           "arrowcolor": "#2a3f5f",
           "arrowhead": 0,
           "arrowwidth": 1
          },
          "autotypenumbers": "strict",
          "coloraxis": {
           "colorbar": {
            "outlinewidth": 0,
            "ticks": ""
           }
          },
          "colorscale": {
           "diverging": [
            [
             0,
             "#8e0152"
            ],
            [
             0.1,
             "#c51b7d"
            ],
            [
             0.2,
             "#de77ae"
            ],
            [
             0.3,
             "#f1b6da"
            ],
            [
             0.4,
             "#fde0ef"
            ],
            [
             0.5,
             "#f7f7f7"
            ],
            [
             0.6,
             "#e6f5d0"
            ],
            [
             0.7,
             "#b8e186"
            ],
            [
             0.8,
             "#7fbc41"
            ],
            [
             0.9,
             "#4d9221"
            ],
            [
             1,
             "#276419"
            ]
           ],
           "sequential": [
            [
             0,
             "#0d0887"
            ],
            [
             0.1111111111111111,
             "#46039f"
            ],
            [
             0.2222222222222222,
             "#7201a8"
            ],
            [
             0.3333333333333333,
             "#9c179e"
            ],
            [
             0.4444444444444444,
             "#bd3786"
            ],
            [
             0.5555555555555556,
             "#d8576b"
            ],
            [
             0.6666666666666666,
             "#ed7953"
            ],
            [
             0.7777777777777778,
             "#fb9f3a"
            ],
            [
             0.8888888888888888,
             "#fdca26"
            ],
            [
             1,
             "#f0f921"
            ]
           ],
           "sequentialminus": [
            [
             0,
             "#0d0887"
            ],
            [
             0.1111111111111111,
             "#46039f"
            ],
            [
             0.2222222222222222,
             "#7201a8"
            ],
            [
             0.3333333333333333,
             "#9c179e"
            ],
            [
             0.4444444444444444,
             "#bd3786"
            ],
            [
             0.5555555555555556,
             "#d8576b"
            ],
            [
             0.6666666666666666,
             "#ed7953"
            ],
            [
             0.7777777777777778,
             "#fb9f3a"
            ],
            [
             0.8888888888888888,
             "#fdca26"
            ],
            [
             1,
             "#f0f921"
            ]
           ]
          },
          "colorway": [
           "#636efa",
           "#EF553B",
           "#00cc96",
           "#ab63fa",
           "#FFA15A",
           "#19d3f3",
           "#FF6692",
           "#B6E880",
           "#FF97FF",
           "#FECB52"
          ],
          "font": {
           "color": "#2a3f5f"
          },
          "geo": {
           "bgcolor": "white",
           "lakecolor": "white",
           "landcolor": "#E5ECF6",
           "showlakes": true,
           "showland": true,
           "subunitcolor": "white"
          },
          "hoverlabel": {
           "align": "left"
          },
          "hovermode": "closest",
          "mapbox": {
           "style": "light"
          },
          "paper_bgcolor": "white",
          "plot_bgcolor": "#E5ECF6",
          "polar": {
           "angularaxis": {
            "gridcolor": "white",
            "linecolor": "white",
            "ticks": ""
           },
           "bgcolor": "#E5ECF6",
           "radialaxis": {
            "gridcolor": "white",
            "linecolor": "white",
            "ticks": ""
           }
          },
          "scene": {
           "xaxis": {
            "backgroundcolor": "#E5ECF6",
            "gridcolor": "white",
            "gridwidth": 2,
            "linecolor": "white",
            "showbackground": true,
            "ticks": "",
            "zerolinecolor": "white"
           },
           "yaxis": {
            "backgroundcolor": "#E5ECF6",
            "gridcolor": "white",
            "gridwidth": 2,
            "linecolor": "white",
            "showbackground": true,
            "ticks": "",
            "zerolinecolor": "white"
           },
           "zaxis": {
            "backgroundcolor": "#E5ECF6",
            "gridcolor": "white",
            "gridwidth": 2,
            "linecolor": "white",
            "showbackground": true,
            "ticks": "",
            "zerolinecolor": "white"
           }
          },
          "shapedefaults": {
           "line": {
            "color": "#2a3f5f"
           }
          },
          "ternary": {
           "aaxis": {
            "gridcolor": "white",
            "linecolor": "white",
            "ticks": ""
           },
           "baxis": {
            "gridcolor": "white",
            "linecolor": "white",
            "ticks": ""
           },
           "bgcolor": "#E5ECF6",
           "caxis": {
            "gridcolor": "white",
            "linecolor": "white",
            "ticks": ""
           }
          },
          "title": {
           "x": 0.05
          },
          "xaxis": {
           "automargin": true,
           "gridcolor": "white",
           "linecolor": "white",
           "ticks": "",
           "title": {
            "standoff": 15
           },
           "zerolinecolor": "white",
           "zerolinewidth": 2
          },
          "yaxis": {
           "automargin": true,
           "gridcolor": "white",
           "linecolor": "white",
           "ticks": "",
           "title": {
            "standoff": 15
           },
           "zerolinecolor": "white",
           "zerolinewidth": 2
          }
         }
        },
        "title": {
         "font": {
          "size": 22
         },
         "text": "연도별 범죄 시간대 따른 절도범죄 발생 건 수",
         "x": 0.5
        },
        "xaxis": {
         "anchor": "y",
         "domain": [
          0,
          1
         ],
         "tickangle": -45,
         "title": {
          "text": "년도"
         }
        },
        "yaxis": {
         "anchor": "x",
         "domain": [
          0,
          1
         ],
         "title": {
          "text": "발생건수"
         },
         "type": "log"
        }
       }
      }
     },
     "metadata": {},
     "output_type": "display_data"
    }
   ],
   "source": [
    "fig = px.scatter(theft_time_df, x=\"년도\", y=\"발생건수\", size=\"발생건수\", color=\"발생시간\", log_y=True, size_max=17)\n",
    "fig.update_layout(title_text=\"연도별 범죄 시간대 따른 절도범죄 발생 건 수\", xaxis_tickangle=-45, title_x = 0.5, title_font_size=22 )\n",
    "fig.show()"
   ]
  },
  {
   "cell_type": "code",
   "execution_count": 102,
   "metadata": {},
   "outputs": [
    {
     "data": {
      "application/vnd.plotly.v1+json": {
       "config": {
        "plotlyServerURL": "https://plot.ly"
       },
       "data": [
        {
         "alignmentgroup": "True",
         "hovertemplate": "발생시간=00:00~02:59<br>년도=%{x}<br>발생건수=%{y}<extra></extra>",
         "legendgroup": "00:00~02:59",
         "marker": {
          "color": "#636efa",
          "pattern": {
           "shape": ""
          }
         },
         "name": "00:00~02:59",
         "offsetgroup": "00:00~02:59",
         "orientation": "v",
         "showlegend": true,
         "textposition": "auto",
         "type": "bar",
         "x": [
          "2011년",
          "2012년",
          "2013년",
          "2014년",
          "2015년",
          "2016년",
          "2017년",
          "2018년",
          "2019년",
          "2020년",
          "2021년",
          "2022년"
         ],
         "xaxis": "x",
         "y": [
          33013,
          23761,
          23674,
          21567,
          19591,
          15516,
          13734,
          12581,
          13088,
          11778,
          9358,
          10252
         ],
         "yaxis": "y"
        },
        {
         "alignmentgroup": "True",
         "hovertemplate": "발생시간=03:00~05:59<br>년도=%{x}<br>발생건수=%{y}<extra></extra>",
         "legendgroup": "03:00~05:59",
         "marker": {
          "color": "#EF553B",
          "pattern": {
           "shape": ""
          }
         },
         "name": "03:00~05:59",
         "offsetgroup": "03:00~05:59",
         "orientation": "v",
         "showlegend": true,
         "textposition": "auto",
         "type": "bar",
         "x": [
          "2011년",
          "2012년",
          "2013년",
          "2014년",
          "2015년",
          "2016년",
          "2017년",
          "2018년",
          "2019년",
          "2020년",
          "2021년",
          "2022년"
         ],
         "xaxis": "x",
         "y": [
          20502,
          23392,
          24309,
          21195,
          19544,
          15827,
          14362,
          13717,
          14167,
          13661,
          10610,
          11681
         ],
         "yaxis": "y"
        },
        {
         "alignmentgroup": "True",
         "hovertemplate": "발생시간=06:00~08:59<br>년도=%{x}<br>발생건수=%{y}<extra></extra>",
         "legendgroup": "06:00~08:59",
         "marker": {
          "color": "#00cc96",
          "pattern": {
           "shape": ""
          }
         },
         "name": "06:00~08:59",
         "offsetgroup": "06:00~08:59",
         "orientation": "v",
         "showlegend": true,
         "textposition": "auto",
         "type": "bar",
         "x": [
          "2011년",
          "2012년",
          "2013년",
          "2014년",
          "2015년",
          "2016년",
          "2017년",
          "2018년",
          "2019년",
          "2020년",
          "2021년",
          "2022년"
         ],
         "xaxis": "x",
         "y": [
          19069,
          20292,
          19715,
          17918,
          16573,
          13871,
          12491,
          12473,
          13094,
          12380,
          12020,
          13489
         ],
         "yaxis": "y"
        },
        {
         "alignmentgroup": "True",
         "hovertemplate": "발생시간=09:00~11:59<br>년도=%{x}<br>발생건수=%{y}<extra></extra>",
         "legendgroup": "09:00~11:59",
         "marker": {
          "color": "#ab63fa",
          "pattern": {
           "shape": ""
          }
         },
         "name": "09:00~11:59",
         "offsetgroup": "09:00~11:59",
         "orientation": "v",
         "showlegend": true,
         "textposition": "auto",
         "type": "bar",
         "x": [
          "2011년",
          "2012년",
          "2013년",
          "2014년",
          "2015년",
          "2016년",
          "2017년",
          "2018년",
          "2019년",
          "2020년",
          "2021년",
          "2022년"
         ],
         "xaxis": "x",
         "y": [
          31812,
          31732,
          31528,
          29081,
          26273,
          22842,
          21376,
          20412,
          21501,
          21210,
          21357,
          23397
         ],
         "yaxis": "y"
        },
        {
         "alignmentgroup": "True",
         "hovertemplate": "발생시간=12:00~14:59<br>년도=%{x}<br>발생건수=%{y}<extra></extra>",
         "legendgroup": "12:00~14:59",
         "marker": {
          "color": "#FFA15A",
          "pattern": {
           "shape": ""
          }
         },
         "name": "12:00~14:59",
         "offsetgroup": "12:00~14:59",
         "orientation": "v",
         "showlegend": true,
         "textposition": "auto",
         "type": "bar",
         "x": [
          "2011년",
          "2012년",
          "2013년",
          "2014년",
          "2015년",
          "2016년",
          "2017년",
          "2018년",
          "2019년",
          "2020년",
          "2021년",
          "2022년"
         ],
         "xaxis": "x",
         "y": [
          20846,
          32648,
          33167,
          30903,
          29383,
          26339,
          24533,
          24515,
          27167,
          26695,
          26178,
          28486
         ],
         "yaxis": "y"
        },
        {
         "alignmentgroup": "True",
         "hovertemplate": "발생시간=15:00~17:59<br>년도=%{x}<br>발생건수=%{y}<extra></extra>",
         "legendgroup": "15:00~17:59",
         "marker": {
          "color": "#19d3f3",
          "pattern": {
           "shape": ""
          }
         },
         "name": "15:00~17:59",
         "offsetgroup": "15:00~17:59",
         "orientation": "v",
         "showlegend": true,
         "textposition": "auto",
         "type": "bar",
         "x": [
          "2011년",
          "2012년",
          "2013년",
          "2014년",
          "2015년",
          "2016년",
          "2017년",
          "2018년",
          "2019년",
          "2020년",
          "2021년",
          "2022년"
         ],
         "xaxis": "x",
         "y": [
          34307,
          36720,
          36569,
          34679,
          32602,
          28529,
          26865,
          26631,
          28553,
          28619,
          27544,
          30883
         ],
         "yaxis": "y"
        },
        {
         "alignmentgroup": "True",
         "hovertemplate": "발생시간=18:00~20:59<br>년도=%{x}<br>발생건수=%{y}<extra></extra>",
         "legendgroup": "18:00~20:59",
         "marker": {
          "color": "#FF6692",
          "pattern": {
           "shape": ""
          }
         },
         "name": "18:00~20:59",
         "offsetgroup": "18:00~20:59",
         "orientation": "v",
         "showlegend": true,
         "textposition": "auto",
         "type": "bar",
         "x": [
          "2011년",
          "2012년",
          "2013년",
          "2014년",
          "2015년",
          "2016년",
          "2017년",
          "2018년",
          "2019년",
          "2020년",
          "2021년",
          "2022년"
         ],
         "xaxis": "x",
         "y": [
          44176,
          45653,
          44081,
          40322,
          35746,
          29447,
          26609,
          25655,
          27229,
          25781,
          24162,
          26343
         ],
         "yaxis": "y"
        },
        {
         "alignmentgroup": "True",
         "hovertemplate": "발생시간=21:00~23:59<br>년도=%{x}<br>발생건수=%{y}<extra></extra>",
         "legendgroup": "21:00~23:59",
         "marker": {
          "color": "#B6E880",
          "pattern": {
           "shape": ""
          }
         },
         "name": "21:00~23:59",
         "offsetgroup": "21:00~23:59",
         "orientation": "v",
         "showlegend": true,
         "textposition": "auto",
         "type": "bar",
         "x": [
          "2011년",
          "2012년",
          "2013년",
          "2014년",
          "2015년",
          "2016년",
          "2017년",
          "2018년",
          "2019년",
          "2020년",
          "2021년",
          "2022년"
         ],
         "xaxis": "x",
         "y": [
          38819,
          39745,
          37964,
          35015,
          30550,
          25121,
          22137,
          19962,
          20568,
          19245,
          17908,
          18882
         ],
         "yaxis": "y"
        },
        {
         "alignmentgroup": "True",
         "hovertemplate": "발생시간=미상<br>년도=%{x}<br>발생건수=%{y}<extra></extra>",
         "legendgroup": "미상",
         "marker": {
          "color": "#FF97FF",
          "pattern": {
           "shape": ""
          }
         },
         "name": "미상",
         "offsetgroup": "미상",
         "orientation": "v",
         "showlegend": true,
         "textposition": "auto",
         "type": "bar",
         "x": [
          "2011년",
          "2012년",
          "2013년",
          "2014년",
          "2015년",
          "2016년",
          "2017년",
          "2018년",
          "2019년",
          "2020년",
          "2021년",
          "2022년"
         ],
         "xaxis": "x",
         "y": [
          38818,
          36517,
          37336,
          35542,
          35591,
          25545,
          21650,
          20863,
          21590,
          20148,
          17272,
          18857
         ],
         "yaxis": "y"
        }
       ],
       "layout": {
        "barmode": "relative",
        "legend": {
         "title": {
          "text": "발생시간"
         },
         "tracegroupgap": 0
        },
        "margin": {
         "t": 60
        },
        "template": {
         "data": {
          "bar": [
           {
            "error_x": {
             "color": "#2a3f5f"
            },
            "error_y": {
             "color": "#2a3f5f"
            },
            "marker": {
             "line": {
              "color": "#E5ECF6",
              "width": 0.5
             },
             "pattern": {
              "fillmode": "overlay",
              "size": 10,
              "solidity": 0.2
             }
            },
            "type": "bar"
           }
          ],
          "barpolar": [
           {
            "marker": {
             "line": {
              "color": "#E5ECF6",
              "width": 0.5
             },
             "pattern": {
              "fillmode": "overlay",
              "size": 10,
              "solidity": 0.2
             }
            },
            "type": "barpolar"
           }
          ],
          "carpet": [
           {
            "aaxis": {
             "endlinecolor": "#2a3f5f",
             "gridcolor": "white",
             "linecolor": "white",
             "minorgridcolor": "white",
             "startlinecolor": "#2a3f5f"
            },
            "baxis": {
             "endlinecolor": "#2a3f5f",
             "gridcolor": "white",
             "linecolor": "white",
             "minorgridcolor": "white",
             "startlinecolor": "#2a3f5f"
            },
            "type": "carpet"
           }
          ],
          "choropleth": [
           {
            "colorbar": {
             "outlinewidth": 0,
             "ticks": ""
            },
            "type": "choropleth"
           }
          ],
          "contour": [
           {
            "colorbar": {
             "outlinewidth": 0,
             "ticks": ""
            },
            "colorscale": [
             [
              0,
              "#0d0887"
             ],
             [
              0.1111111111111111,
              "#46039f"
             ],
             [
              0.2222222222222222,
              "#7201a8"
             ],
             [
              0.3333333333333333,
              "#9c179e"
             ],
             [
              0.4444444444444444,
              "#bd3786"
             ],
             [
              0.5555555555555556,
              "#d8576b"
             ],
             [
              0.6666666666666666,
              "#ed7953"
             ],
             [
              0.7777777777777778,
              "#fb9f3a"
             ],
             [
              0.8888888888888888,
              "#fdca26"
             ],
             [
              1,
              "#f0f921"
             ]
            ],
            "type": "contour"
           }
          ],
          "contourcarpet": [
           {
            "colorbar": {
             "outlinewidth": 0,
             "ticks": ""
            },
            "type": "contourcarpet"
           }
          ],
          "heatmap": [
           {
            "colorbar": {
             "outlinewidth": 0,
             "ticks": ""
            },
            "colorscale": [
             [
              0,
              "#0d0887"
             ],
             [
              0.1111111111111111,
              "#46039f"
             ],
             [
              0.2222222222222222,
              "#7201a8"
             ],
             [
              0.3333333333333333,
              "#9c179e"
             ],
             [
              0.4444444444444444,
              "#bd3786"
             ],
             [
              0.5555555555555556,
              "#d8576b"
             ],
             [
              0.6666666666666666,
              "#ed7953"
             ],
             [
              0.7777777777777778,
              "#fb9f3a"
             ],
             [
              0.8888888888888888,
              "#fdca26"
             ],
             [
              1,
              "#f0f921"
             ]
            ],
            "type": "heatmap"
           }
          ],
          "heatmapgl": [
           {
            "colorbar": {
             "outlinewidth": 0,
             "ticks": ""
            },
            "colorscale": [
             [
              0,
              "#0d0887"
             ],
             [
              0.1111111111111111,
              "#46039f"
             ],
             [
              0.2222222222222222,
              "#7201a8"
             ],
             [
              0.3333333333333333,
              "#9c179e"
             ],
             [
              0.4444444444444444,
              "#bd3786"
             ],
             [
              0.5555555555555556,
              "#d8576b"
             ],
             [
              0.6666666666666666,
              "#ed7953"
             ],
             [
              0.7777777777777778,
              "#fb9f3a"
             ],
             [
              0.8888888888888888,
              "#fdca26"
             ],
             [
              1,
              "#f0f921"
             ]
            ],
            "type": "heatmapgl"
           }
          ],
          "histogram": [
           {
            "marker": {
             "pattern": {
              "fillmode": "overlay",
              "size": 10,
              "solidity": 0.2
             }
            },
            "type": "histogram"
           }
          ],
          "histogram2d": [
           {
            "colorbar": {
             "outlinewidth": 0,
             "ticks": ""
            },
            "colorscale": [
             [
              0,
              "#0d0887"
             ],
             [
              0.1111111111111111,
              "#46039f"
             ],
             [
              0.2222222222222222,
              "#7201a8"
             ],
             [
              0.3333333333333333,
              "#9c179e"
             ],
             [
              0.4444444444444444,
              "#bd3786"
             ],
             [
              0.5555555555555556,
              "#d8576b"
             ],
             [
              0.6666666666666666,
              "#ed7953"
             ],
             [
              0.7777777777777778,
              "#fb9f3a"
             ],
             [
              0.8888888888888888,
              "#fdca26"
             ],
             [
              1,
              "#f0f921"
             ]
            ],
            "type": "histogram2d"
           }
          ],
          "histogram2dcontour": [
           {
            "colorbar": {
             "outlinewidth": 0,
             "ticks": ""
            },
            "colorscale": [
             [
              0,
              "#0d0887"
             ],
             [
              0.1111111111111111,
              "#46039f"
             ],
             [
              0.2222222222222222,
              "#7201a8"
             ],
             [
              0.3333333333333333,
              "#9c179e"
             ],
             [
              0.4444444444444444,
              "#bd3786"
             ],
             [
              0.5555555555555556,
              "#d8576b"
             ],
             [
              0.6666666666666666,
              "#ed7953"
             ],
             [
              0.7777777777777778,
              "#fb9f3a"
             ],
             [
              0.8888888888888888,
              "#fdca26"
             ],
             [
              1,
              "#f0f921"
             ]
            ],
            "type": "histogram2dcontour"
           }
          ],
          "mesh3d": [
           {
            "colorbar": {
             "outlinewidth": 0,
             "ticks": ""
            },
            "type": "mesh3d"
           }
          ],
          "parcoords": [
           {
            "line": {
             "colorbar": {
              "outlinewidth": 0,
              "ticks": ""
             }
            },
            "type": "parcoords"
           }
          ],
          "pie": [
           {
            "automargin": true,
            "type": "pie"
           }
          ],
          "scatter": [
           {
            "fillpattern": {
             "fillmode": "overlay",
             "size": 10,
             "solidity": 0.2
            },
            "type": "scatter"
           }
          ],
          "scatter3d": [
           {
            "line": {
             "colorbar": {
              "outlinewidth": 0,
              "ticks": ""
             }
            },
            "marker": {
             "colorbar": {
              "outlinewidth": 0,
              "ticks": ""
             }
            },
            "type": "scatter3d"
           }
          ],
          "scattercarpet": [
           {
            "marker": {
             "colorbar": {
              "outlinewidth": 0,
              "ticks": ""
             }
            },
            "type": "scattercarpet"
           }
          ],
          "scattergeo": [
           {
            "marker": {
             "colorbar": {
              "outlinewidth": 0,
              "ticks": ""
             }
            },
            "type": "scattergeo"
           }
          ],
          "scattergl": [
           {
            "marker": {
             "colorbar": {
              "outlinewidth": 0,
              "ticks": ""
             }
            },
            "type": "scattergl"
           }
          ],
          "scattermapbox": [
           {
            "marker": {
             "colorbar": {
              "outlinewidth": 0,
              "ticks": ""
             }
            },
            "type": "scattermapbox"
           }
          ],
          "scatterpolar": [
           {
            "marker": {
             "colorbar": {
              "outlinewidth": 0,
              "ticks": ""
             }
            },
            "type": "scatterpolar"
           }
          ],
          "scatterpolargl": [
           {
            "marker": {
             "colorbar": {
              "outlinewidth": 0,
              "ticks": ""
             }
            },
            "type": "scatterpolargl"
           }
          ],
          "scatterternary": [
           {
            "marker": {
             "colorbar": {
              "outlinewidth": 0,
              "ticks": ""
             }
            },
            "type": "scatterternary"
           }
          ],
          "surface": [
           {
            "colorbar": {
             "outlinewidth": 0,
             "ticks": ""
            },
            "colorscale": [
             [
              0,
              "#0d0887"
             ],
             [
              0.1111111111111111,
              "#46039f"
             ],
             [
              0.2222222222222222,
              "#7201a8"
             ],
             [
              0.3333333333333333,
              "#9c179e"
             ],
             [
              0.4444444444444444,
              "#bd3786"
             ],
             [
              0.5555555555555556,
              "#d8576b"
             ],
             [
              0.6666666666666666,
              "#ed7953"
             ],
             [
              0.7777777777777778,
              "#fb9f3a"
             ],
             [
              0.8888888888888888,
              "#fdca26"
             ],
             [
              1,
              "#f0f921"
             ]
            ],
            "type": "surface"
           }
          ],
          "table": [
           {
            "cells": {
             "fill": {
              "color": "#EBF0F8"
             },
             "line": {
              "color": "white"
             }
            },
            "header": {
             "fill": {
              "color": "#C8D4E3"
             },
             "line": {
              "color": "white"
             }
            },
            "type": "table"
           }
          ]
         },
         "layout": {
          "annotationdefaults": {
           "arrowcolor": "#2a3f5f",
           "arrowhead": 0,
           "arrowwidth": 1
          },
          "autotypenumbers": "strict",
          "coloraxis": {
           "colorbar": {
            "outlinewidth": 0,
            "ticks": ""
           }
          },
          "colorscale": {
           "diverging": [
            [
             0,
             "#8e0152"
            ],
            [
             0.1,
             "#c51b7d"
            ],
            [
             0.2,
             "#de77ae"
            ],
            [
             0.3,
             "#f1b6da"
            ],
            [
             0.4,
             "#fde0ef"
            ],
            [
             0.5,
             "#f7f7f7"
            ],
            [
             0.6,
             "#e6f5d0"
            ],
            [
             0.7,
             "#b8e186"
            ],
            [
             0.8,
             "#7fbc41"
            ],
            [
             0.9,
             "#4d9221"
            ],
            [
             1,
             "#276419"
            ]
           ],
           "sequential": [
            [
             0,
             "#0d0887"
            ],
            [
             0.1111111111111111,
             "#46039f"
            ],
            [
             0.2222222222222222,
             "#7201a8"
            ],
            [
             0.3333333333333333,
             "#9c179e"
            ],
            [
             0.4444444444444444,
             "#bd3786"
            ],
            [
             0.5555555555555556,
             "#d8576b"
            ],
            [
             0.6666666666666666,
             "#ed7953"
            ],
            [
             0.7777777777777778,
             "#fb9f3a"
            ],
            [
             0.8888888888888888,
             "#fdca26"
            ],
            [
             1,
             "#f0f921"
            ]
           ],
           "sequentialminus": [
            [
             0,
             "#0d0887"
            ],
            [
             0.1111111111111111,
             "#46039f"
            ],
            [
             0.2222222222222222,
             "#7201a8"
            ],
            [
             0.3333333333333333,
             "#9c179e"
            ],
            [
             0.4444444444444444,
             "#bd3786"
            ],
            [
             0.5555555555555556,
             "#d8576b"
            ],
            [
             0.6666666666666666,
             "#ed7953"
            ],
            [
             0.7777777777777778,
             "#fb9f3a"
            ],
            [
             0.8888888888888888,
             "#fdca26"
            ],
            [
             1,
             "#f0f921"
            ]
           ]
          },
          "colorway": [
           "#636efa",
           "#EF553B",
           "#00cc96",
           "#ab63fa",
           "#FFA15A",
           "#19d3f3",
           "#FF6692",
           "#B6E880",
           "#FF97FF",
           "#FECB52"
          ],
          "font": {
           "color": "#2a3f5f"
          },
          "geo": {
           "bgcolor": "white",
           "lakecolor": "white",
           "landcolor": "#E5ECF6",
           "showlakes": true,
           "showland": true,
           "subunitcolor": "white"
          },
          "hoverlabel": {
           "align": "left"
          },
          "hovermode": "closest",
          "mapbox": {
           "style": "light"
          },
          "paper_bgcolor": "white",
          "plot_bgcolor": "#E5ECF6",
          "polar": {
           "angularaxis": {
            "gridcolor": "white",
            "linecolor": "white",
            "ticks": ""
           },
           "bgcolor": "#E5ECF6",
           "radialaxis": {
            "gridcolor": "white",
            "linecolor": "white",
            "ticks": ""
           }
          },
          "scene": {
           "xaxis": {
            "backgroundcolor": "#E5ECF6",
            "gridcolor": "white",
            "gridwidth": 2,
            "linecolor": "white",
            "showbackground": true,
            "ticks": "",
            "zerolinecolor": "white"
           },
           "yaxis": {
            "backgroundcolor": "#E5ECF6",
            "gridcolor": "white",
            "gridwidth": 2,
            "linecolor": "white",
            "showbackground": true,
            "ticks": "",
            "zerolinecolor": "white"
           },
           "zaxis": {
            "backgroundcolor": "#E5ECF6",
            "gridcolor": "white",
            "gridwidth": 2,
            "linecolor": "white",
            "showbackground": true,
            "ticks": "",
            "zerolinecolor": "white"
           }
          },
          "shapedefaults": {
           "line": {
            "color": "#2a3f5f"
           }
          },
          "ternary": {
           "aaxis": {
            "gridcolor": "white",
            "linecolor": "white",
            "ticks": ""
           },
           "baxis": {
            "gridcolor": "white",
            "linecolor": "white",
            "ticks": ""
           },
           "bgcolor": "#E5ECF6",
           "caxis": {
            "gridcolor": "white",
            "linecolor": "white",
            "ticks": ""
           }
          },
          "title": {
           "x": 0.05
          },
          "xaxis": {
           "automargin": true,
           "gridcolor": "white",
           "linecolor": "white",
           "ticks": "",
           "title": {
            "standoff": 15
           },
           "zerolinecolor": "white",
           "zerolinewidth": 2
          },
          "yaxis": {
           "automargin": true,
           "gridcolor": "white",
           "linecolor": "white",
           "ticks": "",
           "title": {
            "standoff": 15
           },
           "zerolinecolor": "white",
           "zerolinewidth": 2
          }
         }
        },
        "title": {
         "font": {
          "size": 22
         },
         "text": "연도별 범죄 시간대 따른 절도범죄 발생 건 수",
         "x": 0.5
        },
        "xaxis": {
         "anchor": "y",
         "domain": [
          0,
          1
         ],
         "tickangle": -45,
         "title": {
          "text": "년도"
         }
        },
        "yaxis": {
         "anchor": "x",
         "domain": [
          0,
          1
         ],
         "title": {
          "text": "발생건수"
         }
        }
       }
      }
     },
     "metadata": {},
     "output_type": "display_data"
    }
   ],
   "source": [
    "fig = px.bar(theft_time_df, x=\"년도\", y=\"발생건수\", color=\"발생시간\")\n",
    "fig.update_layout(title_text=\"연도별 범죄 시간대 따른 절도범죄 발생 건 수\", xaxis_tickangle=-45, title_x = 0.5, title_font_size=22)\n",
    "fig.show()"
   ]
  },
  {
   "cell_type": "code",
   "execution_count": 9,
   "metadata": {},
   "outputs": [
    {
     "data": {
      "text/html": [
       "<div>\n",
       "<style scoped>\n",
       "    .dataframe tbody tr th:only-of-type {\n",
       "        vertical-align: middle;\n",
       "    }\n",
       "\n",
       "    .dataframe tbody tr th {\n",
       "        vertical-align: top;\n",
       "    }\n",
       "\n",
       "    .dataframe thead th {\n",
       "        text-align: right;\n",
       "    }\n",
       "</style>\n",
       "<table border=\"1\" class=\"dataframe\">\n",
       "  <thead>\n",
       "    <tr style=\"text-align: right;\">\n",
       "      <th></th>\n",
       "      <th>대</th>\n",
       "      <th>중</th>\n",
       "      <th>소</th>\n",
       "      <th>발생시간</th>\n",
       "      <th>2011년</th>\n",
       "      <th>2012년</th>\n",
       "      <th>2013년</th>\n",
       "      <th>2014년</th>\n",
       "      <th>2015년</th>\n",
       "      <th>2016년</th>\n",
       "      <th>2017년</th>\n",
       "      <th>2018년</th>\n",
       "      <th>2019년</th>\n",
       "      <th>2020년</th>\n",
       "      <th>2021년</th>\n",
       "      <th>2022년</th>\n",
       "    </tr>\n",
       "  </thead>\n",
       "  <tbody>\n",
       "    <tr>\n",
       "      <th>342</th>\n",
       "      <td>총범죄</td>\n",
       "      <td>교통범죄</td>\n",
       "      <td>소계</td>\n",
       "      <td>00:00~02:59</td>\n",
       "      <td>56475</td>\n",
       "      <td>42507</td>\n",
       "      <td>41457</td>\n",
       "      <td>41939</td>\n",
       "      <td>42233</td>\n",
       "      <td>40532</td>\n",
       "      <td>36241</td>\n",
       "      <td>29333</td>\n",
       "      <td>24513</td>\n",
       "      <td>23344</td>\n",
       "      <td>15052</td>\n",
       "      <td>18498</td>\n",
       "    </tr>\n",
       "    <tr>\n",
       "      <th>343</th>\n",
       "      <td>총범죄</td>\n",
       "      <td>교통범죄</td>\n",
       "      <td>소계</td>\n",
       "      <td>03:00~05:59</td>\n",
       "      <td>30616</td>\n",
       "      <td>31839</td>\n",
       "      <td>31388</td>\n",
       "      <td>32441</td>\n",
       "      <td>35125</td>\n",
       "      <td>37506</td>\n",
       "      <td>33054</td>\n",
       "      <td>27028</td>\n",
       "      <td>23438</td>\n",
       "      <td>21560</td>\n",
       "      <td>12875</td>\n",
       "      <td>15933</td>\n",
       "    </tr>\n",
       "    <tr>\n",
       "      <th>344</th>\n",
       "      <td>총범죄</td>\n",
       "      <td>교통범죄</td>\n",
       "      <td>소계</td>\n",
       "      <td>06:00~08:59</td>\n",
       "      <td>39598</td>\n",
       "      <td>41865</td>\n",
       "      <td>42961</td>\n",
       "      <td>44610</td>\n",
       "      <td>49475</td>\n",
       "      <td>54513</td>\n",
       "      <td>45162</td>\n",
       "      <td>37387</td>\n",
       "      <td>37189</td>\n",
       "      <td>31329</td>\n",
       "      <td>24317</td>\n",
       "      <td>18566</td>\n",
       "    </tr>\n",
       "    <tr>\n",
       "      <th>345</th>\n",
       "      <td>총범죄</td>\n",
       "      <td>교통범죄</td>\n",
       "      <td>소계</td>\n",
       "      <td>09:00~11:59</td>\n",
       "      <td>43072</td>\n",
       "      <td>44621</td>\n",
       "      <td>49310</td>\n",
       "      <td>53045</td>\n",
       "      <td>59046</td>\n",
       "      <td>66856</td>\n",
       "      <td>53784</td>\n",
       "      <td>42453</td>\n",
       "      <td>44265</td>\n",
       "      <td>39356</td>\n",
       "      <td>33579</td>\n",
       "      <td>21755</td>\n",
       "    </tr>\n",
       "    <tr>\n",
       "      <th>346</th>\n",
       "      <td>총범죄</td>\n",
       "      <td>교통범죄</td>\n",
       "      <td>소계</td>\n",
       "      <td>12:00~14:59</td>\n",
       "      <td>33404</td>\n",
       "      <td>47385</td>\n",
       "      <td>50490</td>\n",
       "      <td>54231</td>\n",
       "      <td>60036</td>\n",
       "      <td>63468</td>\n",
       "      <td>51906</td>\n",
       "      <td>42866</td>\n",
       "      <td>45675</td>\n",
       "      <td>44060</td>\n",
       "      <td>39711</td>\n",
       "      <td>23858</td>\n",
       "    </tr>\n",
       "    <tr>\n",
       "      <th>347</th>\n",
       "      <td>총범죄</td>\n",
       "      <td>교통범죄</td>\n",
       "      <td>소계</td>\n",
       "      <td>15:00~17:59</td>\n",
       "      <td>58581</td>\n",
       "      <td>59278</td>\n",
       "      <td>62000</td>\n",
       "      <td>65612</td>\n",
       "      <td>73760</td>\n",
       "      <td>76556</td>\n",
       "      <td>64011</td>\n",
       "      <td>52436</td>\n",
       "      <td>53506</td>\n",
       "      <td>51132</td>\n",
       "      <td>46110</td>\n",
       "      <td>28128</td>\n",
       "    </tr>\n",
       "    <tr>\n",
       "      <th>348</th>\n",
       "      <td>총범죄</td>\n",
       "      <td>교통범죄</td>\n",
       "      <td>소계</td>\n",
       "      <td>18:00~20:59</td>\n",
       "      <td>70419</td>\n",
       "      <td>75466</td>\n",
       "      <td>76543</td>\n",
       "      <td>79167</td>\n",
       "      <td>83198</td>\n",
       "      <td>84797</td>\n",
       "      <td>71345</td>\n",
       "      <td>60050</td>\n",
       "      <td>58164</td>\n",
       "      <td>56373</td>\n",
       "      <td>52167</td>\n",
       "      <td>35737</td>\n",
       "    </tr>\n",
       "    <tr>\n",
       "      <th>349</th>\n",
       "      <td>총범죄</td>\n",
       "      <td>교통범죄</td>\n",
       "      <td>소계</td>\n",
       "      <td>21:00~23:59</td>\n",
       "      <td>160684</td>\n",
       "      <td>157988</td>\n",
       "      <td>173041</td>\n",
       "      <td>157320</td>\n",
       "      <td>152143</td>\n",
       "      <td>138810</td>\n",
       "      <td>112998</td>\n",
       "      <td>90043</td>\n",
       "      <td>70537</td>\n",
       "      <td>63335</td>\n",
       "      <td>69859</td>\n",
       "      <td>59900</td>\n",
       "    </tr>\n",
       "    <tr>\n",
       "      <th>350</th>\n",
       "      <td>총범죄</td>\n",
       "      <td>교통범죄</td>\n",
       "      <td>소계</td>\n",
       "      <td>미상</td>\n",
       "      <td>43318</td>\n",
       "      <td>41835</td>\n",
       "      <td>46263</td>\n",
       "      <td>45128</td>\n",
       "      <td>41649</td>\n",
       "      <td>37363</td>\n",
       "      <td>32661</td>\n",
       "      <td>26775</td>\n",
       "      <td>20067</td>\n",
       "      <td>18236</td>\n",
       "      <td>14964</td>\n",
       "      <td>18654</td>\n",
       "    </tr>\n",
       "  </tbody>\n",
       "</table>\n",
       "</div>"
      ],
      "text/plain": [
       "       대     중   소         발생시간   2011년   2012년   2013년   2014년   2015년  \\\n",
       "342  총범죄  교통범죄  소계  00:00~02:59   56475   42507   41457   41939   42233   \n",
       "343  총범죄  교통범죄  소계  03:00~05:59   30616   31839   31388   32441   35125   \n",
       "344  총범죄  교통범죄  소계  06:00~08:59   39598   41865   42961   44610   49475   \n",
       "345  총범죄  교통범죄  소계  09:00~11:59   43072   44621   49310   53045   59046   \n",
       "346  총범죄  교통범죄  소계  12:00~14:59   33404   47385   50490   54231   60036   \n",
       "347  총범죄  교통범죄  소계  15:00~17:59   58581   59278   62000   65612   73760   \n",
       "348  총범죄  교통범죄  소계  18:00~20:59   70419   75466   76543   79167   83198   \n",
       "349  총범죄  교통범죄  소계  21:00~23:59  160684  157988  173041  157320  152143   \n",
       "350  총범죄  교통범죄  소계           미상   43318   41835   46263   45128   41649   \n",
       "\n",
       "      2016년   2017년  2018년  2019년  2020년  2021년  2022년  \n",
       "342   40532   36241  29333  24513  23344  15052  18498  \n",
       "343   37506   33054  27028  23438  21560  12875  15933  \n",
       "344   54513   45162  37387  37189  31329  24317  18566  \n",
       "345   66856   53784  42453  44265  39356  33579  21755  \n",
       "346   63468   51906  42866  45675  44060  39711  23858  \n",
       "347   76556   64011  52436  53506  51132  46110  28128  \n",
       "348   84797   71345  60050  58164  56373  52167  35737  \n",
       "349  138810  112998  90043  70537  63335  69859  59900  \n",
       "350   37363   32661  26775  20067  18236  14964  18654  "
      ]
     },
     "execution_count": 9,
     "metadata": {},
     "output_type": "execute_result"
    }
   ],
   "source": [
    "vehicle_time_df = crime_time_df[crime_time_df[\"중\"] == \"교통범죄\"]\n",
    "vehicle_time_df"
   ]
  },
  {
   "cell_type": "code",
   "execution_count": 10,
   "metadata": {},
   "outputs": [
    {
     "data": {
      "text/html": [
       "<div>\n",
       "<style scoped>\n",
       "    .dataframe tbody tr th:only-of-type {\n",
       "        vertical-align: middle;\n",
       "    }\n",
       "\n",
       "    .dataframe tbody tr th {\n",
       "        vertical-align: top;\n",
       "    }\n",
       "\n",
       "    .dataframe thead th {\n",
       "        text-align: right;\n",
       "    }\n",
       "</style>\n",
       "<table border=\"1\" class=\"dataframe\">\n",
       "  <thead>\n",
       "    <tr style=\"text-align: right;\">\n",
       "      <th></th>\n",
       "      <th>대</th>\n",
       "      <th>중</th>\n",
       "      <th>소</th>\n",
       "      <th>발생시간</th>\n",
       "      <th>년도</th>\n",
       "      <th>발생건수</th>\n",
       "    </tr>\n",
       "  </thead>\n",
       "  <tbody>\n",
       "    <tr>\n",
       "      <th>0</th>\n",
       "      <td>총범죄</td>\n",
       "      <td>교통범죄</td>\n",
       "      <td>소계</td>\n",
       "      <td>00:00~02:59</td>\n",
       "      <td>2011년</td>\n",
       "      <td>56475</td>\n",
       "    </tr>\n",
       "    <tr>\n",
       "      <th>1</th>\n",
       "      <td>총범죄</td>\n",
       "      <td>교통범죄</td>\n",
       "      <td>소계</td>\n",
       "      <td>03:00~05:59</td>\n",
       "      <td>2011년</td>\n",
       "      <td>30616</td>\n",
       "    </tr>\n",
       "    <tr>\n",
       "      <th>2</th>\n",
       "      <td>총범죄</td>\n",
       "      <td>교통범죄</td>\n",
       "      <td>소계</td>\n",
       "      <td>06:00~08:59</td>\n",
       "      <td>2011년</td>\n",
       "      <td>39598</td>\n",
       "    </tr>\n",
       "    <tr>\n",
       "      <th>3</th>\n",
       "      <td>총범죄</td>\n",
       "      <td>교통범죄</td>\n",
       "      <td>소계</td>\n",
       "      <td>09:00~11:59</td>\n",
       "      <td>2011년</td>\n",
       "      <td>43072</td>\n",
       "    </tr>\n",
       "    <tr>\n",
       "      <th>4</th>\n",
       "      <td>총범죄</td>\n",
       "      <td>교통범죄</td>\n",
       "      <td>소계</td>\n",
       "      <td>12:00~14:59</td>\n",
       "      <td>2011년</td>\n",
       "      <td>33404</td>\n",
       "    </tr>\n",
       "    <tr>\n",
       "      <th>...</th>\n",
       "      <td>...</td>\n",
       "      <td>...</td>\n",
       "      <td>...</td>\n",
       "      <td>...</td>\n",
       "      <td>...</td>\n",
       "      <td>...</td>\n",
       "    </tr>\n",
       "    <tr>\n",
       "      <th>103</th>\n",
       "      <td>총범죄</td>\n",
       "      <td>교통범죄</td>\n",
       "      <td>소계</td>\n",
       "      <td>12:00~14:59</td>\n",
       "      <td>2022년</td>\n",
       "      <td>23858</td>\n",
       "    </tr>\n",
       "    <tr>\n",
       "      <th>104</th>\n",
       "      <td>총범죄</td>\n",
       "      <td>교통범죄</td>\n",
       "      <td>소계</td>\n",
       "      <td>15:00~17:59</td>\n",
       "      <td>2022년</td>\n",
       "      <td>28128</td>\n",
       "    </tr>\n",
       "    <tr>\n",
       "      <th>105</th>\n",
       "      <td>총범죄</td>\n",
       "      <td>교통범죄</td>\n",
       "      <td>소계</td>\n",
       "      <td>18:00~20:59</td>\n",
       "      <td>2022년</td>\n",
       "      <td>35737</td>\n",
       "    </tr>\n",
       "    <tr>\n",
       "      <th>106</th>\n",
       "      <td>총범죄</td>\n",
       "      <td>교통범죄</td>\n",
       "      <td>소계</td>\n",
       "      <td>21:00~23:59</td>\n",
       "      <td>2022년</td>\n",
       "      <td>59900</td>\n",
       "    </tr>\n",
       "    <tr>\n",
       "      <th>107</th>\n",
       "      <td>총범죄</td>\n",
       "      <td>교통범죄</td>\n",
       "      <td>소계</td>\n",
       "      <td>미상</td>\n",
       "      <td>2022년</td>\n",
       "      <td>18654</td>\n",
       "    </tr>\n",
       "  </tbody>\n",
       "</table>\n",
       "<p>108 rows × 6 columns</p>\n",
       "</div>"
      ],
      "text/plain": [
       "       대     중   소         발생시간     년도   발생건수\n",
       "0    총범죄  교통범죄  소계  00:00~02:59  2011년  56475\n",
       "1    총범죄  교통범죄  소계  03:00~05:59  2011년  30616\n",
       "2    총범죄  교통범죄  소계  06:00~08:59  2011년  39598\n",
       "3    총범죄  교통범죄  소계  09:00~11:59  2011년  43072\n",
       "4    총범죄  교통범죄  소계  12:00~14:59  2011년  33404\n",
       "..   ...   ...  ..          ...    ...    ...\n",
       "103  총범죄  교통범죄  소계  12:00~14:59  2022년  23858\n",
       "104  총범죄  교통범죄  소계  15:00~17:59  2022년  28128\n",
       "105  총범죄  교통범죄  소계  18:00~20:59  2022년  35737\n",
       "106  총범죄  교통범죄  소계  21:00~23:59  2022년  59900\n",
       "107  총범죄  교통범죄  소계           미상  2022년  18654\n",
       "\n",
       "[108 rows x 6 columns]"
      ]
     },
     "execution_count": 10,
     "metadata": {},
     "output_type": "execute_result"
    }
   ],
   "source": [
    "vehicle_time_df = vehicle_time_df.melt(id_vars=[\"대\", \"중\", \"소\", \"발생시간\"], var_name=\"년도\", value_name=\"발생건수\")\n",
    "vehicle_time_df"
   ]
  },
  {
   "cell_type": "code",
   "execution_count": 12,
   "metadata": {},
   "outputs": [
    {
     "data": {
      "text/html": [
       "<div>\n",
       "<style scoped>\n",
       "    .dataframe tbody tr th:only-of-type {\n",
       "        vertical-align: middle;\n",
       "    }\n",
       "\n",
       "    .dataframe tbody tr th {\n",
       "        vertical-align: top;\n",
       "    }\n",
       "\n",
       "    .dataframe thead th {\n",
       "        text-align: right;\n",
       "    }\n",
       "</style>\n",
       "<table border=\"1\" class=\"dataframe\">\n",
       "  <thead>\n",
       "    <tr style=\"text-align: right;\">\n",
       "      <th></th>\n",
       "      <th>대</th>\n",
       "      <th>중</th>\n",
       "      <th>소</th>\n",
       "      <th>발생시간</th>\n",
       "      <th>년도</th>\n",
       "      <th>발생건수</th>\n",
       "    </tr>\n",
       "  </thead>\n",
       "  <tbody>\n",
       "    <tr>\n",
       "      <th>45</th>\n",
       "      <td>총범죄</td>\n",
       "      <td>교통범죄</td>\n",
       "      <td>소계</td>\n",
       "      <td>00:00~02:59</td>\n",
       "      <td>2016년</td>\n",
       "      <td>40532</td>\n",
       "    </tr>\n",
       "    <tr>\n",
       "      <th>46</th>\n",
       "      <td>총범죄</td>\n",
       "      <td>교통범죄</td>\n",
       "      <td>소계</td>\n",
       "      <td>03:00~05:59</td>\n",
       "      <td>2016년</td>\n",
       "      <td>37506</td>\n",
       "    </tr>\n",
       "    <tr>\n",
       "      <th>47</th>\n",
       "      <td>총범죄</td>\n",
       "      <td>교통범죄</td>\n",
       "      <td>소계</td>\n",
       "      <td>06:00~08:59</td>\n",
       "      <td>2016년</td>\n",
       "      <td>54513</td>\n",
       "    </tr>\n",
       "    <tr>\n",
       "      <th>48</th>\n",
       "      <td>총범죄</td>\n",
       "      <td>교통범죄</td>\n",
       "      <td>소계</td>\n",
       "      <td>09:00~11:59</td>\n",
       "      <td>2016년</td>\n",
       "      <td>66856</td>\n",
       "    </tr>\n",
       "    <tr>\n",
       "      <th>49</th>\n",
       "      <td>총범죄</td>\n",
       "      <td>교통범죄</td>\n",
       "      <td>소계</td>\n",
       "      <td>12:00~14:59</td>\n",
       "      <td>2016년</td>\n",
       "      <td>63468</td>\n",
       "    </tr>\n",
       "    <tr>\n",
       "      <th>...</th>\n",
       "      <td>...</td>\n",
       "      <td>...</td>\n",
       "      <td>...</td>\n",
       "      <td>...</td>\n",
       "      <td>...</td>\n",
       "      <td>...</td>\n",
       "    </tr>\n",
       "    <tr>\n",
       "      <th>103</th>\n",
       "      <td>총범죄</td>\n",
       "      <td>교통범죄</td>\n",
       "      <td>소계</td>\n",
       "      <td>12:00~14:59</td>\n",
       "      <td>2022년</td>\n",
       "      <td>23858</td>\n",
       "    </tr>\n",
       "    <tr>\n",
       "      <th>104</th>\n",
       "      <td>총범죄</td>\n",
       "      <td>교통범죄</td>\n",
       "      <td>소계</td>\n",
       "      <td>15:00~17:59</td>\n",
       "      <td>2022년</td>\n",
       "      <td>28128</td>\n",
       "    </tr>\n",
       "    <tr>\n",
       "      <th>105</th>\n",
       "      <td>총범죄</td>\n",
       "      <td>교통범죄</td>\n",
       "      <td>소계</td>\n",
       "      <td>18:00~20:59</td>\n",
       "      <td>2022년</td>\n",
       "      <td>35737</td>\n",
       "    </tr>\n",
       "    <tr>\n",
       "      <th>106</th>\n",
       "      <td>총범죄</td>\n",
       "      <td>교통범죄</td>\n",
       "      <td>소계</td>\n",
       "      <td>21:00~23:59</td>\n",
       "      <td>2022년</td>\n",
       "      <td>59900</td>\n",
       "    </tr>\n",
       "    <tr>\n",
       "      <th>107</th>\n",
       "      <td>총범죄</td>\n",
       "      <td>교통범죄</td>\n",
       "      <td>소계</td>\n",
       "      <td>미상</td>\n",
       "      <td>2022년</td>\n",
       "      <td>18654</td>\n",
       "    </tr>\n",
       "  </tbody>\n",
       "</table>\n",
       "<p>63 rows × 6 columns</p>\n",
       "</div>"
      ],
      "text/plain": [
       "       대     중   소         발생시간     년도   발생건수\n",
       "45   총범죄  교통범죄  소계  00:00~02:59  2016년  40532\n",
       "46   총범죄  교통범죄  소계  03:00~05:59  2016년  37506\n",
       "47   총범죄  교통범죄  소계  06:00~08:59  2016년  54513\n",
       "48   총범죄  교통범죄  소계  09:00~11:59  2016년  66856\n",
       "49   총범죄  교통범죄  소계  12:00~14:59  2016년  63468\n",
       "..   ...   ...  ..          ...    ...    ...\n",
       "103  총범죄  교통범죄  소계  12:00~14:59  2022년  23858\n",
       "104  총범죄  교통범죄  소계  15:00~17:59  2022년  28128\n",
       "105  총범죄  교통범죄  소계  18:00~20:59  2022년  35737\n",
       "106  총범죄  교통범죄  소계  21:00~23:59  2022년  59900\n",
       "107  총범죄  교통범죄  소계           미상  2022년  18654\n",
       "\n",
       "[63 rows x 6 columns]"
      ]
     },
     "execution_count": 12,
     "metadata": {},
     "output_type": "execute_result"
    }
   ],
   "source": [
    "vehicle_time_df = vehicle_time_df[( vehicle_time_df[\"년도\"] == \"2016년\" ) | ( vehicle_time_df[\"년도\"] == \"2017년\" ) | ( vehicle_time_df[\"년도\"] == \"2018년\" ) | ( vehicle_time_df[\"년도\"] == \"2019년\" )| ( vehicle_time_df[\"년도\"] == \"2020년\" )| ( vehicle_time_df[\"년도\"] == \"2021년\" )| ( vehicle_time_df[\"년도\"] == \"2022년\" ) ]\n",
    "vehicle_time_df"
   ]
  },
  {
   "cell_type": "code",
   "execution_count": 14,
   "metadata": {},
   "outputs": [
    {
     "data": {
      "application/vnd.plotly.v1+json": {
       "config": {
        "plotlyServerURL": "https://plot.ly"
       },
       "data": [
        {
         "alignmentgroup": "True",
         "hovertemplate": "발생시간=00:00~02:59<br>년도=%{x}<br>발생건수=%{y}<extra></extra>",
         "legendgroup": "00:00~02:59",
         "marker": {
          "color": "#636efa",
          "pattern": {
           "shape": ""
          }
         },
         "name": "00:00~02:59",
         "offsetgroup": "00:00~02:59",
         "orientation": "v",
         "showlegend": true,
         "textposition": "auto",
         "type": "bar",
         "x": [
          "2016년",
          "2017년",
          "2018년",
          "2019년",
          "2020년",
          "2021년",
          "2022년"
         ],
         "xaxis": "x",
         "y": [
          40532,
          36241,
          29333,
          24513,
          23344,
          15052,
          18498
         ],
         "yaxis": "y"
        },
        {
         "alignmentgroup": "True",
         "hovertemplate": "발생시간=03:00~05:59<br>년도=%{x}<br>발생건수=%{y}<extra></extra>",
         "legendgroup": "03:00~05:59",
         "marker": {
          "color": "#EF553B",
          "pattern": {
           "shape": ""
          }
         },
         "name": "03:00~05:59",
         "offsetgroup": "03:00~05:59",
         "orientation": "v",
         "showlegend": true,
         "textposition": "auto",
         "type": "bar",
         "x": [
          "2016년",
          "2017년",
          "2018년",
          "2019년",
          "2020년",
          "2021년",
          "2022년"
         ],
         "xaxis": "x",
         "y": [
          37506,
          33054,
          27028,
          23438,
          21560,
          12875,
          15933
         ],
         "yaxis": "y"
        },
        {
         "alignmentgroup": "True",
         "hovertemplate": "발생시간=06:00~08:59<br>년도=%{x}<br>발생건수=%{y}<extra></extra>",
         "legendgroup": "06:00~08:59",
         "marker": {
          "color": "#00cc96",
          "pattern": {
           "shape": ""
          }
         },
         "name": "06:00~08:59",
         "offsetgroup": "06:00~08:59",
         "orientation": "v",
         "showlegend": true,
         "textposition": "auto",
         "type": "bar",
         "x": [
          "2016년",
          "2017년",
          "2018년",
          "2019년",
          "2020년",
          "2021년",
          "2022년"
         ],
         "xaxis": "x",
         "y": [
          54513,
          45162,
          37387,
          37189,
          31329,
          24317,
          18566
         ],
         "yaxis": "y"
        },
        {
         "alignmentgroup": "True",
         "hovertemplate": "발생시간=09:00~11:59<br>년도=%{x}<br>발생건수=%{y}<extra></extra>",
         "legendgroup": "09:00~11:59",
         "marker": {
          "color": "#ab63fa",
          "pattern": {
           "shape": ""
          }
         },
         "name": "09:00~11:59",
         "offsetgroup": "09:00~11:59",
         "orientation": "v",
         "showlegend": true,
         "textposition": "auto",
         "type": "bar",
         "x": [
          "2016년",
          "2017년",
          "2018년",
          "2019년",
          "2020년",
          "2021년",
          "2022년"
         ],
         "xaxis": "x",
         "y": [
          66856,
          53784,
          42453,
          44265,
          39356,
          33579,
          21755
         ],
         "yaxis": "y"
        },
        {
         "alignmentgroup": "True",
         "hovertemplate": "발생시간=12:00~14:59<br>년도=%{x}<br>발생건수=%{y}<extra></extra>",
         "legendgroup": "12:00~14:59",
         "marker": {
          "color": "#FFA15A",
          "pattern": {
           "shape": ""
          }
         },
         "name": "12:00~14:59",
         "offsetgroup": "12:00~14:59",
         "orientation": "v",
         "showlegend": true,
         "textposition": "auto",
         "type": "bar",
         "x": [
          "2016년",
          "2017년",
          "2018년",
          "2019년",
          "2020년",
          "2021년",
          "2022년"
         ],
         "xaxis": "x",
         "y": [
          63468,
          51906,
          42866,
          45675,
          44060,
          39711,
          23858
         ],
         "yaxis": "y"
        },
        {
         "alignmentgroup": "True",
         "hovertemplate": "발생시간=15:00~17:59<br>년도=%{x}<br>발생건수=%{y}<extra></extra>",
         "legendgroup": "15:00~17:59",
         "marker": {
          "color": "#19d3f3",
          "pattern": {
           "shape": ""
          }
         },
         "name": "15:00~17:59",
         "offsetgroup": "15:00~17:59",
         "orientation": "v",
         "showlegend": true,
         "textposition": "auto",
         "type": "bar",
         "x": [
          "2016년",
          "2017년",
          "2018년",
          "2019년",
          "2020년",
          "2021년",
          "2022년"
         ],
         "xaxis": "x",
         "y": [
          76556,
          64011,
          52436,
          53506,
          51132,
          46110,
          28128
         ],
         "yaxis": "y"
        },
        {
         "alignmentgroup": "True",
         "hovertemplate": "발생시간=18:00~20:59<br>년도=%{x}<br>발생건수=%{y}<extra></extra>",
         "legendgroup": "18:00~20:59",
         "marker": {
          "color": "#FF6692",
          "pattern": {
           "shape": ""
          }
         },
         "name": "18:00~20:59",
         "offsetgroup": "18:00~20:59",
         "orientation": "v",
         "showlegend": true,
         "textposition": "auto",
         "type": "bar",
         "x": [
          "2016년",
          "2017년",
          "2018년",
          "2019년",
          "2020년",
          "2021년",
          "2022년"
         ],
         "xaxis": "x",
         "y": [
          84797,
          71345,
          60050,
          58164,
          56373,
          52167,
          35737
         ],
         "yaxis": "y"
        },
        {
         "alignmentgroup": "True",
         "hovertemplate": "발생시간=21:00~23:59<br>년도=%{x}<br>발생건수=%{y}<extra></extra>",
         "legendgroup": "21:00~23:59",
         "marker": {
          "color": "#B6E880",
          "pattern": {
           "shape": ""
          }
         },
         "name": "21:00~23:59",
         "offsetgroup": "21:00~23:59",
         "orientation": "v",
         "showlegend": true,
         "textposition": "auto",
         "type": "bar",
         "x": [
          "2016년",
          "2017년",
          "2018년",
          "2019년",
          "2020년",
          "2021년",
          "2022년"
         ],
         "xaxis": "x",
         "y": [
          138810,
          112998,
          90043,
          70537,
          63335,
          69859,
          59900
         ],
         "yaxis": "y"
        },
        {
         "alignmentgroup": "True",
         "hovertemplate": "발생시간=미상<br>년도=%{x}<br>발생건수=%{y}<extra></extra>",
         "legendgroup": "미상",
         "marker": {
          "color": "#FF97FF",
          "pattern": {
           "shape": ""
          }
         },
         "name": "미상",
         "offsetgroup": "미상",
         "orientation": "v",
         "showlegend": true,
         "textposition": "auto",
         "type": "bar",
         "x": [
          "2016년",
          "2017년",
          "2018년",
          "2019년",
          "2020년",
          "2021년",
          "2022년"
         ],
         "xaxis": "x",
         "y": [
          37363,
          32661,
          26775,
          20067,
          18236,
          14964,
          18654
         ],
         "yaxis": "y"
        }
       ],
       "layout": {
        "barmode": "relative",
        "legend": {
         "title": {
          "text": "발생시간"
         },
         "tracegroupgap": 0
        },
        "margin": {
         "t": 60
        },
        "template": {
         "data": {
          "bar": [
           {
            "error_x": {
             "color": "#2a3f5f"
            },
            "error_y": {
             "color": "#2a3f5f"
            },
            "marker": {
             "line": {
              "color": "#E5ECF6",
              "width": 0.5
             },
             "pattern": {
              "fillmode": "overlay",
              "size": 10,
              "solidity": 0.2
             }
            },
            "type": "bar"
           }
          ],
          "barpolar": [
           {
            "marker": {
             "line": {
              "color": "#E5ECF6",
              "width": 0.5
             },
             "pattern": {
              "fillmode": "overlay",
              "size": 10,
              "solidity": 0.2
             }
            },
            "type": "barpolar"
           }
          ],
          "carpet": [
           {
            "aaxis": {
             "endlinecolor": "#2a3f5f",
             "gridcolor": "white",
             "linecolor": "white",
             "minorgridcolor": "white",
             "startlinecolor": "#2a3f5f"
            },
            "baxis": {
             "endlinecolor": "#2a3f5f",
             "gridcolor": "white",
             "linecolor": "white",
             "minorgridcolor": "white",
             "startlinecolor": "#2a3f5f"
            },
            "type": "carpet"
           }
          ],
          "choropleth": [
           {
            "colorbar": {
             "outlinewidth": 0,
             "ticks": ""
            },
            "type": "choropleth"
           }
          ],
          "contour": [
           {
            "colorbar": {
             "outlinewidth": 0,
             "ticks": ""
            },
            "colorscale": [
             [
              0,
              "#0d0887"
             ],
             [
              0.1111111111111111,
              "#46039f"
             ],
             [
              0.2222222222222222,
              "#7201a8"
             ],
             [
              0.3333333333333333,
              "#9c179e"
             ],
             [
              0.4444444444444444,
              "#bd3786"
             ],
             [
              0.5555555555555556,
              "#d8576b"
             ],
             [
              0.6666666666666666,
              "#ed7953"
             ],
             [
              0.7777777777777778,
              "#fb9f3a"
             ],
             [
              0.8888888888888888,
              "#fdca26"
             ],
             [
              1,
              "#f0f921"
             ]
            ],
            "type": "contour"
           }
          ],
          "contourcarpet": [
           {
            "colorbar": {
             "outlinewidth": 0,
             "ticks": ""
            },
            "type": "contourcarpet"
           }
          ],
          "heatmap": [
           {
            "colorbar": {
             "outlinewidth": 0,
             "ticks": ""
            },
            "colorscale": [
             [
              0,
              "#0d0887"
             ],
             [
              0.1111111111111111,
              "#46039f"
             ],
             [
              0.2222222222222222,
              "#7201a8"
             ],
             [
              0.3333333333333333,
              "#9c179e"
             ],
             [
              0.4444444444444444,
              "#bd3786"
             ],
             [
              0.5555555555555556,
              "#d8576b"
             ],
             [
              0.6666666666666666,
              "#ed7953"
             ],
             [
              0.7777777777777778,
              "#fb9f3a"
             ],
             [
              0.8888888888888888,
              "#fdca26"
             ],
             [
              1,
              "#f0f921"
             ]
            ],
            "type": "heatmap"
           }
          ],
          "heatmapgl": [
           {
            "colorbar": {
             "outlinewidth": 0,
             "ticks": ""
            },
            "colorscale": [
             [
              0,
              "#0d0887"
             ],
             [
              0.1111111111111111,
              "#46039f"
             ],
             [
              0.2222222222222222,
              "#7201a8"
             ],
             [
              0.3333333333333333,
              "#9c179e"
             ],
             [
              0.4444444444444444,
              "#bd3786"
             ],
             [
              0.5555555555555556,
              "#d8576b"
             ],
             [
              0.6666666666666666,
              "#ed7953"
             ],
             [
              0.7777777777777778,
              "#fb9f3a"
             ],
             [
              0.8888888888888888,
              "#fdca26"
             ],
             [
              1,
              "#f0f921"
             ]
            ],
            "type": "heatmapgl"
           }
          ],
          "histogram": [
           {
            "marker": {
             "pattern": {
              "fillmode": "overlay",
              "size": 10,
              "solidity": 0.2
             }
            },
            "type": "histogram"
           }
          ],
          "histogram2d": [
           {
            "colorbar": {
             "outlinewidth": 0,
             "ticks": ""
            },
            "colorscale": [
             [
              0,
              "#0d0887"
             ],
             [
              0.1111111111111111,
              "#46039f"
             ],
             [
              0.2222222222222222,
              "#7201a8"
             ],
             [
              0.3333333333333333,
              "#9c179e"
             ],
             [
              0.4444444444444444,
              "#bd3786"
             ],
             [
              0.5555555555555556,
              "#d8576b"
             ],
             [
              0.6666666666666666,
              "#ed7953"
             ],
             [
              0.7777777777777778,
              "#fb9f3a"
             ],
             [
              0.8888888888888888,
              "#fdca26"
             ],
             [
              1,
              "#f0f921"
             ]
            ],
            "type": "histogram2d"
           }
          ],
          "histogram2dcontour": [
           {
            "colorbar": {
             "outlinewidth": 0,
             "ticks": ""
            },
            "colorscale": [
             [
              0,
              "#0d0887"
             ],
             [
              0.1111111111111111,
              "#46039f"
             ],
             [
              0.2222222222222222,
              "#7201a8"
             ],
             [
              0.3333333333333333,
              "#9c179e"
             ],
             [
              0.4444444444444444,
              "#bd3786"
             ],
             [
              0.5555555555555556,
              "#d8576b"
             ],
             [
              0.6666666666666666,
              "#ed7953"
             ],
             [
              0.7777777777777778,
              "#fb9f3a"
             ],
             [
              0.8888888888888888,
              "#fdca26"
             ],
             [
              1,
              "#f0f921"
             ]
            ],
            "type": "histogram2dcontour"
           }
          ],
          "mesh3d": [
           {
            "colorbar": {
             "outlinewidth": 0,
             "ticks": ""
            },
            "type": "mesh3d"
           }
          ],
          "parcoords": [
           {
            "line": {
             "colorbar": {
              "outlinewidth": 0,
              "ticks": ""
             }
            },
            "type": "parcoords"
           }
          ],
          "pie": [
           {
            "automargin": true,
            "type": "pie"
           }
          ],
          "scatter": [
           {
            "fillpattern": {
             "fillmode": "overlay",
             "size": 10,
             "solidity": 0.2
            },
            "type": "scatter"
           }
          ],
          "scatter3d": [
           {
            "line": {
             "colorbar": {
              "outlinewidth": 0,
              "ticks": ""
             }
            },
            "marker": {
             "colorbar": {
              "outlinewidth": 0,
              "ticks": ""
             }
            },
            "type": "scatter3d"
           }
          ],
          "scattercarpet": [
           {
            "marker": {
             "colorbar": {
              "outlinewidth": 0,
              "ticks": ""
             }
            },
            "type": "scattercarpet"
           }
          ],
          "scattergeo": [
           {
            "marker": {
             "colorbar": {
              "outlinewidth": 0,
              "ticks": ""
             }
            },
            "type": "scattergeo"
           }
          ],
          "scattergl": [
           {
            "marker": {
             "colorbar": {
              "outlinewidth": 0,
              "ticks": ""
             }
            },
            "type": "scattergl"
           }
          ],
          "scattermapbox": [
           {
            "marker": {
             "colorbar": {
              "outlinewidth": 0,
              "ticks": ""
             }
            },
            "type": "scattermapbox"
           }
          ],
          "scatterpolar": [
           {
            "marker": {
             "colorbar": {
              "outlinewidth": 0,
              "ticks": ""
             }
            },
            "type": "scatterpolar"
           }
          ],
          "scatterpolargl": [
           {
            "marker": {
             "colorbar": {
              "outlinewidth": 0,
              "ticks": ""
             }
            },
            "type": "scatterpolargl"
           }
          ],
          "scatterternary": [
           {
            "marker": {
             "colorbar": {
              "outlinewidth": 0,
              "ticks": ""
             }
            },
            "type": "scatterternary"
           }
          ],
          "surface": [
           {
            "colorbar": {
             "outlinewidth": 0,
             "ticks": ""
            },
            "colorscale": [
             [
              0,
              "#0d0887"
             ],
             [
              0.1111111111111111,
              "#46039f"
             ],
             [
              0.2222222222222222,
              "#7201a8"
             ],
             [
              0.3333333333333333,
              "#9c179e"
             ],
             [
              0.4444444444444444,
              "#bd3786"
             ],
             [
              0.5555555555555556,
              "#d8576b"
             ],
             [
              0.6666666666666666,
              "#ed7953"
             ],
             [
              0.7777777777777778,
              "#fb9f3a"
             ],
             [
              0.8888888888888888,
              "#fdca26"
             ],
             [
              1,
              "#f0f921"
             ]
            ],
            "type": "surface"
           }
          ],
          "table": [
           {
            "cells": {
             "fill": {
              "color": "#EBF0F8"
             },
             "line": {
              "color": "white"
             }
            },
            "header": {
             "fill": {
              "color": "#C8D4E3"
             },
             "line": {
              "color": "white"
             }
            },
            "type": "table"
           }
          ]
         },
         "layout": {
          "annotationdefaults": {
           "arrowcolor": "#2a3f5f",
           "arrowhead": 0,
           "arrowwidth": 1
          },
          "autotypenumbers": "strict",
          "coloraxis": {
           "colorbar": {
            "outlinewidth": 0,
            "ticks": ""
           }
          },
          "colorscale": {
           "diverging": [
            [
             0,
             "#8e0152"
            ],
            [
             0.1,
             "#c51b7d"
            ],
            [
             0.2,
             "#de77ae"
            ],
            [
             0.3,
             "#f1b6da"
            ],
            [
             0.4,
             "#fde0ef"
            ],
            [
             0.5,
             "#f7f7f7"
            ],
            [
             0.6,
             "#e6f5d0"
            ],
            [
             0.7,
             "#b8e186"
            ],
            [
             0.8,
             "#7fbc41"
            ],
            [
             0.9,
             "#4d9221"
            ],
            [
             1,
             "#276419"
            ]
           ],
           "sequential": [
            [
             0,
             "#0d0887"
            ],
            [
             0.1111111111111111,
             "#46039f"
            ],
            [
             0.2222222222222222,
             "#7201a8"
            ],
            [
             0.3333333333333333,
             "#9c179e"
            ],
            [
             0.4444444444444444,
             "#bd3786"
            ],
            [
             0.5555555555555556,
             "#d8576b"
            ],
            [
             0.6666666666666666,
             "#ed7953"
            ],
            [
             0.7777777777777778,
             "#fb9f3a"
            ],
            [
             0.8888888888888888,
             "#fdca26"
            ],
            [
             1,
             "#f0f921"
            ]
           ],
           "sequentialminus": [
            [
             0,
             "#0d0887"
            ],
            [
             0.1111111111111111,
             "#46039f"
            ],
            [
             0.2222222222222222,
             "#7201a8"
            ],
            [
             0.3333333333333333,
             "#9c179e"
            ],
            [
             0.4444444444444444,
             "#bd3786"
            ],
            [
             0.5555555555555556,
             "#d8576b"
            ],
            [
             0.6666666666666666,
             "#ed7953"
            ],
            [
             0.7777777777777778,
             "#fb9f3a"
            ],
            [
             0.8888888888888888,
             "#fdca26"
            ],
            [
             1,
             "#f0f921"
            ]
           ]
          },
          "colorway": [
           "#636efa",
           "#EF553B",
           "#00cc96",
           "#ab63fa",
           "#FFA15A",
           "#19d3f3",
           "#FF6692",
           "#B6E880",
           "#FF97FF",
           "#FECB52"
          ],
          "font": {
           "color": "#2a3f5f"
          },
          "geo": {
           "bgcolor": "white",
           "lakecolor": "white",
           "landcolor": "#E5ECF6",
           "showlakes": true,
           "showland": true,
           "subunitcolor": "white"
          },
          "hoverlabel": {
           "align": "left"
          },
          "hovermode": "closest",
          "mapbox": {
           "style": "light"
          },
          "paper_bgcolor": "white",
          "plot_bgcolor": "#E5ECF6",
          "polar": {
           "angularaxis": {
            "gridcolor": "white",
            "linecolor": "white",
            "ticks": ""
           },
           "bgcolor": "#E5ECF6",
           "radialaxis": {
            "gridcolor": "white",
            "linecolor": "white",
            "ticks": ""
           }
          },
          "scene": {
           "xaxis": {
            "backgroundcolor": "#E5ECF6",
            "gridcolor": "white",
            "gridwidth": 2,
            "linecolor": "white",
            "showbackground": true,
            "ticks": "",
            "zerolinecolor": "white"
           },
           "yaxis": {
            "backgroundcolor": "#E5ECF6",
            "gridcolor": "white",
            "gridwidth": 2,
            "linecolor": "white",
            "showbackground": true,
            "ticks": "",
            "zerolinecolor": "white"
           },
           "zaxis": {
            "backgroundcolor": "#E5ECF6",
            "gridcolor": "white",
            "gridwidth": 2,
            "linecolor": "white",
            "showbackground": true,
            "ticks": "",
            "zerolinecolor": "white"
           }
          },
          "shapedefaults": {
           "line": {
            "color": "#2a3f5f"
           }
          },
          "ternary": {
           "aaxis": {
            "gridcolor": "white",
            "linecolor": "white",
            "ticks": ""
           },
           "baxis": {
            "gridcolor": "white",
            "linecolor": "white",
            "ticks": ""
           },
           "bgcolor": "#E5ECF6",
           "caxis": {
            "gridcolor": "white",
            "linecolor": "white",
            "ticks": ""
           }
          },
          "title": {
           "x": 0.05
          },
          "xaxis": {
           "automargin": true,
           "gridcolor": "white",
           "linecolor": "white",
           "ticks": "",
           "title": {
            "standoff": 15
           },
           "zerolinecolor": "white",
           "zerolinewidth": 2
          },
          "yaxis": {
           "automargin": true,
           "gridcolor": "white",
           "linecolor": "white",
           "ticks": "",
           "title": {
            "standoff": 15
           },
           "zerolinecolor": "white",
           "zerolinewidth": 2
          }
         }
        },
        "title": {
         "font": {
          "size": 22
         },
         "text": "연도별 범죄 시간대 따른 교통범죄 발생 건 수",
         "x": 0.5
        },
        "xaxis": {
         "anchor": "y",
         "domain": [
          0,
          1
         ],
         "tickangle": -45,
         "title": {
          "text": "년도"
         }
        },
        "yaxis": {
         "anchor": "x",
         "domain": [
          0,
          1
         ],
         "title": {
          "text": "발생건수"
         }
        }
       }
      }
     },
     "metadata": {},
     "output_type": "display_data"
    }
   ],
   "source": [
    "fig = px.bar(vehicle_time_df, x=\"년도\", y=\"발생건수\", color=\"발생시간\")\n",
    "fig.update_layout(title_text=\"2016년 이후 시간대 따른 교통범죄 발생 건 수\", xaxis_tickangle=-45, title_x = 0.5, title_font_size=22)\n",
    "fig.show()"
   ]
  },
  {
   "cell_type": "code",
   "execution_count": 5,
   "metadata": {},
   "outputs": [
    {
     "data": {
      "text/html": [
       "<div>\n",
       "<style scoped>\n",
       "    .dataframe tbody tr th:only-of-type {\n",
       "        vertical-align: middle;\n",
       "    }\n",
       "\n",
       "    .dataframe tbody tr th {\n",
       "        vertical-align: top;\n",
       "    }\n",
       "\n",
       "    .dataframe thead th {\n",
       "        text-align: right;\n",
       "    }\n",
       "</style>\n",
       "<table border=\"1\" class=\"dataframe\">\n",
       "  <thead>\n",
       "    <tr style=\"text-align: right;\">\n",
       "      <th></th>\n",
       "      <th>대</th>\n",
       "      <th>중</th>\n",
       "      <th>소</th>\n",
       "      <th>발생요일</th>\n",
       "      <th>2011년</th>\n",
       "      <th>2012년</th>\n",
       "      <th>2013년</th>\n",
       "      <th>2014년</th>\n",
       "      <th>2015년</th>\n",
       "      <th>2016년</th>\n",
       "      <th>2017년</th>\n",
       "      <th>2018년</th>\n",
       "      <th>2019년</th>\n",
       "      <th>2020년</th>\n",
       "      <th>2021년</th>\n",
       "      <th>2022년</th>\n",
       "    </tr>\n",
       "  </thead>\n",
       "  <tbody>\n",
       "    <tr>\n",
       "      <th>0</th>\n",
       "      <td>총범죄</td>\n",
       "      <td>강력범죄</td>\n",
       "      <td>강간</td>\n",
       "      <td>금요일</td>\n",
       "      <td>0</td>\n",
       "      <td>0</td>\n",
       "      <td>819</td>\n",
       "      <td>746</td>\n",
       "      <td>699</td>\n",
       "      <td>760</td>\n",
       "      <td>757</td>\n",
       "      <td>699</td>\n",
       "      <td>722</td>\n",
       "      <td>760</td>\n",
       "      <td>695</td>\n",
       "      <td>772</td>\n",
       "    </tr>\n",
       "    <tr>\n",
       "      <th>1</th>\n",
       "      <td>총범죄</td>\n",
       "      <td>강력범죄</td>\n",
       "      <td>강간</td>\n",
       "      <td>목요일</td>\n",
       "      <td>0</td>\n",
       "      <td>0</td>\n",
       "      <td>767</td>\n",
       "      <td>680</td>\n",
       "      <td>629</td>\n",
       "      <td>615</td>\n",
       "      <td>665</td>\n",
       "      <td>646</td>\n",
       "      <td>682</td>\n",
       "      <td>701</td>\n",
       "      <td>706</td>\n",
       "      <td>681</td>\n",
       "    </tr>\n",
       "    <tr>\n",
       "      <th>2</th>\n",
       "      <td>총범죄</td>\n",
       "      <td>강력범죄</td>\n",
       "      <td>강간</td>\n",
       "      <td>수요일</td>\n",
       "      <td>0</td>\n",
       "      <td>0</td>\n",
       "      <td>711</td>\n",
       "      <td>673</td>\n",
       "      <td>683</td>\n",
       "      <td>655</td>\n",
       "      <td>680</td>\n",
       "      <td>743</td>\n",
       "      <td>719</td>\n",
       "      <td>712</td>\n",
       "      <td>654</td>\n",
       "      <td>718</td>\n",
       "    </tr>\n",
       "    <tr>\n",
       "      <th>3</th>\n",
       "      <td>총범죄</td>\n",
       "      <td>강력범죄</td>\n",
       "      <td>강간</td>\n",
       "      <td>월요일</td>\n",
       "      <td>0</td>\n",
       "      <td>0</td>\n",
       "      <td>759</td>\n",
       "      <td>628</td>\n",
       "      <td>670</td>\n",
       "      <td>655</td>\n",
       "      <td>690</td>\n",
       "      <td>698</td>\n",
       "      <td>686</td>\n",
       "      <td>699</td>\n",
       "      <td>773</td>\n",
       "      <td>770</td>\n",
       "    </tr>\n",
       "    <tr>\n",
       "      <th>4</th>\n",
       "      <td>총범죄</td>\n",
       "      <td>강력범죄</td>\n",
       "      <td>강간</td>\n",
       "      <td>일요일</td>\n",
       "      <td>0</td>\n",
       "      <td>0</td>\n",
       "      <td>925</td>\n",
       "      <td>789</td>\n",
       "      <td>875</td>\n",
       "      <td>873</td>\n",
       "      <td>890</td>\n",
       "      <td>906</td>\n",
       "      <td>869</td>\n",
       "      <td>909</td>\n",
       "      <td>878</td>\n",
       "      <td>869</td>\n",
       "    </tr>\n",
       "  </tbody>\n",
       "</table>\n",
       "</div>"
      ],
      "text/plain": [
       "     대     중   소 발생요일  2011년  2012년  2013년  2014년  2015년  2016년  2017년  2018년  \\\n",
       "0  총범죄  강력범죄  강간  금요일      0      0    819    746    699    760    757    699   \n",
       "1  총범죄  강력범죄  강간  목요일      0      0    767    680    629    615    665    646   \n",
       "2  총범죄  강력범죄  강간  수요일      0      0    711    673    683    655    680    743   \n",
       "3  총범죄  강력범죄  강간  월요일      0      0    759    628    670    655    690    698   \n",
       "4  총범죄  강력범죄  강간  일요일      0      0    925    789    875    873    890    906   \n",
       "\n",
       "   2019년  2020년  2021년  2022년  \n",
       "0    722    760    695    772  \n",
       "1    682    701    706    681  \n",
       "2    719    712    654    718  \n",
       "3    686    699    773    770  \n",
       "4    869    909    878    869  "
      ]
     },
     "execution_count": 5,
     "metadata": {},
     "output_type": "execute_result"
    }
   ],
   "source": [
    "crime.execute(\"SELECT * FROM crime_dotweek_after\")\n",
    "result = crime.fetchall()\n",
    "\n",
    "crime_dotweek_df = pd.DataFrame(result)\n",
    "crime_dotweek_df.head()"
   ]
  },
  {
   "cell_type": "code",
   "execution_count": 6,
   "metadata": {},
   "outputs": [
    {
     "data": {
      "text/html": [
       "<div>\n",
       "<style scoped>\n",
       "    .dataframe tbody tr th:only-of-type {\n",
       "        vertical-align: middle;\n",
       "    }\n",
       "\n",
       "    .dataframe tbody tr th {\n",
       "        vertical-align: top;\n",
       "    }\n",
       "\n",
       "    .dataframe thead th {\n",
       "        text-align: right;\n",
       "    }\n",
       "</style>\n",
       "<table border=\"1\" class=\"dataframe\">\n",
       "  <thead>\n",
       "    <tr style=\"text-align: right;\">\n",
       "      <th></th>\n",
       "      <th>대</th>\n",
       "      <th>중</th>\n",
       "      <th>소</th>\n",
       "      <th>발생요일</th>\n",
       "      <th>2011년</th>\n",
       "      <th>2012년</th>\n",
       "      <th>2013년</th>\n",
       "      <th>2014년</th>\n",
       "      <th>2015년</th>\n",
       "      <th>2016년</th>\n",
       "      <th>2017년</th>\n",
       "      <th>2018년</th>\n",
       "      <th>2019년</th>\n",
       "      <th>2020년</th>\n",
       "      <th>2021년</th>\n",
       "      <th>2022년</th>\n",
       "    </tr>\n",
       "  </thead>\n",
       "  <tbody>\n",
       "    <tr>\n",
       "      <th>133</th>\n",
       "      <td>총범죄</td>\n",
       "      <td>절도범죄</td>\n",
       "      <td>소계</td>\n",
       "      <td>금요일</td>\n",
       "      <td>42692</td>\n",
       "      <td>44051</td>\n",
       "      <td>43634</td>\n",
       "      <td>40471</td>\n",
       "      <td>37363</td>\n",
       "      <td>30852</td>\n",
       "      <td>27505</td>\n",
       "      <td>26398</td>\n",
       "      <td>28156</td>\n",
       "      <td>27311</td>\n",
       "      <td>25209</td>\n",
       "      <td>28133</td>\n",
       "    </tr>\n",
       "    <tr>\n",
       "      <th>134</th>\n",
       "      <td>총범죄</td>\n",
       "      <td>절도범죄</td>\n",
       "      <td>소계</td>\n",
       "      <td>목요일</td>\n",
       "      <td>39233</td>\n",
       "      <td>40576</td>\n",
       "      <td>40372</td>\n",
       "      <td>36805</td>\n",
       "      <td>33668</td>\n",
       "      <td>27809</td>\n",
       "      <td>25746</td>\n",
       "      <td>24400</td>\n",
       "      <td>26098</td>\n",
       "      <td>24974</td>\n",
       "      <td>23989</td>\n",
       "      <td>26137</td>\n",
       "    </tr>\n",
       "    <tr>\n",
       "      <th>135</th>\n",
       "      <td>총범죄</td>\n",
       "      <td>절도범죄</td>\n",
       "      <td>소계</td>\n",
       "      <td>수요일</td>\n",
       "      <td>39674</td>\n",
       "      <td>40306</td>\n",
       "      <td>40451</td>\n",
       "      <td>36689</td>\n",
       "      <td>34908</td>\n",
       "      <td>27861</td>\n",
       "      <td>25147</td>\n",
       "      <td>24761</td>\n",
       "      <td>26061</td>\n",
       "      <td>25538</td>\n",
       "      <td>23743</td>\n",
       "      <td>26203</td>\n",
       "    </tr>\n",
       "    <tr>\n",
       "      <th>136</th>\n",
       "      <td>총범죄</td>\n",
       "      <td>절도범죄</td>\n",
       "      <td>소계</td>\n",
       "      <td>월요일</td>\n",
       "      <td>39466</td>\n",
       "      <td>39237</td>\n",
       "      <td>40199</td>\n",
       "      <td>35699</td>\n",
       "      <td>34039</td>\n",
       "      <td>27683</td>\n",
       "      <td>25011</td>\n",
       "      <td>24354</td>\n",
       "      <td>26239</td>\n",
       "      <td>25196</td>\n",
       "      <td>23429</td>\n",
       "      <td>25210</td>\n",
       "    </tr>\n",
       "    <tr>\n",
       "      <th>137</th>\n",
       "      <td>총범죄</td>\n",
       "      <td>절도범죄</td>\n",
       "      <td>소계</td>\n",
       "      <td>일요일</td>\n",
       "      <td>37476</td>\n",
       "      <td>40168</td>\n",
       "      <td>38781</td>\n",
       "      <td>36895</td>\n",
       "      <td>33217</td>\n",
       "      <td>28759</td>\n",
       "      <td>25926</td>\n",
       "      <td>24832</td>\n",
       "      <td>25466</td>\n",
       "      <td>23771</td>\n",
       "      <td>21687</td>\n",
       "      <td>23632</td>\n",
       "    </tr>\n",
       "    <tr>\n",
       "      <th>138</th>\n",
       "      <td>총범죄</td>\n",
       "      <td>절도범죄</td>\n",
       "      <td>소계</td>\n",
       "      <td>토요일</td>\n",
       "      <td>43084</td>\n",
       "      <td>46192</td>\n",
       "      <td>45667</td>\n",
       "      <td>42693</td>\n",
       "      <td>39215</td>\n",
       "      <td>32445</td>\n",
       "      <td>29623</td>\n",
       "      <td>27786</td>\n",
       "      <td>29266</td>\n",
       "      <td>27557</td>\n",
       "      <td>24897</td>\n",
       "      <td>27511</td>\n",
       "    </tr>\n",
       "    <tr>\n",
       "      <th>139</th>\n",
       "      <td>총범죄</td>\n",
       "      <td>절도범죄</td>\n",
       "      <td>소계</td>\n",
       "      <td>화요일</td>\n",
       "      <td>39737</td>\n",
       "      <td>39930</td>\n",
       "      <td>39239</td>\n",
       "      <td>36970</td>\n",
       "      <td>33443</td>\n",
       "      <td>27628</td>\n",
       "      <td>24799</td>\n",
       "      <td>24278</td>\n",
       "      <td>25671</td>\n",
       "      <td>25170</td>\n",
       "      <td>23455</td>\n",
       "      <td>25444</td>\n",
       "    </tr>\n",
       "  </tbody>\n",
       "</table>\n",
       "</div>"
      ],
      "text/plain": [
       "       대     중   소 발생요일  2011년  2012년  2013년  2014년  2015년  2016년  2017년  \\\n",
       "133  총범죄  절도범죄  소계  금요일  42692  44051  43634  40471  37363  30852  27505   \n",
       "134  총범죄  절도범죄  소계  목요일  39233  40576  40372  36805  33668  27809  25746   \n",
       "135  총범죄  절도범죄  소계  수요일  39674  40306  40451  36689  34908  27861  25147   \n",
       "136  총범죄  절도범죄  소계  월요일  39466  39237  40199  35699  34039  27683  25011   \n",
       "137  총범죄  절도범죄  소계  일요일  37476  40168  38781  36895  33217  28759  25926   \n",
       "138  총범죄  절도범죄  소계  토요일  43084  46192  45667  42693  39215  32445  29623   \n",
       "139  총범죄  절도범죄  소계  화요일  39737  39930  39239  36970  33443  27628  24799   \n",
       "\n",
       "     2018년  2019년  2020년  2021년  2022년  \n",
       "133  26398  28156  27311  25209  28133  \n",
       "134  24400  26098  24974  23989  26137  \n",
       "135  24761  26061  25538  23743  26203  \n",
       "136  24354  26239  25196  23429  25210  \n",
       "137  24832  25466  23771  21687  23632  \n",
       "138  27786  29266  27557  24897  27511  \n",
       "139  24278  25671  25170  23455  25444  "
      ]
     },
     "execution_count": 6,
     "metadata": {},
     "output_type": "execute_result"
    }
   ],
   "source": [
    "theft_dotweek_df = crime_dotweek_df[ crime_dotweek_df[\"중\"] == \"절도범죄\"]\n",
    "theft_dotweek_df"
   ]
  },
  {
   "cell_type": "code",
   "execution_count": 7,
   "metadata": {},
   "outputs": [
    {
     "name": "stdout",
     "output_type": "stream",
     "text": [
      "<class 'pandas.core.frame.DataFrame'>\n",
      "Index: 7 entries, 133 to 139\n",
      "Data columns (total 16 columns):\n",
      " #   Column  Non-Null Count  Dtype \n",
      "---  ------  --------------  ----- \n",
      " 0   대       7 non-null      object\n",
      " 1   중       7 non-null      object\n",
      " 2   소       7 non-null      object\n",
      " 3   발생요일    7 non-null      object\n",
      " 4   2011년   7 non-null      int64 \n",
      " 5   2012년   7 non-null      int64 \n",
      " 6   2013년   7 non-null      int64 \n",
      " 7   2014년   7 non-null      int64 \n",
      " 8   2015년   7 non-null      int64 \n",
      " 9   2016년   7 non-null      int64 \n",
      " 10  2017년   7 non-null      int64 \n",
      " 11  2018년   7 non-null      int64 \n",
      " 12  2019년   7 non-null      int64 \n",
      " 13  2020년   7 non-null      int64 \n",
      " 14  2021년   7 non-null      int64 \n",
      " 15  2022년   7 non-null      int64 \n",
      "dtypes: int64(12), object(4)\n",
      "memory usage: 952.0+ bytes\n"
     ]
    }
   ],
   "source": [
    "theft_dotweek_df.info()"
   ]
  },
  {
   "cell_type": "code",
   "execution_count": 8,
   "metadata": {},
   "outputs": [
    {
     "data": {
      "text/html": [
       "<div>\n",
       "<style scoped>\n",
       "    .dataframe tbody tr th:only-of-type {\n",
       "        vertical-align: middle;\n",
       "    }\n",
       "\n",
       "    .dataframe tbody tr th {\n",
       "        vertical-align: top;\n",
       "    }\n",
       "\n",
       "    .dataframe thead th {\n",
       "        text-align: right;\n",
       "    }\n",
       "</style>\n",
       "<table border=\"1\" class=\"dataframe\">\n",
       "  <thead>\n",
       "    <tr style=\"text-align: right;\">\n",
       "      <th></th>\n",
       "      <th>대</th>\n",
       "      <th>중</th>\n",
       "      <th>소</th>\n",
       "      <th>발생요일</th>\n",
       "      <th>년도</th>\n",
       "      <th>발생건수</th>\n",
       "    </tr>\n",
       "  </thead>\n",
       "  <tbody>\n",
       "    <tr>\n",
       "      <th>0</th>\n",
       "      <td>총범죄</td>\n",
       "      <td>절도범죄</td>\n",
       "      <td>소계</td>\n",
       "      <td>금요일</td>\n",
       "      <td>2011년</td>\n",
       "      <td>42692</td>\n",
       "    </tr>\n",
       "    <tr>\n",
       "      <th>1</th>\n",
       "      <td>총범죄</td>\n",
       "      <td>절도범죄</td>\n",
       "      <td>소계</td>\n",
       "      <td>목요일</td>\n",
       "      <td>2011년</td>\n",
       "      <td>39233</td>\n",
       "    </tr>\n",
       "    <tr>\n",
       "      <th>2</th>\n",
       "      <td>총범죄</td>\n",
       "      <td>절도범죄</td>\n",
       "      <td>소계</td>\n",
       "      <td>수요일</td>\n",
       "      <td>2011년</td>\n",
       "      <td>39674</td>\n",
       "    </tr>\n",
       "    <tr>\n",
       "      <th>3</th>\n",
       "      <td>총범죄</td>\n",
       "      <td>절도범죄</td>\n",
       "      <td>소계</td>\n",
       "      <td>월요일</td>\n",
       "      <td>2011년</td>\n",
       "      <td>39466</td>\n",
       "    </tr>\n",
       "    <tr>\n",
       "      <th>4</th>\n",
       "      <td>총범죄</td>\n",
       "      <td>절도범죄</td>\n",
       "      <td>소계</td>\n",
       "      <td>일요일</td>\n",
       "      <td>2011년</td>\n",
       "      <td>37476</td>\n",
       "    </tr>\n",
       "    <tr>\n",
       "      <th>...</th>\n",
       "      <td>...</td>\n",
       "      <td>...</td>\n",
       "      <td>...</td>\n",
       "      <td>...</td>\n",
       "      <td>...</td>\n",
       "      <td>...</td>\n",
       "    </tr>\n",
       "    <tr>\n",
       "      <th>79</th>\n",
       "      <td>총범죄</td>\n",
       "      <td>절도범죄</td>\n",
       "      <td>소계</td>\n",
       "      <td>수요일</td>\n",
       "      <td>2022년</td>\n",
       "      <td>26203</td>\n",
       "    </tr>\n",
       "    <tr>\n",
       "      <th>80</th>\n",
       "      <td>총범죄</td>\n",
       "      <td>절도범죄</td>\n",
       "      <td>소계</td>\n",
       "      <td>월요일</td>\n",
       "      <td>2022년</td>\n",
       "      <td>25210</td>\n",
       "    </tr>\n",
       "    <tr>\n",
       "      <th>81</th>\n",
       "      <td>총범죄</td>\n",
       "      <td>절도범죄</td>\n",
       "      <td>소계</td>\n",
       "      <td>일요일</td>\n",
       "      <td>2022년</td>\n",
       "      <td>23632</td>\n",
       "    </tr>\n",
       "    <tr>\n",
       "      <th>82</th>\n",
       "      <td>총범죄</td>\n",
       "      <td>절도범죄</td>\n",
       "      <td>소계</td>\n",
       "      <td>토요일</td>\n",
       "      <td>2022년</td>\n",
       "      <td>27511</td>\n",
       "    </tr>\n",
       "    <tr>\n",
       "      <th>83</th>\n",
       "      <td>총범죄</td>\n",
       "      <td>절도범죄</td>\n",
       "      <td>소계</td>\n",
       "      <td>화요일</td>\n",
       "      <td>2022년</td>\n",
       "      <td>25444</td>\n",
       "    </tr>\n",
       "  </tbody>\n",
       "</table>\n",
       "<p>84 rows × 6 columns</p>\n",
       "</div>"
      ],
      "text/plain": [
       "      대     중   소 발생요일     년도   발생건수\n",
       "0   총범죄  절도범죄  소계  금요일  2011년  42692\n",
       "1   총범죄  절도범죄  소계  목요일  2011년  39233\n",
       "2   총범죄  절도범죄  소계  수요일  2011년  39674\n",
       "3   총범죄  절도범죄  소계  월요일  2011년  39466\n",
       "4   총범죄  절도범죄  소계  일요일  2011년  37476\n",
       "..  ...   ...  ..  ...    ...    ...\n",
       "79  총범죄  절도범죄  소계  수요일  2022년  26203\n",
       "80  총범죄  절도범죄  소계  월요일  2022년  25210\n",
       "81  총범죄  절도범죄  소계  일요일  2022년  23632\n",
       "82  총범죄  절도범죄  소계  토요일  2022년  27511\n",
       "83  총범죄  절도범죄  소계  화요일  2022년  25444\n",
       "\n",
       "[84 rows x 6 columns]"
      ]
     },
     "execution_count": 8,
     "metadata": {},
     "output_type": "execute_result"
    }
   ],
   "source": [
    "theft_dotweek_df = theft_dotweek_df.melt(id_vars=[\"대\", \"중\", \"소\", \"발생요일\"], var_name=\"년도\", value_name=\"발생건수\" )\n",
    "theft_dotweek_df"
   ]
  },
  {
   "cell_type": "code",
   "execution_count": 12,
   "metadata": {},
   "outputs": [
    {
     "data": {
      "application/vnd.plotly.v1+json": {
       "config": {
        "plotlyServerURL": "https://plot.ly"
       },
       "data": [
        {
         "hovertemplate": "발생요일=금요일<br>년도=%{x}<br>발생건수=%{y}<extra></extra>",
         "legendgroup": "금요일",
         "line": {
          "color": "#636efa",
          "dash": "solid"
         },
         "marker": {
          "symbol": "circle"
         },
         "mode": "lines+markers",
         "name": "금요일",
         "orientation": "v",
         "showlegend": true,
         "type": "scatter",
         "x": [
          "2011년",
          "2012년",
          "2013년",
          "2014년",
          "2015년",
          "2016년",
          "2017년",
          "2018년",
          "2019년",
          "2020년",
          "2021년",
          "2022년"
         ],
         "xaxis": "x",
         "y": [
          42692,
          44051,
          43634,
          40471,
          37363,
          30852,
          27505,
          26398,
          28156,
          27311,
          25209,
          28133
         ],
         "yaxis": "y"
        },
        {
         "hovertemplate": "발생요일=목요일<br>년도=%{x}<br>발생건수=%{y}<extra></extra>",
         "legendgroup": "목요일",
         "line": {
          "color": "#EF553B",
          "dash": "solid"
         },
         "marker": {
          "symbol": "circle"
         },
         "mode": "lines+markers",
         "name": "목요일",
         "orientation": "v",
         "showlegend": true,
         "type": "scatter",
         "x": [
          "2011년",
          "2012년",
          "2013년",
          "2014년",
          "2015년",
          "2016년",
          "2017년",
          "2018년",
          "2019년",
          "2020년",
          "2021년",
          "2022년"
         ],
         "xaxis": "x",
         "y": [
          39233,
          40576,
          40372,
          36805,
          33668,
          27809,
          25746,
          24400,
          26098,
          24974,
          23989,
          26137
         ],
         "yaxis": "y"
        },
        {
         "hovertemplate": "발생요일=수요일<br>년도=%{x}<br>발생건수=%{y}<extra></extra>",
         "legendgroup": "수요일",
         "line": {
          "color": "#00cc96",
          "dash": "solid"
         },
         "marker": {
          "symbol": "circle"
         },
         "mode": "lines+markers",
         "name": "수요일",
         "orientation": "v",
         "showlegend": true,
         "type": "scatter",
         "x": [
          "2011년",
          "2012년",
          "2013년",
          "2014년",
          "2015년",
          "2016년",
          "2017년",
          "2018년",
          "2019년",
          "2020년",
          "2021년",
          "2022년"
         ],
         "xaxis": "x",
         "y": [
          39674,
          40306,
          40451,
          36689,
          34908,
          27861,
          25147,
          24761,
          26061,
          25538,
          23743,
          26203
         ],
         "yaxis": "y"
        },
        {
         "hovertemplate": "발생요일=월요일<br>년도=%{x}<br>발생건수=%{y}<extra></extra>",
         "legendgroup": "월요일",
         "line": {
          "color": "#ab63fa",
          "dash": "solid"
         },
         "marker": {
          "symbol": "circle"
         },
         "mode": "lines+markers",
         "name": "월요일",
         "orientation": "v",
         "showlegend": true,
         "type": "scatter",
         "x": [
          "2011년",
          "2012년",
          "2013년",
          "2014년",
          "2015년",
          "2016년",
          "2017년",
          "2018년",
          "2019년",
          "2020년",
          "2021년",
          "2022년"
         ],
         "xaxis": "x",
         "y": [
          39466,
          39237,
          40199,
          35699,
          34039,
          27683,
          25011,
          24354,
          26239,
          25196,
          23429,
          25210
         ],
         "yaxis": "y"
        },
        {
         "hovertemplate": "발생요일=일요일<br>년도=%{x}<br>발생건수=%{y}<extra></extra>",
         "legendgroup": "일요일",
         "line": {
          "color": "#FFA15A",
          "dash": "solid"
         },
         "marker": {
          "symbol": "circle"
         },
         "mode": "lines+markers",
         "name": "일요일",
         "orientation": "v",
         "showlegend": true,
         "type": "scatter",
         "x": [
          "2011년",
          "2012년",
          "2013년",
          "2014년",
          "2015년",
          "2016년",
          "2017년",
          "2018년",
          "2019년",
          "2020년",
          "2021년",
          "2022년"
         ],
         "xaxis": "x",
         "y": [
          37476,
          40168,
          38781,
          36895,
          33217,
          28759,
          25926,
          24832,
          25466,
          23771,
          21687,
          23632
         ],
         "yaxis": "y"
        },
        {
         "hovertemplate": "발생요일=토요일<br>년도=%{x}<br>발생건수=%{y}<extra></extra>",
         "legendgroup": "토요일",
         "line": {
          "color": "#19d3f3",
          "dash": "solid"
         },
         "marker": {
          "symbol": "circle"
         },
         "mode": "lines+markers",
         "name": "토요일",
         "orientation": "v",
         "showlegend": true,
         "type": "scatter",
         "x": [
          "2011년",
          "2012년",
          "2013년",
          "2014년",
          "2015년",
          "2016년",
          "2017년",
          "2018년",
          "2019년",
          "2020년",
          "2021년",
          "2022년"
         ],
         "xaxis": "x",
         "y": [
          43084,
          46192,
          45667,
          42693,
          39215,
          32445,
          29623,
          27786,
          29266,
          27557,
          24897,
          27511
         ],
         "yaxis": "y"
        },
        {
         "hovertemplate": "발생요일=화요일<br>년도=%{x}<br>발생건수=%{y}<extra></extra>",
         "legendgroup": "화요일",
         "line": {
          "color": "#FF6692",
          "dash": "solid"
         },
         "marker": {
          "symbol": "circle"
         },
         "mode": "lines+markers",
         "name": "화요일",
         "orientation": "v",
         "showlegend": true,
         "type": "scatter",
         "x": [
          "2011년",
          "2012년",
          "2013년",
          "2014년",
          "2015년",
          "2016년",
          "2017년",
          "2018년",
          "2019년",
          "2020년",
          "2021년",
          "2022년"
         ],
         "xaxis": "x",
         "y": [
          39737,
          39930,
          39239,
          36970,
          33443,
          27628,
          24799,
          24278,
          25671,
          25170,
          23455,
          25444
         ],
         "yaxis": "y"
        }
       ],
       "layout": {
        "legend": {
         "title": {
          "text": "발생요일"
         },
         "tracegroupgap": 0
        },
        "margin": {
         "t": 60
        },
        "template": {
         "data": {
          "bar": [
           {
            "error_x": {
             "color": "#2a3f5f"
            },
            "error_y": {
             "color": "#2a3f5f"
            },
            "marker": {
             "line": {
              "color": "#E5ECF6",
              "width": 0.5
             },
             "pattern": {
              "fillmode": "overlay",
              "size": 10,
              "solidity": 0.2
             }
            },
            "type": "bar"
           }
          ],
          "barpolar": [
           {
            "marker": {
             "line": {
              "color": "#E5ECF6",
              "width": 0.5
             },
             "pattern": {
              "fillmode": "overlay",
              "size": 10,
              "solidity": 0.2
             }
            },
            "type": "barpolar"
           }
          ],
          "carpet": [
           {
            "aaxis": {
             "endlinecolor": "#2a3f5f",
             "gridcolor": "white",
             "linecolor": "white",
             "minorgridcolor": "white",
             "startlinecolor": "#2a3f5f"
            },
            "baxis": {
             "endlinecolor": "#2a3f5f",
             "gridcolor": "white",
             "linecolor": "white",
             "minorgridcolor": "white",
             "startlinecolor": "#2a3f5f"
            },
            "type": "carpet"
           }
          ],
          "choropleth": [
           {
            "colorbar": {
             "outlinewidth": 0,
             "ticks": ""
            },
            "type": "choropleth"
           }
          ],
          "contour": [
           {
            "colorbar": {
             "outlinewidth": 0,
             "ticks": ""
            },
            "colorscale": [
             [
              0,
              "#0d0887"
             ],
             [
              0.1111111111111111,
              "#46039f"
             ],
             [
              0.2222222222222222,
              "#7201a8"
             ],
             [
              0.3333333333333333,
              "#9c179e"
             ],
             [
              0.4444444444444444,
              "#bd3786"
             ],
             [
              0.5555555555555556,
              "#d8576b"
             ],
             [
              0.6666666666666666,
              "#ed7953"
             ],
             [
              0.7777777777777778,
              "#fb9f3a"
             ],
             [
              0.8888888888888888,
              "#fdca26"
             ],
             [
              1,
              "#f0f921"
             ]
            ],
            "type": "contour"
           }
          ],
          "contourcarpet": [
           {
            "colorbar": {
             "outlinewidth": 0,
             "ticks": ""
            },
            "type": "contourcarpet"
           }
          ],
          "heatmap": [
           {
            "colorbar": {
             "outlinewidth": 0,
             "ticks": ""
            },
            "colorscale": [
             [
              0,
              "#0d0887"
             ],
             [
              0.1111111111111111,
              "#46039f"
             ],
             [
              0.2222222222222222,
              "#7201a8"
             ],
             [
              0.3333333333333333,
              "#9c179e"
             ],
             [
              0.4444444444444444,
              "#bd3786"
             ],
             [
              0.5555555555555556,
              "#d8576b"
             ],
             [
              0.6666666666666666,
              "#ed7953"
             ],
             [
              0.7777777777777778,
              "#fb9f3a"
             ],
             [
              0.8888888888888888,
              "#fdca26"
             ],
             [
              1,
              "#f0f921"
             ]
            ],
            "type": "heatmap"
           }
          ],
          "heatmapgl": [
           {
            "colorbar": {
             "outlinewidth": 0,
             "ticks": ""
            },
            "colorscale": [
             [
              0,
              "#0d0887"
             ],
             [
              0.1111111111111111,
              "#46039f"
             ],
             [
              0.2222222222222222,
              "#7201a8"
             ],
             [
              0.3333333333333333,
              "#9c179e"
             ],
             [
              0.4444444444444444,
              "#bd3786"
             ],
             [
              0.5555555555555556,
              "#d8576b"
             ],
             [
              0.6666666666666666,
              "#ed7953"
             ],
             [
              0.7777777777777778,
              "#fb9f3a"
             ],
             [
              0.8888888888888888,
              "#fdca26"
             ],
             [
              1,
              "#f0f921"
             ]
            ],
            "type": "heatmapgl"
           }
          ],
          "histogram": [
           {
            "marker": {
             "pattern": {
              "fillmode": "overlay",
              "size": 10,
              "solidity": 0.2
             }
            },
            "type": "histogram"
           }
          ],
          "histogram2d": [
           {
            "colorbar": {
             "outlinewidth": 0,
             "ticks": ""
            },
            "colorscale": [
             [
              0,
              "#0d0887"
             ],
             [
              0.1111111111111111,
              "#46039f"
             ],
             [
              0.2222222222222222,
              "#7201a8"
             ],
             [
              0.3333333333333333,
              "#9c179e"
             ],
             [
              0.4444444444444444,
              "#bd3786"
             ],
             [
              0.5555555555555556,
              "#d8576b"
             ],
             [
              0.6666666666666666,
              "#ed7953"
             ],
             [
              0.7777777777777778,
              "#fb9f3a"
             ],
             [
              0.8888888888888888,
              "#fdca26"
             ],
             [
              1,
              "#f0f921"
             ]
            ],
            "type": "histogram2d"
           }
          ],
          "histogram2dcontour": [
           {
            "colorbar": {
             "outlinewidth": 0,
             "ticks": ""
            },
            "colorscale": [
             [
              0,
              "#0d0887"
             ],
             [
              0.1111111111111111,
              "#46039f"
             ],
             [
              0.2222222222222222,
              "#7201a8"
             ],
             [
              0.3333333333333333,
              "#9c179e"
             ],
             [
              0.4444444444444444,
              "#bd3786"
             ],
             [
              0.5555555555555556,
              "#d8576b"
             ],
             [
              0.6666666666666666,
              "#ed7953"
             ],
             [
              0.7777777777777778,
              "#fb9f3a"
             ],
             [
              0.8888888888888888,
              "#fdca26"
             ],
             [
              1,
              "#f0f921"
             ]
            ],
            "type": "histogram2dcontour"
           }
          ],
          "mesh3d": [
           {
            "colorbar": {
             "outlinewidth": 0,
             "ticks": ""
            },
            "type": "mesh3d"
           }
          ],
          "parcoords": [
           {
            "line": {
             "colorbar": {
              "outlinewidth": 0,
              "ticks": ""
             }
            },
            "type": "parcoords"
           }
          ],
          "pie": [
           {
            "automargin": true,
            "type": "pie"
           }
          ],
          "scatter": [
           {
            "fillpattern": {
             "fillmode": "overlay",
             "size": 10,
             "solidity": 0.2
            },
            "type": "scatter"
           }
          ],
          "scatter3d": [
           {
            "line": {
             "colorbar": {
              "outlinewidth": 0,
              "ticks": ""
             }
            },
            "marker": {
             "colorbar": {
              "outlinewidth": 0,
              "ticks": ""
             }
            },
            "type": "scatter3d"
           }
          ],
          "scattercarpet": [
           {
            "marker": {
             "colorbar": {
              "outlinewidth": 0,
              "ticks": ""
             }
            },
            "type": "scattercarpet"
           }
          ],
          "scattergeo": [
           {
            "marker": {
             "colorbar": {
              "outlinewidth": 0,
              "ticks": ""
             }
            },
            "type": "scattergeo"
           }
          ],
          "scattergl": [
           {
            "marker": {
             "colorbar": {
              "outlinewidth": 0,
              "ticks": ""
             }
            },
            "type": "scattergl"
           }
          ],
          "scattermapbox": [
           {
            "marker": {
             "colorbar": {
              "outlinewidth": 0,
              "ticks": ""
             }
            },
            "type": "scattermapbox"
           }
          ],
          "scatterpolar": [
           {
            "marker": {
             "colorbar": {
              "outlinewidth": 0,
              "ticks": ""
             }
            },
            "type": "scatterpolar"
           }
          ],
          "scatterpolargl": [
           {
            "marker": {
             "colorbar": {
              "outlinewidth": 0,
              "ticks": ""
             }
            },
            "type": "scatterpolargl"
           }
          ],
          "scatterternary": [
           {
            "marker": {
             "colorbar": {
              "outlinewidth": 0,
              "ticks": ""
             }
            },
            "type": "scatterternary"
           }
          ],
          "surface": [
           {
            "colorbar": {
             "outlinewidth": 0,
             "ticks": ""
            },
            "colorscale": [
             [
              0,
              "#0d0887"
             ],
             [
              0.1111111111111111,
              "#46039f"
             ],
             [
              0.2222222222222222,
              "#7201a8"
             ],
             [
              0.3333333333333333,
              "#9c179e"
             ],
             [
              0.4444444444444444,
              "#bd3786"
             ],
             [
              0.5555555555555556,
              "#d8576b"
             ],
             [
              0.6666666666666666,
              "#ed7953"
             ],
             [
              0.7777777777777778,
              "#fb9f3a"
             ],
             [
              0.8888888888888888,
              "#fdca26"
             ],
             [
              1,
              "#f0f921"
             ]
            ],
            "type": "surface"
           }
          ],
          "table": [
           {
            "cells": {
             "fill": {
              "color": "#EBF0F8"
             },
             "line": {
              "color": "white"
             }
            },
            "header": {
             "fill": {
              "color": "#C8D4E3"
             },
             "line": {
              "color": "white"
             }
            },
            "type": "table"
           }
          ]
         },
         "layout": {
          "annotationdefaults": {
           "arrowcolor": "#2a3f5f",
           "arrowhead": 0,
           "arrowwidth": 1
          },
          "autotypenumbers": "strict",
          "coloraxis": {
           "colorbar": {
            "outlinewidth": 0,
            "ticks": ""
           }
          },
          "colorscale": {
           "diverging": [
            [
             0,
             "#8e0152"
            ],
            [
             0.1,
             "#c51b7d"
            ],
            [
             0.2,
             "#de77ae"
            ],
            [
             0.3,
             "#f1b6da"
            ],
            [
             0.4,
             "#fde0ef"
            ],
            [
             0.5,
             "#f7f7f7"
            ],
            [
             0.6,
             "#e6f5d0"
            ],
            [
             0.7,
             "#b8e186"
            ],
            [
             0.8,
             "#7fbc41"
            ],
            [
             0.9,
             "#4d9221"
            ],
            [
             1,
             "#276419"
            ]
           ],
           "sequential": [
            [
             0,
             "#0d0887"
            ],
            [
             0.1111111111111111,
             "#46039f"
            ],
            [
             0.2222222222222222,
             "#7201a8"
            ],
            [
             0.3333333333333333,
             "#9c179e"
            ],
            [
             0.4444444444444444,
             "#bd3786"
            ],
            [
             0.5555555555555556,
             "#d8576b"
            ],
            [
             0.6666666666666666,
             "#ed7953"
            ],
            [
             0.7777777777777778,
             "#fb9f3a"
            ],
            [
             0.8888888888888888,
             "#fdca26"
            ],
            [
             1,
             "#f0f921"
            ]
           ],
           "sequentialminus": [
            [
             0,
             "#0d0887"
            ],
            [
             0.1111111111111111,
             "#46039f"
            ],
            [
             0.2222222222222222,
             "#7201a8"
            ],
            [
             0.3333333333333333,
             "#9c179e"
            ],
            [
             0.4444444444444444,
             "#bd3786"
            ],
            [
             0.5555555555555556,
             "#d8576b"
            ],
            [
             0.6666666666666666,
             "#ed7953"
            ],
            [
             0.7777777777777778,
             "#fb9f3a"
            ],
            [
             0.8888888888888888,
             "#fdca26"
            ],
            [
             1,
             "#f0f921"
            ]
           ]
          },
          "colorway": [
           "#636efa",
           "#EF553B",
           "#00cc96",
           "#ab63fa",
           "#FFA15A",
           "#19d3f3",
           "#FF6692",
           "#B6E880",
           "#FF97FF",
           "#FECB52"
          ],
          "font": {
           "color": "#2a3f5f"
          },
          "geo": {
           "bgcolor": "white",
           "lakecolor": "white",
           "landcolor": "#E5ECF6",
           "showlakes": true,
           "showland": true,
           "subunitcolor": "white"
          },
          "hoverlabel": {
           "align": "left"
          },
          "hovermode": "closest",
          "mapbox": {
           "style": "light"
          },
          "paper_bgcolor": "white",
          "plot_bgcolor": "#E5ECF6",
          "polar": {
           "angularaxis": {
            "gridcolor": "white",
            "linecolor": "white",
            "ticks": ""
           },
           "bgcolor": "#E5ECF6",
           "radialaxis": {
            "gridcolor": "white",
            "linecolor": "white",
            "ticks": ""
           }
          },
          "scene": {
           "xaxis": {
            "backgroundcolor": "#E5ECF6",
            "gridcolor": "white",
            "gridwidth": 2,
            "linecolor": "white",
            "showbackground": true,
            "ticks": "",
            "zerolinecolor": "white"
           },
           "yaxis": {
            "backgroundcolor": "#E5ECF6",
            "gridcolor": "white",
            "gridwidth": 2,
            "linecolor": "white",
            "showbackground": true,
            "ticks": "",
            "zerolinecolor": "white"
           },
           "zaxis": {
            "backgroundcolor": "#E5ECF6",
            "gridcolor": "white",
            "gridwidth": 2,
            "linecolor": "white",
            "showbackground": true,
            "ticks": "",
            "zerolinecolor": "white"
           }
          },
          "shapedefaults": {
           "line": {
            "color": "#2a3f5f"
           }
          },
          "ternary": {
           "aaxis": {
            "gridcolor": "white",
            "linecolor": "white",
            "ticks": ""
           },
           "baxis": {
            "gridcolor": "white",
            "linecolor": "white",
            "ticks": ""
           },
           "bgcolor": "#E5ECF6",
           "caxis": {
            "gridcolor": "white",
            "linecolor": "white",
            "ticks": ""
           }
          },
          "title": {
           "x": 0.05
          },
          "xaxis": {
           "automargin": true,
           "gridcolor": "white",
           "linecolor": "white",
           "ticks": "",
           "title": {
            "standoff": 15
           },
           "zerolinecolor": "white",
           "zerolinewidth": 2
          },
          "yaxis": {
           "automargin": true,
           "gridcolor": "white",
           "linecolor": "white",
           "ticks": "",
           "title": {
            "standoff": 15
           },
           "zerolinecolor": "white",
           "zerolinewidth": 2
          }
         }
        },
        "title": {
         "font": {
          "size": 22
         },
         "text": "년도 별 요일에 따른 절도범죄 발생 건 수",
         "x": 0.5
        },
        "xaxis": {
         "anchor": "y",
         "domain": [
          0,
          1
         ],
         "tickangle": -45,
         "title": {
          "text": "년도"
         }
        },
        "yaxis": {
         "anchor": "x",
         "domain": [
          0,
          1
         ],
         "range": [
          0,
          60000
         ],
         "title": {
          "text": "발생건수"
         }
        }
       }
      }
     },
     "metadata": {},
     "output_type": "display_data"
    }
   ],
   "source": [
    "fig = px.line(theft_dotweek_df, x=\"년도\", y=\"발생건수\", color=\"발생요일\", markers=True, range_y=[0, 60000])\n",
    "fig.update_layout(title_text=\"년도 별 요일에 따른 절도범죄 발생 건 수\", xaxis_tickangle=-45, title_x = 0.5, title_font_size=22)\n",
    "fig.show()"
   ]
  },
  {
   "cell_type": "code",
   "execution_count": 22,
   "metadata": {},
   "outputs": [
    {
     "data": {
      "text/html": [
       "<div>\n",
       "<style scoped>\n",
       "    .dataframe tbody tr th:only-of-type {\n",
       "        vertical-align: middle;\n",
       "    }\n",
       "\n",
       "    .dataframe tbody tr th {\n",
       "        vertical-align: top;\n",
       "    }\n",
       "\n",
       "    .dataframe thead th {\n",
       "        text-align: right;\n",
       "    }\n",
       "</style>\n",
       "<table border=\"1\" class=\"dataframe\">\n",
       "  <thead>\n",
       "    <tr style=\"text-align: right;\">\n",
       "      <th></th>\n",
       "      <th>대</th>\n",
       "      <th>중</th>\n",
       "      <th>소</th>\n",
       "      <th>발생요일</th>\n",
       "      <th>2011년</th>\n",
       "      <th>2012년</th>\n",
       "      <th>2013년</th>\n",
       "      <th>2014년</th>\n",
       "      <th>2015년</th>\n",
       "      <th>2016년</th>\n",
       "      <th>2017년</th>\n",
       "      <th>2018년</th>\n",
       "      <th>2019년</th>\n",
       "      <th>2020년</th>\n",
       "      <th>2021년</th>\n",
       "      <th>2022년</th>\n",
       "    </tr>\n",
       "  </thead>\n",
       "  <tbody>\n",
       "    <tr>\n",
       "      <th>70</th>\n",
       "      <td>총범죄</td>\n",
       "      <td>교통범죄</td>\n",
       "      <td>소계</td>\n",
       "      <td>금요일</td>\n",
       "      <td>81465</td>\n",
       "      <td>84446</td>\n",
       "      <td>90658</td>\n",
       "      <td>89157</td>\n",
       "      <td>92973</td>\n",
       "      <td>91267</td>\n",
       "      <td>76963</td>\n",
       "      <td>63750</td>\n",
       "      <td>58103</td>\n",
       "      <td>54381</td>\n",
       "      <td>48221</td>\n",
       "      <td>38316</td>\n",
       "    </tr>\n",
       "    <tr>\n",
       "      <th>71</th>\n",
       "      <td>총범죄</td>\n",
       "      <td>교통범죄</td>\n",
       "      <td>소계</td>\n",
       "      <td>목요일</td>\n",
       "      <td>78133</td>\n",
       "      <td>78722</td>\n",
       "      <td>82147</td>\n",
       "      <td>82368</td>\n",
       "      <td>85819</td>\n",
       "      <td>87438</td>\n",
       "      <td>73767</td>\n",
       "      <td>59736</td>\n",
       "      <td>54846</td>\n",
       "      <td>50518</td>\n",
       "      <td>45010</td>\n",
       "      <td>34872</td>\n",
       "    </tr>\n",
       "    <tr>\n",
       "      <th>72</th>\n",
       "      <td>총범죄</td>\n",
       "      <td>교통범죄</td>\n",
       "      <td>소계</td>\n",
       "      <td>수요일</td>\n",
       "      <td>76779</td>\n",
       "      <td>76301</td>\n",
       "      <td>81327</td>\n",
       "      <td>81707</td>\n",
       "      <td>84795</td>\n",
       "      <td>85277</td>\n",
       "      <td>71558</td>\n",
       "      <td>58184</td>\n",
       "      <td>54509</td>\n",
       "      <td>49712</td>\n",
       "      <td>44706</td>\n",
       "      <td>34202</td>\n",
       "    </tr>\n",
       "    <tr>\n",
       "      <th>73</th>\n",
       "      <td>총범죄</td>\n",
       "      <td>교통범죄</td>\n",
       "      <td>소계</td>\n",
       "      <td>월요일</td>\n",
       "      <td>70789</td>\n",
       "      <td>70692</td>\n",
       "      <td>75153</td>\n",
       "      <td>76089</td>\n",
       "      <td>79700</td>\n",
       "      <td>80279</td>\n",
       "      <td>66657</td>\n",
       "      <td>54328</td>\n",
       "      <td>51459</td>\n",
       "      <td>48515</td>\n",
       "      <td>42843</td>\n",
       "      <td>31335</td>\n",
       "    </tr>\n",
       "    <tr>\n",
       "      <th>74</th>\n",
       "      <td>총범죄</td>\n",
       "      <td>교통범죄</td>\n",
       "      <td>소계</td>\n",
       "      <td>일요일</td>\n",
       "      <td>70572</td>\n",
       "      <td>71365</td>\n",
       "      <td>75094</td>\n",
       "      <td>74665</td>\n",
       "      <td>77266</td>\n",
       "      <td>79265</td>\n",
       "      <td>65739</td>\n",
       "      <td>52166</td>\n",
       "      <td>47698</td>\n",
       "      <td>43196</td>\n",
       "      <td>37318</td>\n",
       "      <td>31817</td>\n",
       "    </tr>\n",
       "    <tr>\n",
       "      <th>75</th>\n",
       "      <td>총범죄</td>\n",
       "      <td>교통범죄</td>\n",
       "      <td>소계</td>\n",
       "      <td>토요일</td>\n",
       "      <td>83000</td>\n",
       "      <td>84792</td>\n",
       "      <td>89380</td>\n",
       "      <td>88756</td>\n",
       "      <td>91183</td>\n",
       "      <td>91712</td>\n",
       "      <td>76545</td>\n",
       "      <td>62725</td>\n",
       "      <td>57134</td>\n",
       "      <td>52071</td>\n",
       "      <td>46324</td>\n",
       "      <td>36943</td>\n",
       "    </tr>\n",
       "    <tr>\n",
       "      <th>76</th>\n",
       "      <td>총범죄</td>\n",
       "      <td>교통범죄</td>\n",
       "      <td>소계</td>\n",
       "      <td>화요일</td>\n",
       "      <td>75429</td>\n",
       "      <td>76466</td>\n",
       "      <td>79694</td>\n",
       "      <td>80751</td>\n",
       "      <td>84929</td>\n",
       "      <td>85163</td>\n",
       "      <td>69933</td>\n",
       "      <td>57482</td>\n",
       "      <td>53605</td>\n",
       "      <td>50332</td>\n",
       "      <td>44212</td>\n",
       "      <td>33544</td>\n",
       "    </tr>\n",
       "  </tbody>\n",
       "</table>\n",
       "</div>"
      ],
      "text/plain": [
       "      대     중   소 발생요일  2011년  2012년  2013년  2014년  2015년  2016년  2017년  \\\n",
       "70  총범죄  교통범죄  소계  금요일  81465  84446  90658  89157  92973  91267  76963   \n",
       "71  총범죄  교통범죄  소계  목요일  78133  78722  82147  82368  85819  87438  73767   \n",
       "72  총범죄  교통범죄  소계  수요일  76779  76301  81327  81707  84795  85277  71558   \n",
       "73  총범죄  교통범죄  소계  월요일  70789  70692  75153  76089  79700  80279  66657   \n",
       "74  총범죄  교통범죄  소계  일요일  70572  71365  75094  74665  77266  79265  65739   \n",
       "75  총범죄  교통범죄  소계  토요일  83000  84792  89380  88756  91183  91712  76545   \n",
       "76  총범죄  교통범죄  소계  화요일  75429  76466  79694  80751  84929  85163  69933   \n",
       "\n",
       "    2018년  2019년  2020년  2021년  2022년  \n",
       "70  63750  58103  54381  48221  38316  \n",
       "71  59736  54846  50518  45010  34872  \n",
       "72  58184  54509  49712  44706  34202  \n",
       "73  54328  51459  48515  42843  31335  \n",
       "74  52166  47698  43196  37318  31817  \n",
       "75  62725  57134  52071  46324  36943  \n",
       "76  57482  53605  50332  44212  33544  "
      ]
     },
     "execution_count": 22,
     "metadata": {},
     "output_type": "execute_result"
    }
   ],
   "source": [
    "vehicle_dotweek_df = crime_dotweek_df[crime_dotweek_df[\"중\"] == \"교통범죄\"]\n",
    "vehicle_dotweek_df"
   ]
  },
  {
   "cell_type": "code",
   "execution_count": 24,
   "metadata": {},
   "outputs": [
    {
     "data": {
      "text/html": [
       "<div>\n",
       "<style scoped>\n",
       "    .dataframe tbody tr th:only-of-type {\n",
       "        vertical-align: middle;\n",
       "    }\n",
       "\n",
       "    .dataframe tbody tr th {\n",
       "        vertical-align: top;\n",
       "    }\n",
       "\n",
       "    .dataframe thead th {\n",
       "        text-align: right;\n",
       "    }\n",
       "</style>\n",
       "<table border=\"1\" class=\"dataframe\">\n",
       "  <thead>\n",
       "    <tr style=\"text-align: right;\">\n",
       "      <th></th>\n",
       "      <th>대</th>\n",
       "      <th>중</th>\n",
       "      <th>소</th>\n",
       "      <th>발생요일</th>\n",
       "      <th>년도</th>\n",
       "      <th>발생건수</th>\n",
       "    </tr>\n",
       "  </thead>\n",
       "  <tbody>\n",
       "    <tr>\n",
       "      <th>0</th>\n",
       "      <td>총범죄</td>\n",
       "      <td>교통범죄</td>\n",
       "      <td>소계</td>\n",
       "      <td>금요일</td>\n",
       "      <td>2011년</td>\n",
       "      <td>81465</td>\n",
       "    </tr>\n",
       "    <tr>\n",
       "      <th>1</th>\n",
       "      <td>총범죄</td>\n",
       "      <td>교통범죄</td>\n",
       "      <td>소계</td>\n",
       "      <td>목요일</td>\n",
       "      <td>2011년</td>\n",
       "      <td>78133</td>\n",
       "    </tr>\n",
       "    <tr>\n",
       "      <th>2</th>\n",
       "      <td>총범죄</td>\n",
       "      <td>교통범죄</td>\n",
       "      <td>소계</td>\n",
       "      <td>수요일</td>\n",
       "      <td>2011년</td>\n",
       "      <td>76779</td>\n",
       "    </tr>\n",
       "    <tr>\n",
       "      <th>3</th>\n",
       "      <td>총범죄</td>\n",
       "      <td>교통범죄</td>\n",
       "      <td>소계</td>\n",
       "      <td>월요일</td>\n",
       "      <td>2011년</td>\n",
       "      <td>70789</td>\n",
       "    </tr>\n",
       "    <tr>\n",
       "      <th>4</th>\n",
       "      <td>총범죄</td>\n",
       "      <td>교통범죄</td>\n",
       "      <td>소계</td>\n",
       "      <td>일요일</td>\n",
       "      <td>2011년</td>\n",
       "      <td>70572</td>\n",
       "    </tr>\n",
       "    <tr>\n",
       "      <th>...</th>\n",
       "      <td>...</td>\n",
       "      <td>...</td>\n",
       "      <td>...</td>\n",
       "      <td>...</td>\n",
       "      <td>...</td>\n",
       "      <td>...</td>\n",
       "    </tr>\n",
       "    <tr>\n",
       "      <th>79</th>\n",
       "      <td>총범죄</td>\n",
       "      <td>교통범죄</td>\n",
       "      <td>소계</td>\n",
       "      <td>수요일</td>\n",
       "      <td>2022년</td>\n",
       "      <td>34202</td>\n",
       "    </tr>\n",
       "    <tr>\n",
       "      <th>80</th>\n",
       "      <td>총범죄</td>\n",
       "      <td>교통범죄</td>\n",
       "      <td>소계</td>\n",
       "      <td>월요일</td>\n",
       "      <td>2022년</td>\n",
       "      <td>31335</td>\n",
       "    </tr>\n",
       "    <tr>\n",
       "      <th>81</th>\n",
       "      <td>총범죄</td>\n",
       "      <td>교통범죄</td>\n",
       "      <td>소계</td>\n",
       "      <td>일요일</td>\n",
       "      <td>2022년</td>\n",
       "      <td>31817</td>\n",
       "    </tr>\n",
       "    <tr>\n",
       "      <th>82</th>\n",
       "      <td>총범죄</td>\n",
       "      <td>교통범죄</td>\n",
       "      <td>소계</td>\n",
       "      <td>토요일</td>\n",
       "      <td>2022년</td>\n",
       "      <td>36943</td>\n",
       "    </tr>\n",
       "    <tr>\n",
       "      <th>83</th>\n",
       "      <td>총범죄</td>\n",
       "      <td>교통범죄</td>\n",
       "      <td>소계</td>\n",
       "      <td>화요일</td>\n",
       "      <td>2022년</td>\n",
       "      <td>33544</td>\n",
       "    </tr>\n",
       "  </tbody>\n",
       "</table>\n",
       "<p>84 rows × 6 columns</p>\n",
       "</div>"
      ],
      "text/plain": [
       "      대     중   소 발생요일     년도   발생건수\n",
       "0   총범죄  교통범죄  소계  금요일  2011년  81465\n",
       "1   총범죄  교통범죄  소계  목요일  2011년  78133\n",
       "2   총범죄  교통범죄  소계  수요일  2011년  76779\n",
       "3   총범죄  교통범죄  소계  월요일  2011년  70789\n",
       "4   총범죄  교통범죄  소계  일요일  2011년  70572\n",
       "..  ...   ...  ..  ...    ...    ...\n",
       "79  총범죄  교통범죄  소계  수요일  2022년  34202\n",
       "80  총범죄  교통범죄  소계  월요일  2022년  31335\n",
       "81  총범죄  교통범죄  소계  일요일  2022년  31817\n",
       "82  총범죄  교통범죄  소계  토요일  2022년  36943\n",
       "83  총범죄  교통범죄  소계  화요일  2022년  33544\n",
       "\n",
       "[84 rows x 6 columns]"
      ]
     },
     "execution_count": 24,
     "metadata": {},
     "output_type": "execute_result"
    }
   ],
   "source": [
    "vehicle_dotweek_df = vehicle_dotweek_df.melt(id_vars=[\"대\", \"중\", \"소\", \"발생요일\"], var_name=\"년도\", value_name=\"발생건수\")\n",
    "vehicle_dotweek_df"
   ]
  },
  {
   "cell_type": "code",
   "execution_count": 25,
   "metadata": {},
   "outputs": [
    {
     "data": {
      "text/html": [
       "<div>\n",
       "<style scoped>\n",
       "    .dataframe tbody tr th:only-of-type {\n",
       "        vertical-align: middle;\n",
       "    }\n",
       "\n",
       "    .dataframe tbody tr th {\n",
       "        vertical-align: top;\n",
       "    }\n",
       "\n",
       "    .dataframe thead th {\n",
       "        text-align: right;\n",
       "    }\n",
       "</style>\n",
       "<table border=\"1\" class=\"dataframe\">\n",
       "  <thead>\n",
       "    <tr style=\"text-align: right;\">\n",
       "      <th></th>\n",
       "      <th>대</th>\n",
       "      <th>중</th>\n",
       "      <th>소</th>\n",
       "      <th>발생요일</th>\n",
       "      <th>년도</th>\n",
       "      <th>발생건수</th>\n",
       "    </tr>\n",
       "  </thead>\n",
       "  <tbody>\n",
       "    <tr>\n",
       "      <th>35</th>\n",
       "      <td>총범죄</td>\n",
       "      <td>교통범죄</td>\n",
       "      <td>소계</td>\n",
       "      <td>금요일</td>\n",
       "      <td>2016년</td>\n",
       "      <td>91267</td>\n",
       "    </tr>\n",
       "    <tr>\n",
       "      <th>36</th>\n",
       "      <td>총범죄</td>\n",
       "      <td>교통범죄</td>\n",
       "      <td>소계</td>\n",
       "      <td>목요일</td>\n",
       "      <td>2016년</td>\n",
       "      <td>87438</td>\n",
       "    </tr>\n",
       "    <tr>\n",
       "      <th>37</th>\n",
       "      <td>총범죄</td>\n",
       "      <td>교통범죄</td>\n",
       "      <td>소계</td>\n",
       "      <td>수요일</td>\n",
       "      <td>2016년</td>\n",
       "      <td>85277</td>\n",
       "    </tr>\n",
       "    <tr>\n",
       "      <th>38</th>\n",
       "      <td>총범죄</td>\n",
       "      <td>교통범죄</td>\n",
       "      <td>소계</td>\n",
       "      <td>월요일</td>\n",
       "      <td>2016년</td>\n",
       "      <td>80279</td>\n",
       "    </tr>\n",
       "    <tr>\n",
       "      <th>39</th>\n",
       "      <td>총범죄</td>\n",
       "      <td>교통범죄</td>\n",
       "      <td>소계</td>\n",
       "      <td>일요일</td>\n",
       "      <td>2016년</td>\n",
       "      <td>79265</td>\n",
       "    </tr>\n",
       "    <tr>\n",
       "      <th>40</th>\n",
       "      <td>총범죄</td>\n",
       "      <td>교통범죄</td>\n",
       "      <td>소계</td>\n",
       "      <td>토요일</td>\n",
       "      <td>2016년</td>\n",
       "      <td>91712</td>\n",
       "    </tr>\n",
       "    <tr>\n",
       "      <th>41</th>\n",
       "      <td>총범죄</td>\n",
       "      <td>교통범죄</td>\n",
       "      <td>소계</td>\n",
       "      <td>화요일</td>\n",
       "      <td>2016년</td>\n",
       "      <td>85163</td>\n",
       "    </tr>\n",
       "    <tr>\n",
       "      <th>42</th>\n",
       "      <td>총범죄</td>\n",
       "      <td>교통범죄</td>\n",
       "      <td>소계</td>\n",
       "      <td>금요일</td>\n",
       "      <td>2017년</td>\n",
       "      <td>76963</td>\n",
       "    </tr>\n",
       "    <tr>\n",
       "      <th>43</th>\n",
       "      <td>총범죄</td>\n",
       "      <td>교통범죄</td>\n",
       "      <td>소계</td>\n",
       "      <td>목요일</td>\n",
       "      <td>2017년</td>\n",
       "      <td>73767</td>\n",
       "    </tr>\n",
       "    <tr>\n",
       "      <th>44</th>\n",
       "      <td>총범죄</td>\n",
       "      <td>교통범죄</td>\n",
       "      <td>소계</td>\n",
       "      <td>수요일</td>\n",
       "      <td>2017년</td>\n",
       "      <td>71558</td>\n",
       "    </tr>\n",
       "    <tr>\n",
       "      <th>45</th>\n",
       "      <td>총범죄</td>\n",
       "      <td>교통범죄</td>\n",
       "      <td>소계</td>\n",
       "      <td>월요일</td>\n",
       "      <td>2017년</td>\n",
       "      <td>66657</td>\n",
       "    </tr>\n",
       "    <tr>\n",
       "      <th>46</th>\n",
       "      <td>총범죄</td>\n",
       "      <td>교통범죄</td>\n",
       "      <td>소계</td>\n",
       "      <td>일요일</td>\n",
       "      <td>2017년</td>\n",
       "      <td>65739</td>\n",
       "    </tr>\n",
       "    <tr>\n",
       "      <th>47</th>\n",
       "      <td>총범죄</td>\n",
       "      <td>교통범죄</td>\n",
       "      <td>소계</td>\n",
       "      <td>토요일</td>\n",
       "      <td>2017년</td>\n",
       "      <td>76545</td>\n",
       "    </tr>\n",
       "    <tr>\n",
       "      <th>48</th>\n",
       "      <td>총범죄</td>\n",
       "      <td>교통범죄</td>\n",
       "      <td>소계</td>\n",
       "      <td>화요일</td>\n",
       "      <td>2017년</td>\n",
       "      <td>69933</td>\n",
       "    </tr>\n",
       "    <tr>\n",
       "      <th>49</th>\n",
       "      <td>총범죄</td>\n",
       "      <td>교통범죄</td>\n",
       "      <td>소계</td>\n",
       "      <td>금요일</td>\n",
       "      <td>2018년</td>\n",
       "      <td>63750</td>\n",
       "    </tr>\n",
       "    <tr>\n",
       "      <th>50</th>\n",
       "      <td>총범죄</td>\n",
       "      <td>교통범죄</td>\n",
       "      <td>소계</td>\n",
       "      <td>목요일</td>\n",
       "      <td>2018년</td>\n",
       "      <td>59736</td>\n",
       "    </tr>\n",
       "    <tr>\n",
       "      <th>51</th>\n",
       "      <td>총범죄</td>\n",
       "      <td>교통범죄</td>\n",
       "      <td>소계</td>\n",
       "      <td>수요일</td>\n",
       "      <td>2018년</td>\n",
       "      <td>58184</td>\n",
       "    </tr>\n",
       "    <tr>\n",
       "      <th>52</th>\n",
       "      <td>총범죄</td>\n",
       "      <td>교통범죄</td>\n",
       "      <td>소계</td>\n",
       "      <td>월요일</td>\n",
       "      <td>2018년</td>\n",
       "      <td>54328</td>\n",
       "    </tr>\n",
       "    <tr>\n",
       "      <th>53</th>\n",
       "      <td>총범죄</td>\n",
       "      <td>교통범죄</td>\n",
       "      <td>소계</td>\n",
       "      <td>일요일</td>\n",
       "      <td>2018년</td>\n",
       "      <td>52166</td>\n",
       "    </tr>\n",
       "    <tr>\n",
       "      <th>54</th>\n",
       "      <td>총범죄</td>\n",
       "      <td>교통범죄</td>\n",
       "      <td>소계</td>\n",
       "      <td>토요일</td>\n",
       "      <td>2018년</td>\n",
       "      <td>62725</td>\n",
       "    </tr>\n",
       "    <tr>\n",
       "      <th>55</th>\n",
       "      <td>총범죄</td>\n",
       "      <td>교통범죄</td>\n",
       "      <td>소계</td>\n",
       "      <td>화요일</td>\n",
       "      <td>2018년</td>\n",
       "      <td>57482</td>\n",
       "    </tr>\n",
       "    <tr>\n",
       "      <th>56</th>\n",
       "      <td>총범죄</td>\n",
       "      <td>교통범죄</td>\n",
       "      <td>소계</td>\n",
       "      <td>금요일</td>\n",
       "      <td>2019년</td>\n",
       "      <td>58103</td>\n",
       "    </tr>\n",
       "    <tr>\n",
       "      <th>57</th>\n",
       "      <td>총범죄</td>\n",
       "      <td>교통범죄</td>\n",
       "      <td>소계</td>\n",
       "      <td>목요일</td>\n",
       "      <td>2019년</td>\n",
       "      <td>54846</td>\n",
       "    </tr>\n",
       "    <tr>\n",
       "      <th>58</th>\n",
       "      <td>총범죄</td>\n",
       "      <td>교통범죄</td>\n",
       "      <td>소계</td>\n",
       "      <td>수요일</td>\n",
       "      <td>2019년</td>\n",
       "      <td>54509</td>\n",
       "    </tr>\n",
       "    <tr>\n",
       "      <th>59</th>\n",
       "      <td>총범죄</td>\n",
       "      <td>교통범죄</td>\n",
       "      <td>소계</td>\n",
       "      <td>월요일</td>\n",
       "      <td>2019년</td>\n",
       "      <td>51459</td>\n",
       "    </tr>\n",
       "    <tr>\n",
       "      <th>60</th>\n",
       "      <td>총범죄</td>\n",
       "      <td>교통범죄</td>\n",
       "      <td>소계</td>\n",
       "      <td>일요일</td>\n",
       "      <td>2019년</td>\n",
       "      <td>47698</td>\n",
       "    </tr>\n",
       "    <tr>\n",
       "      <th>61</th>\n",
       "      <td>총범죄</td>\n",
       "      <td>교통범죄</td>\n",
       "      <td>소계</td>\n",
       "      <td>토요일</td>\n",
       "      <td>2019년</td>\n",
       "      <td>57134</td>\n",
       "    </tr>\n",
       "    <tr>\n",
       "      <th>62</th>\n",
       "      <td>총범죄</td>\n",
       "      <td>교통범죄</td>\n",
       "      <td>소계</td>\n",
       "      <td>화요일</td>\n",
       "      <td>2019년</td>\n",
       "      <td>53605</td>\n",
       "    </tr>\n",
       "    <tr>\n",
       "      <th>63</th>\n",
       "      <td>총범죄</td>\n",
       "      <td>교통범죄</td>\n",
       "      <td>소계</td>\n",
       "      <td>금요일</td>\n",
       "      <td>2020년</td>\n",
       "      <td>54381</td>\n",
       "    </tr>\n",
       "    <tr>\n",
       "      <th>64</th>\n",
       "      <td>총범죄</td>\n",
       "      <td>교통범죄</td>\n",
       "      <td>소계</td>\n",
       "      <td>목요일</td>\n",
       "      <td>2020년</td>\n",
       "      <td>50518</td>\n",
       "    </tr>\n",
       "    <tr>\n",
       "      <th>65</th>\n",
       "      <td>총범죄</td>\n",
       "      <td>교통범죄</td>\n",
       "      <td>소계</td>\n",
       "      <td>수요일</td>\n",
       "      <td>2020년</td>\n",
       "      <td>49712</td>\n",
       "    </tr>\n",
       "    <tr>\n",
       "      <th>66</th>\n",
       "      <td>총범죄</td>\n",
       "      <td>교통범죄</td>\n",
       "      <td>소계</td>\n",
       "      <td>월요일</td>\n",
       "      <td>2020년</td>\n",
       "      <td>48515</td>\n",
       "    </tr>\n",
       "    <tr>\n",
       "      <th>67</th>\n",
       "      <td>총범죄</td>\n",
       "      <td>교통범죄</td>\n",
       "      <td>소계</td>\n",
       "      <td>일요일</td>\n",
       "      <td>2020년</td>\n",
       "      <td>43196</td>\n",
       "    </tr>\n",
       "    <tr>\n",
       "      <th>68</th>\n",
       "      <td>총범죄</td>\n",
       "      <td>교통범죄</td>\n",
       "      <td>소계</td>\n",
       "      <td>토요일</td>\n",
       "      <td>2020년</td>\n",
       "      <td>52071</td>\n",
       "    </tr>\n",
       "    <tr>\n",
       "      <th>69</th>\n",
       "      <td>총범죄</td>\n",
       "      <td>교통범죄</td>\n",
       "      <td>소계</td>\n",
       "      <td>화요일</td>\n",
       "      <td>2020년</td>\n",
       "      <td>50332</td>\n",
       "    </tr>\n",
       "    <tr>\n",
       "      <th>70</th>\n",
       "      <td>총범죄</td>\n",
       "      <td>교통범죄</td>\n",
       "      <td>소계</td>\n",
       "      <td>금요일</td>\n",
       "      <td>2021년</td>\n",
       "      <td>48221</td>\n",
       "    </tr>\n",
       "    <tr>\n",
       "      <th>71</th>\n",
       "      <td>총범죄</td>\n",
       "      <td>교통범죄</td>\n",
       "      <td>소계</td>\n",
       "      <td>목요일</td>\n",
       "      <td>2021년</td>\n",
       "      <td>45010</td>\n",
       "    </tr>\n",
       "    <tr>\n",
       "      <th>72</th>\n",
       "      <td>총범죄</td>\n",
       "      <td>교통범죄</td>\n",
       "      <td>소계</td>\n",
       "      <td>수요일</td>\n",
       "      <td>2021년</td>\n",
       "      <td>44706</td>\n",
       "    </tr>\n",
       "    <tr>\n",
       "      <th>73</th>\n",
       "      <td>총범죄</td>\n",
       "      <td>교통범죄</td>\n",
       "      <td>소계</td>\n",
       "      <td>월요일</td>\n",
       "      <td>2021년</td>\n",
       "      <td>42843</td>\n",
       "    </tr>\n",
       "    <tr>\n",
       "      <th>74</th>\n",
       "      <td>총범죄</td>\n",
       "      <td>교통범죄</td>\n",
       "      <td>소계</td>\n",
       "      <td>일요일</td>\n",
       "      <td>2021년</td>\n",
       "      <td>37318</td>\n",
       "    </tr>\n",
       "    <tr>\n",
       "      <th>75</th>\n",
       "      <td>총범죄</td>\n",
       "      <td>교통범죄</td>\n",
       "      <td>소계</td>\n",
       "      <td>토요일</td>\n",
       "      <td>2021년</td>\n",
       "      <td>46324</td>\n",
       "    </tr>\n",
       "    <tr>\n",
       "      <th>76</th>\n",
       "      <td>총범죄</td>\n",
       "      <td>교통범죄</td>\n",
       "      <td>소계</td>\n",
       "      <td>화요일</td>\n",
       "      <td>2021년</td>\n",
       "      <td>44212</td>\n",
       "    </tr>\n",
       "    <tr>\n",
       "      <th>77</th>\n",
       "      <td>총범죄</td>\n",
       "      <td>교통범죄</td>\n",
       "      <td>소계</td>\n",
       "      <td>금요일</td>\n",
       "      <td>2022년</td>\n",
       "      <td>38316</td>\n",
       "    </tr>\n",
       "    <tr>\n",
       "      <th>78</th>\n",
       "      <td>총범죄</td>\n",
       "      <td>교통범죄</td>\n",
       "      <td>소계</td>\n",
       "      <td>목요일</td>\n",
       "      <td>2022년</td>\n",
       "      <td>34872</td>\n",
       "    </tr>\n",
       "    <tr>\n",
       "      <th>79</th>\n",
       "      <td>총범죄</td>\n",
       "      <td>교통범죄</td>\n",
       "      <td>소계</td>\n",
       "      <td>수요일</td>\n",
       "      <td>2022년</td>\n",
       "      <td>34202</td>\n",
       "    </tr>\n",
       "    <tr>\n",
       "      <th>80</th>\n",
       "      <td>총범죄</td>\n",
       "      <td>교통범죄</td>\n",
       "      <td>소계</td>\n",
       "      <td>월요일</td>\n",
       "      <td>2022년</td>\n",
       "      <td>31335</td>\n",
       "    </tr>\n",
       "    <tr>\n",
       "      <th>81</th>\n",
       "      <td>총범죄</td>\n",
       "      <td>교통범죄</td>\n",
       "      <td>소계</td>\n",
       "      <td>일요일</td>\n",
       "      <td>2022년</td>\n",
       "      <td>31817</td>\n",
       "    </tr>\n",
       "    <tr>\n",
       "      <th>82</th>\n",
       "      <td>총범죄</td>\n",
       "      <td>교통범죄</td>\n",
       "      <td>소계</td>\n",
       "      <td>토요일</td>\n",
       "      <td>2022년</td>\n",
       "      <td>36943</td>\n",
       "    </tr>\n",
       "    <tr>\n",
       "      <th>83</th>\n",
       "      <td>총범죄</td>\n",
       "      <td>교통범죄</td>\n",
       "      <td>소계</td>\n",
       "      <td>화요일</td>\n",
       "      <td>2022년</td>\n",
       "      <td>33544</td>\n",
       "    </tr>\n",
       "  </tbody>\n",
       "</table>\n",
       "</div>"
      ],
      "text/plain": [
       "      대     중   소 발생요일     년도   발생건수\n",
       "35  총범죄  교통범죄  소계  금요일  2016년  91267\n",
       "36  총범죄  교통범죄  소계  목요일  2016년  87438\n",
       "37  총범죄  교통범죄  소계  수요일  2016년  85277\n",
       "38  총범죄  교통범죄  소계  월요일  2016년  80279\n",
       "39  총범죄  교통범죄  소계  일요일  2016년  79265\n",
       "40  총범죄  교통범죄  소계  토요일  2016년  91712\n",
       "41  총범죄  교통범죄  소계  화요일  2016년  85163\n",
       "42  총범죄  교통범죄  소계  금요일  2017년  76963\n",
       "43  총범죄  교통범죄  소계  목요일  2017년  73767\n",
       "44  총범죄  교통범죄  소계  수요일  2017년  71558\n",
       "45  총범죄  교통범죄  소계  월요일  2017년  66657\n",
       "46  총범죄  교통범죄  소계  일요일  2017년  65739\n",
       "47  총범죄  교통범죄  소계  토요일  2017년  76545\n",
       "48  총범죄  교통범죄  소계  화요일  2017년  69933\n",
       "49  총범죄  교통범죄  소계  금요일  2018년  63750\n",
       "50  총범죄  교통범죄  소계  목요일  2018년  59736\n",
       "51  총범죄  교통범죄  소계  수요일  2018년  58184\n",
       "52  총범죄  교통범죄  소계  월요일  2018년  54328\n",
       "53  총범죄  교통범죄  소계  일요일  2018년  52166\n",
       "54  총범죄  교통범죄  소계  토요일  2018년  62725\n",
       "55  총범죄  교통범죄  소계  화요일  2018년  57482\n",
       "56  총범죄  교통범죄  소계  금요일  2019년  58103\n",
       "57  총범죄  교통범죄  소계  목요일  2019년  54846\n",
       "58  총범죄  교통범죄  소계  수요일  2019년  54509\n",
       "59  총범죄  교통범죄  소계  월요일  2019년  51459\n",
       "60  총범죄  교통범죄  소계  일요일  2019년  47698\n",
       "61  총범죄  교통범죄  소계  토요일  2019년  57134\n",
       "62  총범죄  교통범죄  소계  화요일  2019년  53605\n",
       "63  총범죄  교통범죄  소계  금요일  2020년  54381\n",
       "64  총범죄  교통범죄  소계  목요일  2020년  50518\n",
       "65  총범죄  교통범죄  소계  수요일  2020년  49712\n",
       "66  총범죄  교통범죄  소계  월요일  2020년  48515\n",
       "67  총범죄  교통범죄  소계  일요일  2020년  43196\n",
       "68  총범죄  교통범죄  소계  토요일  2020년  52071\n",
       "69  총범죄  교통범죄  소계  화요일  2020년  50332\n",
       "70  총범죄  교통범죄  소계  금요일  2021년  48221\n",
       "71  총범죄  교통범죄  소계  목요일  2021년  45010\n",
       "72  총범죄  교통범죄  소계  수요일  2021년  44706\n",
       "73  총범죄  교통범죄  소계  월요일  2021년  42843\n",
       "74  총범죄  교통범죄  소계  일요일  2021년  37318\n",
       "75  총범죄  교통범죄  소계  토요일  2021년  46324\n",
       "76  총범죄  교통범죄  소계  화요일  2021년  44212\n",
       "77  총범죄  교통범죄  소계  금요일  2022년  38316\n",
       "78  총범죄  교통범죄  소계  목요일  2022년  34872\n",
       "79  총범죄  교통범죄  소계  수요일  2022년  34202\n",
       "80  총범죄  교통범죄  소계  월요일  2022년  31335\n",
       "81  총범죄  교통범죄  소계  일요일  2022년  31817\n",
       "82  총범죄  교통범죄  소계  토요일  2022년  36943\n",
       "83  총범죄  교통범죄  소계  화요일  2022년  33544"
      ]
     },
     "execution_count": 25,
     "metadata": {},
     "output_type": "execute_result"
    }
   ],
   "source": [
    "vehicle_dotweek_df = vehicle_dotweek_df[( vehicle_dotweek_df[\"년도\"] == \"2016년\" ) | ( vehicle_dotweek_df[\"년도\"] == \"2017년\" ) | ( vehicle_dotweek_df[\"년도\"] == \"2018년\" ) | ( vehicle_dotweek_df[\"년도\"] == \"2019년\" )| ( vehicle_dotweek_df[\"년도\"] == \"2020년\" )| ( vehicle_dotweek_df[\"년도\"] == \"2021년\" )| ( vehicle_dotweek_df[\"년도\"] == \"2022년\" ) ]\n",
    "vehicle_dotweek_df"
   ]
  },
  {
   "cell_type": "code",
   "execution_count": 44,
   "metadata": {},
   "outputs": [
    {
     "data": {
      "application/vnd.plotly.v1+json": {
       "config": {
        "plotlyServerURL": "https://plot.ly"
       },
       "data": [
        {
         "alignmentgroup": "True",
         "hovertemplate": "발생요일=%{x}<br>년도=2016년<br>발생건수=%{text}<extra></extra>",
         "legendgroup": "금요일",
         "marker": {
          "color": "#636efa",
          "pattern": {
           "shape": ""
          }
         },
         "name": "금요일",
         "offsetgroup": "금요일",
         "orientation": "v",
         "showlegend": true,
         "text": [
          91267
         ],
         "textposition": "auto",
         "type": "bar",
         "x": [
          "금요일"
         ],
         "xaxis": "x",
         "y": [
          91267
         ],
         "yaxis": "y"
        },
        {
         "alignmentgroup": "True",
         "hovertemplate": "발생요일=%{x}<br>년도=2016년<br>발생건수=%{text}<extra></extra>",
         "legendgroup": "목요일",
         "marker": {
          "color": "#EF553B",
          "pattern": {
           "shape": ""
          }
         },
         "name": "목요일",
         "offsetgroup": "목요일",
         "orientation": "v",
         "showlegend": true,
         "text": [
          87438
         ],
         "textposition": "auto",
         "type": "bar",
         "x": [
          "목요일"
         ],
         "xaxis": "x",
         "y": [
          87438
         ],
         "yaxis": "y"
        },
        {
         "alignmentgroup": "True",
         "hovertemplate": "발생요일=%{x}<br>년도=2016년<br>발생건수=%{text}<extra></extra>",
         "legendgroup": "수요일",
         "marker": {
          "color": "#00cc96",
          "pattern": {
           "shape": ""
          }
         },
         "name": "수요일",
         "offsetgroup": "수요일",
         "orientation": "v",
         "showlegend": true,
         "text": [
          85277
         ],
         "textposition": "auto",
         "type": "bar",
         "x": [
          "수요일"
         ],
         "xaxis": "x",
         "y": [
          85277
         ],
         "yaxis": "y"
        },
        {
         "alignmentgroup": "True",
         "hovertemplate": "발생요일=%{x}<br>년도=2016년<br>발생건수=%{text}<extra></extra>",
         "legendgroup": "월요일",
         "marker": {
          "color": "#ab63fa",
          "pattern": {
           "shape": ""
          }
         },
         "name": "월요일",
         "offsetgroup": "월요일",
         "orientation": "v",
         "showlegend": true,
         "text": [
          80279
         ],
         "textposition": "auto",
         "type": "bar",
         "x": [
          "월요일"
         ],
         "xaxis": "x",
         "y": [
          80279
         ],
         "yaxis": "y"
        },
        {
         "alignmentgroup": "True",
         "hovertemplate": "발생요일=%{x}<br>년도=2016년<br>발생건수=%{text}<extra></extra>",
         "legendgroup": "일요일",
         "marker": {
          "color": "#FFA15A",
          "pattern": {
           "shape": ""
          }
         },
         "name": "일요일",
         "offsetgroup": "일요일",
         "orientation": "v",
         "showlegend": true,
         "text": [
          79265
         ],
         "textposition": "auto",
         "type": "bar",
         "x": [
          "일요일"
         ],
         "xaxis": "x",
         "y": [
          79265
         ],
         "yaxis": "y"
        },
        {
         "alignmentgroup": "True",
         "hovertemplate": "발생요일=%{x}<br>년도=2016년<br>발생건수=%{text}<extra></extra>",
         "legendgroup": "토요일",
         "marker": {
          "color": "#19d3f3",
          "pattern": {
           "shape": ""
          }
         },
         "name": "토요일",
         "offsetgroup": "토요일",
         "orientation": "v",
         "showlegend": true,
         "text": [
          91712
         ],
         "textposition": "auto",
         "type": "bar",
         "x": [
          "토요일"
         ],
         "xaxis": "x",
         "y": [
          91712
         ],
         "yaxis": "y"
        },
        {
         "alignmentgroup": "True",
         "hovertemplate": "발생요일=%{x}<br>년도=2016년<br>발생건수=%{text}<extra></extra>",
         "legendgroup": "화요일",
         "marker": {
          "color": "#FF6692",
          "pattern": {
           "shape": ""
          }
         },
         "name": "화요일",
         "offsetgroup": "화요일",
         "orientation": "v",
         "showlegend": true,
         "text": [
          85163
         ],
         "textposition": "auto",
         "type": "bar",
         "x": [
          "화요일"
         ],
         "xaxis": "x",
         "y": [
          85163
         ],
         "yaxis": "y"
        }
       ],
       "frames": [
        {
         "data": [
          {
           "alignmentgroup": "True",
           "hovertemplate": "발생요일=%{x}<br>년도=2016년<br>발생건수=%{text}<extra></extra>",
           "legendgroup": "금요일",
           "marker": {
            "color": "#636efa",
            "pattern": {
             "shape": ""
            }
           },
           "name": "금요일",
           "offsetgroup": "금요일",
           "orientation": "v",
           "showlegend": true,
           "text": [
            91267
           ],
           "textposition": "auto",
           "type": "bar",
           "x": [
            "금요일"
           ],
           "xaxis": "x",
           "y": [
            91267
           ],
           "yaxis": "y"
          },
          {
           "alignmentgroup": "True",
           "hovertemplate": "발생요일=%{x}<br>년도=2016년<br>발생건수=%{text}<extra></extra>",
           "legendgroup": "목요일",
           "marker": {
            "color": "#EF553B",
            "pattern": {
             "shape": ""
            }
           },
           "name": "목요일",
           "offsetgroup": "목요일",
           "orientation": "v",
           "showlegend": true,
           "text": [
            87438
           ],
           "textposition": "auto",
           "type": "bar",
           "x": [
            "목요일"
           ],
           "xaxis": "x",
           "y": [
            87438
           ],
           "yaxis": "y"
          },
          {
           "alignmentgroup": "True",
           "hovertemplate": "발생요일=%{x}<br>년도=2016년<br>발생건수=%{text}<extra></extra>",
           "legendgroup": "수요일",
           "marker": {
            "color": "#00cc96",
            "pattern": {
             "shape": ""
            }
           },
           "name": "수요일",
           "offsetgroup": "수요일",
           "orientation": "v",
           "showlegend": true,
           "text": [
            85277
           ],
           "textposition": "auto",
           "type": "bar",
           "x": [
            "수요일"
           ],
           "xaxis": "x",
           "y": [
            85277
           ],
           "yaxis": "y"
          },
          {
           "alignmentgroup": "True",
           "hovertemplate": "발생요일=%{x}<br>년도=2016년<br>발생건수=%{text}<extra></extra>",
           "legendgroup": "월요일",
           "marker": {
            "color": "#ab63fa",
            "pattern": {
             "shape": ""
            }
           },
           "name": "월요일",
           "offsetgroup": "월요일",
           "orientation": "v",
           "showlegend": true,
           "text": [
            80279
           ],
           "textposition": "auto",
           "type": "bar",
           "x": [
            "월요일"
           ],
           "xaxis": "x",
           "y": [
            80279
           ],
           "yaxis": "y"
          },
          {
           "alignmentgroup": "True",
           "hovertemplate": "발생요일=%{x}<br>년도=2016년<br>발생건수=%{text}<extra></extra>",
           "legendgroup": "일요일",
           "marker": {
            "color": "#FFA15A",
            "pattern": {
             "shape": ""
            }
           },
           "name": "일요일",
           "offsetgroup": "일요일",
           "orientation": "v",
           "showlegend": true,
           "text": [
            79265
           ],
           "textposition": "auto",
           "type": "bar",
           "x": [
            "일요일"
           ],
           "xaxis": "x",
           "y": [
            79265
           ],
           "yaxis": "y"
          },
          {
           "alignmentgroup": "True",
           "hovertemplate": "발생요일=%{x}<br>년도=2016년<br>발생건수=%{text}<extra></extra>",
           "legendgroup": "토요일",
           "marker": {
            "color": "#19d3f3",
            "pattern": {
             "shape": ""
            }
           },
           "name": "토요일",
           "offsetgroup": "토요일",
           "orientation": "v",
           "showlegend": true,
           "text": [
            91712
           ],
           "textposition": "auto",
           "type": "bar",
           "x": [
            "토요일"
           ],
           "xaxis": "x",
           "y": [
            91712
           ],
           "yaxis": "y"
          },
          {
           "alignmentgroup": "True",
           "hovertemplate": "발생요일=%{x}<br>년도=2016년<br>발생건수=%{text}<extra></extra>",
           "legendgroup": "화요일",
           "marker": {
            "color": "#FF6692",
            "pattern": {
             "shape": ""
            }
           },
           "name": "화요일",
           "offsetgroup": "화요일",
           "orientation": "v",
           "showlegend": true,
           "text": [
            85163
           ],
           "textposition": "auto",
           "type": "bar",
           "x": [
            "화요일"
           ],
           "xaxis": "x",
           "y": [
            85163
           ],
           "yaxis": "y"
          }
         ],
         "name": "2016년"
        },
        {
         "data": [
          {
           "alignmentgroup": "True",
           "hovertemplate": "발생요일=%{x}<br>년도=2017년<br>발생건수=%{text}<extra></extra>",
           "legendgroup": "금요일",
           "marker": {
            "color": "#636efa",
            "pattern": {
             "shape": ""
            }
           },
           "name": "금요일",
           "offsetgroup": "금요일",
           "orientation": "v",
           "showlegend": true,
           "text": [
            76963
           ],
           "textposition": "auto",
           "type": "bar",
           "x": [
            "금요일"
           ],
           "xaxis": "x",
           "y": [
            76963
           ],
           "yaxis": "y"
          },
          {
           "alignmentgroup": "True",
           "hovertemplate": "발생요일=%{x}<br>년도=2017년<br>발생건수=%{text}<extra></extra>",
           "legendgroup": "목요일",
           "marker": {
            "color": "#EF553B",
            "pattern": {
             "shape": ""
            }
           },
           "name": "목요일",
           "offsetgroup": "목요일",
           "orientation": "v",
           "showlegend": true,
           "text": [
            73767
           ],
           "textposition": "auto",
           "type": "bar",
           "x": [
            "목요일"
           ],
           "xaxis": "x",
           "y": [
            73767
           ],
           "yaxis": "y"
          },
          {
           "alignmentgroup": "True",
           "hovertemplate": "발생요일=%{x}<br>년도=2017년<br>발생건수=%{text}<extra></extra>",
           "legendgroup": "수요일",
           "marker": {
            "color": "#00cc96",
            "pattern": {
             "shape": ""
            }
           },
           "name": "수요일",
           "offsetgroup": "수요일",
           "orientation": "v",
           "showlegend": true,
           "text": [
            71558
           ],
           "textposition": "auto",
           "type": "bar",
           "x": [
            "수요일"
           ],
           "xaxis": "x",
           "y": [
            71558
           ],
           "yaxis": "y"
          },
          {
           "alignmentgroup": "True",
           "hovertemplate": "발생요일=%{x}<br>년도=2017년<br>발생건수=%{text}<extra></extra>",
           "legendgroup": "월요일",
           "marker": {
            "color": "#ab63fa",
            "pattern": {
             "shape": ""
            }
           },
           "name": "월요일",
           "offsetgroup": "월요일",
           "orientation": "v",
           "showlegend": true,
           "text": [
            66657
           ],
           "textposition": "auto",
           "type": "bar",
           "x": [
            "월요일"
           ],
           "xaxis": "x",
           "y": [
            66657
           ],
           "yaxis": "y"
          },
          {
           "alignmentgroup": "True",
           "hovertemplate": "발생요일=%{x}<br>년도=2017년<br>발생건수=%{text}<extra></extra>",
           "legendgroup": "일요일",
           "marker": {
            "color": "#FFA15A",
            "pattern": {
             "shape": ""
            }
           },
           "name": "일요일",
           "offsetgroup": "일요일",
           "orientation": "v",
           "showlegend": true,
           "text": [
            65739
           ],
           "textposition": "auto",
           "type": "bar",
           "x": [
            "일요일"
           ],
           "xaxis": "x",
           "y": [
            65739
           ],
           "yaxis": "y"
          },
          {
           "alignmentgroup": "True",
           "hovertemplate": "발생요일=%{x}<br>년도=2017년<br>발생건수=%{text}<extra></extra>",
           "legendgroup": "토요일",
           "marker": {
            "color": "#19d3f3",
            "pattern": {
             "shape": ""
            }
           },
           "name": "토요일",
           "offsetgroup": "토요일",
           "orientation": "v",
           "showlegend": true,
           "text": [
            76545
           ],
           "textposition": "auto",
           "type": "bar",
           "x": [
            "토요일"
           ],
           "xaxis": "x",
           "y": [
            76545
           ],
           "yaxis": "y"
          },
          {
           "alignmentgroup": "True",
           "hovertemplate": "발생요일=%{x}<br>년도=2017년<br>발생건수=%{text}<extra></extra>",
           "legendgroup": "화요일",
           "marker": {
            "color": "#FF6692",
            "pattern": {
             "shape": ""
            }
           },
           "name": "화요일",
           "offsetgroup": "화요일",
           "orientation": "v",
           "showlegend": true,
           "text": [
            69933
           ],
           "textposition": "auto",
           "type": "bar",
           "x": [
            "화요일"
           ],
           "xaxis": "x",
           "y": [
            69933
           ],
           "yaxis": "y"
          }
         ],
         "name": "2017년"
        },
        {
         "data": [
          {
           "alignmentgroup": "True",
           "hovertemplate": "발생요일=%{x}<br>년도=2018년<br>발생건수=%{text}<extra></extra>",
           "legendgroup": "금요일",
           "marker": {
            "color": "#636efa",
            "pattern": {
             "shape": ""
            }
           },
           "name": "금요일",
           "offsetgroup": "금요일",
           "orientation": "v",
           "showlegend": true,
           "text": [
            63750
           ],
           "textposition": "auto",
           "type": "bar",
           "x": [
            "금요일"
           ],
           "xaxis": "x",
           "y": [
            63750
           ],
           "yaxis": "y"
          },
          {
           "alignmentgroup": "True",
           "hovertemplate": "발생요일=%{x}<br>년도=2018년<br>발생건수=%{text}<extra></extra>",
           "legendgroup": "목요일",
           "marker": {
            "color": "#EF553B",
            "pattern": {
             "shape": ""
            }
           },
           "name": "목요일",
           "offsetgroup": "목요일",
           "orientation": "v",
           "showlegend": true,
           "text": [
            59736
           ],
           "textposition": "auto",
           "type": "bar",
           "x": [
            "목요일"
           ],
           "xaxis": "x",
           "y": [
            59736
           ],
           "yaxis": "y"
          },
          {
           "alignmentgroup": "True",
           "hovertemplate": "발생요일=%{x}<br>년도=2018년<br>발생건수=%{text}<extra></extra>",
           "legendgroup": "수요일",
           "marker": {
            "color": "#00cc96",
            "pattern": {
             "shape": ""
            }
           },
           "name": "수요일",
           "offsetgroup": "수요일",
           "orientation": "v",
           "showlegend": true,
           "text": [
            58184
           ],
           "textposition": "auto",
           "type": "bar",
           "x": [
            "수요일"
           ],
           "xaxis": "x",
           "y": [
            58184
           ],
           "yaxis": "y"
          },
          {
           "alignmentgroup": "True",
           "hovertemplate": "발생요일=%{x}<br>년도=2018년<br>발생건수=%{text}<extra></extra>",
           "legendgroup": "월요일",
           "marker": {
            "color": "#ab63fa",
            "pattern": {
             "shape": ""
            }
           },
           "name": "월요일",
           "offsetgroup": "월요일",
           "orientation": "v",
           "showlegend": true,
           "text": [
            54328
           ],
           "textposition": "auto",
           "type": "bar",
           "x": [
            "월요일"
           ],
           "xaxis": "x",
           "y": [
            54328
           ],
           "yaxis": "y"
          },
          {
           "alignmentgroup": "True",
           "hovertemplate": "발생요일=%{x}<br>년도=2018년<br>발생건수=%{text}<extra></extra>",
           "legendgroup": "일요일",
           "marker": {
            "color": "#FFA15A",
            "pattern": {
             "shape": ""
            }
           },
           "name": "일요일",
           "offsetgroup": "일요일",
           "orientation": "v",
           "showlegend": true,
           "text": [
            52166
           ],
           "textposition": "auto",
           "type": "bar",
           "x": [
            "일요일"
           ],
           "xaxis": "x",
           "y": [
            52166
           ],
           "yaxis": "y"
          },
          {
           "alignmentgroup": "True",
           "hovertemplate": "발생요일=%{x}<br>년도=2018년<br>발생건수=%{text}<extra></extra>",
           "legendgroup": "토요일",
           "marker": {
            "color": "#19d3f3",
            "pattern": {
             "shape": ""
            }
           },
           "name": "토요일",
           "offsetgroup": "토요일",
           "orientation": "v",
           "showlegend": true,
           "text": [
            62725
           ],
           "textposition": "auto",
           "type": "bar",
           "x": [
            "토요일"
           ],
           "xaxis": "x",
           "y": [
            62725
           ],
           "yaxis": "y"
          },
          {
           "alignmentgroup": "True",
           "hovertemplate": "발생요일=%{x}<br>년도=2018년<br>발생건수=%{text}<extra></extra>",
           "legendgroup": "화요일",
           "marker": {
            "color": "#FF6692",
            "pattern": {
             "shape": ""
            }
           },
           "name": "화요일",
           "offsetgroup": "화요일",
           "orientation": "v",
           "showlegend": true,
           "text": [
            57482
           ],
           "textposition": "auto",
           "type": "bar",
           "x": [
            "화요일"
           ],
           "xaxis": "x",
           "y": [
            57482
           ],
           "yaxis": "y"
          }
         ],
         "name": "2018년"
        },
        {
         "data": [
          {
           "alignmentgroup": "True",
           "hovertemplate": "발생요일=%{x}<br>년도=2019년<br>발생건수=%{text}<extra></extra>",
           "legendgroup": "금요일",
           "marker": {
            "color": "#636efa",
            "pattern": {
             "shape": ""
            }
           },
           "name": "금요일",
           "offsetgroup": "금요일",
           "orientation": "v",
           "showlegend": true,
           "text": [
            58103
           ],
           "textposition": "auto",
           "type": "bar",
           "x": [
            "금요일"
           ],
           "xaxis": "x",
           "y": [
            58103
           ],
           "yaxis": "y"
          },
          {
           "alignmentgroup": "True",
           "hovertemplate": "발생요일=%{x}<br>년도=2019년<br>발생건수=%{text}<extra></extra>",
           "legendgroup": "목요일",
           "marker": {
            "color": "#EF553B",
            "pattern": {
             "shape": ""
            }
           },
           "name": "목요일",
           "offsetgroup": "목요일",
           "orientation": "v",
           "showlegend": true,
           "text": [
            54846
           ],
           "textposition": "auto",
           "type": "bar",
           "x": [
            "목요일"
           ],
           "xaxis": "x",
           "y": [
            54846
           ],
           "yaxis": "y"
          },
          {
           "alignmentgroup": "True",
           "hovertemplate": "발생요일=%{x}<br>년도=2019년<br>발생건수=%{text}<extra></extra>",
           "legendgroup": "수요일",
           "marker": {
            "color": "#00cc96",
            "pattern": {
             "shape": ""
            }
           },
           "name": "수요일",
           "offsetgroup": "수요일",
           "orientation": "v",
           "showlegend": true,
           "text": [
            54509
           ],
           "textposition": "auto",
           "type": "bar",
           "x": [
            "수요일"
           ],
           "xaxis": "x",
           "y": [
            54509
           ],
           "yaxis": "y"
          },
          {
           "alignmentgroup": "True",
           "hovertemplate": "발생요일=%{x}<br>년도=2019년<br>발생건수=%{text}<extra></extra>",
           "legendgroup": "월요일",
           "marker": {
            "color": "#ab63fa",
            "pattern": {
             "shape": ""
            }
           },
           "name": "월요일",
           "offsetgroup": "월요일",
           "orientation": "v",
           "showlegend": true,
           "text": [
            51459
           ],
           "textposition": "auto",
           "type": "bar",
           "x": [
            "월요일"
           ],
           "xaxis": "x",
           "y": [
            51459
           ],
           "yaxis": "y"
          },
          {
           "alignmentgroup": "True",
           "hovertemplate": "발생요일=%{x}<br>년도=2019년<br>발생건수=%{text}<extra></extra>",
           "legendgroup": "일요일",
           "marker": {
            "color": "#FFA15A",
            "pattern": {
             "shape": ""
            }
           },
           "name": "일요일",
           "offsetgroup": "일요일",
           "orientation": "v",
           "showlegend": true,
           "text": [
            47698
           ],
           "textposition": "auto",
           "type": "bar",
           "x": [
            "일요일"
           ],
           "xaxis": "x",
           "y": [
            47698
           ],
           "yaxis": "y"
          },
          {
           "alignmentgroup": "True",
           "hovertemplate": "발생요일=%{x}<br>년도=2019년<br>발생건수=%{text}<extra></extra>",
           "legendgroup": "토요일",
           "marker": {
            "color": "#19d3f3",
            "pattern": {
             "shape": ""
            }
           },
           "name": "토요일",
           "offsetgroup": "토요일",
           "orientation": "v",
           "showlegend": true,
           "text": [
            57134
           ],
           "textposition": "auto",
           "type": "bar",
           "x": [
            "토요일"
           ],
           "xaxis": "x",
           "y": [
            57134
           ],
           "yaxis": "y"
          },
          {
           "alignmentgroup": "True",
           "hovertemplate": "발생요일=%{x}<br>년도=2019년<br>발생건수=%{text}<extra></extra>",
           "legendgroup": "화요일",
           "marker": {
            "color": "#FF6692",
            "pattern": {
             "shape": ""
            }
           },
           "name": "화요일",
           "offsetgroup": "화요일",
           "orientation": "v",
           "showlegend": true,
           "text": [
            53605
           ],
           "textposition": "auto",
           "type": "bar",
           "x": [
            "화요일"
           ],
           "xaxis": "x",
           "y": [
            53605
           ],
           "yaxis": "y"
          }
         ],
         "name": "2019년"
        },
        {
         "data": [
          {
           "alignmentgroup": "True",
           "hovertemplate": "발생요일=%{x}<br>년도=2020년<br>발생건수=%{text}<extra></extra>",
           "legendgroup": "금요일",
           "marker": {
            "color": "#636efa",
            "pattern": {
             "shape": ""
            }
           },
           "name": "금요일",
           "offsetgroup": "금요일",
           "orientation": "v",
           "showlegend": true,
           "text": [
            54381
           ],
           "textposition": "auto",
           "type": "bar",
           "x": [
            "금요일"
           ],
           "xaxis": "x",
           "y": [
            54381
           ],
           "yaxis": "y"
          },
          {
           "alignmentgroup": "True",
           "hovertemplate": "발생요일=%{x}<br>년도=2020년<br>발생건수=%{text}<extra></extra>",
           "legendgroup": "목요일",
           "marker": {
            "color": "#EF553B",
            "pattern": {
             "shape": ""
            }
           },
           "name": "목요일",
           "offsetgroup": "목요일",
           "orientation": "v",
           "showlegend": true,
           "text": [
            50518
           ],
           "textposition": "auto",
           "type": "bar",
           "x": [
            "목요일"
           ],
           "xaxis": "x",
           "y": [
            50518
           ],
           "yaxis": "y"
          },
          {
           "alignmentgroup": "True",
           "hovertemplate": "발생요일=%{x}<br>년도=2020년<br>발생건수=%{text}<extra></extra>",
           "legendgroup": "수요일",
           "marker": {
            "color": "#00cc96",
            "pattern": {
             "shape": ""
            }
           },
           "name": "수요일",
           "offsetgroup": "수요일",
           "orientation": "v",
           "showlegend": true,
           "text": [
            49712
           ],
           "textposition": "auto",
           "type": "bar",
           "x": [
            "수요일"
           ],
           "xaxis": "x",
           "y": [
            49712
           ],
           "yaxis": "y"
          },
          {
           "alignmentgroup": "True",
           "hovertemplate": "발생요일=%{x}<br>년도=2020년<br>발생건수=%{text}<extra></extra>",
           "legendgroup": "월요일",
           "marker": {
            "color": "#ab63fa",
            "pattern": {
             "shape": ""
            }
           },
           "name": "월요일",
           "offsetgroup": "월요일",
           "orientation": "v",
           "showlegend": true,
           "text": [
            48515
           ],
           "textposition": "auto",
           "type": "bar",
           "x": [
            "월요일"
           ],
           "xaxis": "x",
           "y": [
            48515
           ],
           "yaxis": "y"
          },
          {
           "alignmentgroup": "True",
           "hovertemplate": "발생요일=%{x}<br>년도=2020년<br>발생건수=%{text}<extra></extra>",
           "legendgroup": "일요일",
           "marker": {
            "color": "#FFA15A",
            "pattern": {
             "shape": ""
            }
           },
           "name": "일요일",
           "offsetgroup": "일요일",
           "orientation": "v",
           "showlegend": true,
           "text": [
            43196
           ],
           "textposition": "auto",
           "type": "bar",
           "x": [
            "일요일"
           ],
           "xaxis": "x",
           "y": [
            43196
           ],
           "yaxis": "y"
          },
          {
           "alignmentgroup": "True",
           "hovertemplate": "발생요일=%{x}<br>년도=2020년<br>발생건수=%{text}<extra></extra>",
           "legendgroup": "토요일",
           "marker": {
            "color": "#19d3f3",
            "pattern": {
             "shape": ""
            }
           },
           "name": "토요일",
           "offsetgroup": "토요일",
           "orientation": "v",
           "showlegend": true,
           "text": [
            52071
           ],
           "textposition": "auto",
           "type": "bar",
           "x": [
            "토요일"
           ],
           "xaxis": "x",
           "y": [
            52071
           ],
           "yaxis": "y"
          },
          {
           "alignmentgroup": "True",
           "hovertemplate": "발생요일=%{x}<br>년도=2020년<br>발생건수=%{text}<extra></extra>",
           "legendgroup": "화요일",
           "marker": {
            "color": "#FF6692",
            "pattern": {
             "shape": ""
            }
           },
           "name": "화요일",
           "offsetgroup": "화요일",
           "orientation": "v",
           "showlegend": true,
           "text": [
            50332
           ],
           "textposition": "auto",
           "type": "bar",
           "x": [
            "화요일"
           ],
           "xaxis": "x",
           "y": [
            50332
           ],
           "yaxis": "y"
          }
         ],
         "name": "2020년"
        },
        {
         "data": [
          {
           "alignmentgroup": "True",
           "hovertemplate": "발생요일=%{x}<br>년도=2021년<br>발생건수=%{text}<extra></extra>",
           "legendgroup": "금요일",
           "marker": {
            "color": "#636efa",
            "pattern": {
             "shape": ""
            }
           },
           "name": "금요일",
           "offsetgroup": "금요일",
           "orientation": "v",
           "showlegend": true,
           "text": [
            48221
           ],
           "textposition": "auto",
           "type": "bar",
           "x": [
            "금요일"
           ],
           "xaxis": "x",
           "y": [
            48221
           ],
           "yaxis": "y"
          },
          {
           "alignmentgroup": "True",
           "hovertemplate": "발생요일=%{x}<br>년도=2021년<br>발생건수=%{text}<extra></extra>",
           "legendgroup": "목요일",
           "marker": {
            "color": "#EF553B",
            "pattern": {
             "shape": ""
            }
           },
           "name": "목요일",
           "offsetgroup": "목요일",
           "orientation": "v",
           "showlegend": true,
           "text": [
            45010
           ],
           "textposition": "auto",
           "type": "bar",
           "x": [
            "목요일"
           ],
           "xaxis": "x",
           "y": [
            45010
           ],
           "yaxis": "y"
          },
          {
           "alignmentgroup": "True",
           "hovertemplate": "발생요일=%{x}<br>년도=2021년<br>발생건수=%{text}<extra></extra>",
           "legendgroup": "수요일",
           "marker": {
            "color": "#00cc96",
            "pattern": {
             "shape": ""
            }
           },
           "name": "수요일",
           "offsetgroup": "수요일",
           "orientation": "v",
           "showlegend": true,
           "text": [
            44706
           ],
           "textposition": "auto",
           "type": "bar",
           "x": [
            "수요일"
           ],
           "xaxis": "x",
           "y": [
            44706
           ],
           "yaxis": "y"
          },
          {
           "alignmentgroup": "True",
           "hovertemplate": "발생요일=%{x}<br>년도=2021년<br>발생건수=%{text}<extra></extra>",
           "legendgroup": "월요일",
           "marker": {
            "color": "#ab63fa",
            "pattern": {
             "shape": ""
            }
           },
           "name": "월요일",
           "offsetgroup": "월요일",
           "orientation": "v",
           "showlegend": true,
           "text": [
            42843
           ],
           "textposition": "auto",
           "type": "bar",
           "x": [
            "월요일"
           ],
           "xaxis": "x",
           "y": [
            42843
           ],
           "yaxis": "y"
          },
          {
           "alignmentgroup": "True",
           "hovertemplate": "발생요일=%{x}<br>년도=2021년<br>발생건수=%{text}<extra></extra>",
           "legendgroup": "일요일",
           "marker": {
            "color": "#FFA15A",
            "pattern": {
             "shape": ""
            }
           },
           "name": "일요일",
           "offsetgroup": "일요일",
           "orientation": "v",
           "showlegend": true,
           "text": [
            37318
           ],
           "textposition": "auto",
           "type": "bar",
           "x": [
            "일요일"
           ],
           "xaxis": "x",
           "y": [
            37318
           ],
           "yaxis": "y"
          },
          {
           "alignmentgroup": "True",
           "hovertemplate": "발생요일=%{x}<br>년도=2021년<br>발생건수=%{text}<extra></extra>",
           "legendgroup": "토요일",
           "marker": {
            "color": "#19d3f3",
            "pattern": {
             "shape": ""
            }
           },
           "name": "토요일",
           "offsetgroup": "토요일",
           "orientation": "v",
           "showlegend": true,
           "text": [
            46324
           ],
           "textposition": "auto",
           "type": "bar",
           "x": [
            "토요일"
           ],
           "xaxis": "x",
           "y": [
            46324
           ],
           "yaxis": "y"
          },
          {
           "alignmentgroup": "True",
           "hovertemplate": "발생요일=%{x}<br>년도=2021년<br>발생건수=%{text}<extra></extra>",
           "legendgroup": "화요일",
           "marker": {
            "color": "#FF6692",
            "pattern": {
             "shape": ""
            }
           },
           "name": "화요일",
           "offsetgroup": "화요일",
           "orientation": "v",
           "showlegend": true,
           "text": [
            44212
           ],
           "textposition": "auto",
           "type": "bar",
           "x": [
            "화요일"
           ],
           "xaxis": "x",
           "y": [
            44212
           ],
           "yaxis": "y"
          }
         ],
         "name": "2021년"
        },
        {
         "data": [
          {
           "alignmentgroup": "True",
           "hovertemplate": "발생요일=%{x}<br>년도=2022년<br>발생건수=%{text}<extra></extra>",
           "legendgroup": "금요일",
           "marker": {
            "color": "#636efa",
            "pattern": {
             "shape": ""
            }
           },
           "name": "금요일",
           "offsetgroup": "금요일",
           "orientation": "v",
           "showlegend": true,
           "text": [
            38316
           ],
           "textposition": "auto",
           "type": "bar",
           "x": [
            "금요일"
           ],
           "xaxis": "x",
           "y": [
            38316
           ],
           "yaxis": "y"
          },
          {
           "alignmentgroup": "True",
           "hovertemplate": "발생요일=%{x}<br>년도=2022년<br>발생건수=%{text}<extra></extra>",
           "legendgroup": "목요일",
           "marker": {
            "color": "#EF553B",
            "pattern": {
             "shape": ""
            }
           },
           "name": "목요일",
           "offsetgroup": "목요일",
           "orientation": "v",
           "showlegend": true,
           "text": [
            34872
           ],
           "textposition": "auto",
           "type": "bar",
           "x": [
            "목요일"
           ],
           "xaxis": "x",
           "y": [
            34872
           ],
           "yaxis": "y"
          },
          {
           "alignmentgroup": "True",
           "hovertemplate": "발생요일=%{x}<br>년도=2022년<br>발생건수=%{text}<extra></extra>",
           "legendgroup": "수요일",
           "marker": {
            "color": "#00cc96",
            "pattern": {
             "shape": ""
            }
           },
           "name": "수요일",
           "offsetgroup": "수요일",
           "orientation": "v",
           "showlegend": true,
           "text": [
            34202
           ],
           "textposition": "auto",
           "type": "bar",
           "x": [
            "수요일"
           ],
           "xaxis": "x",
           "y": [
            34202
           ],
           "yaxis": "y"
          },
          {
           "alignmentgroup": "True",
           "hovertemplate": "발생요일=%{x}<br>년도=2022년<br>발생건수=%{text}<extra></extra>",
           "legendgroup": "월요일",
           "marker": {
            "color": "#ab63fa",
            "pattern": {
             "shape": ""
            }
           },
           "name": "월요일",
           "offsetgroup": "월요일",
           "orientation": "v",
           "showlegend": true,
           "text": [
            31335
           ],
           "textposition": "auto",
           "type": "bar",
           "x": [
            "월요일"
           ],
           "xaxis": "x",
           "y": [
            31335
           ],
           "yaxis": "y"
          },
          {
           "alignmentgroup": "True",
           "hovertemplate": "발생요일=%{x}<br>년도=2022년<br>발생건수=%{text}<extra></extra>",
           "legendgroup": "일요일",
           "marker": {
            "color": "#FFA15A",
            "pattern": {
             "shape": ""
            }
           },
           "name": "일요일",
           "offsetgroup": "일요일",
           "orientation": "v",
           "showlegend": true,
           "text": [
            31817
           ],
           "textposition": "auto",
           "type": "bar",
           "x": [
            "일요일"
           ],
           "xaxis": "x",
           "y": [
            31817
           ],
           "yaxis": "y"
          },
          {
           "alignmentgroup": "True",
           "hovertemplate": "발생요일=%{x}<br>년도=2022년<br>발생건수=%{text}<extra></extra>",
           "legendgroup": "토요일",
           "marker": {
            "color": "#19d3f3",
            "pattern": {
             "shape": ""
            }
           },
           "name": "토요일",
           "offsetgroup": "토요일",
           "orientation": "v",
           "showlegend": true,
           "text": [
            36943
           ],
           "textposition": "auto",
           "type": "bar",
           "x": [
            "토요일"
           ],
           "xaxis": "x",
           "y": [
            36943
           ],
           "yaxis": "y"
          },
          {
           "alignmentgroup": "True",
           "hovertemplate": "발생요일=%{x}<br>년도=2022년<br>발생건수=%{text}<extra></extra>",
           "legendgroup": "화요일",
           "marker": {
            "color": "#FF6692",
            "pattern": {
             "shape": ""
            }
           },
           "name": "화요일",
           "offsetgroup": "화요일",
           "orientation": "v",
           "showlegend": true,
           "text": [
            33544
           ],
           "textposition": "auto",
           "type": "bar",
           "x": [
            "화요일"
           ],
           "xaxis": "x",
           "y": [
            33544
           ],
           "yaxis": "y"
          }
         ],
         "name": "2022년"
        }
       ],
       "layout": {
        "barmode": "relative",
        "legend": {
         "title": {
          "text": "발생요일"
         },
         "tracegroupgap": 0
        },
        "margin": {
         "t": 60
        },
        "sliders": [
         {
          "active": 0,
          "currentvalue": {
           "prefix": "년도="
          },
          "len": 0.9,
          "pad": {
           "b": 10,
           "t": 60
          },
          "steps": [
           {
            "args": [
             [
              "2016년"
             ],
             {
              "frame": {
               "duration": 0,
               "redraw": true
              },
              "fromcurrent": true,
              "mode": "immediate",
              "transition": {
               "duration": 0,
               "easing": "linear"
              }
             }
            ],
            "label": "2016년",
            "method": "animate"
           },
           {
            "args": [
             [
              "2017년"
             ],
             {
              "frame": {
               "duration": 0,
               "redraw": true
              },
              "fromcurrent": true,
              "mode": "immediate",
              "transition": {
               "duration": 0,
               "easing": "linear"
              }
             }
            ],
            "label": "2017년",
            "method": "animate"
           },
           {
            "args": [
             [
              "2018년"
             ],
             {
              "frame": {
               "duration": 0,
               "redraw": true
              },
              "fromcurrent": true,
              "mode": "immediate",
              "transition": {
               "duration": 0,
               "easing": "linear"
              }
             }
            ],
            "label": "2018년",
            "method": "animate"
           },
           {
            "args": [
             [
              "2019년"
             ],
             {
              "frame": {
               "duration": 0,
               "redraw": true
              },
              "fromcurrent": true,
              "mode": "immediate",
              "transition": {
               "duration": 0,
               "easing": "linear"
              }
             }
            ],
            "label": "2019년",
            "method": "animate"
           },
           {
            "args": [
             [
              "2020년"
             ],
             {
              "frame": {
               "duration": 0,
               "redraw": true
              },
              "fromcurrent": true,
              "mode": "immediate",
              "transition": {
               "duration": 0,
               "easing": "linear"
              }
             }
            ],
            "label": "2020년",
            "method": "animate"
           },
           {
            "args": [
             [
              "2021년"
             ],
             {
              "frame": {
               "duration": 0,
               "redraw": true
              },
              "fromcurrent": true,
              "mode": "immediate",
              "transition": {
               "duration": 0,
               "easing": "linear"
              }
             }
            ],
            "label": "2021년",
            "method": "animate"
           },
           {
            "args": [
             [
              "2022년"
             ],
             {
              "frame": {
               "duration": 0,
               "redraw": true
              },
              "fromcurrent": true,
              "mode": "immediate",
              "transition": {
               "duration": 0,
               "easing": "linear"
              }
             }
            ],
            "label": "2022년",
            "method": "animate"
           }
          ],
          "x": 0.1,
          "xanchor": "left",
          "y": 0,
          "yanchor": "top"
         }
        ],
        "template": {
         "data": {
          "bar": [
           {
            "error_x": {
             "color": "#2a3f5f"
            },
            "error_y": {
             "color": "#2a3f5f"
            },
            "marker": {
             "line": {
              "color": "#E5ECF6",
              "width": 0.5
             },
             "pattern": {
              "fillmode": "overlay",
              "size": 10,
              "solidity": 0.2
             }
            },
            "type": "bar"
           }
          ],
          "barpolar": [
           {
            "marker": {
             "line": {
              "color": "#E5ECF6",
              "width": 0.5
             },
             "pattern": {
              "fillmode": "overlay",
              "size": 10,
              "solidity": 0.2
             }
            },
            "type": "barpolar"
           }
          ],
          "carpet": [
           {
            "aaxis": {
             "endlinecolor": "#2a3f5f",
             "gridcolor": "white",
             "linecolor": "white",
             "minorgridcolor": "white",
             "startlinecolor": "#2a3f5f"
            },
            "baxis": {
             "endlinecolor": "#2a3f5f",
             "gridcolor": "white",
             "linecolor": "white",
             "minorgridcolor": "white",
             "startlinecolor": "#2a3f5f"
            },
            "type": "carpet"
           }
          ],
          "choropleth": [
           {
            "colorbar": {
             "outlinewidth": 0,
             "ticks": ""
            },
            "type": "choropleth"
           }
          ],
          "contour": [
           {
            "colorbar": {
             "outlinewidth": 0,
             "ticks": ""
            },
            "colorscale": [
             [
              0,
              "#0d0887"
             ],
             [
              0.1111111111111111,
              "#46039f"
             ],
             [
              0.2222222222222222,
              "#7201a8"
             ],
             [
              0.3333333333333333,
              "#9c179e"
             ],
             [
              0.4444444444444444,
              "#bd3786"
             ],
             [
              0.5555555555555556,
              "#d8576b"
             ],
             [
              0.6666666666666666,
              "#ed7953"
             ],
             [
              0.7777777777777778,
              "#fb9f3a"
             ],
             [
              0.8888888888888888,
              "#fdca26"
             ],
             [
              1,
              "#f0f921"
             ]
            ],
            "type": "contour"
           }
          ],
          "contourcarpet": [
           {
            "colorbar": {
             "outlinewidth": 0,
             "ticks": ""
            },
            "type": "contourcarpet"
           }
          ],
          "heatmap": [
           {
            "colorbar": {
             "outlinewidth": 0,
             "ticks": ""
            },
            "colorscale": [
             [
              0,
              "#0d0887"
             ],
             [
              0.1111111111111111,
              "#46039f"
             ],
             [
              0.2222222222222222,
              "#7201a8"
             ],
             [
              0.3333333333333333,
              "#9c179e"
             ],
             [
              0.4444444444444444,
              "#bd3786"
             ],
             [
              0.5555555555555556,
              "#d8576b"
             ],
             [
              0.6666666666666666,
              "#ed7953"
             ],
             [
              0.7777777777777778,
              "#fb9f3a"
             ],
             [
              0.8888888888888888,
              "#fdca26"
             ],
             [
              1,
              "#f0f921"
             ]
            ],
            "type": "heatmap"
           }
          ],
          "heatmapgl": [
           {
            "colorbar": {
             "outlinewidth": 0,
             "ticks": ""
            },
            "colorscale": [
             [
              0,
              "#0d0887"
             ],
             [
              0.1111111111111111,
              "#46039f"
             ],
             [
              0.2222222222222222,
              "#7201a8"
             ],
             [
              0.3333333333333333,
              "#9c179e"
             ],
             [
              0.4444444444444444,
              "#bd3786"
             ],
             [
              0.5555555555555556,
              "#d8576b"
             ],
             [
              0.6666666666666666,
              "#ed7953"
             ],
             [
              0.7777777777777778,
              "#fb9f3a"
             ],
             [
              0.8888888888888888,
              "#fdca26"
             ],
             [
              1,
              "#f0f921"
             ]
            ],
            "type": "heatmapgl"
           }
          ],
          "histogram": [
           {
            "marker": {
             "pattern": {
              "fillmode": "overlay",
              "size": 10,
              "solidity": 0.2
             }
            },
            "type": "histogram"
           }
          ],
          "histogram2d": [
           {
            "colorbar": {
             "outlinewidth": 0,
             "ticks": ""
            },
            "colorscale": [
             [
              0,
              "#0d0887"
             ],
             [
              0.1111111111111111,
              "#46039f"
             ],
             [
              0.2222222222222222,
              "#7201a8"
             ],
             [
              0.3333333333333333,
              "#9c179e"
             ],
             [
              0.4444444444444444,
              "#bd3786"
             ],
             [
              0.5555555555555556,
              "#d8576b"
             ],
             [
              0.6666666666666666,
              "#ed7953"
             ],
             [
              0.7777777777777778,
              "#fb9f3a"
             ],
             [
              0.8888888888888888,
              "#fdca26"
             ],
             [
              1,
              "#f0f921"
             ]
            ],
            "type": "histogram2d"
           }
          ],
          "histogram2dcontour": [
           {
            "colorbar": {
             "outlinewidth": 0,
             "ticks": ""
            },
            "colorscale": [
             [
              0,
              "#0d0887"
             ],
             [
              0.1111111111111111,
              "#46039f"
             ],
             [
              0.2222222222222222,
              "#7201a8"
             ],
             [
              0.3333333333333333,
              "#9c179e"
             ],
             [
              0.4444444444444444,
              "#bd3786"
             ],
             [
              0.5555555555555556,
              "#d8576b"
             ],
             [
              0.6666666666666666,
              "#ed7953"
             ],
             [
              0.7777777777777778,
              "#fb9f3a"
             ],
             [
              0.8888888888888888,
              "#fdca26"
             ],
             [
              1,
              "#f0f921"
             ]
            ],
            "type": "histogram2dcontour"
           }
          ],
          "mesh3d": [
           {
            "colorbar": {
             "outlinewidth": 0,
             "ticks": ""
            },
            "type": "mesh3d"
           }
          ],
          "parcoords": [
           {
            "line": {
             "colorbar": {
              "outlinewidth": 0,
              "ticks": ""
             }
            },
            "type": "parcoords"
           }
          ],
          "pie": [
           {
            "automargin": true,
            "type": "pie"
           }
          ],
          "scatter": [
           {
            "fillpattern": {
             "fillmode": "overlay",
             "size": 10,
             "solidity": 0.2
            },
            "type": "scatter"
           }
          ],
          "scatter3d": [
           {
            "line": {
             "colorbar": {
              "outlinewidth": 0,
              "ticks": ""
             }
            },
            "marker": {
             "colorbar": {
              "outlinewidth": 0,
              "ticks": ""
             }
            },
            "type": "scatter3d"
           }
          ],
          "scattercarpet": [
           {
            "marker": {
             "colorbar": {
              "outlinewidth": 0,
              "ticks": ""
             }
            },
            "type": "scattercarpet"
           }
          ],
          "scattergeo": [
           {
            "marker": {
             "colorbar": {
              "outlinewidth": 0,
              "ticks": ""
             }
            },
            "type": "scattergeo"
           }
          ],
          "scattergl": [
           {
            "marker": {
             "colorbar": {
              "outlinewidth": 0,
              "ticks": ""
             }
            },
            "type": "scattergl"
           }
          ],
          "scattermapbox": [
           {
            "marker": {
             "colorbar": {
              "outlinewidth": 0,
              "ticks": ""
             }
            },
            "type": "scattermapbox"
           }
          ],
          "scatterpolar": [
           {
            "marker": {
             "colorbar": {
              "outlinewidth": 0,
              "ticks": ""
             }
            },
            "type": "scatterpolar"
           }
          ],
          "scatterpolargl": [
           {
            "marker": {
             "colorbar": {
              "outlinewidth": 0,
              "ticks": ""
             }
            },
            "type": "scatterpolargl"
           }
          ],
          "scatterternary": [
           {
            "marker": {
             "colorbar": {
              "outlinewidth": 0,
              "ticks": ""
             }
            },
            "type": "scatterternary"
           }
          ],
          "surface": [
           {
            "colorbar": {
             "outlinewidth": 0,
             "ticks": ""
            },
            "colorscale": [
             [
              0,
              "#0d0887"
             ],
             [
              0.1111111111111111,
              "#46039f"
             ],
             [
              0.2222222222222222,
              "#7201a8"
             ],
             [
              0.3333333333333333,
              "#9c179e"
             ],
             [
              0.4444444444444444,
              "#bd3786"
             ],
             [
              0.5555555555555556,
              "#d8576b"
             ],
             [
              0.6666666666666666,
              "#ed7953"
             ],
             [
              0.7777777777777778,
              "#fb9f3a"
             ],
             [
              0.8888888888888888,
              "#fdca26"
             ],
             [
              1,
              "#f0f921"
             ]
            ],
            "type": "surface"
           }
          ],
          "table": [
           {
            "cells": {
             "fill": {
              "color": "#EBF0F8"
             },
             "line": {
              "color": "white"
             }
            },
            "header": {
             "fill": {
              "color": "#C8D4E3"
             },
             "line": {
              "color": "white"
             }
            },
            "type": "table"
           }
          ]
         },
         "layout": {
          "annotationdefaults": {
           "arrowcolor": "#2a3f5f",
           "arrowhead": 0,
           "arrowwidth": 1
          },
          "autotypenumbers": "strict",
          "coloraxis": {
           "colorbar": {
            "outlinewidth": 0,
            "ticks": ""
           }
          },
          "colorscale": {
           "diverging": [
            [
             0,
             "#8e0152"
            ],
            [
             0.1,
             "#c51b7d"
            ],
            [
             0.2,
             "#de77ae"
            ],
            [
             0.3,
             "#f1b6da"
            ],
            [
             0.4,
             "#fde0ef"
            ],
            [
             0.5,
             "#f7f7f7"
            ],
            [
             0.6,
             "#e6f5d0"
            ],
            [
             0.7,
             "#b8e186"
            ],
            [
             0.8,
             "#7fbc41"
            ],
            [
             0.9,
             "#4d9221"
            ],
            [
             1,
             "#276419"
            ]
           ],
           "sequential": [
            [
             0,
             "#0d0887"
            ],
            [
             0.1111111111111111,
             "#46039f"
            ],
            [
             0.2222222222222222,
             "#7201a8"
            ],
            [
             0.3333333333333333,
             "#9c179e"
            ],
            [
             0.4444444444444444,
             "#bd3786"
            ],
            [
             0.5555555555555556,
             "#d8576b"
            ],
            [
             0.6666666666666666,
             "#ed7953"
            ],
            [
             0.7777777777777778,
             "#fb9f3a"
            ],
            [
             0.8888888888888888,
             "#fdca26"
            ],
            [
             1,
             "#f0f921"
            ]
           ],
           "sequentialminus": [
            [
             0,
             "#0d0887"
            ],
            [
             0.1111111111111111,
             "#46039f"
            ],
            [
             0.2222222222222222,
             "#7201a8"
            ],
            [
             0.3333333333333333,
             "#9c179e"
            ],
            [
             0.4444444444444444,
             "#bd3786"
            ],
            [
             0.5555555555555556,
             "#d8576b"
            ],
            [
             0.6666666666666666,
             "#ed7953"
            ],
            [
             0.7777777777777778,
             "#fb9f3a"
            ],
            [
             0.8888888888888888,
             "#fdca26"
            ],
            [
             1,
             "#f0f921"
            ]
           ]
          },
          "colorway": [
           "#636efa",
           "#EF553B",
           "#00cc96",
           "#ab63fa",
           "#FFA15A",
           "#19d3f3",
           "#FF6692",
           "#B6E880",
           "#FF97FF",
           "#FECB52"
          ],
          "font": {
           "color": "#2a3f5f"
          },
          "geo": {
           "bgcolor": "white",
           "lakecolor": "white",
           "landcolor": "#E5ECF6",
           "showlakes": true,
           "showland": true,
           "subunitcolor": "white"
          },
          "hoverlabel": {
           "align": "left"
          },
          "hovermode": "closest",
          "mapbox": {
           "style": "light"
          },
          "paper_bgcolor": "white",
          "plot_bgcolor": "#E5ECF6",
          "polar": {
           "angularaxis": {
            "gridcolor": "white",
            "linecolor": "white",
            "ticks": ""
           },
           "bgcolor": "#E5ECF6",
           "radialaxis": {
            "gridcolor": "white",
            "linecolor": "white",
            "ticks": ""
           }
          },
          "scene": {
           "xaxis": {
            "backgroundcolor": "#E5ECF6",
            "gridcolor": "white",
            "gridwidth": 2,
            "linecolor": "white",
            "showbackground": true,
            "ticks": "",
            "zerolinecolor": "white"
           },
           "yaxis": {
            "backgroundcolor": "#E5ECF6",
            "gridcolor": "white",
            "gridwidth": 2,
            "linecolor": "white",
            "showbackground": true,
            "ticks": "",
            "zerolinecolor": "white"
           },
           "zaxis": {
            "backgroundcolor": "#E5ECF6",
            "gridcolor": "white",
            "gridwidth": 2,
            "linecolor": "white",
            "showbackground": true,
            "ticks": "",
            "zerolinecolor": "white"
           }
          },
          "shapedefaults": {
           "line": {
            "color": "#2a3f5f"
           }
          },
          "ternary": {
           "aaxis": {
            "gridcolor": "white",
            "linecolor": "white",
            "ticks": ""
           },
           "baxis": {
            "gridcolor": "white",
            "linecolor": "white",
            "ticks": ""
           },
           "bgcolor": "#E5ECF6",
           "caxis": {
            "gridcolor": "white",
            "linecolor": "white",
            "ticks": ""
           }
          },
          "title": {
           "x": 0.05
          },
          "xaxis": {
           "automargin": true,
           "gridcolor": "white",
           "linecolor": "white",
           "ticks": "",
           "title": {
            "standoff": 15
           },
           "zerolinecolor": "white",
           "zerolinewidth": 2
          },
          "yaxis": {
           "automargin": true,
           "gridcolor": "white",
           "linecolor": "white",
           "ticks": "",
           "title": {
            "standoff": 15
           },
           "zerolinecolor": "white",
           "zerolinewidth": 2
          }
         }
        },
        "title": {
         "font": {
          "size": 22
         },
         "text": "2016년도 이후 요일에 따른 교통범죄 발생 건 수",
         "x": 0.5
        },
        "updatemenus": [
         {
          "buttons": [
           {
            "args": [
             null,
             {
              "frame": {
               "duration": 500,
               "redraw": true
              },
              "fromcurrent": true,
              "mode": "immediate",
              "transition": {
               "duration": 500,
               "easing": "linear"
              }
             }
            ],
            "label": "&#9654;",
            "method": "animate"
           },
           {
            "args": [
             [
              null
             ],
             {
              "frame": {
               "duration": 0,
               "redraw": true
              },
              "fromcurrent": true,
              "mode": "immediate",
              "transition": {
               "duration": 0,
               "easing": "linear"
              }
             }
            ],
            "label": "&#9724;",
            "method": "animate"
           }
          ],
          "direction": "left",
          "pad": {
           "r": 10,
           "t": 70
          },
          "showactive": false,
          "type": "buttons",
          "x": 0.1,
          "xanchor": "right",
          "y": 0,
          "yanchor": "top"
         }
        ],
        "xaxis": {
         "anchor": "y",
         "categoryarray": [
          "금요일",
          "목요일",
          "수요일",
          "월요일",
          "일요일",
          "토요일",
          "화요일"
         ],
         "categoryorder": "array",
         "domain": [
          0,
          1
         ],
         "tickangle": -45,
         "title": {
          "text": "발생요일"
         }
        },
        "yaxis": {
         "anchor": "x",
         "domain": [
          0,
          1
         ],
         "title": {
          "text": "발생건수"
         }
        }
       }
      }
     },
     "metadata": {},
     "output_type": "display_data"
    }
   ],
   "source": [
    "fig = px.bar(vehicle_dotweek_df, x=\"발생요일\", y=\"발생건수\", color=\"발생요일\", animation_frame=\"년도\", text=\"발생건수\" )\n",
    "fig.update_layout(title_text=\"2016년도 이후 요일에 따른 교통범죄 발생 건 수\", xaxis_tickangle=-45, title_x = 0.5, title_font_size=22)\n",
    "fig.show()"
   ]
  },
  {
   "cell_type": "code",
   "execution_count": 46,
   "metadata": {},
   "outputs": [
    {
     "data": {
      "text/html": [
       "<div>\n",
       "<style scoped>\n",
       "    .dataframe tbody tr th:only-of-type {\n",
       "        vertical-align: middle;\n",
       "    }\n",
       "\n",
       "    .dataframe tbody tr th {\n",
       "        vertical-align: top;\n",
       "    }\n",
       "\n",
       "    .dataframe thead th {\n",
       "        text-align: right;\n",
       "    }\n",
       "</style>\n",
       "<table border=\"1\" class=\"dataframe\">\n",
       "  <thead>\n",
       "    <tr style=\"text-align: right;\">\n",
       "      <th></th>\n",
       "      <th>대</th>\n",
       "      <th>중</th>\n",
       "      <th>소</th>\n",
       "      <th>발생장소</th>\n",
       "      <th>2011년</th>\n",
       "      <th>2012년</th>\n",
       "      <th>2013년</th>\n",
       "      <th>2014년</th>\n",
       "      <th>2015년</th>\n",
       "      <th>2016년</th>\n",
       "      <th>2017년</th>\n",
       "      <th>2018년</th>\n",
       "      <th>2019년</th>\n",
       "      <th>2020년</th>\n",
       "      <th>2021년</th>\n",
       "      <th>2022년</th>\n",
       "    </tr>\n",
       "  </thead>\n",
       "  <tbody>\n",
       "    <tr>\n",
       "      <th>0</th>\n",
       "      <td>총범죄</td>\n",
       "      <td>소계</td>\n",
       "      <td>소계</td>\n",
       "      <td>아파트 연립다세대</td>\n",
       "      <td>59344</td>\n",
       "      <td>52509</td>\n",
       "      <td>77667</td>\n",
       "      <td>60265</td>\n",
       "      <td>62187</td>\n",
       "      <td>63578</td>\n",
       "      <td>58288</td>\n",
       "      <td>82841</td>\n",
       "      <td>96879</td>\n",
       "      <td>100386</td>\n",
       "      <td>106001</td>\n",
       "      <td>108301</td>\n",
       "    </tr>\n",
       "    <tr>\n",
       "      <th>1</th>\n",
       "      <td>총범죄</td>\n",
       "      <td>소계</td>\n",
       "      <td>소계</td>\n",
       "      <td>단독주택</td>\n",
       "      <td>85371</td>\n",
       "      <td>77671</td>\n",
       "      <td>106024</td>\n",
       "      <td>79371</td>\n",
       "      <td>82428</td>\n",
       "      <td>74128</td>\n",
       "      <td>64757</td>\n",
       "      <td>81199</td>\n",
       "      <td>84895</td>\n",
       "      <td>79936</td>\n",
       "      <td>71347</td>\n",
       "      <td>69742</td>\n",
       "    </tr>\n",
       "    <tr>\n",
       "      <th>2</th>\n",
       "      <td>총범죄</td>\n",
       "      <td>소계</td>\n",
       "      <td>소계</td>\n",
       "      <td>고속도로</td>\n",
       "      <td>4942</td>\n",
       "      <td>4254</td>\n",
       "      <td>3659</td>\n",
       "      <td>4305</td>\n",
       "      <td>4481</td>\n",
       "      <td>5111</td>\n",
       "      <td>6992</td>\n",
       "      <td>6714</td>\n",
       "      <td>7762</td>\n",
       "      <td>7358</td>\n",
       "      <td>8152</td>\n",
       "      <td>10233</td>\n",
       "    </tr>\n",
       "    <tr>\n",
       "      <th>3</th>\n",
       "      <td>총범죄</td>\n",
       "      <td>소계</td>\n",
       "      <td>소계</td>\n",
       "      <td>노상</td>\n",
       "      <td>709011</td>\n",
       "      <td>689785</td>\n",
       "      <td>827395</td>\n",
       "      <td>786803</td>\n",
       "      <td>814101</td>\n",
       "      <td>840857</td>\n",
       "      <td>726140</td>\n",
       "      <td>644537</td>\n",
       "      <td>625533</td>\n",
       "      <td>603582</td>\n",
       "      <td>551630</td>\n",
       "      <td>501535</td>\n",
       "    </tr>\n",
       "    <tr>\n",
       "      <th>4</th>\n",
       "      <td>총범죄</td>\n",
       "      <td>소계</td>\n",
       "      <td>소계</td>\n",
       "      <td>백화점</td>\n",
       "      <td>2055</td>\n",
       "      <td>1987</td>\n",
       "      <td>3146</td>\n",
       "      <td>2480</td>\n",
       "      <td>2534</td>\n",
       "      <td>2614</td>\n",
       "      <td>2466</td>\n",
       "      <td>3546</td>\n",
       "      <td>4155</td>\n",
       "      <td>3471</td>\n",
       "      <td>2808</td>\n",
       "      <td>3047</td>\n",
       "    </tr>\n",
       "  </tbody>\n",
       "</table>\n",
       "</div>"
      ],
      "text/plain": [
       "     대   중   소       발생장소   2011년   2012년   2013년   2014년   2015년   2016년  \\\n",
       "0  총범죄  소계  소계  아파트 연립다세대   59344   52509   77667   60265   62187   63578   \n",
       "1  총범죄  소계  소계       단독주택   85371   77671  106024   79371   82428   74128   \n",
       "2  총범죄  소계  소계       고속도로    4942    4254    3659    4305    4481    5111   \n",
       "3  총범죄  소계  소계         노상  709011  689785  827395  786803  814101  840857   \n",
       "4  총범죄  소계  소계        백화점    2055    1987    3146    2480    2534    2614   \n",
       "\n",
       "    2017년   2018년   2019년   2020년   2021년   2022년  \n",
       "0   58288   82841   96879  100386  106001  108301  \n",
       "1   64757   81199   84895   79936   71347   69742  \n",
       "2    6992    6714    7762    7358    8152   10233  \n",
       "3  726140  644537  625533  603582  551630  501535  \n",
       "4    2466    3546    4155    3471    2808    3047  "
      ]
     },
     "execution_count": 46,
     "metadata": {},
     "output_type": "execute_result"
    }
   ],
   "source": [
    "crime.execute(\"SELECT * FROM crime_place_after\")\n",
    "result = crime.fetchall()\n",
    "\n",
    "crime_place_df = pd.DataFrame(result)\n",
    "crime_place_df.head()"
   ]
  },
  {
   "cell_type": "code",
   "execution_count": 50,
   "metadata": {},
   "outputs": [
    {
     "data": {
      "text/html": [
       "<div>\n",
       "<style scoped>\n",
       "    .dataframe tbody tr th:only-of-type {\n",
       "        vertical-align: middle;\n",
       "    }\n",
       "\n",
       "    .dataframe tbody tr th {\n",
       "        vertical-align: top;\n",
       "    }\n",
       "\n",
       "    .dataframe thead th {\n",
       "        text-align: right;\n",
       "    }\n",
       "</style>\n",
       "<table border=\"1\" class=\"dataframe\">\n",
       "  <thead>\n",
       "    <tr style=\"text-align: right;\">\n",
       "      <th></th>\n",
       "      <th>대</th>\n",
       "      <th>중</th>\n",
       "      <th>소</th>\n",
       "      <th>발생장소</th>\n",
       "      <th>2011년</th>\n",
       "      <th>2012년</th>\n",
       "      <th>2013년</th>\n",
       "      <th>2014년</th>\n",
       "      <th>2015년</th>\n",
       "      <th>2016년</th>\n",
       "      <th>2017년</th>\n",
       "      <th>2018년</th>\n",
       "      <th>2019년</th>\n",
       "      <th>2020년</th>\n",
       "      <th>2021년</th>\n",
       "      <th>2022년</th>\n",
       "    </tr>\n",
       "  </thead>\n",
       "  <tbody>\n",
       "    <tr>\n",
       "      <th>374</th>\n",
       "      <td>총범죄</td>\n",
       "      <td>절도범죄</td>\n",
       "      <td>소계</td>\n",
       "      <td>아파트 연립다세대</td>\n",
       "      <td>19657</td>\n",
       "      <td>14800</td>\n",
       "      <td>22706</td>\n",
       "      <td>14333</td>\n",
       "      <td>11042</td>\n",
       "      <td>8774</td>\n",
       "      <td>7036</td>\n",
       "      <td>11515</td>\n",
       "      <td>14344</td>\n",
       "      <td>16697</td>\n",
       "      <td>16482</td>\n",
       "      <td>17196</td>\n",
       "    </tr>\n",
       "    <tr>\n",
       "      <th>375</th>\n",
       "      <td>총범죄</td>\n",
       "      <td>절도범죄</td>\n",
       "      <td>소계</td>\n",
       "      <td>단독주택</td>\n",
       "      <td>26411</td>\n",
       "      <td>20401</td>\n",
       "      <td>30221</td>\n",
       "      <td>19515</td>\n",
       "      <td>15565</td>\n",
       "      <td>13226</td>\n",
       "      <td>9044</td>\n",
       "      <td>11542</td>\n",
       "      <td>11448</td>\n",
       "      <td>10196</td>\n",
       "      <td>8535</td>\n",
       "      <td>8117</td>\n",
       "    </tr>\n",
       "    <tr>\n",
       "      <th>376</th>\n",
       "      <td>총범죄</td>\n",
       "      <td>절도범죄</td>\n",
       "      <td>소계</td>\n",
       "      <td>고속도로</td>\n",
       "      <td>122</td>\n",
       "      <td>128</td>\n",
       "      <td>179</td>\n",
       "      <td>177</td>\n",
       "      <td>133</td>\n",
       "      <td>144</td>\n",
       "      <td>144</td>\n",
       "      <td>164</td>\n",
       "      <td>181</td>\n",
       "      <td>161</td>\n",
       "      <td>99</td>\n",
       "      <td>115</td>\n",
       "    </tr>\n",
       "    <tr>\n",
       "      <th>377</th>\n",
       "      <td>총범죄</td>\n",
       "      <td>절도범죄</td>\n",
       "      <td>소계</td>\n",
       "      <td>노상</td>\n",
       "      <td>46213</td>\n",
       "      <td>40448</td>\n",
       "      <td>65598</td>\n",
       "      <td>49527</td>\n",
       "      <td>45307</td>\n",
       "      <td>39355</td>\n",
       "      <td>36798</td>\n",
       "      <td>39952</td>\n",
       "      <td>45539</td>\n",
       "      <td>46861</td>\n",
       "      <td>46374</td>\n",
       "      <td>51945</td>\n",
       "    </tr>\n",
       "    <tr>\n",
       "      <th>378</th>\n",
       "      <td>총범죄</td>\n",
       "      <td>절도범죄</td>\n",
       "      <td>소계</td>\n",
       "      <td>백화점</td>\n",
       "      <td>1500</td>\n",
       "      <td>1493</td>\n",
       "      <td>2409</td>\n",
       "      <td>1828</td>\n",
       "      <td>1928</td>\n",
       "      <td>1990</td>\n",
       "      <td>1816</td>\n",
       "      <td>2599</td>\n",
       "      <td>3187</td>\n",
       "      <td>2695</td>\n",
       "      <td>2142</td>\n",
       "      <td>2274</td>\n",
       "    </tr>\n",
       "    <tr>\n",
       "      <th>379</th>\n",
       "      <td>총범죄</td>\n",
       "      <td>절도범죄</td>\n",
       "      <td>소계</td>\n",
       "      <td>슈퍼마켓</td>\n",
       "      <td>3875</td>\n",
       "      <td>3475</td>\n",
       "      <td>6400</td>\n",
       "      <td>4718</td>\n",
       "      <td>5080</td>\n",
       "      <td>4890</td>\n",
       "      <td>4571</td>\n",
       "      <td>6279</td>\n",
       "      <td>7673</td>\n",
       "      <td>9273</td>\n",
       "      <td>9920</td>\n",
       "      <td>11703</td>\n",
       "    </tr>\n",
       "    <tr>\n",
       "      <th>380</th>\n",
       "      <td>총범죄</td>\n",
       "      <td>절도범죄</td>\n",
       "      <td>소계</td>\n",
       "      <td>편의점</td>\n",
       "      <td>2952</td>\n",
       "      <td>2975</td>\n",
       "      <td>5083</td>\n",
       "      <td>4579</td>\n",
       "      <td>4351</td>\n",
       "      <td>4151</td>\n",
       "      <td>4160</td>\n",
       "      <td>5169</td>\n",
       "      <td>5853</td>\n",
       "      <td>5944</td>\n",
       "      <td>6143</td>\n",
       "      <td>6994</td>\n",
       "    </tr>\n",
       "    <tr>\n",
       "      <th>381</th>\n",
       "      <td>총범죄</td>\n",
       "      <td>절도범죄</td>\n",
       "      <td>소계</td>\n",
       "      <td>대형할인매장</td>\n",
       "      <td>2947</td>\n",
       "      <td>2757</td>\n",
       "      <td>2992</td>\n",
       "      <td>1966</td>\n",
       "      <td>2170</td>\n",
       "      <td>2104</td>\n",
       "      <td>1767</td>\n",
       "      <td>2413</td>\n",
       "      <td>2693</td>\n",
       "      <td>3065</td>\n",
       "      <td>3350</td>\n",
       "      <td>3536</td>\n",
       "    </tr>\n",
       "    <tr>\n",
       "      <th>382</th>\n",
       "      <td>총범죄</td>\n",
       "      <td>절도범죄</td>\n",
       "      <td>소계</td>\n",
       "      <td>상점</td>\n",
       "      <td>11289</td>\n",
       "      <td>9568</td>\n",
       "      <td>16865</td>\n",
       "      <td>9520</td>\n",
       "      <td>8850</td>\n",
       "      <td>9051</td>\n",
       "      <td>7787</td>\n",
       "      <td>13107</td>\n",
       "      <td>14506</td>\n",
       "      <td>13629</td>\n",
       "      <td>15031</td>\n",
       "      <td>17550</td>\n",
       "    </tr>\n",
       "    <tr>\n",
       "      <th>383</th>\n",
       "      <td>총범죄</td>\n",
       "      <td>절도범죄</td>\n",
       "      <td>소계</td>\n",
       "      <td>시장노점</td>\n",
       "      <td>3094</td>\n",
       "      <td>3131</td>\n",
       "      <td>5237</td>\n",
       "      <td>2998</td>\n",
       "      <td>2475</td>\n",
       "      <td>2311</td>\n",
       "      <td>1803</td>\n",
       "      <td>4099</td>\n",
       "      <td>4677</td>\n",
       "      <td>3951</td>\n",
       "      <td>3970</td>\n",
       "      <td>3927</td>\n",
       "    </tr>\n",
       "    <tr>\n",
       "      <th>384</th>\n",
       "      <td>총범죄</td>\n",
       "      <td>절도범죄</td>\n",
       "      <td>소계</td>\n",
       "      <td>숙박업소 목욕탕</td>\n",
       "      <td>8537</td>\n",
       "      <td>10346</td>\n",
       "      <td>15334</td>\n",
       "      <td>6736</td>\n",
       "      <td>5165</td>\n",
       "      <td>4409</td>\n",
       "      <td>3558</td>\n",
       "      <td>6253</td>\n",
       "      <td>6140</td>\n",
       "      <td>4325</td>\n",
       "      <td>2666</td>\n",
       "      <td>2738</td>\n",
       "    </tr>\n",
       "    <tr>\n",
       "      <th>385</th>\n",
       "      <td>총범죄</td>\n",
       "      <td>절도범죄</td>\n",
       "      <td>소계</td>\n",
       "      <td>유흥접객업소</td>\n",
       "      <td>13686</td>\n",
       "      <td>13331</td>\n",
       "      <td>22647</td>\n",
       "      <td>13952</td>\n",
       "      <td>12370</td>\n",
       "      <td>11738</td>\n",
       "      <td>9984</td>\n",
       "      <td>15443</td>\n",
       "      <td>15699</td>\n",
       "      <td>12641</td>\n",
       "      <td>7116</td>\n",
       "      <td>8323</td>\n",
       "    </tr>\n",
       "    <tr>\n",
       "      <th>386</th>\n",
       "      <td>총범죄</td>\n",
       "      <td>절도범죄</td>\n",
       "      <td>소계</td>\n",
       "      <td>사무실</td>\n",
       "      <td>6604</td>\n",
       "      <td>4823</td>\n",
       "      <td>6689</td>\n",
       "      <td>6247</td>\n",
       "      <td>5462</td>\n",
       "      <td>3947</td>\n",
       "      <td>3091</td>\n",
       "      <td>3560</td>\n",
       "      <td>3230</td>\n",
       "      <td>3323</td>\n",
       "      <td>2282</td>\n",
       "      <td>2146</td>\n",
       "    </tr>\n",
       "    <tr>\n",
       "      <th>387</th>\n",
       "      <td>총범죄</td>\n",
       "      <td>절도범죄</td>\n",
       "      <td>소계</td>\n",
       "      <td>공장</td>\n",
       "      <td>2909</td>\n",
       "      <td>2139</td>\n",
       "      <td>2658</td>\n",
       "      <td>2412</td>\n",
       "      <td>1715</td>\n",
       "      <td>1075</td>\n",
       "      <td>1022</td>\n",
       "      <td>1200</td>\n",
       "      <td>1064</td>\n",
       "      <td>1264</td>\n",
       "      <td>972</td>\n",
       "      <td>1123</td>\n",
       "    </tr>\n",
       "    <tr>\n",
       "      <th>388</th>\n",
       "      <td>총범죄</td>\n",
       "      <td>절도범죄</td>\n",
       "      <td>소계</td>\n",
       "      <td>공사장광산</td>\n",
       "      <td>3477</td>\n",
       "      <td>2834</td>\n",
       "      <td>4277</td>\n",
       "      <td>2384</td>\n",
       "      <td>1890</td>\n",
       "      <td>1400</td>\n",
       "      <td>1309</td>\n",
       "      <td>1799</td>\n",
       "      <td>1604</td>\n",
       "      <td>1175</td>\n",
       "      <td>1205</td>\n",
       "      <td>1207</td>\n",
       "    </tr>\n",
       "    <tr>\n",
       "      <th>389</th>\n",
       "      <td>총범죄</td>\n",
       "      <td>절도범죄</td>\n",
       "      <td>소계</td>\n",
       "      <td>창고</td>\n",
       "      <td>1927</td>\n",
       "      <td>1493</td>\n",
       "      <td>2199</td>\n",
       "      <td>1424</td>\n",
       "      <td>1344</td>\n",
       "      <td>1163</td>\n",
       "      <td>883</td>\n",
       "      <td>1175</td>\n",
       "      <td>1321</td>\n",
       "      <td>1068</td>\n",
       "      <td>1179</td>\n",
       "      <td>1010</td>\n",
       "    </tr>\n",
       "    <tr>\n",
       "      <th>390</th>\n",
       "      <td>총범죄</td>\n",
       "      <td>절도범죄</td>\n",
       "      <td>소계</td>\n",
       "      <td>역대합실</td>\n",
       "      <td>803</td>\n",
       "      <td>902</td>\n",
       "      <td>1663</td>\n",
       "      <td>1172</td>\n",
       "      <td>1186</td>\n",
       "      <td>1051</td>\n",
       "      <td>983</td>\n",
       "      <td>1641</td>\n",
       "      <td>1775</td>\n",
       "      <td>1524</td>\n",
       "      <td>1100</td>\n",
       "      <td>1175</td>\n",
       "    </tr>\n",
       "    <tr>\n",
       "      <th>391</th>\n",
       "      <td>총범죄</td>\n",
       "      <td>절도범죄</td>\n",
       "      <td>소계</td>\n",
       "      <td>지하철</td>\n",
       "      <td>569</td>\n",
       "      <td>577</td>\n",
       "      <td>796</td>\n",
       "      <td>628</td>\n",
       "      <td>645</td>\n",
       "      <td>569</td>\n",
       "      <td>481</td>\n",
       "      <td>612</td>\n",
       "      <td>596</td>\n",
       "      <td>529</td>\n",
       "      <td>435</td>\n",
       "      <td>585</td>\n",
       "    </tr>\n",
       "    <tr>\n",
       "      <th>392</th>\n",
       "      <td>총범죄</td>\n",
       "      <td>절도범죄</td>\n",
       "      <td>소계</td>\n",
       "      <td>기타교통수단내</td>\n",
       "      <td>3456</td>\n",
       "      <td>3735</td>\n",
       "      <td>5953</td>\n",
       "      <td>4924</td>\n",
       "      <td>5414</td>\n",
       "      <td>3084</td>\n",
       "      <td>2756</td>\n",
       "      <td>4937</td>\n",
       "      <td>4073</td>\n",
       "      <td>3767</td>\n",
       "      <td>2840</td>\n",
       "      <td>2924</td>\n",
       "    </tr>\n",
       "    <tr>\n",
       "      <th>393</th>\n",
       "      <td>총범죄</td>\n",
       "      <td>절도범죄</td>\n",
       "      <td>소계</td>\n",
       "      <td>흥행장</td>\n",
       "      <td>622</td>\n",
       "      <td>574</td>\n",
       "      <td>921</td>\n",
       "      <td>458</td>\n",
       "      <td>473</td>\n",
       "      <td>416</td>\n",
       "      <td>370</td>\n",
       "      <td>670</td>\n",
       "      <td>760</td>\n",
       "      <td>486</td>\n",
       "      <td>364</td>\n",
       "      <td>426</td>\n",
       "    </tr>\n",
       "  </tbody>\n",
       "</table>\n",
       "</div>"
      ],
      "text/plain": [
       "       대     중   소       발생장소  2011년  2012년  2013년  2014년  2015년  2016년  \\\n",
       "374  총범죄  절도범죄  소계  아파트 연립다세대  19657  14800  22706  14333  11042   8774   \n",
       "375  총범죄  절도범죄  소계       단독주택  26411  20401  30221  19515  15565  13226   \n",
       "376  총범죄  절도범죄  소계       고속도로    122    128    179    177    133    144   \n",
       "377  총범죄  절도범죄  소계         노상  46213  40448  65598  49527  45307  39355   \n",
       "378  총범죄  절도범죄  소계        백화점   1500   1493   2409   1828   1928   1990   \n",
       "379  총범죄  절도범죄  소계       슈퍼마켓   3875   3475   6400   4718   5080   4890   \n",
       "380  총범죄  절도범죄  소계        편의점   2952   2975   5083   4579   4351   4151   \n",
       "381  총범죄  절도범죄  소계     대형할인매장   2947   2757   2992   1966   2170   2104   \n",
       "382  총범죄  절도범죄  소계         상점  11289   9568  16865   9520   8850   9051   \n",
       "383  총범죄  절도범죄  소계       시장노점   3094   3131   5237   2998   2475   2311   \n",
       "384  총범죄  절도범죄  소계   숙박업소 목욕탕   8537  10346  15334   6736   5165   4409   \n",
       "385  총범죄  절도범죄  소계     유흥접객업소  13686  13331  22647  13952  12370  11738   \n",
       "386  총범죄  절도범죄  소계        사무실   6604   4823   6689   6247   5462   3947   \n",
       "387  총범죄  절도범죄  소계         공장   2909   2139   2658   2412   1715   1075   \n",
       "388  총범죄  절도범죄  소계      공사장광산   3477   2834   4277   2384   1890   1400   \n",
       "389  총범죄  절도범죄  소계         창고   1927   1493   2199   1424   1344   1163   \n",
       "390  총범죄  절도범죄  소계       역대합실    803    902   1663   1172   1186   1051   \n",
       "391  총범죄  절도범죄  소계        지하철    569    577    796    628    645    569   \n",
       "392  총범죄  절도범죄  소계    기타교통수단내   3456   3735   5953   4924   5414   3084   \n",
       "393  총범죄  절도범죄  소계        흥행장    622    574    921    458    473    416   \n",
       "\n",
       "     2017년  2018년  2019년  2020년  2021년  2022년  \n",
       "374   7036  11515  14344  16697  16482  17196  \n",
       "375   9044  11542  11448  10196   8535   8117  \n",
       "376    144    164    181    161     99    115  \n",
       "377  36798  39952  45539  46861  46374  51945  \n",
       "378   1816   2599   3187   2695   2142   2274  \n",
       "379   4571   6279   7673   9273   9920  11703  \n",
       "380   4160   5169   5853   5944   6143   6994  \n",
       "381   1767   2413   2693   3065   3350   3536  \n",
       "382   7787  13107  14506  13629  15031  17550  \n",
       "383   1803   4099   4677   3951   3970   3927  \n",
       "384   3558   6253   6140   4325   2666   2738  \n",
       "385   9984  15443  15699  12641   7116   8323  \n",
       "386   3091   3560   3230   3323   2282   2146  \n",
       "387   1022   1200   1064   1264    972   1123  \n",
       "388   1309   1799   1604   1175   1205   1207  \n",
       "389    883   1175   1321   1068   1179   1010  \n",
       "390    983   1641   1775   1524   1100   1175  \n",
       "391    481    612    596    529    435    585  \n",
       "392   2756   4937   4073   3767   2840   2924  \n",
       "393    370    670    760    486    364    426  "
      ]
     },
     "execution_count": 50,
     "metadata": {},
     "output_type": "execute_result"
    }
   ],
   "source": [
    "theft_place_df = crime_place_df[crime_place_df[\"중\"] == \"절도범죄\"]"
   ]
  },
  {
   "cell_type": "code",
   "execution_count": 53,
   "metadata": {},
   "outputs": [
    {
     "name": "stdout",
     "output_type": "stream",
     "text": [
      "<class 'pandas.core.frame.DataFrame'>\n",
      "RangeIndex: 408 entries, 0 to 407\n",
      "Data columns (total 6 columns):\n",
      " #   Column  Non-Null Count  Dtype \n",
      "---  ------  --------------  ----- \n",
      " 0   대       408 non-null    object\n",
      " 1   중       408 non-null    object\n",
      " 2   소       408 non-null    object\n",
      " 3   발생장소    408 non-null    object\n",
      " 4   년도      408 non-null    object\n",
      " 5   발생건수    408 non-null    int64 \n",
      "dtypes: int64(1), object(5)\n",
      "memory usage: 19.2+ KB\n"
     ]
    }
   ],
   "source": [
    "theft_place_df.info()"
   ]
  },
  {
   "cell_type": "code",
   "execution_count": 52,
   "metadata": {},
   "outputs": [
    {
     "ename": "ValueError",
     "evalue": "value_name (발생건수) cannot match an element in the DataFrame columns.",
     "output_type": "error",
     "traceback": [
      "\u001b[0;31m---------------------------------------------------------------------------\u001b[0m",
      "\u001b[0;31mValueError\u001b[0m                                Traceback (most recent call last)",
      "Cell \u001b[0;32mIn[52], line 1\u001b[0m\n\u001b[0;32m----> 1\u001b[0m theft_place_df \u001b[38;5;241m=\u001b[39m \u001b[43mtheft_place_df\u001b[49m\u001b[38;5;241;43m.\u001b[39;49m\u001b[43mmelt\u001b[49m\u001b[43m(\u001b[49m\u001b[43mid_vars\u001b[49m\u001b[38;5;241;43m=\u001b[39;49m\u001b[43m[\u001b[49m\u001b[38;5;124;43m\"\u001b[39;49m\u001b[38;5;124;43m대\u001b[39;49m\u001b[38;5;124;43m\"\u001b[39;49m\u001b[43m,\u001b[49m\u001b[43m \u001b[49m\u001b[38;5;124;43m\"\u001b[39;49m\u001b[38;5;124;43m중\u001b[39;49m\u001b[38;5;124;43m\"\u001b[39;49m\u001b[43m,\u001b[49m\u001b[43m \u001b[49m\u001b[38;5;124;43m\"\u001b[39;49m\u001b[38;5;124;43m소\u001b[39;49m\u001b[38;5;124;43m\"\u001b[39;49m\u001b[43m,\u001b[49m\u001b[43m \u001b[49m\u001b[38;5;124;43m\"\u001b[39;49m\u001b[38;5;124;43m발생장소\u001b[39;49m\u001b[38;5;124;43m\"\u001b[39;49m\u001b[43m]\u001b[49m\u001b[43m,\u001b[49m\u001b[43m \u001b[49m\u001b[43mvar_name\u001b[49m\u001b[38;5;241;43m=\u001b[39;49m\u001b[38;5;124;43m\"\u001b[39;49m\u001b[38;5;124;43m년도\u001b[39;49m\u001b[38;5;124;43m\"\u001b[39;49m\u001b[43m,\u001b[49m\u001b[43m \u001b[49m\u001b[43mvalue_name\u001b[49m\u001b[38;5;241;43m=\u001b[39;49m\u001b[38;5;124;43m\"\u001b[39;49m\u001b[38;5;124;43m발생건수\u001b[39;49m\u001b[38;5;124;43m\"\u001b[39;49m\u001b[43m)\u001b[49m\n\u001b[1;32m      2\u001b[0m theft_place_df\n",
      "File \u001b[0;32m~/venv/eda_venv/lib/python3.10/site-packages/pandas/core/frame.py:9942\u001b[0m, in \u001b[0;36mDataFrame.melt\u001b[0;34m(self, id_vars, value_vars, var_name, value_name, col_level, ignore_index)\u001b[0m\n\u001b[1;32m   9932\u001b[0m \u001b[38;5;129m@Appender\u001b[39m(_shared_docs[\u001b[38;5;124m\"\u001b[39m\u001b[38;5;124mmelt\u001b[39m\u001b[38;5;124m\"\u001b[39m] \u001b[38;5;241m%\u001b[39m {\u001b[38;5;124m\"\u001b[39m\u001b[38;5;124mcaller\u001b[39m\u001b[38;5;124m\"\u001b[39m: \u001b[38;5;124m\"\u001b[39m\u001b[38;5;124mdf.melt(\u001b[39m\u001b[38;5;124m\"\u001b[39m, \u001b[38;5;124m\"\u001b[39m\u001b[38;5;124mother\u001b[39m\u001b[38;5;124m\"\u001b[39m: \u001b[38;5;124m\"\u001b[39m\u001b[38;5;124mmelt\u001b[39m\u001b[38;5;124m\"\u001b[39m})\n\u001b[1;32m   9933\u001b[0m \u001b[38;5;28;01mdef\u001b[39;00m \u001b[38;5;21mmelt\u001b[39m(\n\u001b[1;32m   9934\u001b[0m     \u001b[38;5;28mself\u001b[39m,\n\u001b[0;32m   (...)\u001b[0m\n\u001b[1;32m   9940\u001b[0m     ignore_index: \u001b[38;5;28mbool\u001b[39m \u001b[38;5;241m=\u001b[39m \u001b[38;5;28;01mTrue\u001b[39;00m,\n\u001b[1;32m   9941\u001b[0m ) \u001b[38;5;241m-\u001b[39m\u001b[38;5;241m>\u001b[39m DataFrame:\n\u001b[0;32m-> 9942\u001b[0m     \u001b[38;5;28;01mreturn\u001b[39;00m \u001b[43mmelt\u001b[49m\u001b[43m(\u001b[49m\n\u001b[1;32m   9943\u001b[0m \u001b[43m        \u001b[49m\u001b[38;5;28;43mself\u001b[39;49m\u001b[43m,\u001b[49m\n\u001b[1;32m   9944\u001b[0m \u001b[43m        \u001b[49m\u001b[43mid_vars\u001b[49m\u001b[38;5;241;43m=\u001b[39;49m\u001b[43mid_vars\u001b[49m\u001b[43m,\u001b[49m\n\u001b[1;32m   9945\u001b[0m \u001b[43m        \u001b[49m\u001b[43mvalue_vars\u001b[49m\u001b[38;5;241;43m=\u001b[39;49m\u001b[43mvalue_vars\u001b[49m\u001b[43m,\u001b[49m\n\u001b[1;32m   9946\u001b[0m \u001b[43m        \u001b[49m\u001b[43mvar_name\u001b[49m\u001b[38;5;241;43m=\u001b[39;49m\u001b[43mvar_name\u001b[49m\u001b[43m,\u001b[49m\n\u001b[1;32m   9947\u001b[0m \u001b[43m        \u001b[49m\u001b[43mvalue_name\u001b[49m\u001b[38;5;241;43m=\u001b[39;49m\u001b[43mvalue_name\u001b[49m\u001b[43m,\u001b[49m\n\u001b[1;32m   9948\u001b[0m \u001b[43m        \u001b[49m\u001b[43mcol_level\u001b[49m\u001b[38;5;241;43m=\u001b[39;49m\u001b[43mcol_level\u001b[49m\u001b[43m,\u001b[49m\n\u001b[1;32m   9949\u001b[0m \u001b[43m        \u001b[49m\u001b[43mignore_index\u001b[49m\u001b[38;5;241;43m=\u001b[39;49m\u001b[43mignore_index\u001b[49m\u001b[43m,\u001b[49m\n\u001b[1;32m   9950\u001b[0m \u001b[43m    \u001b[49m\u001b[43m)\u001b[49m\u001b[38;5;241m.\u001b[39m__finalize__(\u001b[38;5;28mself\u001b[39m, method\u001b[38;5;241m=\u001b[39m\u001b[38;5;124m\"\u001b[39m\u001b[38;5;124mmelt\u001b[39m\u001b[38;5;124m\"\u001b[39m)\n",
      "File \u001b[0;32m~/venv/eda_venv/lib/python3.10/site-packages/pandas/core/reshape/melt.py:54\u001b[0m, in \u001b[0;36mmelt\u001b[0;34m(frame, id_vars, value_vars, var_name, value_name, col_level, ignore_index)\u001b[0m\n\u001b[1;32m     43\u001b[0m \u001b[38;5;129m@Appender\u001b[39m(_shared_docs[\u001b[38;5;124m\"\u001b[39m\u001b[38;5;124mmelt\u001b[39m\u001b[38;5;124m\"\u001b[39m] \u001b[38;5;241m%\u001b[39m {\u001b[38;5;124m\"\u001b[39m\u001b[38;5;124mcaller\u001b[39m\u001b[38;5;124m\"\u001b[39m: \u001b[38;5;124m\"\u001b[39m\u001b[38;5;124mpd.melt(df, \u001b[39m\u001b[38;5;124m\"\u001b[39m, \u001b[38;5;124m\"\u001b[39m\u001b[38;5;124mother\u001b[39m\u001b[38;5;124m\"\u001b[39m: \u001b[38;5;124m\"\u001b[39m\u001b[38;5;124mDataFrame.melt\u001b[39m\u001b[38;5;124m\"\u001b[39m})\n\u001b[1;32m     44\u001b[0m \u001b[38;5;28;01mdef\u001b[39;00m \u001b[38;5;21mmelt\u001b[39m(\n\u001b[1;32m     45\u001b[0m     frame: DataFrame,\n\u001b[0;32m   (...)\u001b[0m\n\u001b[1;32m     51\u001b[0m     ignore_index: \u001b[38;5;28mbool\u001b[39m \u001b[38;5;241m=\u001b[39m \u001b[38;5;28;01mTrue\u001b[39;00m,\n\u001b[1;32m     52\u001b[0m ) \u001b[38;5;241m-\u001b[39m\u001b[38;5;241m>\u001b[39m DataFrame:\n\u001b[1;32m     53\u001b[0m     \u001b[38;5;28;01mif\u001b[39;00m value_name \u001b[38;5;129;01min\u001b[39;00m frame\u001b[38;5;241m.\u001b[39mcolumns:\n\u001b[0;32m---> 54\u001b[0m         \u001b[38;5;28;01mraise\u001b[39;00m \u001b[38;5;167;01mValueError\u001b[39;00m(\n\u001b[1;32m     55\u001b[0m             \u001b[38;5;124mf\u001b[39m\u001b[38;5;124m\"\u001b[39m\u001b[38;5;124mvalue_name (\u001b[39m\u001b[38;5;132;01m{\u001b[39;00mvalue_name\u001b[38;5;132;01m}\u001b[39;00m\u001b[38;5;124m) cannot match an element in \u001b[39m\u001b[38;5;124m\"\u001b[39m\n\u001b[1;32m     56\u001b[0m             \u001b[38;5;124m\"\u001b[39m\u001b[38;5;124mthe DataFrame columns.\u001b[39m\u001b[38;5;124m\"\u001b[39m\n\u001b[1;32m     57\u001b[0m         )\n\u001b[1;32m     58\u001b[0m     id_vars \u001b[38;5;241m=\u001b[39m ensure_list_vars(id_vars, \u001b[38;5;124m\"\u001b[39m\u001b[38;5;124mid_vars\u001b[39m\u001b[38;5;124m\"\u001b[39m, frame\u001b[38;5;241m.\u001b[39mcolumns)\n\u001b[1;32m     59\u001b[0m     value_vars_was_not_none \u001b[38;5;241m=\u001b[39m value_vars \u001b[38;5;129;01mis\u001b[39;00m \u001b[38;5;129;01mnot\u001b[39;00m \u001b[38;5;28;01mNone\u001b[39;00m\n",
      "\u001b[0;31mValueError\u001b[0m: value_name (발생건수) cannot match an element in the DataFrame columns."
     ]
    }
   ],
   "source": [
    "theft_place_df = theft_place_df.melt(id_vars=[\"대\", \"중\", \"소\", \"발생장소\"], var_name=\"년도\", value_name=\"발생건수\")"
   ]
  },
  {
   "cell_type": "code",
   "execution_count": 54,
   "metadata": {},
   "outputs": [
    {
     "data": {
      "text/html": [
       "<div>\n",
       "<style scoped>\n",
       "    .dataframe tbody tr th:only-of-type {\n",
       "        vertical-align: middle;\n",
       "    }\n",
       "\n",
       "    .dataframe tbody tr th {\n",
       "        vertical-align: top;\n",
       "    }\n",
       "\n",
       "    .dataframe thead th {\n",
       "        text-align: right;\n",
       "    }\n",
       "</style>\n",
       "<table border=\"1\" class=\"dataframe\">\n",
       "  <thead>\n",
       "    <tr style=\"text-align: right;\">\n",
       "      <th></th>\n",
       "      <th>대</th>\n",
       "      <th>중</th>\n",
       "      <th>소</th>\n",
       "      <th>발생장소</th>\n",
       "      <th>년도</th>\n",
       "      <th>발생건수</th>\n",
       "    </tr>\n",
       "  </thead>\n",
       "  <tbody>\n",
       "    <tr>\n",
       "      <th>0</th>\n",
       "      <td>총범죄</td>\n",
       "      <td>절도범죄</td>\n",
       "      <td>소계</td>\n",
       "      <td>아파트 연립다세대</td>\n",
       "      <td>2011년</td>\n",
       "      <td>19657</td>\n",
       "    </tr>\n",
       "    <tr>\n",
       "      <th>1</th>\n",
       "      <td>총범죄</td>\n",
       "      <td>절도범죄</td>\n",
       "      <td>소계</td>\n",
       "      <td>단독주택</td>\n",
       "      <td>2011년</td>\n",
       "      <td>26411</td>\n",
       "    </tr>\n",
       "    <tr>\n",
       "      <th>2</th>\n",
       "      <td>총범죄</td>\n",
       "      <td>절도범죄</td>\n",
       "      <td>소계</td>\n",
       "      <td>고속도로</td>\n",
       "      <td>2011년</td>\n",
       "      <td>122</td>\n",
       "    </tr>\n",
       "    <tr>\n",
       "      <th>3</th>\n",
       "      <td>총범죄</td>\n",
       "      <td>절도범죄</td>\n",
       "      <td>소계</td>\n",
       "      <td>노상</td>\n",
       "      <td>2011년</td>\n",
       "      <td>46213</td>\n",
       "    </tr>\n",
       "    <tr>\n",
       "      <th>4</th>\n",
       "      <td>총범죄</td>\n",
       "      <td>절도범죄</td>\n",
       "      <td>소계</td>\n",
       "      <td>백화점</td>\n",
       "      <td>2011년</td>\n",
       "      <td>1500</td>\n",
       "    </tr>\n",
       "    <tr>\n",
       "      <th>...</th>\n",
       "      <td>...</td>\n",
       "      <td>...</td>\n",
       "      <td>...</td>\n",
       "      <td>...</td>\n",
       "      <td>...</td>\n",
       "      <td>...</td>\n",
       "    </tr>\n",
       "    <tr>\n",
       "      <th>403</th>\n",
       "      <td>총범죄</td>\n",
       "      <td>절도범죄</td>\n",
       "      <td>소계</td>\n",
       "      <td>공지</td>\n",
       "      <td>2022년</td>\n",
       "      <td>52</td>\n",
       "    </tr>\n",
       "    <tr>\n",
       "      <th>404</th>\n",
       "      <td>총범죄</td>\n",
       "      <td>절도범죄</td>\n",
       "      <td>소계</td>\n",
       "      <td>주차장</td>\n",
       "      <td>2022년</td>\n",
       "      <td>10381</td>\n",
       "    </tr>\n",
       "    <tr>\n",
       "      <th>405</th>\n",
       "      <td>총범죄</td>\n",
       "      <td>절도범죄</td>\n",
       "      <td>소계</td>\n",
       "      <td>공중화장실</td>\n",
       "      <td>2022년</td>\n",
       "      <td>703</td>\n",
       "    </tr>\n",
       "    <tr>\n",
       "      <th>406</th>\n",
       "      <td>총범죄</td>\n",
       "      <td>절도범죄</td>\n",
       "      <td>소계</td>\n",
       "      <td>PC방</td>\n",
       "      <td>2022년</td>\n",
       "      <td>994</td>\n",
       "    </tr>\n",
       "    <tr>\n",
       "      <th>407</th>\n",
       "      <td>총범죄</td>\n",
       "      <td>절도범죄</td>\n",
       "      <td>소계</td>\n",
       "      <td>기타</td>\n",
       "      <td>2022년</td>\n",
       "      <td>14665</td>\n",
       "    </tr>\n",
       "  </tbody>\n",
       "</table>\n",
       "<p>408 rows × 6 columns</p>\n",
       "</div>"
      ],
      "text/plain": [
       "       대     중   소       발생장소     년도   발생건수\n",
       "0    총범죄  절도범죄  소계  아파트 연립다세대  2011년  19657\n",
       "1    총범죄  절도범죄  소계       단독주택  2011년  26411\n",
       "2    총범죄  절도범죄  소계       고속도로  2011년    122\n",
       "3    총범죄  절도범죄  소계         노상  2011년  46213\n",
       "4    총범죄  절도범죄  소계        백화점  2011년   1500\n",
       "..   ...   ...  ..        ...    ...    ...\n",
       "403  총범죄  절도범죄  소계         공지  2022년     52\n",
       "404  총범죄  절도범죄  소계        주차장  2022년  10381\n",
       "405  총범죄  절도범죄  소계      공중화장실  2022년    703\n",
       "406  총범죄  절도범죄  소계        PC방  2022년    994\n",
       "407  총범죄  절도범죄  소계         기타  2022년  14665\n",
       "\n",
       "[408 rows x 6 columns]"
      ]
     },
     "execution_count": 54,
     "metadata": {},
     "output_type": "execute_result"
    }
   ],
   "source": [
    "theft_place_df"
   ]
  },
  {
   "cell_type": "code",
   "execution_count": 57,
   "metadata": {},
   "outputs": [
    {
     "data": {
      "application/vnd.plotly.v1+json": {
       "config": {
        "plotlyServerURL": "https://plot.ly"
       },
       "data": [
        {
         "hovertemplate": "발생장소=아파트 연립다세대<br>년도=%{x}<br>발생건수=%{y}<extra></extra>",
         "legendgroup": "아파트 연립다세대",
         "line": {
          "color": "#636efa",
          "dash": "solid"
         },
         "marker": {
          "symbol": "circle"
         },
         "mode": "lines+markers",
         "name": "아파트 연립다세대",
         "orientation": "v",
         "showlegend": true,
         "type": "scatter",
         "x": [
          "2011년",
          "2012년",
          "2013년",
          "2014년",
          "2015년",
          "2016년",
          "2017년",
          "2018년",
          "2019년",
          "2020년",
          "2021년",
          "2022년"
         ],
         "xaxis": "x",
         "y": [
          19657,
          14800,
          22706,
          14333,
          11042,
          8774,
          7036,
          11515,
          14344,
          16697,
          16482,
          17196
         ],
         "yaxis": "y"
        },
        {
         "hovertemplate": "발생장소=단독주택<br>년도=%{x}<br>발생건수=%{y}<extra></extra>",
         "legendgroup": "단독주택",
         "line": {
          "color": "#EF553B",
          "dash": "solid"
         },
         "marker": {
          "symbol": "circle"
         },
         "mode": "lines+markers",
         "name": "단독주택",
         "orientation": "v",
         "showlegend": true,
         "type": "scatter",
         "x": [
          "2011년",
          "2012년",
          "2013년",
          "2014년",
          "2015년",
          "2016년",
          "2017년",
          "2018년",
          "2019년",
          "2020년",
          "2021년",
          "2022년"
         ],
         "xaxis": "x",
         "y": [
          26411,
          20401,
          30221,
          19515,
          15565,
          13226,
          9044,
          11542,
          11448,
          10196,
          8535,
          8117
         ],
         "yaxis": "y"
        },
        {
         "hovertemplate": "발생장소=고속도로<br>년도=%{x}<br>발생건수=%{y}<extra></extra>",
         "legendgroup": "고속도로",
         "line": {
          "color": "#00cc96",
          "dash": "solid"
         },
         "marker": {
          "symbol": "circle"
         },
         "mode": "lines+markers",
         "name": "고속도로",
         "orientation": "v",
         "showlegend": true,
         "type": "scatter",
         "x": [
          "2011년",
          "2012년",
          "2013년",
          "2014년",
          "2015년",
          "2016년",
          "2017년",
          "2018년",
          "2019년",
          "2020년",
          "2021년",
          "2022년"
         ],
         "xaxis": "x",
         "y": [
          122,
          128,
          179,
          177,
          133,
          144,
          144,
          164,
          181,
          161,
          99,
          115
         ],
         "yaxis": "y"
        },
        {
         "hovertemplate": "발생장소=노상<br>년도=%{x}<br>발생건수=%{y}<extra></extra>",
         "legendgroup": "노상",
         "line": {
          "color": "#ab63fa",
          "dash": "solid"
         },
         "marker": {
          "symbol": "circle"
         },
         "mode": "lines+markers",
         "name": "노상",
         "orientation": "v",
         "showlegend": true,
         "type": "scatter",
         "x": [
          "2011년",
          "2012년",
          "2013년",
          "2014년",
          "2015년",
          "2016년",
          "2017년",
          "2018년",
          "2019년",
          "2020년",
          "2021년",
          "2022년"
         ],
         "xaxis": "x",
         "y": [
          46213,
          40448,
          65598,
          49527,
          45307,
          39355,
          36798,
          39952,
          45539,
          46861,
          46374,
          51945
         ],
         "yaxis": "y"
        },
        {
         "hovertemplate": "발생장소=백화점<br>년도=%{x}<br>발생건수=%{y}<extra></extra>",
         "legendgroup": "백화점",
         "line": {
          "color": "#FFA15A",
          "dash": "solid"
         },
         "marker": {
          "symbol": "circle"
         },
         "mode": "lines+markers",
         "name": "백화점",
         "orientation": "v",
         "showlegend": true,
         "type": "scatter",
         "x": [
          "2011년",
          "2012년",
          "2013년",
          "2014년",
          "2015년",
          "2016년",
          "2017년",
          "2018년",
          "2019년",
          "2020년",
          "2021년",
          "2022년"
         ],
         "xaxis": "x",
         "y": [
          1500,
          1493,
          2409,
          1828,
          1928,
          1990,
          1816,
          2599,
          3187,
          2695,
          2142,
          2274
         ],
         "yaxis": "y"
        },
        {
         "hovertemplate": "발생장소=슈퍼마켓<br>년도=%{x}<br>발생건수=%{y}<extra></extra>",
         "legendgroup": "슈퍼마켓",
         "line": {
          "color": "#19d3f3",
          "dash": "solid"
         },
         "marker": {
          "symbol": "circle"
         },
         "mode": "lines+markers",
         "name": "슈퍼마켓",
         "orientation": "v",
         "showlegend": true,
         "type": "scatter",
         "x": [
          "2011년",
          "2012년",
          "2013년",
          "2014년",
          "2015년",
          "2016년",
          "2017년",
          "2018년",
          "2019년",
          "2020년",
          "2021년",
          "2022년"
         ],
         "xaxis": "x",
         "y": [
          3875,
          3475,
          6400,
          4718,
          5080,
          4890,
          4571,
          6279,
          7673,
          9273,
          9920,
          11703
         ],
         "yaxis": "y"
        },
        {
         "hovertemplate": "발생장소=편의점<br>년도=%{x}<br>발생건수=%{y}<extra></extra>",
         "legendgroup": "편의점",
         "line": {
          "color": "#FF6692",
          "dash": "solid"
         },
         "marker": {
          "symbol": "circle"
         },
         "mode": "lines+markers",
         "name": "편의점",
         "orientation": "v",
         "showlegend": true,
         "type": "scatter",
         "x": [
          "2011년",
          "2012년",
          "2013년",
          "2014년",
          "2015년",
          "2016년",
          "2017년",
          "2018년",
          "2019년",
          "2020년",
          "2021년",
          "2022년"
         ],
         "xaxis": "x",
         "y": [
          2952,
          2975,
          5083,
          4579,
          4351,
          4151,
          4160,
          5169,
          5853,
          5944,
          6143,
          6994
         ],
         "yaxis": "y"
        },
        {
         "hovertemplate": "발생장소=대형할인매장<br>년도=%{x}<br>발생건수=%{y}<extra></extra>",
         "legendgroup": "대형할인매장",
         "line": {
          "color": "#B6E880",
          "dash": "solid"
         },
         "marker": {
          "symbol": "circle"
         },
         "mode": "lines+markers",
         "name": "대형할인매장",
         "orientation": "v",
         "showlegend": true,
         "type": "scatter",
         "x": [
          "2011년",
          "2012년",
          "2013년",
          "2014년",
          "2015년",
          "2016년",
          "2017년",
          "2018년",
          "2019년",
          "2020년",
          "2021년",
          "2022년"
         ],
         "xaxis": "x",
         "y": [
          2947,
          2757,
          2992,
          1966,
          2170,
          2104,
          1767,
          2413,
          2693,
          3065,
          3350,
          3536
         ],
         "yaxis": "y"
        },
        {
         "hovertemplate": "발생장소=상점<br>년도=%{x}<br>발생건수=%{y}<extra></extra>",
         "legendgroup": "상점",
         "line": {
          "color": "#FF97FF",
          "dash": "solid"
         },
         "marker": {
          "symbol": "circle"
         },
         "mode": "lines+markers",
         "name": "상점",
         "orientation": "v",
         "showlegend": true,
         "type": "scatter",
         "x": [
          "2011년",
          "2012년",
          "2013년",
          "2014년",
          "2015년",
          "2016년",
          "2017년",
          "2018년",
          "2019년",
          "2020년",
          "2021년",
          "2022년"
         ],
         "xaxis": "x",
         "y": [
          11289,
          9568,
          16865,
          9520,
          8850,
          9051,
          7787,
          13107,
          14506,
          13629,
          15031,
          17550
         ],
         "yaxis": "y"
        },
        {
         "hovertemplate": "발생장소=시장노점<br>년도=%{x}<br>발생건수=%{y}<extra></extra>",
         "legendgroup": "시장노점",
         "line": {
          "color": "#FECB52",
          "dash": "solid"
         },
         "marker": {
          "symbol": "circle"
         },
         "mode": "lines+markers",
         "name": "시장노점",
         "orientation": "v",
         "showlegend": true,
         "type": "scatter",
         "x": [
          "2011년",
          "2012년",
          "2013년",
          "2014년",
          "2015년",
          "2016년",
          "2017년",
          "2018년",
          "2019년",
          "2020년",
          "2021년",
          "2022년"
         ],
         "xaxis": "x",
         "y": [
          3094,
          3131,
          5237,
          2998,
          2475,
          2311,
          1803,
          4099,
          4677,
          3951,
          3970,
          3927
         ],
         "yaxis": "y"
        },
        {
         "hovertemplate": "발생장소=숙박업소 목욕탕<br>년도=%{x}<br>발생건수=%{y}<extra></extra>",
         "legendgroup": "숙박업소 목욕탕",
         "line": {
          "color": "#636efa",
          "dash": "solid"
         },
         "marker": {
          "symbol": "circle"
         },
         "mode": "lines+markers",
         "name": "숙박업소 목욕탕",
         "orientation": "v",
         "showlegend": true,
         "type": "scatter",
         "x": [
          "2011년",
          "2012년",
          "2013년",
          "2014년",
          "2015년",
          "2016년",
          "2017년",
          "2018년",
          "2019년",
          "2020년",
          "2021년",
          "2022년"
         ],
         "xaxis": "x",
         "y": [
          8537,
          10346,
          15334,
          6736,
          5165,
          4409,
          3558,
          6253,
          6140,
          4325,
          2666,
          2738
         ],
         "yaxis": "y"
        },
        {
         "hovertemplate": "발생장소=유흥접객업소<br>년도=%{x}<br>발생건수=%{y}<extra></extra>",
         "legendgroup": "유흥접객업소",
         "line": {
          "color": "#EF553B",
          "dash": "solid"
         },
         "marker": {
          "symbol": "circle"
         },
         "mode": "lines+markers",
         "name": "유흥접객업소",
         "orientation": "v",
         "showlegend": true,
         "type": "scatter",
         "x": [
          "2011년",
          "2012년",
          "2013년",
          "2014년",
          "2015년",
          "2016년",
          "2017년",
          "2018년",
          "2019년",
          "2020년",
          "2021년",
          "2022년"
         ],
         "xaxis": "x",
         "y": [
          13686,
          13331,
          22647,
          13952,
          12370,
          11738,
          9984,
          15443,
          15699,
          12641,
          7116,
          8323
         ],
         "yaxis": "y"
        },
        {
         "hovertemplate": "발생장소=사무실<br>년도=%{x}<br>발생건수=%{y}<extra></extra>",
         "legendgroup": "사무실",
         "line": {
          "color": "#00cc96",
          "dash": "solid"
         },
         "marker": {
          "symbol": "circle"
         },
         "mode": "lines+markers",
         "name": "사무실",
         "orientation": "v",
         "showlegend": true,
         "type": "scatter",
         "x": [
          "2011년",
          "2012년",
          "2013년",
          "2014년",
          "2015년",
          "2016년",
          "2017년",
          "2018년",
          "2019년",
          "2020년",
          "2021년",
          "2022년"
         ],
         "xaxis": "x",
         "y": [
          6604,
          4823,
          6689,
          6247,
          5462,
          3947,
          3091,
          3560,
          3230,
          3323,
          2282,
          2146
         ],
         "yaxis": "y"
        },
        {
         "hovertemplate": "발생장소=공장<br>년도=%{x}<br>발생건수=%{y}<extra></extra>",
         "legendgroup": "공장",
         "line": {
          "color": "#ab63fa",
          "dash": "solid"
         },
         "marker": {
          "symbol": "circle"
         },
         "mode": "lines+markers",
         "name": "공장",
         "orientation": "v",
         "showlegend": true,
         "type": "scatter",
         "x": [
          "2011년",
          "2012년",
          "2013년",
          "2014년",
          "2015년",
          "2016년",
          "2017년",
          "2018년",
          "2019년",
          "2020년",
          "2021년",
          "2022년"
         ],
         "xaxis": "x",
         "y": [
          2909,
          2139,
          2658,
          2412,
          1715,
          1075,
          1022,
          1200,
          1064,
          1264,
          972,
          1123
         ],
         "yaxis": "y"
        },
        {
         "hovertemplate": "발생장소=공사장광산<br>년도=%{x}<br>발생건수=%{y}<extra></extra>",
         "legendgroup": "공사장광산",
         "line": {
          "color": "#FFA15A",
          "dash": "solid"
         },
         "marker": {
          "symbol": "circle"
         },
         "mode": "lines+markers",
         "name": "공사장광산",
         "orientation": "v",
         "showlegend": true,
         "type": "scatter",
         "x": [
          "2011년",
          "2012년",
          "2013년",
          "2014년",
          "2015년",
          "2016년",
          "2017년",
          "2018년",
          "2019년",
          "2020년",
          "2021년",
          "2022년"
         ],
         "xaxis": "x",
         "y": [
          3477,
          2834,
          4277,
          2384,
          1890,
          1400,
          1309,
          1799,
          1604,
          1175,
          1205,
          1207
         ],
         "yaxis": "y"
        },
        {
         "hovertemplate": "발생장소=창고<br>년도=%{x}<br>발생건수=%{y}<extra></extra>",
         "legendgroup": "창고",
         "line": {
          "color": "#19d3f3",
          "dash": "solid"
         },
         "marker": {
          "symbol": "circle"
         },
         "mode": "lines+markers",
         "name": "창고",
         "orientation": "v",
         "showlegend": true,
         "type": "scatter",
         "x": [
          "2011년",
          "2012년",
          "2013년",
          "2014년",
          "2015년",
          "2016년",
          "2017년",
          "2018년",
          "2019년",
          "2020년",
          "2021년",
          "2022년"
         ],
         "xaxis": "x",
         "y": [
          1927,
          1493,
          2199,
          1424,
          1344,
          1163,
          883,
          1175,
          1321,
          1068,
          1179,
          1010
         ],
         "yaxis": "y"
        },
        {
         "hovertemplate": "발생장소=역대합실<br>년도=%{x}<br>발생건수=%{y}<extra></extra>",
         "legendgroup": "역대합실",
         "line": {
          "color": "#FF6692",
          "dash": "solid"
         },
         "marker": {
          "symbol": "circle"
         },
         "mode": "lines+markers",
         "name": "역대합실",
         "orientation": "v",
         "showlegend": true,
         "type": "scatter",
         "x": [
          "2011년",
          "2012년",
          "2013년",
          "2014년",
          "2015년",
          "2016년",
          "2017년",
          "2018년",
          "2019년",
          "2020년",
          "2021년",
          "2022년"
         ],
         "xaxis": "x",
         "y": [
          803,
          902,
          1663,
          1172,
          1186,
          1051,
          983,
          1641,
          1775,
          1524,
          1100,
          1175
         ],
         "yaxis": "y"
        },
        {
         "hovertemplate": "발생장소=지하철<br>년도=%{x}<br>발생건수=%{y}<extra></extra>",
         "legendgroup": "지하철",
         "line": {
          "color": "#B6E880",
          "dash": "solid"
         },
         "marker": {
          "symbol": "circle"
         },
         "mode": "lines+markers",
         "name": "지하철",
         "orientation": "v",
         "showlegend": true,
         "type": "scatter",
         "x": [
          "2011년",
          "2012년",
          "2013년",
          "2014년",
          "2015년",
          "2016년",
          "2017년",
          "2018년",
          "2019년",
          "2020년",
          "2021년",
          "2022년"
         ],
         "xaxis": "x",
         "y": [
          569,
          577,
          796,
          628,
          645,
          569,
          481,
          612,
          596,
          529,
          435,
          585
         ],
         "yaxis": "y"
        },
        {
         "hovertemplate": "발생장소=기타교통수단내<br>년도=%{x}<br>발생건수=%{y}<extra></extra>",
         "legendgroup": "기타교통수단내",
         "line": {
          "color": "#FF97FF",
          "dash": "solid"
         },
         "marker": {
          "symbol": "circle"
         },
         "mode": "lines+markers",
         "name": "기타교통수단내",
         "orientation": "v",
         "showlegend": true,
         "type": "scatter",
         "x": [
          "2011년",
          "2012년",
          "2013년",
          "2014년",
          "2015년",
          "2016년",
          "2017년",
          "2018년",
          "2019년",
          "2020년",
          "2021년",
          "2022년"
         ],
         "xaxis": "x",
         "y": [
          3456,
          3735,
          5953,
          4924,
          5414,
          3084,
          2756,
          4937,
          4073,
          3767,
          2840,
          2924
         ],
         "yaxis": "y"
        },
        {
         "hovertemplate": "발생장소=흥행장<br>년도=%{x}<br>발생건수=%{y}<extra></extra>",
         "legendgroup": "흥행장",
         "line": {
          "color": "#FECB52",
          "dash": "solid"
         },
         "marker": {
          "symbol": "circle"
         },
         "mode": "lines+markers",
         "name": "흥행장",
         "orientation": "v",
         "showlegend": true,
         "type": "scatter",
         "x": [
          "2011년",
          "2012년",
          "2013년",
          "2014년",
          "2015년",
          "2016년",
          "2017년",
          "2018년",
          "2019년",
          "2020년",
          "2021년",
          "2022년"
         ],
         "xaxis": "x",
         "y": [
          622,
          574,
          921,
          458,
          473,
          416,
          370,
          670,
          760,
          486,
          364,
          426
         ],
         "yaxis": "y"
        },
        {
         "hovertemplate": "발생장소=유원지<br>년도=%{x}<br>발생건수=%{y}<extra></extra>",
         "legendgroup": "유원지",
         "line": {
          "color": "#636efa",
          "dash": "solid"
         },
         "marker": {
          "symbol": "circle"
         },
         "mode": "lines+markers",
         "name": "유원지",
         "orientation": "v",
         "showlegend": true,
         "type": "scatter",
         "x": [
          "2011년",
          "2012년",
          "2013년",
          "2014년",
          "2015년",
          "2016년",
          "2017년",
          "2018년",
          "2019년",
          "2020년",
          "2021년",
          "2022년"
         ],
         "xaxis": "x",
         "y": [
          1033,
          1533,
          2636,
          1618,
          1462,
          1301,
          1186,
          1914,
          2052,
          1585,
          1493,
          1771
         ],
         "yaxis": "y"
        },
        {
         "hovertemplate": "발생장소=학교<br>년도=%{x}<br>발생건수=%{y}<extra></extra>",
         "legendgroup": "학교",
         "line": {
          "color": "#EF553B",
          "dash": "solid"
         },
         "marker": {
          "symbol": "circle"
         },
         "mode": "lines+markers",
         "name": "학교",
         "orientation": "v",
         "showlegend": true,
         "type": "scatter",
         "x": [
          "2011년",
          "2012년",
          "2013년",
          "2014년",
          "2015년",
          "2016년",
          "2017년",
          "2018년",
          "2019년",
          "2020년",
          "2021년",
          "2022년"
         ],
         "xaxis": "x",
         "y": [
          2084,
          3295,
          4251,
          2117,
          1664,
          1337,
          1005,
          1441,
          1774,
          852,
          1026,
          1250
         ],
         "yaxis": "y"
        },
        {
         "hovertemplate": "발생장소=금융기관<br>년도=%{x}<br>발생건수=%{y}<extra></extra>",
         "legendgroup": "금융기관",
         "line": {
          "color": "#00cc96",
          "dash": "solid"
         },
         "marker": {
          "symbol": "circle"
         },
         "mode": "lines+markers",
         "name": "금융기관",
         "orientation": "v",
         "showlegend": true,
         "type": "scatter",
         "x": [
          "2011년",
          "2012년",
          "2013년",
          "2014년",
          "2015년",
          "2016년",
          "2017년",
          "2018년",
          "2019년",
          "2020년",
          "2021년",
          "2022년"
         ],
         "xaxis": "x",
         "y": [
          5666,
          5519,
          7967,
          6432,
          5819,
          4997,
          4276,
          5078,
          4659,
          3660,
          2881,
          2493
         ],
         "yaxis": "y"
        },
        {
         "hovertemplate": "발생장소=의료기관<br>년도=%{x}<br>발생건수=%{y}<extra></extra>",
         "legendgroup": "의료기관",
         "line": {
          "color": "#ab63fa",
          "dash": "solid"
         },
         "marker": {
          "symbol": "circle"
         },
         "mode": "lines+markers",
         "name": "의료기관",
         "orientation": "v",
         "showlegend": true,
         "type": "scatter",
         "x": [
          "2011년",
          "2012년",
          "2013년",
          "2014년",
          "2015년",
          "2016년",
          "2017년",
          "2018년",
          "2019년",
          "2020년",
          "2021년",
          "2022년"
         ],
         "xaxis": "x",
         "y": [
          2243,
          2165,
          3172,
          2077,
          1646,
          1592,
          1300,
          1619,
          1762,
          1362,
          1139,
          946
         ],
         "yaxis": "y"
        },
        {
         "hovertemplate": "발생장소=종교기관<br>년도=%{x}<br>발생건수=%{y}<extra></extra>",
         "legendgroup": "종교기관",
         "line": {
          "color": "#FFA15A",
          "dash": "solid"
         },
         "marker": {
          "symbol": "circle"
         },
         "mode": "lines+markers",
         "name": "종교기관",
         "orientation": "v",
         "showlegend": true,
         "type": "scatter",
         "x": [
          "2011년",
          "2012년",
          "2013년",
          "2014년",
          "2015년",
          "2016년",
          "2017년",
          "2018년",
          "2019년",
          "2020년",
          "2021년",
          "2022년"
         ],
         "xaxis": "x",
         "y": [
          1428,
          1134,
          1678,
          1258,
          1151,
          1090,
          1051,
          988,
          1026,
          605,
          440,
          574
         ],
         "yaxis": "y"
        },
        {
         "hovertemplate": "발생장소=산야<br>년도=%{x}<br>발생건수=%{y}<extra></extra>",
         "legendgroup": "산야",
         "line": {
          "color": "#19d3f3",
          "dash": "solid"
         },
         "marker": {
          "symbol": "circle"
         },
         "mode": "lines+markers",
         "name": "산야",
         "orientation": "v",
         "showlegend": true,
         "type": "scatter",
         "x": [
          "2011년",
          "2012년",
          "2013년",
          "2014년",
          "2015년",
          "2016년",
          "2017년",
          "2018년",
          "2019년",
          "2020년",
          "2021년",
          "2022년"
         ],
         "xaxis": "x",
         "y": [
          2982,
          2500,
          3721,
          2705,
          2522,
          2338,
          2276,
          2762,
          3264,
          3536,
          3514,
          3362
         ],
         "yaxis": "y"
        },
        {
         "hovertemplate": "발생장소=해상<br>년도=%{x}<br>발생건수=%{y}<extra></extra>",
         "legendgroup": "해상",
         "line": {
          "color": "#FF6692",
          "dash": "solid"
         },
         "marker": {
          "symbol": "circle"
         },
         "mode": "lines+markers",
         "name": "해상",
         "orientation": "v",
         "showlegend": true,
         "type": "scatter",
         "x": [
          "2011년",
          "2012년",
          "2013년",
          "2014년",
          "2015년",
          "2016년",
          "2017년",
          "2018년",
          "2019년",
          "2020년",
          "2021년",
          "2022년"
         ],
         "xaxis": "x",
         "y": [
          74,
          67,
          54,
          40,
          116,
          83,
          91,
          97,
          67,
          94,
          71,
          46
         ],
         "yaxis": "y"
        },
        {
         "hovertemplate": "발생장소=부대<br>년도=%{x}<br>발생건수=%{y}<extra></extra>",
         "legendgroup": "부대",
         "line": {
          "color": "#B6E880",
          "dash": "solid"
         },
         "marker": {
          "symbol": "circle"
         },
         "mode": "lines+markers",
         "name": "부대",
         "orientation": "v",
         "showlegend": true,
         "type": "scatter",
         "x": [
          "2011년",
          "2012년",
          "2013년",
          "2014년",
          "2015년",
          "2016년",
          "2017년",
          "2018년",
          "2019년",
          "2020년",
          "2021년",
          "2022년"
         ],
         "xaxis": "x",
         "y": [
          49,
          26,
          20,
          34,
          17,
          11,
          21,
          18,
          17,
          12,
          9,
          15
         ],
         "yaxis": "y"
        },
        {
         "hovertemplate": "발생장소=구금장소<br>년도=%{x}<br>발생건수=%{y}<extra></extra>",
         "legendgroup": "구금장소",
         "line": {
          "color": "#FF97FF",
          "dash": "solid"
         },
         "marker": {
          "symbol": "circle"
         },
         "mode": "lines+markers",
         "name": "구금장소",
         "orientation": "v",
         "showlegend": true,
         "type": "scatter",
         "x": [
          "2011년",
          "2012년",
          "2013년",
          "2014년",
          "2015년",
          "2016년",
          "2017년",
          "2018년",
          "2019년",
          "2020년",
          "2021년",
          "2022년"
         ],
         "xaxis": "x",
         "y": [
          0,
          0,
          1,
          1,
          1,
          5,
          5,
          4,
          2,
          4,
          3,
          4
         ],
         "yaxis": "y"
        },
        {
         "hovertemplate": "발생장소=공지<br>년도=%{x}<br>발생건수=%{y}<extra></extra>",
         "legendgroup": "공지",
         "line": {
          "color": "#FECB52",
          "dash": "solid"
         },
         "marker": {
          "symbol": "circle"
         },
         "mode": "lines+markers",
         "name": "공지",
         "orientation": "v",
         "showlegend": true,
         "type": "scatter",
         "x": [
          "2011년",
          "2012년",
          "2013년",
          "2014년",
          "2015년",
          "2016년",
          "2017년",
          "2018년",
          "2019년",
          "2020년",
          "2021년",
          "2022년"
         ],
         "xaxis": "x",
         "y": [
          252,
          125,
          169,
          94,
          38,
          41,
          32,
          74,
          82,
          58,
          56,
          52
         ],
         "yaxis": "y"
        },
        {
         "hovertemplate": "발생장소=주차장<br>년도=%{x}<br>발생건수=%{y}<extra></extra>",
         "legendgroup": "주차장",
         "line": {
          "color": "#636efa",
          "dash": "solid"
         },
         "marker": {
          "symbol": "circle"
         },
         "mode": "lines+markers",
         "name": "주차장",
         "orientation": "v",
         "showlegend": true,
         "type": "scatter",
         "x": [
          "2011년",
          "2012년",
          "2013년",
          "2014년",
          "2015년",
          "2016년",
          "2017년",
          "2018년",
          "2019년",
          "2020년",
          "2021년",
          "2022년"
         ],
         "xaxis": "x",
         "y": [
          12518,
          9786,
          15992,
          11464,
          10325,
          8951,
          7117,
          9022,
          9796,
          10661,
          9891,
          10381
         ],
         "yaxis": "y"
        },
        {
         "hovertemplate": "발생장소=공중화장실<br>년도=%{x}<br>발생건수=%{y}<extra></extra>",
         "legendgroup": "공중화장실",
         "line": {
          "color": "#EF553B",
          "dash": "solid"
         },
         "marker": {
          "symbol": "circle"
         },
         "mode": "lines+markers",
         "name": "공중화장실",
         "orientation": "v",
         "showlegend": true,
         "type": "scatter",
         "x": [
          "2011년",
          "2012년",
          "2013년",
          "2014년",
          "2015년",
          "2016년",
          "2017년",
          "2018년",
          "2019년",
          "2020년",
          "2021년",
          "2022년"
         ],
         "xaxis": "x",
         "y": [
          336,
          463,
          1037,
          462,
          483,
          439,
          531,
          986,
          1083,
          887,
          727,
          703
         ],
         "yaxis": "y"
        },
        {
         "hovertemplate": "발생장소=PC방<br>년도=%{x}<br>발생건수=%{y}<extra></extra>",
         "legendgroup": "PC방",
         "line": {
          "color": "#00cc96",
          "dash": "solid"
         },
         "marker": {
          "symbol": "circle"
         },
         "mode": "lines+markers",
         "name": "PC방",
         "orientation": "v",
         "showlegend": true,
         "type": "scatter",
         "x": [
          "2011년",
          "2012년",
          "2013년",
          "2014년",
          "2015년",
          "2016년",
          "2017년",
          "2018년",
          "2019년",
          "2020년",
          "2021년",
          "2022년"
         ],
         "xaxis": "x",
         "y": [
          2867,
          3415,
          5457,
          2987,
          2592,
          2365,
          1864,
          2996,
          3026,
          2051,
          1253,
          994
         ],
         "yaxis": "y"
        },
        {
         "hovertemplate": "발생장소=기타<br>년도=%{x}<br>발생건수=%{y}<extra></extra>",
         "legendgroup": "기타",
         "line": {
          "color": "#ab63fa",
          "dash": "solid"
         },
         "marker": {
          "symbol": "circle"
         },
         "mode": "lines+markers",
         "name": "기타",
         "orientation": "v",
         "showlegend": true,
         "type": "scatter",
         "x": [
          "2011년",
          "2012년",
          "2013년",
          "2014년",
          "2015년",
          "2016년",
          "2017년",
          "2018년",
          "2019년",
          "2020년",
          "2021년",
          "2022년"
         ],
         "xaxis": "x",
         "y": [
          89180,
          120502,
          21361,
          85435,
          85452,
          63639,
          63639,
          15681,
          11984,
          11576,
          11701,
          14665
         ],
         "yaxis": "y"
        }
       ],
       "layout": {
        "legend": {
         "title": {
          "text": "발생장소"
         },
         "tracegroupgap": 0
        },
        "margin": {
         "t": 60
        },
        "template": {
         "data": {
          "bar": [
           {
            "error_x": {
             "color": "#2a3f5f"
            },
            "error_y": {
             "color": "#2a3f5f"
            },
            "marker": {
             "line": {
              "color": "#E5ECF6",
              "width": 0.5
             },
             "pattern": {
              "fillmode": "overlay",
              "size": 10,
              "solidity": 0.2
             }
            },
            "type": "bar"
           }
          ],
          "barpolar": [
           {
            "marker": {
             "line": {
              "color": "#E5ECF6",
              "width": 0.5
             },
             "pattern": {
              "fillmode": "overlay",
              "size": 10,
              "solidity": 0.2
             }
            },
            "type": "barpolar"
           }
          ],
          "carpet": [
           {
            "aaxis": {
             "endlinecolor": "#2a3f5f",
             "gridcolor": "white",
             "linecolor": "white",
             "minorgridcolor": "white",
             "startlinecolor": "#2a3f5f"
            },
            "baxis": {
             "endlinecolor": "#2a3f5f",
             "gridcolor": "white",
             "linecolor": "white",
             "minorgridcolor": "white",
             "startlinecolor": "#2a3f5f"
            },
            "type": "carpet"
           }
          ],
          "choropleth": [
           {
            "colorbar": {
             "outlinewidth": 0,
             "ticks": ""
            },
            "type": "choropleth"
           }
          ],
          "contour": [
           {
            "colorbar": {
             "outlinewidth": 0,
             "ticks": ""
            },
            "colorscale": [
             [
              0,
              "#0d0887"
             ],
             [
              0.1111111111111111,
              "#46039f"
             ],
             [
              0.2222222222222222,
              "#7201a8"
             ],
             [
              0.3333333333333333,
              "#9c179e"
             ],
             [
              0.4444444444444444,
              "#bd3786"
             ],
             [
              0.5555555555555556,
              "#d8576b"
             ],
             [
              0.6666666666666666,
              "#ed7953"
             ],
             [
              0.7777777777777778,
              "#fb9f3a"
             ],
             [
              0.8888888888888888,
              "#fdca26"
             ],
             [
              1,
              "#f0f921"
             ]
            ],
            "type": "contour"
           }
          ],
          "contourcarpet": [
           {
            "colorbar": {
             "outlinewidth": 0,
             "ticks": ""
            },
            "type": "contourcarpet"
           }
          ],
          "heatmap": [
           {
            "colorbar": {
             "outlinewidth": 0,
             "ticks": ""
            },
            "colorscale": [
             [
              0,
              "#0d0887"
             ],
             [
              0.1111111111111111,
              "#46039f"
             ],
             [
              0.2222222222222222,
              "#7201a8"
             ],
             [
              0.3333333333333333,
              "#9c179e"
             ],
             [
              0.4444444444444444,
              "#bd3786"
             ],
             [
              0.5555555555555556,
              "#d8576b"
             ],
             [
              0.6666666666666666,
              "#ed7953"
             ],
             [
              0.7777777777777778,
              "#fb9f3a"
             ],
             [
              0.8888888888888888,
              "#fdca26"
             ],
             [
              1,
              "#f0f921"
             ]
            ],
            "type": "heatmap"
           }
          ],
          "heatmapgl": [
           {
            "colorbar": {
             "outlinewidth": 0,
             "ticks": ""
            },
            "colorscale": [
             [
              0,
              "#0d0887"
             ],
             [
              0.1111111111111111,
              "#46039f"
             ],
             [
              0.2222222222222222,
              "#7201a8"
             ],
             [
              0.3333333333333333,
              "#9c179e"
             ],
             [
              0.4444444444444444,
              "#bd3786"
             ],
             [
              0.5555555555555556,
              "#d8576b"
             ],
             [
              0.6666666666666666,
              "#ed7953"
             ],
             [
              0.7777777777777778,
              "#fb9f3a"
             ],
             [
              0.8888888888888888,
              "#fdca26"
             ],
             [
              1,
              "#f0f921"
             ]
            ],
            "type": "heatmapgl"
           }
          ],
          "histogram": [
           {
            "marker": {
             "pattern": {
              "fillmode": "overlay",
              "size": 10,
              "solidity": 0.2
             }
            },
            "type": "histogram"
           }
          ],
          "histogram2d": [
           {
            "colorbar": {
             "outlinewidth": 0,
             "ticks": ""
            },
            "colorscale": [
             [
              0,
              "#0d0887"
             ],
             [
              0.1111111111111111,
              "#46039f"
             ],
             [
              0.2222222222222222,
              "#7201a8"
             ],
             [
              0.3333333333333333,
              "#9c179e"
             ],
             [
              0.4444444444444444,
              "#bd3786"
             ],
             [
              0.5555555555555556,
              "#d8576b"
             ],
             [
              0.6666666666666666,
              "#ed7953"
             ],
             [
              0.7777777777777778,
              "#fb9f3a"
             ],
             [
              0.8888888888888888,
              "#fdca26"
             ],
             [
              1,
              "#f0f921"
             ]
            ],
            "type": "histogram2d"
           }
          ],
          "histogram2dcontour": [
           {
            "colorbar": {
             "outlinewidth": 0,
             "ticks": ""
            },
            "colorscale": [
             [
              0,
              "#0d0887"
             ],
             [
              0.1111111111111111,
              "#46039f"
             ],
             [
              0.2222222222222222,
              "#7201a8"
             ],
             [
              0.3333333333333333,
              "#9c179e"
             ],
             [
              0.4444444444444444,
              "#bd3786"
             ],
             [
              0.5555555555555556,
              "#d8576b"
             ],
             [
              0.6666666666666666,
              "#ed7953"
             ],
             [
              0.7777777777777778,
              "#fb9f3a"
             ],
             [
              0.8888888888888888,
              "#fdca26"
             ],
             [
              1,
              "#f0f921"
             ]
            ],
            "type": "histogram2dcontour"
           }
          ],
          "mesh3d": [
           {
            "colorbar": {
             "outlinewidth": 0,
             "ticks": ""
            },
            "type": "mesh3d"
           }
          ],
          "parcoords": [
           {
            "line": {
             "colorbar": {
              "outlinewidth": 0,
              "ticks": ""
             }
            },
            "type": "parcoords"
           }
          ],
          "pie": [
           {
            "automargin": true,
            "type": "pie"
           }
          ],
          "scatter": [
           {
            "fillpattern": {
             "fillmode": "overlay",
             "size": 10,
             "solidity": 0.2
            },
            "type": "scatter"
           }
          ],
          "scatter3d": [
           {
            "line": {
             "colorbar": {
              "outlinewidth": 0,
              "ticks": ""
             }
            },
            "marker": {
             "colorbar": {
              "outlinewidth": 0,
              "ticks": ""
             }
            },
            "type": "scatter3d"
           }
          ],
          "scattercarpet": [
           {
            "marker": {
             "colorbar": {
              "outlinewidth": 0,
              "ticks": ""
             }
            },
            "type": "scattercarpet"
           }
          ],
          "scattergeo": [
           {
            "marker": {
             "colorbar": {
              "outlinewidth": 0,
              "ticks": ""
             }
            },
            "type": "scattergeo"
           }
          ],
          "scattergl": [
           {
            "marker": {
             "colorbar": {
              "outlinewidth": 0,
              "ticks": ""
             }
            },
            "type": "scattergl"
           }
          ],
          "scattermapbox": [
           {
            "marker": {
             "colorbar": {
              "outlinewidth": 0,
              "ticks": ""
             }
            },
            "type": "scattermapbox"
           }
          ],
          "scatterpolar": [
           {
            "marker": {
             "colorbar": {
              "outlinewidth": 0,
              "ticks": ""
             }
            },
            "type": "scatterpolar"
           }
          ],
          "scatterpolargl": [
           {
            "marker": {
             "colorbar": {
              "outlinewidth": 0,
              "ticks": ""
             }
            },
            "type": "scatterpolargl"
           }
          ],
          "scatterternary": [
           {
            "marker": {
             "colorbar": {
              "outlinewidth": 0,
              "ticks": ""
             }
            },
            "type": "scatterternary"
           }
          ],
          "surface": [
           {
            "colorbar": {
             "outlinewidth": 0,
             "ticks": ""
            },
            "colorscale": [
             [
              0,
              "#0d0887"
             ],
             [
              0.1111111111111111,
              "#46039f"
             ],
             [
              0.2222222222222222,
              "#7201a8"
             ],
             [
              0.3333333333333333,
              "#9c179e"
             ],
             [
              0.4444444444444444,
              "#bd3786"
             ],
             [
              0.5555555555555556,
              "#d8576b"
             ],
             [
              0.6666666666666666,
              "#ed7953"
             ],
             [
              0.7777777777777778,
              "#fb9f3a"
             ],
             [
              0.8888888888888888,
              "#fdca26"
             ],
             [
              1,
              "#f0f921"
             ]
            ],
            "type": "surface"
           }
          ],
          "table": [
           {
            "cells": {
             "fill": {
              "color": "#EBF0F8"
             },
             "line": {
              "color": "white"
             }
            },
            "header": {
             "fill": {
              "color": "#C8D4E3"
             },
             "line": {
              "color": "white"
             }
            },
            "type": "table"
           }
          ]
         },
         "layout": {
          "annotationdefaults": {
           "arrowcolor": "#2a3f5f",
           "arrowhead": 0,
           "arrowwidth": 1
          },
          "autotypenumbers": "strict",
          "coloraxis": {
           "colorbar": {
            "outlinewidth": 0,
            "ticks": ""
           }
          },
          "colorscale": {
           "diverging": [
            [
             0,
             "#8e0152"
            ],
            [
             0.1,
             "#c51b7d"
            ],
            [
             0.2,
             "#de77ae"
            ],
            [
             0.3,
             "#f1b6da"
            ],
            [
             0.4,
             "#fde0ef"
            ],
            [
             0.5,
             "#f7f7f7"
            ],
            [
             0.6,
             "#e6f5d0"
            ],
            [
             0.7,
             "#b8e186"
            ],
            [
             0.8,
             "#7fbc41"
            ],
            [
             0.9,
             "#4d9221"
            ],
            [
             1,
             "#276419"
            ]
           ],
           "sequential": [
            [
             0,
             "#0d0887"
            ],
            [
             0.1111111111111111,
             "#46039f"
            ],
            [
             0.2222222222222222,
             "#7201a8"
            ],
            [
             0.3333333333333333,
             "#9c179e"
            ],
            [
             0.4444444444444444,
             "#bd3786"
            ],
            [
             0.5555555555555556,
             "#d8576b"
            ],
            [
             0.6666666666666666,
             "#ed7953"
            ],
            [
             0.7777777777777778,
             "#fb9f3a"
            ],
            [
             0.8888888888888888,
             "#fdca26"
            ],
            [
             1,
             "#f0f921"
            ]
           ],
           "sequentialminus": [
            [
             0,
             "#0d0887"
            ],
            [
             0.1111111111111111,
             "#46039f"
            ],
            [
             0.2222222222222222,
             "#7201a8"
            ],
            [
             0.3333333333333333,
             "#9c179e"
            ],
            [
             0.4444444444444444,
             "#bd3786"
            ],
            [
             0.5555555555555556,
             "#d8576b"
            ],
            [
             0.6666666666666666,
             "#ed7953"
            ],
            [
             0.7777777777777778,
             "#fb9f3a"
            ],
            [
             0.8888888888888888,
             "#fdca26"
            ],
            [
             1,
             "#f0f921"
            ]
           ]
          },
          "colorway": [
           "#636efa",
           "#EF553B",
           "#00cc96",
           "#ab63fa",
           "#FFA15A",
           "#19d3f3",
           "#FF6692",
           "#B6E880",
           "#FF97FF",
           "#FECB52"
          ],
          "font": {
           "color": "#2a3f5f"
          },
          "geo": {
           "bgcolor": "white",
           "lakecolor": "white",
           "landcolor": "#E5ECF6",
           "showlakes": true,
           "showland": true,
           "subunitcolor": "white"
          },
          "hoverlabel": {
           "align": "left"
          },
          "hovermode": "closest",
          "mapbox": {
           "style": "light"
          },
          "paper_bgcolor": "white",
          "plot_bgcolor": "#E5ECF6",
          "polar": {
           "angularaxis": {
            "gridcolor": "white",
            "linecolor": "white",
            "ticks": ""
           },
           "bgcolor": "#E5ECF6",
           "radialaxis": {
            "gridcolor": "white",
            "linecolor": "white",
            "ticks": ""
           }
          },
          "scene": {
           "xaxis": {
            "backgroundcolor": "#E5ECF6",
            "gridcolor": "white",
            "gridwidth": 2,
            "linecolor": "white",
            "showbackground": true,
            "ticks": "",
            "zerolinecolor": "white"
           },
           "yaxis": {
            "backgroundcolor": "#E5ECF6",
            "gridcolor": "white",
            "gridwidth": 2,
            "linecolor": "white",
            "showbackground": true,
            "ticks": "",
            "zerolinecolor": "white"
           },
           "zaxis": {
            "backgroundcolor": "#E5ECF6",
            "gridcolor": "white",
            "gridwidth": 2,
            "linecolor": "white",
            "showbackground": true,
            "ticks": "",
            "zerolinecolor": "white"
           }
          },
          "shapedefaults": {
           "line": {
            "color": "#2a3f5f"
           }
          },
          "ternary": {
           "aaxis": {
            "gridcolor": "white",
            "linecolor": "white",
            "ticks": ""
           },
           "baxis": {
            "gridcolor": "white",
            "linecolor": "white",
            "ticks": ""
           },
           "bgcolor": "#E5ECF6",
           "caxis": {
            "gridcolor": "white",
            "linecolor": "white",
            "ticks": ""
           }
          },
          "title": {
           "x": 0.05
          },
          "xaxis": {
           "automargin": true,
           "gridcolor": "white",
           "linecolor": "white",
           "ticks": "",
           "title": {
            "standoff": 15
           },
           "zerolinecolor": "white",
           "zerolinewidth": 2
          },
          "yaxis": {
           "automargin": true,
           "gridcolor": "white",
           "linecolor": "white",
           "ticks": "",
           "title": {
            "standoff": 15
           },
           "zerolinecolor": "white",
           "zerolinewidth": 2
          }
         }
        },
        "title": {
         "font": {
          "size": 22
         },
         "text": "년도 별 발생장소에 따른 절도범죄 발생 건 수",
         "x": 0.5
        },
        "xaxis": {
         "anchor": "y",
         "domain": [
          0,
          1
         ],
         "tickangle": -45,
         "title": {
          "text": "년도"
         }
        },
        "yaxis": {
         "anchor": "x",
         "domain": [
          0,
          1
         ],
         "title": {
          "text": "발생건수"
         }
        }
       }
      }
     },
     "metadata": {},
     "output_type": "display_data"
    }
   ],
   "source": [
    "fig = px.line(theft_place_df, x=\"년도\", y=\"발생건수\", color=\"발생장소\", markers=True )\n",
    "fig.update_layout(title_text=\"년도 별 발생장소에 따른 절도범죄 발생 건 수\", xaxis_tickangle=-45, title_x = 0.5, title_font_size=22)\n",
    "fig.show()"
   ]
  },
  {
   "cell_type": "code",
   "execution_count": 58,
   "metadata": {},
   "outputs": [
    {
     "data": {
      "text/html": [
       "<div>\n",
       "<style scoped>\n",
       "    .dataframe tbody tr th:only-of-type {\n",
       "        vertical-align: middle;\n",
       "    }\n",
       "\n",
       "    .dataframe tbody tr th {\n",
       "        vertical-align: top;\n",
       "    }\n",
       "\n",
       "    .dataframe thead th {\n",
       "        text-align: right;\n",
       "    }\n",
       "</style>\n",
       "<table border=\"1\" class=\"dataframe\">\n",
       "  <thead>\n",
       "    <tr style=\"text-align: right;\">\n",
       "      <th></th>\n",
       "      <th>대</th>\n",
       "      <th>중</th>\n",
       "      <th>소</th>\n",
       "      <th>발생장소</th>\n",
       "      <th>2011년</th>\n",
       "      <th>2012년</th>\n",
       "      <th>2013년</th>\n",
       "      <th>2014년</th>\n",
       "      <th>2015년</th>\n",
       "      <th>2016년</th>\n",
       "      <th>2017년</th>\n",
       "      <th>2018년</th>\n",
       "      <th>2019년</th>\n",
       "      <th>2020년</th>\n",
       "      <th>2021년</th>\n",
       "      <th>2022년</th>\n",
       "    </tr>\n",
       "  </thead>\n",
       "  <tbody>\n",
       "    <tr>\n",
       "      <th>1292</th>\n",
       "      <td>총범죄</td>\n",
       "      <td>교통범죄</td>\n",
       "      <td>소계</td>\n",
       "      <td>아파트 연립다세대</td>\n",
       "      <td>134</td>\n",
       "      <td>80</td>\n",
       "      <td>134</td>\n",
       "      <td>105</td>\n",
       "      <td>124</td>\n",
       "      <td>96</td>\n",
       "      <td>80</td>\n",
       "      <td>101</td>\n",
       "      <td>104</td>\n",
       "      <td>114</td>\n",
       "      <td>105</td>\n",
       "      <td>106</td>\n",
       "    </tr>\n",
       "    <tr>\n",
       "      <th>1293</th>\n",
       "      <td>총범죄</td>\n",
       "      <td>교통범죄</td>\n",
       "      <td>소계</td>\n",
       "      <td>단독주택</td>\n",
       "      <td>40</td>\n",
       "      <td>18</td>\n",
       "      <td>33</td>\n",
       "      <td>34</td>\n",
       "      <td>41</td>\n",
       "      <td>40</td>\n",
       "      <td>36</td>\n",
       "      <td>34</td>\n",
       "      <td>27</td>\n",
       "      <td>45</td>\n",
       "      <td>38</td>\n",
       "      <td>37</td>\n",
       "    </tr>\n",
       "    <tr>\n",
       "      <th>1294</th>\n",
       "      <td>총범죄</td>\n",
       "      <td>교통범죄</td>\n",
       "      <td>소계</td>\n",
       "      <td>고속도로</td>\n",
       "      <td>2133</td>\n",
       "      <td>3052</td>\n",
       "      <td>2519</td>\n",
       "      <td>2578</td>\n",
       "      <td>2727</td>\n",
       "      <td>3516</td>\n",
       "      <td>4881</td>\n",
       "      <td>4408</td>\n",
       "      <td>5163</td>\n",
       "      <td>4154</td>\n",
       "      <td>5327</td>\n",
       "      <td>7471</td>\n",
       "    </tr>\n",
       "    <tr>\n",
       "      <th>1295</th>\n",
       "      <td>총범죄</td>\n",
       "      <td>교통범죄</td>\n",
       "      <td>소계</td>\n",
       "      <td>노상</td>\n",
       "      <td>524351</td>\n",
       "      <td>526938</td>\n",
       "      <td>567776</td>\n",
       "      <td>562472</td>\n",
       "      <td>584632</td>\n",
       "      <td>587582</td>\n",
       "      <td>488787</td>\n",
       "      <td>401095</td>\n",
       "      <td>369771</td>\n",
       "      <td>342058</td>\n",
       "      <td>300530</td>\n",
       "      <td>230183</td>\n",
       "    </tr>\n",
       "    <tr>\n",
       "      <th>1296</th>\n",
       "      <td>총범죄</td>\n",
       "      <td>교통범죄</td>\n",
       "      <td>소계</td>\n",
       "      <td>백화점</td>\n",
       "      <td>0</td>\n",
       "      <td>2</td>\n",
       "      <td>2</td>\n",
       "      <td>1</td>\n",
       "      <td>0</td>\n",
       "      <td>1</td>\n",
       "      <td>0</td>\n",
       "      <td>1</td>\n",
       "      <td>0</td>\n",
       "      <td>0</td>\n",
       "      <td>1</td>\n",
       "      <td>0</td>\n",
       "    </tr>\n",
       "    <tr>\n",
       "      <th>1297</th>\n",
       "      <td>총범죄</td>\n",
       "      <td>교통범죄</td>\n",
       "      <td>소계</td>\n",
       "      <td>슈퍼마켓</td>\n",
       "      <td>6</td>\n",
       "      <td>3</td>\n",
       "      <td>4</td>\n",
       "      <td>3</td>\n",
       "      <td>3</td>\n",
       "      <td>5</td>\n",
       "      <td>3</td>\n",
       "      <td>2</td>\n",
       "      <td>2</td>\n",
       "      <td>1</td>\n",
       "      <td>1</td>\n",
       "      <td>2</td>\n",
       "    </tr>\n",
       "    <tr>\n",
       "      <th>1298</th>\n",
       "      <td>총범죄</td>\n",
       "      <td>교통범죄</td>\n",
       "      <td>소계</td>\n",
       "      <td>편의점</td>\n",
       "      <td>2</td>\n",
       "      <td>3</td>\n",
       "      <td>1</td>\n",
       "      <td>1</td>\n",
       "      <td>5</td>\n",
       "      <td>5</td>\n",
       "      <td>3</td>\n",
       "      <td>3</td>\n",
       "      <td>6</td>\n",
       "      <td>4</td>\n",
       "      <td>4</td>\n",
       "      <td>3</td>\n",
       "    </tr>\n",
       "    <tr>\n",
       "      <th>1299</th>\n",
       "      <td>총범죄</td>\n",
       "      <td>교통범죄</td>\n",
       "      <td>소계</td>\n",
       "      <td>대형할인매장</td>\n",
       "      <td>2</td>\n",
       "      <td>1</td>\n",
       "      <td>1</td>\n",
       "      <td>1</td>\n",
       "      <td>0</td>\n",
       "      <td>0</td>\n",
       "      <td>0</td>\n",
       "      <td>3</td>\n",
       "      <td>2</td>\n",
       "      <td>1</td>\n",
       "      <td>0</td>\n",
       "      <td>0</td>\n",
       "    </tr>\n",
       "    <tr>\n",
       "      <th>1300</th>\n",
       "      <td>총범죄</td>\n",
       "      <td>교통범죄</td>\n",
       "      <td>소계</td>\n",
       "      <td>상점</td>\n",
       "      <td>42</td>\n",
       "      <td>32</td>\n",
       "      <td>58</td>\n",
       "      <td>38</td>\n",
       "      <td>45</td>\n",
       "      <td>39</td>\n",
       "      <td>30</td>\n",
       "      <td>32</td>\n",
       "      <td>42</td>\n",
       "      <td>29</td>\n",
       "      <td>36</td>\n",
       "      <td>48</td>\n",
       "    </tr>\n",
       "    <tr>\n",
       "      <th>1301</th>\n",
       "      <td>총범죄</td>\n",
       "      <td>교통범죄</td>\n",
       "      <td>소계</td>\n",
       "      <td>시장노점</td>\n",
       "      <td>62</td>\n",
       "      <td>40</td>\n",
       "      <td>44</td>\n",
       "      <td>55</td>\n",
       "      <td>102</td>\n",
       "      <td>80</td>\n",
       "      <td>55</td>\n",
       "      <td>103</td>\n",
       "      <td>91</td>\n",
       "      <td>59</td>\n",
       "      <td>79</td>\n",
       "      <td>53</td>\n",
       "    </tr>\n",
       "    <tr>\n",
       "      <th>1302</th>\n",
       "      <td>총범죄</td>\n",
       "      <td>교통범죄</td>\n",
       "      <td>소계</td>\n",
       "      <td>숙박업소 목욕탕</td>\n",
       "      <td>10</td>\n",
       "      <td>9</td>\n",
       "      <td>8</td>\n",
       "      <td>6</td>\n",
       "      <td>10</td>\n",
       "      <td>4</td>\n",
       "      <td>4</td>\n",
       "      <td>10</td>\n",
       "      <td>5</td>\n",
       "      <td>4</td>\n",
       "      <td>7</td>\n",
       "      <td>7</td>\n",
       "    </tr>\n",
       "    <tr>\n",
       "      <th>1303</th>\n",
       "      <td>총범죄</td>\n",
       "      <td>교통범죄</td>\n",
       "      <td>소계</td>\n",
       "      <td>유흥접객업소</td>\n",
       "      <td>15</td>\n",
       "      <td>8</td>\n",
       "      <td>15</td>\n",
       "      <td>5</td>\n",
       "      <td>11</td>\n",
       "      <td>9</td>\n",
       "      <td>7</td>\n",
       "      <td>8</td>\n",
       "      <td>10</td>\n",
       "      <td>19</td>\n",
       "      <td>14</td>\n",
       "      <td>14</td>\n",
       "    </tr>\n",
       "    <tr>\n",
       "      <th>1304</th>\n",
       "      <td>총범죄</td>\n",
       "      <td>교통범죄</td>\n",
       "      <td>소계</td>\n",
       "      <td>사무실</td>\n",
       "      <td>161</td>\n",
       "      <td>69</td>\n",
       "      <td>79</td>\n",
       "      <td>76</td>\n",
       "      <td>191</td>\n",
       "      <td>83</td>\n",
       "      <td>56</td>\n",
       "      <td>73</td>\n",
       "      <td>76</td>\n",
       "      <td>63</td>\n",
       "      <td>74</td>\n",
       "      <td>76</td>\n",
       "    </tr>\n",
       "    <tr>\n",
       "      <th>1305</th>\n",
       "      <td>총범죄</td>\n",
       "      <td>교통범죄</td>\n",
       "      <td>소계</td>\n",
       "      <td>공장</td>\n",
       "      <td>8</td>\n",
       "      <td>7</td>\n",
       "      <td>17</td>\n",
       "      <td>14</td>\n",
       "      <td>16</td>\n",
       "      <td>7</td>\n",
       "      <td>8</td>\n",
       "      <td>110</td>\n",
       "      <td>28</td>\n",
       "      <td>31</td>\n",
       "      <td>9</td>\n",
       "      <td>10</td>\n",
       "    </tr>\n",
       "    <tr>\n",
       "      <th>1306</th>\n",
       "      <td>총범죄</td>\n",
       "      <td>교통범죄</td>\n",
       "      <td>소계</td>\n",
       "      <td>공사장광산</td>\n",
       "      <td>14</td>\n",
       "      <td>19</td>\n",
       "      <td>25</td>\n",
       "      <td>30</td>\n",
       "      <td>20</td>\n",
       "      <td>19</td>\n",
       "      <td>33</td>\n",
       "      <td>30</td>\n",
       "      <td>18</td>\n",
       "      <td>23</td>\n",
       "      <td>21</td>\n",
       "      <td>21</td>\n",
       "    </tr>\n",
       "    <tr>\n",
       "      <th>1307</th>\n",
       "      <td>총범죄</td>\n",
       "      <td>교통범죄</td>\n",
       "      <td>소계</td>\n",
       "      <td>창고</td>\n",
       "      <td>2</td>\n",
       "      <td>0</td>\n",
       "      <td>3</td>\n",
       "      <td>1</td>\n",
       "      <td>3</td>\n",
       "      <td>2</td>\n",
       "      <td>2</td>\n",
       "      <td>6</td>\n",
       "      <td>5</td>\n",
       "      <td>2</td>\n",
       "      <td>3</td>\n",
       "      <td>1</td>\n",
       "    </tr>\n",
       "    <tr>\n",
       "      <th>1308</th>\n",
       "      <td>총범죄</td>\n",
       "      <td>교통범죄</td>\n",
       "      <td>소계</td>\n",
       "      <td>역대합실</td>\n",
       "      <td>23</td>\n",
       "      <td>23</td>\n",
       "      <td>14</td>\n",
       "      <td>14</td>\n",
       "      <td>16</td>\n",
       "      <td>16</td>\n",
       "      <td>9</td>\n",
       "      <td>11</td>\n",
       "      <td>9</td>\n",
       "      <td>39</td>\n",
       "      <td>7</td>\n",
       "      <td>10</td>\n",
       "    </tr>\n",
       "    <tr>\n",
       "      <th>1309</th>\n",
       "      <td>총범죄</td>\n",
       "      <td>교통범죄</td>\n",
       "      <td>소계</td>\n",
       "      <td>지하철</td>\n",
       "      <td>0</td>\n",
       "      <td>0</td>\n",
       "      <td>0</td>\n",
       "      <td>0</td>\n",
       "      <td>0</td>\n",
       "      <td>1</td>\n",
       "      <td>0</td>\n",
       "      <td>0</td>\n",
       "      <td>1</td>\n",
       "      <td>1</td>\n",
       "      <td>0</td>\n",
       "      <td>4</td>\n",
       "    </tr>\n",
       "    <tr>\n",
       "      <th>1310</th>\n",
       "      <td>총범죄</td>\n",
       "      <td>교통범죄</td>\n",
       "      <td>소계</td>\n",
       "      <td>기타교통수단내</td>\n",
       "      <td>77</td>\n",
       "      <td>49</td>\n",
       "      <td>49</td>\n",
       "      <td>39</td>\n",
       "      <td>47</td>\n",
       "      <td>56</td>\n",
       "      <td>51</td>\n",
       "      <td>77</td>\n",
       "      <td>91</td>\n",
       "      <td>60</td>\n",
       "      <td>63</td>\n",
       "      <td>62</td>\n",
       "    </tr>\n",
       "    <tr>\n",
       "      <th>1311</th>\n",
       "      <td>총범죄</td>\n",
       "      <td>교통범죄</td>\n",
       "      <td>소계</td>\n",
       "      <td>흥행장</td>\n",
       "      <td>0</td>\n",
       "      <td>4</td>\n",
       "      <td>2</td>\n",
       "      <td>2</td>\n",
       "      <td>0</td>\n",
       "      <td>4</td>\n",
       "      <td>5</td>\n",
       "      <td>6</td>\n",
       "      <td>0</td>\n",
       "      <td>3</td>\n",
       "      <td>4</td>\n",
       "      <td>3</td>\n",
       "    </tr>\n",
       "    <tr>\n",
       "      <th>1312</th>\n",
       "      <td>총범죄</td>\n",
       "      <td>교통범죄</td>\n",
       "      <td>소계</td>\n",
       "      <td>유원지</td>\n",
       "      <td>9</td>\n",
       "      <td>6</td>\n",
       "      <td>11</td>\n",
       "      <td>12</td>\n",
       "      <td>14</td>\n",
       "      <td>5</td>\n",
       "      <td>12</td>\n",
       "      <td>8</td>\n",
       "      <td>10</td>\n",
       "      <td>13</td>\n",
       "      <td>9</td>\n",
       "      <td>6</td>\n",
       "    </tr>\n",
       "    <tr>\n",
       "      <th>1313</th>\n",
       "      <td>총범죄</td>\n",
       "      <td>교통범죄</td>\n",
       "      <td>소계</td>\n",
       "      <td>학교</td>\n",
       "      <td>20</td>\n",
       "      <td>8</td>\n",
       "      <td>9</td>\n",
       "      <td>10</td>\n",
       "      <td>9</td>\n",
       "      <td>3</td>\n",
       "      <td>2</td>\n",
       "      <td>9</td>\n",
       "      <td>11</td>\n",
       "      <td>6</td>\n",
       "      <td>4</td>\n",
       "      <td>6</td>\n",
       "    </tr>\n",
       "    <tr>\n",
       "      <th>1314</th>\n",
       "      <td>총범죄</td>\n",
       "      <td>교통범죄</td>\n",
       "      <td>소계</td>\n",
       "      <td>금융기관</td>\n",
       "      <td>0</td>\n",
       "      <td>2</td>\n",
       "      <td>0</td>\n",
       "      <td>2</td>\n",
       "      <td>0</td>\n",
       "      <td>1</td>\n",
       "      <td>0</td>\n",
       "      <td>1</td>\n",
       "      <td>0</td>\n",
       "      <td>1</td>\n",
       "      <td>1</td>\n",
       "      <td>0</td>\n",
       "    </tr>\n",
       "    <tr>\n",
       "      <th>1315</th>\n",
       "      <td>총범죄</td>\n",
       "      <td>교통범죄</td>\n",
       "      <td>소계</td>\n",
       "      <td>의료기관</td>\n",
       "      <td>23</td>\n",
       "      <td>11</td>\n",
       "      <td>11</td>\n",
       "      <td>14</td>\n",
       "      <td>16</td>\n",
       "      <td>12</td>\n",
       "      <td>9</td>\n",
       "      <td>11</td>\n",
       "      <td>7</td>\n",
       "      <td>11</td>\n",
       "      <td>3</td>\n",
       "      <td>7</td>\n",
       "    </tr>\n",
       "    <tr>\n",
       "      <th>1316</th>\n",
       "      <td>총범죄</td>\n",
       "      <td>교통범죄</td>\n",
       "      <td>소계</td>\n",
       "      <td>종교기관</td>\n",
       "      <td>5</td>\n",
       "      <td>1</td>\n",
       "      <td>4</td>\n",
       "      <td>2</td>\n",
       "      <td>4</td>\n",
       "      <td>0</td>\n",
       "      <td>3</td>\n",
       "      <td>4</td>\n",
       "      <td>1</td>\n",
       "      <td>3</td>\n",
       "      <td>3</td>\n",
       "      <td>1</td>\n",
       "    </tr>\n",
       "    <tr>\n",
       "      <th>1317</th>\n",
       "      <td>총범죄</td>\n",
       "      <td>교통범죄</td>\n",
       "      <td>소계</td>\n",
       "      <td>산야</td>\n",
       "      <td>39</td>\n",
       "      <td>26</td>\n",
       "      <td>40</td>\n",
       "      <td>49</td>\n",
       "      <td>63</td>\n",
       "      <td>60</td>\n",
       "      <td>48</td>\n",
       "      <td>54</td>\n",
       "      <td>44</td>\n",
       "      <td>49</td>\n",
       "      <td>56</td>\n",
       "      <td>51</td>\n",
       "    </tr>\n",
       "    <tr>\n",
       "      <th>1318</th>\n",
       "      <td>총범죄</td>\n",
       "      <td>교통범죄</td>\n",
       "      <td>소계</td>\n",
       "      <td>해상</td>\n",
       "      <td>228</td>\n",
       "      <td>179</td>\n",
       "      <td>114</td>\n",
       "      <td>100</td>\n",
       "      <td>118</td>\n",
       "      <td>97</td>\n",
       "      <td>103</td>\n",
       "      <td>213</td>\n",
       "      <td>125</td>\n",
       "      <td>119</td>\n",
       "      <td>132</td>\n",
       "      <td>64</td>\n",
       "    </tr>\n",
       "    <tr>\n",
       "      <th>1319</th>\n",
       "      <td>총범죄</td>\n",
       "      <td>교통범죄</td>\n",
       "      <td>소계</td>\n",
       "      <td>부대</td>\n",
       "      <td>1</td>\n",
       "      <td>0</td>\n",
       "      <td>1</td>\n",
       "      <td>0</td>\n",
       "      <td>2</td>\n",
       "      <td>0</td>\n",
       "      <td>0</td>\n",
       "      <td>0</td>\n",
       "      <td>0</td>\n",
       "      <td>3</td>\n",
       "      <td>1</td>\n",
       "      <td>0</td>\n",
       "    </tr>\n",
       "    <tr>\n",
       "      <th>1320</th>\n",
       "      <td>총범죄</td>\n",
       "      <td>교통범죄</td>\n",
       "      <td>소계</td>\n",
       "      <td>구금장소</td>\n",
       "      <td>0</td>\n",
       "      <td>0</td>\n",
       "      <td>0</td>\n",
       "      <td>0</td>\n",
       "      <td>0</td>\n",
       "      <td>0</td>\n",
       "      <td>0</td>\n",
       "      <td>0</td>\n",
       "      <td>0</td>\n",
       "      <td>0</td>\n",
       "      <td>0</td>\n",
       "      <td>0</td>\n",
       "    </tr>\n",
       "    <tr>\n",
       "      <th>1321</th>\n",
       "      <td>총범죄</td>\n",
       "      <td>교통범죄</td>\n",
       "      <td>소계</td>\n",
       "      <td>공지</td>\n",
       "      <td>8</td>\n",
       "      <td>6</td>\n",
       "      <td>4</td>\n",
       "      <td>3</td>\n",
       "      <td>4</td>\n",
       "      <td>6</td>\n",
       "      <td>4</td>\n",
       "      <td>4</td>\n",
       "      <td>3</td>\n",
       "      <td>4</td>\n",
       "      <td>1</td>\n",
       "      <td>3</td>\n",
       "    </tr>\n",
       "    <tr>\n",
       "      <th>1322</th>\n",
       "      <td>총범죄</td>\n",
       "      <td>교통범죄</td>\n",
       "      <td>소계</td>\n",
       "      <td>주차장</td>\n",
       "      <td>706</td>\n",
       "      <td>952</td>\n",
       "      <td>1593</td>\n",
       "      <td>1617</td>\n",
       "      <td>1901</td>\n",
       "      <td>1592</td>\n",
       "      <td>1115</td>\n",
       "      <td>797</td>\n",
       "      <td>768</td>\n",
       "      <td>826</td>\n",
       "      <td>769</td>\n",
       "      <td>692</td>\n",
       "    </tr>\n",
       "    <tr>\n",
       "      <th>1323</th>\n",
       "      <td>총범죄</td>\n",
       "      <td>교통범죄</td>\n",
       "      <td>소계</td>\n",
       "      <td>공중화장실</td>\n",
       "      <td>0</td>\n",
       "      <td>0</td>\n",
       "      <td>1</td>\n",
       "      <td>0</td>\n",
       "      <td>0</td>\n",
       "      <td>0</td>\n",
       "      <td>1</td>\n",
       "      <td>0</td>\n",
       "      <td>1</td>\n",
       "      <td>0</td>\n",
       "      <td>0</td>\n",
       "      <td>0</td>\n",
       "    </tr>\n",
       "    <tr>\n",
       "      <th>1324</th>\n",
       "      <td>총범죄</td>\n",
       "      <td>교통범죄</td>\n",
       "      <td>소계</td>\n",
       "      <td>PC방</td>\n",
       "      <td>6</td>\n",
       "      <td>0</td>\n",
       "      <td>0</td>\n",
       "      <td>0</td>\n",
       "      <td>0</td>\n",
       "      <td>0</td>\n",
       "      <td>0</td>\n",
       "      <td>0</td>\n",
       "      <td>0</td>\n",
       "      <td>0</td>\n",
       "      <td>0</td>\n",
       "      <td>0</td>\n",
       "    </tr>\n",
       "    <tr>\n",
       "      <th>1325</th>\n",
       "      <td>총범죄</td>\n",
       "      <td>교통범죄</td>\n",
       "      <td>소계</td>\n",
       "      <td>기타</td>\n",
       "      <td>8040</td>\n",
       "      <td>11236</td>\n",
       "      <td>881</td>\n",
       "      <td>6209</td>\n",
       "      <td>6541</td>\n",
       "      <td>7060</td>\n",
       "      <td>5815</td>\n",
       "      <td>1157</td>\n",
       "      <td>933</td>\n",
       "      <td>980</td>\n",
       "      <td>1332</td>\n",
       "      <td>2088</td>\n",
       "    </tr>\n",
       "  </tbody>\n",
       "</table>\n",
       "</div>"
      ],
      "text/plain": [
       "        대     중   소       발생장소   2011년   2012년   2013년   2014년   2015년  \\\n",
       "1292  총범죄  교통범죄  소계  아파트 연립다세대     134      80     134     105     124   \n",
       "1293  총범죄  교통범죄  소계       단독주택      40      18      33      34      41   \n",
       "1294  총범죄  교통범죄  소계       고속도로    2133    3052    2519    2578    2727   \n",
       "1295  총범죄  교통범죄  소계         노상  524351  526938  567776  562472  584632   \n",
       "1296  총범죄  교통범죄  소계        백화점       0       2       2       1       0   \n",
       "1297  총범죄  교통범죄  소계       슈퍼마켓       6       3       4       3       3   \n",
       "1298  총범죄  교통범죄  소계        편의점       2       3       1       1       5   \n",
       "1299  총범죄  교통범죄  소계     대형할인매장       2       1       1       1       0   \n",
       "1300  총범죄  교통범죄  소계         상점      42      32      58      38      45   \n",
       "1301  총범죄  교통범죄  소계       시장노점      62      40      44      55     102   \n",
       "1302  총범죄  교통범죄  소계   숙박업소 목욕탕      10       9       8       6      10   \n",
       "1303  총범죄  교통범죄  소계     유흥접객업소      15       8      15       5      11   \n",
       "1304  총범죄  교통범죄  소계        사무실     161      69      79      76     191   \n",
       "1305  총범죄  교통범죄  소계         공장       8       7      17      14      16   \n",
       "1306  총범죄  교통범죄  소계      공사장광산      14      19      25      30      20   \n",
       "1307  총범죄  교통범죄  소계         창고       2       0       3       1       3   \n",
       "1308  총범죄  교통범죄  소계       역대합실      23      23      14      14      16   \n",
       "1309  총범죄  교통범죄  소계        지하철       0       0       0       0       0   \n",
       "1310  총범죄  교통범죄  소계    기타교통수단내      77      49      49      39      47   \n",
       "1311  총범죄  교통범죄  소계        흥행장       0       4       2       2       0   \n",
       "1312  총범죄  교통범죄  소계        유원지       9       6      11      12      14   \n",
       "1313  총범죄  교통범죄  소계         학교      20       8       9      10       9   \n",
       "1314  총범죄  교통범죄  소계       금융기관       0       2       0       2       0   \n",
       "1315  총범죄  교통범죄  소계       의료기관      23      11      11      14      16   \n",
       "1316  총범죄  교통범죄  소계       종교기관       5       1       4       2       4   \n",
       "1317  총범죄  교통범죄  소계         산야      39      26      40      49      63   \n",
       "1318  총범죄  교통범죄  소계         해상     228     179     114     100     118   \n",
       "1319  총범죄  교통범죄  소계         부대       1       0       1       0       2   \n",
       "1320  총범죄  교통범죄  소계       구금장소       0       0       0       0       0   \n",
       "1321  총범죄  교통범죄  소계         공지       8       6       4       3       4   \n",
       "1322  총범죄  교통범죄  소계        주차장     706     952    1593    1617    1901   \n",
       "1323  총범죄  교통범죄  소계      공중화장실       0       0       1       0       0   \n",
       "1324  총범죄  교통범죄  소계        PC방       6       0       0       0       0   \n",
       "1325  총범죄  교통범죄  소계         기타    8040   11236     881    6209    6541   \n",
       "\n",
       "       2016년   2017년   2018년   2019년   2020년   2021년   2022년  \n",
       "1292      96      80     101     104     114     105     106  \n",
       "1293      40      36      34      27      45      38      37  \n",
       "1294    3516    4881    4408    5163    4154    5327    7471  \n",
       "1295  587582  488787  401095  369771  342058  300530  230183  \n",
       "1296       1       0       1       0       0       1       0  \n",
       "1297       5       3       2       2       1       1       2  \n",
       "1298       5       3       3       6       4       4       3  \n",
       "1299       0       0       3       2       1       0       0  \n",
       "1300      39      30      32      42      29      36      48  \n",
       "1301      80      55     103      91      59      79      53  \n",
       "1302       4       4      10       5       4       7       7  \n",
       "1303       9       7       8      10      19      14      14  \n",
       "1304      83      56      73      76      63      74      76  \n",
       "1305       7       8     110      28      31       9      10  \n",
       "1306      19      33      30      18      23      21      21  \n",
       "1307       2       2       6       5       2       3       1  \n",
       "1308      16       9      11       9      39       7      10  \n",
       "1309       1       0       0       1       1       0       4  \n",
       "1310      56      51      77      91      60      63      62  \n",
       "1311       4       5       6       0       3       4       3  \n",
       "1312       5      12       8      10      13       9       6  \n",
       "1313       3       2       9      11       6       4       6  \n",
       "1314       1       0       1       0       1       1       0  \n",
       "1315      12       9      11       7      11       3       7  \n",
       "1316       0       3       4       1       3       3       1  \n",
       "1317      60      48      54      44      49      56      51  \n",
       "1318      97     103     213     125     119     132      64  \n",
       "1319       0       0       0       0       3       1       0  \n",
       "1320       0       0       0       0       0       0       0  \n",
       "1321       6       4       4       3       4       1       3  \n",
       "1322    1592    1115     797     768     826     769     692  \n",
       "1323       0       1       0       1       0       0       0  \n",
       "1324       0       0       0       0       0       0       0  \n",
       "1325    7060    5815    1157     933     980    1332    2088  "
      ]
     },
     "execution_count": 58,
     "metadata": {},
     "output_type": "execute_result"
    }
   ],
   "source": [
    "vehicle_place_df = crime_place_df[crime_place_df[\"중\"]==\"교통범죄\"]\n",
    "vehicle_place_df"
   ]
  },
  {
   "cell_type": "code",
   "execution_count": 59,
   "metadata": {},
   "outputs": [
    {
     "data": {
      "text/html": [
       "<div>\n",
       "<style scoped>\n",
       "    .dataframe tbody tr th:only-of-type {\n",
       "        vertical-align: middle;\n",
       "    }\n",
       "\n",
       "    .dataframe tbody tr th {\n",
       "        vertical-align: top;\n",
       "    }\n",
       "\n",
       "    .dataframe thead th {\n",
       "        text-align: right;\n",
       "    }\n",
       "</style>\n",
       "<table border=\"1\" class=\"dataframe\">\n",
       "  <thead>\n",
       "    <tr style=\"text-align: right;\">\n",
       "      <th></th>\n",
       "      <th>대</th>\n",
       "      <th>중</th>\n",
       "      <th>소</th>\n",
       "      <th>발생장소</th>\n",
       "      <th>년도</th>\n",
       "      <th>발생건수</th>\n",
       "    </tr>\n",
       "  </thead>\n",
       "  <tbody>\n",
       "    <tr>\n",
       "      <th>0</th>\n",
       "      <td>총범죄</td>\n",
       "      <td>교통범죄</td>\n",
       "      <td>소계</td>\n",
       "      <td>아파트 연립다세대</td>\n",
       "      <td>2011년</td>\n",
       "      <td>134</td>\n",
       "    </tr>\n",
       "    <tr>\n",
       "      <th>1</th>\n",
       "      <td>총범죄</td>\n",
       "      <td>교통범죄</td>\n",
       "      <td>소계</td>\n",
       "      <td>단독주택</td>\n",
       "      <td>2011년</td>\n",
       "      <td>40</td>\n",
       "    </tr>\n",
       "    <tr>\n",
       "      <th>2</th>\n",
       "      <td>총범죄</td>\n",
       "      <td>교통범죄</td>\n",
       "      <td>소계</td>\n",
       "      <td>고속도로</td>\n",
       "      <td>2011년</td>\n",
       "      <td>2133</td>\n",
       "    </tr>\n",
       "    <tr>\n",
       "      <th>3</th>\n",
       "      <td>총범죄</td>\n",
       "      <td>교통범죄</td>\n",
       "      <td>소계</td>\n",
       "      <td>노상</td>\n",
       "      <td>2011년</td>\n",
       "      <td>524351</td>\n",
       "    </tr>\n",
       "    <tr>\n",
       "      <th>4</th>\n",
       "      <td>총범죄</td>\n",
       "      <td>교통범죄</td>\n",
       "      <td>소계</td>\n",
       "      <td>백화점</td>\n",
       "      <td>2011년</td>\n",
       "      <td>0</td>\n",
       "    </tr>\n",
       "    <tr>\n",
       "      <th>...</th>\n",
       "      <td>...</td>\n",
       "      <td>...</td>\n",
       "      <td>...</td>\n",
       "      <td>...</td>\n",
       "      <td>...</td>\n",
       "      <td>...</td>\n",
       "    </tr>\n",
       "    <tr>\n",
       "      <th>403</th>\n",
       "      <td>총범죄</td>\n",
       "      <td>교통범죄</td>\n",
       "      <td>소계</td>\n",
       "      <td>공지</td>\n",
       "      <td>2022년</td>\n",
       "      <td>3</td>\n",
       "    </tr>\n",
       "    <tr>\n",
       "      <th>404</th>\n",
       "      <td>총범죄</td>\n",
       "      <td>교통범죄</td>\n",
       "      <td>소계</td>\n",
       "      <td>주차장</td>\n",
       "      <td>2022년</td>\n",
       "      <td>692</td>\n",
       "    </tr>\n",
       "    <tr>\n",
       "      <th>405</th>\n",
       "      <td>총범죄</td>\n",
       "      <td>교통범죄</td>\n",
       "      <td>소계</td>\n",
       "      <td>공중화장실</td>\n",
       "      <td>2022년</td>\n",
       "      <td>0</td>\n",
       "    </tr>\n",
       "    <tr>\n",
       "      <th>406</th>\n",
       "      <td>총범죄</td>\n",
       "      <td>교통범죄</td>\n",
       "      <td>소계</td>\n",
       "      <td>PC방</td>\n",
       "      <td>2022년</td>\n",
       "      <td>0</td>\n",
       "    </tr>\n",
       "    <tr>\n",
       "      <th>407</th>\n",
       "      <td>총범죄</td>\n",
       "      <td>교통범죄</td>\n",
       "      <td>소계</td>\n",
       "      <td>기타</td>\n",
       "      <td>2022년</td>\n",
       "      <td>2088</td>\n",
       "    </tr>\n",
       "  </tbody>\n",
       "</table>\n",
       "<p>408 rows × 6 columns</p>\n",
       "</div>"
      ],
      "text/plain": [
       "       대     중   소       발생장소     년도    발생건수\n",
       "0    총범죄  교통범죄  소계  아파트 연립다세대  2011년     134\n",
       "1    총범죄  교통범죄  소계       단독주택  2011년      40\n",
       "2    총범죄  교통범죄  소계       고속도로  2011년    2133\n",
       "3    총범죄  교통범죄  소계         노상  2011년  524351\n",
       "4    총범죄  교통범죄  소계        백화점  2011년       0\n",
       "..   ...   ...  ..        ...    ...     ...\n",
       "403  총범죄  교통범죄  소계         공지  2022년       3\n",
       "404  총범죄  교통범죄  소계        주차장  2022년     692\n",
       "405  총범죄  교통범죄  소계      공중화장실  2022년       0\n",
       "406  총범죄  교통범죄  소계        PC방  2022년       0\n",
       "407  총범죄  교통범죄  소계         기타  2022년    2088\n",
       "\n",
       "[408 rows x 6 columns]"
      ]
     },
     "execution_count": 59,
     "metadata": {},
     "output_type": "execute_result"
    }
   ],
   "source": [
    "vehicle_place_df = vehicle_place_df.melt(id_vars=[\"대\", \"중\", \"소\", \"발생장소\"], var_name=\"년도\", value_name=\"발생건수\")\n",
    "vehicle_place_df"
   ]
  },
  {
   "cell_type": "code",
   "execution_count": 60,
   "metadata": {},
   "outputs": [
    {
     "data": {
      "text/html": [
       "<div>\n",
       "<style scoped>\n",
       "    .dataframe tbody tr th:only-of-type {\n",
       "        vertical-align: middle;\n",
       "    }\n",
       "\n",
       "    .dataframe tbody tr th {\n",
       "        vertical-align: top;\n",
       "    }\n",
       "\n",
       "    .dataframe thead th {\n",
       "        text-align: right;\n",
       "    }\n",
       "</style>\n",
       "<table border=\"1\" class=\"dataframe\">\n",
       "  <thead>\n",
       "    <tr style=\"text-align: right;\">\n",
       "      <th></th>\n",
       "      <th>대</th>\n",
       "      <th>중</th>\n",
       "      <th>소</th>\n",
       "      <th>발생장소</th>\n",
       "      <th>년도</th>\n",
       "      <th>발생건수</th>\n",
       "    </tr>\n",
       "  </thead>\n",
       "  <tbody>\n",
       "    <tr>\n",
       "      <th>170</th>\n",
       "      <td>총범죄</td>\n",
       "      <td>교통범죄</td>\n",
       "      <td>소계</td>\n",
       "      <td>아파트 연립다세대</td>\n",
       "      <td>2016년</td>\n",
       "      <td>96</td>\n",
       "    </tr>\n",
       "    <tr>\n",
       "      <th>171</th>\n",
       "      <td>총범죄</td>\n",
       "      <td>교통범죄</td>\n",
       "      <td>소계</td>\n",
       "      <td>단독주택</td>\n",
       "      <td>2016년</td>\n",
       "      <td>40</td>\n",
       "    </tr>\n",
       "    <tr>\n",
       "      <th>172</th>\n",
       "      <td>총범죄</td>\n",
       "      <td>교통범죄</td>\n",
       "      <td>소계</td>\n",
       "      <td>고속도로</td>\n",
       "      <td>2016년</td>\n",
       "      <td>3516</td>\n",
       "    </tr>\n",
       "    <tr>\n",
       "      <th>173</th>\n",
       "      <td>총범죄</td>\n",
       "      <td>교통범죄</td>\n",
       "      <td>소계</td>\n",
       "      <td>노상</td>\n",
       "      <td>2016년</td>\n",
       "      <td>587582</td>\n",
       "    </tr>\n",
       "    <tr>\n",
       "      <th>174</th>\n",
       "      <td>총범죄</td>\n",
       "      <td>교통범죄</td>\n",
       "      <td>소계</td>\n",
       "      <td>백화점</td>\n",
       "      <td>2016년</td>\n",
       "      <td>1</td>\n",
       "    </tr>\n",
       "    <tr>\n",
       "      <th>...</th>\n",
       "      <td>...</td>\n",
       "      <td>...</td>\n",
       "      <td>...</td>\n",
       "      <td>...</td>\n",
       "      <td>...</td>\n",
       "      <td>...</td>\n",
       "    </tr>\n",
       "    <tr>\n",
       "      <th>403</th>\n",
       "      <td>총범죄</td>\n",
       "      <td>교통범죄</td>\n",
       "      <td>소계</td>\n",
       "      <td>공지</td>\n",
       "      <td>2022년</td>\n",
       "      <td>3</td>\n",
       "    </tr>\n",
       "    <tr>\n",
       "      <th>404</th>\n",
       "      <td>총범죄</td>\n",
       "      <td>교통범죄</td>\n",
       "      <td>소계</td>\n",
       "      <td>주차장</td>\n",
       "      <td>2022년</td>\n",
       "      <td>692</td>\n",
       "    </tr>\n",
       "    <tr>\n",
       "      <th>405</th>\n",
       "      <td>총범죄</td>\n",
       "      <td>교통범죄</td>\n",
       "      <td>소계</td>\n",
       "      <td>공중화장실</td>\n",
       "      <td>2022년</td>\n",
       "      <td>0</td>\n",
       "    </tr>\n",
       "    <tr>\n",
       "      <th>406</th>\n",
       "      <td>총범죄</td>\n",
       "      <td>교통범죄</td>\n",
       "      <td>소계</td>\n",
       "      <td>PC방</td>\n",
       "      <td>2022년</td>\n",
       "      <td>0</td>\n",
       "    </tr>\n",
       "    <tr>\n",
       "      <th>407</th>\n",
       "      <td>총범죄</td>\n",
       "      <td>교통범죄</td>\n",
       "      <td>소계</td>\n",
       "      <td>기타</td>\n",
       "      <td>2022년</td>\n",
       "      <td>2088</td>\n",
       "    </tr>\n",
       "  </tbody>\n",
       "</table>\n",
       "<p>238 rows × 6 columns</p>\n",
       "</div>"
      ],
      "text/plain": [
       "       대     중   소       발생장소     년도    발생건수\n",
       "170  총범죄  교통범죄  소계  아파트 연립다세대  2016년      96\n",
       "171  총범죄  교통범죄  소계       단독주택  2016년      40\n",
       "172  총범죄  교통범죄  소계       고속도로  2016년    3516\n",
       "173  총범죄  교통범죄  소계         노상  2016년  587582\n",
       "174  총범죄  교통범죄  소계        백화점  2016년       1\n",
       "..   ...   ...  ..        ...    ...     ...\n",
       "403  총범죄  교통범죄  소계         공지  2022년       3\n",
       "404  총범죄  교통범죄  소계        주차장  2022년     692\n",
       "405  총범죄  교통범죄  소계      공중화장실  2022년       0\n",
       "406  총범죄  교통범죄  소계        PC방  2022년       0\n",
       "407  총범죄  교통범죄  소계         기타  2022년    2088\n",
       "\n",
       "[238 rows x 6 columns]"
      ]
     },
     "execution_count": 60,
     "metadata": {},
     "output_type": "execute_result"
    }
   ],
   "source": [
    "vehicle_place_df = vehicle_place_df[( vehicle_place_df[\"년도\"] == \"2016년\" ) | ( vehicle_place_df[\"년도\"] == \"2017년\" ) | ( vehicle_place_df[\"년도\"] == \"2018년\" ) | ( vehicle_place_df[\"년도\"] == \"2019년\" )| ( vehicle_place_df[\"년도\"] == \"2020년\" )| ( vehicle_place_df[\"년도\"] == \"2021년\" )| ( vehicle_place_df[\"년도\"] == \"2022년\" ) ]\n",
    "vehicle_place_df"
   ]
  },
  {
   "cell_type": "code",
   "execution_count": 62,
   "metadata": {},
   "outputs": [
    {
     "data": {
      "application/vnd.plotly.v1+json": {
       "config": {
        "plotlyServerURL": "https://plot.ly"
       },
       "data": [
        {
         "hovertemplate": "발생장소=아파트 연립다세대<br>년도=%{x}<br>발생건수=%{y}<extra></extra>",
         "legendgroup": "아파트 연립다세대",
         "line": {
          "color": "#636efa",
          "dash": "solid"
         },
         "marker": {
          "symbol": "circle"
         },
         "mode": "lines+markers",
         "name": "아파트 연립다세대",
         "orientation": "v",
         "showlegend": true,
         "type": "scatter",
         "x": [
          "2016년",
          "2017년",
          "2018년",
          "2019년",
          "2020년",
          "2021년",
          "2022년"
         ],
         "xaxis": "x",
         "y": [
          96,
          80,
          101,
          104,
          114,
          105,
          106
         ],
         "yaxis": "y"
        },
        {
         "hovertemplate": "발생장소=단독주택<br>년도=%{x}<br>발생건수=%{y}<extra></extra>",
         "legendgroup": "단독주택",
         "line": {
          "color": "#EF553B",
          "dash": "solid"
         },
         "marker": {
          "symbol": "circle"
         },
         "mode": "lines+markers",
         "name": "단독주택",
         "orientation": "v",
         "showlegend": true,
         "type": "scatter",
         "x": [
          "2016년",
          "2017년",
          "2018년",
          "2019년",
          "2020년",
          "2021년",
          "2022년"
         ],
         "xaxis": "x",
         "y": [
          40,
          36,
          34,
          27,
          45,
          38,
          37
         ],
         "yaxis": "y"
        },
        {
         "hovertemplate": "발생장소=고속도로<br>년도=%{x}<br>발생건수=%{y}<extra></extra>",
         "legendgroup": "고속도로",
         "line": {
          "color": "#00cc96",
          "dash": "solid"
         },
         "marker": {
          "symbol": "circle"
         },
         "mode": "lines+markers",
         "name": "고속도로",
         "orientation": "v",
         "showlegend": true,
         "type": "scatter",
         "x": [
          "2016년",
          "2017년",
          "2018년",
          "2019년",
          "2020년",
          "2021년",
          "2022년"
         ],
         "xaxis": "x",
         "y": [
          3516,
          4881,
          4408,
          5163,
          4154,
          5327,
          7471
         ],
         "yaxis": "y"
        },
        {
         "hovertemplate": "발생장소=노상<br>년도=%{x}<br>발생건수=%{y}<extra></extra>",
         "legendgroup": "노상",
         "line": {
          "color": "#ab63fa",
          "dash": "solid"
         },
         "marker": {
          "symbol": "circle"
         },
         "mode": "lines+markers",
         "name": "노상",
         "orientation": "v",
         "showlegend": true,
         "type": "scatter",
         "x": [
          "2016년",
          "2017년",
          "2018년",
          "2019년",
          "2020년",
          "2021년",
          "2022년"
         ],
         "xaxis": "x",
         "y": [
          587582,
          488787,
          401095,
          369771,
          342058,
          300530,
          230183
         ],
         "yaxis": "y"
        },
        {
         "hovertemplate": "발생장소=백화점<br>년도=%{x}<br>발생건수=%{y}<extra></extra>",
         "legendgroup": "백화점",
         "line": {
          "color": "#FFA15A",
          "dash": "solid"
         },
         "marker": {
          "symbol": "circle"
         },
         "mode": "lines+markers",
         "name": "백화점",
         "orientation": "v",
         "showlegend": true,
         "type": "scatter",
         "x": [
          "2016년",
          "2017년",
          "2018년",
          "2019년",
          "2020년",
          "2021년",
          "2022년"
         ],
         "xaxis": "x",
         "y": [
          1,
          0,
          1,
          0,
          0,
          1,
          0
         ],
         "yaxis": "y"
        },
        {
         "hovertemplate": "발생장소=슈퍼마켓<br>년도=%{x}<br>발생건수=%{y}<extra></extra>",
         "legendgroup": "슈퍼마켓",
         "line": {
          "color": "#19d3f3",
          "dash": "solid"
         },
         "marker": {
          "symbol": "circle"
         },
         "mode": "lines+markers",
         "name": "슈퍼마켓",
         "orientation": "v",
         "showlegend": true,
         "type": "scatter",
         "x": [
          "2016년",
          "2017년",
          "2018년",
          "2019년",
          "2020년",
          "2021년",
          "2022년"
         ],
         "xaxis": "x",
         "y": [
          5,
          3,
          2,
          2,
          1,
          1,
          2
         ],
         "yaxis": "y"
        },
        {
         "hovertemplate": "발생장소=편의점<br>년도=%{x}<br>발생건수=%{y}<extra></extra>",
         "legendgroup": "편의점",
         "line": {
          "color": "#FF6692",
          "dash": "solid"
         },
         "marker": {
          "symbol": "circle"
         },
         "mode": "lines+markers",
         "name": "편의점",
         "orientation": "v",
         "showlegend": true,
         "type": "scatter",
         "x": [
          "2016년",
          "2017년",
          "2018년",
          "2019년",
          "2020년",
          "2021년",
          "2022년"
         ],
         "xaxis": "x",
         "y": [
          5,
          3,
          3,
          6,
          4,
          4,
          3
         ],
         "yaxis": "y"
        },
        {
         "hovertemplate": "발생장소=대형할인매장<br>년도=%{x}<br>발생건수=%{y}<extra></extra>",
         "legendgroup": "대형할인매장",
         "line": {
          "color": "#B6E880",
          "dash": "solid"
         },
         "marker": {
          "symbol": "circle"
         },
         "mode": "lines+markers",
         "name": "대형할인매장",
         "orientation": "v",
         "showlegend": true,
         "type": "scatter",
         "x": [
          "2016년",
          "2017년",
          "2018년",
          "2019년",
          "2020년",
          "2021년",
          "2022년"
         ],
         "xaxis": "x",
         "y": [
          0,
          0,
          3,
          2,
          1,
          0,
          0
         ],
         "yaxis": "y"
        },
        {
         "hovertemplate": "발생장소=상점<br>년도=%{x}<br>발생건수=%{y}<extra></extra>",
         "legendgroup": "상점",
         "line": {
          "color": "#FF97FF",
          "dash": "solid"
         },
         "marker": {
          "symbol": "circle"
         },
         "mode": "lines+markers",
         "name": "상점",
         "orientation": "v",
         "showlegend": true,
         "type": "scatter",
         "x": [
          "2016년",
          "2017년",
          "2018년",
          "2019년",
          "2020년",
          "2021년",
          "2022년"
         ],
         "xaxis": "x",
         "y": [
          39,
          30,
          32,
          42,
          29,
          36,
          48
         ],
         "yaxis": "y"
        },
        {
         "hovertemplate": "발생장소=시장노점<br>년도=%{x}<br>발생건수=%{y}<extra></extra>",
         "legendgroup": "시장노점",
         "line": {
          "color": "#FECB52",
          "dash": "solid"
         },
         "marker": {
          "symbol": "circle"
         },
         "mode": "lines+markers",
         "name": "시장노점",
         "orientation": "v",
         "showlegend": true,
         "type": "scatter",
         "x": [
          "2016년",
          "2017년",
          "2018년",
          "2019년",
          "2020년",
          "2021년",
          "2022년"
         ],
         "xaxis": "x",
         "y": [
          80,
          55,
          103,
          91,
          59,
          79,
          53
         ],
         "yaxis": "y"
        },
        {
         "hovertemplate": "발생장소=숙박업소 목욕탕<br>년도=%{x}<br>발생건수=%{y}<extra></extra>",
         "legendgroup": "숙박업소 목욕탕",
         "line": {
          "color": "#636efa",
          "dash": "solid"
         },
         "marker": {
          "symbol": "circle"
         },
         "mode": "lines+markers",
         "name": "숙박업소 목욕탕",
         "orientation": "v",
         "showlegend": true,
         "type": "scatter",
         "x": [
          "2016년",
          "2017년",
          "2018년",
          "2019년",
          "2020년",
          "2021년",
          "2022년"
         ],
         "xaxis": "x",
         "y": [
          4,
          4,
          10,
          5,
          4,
          7,
          7
         ],
         "yaxis": "y"
        },
        {
         "hovertemplate": "발생장소=유흥접객업소<br>년도=%{x}<br>발생건수=%{y}<extra></extra>",
         "legendgroup": "유흥접객업소",
         "line": {
          "color": "#EF553B",
          "dash": "solid"
         },
         "marker": {
          "symbol": "circle"
         },
         "mode": "lines+markers",
         "name": "유흥접객업소",
         "orientation": "v",
         "showlegend": true,
         "type": "scatter",
         "x": [
          "2016년",
          "2017년",
          "2018년",
          "2019년",
          "2020년",
          "2021년",
          "2022년"
         ],
         "xaxis": "x",
         "y": [
          9,
          7,
          8,
          10,
          19,
          14,
          14
         ],
         "yaxis": "y"
        },
        {
         "hovertemplate": "발생장소=사무실<br>년도=%{x}<br>발생건수=%{y}<extra></extra>",
         "legendgroup": "사무실",
         "line": {
          "color": "#00cc96",
          "dash": "solid"
         },
         "marker": {
          "symbol": "circle"
         },
         "mode": "lines+markers",
         "name": "사무실",
         "orientation": "v",
         "showlegend": true,
         "type": "scatter",
         "x": [
          "2016년",
          "2017년",
          "2018년",
          "2019년",
          "2020년",
          "2021년",
          "2022년"
         ],
         "xaxis": "x",
         "y": [
          83,
          56,
          73,
          76,
          63,
          74,
          76
         ],
         "yaxis": "y"
        },
        {
         "hovertemplate": "발생장소=공장<br>년도=%{x}<br>발생건수=%{y}<extra></extra>",
         "legendgroup": "공장",
         "line": {
          "color": "#ab63fa",
          "dash": "solid"
         },
         "marker": {
          "symbol": "circle"
         },
         "mode": "lines+markers",
         "name": "공장",
         "orientation": "v",
         "showlegend": true,
         "type": "scatter",
         "x": [
          "2016년",
          "2017년",
          "2018년",
          "2019년",
          "2020년",
          "2021년",
          "2022년"
         ],
         "xaxis": "x",
         "y": [
          7,
          8,
          110,
          28,
          31,
          9,
          10
         ],
         "yaxis": "y"
        },
        {
         "hovertemplate": "발생장소=공사장광산<br>년도=%{x}<br>발생건수=%{y}<extra></extra>",
         "legendgroup": "공사장광산",
         "line": {
          "color": "#FFA15A",
          "dash": "solid"
         },
         "marker": {
          "symbol": "circle"
         },
         "mode": "lines+markers",
         "name": "공사장광산",
         "orientation": "v",
         "showlegend": true,
         "type": "scatter",
         "x": [
          "2016년",
          "2017년",
          "2018년",
          "2019년",
          "2020년",
          "2021년",
          "2022년"
         ],
         "xaxis": "x",
         "y": [
          19,
          33,
          30,
          18,
          23,
          21,
          21
         ],
         "yaxis": "y"
        },
        {
         "hovertemplate": "발생장소=창고<br>년도=%{x}<br>발생건수=%{y}<extra></extra>",
         "legendgroup": "창고",
         "line": {
          "color": "#19d3f3",
          "dash": "solid"
         },
         "marker": {
          "symbol": "circle"
         },
         "mode": "lines+markers",
         "name": "창고",
         "orientation": "v",
         "showlegend": true,
         "type": "scatter",
         "x": [
          "2016년",
          "2017년",
          "2018년",
          "2019년",
          "2020년",
          "2021년",
          "2022년"
         ],
         "xaxis": "x",
         "y": [
          2,
          2,
          6,
          5,
          2,
          3,
          1
         ],
         "yaxis": "y"
        },
        {
         "hovertemplate": "발생장소=역대합실<br>년도=%{x}<br>발생건수=%{y}<extra></extra>",
         "legendgroup": "역대합실",
         "line": {
          "color": "#FF6692",
          "dash": "solid"
         },
         "marker": {
          "symbol": "circle"
         },
         "mode": "lines+markers",
         "name": "역대합실",
         "orientation": "v",
         "showlegend": true,
         "type": "scatter",
         "x": [
          "2016년",
          "2017년",
          "2018년",
          "2019년",
          "2020년",
          "2021년",
          "2022년"
         ],
         "xaxis": "x",
         "y": [
          16,
          9,
          11,
          9,
          39,
          7,
          10
         ],
         "yaxis": "y"
        },
        {
         "hovertemplate": "발생장소=지하철<br>년도=%{x}<br>발생건수=%{y}<extra></extra>",
         "legendgroup": "지하철",
         "line": {
          "color": "#B6E880",
          "dash": "solid"
         },
         "marker": {
          "symbol": "circle"
         },
         "mode": "lines+markers",
         "name": "지하철",
         "orientation": "v",
         "showlegend": true,
         "type": "scatter",
         "x": [
          "2016년",
          "2017년",
          "2018년",
          "2019년",
          "2020년",
          "2021년",
          "2022년"
         ],
         "xaxis": "x",
         "y": [
          1,
          0,
          0,
          1,
          1,
          0,
          4
         ],
         "yaxis": "y"
        },
        {
         "hovertemplate": "발생장소=기타교통수단내<br>년도=%{x}<br>발생건수=%{y}<extra></extra>",
         "legendgroup": "기타교통수단내",
         "line": {
          "color": "#FF97FF",
          "dash": "solid"
         },
         "marker": {
          "symbol": "circle"
         },
         "mode": "lines+markers",
         "name": "기타교통수단내",
         "orientation": "v",
         "showlegend": true,
         "type": "scatter",
         "x": [
          "2016년",
          "2017년",
          "2018년",
          "2019년",
          "2020년",
          "2021년",
          "2022년"
         ],
         "xaxis": "x",
         "y": [
          56,
          51,
          77,
          91,
          60,
          63,
          62
         ],
         "yaxis": "y"
        },
        {
         "hovertemplate": "발생장소=흥행장<br>년도=%{x}<br>발생건수=%{y}<extra></extra>",
         "legendgroup": "흥행장",
         "line": {
          "color": "#FECB52",
          "dash": "solid"
         },
         "marker": {
          "symbol": "circle"
         },
         "mode": "lines+markers",
         "name": "흥행장",
         "orientation": "v",
         "showlegend": true,
         "type": "scatter",
         "x": [
          "2016년",
          "2017년",
          "2018년",
          "2019년",
          "2020년",
          "2021년",
          "2022년"
         ],
         "xaxis": "x",
         "y": [
          4,
          5,
          6,
          0,
          3,
          4,
          3
         ],
         "yaxis": "y"
        },
        {
         "hovertemplate": "발생장소=유원지<br>년도=%{x}<br>발생건수=%{y}<extra></extra>",
         "legendgroup": "유원지",
         "line": {
          "color": "#636efa",
          "dash": "solid"
         },
         "marker": {
          "symbol": "circle"
         },
         "mode": "lines+markers",
         "name": "유원지",
         "orientation": "v",
         "showlegend": true,
         "type": "scatter",
         "x": [
          "2016년",
          "2017년",
          "2018년",
          "2019년",
          "2020년",
          "2021년",
          "2022년"
         ],
         "xaxis": "x",
         "y": [
          5,
          12,
          8,
          10,
          13,
          9,
          6
         ],
         "yaxis": "y"
        },
        {
         "hovertemplate": "발생장소=학교<br>년도=%{x}<br>발생건수=%{y}<extra></extra>",
         "legendgroup": "학교",
         "line": {
          "color": "#EF553B",
          "dash": "solid"
         },
         "marker": {
          "symbol": "circle"
         },
         "mode": "lines+markers",
         "name": "학교",
         "orientation": "v",
         "showlegend": true,
         "type": "scatter",
         "x": [
          "2016년",
          "2017년",
          "2018년",
          "2019년",
          "2020년",
          "2021년",
          "2022년"
         ],
         "xaxis": "x",
         "y": [
          3,
          2,
          9,
          11,
          6,
          4,
          6
         ],
         "yaxis": "y"
        },
        {
         "hovertemplate": "발생장소=금융기관<br>년도=%{x}<br>발생건수=%{y}<extra></extra>",
         "legendgroup": "금융기관",
         "line": {
          "color": "#00cc96",
          "dash": "solid"
         },
         "marker": {
          "symbol": "circle"
         },
         "mode": "lines+markers",
         "name": "금융기관",
         "orientation": "v",
         "showlegend": true,
         "type": "scatter",
         "x": [
          "2016년",
          "2017년",
          "2018년",
          "2019년",
          "2020년",
          "2021년",
          "2022년"
         ],
         "xaxis": "x",
         "y": [
          1,
          0,
          1,
          0,
          1,
          1,
          0
         ],
         "yaxis": "y"
        },
        {
         "hovertemplate": "발생장소=의료기관<br>년도=%{x}<br>발생건수=%{y}<extra></extra>",
         "legendgroup": "의료기관",
         "line": {
          "color": "#ab63fa",
          "dash": "solid"
         },
         "marker": {
          "symbol": "circle"
         },
         "mode": "lines+markers",
         "name": "의료기관",
         "orientation": "v",
         "showlegend": true,
         "type": "scatter",
         "x": [
          "2016년",
          "2017년",
          "2018년",
          "2019년",
          "2020년",
          "2021년",
          "2022년"
         ],
         "xaxis": "x",
         "y": [
          12,
          9,
          11,
          7,
          11,
          3,
          7
         ],
         "yaxis": "y"
        },
        {
         "hovertemplate": "발생장소=종교기관<br>년도=%{x}<br>발생건수=%{y}<extra></extra>",
         "legendgroup": "종교기관",
         "line": {
          "color": "#FFA15A",
          "dash": "solid"
         },
         "marker": {
          "symbol": "circle"
         },
         "mode": "lines+markers",
         "name": "종교기관",
         "orientation": "v",
         "showlegend": true,
         "type": "scatter",
         "x": [
          "2016년",
          "2017년",
          "2018년",
          "2019년",
          "2020년",
          "2021년",
          "2022년"
         ],
         "xaxis": "x",
         "y": [
          0,
          3,
          4,
          1,
          3,
          3,
          1
         ],
         "yaxis": "y"
        },
        {
         "hovertemplate": "발생장소=산야<br>년도=%{x}<br>발생건수=%{y}<extra></extra>",
         "legendgroup": "산야",
         "line": {
          "color": "#19d3f3",
          "dash": "solid"
         },
         "marker": {
          "symbol": "circle"
         },
         "mode": "lines+markers",
         "name": "산야",
         "orientation": "v",
         "showlegend": true,
         "type": "scatter",
         "x": [
          "2016년",
          "2017년",
          "2018년",
          "2019년",
          "2020년",
          "2021년",
          "2022년"
         ],
         "xaxis": "x",
         "y": [
          60,
          48,
          54,
          44,
          49,
          56,
          51
         ],
         "yaxis": "y"
        },
        {
         "hovertemplate": "발생장소=해상<br>년도=%{x}<br>발생건수=%{y}<extra></extra>",
         "legendgroup": "해상",
         "line": {
          "color": "#FF6692",
          "dash": "solid"
         },
         "marker": {
          "symbol": "circle"
         },
         "mode": "lines+markers",
         "name": "해상",
         "orientation": "v",
         "showlegend": true,
         "type": "scatter",
         "x": [
          "2016년",
          "2017년",
          "2018년",
          "2019년",
          "2020년",
          "2021년",
          "2022년"
         ],
         "xaxis": "x",
         "y": [
          97,
          103,
          213,
          125,
          119,
          132,
          64
         ],
         "yaxis": "y"
        },
        {
         "hovertemplate": "발생장소=부대<br>년도=%{x}<br>발생건수=%{y}<extra></extra>",
         "legendgroup": "부대",
         "line": {
          "color": "#B6E880",
          "dash": "solid"
         },
         "marker": {
          "symbol": "circle"
         },
         "mode": "lines+markers",
         "name": "부대",
         "orientation": "v",
         "showlegend": true,
         "type": "scatter",
         "x": [
          "2016년",
          "2017년",
          "2018년",
          "2019년",
          "2020년",
          "2021년",
          "2022년"
         ],
         "xaxis": "x",
         "y": [
          0,
          0,
          0,
          0,
          3,
          1,
          0
         ],
         "yaxis": "y"
        },
        {
         "hovertemplate": "발생장소=구금장소<br>년도=%{x}<br>발생건수=%{y}<extra></extra>",
         "legendgroup": "구금장소",
         "line": {
          "color": "#FF97FF",
          "dash": "solid"
         },
         "marker": {
          "symbol": "circle"
         },
         "mode": "lines+markers",
         "name": "구금장소",
         "orientation": "v",
         "showlegend": true,
         "type": "scatter",
         "x": [
          "2016년",
          "2017년",
          "2018년",
          "2019년",
          "2020년",
          "2021년",
          "2022년"
         ],
         "xaxis": "x",
         "y": [
          0,
          0,
          0,
          0,
          0,
          0,
          0
         ],
         "yaxis": "y"
        },
        {
         "hovertemplate": "발생장소=공지<br>년도=%{x}<br>발생건수=%{y}<extra></extra>",
         "legendgroup": "공지",
         "line": {
          "color": "#FECB52",
          "dash": "solid"
         },
         "marker": {
          "symbol": "circle"
         },
         "mode": "lines+markers",
         "name": "공지",
         "orientation": "v",
         "showlegend": true,
         "type": "scatter",
         "x": [
          "2016년",
          "2017년",
          "2018년",
          "2019년",
          "2020년",
          "2021년",
          "2022년"
         ],
         "xaxis": "x",
         "y": [
          6,
          4,
          4,
          3,
          4,
          1,
          3
         ],
         "yaxis": "y"
        },
        {
         "hovertemplate": "발생장소=주차장<br>년도=%{x}<br>발생건수=%{y}<extra></extra>",
         "legendgroup": "주차장",
         "line": {
          "color": "#636efa",
          "dash": "solid"
         },
         "marker": {
          "symbol": "circle"
         },
         "mode": "lines+markers",
         "name": "주차장",
         "orientation": "v",
         "showlegend": true,
         "type": "scatter",
         "x": [
          "2016년",
          "2017년",
          "2018년",
          "2019년",
          "2020년",
          "2021년",
          "2022년"
         ],
         "xaxis": "x",
         "y": [
          1592,
          1115,
          797,
          768,
          826,
          769,
          692
         ],
         "yaxis": "y"
        },
        {
         "hovertemplate": "발생장소=공중화장실<br>년도=%{x}<br>발생건수=%{y}<extra></extra>",
         "legendgroup": "공중화장실",
         "line": {
          "color": "#EF553B",
          "dash": "solid"
         },
         "marker": {
          "symbol": "circle"
         },
         "mode": "lines+markers",
         "name": "공중화장실",
         "orientation": "v",
         "showlegend": true,
         "type": "scatter",
         "x": [
          "2016년",
          "2017년",
          "2018년",
          "2019년",
          "2020년",
          "2021년",
          "2022년"
         ],
         "xaxis": "x",
         "y": [
          0,
          1,
          0,
          1,
          0,
          0,
          0
         ],
         "yaxis": "y"
        },
        {
         "hovertemplate": "발생장소=PC방<br>년도=%{x}<br>발생건수=%{y}<extra></extra>",
         "legendgroup": "PC방",
         "line": {
          "color": "#00cc96",
          "dash": "solid"
         },
         "marker": {
          "symbol": "circle"
         },
         "mode": "lines+markers",
         "name": "PC방",
         "orientation": "v",
         "showlegend": true,
         "type": "scatter",
         "x": [
          "2016년",
          "2017년",
          "2018년",
          "2019년",
          "2020년",
          "2021년",
          "2022년"
         ],
         "xaxis": "x",
         "y": [
          0,
          0,
          0,
          0,
          0,
          0,
          0
         ],
         "yaxis": "y"
        },
        {
         "hovertemplate": "발생장소=기타<br>년도=%{x}<br>발생건수=%{y}<extra></extra>",
         "legendgroup": "기타",
         "line": {
          "color": "#ab63fa",
          "dash": "solid"
         },
         "marker": {
          "symbol": "circle"
         },
         "mode": "lines+markers",
         "name": "기타",
         "orientation": "v",
         "showlegend": true,
         "type": "scatter",
         "x": [
          "2016년",
          "2017년",
          "2018년",
          "2019년",
          "2020년",
          "2021년",
          "2022년"
         ],
         "xaxis": "x",
         "y": [
          7060,
          5815,
          1157,
          933,
          980,
          1332,
          2088
         ],
         "yaxis": "y"
        }
       ],
       "layout": {
        "legend": {
         "title": {
          "text": "발생장소"
         },
         "tracegroupgap": 0
        },
        "margin": {
         "t": 60
        },
        "template": {
         "data": {
          "bar": [
           {
            "error_x": {
             "color": "#2a3f5f"
            },
            "error_y": {
             "color": "#2a3f5f"
            },
            "marker": {
             "line": {
              "color": "#E5ECF6",
              "width": 0.5
             },
             "pattern": {
              "fillmode": "overlay",
              "size": 10,
              "solidity": 0.2
             }
            },
            "type": "bar"
           }
          ],
          "barpolar": [
           {
            "marker": {
             "line": {
              "color": "#E5ECF6",
              "width": 0.5
             },
             "pattern": {
              "fillmode": "overlay",
              "size": 10,
              "solidity": 0.2
             }
            },
            "type": "barpolar"
           }
          ],
          "carpet": [
           {
            "aaxis": {
             "endlinecolor": "#2a3f5f",
             "gridcolor": "white",
             "linecolor": "white",
             "minorgridcolor": "white",
             "startlinecolor": "#2a3f5f"
            },
            "baxis": {
             "endlinecolor": "#2a3f5f",
             "gridcolor": "white",
             "linecolor": "white",
             "minorgridcolor": "white",
             "startlinecolor": "#2a3f5f"
            },
            "type": "carpet"
           }
          ],
          "choropleth": [
           {
            "colorbar": {
             "outlinewidth": 0,
             "ticks": ""
            },
            "type": "choropleth"
           }
          ],
          "contour": [
           {
            "colorbar": {
             "outlinewidth": 0,
             "ticks": ""
            },
            "colorscale": [
             [
              0,
              "#0d0887"
             ],
             [
              0.1111111111111111,
              "#46039f"
             ],
             [
              0.2222222222222222,
              "#7201a8"
             ],
             [
              0.3333333333333333,
              "#9c179e"
             ],
             [
              0.4444444444444444,
              "#bd3786"
             ],
             [
              0.5555555555555556,
              "#d8576b"
             ],
             [
              0.6666666666666666,
              "#ed7953"
             ],
             [
              0.7777777777777778,
              "#fb9f3a"
             ],
             [
              0.8888888888888888,
              "#fdca26"
             ],
             [
              1,
              "#f0f921"
             ]
            ],
            "type": "contour"
           }
          ],
          "contourcarpet": [
           {
            "colorbar": {
             "outlinewidth": 0,
             "ticks": ""
            },
            "type": "contourcarpet"
           }
          ],
          "heatmap": [
           {
            "colorbar": {
             "outlinewidth": 0,
             "ticks": ""
            },
            "colorscale": [
             [
              0,
              "#0d0887"
             ],
             [
              0.1111111111111111,
              "#46039f"
             ],
             [
              0.2222222222222222,
              "#7201a8"
             ],
             [
              0.3333333333333333,
              "#9c179e"
             ],
             [
              0.4444444444444444,
              "#bd3786"
             ],
             [
              0.5555555555555556,
              "#d8576b"
             ],
             [
              0.6666666666666666,
              "#ed7953"
             ],
             [
              0.7777777777777778,
              "#fb9f3a"
             ],
             [
              0.8888888888888888,
              "#fdca26"
             ],
             [
              1,
              "#f0f921"
             ]
            ],
            "type": "heatmap"
           }
          ],
          "heatmapgl": [
           {
            "colorbar": {
             "outlinewidth": 0,
             "ticks": ""
            },
            "colorscale": [
             [
              0,
              "#0d0887"
             ],
             [
              0.1111111111111111,
              "#46039f"
             ],
             [
              0.2222222222222222,
              "#7201a8"
             ],
             [
              0.3333333333333333,
              "#9c179e"
             ],
             [
              0.4444444444444444,
              "#bd3786"
             ],
             [
              0.5555555555555556,
              "#d8576b"
             ],
             [
              0.6666666666666666,
              "#ed7953"
             ],
             [
              0.7777777777777778,
              "#fb9f3a"
             ],
             [
              0.8888888888888888,
              "#fdca26"
             ],
             [
              1,
              "#f0f921"
             ]
            ],
            "type": "heatmapgl"
           }
          ],
          "histogram": [
           {
            "marker": {
             "pattern": {
              "fillmode": "overlay",
              "size": 10,
              "solidity": 0.2
             }
            },
            "type": "histogram"
           }
          ],
          "histogram2d": [
           {
            "colorbar": {
             "outlinewidth": 0,
             "ticks": ""
            },
            "colorscale": [
             [
              0,
              "#0d0887"
             ],
             [
              0.1111111111111111,
              "#46039f"
             ],
             [
              0.2222222222222222,
              "#7201a8"
             ],
             [
              0.3333333333333333,
              "#9c179e"
             ],
             [
              0.4444444444444444,
              "#bd3786"
             ],
             [
              0.5555555555555556,
              "#d8576b"
             ],
             [
              0.6666666666666666,
              "#ed7953"
             ],
             [
              0.7777777777777778,
              "#fb9f3a"
             ],
             [
              0.8888888888888888,
              "#fdca26"
             ],
             [
              1,
              "#f0f921"
             ]
            ],
            "type": "histogram2d"
           }
          ],
          "histogram2dcontour": [
           {
            "colorbar": {
             "outlinewidth": 0,
             "ticks": ""
            },
            "colorscale": [
             [
              0,
              "#0d0887"
             ],
             [
              0.1111111111111111,
              "#46039f"
             ],
             [
              0.2222222222222222,
              "#7201a8"
             ],
             [
              0.3333333333333333,
              "#9c179e"
             ],
             [
              0.4444444444444444,
              "#bd3786"
             ],
             [
              0.5555555555555556,
              "#d8576b"
             ],
             [
              0.6666666666666666,
              "#ed7953"
             ],
             [
              0.7777777777777778,
              "#fb9f3a"
             ],
             [
              0.8888888888888888,
              "#fdca26"
             ],
             [
              1,
              "#f0f921"
             ]
            ],
            "type": "histogram2dcontour"
           }
          ],
          "mesh3d": [
           {
            "colorbar": {
             "outlinewidth": 0,
             "ticks": ""
            },
            "type": "mesh3d"
           }
          ],
          "parcoords": [
           {
            "line": {
             "colorbar": {
              "outlinewidth": 0,
              "ticks": ""
             }
            },
            "type": "parcoords"
           }
          ],
          "pie": [
           {
            "automargin": true,
            "type": "pie"
           }
          ],
          "scatter": [
           {
            "fillpattern": {
             "fillmode": "overlay",
             "size": 10,
             "solidity": 0.2
            },
            "type": "scatter"
           }
          ],
          "scatter3d": [
           {
            "line": {
             "colorbar": {
              "outlinewidth": 0,
              "ticks": ""
             }
            },
            "marker": {
             "colorbar": {
              "outlinewidth": 0,
              "ticks": ""
             }
            },
            "type": "scatter3d"
           }
          ],
          "scattercarpet": [
           {
            "marker": {
             "colorbar": {
              "outlinewidth": 0,
              "ticks": ""
             }
            },
            "type": "scattercarpet"
           }
          ],
          "scattergeo": [
           {
            "marker": {
             "colorbar": {
              "outlinewidth": 0,
              "ticks": ""
             }
            },
            "type": "scattergeo"
           }
          ],
          "scattergl": [
           {
            "marker": {
             "colorbar": {
              "outlinewidth": 0,
              "ticks": ""
             }
            },
            "type": "scattergl"
           }
          ],
          "scattermapbox": [
           {
            "marker": {
             "colorbar": {
              "outlinewidth": 0,
              "ticks": ""
             }
            },
            "type": "scattermapbox"
           }
          ],
          "scatterpolar": [
           {
            "marker": {
             "colorbar": {
              "outlinewidth": 0,
              "ticks": ""
             }
            },
            "type": "scatterpolar"
           }
          ],
          "scatterpolargl": [
           {
            "marker": {
             "colorbar": {
              "outlinewidth": 0,
              "ticks": ""
             }
            },
            "type": "scatterpolargl"
           }
          ],
          "scatterternary": [
           {
            "marker": {
             "colorbar": {
              "outlinewidth": 0,
              "ticks": ""
             }
            },
            "type": "scatterternary"
           }
          ],
          "surface": [
           {
            "colorbar": {
             "outlinewidth": 0,
             "ticks": ""
            },
            "colorscale": [
             [
              0,
              "#0d0887"
             ],
             [
              0.1111111111111111,
              "#46039f"
             ],
             [
              0.2222222222222222,
              "#7201a8"
             ],
             [
              0.3333333333333333,
              "#9c179e"
             ],
             [
              0.4444444444444444,
              "#bd3786"
             ],
             [
              0.5555555555555556,
              "#d8576b"
             ],
             [
              0.6666666666666666,
              "#ed7953"
             ],
             [
              0.7777777777777778,
              "#fb9f3a"
             ],
             [
              0.8888888888888888,
              "#fdca26"
             ],
             [
              1,
              "#f0f921"
             ]
            ],
            "type": "surface"
           }
          ],
          "table": [
           {
            "cells": {
             "fill": {
              "color": "#EBF0F8"
             },
             "line": {
              "color": "white"
             }
            },
            "header": {
             "fill": {
              "color": "#C8D4E3"
             },
             "line": {
              "color": "white"
             }
            },
            "type": "table"
           }
          ]
         },
         "layout": {
          "annotationdefaults": {
           "arrowcolor": "#2a3f5f",
           "arrowhead": 0,
           "arrowwidth": 1
          },
          "autotypenumbers": "strict",
          "coloraxis": {
           "colorbar": {
            "outlinewidth": 0,
            "ticks": ""
           }
          },
          "colorscale": {
           "diverging": [
            [
             0,
             "#8e0152"
            ],
            [
             0.1,
             "#c51b7d"
            ],
            [
             0.2,
             "#de77ae"
            ],
            [
             0.3,
             "#f1b6da"
            ],
            [
             0.4,
             "#fde0ef"
            ],
            [
             0.5,
             "#f7f7f7"
            ],
            [
             0.6,
             "#e6f5d0"
            ],
            [
             0.7,
             "#b8e186"
            ],
            [
             0.8,
             "#7fbc41"
            ],
            [
             0.9,
             "#4d9221"
            ],
            [
             1,
             "#276419"
            ]
           ],
           "sequential": [
            [
             0,
             "#0d0887"
            ],
            [
             0.1111111111111111,
             "#46039f"
            ],
            [
             0.2222222222222222,
             "#7201a8"
            ],
            [
             0.3333333333333333,
             "#9c179e"
            ],
            [
             0.4444444444444444,
             "#bd3786"
            ],
            [
             0.5555555555555556,
             "#d8576b"
            ],
            [
             0.6666666666666666,
             "#ed7953"
            ],
            [
             0.7777777777777778,
             "#fb9f3a"
            ],
            [
             0.8888888888888888,
             "#fdca26"
            ],
            [
             1,
             "#f0f921"
            ]
           ],
           "sequentialminus": [
            [
             0,
             "#0d0887"
            ],
            [
             0.1111111111111111,
             "#46039f"
            ],
            [
             0.2222222222222222,
             "#7201a8"
            ],
            [
             0.3333333333333333,
             "#9c179e"
            ],
            [
             0.4444444444444444,
             "#bd3786"
            ],
            [
             0.5555555555555556,
             "#d8576b"
            ],
            [
             0.6666666666666666,
             "#ed7953"
            ],
            [
             0.7777777777777778,
             "#fb9f3a"
            ],
            [
             0.8888888888888888,
             "#fdca26"
            ],
            [
             1,
             "#f0f921"
            ]
           ]
          },
          "colorway": [
           "#636efa",
           "#EF553B",
           "#00cc96",
           "#ab63fa",
           "#FFA15A",
           "#19d3f3",
           "#FF6692",
           "#B6E880",
           "#FF97FF",
           "#FECB52"
          ],
          "font": {
           "color": "#2a3f5f"
          },
          "geo": {
           "bgcolor": "white",
           "lakecolor": "white",
           "landcolor": "#E5ECF6",
           "showlakes": true,
           "showland": true,
           "subunitcolor": "white"
          },
          "hoverlabel": {
           "align": "left"
          },
          "hovermode": "closest",
          "mapbox": {
           "style": "light"
          },
          "paper_bgcolor": "white",
          "plot_bgcolor": "#E5ECF6",
          "polar": {
           "angularaxis": {
            "gridcolor": "white",
            "linecolor": "white",
            "ticks": ""
           },
           "bgcolor": "#E5ECF6",
           "radialaxis": {
            "gridcolor": "white",
            "linecolor": "white",
            "ticks": ""
           }
          },
          "scene": {
           "xaxis": {
            "backgroundcolor": "#E5ECF6",
            "gridcolor": "white",
            "gridwidth": 2,
            "linecolor": "white",
            "showbackground": true,
            "ticks": "",
            "zerolinecolor": "white"
           },
           "yaxis": {
            "backgroundcolor": "#E5ECF6",
            "gridcolor": "white",
            "gridwidth": 2,
            "linecolor": "white",
            "showbackground": true,
            "ticks": "",
            "zerolinecolor": "white"
           },
           "zaxis": {
            "backgroundcolor": "#E5ECF6",
            "gridcolor": "white",
            "gridwidth": 2,
            "linecolor": "white",
            "showbackground": true,
            "ticks": "",
            "zerolinecolor": "white"
           }
          },
          "shapedefaults": {
           "line": {
            "color": "#2a3f5f"
           }
          },
          "ternary": {
           "aaxis": {
            "gridcolor": "white",
            "linecolor": "white",
            "ticks": ""
           },
           "baxis": {
            "gridcolor": "white",
            "linecolor": "white",
            "ticks": ""
           },
           "bgcolor": "#E5ECF6",
           "caxis": {
            "gridcolor": "white",
            "linecolor": "white",
            "ticks": ""
           }
          },
          "title": {
           "x": 0.05
          },
          "xaxis": {
           "automargin": true,
           "gridcolor": "white",
           "linecolor": "white",
           "ticks": "",
           "title": {
            "standoff": 15
           },
           "zerolinecolor": "white",
           "zerolinewidth": 2
          },
          "yaxis": {
           "automargin": true,
           "gridcolor": "white",
           "linecolor": "white",
           "ticks": "",
           "title": {
            "standoff": 15
           },
           "zerolinecolor": "white",
           "zerolinewidth": 2
          }
         }
        },
        "title": {
         "font": {
          "size": 22
         },
         "text": "2016년 이후 발생장소에 따른 교통범죄 발생 건 수",
         "x": 0.5
        },
        "xaxis": {
         "anchor": "y",
         "domain": [
          0,
          1
         ],
         "tickangle": -45,
         "title": {
          "text": "년도"
         }
        },
        "yaxis": {
         "anchor": "x",
         "domain": [
          0,
          1
         ],
         "title": {
          "text": "발생건수"
         }
        }
       }
      }
     },
     "metadata": {},
     "output_type": "display_data"
    }
   ],
   "source": [
    "fig = px.line(vehicle_place_df, x=\"년도\", y=\"발생건수\", color=\"발생장소\", markers=True )\n",
    "fig.update_layout(title_text=\"2016년 이후 발생장소에 따른 교통범죄 발생 건 수\", xaxis_tickangle=-45, title_x = 0.5, title_font_size=22)\n",
    "fig.show()"
   ]
  },
  {
   "cell_type": "code",
   "execution_count": 42,
   "metadata": {},
   "outputs": [
    {
     "data": {
      "text/html": [
       "<div>\n",
       "<style scoped>\n",
       "    .dataframe tbody tr th:only-of-type {\n",
       "        vertical-align: middle;\n",
       "    }\n",
       "\n",
       "    .dataframe tbody tr th {\n",
       "        vertical-align: top;\n",
       "    }\n",
       "\n",
       "    .dataframe thead th {\n",
       "        text-align: right;\n",
       "    }\n",
       "</style>\n",
       "<table border=\"1\" class=\"dataframe\">\n",
       "  <thead>\n",
       "    <tr style=\"text-align: right;\">\n",
       "      <th></th>\n",
       "      <th>대</th>\n",
       "      <th>중</th>\n",
       "      <th>소</th>\n",
       "      <th>발생장소</th>\n",
       "      <th>2011년</th>\n",
       "      <th>2012년</th>\n",
       "      <th>2013년</th>\n",
       "      <th>2014년</th>\n",
       "      <th>2015년</th>\n",
       "      <th>2016년</th>\n",
       "      <th>2017년</th>\n",
       "      <th>2018년</th>\n",
       "      <th>2019년</th>\n",
       "      <th>2020년</th>\n",
       "      <th>2021년</th>\n",
       "      <th>2022년</th>\n",
       "    </tr>\n",
       "  </thead>\n",
       "  <tbody>\n",
       "    <tr>\n",
       "      <th>0</th>\n",
       "      <td>총범죄</td>\n",
       "      <td>소계</td>\n",
       "      <td>소계</td>\n",
       "      <td>서울</td>\n",
       "      <td>358753</td>\n",
       "      <td>360468</td>\n",
       "      <td>368876</td>\n",
       "      <td>355430</td>\n",
       "      <td>355341</td>\n",
       "      <td>341925</td>\n",
       "      <td>319046</td>\n",
       "      <td>306661</td>\n",
       "      <td>305909</td>\n",
       "      <td>290816</td>\n",
       "      <td>252289</td>\n",
       "      <td>267778</td>\n",
       "    </tr>\n",
       "    <tr>\n",
       "      <th>1</th>\n",
       "      <td>총범죄</td>\n",
       "      <td>소계</td>\n",
       "      <td>소계</td>\n",
       "      <td>부산</td>\n",
       "      <td>135399</td>\n",
       "      <td>137788</td>\n",
       "      <td>140078</td>\n",
       "      <td>135757</td>\n",
       "      <td>143713</td>\n",
       "      <td>133966</td>\n",
       "      <td>118854</td>\n",
       "      <td>115727</td>\n",
       "      <td>119267</td>\n",
       "      <td>120095</td>\n",
       "      <td>105737</td>\n",
       "      <td>112080</td>\n",
       "    </tr>\n",
       "    <tr>\n",
       "      <th>2</th>\n",
       "      <td>총범죄</td>\n",
       "      <td>소계</td>\n",
       "      <td>소계</td>\n",
       "      <td>대구</td>\n",
       "      <td>96450</td>\n",
       "      <td>97968</td>\n",
       "      <td>96254</td>\n",
       "      <td>95802</td>\n",
       "      <td>98758</td>\n",
       "      <td>86094</td>\n",
       "      <td>75024</td>\n",
       "      <td>72270</td>\n",
       "      <td>75707</td>\n",
       "      <td>72171</td>\n",
       "      <td>67795</td>\n",
       "      <td>66441</td>\n",
       "    </tr>\n",
       "    <tr>\n",
       "      <th>3</th>\n",
       "      <td>총범죄</td>\n",
       "      <td>소계</td>\n",
       "      <td>소계</td>\n",
       "      <td>인천</td>\n",
       "      <td>86641</td>\n",
       "      <td>92766</td>\n",
       "      <td>99056</td>\n",
       "      <td>96846</td>\n",
       "      <td>101931</td>\n",
       "      <td>103459</td>\n",
       "      <td>95244</td>\n",
       "      <td>88228</td>\n",
       "      <td>93347</td>\n",
       "      <td>91257</td>\n",
       "      <td>80589</td>\n",
       "      <td>84888</td>\n",
       "    </tr>\n",
       "    <tr>\n",
       "      <th>4</th>\n",
       "      <td>총범죄</td>\n",
       "      <td>소계</td>\n",
       "      <td>소계</td>\n",
       "      <td>광주</td>\n",
       "      <td>63810</td>\n",
       "      <td>67513</td>\n",
       "      <td>68034</td>\n",
       "      <td>64748</td>\n",
       "      <td>61697</td>\n",
       "      <td>54287</td>\n",
       "      <td>48205</td>\n",
       "      <td>43515</td>\n",
       "      <td>44102</td>\n",
       "      <td>43179</td>\n",
       "      <td>39203</td>\n",
       "      <td>38408</td>\n",
       "    </tr>\n",
       "  </tbody>\n",
       "</table>\n",
       "</div>"
      ],
      "text/plain": [
       "     대   중   소 발생장소   2011년   2012년   2013년   2014년   2015년   2016년   2017년  \\\n",
       "0  총범죄  소계  소계   서울  358753  360468  368876  355430  355341  341925  319046   \n",
       "1  총범죄  소계  소계   부산  135399  137788  140078  135757  143713  133966  118854   \n",
       "2  총범죄  소계  소계   대구   96450   97968   96254   95802   98758   86094   75024   \n",
       "3  총범죄  소계  소계   인천   86641   92766   99056   96846  101931  103459   95244   \n",
       "4  총범죄  소계  소계   광주   63810   67513   68034   64748   61697   54287   48205   \n",
       "\n",
       "    2018년   2019년   2020년   2021년   2022년  \n",
       "0  306661  305909  290816  252289  267778  \n",
       "1  115727  119267  120095  105737  112080  \n",
       "2   72270   75707   72171   67795   66441  \n",
       "3   88228   93347   91257   80589   84888  \n",
       "4   43515   44102   43179   39203   38408  "
      ]
     },
     "execution_count": 42,
     "metadata": {},
     "output_type": "execute_result"
    }
   ],
   "source": [
    "crime.execute(\"SELECT * FROM crime_dosi_after\")\n",
    "result = crime.fetchall()\n",
    "\n",
    "crime_dosi_df = pd.DataFrame(result)\n",
    "crime_dosi_df.head()"
   ]
  },
  {
   "cell_type": "code",
   "execution_count": 43,
   "metadata": {},
   "outputs": [
    {
     "data": {
      "text/html": [
       "<div>\n",
       "<style scoped>\n",
       "    .dataframe tbody tr th:only-of-type {\n",
       "        vertical-align: middle;\n",
       "    }\n",
       "\n",
       "    .dataframe tbody tr th {\n",
       "        vertical-align: top;\n",
       "    }\n",
       "\n",
       "    .dataframe thead th {\n",
       "        text-align: right;\n",
       "    }\n",
       "</style>\n",
       "<table border=\"1\" class=\"dataframe\">\n",
       "  <thead>\n",
       "    <tr style=\"text-align: right;\">\n",
       "      <th></th>\n",
       "      <th>대</th>\n",
       "      <th>중</th>\n",
       "      <th>소</th>\n",
       "      <th>발생장소</th>\n",
       "      <th>2011년</th>\n",
       "      <th>2012년</th>\n",
       "      <th>2013년</th>\n",
       "      <th>2014년</th>\n",
       "      <th>2015년</th>\n",
       "      <th>2016년</th>\n",
       "      <th>2017년</th>\n",
       "      <th>2018년</th>\n",
       "      <th>2019년</th>\n",
       "      <th>2020년</th>\n",
       "      <th>2021년</th>\n",
       "      <th>2022년</th>\n",
       "    </tr>\n",
       "  </thead>\n",
       "  <tbody>\n",
       "    <tr>\n",
       "      <th>935</th>\n",
       "      <td>총범죄</td>\n",
       "      <td>절도범죄</td>\n",
       "      <td>소계</td>\n",
       "      <td>서울</td>\n",
       "      <td>54310</td>\n",
       "      <td>61332</td>\n",
       "      <td>61600</td>\n",
       "      <td>59371</td>\n",
       "      <td>55280</td>\n",
       "      <td>46861</td>\n",
       "      <td>41144</td>\n",
       "      <td>39182</td>\n",
       "      <td>42224</td>\n",
       "      <td>38296</td>\n",
       "      <td>33529</td>\n",
       "      <td>37594</td>\n",
       "    </tr>\n",
       "    <tr>\n",
       "      <th>936</th>\n",
       "      <td>총범죄</td>\n",
       "      <td>절도범죄</td>\n",
       "      <td>소계</td>\n",
       "      <td>부산</td>\n",
       "      <td>24697</td>\n",
       "      <td>25494</td>\n",
       "      <td>23887</td>\n",
       "      <td>21898</td>\n",
       "      <td>20136</td>\n",
       "      <td>16777</td>\n",
       "      <td>15807</td>\n",
       "      <td>14373</td>\n",
       "      <td>14497</td>\n",
       "      <td>14189</td>\n",
       "      <td>12667</td>\n",
       "      <td>13699</td>\n",
       "    </tr>\n",
       "    <tr>\n",
       "      <th>937</th>\n",
       "      <td>총범죄</td>\n",
       "      <td>절도범죄</td>\n",
       "      <td>소계</td>\n",
       "      <td>대구</td>\n",
       "      <td>14852</td>\n",
       "      <td>16554</td>\n",
       "      <td>17481</td>\n",
       "      <td>14609</td>\n",
       "      <td>12759</td>\n",
       "      <td>9171</td>\n",
       "      <td>8310</td>\n",
       "      <td>8169</td>\n",
       "      <td>9249</td>\n",
       "      <td>8675</td>\n",
       "      <td>9306</td>\n",
       "      <td>9792</td>\n",
       "    </tr>\n",
       "    <tr>\n",
       "      <th>938</th>\n",
       "      <td>총범죄</td>\n",
       "      <td>절도범죄</td>\n",
       "      <td>소계</td>\n",
       "      <td>인천</td>\n",
       "      <td>10146</td>\n",
       "      <td>10394</td>\n",
       "      <td>10989</td>\n",
       "      <td>9737</td>\n",
       "      <td>10679</td>\n",
       "      <td>10025</td>\n",
       "      <td>9216</td>\n",
       "      <td>9473</td>\n",
       "      <td>10134</td>\n",
       "      <td>8991</td>\n",
       "      <td>8175</td>\n",
       "      <td>8895</td>\n",
       "    </tr>\n",
       "    <tr>\n",
       "      <th>939</th>\n",
       "      <td>총범죄</td>\n",
       "      <td>절도범죄</td>\n",
       "      <td>소계</td>\n",
       "      <td>광주</td>\n",
       "      <td>13373</td>\n",
       "      <td>12678</td>\n",
       "      <td>12419</td>\n",
       "      <td>10361</td>\n",
       "      <td>8438</td>\n",
       "      <td>6050</td>\n",
       "      <td>4821</td>\n",
       "      <td>4832</td>\n",
       "      <td>4922</td>\n",
       "      <td>4939</td>\n",
       "      <td>4884</td>\n",
       "      <td>5204</td>\n",
       "    </tr>\n",
       "    <tr>\n",
       "      <th>...</th>\n",
       "      <td>...</td>\n",
       "      <td>...</td>\n",
       "      <td>...</td>\n",
       "      <td>...</td>\n",
       "      <td>...</td>\n",
       "      <td>...</td>\n",
       "      <td>...</td>\n",
       "      <td>...</td>\n",
       "      <td>...</td>\n",
       "      <td>...</td>\n",
       "      <td>...</td>\n",
       "      <td>...</td>\n",
       "      <td>...</td>\n",
       "      <td>...</td>\n",
       "      <td>...</td>\n",
       "      <td>...</td>\n",
       "    </tr>\n",
       "    <tr>\n",
       "      <th>1018</th>\n",
       "      <td>총범죄</td>\n",
       "      <td>절도범죄</td>\n",
       "      <td>소계</td>\n",
       "      <td>통영시</td>\n",
       "      <td>0</td>\n",
       "      <td>0</td>\n",
       "      <td>0</td>\n",
       "      <td>0</td>\n",
       "      <td>602</td>\n",
       "      <td>551</td>\n",
       "      <td>480</td>\n",
       "      <td>412</td>\n",
       "      <td>466</td>\n",
       "      <td>478</td>\n",
       "      <td>412</td>\n",
       "      <td>387</td>\n",
       "    </tr>\n",
       "    <tr>\n",
       "      <th>1019</th>\n",
       "      <td>총범죄</td>\n",
       "      <td>절도범죄</td>\n",
       "      <td>소계</td>\n",
       "      <td>서귀포시</td>\n",
       "      <td>0</td>\n",
       "      <td>0</td>\n",
       "      <td>0</td>\n",
       "      <td>0</td>\n",
       "      <td>921</td>\n",
       "      <td>927</td>\n",
       "      <td>864</td>\n",
       "      <td>858</td>\n",
       "      <td>907</td>\n",
       "      <td>1155</td>\n",
       "      <td>860</td>\n",
       "      <td>886</td>\n",
       "    </tr>\n",
       "    <tr>\n",
       "      <th>1020</th>\n",
       "      <td>총범죄</td>\n",
       "      <td>절도범죄</td>\n",
       "      <td>소계</td>\n",
       "      <td>제주시</td>\n",
       "      <td>5405</td>\n",
       "      <td>5053</td>\n",
       "      <td>5834</td>\n",
       "      <td>4980</td>\n",
       "      <td>3309</td>\n",
       "      <td>2573</td>\n",
       "      <td>2359</td>\n",
       "      <td>2124</td>\n",
       "      <td>2325</td>\n",
       "      <td>2270</td>\n",
       "      <td>2194</td>\n",
       "      <td>2247</td>\n",
       "    </tr>\n",
       "    <tr>\n",
       "      <th>1021</th>\n",
       "      <td>총범죄</td>\n",
       "      <td>절도범죄</td>\n",
       "      <td>소계</td>\n",
       "      <td>기타도시</td>\n",
       "      <td>17440</td>\n",
       "      <td>18734</td>\n",
       "      <td>18149</td>\n",
       "      <td>17551</td>\n",
       "      <td>643</td>\n",
       "      <td>369</td>\n",
       "      <td>19</td>\n",
       "      <td>49</td>\n",
       "      <td>31</td>\n",
       "      <td>24</td>\n",
       "      <td>38</td>\n",
       "      <td>43</td>\n",
       "    </tr>\n",
       "    <tr>\n",
       "      <th>1022</th>\n",
       "      <td>총범죄</td>\n",
       "      <td>절도범죄</td>\n",
       "      <td>소계</td>\n",
       "      <td>도시이외</td>\n",
       "      <td>17298</td>\n",
       "      <td>16316</td>\n",
       "      <td>15794</td>\n",
       "      <td>13190</td>\n",
       "      <td>11754</td>\n",
       "      <td>9839</td>\n",
       "      <td>9207</td>\n",
       "      <td>8442</td>\n",
       "      <td>9419</td>\n",
       "      <td>9279</td>\n",
       "      <td>8658</td>\n",
       "      <td>9454</td>\n",
       "    </tr>\n",
       "  </tbody>\n",
       "</table>\n",
       "<p>88 rows × 16 columns</p>\n",
       "</div>"
      ],
      "text/plain": [
       "        대     중   소  발생장소  2011년  2012년  2013년  2014년  2015년  2016년  2017년  \\\n",
       "935   총범죄  절도범죄  소계    서울  54310  61332  61600  59371  55280  46861  41144   \n",
       "936   총범죄  절도범죄  소계    부산  24697  25494  23887  21898  20136  16777  15807   \n",
       "937   총범죄  절도범죄  소계    대구  14852  16554  17481  14609  12759   9171   8310   \n",
       "938   총범죄  절도범죄  소계    인천  10146  10394  10989   9737  10679  10025   9216   \n",
       "939   총범죄  절도범죄  소계    광주  13373  12678  12419  10361   8438   6050   4821   \n",
       "...   ...   ...  ..   ...    ...    ...    ...    ...    ...    ...    ...   \n",
       "1018  총범죄  절도범죄  소계   통영시      0      0      0      0    602    551    480   \n",
       "1019  총범죄  절도범죄  소계  서귀포시      0      0      0      0    921    927    864   \n",
       "1020  총범죄  절도범죄  소계   제주시   5405   5053   5834   4980   3309   2573   2359   \n",
       "1021  총범죄  절도범죄  소계  기타도시  17440  18734  18149  17551    643    369     19   \n",
       "1022  총범죄  절도범죄  소계  도시이외  17298  16316  15794  13190  11754   9839   9207   \n",
       "\n",
       "      2018년  2019년  2020년  2021년  2022년  \n",
       "935   39182  42224  38296  33529  37594  \n",
       "936   14373  14497  14189  12667  13699  \n",
       "937    8169   9249   8675   9306   9792  \n",
       "938    9473  10134   8991   8175   8895  \n",
       "939    4832   4922   4939   4884   5204  \n",
       "...     ...    ...    ...    ...    ...  \n",
       "1018    412    466    478    412    387  \n",
       "1019    858    907   1155    860    886  \n",
       "1020   2124   2325   2270   2194   2247  \n",
       "1021     49     31     24     38     43  \n",
       "1022   8442   9419   9279   8658   9454  \n",
       "\n",
       "[88 rows x 16 columns]"
      ]
     },
     "execution_count": 43,
     "metadata": {},
     "output_type": "execute_result"
    }
   ],
   "source": [
    "theft_dosi_df = crime_dosi_df[crime_dosi_df[\"중\"] == \"절도범죄\"]\n",
    "theft_dosi_df"
   ]
  },
  {
   "cell_type": "code",
   "execution_count": 44,
   "metadata": {},
   "outputs": [
    {
     "data": {
      "text/html": [
       "<div>\n",
       "<style scoped>\n",
       "    .dataframe tbody tr th:only-of-type {\n",
       "        vertical-align: middle;\n",
       "    }\n",
       "\n",
       "    .dataframe tbody tr th {\n",
       "        vertical-align: top;\n",
       "    }\n",
       "\n",
       "    .dataframe thead th {\n",
       "        text-align: right;\n",
       "    }\n",
       "</style>\n",
       "<table border=\"1\" class=\"dataframe\">\n",
       "  <thead>\n",
       "    <tr style=\"text-align: right;\">\n",
       "      <th></th>\n",
       "      <th>대</th>\n",
       "      <th>중</th>\n",
       "      <th>소</th>\n",
       "      <th>발생장소</th>\n",
       "      <th>년도</th>\n",
       "      <th>발생건수</th>\n",
       "    </tr>\n",
       "  </thead>\n",
       "  <tbody>\n",
       "    <tr>\n",
       "      <th>0</th>\n",
       "      <td>총범죄</td>\n",
       "      <td>절도범죄</td>\n",
       "      <td>소계</td>\n",
       "      <td>서울</td>\n",
       "      <td>2011년</td>\n",
       "      <td>54310</td>\n",
       "    </tr>\n",
       "    <tr>\n",
       "      <th>1</th>\n",
       "      <td>총범죄</td>\n",
       "      <td>절도범죄</td>\n",
       "      <td>소계</td>\n",
       "      <td>부산</td>\n",
       "      <td>2011년</td>\n",
       "      <td>24697</td>\n",
       "    </tr>\n",
       "    <tr>\n",
       "      <th>2</th>\n",
       "      <td>총범죄</td>\n",
       "      <td>절도범죄</td>\n",
       "      <td>소계</td>\n",
       "      <td>대구</td>\n",
       "      <td>2011년</td>\n",
       "      <td>14852</td>\n",
       "    </tr>\n",
       "    <tr>\n",
       "      <th>3</th>\n",
       "      <td>총범죄</td>\n",
       "      <td>절도범죄</td>\n",
       "      <td>소계</td>\n",
       "      <td>인천</td>\n",
       "      <td>2011년</td>\n",
       "      <td>10146</td>\n",
       "    </tr>\n",
       "    <tr>\n",
       "      <th>4</th>\n",
       "      <td>총범죄</td>\n",
       "      <td>절도범죄</td>\n",
       "      <td>소계</td>\n",
       "      <td>광주</td>\n",
       "      <td>2011년</td>\n",
       "      <td>13373</td>\n",
       "    </tr>\n",
       "    <tr>\n",
       "      <th>...</th>\n",
       "      <td>...</td>\n",
       "      <td>...</td>\n",
       "      <td>...</td>\n",
       "      <td>...</td>\n",
       "      <td>...</td>\n",
       "      <td>...</td>\n",
       "    </tr>\n",
       "    <tr>\n",
       "      <th>1051</th>\n",
       "      <td>총범죄</td>\n",
       "      <td>절도범죄</td>\n",
       "      <td>소계</td>\n",
       "      <td>통영시</td>\n",
       "      <td>2022년</td>\n",
       "      <td>387</td>\n",
       "    </tr>\n",
       "    <tr>\n",
       "      <th>1052</th>\n",
       "      <td>총범죄</td>\n",
       "      <td>절도범죄</td>\n",
       "      <td>소계</td>\n",
       "      <td>서귀포시</td>\n",
       "      <td>2022년</td>\n",
       "      <td>886</td>\n",
       "    </tr>\n",
       "    <tr>\n",
       "      <th>1053</th>\n",
       "      <td>총범죄</td>\n",
       "      <td>절도범죄</td>\n",
       "      <td>소계</td>\n",
       "      <td>제주시</td>\n",
       "      <td>2022년</td>\n",
       "      <td>2247</td>\n",
       "    </tr>\n",
       "    <tr>\n",
       "      <th>1054</th>\n",
       "      <td>총범죄</td>\n",
       "      <td>절도범죄</td>\n",
       "      <td>소계</td>\n",
       "      <td>기타도시</td>\n",
       "      <td>2022년</td>\n",
       "      <td>43</td>\n",
       "    </tr>\n",
       "    <tr>\n",
       "      <th>1055</th>\n",
       "      <td>총범죄</td>\n",
       "      <td>절도범죄</td>\n",
       "      <td>소계</td>\n",
       "      <td>도시이외</td>\n",
       "      <td>2022년</td>\n",
       "      <td>9454</td>\n",
       "    </tr>\n",
       "  </tbody>\n",
       "</table>\n",
       "<p>1056 rows × 6 columns</p>\n",
       "</div>"
      ],
      "text/plain": [
       "        대     중   소  발생장소     년도   발생건수\n",
       "0     총범죄  절도범죄  소계    서울  2011년  54310\n",
       "1     총범죄  절도범죄  소계    부산  2011년  24697\n",
       "2     총범죄  절도범죄  소계    대구  2011년  14852\n",
       "3     총범죄  절도범죄  소계    인천  2011년  10146\n",
       "4     총범죄  절도범죄  소계    광주  2011년  13373\n",
       "...   ...   ...  ..   ...    ...    ...\n",
       "1051  총범죄  절도범죄  소계   통영시  2022년    387\n",
       "1052  총범죄  절도범죄  소계  서귀포시  2022년    886\n",
       "1053  총범죄  절도범죄  소계   제주시  2022년   2247\n",
       "1054  총범죄  절도범죄  소계  기타도시  2022년     43\n",
       "1055  총범죄  절도범죄  소계  도시이외  2022년   9454\n",
       "\n",
       "[1056 rows x 6 columns]"
      ]
     },
     "execution_count": 44,
     "metadata": {},
     "output_type": "execute_result"
    }
   ],
   "source": [
    "theft_dosi_df = theft_dosi_df.melt(id_vars=[\"대\", \"중\", \"소\", \"발생장소\"], var_name=\"년도\", value_name=\"발생건수\")\n",
    "theft_dosi_df"
   ]
  },
  {
   "cell_type": "code",
   "execution_count": 46,
   "metadata": {},
   "outputs": [
    {
     "data": {
      "text/plain": [
       "array(['서울', '부산', '대구', '인천', '광주', '대전', '울산', '세종', '고양시', '과천시',\n",
       "       '광명시', '광주시', '구리시', '군포시', '김포시', '남양주시', '동두천시', '부천시', '성남시',\n",
       "       '수원시', '시흥시', '안산시', '안성시', '안양시', '양주시', '여주시', '오산시', '용인시',\n",
       "       '의왕시', '의정부시', '이천시', '파주시', '평택시', '포천시', '하남시', '화성시', '강릉시',\n",
       "       '동해시', '삼척시', '속초시', '원주시', '춘천시', '태백시', '제천시', '청주시', '충주시',\n",
       "       '계룡시', '공주시', '논산시', '당진시', '보령시', '서산시', '아산시', '천안시', '군산시',\n",
       "       '김제시', '남원시', '익산시', '전주시', '정읍시', '광양시', '나주시', '목포시', '순천시',\n",
       "       '여수시', '경산시', '경주시', '구미시', '김천시', '문경시', '상주시', '안동시', '영주시',\n",
       "       '영천시', '포항시', '거제시', '김해시', '마산시', '밀양시', '사천시', '양산시', '진주시',\n",
       "       '창원시', '통영시', '서귀포시', '제주시', '기타도시', '도시이외'], dtype=object)"
      ]
     },
     "execution_count": 46,
     "metadata": {},
     "output_type": "execute_result"
    }
   ],
   "source": [
    "theft_dosi_df[\"발생장소\"].unique()"
   ]
  },
  {
   "cell_type": "code",
   "execution_count": 69,
   "metadata": {},
   "outputs": [
    {
     "data": {
      "application/vnd.plotly.v1+json": {
       "config": {
        "plotlyServerURL": "https://plot.ly"
       },
       "data": [
        {
         "hovertemplate": "발생장소=서울<br>년도=%{x}<br>발생건수=%{y}<extra></extra>",
         "legendgroup": "서울",
         "line": {
          "color": "#636efa",
          "dash": "solid"
         },
         "marker": {
          "symbol": "circle"
         },
         "mode": "lines+markers",
         "name": "서울",
         "showlegend": true,
         "type": "scattergl",
         "x": [
          "2011년",
          "2012년",
          "2013년",
          "2014년",
          "2015년",
          "2016년",
          "2017년",
          "2018년",
          "2019년",
          "2020년",
          "2021년",
          "2022년"
         ],
         "xaxis": "x",
         "y": [
          54310,
          61332,
          61600,
          59371,
          55280,
          46861,
          41144,
          39182,
          42224,
          38296,
          33529,
          37594
         ],
         "yaxis": "y"
        },
        {
         "hovertemplate": "발생장소=부산<br>년도=%{x}<br>발생건수=%{y}<extra></extra>",
         "legendgroup": "부산",
         "line": {
          "color": "#EF553B",
          "dash": "solid"
         },
         "marker": {
          "symbol": "circle"
         },
         "mode": "lines+markers",
         "name": "부산",
         "showlegend": true,
         "type": "scattergl",
         "x": [
          "2011년",
          "2012년",
          "2013년",
          "2014년",
          "2015년",
          "2016년",
          "2017년",
          "2018년",
          "2019년",
          "2020년",
          "2021년",
          "2022년"
         ],
         "xaxis": "x",
         "y": [
          24697,
          25494,
          23887,
          21898,
          20136,
          16777,
          15807,
          14373,
          14497,
          14189,
          12667,
          13699
         ],
         "yaxis": "y"
        },
        {
         "hovertemplate": "발생장소=대구<br>년도=%{x}<br>발생건수=%{y}<extra></extra>",
         "legendgroup": "대구",
         "line": {
          "color": "#00cc96",
          "dash": "solid"
         },
         "marker": {
          "symbol": "circle"
         },
         "mode": "lines+markers",
         "name": "대구",
         "showlegend": true,
         "type": "scattergl",
         "x": [
          "2011년",
          "2012년",
          "2013년",
          "2014년",
          "2015년",
          "2016년",
          "2017년",
          "2018년",
          "2019년",
          "2020년",
          "2021년",
          "2022년"
         ],
         "xaxis": "x",
         "y": [
          14852,
          16554,
          17481,
          14609,
          12759,
          9171,
          8310,
          8169,
          9249,
          8675,
          9306,
          9792
         ],
         "yaxis": "y"
        },
        {
         "hovertemplate": "발생장소=인천<br>년도=%{x}<br>발생건수=%{y}<extra></extra>",
         "legendgroup": "인천",
         "line": {
          "color": "#ab63fa",
          "dash": "solid"
         },
         "marker": {
          "symbol": "circle"
         },
         "mode": "lines+markers",
         "name": "인천",
         "showlegend": true,
         "type": "scattergl",
         "x": [
          "2011년",
          "2012년",
          "2013년",
          "2014년",
          "2015년",
          "2016년",
          "2017년",
          "2018년",
          "2019년",
          "2020년",
          "2021년",
          "2022년"
         ],
         "xaxis": "x",
         "y": [
          10146,
          10394,
          10989,
          9737,
          10679,
          10025,
          9216,
          9473,
          10134,
          8991,
          8175,
          8895
         ],
         "yaxis": "y"
        },
        {
         "hovertemplate": "발생장소=광주<br>년도=%{x}<br>발생건수=%{y}<extra></extra>",
         "legendgroup": "광주",
         "line": {
          "color": "#FFA15A",
          "dash": "solid"
         },
         "marker": {
          "symbol": "circle"
         },
         "mode": "lines+markers",
         "name": "광주",
         "showlegend": true,
         "type": "scattergl",
         "x": [
          "2011년",
          "2012년",
          "2013년",
          "2014년",
          "2015년",
          "2016년",
          "2017년",
          "2018년",
          "2019년",
          "2020년",
          "2021년",
          "2022년"
         ],
         "xaxis": "x",
         "y": [
          13373,
          12678,
          12419,
          10361,
          8438,
          6050,
          4821,
          4832,
          4922,
          4939,
          4884,
          5204
         ],
         "yaxis": "y"
        },
        {
         "hovertemplate": "발생장소=대전<br>년도=%{x}<br>발생건수=%{y}<extra></extra>",
         "legendgroup": "대전",
         "line": {
          "color": "#19d3f3",
          "dash": "solid"
         },
         "marker": {
          "symbol": "circle"
         },
         "mode": "lines+markers",
         "name": "대전",
         "showlegend": true,
         "type": "scattergl",
         "x": [
          "2011년",
          "2012년",
          "2013년",
          "2014년",
          "2015년",
          "2016년",
          "2017년",
          "2018년",
          "2019년",
          "2020년",
          "2021년",
          "2022년"
         ],
         "xaxis": "x",
         "y": [
          12764,
          12568,
          11717,
          11453,
          9495,
          6981,
          6216,
          5540,
          5855,
          5259,
          5044,
          6034
         ],
         "yaxis": "y"
        },
        {
         "hovertemplate": "발생장소=울산<br>년도=%{x}<br>발생건수=%{y}<extra></extra>",
         "legendgroup": "울산",
         "line": {
          "color": "#FF6692",
          "dash": "solid"
         },
         "marker": {
          "symbol": "circle"
         },
         "mode": "lines+markers",
         "name": "울산",
         "showlegend": true,
         "type": "scattergl",
         "x": [
          "2011년",
          "2012년",
          "2013년",
          "2014년",
          "2015년",
          "2016년",
          "2017년",
          "2018년",
          "2019년",
          "2020년",
          "2021년",
          "2022년"
         ],
         "xaxis": "x",
         "y": [
          6764,
          6118,
          6643,
          5777,
          5449,
          4227,
          3578,
          3349,
          3215,
          3116,
          3155,
          3283
         ],
         "yaxis": "y"
        },
        {
         "hovertemplate": "발생장소=세종<br>년도=%{x}<br>발생건수=%{y}<extra></extra>",
         "legendgroup": "세종",
         "line": {
          "color": "#B6E880",
          "dash": "solid"
         },
         "marker": {
          "symbol": "circle"
         },
         "mode": "lines+markers",
         "name": "세종",
         "showlegend": true,
         "type": "scattergl",
         "x": [
          "2011년",
          "2012년",
          "2013년",
          "2014년",
          "2015년",
          "2016년",
          "2017년",
          "2018년",
          "2019년",
          "2020년",
          "2021년",
          "2022년"
         ],
         "xaxis": "x",
         "y": [
          0,
          0,
          0,
          0,
          638,
          638,
          582,
          588,
          849,
          876,
          1043,
          1110
         ],
         "yaxis": "y"
        },
        {
         "hovertemplate": "발생장소=고양시<br>년도=%{x}<br>발생건수=%{y}<extra></extra>",
         "legendgroup": "고양시",
         "line": {
          "color": "#FF97FF",
          "dash": "solid"
         },
         "marker": {
          "symbol": "circle"
         },
         "mode": "lines+markers",
         "name": "고양시",
         "showlegend": true,
         "type": "scattergl",
         "x": [
          "2011년",
          "2012년",
          "2013년",
          "2014년",
          "2015년",
          "2016년",
          "2017년",
          "2018년",
          "2019년",
          "2020년",
          "2021년",
          "2022년"
         ],
         "xaxis": "x",
         "y": [
          3654,
          3931,
          3890,
          3690,
          3287,
          2606,
          2488,
          2262,
          2399,
          2174,
          2090,
          2484
         ],
         "yaxis": "y"
        },
        {
         "hovertemplate": "발생장소=과천시<br>년도=%{x}<br>발생건수=%{y}<extra></extra>",
         "legendgroup": "과천시",
         "line": {
          "color": "#FECB52",
          "dash": "solid"
         },
         "marker": {
          "symbol": "circle"
         },
         "mode": "lines+markers",
         "name": "과천시",
         "showlegend": true,
         "type": "scattergl",
         "x": [
          "2011년",
          "2012년",
          "2013년",
          "2014년",
          "2015년",
          "2016년",
          "2017년",
          "2018년",
          "2019년",
          "2020년",
          "2021년",
          "2022년"
         ],
         "xaxis": "x",
         "y": [
          0,
          0,
          0,
          0,
          170,
          159,
          202,
          175,
          190,
          127,
          120,
          212
         ],
         "yaxis": "y"
        },
        {
         "hovertemplate": "발생장소=광명시<br>년도=%{x}<br>발생건수=%{y}<extra></extra>",
         "legendgroup": "광명시",
         "line": {
          "color": "#636efa",
          "dash": "solid"
         },
         "marker": {
          "symbol": "circle"
         },
         "mode": "lines+markers",
         "name": "광명시",
         "showlegend": true,
         "type": "scattergl",
         "x": [
          "2011년",
          "2012년",
          "2013년",
          "2014년",
          "2015년",
          "2016년",
          "2017년",
          "2018년",
          "2019년",
          "2020년",
          "2021년",
          "2022년"
         ],
         "xaxis": "x",
         "y": [
          1223,
          1471,
          1569,
          1666,
          1234,
          1221,
          1053,
          1027,
          1061,
          1093,
          938,
          932
         ],
         "yaxis": "y"
        },
        {
         "hovertemplate": "발생장소=광주시<br>년도=%{x}<br>발생건수=%{y}<extra></extra>",
         "legendgroup": "광주시",
         "line": {
          "color": "#EF553B",
          "dash": "solid"
         },
         "marker": {
          "symbol": "circle"
         },
         "mode": "lines+markers",
         "name": "광주시",
         "showlegend": true,
         "type": "scattergl",
         "x": [
          "2011년",
          "2012년",
          "2013년",
          "2014년",
          "2015년",
          "2016년",
          "2017년",
          "2018년",
          "2019년",
          "2020년",
          "2021년",
          "2022년"
         ],
         "xaxis": "x",
         "y": [
          0,
          0,
          0,
          0,
          1072,
          881,
          849,
          812,
          764,
          808,
          945,
          978
         ],
         "yaxis": "y"
        },
        {
         "hovertemplate": "발생장소=구리시<br>년도=%{x}<br>발생건수=%{y}<extra></extra>",
         "legendgroup": "구리시",
         "line": {
          "color": "#00cc96",
          "dash": "solid"
         },
         "marker": {
          "symbol": "circle"
         },
         "mode": "lines+markers",
         "name": "구리시",
         "showlegend": true,
         "type": "scattergl",
         "x": [
          "2011년",
          "2012년",
          "2013년",
          "2014년",
          "2015년",
          "2016년",
          "2017년",
          "2018년",
          "2019년",
          "2020년",
          "2021년",
          "2022년"
         ],
         "xaxis": "x",
         "y": [
          1222,
          1298,
          1239,
          1023,
          1042,
          936,
          800,
          833,
          831,
          618,
          482,
          478
         ],
         "yaxis": "y"
        },
        {
         "hovertemplate": "발생장소=군포시<br>년도=%{x}<br>발생건수=%{y}<extra></extra>",
         "legendgroup": "군포시",
         "line": {
          "color": "#ab63fa",
          "dash": "solid"
         },
         "marker": {
          "symbol": "circle"
         },
         "mode": "lines+markers",
         "name": "군포시",
         "showlegend": true,
         "type": "scattergl",
         "x": [
          "2011년",
          "2012년",
          "2013년",
          "2014년",
          "2015년",
          "2016년",
          "2017년",
          "2018년",
          "2019년",
          "2020년",
          "2021년",
          "2022년"
         ],
         "xaxis": "x",
         "y": [
          1088,
          1232,
          1219,
          1287,
          944,
          837,
          763,
          658,
          654,
          713,
          663,
          753
         ],
         "yaxis": "y"
        },
        {
         "hovertemplate": "발생장소=김포시<br>년도=%{x}<br>발생건수=%{y}<extra></extra>",
         "legendgroup": "김포시",
         "line": {
          "color": "#FFA15A",
          "dash": "solid"
         },
         "marker": {
          "symbol": "circle"
         },
         "mode": "lines+markers",
         "name": "김포시",
         "showlegend": true,
         "type": "scattergl",
         "x": [
          "2011년",
          "2012년",
          "2013년",
          "2014년",
          "2015년",
          "2016년",
          "2017년",
          "2018년",
          "2019년",
          "2020년",
          "2021년",
          "2022년"
         ],
         "xaxis": "x",
         "y": [
          0,
          0,
          0,
          0,
          1082,
          1004,
          916,
          1010,
          977,
          1186,
          1392,
          1461
         ],
         "yaxis": "y"
        },
        {
         "hovertemplate": "발생장소=남양주시<br>년도=%{x}<br>발생건수=%{y}<extra></extra>",
         "legendgroup": "남양주시",
         "line": {
          "color": "#19d3f3",
          "dash": "solid"
         },
         "marker": {
          "symbol": "circle"
         },
         "mode": "lines+markers",
         "name": "남양주시",
         "showlegend": true,
         "type": "scattergl",
         "x": [
          "2011년",
          "2012년",
          "2013년",
          "2014년",
          "2015년",
          "2016년",
          "2017년",
          "2018년",
          "2019년",
          "2020년",
          "2021년",
          "2022년"
         ],
         "xaxis": "x",
         "y": [
          1936,
          1847,
          1727,
          1784,
          1888,
          1470,
          1359,
          1274,
          1504,
          1353,
          1288,
          1420
         ],
         "yaxis": "y"
        },
        {
         "hovertemplate": "발생장소=동두천시<br>년도=%{x}<br>발생건수=%{y}<extra></extra>",
         "legendgroup": "동두천시",
         "line": {
          "color": "#FF6692",
          "dash": "solid"
         },
         "marker": {
          "symbol": "circle"
         },
         "mode": "lines+markers",
         "name": "동두천시",
         "showlegend": true,
         "type": "scattergl",
         "x": [
          "2011년",
          "2012년",
          "2013년",
          "2014년",
          "2015년",
          "2016년",
          "2017년",
          "2018년",
          "2019년",
          "2020년",
          "2021년",
          "2022년"
         ],
         "xaxis": "x",
         "y": [
          0,
          0,
          0,
          0,
          410,
          342,
          350,
          329,
          352,
          266,
          251,
          345
         ],
         "yaxis": "y"
        },
        {
         "hovertemplate": "발생장소=부천시<br>년도=%{x}<br>발생건수=%{y}<extra></extra>",
         "legendgroup": "부천시",
         "line": {
          "color": "#B6E880",
          "dash": "solid"
         },
         "marker": {
          "symbol": "circle"
         },
         "mode": "lines+markers",
         "name": "부천시",
         "showlegend": true,
         "type": "scattergl",
         "x": [
          "2011년",
          "2012년",
          "2013년",
          "2014년",
          "2015년",
          "2016년",
          "2017년",
          "2018년",
          "2019년",
          "2020년",
          "2021년",
          "2022년"
         ],
         "xaxis": "x",
         "y": [
          5783,
          6714,
          6881,
          5682,
          5048,
          4471,
          4075,
          3715,
          3706,
          3550,
          3030,
          3423
         ],
         "yaxis": "y"
        },
        {
         "hovertemplate": "발생장소=성남시<br>년도=%{x}<br>발생건수=%{y}<extra></extra>",
         "legendgroup": "성남시",
         "line": {
          "color": "#FF97FF",
          "dash": "solid"
         },
         "marker": {
          "symbol": "circle"
         },
         "mode": "lines+markers",
         "name": "성남시",
         "showlegend": true,
         "type": "scattergl",
         "x": [
          "2011년",
          "2012년",
          "2013년",
          "2014년",
          "2015년",
          "2016년",
          "2017년",
          "2018년",
          "2019년",
          "2020년",
          "2021년",
          "2022년"
         ],
         "xaxis": "x",
         "y": [
          4882,
          5300,
          5028,
          4551,
          3941,
          3963,
          3131,
          3126,
          3250,
          3021,
          2697,
          3050
         ],
         "yaxis": "y"
        },
        {
         "hovertemplate": "발생장소=수원시<br>년도=%{x}<br>발생건수=%{y}<extra></extra>",
         "legendgroup": "수원시",
         "line": {
          "color": "#FECB52",
          "dash": "solid"
         },
         "marker": {
          "symbol": "circle"
         },
         "mode": "lines+markers",
         "name": "수원시",
         "showlegend": true,
         "type": "scattergl",
         "x": [
          "2011년",
          "2012년",
          "2013년",
          "2014년",
          "2015년",
          "2016년",
          "2017년",
          "2018년",
          "2019년",
          "2020년",
          "2021년",
          "2022년"
         ],
         "xaxis": "x",
         "y": [
          6373,
          6854,
          6642,
          6774,
          6487,
          5610,
          5494,
          5381,
          5180,
          4868,
          4201,
          4704
         ],
         "yaxis": "y"
        },
        {
         "hovertemplate": "발생장소=시흥시<br>년도=%{x}<br>발생건수=%{y}<extra></extra>",
         "legendgroup": "시흥시",
         "line": {
          "color": "#636efa",
          "dash": "solid"
         },
         "marker": {
          "symbol": "circle"
         },
         "mode": "lines+markers",
         "name": "시흥시",
         "showlegend": true,
         "type": "scattergl",
         "x": [
          "2011년",
          "2012년",
          "2013년",
          "2014년",
          "2015년",
          "2016년",
          "2017년",
          "2018년",
          "2019년",
          "2020년",
          "2021년",
          "2022년"
         ],
         "xaxis": "x",
         "y": [
          1900,
          1610,
          1906,
          1874,
          1791,
          1500,
          1293,
          1714,
          1769,
          1778,
          1854,
          1861
         ],
         "yaxis": "y"
        },
        {
         "hovertemplate": "발생장소=안산시<br>년도=%{x}<br>발생건수=%{y}<extra></extra>",
         "legendgroup": "안산시",
         "line": {
          "color": "#EF553B",
          "dash": "solid"
         },
         "marker": {
          "symbol": "circle"
         },
         "mode": "lines+markers",
         "name": "안산시",
         "showlegend": true,
         "type": "scattergl",
         "x": [
          "2011년",
          "2012년",
          "2013년",
          "2014년",
          "2015년",
          "2016년",
          "2017년",
          "2018년",
          "2019년",
          "2020년",
          "2021년",
          "2022년"
         ],
         "xaxis": "x",
         "y": [
          3733,
          4598,
          4187,
          4225,
          4154,
          3285,
          2904,
          3025,
          2971,
          3007,
          2638,
          2862
         ],
         "yaxis": "y"
        },
        {
         "hovertemplate": "발생장소=안성시<br>년도=%{x}<br>발생건수=%{y}<extra></extra>",
         "legendgroup": "안성시",
         "line": {
          "color": "#00cc96",
          "dash": "solid"
         },
         "marker": {
          "symbol": "circle"
         },
         "mode": "lines+markers",
         "name": "안성시",
         "showlegend": true,
         "type": "scattergl",
         "x": [
          "2011년",
          "2012년",
          "2013년",
          "2014년",
          "2015년",
          "2016년",
          "2017년",
          "2018년",
          "2019년",
          "2020년",
          "2021년",
          "2022년"
         ],
         "xaxis": "x",
         "y": [
          0,
          0,
          0,
          0,
          844,
          791,
          618,
          620,
          651,
          789,
          709,
          629
         ],
         "yaxis": "y"
        },
        {
         "hovertemplate": "발생장소=안양시<br>년도=%{x}<br>발생건수=%{y}<extra></extra>",
         "legendgroup": "안양시",
         "line": {
          "color": "#ab63fa",
          "dash": "solid"
         },
         "marker": {
          "symbol": "circle"
         },
         "mode": "lines+markers",
         "name": "안양시",
         "showlegend": true,
         "type": "scattergl",
         "x": [
          "2011년",
          "2012년",
          "2013년",
          "2014년",
          "2015년",
          "2016년",
          "2017년",
          "2018년",
          "2019년",
          "2020년",
          "2021년",
          "2022년"
         ],
         "xaxis": "x",
         "y": [
          2594,
          2556,
          2464,
          2179,
          2142,
          2003,
          1809,
          1662,
          1745,
          1822,
          1461,
          1593
         ],
         "yaxis": "y"
        },
        {
         "hovertemplate": "발생장소=양주시<br>년도=%{x}<br>발생건수=%{y}<extra></extra>",
         "legendgroup": "양주시",
         "line": {
          "color": "#FFA15A",
          "dash": "solid"
         },
         "marker": {
          "symbol": "circle"
         },
         "mode": "lines+markers",
         "name": "양주시",
         "showlegend": true,
         "type": "scattergl",
         "x": [
          "2011년",
          "2012년",
          "2013년",
          "2014년",
          "2015년",
          "2016년",
          "2017년",
          "2018년",
          "2019년",
          "2020년",
          "2021년",
          "2022년"
         ],
         "xaxis": "x",
         "y": [
          0,
          0,
          0,
          0,
          719,
          445,
          509,
          475,
          465,
          503,
          515,
          423
         ],
         "yaxis": "y"
        },
        {
         "hovertemplate": "발생장소=여주시<br>년도=%{x}<br>발생건수=%{y}<extra></extra>",
         "legendgroup": "여주시",
         "line": {
          "color": "#19d3f3",
          "dash": "solid"
         },
         "marker": {
          "symbol": "circle"
         },
         "mode": "lines+markers",
         "name": "여주시",
         "showlegend": true,
         "type": "scattergl",
         "x": [
          "2011년",
          "2012년",
          "2013년",
          "2014년",
          "2015년",
          "2016년",
          "2017년",
          "2018년",
          "2019년",
          "2020년",
          "2021년",
          "2022년"
         ],
         "xaxis": "x",
         "y": [
          0,
          0,
          0,
          0,
          417,
          450,
          408,
          414,
          420,
          395,
          318,
          308
         ],
         "yaxis": "y"
        },
        {
         "hovertemplate": "발생장소=오산시<br>년도=%{x}<br>발생건수=%{y}<extra></extra>",
         "legendgroup": "오산시",
         "line": {
          "color": "#FF6692",
          "dash": "solid"
         },
         "marker": {
          "symbol": "circle"
         },
         "mode": "lines+markers",
         "name": "오산시",
         "showlegend": true,
         "type": "scattergl",
         "x": [
          "2011년",
          "2012년",
          "2013년",
          "2014년",
          "2015년",
          "2016년",
          "2017년",
          "2018년",
          "2019년",
          "2020년",
          "2021년",
          "2022년"
         ],
         "xaxis": "x",
         "y": [
          0,
          0,
          0,
          0,
          1164,
          1017,
          830,
          870,
          927,
          890,
          903,
          875
         ],
         "yaxis": "y"
        },
        {
         "hovertemplate": "발생장소=용인시<br>년도=%{x}<br>발생건수=%{y}<extra></extra>",
         "legendgroup": "용인시",
         "line": {
          "color": "#B6E880",
          "dash": "solid"
         },
         "marker": {
          "symbol": "circle"
         },
         "mode": "lines+markers",
         "name": "용인시",
         "showlegend": true,
         "type": "scattergl",
         "x": [
          "2011년",
          "2012년",
          "2013년",
          "2014년",
          "2015년",
          "2016년",
          "2017년",
          "2018년",
          "2019년",
          "2020년",
          "2021년",
          "2022년"
         ],
         "xaxis": "x",
         "y": [
          2992,
          3022,
          2869,
          2916,
          2791,
          2468,
          2317,
          2201,
          2345,
          2587,
          2242,
          2724
         ],
         "yaxis": "y"
        },
        {
         "hovertemplate": "발생장소=의왕시<br>년도=%{x}<br>발생건수=%{y}<extra></extra>",
         "legendgroup": "의왕시",
         "line": {
          "color": "#FF97FF",
          "dash": "solid"
         },
         "marker": {
          "symbol": "circle"
         },
         "mode": "lines+markers",
         "name": "의왕시",
         "showlegend": true,
         "type": "scattergl",
         "x": [
          "2011년",
          "2012년",
          "2013년",
          "2014년",
          "2015년",
          "2016년",
          "2017년",
          "2018년",
          "2019년",
          "2020년",
          "2021년",
          "2022년"
         ],
         "xaxis": "x",
         "y": [
          0,
          0,
          0,
          0,
          307,
          232,
          207,
          216,
          277,
          238,
          172,
          219
         ],
         "yaxis": "y"
        },
        {
         "hovertemplate": "발생장소=의정부시<br>년도=%{x}<br>발생건수=%{y}<extra></extra>",
         "legendgroup": "의정부시",
         "line": {
          "color": "#FECB52",
          "dash": "solid"
         },
         "marker": {
          "symbol": "circle"
         },
         "mode": "lines+markers",
         "name": "의정부시",
         "showlegend": true,
         "type": "scattergl",
         "x": [
          "2011년",
          "2012년",
          "2013년",
          "2014년",
          "2015년",
          "2016년",
          "2017년",
          "2018년",
          "2019년",
          "2020년",
          "2021년",
          "2022년"
         ],
         "xaxis": "x",
         "y": [
          2320,
          2216,
          2353,
          2600,
          2304,
          1753,
          1603,
          1723,
          1604,
          1507,
          1183,
          1234
         ],
         "yaxis": "y"
        },
        {
         "hovertemplate": "발생장소=이천시<br>년도=%{x}<br>발생건수=%{y}<extra></extra>",
         "legendgroup": "이천시",
         "line": {
          "color": "#636efa",
          "dash": "solid"
         },
         "marker": {
          "symbol": "circle"
         },
         "mode": "lines+markers",
         "name": "이천시",
         "showlegend": true,
         "type": "scattergl",
         "x": [
          "2011년",
          "2012년",
          "2013년",
          "2014년",
          "2015년",
          "2016년",
          "2017년",
          "2018년",
          "2019년",
          "2020년",
          "2021년",
          "2022년"
         ],
         "xaxis": "x",
         "y": [
          873,
          769,
          838,
          734,
          655,
          632,
          622,
          781,
          829,
          775,
          600,
          739
         ],
         "yaxis": "y"
        },
        {
         "hovertemplate": "발생장소=파주시<br>년도=%{x}<br>발생건수=%{y}<extra></extra>",
         "legendgroup": "파주시",
         "line": {
          "color": "#EF553B",
          "dash": "solid"
         },
         "marker": {
          "symbol": "circle"
         },
         "mode": "lines+markers",
         "name": "파주시",
         "showlegend": true,
         "type": "scattergl",
         "x": [
          "2011년",
          "2012년",
          "2013년",
          "2014년",
          "2015년",
          "2016년",
          "2017년",
          "2018년",
          "2019년",
          "2020년",
          "2021년",
          "2022년"
         ],
         "xaxis": "x",
         "y": [
          1283,
          1294,
          1332,
          1270,
          1136,
          1291,
          1028,
          1112,
          939,
          987,
          1093,
          1207
         ],
         "yaxis": "y"
        },
        {
         "hovertemplate": "발생장소=평택시<br>년도=%{x}<br>발생건수=%{y}<extra></extra>",
         "legendgroup": "평택시",
         "line": {
          "color": "#00cc96",
          "dash": "solid"
         },
         "marker": {
          "symbol": "circle"
         },
         "mode": "lines+markers",
         "name": "평택시",
         "showlegend": true,
         "type": "scattergl",
         "x": [
          "2011년",
          "2012년",
          "2013년",
          "2014년",
          "2015년",
          "2016년",
          "2017년",
          "2018년",
          "2019년",
          "2020년",
          "2021년",
          "2022년"
         ],
         "xaxis": "x",
         "y": [
          2486,
          2918,
          2901,
          2820,
          2160,
          1813,
          2069,
          2060,
          2185,
          2058,
          1987,
          2344
         ],
         "yaxis": "y"
        },
        {
         "hovertemplate": "발생장소=포천시<br>년도=%{x}<br>발생건수=%{y}<extra></extra>",
         "legendgroup": "포천시",
         "line": {
          "color": "#ab63fa",
          "dash": "solid"
         },
         "marker": {
          "symbol": "circle"
         },
         "mode": "lines+markers",
         "name": "포천시",
         "showlegend": true,
         "type": "scattergl",
         "x": [
          "2011년",
          "2012년",
          "2013년",
          "2014년",
          "2015년",
          "2016년",
          "2017년",
          "2018년",
          "2019년",
          "2020년",
          "2021년",
          "2022년"
         ],
         "xaxis": "x",
         "y": [
          0,
          0,
          0,
          0,
          580,
          546,
          505,
          563,
          523,
          414,
          333,
          418
         ],
         "yaxis": "y"
        },
        {
         "hovertemplate": "발생장소=하남시<br>년도=%{x}<br>발생건수=%{y}<extra></extra>",
         "legendgroup": "하남시",
         "line": {
          "color": "#FFA15A",
          "dash": "solid"
         },
         "marker": {
          "symbol": "circle"
         },
         "mode": "lines+markers",
         "name": "하남시",
         "showlegend": true,
         "type": "scattergl",
         "x": [
          "2011년",
          "2012년",
          "2013년",
          "2014년",
          "2015년",
          "2016년",
          "2017년",
          "2018년",
          "2019년",
          "2020년",
          "2021년",
          "2022년"
         ],
         "xaxis": "x",
         "y": [
          0,
          0,
          0,
          0,
          575,
          528,
          507,
          546,
          737,
          823,
          721,
          786
         ],
         "yaxis": "y"
        },
        {
         "hovertemplate": "발생장소=화성시<br>년도=%{x}<br>발생건수=%{y}<extra></extra>",
         "legendgroup": "화성시",
         "line": {
          "color": "#19d3f3",
          "dash": "solid"
         },
         "marker": {
          "symbol": "circle"
         },
         "mode": "lines+markers",
         "name": "화성시",
         "showlegend": true,
         "type": "scattergl",
         "x": [
          "2011년",
          "2012년",
          "2013년",
          "2014년",
          "2015년",
          "2016년",
          "2017년",
          "2018년",
          "2019년",
          "2020년",
          "2021년",
          "2022년"
         ],
         "xaxis": "x",
         "y": [
          0,
          0,
          0,
          0,
          2178,
          1866,
          2087,
          1935,
          2151,
          1898,
          2040,
          2512
         ],
         "yaxis": "y"
        },
        {
         "hovertemplate": "발생장소=강릉시<br>년도=%{x}<br>발생건수=%{y}<extra></extra>",
         "legendgroup": "강릉시",
         "line": {
          "color": "#FF6692",
          "dash": "solid"
         },
         "marker": {
          "symbol": "circle"
         },
         "mode": "lines+markers",
         "name": "강릉시",
         "showlegend": true,
         "type": "scattergl",
         "x": [
          "2011년",
          "2012년",
          "2013년",
          "2014년",
          "2015년",
          "2016년",
          "2017년",
          "2018년",
          "2019년",
          "2020년",
          "2021년",
          "2022년"
         ],
         "xaxis": "x",
         "y": [
          1028,
          1379,
          1130,
          1074,
          832,
          786,
          674,
          658,
          726,
          640,
          732,
          632
         ],
         "yaxis": "y"
        },
        {
         "hovertemplate": "발생장소=동해시<br>년도=%{x}<br>발생건수=%{y}<extra></extra>",
         "legendgroup": "동해시",
         "line": {
          "color": "#B6E880",
          "dash": "solid"
         },
         "marker": {
          "symbol": "circle"
         },
         "mode": "lines+markers",
         "name": "동해시",
         "showlegend": true,
         "type": "scattergl",
         "x": [
          "2011년",
          "2012년",
          "2013년",
          "2014년",
          "2015년",
          "2016년",
          "2017년",
          "2018년",
          "2019년",
          "2020년",
          "2021년",
          "2022년"
         ],
         "xaxis": "x",
         "y": [
          0,
          0,
          0,
          0,
          288,
          179,
          206,
          168,
          171,
          185,
          226,
          222
         ],
         "yaxis": "y"
        },
        {
         "hovertemplate": "발생장소=삼척시<br>년도=%{x}<br>발생건수=%{y}<extra></extra>",
         "legendgroup": "삼척시",
         "line": {
          "color": "#FF97FF",
          "dash": "solid"
         },
         "marker": {
          "symbol": "circle"
         },
         "mode": "lines+markers",
         "name": "삼척시",
         "showlegend": true,
         "type": "scattergl",
         "x": [
          "2011년",
          "2012년",
          "2013년",
          "2014년",
          "2015년",
          "2016년",
          "2017년",
          "2018년",
          "2019년",
          "2020년",
          "2021년",
          "2022년"
         ],
         "xaxis": "x",
         "y": [
          0,
          0,
          0,
          0,
          188,
          226,
          226,
          224,
          127,
          140,
          178,
          222
         ],
         "yaxis": "y"
        },
        {
         "hovertemplate": "발생장소=속초시<br>년도=%{x}<br>발생건수=%{y}<extra></extra>",
         "legendgroup": "속초시",
         "line": {
          "color": "#FECB52",
          "dash": "solid"
         },
         "marker": {
          "symbol": "circle"
         },
         "mode": "lines+markers",
         "name": "속초시",
         "showlegend": true,
         "type": "scattergl",
         "x": [
          "2011년",
          "2012년",
          "2013년",
          "2014년",
          "2015년",
          "2016년",
          "2017년",
          "2018년",
          "2019년",
          "2020년",
          "2021년",
          "2022년"
         ],
         "xaxis": "x",
         "y": [
          0,
          0,
          0,
          0,
          344,
          310,
          308,
          228,
          287,
          281,
          267,
          239
         ],
         "yaxis": "y"
        },
        {
         "hovertemplate": "발생장소=원주시<br>년도=%{x}<br>발생건수=%{y}<extra></extra>",
         "legendgroup": "원주시",
         "line": {
          "color": "#636efa",
          "dash": "solid"
         },
         "marker": {
          "symbol": "circle"
         },
         "mode": "lines+markers",
         "name": "원주시",
         "showlegend": true,
         "type": "scattergl",
         "x": [
          "2011년",
          "2012년",
          "2013년",
          "2014년",
          "2015년",
          "2016년",
          "2017년",
          "2018년",
          "2019년",
          "2020년",
          "2021년",
          "2022년"
         ],
         "xaxis": "x",
         "y": [
          2615,
          2281,
          2033,
          1786,
          1785,
          1310,
          1407,
          1065,
          1302,
          1150,
          1057,
          1250
         ],
         "yaxis": "y"
        },
        {
         "hovertemplate": "발생장소=춘천시<br>년도=%{x}<br>발생건수=%{y}<extra></extra>",
         "legendgroup": "춘천시",
         "line": {
          "color": "#EF553B",
          "dash": "solid"
         },
         "marker": {
          "symbol": "circle"
         },
         "mode": "lines+markers",
         "name": "춘천시",
         "showlegend": true,
         "type": "scattergl",
         "x": [
          "2011년",
          "2012년",
          "2013년",
          "2014년",
          "2015년",
          "2016년",
          "2017년",
          "2018년",
          "2019년",
          "2020년",
          "2021년",
          "2022년"
         ],
         "xaxis": "x",
         "y": [
          1407,
          1357,
          1375,
          1109,
          1132,
          1117,
          1067,
          878,
          879,
          945,
          841,
          857
         ],
         "yaxis": "y"
        },
        {
         "hovertemplate": "발생장소=태백시<br>년도=%{x}<br>발생건수=%{y}<extra></extra>",
         "legendgroup": "태백시",
         "line": {
          "color": "#00cc96",
          "dash": "solid"
         },
         "marker": {
          "symbol": "circle"
         },
         "mode": "lines+markers",
         "name": "태백시",
         "showlegend": true,
         "type": "scattergl",
         "x": [
          "2011년",
          "2012년",
          "2013년",
          "2014년",
          "2015년",
          "2016년",
          "2017년",
          "2018년",
          "2019년",
          "2020년",
          "2021년",
          "2022년"
         ],
         "xaxis": "x",
         "y": [
          0,
          0,
          0,
          0,
          130,
          119,
          111,
          77,
          90,
          75,
          83,
          90
         ],
         "yaxis": "y"
        },
        {
         "hovertemplate": "발생장소=제천시<br>년도=%{x}<br>발생건수=%{y}<extra></extra>",
         "legendgroup": "제천시",
         "line": {
          "color": "#ab63fa",
          "dash": "solid"
         },
         "marker": {
          "symbol": "circle"
         },
         "mode": "lines+markers",
         "name": "제천시",
         "showlegend": true,
         "type": "scattergl",
         "x": [
          "2011년",
          "2012년",
          "2013년",
          "2014년",
          "2015년",
          "2016년",
          "2017년",
          "2018년",
          "2019년",
          "2020년",
          "2021년",
          "2022년"
         ],
         "xaxis": "x",
         "y": [
          623,
          524,
          628,
          583,
          524,
          463,
          479,
          308,
          386,
          373,
          388,
          383
         ],
         "yaxis": "y"
        },
        {
         "hovertemplate": "발생장소=청주시<br>년도=%{x}<br>발생건수=%{y}<extra></extra>",
         "legendgroup": "청주시",
         "line": {
          "color": "#FFA15A",
          "dash": "solid"
         },
         "marker": {
          "symbol": "circle"
         },
         "mode": "lines+markers",
         "name": "청주시",
         "showlegend": true,
         "type": "scattergl",
         "x": [
          "2011년",
          "2012년",
          "2013년",
          "2014년",
          "2015년",
          "2016년",
          "2017년",
          "2018년",
          "2019년",
          "2020년",
          "2021년",
          "2022년"
         ],
         "xaxis": "x",
         "y": [
          5887,
          4980,
          4737,
          4805,
          4691,
          3711,
          3205,
          3333,
          3429,
          3211,
          2973,
          3435
         ],
         "yaxis": "y"
        },
        {
         "hovertemplate": "발생장소=충주시<br>년도=%{x}<br>발생건수=%{y}<extra></extra>",
         "legendgroup": "충주시",
         "line": {
          "color": "#19d3f3",
          "dash": "solid"
         },
         "marker": {
          "symbol": "circle"
         },
         "mode": "lines+markers",
         "name": "충주시",
         "showlegend": true,
         "type": "scattergl",
         "x": [
          "2011년",
          "2012년",
          "2013년",
          "2014년",
          "2015년",
          "2016년",
          "2017년",
          "2018년",
          "2019년",
          "2020년",
          "2021년",
          "2022년"
         ],
         "xaxis": "x",
         "y": [
          1237,
          1216,
          1319,
          1092,
          925,
          785,
          781,
          769,
          833,
          790,
          636,
          758
         ],
         "yaxis": "y"
        },
        {
         "hovertemplate": "발생장소=계룡시<br>년도=%{x}<br>발생건수=%{y}<extra></extra>",
         "legendgroup": "계룡시",
         "line": {
          "color": "#FF6692",
          "dash": "solid"
         },
         "marker": {
          "symbol": "circle"
         },
         "mode": "lines+markers",
         "name": "계룡시",
         "showlegend": true,
         "type": "scattergl",
         "x": [
          "2011년",
          "2012년",
          "2013년",
          "2014년",
          "2015년",
          "2016년",
          "2017년",
          "2018년",
          "2019년",
          "2020년",
          "2021년",
          "2022년"
         ],
         "xaxis": "x",
         "y": [
          0,
          0,
          0,
          0,
          53,
          54,
          42,
          60,
          72,
          59,
          65,
          75
         ],
         "yaxis": "y"
        },
        {
         "hovertemplate": "발생장소=공주시<br>년도=%{x}<br>발생건수=%{y}<extra></extra>",
         "legendgroup": "공주시",
         "line": {
          "color": "#B6E880",
          "dash": "solid"
         },
         "marker": {
          "symbol": "circle"
         },
         "mode": "lines+markers",
         "name": "공주시",
         "showlegend": true,
         "type": "scattergl",
         "x": [
          "2011년",
          "2012년",
          "2013년",
          "2014년",
          "2015년",
          "2016년",
          "2017년",
          "2018년",
          "2019년",
          "2020년",
          "2021년",
          "2022년"
         ],
         "xaxis": "x",
         "y": [
          0,
          0,
          0,
          0,
          423,
          439,
          533,
          371,
          372,
          277,
          278,
          332
         ],
         "yaxis": "y"
        },
        {
         "hovertemplate": "발생장소=논산시<br>년도=%{x}<br>발생건수=%{y}<extra></extra>",
         "legendgroup": "논산시",
         "line": {
          "color": "#FF97FF",
          "dash": "solid"
         },
         "marker": {
          "symbol": "circle"
         },
         "mode": "lines+markers",
         "name": "논산시",
         "showlegend": true,
         "type": "scattergl",
         "x": [
          "2011년",
          "2012년",
          "2013년",
          "2014년",
          "2015년",
          "2016년",
          "2017년",
          "2018년",
          "2019년",
          "2020년",
          "2021년",
          "2022년"
         ],
         "xaxis": "x",
         "y": [
          786,
          817,
          863,
          692,
          634,
          526,
          448,
          460,
          437,
          425,
          421,
          383
         ],
         "yaxis": "y"
        },
        {
         "hovertemplate": "발생장소=당진시<br>년도=%{x}<br>발생건수=%{y}<extra></extra>",
         "legendgroup": "당진시",
         "line": {
          "color": "#FECB52",
          "dash": "solid"
         },
         "marker": {
          "symbol": "circle"
         },
         "mode": "lines+markers",
         "name": "당진시",
         "showlegend": true,
         "type": "scattergl",
         "x": [
          "2011년",
          "2012년",
          "2013년",
          "2014년",
          "2015년",
          "2016년",
          "2017년",
          "2018년",
          "2019년",
          "2020년",
          "2021년",
          "2022년"
         ],
         "xaxis": "x",
         "y": [
          0,
          0,
          0,
          0,
          1325,
          615,
          555,
          573,
          544,
          526,
          506,
          409
         ],
         "yaxis": "y"
        },
        {
         "hovertemplate": "발생장소=보령시<br>년도=%{x}<br>발생건수=%{y}<extra></extra>",
         "legendgroup": "보령시",
         "line": {
          "color": "#636efa",
          "dash": "solid"
         },
         "marker": {
          "symbol": "circle"
         },
         "mode": "lines+markers",
         "name": "보령시",
         "showlegend": true,
         "type": "scattergl",
         "x": [
          "2011년",
          "2012년",
          "2013년",
          "2014년",
          "2015년",
          "2016년",
          "2017년",
          "2018년",
          "2019년",
          "2020년",
          "2021년",
          "2022년"
         ],
         "xaxis": "x",
         "y": [
          0,
          0,
          0,
          0,
          681,
          462,
          315,
          278,
          338,
          325,
          272,
          253
         ],
         "yaxis": "y"
        },
        {
         "hovertemplate": "발생장소=서산시<br>년도=%{x}<br>발생건수=%{y}<extra></extra>",
         "legendgroup": "서산시",
         "line": {
          "color": "#EF553B",
          "dash": "solid"
         },
         "marker": {
          "symbol": "circle"
         },
         "mode": "lines+markers",
         "name": "서산시",
         "showlegend": true,
         "type": "scattergl",
         "x": [
          "2011년",
          "2012년",
          "2013년",
          "2014년",
          "2015년",
          "2016년",
          "2017년",
          "2018년",
          "2019년",
          "2020년",
          "2021년",
          "2022년"
         ],
         "xaxis": "x",
         "y": [
          588,
          668,
          789,
          802,
          769,
          674,
          664,
          595,
          467,
          590,
          541,
          520
         ],
         "yaxis": "y"
        },
        {
         "hovertemplate": "발생장소=아산시<br>년도=%{x}<br>발생건수=%{y}<extra></extra>",
         "legendgroup": "아산시",
         "line": {
          "color": "#00cc96",
          "dash": "solid"
         },
         "marker": {
          "symbol": "circle"
         },
         "mode": "lines+markers",
         "name": "아산시",
         "showlegend": true,
         "type": "scattergl",
         "x": [
          "2011년",
          "2012년",
          "2013년",
          "2014년",
          "2015년",
          "2016년",
          "2017년",
          "2018년",
          "2019년",
          "2020년",
          "2021년",
          "2022년"
         ],
         "xaxis": "x",
         "y": [
          1451,
          1877,
          1888,
          1430,
          1487,
          1256,
          1424,
          1164,
          1298,
          1201,
          1132,
          1263
         ],
         "yaxis": "y"
        },
        {
         "hovertemplate": "발생장소=천안시<br>년도=%{x}<br>발생건수=%{y}<extra></extra>",
         "legendgroup": "천안시",
         "line": {
          "color": "#ab63fa",
          "dash": "solid"
         },
         "marker": {
          "symbol": "circle"
         },
         "mode": "lines+markers",
         "name": "천안시",
         "showlegend": true,
         "type": "scattergl",
         "x": [
          "2011년",
          "2012년",
          "2013년",
          "2014년",
          "2015년",
          "2016년",
          "2017년",
          "2018년",
          "2019년",
          "2020년",
          "2021년",
          "2022년"
         ],
         "xaxis": "x",
         "y": [
          4902,
          5252,
          4551,
          4412,
          3945,
          3277,
          2854,
          3252,
          3328,
          2865,
          2726,
          3069
         ],
         "yaxis": "y"
        },
        {
         "hovertemplate": "발생장소=군산시<br>년도=%{x}<br>발생건수=%{y}<extra></extra>",
         "legendgroup": "군산시",
         "line": {
          "color": "#FFA15A",
          "dash": "solid"
         },
         "marker": {
          "symbol": "circle"
         },
         "mode": "lines+markers",
         "name": "군산시",
         "showlegend": true,
         "type": "scattergl",
         "x": [
          "2011년",
          "2012년",
          "2013년",
          "2014년",
          "2015년",
          "2016년",
          "2017년",
          "2018년",
          "2019년",
          "2020년",
          "2021년",
          "2022년"
         ],
         "xaxis": "x",
         "y": [
          1348,
          1104,
          1103,
          1311,
          1470,
          1010,
          1038,
          1025,
          929,
          1019,
          1055,
          884
         ],
         "yaxis": "y"
        },
        {
         "hovertemplate": "발생장소=김제시<br>년도=%{x}<br>발생건수=%{y}<extra></extra>",
         "legendgroup": "김제시",
         "line": {
          "color": "#19d3f3",
          "dash": "solid"
         },
         "marker": {
          "symbol": "circle"
         },
         "mode": "lines+markers",
         "name": "김제시",
         "showlegend": true,
         "type": "scattergl",
         "x": [
          "2011년",
          "2012년",
          "2013년",
          "2014년",
          "2015년",
          "2016년",
          "2017년",
          "2018년",
          "2019년",
          "2020년",
          "2021년",
          "2022년"
         ],
         "xaxis": "x",
         "y": [
          0,
          0,
          0,
          0,
          344,
          243,
          164,
          161,
          219,
          216,
          168,
          166
         ],
         "yaxis": "y"
        },
        {
         "hovertemplate": "발생장소=남원시<br>년도=%{x}<br>발생건수=%{y}<extra></extra>",
         "legendgroup": "남원시",
         "line": {
          "color": "#FF6692",
          "dash": "solid"
         },
         "marker": {
          "symbol": "circle"
         },
         "mode": "lines+markers",
         "name": "남원시",
         "showlegend": true,
         "type": "scattergl",
         "x": [
          "2011년",
          "2012년",
          "2013년",
          "2014년",
          "2015년",
          "2016년",
          "2017년",
          "2018년",
          "2019년",
          "2020년",
          "2021년",
          "2022년"
         ],
         "xaxis": "x",
         "y": [
          0,
          0,
          0,
          0,
          276,
          239,
          260,
          248,
          205,
          207,
          232,
          232
         ],
         "yaxis": "y"
        },
        {
         "hovertemplate": "발생장소=익산시<br>년도=%{x}<br>발생건수=%{y}<extra></extra>",
         "legendgroup": "익산시",
         "line": {
          "color": "#B6E880",
          "dash": "solid"
         },
         "marker": {
          "symbol": "circle"
         },
         "mode": "lines+markers",
         "name": "익산시",
         "showlegend": true,
         "type": "scattergl",
         "x": [
          "2011년",
          "2012년",
          "2013년",
          "2014년",
          "2015년",
          "2016년",
          "2017년",
          "2018년",
          "2019년",
          "2020년",
          "2021년",
          "2022년"
         ],
         "xaxis": "x",
         "y": [
          1717,
          2180,
          2126,
          1749,
          1391,
          1153,
          916,
          979,
          1095,
          1077,
          905,
          969
         ],
         "yaxis": "y"
        },
        {
         "hovertemplate": "발생장소=전주시<br>년도=%{x}<br>발생건수=%{y}<extra></extra>",
         "legendgroup": "전주시",
         "line": {
          "color": "#FF97FF",
          "dash": "solid"
         },
         "marker": {
          "symbol": "circle"
         },
         "mode": "lines+markers",
         "name": "전주시",
         "showlegend": true,
         "type": "scattergl",
         "x": [
          "2011년",
          "2012년",
          "2013년",
          "2014년",
          "2015년",
          "2016년",
          "2017년",
          "2018년",
          "2019년",
          "2020년",
          "2021년",
          "2022년"
         ],
         "xaxis": "x",
         "y": [
          3862,
          3571,
          4222,
          3795,
          3402,
          2386,
          1953,
          2212,
          2202,
          2196,
          2111,
          2185
         ],
         "yaxis": "y"
        },
        {
         "hovertemplate": "발생장소=정읍시<br>년도=%{x}<br>발생건수=%{y}<extra></extra>",
         "legendgroup": "정읍시",
         "line": {
          "color": "#FECB52",
          "dash": "solid"
         },
         "marker": {
          "symbol": "circle"
         },
         "mode": "lines+markers",
         "name": "정읍시",
         "showlegend": true,
         "type": "scattergl",
         "x": [
          "2011년",
          "2012년",
          "2013년",
          "2014년",
          "2015년",
          "2016년",
          "2017년",
          "2018년",
          "2019년",
          "2020년",
          "2021년",
          "2022년"
         ],
         "xaxis": "x",
         "y": [
          567,
          484,
          399,
          489,
          565,
          245,
          278,
          311,
          363,
          358,
          443,
          546
         ],
         "yaxis": "y"
        },
        {
         "hovertemplate": "발생장소=광양시<br>년도=%{x}<br>발생건수=%{y}<extra></extra>",
         "legendgroup": "광양시",
         "line": {
          "color": "#636efa",
          "dash": "solid"
         },
         "marker": {
          "symbol": "circle"
         },
         "mode": "lines+markers",
         "name": "광양시",
         "showlegend": true,
         "type": "scattergl",
         "x": [
          "2011년",
          "2012년",
          "2013년",
          "2014년",
          "2015년",
          "2016년",
          "2017년",
          "2018년",
          "2019년",
          "2020년",
          "2021년",
          "2022년"
         ],
         "xaxis": "x",
         "y": [
          0,
          0,
          0,
          0,
          461,
          401,
          356,
          321,
          374,
          408,
          385,
          446
         ],
         "yaxis": "y"
        },
        {
         "hovertemplate": "발생장소=나주시<br>년도=%{x}<br>발생건수=%{y}<extra></extra>",
         "legendgroup": "나주시",
         "line": {
          "color": "#EF553B",
          "dash": "solid"
         },
         "marker": {
          "symbol": "circle"
         },
         "mode": "lines+markers",
         "name": "나주시",
         "showlegend": true,
         "type": "scattergl",
         "x": [
          "2011년",
          "2012년",
          "2013년",
          "2014년",
          "2015년",
          "2016년",
          "2017년",
          "2018년",
          "2019년",
          "2020년",
          "2021년",
          "2022년"
         ],
         "xaxis": "x",
         "y": [
          0,
          0,
          0,
          0,
          46,
          45,
          272,
          305,
          369,
          414,
          399,
          418
         ],
         "yaxis": "y"
        },
        {
         "hovertemplate": "발생장소=목포시<br>년도=%{x}<br>발생건수=%{y}<extra></extra>",
         "legendgroup": "목포시",
         "line": {
          "color": "#00cc96",
          "dash": "solid"
         },
         "marker": {
          "symbol": "circle"
         },
         "mode": "lines+markers",
         "name": "목포시",
         "showlegend": true,
         "type": "scattergl",
         "x": [
          "2011년",
          "2012년",
          "2013년",
          "2014년",
          "2015년",
          "2016년",
          "2017년",
          "2018년",
          "2019년",
          "2020년",
          "2021년",
          "2022년"
         ],
         "xaxis": "x",
         "y": [
          2092,
          1933,
          1773,
          1637,
          1520,
          1196,
          960,
          994,
          1162,
          1062,
          1064,
          1287
         ],
         "yaxis": "y"
        },
        {
         "hovertemplate": "발생장소=순천시<br>년도=%{x}<br>발생건수=%{y}<extra></extra>",
         "legendgroup": "순천시",
         "line": {
          "color": "#ab63fa",
          "dash": "solid"
         },
         "marker": {
          "symbol": "circle"
         },
         "mode": "lines+markers",
         "name": "순천시",
         "showlegend": true,
         "type": "scattergl",
         "x": [
          "2011년",
          "2012년",
          "2013년",
          "2014년",
          "2015년",
          "2016년",
          "2017년",
          "2018년",
          "2019년",
          "2020년",
          "2021년",
          "2022년"
         ],
         "xaxis": "x",
         "y": [
          1649,
          1287,
          1361,
          1344,
          1188,
          884,
          810,
          740,
          782,
          907,
          909,
          966
         ],
         "yaxis": "y"
        },
        {
         "hovertemplate": "발생장소=여수시<br>년도=%{x}<br>발생건수=%{y}<extra></extra>",
         "legendgroup": "여수시",
         "line": {
          "color": "#FFA15A",
          "dash": "solid"
         },
         "marker": {
          "symbol": "circle"
         },
         "mode": "lines+markers",
         "name": "여수시",
         "showlegend": true,
         "type": "scattergl",
         "x": [
          "2011년",
          "2012년",
          "2013년",
          "2014년",
          "2015년",
          "2016년",
          "2017년",
          "2018년",
          "2019년",
          "2020년",
          "2021년",
          "2022년"
         ],
         "xaxis": "x",
         "y": [
          1220,
          1413,
          1356,
          1144,
          1049,
          1076,
          841,
          809,
          921,
          872,
          885,
          809
         ],
         "yaxis": "y"
        },
        {
         "hovertemplate": "발생장소=경산시<br>년도=%{x}<br>발생건수=%{y}<extra></extra>",
         "legendgroup": "경산시",
         "line": {
          "color": "#19d3f3",
          "dash": "solid"
         },
         "marker": {
          "symbol": "circle"
         },
         "mode": "lines+markers",
         "name": "경산시",
         "showlegend": true,
         "type": "scattergl",
         "x": [
          "2011년",
          "2012년",
          "2013년",
          "2014년",
          "2015년",
          "2016년",
          "2017년",
          "2018년",
          "2019년",
          "2020년",
          "2021년",
          "2022년"
         ],
         "xaxis": "x",
         "y": [
          1728,
          1499,
          1480,
          1408,
          1174,
          1319,
          1053,
          981,
          1085,
          1020,
          910,
          1014
         ],
         "yaxis": "y"
        },
        {
         "hovertemplate": "발생장소=경주시<br>년도=%{x}<br>발생건수=%{y}<extra></extra>",
         "legendgroup": "경주시",
         "line": {
          "color": "#FF6692",
          "dash": "solid"
         },
         "marker": {
          "symbol": "circle"
         },
         "mode": "lines+markers",
         "name": "경주시",
         "showlegend": true,
         "type": "scattergl",
         "x": [
          "2011년",
          "2012년",
          "2013년",
          "2014년",
          "2015년",
          "2016년",
          "2017년",
          "2018년",
          "2019년",
          "2020년",
          "2021년",
          "2022년"
         ],
         "xaxis": "x",
         "y": [
          1705,
          1753,
          1844,
          1239,
          1297,
          1143,
          981,
          832,
          1023,
          892,
          909,
          1208
         ],
         "yaxis": "y"
        },
        {
         "hovertemplate": "발생장소=구미시<br>년도=%{x}<br>발생건수=%{y}<extra></extra>",
         "legendgroup": "구미시",
         "line": {
          "color": "#B6E880",
          "dash": "solid"
         },
         "marker": {
          "symbol": "circle"
         },
         "mode": "lines+markers",
         "name": "구미시",
         "showlegend": true,
         "type": "scattergl",
         "x": [
          "2011년",
          "2012년",
          "2013년",
          "2014년",
          "2015년",
          "2016년",
          "2017년",
          "2018년",
          "2019년",
          "2020년",
          "2021년",
          "2022년"
         ],
         "xaxis": "x",
         "y": [
          2472,
          2587,
          2629,
          2315,
          2212,
          1562,
          1566,
          1360,
          1530,
          1787,
          1699,
          1744
         ],
         "yaxis": "y"
        },
        {
         "hovertemplate": "발생장소=김천시<br>년도=%{x}<br>발생건수=%{y}<extra></extra>",
         "legendgroup": "김천시",
         "line": {
          "color": "#FF97FF",
          "dash": "solid"
         },
         "marker": {
          "symbol": "circle"
         },
         "mode": "lines+markers",
         "name": "김천시",
         "showlegend": true,
         "type": "scattergl",
         "x": [
          "2011년",
          "2012년",
          "2013년",
          "2014년",
          "2015년",
          "2016년",
          "2017년",
          "2018년",
          "2019년",
          "2020년",
          "2021년",
          "2022년"
         ],
         "xaxis": "x",
         "y": [
          541,
          539,
          581,
          571,
          506,
          450,
          366,
          366,
          416,
          431,
          392,
          493
         ],
         "yaxis": "y"
        },
        {
         "hovertemplate": "발생장소=문경시<br>년도=%{x}<br>발생건수=%{y}<extra></extra>",
         "legendgroup": "문경시",
         "line": {
          "color": "#FECB52",
          "dash": "solid"
         },
         "marker": {
          "symbol": "circle"
         },
         "mode": "lines+markers",
         "name": "문경시",
         "showlegend": true,
         "type": "scattergl",
         "x": [
          "2011년",
          "2012년",
          "2013년",
          "2014년",
          "2015년",
          "2016년",
          "2017년",
          "2018년",
          "2019년",
          "2020년",
          "2021년",
          "2022년"
         ],
         "xaxis": "x",
         "y": [
          0,
          0,
          0,
          0,
          227,
          228,
          154,
          142,
          169,
          166,
          137,
          180
         ],
         "yaxis": "y"
        },
        {
         "hovertemplate": "발생장소=상주시<br>년도=%{x}<br>발생건수=%{y}<extra></extra>",
         "legendgroup": "상주시",
         "line": {
          "color": "#636efa",
          "dash": "solid"
         },
         "marker": {
          "symbol": "circle"
         },
         "mode": "lines+markers",
         "name": "상주시",
         "showlegend": true,
         "type": "scattergl",
         "x": [
          "2011년",
          "2012년",
          "2013년",
          "2014년",
          "2015년",
          "2016년",
          "2017년",
          "2018년",
          "2019년",
          "2020년",
          "2021년",
          "2022년"
         ],
         "xaxis": "x",
         "y": [
          0,
          0,
          0,
          0,
          322,
          262,
          268,
          245,
          287,
          342,
          275,
          350
         ],
         "yaxis": "y"
        },
        {
         "hovertemplate": "발생장소=안동시<br>년도=%{x}<br>발생건수=%{y}<extra></extra>",
         "legendgroup": "안동시",
         "line": {
          "color": "#EF553B",
          "dash": "solid"
         },
         "marker": {
          "symbol": "circle"
         },
         "mode": "lines+markers",
         "name": "안동시",
         "showlegend": true,
         "type": "scattergl",
         "x": [
          "2011년",
          "2012년",
          "2013년",
          "2014년",
          "2015년",
          "2016년",
          "2017년",
          "2018년",
          "2019년",
          "2020년",
          "2021년",
          "2022년"
         ],
         "xaxis": "x",
         "y": [
          894,
          885,
          795,
          746,
          679,
          574,
          480,
          408,
          459,
          444,
          415,
          443
         ],
         "yaxis": "y"
        },
        {
         "hovertemplate": "발생장소=영주시<br>년도=%{x}<br>발생건수=%{y}<extra></extra>",
         "legendgroup": "영주시",
         "line": {
          "color": "#00cc96",
          "dash": "solid"
         },
         "marker": {
          "symbol": "circle"
         },
         "mode": "lines+markers",
         "name": "영주시",
         "showlegend": true,
         "type": "scattergl",
         "x": [
          "2011년",
          "2012년",
          "2013년",
          "2014년",
          "2015년",
          "2016년",
          "2017년",
          "2018년",
          "2019년",
          "2020년",
          "2021년",
          "2022년"
         ],
         "xaxis": "x",
         "y": [
          0,
          0,
          0,
          0,
          245,
          269,
          206,
          194,
          240,
          216,
          182,
          246
         ],
         "yaxis": "y"
        },
        {
         "hovertemplate": "발생장소=영천시<br>년도=%{x}<br>발생건수=%{y}<extra></extra>",
         "legendgroup": "영천시",
         "line": {
          "color": "#ab63fa",
          "dash": "solid"
         },
         "marker": {
          "symbol": "circle"
         },
         "mode": "lines+markers",
         "name": "영천시",
         "showlegend": true,
         "type": "scattergl",
         "x": [
          "2011년",
          "2012년",
          "2013년",
          "2014년",
          "2015년",
          "2016년",
          "2017년",
          "2018년",
          "2019년",
          "2020년",
          "2021년",
          "2022년"
         ],
         "xaxis": "x",
         "y": [
          0,
          0,
          0,
          0,
          298,
          344,
          331,
          364,
          358,
          380,
          359,
          283
         ],
         "yaxis": "y"
        },
        {
         "hovertemplate": "발생장소=포항시<br>년도=%{x}<br>발생건수=%{y}<extra></extra>",
         "legendgroup": "포항시",
         "line": {
          "color": "#FFA15A",
          "dash": "solid"
         },
         "marker": {
          "symbol": "circle"
         },
         "mode": "lines+markers",
         "name": "포항시",
         "showlegend": true,
         "type": "scattergl",
         "x": [
          "2011년",
          "2012년",
          "2013년",
          "2014년",
          "2015년",
          "2016년",
          "2017년",
          "2018년",
          "2019년",
          "2020년",
          "2021년",
          "2022년"
         ],
         "xaxis": "x",
         "y": [
          3030,
          2752,
          2575,
          2532,
          2496,
          1942,
          2016,
          1702,
          2002,
          1963,
          2162,
          2508
         ],
         "yaxis": "y"
        },
        {
         "hovertemplate": "발생장소=거제시<br>년도=%{x}<br>발생건수=%{y}<extra></extra>",
         "legendgroup": "거제시",
         "line": {
          "color": "#19d3f3",
          "dash": "solid"
         },
         "marker": {
          "symbol": "circle"
         },
         "mode": "lines+markers",
         "name": "거제시",
         "showlegend": true,
         "type": "scattergl",
         "x": [
          "2011년",
          "2012년",
          "2013년",
          "2014년",
          "2015년",
          "2016년",
          "2017년",
          "2018년",
          "2019년",
          "2020년",
          "2021년",
          "2022년"
         ],
         "xaxis": "x",
         "y": [
          1399,
          1361,
          1652,
          1313,
          1395,
          1114,
          979,
          795,
          822,
          833,
          763,
          794
         ],
         "yaxis": "y"
        },
        {
         "hovertemplate": "발생장소=김해시<br>년도=%{x}<br>발생건수=%{y}<extra></extra>",
         "legendgroup": "김해시",
         "line": {
          "color": "#FF6692",
          "dash": "solid"
         },
         "marker": {
          "symbol": "circle"
         },
         "mode": "lines+markers",
         "name": "김해시",
         "showlegend": true,
         "type": "scattergl",
         "x": [
          "2011년",
          "2012년",
          "2013년",
          "2014년",
          "2015년",
          "2016년",
          "2017년",
          "2018년",
          "2019년",
          "2020년",
          "2021년",
          "2022년"
         ],
         "xaxis": "x",
         "y": [
          3616,
          3645,
          3158,
          3784,
          2739,
          2380,
          2264,
          2408,
          2205,
          2441,
          2573,
          2757
         ],
         "yaxis": "y"
        },
        {
         "hovertemplate": "발생장소=마산시<br>년도=%{x}<br>발생건수=%{y}<extra></extra>",
         "legendgroup": "마산시",
         "line": {
          "color": "#B6E880",
          "dash": "solid"
         },
         "marker": {
          "symbol": "circle"
         },
         "mode": "lines+markers",
         "name": "마산시",
         "showlegend": true,
         "type": "scattergl",
         "x": [
          "2011년",
          "2012년",
          "2013년",
          "2014년",
          "2015년",
          "2016년",
          "2017년",
          "2018년",
          "2019년",
          "2020년",
          "2021년",
          "2022년"
         ],
         "xaxis": "x",
         "y": [
          3358,
          364,
          0,
          0,
          2,
          0,
          0,
          0,
          0,
          0,
          0,
          0
         ],
         "yaxis": "y"
        },
        {
         "hovertemplate": "발생장소=밀양시<br>년도=%{x}<br>발생건수=%{y}<extra></extra>",
         "legendgroup": "밀양시",
         "line": {
          "color": "#FF97FF",
          "dash": "solid"
         },
         "marker": {
          "symbol": "circle"
         },
         "mode": "lines+markers",
         "name": "밀양시",
         "showlegend": true,
         "type": "scattergl",
         "x": [
          "2011년",
          "2012년",
          "2013년",
          "2014년",
          "2015년",
          "2016년",
          "2017년",
          "2018년",
          "2019년",
          "2020년",
          "2021년",
          "2022년"
         ],
         "xaxis": "x",
         "y": [
          0,
          0,
          0,
          0,
          313,
          413,
          286,
          246,
          300,
          314,
          249,
          308
         ],
         "yaxis": "y"
        },
        {
         "hovertemplate": "발생장소=사천시<br>년도=%{x}<br>발생건수=%{y}<extra></extra>",
         "legendgroup": "사천시",
         "line": {
          "color": "#FECB52",
          "dash": "solid"
         },
         "marker": {
          "symbol": "circle"
         },
         "mode": "lines+markers",
         "name": "사천시",
         "showlegend": true,
         "type": "scattergl",
         "x": [
          "2011년",
          "2012년",
          "2013년",
          "2014년",
          "2015년",
          "2016년",
          "2017년",
          "2018년",
          "2019년",
          "2020년",
          "2021년",
          "2022년"
         ],
         "xaxis": "x",
         "y": [
          0,
          0,
          0,
          0,
          358,
          307,
          235,
          206,
          273,
          407,
          365,
          342
         ],
         "yaxis": "y"
        },
        {
         "hovertemplate": "발생장소=양산시<br>년도=%{x}<br>발생건수=%{y}<extra></extra>",
         "legendgroup": "양산시",
         "line": {
          "color": "#636efa",
          "dash": "solid"
         },
         "marker": {
          "symbol": "circle"
         },
         "mode": "lines+markers",
         "name": "양산시",
         "showlegend": true,
         "type": "scattergl",
         "x": [
          "2011년",
          "2012년",
          "2013년",
          "2014년",
          "2015년",
          "2016년",
          "2017년",
          "2018년",
          "2019년",
          "2020년",
          "2021년",
          "2022년"
         ],
         "xaxis": "x",
         "y": [
          1391,
          1504,
          1373,
          1274,
          1205,
          974,
          824,
          984,
          1278,
          1340,
          1067,
          1158
         ],
         "yaxis": "y"
        },
        {
         "hovertemplate": "발생장소=진주시<br>년도=%{x}<br>발생건수=%{y}<extra></extra>",
         "legendgroup": "진주시",
         "line": {
          "color": "#EF553B",
          "dash": "solid"
         },
         "marker": {
          "symbol": "circle"
         },
         "mode": "lines+markers",
         "name": "진주시",
         "showlegend": true,
         "type": "scattergl",
         "x": [
          "2011년",
          "2012년",
          "2013년",
          "2014년",
          "2015년",
          "2016년",
          "2017년",
          "2018년",
          "2019년",
          "2020년",
          "2021년",
          "2022년"
         ],
         "xaxis": "x",
         "y": [
          2100,
          1837,
          1866,
          2265,
          2032,
          1700,
          1641,
          1723,
          1605,
          2050,
          1857,
          2114
         ],
         "yaxis": "y"
        },
        {
         "hovertemplate": "발생장소=창원시<br>년도=%{x}<br>발생건수=%{y}<extra></extra>",
         "legendgroup": "창원시",
         "line": {
          "color": "#00cc96",
          "dash": "solid"
         },
         "marker": {
          "symbol": "circle"
         },
         "mode": "lines+markers",
         "name": "창원시",
         "showlegend": true,
         "type": "scattergl",
         "x": [
          "2011년",
          "2012년",
          "2013년",
          "2014년",
          "2015년",
          "2016년",
          "2017년",
          "2018년",
          "2019년",
          "2020년",
          "2021년",
          "2022년"
         ],
         "xaxis": "x",
         "y": [
          4758,
          6540,
          7179,
          5519,
          5860,
          3760,
          3561,
          3377,
          3699,
          3902,
          3386,
          3426
         ],
         "yaxis": "y"
        },
        {
         "hovertemplate": "발생장소=통영시<br>년도=%{x}<br>발생건수=%{y}<extra></extra>",
         "legendgroup": "통영시",
         "line": {
          "color": "#ab63fa",
          "dash": "solid"
         },
         "marker": {
          "symbol": "circle"
         },
         "mode": "lines+markers",
         "name": "통영시",
         "showlegend": true,
         "type": "scattergl",
         "x": [
          "2011년",
          "2012년",
          "2013년",
          "2014년",
          "2015년",
          "2016년",
          "2017년",
          "2018년",
          "2019년",
          "2020년",
          "2021년",
          "2022년"
         ],
         "xaxis": "x",
         "y": [
          0,
          0,
          0,
          0,
          602,
          551,
          480,
          412,
          466,
          478,
          412,
          387
         ],
         "yaxis": "y"
        },
        {
         "hovertemplate": "발생장소=서귀포시<br>년도=%{x}<br>발생건수=%{y}<extra></extra>",
         "legendgroup": "서귀포시",
         "line": {
          "color": "#FFA15A",
          "dash": "solid"
         },
         "marker": {
          "symbol": "circle"
         },
         "mode": "lines+markers",
         "name": "서귀포시",
         "showlegend": true,
         "type": "scattergl",
         "x": [
          "2011년",
          "2012년",
          "2013년",
          "2014년",
          "2015년",
          "2016년",
          "2017년",
          "2018년",
          "2019년",
          "2020년",
          "2021년",
          "2022년"
         ],
         "xaxis": "x",
         "y": [
          0,
          0,
          0,
          0,
          921,
          927,
          864,
          858,
          907,
          1155,
          860,
          886
         ],
         "yaxis": "y"
        },
        {
         "hovertemplate": "발생장소=제주시<br>년도=%{x}<br>발생건수=%{y}<extra></extra>",
         "legendgroup": "제주시",
         "line": {
          "color": "#19d3f3",
          "dash": "solid"
         },
         "marker": {
          "symbol": "circle"
         },
         "mode": "lines+markers",
         "name": "제주시",
         "showlegend": true,
         "type": "scattergl",
         "x": [
          "2011년",
          "2012년",
          "2013년",
          "2014년",
          "2015년",
          "2016년",
          "2017년",
          "2018년",
          "2019년",
          "2020년",
          "2021년",
          "2022년"
         ],
         "xaxis": "x",
         "y": [
          5405,
          5053,
          5834,
          4980,
          3309,
          2573,
          2359,
          2124,
          2325,
          2270,
          2194,
          2247
         ],
         "yaxis": "y"
        },
        {
         "hovertemplate": "발생장소=기타도시<br>년도=%{x}<br>발생건수=%{y}<extra></extra>",
         "legendgroup": "기타도시",
         "line": {
          "color": "#FF6692",
          "dash": "solid"
         },
         "marker": {
          "symbol": "circle"
         },
         "mode": "lines+markers",
         "name": "기타도시",
         "showlegend": true,
         "type": "scattergl",
         "x": [
          "2011년",
          "2012년",
          "2013년",
          "2014년",
          "2015년",
          "2016년",
          "2017년",
          "2018년",
          "2019년",
          "2020년",
          "2021년",
          "2022년"
         ],
         "xaxis": "x",
         "y": [
          17440,
          18734,
          18149,
          17551,
          643,
          369,
          19,
          49,
          31,
          24,
          38,
          43
         ],
         "yaxis": "y"
        },
        {
         "hovertemplate": "발생장소=도시이외<br>년도=%{x}<br>발생건수=%{y}<extra></extra>",
         "legendgroup": "도시이외",
         "line": {
          "color": "#B6E880",
          "dash": "solid"
         },
         "marker": {
          "symbol": "circle"
         },
         "mode": "lines+markers",
         "name": "도시이외",
         "showlegend": true,
         "type": "scattergl",
         "x": [
          "2011년",
          "2012년",
          "2013년",
          "2014년",
          "2015년",
          "2016년",
          "2017년",
          "2018년",
          "2019년",
          "2020년",
          "2021년",
          "2022년"
         ],
         "xaxis": "x",
         "y": [
          17298,
          16316,
          15794,
          13190,
          11754,
          9839,
          9207,
          8442,
          9419,
          9279,
          8658,
          9454
         ],
         "yaxis": "y"
        }
       ],
       "layout": {
        "legend": {
         "title": {
          "text": "발생장소"
         },
         "tracegroupgap": 0
        },
        "margin": {
         "t": 60
        },
        "template": {
         "data": {
          "bar": [
           {
            "error_x": {
             "color": "#2a3f5f"
            },
            "error_y": {
             "color": "#2a3f5f"
            },
            "marker": {
             "line": {
              "color": "#E5ECF6",
              "width": 0.5
             },
             "pattern": {
              "fillmode": "overlay",
              "size": 10,
              "solidity": 0.2
             }
            },
            "type": "bar"
           }
          ],
          "barpolar": [
           {
            "marker": {
             "line": {
              "color": "#E5ECF6",
              "width": 0.5
             },
             "pattern": {
              "fillmode": "overlay",
              "size": 10,
              "solidity": 0.2
             }
            },
            "type": "barpolar"
           }
          ],
          "carpet": [
           {
            "aaxis": {
             "endlinecolor": "#2a3f5f",
             "gridcolor": "white",
             "linecolor": "white",
             "minorgridcolor": "white",
             "startlinecolor": "#2a3f5f"
            },
            "baxis": {
             "endlinecolor": "#2a3f5f",
             "gridcolor": "white",
             "linecolor": "white",
             "minorgridcolor": "white",
             "startlinecolor": "#2a3f5f"
            },
            "type": "carpet"
           }
          ],
          "choropleth": [
           {
            "colorbar": {
             "outlinewidth": 0,
             "ticks": ""
            },
            "type": "choropleth"
           }
          ],
          "contour": [
           {
            "colorbar": {
             "outlinewidth": 0,
             "ticks": ""
            },
            "colorscale": [
             [
              0,
              "#0d0887"
             ],
             [
              0.1111111111111111,
              "#46039f"
             ],
             [
              0.2222222222222222,
              "#7201a8"
             ],
             [
              0.3333333333333333,
              "#9c179e"
             ],
             [
              0.4444444444444444,
              "#bd3786"
             ],
             [
              0.5555555555555556,
              "#d8576b"
             ],
             [
              0.6666666666666666,
              "#ed7953"
             ],
             [
              0.7777777777777778,
              "#fb9f3a"
             ],
             [
              0.8888888888888888,
              "#fdca26"
             ],
             [
              1,
              "#f0f921"
             ]
            ],
            "type": "contour"
           }
          ],
          "contourcarpet": [
           {
            "colorbar": {
             "outlinewidth": 0,
             "ticks": ""
            },
            "type": "contourcarpet"
           }
          ],
          "heatmap": [
           {
            "colorbar": {
             "outlinewidth": 0,
             "ticks": ""
            },
            "colorscale": [
             [
              0,
              "#0d0887"
             ],
             [
              0.1111111111111111,
              "#46039f"
             ],
             [
              0.2222222222222222,
              "#7201a8"
             ],
             [
              0.3333333333333333,
              "#9c179e"
             ],
             [
              0.4444444444444444,
              "#bd3786"
             ],
             [
              0.5555555555555556,
              "#d8576b"
             ],
             [
              0.6666666666666666,
              "#ed7953"
             ],
             [
              0.7777777777777778,
              "#fb9f3a"
             ],
             [
              0.8888888888888888,
              "#fdca26"
             ],
             [
              1,
              "#f0f921"
             ]
            ],
            "type": "heatmap"
           }
          ],
          "heatmapgl": [
           {
            "colorbar": {
             "outlinewidth": 0,
             "ticks": ""
            },
            "colorscale": [
             [
              0,
              "#0d0887"
             ],
             [
              0.1111111111111111,
              "#46039f"
             ],
             [
              0.2222222222222222,
              "#7201a8"
             ],
             [
              0.3333333333333333,
              "#9c179e"
             ],
             [
              0.4444444444444444,
              "#bd3786"
             ],
             [
              0.5555555555555556,
              "#d8576b"
             ],
             [
              0.6666666666666666,
              "#ed7953"
             ],
             [
              0.7777777777777778,
              "#fb9f3a"
             ],
             [
              0.8888888888888888,
              "#fdca26"
             ],
             [
              1,
              "#f0f921"
             ]
            ],
            "type": "heatmapgl"
           }
          ],
          "histogram": [
           {
            "marker": {
             "pattern": {
              "fillmode": "overlay",
              "size": 10,
              "solidity": 0.2
             }
            },
            "type": "histogram"
           }
          ],
          "histogram2d": [
           {
            "colorbar": {
             "outlinewidth": 0,
             "ticks": ""
            },
            "colorscale": [
             [
              0,
              "#0d0887"
             ],
             [
              0.1111111111111111,
              "#46039f"
             ],
             [
              0.2222222222222222,
              "#7201a8"
             ],
             [
              0.3333333333333333,
              "#9c179e"
             ],
             [
              0.4444444444444444,
              "#bd3786"
             ],
             [
              0.5555555555555556,
              "#d8576b"
             ],
             [
              0.6666666666666666,
              "#ed7953"
             ],
             [
              0.7777777777777778,
              "#fb9f3a"
             ],
             [
              0.8888888888888888,
              "#fdca26"
             ],
             [
              1,
              "#f0f921"
             ]
            ],
            "type": "histogram2d"
           }
          ],
          "histogram2dcontour": [
           {
            "colorbar": {
             "outlinewidth": 0,
             "ticks": ""
            },
            "colorscale": [
             [
              0,
              "#0d0887"
             ],
             [
              0.1111111111111111,
              "#46039f"
             ],
             [
              0.2222222222222222,
              "#7201a8"
             ],
             [
              0.3333333333333333,
              "#9c179e"
             ],
             [
              0.4444444444444444,
              "#bd3786"
             ],
             [
              0.5555555555555556,
              "#d8576b"
             ],
             [
              0.6666666666666666,
              "#ed7953"
             ],
             [
              0.7777777777777778,
              "#fb9f3a"
             ],
             [
              0.8888888888888888,
              "#fdca26"
             ],
             [
              1,
              "#f0f921"
             ]
            ],
            "type": "histogram2dcontour"
           }
          ],
          "mesh3d": [
           {
            "colorbar": {
             "outlinewidth": 0,
             "ticks": ""
            },
            "type": "mesh3d"
           }
          ],
          "parcoords": [
           {
            "line": {
             "colorbar": {
              "outlinewidth": 0,
              "ticks": ""
             }
            },
            "type": "parcoords"
           }
          ],
          "pie": [
           {
            "automargin": true,
            "type": "pie"
           }
          ],
          "scatter": [
           {
            "fillpattern": {
             "fillmode": "overlay",
             "size": 10,
             "solidity": 0.2
            },
            "type": "scatter"
           }
          ],
          "scatter3d": [
           {
            "line": {
             "colorbar": {
              "outlinewidth": 0,
              "ticks": ""
             }
            },
            "marker": {
             "colorbar": {
              "outlinewidth": 0,
              "ticks": ""
             }
            },
            "type": "scatter3d"
           }
          ],
          "scattercarpet": [
           {
            "marker": {
             "colorbar": {
              "outlinewidth": 0,
              "ticks": ""
             }
            },
            "type": "scattercarpet"
           }
          ],
          "scattergeo": [
           {
            "marker": {
             "colorbar": {
              "outlinewidth": 0,
              "ticks": ""
             }
            },
            "type": "scattergeo"
           }
          ],
          "scattergl": [
           {
            "marker": {
             "colorbar": {
              "outlinewidth": 0,
              "ticks": ""
             }
            },
            "type": "scattergl"
           }
          ],
          "scattermapbox": [
           {
            "marker": {
             "colorbar": {
              "outlinewidth": 0,
              "ticks": ""
             }
            },
            "type": "scattermapbox"
           }
          ],
          "scatterpolar": [
           {
            "marker": {
             "colorbar": {
              "outlinewidth": 0,
              "ticks": ""
             }
            },
            "type": "scatterpolar"
           }
          ],
          "scatterpolargl": [
           {
            "marker": {
             "colorbar": {
              "outlinewidth": 0,
              "ticks": ""
             }
            },
            "type": "scatterpolargl"
           }
          ],
          "scatterternary": [
           {
            "marker": {
             "colorbar": {
              "outlinewidth": 0,
              "ticks": ""
             }
            },
            "type": "scatterternary"
           }
          ],
          "surface": [
           {
            "colorbar": {
             "outlinewidth": 0,
             "ticks": ""
            },
            "colorscale": [
             [
              0,
              "#0d0887"
             ],
             [
              0.1111111111111111,
              "#46039f"
             ],
             [
              0.2222222222222222,
              "#7201a8"
             ],
             [
              0.3333333333333333,
              "#9c179e"
             ],
             [
              0.4444444444444444,
              "#bd3786"
             ],
             [
              0.5555555555555556,
              "#d8576b"
             ],
             [
              0.6666666666666666,
              "#ed7953"
             ],
             [
              0.7777777777777778,
              "#fb9f3a"
             ],
             [
              0.8888888888888888,
              "#fdca26"
             ],
             [
              1,
              "#f0f921"
             ]
            ],
            "type": "surface"
           }
          ],
          "table": [
           {
            "cells": {
             "fill": {
              "color": "#EBF0F8"
             },
             "line": {
              "color": "white"
             }
            },
            "header": {
             "fill": {
              "color": "#C8D4E3"
             },
             "line": {
              "color": "white"
             }
            },
            "type": "table"
           }
          ]
         },
         "layout": {
          "annotationdefaults": {
           "arrowcolor": "#2a3f5f",
           "arrowhead": 0,
           "arrowwidth": 1
          },
          "autotypenumbers": "strict",
          "coloraxis": {
           "colorbar": {
            "outlinewidth": 0,
            "ticks": ""
           }
          },
          "colorscale": {
           "diverging": [
            [
             0,
             "#8e0152"
            ],
            [
             0.1,
             "#c51b7d"
            ],
            [
             0.2,
             "#de77ae"
            ],
            [
             0.3,
             "#f1b6da"
            ],
            [
             0.4,
             "#fde0ef"
            ],
            [
             0.5,
             "#f7f7f7"
            ],
            [
             0.6,
             "#e6f5d0"
            ],
            [
             0.7,
             "#b8e186"
            ],
            [
             0.8,
             "#7fbc41"
            ],
            [
             0.9,
             "#4d9221"
            ],
            [
             1,
             "#276419"
            ]
           ],
           "sequential": [
            [
             0,
             "#0d0887"
            ],
            [
             0.1111111111111111,
             "#46039f"
            ],
            [
             0.2222222222222222,
             "#7201a8"
            ],
            [
             0.3333333333333333,
             "#9c179e"
            ],
            [
             0.4444444444444444,
             "#bd3786"
            ],
            [
             0.5555555555555556,
             "#d8576b"
            ],
            [
             0.6666666666666666,
             "#ed7953"
            ],
            [
             0.7777777777777778,
             "#fb9f3a"
            ],
            [
             0.8888888888888888,
             "#fdca26"
            ],
            [
             1,
             "#f0f921"
            ]
           ],
           "sequentialminus": [
            [
             0,
             "#0d0887"
            ],
            [
             0.1111111111111111,
             "#46039f"
            ],
            [
             0.2222222222222222,
             "#7201a8"
            ],
            [
             0.3333333333333333,
             "#9c179e"
            ],
            [
             0.4444444444444444,
             "#bd3786"
            ],
            [
             0.5555555555555556,
             "#d8576b"
            ],
            [
             0.6666666666666666,
             "#ed7953"
            ],
            [
             0.7777777777777778,
             "#fb9f3a"
            ],
            [
             0.8888888888888888,
             "#fdca26"
            ],
            [
             1,
             "#f0f921"
            ]
           ]
          },
          "colorway": [
           "#636efa",
           "#EF553B",
           "#00cc96",
           "#ab63fa",
           "#FFA15A",
           "#19d3f3",
           "#FF6692",
           "#B6E880",
           "#FF97FF",
           "#FECB52"
          ],
          "font": {
           "color": "#2a3f5f"
          },
          "geo": {
           "bgcolor": "white",
           "lakecolor": "white",
           "landcolor": "#E5ECF6",
           "showlakes": true,
           "showland": true,
           "subunitcolor": "white"
          },
          "hoverlabel": {
           "align": "left"
          },
          "hovermode": "closest",
          "mapbox": {
           "style": "light"
          },
          "paper_bgcolor": "white",
          "plot_bgcolor": "#E5ECF6",
          "polar": {
           "angularaxis": {
            "gridcolor": "white",
            "linecolor": "white",
            "ticks": ""
           },
           "bgcolor": "#E5ECF6",
           "radialaxis": {
            "gridcolor": "white",
            "linecolor": "white",
            "ticks": ""
           }
          },
          "scene": {
           "xaxis": {
            "backgroundcolor": "#E5ECF6",
            "gridcolor": "white",
            "gridwidth": 2,
            "linecolor": "white",
            "showbackground": true,
            "ticks": "",
            "zerolinecolor": "white"
           },
           "yaxis": {
            "backgroundcolor": "#E5ECF6",
            "gridcolor": "white",
            "gridwidth": 2,
            "linecolor": "white",
            "showbackground": true,
            "ticks": "",
            "zerolinecolor": "white"
           },
           "zaxis": {
            "backgroundcolor": "#E5ECF6",
            "gridcolor": "white",
            "gridwidth": 2,
            "linecolor": "white",
            "showbackground": true,
            "ticks": "",
            "zerolinecolor": "white"
           }
          },
          "shapedefaults": {
           "line": {
            "color": "#2a3f5f"
           }
          },
          "ternary": {
           "aaxis": {
            "gridcolor": "white",
            "linecolor": "white",
            "ticks": ""
           },
           "baxis": {
            "gridcolor": "white",
            "linecolor": "white",
            "ticks": ""
           },
           "bgcolor": "#E5ECF6",
           "caxis": {
            "gridcolor": "white",
            "linecolor": "white",
            "ticks": ""
           }
          },
          "title": {
           "x": 0.05
          },
          "xaxis": {
           "automargin": true,
           "gridcolor": "white",
           "linecolor": "white",
           "ticks": "",
           "title": {
            "standoff": 15
           },
           "zerolinecolor": "white",
           "zerolinewidth": 2
          },
          "yaxis": {
           "automargin": true,
           "gridcolor": "white",
           "linecolor": "white",
           "ticks": "",
           "title": {
            "standoff": 15
           },
           "zerolinecolor": "white",
           "zerolinewidth": 2
          }
         }
        },
        "title": {
         "font": {
          "size": 22
         },
         "text": "년도별 발생 지역에 따른 절도범죄 발생 건 수",
         "x": 0.5
        },
        "xaxis": {
         "anchor": "y",
         "domain": [
          0,
          1
         ],
         "tickangle": -45,
         "title": {
          "text": "년도"
         }
        },
        "yaxis": {
         "anchor": "x",
         "domain": [
          0,
          1
         ],
         "title": {
          "text": "발생건수"
         }
        }
       }
      }
     },
     "metadata": {},
     "output_type": "display_data"
    }
   ],
   "source": [
    "fig = px.line(theft_dosi_df, x=\"년도\", y=\"발생건수\", color=\"발생장소\", markers=True )\n",
    "fig.update_layout(title_text=\"년도별 발생 지역에 따른 절도범죄 발생 건 수\", xaxis_tickangle=-45, title_x = 0.5, title_font_size=22)\n",
    "fig.show()"
   ]
  },
  {
   "cell_type": "code",
   "execution_count": 70,
   "metadata": {},
   "outputs": [
    {
     "data": {
      "text/html": [
       "<div>\n",
       "<style scoped>\n",
       "    .dataframe tbody tr th:only-of-type {\n",
       "        vertical-align: middle;\n",
       "    }\n",
       "\n",
       "    .dataframe tbody tr th {\n",
       "        vertical-align: top;\n",
       "    }\n",
       "\n",
       "    .dataframe thead th {\n",
       "        text-align: right;\n",
       "    }\n",
       "</style>\n",
       "<table border=\"1\" class=\"dataframe\">\n",
       "  <thead>\n",
       "    <tr style=\"text-align: right;\">\n",
       "      <th></th>\n",
       "      <th>대</th>\n",
       "      <th>중</th>\n",
       "      <th>소</th>\n",
       "      <th>발생장소</th>\n",
       "      <th>2011년</th>\n",
       "      <th>2012년</th>\n",
       "      <th>2013년</th>\n",
       "      <th>2014년</th>\n",
       "      <th>2015년</th>\n",
       "      <th>2016년</th>\n",
       "      <th>2017년</th>\n",
       "      <th>2018년</th>\n",
       "      <th>2019년</th>\n",
       "      <th>2020년</th>\n",
       "      <th>2021년</th>\n",
       "      <th>2022년</th>\n",
       "    </tr>\n",
       "  </thead>\n",
       "  <tbody>\n",
       "    <tr>\n",
       "      <th>3311</th>\n",
       "      <td>총범죄</td>\n",
       "      <td>교통범죄</td>\n",
       "      <td>소계</td>\n",
       "      <td>서울</td>\n",
       "      <td>87467</td>\n",
       "      <td>79627</td>\n",
       "      <td>86560</td>\n",
       "      <td>76497</td>\n",
       "      <td>74958</td>\n",
       "      <td>74270</td>\n",
       "      <td>67430</td>\n",
       "      <td>61132</td>\n",
       "      <td>55273</td>\n",
       "      <td>50895</td>\n",
       "      <td>43206</td>\n",
       "      <td>32013</td>\n",
       "    </tr>\n",
       "    <tr>\n",
       "      <th>3312</th>\n",
       "      <td>총범죄</td>\n",
       "      <td>교통범죄</td>\n",
       "      <td>소계</td>\n",
       "      <td>부산</td>\n",
       "      <td>32131</td>\n",
       "      <td>32758</td>\n",
       "      <td>31638</td>\n",
       "      <td>36035</td>\n",
       "      <td>35841</td>\n",
       "      <td>32944</td>\n",
       "      <td>28061</td>\n",
       "      <td>22894</td>\n",
       "      <td>20433</td>\n",
       "      <td>18201</td>\n",
       "      <td>16160</td>\n",
       "      <td>12176</td>\n",
       "    </tr>\n",
       "    <tr>\n",
       "      <th>3313</th>\n",
       "      <td>총범죄</td>\n",
       "      <td>교통범죄</td>\n",
       "      <td>소계</td>\n",
       "      <td>대구</td>\n",
       "      <td>34209</td>\n",
       "      <td>36180</td>\n",
       "      <td>35431</td>\n",
       "      <td>38676</td>\n",
       "      <td>39725</td>\n",
       "      <td>31682</td>\n",
       "      <td>25380</td>\n",
       "      <td>22200</td>\n",
       "      <td>21012</td>\n",
       "      <td>19005</td>\n",
       "      <td>16619</td>\n",
       "      <td>12610</td>\n",
       "    </tr>\n",
       "    <tr>\n",
       "      <th>3314</th>\n",
       "      <td>총범죄</td>\n",
       "      <td>교통범죄</td>\n",
       "      <td>소계</td>\n",
       "      <td>인천</td>\n",
       "      <td>28086</td>\n",
       "      <td>30491</td>\n",
       "      <td>30232</td>\n",
       "      <td>32322</td>\n",
       "      <td>31163</td>\n",
       "      <td>30972</td>\n",
       "      <td>24507</td>\n",
       "      <td>18173</td>\n",
       "      <td>17749</td>\n",
       "      <td>16771</td>\n",
       "      <td>14459</td>\n",
       "      <td>11926</td>\n",
       "    </tr>\n",
       "    <tr>\n",
       "      <th>3315</th>\n",
       "      <td>총범죄</td>\n",
       "      <td>교통범죄</td>\n",
       "      <td>소계</td>\n",
       "      <td>광주</td>\n",
       "      <td>21878</td>\n",
       "      <td>24387</td>\n",
       "      <td>26251</td>\n",
       "      <td>24008</td>\n",
       "      <td>23412</td>\n",
       "      <td>22137</td>\n",
       "      <td>18734</td>\n",
       "      <td>13779</td>\n",
       "      <td>12747</td>\n",
       "      <td>12432</td>\n",
       "      <td>11121</td>\n",
       "      <td>7827</td>\n",
       "    </tr>\n",
       "    <tr>\n",
       "      <th>...</th>\n",
       "      <td>...</td>\n",
       "      <td>...</td>\n",
       "      <td>...</td>\n",
       "      <td>...</td>\n",
       "      <td>...</td>\n",
       "      <td>...</td>\n",
       "      <td>...</td>\n",
       "      <td>...</td>\n",
       "      <td>...</td>\n",
       "      <td>...</td>\n",
       "      <td>...</td>\n",
       "      <td>...</td>\n",
       "      <td>...</td>\n",
       "      <td>...</td>\n",
       "      <td>...</td>\n",
       "      <td>...</td>\n",
       "    </tr>\n",
       "    <tr>\n",
       "      <th>3394</th>\n",
       "      <td>총범죄</td>\n",
       "      <td>교통범죄</td>\n",
       "      <td>소계</td>\n",
       "      <td>통영시</td>\n",
       "      <td>0</td>\n",
       "      <td>0</td>\n",
       "      <td>0</td>\n",
       "      <td>0</td>\n",
       "      <td>2936</td>\n",
       "      <td>2430</td>\n",
       "      <td>2031</td>\n",
       "      <td>1350</td>\n",
       "      <td>1262</td>\n",
       "      <td>1245</td>\n",
       "      <td>1019</td>\n",
       "      <td>825</td>\n",
       "    </tr>\n",
       "    <tr>\n",
       "      <th>3395</th>\n",
       "      <td>총범죄</td>\n",
       "      <td>교통범죄</td>\n",
       "      <td>소계</td>\n",
       "      <td>서귀포시</td>\n",
       "      <td>0</td>\n",
       "      <td>0</td>\n",
       "      <td>0</td>\n",
       "      <td>0</td>\n",
       "      <td>3581</td>\n",
       "      <td>4060</td>\n",
       "      <td>3713</td>\n",
       "      <td>2378</td>\n",
       "      <td>1895</td>\n",
       "      <td>1904</td>\n",
       "      <td>1916</td>\n",
       "      <td>1382</td>\n",
       "    </tr>\n",
       "    <tr>\n",
       "      <th>3396</th>\n",
       "      <td>총범죄</td>\n",
       "      <td>교통범죄</td>\n",
       "      <td>소계</td>\n",
       "      <td>제주시</td>\n",
       "      <td>7422</td>\n",
       "      <td>9328</td>\n",
       "      <td>11848</td>\n",
       "      <td>12953</td>\n",
       "      <td>10857</td>\n",
       "      <td>11642</td>\n",
       "      <td>9936</td>\n",
       "      <td>6417</td>\n",
       "      <td>5147</td>\n",
       "      <td>4632</td>\n",
       "      <td>4266</td>\n",
       "      <td>3052</td>\n",
       "    </tr>\n",
       "    <tr>\n",
       "      <th>3397</th>\n",
       "      <td>총범죄</td>\n",
       "      <td>교통범죄</td>\n",
       "      <td>소계</td>\n",
       "      <td>기타도시</td>\n",
       "      <td>45967</td>\n",
       "      <td>47685</td>\n",
       "      <td>53138</td>\n",
       "      <td>55076</td>\n",
       "      <td>2325</td>\n",
       "      <td>1287</td>\n",
       "      <td>239</td>\n",
       "      <td>319</td>\n",
       "      <td>184</td>\n",
       "      <td>129</td>\n",
       "      <td>204</td>\n",
       "      <td>323</td>\n",
       "    </tr>\n",
       "    <tr>\n",
       "      <th>3398</th>\n",
       "      <td>총범죄</td>\n",
       "      <td>교통범죄</td>\n",
       "      <td>소계</td>\n",
       "      <td>도시이외</td>\n",
       "      <td>44170</td>\n",
       "      <td>44198</td>\n",
       "      <td>45762</td>\n",
       "      <td>44680</td>\n",
       "      <td>43877</td>\n",
       "      <td>43990</td>\n",
       "      <td>37639</td>\n",
       "      <td>30914</td>\n",
       "      <td>29603</td>\n",
       "      <td>27287</td>\n",
       "      <td>24503</td>\n",
       "      <td>20094</td>\n",
       "    </tr>\n",
       "  </tbody>\n",
       "</table>\n",
       "<p>88 rows × 16 columns</p>\n",
       "</div>"
      ],
      "text/plain": [
       "        대     중   소  발생장소  2011년  2012년  2013년  2014년  2015년  2016년  2017년  \\\n",
       "3311  총범죄  교통범죄  소계    서울  87467  79627  86560  76497  74958  74270  67430   \n",
       "3312  총범죄  교통범죄  소계    부산  32131  32758  31638  36035  35841  32944  28061   \n",
       "3313  총범죄  교통범죄  소계    대구  34209  36180  35431  38676  39725  31682  25380   \n",
       "3314  총범죄  교통범죄  소계    인천  28086  30491  30232  32322  31163  30972  24507   \n",
       "3315  총범죄  교통범죄  소계    광주  21878  24387  26251  24008  23412  22137  18734   \n",
       "...   ...   ...  ..   ...    ...    ...    ...    ...    ...    ...    ...   \n",
       "3394  총범죄  교통범죄  소계   통영시      0      0      0      0   2936   2430   2031   \n",
       "3395  총범죄  교통범죄  소계  서귀포시      0      0      0      0   3581   4060   3713   \n",
       "3396  총범죄  교통범죄  소계   제주시   7422   9328  11848  12953  10857  11642   9936   \n",
       "3397  총범죄  교통범죄  소계  기타도시  45967  47685  53138  55076   2325   1287    239   \n",
       "3398  총범죄  교통범죄  소계  도시이외  44170  44198  45762  44680  43877  43990  37639   \n",
       "\n",
       "      2018년  2019년  2020년  2021년  2022년  \n",
       "3311  61132  55273  50895  43206  32013  \n",
       "3312  22894  20433  18201  16160  12176  \n",
       "3313  22200  21012  19005  16619  12610  \n",
       "3314  18173  17749  16771  14459  11926  \n",
       "3315  13779  12747  12432  11121   7827  \n",
       "...     ...    ...    ...    ...    ...  \n",
       "3394   1350   1262   1245   1019    825  \n",
       "3395   2378   1895   1904   1916   1382  \n",
       "3396   6417   5147   4632   4266   3052  \n",
       "3397    319    184    129    204    323  \n",
       "3398  30914  29603  27287  24503  20094  \n",
       "\n",
       "[88 rows x 16 columns]"
      ]
     },
     "execution_count": 70,
     "metadata": {},
     "output_type": "execute_result"
    }
   ],
   "source": [
    "vehicle_sido_df = crime_dosi_df[crime_dosi_df[\"중\"]== \"교통범죄\"]\n",
    "vehicle_sido_df"
   ]
  },
  {
   "cell_type": "code",
   "execution_count": 71,
   "metadata": {},
   "outputs": [
    {
     "data": {
      "text/html": [
       "<div>\n",
       "<style scoped>\n",
       "    .dataframe tbody tr th:only-of-type {\n",
       "        vertical-align: middle;\n",
       "    }\n",
       "\n",
       "    .dataframe tbody tr th {\n",
       "        vertical-align: top;\n",
       "    }\n",
       "\n",
       "    .dataframe thead th {\n",
       "        text-align: right;\n",
       "    }\n",
       "</style>\n",
       "<table border=\"1\" class=\"dataframe\">\n",
       "  <thead>\n",
       "    <tr style=\"text-align: right;\">\n",
       "      <th></th>\n",
       "      <th>대</th>\n",
       "      <th>중</th>\n",
       "      <th>소</th>\n",
       "      <th>발생장소</th>\n",
       "      <th>년도</th>\n",
       "      <th>발생건수</th>\n",
       "    </tr>\n",
       "  </thead>\n",
       "  <tbody>\n",
       "    <tr>\n",
       "      <th>0</th>\n",
       "      <td>총범죄</td>\n",
       "      <td>교통범죄</td>\n",
       "      <td>소계</td>\n",
       "      <td>서울</td>\n",
       "      <td>2011년</td>\n",
       "      <td>87467</td>\n",
       "    </tr>\n",
       "    <tr>\n",
       "      <th>1</th>\n",
       "      <td>총범죄</td>\n",
       "      <td>교통범죄</td>\n",
       "      <td>소계</td>\n",
       "      <td>부산</td>\n",
       "      <td>2011년</td>\n",
       "      <td>32131</td>\n",
       "    </tr>\n",
       "    <tr>\n",
       "      <th>2</th>\n",
       "      <td>총범죄</td>\n",
       "      <td>교통범죄</td>\n",
       "      <td>소계</td>\n",
       "      <td>대구</td>\n",
       "      <td>2011년</td>\n",
       "      <td>34209</td>\n",
       "    </tr>\n",
       "    <tr>\n",
       "      <th>3</th>\n",
       "      <td>총범죄</td>\n",
       "      <td>교통범죄</td>\n",
       "      <td>소계</td>\n",
       "      <td>인천</td>\n",
       "      <td>2011년</td>\n",
       "      <td>28086</td>\n",
       "    </tr>\n",
       "    <tr>\n",
       "      <th>4</th>\n",
       "      <td>총범죄</td>\n",
       "      <td>교통범죄</td>\n",
       "      <td>소계</td>\n",
       "      <td>광주</td>\n",
       "      <td>2011년</td>\n",
       "      <td>21878</td>\n",
       "    </tr>\n",
       "    <tr>\n",
       "      <th>...</th>\n",
       "      <td>...</td>\n",
       "      <td>...</td>\n",
       "      <td>...</td>\n",
       "      <td>...</td>\n",
       "      <td>...</td>\n",
       "      <td>...</td>\n",
       "    </tr>\n",
       "    <tr>\n",
       "      <th>1051</th>\n",
       "      <td>총범죄</td>\n",
       "      <td>교통범죄</td>\n",
       "      <td>소계</td>\n",
       "      <td>통영시</td>\n",
       "      <td>2022년</td>\n",
       "      <td>825</td>\n",
       "    </tr>\n",
       "    <tr>\n",
       "      <th>1052</th>\n",
       "      <td>총범죄</td>\n",
       "      <td>교통범죄</td>\n",
       "      <td>소계</td>\n",
       "      <td>서귀포시</td>\n",
       "      <td>2022년</td>\n",
       "      <td>1382</td>\n",
       "    </tr>\n",
       "    <tr>\n",
       "      <th>1053</th>\n",
       "      <td>총범죄</td>\n",
       "      <td>교통범죄</td>\n",
       "      <td>소계</td>\n",
       "      <td>제주시</td>\n",
       "      <td>2022년</td>\n",
       "      <td>3052</td>\n",
       "    </tr>\n",
       "    <tr>\n",
       "      <th>1054</th>\n",
       "      <td>총범죄</td>\n",
       "      <td>교통범죄</td>\n",
       "      <td>소계</td>\n",
       "      <td>기타도시</td>\n",
       "      <td>2022년</td>\n",
       "      <td>323</td>\n",
       "    </tr>\n",
       "    <tr>\n",
       "      <th>1055</th>\n",
       "      <td>총범죄</td>\n",
       "      <td>교통범죄</td>\n",
       "      <td>소계</td>\n",
       "      <td>도시이외</td>\n",
       "      <td>2022년</td>\n",
       "      <td>20094</td>\n",
       "    </tr>\n",
       "  </tbody>\n",
       "</table>\n",
       "<p>1056 rows × 6 columns</p>\n",
       "</div>"
      ],
      "text/plain": [
       "        대     중   소  발생장소     년도   발생건수\n",
       "0     총범죄  교통범죄  소계    서울  2011년  87467\n",
       "1     총범죄  교통범죄  소계    부산  2011년  32131\n",
       "2     총범죄  교통범죄  소계    대구  2011년  34209\n",
       "3     총범죄  교통범죄  소계    인천  2011년  28086\n",
       "4     총범죄  교통범죄  소계    광주  2011년  21878\n",
       "...   ...   ...  ..   ...    ...    ...\n",
       "1051  총범죄  교통범죄  소계   통영시  2022년    825\n",
       "1052  총범죄  교통범죄  소계  서귀포시  2022년   1382\n",
       "1053  총범죄  교통범죄  소계   제주시  2022년   3052\n",
       "1054  총범죄  교통범죄  소계  기타도시  2022년    323\n",
       "1055  총범죄  교통범죄  소계  도시이외  2022년  20094\n",
       "\n",
       "[1056 rows x 6 columns]"
      ]
     },
     "execution_count": 71,
     "metadata": {},
     "output_type": "execute_result"
    }
   ],
   "source": [
    "vehicle_sido_df = vehicle_sido_df.melt(id_vars=[\"대\",\"중\",\"소\",\"발생장소\"], var_name=\"년도\", value_name=\"발생건수\")\n",
    "vehicle_sido_df"
   ]
  },
  {
   "cell_type": "code",
   "execution_count": 72,
   "metadata": {},
   "outputs": [
    {
     "data": {
      "text/html": [
       "<div>\n",
       "<style scoped>\n",
       "    .dataframe tbody tr th:only-of-type {\n",
       "        vertical-align: middle;\n",
       "    }\n",
       "\n",
       "    .dataframe tbody tr th {\n",
       "        vertical-align: top;\n",
       "    }\n",
       "\n",
       "    .dataframe thead th {\n",
       "        text-align: right;\n",
       "    }\n",
       "</style>\n",
       "<table border=\"1\" class=\"dataframe\">\n",
       "  <thead>\n",
       "    <tr style=\"text-align: right;\">\n",
       "      <th></th>\n",
       "      <th>대</th>\n",
       "      <th>중</th>\n",
       "      <th>소</th>\n",
       "      <th>발생장소</th>\n",
       "      <th>년도</th>\n",
       "      <th>발생건수</th>\n",
       "    </tr>\n",
       "  </thead>\n",
       "  <tbody>\n",
       "    <tr>\n",
       "      <th>440</th>\n",
       "      <td>총범죄</td>\n",
       "      <td>교통범죄</td>\n",
       "      <td>소계</td>\n",
       "      <td>서울</td>\n",
       "      <td>2016년</td>\n",
       "      <td>74270</td>\n",
       "    </tr>\n",
       "    <tr>\n",
       "      <th>441</th>\n",
       "      <td>총범죄</td>\n",
       "      <td>교통범죄</td>\n",
       "      <td>소계</td>\n",
       "      <td>부산</td>\n",
       "      <td>2016년</td>\n",
       "      <td>32944</td>\n",
       "    </tr>\n",
       "    <tr>\n",
       "      <th>442</th>\n",
       "      <td>총범죄</td>\n",
       "      <td>교통범죄</td>\n",
       "      <td>소계</td>\n",
       "      <td>대구</td>\n",
       "      <td>2016년</td>\n",
       "      <td>31682</td>\n",
       "    </tr>\n",
       "    <tr>\n",
       "      <th>443</th>\n",
       "      <td>총범죄</td>\n",
       "      <td>교통범죄</td>\n",
       "      <td>소계</td>\n",
       "      <td>인천</td>\n",
       "      <td>2016년</td>\n",
       "      <td>30972</td>\n",
       "    </tr>\n",
       "    <tr>\n",
       "      <th>444</th>\n",
       "      <td>총범죄</td>\n",
       "      <td>교통범죄</td>\n",
       "      <td>소계</td>\n",
       "      <td>광주</td>\n",
       "      <td>2016년</td>\n",
       "      <td>22137</td>\n",
       "    </tr>\n",
       "    <tr>\n",
       "      <th>...</th>\n",
       "      <td>...</td>\n",
       "      <td>...</td>\n",
       "      <td>...</td>\n",
       "      <td>...</td>\n",
       "      <td>...</td>\n",
       "      <td>...</td>\n",
       "    </tr>\n",
       "    <tr>\n",
       "      <th>1051</th>\n",
       "      <td>총범죄</td>\n",
       "      <td>교통범죄</td>\n",
       "      <td>소계</td>\n",
       "      <td>통영시</td>\n",
       "      <td>2022년</td>\n",
       "      <td>825</td>\n",
       "    </tr>\n",
       "    <tr>\n",
       "      <th>1052</th>\n",
       "      <td>총범죄</td>\n",
       "      <td>교통범죄</td>\n",
       "      <td>소계</td>\n",
       "      <td>서귀포시</td>\n",
       "      <td>2022년</td>\n",
       "      <td>1382</td>\n",
       "    </tr>\n",
       "    <tr>\n",
       "      <th>1053</th>\n",
       "      <td>총범죄</td>\n",
       "      <td>교통범죄</td>\n",
       "      <td>소계</td>\n",
       "      <td>제주시</td>\n",
       "      <td>2022년</td>\n",
       "      <td>3052</td>\n",
       "    </tr>\n",
       "    <tr>\n",
       "      <th>1054</th>\n",
       "      <td>총범죄</td>\n",
       "      <td>교통범죄</td>\n",
       "      <td>소계</td>\n",
       "      <td>기타도시</td>\n",
       "      <td>2022년</td>\n",
       "      <td>323</td>\n",
       "    </tr>\n",
       "    <tr>\n",
       "      <th>1055</th>\n",
       "      <td>총범죄</td>\n",
       "      <td>교통범죄</td>\n",
       "      <td>소계</td>\n",
       "      <td>도시이외</td>\n",
       "      <td>2022년</td>\n",
       "      <td>20094</td>\n",
       "    </tr>\n",
       "  </tbody>\n",
       "</table>\n",
       "<p>616 rows × 6 columns</p>\n",
       "</div>"
      ],
      "text/plain": [
       "        대     중   소  발생장소     년도   발생건수\n",
       "440   총범죄  교통범죄  소계    서울  2016년  74270\n",
       "441   총범죄  교통범죄  소계    부산  2016년  32944\n",
       "442   총범죄  교통범죄  소계    대구  2016년  31682\n",
       "443   총범죄  교통범죄  소계    인천  2016년  30972\n",
       "444   총범죄  교통범죄  소계    광주  2016년  22137\n",
       "...   ...   ...  ..   ...    ...    ...\n",
       "1051  총범죄  교통범죄  소계   통영시  2022년    825\n",
       "1052  총범죄  교통범죄  소계  서귀포시  2022년   1382\n",
       "1053  총범죄  교통범죄  소계   제주시  2022년   3052\n",
       "1054  총범죄  교통범죄  소계  기타도시  2022년    323\n",
       "1055  총범죄  교통범죄  소계  도시이외  2022년  20094\n",
       "\n",
       "[616 rows x 6 columns]"
      ]
     },
     "execution_count": 72,
     "metadata": {},
     "output_type": "execute_result"
    }
   ],
   "source": [
    "vehicle_sido_df = vehicle_sido_df[( vehicle_sido_df[\"년도\"] == \"2016년\" ) | ( vehicle_sido_df[\"년도\"] == \"2017년\" ) | ( vehicle_sido_df[\"년도\"] == \"2018년\" ) | ( vehicle_sido_df[\"년도\"] == \"2019년\" )| ( vehicle_sido_df[\"년도\"] == \"2020년\" )| ( vehicle_sido_df[\"년도\"] == \"2021년\" )| ( vehicle_sido_df[\"년도\"] == \"2022년\" ) ]\n",
    "vehicle_sido_df"
   ]
  },
  {
   "cell_type": "code",
   "execution_count": 108,
   "metadata": {},
   "outputs": [
    {
     "data": {
      "application/vnd.plotly.v1+json": {
       "config": {
        "plotlyServerURL": "https://plot.ly"
       },
       "data": [
        {
         "hovertemplate": "발생장소=서울<br>년도=%{x}<br>발생건수=%{y}<extra></extra>",
         "legendgroup": "서울",
         "line": {
          "color": "#636efa",
          "dash": "solid"
         },
         "marker": {
          "symbol": "circle"
         },
         "mode": "lines+markers",
         "name": "서울",
         "orientation": "v",
         "showlegend": true,
         "type": "scatter",
         "x": [
          "2016년",
          "2017년",
          "2018년",
          "2019년",
          "2020년",
          "2021년",
          "2022년"
         ],
         "xaxis": "x",
         "y": [
          74270,
          67430,
          61132,
          55273,
          50895,
          43206,
          32013
         ],
         "yaxis": "y"
        },
        {
         "hovertemplate": "발생장소=부산<br>년도=%{x}<br>발생건수=%{y}<extra></extra>",
         "legendgroup": "부산",
         "line": {
          "color": "#EF553B",
          "dash": "solid"
         },
         "marker": {
          "symbol": "circle"
         },
         "mode": "lines+markers",
         "name": "부산",
         "orientation": "v",
         "showlegend": true,
         "type": "scatter",
         "x": [
          "2016년",
          "2017년",
          "2018년",
          "2019년",
          "2020년",
          "2021년",
          "2022년"
         ],
         "xaxis": "x",
         "y": [
          32944,
          28061,
          22894,
          20433,
          18201,
          16160,
          12176
         ],
         "yaxis": "y"
        },
        {
         "hovertemplate": "발생장소=대구<br>년도=%{x}<br>발생건수=%{y}<extra></extra>",
         "legendgroup": "대구",
         "line": {
          "color": "#00cc96",
          "dash": "solid"
         },
         "marker": {
          "symbol": "circle"
         },
         "mode": "lines+markers",
         "name": "대구",
         "orientation": "v",
         "showlegend": true,
         "type": "scatter",
         "x": [
          "2016년",
          "2017년",
          "2018년",
          "2019년",
          "2020년",
          "2021년",
          "2022년"
         ],
         "xaxis": "x",
         "y": [
          31682,
          25380,
          22200,
          21012,
          19005,
          16619,
          12610
         ],
         "yaxis": "y"
        },
        {
         "hovertemplate": "발생장소=인천<br>년도=%{x}<br>발생건수=%{y}<extra></extra>",
         "legendgroup": "인천",
         "line": {
          "color": "#ab63fa",
          "dash": "solid"
         },
         "marker": {
          "symbol": "circle"
         },
         "mode": "lines+markers",
         "name": "인천",
         "orientation": "v",
         "showlegend": true,
         "type": "scatter",
         "x": [
          "2016년",
          "2017년",
          "2018년",
          "2019년",
          "2020년",
          "2021년",
          "2022년"
         ],
         "xaxis": "x",
         "y": [
          30972,
          24507,
          18173,
          17749,
          16771,
          14459,
          11926
         ],
         "yaxis": "y"
        },
        {
         "hovertemplate": "발생장소=광주<br>년도=%{x}<br>발생건수=%{y}<extra></extra>",
         "legendgroup": "광주",
         "line": {
          "color": "#FFA15A",
          "dash": "solid"
         },
         "marker": {
          "symbol": "circle"
         },
         "mode": "lines+markers",
         "name": "광주",
         "orientation": "v",
         "showlegend": true,
         "type": "scatter",
         "x": [
          "2016년",
          "2017년",
          "2018년",
          "2019년",
          "2020년",
          "2021년",
          "2022년"
         ],
         "xaxis": "x",
         "y": [
          22137,
          18734,
          13779,
          12747,
          12432,
          11121,
          7827
         ],
         "yaxis": "y"
        },
        {
         "hovertemplate": "발생장소=대전<br>년도=%{x}<br>발생건수=%{y}<extra></extra>",
         "legendgroup": "대전",
         "line": {
          "color": "#19d3f3",
          "dash": "solid"
         },
         "marker": {
          "symbol": "circle"
         },
         "mode": "lines+markers",
         "name": "대전",
         "orientation": "v",
         "showlegend": true,
         "type": "scatter",
         "x": [
          "2016년",
          "2017년",
          "2018년",
          "2019년",
          "2020년",
          "2021년",
          "2022년"
         ],
         "xaxis": "x",
         "y": [
          14524,
          14695,
          11967,
          11898,
          10583,
          8963,
          6389
         ],
         "yaxis": "y"
        },
        {
         "hovertemplate": "발생장소=울산<br>년도=%{x}<br>발생건수=%{y}<extra></extra>",
         "legendgroup": "울산",
         "line": {
          "color": "#FF6692",
          "dash": "solid"
         },
         "marker": {
          "symbol": "circle"
         },
         "mode": "lines+markers",
         "name": "울산",
         "orientation": "v",
         "showlegend": true,
         "type": "scatter",
         "x": [
          "2016년",
          "2017년",
          "2018년",
          "2019년",
          "2020년",
          "2021년",
          "2022년"
         ],
         "xaxis": "x",
         "y": [
          14105,
          11264,
          9956,
          9708,
          8020,
          7570,
          5754
         ],
         "yaxis": "y"
        },
        {
         "hovertemplate": "발생장소=세종<br>년도=%{x}<br>발생건수=%{y}<extra></extra>",
         "legendgroup": "세종",
         "line": {
          "color": "#B6E880",
          "dash": "solid"
         },
         "marker": {
          "symbol": "circle"
         },
         "mode": "lines+markers",
         "name": "세종",
         "orientation": "v",
         "showlegend": true,
         "type": "scatter",
         "x": [
          "2016년",
          "2017년",
          "2018년",
          "2019년",
          "2020년",
          "2021년",
          "2022년"
         ],
         "xaxis": "x",
         "y": [
          1234,
          1322,
          1398,
          1397,
          1337,
          1220,
          1031
         ],
         "yaxis": "y"
        },
        {
         "hovertemplate": "발생장소=고양시<br>년도=%{x}<br>발생건수=%{y}<extra></extra>",
         "legendgroup": "고양시",
         "line": {
          "color": "#FF97FF",
          "dash": "solid"
         },
         "marker": {
          "symbol": "circle"
         },
         "mode": "lines+markers",
         "name": "고양시",
         "orientation": "v",
         "showlegend": true,
         "type": "scatter",
         "x": [
          "2016년",
          "2017년",
          "2018년",
          "2019년",
          "2020년",
          "2021년",
          "2022년"
         ],
         "xaxis": "x",
         "y": [
          12280,
          9681,
          7349,
          6506,
          6159,
          5229,
          3967
         ],
         "yaxis": "y"
        },
        {
         "hovertemplate": "발생장소=과천시<br>년도=%{x}<br>발생건수=%{y}<extra></extra>",
         "legendgroup": "과천시",
         "line": {
          "color": "#FECB52",
          "dash": "solid"
         },
         "marker": {
          "symbol": "circle"
         },
         "mode": "lines+markers",
         "name": "과천시",
         "orientation": "v",
         "showlegend": true,
         "type": "scatter",
         "x": [
          "2016년",
          "2017년",
          "2018년",
          "2019년",
          "2020년",
          "2021년",
          "2022년"
         ],
         "xaxis": "x",
         "y": [
          934,
          672,
          607,
          511,
          359,
          265,
          386
         ],
         "yaxis": "y"
        },
        {
         "hovertemplate": "발생장소=광명시<br>년도=%{x}<br>발생건수=%{y}<extra></extra>",
         "legendgroup": "광명시",
         "line": {
          "color": "#636efa",
          "dash": "solid"
         },
         "marker": {
          "symbol": "circle"
         },
         "mode": "lines+markers",
         "name": "광명시",
         "orientation": "v",
         "showlegend": true,
         "type": "scatter",
         "x": [
          "2016년",
          "2017년",
          "2018년",
          "2019년",
          "2020년",
          "2021년",
          "2022년"
         ],
         "xaxis": "x",
         "y": [
          3141,
          2440,
          2169,
          2128,
          1717,
          1377,
          928
         ],
         "yaxis": "y"
        },
        {
         "hovertemplate": "발생장소=광주시<br>년도=%{x}<br>발생건수=%{y}<extra></extra>",
         "legendgroup": "광주시",
         "line": {
          "color": "#EF553B",
          "dash": "solid"
         },
         "marker": {
          "symbol": "circle"
         },
         "mode": "lines+markers",
         "name": "광주시",
         "orientation": "v",
         "showlegend": true,
         "type": "scatter",
         "x": [
          "2016년",
          "2017년",
          "2018년",
          "2019년",
          "2020년",
          "2021년",
          "2022년"
         ],
         "xaxis": "x",
         "y": [
          4171,
          3590,
          3071,
          2920,
          3035,
          3202,
          2328
         ],
         "yaxis": "y"
        },
        {
         "hovertemplate": "발생장소=구리시<br>년도=%{x}<br>발생건수=%{y}<extra></extra>",
         "legendgroup": "구리시",
         "line": {
          "color": "#00cc96",
          "dash": "solid"
         },
         "marker": {
          "symbol": "circle"
         },
         "mode": "lines+markers",
         "name": "구리시",
         "orientation": "v",
         "showlegend": true,
         "type": "scatter",
         "x": [
          "2016년",
          "2017년",
          "2018년",
          "2019년",
          "2020년",
          "2021년",
          "2022년"
         ],
         "xaxis": "x",
         "y": [
          2225,
          1849,
          1578,
          1783,
          1495,
          1463,
          1360
         ],
         "yaxis": "y"
        },
        {
         "hovertemplate": "발생장소=군포시<br>년도=%{x}<br>발생건수=%{y}<extra></extra>",
         "legendgroup": "군포시",
         "line": {
          "color": "#ab63fa",
          "dash": "solid"
         },
         "marker": {
          "symbol": "circle"
         },
         "mode": "lines+markers",
         "name": "군포시",
         "orientation": "v",
         "showlegend": true,
         "type": "scatter",
         "x": [
          "2016년",
          "2017년",
          "2018년",
          "2019년",
          "2020년",
          "2021년",
          "2022년"
         ],
         "xaxis": "x",
         "y": [
          2801,
          2128,
          1267,
          1045,
          1075,
          900,
          785
         ],
         "yaxis": "y"
        },
        {
         "hovertemplate": "발생장소=김포시<br>년도=%{x}<br>발생건수=%{y}<extra></extra>",
         "legendgroup": "김포시",
         "line": {
          "color": "#FFA15A",
          "dash": "solid"
         },
         "marker": {
          "symbol": "circle"
         },
         "mode": "lines+markers",
         "name": "김포시",
         "orientation": "v",
         "showlegend": true,
         "type": "scatter",
         "x": [
          "2016년",
          "2017년",
          "2018년",
          "2019년",
          "2020년",
          "2021년",
          "2022년"
         ],
         "xaxis": "x",
         "y": [
          4124,
          3486,
          3289,
          3133,
          3207,
          3335,
          2739
         ],
         "yaxis": "y"
        },
        {
         "hovertemplate": "발생장소=남양주시<br>년도=%{x}<br>발생건수=%{y}<extra></extra>",
         "legendgroup": "남양주시",
         "line": {
          "color": "#19d3f3",
          "dash": "solid"
         },
         "marker": {
          "symbol": "circle"
         },
         "mode": "lines+markers",
         "name": "남양주시",
         "orientation": "v",
         "showlegend": true,
         "type": "scatter",
         "x": [
          "2016년",
          "2017년",
          "2018년",
          "2019년",
          "2020년",
          "2021년",
          "2022년"
         ],
         "xaxis": "x",
         "y": [
          5542,
          5156,
          4339,
          3936,
          3679,
          3402,
          2724
         ],
         "yaxis": "y"
        },
        {
         "hovertemplate": "발생장소=동두천시<br>년도=%{x}<br>발생건수=%{y}<extra></extra>",
         "legendgroup": "동두천시",
         "line": {
          "color": "#FF6692",
          "dash": "solid"
         },
         "marker": {
          "symbol": "circle"
         },
         "mode": "lines+markers",
         "name": "동두천시",
         "orientation": "v",
         "showlegend": true,
         "type": "scatter",
         "x": [
          "2016년",
          "2017년",
          "2018년",
          "2019년",
          "2020년",
          "2021년",
          "2022년"
         ],
         "xaxis": "x",
         "y": [
          1158,
          852,
          764,
          709,
          598,
          499,
          377
         ],
         "yaxis": "y"
        },
        {
         "hovertemplate": "발생장소=부천시<br>년도=%{x}<br>발생건수=%{y}<extra></extra>",
         "legendgroup": "부천시",
         "line": {
          "color": "#B6E880",
          "dash": "solid"
         },
         "marker": {
          "symbol": "circle"
         },
         "mode": "lines+markers",
         "name": "부천시",
         "orientation": "v",
         "showlegend": true,
         "type": "scatter",
         "x": [
          "2016년",
          "2017년",
          "2018년",
          "2019년",
          "2020년",
          "2021년",
          "2022년"
         ],
         "xaxis": "x",
         "y": [
          10437,
          8763,
          6974,
          5849,
          5573,
          5423,
          3903
         ],
         "yaxis": "y"
        },
        {
         "hovertemplate": "발생장소=성남시<br>년도=%{x}<br>발생건수=%{y}<extra></extra>",
         "legendgroup": "성남시",
         "line": {
          "color": "#FF97FF",
          "dash": "solid"
         },
         "marker": {
          "symbol": "circle"
         },
         "mode": "lines+markers",
         "name": "성남시",
         "orientation": "v",
         "showlegend": true,
         "type": "scatter",
         "x": [
          "2016년",
          "2017년",
          "2018년",
          "2019년",
          "2020년",
          "2021년",
          "2022년"
         ],
         "xaxis": "x",
         "y": [
          12472,
          9558,
          7592,
          6724,
          5951,
          5434,
          4106
         ],
         "yaxis": "y"
        },
        {
         "hovertemplate": "발생장소=수원시<br>년도=%{x}<br>발생건수=%{y}<extra></extra>",
         "legendgroup": "수원시",
         "line": {
          "color": "#FECB52",
          "dash": "solid"
         },
         "marker": {
          "symbol": "circle"
         },
         "mode": "lines+markers",
         "name": "수원시",
         "orientation": "v",
         "showlegend": true,
         "type": "scatter",
         "x": [
          "2016년",
          "2017년",
          "2018년",
          "2019년",
          "2020년",
          "2021년",
          "2022년"
         ],
         "xaxis": "x",
         "y": [
          17841,
          14266,
          11159,
          9810,
          8826,
          7580,
          5837
         ],
         "yaxis": "y"
        },
        {
         "hovertemplate": "발생장소=시흥시<br>년도=%{x}<br>발생건수=%{y}<extra></extra>",
         "legendgroup": "시흥시",
         "line": {
          "color": "#636efa",
          "dash": "solid"
         },
         "marker": {
          "symbol": "circle"
         },
         "mode": "lines+markers",
         "name": "시흥시",
         "orientation": "v",
         "showlegend": true,
         "type": "scatter",
         "x": [
          "2016년",
          "2017년",
          "2018년",
          "2019년",
          "2020년",
          "2021년",
          "2022년"
         ],
         "xaxis": "x",
         "y": [
          10640,
          8230,
          6327,
          5403,
          5096,
          4597,
          4071
         ],
         "yaxis": "y"
        },
        {
         "hovertemplate": "발생장소=안산시<br>년도=%{x}<br>발생건수=%{y}<extra></extra>",
         "legendgroup": "안산시",
         "line": {
          "color": "#EF553B",
          "dash": "solid"
         },
         "marker": {
          "symbol": "circle"
         },
         "mode": "lines+markers",
         "name": "안산시",
         "orientation": "v",
         "showlegend": true,
         "type": "scatter",
         "x": [
          "2016년",
          "2017년",
          "2018년",
          "2019년",
          "2020년",
          "2021년",
          "2022년"
         ],
         "xaxis": "x",
         "y": [
          13356,
          9480,
          7238,
          6376,
          6495,
          5930,
          4518
         ],
         "yaxis": "y"
        },
        {
         "hovertemplate": "발생장소=안성시<br>년도=%{x}<br>발생건수=%{y}<extra></extra>",
         "legendgroup": "안성시",
         "line": {
          "color": "#00cc96",
          "dash": "solid"
         },
         "marker": {
          "symbol": "circle"
         },
         "mode": "lines+markers",
         "name": "안성시",
         "orientation": "v",
         "showlegend": true,
         "type": "scatter",
         "x": [
          "2016년",
          "2017년",
          "2018년",
          "2019년",
          "2020년",
          "2021년",
          "2022년"
         ],
         "xaxis": "x",
         "y": [
          2778,
          2761,
          2160,
          1823,
          1881,
          1752,
          1364
         ],
         "yaxis": "y"
        },
        {
         "hovertemplate": "발생장소=안양시<br>년도=%{x}<br>발생건수=%{y}<extra></extra>",
         "legendgroup": "안양시",
         "line": {
          "color": "#ab63fa",
          "dash": "solid"
         },
         "marker": {
          "symbol": "circle"
         },
         "mode": "lines+markers",
         "name": "안양시",
         "orientation": "v",
         "showlegend": true,
         "type": "scatter",
         "x": [
          "2016년",
          "2017년",
          "2018년",
          "2019년",
          "2020년",
          "2021년",
          "2022년"
         ],
         "xaxis": "x",
         "y": [
          5789,
          4419,
          3348,
          2738,
          2514,
          2214,
          2072
         ],
         "yaxis": "y"
        },
        {
         "hovertemplate": "발생장소=양주시<br>년도=%{x}<br>발생건수=%{y}<extra></extra>",
         "legendgroup": "양주시",
         "line": {
          "color": "#FFA15A",
          "dash": "solid"
         },
         "marker": {
          "symbol": "circle"
         },
         "mode": "lines+markers",
         "name": "양주시",
         "orientation": "v",
         "showlegend": true,
         "type": "scatter",
         "x": [
          "2016년",
          "2017년",
          "2018년",
          "2019년",
          "2020년",
          "2021년",
          "2022년"
         ],
         "xaxis": "x",
         "y": [
          2771,
          2322,
          2161,
          1980,
          1725,
          1395,
          1212
         ],
         "yaxis": "y"
        },
        {
         "hovertemplate": "발생장소=여주시<br>년도=%{x}<br>발생건수=%{y}<extra></extra>",
         "legendgroup": "여주시",
         "line": {
          "color": "#19d3f3",
          "dash": "solid"
         },
         "marker": {
          "symbol": "circle"
         },
         "mode": "lines+markers",
         "name": "여주시",
         "orientation": "v",
         "showlegend": true,
         "type": "scatter",
         "x": [
          "2016년",
          "2017년",
          "2018년",
          "2019년",
          "2020년",
          "2021년",
          "2022년"
         ],
         "xaxis": "x",
         "y": [
          2064,
          1741,
          1061,
          1201,
          1130,
          926,
          795
         ],
         "yaxis": "y"
        },
        {
         "hovertemplate": "발생장소=오산시<br>년도=%{x}<br>발생건수=%{y}<extra></extra>",
         "legendgroup": "오산시",
         "line": {
          "color": "#FF6692",
          "dash": "solid"
         },
         "marker": {
          "symbol": "circle"
         },
         "mode": "lines+markers",
         "name": "오산시",
         "orientation": "v",
         "showlegend": true,
         "type": "scatter",
         "x": [
          "2016년",
          "2017년",
          "2018년",
          "2019년",
          "2020년",
          "2021년",
          "2022년"
         ],
         "xaxis": "x",
         "y": [
          2738,
          2371,
          2213,
          1878,
          1958,
          1677,
          1149
         ],
         "yaxis": "y"
        },
        {
         "hovertemplate": "발생장소=용인시<br>년도=%{x}<br>발생건수=%{y}<extra></extra>",
         "legendgroup": "용인시",
         "line": {
          "color": "#B6E880",
          "dash": "solid"
         },
         "marker": {
          "symbol": "circle"
         },
         "mode": "lines+markers",
         "name": "용인시",
         "orientation": "v",
         "showlegend": true,
         "type": "scatter",
         "x": [
          "2016년",
          "2017년",
          "2018년",
          "2019년",
          "2020년",
          "2021년",
          "2022년"
         ],
         "xaxis": "x",
         "y": [
          8695,
          7452,
          6283,
          5910,
          5592,
          5453,
          3981
         ],
         "yaxis": "y"
        },
        {
         "hovertemplate": "발생장소=의왕시<br>년도=%{x}<br>발생건수=%{y}<extra></extra>",
         "legendgroup": "의왕시",
         "line": {
          "color": "#FF97FF",
          "dash": "solid"
         },
         "marker": {
          "symbol": "circle"
         },
         "mode": "lines+markers",
         "name": "의왕시",
         "orientation": "v",
         "showlegend": true,
         "type": "scatter",
         "x": [
          "2016년",
          "2017년",
          "2018년",
          "2019년",
          "2020년",
          "2021년",
          "2022년"
         ],
         "xaxis": "x",
         "y": [
          1765,
          1370,
          1185,
          969,
          818,
          808,
          623
         ],
         "yaxis": "y"
        },
        {
         "hovertemplate": "발생장소=의정부시<br>년도=%{x}<br>발생건수=%{y}<extra></extra>",
         "legendgroup": "의정부시",
         "line": {
          "color": "#FECB52",
          "dash": "solid"
         },
         "marker": {
          "symbol": "circle"
         },
         "mode": "lines+markers",
         "name": "의정부시",
         "orientation": "v",
         "showlegend": true,
         "type": "scatter",
         "x": [
          "2016년",
          "2017년",
          "2018년",
          "2019년",
          "2020년",
          "2021년",
          "2022년"
         ],
         "xaxis": "x",
         "y": [
          3726,
          3195,
          3052,
          2776,
          2790,
          2285,
          1837
         ],
         "yaxis": "y"
        },
        {
         "hovertemplate": "발생장소=이천시<br>년도=%{x}<br>발생건수=%{y}<extra></extra>",
         "legendgroup": "이천시",
         "line": {
          "color": "#636efa",
          "dash": "solid"
         },
         "marker": {
          "symbol": "circle"
         },
         "mode": "lines+markers",
         "name": "이천시",
         "orientation": "v",
         "showlegend": true,
         "type": "scatter",
         "x": [
          "2016년",
          "2017년",
          "2018년",
          "2019년",
          "2020년",
          "2021년",
          "2022년"
         ],
         "xaxis": "x",
         "y": [
          3023,
          2837,
          2307,
          2165,
          2070,
          1797,
          1495
         ],
         "yaxis": "y"
        },
        {
         "hovertemplate": "발생장소=파주시<br>년도=%{x}<br>발생건수=%{y}<extra></extra>",
         "legendgroup": "파주시",
         "line": {
          "color": "#EF553B",
          "dash": "solid"
         },
         "marker": {
          "symbol": "circle"
         },
         "mode": "lines+markers",
         "name": "파주시",
         "orientation": "v",
         "showlegend": true,
         "type": "scatter",
         "x": [
          "2016년",
          "2017년",
          "2018년",
          "2019년",
          "2020년",
          "2021년",
          "2022년"
         ],
         "xaxis": "x",
         "y": [
          6456,
          5415,
          3641,
          3133,
          2804,
          2963,
          2267
         ],
         "yaxis": "y"
        },
        {
         "hovertemplate": "발생장소=평택시<br>년도=%{x}<br>발생건수=%{y}<extra></extra>",
         "legendgroup": "평택시",
         "line": {
          "color": "#00cc96",
          "dash": "solid"
         },
         "marker": {
          "symbol": "circle"
         },
         "mode": "lines+markers",
         "name": "평택시",
         "orientation": "v",
         "showlegend": true,
         "type": "scatter",
         "x": [
          "2016년",
          "2017년",
          "2018년",
          "2019년",
          "2020년",
          "2021년",
          "2022년"
         ],
         "xaxis": "x",
         "y": [
          9630,
          7303,
          5936,
          6491,
          6637,
          5715,
          5276
         ],
         "yaxis": "y"
        },
        {
         "hovertemplate": "발생장소=포천시<br>년도=%{x}<br>발생건수=%{y}<extra></extra>",
         "legendgroup": "포천시",
         "line": {
          "color": "#ab63fa",
          "dash": "solid"
         },
         "marker": {
          "symbol": "circle"
         },
         "mode": "lines+markers",
         "name": "포천시",
         "orientation": "v",
         "showlegend": true,
         "type": "scatter",
         "x": [
          "2016년",
          "2017년",
          "2018년",
          "2019년",
          "2020년",
          "2021년",
          "2022년"
         ],
         "xaxis": "x",
         "y": [
          2872,
          2560,
          2250,
          1811,
          1612,
          1355,
          1042
         ],
         "yaxis": "y"
        },
        {
         "hovertemplate": "발생장소=하남시<br>년도=%{x}<br>발생건수=%{y}<extra></extra>",
         "legendgroup": "하남시",
         "line": {
          "color": "#FFA15A",
          "dash": "solid"
         },
         "marker": {
          "symbol": "circle"
         },
         "mode": "lines+markers",
         "name": "하남시",
         "orientation": "v",
         "showlegend": true,
         "type": "scatter",
         "x": [
          "2016년",
          "2017년",
          "2018년",
          "2019년",
          "2020년",
          "2021년",
          "2022년"
         ],
         "xaxis": "x",
         "y": [
          2771,
          2067,
          1934,
          1611,
          1679,
          1600,
          1121
         ],
         "yaxis": "y"
        },
        {
         "hovertemplate": "발생장소=화성시<br>년도=%{x}<br>발생건수=%{y}<extra></extra>",
         "legendgroup": "화성시",
         "line": {
          "color": "#19d3f3",
          "dash": "solid"
         },
         "marker": {
          "symbol": "circle"
         },
         "mode": "lines+markers",
         "name": "화성시",
         "orientation": "v",
         "showlegend": true,
         "type": "scatter",
         "x": [
          "2016년",
          "2017년",
          "2018년",
          "2019년",
          "2020년",
          "2021년",
          "2022년"
         ],
         "xaxis": "x",
         "y": [
          8262,
          6564,
          5762,
          5792,
          5417,
          5195,
          4615
         ],
         "yaxis": "y"
        },
        {
         "hovertemplate": "발생장소=강릉시<br>년도=%{x}<br>발생건수=%{y}<extra></extra>",
         "legendgroup": "강릉시",
         "line": {
          "color": "#FF6692",
          "dash": "solid"
         },
         "marker": {
          "symbol": "circle"
         },
         "mode": "lines+markers",
         "name": "강릉시",
         "orientation": "v",
         "showlegend": true,
         "type": "scatter",
         "x": [
          "2016년",
          "2017년",
          "2018년",
          "2019년",
          "2020년",
          "2021년",
          "2022년"
         ],
         "xaxis": "x",
         "y": [
          2387,
          2193,
          1733,
          1615,
          1645,
          1369,
          1340
         ],
         "yaxis": "y"
        },
        {
         "hovertemplate": "발생장소=동해시<br>년도=%{x}<br>발생건수=%{y}<extra></extra>",
         "legendgroup": "동해시",
         "line": {
          "color": "#B6E880",
          "dash": "solid"
         },
         "marker": {
          "symbol": "circle"
         },
         "mode": "lines+markers",
         "name": "동해시",
         "orientation": "v",
         "showlegend": true,
         "type": "scatter",
         "x": [
          "2016년",
          "2017년",
          "2018년",
          "2019년",
          "2020년",
          "2021년",
          "2022년"
         ],
         "xaxis": "x",
         "y": [
          1530,
          1034,
          617,
          572,
          487,
          523,
          312
         ],
         "yaxis": "y"
        },
        {
         "hovertemplate": "발생장소=삼척시<br>년도=%{x}<br>발생건수=%{y}<extra></extra>",
         "legendgroup": "삼척시",
         "line": {
          "color": "#FF97FF",
          "dash": "solid"
         },
         "marker": {
          "symbol": "circle"
         },
         "mode": "lines+markers",
         "name": "삼척시",
         "orientation": "v",
         "showlegend": true,
         "type": "scatter",
         "x": [
          "2016년",
          "2017년",
          "2018년",
          "2019년",
          "2020년",
          "2021년",
          "2022년"
         ],
         "xaxis": "x",
         "y": [
          1330,
          1053,
          533,
          584,
          553,
          417,
          338
         ],
         "yaxis": "y"
        },
        {
         "hovertemplate": "발생장소=속초시<br>년도=%{x}<br>발생건수=%{y}<extra></extra>",
         "legendgroup": "속초시",
         "line": {
          "color": "#FECB52",
          "dash": "solid"
         },
         "marker": {
          "symbol": "circle"
         },
         "mode": "lines+markers",
         "name": "속초시",
         "orientation": "v",
         "showlegend": true,
         "type": "scatter",
         "x": [
          "2016년",
          "2017년",
          "2018년",
          "2019년",
          "2020년",
          "2021년",
          "2022년"
         ],
         "xaxis": "x",
         "y": [
          1568,
          1360,
          878,
          677,
          742,
          684,
          423
         ],
         "yaxis": "y"
        },
        {
         "hovertemplate": "발생장소=원주시<br>년도=%{x}<br>발생건수=%{y}<extra></extra>",
         "legendgroup": "원주시",
         "line": {
          "color": "#636efa",
          "dash": "solid"
         },
         "marker": {
          "symbol": "circle"
         },
         "mode": "lines+markers",
         "name": "원주시",
         "orientation": "v",
         "showlegend": true,
         "type": "scatter",
         "x": [
          "2016년",
          "2017년",
          "2018년",
          "2019년",
          "2020년",
          "2021년",
          "2022년"
         ],
         "xaxis": "x",
         "y": [
          6378,
          4941,
          3506,
          3135,
          2988,
          2630,
          2034
         ],
         "yaxis": "y"
        },
        {
         "hovertemplate": "발생장소=춘천시<br>년도=%{x}<br>발생건수=%{y}<extra></extra>",
         "legendgroup": "춘천시",
         "line": {
          "color": "#EF553B",
          "dash": "solid"
         },
         "marker": {
          "symbol": "circle"
         },
         "mode": "lines+markers",
         "name": "춘천시",
         "orientation": "v",
         "showlegend": true,
         "type": "scatter",
         "x": [
          "2016년",
          "2017년",
          "2018년",
          "2019년",
          "2020년",
          "2021년",
          "2022년"
         ],
         "xaxis": "x",
         "y": [
          5004,
          3982,
          2594,
          2405,
          2175,
          1810,
          1577
         ],
         "yaxis": "y"
        },
        {
         "hovertemplate": "발생장소=태백시<br>년도=%{x}<br>발생건수=%{y}<extra></extra>",
         "legendgroup": "태백시",
         "line": {
          "color": "#00cc96",
          "dash": "solid"
         },
         "marker": {
          "symbol": "circle"
         },
         "mode": "lines+markers",
         "name": "태백시",
         "orientation": "v",
         "showlegend": true,
         "type": "scatter",
         "x": [
          "2016년",
          "2017년",
          "2018년",
          "2019년",
          "2020년",
          "2021년",
          "2022년"
         ],
         "xaxis": "x",
         "y": [
          616,
          420,
          353,
          364,
          293,
          259,
          200
         ],
         "yaxis": "y"
        },
        {
         "hovertemplate": "발생장소=제천시<br>년도=%{x}<br>발생건수=%{y}<extra></extra>",
         "legendgroup": "제천시",
         "line": {
          "color": "#ab63fa",
          "dash": "solid"
         },
         "marker": {
          "symbol": "circle"
         },
         "mode": "lines+markers",
         "name": "제천시",
         "orientation": "v",
         "showlegend": true,
         "type": "scatter",
         "x": [
          "2016년",
          "2017년",
          "2018년",
          "2019년",
          "2020년",
          "2021년",
          "2022년"
         ],
         "xaxis": "x",
         "y": [
          1773,
          1641,
          1338,
          1210,
          1127,
          897,
          664
         ],
         "yaxis": "y"
        },
        {
         "hovertemplate": "발생장소=청주시<br>년도=%{x}<br>발생건수=%{y}<extra></extra>",
         "legendgroup": "청주시",
         "line": {
          "color": "#FFA15A",
          "dash": "solid"
         },
         "marker": {
          "symbol": "circle"
         },
         "mode": "lines+markers",
         "name": "청주시",
         "orientation": "v",
         "showlegend": true,
         "type": "scatter",
         "x": [
          "2016년",
          "2017년",
          "2018년",
          "2019년",
          "2020년",
          "2021년",
          "2022년"
         ],
         "xaxis": "x",
         "y": [
          10373,
          9988,
          8605,
          7361,
          6849,
          5871,
          4297
         ],
         "yaxis": "y"
        },
        {
         "hovertemplate": "발생장소=충주시<br>년도=%{x}<br>발생건수=%{y}<extra></extra>",
         "legendgroup": "충주시",
         "line": {
          "color": "#19d3f3",
          "dash": "solid"
         },
         "marker": {
          "symbol": "circle"
         },
         "mode": "lines+markers",
         "name": "충주시",
         "orientation": "v",
         "showlegend": true,
         "type": "scatter",
         "x": [
          "2016년",
          "2017년",
          "2018년",
          "2019년",
          "2020년",
          "2021년",
          "2022년"
         ],
         "xaxis": "x",
         "y": [
          4168,
          2685,
          2146,
          1984,
          1728,
          1558,
          1266
         ],
         "yaxis": "y"
        },
        {
         "hovertemplate": "발생장소=계룡시<br>년도=%{x}<br>발생건수=%{y}<extra></extra>",
         "legendgroup": "계룡시",
         "line": {
          "color": "#FF6692",
          "dash": "solid"
         },
         "marker": {
          "symbol": "circle"
         },
         "mode": "lines+markers",
         "name": "계룡시",
         "orientation": "v",
         "showlegend": true,
         "type": "scatter",
         "x": [
          "2016년",
          "2017년",
          "2018년",
          "2019년",
          "2020년",
          "2021년",
          "2022년"
         ],
         "xaxis": "x",
         "y": [
          171,
          139,
          122,
          111,
          104,
          96,
          85
         ],
         "yaxis": "y"
        },
        {
         "hovertemplate": "발생장소=공주시<br>년도=%{x}<br>발생건수=%{y}<extra></extra>",
         "legendgroup": "공주시",
         "line": {
          "color": "#B6E880",
          "dash": "solid"
         },
         "marker": {
          "symbol": "circle"
         },
         "mode": "lines+markers",
         "name": "공주시",
         "orientation": "v",
         "showlegend": true,
         "type": "scatter",
         "x": [
          "2016년",
          "2017년",
          "2018년",
          "2019년",
          "2020년",
          "2021년",
          "2022년"
         ],
         "xaxis": "x",
         "y": [
          1216,
          1095,
          1079,
          978,
          814,
          766,
          647
         ],
         "yaxis": "y"
        },
        {
         "hovertemplate": "발생장소=논산시<br>년도=%{x}<br>발생건수=%{y}<extra></extra>",
         "legendgroup": "논산시",
         "line": {
          "color": "#FF97FF",
          "dash": "solid"
         },
         "marker": {
          "symbol": "circle"
         },
         "mode": "lines+markers",
         "name": "논산시",
         "orientation": "v",
         "showlegend": true,
         "type": "scatter",
         "x": [
          "2016년",
          "2017년",
          "2018년",
          "2019년",
          "2020년",
          "2021년",
          "2022년"
         ],
         "xaxis": "x",
         "y": [
          1326,
          1132,
          935,
          764,
          778,
          567,
          698
         ],
         "yaxis": "y"
        },
        {
         "hovertemplate": "발생장소=당진시<br>년도=%{x}<br>발생건수=%{y}<extra></extra>",
         "legendgroup": "당진시",
         "line": {
          "color": "#FECB52",
          "dash": "solid"
         },
         "marker": {
          "symbol": "circle"
         },
         "mode": "lines+markers",
         "name": "당진시",
         "orientation": "v",
         "showlegend": true,
         "type": "scatter",
         "x": [
          "2016년",
          "2017년",
          "2018년",
          "2019년",
          "2020년",
          "2021년",
          "2022년"
         ],
         "xaxis": "x",
         "y": [
          2019,
          1583,
          1767,
          1508,
          1477,
          1383,
          1371
         ],
         "yaxis": "y"
        },
        {
         "hovertemplate": "발생장소=보령시<br>년도=%{x}<br>발생건수=%{y}<extra></extra>",
         "legendgroup": "보령시",
         "line": {
          "color": "#636efa",
          "dash": "solid"
         },
         "marker": {
          "symbol": "circle"
         },
         "mode": "lines+markers",
         "name": "보령시",
         "orientation": "v",
         "showlegend": true,
         "type": "scatter",
         "x": [
          "2016년",
          "2017년",
          "2018년",
          "2019년",
          "2020년",
          "2021년",
          "2022년"
         ],
         "xaxis": "x",
         "y": [
          1456,
          1273,
          930,
          1059,
          913,
          704,
          742
         ],
         "yaxis": "y"
        },
        {
         "hovertemplate": "발생장소=서산시<br>년도=%{x}<br>발생건수=%{y}<extra></extra>",
         "legendgroup": "서산시",
         "line": {
          "color": "#EF553B",
          "dash": "solid"
         },
         "marker": {
          "symbol": "circle"
         },
         "mode": "lines+markers",
         "name": "서산시",
         "orientation": "v",
         "showlegend": true,
         "type": "scatter",
         "x": [
          "2016년",
          "2017년",
          "2018년",
          "2019년",
          "2020년",
          "2021년",
          "2022년"
         ],
         "xaxis": "x",
         "y": [
          1617,
          1425,
          1408,
          1427,
          1374,
          1172,
          1045
         ],
         "yaxis": "y"
        },
        {
         "hovertemplate": "발생장소=아산시<br>년도=%{x}<br>발생건수=%{y}<extra></extra>",
         "legendgroup": "아산시",
         "line": {
          "color": "#00cc96",
          "dash": "solid"
         },
         "marker": {
          "symbol": "circle"
         },
         "mode": "lines+markers",
         "name": "아산시",
         "orientation": "v",
         "showlegend": true,
         "type": "scatter",
         "x": [
          "2016년",
          "2017년",
          "2018년",
          "2019년",
          "2020년",
          "2021년",
          "2022년"
         ],
         "xaxis": "x",
         "y": [
          2455,
          2313,
          2272,
          2219,
          2411,
          2109,
          1841
         ],
         "yaxis": "y"
        },
        {
         "hovertemplate": "발생장소=천안시<br>년도=%{x}<br>발생건수=%{y}<extra></extra>",
         "legendgroup": "천안시",
         "line": {
          "color": "#ab63fa",
          "dash": "solid"
         },
         "marker": {
          "symbol": "circle"
         },
         "mode": "lines+markers",
         "name": "천안시",
         "orientation": "v",
         "showlegend": true,
         "type": "scatter",
         "x": [
          "2016년",
          "2017년",
          "2018년",
          "2019년",
          "2020년",
          "2021년",
          "2022년"
         ],
         "xaxis": "x",
         "y": [
          8371,
          6999,
          6077,
          5233,
          5294,
          4929,
          3888
         ],
         "yaxis": "y"
        },
        {
         "hovertemplate": "발생장소=군산시<br>년도=%{x}<br>발생건수=%{y}<extra></extra>",
         "legendgroup": "군산시",
         "line": {
          "color": "#FFA15A",
          "dash": "solid"
         },
         "marker": {
          "symbol": "circle"
         },
         "mode": "lines+markers",
         "name": "군산시",
         "orientation": "v",
         "showlegend": true,
         "type": "scatter",
         "x": [
          "2016년",
          "2017년",
          "2018년",
          "2019년",
          "2020년",
          "2021년",
          "2022년"
         ],
         "xaxis": "x",
         "y": [
          2834,
          2469,
          2138,
          1981,
          1826,
          1715,
          1350
         ],
         "yaxis": "y"
        },
        {
         "hovertemplate": "발생장소=김제시<br>년도=%{x}<br>발생건수=%{y}<extra></extra>",
         "legendgroup": "김제시",
         "line": {
          "color": "#19d3f3",
          "dash": "solid"
         },
         "marker": {
          "symbol": "circle"
         },
         "mode": "lines+markers",
         "name": "김제시",
         "orientation": "v",
         "showlegend": true,
         "type": "scatter",
         "x": [
          "2016년",
          "2017년",
          "2018년",
          "2019년",
          "2020년",
          "2021년",
          "2022년"
         ],
         "xaxis": "x",
         "y": [
          1018,
          870,
          820,
          761,
          591,
          439,
          398
         ],
         "yaxis": "y"
        },
        {
         "hovertemplate": "발생장소=남원시<br>년도=%{x}<br>발생건수=%{y}<extra></extra>",
         "legendgroup": "남원시",
         "line": {
          "color": "#FF6692",
          "dash": "solid"
         },
         "marker": {
          "symbol": "circle"
         },
         "mode": "lines+markers",
         "name": "남원시",
         "orientation": "v",
         "showlegend": true,
         "type": "scatter",
         "x": [
          "2016년",
          "2017년",
          "2018년",
          "2019년",
          "2020년",
          "2021년",
          "2022년"
         ],
         "xaxis": "x",
         "y": [
          695,
          643,
          596,
          560,
          479,
          426,
          321
         ],
         "yaxis": "y"
        },
        {
         "hovertemplate": "발생장소=익산시<br>년도=%{x}<br>발생건수=%{y}<extra></extra>",
         "legendgroup": "익산시",
         "line": {
          "color": "#B6E880",
          "dash": "solid"
         },
         "marker": {
          "symbol": "circle"
         },
         "mode": "lines+markers",
         "name": "익산시",
         "orientation": "v",
         "showlegend": true,
         "type": "scatter",
         "x": [
          "2016년",
          "2017년",
          "2018년",
          "2019년",
          "2020년",
          "2021년",
          "2022년"
         ],
         "xaxis": "x",
         "y": [
          3088,
          2530,
          1967,
          2008,
          1857,
          1554,
          1146
         ],
         "yaxis": "y"
        },
        {
         "hovertemplate": "발생장소=전주시<br>년도=%{x}<br>발생건수=%{y}<extra></extra>",
         "legendgroup": "전주시",
         "line": {
          "color": "#FF97FF",
          "dash": "solid"
         },
         "marker": {
          "symbol": "circle"
         },
         "mode": "lines+markers",
         "name": "전주시",
         "orientation": "v",
         "showlegend": true,
         "type": "scatter",
         "x": [
          "2016년",
          "2017년",
          "2018년",
          "2019년",
          "2020년",
          "2021년",
          "2022년"
         ],
         "xaxis": "x",
         "y": [
          5580,
          5635,
          5033,
          4350,
          3868,
          3608,
          2912
         ],
         "yaxis": "y"
        },
        {
         "hovertemplate": "발생장소=정읍시<br>년도=%{x}<br>발생건수=%{y}<extra></extra>",
         "legendgroup": "정읍시",
         "line": {
          "color": "#FECB52",
          "dash": "solid"
         },
         "marker": {
          "symbol": "circle"
         },
         "mode": "lines+markers",
         "name": "정읍시",
         "orientation": "v",
         "showlegend": true,
         "type": "scatter",
         "x": [
          "2016년",
          "2017년",
          "2018년",
          "2019년",
          "2020년",
          "2021년",
          "2022년"
         ],
         "xaxis": "x",
         "y": [
          1095,
          1052,
          913,
          798,
          708,
          519,
          550
         ],
         "yaxis": "y"
        },
        {
         "hovertemplate": "발생장소=광양시<br>년도=%{x}<br>발생건수=%{y}<extra></extra>",
         "legendgroup": "광양시",
         "line": {
          "color": "#636efa",
          "dash": "solid"
         },
         "marker": {
          "symbol": "circle"
         },
         "mode": "lines+markers",
         "name": "광양시",
         "orientation": "v",
         "showlegend": true,
         "type": "scatter",
         "x": [
          "2016년",
          "2017년",
          "2018년",
          "2019년",
          "2020년",
          "2021년",
          "2022년"
         ],
         "xaxis": "x",
         "y": [
          2450,
          1812,
          1531,
          1431,
          1219,
          1043,
          940
         ],
         "yaxis": "y"
        },
        {
         "hovertemplate": "발생장소=나주시<br>년도=%{x}<br>발생건수=%{y}<extra></extra>",
         "legendgroup": "나주시",
         "line": {
          "color": "#EF553B",
          "dash": "solid"
         },
         "marker": {
          "symbol": "circle"
         },
         "mode": "lines+markers",
         "name": "나주시",
         "orientation": "v",
         "showlegend": true,
         "type": "scatter",
         "x": [
          "2016년",
          "2017년",
          "2018년",
          "2019년",
          "2020년",
          "2021년",
          "2022년"
         ],
         "xaxis": "x",
         "y": [
          253,
          1180,
          1067,
          963,
          838,
          692,
          516
         ],
         "yaxis": "y"
        },
        {
         "hovertemplate": "발생장소=목포시<br>년도=%{x}<br>발생건수=%{y}<extra></extra>",
         "legendgroup": "목포시",
         "line": {
          "color": "#00cc96",
          "dash": "solid"
         },
         "marker": {
          "symbol": "circle"
         },
         "mode": "lines+markers",
         "name": "목포시",
         "orientation": "v",
         "showlegend": true,
         "type": "scatter",
         "x": [
          "2016년",
          "2017년",
          "2018년",
          "2019년",
          "2020년",
          "2021년",
          "2022년"
         ],
         "xaxis": "x",
         "y": [
          4356,
          3255,
          2365,
          2576,
          2413,
          2018,
          1577
         ],
         "yaxis": "y"
        },
        {
         "hovertemplate": "발생장소=순천시<br>년도=%{x}<br>발생건수=%{y}<extra></extra>",
         "legendgroup": "순천시",
         "line": {
          "color": "#ab63fa",
          "dash": "solid"
         },
         "marker": {
          "symbol": "circle"
         },
         "mode": "lines+markers",
         "name": "순천시",
         "orientation": "v",
         "showlegend": true,
         "type": "scatter",
         "x": [
          "2016년",
          "2017년",
          "2018년",
          "2019년",
          "2020년",
          "2021년",
          "2022년"
         ],
         "xaxis": "x",
         "y": [
          5024,
          3572,
          3070,
          2770,
          2353,
          2037,
          1347
         ],
         "yaxis": "y"
        },
        {
         "hovertemplate": "발생장소=여수시<br>년도=%{x}<br>발생건수=%{y}<extra></extra>",
         "legendgroup": "여수시",
         "line": {
          "color": "#FFA15A",
          "dash": "solid"
         },
         "marker": {
          "symbol": "circle"
         },
         "mode": "lines+markers",
         "name": "여수시",
         "orientation": "v",
         "showlegend": true,
         "type": "scatter",
         "x": [
          "2016년",
          "2017년",
          "2018년",
          "2019년",
          "2020년",
          "2021년",
          "2022년"
         ],
         "xaxis": "x",
         "y": [
          4975,
          3679,
          3265,
          2740,
          3041,
          2378,
          1847
         ],
         "yaxis": "y"
        },
        {
         "hovertemplate": "발생장소=경산시<br>년도=%{x}<br>발생건수=%{y}<extra></extra>",
         "legendgroup": "경산시",
         "line": {
          "color": "#19d3f3",
          "dash": "solid"
         },
         "marker": {
          "symbol": "circle"
         },
         "mode": "lines+markers",
         "name": "경산시",
         "orientation": "v",
         "showlegend": true,
         "type": "scatter",
         "x": [
          "2016년",
          "2017년",
          "2018년",
          "2019년",
          "2020년",
          "2021년",
          "2022년"
         ],
         "xaxis": "x",
         "y": [
          2344,
          1987,
          1968,
          1778,
          1708,
          1470,
          1327
         ],
         "yaxis": "y"
        },
        {
         "hovertemplate": "발생장소=경주시<br>년도=%{x}<br>발생건수=%{y}<extra></extra>",
         "legendgroup": "경주시",
         "line": {
          "color": "#FF6692",
          "dash": "solid"
         },
         "marker": {
          "symbol": "circle"
         },
         "mode": "lines+markers",
         "name": "경주시",
         "orientation": "v",
         "showlegend": true,
         "type": "scatter",
         "x": [
          "2016년",
          "2017년",
          "2018년",
          "2019년",
          "2020년",
          "2021년",
          "2022년"
         ],
         "xaxis": "x",
         "y": [
          3794,
          3142,
          2668,
          2660,
          2141,
          1771,
          1443
         ],
         "yaxis": "y"
        },
        {
         "hovertemplate": "발생장소=구미시<br>년도=%{x}<br>발생건수=%{y}<extra></extra>",
         "legendgroup": "구미시",
         "line": {
          "color": "#B6E880",
          "dash": "solid"
         },
         "marker": {
          "symbol": "circle"
         },
         "mode": "lines+markers",
         "name": "구미시",
         "orientation": "v",
         "showlegend": true,
         "type": "scatter",
         "x": [
          "2016년",
          "2017년",
          "2018년",
          "2019년",
          "2020년",
          "2021년",
          "2022년"
         ],
         "xaxis": "x",
         "y": [
          8552,
          6315,
          4105,
          3555,
          3350,
          2999,
          2371
         ],
         "yaxis": "y"
        },
        {
         "hovertemplate": "발생장소=김천시<br>년도=%{x}<br>발생건수=%{y}<extra></extra>",
         "legendgroup": "김천시",
         "line": {
          "color": "#FF97FF",
          "dash": "solid"
         },
         "marker": {
          "symbol": "circle"
         },
         "mode": "lines+markers",
         "name": "김천시",
         "orientation": "v",
         "showlegend": true,
         "type": "scatter",
         "x": [
          "2016년",
          "2017년",
          "2018년",
          "2019년",
          "2020년",
          "2021년",
          "2022년"
         ],
         "xaxis": "x",
         "y": [
          1916,
          1621,
          1373,
          1228,
          1084,
          872,
          682
         ],
         "yaxis": "y"
        },
        {
         "hovertemplate": "발생장소=문경시<br>년도=%{x}<br>발생건수=%{y}<extra></extra>",
         "legendgroup": "문경시",
         "line": {
          "color": "#FECB52",
          "dash": "solid"
         },
         "marker": {
          "symbol": "circle"
         },
         "mode": "lines+markers",
         "name": "문경시",
         "orientation": "v",
         "showlegend": true,
         "type": "scatter",
         "x": [
          "2016년",
          "2017년",
          "2018년",
          "2019년",
          "2020년",
          "2021년",
          "2022년"
         ],
         "xaxis": "x",
         "y": [
          920,
          764,
          577,
          541,
          433,
          395,
          251
         ],
         "yaxis": "y"
        },
        {
         "hovertemplate": "발생장소=상주시<br>년도=%{x}<br>발생건수=%{y}<extra></extra>",
         "legendgroup": "상주시",
         "line": {
          "color": "#636efa",
          "dash": "solid"
         },
         "marker": {
          "symbol": "circle"
         },
         "mode": "lines+markers",
         "name": "상주시",
         "orientation": "v",
         "showlegend": true,
         "type": "scatter",
         "x": [
          "2016년",
          "2017년",
          "2018년",
          "2019년",
          "2020년",
          "2021년",
          "2022년"
         ],
         "xaxis": "x",
         "y": [
          1112,
          995,
          859,
          794,
          730,
          649,
          433
         ],
         "yaxis": "y"
        },
        {
         "hovertemplate": "발생장소=안동시<br>년도=%{x}<br>발생건수=%{y}<extra></extra>",
         "legendgroup": "안동시",
         "line": {
          "color": "#EF553B",
          "dash": "solid"
         },
         "marker": {
          "symbol": "circle"
         },
         "mode": "lines+markers",
         "name": "안동시",
         "orientation": "v",
         "showlegend": true,
         "type": "scatter",
         "x": [
          "2016년",
          "2017년",
          "2018년",
          "2019년",
          "2020년",
          "2021년",
          "2022년"
         ],
         "xaxis": "x",
         "y": [
          1609,
          1467,
          1339,
          1368,
          1324,
          1001,
          742
         ],
         "yaxis": "y"
        },
        {
         "hovertemplate": "발생장소=영주시<br>년도=%{x}<br>발생건수=%{y}<extra></extra>",
         "legendgroup": "영주시",
         "line": {
          "color": "#00cc96",
          "dash": "solid"
         },
         "marker": {
          "symbol": "circle"
         },
         "mode": "lines+markers",
         "name": "영주시",
         "orientation": "v",
         "showlegend": true,
         "type": "scatter",
         "x": [
          "2016년",
          "2017년",
          "2018년",
          "2019년",
          "2020년",
          "2021년",
          "2022년"
         ],
         "xaxis": "x",
         "y": [
          1227,
          943,
          782,
          715,
          662,
          627,
          441
         ],
         "yaxis": "y"
        },
        {
         "hovertemplate": "발생장소=영천시<br>년도=%{x}<br>발생건수=%{y}<extra></extra>",
         "legendgroup": "영천시",
         "line": {
          "color": "#ab63fa",
          "dash": "solid"
         },
         "marker": {
          "symbol": "circle"
         },
         "mode": "lines+markers",
         "name": "영천시",
         "orientation": "v",
         "showlegend": true,
         "type": "scatter",
         "x": [
          "2016년",
          "2017년",
          "2018년",
          "2019년",
          "2020년",
          "2021년",
          "2022년"
         ],
         "xaxis": "x",
         "y": [
          1154,
          1019,
          993,
          1146,
          1036,
          944,
          663
         ],
         "yaxis": "y"
        },
        {
         "hovertemplate": "발생장소=포항시<br>년도=%{x}<br>발생건수=%{y}<extra></extra>",
         "legendgroup": "포항시",
         "line": {
          "color": "#FFA15A",
          "dash": "solid"
         },
         "marker": {
          "symbol": "circle"
         },
         "mode": "lines+markers",
         "name": "포항시",
         "orientation": "v",
         "showlegend": true,
         "type": "scatter",
         "x": [
          "2016년",
          "2017년",
          "2018년",
          "2019년",
          "2020년",
          "2021년",
          "2022년"
         ],
         "xaxis": "x",
         "y": [
          7488,
          6208,
          5008,
          4542,
          3875,
          3500,
          2478
         ],
         "yaxis": "y"
        },
        {
         "hovertemplate": "발생장소=거제시<br>년도=%{x}<br>발생건수=%{y}<extra></extra>",
         "legendgroup": "거제시",
         "line": {
          "color": "#19d3f3",
          "dash": "solid"
         },
         "marker": {
          "symbol": "circle"
         },
         "mode": "lines+markers",
         "name": "거제시",
         "orientation": "v",
         "showlegend": true,
         "type": "scatter",
         "x": [
          "2016년",
          "2017년",
          "2018년",
          "2019년",
          "2020년",
          "2021년",
          "2022년"
         ],
         "xaxis": "x",
         "y": [
          4820,
          3341,
          2080,
          1984,
          1938,
          1467,
          1239
         ],
         "yaxis": "y"
        },
        {
         "hovertemplate": "발생장소=김해시<br>년도=%{x}<br>발생건수=%{y}<extra></extra>",
         "legendgroup": "김해시",
         "line": {
          "color": "#FF6692",
          "dash": "solid"
         },
         "marker": {
          "symbol": "circle"
         },
         "mode": "lines+markers",
         "name": "김해시",
         "orientation": "v",
         "showlegend": true,
         "type": "scatter",
         "x": [
          "2016년",
          "2017년",
          "2018년",
          "2019년",
          "2020년",
          "2021년",
          "2022년"
         ],
         "xaxis": "x",
         "y": [
          7346,
          6655,
          4499,
          4141,
          3928,
          3444,
          2710
         ],
         "yaxis": "y"
        },
        {
         "hovertemplate": "발생장소=마산시<br>년도=%{x}<br>발생건수=%{y}<extra></extra>",
         "legendgroup": "마산시",
         "line": {
          "color": "#B6E880",
          "dash": "solid"
         },
         "marker": {
          "symbol": "circle"
         },
         "mode": "lines+markers",
         "name": "마산시",
         "orientation": "v",
         "showlegend": true,
         "type": "scatter",
         "x": [
          "2016년",
          "2017년",
          "2018년",
          "2019년",
          "2020년",
          "2021년",
          "2022년"
         ],
         "xaxis": "x",
         "y": [
          0,
          0,
          0,
          0,
          0,
          0,
          0
         ],
         "yaxis": "y"
        },
        {
         "hovertemplate": "발생장소=밀양시<br>년도=%{x}<br>발생건수=%{y}<extra></extra>",
         "legendgroup": "밀양시",
         "line": {
          "color": "#FF97FF",
          "dash": "solid"
         },
         "marker": {
          "symbol": "circle"
         },
         "mode": "lines+markers",
         "name": "밀양시",
         "orientation": "v",
         "showlegend": true,
         "type": "scatter",
         "x": [
          "2016년",
          "2017년",
          "2018년",
          "2019년",
          "2020년",
          "2021년",
          "2022년"
         ],
         "xaxis": "x",
         "y": [
          1243,
          854,
          741,
          862,
          736,
          728,
          574
         ],
         "yaxis": "y"
        },
        {
         "hovertemplate": "발생장소=사천시<br>년도=%{x}<br>발생건수=%{y}<extra></extra>",
         "legendgroup": "사천시",
         "line": {
          "color": "#FECB52",
          "dash": "solid"
         },
         "marker": {
          "symbol": "circle"
         },
         "mode": "lines+markers",
         "name": "사천시",
         "orientation": "v",
         "showlegend": true,
         "type": "scatter",
         "x": [
          "2016년",
          "2017년",
          "2018년",
          "2019년",
          "2020년",
          "2021년",
          "2022년"
         ],
         "xaxis": "x",
         "y": [
          1908,
          1176,
          926,
          1016,
          997,
          821,
          751
         ],
         "yaxis": "y"
        },
        {
         "hovertemplate": "발생장소=양산시<br>년도=%{x}<br>발생건수=%{y}<extra></extra>",
         "legendgroup": "양산시",
         "line": {
          "color": "#636efa",
          "dash": "solid"
         },
         "marker": {
          "symbol": "circle"
         },
         "mode": "lines+markers",
         "name": "양산시",
         "orientation": "v",
         "showlegend": true,
         "type": "scatter",
         "x": [
          "2016년",
          "2017년",
          "2018년",
          "2019년",
          "2020년",
          "2021년",
          "2022년"
         ],
         "xaxis": "x",
         "y": [
          3760,
          2581,
          2275,
          3472,
          2400,
          2280,
          1573
         ],
         "yaxis": "y"
        },
        {
         "hovertemplate": "발생장소=진주시<br>년도=%{x}<br>발생건수=%{y}<extra></extra>",
         "legendgroup": "진주시",
         "line": {
          "color": "#EF553B",
          "dash": "solid"
         },
         "marker": {
          "symbol": "circle"
         },
         "mode": "lines+markers",
         "name": "진주시",
         "orientation": "v",
         "showlegend": true,
         "type": "scatter",
         "x": [
          "2016년",
          "2017년",
          "2018년",
          "2019년",
          "2020년",
          "2021년",
          "2022년"
         ],
         "xaxis": "x",
         "y": [
          3749,
          3037,
          1944,
          1773,
          1687,
          1551,
          1376
         ],
         "yaxis": "y"
        },
        {
         "hovertemplate": "발생장소=창원시<br>년도=%{x}<br>발생건수=%{y}<extra></extra>",
         "legendgroup": "창원시",
         "line": {
          "color": "#00cc96",
          "dash": "solid"
         },
         "marker": {
          "symbol": "circle"
         },
         "mode": "lines+markers",
         "name": "창원시",
         "orientation": "v",
         "showlegend": true,
         "type": "scatter",
         "x": [
          "2016년",
          "2017년",
          "2018년",
          "2019년",
          "2020년",
          "2021년",
          "2022년"
         ],
         "xaxis": "x",
         "y": [
          12594,
          9625,
          6683,
          6216,
          5418,
          4945,
          4023
         ],
         "yaxis": "y"
        },
        {
         "hovertemplate": "발생장소=통영시<br>년도=%{x}<br>발생건수=%{y}<extra></extra>",
         "legendgroup": "통영시",
         "line": {
          "color": "#ab63fa",
          "dash": "solid"
         },
         "marker": {
          "symbol": "circle"
         },
         "mode": "lines+markers",
         "name": "통영시",
         "orientation": "v",
         "showlegend": true,
         "type": "scatter",
         "x": [
          "2016년",
          "2017년",
          "2018년",
          "2019년",
          "2020년",
          "2021년",
          "2022년"
         ],
         "xaxis": "x",
         "y": [
          2430,
          2031,
          1350,
          1262,
          1245,
          1019,
          825
         ],
         "yaxis": "y"
        },
        {
         "hovertemplate": "발생장소=서귀포시<br>년도=%{x}<br>발생건수=%{y}<extra></extra>",
         "legendgroup": "서귀포시",
         "line": {
          "color": "#FFA15A",
          "dash": "solid"
         },
         "marker": {
          "symbol": "circle"
         },
         "mode": "lines+markers",
         "name": "서귀포시",
         "orientation": "v",
         "showlegend": true,
         "type": "scatter",
         "x": [
          "2016년",
          "2017년",
          "2018년",
          "2019년",
          "2020년",
          "2021년",
          "2022년"
         ],
         "xaxis": "x",
         "y": [
          4060,
          3713,
          2378,
          1895,
          1904,
          1916,
          1382
         ],
         "yaxis": "y"
        },
        {
         "hovertemplate": "발생장소=제주시<br>년도=%{x}<br>발생건수=%{y}<extra></extra>",
         "legendgroup": "제주시",
         "line": {
          "color": "#19d3f3",
          "dash": "solid"
         },
         "marker": {
          "symbol": "circle"
         },
         "mode": "lines+markers",
         "name": "제주시",
         "orientation": "v",
         "showlegend": true,
         "type": "scatter",
         "x": [
          "2016년",
          "2017년",
          "2018년",
          "2019년",
          "2020년",
          "2021년",
          "2022년"
         ],
         "xaxis": "x",
         "y": [
          11642,
          9936,
          6417,
          5147,
          4632,
          4266,
          3052
         ],
         "yaxis": "y"
        },
        {
         "hovertemplate": "발생장소=기타도시<br>년도=%{x}<br>발생건수=%{y}<extra></extra>",
         "legendgroup": "기타도시",
         "line": {
          "color": "#FF6692",
          "dash": "solid"
         },
         "marker": {
          "symbol": "circle"
         },
         "mode": "lines+markers",
         "name": "기타도시",
         "orientation": "v",
         "showlegend": true,
         "type": "scatter",
         "x": [
          "2016년",
          "2017년",
          "2018년",
          "2019년",
          "2020년",
          "2021년",
          "2022년"
         ],
         "xaxis": "x",
         "y": [
          1287,
          239,
          319,
          184,
          129,
          204,
          323
         ],
         "yaxis": "y"
        },
        {
         "hovertemplate": "발생장소=도시이외<br>년도=%{x}<br>발생건수=%{y}<extra></extra>",
         "legendgroup": "도시이외",
         "line": {
          "color": "#B6E880",
          "dash": "solid"
         },
         "marker": {
          "symbol": "circle"
         },
         "mode": "lines+markers",
         "name": "도시이외",
         "orientation": "v",
         "showlegend": true,
         "type": "scatter",
         "x": [
          "2016년",
          "2017년",
          "2018년",
          "2019년",
          "2020년",
          "2021년",
          "2022년"
         ],
         "xaxis": "x",
         "y": [
          43990,
          37639,
          30914,
          29603,
          27287,
          24503,
          20094
         ],
         "yaxis": "y"
        }
       ],
       "layout": {
        "legend": {
         "title": {
          "text": "발생장소"
         },
         "tracegroupgap": 0
        },
        "margin": {
         "t": 60
        },
        "template": {
         "data": {
          "bar": [
           {
            "error_x": {
             "color": "#2a3f5f"
            },
            "error_y": {
             "color": "#2a3f5f"
            },
            "marker": {
             "line": {
              "color": "#E5ECF6",
              "width": 0.5
             },
             "pattern": {
              "fillmode": "overlay",
              "size": 10,
              "solidity": 0.2
             }
            },
            "type": "bar"
           }
          ],
          "barpolar": [
           {
            "marker": {
             "line": {
              "color": "#E5ECF6",
              "width": 0.5
             },
             "pattern": {
              "fillmode": "overlay",
              "size": 10,
              "solidity": 0.2
             }
            },
            "type": "barpolar"
           }
          ],
          "carpet": [
           {
            "aaxis": {
             "endlinecolor": "#2a3f5f",
             "gridcolor": "white",
             "linecolor": "white",
             "minorgridcolor": "white",
             "startlinecolor": "#2a3f5f"
            },
            "baxis": {
             "endlinecolor": "#2a3f5f",
             "gridcolor": "white",
             "linecolor": "white",
             "minorgridcolor": "white",
             "startlinecolor": "#2a3f5f"
            },
            "type": "carpet"
           }
          ],
          "choropleth": [
           {
            "colorbar": {
             "outlinewidth": 0,
             "ticks": ""
            },
            "type": "choropleth"
           }
          ],
          "contour": [
           {
            "colorbar": {
             "outlinewidth": 0,
             "ticks": ""
            },
            "colorscale": [
             [
              0,
              "#0d0887"
             ],
             [
              0.1111111111111111,
              "#46039f"
             ],
             [
              0.2222222222222222,
              "#7201a8"
             ],
             [
              0.3333333333333333,
              "#9c179e"
             ],
             [
              0.4444444444444444,
              "#bd3786"
             ],
             [
              0.5555555555555556,
              "#d8576b"
             ],
             [
              0.6666666666666666,
              "#ed7953"
             ],
             [
              0.7777777777777778,
              "#fb9f3a"
             ],
             [
              0.8888888888888888,
              "#fdca26"
             ],
             [
              1,
              "#f0f921"
             ]
            ],
            "type": "contour"
           }
          ],
          "contourcarpet": [
           {
            "colorbar": {
             "outlinewidth": 0,
             "ticks": ""
            },
            "type": "contourcarpet"
           }
          ],
          "heatmap": [
           {
            "colorbar": {
             "outlinewidth": 0,
             "ticks": ""
            },
            "colorscale": [
             [
              0,
              "#0d0887"
             ],
             [
              0.1111111111111111,
              "#46039f"
             ],
             [
              0.2222222222222222,
              "#7201a8"
             ],
             [
              0.3333333333333333,
              "#9c179e"
             ],
             [
              0.4444444444444444,
              "#bd3786"
             ],
             [
              0.5555555555555556,
              "#d8576b"
             ],
             [
              0.6666666666666666,
              "#ed7953"
             ],
             [
              0.7777777777777778,
              "#fb9f3a"
             ],
             [
              0.8888888888888888,
              "#fdca26"
             ],
             [
              1,
              "#f0f921"
             ]
            ],
            "type": "heatmap"
           }
          ],
          "heatmapgl": [
           {
            "colorbar": {
             "outlinewidth": 0,
             "ticks": ""
            },
            "colorscale": [
             [
              0,
              "#0d0887"
             ],
             [
              0.1111111111111111,
              "#46039f"
             ],
             [
              0.2222222222222222,
              "#7201a8"
             ],
             [
              0.3333333333333333,
              "#9c179e"
             ],
             [
              0.4444444444444444,
              "#bd3786"
             ],
             [
              0.5555555555555556,
              "#d8576b"
             ],
             [
              0.6666666666666666,
              "#ed7953"
             ],
             [
              0.7777777777777778,
              "#fb9f3a"
             ],
             [
              0.8888888888888888,
              "#fdca26"
             ],
             [
              1,
              "#f0f921"
             ]
            ],
            "type": "heatmapgl"
           }
          ],
          "histogram": [
           {
            "marker": {
             "pattern": {
              "fillmode": "overlay",
              "size": 10,
              "solidity": 0.2
             }
            },
            "type": "histogram"
           }
          ],
          "histogram2d": [
           {
            "colorbar": {
             "outlinewidth": 0,
             "ticks": ""
            },
            "colorscale": [
             [
              0,
              "#0d0887"
             ],
             [
              0.1111111111111111,
              "#46039f"
             ],
             [
              0.2222222222222222,
              "#7201a8"
             ],
             [
              0.3333333333333333,
              "#9c179e"
             ],
             [
              0.4444444444444444,
              "#bd3786"
             ],
             [
              0.5555555555555556,
              "#d8576b"
             ],
             [
              0.6666666666666666,
              "#ed7953"
             ],
             [
              0.7777777777777778,
              "#fb9f3a"
             ],
             [
              0.8888888888888888,
              "#fdca26"
             ],
             [
              1,
              "#f0f921"
             ]
            ],
            "type": "histogram2d"
           }
          ],
          "histogram2dcontour": [
           {
            "colorbar": {
             "outlinewidth": 0,
             "ticks": ""
            },
            "colorscale": [
             [
              0,
              "#0d0887"
             ],
             [
              0.1111111111111111,
              "#46039f"
             ],
             [
              0.2222222222222222,
              "#7201a8"
             ],
             [
              0.3333333333333333,
              "#9c179e"
             ],
             [
              0.4444444444444444,
              "#bd3786"
             ],
             [
              0.5555555555555556,
              "#d8576b"
             ],
             [
              0.6666666666666666,
              "#ed7953"
             ],
             [
              0.7777777777777778,
              "#fb9f3a"
             ],
             [
              0.8888888888888888,
              "#fdca26"
             ],
             [
              1,
              "#f0f921"
             ]
            ],
            "type": "histogram2dcontour"
           }
          ],
          "mesh3d": [
           {
            "colorbar": {
             "outlinewidth": 0,
             "ticks": ""
            },
            "type": "mesh3d"
           }
          ],
          "parcoords": [
           {
            "line": {
             "colorbar": {
              "outlinewidth": 0,
              "ticks": ""
             }
            },
            "type": "parcoords"
           }
          ],
          "pie": [
           {
            "automargin": true,
            "type": "pie"
           }
          ],
          "scatter": [
           {
            "fillpattern": {
             "fillmode": "overlay",
             "size": 10,
             "solidity": 0.2
            },
            "type": "scatter"
           }
          ],
          "scatter3d": [
           {
            "line": {
             "colorbar": {
              "outlinewidth": 0,
              "ticks": ""
             }
            },
            "marker": {
             "colorbar": {
              "outlinewidth": 0,
              "ticks": ""
             }
            },
            "type": "scatter3d"
           }
          ],
          "scattercarpet": [
           {
            "marker": {
             "colorbar": {
              "outlinewidth": 0,
              "ticks": ""
             }
            },
            "type": "scattercarpet"
           }
          ],
          "scattergeo": [
           {
            "marker": {
             "colorbar": {
              "outlinewidth": 0,
              "ticks": ""
             }
            },
            "type": "scattergeo"
           }
          ],
          "scattergl": [
           {
            "marker": {
             "colorbar": {
              "outlinewidth": 0,
              "ticks": ""
             }
            },
            "type": "scattergl"
           }
          ],
          "scattermapbox": [
           {
            "marker": {
             "colorbar": {
              "outlinewidth": 0,
              "ticks": ""
             }
            },
            "type": "scattermapbox"
           }
          ],
          "scatterpolar": [
           {
            "marker": {
             "colorbar": {
              "outlinewidth": 0,
              "ticks": ""
             }
            },
            "type": "scatterpolar"
           }
          ],
          "scatterpolargl": [
           {
            "marker": {
             "colorbar": {
              "outlinewidth": 0,
              "ticks": ""
             }
            },
            "type": "scatterpolargl"
           }
          ],
          "scatterternary": [
           {
            "marker": {
             "colorbar": {
              "outlinewidth": 0,
              "ticks": ""
             }
            },
            "type": "scatterternary"
           }
          ],
          "surface": [
           {
            "colorbar": {
             "outlinewidth": 0,
             "ticks": ""
            },
            "colorscale": [
             [
              0,
              "#0d0887"
             ],
             [
              0.1111111111111111,
              "#46039f"
             ],
             [
              0.2222222222222222,
              "#7201a8"
             ],
             [
              0.3333333333333333,
              "#9c179e"
             ],
             [
              0.4444444444444444,
              "#bd3786"
             ],
             [
              0.5555555555555556,
              "#d8576b"
             ],
             [
              0.6666666666666666,
              "#ed7953"
             ],
             [
              0.7777777777777778,
              "#fb9f3a"
             ],
             [
              0.8888888888888888,
              "#fdca26"
             ],
             [
              1,
              "#f0f921"
             ]
            ],
            "type": "surface"
           }
          ],
          "table": [
           {
            "cells": {
             "fill": {
              "color": "#EBF0F8"
             },
             "line": {
              "color": "white"
             }
            },
            "header": {
             "fill": {
              "color": "#C8D4E3"
             },
             "line": {
              "color": "white"
             }
            },
            "type": "table"
           }
          ]
         },
         "layout": {
          "annotationdefaults": {
           "arrowcolor": "#2a3f5f",
           "arrowhead": 0,
           "arrowwidth": 1
          },
          "autotypenumbers": "strict",
          "coloraxis": {
           "colorbar": {
            "outlinewidth": 0,
            "ticks": ""
           }
          },
          "colorscale": {
           "diverging": [
            [
             0,
             "#8e0152"
            ],
            [
             0.1,
             "#c51b7d"
            ],
            [
             0.2,
             "#de77ae"
            ],
            [
             0.3,
             "#f1b6da"
            ],
            [
             0.4,
             "#fde0ef"
            ],
            [
             0.5,
             "#f7f7f7"
            ],
            [
             0.6,
             "#e6f5d0"
            ],
            [
             0.7,
             "#b8e186"
            ],
            [
             0.8,
             "#7fbc41"
            ],
            [
             0.9,
             "#4d9221"
            ],
            [
             1,
             "#276419"
            ]
           ],
           "sequential": [
            [
             0,
             "#0d0887"
            ],
            [
             0.1111111111111111,
             "#46039f"
            ],
            [
             0.2222222222222222,
             "#7201a8"
            ],
            [
             0.3333333333333333,
             "#9c179e"
            ],
            [
             0.4444444444444444,
             "#bd3786"
            ],
            [
             0.5555555555555556,
             "#d8576b"
            ],
            [
             0.6666666666666666,
             "#ed7953"
            ],
            [
             0.7777777777777778,
             "#fb9f3a"
            ],
            [
             0.8888888888888888,
             "#fdca26"
            ],
            [
             1,
             "#f0f921"
            ]
           ],
           "sequentialminus": [
            [
             0,
             "#0d0887"
            ],
            [
             0.1111111111111111,
             "#46039f"
            ],
            [
             0.2222222222222222,
             "#7201a8"
            ],
            [
             0.3333333333333333,
             "#9c179e"
            ],
            [
             0.4444444444444444,
             "#bd3786"
            ],
            [
             0.5555555555555556,
             "#d8576b"
            ],
            [
             0.6666666666666666,
             "#ed7953"
            ],
            [
             0.7777777777777778,
             "#fb9f3a"
            ],
            [
             0.8888888888888888,
             "#fdca26"
            ],
            [
             1,
             "#f0f921"
            ]
           ]
          },
          "colorway": [
           "#636efa",
           "#EF553B",
           "#00cc96",
           "#ab63fa",
           "#FFA15A",
           "#19d3f3",
           "#FF6692",
           "#B6E880",
           "#FF97FF",
           "#FECB52"
          ],
          "font": {
           "color": "#2a3f5f"
          },
          "geo": {
           "bgcolor": "white",
           "lakecolor": "white",
           "landcolor": "#E5ECF6",
           "showlakes": true,
           "showland": true,
           "subunitcolor": "white"
          },
          "hoverlabel": {
           "align": "left"
          },
          "hovermode": "closest",
          "mapbox": {
           "style": "light"
          },
          "paper_bgcolor": "white",
          "plot_bgcolor": "#E5ECF6",
          "polar": {
           "angularaxis": {
            "gridcolor": "white",
            "linecolor": "white",
            "ticks": ""
           },
           "bgcolor": "#E5ECF6",
           "radialaxis": {
            "gridcolor": "white",
            "linecolor": "white",
            "ticks": ""
           }
          },
          "scene": {
           "xaxis": {
            "backgroundcolor": "#E5ECF6",
            "gridcolor": "white",
            "gridwidth": 2,
            "linecolor": "white",
            "showbackground": true,
            "ticks": "",
            "zerolinecolor": "white"
           },
           "yaxis": {
            "backgroundcolor": "#E5ECF6",
            "gridcolor": "white",
            "gridwidth": 2,
            "linecolor": "white",
            "showbackground": true,
            "ticks": "",
            "zerolinecolor": "white"
           },
           "zaxis": {
            "backgroundcolor": "#E5ECF6",
            "gridcolor": "white",
            "gridwidth": 2,
            "linecolor": "white",
            "showbackground": true,
            "ticks": "",
            "zerolinecolor": "white"
           }
          },
          "shapedefaults": {
           "line": {
            "color": "#2a3f5f"
           }
          },
          "ternary": {
           "aaxis": {
            "gridcolor": "white",
            "linecolor": "white",
            "ticks": ""
           },
           "baxis": {
            "gridcolor": "white",
            "linecolor": "white",
            "ticks": ""
           },
           "bgcolor": "#E5ECF6",
           "caxis": {
            "gridcolor": "white",
            "linecolor": "white",
            "ticks": ""
           }
          },
          "title": {
           "x": 0.05
          },
          "xaxis": {
           "automargin": true,
           "gridcolor": "white",
           "linecolor": "white",
           "ticks": "",
           "title": {
            "standoff": 15
           },
           "zerolinecolor": "white",
           "zerolinewidth": 2
          },
          "yaxis": {
           "automargin": true,
           "gridcolor": "white",
           "linecolor": "white",
           "ticks": "",
           "title": {
            "standoff": 15
           },
           "zerolinecolor": "white",
           "zerolinewidth": 2
          }
         }
        },
        "title": {
         "font": {
          "size": 22
         },
         "text": "년도별 발생 지역에 따른 교통범죄 발생 건 수",
         "x": 0.5
        },
        "xaxis": {
         "anchor": "y",
         "domain": [
          0,
          1
         ],
         "tickangle": -45,
         "title": {
          "text": "년도"
         }
        },
        "yaxis": {
         "anchor": "x",
         "domain": [
          0,
          1
         ],
         "title": {
          "text": "발생건수"
         }
        }
       }
      }
     },
     "metadata": {},
     "output_type": "display_data"
    }
   ],
   "source": [
    "fig = px.line(vehicle_sido_df, x=\"년도\", y=\"발생건수\", color=\"발생장소\", markers=True )\n",
    "fig.update_layout(title_text=\"년도별 발생 지역에 따른 교통범죄 발생 건 수\", xaxis_tickangle=-45, title_x = 0.5, title_font_size=22)\n",
    "fig.show()"
   ]
  },
  {
   "cell_type": "code",
   "execution_count": 14,
   "metadata": {},
   "outputs": [
    {
     "data": {
      "text/html": [
       "<div>\n",
       "<style scoped>\n",
       "    .dataframe tbody tr th:only-of-type {\n",
       "        vertical-align: middle;\n",
       "    }\n",
       "\n",
       "    .dataframe tbody tr th {\n",
       "        vertical-align: top;\n",
       "    }\n",
       "\n",
       "    .dataframe thead th {\n",
       "        text-align: right;\n",
       "    }\n",
       "</style>\n",
       "<table border=\"1\" class=\"dataframe\">\n",
       "  <thead>\n",
       "    <tr style=\"text-align: right;\">\n",
       "      <th></th>\n",
       "      <th>대</th>\n",
       "      <th>중</th>\n",
       "      <th>소</th>\n",
       "      <th>2011년</th>\n",
       "      <th>2012년</th>\n",
       "      <th>2013년</th>\n",
       "      <th>2014년</th>\n",
       "      <th>2015년</th>\n",
       "      <th>2016년</th>\n",
       "      <th>2017년</th>\n",
       "      <th>2018년</th>\n",
       "      <th>2019년</th>\n",
       "      <th>2020년</th>\n",
       "      <th>2021년</th>\n",
       "      <th>2022년</th>\n",
       "    </tr>\n",
       "  </thead>\n",
       "  <tbody>\n",
       "    <tr>\n",
       "      <th>0</th>\n",
       "      <td>총계</td>\n",
       "      <td>소계</td>\n",
       "      <td>소계</td>\n",
       "      <td>1752598</td>\n",
       "      <td>1793400</td>\n",
       "      <td>1857276</td>\n",
       "      <td>1778966</td>\n",
       "      <td>1861657</td>\n",
       "      <td>1849450</td>\n",
       "      <td>1662341</td>\n",
       "      <td>1580751</td>\n",
       "      <td>1611906</td>\n",
       "      <td>1587866</td>\n",
       "      <td>1429826</td>\n",
       "      <td>1482433</td>\n",
       "    </tr>\n",
       "    <tr>\n",
       "      <th>1</th>\n",
       "      <td>총계</td>\n",
       "      <td>강력범죄</td>\n",
       "      <td>소계</td>\n",
       "      <td>26699</td>\n",
       "      <td>25152</td>\n",
       "      <td>26962</td>\n",
       "      <td>25277</td>\n",
       "      <td>25334</td>\n",
       "      <td>25765</td>\n",
       "      <td>27274</td>\n",
       "      <td>26787</td>\n",
       "      <td>26476</td>\n",
       "      <td>24332</td>\n",
       "      <td>22476</td>\n",
       "      <td>24954</td>\n",
       "    </tr>\n",
       "    <tr>\n",
       "      <th>2</th>\n",
       "      <td>총계</td>\n",
       "      <td>강력범죄</td>\n",
       "      <td>살인기수</td>\n",
       "      <td>427</td>\n",
       "      <td>411</td>\n",
       "      <td>342</td>\n",
       "      <td>372</td>\n",
       "      <td>365</td>\n",
       "      <td>356</td>\n",
       "      <td>301</td>\n",
       "      <td>309</td>\n",
       "      <td>297</td>\n",
       "      <td>308</td>\n",
       "      <td>270</td>\n",
       "      <td>275</td>\n",
       "    </tr>\n",
       "    <tr>\n",
       "      <th>3</th>\n",
       "      <td>총계</td>\n",
       "      <td>강력범죄</td>\n",
       "      <td>살인미수등</td>\n",
       "      <td>777</td>\n",
       "      <td>584</td>\n",
       "      <td>587</td>\n",
       "      <td>541</td>\n",
       "      <td>564</td>\n",
       "      <td>558</td>\n",
       "      <td>524</td>\n",
       "      <td>488</td>\n",
       "      <td>482</td>\n",
       "      <td>416</td>\n",
       "      <td>388</td>\n",
       "      <td>427</td>\n",
       "    </tr>\n",
       "    <tr>\n",
       "      <th>4</th>\n",
       "      <td>총계</td>\n",
       "      <td>강력범죄</td>\n",
       "      <td>강도</td>\n",
       "      <td>3994</td>\n",
       "      <td>2587</td>\n",
       "      <td>1980</td>\n",
       "      <td>1586</td>\n",
       "      <td>1446</td>\n",
       "      <td>1149</td>\n",
       "      <td>967</td>\n",
       "      <td>821</td>\n",
       "      <td>798</td>\n",
       "      <td>663</td>\n",
       "      <td>495</td>\n",
       "      <td>516</td>\n",
       "    </tr>\n",
       "  </tbody>\n",
       "</table>\n",
       "</div>"
      ],
      "text/plain": [
       "    대     중      소    2011년    2012년    2013년    2014년    2015년    2016년  \\\n",
       "0  총계    소계     소계  1752598  1793400  1857276  1778966  1861657  1849450   \n",
       "1  총계  강력범죄     소계    26699    25152    26962    25277    25334    25765   \n",
       "2  총계  강력범죄   살인기수      427      411      342      372      365      356   \n",
       "3  총계  강력범죄  살인미수등      777      584      587      541      564      558   \n",
       "4  총계  강력범죄     강도     3994     2587     1980     1586     1446     1149   \n",
       "\n",
       "     2017년    2018년    2019년    2020년    2021년    2022년  \n",
       "0  1662341  1580751  1611906  1587866  1429826  1482433  \n",
       "1    27274    26787    26476    24332    22476    24954  \n",
       "2      301      309      297      308      270      275  \n",
       "3      524      488      482      416      388      427  \n",
       "4      967      821      798      663      495      516  "
      ]
     },
     "execution_count": 14,
     "metadata": {},
     "output_type": "execute_result"
    }
   ],
   "source": [
    "ub3c4\n",
    "crime_count_df = pd.DataFrame(result)\n",
    "crime_count_df.head()"
   ]
  },
  {
   "cell_type": "code",
   "execution_count": 15,
   "metadata": {},
   "outputs": [
    {
     "data": {
      "text/html": [
       "<div>\n",
       "<style scoped>\n",
       "    .dataframe tbody tr th:only-of-type {\n",
       "        vertical-align: middle;\n",
       "    }\n",
       "\n",
       "    .dataframe tbody tr th {\n",
       "        vertical-align: top;\n",
       "    }\n",
       "\n",
       "    .dataframe thead th {\n",
       "        text-align: right;\n",
       "    }\n",
       "</style>\n",
       "<table border=\"1\" class=\"dataframe\">\n",
       "  <thead>\n",
       "    <tr style=\"text-align: right;\">\n",
       "      <th></th>\n",
       "      <th>대</th>\n",
       "      <th>중</th>\n",
       "      <th>소</th>\n",
       "      <th>2011년</th>\n",
       "      <th>2012년</th>\n",
       "      <th>2013년</th>\n",
       "      <th>2014년</th>\n",
       "      <th>2015년</th>\n",
       "      <th>2016년</th>\n",
       "      <th>2017년</th>\n",
       "      <th>2018년</th>\n",
       "      <th>2019년</th>\n",
       "      <th>2020년</th>\n",
       "      <th>2021년</th>\n",
       "      <th>2022년</th>\n",
       "    </tr>\n",
       "  </thead>\n",
       "  <tbody>\n",
       "    <tr>\n",
       "      <th>11</th>\n",
       "      <td>총계</td>\n",
       "      <td>절도범죄</td>\n",
       "      <td>소계</td>\n",
       "      <td>281362</td>\n",
       "      <td>290460</td>\n",
       "      <td>288343</td>\n",
       "      <td>266222</td>\n",
       "      <td>245853</td>\n",
       "      <td>203037</td>\n",
       "      <td>183757</td>\n",
       "      <td>176809</td>\n",
       "      <td>186957</td>\n",
       "      <td>179517</td>\n",
       "      <td>166409</td>\n",
       "      <td>182270</td>\n",
       "    </tr>\n",
       "    <tr>\n",
       "      <th>12</th>\n",
       "      <td>총계</td>\n",
       "      <td>절도범죄</td>\n",
       "      <td>절도</td>\n",
       "      <td>241401</td>\n",
       "      <td>253166</td>\n",
       "      <td>248785</td>\n",
       "      <td>229194</td>\n",
       "      <td>211886</td>\n",
       "      <td>175765</td>\n",
       "      <td>160627</td>\n",
       "      <td>155723</td>\n",
       "      <td>165358</td>\n",
       "      <td>158512</td>\n",
       "      <td>148196</td>\n",
       "      <td>164143</td>\n",
       "    </tr>\n",
       "    <tr>\n",
       "      <th>13</th>\n",
       "      <td>총계</td>\n",
       "      <td>절도범죄</td>\n",
       "      <td>절도(상습)</td>\n",
       "      <td>0</td>\n",
       "      <td>0</td>\n",
       "      <td>1052</td>\n",
       "      <td>805</td>\n",
       "      <td>5017</td>\n",
       "      <td>3123</td>\n",
       "      <td>1940</td>\n",
       "      <td>1218</td>\n",
       "      <td>1070</td>\n",
       "      <td>971</td>\n",
       "      <td>785</td>\n",
       "      <td>697</td>\n",
       "    </tr>\n",
       "    <tr>\n",
       "      <th>14</th>\n",
       "      <td>총계</td>\n",
       "      <td>절도범죄</td>\n",
       "      <td>특수절도</td>\n",
       "      <td>21730</td>\n",
       "      <td>21705</td>\n",
       "      <td>20362</td>\n",
       "      <td>17921</td>\n",
       "      <td>18636</td>\n",
       "      <td>15506</td>\n",
       "      <td>13128</td>\n",
       "      <td>11955</td>\n",
       "      <td>11783</td>\n",
       "      <td>11772</td>\n",
       "      <td>9142</td>\n",
       "      <td>9411</td>\n",
       "    </tr>\n",
       "    <tr>\n",
       "      <th>15</th>\n",
       "      <td>총계</td>\n",
       "      <td>절도범죄</td>\n",
       "      <td>특수절도(상습)</td>\n",
       "      <td>40</td>\n",
       "      <td>28</td>\n",
       "      <td>14</td>\n",
       "      <td>46</td>\n",
       "      <td>445</td>\n",
       "      <td>449</td>\n",
       "      <td>87</td>\n",
       "      <td>56</td>\n",
       "      <td>81</td>\n",
       "      <td>79</td>\n",
       "      <td>23</td>\n",
       "      <td>56</td>\n",
       "    </tr>\n",
       "    <tr>\n",
       "      <th>16</th>\n",
       "      <td>총계</td>\n",
       "      <td>절도범죄</td>\n",
       "      <td>야간주거침입절도</td>\n",
       "      <td>5018</td>\n",
       "      <td>4553</td>\n",
       "      <td>5537</td>\n",
       "      <td>6292</td>\n",
       "      <td>7439</td>\n",
       "      <td>7065</td>\n",
       "      <td>6659</td>\n",
       "      <td>5994</td>\n",
       "      <td>6329</td>\n",
       "      <td>5465</td>\n",
       "      <td>5153</td>\n",
       "      <td>4697</td>\n",
       "    </tr>\n",
       "    <tr>\n",
       "      <th>17</th>\n",
       "      <td>총계</td>\n",
       "      <td>절도범죄</td>\n",
       "      <td>야간주거침입절도(상습)</td>\n",
       "      <td>16</td>\n",
       "      <td>14</td>\n",
       "      <td>15</td>\n",
       "      <td>20</td>\n",
       "      <td>333</td>\n",
       "      <td>276</td>\n",
       "      <td>132</td>\n",
       "      <td>89</td>\n",
       "      <td>122</td>\n",
       "      <td>105</td>\n",
       "      <td>109</td>\n",
       "      <td>32</td>\n",
       "    </tr>\n",
       "    <tr>\n",
       "      <th>18</th>\n",
       "      <td>총계</td>\n",
       "      <td>절도범죄</td>\n",
       "      <td>불법사용</td>\n",
       "      <td>303</td>\n",
       "      <td>294</td>\n",
       "      <td>320</td>\n",
       "      <td>359</td>\n",
       "      <td>380</td>\n",
       "      <td>518</td>\n",
       "      <td>542</td>\n",
       "      <td>577</td>\n",
       "      <td>648</td>\n",
       "      <td>830</td>\n",
       "      <td>802</td>\n",
       "      <td>870</td>\n",
       "    </tr>\n",
       "    <tr>\n",
       "      <th>19</th>\n",
       "      <td>총계</td>\n",
       "      <td>절도범죄</td>\n",
       "      <td>불법사용(상습)</td>\n",
       "      <td>0</td>\n",
       "      <td>0</td>\n",
       "      <td>0</td>\n",
       "      <td>0</td>\n",
       "      <td>0</td>\n",
       "      <td>1</td>\n",
       "      <td>1</td>\n",
       "      <td>0</td>\n",
       "      <td>2</td>\n",
       "      <td>0</td>\n",
       "      <td>1</td>\n",
       "      <td>0</td>\n",
       "    </tr>\n",
       "    <tr>\n",
       "      <th>20</th>\n",
       "      <td>총계</td>\n",
       "      <td>절도범죄</td>\n",
       "      <td>절도·불법사용(상습)</td>\n",
       "      <td>599</td>\n",
       "      <td>365</td>\n",
       "      <td>0</td>\n",
       "      <td>0</td>\n",
       "      <td>0</td>\n",
       "      <td>0</td>\n",
       "      <td>0</td>\n",
       "      <td>0</td>\n",
       "      <td>0</td>\n",
       "      <td>0</td>\n",
       "      <td>0</td>\n",
       "      <td>0</td>\n",
       "    </tr>\n",
       "    <tr>\n",
       "      <th>21</th>\n",
       "      <td>총계</td>\n",
       "      <td>절도범죄</td>\n",
       "      <td>특가법(절도)</td>\n",
       "      <td>12255</td>\n",
       "      <td>10335</td>\n",
       "      <td>12257</td>\n",
       "      <td>11585</td>\n",
       "      <td>1717</td>\n",
       "      <td>334</td>\n",
       "      <td>641</td>\n",
       "      <td>1197</td>\n",
       "      <td>1564</td>\n",
       "      <td>1783</td>\n",
       "      <td>2198</td>\n",
       "      <td>2364</td>\n",
       "    </tr>\n",
       "    <tr>\n",
       "      <th>22</th>\n",
       "      <td>총계</td>\n",
       "      <td>절도범죄</td>\n",
       "      <td>특가법(단체등의조직)</td>\n",
       "      <td>0</td>\n",
       "      <td>0</td>\n",
       "      <td>1</td>\n",
       "      <td>0</td>\n",
       "      <td>0</td>\n",
       "      <td>0</td>\n",
       "      <td>0</td>\n",
       "      <td>0</td>\n",
       "      <td>0</td>\n",
       "      <td>0</td>\n",
       "      <td>0</td>\n",
       "      <td>0</td>\n",
       "    </tr>\n",
       "  </tbody>\n",
       "</table>\n",
       "</div>"
      ],
      "text/plain": [
       "     대     중             소   2011년   2012년   2013년   2014년   2015년   2016년  \\\n",
       "11  총계  절도범죄            소계  281362  290460  288343  266222  245853  203037   \n",
       "12  총계  절도범죄            절도  241401  253166  248785  229194  211886  175765   \n",
       "13  총계  절도범죄        절도(상습)       0       0    1052     805    5017    3123   \n",
       "14  총계  절도범죄          특수절도   21730   21705   20362   17921   18636   15506   \n",
       "15  총계  절도범죄      특수절도(상습)      40      28      14      46     445     449   \n",
       "16  총계  절도범죄      야간주거침입절도    5018    4553    5537    6292    7439    7065   \n",
       "17  총계  절도범죄  야간주거침입절도(상습)      16      14      15      20     333     276   \n",
       "18  총계  절도범죄          불법사용     303     294     320     359     380     518   \n",
       "19  총계  절도범죄      불법사용(상습)       0       0       0       0       0       1   \n",
       "20  총계  절도범죄   절도·불법사용(상습)     599     365       0       0       0       0   \n",
       "21  총계  절도범죄       특가법(절도)   12255   10335   12257   11585    1717     334   \n",
       "22  총계  절도범죄   특가법(단체등의조직)       0       0       1       0       0       0   \n",
       "\n",
       "     2017년   2018년   2019년   2020년   2021년   2022년  \n",
       "11  183757  176809  186957  179517  166409  182270  \n",
       "12  160627  155723  165358  158512  148196  164143  \n",
       "13    1940    1218    1070     971     785     697  \n",
       "14   13128   11955   11783   11772    9142    9411  \n",
       "15      87      56      81      79      23      56  \n",
       "16    6659    5994    6329    5465    5153    4697  \n",
       "17     132      89     122     105     109      32  \n",
       "18     542     577     648     830     802     870  \n",
       "19       1       0       2       0       1       0  \n",
       "20       0       0       0       0       0       0  \n",
       "21     641    1197    1564    1783    2198    2364  \n",
       "22       0       0       0       0       0       0  "
      ]
     },
     "execution_count": 15,
     "metadata": {},
     "output_type": "execute_result"
    }
   ],
   "source": [
    "theft_count_df = crime_count_df[ crime_count_df[\"중\"] == \"절도범죄\" ]\n",
    "theft_count_df"
   ]
  },
  {
   "cell_type": "code",
   "execution_count": 16,
   "metadata": {},
   "outputs": [
    {
     "data": {
      "text/html": [
       "<div>\n",
       "<style scoped>\n",
       "    .dataframe tbody tr th:only-of-type {\n",
       "        vertical-align: middle;\n",
       "    }\n",
       "\n",
       "    .dataframe tbody tr th {\n",
       "        vertical-align: top;\n",
       "    }\n",
       "\n",
       "    .dataframe thead th {\n",
       "        text-align: right;\n",
       "    }\n",
       "</style>\n",
       "<table border=\"1\" class=\"dataframe\">\n",
       "  <thead>\n",
       "    <tr style=\"text-align: right;\">\n",
       "      <th></th>\n",
       "      <th>대</th>\n",
       "      <th>중</th>\n",
       "      <th>소</th>\n",
       "      <th>년도</th>\n",
       "      <th>발생건수</th>\n",
       "    </tr>\n",
       "  </thead>\n",
       "  <tbody>\n",
       "    <tr>\n",
       "      <th>0</th>\n",
       "      <td>총계</td>\n",
       "      <td>절도범죄</td>\n",
       "      <td>소계</td>\n",
       "      <td>2011년</td>\n",
       "      <td>281362</td>\n",
       "    </tr>\n",
       "    <tr>\n",
       "      <th>1</th>\n",
       "      <td>총계</td>\n",
       "      <td>절도범죄</td>\n",
       "      <td>절도</td>\n",
       "      <td>2011년</td>\n",
       "      <td>241401</td>\n",
       "    </tr>\n",
       "    <tr>\n",
       "      <th>2</th>\n",
       "      <td>총계</td>\n",
       "      <td>절도범죄</td>\n",
       "      <td>절도(상습)</td>\n",
       "      <td>2011년</td>\n",
       "      <td>0</td>\n",
       "    </tr>\n",
       "    <tr>\n",
       "      <th>3</th>\n",
       "      <td>총계</td>\n",
       "      <td>절도범죄</td>\n",
       "      <td>특수절도</td>\n",
       "      <td>2011년</td>\n",
       "      <td>21730</td>\n",
       "    </tr>\n",
       "    <tr>\n",
       "      <th>4</th>\n",
       "      <td>총계</td>\n",
       "      <td>절도범죄</td>\n",
       "      <td>특수절도(상습)</td>\n",
       "      <td>2011년</td>\n",
       "      <td>40</td>\n",
       "    </tr>\n",
       "    <tr>\n",
       "      <th>...</th>\n",
       "      <td>...</td>\n",
       "      <td>...</td>\n",
       "      <td>...</td>\n",
       "      <td>...</td>\n",
       "      <td>...</td>\n",
       "    </tr>\n",
       "    <tr>\n",
       "      <th>139</th>\n",
       "      <td>총계</td>\n",
       "      <td>절도범죄</td>\n",
       "      <td>불법사용</td>\n",
       "      <td>2022년</td>\n",
       "      <td>870</td>\n",
       "    </tr>\n",
       "    <tr>\n",
       "      <th>140</th>\n",
       "      <td>총계</td>\n",
       "      <td>절도범죄</td>\n",
       "      <td>불법사용(상습)</td>\n",
       "      <td>2022년</td>\n",
       "      <td>0</td>\n",
       "    </tr>\n",
       "    <tr>\n",
       "      <th>141</th>\n",
       "      <td>총계</td>\n",
       "      <td>절도범죄</td>\n",
       "      <td>절도·불법사용(상습)</td>\n",
       "      <td>2022년</td>\n",
       "      <td>0</td>\n",
       "    </tr>\n",
       "    <tr>\n",
       "      <th>142</th>\n",
       "      <td>총계</td>\n",
       "      <td>절도범죄</td>\n",
       "      <td>특가법(절도)</td>\n",
       "      <td>2022년</td>\n",
       "      <td>2364</td>\n",
       "    </tr>\n",
       "    <tr>\n",
       "      <th>143</th>\n",
       "      <td>총계</td>\n",
       "      <td>절도범죄</td>\n",
       "      <td>특가법(단체등의조직)</td>\n",
       "      <td>2022년</td>\n",
       "      <td>0</td>\n",
       "    </tr>\n",
       "  </tbody>\n",
       "</table>\n",
       "<p>144 rows × 5 columns</p>\n",
       "</div>"
      ],
      "text/plain": [
       "      대     중            소     년도    발생건수\n",
       "0    총계  절도범죄           소계  2011년  281362\n",
       "1    총계  절도범죄           절도  2011년  241401\n",
       "2    총계  절도범죄       절도(상습)  2011년       0\n",
       "3    총계  절도범죄         특수절도  2011년   21730\n",
       "4    총계  절도범죄     특수절도(상습)  2011년      40\n",
       "..   ..   ...          ...    ...     ...\n",
       "139  총계  절도범죄         불법사용  2022년     870\n",
       "140  총계  절도범죄     불법사용(상습)  2022년       0\n",
       "141  총계  절도범죄  절도·불법사용(상습)  2022년       0\n",
       "142  총계  절도범죄      특가법(절도)  2022년    2364\n",
       "143  총계  절도범죄  특가법(단체등의조직)  2022년       0\n",
       "\n",
       "[144 rows x 5 columns]"
      ]
     },
     "execution_count": 16,
     "metadata": {},
     "output_type": "execute_result"
    }
   ],
   "source": [
    "theft_count_df = theft_count_df.melt(id_vars = [\"대\", \"중\", \"소\"], var_name=\"년도\", value_name=\"발생건수\")\n",
    "theft_count_df"
   ]
  },
  {
   "cell_type": "code",
   "execution_count": 17,
   "metadata": {},
   "outputs": [
    {
     "data": {
      "text/html": [
       "<div>\n",
       "<style scoped>\n",
       "    .dataframe tbody tr th:only-of-type {\n",
       "        vertical-align: middle;\n",
       "    }\n",
       "\n",
       "    .dataframe tbody tr th {\n",
       "        vertical-align: top;\n",
       "    }\n",
       "\n",
       "    .dataframe thead th {\n",
       "        text-align: right;\n",
       "    }\n",
       "</style>\n",
       "<table border=\"1\" class=\"dataframe\">\n",
       "  <thead>\n",
       "    <tr style=\"text-align: right;\">\n",
       "      <th></th>\n",
       "      <th>대</th>\n",
       "      <th>중</th>\n",
       "      <th>소</th>\n",
       "      <th>년도</th>\n",
       "      <th>발생건수</th>\n",
       "    </tr>\n",
       "  </thead>\n",
       "  <tbody>\n",
       "    <tr>\n",
       "      <th>0</th>\n",
       "      <td>총계</td>\n",
       "      <td>절도범죄</td>\n",
       "      <td>소계</td>\n",
       "      <td>2011년</td>\n",
       "      <td>281362</td>\n",
       "    </tr>\n",
       "    <tr>\n",
       "      <th>12</th>\n",
       "      <td>총계</td>\n",
       "      <td>절도범죄</td>\n",
       "      <td>소계</td>\n",
       "      <td>2012년</td>\n",
       "      <td>290460</td>\n",
       "    </tr>\n",
       "    <tr>\n",
       "      <th>24</th>\n",
       "      <td>총계</td>\n",
       "      <td>절도범죄</td>\n",
       "      <td>소계</td>\n",
       "      <td>2013년</td>\n",
       "      <td>288343</td>\n",
       "    </tr>\n",
       "    <tr>\n",
       "      <th>36</th>\n",
       "      <td>총계</td>\n",
       "      <td>절도범죄</td>\n",
       "      <td>소계</td>\n",
       "      <td>2014년</td>\n",
       "      <td>266222</td>\n",
       "    </tr>\n",
       "    <tr>\n",
       "      <th>48</th>\n",
       "      <td>총계</td>\n",
       "      <td>절도범죄</td>\n",
       "      <td>소계</td>\n",
       "      <td>2015년</td>\n",
       "      <td>245853</td>\n",
       "    </tr>\n",
       "    <tr>\n",
       "      <th>60</th>\n",
       "      <td>총계</td>\n",
       "      <td>절도범죄</td>\n",
       "      <td>소계</td>\n",
       "      <td>2016년</td>\n",
       "      <td>203037</td>\n",
       "    </tr>\n",
       "    <tr>\n",
       "      <th>72</th>\n",
       "      <td>총계</td>\n",
       "      <td>절도범죄</td>\n",
       "      <td>소계</td>\n",
       "      <td>2017년</td>\n",
       "      <td>183757</td>\n",
       "    </tr>\n",
       "    <tr>\n",
       "      <th>84</th>\n",
       "      <td>총계</td>\n",
       "      <td>절도범죄</td>\n",
       "      <td>소계</td>\n",
       "      <td>2018년</td>\n",
       "      <td>176809</td>\n",
       "    </tr>\n",
       "    <tr>\n",
       "      <th>96</th>\n",
       "      <td>총계</td>\n",
       "      <td>절도범죄</td>\n",
       "      <td>소계</td>\n",
       "      <td>2019년</td>\n",
       "      <td>186957</td>\n",
       "    </tr>\n",
       "    <tr>\n",
       "      <th>108</th>\n",
       "      <td>총계</td>\n",
       "      <td>절도범죄</td>\n",
       "      <td>소계</td>\n",
       "      <td>2020년</td>\n",
       "      <td>179517</td>\n",
       "    </tr>\n",
       "    <tr>\n",
       "      <th>120</th>\n",
       "      <td>총계</td>\n",
       "      <td>절도범죄</td>\n",
       "      <td>소계</td>\n",
       "      <td>2021년</td>\n",
       "      <td>166409</td>\n",
       "    </tr>\n",
       "    <tr>\n",
       "      <th>132</th>\n",
       "      <td>총계</td>\n",
       "      <td>절도범죄</td>\n",
       "      <td>소계</td>\n",
       "      <td>2022년</td>\n",
       "      <td>182270</td>\n",
       "    </tr>\n",
       "  </tbody>\n",
       "</table>\n",
       "</div>"
      ],
      "text/plain": [
       "      대     중   소     년도    발생건수\n",
       "0    총계  절도범죄  소계  2011년  281362\n",
       "12   총계  절도범죄  소계  2012년  290460\n",
       "24   총계  절도범죄  소계  2013년  288343\n",
       "36   총계  절도범죄  소계  2014년  266222\n",
       "48   총계  절도범죄  소계  2015년  245853\n",
       "60   총계  절도범죄  소계  2016년  203037\n",
       "72   총계  절도범죄  소계  2017년  183757\n",
       "84   총계  절도범죄  소계  2018년  176809\n",
       "96   총계  절도범죄  소계  2019년  186957\n",
       "108  총계  절도범죄  소계  2020년  179517\n",
       "120  총계  절도범죄  소계  2021년  166409\n",
       "132  총계  절도범죄  소계  2022년  182270"
      ]
     },
     "execution_count": 17,
     "metadata": {},
     "output_type": "execute_result"
    }
   ],
   "source": [
    "theft_count_total_df = theft_count_df[theft_count_df[\"소\"]== \"소계\"]\n",
    "theft_count_total_df"
   ]
  },
  {
   "cell_type": "code",
   "execution_count": 18,
   "metadata": {},
   "outputs": [
    {
     "data": {
      "text/html": [
       "<div>\n",
       "<style scoped>\n",
       "    .dataframe tbody tr th:only-of-type {\n",
       "        vertical-align: middle;\n",
       "    }\n",
       "\n",
       "    .dataframe tbody tr th {\n",
       "        vertical-align: top;\n",
       "    }\n",
       "\n",
       "    .dataframe thead th {\n",
       "        text-align: right;\n",
       "    }\n",
       "</style>\n",
       "<table border=\"1\" class=\"dataframe\">\n",
       "  <thead>\n",
       "    <tr style=\"text-align: right;\">\n",
       "      <th></th>\n",
       "      <th>대</th>\n",
       "      <th>중</th>\n",
       "      <th>소</th>\n",
       "      <th>년도</th>\n",
       "      <th>발생건수</th>\n",
       "    </tr>\n",
       "  </thead>\n",
       "  <tbody>\n",
       "    <tr>\n",
       "      <th>1</th>\n",
       "      <td>총계</td>\n",
       "      <td>절도범죄</td>\n",
       "      <td>절도</td>\n",
       "      <td>2011년</td>\n",
       "      <td>241401</td>\n",
       "    </tr>\n",
       "    <tr>\n",
       "      <th>2</th>\n",
       "      <td>총계</td>\n",
       "      <td>절도범죄</td>\n",
       "      <td>절도(상습)</td>\n",
       "      <td>2011년</td>\n",
       "      <td>0</td>\n",
       "    </tr>\n",
       "    <tr>\n",
       "      <th>3</th>\n",
       "      <td>총계</td>\n",
       "      <td>절도범죄</td>\n",
       "      <td>특수절도</td>\n",
       "      <td>2011년</td>\n",
       "      <td>21730</td>\n",
       "    </tr>\n",
       "    <tr>\n",
       "      <th>4</th>\n",
       "      <td>총계</td>\n",
       "      <td>절도범죄</td>\n",
       "      <td>특수절도(상습)</td>\n",
       "      <td>2011년</td>\n",
       "      <td>40</td>\n",
       "    </tr>\n",
       "    <tr>\n",
       "      <th>5</th>\n",
       "      <td>총계</td>\n",
       "      <td>절도범죄</td>\n",
       "      <td>야간주거침입절도</td>\n",
       "      <td>2011년</td>\n",
       "      <td>5018</td>\n",
       "    </tr>\n",
       "    <tr>\n",
       "      <th>...</th>\n",
       "      <td>...</td>\n",
       "      <td>...</td>\n",
       "      <td>...</td>\n",
       "      <td>...</td>\n",
       "      <td>...</td>\n",
       "    </tr>\n",
       "    <tr>\n",
       "      <th>139</th>\n",
       "      <td>총계</td>\n",
       "      <td>절도범죄</td>\n",
       "      <td>불법사용</td>\n",
       "      <td>2022년</td>\n",
       "      <td>870</td>\n",
       "    </tr>\n",
       "    <tr>\n",
       "      <th>140</th>\n",
       "      <td>총계</td>\n",
       "      <td>절도범죄</td>\n",
       "      <td>불법사용(상습)</td>\n",
       "      <td>2022년</td>\n",
       "      <td>0</td>\n",
       "    </tr>\n",
       "    <tr>\n",
       "      <th>141</th>\n",
       "      <td>총계</td>\n",
       "      <td>절도범죄</td>\n",
       "      <td>절도·불법사용(상습)</td>\n",
       "      <td>2022년</td>\n",
       "      <td>0</td>\n",
       "    </tr>\n",
       "    <tr>\n",
       "      <th>142</th>\n",
       "      <td>총계</td>\n",
       "      <td>절도범죄</td>\n",
       "      <td>특가법(절도)</td>\n",
       "      <td>2022년</td>\n",
       "      <td>2364</td>\n",
       "    </tr>\n",
       "    <tr>\n",
       "      <th>143</th>\n",
       "      <td>총계</td>\n",
       "      <td>절도범죄</td>\n",
       "      <td>특가법(단체등의조직)</td>\n",
       "      <td>2022년</td>\n",
       "      <td>0</td>\n",
       "    </tr>\n",
       "  </tbody>\n",
       "</table>\n",
       "<p>132 rows × 5 columns</p>\n",
       "</div>"
      ],
      "text/plain": [
       "      대     중            소     년도    발생건수\n",
       "1    총계  절도범죄           절도  2011년  241401\n",
       "2    총계  절도범죄       절도(상습)  2011년       0\n",
       "3    총계  절도범죄         특수절도  2011년   21730\n",
       "4    총계  절도범죄     특수절도(상습)  2011년      40\n",
       "5    총계  절도범죄     야간주거침입절도  2011년    5018\n",
       "..   ..   ...          ...    ...     ...\n",
       "139  총계  절도범죄         불법사용  2022년     870\n",
       "140  총계  절도범죄     불법사용(상습)  2022년       0\n",
       "141  총계  절도범죄  절도·불법사용(상습)  2022년       0\n",
       "142  총계  절도범죄      특가법(절도)  2022년    2364\n",
       "143  총계  절도범죄  특가법(단체등의조직)  2022년       0\n",
       "\n",
       "[132 rows x 5 columns]"
      ]
     },
     "execution_count": 18,
     "metadata": {},
     "output_type": "execute_result"
    }
   ],
   "source": [
    "theft_count_df = theft_count_df[theft_count_df[\"소\"] != \"소계\"]\n",
    "theft_count_df"
   ]
  },
  {
   "cell_type": "code",
   "execution_count": 19,
   "metadata": {},
   "outputs": [
    {
     "data": {
      "text/plain": [
       "array(['절도', '절도(상습)', '특수절도', '특수절도(상습)', '야간주거침입절도', '야간주거침입절도(상습)',\n",
       "       '불법사용', '불법사용(상습)', '절도·불법사용(상습)', '특가법(절도)', '특가법(단체등의조직)'],\n",
       "      dtype=object)"
      ]
     },
     "execution_count": 19,
     "metadata": {},
     "output_type": "execute_result"
    }
   ],
   "source": [
    "theft_count_df[\"소\"].unique()"
   ]
  },
  {
   "cell_type": "code",
   "execution_count": 20,
   "metadata": {},
   "outputs": [
    {
     "name": "stdout",
     "output_type": "stream",
     "text": [
      "This is the format of your plot grid:\n",
      "[ (1,1) x,y   ]\n",
      "[ (2,1) x2,y2 ]\n",
      "\n"
     ]
    },
    {
     "data": {
      "application/vnd.plotly.v1+json": {
       "config": {
        "plotlyServerURL": "https://plot.ly"
       },
       "data": [
        {
         "mode": "markers+lines",
         "name": "절도범죄 총 건수",
         "type": "scatter",
         "x": [
          "2011년",
          "2012년",
          "2013년",
          "2014년",
          "2015년",
          "2016년",
          "2017년",
          "2018년",
          "2019년",
          "2020년",
          "2021년",
          "2022년"
         ],
         "xaxis": "x",
         "y": [
          281362,
          290460,
          288343,
          266222,
          245853,
          203037,
          183757,
          176809,
          186957,
          179517,
          166409,
          182270
         ],
         "yaxis": "y"
        },
        {
         "mode": "markers+lines",
         "name": "절도",
         "type": "scatter",
         "x": [
          "2011년",
          "2012년",
          "2013년",
          "2014년",
          "2015년",
          "2016년",
          "2017년",
          "2018년",
          "2019년",
          "2020년",
          "2021년",
          "2022년"
         ],
         "xaxis": "x2",
         "y": [
          241401,
          253166,
          248785,
          229194,
          211886,
          175765,
          160627,
          155723,
          165358,
          158512,
          148196,
          164143
         ],
         "yaxis": "y2"
        },
        {
         "mode": "markers+lines",
         "name": "절도(상습)",
         "type": "scatter",
         "x": [
          "2011년",
          "2012년",
          "2013년",
          "2014년",
          "2015년",
          "2016년",
          "2017년",
          "2018년",
          "2019년",
          "2020년",
          "2021년",
          "2022년"
         ],
         "xaxis": "x2",
         "y": [
          0,
          0,
          1052,
          805,
          5017,
          3123,
          1940,
          1218,
          1070,
          971,
          785,
          697
         ],
         "yaxis": "y2"
        },
        {
         "mode": "markers+lines",
         "name": "특수절도",
         "type": "scatter",
         "x": [
          "2011년",
          "2012년",
          "2013년",
          "2014년",
          "2015년",
          "2016년",
          "2017년",
          "2018년",
          "2019년",
          "2020년",
          "2021년",
          "2022년"
         ],
         "xaxis": "x2",
         "y": [
          21730,
          21705,
          20362,
          17921,
          18636,
          15506,
          13128,
          11955,
          11783,
          11772,
          9142,
          9411
         ],
         "yaxis": "y2"
        },
        {
         "mode": "markers+lines",
         "name": "특수절도(상습)",
         "type": "scatter",
         "x": [
          "2011년",
          "2012년",
          "2013년",
          "2014년",
          "2015년",
          "2016년",
          "2017년",
          "2018년",
          "2019년",
          "2020년",
          "2021년",
          "2022년"
         ],
         "xaxis": "x2",
         "y": [
          40,
          28,
          14,
          46,
          445,
          449,
          87,
          56,
          81,
          79,
          23,
          56
         ],
         "yaxis": "y2"
        },
        {
         "mode": "markers+lines",
         "name": "야간주거침입절도",
         "type": "scatter",
         "x": [
          "2011년",
          "2012년",
          "2013년",
          "2014년",
          "2015년",
          "2016년",
          "2017년",
          "2018년",
          "2019년",
          "2020년",
          "2021년",
          "2022년"
         ],
         "xaxis": "x2",
         "y": [
          5018,
          4553,
          5537,
          6292,
          7439,
          7065,
          6659,
          5994,
          6329,
          5465,
          5153,
          4697
         ],
         "yaxis": "y2"
        },
        {
         "mode": "markers+lines",
         "name": "야간주거침입절도(상습)",
         "type": "scatter",
         "x": [
          "2011년",
          "2012년",
          "2013년",
          "2014년",
          "2015년",
          "2016년",
          "2017년",
          "2018년",
          "2019년",
          "2020년",
          "2021년",
          "2022년"
         ],
         "xaxis": "x2",
         "y": [
          16,
          14,
          15,
          20,
          333,
          276,
          132,
          89,
          122,
          105,
          109,
          32
         ],
         "yaxis": "y2"
        },
        {
         "mode": "markers+lines",
         "name": "불법사용",
         "type": "scatter",
         "x": [
          "2011년",
          "2012년",
          "2013년",
          "2014년",
          "2015년",
          "2016년",
          "2017년",
          "2018년",
          "2019년",
          "2020년",
          "2021년",
          "2022년"
         ],
         "xaxis": "x2",
         "y": [
          303,
          294,
          320,
          359,
          380,
          518,
          542,
          577,
          648,
          830,
          802,
          870
         ],
         "yaxis": "y2"
        },
        {
         "mode": "markers+lines",
         "name": "불법사용(상습)",
         "type": "scatter",
         "x": [
          "2011년",
          "2012년",
          "2013년",
          "2014년",
          "2015년",
          "2016년",
          "2017년",
          "2018년",
          "2019년",
          "2020년",
          "2021년",
          "2022년"
         ],
         "xaxis": "x2",
         "y": [
          0,
          0,
          0,
          0,
          0,
          1,
          1,
          0,
          2,
          0,
          1,
          0
         ],
         "yaxis": "y2"
        },
        {
         "mode": "markers+lines",
         "name": "절도·불법사용(상습)",
         "type": "scatter",
         "x": [
          "2011년",
          "2012년",
          "2013년",
          "2014년",
          "2015년",
          "2016년",
          "2017년",
          "2018년",
          "2019년",
          "2020년",
          "2021년",
          "2022년"
         ],
         "xaxis": "x2",
         "y": [
          599,
          365,
          0,
          0,
          0,
          0,
          0,
          0,
          0,
          0,
          0,
          0
         ],
         "yaxis": "y2"
        },
        {
         "mode": "markers+lines",
         "name": "특가법(절도)",
         "type": "scatter",
         "x": [
          "2011년",
          "2012년",
          "2013년",
          "2014년",
          "2015년",
          "2016년",
          "2017년",
          "2018년",
          "2019년",
          "2020년",
          "2021년",
          "2022년"
         ],
         "xaxis": "x2",
         "y": [
          12255,
          10335,
          12257,
          11585,
          1717,
          334,
          641,
          1197,
          1564,
          1783,
          2198,
          2364
         ],
         "yaxis": "y2"
        },
        {
         "mode": "markers+lines",
         "name": "특가법(단체등의조직)",
         "type": "scatter",
         "x": [
          "2011년",
          "2012년",
          "2013년",
          "2014년",
          "2015년",
          "2016년",
          "2017년",
          "2018년",
          "2019년",
          "2020년",
          "2021년",
          "2022년"
         ],
         "xaxis": "x2",
         "y": [
          0,
          0,
          1,
          0,
          0,
          0,
          0,
          0,
          0,
          0,
          0,
          0
         ],
         "yaxis": "y2"
        }
       ],
       "layout": {
        "annotations": [
         {
          "font": {
           "size": 16
          },
          "showarrow": false,
          "text": "<b>연도별 절도범죄 전체 건수 변화</b>",
          "x": 0.5,
          "xanchor": "center",
          "xref": "paper",
          "y": 1,
          "yanchor": "bottom",
          "yref": "paper"
         },
         {
          "font": {
           "size": 16
          },
          "showarrow": false,
          "text": "<b>연도별 절도범죄 세부사항 건수 변화</b>",
          "x": 0.5,
          "xanchor": "center",
          "xref": "paper",
          "y": 0.375,
          "yanchor": "bottom",
          "yref": "paper"
         }
        ],
        "height": 800,
        "legend": {
         "orientation": "h",
         "xanchor": "left"
        },
        "template": {
         "data": {
          "bar": [
           {
            "error_x": {
             "color": "#2a3f5f"
            },
            "error_y": {
             "color": "#2a3f5f"
            },
            "marker": {
             "line": {
              "color": "#E5ECF6",
              "width": 0.5
             },
             "pattern": {
              "fillmode": "overlay",
              "size": 10,
              "solidity": 0.2
             }
            },
            "type": "bar"
           }
          ],
          "barpolar": [
           {
            "marker": {
             "line": {
              "color": "#E5ECF6",
              "width": 0.5
             },
             "pattern": {
              "fillmode": "overlay",
              "size": 10,
              "solidity": 0.2
             }
            },
            "type": "barpolar"
           }
          ],
          "carpet": [
           {
            "aaxis": {
             "endlinecolor": "#2a3f5f",
             "gridcolor": "white",
             "linecolor": "white",
             "minorgridcolor": "white",
             "startlinecolor": "#2a3f5f"
            },
            "baxis": {
             "endlinecolor": "#2a3f5f",
             "gridcolor": "white",
             "linecolor": "white",
             "minorgridcolor": "white",
             "startlinecolor": "#2a3f5f"
            },
            "type": "carpet"
           }
          ],
          "choropleth": [
           {
            "colorbar": {
             "outlinewidth": 0,
             "ticks": ""
            },
            "type": "choropleth"
           }
          ],
          "contour": [
           {
            "colorbar": {
             "outlinewidth": 0,
             "ticks": ""
            },
            "colorscale": [
             [
              0,
              "#0d0887"
             ],
             [
              0.1111111111111111,
              "#46039f"
             ],
             [
              0.2222222222222222,
              "#7201a8"
             ],
             [
              0.3333333333333333,
              "#9c179e"
             ],
             [
              0.4444444444444444,
              "#bd3786"
             ],
             [
              0.5555555555555556,
              "#d8576b"
             ],
             [
              0.6666666666666666,
              "#ed7953"
             ],
             [
              0.7777777777777778,
              "#fb9f3a"
             ],
             [
              0.8888888888888888,
              "#fdca26"
             ],
             [
              1,
              "#f0f921"
             ]
            ],
            "type": "contour"
           }
          ],
          "contourcarpet": [
           {
            "colorbar": {
             "outlinewidth": 0,
             "ticks": ""
            },
            "type": "contourcarpet"
           }
          ],
          "heatmap": [
           {
            "colorbar": {
             "outlinewidth": 0,
             "ticks": ""
            },
            "colorscale": [
             [
              0,
              "#0d0887"
             ],
             [
              0.1111111111111111,
              "#46039f"
             ],
             [
              0.2222222222222222,
              "#7201a8"
             ],
             [
              0.3333333333333333,
              "#9c179e"
             ],
             [
              0.4444444444444444,
              "#bd3786"
             ],
             [
              0.5555555555555556,
              "#d8576b"
             ],
             [
              0.6666666666666666,
              "#ed7953"
             ],
             [
              0.7777777777777778,
              "#fb9f3a"
             ],
             [
              0.8888888888888888,
              "#fdca26"
             ],
             [
              1,
              "#f0f921"
             ]
            ],
            "type": "heatmap"
           }
          ],
          "heatmapgl": [
           {
            "colorbar": {
             "outlinewidth": 0,
             "ticks": ""
            },
            "colorscale": [
             [
              0,
              "#0d0887"
             ],
             [
              0.1111111111111111,
              "#46039f"
             ],
             [
              0.2222222222222222,
              "#7201a8"
             ],
             [
              0.3333333333333333,
              "#9c179e"
             ],
             [
              0.4444444444444444,
              "#bd3786"
             ],
             [
              0.5555555555555556,
              "#d8576b"
             ],
             [
              0.6666666666666666,
              "#ed7953"
             ],
             [
              0.7777777777777778,
              "#fb9f3a"
             ],
             [
              0.8888888888888888,
              "#fdca26"
             ],
             [
              1,
              "#f0f921"
             ]
            ],
            "type": "heatmapgl"
           }
          ],
          "histogram": [
           {
            "marker": {
             "pattern": {
              "fillmode": "overlay",
              "size": 10,
              "solidity": 0.2
             }
            },
            "type": "histogram"
           }
          ],
          "histogram2d": [
           {
            "colorbar": {
             "outlinewidth": 0,
             "ticks": ""
            },
            "colorscale": [
             [
              0,
              "#0d0887"
             ],
             [
              0.1111111111111111,
              "#46039f"
             ],
             [
              0.2222222222222222,
              "#7201a8"
             ],
             [
              0.3333333333333333,
              "#9c179e"
             ],
             [
              0.4444444444444444,
              "#bd3786"
             ],
             [
              0.5555555555555556,
              "#d8576b"
             ],
             [
              0.6666666666666666,
              "#ed7953"
             ],
             [
              0.7777777777777778,
              "#fb9f3a"
             ],
             [
              0.8888888888888888,
              "#fdca26"
             ],
             [
              1,
              "#f0f921"
             ]
            ],
            "type": "histogram2d"
           }
          ],
          "histogram2dcontour": [
           {
            "colorbar": {
             "outlinewidth": 0,
             "ticks": ""
            },
            "colorscale": [
             [
              0,
              "#0d0887"
             ],
             [
              0.1111111111111111,
              "#46039f"
             ],
             [
              0.2222222222222222,
              "#7201a8"
             ],
             [
              0.3333333333333333,
              "#9c179e"
             ],
             [
              0.4444444444444444,
              "#bd3786"
             ],
             [
              0.5555555555555556,
              "#d8576b"
             ],
             [
              0.6666666666666666,
              "#ed7953"
             ],
             [
              0.7777777777777778,
              "#fb9f3a"
             ],
             [
              0.8888888888888888,
              "#fdca26"
             ],
             [
              1,
              "#f0f921"
             ]
            ],
            "type": "histogram2dcontour"
           }
          ],
          "mesh3d": [
           {
            "colorbar": {
             "outlinewidth": 0,
             "ticks": ""
            },
            "type": "mesh3d"
           }
          ],
          "parcoords": [
           {
            "line": {
             "colorbar": {
              "outlinewidth": 0,
              "ticks": ""
             }
            },
            "type": "parcoords"
           }
          ],
          "pie": [
           {
            "automargin": true,
            "type": "pie"
           }
          ],
          "scatter": [
           {
            "fillpattern": {
             "fillmode": "overlay",
             "size": 10,
             "solidity": 0.2
            },
            "type": "scatter"
           }
          ],
          "scatter3d": [
           {
            "line": {
             "colorbar": {
              "outlinewidth": 0,
              "ticks": ""
             }
            },
            "marker": {
             "colorbar": {
              "outlinewidth": 0,
              "ticks": ""
             }
            },
            "type": "scatter3d"
           }
          ],
          "scattercarpet": [
           {
            "marker": {
             "colorbar": {
              "outlinewidth": 0,
              "ticks": ""
             }
            },
            "type": "scattercarpet"
           }
          ],
          "scattergeo": [
           {
            "marker": {
             "colorbar": {
              "outlinewidth": 0,
              "ticks": ""
             }
            },
            "type": "scattergeo"
           }
          ],
          "scattergl": [
           {
            "marker": {
             "colorbar": {
              "outlinewidth": 0,
              "ticks": ""
             }
            },
            "type": "scattergl"
           }
          ],
          "scattermapbox": [
           {
            "marker": {
             "colorbar": {
              "outlinewidth": 0,
              "ticks": ""
             }
            },
            "type": "scattermapbox"
           }
          ],
          "scatterpolar": [
           {
            "marker": {
             "colorbar": {
              "outlinewidth": 0,
              "ticks": ""
             }
            },
            "type": "scatterpolar"
           }
          ],
          "scatterpolargl": [
           {
            "marker": {
             "colorbar": {
              "outlinewidth": 0,
              "ticks": ""
             }
            },
            "type": "scatterpolargl"
           }
          ],
          "scatterternary": [
           {
            "marker": {
             "colorbar": {
              "outlinewidth": 0,
              "ticks": ""
             }
            },
            "type": "scatterternary"
           }
          ],
          "surface": [
           {
            "colorbar": {
             "outlinewidth": 0,
             "ticks": ""
            },
            "colorscale": [
             [
              0,
              "#0d0887"
             ],
             [
              0.1111111111111111,
              "#46039f"
             ],
             [
              0.2222222222222222,
              "#7201a8"
             ],
             [
              0.3333333333333333,
              "#9c179e"
             ],
             [
              0.4444444444444444,
              "#bd3786"
             ],
             [
              0.5555555555555556,
              "#d8576b"
             ],
             [
              0.6666666666666666,
              "#ed7953"
             ],
             [
              0.7777777777777778,
              "#fb9f3a"
             ],
             [
              0.8888888888888888,
              "#fdca26"
             ],
             [
              1,
              "#f0f921"
             ]
            ],
            "type": "surface"
           }
          ],
          "table": [
           {
            "cells": {
             "fill": {
              "color": "#EBF0F8"
             },
             "line": {
              "color": "white"
             }
            },
            "header": {
             "fill": {
              "color": "#C8D4E3"
             },
             "line": {
              "color": "white"
             }
            },
            "type": "table"
           }
          ]
         },
         "layout": {
          "annotationdefaults": {
           "arrowcolor": "#2a3f5f",
           "arrowhead": 0,
           "arrowwidth": 1
          },
          "autotypenumbers": "strict",
          "coloraxis": {
           "colorbar": {
            "outlinewidth": 0,
            "ticks": ""
           }
          },
          "colorscale": {
           "diverging": [
            [
             0,
             "#8e0152"
            ],
            [
             0.1,
             "#c51b7d"
            ],
            [
             0.2,
             "#de77ae"
            ],
            [
             0.3,
             "#f1b6da"
            ],
            [
             0.4,
             "#fde0ef"
            ],
            [
             0.5,
             "#f7f7f7"
            ],
            [
             0.6,
             "#e6f5d0"
            ],
            [
             0.7,
             "#b8e186"
            ],
            [
             0.8,
             "#7fbc41"
            ],
            [
             0.9,
             "#4d9221"
            ],
            [
             1,
             "#276419"
            ]
           ],
           "sequential": [
            [
             0,
             "#0d0887"
            ],
            [
             0.1111111111111111,
             "#46039f"
            ],
            [
             0.2222222222222222,
             "#7201a8"
            ],
            [
             0.3333333333333333,
             "#9c179e"
            ],
            [
             0.4444444444444444,
             "#bd3786"
            ],
            [
             0.5555555555555556,
             "#d8576b"
            ],
            [
             0.6666666666666666,
             "#ed7953"
            ],
            [
             0.7777777777777778,
             "#fb9f3a"
            ],
            [
             0.8888888888888888,
             "#fdca26"
            ],
            [
             1,
             "#f0f921"
            ]
           ],
           "sequentialminus": [
            [
             0,
             "#0d0887"
            ],
            [
             0.1111111111111111,
             "#46039f"
            ],
            [
             0.2222222222222222,
             "#7201a8"
            ],
            [
             0.3333333333333333,
             "#9c179e"
            ],
            [
             0.4444444444444444,
             "#bd3786"
            ],
            [
             0.5555555555555556,
             "#d8576b"
            ],
            [
             0.6666666666666666,
             "#ed7953"
            ],
            [
             0.7777777777777778,
             "#fb9f3a"
            ],
            [
             0.8888888888888888,
             "#fdca26"
            ],
            [
             1,
             "#f0f921"
            ]
           ]
          },
          "colorway": [
           "#636efa",
           "#EF553B",
           "#00cc96",
           "#ab63fa",
           "#FFA15A",
           "#19d3f3",
           "#FF6692",
           "#B6E880",
           "#FF97FF",
           "#FECB52"
          ],
          "font": {
           "color": "#2a3f5f"
          },
          "geo": {
           "bgcolor": "white",
           "lakecolor": "white",
           "landcolor": "#E5ECF6",
           "showlakes": true,
           "showland": true,
           "subunitcolor": "white"
          },
          "hoverlabel": {
           "align": "left"
          },
          "hovermode": "closest",
          "mapbox": {
           "style": "light"
          },
          "paper_bgcolor": "white",
          "plot_bgcolor": "#E5ECF6",
          "polar": {
           "angularaxis": {
            "gridcolor": "white",
            "linecolor": "white",
            "ticks": ""
           },
           "bgcolor": "#E5ECF6",
           "radialaxis": {
            "gridcolor": "white",
            "linecolor": "white",
            "ticks": ""
           }
          },
          "scene": {
           "xaxis": {
            "backgroundcolor": "#E5ECF6",
            "gridcolor": "white",
            "gridwidth": 2,
            "linecolor": "white",
            "showbackground": true,
            "ticks": "",
            "zerolinecolor": "white"
           },
           "yaxis": {
            "backgroundcolor": "#E5ECF6",
            "gridcolor": "white",
            "gridwidth": 2,
            "linecolor": "white",
            "showbackground": true,
            "ticks": "",
            "zerolinecolor": "white"
           },
           "zaxis": {
            "backgroundcolor": "#E5ECF6",
            "gridcolor": "white",
            "gridwidth": 2,
            "linecolor": "white",
            "showbackground": true,
            "ticks": "",
            "zerolinecolor": "white"
           }
          },
          "shapedefaults": {
           "line": {
            "color": "#2a3f5f"
           }
          },
          "ternary": {
           "aaxis": {
            "gridcolor": "white",
            "linecolor": "white",
            "ticks": ""
           },
           "baxis": {
            "gridcolor": "white",
            "linecolor": "white",
            "ticks": ""
           },
           "bgcolor": "#E5ECF6",
           "caxis": {
            "gridcolor": "white",
            "linecolor": "white",
            "ticks": ""
           }
          },
          "title": {
           "x": 0.05
          },
          "xaxis": {
           "automargin": true,
           "gridcolor": "white",
           "linecolor": "white",
           "ticks": "",
           "title": {
            "standoff": 15
           },
           "zerolinecolor": "white",
           "zerolinewidth": 2
          },
          "yaxis": {
           "automargin": true,
           "gridcolor": "white",
           "linecolor": "white",
           "ticks": "",
           "title": {
            "standoff": 15
           },
           "zerolinecolor": "white",
           "zerolinewidth": 2
          }
         }
        },
        "width": 1000,
        "xaxis": {
         "anchor": "y",
         "domain": [
          0,
          1
         ]
        },
        "xaxis2": {
         "anchor": "y2",
         "domain": [
          0,
          1
         ]
        },
        "yaxis": {
         "anchor": "x",
         "domain": [
          0.625,
          1
         ]
        },
        "yaxis2": {
         "anchor": "x2",
         "domain": [
          0,
          0.375
         ]
        }
       }
      }
     },
     "metadata": {},
     "output_type": "display_data"
    }
   ],
   "source": [
    "fig = make_subplots(2,1, subplot_titles=(\"<b>연도별 절도범죄 전체 건수 변화</b>\", \"<b>연도별 절도범죄 세부사항 건수 변화</b>\"), print_grid=True)\n",
    "fig.update_layout(height=800, width=1000, legend=dict(orientation='h', xanchor='left') )\n",
    "\n",
    "fig.add_trace(go.Scatter(x=theft_count_total_df[\"년도\"], y=theft_count_total_df[\"발생건수\"], mode=\"markers+lines\", name=\"절도범죄 총 건수\"), row=1, col=1)\n",
    "\n",
    "\n",
    "theft_detail_list = ['절도', '절도(상습)', '특수절도', '특수절도(상습)', '야간주거침입절도', '야간주거침입절도(상습)',\n",
    "       '불법사용', '불법사용(상습)', '절도·불법사용(상습)', '특가법(절도)', '특가법(단체등의조직)']\n",
    "\n",
    "for theft_detail in theft_detail_list:\n",
    "       df = theft_count_df[theft_count_df[\"소\"] == theft_detail]\n",
    "       fig.add_trace(go.Scatter(x=df[\"년도\"], y=df[\"발생건수\"], mode=\"markers+lines\", name=theft_detail), row=2, col=1)\n",
    "                 \n",
    "fig.show()"
   ]
  },
  {
   "cell_type": "code",
   "execution_count": 21,
   "metadata": {},
   "outputs": [
    {
     "data": {
      "text/html": [
       "<div>\n",
       "<style scoped>\n",
       "    .dataframe tbody tr th:only-of-type {\n",
       "        vertical-align: middle;\n",
       "    }\n",
       "\n",
       "    .dataframe tbody tr th {\n",
       "        vertical-align: top;\n",
       "    }\n",
       "\n",
       "    .dataframe thead th {\n",
       "        text-align: right;\n",
       "    }\n",
       "</style>\n",
       "<table border=\"1\" class=\"dataframe\">\n",
       "  <thead>\n",
       "    <tr style=\"text-align: right;\">\n",
       "      <th></th>\n",
       "      <th>대</th>\n",
       "      <th>중</th>\n",
       "      <th>소</th>\n",
       "      <th>2011년</th>\n",
       "      <th>2012년</th>\n",
       "      <th>2013년</th>\n",
       "      <th>2014년</th>\n",
       "      <th>2015년</th>\n",
       "      <th>2016년</th>\n",
       "      <th>2017년</th>\n",
       "      <th>2018년</th>\n",
       "      <th>2019년</th>\n",
       "      <th>2020년</th>\n",
       "      <th>2021년</th>\n",
       "      <th>2022년</th>\n",
       "    </tr>\n",
       "  </thead>\n",
       "  <tbody>\n",
       "    <tr>\n",
       "      <th>100</th>\n",
       "      <td>총계</td>\n",
       "      <td>교통범죄</td>\n",
       "      <td>소계</td>\n",
       "      <td>536167</td>\n",
       "      <td>542784</td>\n",
       "      <td>573453</td>\n",
       "      <td>573493</td>\n",
       "      <td>596665</td>\n",
       "      <td>600401</td>\n",
       "      <td>501162</td>\n",
       "      <td>408371</td>\n",
       "      <td>377354</td>\n",
       "      <td>348725</td>\n",
       "      <td>308634</td>\n",
       "      <td>241029</td>\n",
       "    </tr>\n",
       "    <tr>\n",
       "      <th>101</th>\n",
       "      <td>총계</td>\n",
       "      <td>교통범죄</td>\n",
       "      <td>교통사고</td>\n",
       "      <td>0</td>\n",
       "      <td>297226</td>\n",
       "      <td>298083</td>\n",
       "      <td>313617</td>\n",
       "      <td>338212</td>\n",
       "      <td>324770</td>\n",
       "      <td>269434</td>\n",
       "      <td>237354</td>\n",
       "      <td>240802</td>\n",
       "      <td>225762</td>\n",
       "      <td>190488</td>\n",
       "      <td>109931</td>\n",
       "    </tr>\n",
       "    <tr>\n",
       "      <th>102</th>\n",
       "      <td>총계</td>\n",
       "      <td>교통범죄</td>\n",
       "      <td>교통사고외</td>\n",
       "      <td>0</td>\n",
       "      <td>245558</td>\n",
       "      <td>275370</td>\n",
       "      <td>259876</td>\n",
       "      <td>258453</td>\n",
       "      <td>275631</td>\n",
       "      <td>231728</td>\n",
       "      <td>171017</td>\n",
       "      <td>136552</td>\n",
       "      <td>122963</td>\n",
       "      <td>118146</td>\n",
       "      <td>131098</td>\n",
       "    </tr>\n",
       "  </tbody>\n",
       "</table>\n",
       "</div>"
      ],
      "text/plain": [
       "      대     중      소   2011년   2012년   2013년   2014년   2015년   2016년   2017년  \\\n",
       "100  총계  교통범죄     소계  536167  542784  573453  573493  596665  600401  501162   \n",
       "101  총계  교통범죄   교통사고       0  297226  298083  313617  338212  324770  269434   \n",
       "102  총계  교통범죄  교통사고외       0  245558  275370  259876  258453  275631  231728   \n",
       "\n",
       "      2018년   2019년   2020년   2021년   2022년  \n",
       "100  408371  377354  348725  308634  241029  \n",
       "101  237354  240802  225762  190488  109931  \n",
       "102  171017  136552  122963  118146  131098  "
      ]
     },
     "execution_count": 21,
     "metadata": {},
     "output_type": "execute_result"
    }
   ],
   "source": [
    "vehicle_count_df = crime_count_df[crime_count_df[\"중\"] == \"교통범죄\"]\n",
    "vehicle_count_df"
   ]
  },
  {
   "cell_type": "code",
   "execution_count": 22,
   "metadata": {},
   "outputs": [
    {
     "data": {
      "text/html": [
       "<div>\n",
       "<style scoped>\n",
       "    .dataframe tbody tr th:only-of-type {\n",
       "        vertical-align: middle;\n",
       "    }\n",
       "\n",
       "    .dataframe tbody tr th {\n",
       "        vertical-align: top;\n",
       "    }\n",
       "\n",
       "    .dataframe thead th {\n",
       "        text-align: right;\n",
       "    }\n",
       "</style>\n",
       "<table border=\"1\" class=\"dataframe\">\n",
       "  <thead>\n",
       "    <tr style=\"text-align: right;\">\n",
       "      <th></th>\n",
       "      <th>대</th>\n",
       "      <th>중</th>\n",
       "      <th>소</th>\n",
       "      <th>년도</th>\n",
       "      <th>발생건수</th>\n",
       "    </tr>\n",
       "  </thead>\n",
       "  <tbody>\n",
       "    <tr>\n",
       "      <th>0</th>\n",
       "      <td>총계</td>\n",
       "      <td>교통범죄</td>\n",
       "      <td>소계</td>\n",
       "      <td>2011년</td>\n",
       "      <td>536167</td>\n",
       "    </tr>\n",
       "    <tr>\n",
       "      <th>1</th>\n",
       "      <td>총계</td>\n",
       "      <td>교통범죄</td>\n",
       "      <td>교통사고</td>\n",
       "      <td>2011년</td>\n",
       "      <td>0</td>\n",
       "    </tr>\n",
       "    <tr>\n",
       "      <th>2</th>\n",
       "      <td>총계</td>\n",
       "      <td>교통범죄</td>\n",
       "      <td>교통사고외</td>\n",
       "      <td>2011년</td>\n",
       "      <td>0</td>\n",
       "    </tr>\n",
       "    <tr>\n",
       "      <th>3</th>\n",
       "      <td>총계</td>\n",
       "      <td>교통범죄</td>\n",
       "      <td>소계</td>\n",
       "      <td>2012년</td>\n",
       "      <td>542784</td>\n",
       "    </tr>\n",
       "    <tr>\n",
       "      <th>4</th>\n",
       "      <td>총계</td>\n",
       "      <td>교통범죄</td>\n",
       "      <td>교통사고</td>\n",
       "      <td>2012년</td>\n",
       "      <td>297226</td>\n",
       "    </tr>\n",
       "    <tr>\n",
       "      <th>5</th>\n",
       "      <td>총계</td>\n",
       "      <td>교통범죄</td>\n",
       "      <td>교통사고외</td>\n",
       "      <td>2012년</td>\n",
       "      <td>245558</td>\n",
       "    </tr>\n",
       "    <tr>\n",
       "      <th>6</th>\n",
       "      <td>총계</td>\n",
       "      <td>교통범죄</td>\n",
       "      <td>소계</td>\n",
       "      <td>2013년</td>\n",
       "      <td>573453</td>\n",
       "    </tr>\n",
       "    <tr>\n",
       "      <th>7</th>\n",
       "      <td>총계</td>\n",
       "      <td>교통범죄</td>\n",
       "      <td>교통사고</td>\n",
       "      <td>2013년</td>\n",
       "      <td>298083</td>\n",
       "    </tr>\n",
       "    <tr>\n",
       "      <th>8</th>\n",
       "      <td>총계</td>\n",
       "      <td>교통범죄</td>\n",
       "      <td>교통사고외</td>\n",
       "      <td>2013년</td>\n",
       "      <td>275370</td>\n",
       "    </tr>\n",
       "    <tr>\n",
       "      <th>9</th>\n",
       "      <td>총계</td>\n",
       "      <td>교통범죄</td>\n",
       "      <td>소계</td>\n",
       "      <td>2014년</td>\n",
       "      <td>573493</td>\n",
       "    </tr>\n",
       "    <tr>\n",
       "      <th>10</th>\n",
       "      <td>총계</td>\n",
       "      <td>교통범죄</td>\n",
       "      <td>교통사고</td>\n",
       "      <td>2014년</td>\n",
       "      <td>313617</td>\n",
       "    </tr>\n",
       "    <tr>\n",
       "      <th>11</th>\n",
       "      <td>총계</td>\n",
       "      <td>교통범죄</td>\n",
       "      <td>교통사고외</td>\n",
       "      <td>2014년</td>\n",
       "      <td>259876</td>\n",
       "    </tr>\n",
       "    <tr>\n",
       "      <th>12</th>\n",
       "      <td>총계</td>\n",
       "      <td>교통범죄</td>\n",
       "      <td>소계</td>\n",
       "      <td>2015년</td>\n",
       "      <td>596665</td>\n",
       "    </tr>\n",
       "    <tr>\n",
       "      <th>13</th>\n",
       "      <td>총계</td>\n",
       "      <td>교통범죄</td>\n",
       "      <td>교통사고</td>\n",
       "      <td>2015년</td>\n",
       "      <td>338212</td>\n",
       "    </tr>\n",
       "    <tr>\n",
       "      <th>14</th>\n",
       "      <td>총계</td>\n",
       "      <td>교통범죄</td>\n",
       "      <td>교통사고외</td>\n",
       "      <td>2015년</td>\n",
       "      <td>258453</td>\n",
       "    </tr>\n",
       "    <tr>\n",
       "      <th>15</th>\n",
       "      <td>총계</td>\n",
       "      <td>교통범죄</td>\n",
       "      <td>소계</td>\n",
       "      <td>2016년</td>\n",
       "      <td>600401</td>\n",
       "    </tr>\n",
       "    <tr>\n",
       "      <th>16</th>\n",
       "      <td>총계</td>\n",
       "      <td>교통범죄</td>\n",
       "      <td>교통사고</td>\n",
       "      <td>2016년</td>\n",
       "      <td>324770</td>\n",
       "    </tr>\n",
       "    <tr>\n",
       "      <th>17</th>\n",
       "      <td>총계</td>\n",
       "      <td>교통범죄</td>\n",
       "      <td>교통사고외</td>\n",
       "      <td>2016년</td>\n",
       "      <td>275631</td>\n",
       "    </tr>\n",
       "    <tr>\n",
       "      <th>18</th>\n",
       "      <td>총계</td>\n",
       "      <td>교통범죄</td>\n",
       "      <td>소계</td>\n",
       "      <td>2017년</td>\n",
       "      <td>501162</td>\n",
       "    </tr>\n",
       "    <tr>\n",
       "      <th>19</th>\n",
       "      <td>총계</td>\n",
       "      <td>교통범죄</td>\n",
       "      <td>교통사고</td>\n",
       "      <td>2017년</td>\n",
       "      <td>269434</td>\n",
       "    </tr>\n",
       "    <tr>\n",
       "      <th>20</th>\n",
       "      <td>총계</td>\n",
       "      <td>교통범죄</td>\n",
       "      <td>교통사고외</td>\n",
       "      <td>2017년</td>\n",
       "      <td>231728</td>\n",
       "    </tr>\n",
       "    <tr>\n",
       "      <th>21</th>\n",
       "      <td>총계</td>\n",
       "      <td>교통범죄</td>\n",
       "      <td>소계</td>\n",
       "      <td>2018년</td>\n",
       "      <td>408371</td>\n",
       "    </tr>\n",
       "    <tr>\n",
       "      <th>22</th>\n",
       "      <td>총계</td>\n",
       "      <td>교통범죄</td>\n",
       "      <td>교통사고</td>\n",
       "      <td>2018년</td>\n",
       "      <td>237354</td>\n",
       "    </tr>\n",
       "    <tr>\n",
       "      <th>23</th>\n",
       "      <td>총계</td>\n",
       "      <td>교통범죄</td>\n",
       "      <td>교통사고외</td>\n",
       "      <td>2018년</td>\n",
       "      <td>171017</td>\n",
       "    </tr>\n",
       "    <tr>\n",
       "      <th>24</th>\n",
       "      <td>총계</td>\n",
       "      <td>교통범죄</td>\n",
       "      <td>소계</td>\n",
       "      <td>2019년</td>\n",
       "      <td>377354</td>\n",
       "    </tr>\n",
       "    <tr>\n",
       "      <th>25</th>\n",
       "      <td>총계</td>\n",
       "      <td>교통범죄</td>\n",
       "      <td>교통사고</td>\n",
       "      <td>2019년</td>\n",
       "      <td>240802</td>\n",
       "    </tr>\n",
       "    <tr>\n",
       "      <th>26</th>\n",
       "      <td>총계</td>\n",
       "      <td>교통범죄</td>\n",
       "      <td>교통사고외</td>\n",
       "      <td>2019년</td>\n",
       "      <td>136552</td>\n",
       "    </tr>\n",
       "    <tr>\n",
       "      <th>27</th>\n",
       "      <td>총계</td>\n",
       "      <td>교통범죄</td>\n",
       "      <td>소계</td>\n",
       "      <td>2020년</td>\n",
       "      <td>348725</td>\n",
       "    </tr>\n",
       "    <tr>\n",
       "      <th>28</th>\n",
       "      <td>총계</td>\n",
       "      <td>교통범죄</td>\n",
       "      <td>교통사고</td>\n",
       "      <td>2020년</td>\n",
       "      <td>225762</td>\n",
       "    </tr>\n",
       "    <tr>\n",
       "      <th>29</th>\n",
       "      <td>총계</td>\n",
       "      <td>교통범죄</td>\n",
       "      <td>교통사고외</td>\n",
       "      <td>2020년</td>\n",
       "      <td>122963</td>\n",
       "    </tr>\n",
       "    <tr>\n",
       "      <th>30</th>\n",
       "      <td>총계</td>\n",
       "      <td>교통범죄</td>\n",
       "      <td>소계</td>\n",
       "      <td>2021년</td>\n",
       "      <td>308634</td>\n",
       "    </tr>\n",
       "    <tr>\n",
       "      <th>31</th>\n",
       "      <td>총계</td>\n",
       "      <td>교통범죄</td>\n",
       "      <td>교통사고</td>\n",
       "      <td>2021년</td>\n",
       "      <td>190488</td>\n",
       "    </tr>\n",
       "    <tr>\n",
       "      <th>32</th>\n",
       "      <td>총계</td>\n",
       "      <td>교통범죄</td>\n",
       "      <td>교통사고외</td>\n",
       "      <td>2021년</td>\n",
       "      <td>118146</td>\n",
       "    </tr>\n",
       "    <tr>\n",
       "      <th>33</th>\n",
       "      <td>총계</td>\n",
       "      <td>교통범죄</td>\n",
       "      <td>소계</td>\n",
       "      <td>2022년</td>\n",
       "      <td>241029</td>\n",
       "    </tr>\n",
       "    <tr>\n",
       "      <th>34</th>\n",
       "      <td>총계</td>\n",
       "      <td>교통범죄</td>\n",
       "      <td>교통사고</td>\n",
       "      <td>2022년</td>\n",
       "      <td>109931</td>\n",
       "    </tr>\n",
       "    <tr>\n",
       "      <th>35</th>\n",
       "      <td>총계</td>\n",
       "      <td>교통범죄</td>\n",
       "      <td>교통사고외</td>\n",
       "      <td>2022년</td>\n",
       "      <td>131098</td>\n",
       "    </tr>\n",
       "  </tbody>\n",
       "</table>\n",
       "</div>"
      ],
      "text/plain": [
       "     대     중      소     년도    발생건수\n",
       "0   총계  교통범죄     소계  2011년  536167\n",
       "1   총계  교통범죄   교통사고  2011년       0\n",
       "2   총계  교통범죄  교통사고외  2011년       0\n",
       "3   총계  교통범죄     소계  2012년  542784\n",
       "4   총계  교통범죄   교통사고  2012년  297226\n",
       "5   총계  교통범죄  교통사고외  2012년  245558\n",
       "6   총계  교통범죄     소계  2013년  573453\n",
       "7   총계  교통범죄   교통사고  2013년  298083\n",
       "8   총계  교통범죄  교통사고외  2013년  275370\n",
       "9   총계  교통범죄     소계  2014년  573493\n",
       "10  총계  교통범죄   교통사고  2014년  313617\n",
       "11  총계  교통범죄  교통사고외  2014년  259876\n",
       "12  총계  교통범죄     소계  2015년  596665\n",
       "13  총계  교통범죄   교통사고  2015년  338212\n",
       "14  총계  교통범죄  교통사고외  2015년  258453\n",
       "15  총계  교통범죄     소계  2016년  600401\n",
       "16  총계  교통범죄   교통사고  2016년  324770\n",
       "17  총계  교통범죄  교통사고외  2016년  275631\n",
       "18  총계  교통범죄     소계  2017년  501162\n",
       "19  총계  교통범죄   교통사고  2017년  269434\n",
       "20  총계  교통범죄  교통사고외  2017년  231728\n",
       "21  총계  교통범죄     소계  2018년  408371\n",
       "22  총계  교통범죄   교통사고  2018년  237354\n",
       "23  총계  교통범죄  교통사고외  2018년  171017\n",
       "24  총계  교통범죄     소계  2019년  377354\n",
       "25  총계  교통범죄   교통사고  2019년  240802\n",
       "26  총계  교통범죄  교통사고외  2019년  136552\n",
       "27  총계  교통범죄     소계  2020년  348725\n",
       "28  총계  교통범죄   교통사고  2020년  225762\n",
       "29  총계  교통범죄  교통사고외  2020년  122963\n",
       "30  총계  교통범죄     소계  2021년  308634\n",
       "31  총계  교통범죄   교통사고  2021년  190488\n",
       "32  총계  교통범죄  교통사고외  2021년  118146\n",
       "33  총계  교통범죄     소계  2022년  241029\n",
       "34  총계  교통범죄   교통사고  2022년  109931\n",
       "35  총계  교통범죄  교통사고외  2022년  131098"
      ]
     },
     "execution_count": 22,
     "metadata": {},
     "output_type": "execute_result"
    }
   ],
   "source": [
    "vehicle_count_df = vehicle_count_df.melt(id_vars=[\"대\", \"중\", \"소\"], var_name=\"년도\", value_name=\"발생건수\")\n",
    "vehicle_count_df"
   ]
  },
  {
   "cell_type": "code",
   "execution_count": 23,
   "metadata": {},
   "outputs": [
    {
     "data": {
      "text/html": [
       "<div>\n",
       "<style scoped>\n",
       "    .dataframe tbody tr th:only-of-type {\n",
       "        vertical-align: middle;\n",
       "    }\n",
       "\n",
       "    .dataframe tbody tr th {\n",
       "        vertical-align: top;\n",
       "    }\n",
       "\n",
       "    .dataframe thead th {\n",
       "        text-align: right;\n",
       "    }\n",
       "</style>\n",
       "<table border=\"1\" class=\"dataframe\">\n",
       "  <thead>\n",
       "    <tr style=\"text-align: right;\">\n",
       "      <th></th>\n",
       "      <th>대</th>\n",
       "      <th>중</th>\n",
       "      <th>소</th>\n",
       "      <th>년도</th>\n",
       "      <th>발생건수</th>\n",
       "    </tr>\n",
       "  </thead>\n",
       "  <tbody>\n",
       "    <tr>\n",
       "      <th>15</th>\n",
       "      <td>총계</td>\n",
       "      <td>교통범죄</td>\n",
       "      <td>소계</td>\n",
       "      <td>2016년</td>\n",
       "      <td>600401</td>\n",
       "    </tr>\n",
       "    <tr>\n",
       "      <th>16</th>\n",
       "      <td>총계</td>\n",
       "      <td>교통범죄</td>\n",
       "      <td>교통사고</td>\n",
       "      <td>2016년</td>\n",
       "      <td>324770</td>\n",
       "    </tr>\n",
       "    <tr>\n",
       "      <th>17</th>\n",
       "      <td>총계</td>\n",
       "      <td>교통범죄</td>\n",
       "      <td>교통사고외</td>\n",
       "      <td>2016년</td>\n",
       "      <td>275631</td>\n",
       "    </tr>\n",
       "    <tr>\n",
       "      <th>18</th>\n",
       "      <td>총계</td>\n",
       "      <td>교통범죄</td>\n",
       "      <td>소계</td>\n",
       "      <td>2017년</td>\n",
       "      <td>501162</td>\n",
       "    </tr>\n",
       "    <tr>\n",
       "      <th>19</th>\n",
       "      <td>총계</td>\n",
       "      <td>교통범죄</td>\n",
       "      <td>교통사고</td>\n",
       "      <td>2017년</td>\n",
       "      <td>269434</td>\n",
       "    </tr>\n",
       "    <tr>\n",
       "      <th>20</th>\n",
       "      <td>총계</td>\n",
       "      <td>교통범죄</td>\n",
       "      <td>교통사고외</td>\n",
       "      <td>2017년</td>\n",
       "      <td>231728</td>\n",
       "    </tr>\n",
       "    <tr>\n",
       "      <th>21</th>\n",
       "      <td>총계</td>\n",
       "      <td>교통범죄</td>\n",
       "      <td>소계</td>\n",
       "      <td>2018년</td>\n",
       "      <td>408371</td>\n",
       "    </tr>\n",
       "    <tr>\n",
       "      <th>22</th>\n",
       "      <td>총계</td>\n",
       "      <td>교통범죄</td>\n",
       "      <td>교통사고</td>\n",
       "      <td>2018년</td>\n",
       "      <td>237354</td>\n",
       "    </tr>\n",
       "    <tr>\n",
       "      <th>23</th>\n",
       "      <td>총계</td>\n",
       "      <td>교통범죄</td>\n",
       "      <td>교통사고외</td>\n",
       "      <td>2018년</td>\n",
       "      <td>171017</td>\n",
       "    </tr>\n",
       "    <tr>\n",
       "      <th>24</th>\n",
       "      <td>총계</td>\n",
       "      <td>교통범죄</td>\n",
       "      <td>소계</td>\n",
       "      <td>2019년</td>\n",
       "      <td>377354</td>\n",
       "    </tr>\n",
       "    <tr>\n",
       "      <th>25</th>\n",
       "      <td>총계</td>\n",
       "      <td>교통범죄</td>\n",
       "      <td>교통사고</td>\n",
       "      <td>2019년</td>\n",
       "      <td>240802</td>\n",
       "    </tr>\n",
       "    <tr>\n",
       "      <th>26</th>\n",
       "      <td>총계</td>\n",
       "      <td>교통범죄</td>\n",
       "      <td>교통사고외</td>\n",
       "      <td>2019년</td>\n",
       "      <td>136552</td>\n",
       "    </tr>\n",
       "    <tr>\n",
       "      <th>27</th>\n",
       "      <td>총계</td>\n",
       "      <td>교통범죄</td>\n",
       "      <td>소계</td>\n",
       "      <td>2020년</td>\n",
       "      <td>348725</td>\n",
       "    </tr>\n",
       "    <tr>\n",
       "      <th>28</th>\n",
       "      <td>총계</td>\n",
       "      <td>교통범죄</td>\n",
       "      <td>교통사고</td>\n",
       "      <td>2020년</td>\n",
       "      <td>225762</td>\n",
       "    </tr>\n",
       "    <tr>\n",
       "      <th>29</th>\n",
       "      <td>총계</td>\n",
       "      <td>교통범죄</td>\n",
       "      <td>교통사고외</td>\n",
       "      <td>2020년</td>\n",
       "      <td>122963</td>\n",
       "    </tr>\n",
       "    <tr>\n",
       "      <th>30</th>\n",
       "      <td>총계</td>\n",
       "      <td>교통범죄</td>\n",
       "      <td>소계</td>\n",
       "      <td>2021년</td>\n",
       "      <td>308634</td>\n",
       "    </tr>\n",
       "    <tr>\n",
       "      <th>31</th>\n",
       "      <td>총계</td>\n",
       "      <td>교통범죄</td>\n",
       "      <td>교통사고</td>\n",
       "      <td>2021년</td>\n",
       "      <td>190488</td>\n",
       "    </tr>\n",
       "    <tr>\n",
       "      <th>32</th>\n",
       "      <td>총계</td>\n",
       "      <td>교통범죄</td>\n",
       "      <td>교통사고외</td>\n",
       "      <td>2021년</td>\n",
       "      <td>118146</td>\n",
       "    </tr>\n",
       "    <tr>\n",
       "      <th>33</th>\n",
       "      <td>총계</td>\n",
       "      <td>교통범죄</td>\n",
       "      <td>소계</td>\n",
       "      <td>2022년</td>\n",
       "      <td>241029</td>\n",
       "    </tr>\n",
       "    <tr>\n",
       "      <th>34</th>\n",
       "      <td>총계</td>\n",
       "      <td>교통범죄</td>\n",
       "      <td>교통사고</td>\n",
       "      <td>2022년</td>\n",
       "      <td>109931</td>\n",
       "    </tr>\n",
       "    <tr>\n",
       "      <th>35</th>\n",
       "      <td>총계</td>\n",
       "      <td>교통범죄</td>\n",
       "      <td>교통사고외</td>\n",
       "      <td>2022년</td>\n",
       "      <td>131098</td>\n",
       "    </tr>\n",
       "  </tbody>\n",
       "</table>\n",
       "</div>"
      ],
      "text/plain": [
       "     대     중      소     년도    발생건수\n",
       "15  총계  교통범죄     소계  2016년  600401\n",
       "16  총계  교통범죄   교통사고  2016년  324770\n",
       "17  총계  교통범죄  교통사고외  2016년  275631\n",
       "18  총계  교통범죄     소계  2017년  501162\n",
       "19  총계  교통범죄   교통사고  2017년  269434\n",
       "20  총계  교통범죄  교통사고외  2017년  231728\n",
       "21  총계  교통범죄     소계  2018년  408371\n",
       "22  총계  교통범죄   교통사고  2018년  237354\n",
       "23  총계  교통범죄  교통사고외  2018년  171017\n",
       "24  총계  교통범죄     소계  2019년  377354\n",
       "25  총계  교통범죄   교통사고  2019년  240802\n",
       "26  총계  교통범죄  교통사고외  2019년  136552\n",
       "27  총계  교통범죄     소계  2020년  348725\n",
       "28  총계  교통범죄   교통사고  2020년  225762\n",
       "29  총계  교통범죄  교통사고외  2020년  122963\n",
       "30  총계  교통범죄     소계  2021년  308634\n",
       "31  총계  교통범죄   교통사고  2021년  190488\n",
       "32  총계  교통범죄  교통사고외  2021년  118146\n",
       "33  총계  교통범죄     소계  2022년  241029\n",
       "34  총계  교통범죄   교통사고  2022년  109931\n",
       "35  총계  교통범죄  교통사고외  2022년  131098"
      ]
     },
     "execution_count": 23,
     "metadata": {},
     "output_type": "execute_result"
    }
   ],
   "source": [
    "vehicle_count_df = vehicle_count_df[( vehicle_count_df[\"년도\"] == \"2016년\" ) | ( vehicle_count_df[\"년도\"] == \"2017년\" ) | ( vehicle_count_df[\"년도\"] == \"2018년\" ) | ( vehicle_count_df[\"년도\"] == \"2019년\" )| ( vehicle_count_df[\"년도\"] == \"2020년\" )| ( vehicle_count_df[\"년도\"] == \"2021년\" )| ( vehicle_count_df[\"년도\"] == \"2022년\" ) ]\n",
    "vehicle_count_df"
   ]
  },
  {
   "cell_type": "code",
   "execution_count": 24,
   "metadata": {},
   "outputs": [
    {
     "data": {
      "text/html": [
       "<div>\n",
       "<style scoped>\n",
       "    .dataframe tbody tr th:only-of-type {\n",
       "        vertical-align: middle;\n",
       "    }\n",
       "\n",
       "    .dataframe tbody tr th {\n",
       "        vertical-align: top;\n",
       "    }\n",
       "\n",
       "    .dataframe thead th {\n",
       "        text-align: right;\n",
       "    }\n",
       "</style>\n",
       "<table border=\"1\" class=\"dataframe\">\n",
       "  <thead>\n",
       "    <tr style=\"text-align: right;\">\n",
       "      <th></th>\n",
       "      <th>대</th>\n",
       "      <th>중</th>\n",
       "      <th>소</th>\n",
       "      <th>년도</th>\n",
       "      <th>발생건수</th>\n",
       "    </tr>\n",
       "  </thead>\n",
       "  <tbody>\n",
       "    <tr>\n",
       "      <th>15</th>\n",
       "      <td>총계</td>\n",
       "      <td>교통범죄</td>\n",
       "      <td>소계</td>\n",
       "      <td>2016년</td>\n",
       "      <td>600401</td>\n",
       "    </tr>\n",
       "    <tr>\n",
       "      <th>18</th>\n",
       "      <td>총계</td>\n",
       "      <td>교통범죄</td>\n",
       "      <td>소계</td>\n",
       "      <td>2017년</td>\n",
       "      <td>501162</td>\n",
       "    </tr>\n",
       "    <tr>\n",
       "      <th>21</th>\n",
       "      <td>총계</td>\n",
       "      <td>교통범죄</td>\n",
       "      <td>소계</td>\n",
       "      <td>2018년</td>\n",
       "      <td>408371</td>\n",
       "    </tr>\n",
       "    <tr>\n",
       "      <th>24</th>\n",
       "      <td>총계</td>\n",
       "      <td>교통범죄</td>\n",
       "      <td>소계</td>\n",
       "      <td>2019년</td>\n",
       "      <td>377354</td>\n",
       "    </tr>\n",
       "    <tr>\n",
       "      <th>27</th>\n",
       "      <td>총계</td>\n",
       "      <td>교통범죄</td>\n",
       "      <td>소계</td>\n",
       "      <td>2020년</td>\n",
       "      <td>348725</td>\n",
       "    </tr>\n",
       "    <tr>\n",
       "      <th>30</th>\n",
       "      <td>총계</td>\n",
       "      <td>교통범죄</td>\n",
       "      <td>소계</td>\n",
       "      <td>2021년</td>\n",
       "      <td>308634</td>\n",
       "    </tr>\n",
       "    <tr>\n",
       "      <th>33</th>\n",
       "      <td>총계</td>\n",
       "      <td>교통범죄</td>\n",
       "      <td>소계</td>\n",
       "      <td>2022년</td>\n",
       "      <td>241029</td>\n",
       "    </tr>\n",
       "  </tbody>\n",
       "</table>\n",
       "</div>"
      ],
      "text/plain": [
       "     대     중   소     년도    발생건수\n",
       "15  총계  교통범죄  소계  2016년  600401\n",
       "18  총계  교통범죄  소계  2017년  501162\n",
       "21  총계  교통범죄  소계  2018년  408371\n",
       "24  총계  교통범죄  소계  2019년  377354\n",
       "27  총계  교통범죄  소계  2020년  348725\n",
       "30  총계  교통범죄  소계  2021년  308634\n",
       "33  총계  교통범죄  소계  2022년  241029"
      ]
     },
     "execution_count": 24,
     "metadata": {},
     "output_type": "execute_result"
    }
   ],
   "source": [
    "vehicle_count_total_df = vehicle_count_df[vehicle_count_df[\"소\"] == \"소계\"]\n",
    "vehicle_count_total_df"
   ]
  },
  {
   "cell_type": "code",
   "execution_count": 25,
   "metadata": {},
   "outputs": [
    {
     "data": {
      "text/html": [
       "<div>\n",
       "<style scoped>\n",
       "    .dataframe tbody tr th:only-of-type {\n",
       "        vertical-align: middle;\n",
       "    }\n",
       "\n",
       "    .dataframe tbody tr th {\n",
       "        vertical-align: top;\n",
       "    }\n",
       "\n",
       "    .dataframe thead th {\n",
       "        text-align: right;\n",
       "    }\n",
       "</style>\n",
       "<table border=\"1\" class=\"dataframe\">\n",
       "  <thead>\n",
       "    <tr style=\"text-align: right;\">\n",
       "      <th></th>\n",
       "      <th>대</th>\n",
       "      <th>중</th>\n",
       "      <th>소</th>\n",
       "      <th>년도</th>\n",
       "      <th>발생건수</th>\n",
       "    </tr>\n",
       "  </thead>\n",
       "  <tbody>\n",
       "    <tr>\n",
       "      <th>16</th>\n",
       "      <td>총계</td>\n",
       "      <td>교통범죄</td>\n",
       "      <td>교통사고</td>\n",
       "      <td>2016년</td>\n",
       "      <td>324770</td>\n",
       "    </tr>\n",
       "    <tr>\n",
       "      <th>17</th>\n",
       "      <td>총계</td>\n",
       "      <td>교통범죄</td>\n",
       "      <td>교통사고외</td>\n",
       "      <td>2016년</td>\n",
       "      <td>275631</td>\n",
       "    </tr>\n",
       "    <tr>\n",
       "      <th>19</th>\n",
       "      <td>총계</td>\n",
       "      <td>교통범죄</td>\n",
       "      <td>교통사고</td>\n",
       "      <td>2017년</td>\n",
       "      <td>269434</td>\n",
       "    </tr>\n",
       "    <tr>\n",
       "      <th>20</th>\n",
       "      <td>총계</td>\n",
       "      <td>교통범죄</td>\n",
       "      <td>교통사고외</td>\n",
       "      <td>2017년</td>\n",
       "      <td>231728</td>\n",
       "    </tr>\n",
       "    <tr>\n",
       "      <th>22</th>\n",
       "      <td>총계</td>\n",
       "      <td>교통범죄</td>\n",
       "      <td>교통사고</td>\n",
       "      <td>2018년</td>\n",
       "      <td>237354</td>\n",
       "    </tr>\n",
       "    <tr>\n",
       "      <th>23</th>\n",
       "      <td>총계</td>\n",
       "      <td>교통범죄</td>\n",
       "      <td>교통사고외</td>\n",
       "      <td>2018년</td>\n",
       "      <td>171017</td>\n",
       "    </tr>\n",
       "    <tr>\n",
       "      <th>25</th>\n",
       "      <td>총계</td>\n",
       "      <td>교통범죄</td>\n",
       "      <td>교통사고</td>\n",
       "      <td>2019년</td>\n",
       "      <td>240802</td>\n",
       "    </tr>\n",
       "    <tr>\n",
       "      <th>26</th>\n",
       "      <td>총계</td>\n",
       "      <td>교통범죄</td>\n",
       "      <td>교통사고외</td>\n",
       "      <td>2019년</td>\n",
       "      <td>136552</td>\n",
       "    </tr>\n",
       "    <tr>\n",
       "      <th>28</th>\n",
       "      <td>총계</td>\n",
       "      <td>교통범죄</td>\n",
       "      <td>교통사고</td>\n",
       "      <td>2020년</td>\n",
       "      <td>225762</td>\n",
       "    </tr>\n",
       "    <tr>\n",
       "      <th>29</th>\n",
       "      <td>총계</td>\n",
       "      <td>교통범죄</td>\n",
       "      <td>교통사고외</td>\n",
       "      <td>2020년</td>\n",
       "      <td>122963</td>\n",
       "    </tr>\n",
       "    <tr>\n",
       "      <th>31</th>\n",
       "      <td>총계</td>\n",
       "      <td>교통범죄</td>\n",
       "      <td>교통사고</td>\n",
       "      <td>2021년</td>\n",
       "      <td>190488</td>\n",
       "    </tr>\n",
       "    <tr>\n",
       "      <th>32</th>\n",
       "      <td>총계</td>\n",
       "      <td>교통범죄</td>\n",
       "      <td>교통사고외</td>\n",
       "      <td>2021년</td>\n",
       "      <td>118146</td>\n",
       "    </tr>\n",
       "    <tr>\n",
       "      <th>34</th>\n",
       "      <td>총계</td>\n",
       "      <td>교통범죄</td>\n",
       "      <td>교통사고</td>\n",
       "      <td>2022년</td>\n",
       "      <td>109931</td>\n",
       "    </tr>\n",
       "    <tr>\n",
       "      <th>35</th>\n",
       "      <td>총계</td>\n",
       "      <td>교통범죄</td>\n",
       "      <td>교통사고외</td>\n",
       "      <td>2022년</td>\n",
       "      <td>131098</td>\n",
       "    </tr>\n",
       "  </tbody>\n",
       "</table>\n",
       "</div>"
      ],
      "text/plain": [
       "     대     중      소     년도    발생건수\n",
       "16  총계  교통범죄   교통사고  2016년  324770\n",
       "17  총계  교통범죄  교통사고외  2016년  275631\n",
       "19  총계  교통범죄   교통사고  2017년  269434\n",
       "20  총계  교통범죄  교통사고외  2017년  231728\n",
       "22  총계  교통범죄   교통사고  2018년  237354\n",
       "23  총계  교통범죄  교통사고외  2018년  171017\n",
       "25  총계  교통범죄   교통사고  2019년  240802\n",
       "26  총계  교통범죄  교통사고외  2019년  136552\n",
       "28  총계  교통범죄   교통사고  2020년  225762\n",
       "29  총계  교통범죄  교통사고외  2020년  122963\n",
       "31  총계  교통범죄   교통사고  2021년  190488\n",
       "32  총계  교통범죄  교통사고외  2021년  118146\n",
       "34  총계  교통범죄   교통사고  2022년  109931\n",
       "35  총계  교통범죄  교통사고외  2022년  131098"
      ]
     },
     "execution_count": 25,
     "metadata": {},
     "output_type": "execute_result"
    }
   ],
   "source": [
    "vehicle_count_df = vehicle_count_df[vehicle_count_df[\"소\"] != \"소계\"]\n",
    "vehicle_count_df"
   ]
  },
  {
   "cell_type": "code",
   "execution_count": 39,
   "metadata": {},
   "outputs": [
    {
     "name": "stdout",
     "output_type": "stream",
     "text": [
      "This is the format of your plot grid:\n",
      "[ (1,1) x,y   ]\n",
      "[ (2,1) x2,y2 ]\n",
      "\n"
     ]
    },
    {
     "data": {
      "application/vnd.plotly.v1+json": {
       "config": {
        "plotlyServerURL": "https://plot.ly"
       },
       "data": [
        {
         "mode": "markers+lines",
         "name": "교통범죄 총 건수",
         "type": "scatter",
         "x": [
          "2016년",
          "2017년",
          "2018년",
          "2019년",
          "2020년",
          "2021년",
          "2022년"
         ],
         "xaxis": "x",
         "y": [
          600401,
          501162,
          408371,
          377354,
          348725,
          308634,
          241029
         ],
         "yaxis": "y"
        },
        {
         "name": "교통사고",
         "text": [
          324770,
          269434,
          237354,
          240802,
          225762,
          190488,
          109931
         ],
         "textposition": "inside",
         "type": "bar",
         "x": [
          "2016년",
          "2017년",
          "2018년",
          "2019년",
          "2020년",
          "2021년",
          "2022년"
         ],
         "xaxis": "x2",
         "y": [
          324770,
          269434,
          237354,
          240802,
          225762,
          190488,
          109931
         ],
         "yaxis": "y2"
        },
        {
         "name": "교통사고외",
         "text": [
          275631,
          231728,
          171017,
          136552,
          122963,
          118146,
          131098
         ],
         "textposition": "inside",
         "type": "bar",
         "x": [
          "2016년",
          "2017년",
          "2018년",
          "2019년",
          "2020년",
          "2021년",
          "2022년"
         ],
         "xaxis": "x2",
         "y": [
          275631,
          231728,
          171017,
          136552,
          122963,
          118146,
          131098
         ],
         "yaxis": "y2"
        }
       ],
       "layout": {
        "annotations": [
         {
          "font": {
           "size": 16
          },
          "showarrow": false,
          "text": "<b>연도별 교통범죄 전체 건수 변화</b>",
          "x": 0.5,
          "xanchor": "center",
          "xref": "paper",
          "y": 1,
          "yanchor": "bottom",
          "yref": "paper"
         },
         {
          "font": {
           "size": 16
          },
          "showarrow": false,
          "text": "<b>연도별 교통범죄 세부사항 건수 변화</b>",
          "x": 0.5,
          "xanchor": "center",
          "xref": "paper",
          "y": 0.375,
          "yanchor": "bottom",
          "yref": "paper"
         }
        ],
        "height": 800,
        "legend": {
         "orientation": "v",
         "xanchor": "center",
         "yanchor": "middle"
        },
        "template": {
         "data": {
          "bar": [
           {
            "error_x": {
             "color": "#2a3f5f"
            },
            "error_y": {
             "color": "#2a3f5f"
            },
            "marker": {
             "line": {
              "color": "#E5ECF6",
              "width": 0.5
             },
             "pattern": {
              "fillmode": "overlay",
              "size": 10,
              "solidity": 0.2
             }
            },
            "type": "bar"
           }
          ],
          "barpolar": [
           {
            "marker": {
             "line": {
              "color": "#E5ECF6",
              "width": 0.5
             },
             "pattern": {
              "fillmode": "overlay",
              "size": 10,
              "solidity": 0.2
             }
            },
            "type": "barpolar"
           }
          ],
          "carpet": [
           {
            "aaxis": {
             "endlinecolor": "#2a3f5f",
             "gridcolor": "white",
             "linecolor": "white",
             "minorgridcolor": "white",
             "startlinecolor": "#2a3f5f"
            },
            "baxis": {
             "endlinecolor": "#2a3f5f",
             "gridcolor": "white",
             "linecolor": "white",
             "minorgridcolor": "white",
             "startlinecolor": "#2a3f5f"
            },
            "type": "carpet"
           }
          ],
          "choropleth": [
           {
            "colorbar": {
             "outlinewidth": 0,
             "ticks": ""
            },
            "type": "choropleth"
           }
          ],
          "contour": [
           {
            "colorbar": {
             "outlinewidth": 0,
             "ticks": ""
            },
            "colorscale": [
             [
              0,
              "#0d0887"
             ],
             [
              0.1111111111111111,
              "#46039f"
             ],
             [
              0.2222222222222222,
              "#7201a8"
             ],
             [
              0.3333333333333333,
              "#9c179e"
             ],
             [
              0.4444444444444444,
              "#bd3786"
             ],
             [
              0.5555555555555556,
              "#d8576b"
             ],
             [
              0.6666666666666666,
              "#ed7953"
             ],
             [
              0.7777777777777778,
              "#fb9f3a"
             ],
             [
              0.8888888888888888,
              "#fdca26"
             ],
             [
              1,
              "#f0f921"
             ]
            ],
            "type": "contour"
           }
          ],
          "contourcarpet": [
           {
            "colorbar": {
             "outlinewidth": 0,
             "ticks": ""
            },
            "type": "contourcarpet"
           }
          ],
          "heatmap": [
           {
            "colorbar": {
             "outlinewidth": 0,
             "ticks": ""
            },
            "colorscale": [
             [
              0,
              "#0d0887"
             ],
             [
              0.1111111111111111,
              "#46039f"
             ],
             [
              0.2222222222222222,
              "#7201a8"
             ],
             [
              0.3333333333333333,
              "#9c179e"
             ],
             [
              0.4444444444444444,
              "#bd3786"
             ],
             [
              0.5555555555555556,
              "#d8576b"
             ],
             [
              0.6666666666666666,
              "#ed7953"
             ],
             [
              0.7777777777777778,
              "#fb9f3a"
             ],
             [
              0.8888888888888888,
              "#fdca26"
             ],
             [
              1,
              "#f0f921"
             ]
            ],
            "type": "heatmap"
           }
          ],
          "heatmapgl": [
           {
            "colorbar": {
             "outlinewidth": 0,
             "ticks": ""
            },
            "colorscale": [
             [
              0,
              "#0d0887"
             ],
             [
              0.1111111111111111,
              "#46039f"
             ],
             [
              0.2222222222222222,
              "#7201a8"
             ],
             [
              0.3333333333333333,
              "#9c179e"
             ],
             [
              0.4444444444444444,
              "#bd3786"
             ],
             [
              0.5555555555555556,
              "#d8576b"
             ],
             [
              0.6666666666666666,
              "#ed7953"
             ],
             [
              0.7777777777777778,
              "#fb9f3a"
             ],
             [
              0.8888888888888888,
              "#fdca26"
             ],
             [
              1,
              "#f0f921"
             ]
            ],
            "type": "heatmapgl"
           }
          ],
          "histogram": [
           {
            "marker": {
             "pattern": {
              "fillmode": "overlay",
              "size": 10,
              "solidity": 0.2
             }
            },
            "type": "histogram"
           }
          ],
          "histogram2d": [
           {
            "colorbar": {
             "outlinewidth": 0,
             "ticks": ""
            },
            "colorscale": [
             [
              0,
              "#0d0887"
             ],
             [
              0.1111111111111111,
              "#46039f"
             ],
             [
              0.2222222222222222,
              "#7201a8"
             ],
             [
              0.3333333333333333,
              "#9c179e"
             ],
             [
              0.4444444444444444,
              "#bd3786"
             ],
             [
              0.5555555555555556,
              "#d8576b"
             ],
             [
              0.6666666666666666,
              "#ed7953"
             ],
             [
              0.7777777777777778,
              "#fb9f3a"
             ],
             [
              0.8888888888888888,
              "#fdca26"
             ],
             [
              1,
              "#f0f921"
             ]
            ],
            "type": "histogram2d"
           }
          ],
          "histogram2dcontour": [
           {
            "colorbar": {
             "outlinewidth": 0,
             "ticks": ""
            },
            "colorscale": [
             [
              0,
              "#0d0887"
             ],
             [
              0.1111111111111111,
              "#46039f"
             ],
             [
              0.2222222222222222,
              "#7201a8"
             ],
             [
              0.3333333333333333,
              "#9c179e"
             ],
             [
              0.4444444444444444,
              "#bd3786"
             ],
             [
              0.5555555555555556,
              "#d8576b"
             ],
             [
              0.6666666666666666,
              "#ed7953"
             ],
             [
              0.7777777777777778,
              "#fb9f3a"
             ],
             [
              0.8888888888888888,
              "#fdca26"
             ],
             [
              1,
              "#f0f921"
             ]
            ],
            "type": "histogram2dcontour"
           }
          ],
          "mesh3d": [
           {
            "colorbar": {
             "outlinewidth": 0,
             "ticks": ""
            },
            "type": "mesh3d"
           }
          ],
          "parcoords": [
           {
            "line": {
             "colorbar": {
              "outlinewidth": 0,
              "ticks": ""
             }
            },
            "type": "parcoords"
           }
          ],
          "pie": [
           {
            "automargin": true,
            "type": "pie"
           }
          ],
          "scatter": [
           {
            "fillpattern": {
             "fillmode": "overlay",
             "size": 10,
             "solidity": 0.2
            },
            "type": "scatter"
           }
          ],
          "scatter3d": [
           {
            "line": {
             "colorbar": {
              "outlinewidth": 0,
              "ticks": ""
             }
            },
            "marker": {
             "colorbar": {
              "outlinewidth": 0,
              "ticks": ""
             }
            },
            "type": "scatter3d"
           }
          ],
          "scattercarpet": [
           {
            "marker": {
             "colorbar": {
              "outlinewidth": 0,
              "ticks": ""
             }
            },
            "type": "scattercarpet"
           }
          ],
          "scattergeo": [
           {
            "marker": {
             "colorbar": {
              "outlinewidth": 0,
              "ticks": ""
             }
            },
            "type": "scattergeo"
           }
          ],
          "scattergl": [
           {
            "marker": {
             "colorbar": {
              "outlinewidth": 0,
              "ticks": ""
             }
            },
            "type": "scattergl"
           }
          ],
          "scattermapbox": [
           {
            "marker": {
             "colorbar": {
              "outlinewidth": 0,
              "ticks": ""
             }
            },
            "type": "scattermapbox"
           }
          ],
          "scatterpolar": [
           {
            "marker": {
             "colorbar": {
              "outlinewidth": 0,
              "ticks": ""
             }
            },
            "type": "scatterpolar"
           }
          ],
          "scatterpolargl": [
           {
            "marker": {
             "colorbar": {
              "outlinewidth": 0,
              "ticks": ""
             }
            },
            "type": "scatterpolargl"
           }
          ],
          "scatterternary": [
           {
            "marker": {
             "colorbar": {
              "outlinewidth": 0,
              "ticks": ""
             }
            },
            "type": "scatterternary"
           }
          ],
          "surface": [
           {
            "colorbar": {
             "outlinewidth": 0,
             "ticks": ""
            },
            "colorscale": [
             [
              0,
              "#0d0887"
             ],
             [
              0.1111111111111111,
              "#46039f"
             ],
             [
              0.2222222222222222,
              "#7201a8"
             ],
             [
              0.3333333333333333,
              "#9c179e"
             ],
             [
              0.4444444444444444,
              "#bd3786"
             ],
             [
              0.5555555555555556,
              "#d8576b"
             ],
             [
              0.6666666666666666,
              "#ed7953"
             ],
             [
              0.7777777777777778,
              "#fb9f3a"
             ],
             [
              0.8888888888888888,
              "#fdca26"
             ],
             [
              1,
              "#f0f921"
             ]
            ],
            "type": "surface"
           }
          ],
          "table": [
           {
            "cells": {
             "fill": {
              "color": "#EBF0F8"
             },
             "line": {
              "color": "white"
             }
            },
            "header": {
             "fill": {
              "color": "#C8D4E3"
             },
             "line": {
              "color": "white"
             }
            },
            "type": "table"
           }
          ]
         },
         "layout": {
          "annotationdefaults": {
           "arrowcolor": "#2a3f5f",
           "arrowhead": 0,
           "arrowwidth": 1
          },
          "autotypenumbers": "strict",
          "coloraxis": {
           "colorbar": {
            "outlinewidth": 0,
            "ticks": ""
           }
          },
          "colorscale": {
           "diverging": [
            [
             0,
             "#8e0152"
            ],
            [
             0.1,
             "#c51b7d"
            ],
            [
             0.2,
             "#de77ae"
            ],
            [
             0.3,
             "#f1b6da"
            ],
            [
             0.4,
             "#fde0ef"
            ],
            [
             0.5,
             "#f7f7f7"
            ],
            [
             0.6,
             "#e6f5d0"
            ],
            [
             0.7,
             "#b8e186"
            ],
            [
             0.8,
             "#7fbc41"
            ],
            [
             0.9,
             "#4d9221"
            ],
            [
             1,
             "#276419"
            ]
           ],
           "sequential": [
            [
             0,
             "#0d0887"
            ],
            [
             0.1111111111111111,
             "#46039f"
            ],
            [
             0.2222222222222222,
             "#7201a8"
            ],
            [
             0.3333333333333333,
             "#9c179e"
            ],
            [
             0.4444444444444444,
             "#bd3786"
            ],
            [
             0.5555555555555556,
             "#d8576b"
            ],
            [
             0.6666666666666666,
             "#ed7953"
            ],
            [
             0.7777777777777778,
             "#fb9f3a"
            ],
            [
             0.8888888888888888,
             "#fdca26"
            ],
            [
             1,
             "#f0f921"
            ]
           ],
           "sequentialminus": [
            [
             0,
             "#0d0887"
            ],
            [
             0.1111111111111111,
             "#46039f"
            ],
            [
             0.2222222222222222,
             "#7201a8"
            ],
            [
             0.3333333333333333,
             "#9c179e"
            ],
            [
             0.4444444444444444,
             "#bd3786"
            ],
            [
             0.5555555555555556,
             "#d8576b"
            ],
            [
             0.6666666666666666,
             "#ed7953"
            ],
            [
             0.7777777777777778,
             "#fb9f3a"
            ],
            [
             0.8888888888888888,
             "#fdca26"
            ],
            [
             1,
             "#f0f921"
            ]
           ]
          },
          "colorway": [
           "#636efa",
           "#EF553B",
           "#00cc96",
           "#ab63fa",
           "#FFA15A",
           "#19d3f3",
           "#FF6692",
           "#B6E880",
           "#FF97FF",
           "#FECB52"
          ],
          "font": {
           "color": "#2a3f5f"
          },
          "geo": {
           "bgcolor": "white",
           "lakecolor": "white",
           "landcolor": "#E5ECF6",
           "showlakes": true,
           "showland": true,
           "subunitcolor": "white"
          },
          "hoverlabel": {
           "align": "left"
          },
          "hovermode": "closest",
          "mapbox": {
           "style": "light"
          },
          "paper_bgcolor": "white",
          "plot_bgcolor": "#E5ECF6",
          "polar": {
           "angularaxis": {
            "gridcolor": "white",
            "linecolor": "white",
            "ticks": ""
           },
           "bgcolor": "#E5ECF6",
           "radialaxis": {
            "gridcolor": "white",
            "linecolor": "white",
            "ticks": ""
           }
          },
          "scene": {
           "xaxis": {
            "backgroundcolor": "#E5ECF6",
            "gridcolor": "white",
            "gridwidth": 2,
            "linecolor": "white",
            "showbackground": true,
            "ticks": "",
            "zerolinecolor": "white"
           },
           "yaxis": {
            "backgroundcolor": "#E5ECF6",
            "gridcolor": "white",
            "gridwidth": 2,
            "linecolor": "white",
            "showbackground": true,
            "ticks": "",
            "zerolinecolor": "white"
           },
           "zaxis": {
            "backgroundcolor": "#E5ECF6",
            "gridcolor": "white",
            "gridwidth": 2,
            "linecolor": "white",
            "showbackground": true,
            "ticks": "",
            "zerolinecolor": "white"
           }
          },
          "shapedefaults": {
           "line": {
            "color": "#2a3f5f"
           }
          },
          "ternary": {
           "aaxis": {
            "gridcolor": "white",
            "linecolor": "white",
            "ticks": ""
           },
           "baxis": {
            "gridcolor": "white",
            "linecolor": "white",
            "ticks": ""
           },
           "bgcolor": "#E5ECF6",
           "caxis": {
            "gridcolor": "white",
            "linecolor": "white",
            "ticks": ""
           }
          },
          "title": {
           "x": 0.05
          },
          "xaxis": {
           "automargin": true,
           "gridcolor": "white",
           "linecolor": "white",
           "ticks": "",
           "title": {
            "standoff": 15
           },
           "zerolinecolor": "white",
           "zerolinewidth": 2
          },
          "yaxis": {
           "automargin": true,
           "gridcolor": "white",
           "linecolor": "white",
           "ticks": "",
           "title": {
            "standoff": 15
           },
           "zerolinecolor": "white",
           "zerolinewidth": 2
          }
         }
        },
        "width": 1100,
        "xaxis": {
         "anchor": "y",
         "domain": [
          0,
          1
         ]
        },
        "xaxis2": {
         "anchor": "y2",
         "domain": [
          0,
          1
         ]
        },
        "yaxis": {
         "anchor": "x",
         "domain": [
          0.625,
          1
         ]
        },
        "yaxis2": {
         "anchor": "x2",
         "domain": [
          0,
          0.375
         ]
        }
       }
      }
     },
     "metadata": {},
     "output_type": "display_data"
    }
   ],
   "source": [
    "fig = make_subplots(2,1, subplot_titles=(\"<b>연도별 교통범죄 전체 건수 변화</b>\", \"<b>연도별 교통범죄 세부사항 건수 변화</b>\"), print_grid=True)\n",
    "fig.update_layout(height=800, width=1100, legend=dict(orientation='v', xanchor='center', yanchor=\"middle\") )\n",
    "\n",
    "fig.add_trace(go.Scatter(x=vehicle_count_total_df[\"년도\"], y=vehicle_count_total_df[\"발생건수\"], mode=\"markers+lines\", name=\"교통범죄 총 건수\"), row=1, col=1)\n",
    "\n",
    "vehicle_detail_list = [\"교통사고\", \"교통사고외\"]\n",
    "\n",
    "for vehicle_detail in vehicle_detail_list:\n",
    "       df = vehicle_count_df[vehicle_count_df[\"소\"] == vehicle_detail]\n",
    "       fig.add_trace(go.Bar(x=df[\"년도\"], y=df[\"발생건수\"], name=vehicle_detail, text=df[\"발생건수\"], textposition=\"inside\"), row=2, col=1)\n",
    "                 \n",
    "fig.show()"
   ]
  },
  {
   "cell_type": "code",
   "execution_count": null,
   "metadata": {},
   "outputs": [],
   "source": []
  }
 ],
 "metadata": {
  "kernelspec": {
   "display_name": "eda_venv",
   "language": "python",
   "name": "python3"
  },
  "language_info": {
   "codemirror_mode": {
    "name": "ipython",
    "version": 3
   },
   "file_extension": ".py",
   "mimetype": "text/x-python",
   "name": "python",
   "nbconvert_exporter": "python",
   "pygments_lexer": "ipython3",
   "version": "3.10.12"
  }
 },
 "nbformat": 4,
 "nbformat_minor": 2
}
