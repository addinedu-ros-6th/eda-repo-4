{
 "cells": [
  {
   "cell_type": "markdown",
   "metadata": {},
   "source": [
    "# Before: 1994~2010년 기준 \n",
    "* 절도범: 비율 및 횟수 동일하게 증가(절도범 유형만 따로 1994~2010년도 범위에서 분석하기)    "
   ]
  },
  {
   "cell_type": "markdown",
   "metadata": {},
   "source": [
    "### * 초기설정"
   ]
  },
  {
   "cell_type": "code",
   "execution_count": 1,
   "metadata": {},
   "outputs": [],
   "source": [
    "import mysql.connector\n",
    "\n",
    "import pandas as pd\n",
    "import numpy as np\n",
    "import folium\n",
    "import seaborn as sns\n",
    "import koreanize_matplotlib\n",
    "import plotly.express as px\n",
    "import plotly.graph_objects as go\n",
    "from plotly.subplots import make_subplots"
   ]
  },
  {
   "cell_type": "code",
   "execution_count": 2,
   "metadata": {},
   "outputs": [],
   "source": [
    "lsw = mysql.connector.connect(\n",
    "host = \"database-1.cz44qgu84nin.ap-northeast-2.rds.amazonaws.com\",\n",
    "user = \"sw\",\n",
    "password = \"1234\",\n",
    "database = \"edabase\"\n",
    ")\n",
    "\n",
    "cursor = lsw.cursor(dictionary=True ,buffered=True)\n",
    "cursor.execute(\"use edabase\")"
   ]
  },
  {
   "cell_type": "code",
   "execution_count": 3,
   "metadata": {},
   "outputs": [
    {
     "data": {
      "text/plain": [
       "[{'Tables_in_edabase': 'crime_age_after'},\n",
       " {'Tables_in_edabase': 'crime_age_before'},\n",
       " {'Tables_in_edabase': 'crime_count_after'},\n",
       " {'Tables_in_edabase': 'crime_count_before'},\n",
       " {'Tables_in_edabase': 'crime_dosi_after'},\n",
       " {'Tables_in_edabase': 'crime_dosi_before'},\n",
       " {'Tables_in_edabase': 'crime_dotweek_after'},\n",
       " {'Tables_in_edabase': 'crime_dotweek_before'},\n",
       " {'Tables_in_edabase': 'crime_edu_before'},\n",
       " {'Tables_in_edabase': 'crime_motive_after'},\n",
       " {'Tables_in_edabase': 'crime_motive_before'},\n",
       " {'Tables_in_edabase': 'crime_place_after'},\n",
       " {'Tables_in_edabase': 'crime_place_before'},\n",
       " {'Tables_in_edabase': 'crime_time_after'},\n",
       " {'Tables_in_edabase': 'crime_time_before'},\n",
       " {'Tables_in_edabase': 'driver_traffic_order'},\n",
       " {'Tables_in_edabase': 'walking_order'}]"
      ]
     },
     "execution_count": 3,
     "metadata": {},
     "output_type": "execute_result"
    }
   ],
   "source": [
    "cursor.execute(\"show tables\")\n",
    "cursor.fetchall()"
   ]
  },
  {
   "cell_type": "markdown",
   "metadata": {},
   "source": [
    "### * 절도범 유형만 따로 1994~2010년도 범위에서 분석하기"
   ]
  },
  {
   "cell_type": "markdown",
   "metadata": {},
   "source": [
    "##### [ 지역 ]"
   ]
  },
  {
   "cell_type": "code",
   "execution_count": 4,
   "metadata": {},
   "outputs": [
    {
     "data": {
      "text/html": [
       "<div>\n",
       "<style scoped>\n",
       "    .dataframe tbody tr th:only-of-type {\n",
       "        vertical-align: middle;\n",
       "    }\n",
       "\n",
       "    .dataframe tbody tr th {\n",
       "        vertical-align: top;\n",
       "    }\n",
       "\n",
       "    .dataframe thead th {\n",
       "        text-align: right;\n",
       "    }\n",
       "</style>\n",
       "<table border=\"1\" class=\"dataframe\">\n",
       "  <thead>\n",
       "    <tr style=\"text-align: right;\">\n",
       "      <th></th>\n",
       "      <th>대</th>\n",
       "      <th>중</th>\n",
       "      <th>소</th>\n",
       "      <th>발생장소</th>\n",
       "      <th>1994년</th>\n",
       "      <th>1995년</th>\n",
       "      <th>1996년</th>\n",
       "      <th>1997년</th>\n",
       "      <th>1998년</th>\n",
       "      <th>1999년</th>\n",
       "      <th>...</th>\n",
       "      <th>2001년</th>\n",
       "      <th>2002년</th>\n",
       "      <th>2003년</th>\n",
       "      <th>2004년</th>\n",
       "      <th>2005년</th>\n",
       "      <th>2006년</th>\n",
       "      <th>2007년</th>\n",
       "      <th>2008년</th>\n",
       "      <th>2009년</th>\n",
       "      <th>2010년</th>\n",
       "    </tr>\n",
       "  </thead>\n",
       "  <tbody>\n",
       "    <tr>\n",
       "      <th>0</th>\n",
       "      <td>총범죄</td>\n",
       "      <td>소계</td>\n",
       "      <td>소계</td>\n",
       "      <td>서울특별시</td>\n",
       "      <td>346198</td>\n",
       "      <td>350674</td>\n",
       "      <td>347022</td>\n",
       "      <td>349602</td>\n",
       "      <td>377918</td>\n",
       "      <td>349658</td>\n",
       "      <td>...</td>\n",
       "      <td>407157</td>\n",
       "      <td>371736</td>\n",
       "      <td>378072</td>\n",
       "      <td>396355</td>\n",
       "      <td>353242</td>\n",
       "      <td>347290</td>\n",
       "      <td>356719</td>\n",
       "      <td>392626</td>\n",
       "      <td>405857</td>\n",
       "      <td>348541</td>\n",
       "    </tr>\n",
       "    <tr>\n",
       "      <th>1</th>\n",
       "      <td>총범죄</td>\n",
       "      <td>소계</td>\n",
       "      <td>소계</td>\n",
       "      <td>부산광역시</td>\n",
       "      <td>108512</td>\n",
       "      <td>113321</td>\n",
       "      <td>117861</td>\n",
       "      <td>118091</td>\n",
       "      <td>138857</td>\n",
       "      <td>134248</td>\n",
       "      <td>...</td>\n",
       "      <td>133624</td>\n",
       "      <td>121514</td>\n",
       "      <td>136483</td>\n",
       "      <td>155995</td>\n",
       "      <td>122499</td>\n",
       "      <td>126900</td>\n",
       "      <td>141593</td>\n",
       "      <td>170436</td>\n",
       "      <td>176217</td>\n",
       "      <td>130047</td>\n",
       "    </tr>\n",
       "    <tr>\n",
       "      <th>2</th>\n",
       "      <td>총범죄</td>\n",
       "      <td>소계</td>\n",
       "      <td>소계</td>\n",
       "      <td>대구광역시</td>\n",
       "      <td>69962</td>\n",
       "      <td>72023</td>\n",
       "      <td>76304</td>\n",
       "      <td>83084</td>\n",
       "      <td>97816</td>\n",
       "      <td>93489</td>\n",
       "      <td>...</td>\n",
       "      <td>102852</td>\n",
       "      <td>105298</td>\n",
       "      <td>101180</td>\n",
       "      <td>110640</td>\n",
       "      <td>90386</td>\n",
       "      <td>89404</td>\n",
       "      <td>93814</td>\n",
       "      <td>106545</td>\n",
       "      <td>97603</td>\n",
       "      <td>96342</td>\n",
       "    </tr>\n",
       "    <tr>\n",
       "      <th>3</th>\n",
       "      <td>총범죄</td>\n",
       "      <td>소계</td>\n",
       "      <td>소계</td>\n",
       "      <td>인천광역시</td>\n",
       "      <td>66975</td>\n",
       "      <td>63755</td>\n",
       "      <td>73695</td>\n",
       "      <td>84735</td>\n",
       "      <td>103836</td>\n",
       "      <td>95142</td>\n",
       "      <td>...</td>\n",
       "      <td>102654</td>\n",
       "      <td>111568</td>\n",
       "      <td>108207</td>\n",
       "      <td>104419</td>\n",
       "      <td>100871</td>\n",
       "      <td>108648</td>\n",
       "      <td>102302</td>\n",
       "      <td>108802</td>\n",
       "      <td>106071</td>\n",
       "      <td>86782</td>\n",
       "    </tr>\n",
       "    <tr>\n",
       "      <th>4</th>\n",
       "      <td>총범죄</td>\n",
       "      <td>소계</td>\n",
       "      <td>소계</td>\n",
       "      <td>광주광역시</td>\n",
       "      <td>38927</td>\n",
       "      <td>43409</td>\n",
       "      <td>49746</td>\n",
       "      <td>52208</td>\n",
       "      <td>64698</td>\n",
       "      <td>56147</td>\n",
       "      <td>...</td>\n",
       "      <td>65979</td>\n",
       "      <td>65028</td>\n",
       "      <td>67753</td>\n",
       "      <td>58808</td>\n",
       "      <td>57898</td>\n",
       "      <td>54954</td>\n",
       "      <td>58955</td>\n",
       "      <td>60902</td>\n",
       "      <td>60785</td>\n",
       "      <td>62091</td>\n",
       "    </tr>\n",
       "    <tr>\n",
       "      <th>...</th>\n",
       "      <td>...</td>\n",
       "      <td>...</td>\n",
       "      <td>...</td>\n",
       "      <td>...</td>\n",
       "      <td>...</td>\n",
       "      <td>...</td>\n",
       "      <td>...</td>\n",
       "      <td>...</td>\n",
       "      <td>...</td>\n",
       "      <td>...</td>\n",
       "      <td>...</td>\n",
       "      <td>...</td>\n",
       "      <td>...</td>\n",
       "      <td>...</td>\n",
       "      <td>...</td>\n",
       "      <td>...</td>\n",
       "      <td>...</td>\n",
       "      <td>...</td>\n",
       "      <td>...</td>\n",
       "      <td>...</td>\n",
       "      <td>...</td>\n",
       "    </tr>\n",
       "    <tr>\n",
       "      <th>10051</th>\n",
       "      <td>특별법범</td>\n",
       "      <td>기타특별법</td>\n",
       "      <td>소계</td>\n",
       "      <td>제천시</td>\n",
       "      <td>0</td>\n",
       "      <td>0</td>\n",
       "      <td>0</td>\n",
       "      <td>0</td>\n",
       "      <td>0</td>\n",
       "      <td>0</td>\n",
       "      <td>...</td>\n",
       "      <td>0</td>\n",
       "      <td>0</td>\n",
       "      <td>0</td>\n",
       "      <td>19</td>\n",
       "      <td>16</td>\n",
       "      <td>15</td>\n",
       "      <td>0</td>\n",
       "      <td>0</td>\n",
       "      <td>0</td>\n",
       "      <td>0</td>\n",
       "    </tr>\n",
       "    <tr>\n",
       "      <th>10052</th>\n",
       "      <td>특별법범</td>\n",
       "      <td>기타특별법</td>\n",
       "      <td>소계</td>\n",
       "      <td>논산시</td>\n",
       "      <td>0</td>\n",
       "      <td>0</td>\n",
       "      <td>0</td>\n",
       "      <td>0</td>\n",
       "      <td>0</td>\n",
       "      <td>0</td>\n",
       "      <td>...</td>\n",
       "      <td>0</td>\n",
       "      <td>0</td>\n",
       "      <td>0</td>\n",
       "      <td>38</td>\n",
       "      <td>54</td>\n",
       "      <td>167</td>\n",
       "      <td>0</td>\n",
       "      <td>0</td>\n",
       "      <td>0</td>\n",
       "      <td>0</td>\n",
       "    </tr>\n",
       "    <tr>\n",
       "      <th>10053</th>\n",
       "      <td>특별법범</td>\n",
       "      <td>기타특별법</td>\n",
       "      <td>소계</td>\n",
       "      <td>기타도시</td>\n",
       "      <td>773</td>\n",
       "      <td>1722</td>\n",
       "      <td>1843</td>\n",
       "      <td>5706</td>\n",
       "      <td>5060</td>\n",
       "      <td>5944</td>\n",
       "      <td>...</td>\n",
       "      <td>11199</td>\n",
       "      <td>15231</td>\n",
       "      <td>18009</td>\n",
       "      <td>1726</td>\n",
       "      <td>2209</td>\n",
       "      <td>2346</td>\n",
       "      <td>0</td>\n",
       "      <td>0</td>\n",
       "      <td>0</td>\n",
       "      <td>0</td>\n",
       "    </tr>\n",
       "    <tr>\n",
       "      <th>10054</th>\n",
       "      <td>특별법범</td>\n",
       "      <td>기타특별법</td>\n",
       "      <td>소계</td>\n",
       "      <td>도시이외</td>\n",
       "      <td>4253</td>\n",
       "      <td>4514</td>\n",
       "      <td>4815</td>\n",
       "      <td>7039</td>\n",
       "      <td>9940</td>\n",
       "      <td>12604</td>\n",
       "      <td>...</td>\n",
       "      <td>30857</td>\n",
       "      <td>43130</td>\n",
       "      <td>47955</td>\n",
       "      <td>1473</td>\n",
       "      <td>1255</td>\n",
       "      <td>2193</td>\n",
       "      <td>0</td>\n",
       "      <td>0</td>\n",
       "      <td>0</td>\n",
       "      <td>0</td>\n",
       "    </tr>\n",
       "    <tr>\n",
       "      <th>10055</th>\n",
       "      <td>특별법범</td>\n",
       "      <td>기타특별법</td>\n",
       "      <td>소계</td>\n",
       "      <td>기타</td>\n",
       "      <td>7</td>\n",
       "      <td>13</td>\n",
       "      <td>12</td>\n",
       "      <td>9</td>\n",
       "      <td>3</td>\n",
       "      <td>372</td>\n",
       "      <td>...</td>\n",
       "      <td>8782</td>\n",
       "      <td>11894</td>\n",
       "      <td>12311</td>\n",
       "      <td>0</td>\n",
       "      <td>0</td>\n",
       "      <td>0</td>\n",
       "      <td>0</td>\n",
       "      <td>0</td>\n",
       "      <td>0</td>\n",
       "      <td>0</td>\n",
       "    </tr>\n",
       "  </tbody>\n",
       "</table>\n",
       "<p>10056 rows × 21 columns</p>\n",
       "</div>"
      ],
      "text/plain": [
       "          대      중   소   발생장소   1994년   1995년   1996년   1997년   1998년   1999년  \\\n",
       "0       총범죄     소계  소계  서울특별시  346198  350674  347022  349602  377918  349658   \n",
       "1       총범죄     소계  소계  부산광역시  108512  113321  117861  118091  138857  134248   \n",
       "2       총범죄     소계  소계  대구광역시   69962   72023   76304   83084   97816   93489   \n",
       "3       총범죄     소계  소계  인천광역시   66975   63755   73695   84735  103836   95142   \n",
       "4       총범죄     소계  소계  광주광역시   38927   43409   49746   52208   64698   56147   \n",
       "...     ...    ...  ..    ...     ...     ...     ...     ...     ...     ...   \n",
       "10051  특별법범  기타특별법  소계    제천시       0       0       0       0       0       0   \n",
       "10052  특별법범  기타특별법  소계    논산시       0       0       0       0       0       0   \n",
       "10053  특별법범  기타특별법  소계   기타도시     773    1722    1843    5706    5060    5944   \n",
       "10054  특별법범  기타특별법  소계   도시이외    4253    4514    4815    7039    9940   12604   \n",
       "10055  특별법범  기타특별법  소계     기타       7      13      12       9       3     372   \n",
       "\n",
       "       ...   2001년   2002년   2003년   2004년   2005년   2006년   2007년   2008년  \\\n",
       "0      ...  407157  371736  378072  396355  353242  347290  356719  392626   \n",
       "1      ...  133624  121514  136483  155995  122499  126900  141593  170436   \n",
       "2      ...  102852  105298  101180  110640   90386   89404   93814  106545   \n",
       "3      ...  102654  111568  108207  104419  100871  108648  102302  108802   \n",
       "4      ...   65979   65028   67753   58808   57898   54954   58955   60902   \n",
       "...    ...     ...     ...     ...     ...     ...     ...     ...     ...   \n",
       "10051  ...       0       0       0      19      16      15       0       0   \n",
       "10052  ...       0       0       0      38      54     167       0       0   \n",
       "10053  ...   11199   15231   18009    1726    2209    2346       0       0   \n",
       "10054  ...   30857   43130   47955    1473    1255    2193       0       0   \n",
       "10055  ...    8782   11894   12311       0       0       0       0       0   \n",
       "\n",
       "        2009년   2010년  \n",
       "0      405857  348541  \n",
       "1      176217  130047  \n",
       "2       97603   96342  \n",
       "3      106071   86782  \n",
       "4       60785   62091  \n",
       "...       ...     ...  \n",
       "10051       0       0  \n",
       "10052       0       0  \n",
       "10053       0       0  \n",
       "10054       0       0  \n",
       "10055       0       0  \n",
       "\n",
       "[10056 rows x 21 columns]"
      ]
     },
     "execution_count": 4,
     "metadata": {},
     "output_type": "execute_result"
    }
   ],
   "source": [
    "cursor.execute(\"select * from crime_dosi_before\")\n",
    "\n",
    "dosi = cursor.fetchall()\n",
    "dosi_df_start = pd.DataFrame(dosi)\n",
    "dosi_df_start"
   ]
  },
  {
   "cell_type": "code",
   "execution_count": 5,
   "metadata": {},
   "outputs": [
    {
     "name": "stdout",
     "output_type": "stream",
     "text": [
      "<class 'pandas.core.frame.DataFrame'>\n",
      "RangeIndex: 10056 entries, 0 to 10055\n",
      "Data columns (total 21 columns):\n",
      " #   Column  Non-Null Count  Dtype \n",
      "---  ------  --------------  ----- \n",
      " 0   대       10056 non-null  object\n",
      " 1   중       10056 non-null  object\n",
      " 2   소       10056 non-null  object\n",
      " 3   발생장소    10056 non-null  object\n",
      " 4   1994년   10056 non-null  int64 \n",
      " 5   1995년   10056 non-null  int64 \n",
      " 6   1996년   10056 non-null  int64 \n",
      " 7   1997년   10056 non-null  int64 \n",
      " 8   1998년   10056 non-null  int64 \n",
      " 9   1999년   10056 non-null  int64 \n",
      " 10  2000년   10056 non-null  int64 \n",
      " 11  2001년   10056 non-null  int64 \n",
      " 12  2002년   10056 non-null  int64 \n",
      " 13  2003년   10056 non-null  int64 \n",
      " 14  2004년   10056 non-null  int64 \n",
      " 15  2005년   10056 non-null  int64 \n",
      " 16  2006년   10056 non-null  int64 \n",
      " 17  2007년   10056 non-null  int64 \n",
      " 18  2008년   10056 non-null  int64 \n",
      " 19  2009년   10056 non-null  int64 \n",
      " 20  2010년   10056 non-null  int64 \n",
      "dtypes: int64(17), object(4)\n",
      "memory usage: 1.6+ MB\n"
     ]
    }
   ],
   "source": [
    "dosi_df_start.info()"
   ]
  },
  {
   "cell_type": "code",
   "execution_count": 6,
   "metadata": {},
   "outputs": [],
   "source": [
    "dosi_df = dosi_df_start[dosi_df_start[\"중\"] == \"절도범\"]\n",
    "dosi_df.reset_index(inplace=True, drop=True)"
   ]
  },
  {
   "cell_type": "code",
   "execution_count": 7,
   "metadata": {},
   "outputs": [
    {
     "name": "stderr",
     "output_type": "stream",
     "text": [
      "/tmp/ipykernel_37862/3166770567.py:1: SettingWithCopyWarning: \n",
      "A value is trying to be set on a copy of a slice from a DataFrame\n",
      "\n",
      "See the caveats in the documentation: https://pandas.pydata.org/pandas-docs/stable/user_guide/indexing.html#returning-a-view-versus-a-copy\n",
      "  dosi_df.drop(columns=\"대\", inplace=True)\n"
     ]
    },
    {
     "data": {
      "text/html": [
       "<div>\n",
       "<style scoped>\n",
       "    .dataframe tbody tr th:only-of-type {\n",
       "        vertical-align: middle;\n",
       "    }\n",
       "\n",
       "    .dataframe tbody tr th {\n",
       "        vertical-align: top;\n",
       "    }\n",
       "\n",
       "    .dataframe thead th {\n",
       "        text-align: right;\n",
       "    }\n",
       "</style>\n",
       "<table border=\"1\" class=\"dataframe\">\n",
       "  <thead>\n",
       "    <tr style=\"text-align: right;\">\n",
       "      <th></th>\n",
       "      <th>중</th>\n",
       "      <th>소</th>\n",
       "      <th>발생장소</th>\n",
       "      <th>1994년</th>\n",
       "      <th>1995년</th>\n",
       "      <th>1996년</th>\n",
       "      <th>1997년</th>\n",
       "      <th>1998년</th>\n",
       "      <th>1999년</th>\n",
       "      <th>2000년</th>\n",
       "      <th>2001년</th>\n",
       "      <th>2002년</th>\n",
       "      <th>2003년</th>\n",
       "      <th>2004년</th>\n",
       "      <th>2005년</th>\n",
       "      <th>2006년</th>\n",
       "      <th>2007년</th>\n",
       "      <th>2008년</th>\n",
       "      <th>2009년</th>\n",
       "      <th>2010년</th>\n",
       "    </tr>\n",
       "  </thead>\n",
       "  <tbody>\n",
       "    <tr>\n",
       "      <th>0</th>\n",
       "      <td>절도범</td>\n",
       "      <td>소계</td>\n",
       "      <td>서울특별시</td>\n",
       "      <td>15389</td>\n",
       "      <td>15701</td>\n",
       "      <td>14053</td>\n",
       "      <td>12883</td>\n",
       "      <td>15658</td>\n",
       "      <td>14488</td>\n",
       "      <td>35927</td>\n",
       "      <td>52309</td>\n",
       "      <td>61444</td>\n",
       "      <td>57332</td>\n",
       "      <td>36266</td>\n",
       "      <td>34057</td>\n",
       "      <td>29264</td>\n",
       "      <td>29973</td>\n",
       "      <td>28900</td>\n",
       "      <td>37212</td>\n",
       "      <td>49396</td>\n",
       "    </tr>\n",
       "    <tr>\n",
       "      <th>1</th>\n",
       "      <td>절도범</td>\n",
       "      <td>소계</td>\n",
       "      <td>부산광역시</td>\n",
       "      <td>5564</td>\n",
       "      <td>7649</td>\n",
       "      <td>7753</td>\n",
       "      <td>8589</td>\n",
       "      <td>11352</td>\n",
       "      <td>11013</td>\n",
       "      <td>13648</td>\n",
       "      <td>12268</td>\n",
       "      <td>13386</td>\n",
       "      <td>14803</td>\n",
       "      <td>11939</td>\n",
       "      <td>11244</td>\n",
       "      <td>12741</td>\n",
       "      <td>12854</td>\n",
       "      <td>14469</td>\n",
       "      <td>22077</td>\n",
       "      <td>22300</td>\n",
       "    </tr>\n",
       "    <tr>\n",
       "      <th>2</th>\n",
       "      <td>절도범</td>\n",
       "      <td>소계</td>\n",
       "      <td>대구광역시</td>\n",
       "      <td>3052</td>\n",
       "      <td>2886</td>\n",
       "      <td>4039</td>\n",
       "      <td>4843</td>\n",
       "      <td>5466</td>\n",
       "      <td>6256</td>\n",
       "      <td>9450</td>\n",
       "      <td>7298</td>\n",
       "      <td>5844</td>\n",
       "      <td>6973</td>\n",
       "      <td>5615</td>\n",
       "      <td>8903</td>\n",
       "      <td>9977</td>\n",
       "      <td>8644</td>\n",
       "      <td>8857</td>\n",
       "      <td>10319</td>\n",
       "      <td>15643</td>\n",
       "    </tr>\n",
       "    <tr>\n",
       "      <th>3</th>\n",
       "      <td>절도범</td>\n",
       "      <td>소계</td>\n",
       "      <td>인천광역시</td>\n",
       "      <td>3216</td>\n",
       "      <td>2583</td>\n",
       "      <td>4874</td>\n",
       "      <td>6687</td>\n",
       "      <td>5549</td>\n",
       "      <td>3930</td>\n",
       "      <td>10997</td>\n",
       "      <td>8325</td>\n",
       "      <td>9548</td>\n",
       "      <td>10007</td>\n",
       "      <td>8676</td>\n",
       "      <td>13595</td>\n",
       "      <td>13025</td>\n",
       "      <td>11227</td>\n",
       "      <td>10822</td>\n",
       "      <td>11358</td>\n",
       "      <td>10587</td>\n",
       "    </tr>\n",
       "    <tr>\n",
       "      <th>4</th>\n",
       "      <td>절도범</td>\n",
       "      <td>소계</td>\n",
       "      <td>광주광역시</td>\n",
       "      <td>3375</td>\n",
       "      <td>4799</td>\n",
       "      <td>5355</td>\n",
       "      <td>5807</td>\n",
       "      <td>4980</td>\n",
       "      <td>2898</td>\n",
       "      <td>7687</td>\n",
       "      <td>8112</td>\n",
       "      <td>7585</td>\n",
       "      <td>7919</td>\n",
       "      <td>6044</td>\n",
       "      <td>9173</td>\n",
       "      <td>9489</td>\n",
       "      <td>10715</td>\n",
       "      <td>12179</td>\n",
       "      <td>12288</td>\n",
       "      <td>12631</td>\n",
       "    </tr>\n",
       "    <tr>\n",
       "      <th>...</th>\n",
       "      <td>...</td>\n",
       "      <td>...</td>\n",
       "      <td>...</td>\n",
       "      <td>...</td>\n",
       "      <td>...</td>\n",
       "      <td>...</td>\n",
       "      <td>...</td>\n",
       "      <td>...</td>\n",
       "      <td>...</td>\n",
       "      <td>...</td>\n",
       "      <td>...</td>\n",
       "      <td>...</td>\n",
       "      <td>...</td>\n",
       "      <td>...</td>\n",
       "      <td>...</td>\n",
       "      <td>...</td>\n",
       "      <td>...</td>\n",
       "      <td>...</td>\n",
       "      <td>...</td>\n",
       "      <td>...</td>\n",
       "    </tr>\n",
       "    <tr>\n",
       "      <th>215</th>\n",
       "      <td>절도범</td>\n",
       "      <td>상습절도</td>\n",
       "      <td>천안시</td>\n",
       "      <td>5</td>\n",
       "      <td>0</td>\n",
       "      <td>0</td>\n",
       "      <td>0</td>\n",
       "      <td>0</td>\n",
       "      <td>0</td>\n",
       "      <td>0</td>\n",
       "      <td>0</td>\n",
       "      <td>0</td>\n",
       "      <td>0</td>\n",
       "      <td>0</td>\n",
       "      <td>0</td>\n",
       "      <td>0</td>\n",
       "      <td>0</td>\n",
       "      <td>0</td>\n",
       "      <td>0</td>\n",
       "      <td>0</td>\n",
       "    </tr>\n",
       "    <tr>\n",
       "      <th>216</th>\n",
       "      <td>절도범</td>\n",
       "      <td>상습절도</td>\n",
       "      <td>춘천시</td>\n",
       "      <td>2</td>\n",
       "      <td>0</td>\n",
       "      <td>0</td>\n",
       "      <td>0</td>\n",
       "      <td>0</td>\n",
       "      <td>0</td>\n",
       "      <td>0</td>\n",
       "      <td>0</td>\n",
       "      <td>0</td>\n",
       "      <td>0</td>\n",
       "      <td>0</td>\n",
       "      <td>0</td>\n",
       "      <td>0</td>\n",
       "      <td>0</td>\n",
       "      <td>0</td>\n",
       "      <td>0</td>\n",
       "      <td>0</td>\n",
       "    </tr>\n",
       "    <tr>\n",
       "      <th>217</th>\n",
       "      <td>절도범</td>\n",
       "      <td>상습절도</td>\n",
       "      <td>원주시</td>\n",
       "      <td>1</td>\n",
       "      <td>0</td>\n",
       "      <td>0</td>\n",
       "      <td>0</td>\n",
       "      <td>0</td>\n",
       "      <td>0</td>\n",
       "      <td>0</td>\n",
       "      <td>0</td>\n",
       "      <td>0</td>\n",
       "      <td>0</td>\n",
       "      <td>0</td>\n",
       "      <td>0</td>\n",
       "      <td>0</td>\n",
       "      <td>0</td>\n",
       "      <td>0</td>\n",
       "      <td>0</td>\n",
       "      <td>0</td>\n",
       "    </tr>\n",
       "    <tr>\n",
       "      <th>218</th>\n",
       "      <td>절도범</td>\n",
       "      <td>상습절도</td>\n",
       "      <td>기타도시</td>\n",
       "      <td>104</td>\n",
       "      <td>0</td>\n",
       "      <td>0</td>\n",
       "      <td>0</td>\n",
       "      <td>0</td>\n",
       "      <td>0</td>\n",
       "      <td>0</td>\n",
       "      <td>0</td>\n",
       "      <td>0</td>\n",
       "      <td>0</td>\n",
       "      <td>0</td>\n",
       "      <td>0</td>\n",
       "      <td>0</td>\n",
       "      <td>0</td>\n",
       "      <td>0</td>\n",
       "      <td>0</td>\n",
       "      <td>0</td>\n",
       "    </tr>\n",
       "    <tr>\n",
       "      <th>219</th>\n",
       "      <td>절도범</td>\n",
       "      <td>상습절도</td>\n",
       "      <td>도시이외</td>\n",
       "      <td>160</td>\n",
       "      <td>0</td>\n",
       "      <td>0</td>\n",
       "      <td>0</td>\n",
       "      <td>0</td>\n",
       "      <td>0</td>\n",
       "      <td>0</td>\n",
       "      <td>0</td>\n",
       "      <td>0</td>\n",
       "      <td>0</td>\n",
       "      <td>0</td>\n",
       "      <td>0</td>\n",
       "      <td>0</td>\n",
       "      <td>0</td>\n",
       "      <td>0</td>\n",
       "      <td>0</td>\n",
       "      <td>0</td>\n",
       "    </tr>\n",
       "  </tbody>\n",
       "</table>\n",
       "<p>220 rows × 20 columns</p>\n",
       "</div>"
      ],
      "text/plain": [
       "       중     소   발생장소  1994년  1995년  1996년  1997년  1998년  1999년  2000년  2001년  \\\n",
       "0    절도범    소계  서울특별시  15389  15701  14053  12883  15658  14488  35927  52309   \n",
       "1    절도범    소계  부산광역시   5564   7649   7753   8589  11352  11013  13648  12268   \n",
       "2    절도범    소계  대구광역시   3052   2886   4039   4843   5466   6256   9450   7298   \n",
       "3    절도범    소계  인천광역시   3216   2583   4874   6687   5549   3930  10997   8325   \n",
       "4    절도범    소계  광주광역시   3375   4799   5355   5807   4980   2898   7687   8112   \n",
       "..   ...   ...    ...    ...    ...    ...    ...    ...    ...    ...    ...   \n",
       "215  절도범  상습절도    천안시      5      0      0      0      0      0      0      0   \n",
       "216  절도범  상습절도    춘천시      2      0      0      0      0      0      0      0   \n",
       "217  절도범  상습절도    원주시      1      0      0      0      0      0      0      0   \n",
       "218  절도범  상습절도   기타도시    104      0      0      0      0      0      0      0   \n",
       "219  절도범  상습절도   도시이외    160      0      0      0      0      0      0      0   \n",
       "\n",
       "     2002년  2003년  2004년  2005년  2006년  2007년  2008년  2009년  2010년  \n",
       "0    61444  57332  36266  34057  29264  29973  28900  37212  49396  \n",
       "1    13386  14803  11939  11244  12741  12854  14469  22077  22300  \n",
       "2     5844   6973   5615   8903   9977   8644   8857  10319  15643  \n",
       "3     9548  10007   8676  13595  13025  11227  10822  11358  10587  \n",
       "4     7585   7919   6044   9173   9489  10715  12179  12288  12631  \n",
       "..     ...    ...    ...    ...    ...    ...    ...    ...    ...  \n",
       "215      0      0      0      0      0      0      0      0      0  \n",
       "216      0      0      0      0      0      0      0      0      0  \n",
       "217      0      0      0      0      0      0      0      0      0  \n",
       "218      0      0      0      0      0      0      0      0      0  \n",
       "219      0      0      0      0      0      0      0      0      0  \n",
       "\n",
       "[220 rows x 20 columns]"
      ]
     },
     "execution_count": 7,
     "metadata": {},
     "output_type": "execute_result"
    }
   ],
   "source": [
    "dosi_df.drop(columns=\"대\", inplace=True)\n",
    "dosi_df"
   ]
  },
  {
   "cell_type": "code",
   "execution_count": 8,
   "metadata": {},
   "outputs": [
    {
     "data": {
      "text/html": [
       "<div>\n",
       "<style scoped>\n",
       "    .dataframe tbody tr th:only-of-type {\n",
       "        vertical-align: middle;\n",
       "    }\n",
       "\n",
       "    .dataframe tbody tr th {\n",
       "        vertical-align: top;\n",
       "    }\n",
       "\n",
       "    .dataframe thead th {\n",
       "        text-align: right;\n",
       "    }\n",
       "</style>\n",
       "<table border=\"1\" class=\"dataframe\">\n",
       "  <thead>\n",
       "    <tr style=\"text-align: right;\">\n",
       "      <th></th>\n",
       "      <th>중</th>\n",
       "      <th>소</th>\n",
       "      <th>발생장소</th>\n",
       "      <th>1994년</th>\n",
       "      <th>1995년</th>\n",
       "      <th>1996년</th>\n",
       "      <th>1997년</th>\n",
       "      <th>1998년</th>\n",
       "      <th>1999년</th>\n",
       "      <th>2000년</th>\n",
       "      <th>2001년</th>\n",
       "      <th>2002년</th>\n",
       "      <th>2003년</th>\n",
       "      <th>2004년</th>\n",
       "      <th>2005년</th>\n",
       "      <th>2006년</th>\n",
       "      <th>2007년</th>\n",
       "      <th>2008년</th>\n",
       "      <th>2009년</th>\n",
       "      <th>2010년</th>\n",
       "    </tr>\n",
       "  </thead>\n",
       "  <tbody>\n",
       "    <tr>\n",
       "      <th>0</th>\n",
       "      <td>절도범</td>\n",
       "      <td>소계</td>\n",
       "      <td>서울특별시</td>\n",
       "      <td>15389</td>\n",
       "      <td>15701</td>\n",
       "      <td>14053</td>\n",
       "      <td>12883</td>\n",
       "      <td>15658</td>\n",
       "      <td>14488</td>\n",
       "      <td>35927</td>\n",
       "      <td>52309</td>\n",
       "      <td>61444</td>\n",
       "      <td>57332</td>\n",
       "      <td>36266</td>\n",
       "      <td>34057</td>\n",
       "      <td>29264</td>\n",
       "      <td>29973</td>\n",
       "      <td>28900</td>\n",
       "      <td>37212</td>\n",
       "      <td>49396</td>\n",
       "    </tr>\n",
       "    <tr>\n",
       "      <th>1</th>\n",
       "      <td>절도범</td>\n",
       "      <td>소계</td>\n",
       "      <td>부산광역시</td>\n",
       "      <td>5564</td>\n",
       "      <td>7649</td>\n",
       "      <td>7753</td>\n",
       "      <td>8589</td>\n",
       "      <td>11352</td>\n",
       "      <td>11013</td>\n",
       "      <td>13648</td>\n",
       "      <td>12268</td>\n",
       "      <td>13386</td>\n",
       "      <td>14803</td>\n",
       "      <td>11939</td>\n",
       "      <td>11244</td>\n",
       "      <td>12741</td>\n",
       "      <td>12854</td>\n",
       "      <td>14469</td>\n",
       "      <td>22077</td>\n",
       "      <td>22300</td>\n",
       "    </tr>\n",
       "    <tr>\n",
       "      <th>2</th>\n",
       "      <td>절도범</td>\n",
       "      <td>소계</td>\n",
       "      <td>대구광역시</td>\n",
       "      <td>3052</td>\n",
       "      <td>2886</td>\n",
       "      <td>4039</td>\n",
       "      <td>4843</td>\n",
       "      <td>5466</td>\n",
       "      <td>6256</td>\n",
       "      <td>9450</td>\n",
       "      <td>7298</td>\n",
       "      <td>5844</td>\n",
       "      <td>6973</td>\n",
       "      <td>5615</td>\n",
       "      <td>8903</td>\n",
       "      <td>9977</td>\n",
       "      <td>8644</td>\n",
       "      <td>8857</td>\n",
       "      <td>10319</td>\n",
       "      <td>15643</td>\n",
       "    </tr>\n",
       "    <tr>\n",
       "      <th>3</th>\n",
       "      <td>절도범</td>\n",
       "      <td>소계</td>\n",
       "      <td>인천광역시</td>\n",
       "      <td>3216</td>\n",
       "      <td>2583</td>\n",
       "      <td>4874</td>\n",
       "      <td>6687</td>\n",
       "      <td>5549</td>\n",
       "      <td>3930</td>\n",
       "      <td>10997</td>\n",
       "      <td>8325</td>\n",
       "      <td>9548</td>\n",
       "      <td>10007</td>\n",
       "      <td>8676</td>\n",
       "      <td>13595</td>\n",
       "      <td>13025</td>\n",
       "      <td>11227</td>\n",
       "      <td>10822</td>\n",
       "      <td>11358</td>\n",
       "      <td>10587</td>\n",
       "    </tr>\n",
       "    <tr>\n",
       "      <th>4</th>\n",
       "      <td>절도범</td>\n",
       "      <td>소계</td>\n",
       "      <td>광주광역시</td>\n",
       "      <td>3375</td>\n",
       "      <td>4799</td>\n",
       "      <td>5355</td>\n",
       "      <td>5807</td>\n",
       "      <td>4980</td>\n",
       "      <td>2898</td>\n",
       "      <td>7687</td>\n",
       "      <td>8112</td>\n",
       "      <td>7585</td>\n",
       "      <td>7919</td>\n",
       "      <td>6044</td>\n",
       "      <td>9173</td>\n",
       "      <td>9489</td>\n",
       "      <td>10715</td>\n",
       "      <td>12179</td>\n",
       "      <td>12288</td>\n",
       "      <td>12631</td>\n",
       "    </tr>\n",
       "    <tr>\n",
       "      <th>5</th>\n",
       "      <td>절도범</td>\n",
       "      <td>소계</td>\n",
       "      <td>대전광역시</td>\n",
       "      <td>2454</td>\n",
       "      <td>2656</td>\n",
       "      <td>3182</td>\n",
       "      <td>4552</td>\n",
       "      <td>3923</td>\n",
       "      <td>5502</td>\n",
       "      <td>7489</td>\n",
       "      <td>6397</td>\n",
       "      <td>5344</td>\n",
       "      <td>5831</td>\n",
       "      <td>4431</td>\n",
       "      <td>4937</td>\n",
       "      <td>6806</td>\n",
       "      <td>8278</td>\n",
       "      <td>9326</td>\n",
       "      <td>10697</td>\n",
       "      <td>8746</td>\n",
       "    </tr>\n",
       "    <tr>\n",
       "      <th>6</th>\n",
       "      <td>절도범</td>\n",
       "      <td>소계</td>\n",
       "      <td>울산광역시</td>\n",
       "      <td>1083</td>\n",
       "      <td>1289</td>\n",
       "      <td>1888</td>\n",
       "      <td>3603</td>\n",
       "      <td>2981</td>\n",
       "      <td>4040</td>\n",
       "      <td>4641</td>\n",
       "      <td>4627</td>\n",
       "      <td>4767</td>\n",
       "      <td>4259</td>\n",
       "      <td>3446</td>\n",
       "      <td>4780</td>\n",
       "      <td>4738</td>\n",
       "      <td>8831</td>\n",
       "      <td>7521</td>\n",
       "      <td>7557</td>\n",
       "      <td>7644</td>\n",
       "    </tr>\n",
       "    <tr>\n",
       "      <th>7</th>\n",
       "      <td>절도범</td>\n",
       "      <td>소계</td>\n",
       "      <td>부천시</td>\n",
       "      <td>1201</td>\n",
       "      <td>818</td>\n",
       "      <td>988</td>\n",
       "      <td>737</td>\n",
       "      <td>947</td>\n",
       "      <td>1196</td>\n",
       "      <td>3070</td>\n",
       "      <td>3093</td>\n",
       "      <td>2405</td>\n",
       "      <td>3018</td>\n",
       "      <td>1851</td>\n",
       "      <td>6819</td>\n",
       "      <td>7022</td>\n",
       "      <td>6678</td>\n",
       "      <td>7884</td>\n",
       "      <td>7548</td>\n",
       "      <td>6064</td>\n",
       "    </tr>\n",
       "    <tr>\n",
       "      <th>8</th>\n",
       "      <td>절도범</td>\n",
       "      <td>소계</td>\n",
       "      <td>수원시</td>\n",
       "      <td>1916</td>\n",
       "      <td>1781</td>\n",
       "      <td>1830</td>\n",
       "      <td>2299</td>\n",
       "      <td>2264</td>\n",
       "      <td>1746</td>\n",
       "      <td>2763</td>\n",
       "      <td>2997</td>\n",
       "      <td>3135</td>\n",
       "      <td>4440</td>\n",
       "      <td>5359</td>\n",
       "      <td>5833</td>\n",
       "      <td>5348</td>\n",
       "      <td>4465</td>\n",
       "      <td>5863</td>\n",
       "      <td>7014</td>\n",
       "      <td>5909</td>\n",
       "    </tr>\n",
       "    <tr>\n",
       "      <th>9</th>\n",
       "      <td>절도범</td>\n",
       "      <td>소계</td>\n",
       "      <td>성남시</td>\n",
       "      <td>999</td>\n",
       "      <td>921</td>\n",
       "      <td>1076</td>\n",
       "      <td>1398</td>\n",
       "      <td>1692</td>\n",
       "      <td>1843</td>\n",
       "      <td>3070</td>\n",
       "      <td>2847</td>\n",
       "      <td>2150</td>\n",
       "      <td>3040</td>\n",
       "      <td>1925</td>\n",
       "      <td>3761</td>\n",
       "      <td>4500</td>\n",
       "      <td>4698</td>\n",
       "      <td>4054</td>\n",
       "      <td>6388</td>\n",
       "      <td>4743</td>\n",
       "    </tr>\n",
       "    <tr>\n",
       "      <th>10</th>\n",
       "      <td>절도범</td>\n",
       "      <td>소계</td>\n",
       "      <td>전주시</td>\n",
       "      <td>757</td>\n",
       "      <td>763</td>\n",
       "      <td>931</td>\n",
       "      <td>1124</td>\n",
       "      <td>843</td>\n",
       "      <td>791</td>\n",
       "      <td>1454</td>\n",
       "      <td>2650</td>\n",
       "      <td>1781</td>\n",
       "      <td>2052</td>\n",
       "      <td>2014</td>\n",
       "      <td>3279</td>\n",
       "      <td>3464</td>\n",
       "      <td>2965</td>\n",
       "      <td>3361</td>\n",
       "      <td>3072</td>\n",
       "      <td>4084</td>\n",
       "    </tr>\n",
       "    <tr>\n",
       "      <th>11</th>\n",
       "      <td>절도범</td>\n",
       "      <td>소계</td>\n",
       "      <td>안양시</td>\n",
       "      <td>973</td>\n",
       "      <td>606</td>\n",
       "      <td>743</td>\n",
       "      <td>1051</td>\n",
       "      <td>1099</td>\n",
       "      <td>919</td>\n",
       "      <td>1158</td>\n",
       "      <td>1529</td>\n",
       "      <td>1538</td>\n",
       "      <td>1613</td>\n",
       "      <td>2049</td>\n",
       "      <td>2680</td>\n",
       "      <td>2936</td>\n",
       "      <td>2812</td>\n",
       "      <td>2481</td>\n",
       "      <td>2972</td>\n",
       "      <td>2611</td>\n",
       "    </tr>\n",
       "    <tr>\n",
       "      <th>12</th>\n",
       "      <td>절도범</td>\n",
       "      <td>소계</td>\n",
       "      <td>청주시</td>\n",
       "      <td>1272</td>\n",
       "      <td>1334</td>\n",
       "      <td>2428</td>\n",
       "      <td>2136</td>\n",
       "      <td>2116</td>\n",
       "      <td>2488</td>\n",
       "      <td>3658</td>\n",
       "      <td>3395</td>\n",
       "      <td>3088</td>\n",
       "      <td>3857</td>\n",
       "      <td>2971</td>\n",
       "      <td>3080</td>\n",
       "      <td>3334</td>\n",
       "      <td>4753</td>\n",
       "      <td>3942</td>\n",
       "      <td>3802</td>\n",
       "      <td>4232</td>\n",
       "    </tr>\n",
       "    <tr>\n",
       "      <th>13</th>\n",
       "      <td>절도범</td>\n",
       "      <td>소계</td>\n",
       "      <td>마산시</td>\n",
       "      <td>582</td>\n",
       "      <td>781</td>\n",
       "      <td>673</td>\n",
       "      <td>1042</td>\n",
       "      <td>1361</td>\n",
       "      <td>1603</td>\n",
       "      <td>2787</td>\n",
       "      <td>2350</td>\n",
       "      <td>1794</td>\n",
       "      <td>1919</td>\n",
       "      <td>1576</td>\n",
       "      <td>1786</td>\n",
       "      <td>2315</td>\n",
       "      <td>2446</td>\n",
       "      <td>2201</td>\n",
       "      <td>2128</td>\n",
       "      <td>3191</td>\n",
       "    </tr>\n",
       "    <tr>\n",
       "      <th>14</th>\n",
       "      <td>절도범</td>\n",
       "      <td>소계</td>\n",
       "      <td>창원시</td>\n",
       "      <td>450</td>\n",
       "      <td>694</td>\n",
       "      <td>485</td>\n",
       "      <td>570</td>\n",
       "      <td>750</td>\n",
       "      <td>884</td>\n",
       "      <td>2321</td>\n",
       "      <td>2902</td>\n",
       "      <td>2540</td>\n",
       "      <td>3177</td>\n",
       "      <td>3004</td>\n",
       "      <td>2292</td>\n",
       "      <td>2118</td>\n",
       "      <td>2668</td>\n",
       "      <td>3447</td>\n",
       "      <td>2932</td>\n",
       "      <td>4343</td>\n",
       "    </tr>\n",
       "    <tr>\n",
       "      <th>15</th>\n",
       "      <td>절도범</td>\n",
       "      <td>소계</td>\n",
       "      <td>광명시</td>\n",
       "      <td>444</td>\n",
       "      <td>498</td>\n",
       "      <td>647</td>\n",
       "      <td>601</td>\n",
       "      <td>674</td>\n",
       "      <td>516</td>\n",
       "      <td>554</td>\n",
       "      <td>630</td>\n",
       "      <td>933</td>\n",
       "      <td>1171</td>\n",
       "      <td>1650</td>\n",
       "      <td>1774</td>\n",
       "      <td>1673</td>\n",
       "      <td>1512</td>\n",
       "      <td>1618</td>\n",
       "      <td>2575</td>\n",
       "      <td>1786</td>\n",
       "    </tr>\n",
       "    <tr>\n",
       "      <th>16</th>\n",
       "      <td>절도범</td>\n",
       "      <td>소계</td>\n",
       "      <td>포항시</td>\n",
       "      <td>387</td>\n",
       "      <td>335</td>\n",
       "      <td>440</td>\n",
       "      <td>494</td>\n",
       "      <td>610</td>\n",
       "      <td>728</td>\n",
       "      <td>2132</td>\n",
       "      <td>2299</td>\n",
       "      <td>1857</td>\n",
       "      <td>1851</td>\n",
       "      <td>2072</td>\n",
       "      <td>2170</td>\n",
       "      <td>1936</td>\n",
       "      <td>2949</td>\n",
       "      <td>3582</td>\n",
       "      <td>3292</td>\n",
       "      <td>2942</td>\n",
       "    </tr>\n",
       "    <tr>\n",
       "      <th>17</th>\n",
       "      <td>절도범</td>\n",
       "      <td>소계</td>\n",
       "      <td>안산시</td>\n",
       "      <td>801</td>\n",
       "      <td>863</td>\n",
       "      <td>1253</td>\n",
       "      <td>1311</td>\n",
       "      <td>1415</td>\n",
       "      <td>1204</td>\n",
       "      <td>1627</td>\n",
       "      <td>1834</td>\n",
       "      <td>1760</td>\n",
       "      <td>2363</td>\n",
       "      <td>2480</td>\n",
       "      <td>1926</td>\n",
       "      <td>2486</td>\n",
       "      <td>3402</td>\n",
       "      <td>4429</td>\n",
       "      <td>4539</td>\n",
       "      <td>4057</td>\n",
       "    </tr>\n",
       "    <tr>\n",
       "      <th>18</th>\n",
       "      <td>절도범</td>\n",
       "      <td>소계</td>\n",
       "      <td>진주시</td>\n",
       "      <td>431</td>\n",
       "      <td>330</td>\n",
       "      <td>307</td>\n",
       "      <td>461</td>\n",
       "      <td>851</td>\n",
       "      <td>1026</td>\n",
       "      <td>1317</td>\n",
       "      <td>1192</td>\n",
       "      <td>1112</td>\n",
       "      <td>1234</td>\n",
       "      <td>1481</td>\n",
       "      <td>1227</td>\n",
       "      <td>1176</td>\n",
       "      <td>2030</td>\n",
       "      <td>1969</td>\n",
       "      <td>2033</td>\n",
       "      <td>1826</td>\n",
       "    </tr>\n",
       "    <tr>\n",
       "      <th>19</th>\n",
       "      <td>절도범</td>\n",
       "      <td>소계</td>\n",
       "      <td>고양시</td>\n",
       "      <td>223</td>\n",
       "      <td>187</td>\n",
       "      <td>262</td>\n",
       "      <td>300</td>\n",
       "      <td>985</td>\n",
       "      <td>708</td>\n",
       "      <td>3303</td>\n",
       "      <td>2957</td>\n",
       "      <td>2233</td>\n",
       "      <td>2921</td>\n",
       "      <td>2368</td>\n",
       "      <td>4928</td>\n",
       "      <td>3952</td>\n",
       "      <td>5037</td>\n",
       "      <td>5069</td>\n",
       "      <td>4544</td>\n",
       "      <td>3220</td>\n",
       "    </tr>\n",
       "    <tr>\n",
       "      <th>20</th>\n",
       "      <td>절도범</td>\n",
       "      <td>소계</td>\n",
       "      <td>제주시</td>\n",
       "      <td>789</td>\n",
       "      <td>744</td>\n",
       "      <td>747</td>\n",
       "      <td>802</td>\n",
       "      <td>1181</td>\n",
       "      <td>904</td>\n",
       "      <td>1220</td>\n",
       "      <td>1517</td>\n",
       "      <td>1099</td>\n",
       "      <td>1718</td>\n",
       "      <td>3312</td>\n",
       "      <td>4030</td>\n",
       "      <td>4382</td>\n",
       "      <td>3319</td>\n",
       "      <td>3836</td>\n",
       "      <td>3248</td>\n",
       "      <td>4560</td>\n",
       "    </tr>\n",
       "    <tr>\n",
       "      <th>21</th>\n",
       "      <td>절도범</td>\n",
       "      <td>소계</td>\n",
       "      <td>목포시</td>\n",
       "      <td>320</td>\n",
       "      <td>237</td>\n",
       "      <td>255</td>\n",
       "      <td>747</td>\n",
       "      <td>569</td>\n",
       "      <td>349</td>\n",
       "      <td>797</td>\n",
       "      <td>937</td>\n",
       "      <td>1092</td>\n",
       "      <td>1467</td>\n",
       "      <td>1131</td>\n",
       "      <td>1297</td>\n",
       "      <td>1126</td>\n",
       "      <td>1145</td>\n",
       "      <td>1247</td>\n",
       "      <td>1442</td>\n",
       "      <td>1609</td>\n",
       "    </tr>\n",
       "    <tr>\n",
       "      <th>22</th>\n",
       "      <td>절도범</td>\n",
       "      <td>소계</td>\n",
       "      <td>의정부시</td>\n",
       "      <td>332</td>\n",
       "      <td>221</td>\n",
       "      <td>269</td>\n",
       "      <td>248</td>\n",
       "      <td>345</td>\n",
       "      <td>323</td>\n",
       "      <td>803</td>\n",
       "      <td>904</td>\n",
       "      <td>1178</td>\n",
       "      <td>1577</td>\n",
       "      <td>1684</td>\n",
       "      <td>2508</td>\n",
       "      <td>3540</td>\n",
       "      <td>2718</td>\n",
       "      <td>2577</td>\n",
       "      <td>3194</td>\n",
       "      <td>2001</td>\n",
       "    </tr>\n",
       "    <tr>\n",
       "      <th>23</th>\n",
       "      <td>절도범</td>\n",
       "      <td>소계</td>\n",
       "      <td>익산시</td>\n",
       "      <td>0</td>\n",
       "      <td>0</td>\n",
       "      <td>0</td>\n",
       "      <td>254</td>\n",
       "      <td>358</td>\n",
       "      <td>321</td>\n",
       "      <td>932</td>\n",
       "      <td>1583</td>\n",
       "      <td>1092</td>\n",
       "      <td>1198</td>\n",
       "      <td>1469</td>\n",
       "      <td>1248</td>\n",
       "      <td>1277</td>\n",
       "      <td>1122</td>\n",
       "      <td>1319</td>\n",
       "      <td>1806</td>\n",
       "      <td>2442</td>\n",
       "    </tr>\n",
       "    <tr>\n",
       "      <th>24</th>\n",
       "      <td>절도범</td>\n",
       "      <td>소계</td>\n",
       "      <td>이리시</td>\n",
       "      <td>226</td>\n",
       "      <td>229</td>\n",
       "      <td>254</td>\n",
       "      <td>0</td>\n",
       "      <td>0</td>\n",
       "      <td>0</td>\n",
       "      <td>0</td>\n",
       "      <td>0</td>\n",
       "      <td>0</td>\n",
       "      <td>0</td>\n",
       "      <td>0</td>\n",
       "      <td>0</td>\n",
       "      <td>0</td>\n",
       "      <td>0</td>\n",
       "      <td>0</td>\n",
       "      <td>0</td>\n",
       "      <td>0</td>\n",
       "    </tr>\n",
       "    <tr>\n",
       "      <th>25</th>\n",
       "      <td>절도범</td>\n",
       "      <td>소계</td>\n",
       "      <td>군산시</td>\n",
       "      <td>223</td>\n",
       "      <td>314</td>\n",
       "      <td>291</td>\n",
       "      <td>351</td>\n",
       "      <td>377</td>\n",
       "      <td>335</td>\n",
       "      <td>771</td>\n",
       "      <td>1039</td>\n",
       "      <td>586</td>\n",
       "      <td>702</td>\n",
       "      <td>699</td>\n",
       "      <td>728</td>\n",
       "      <td>878</td>\n",
       "      <td>882</td>\n",
       "      <td>823</td>\n",
       "      <td>983</td>\n",
       "      <td>1230</td>\n",
       "    </tr>\n",
       "    <tr>\n",
       "      <th>26</th>\n",
       "      <td>절도범</td>\n",
       "      <td>소계</td>\n",
       "      <td>구미시</td>\n",
       "      <td>191</td>\n",
       "      <td>225</td>\n",
       "      <td>248</td>\n",
       "      <td>690</td>\n",
       "      <td>520</td>\n",
       "      <td>685</td>\n",
       "      <td>2132</td>\n",
       "      <td>1723</td>\n",
       "      <td>1419</td>\n",
       "      <td>1404</td>\n",
       "      <td>2300</td>\n",
       "      <td>2185</td>\n",
       "      <td>2165</td>\n",
       "      <td>2394</td>\n",
       "      <td>2238</td>\n",
       "      <td>2650</td>\n",
       "      <td>2724</td>\n",
       "    </tr>\n",
       "    <tr>\n",
       "      <th>27</th>\n",
       "      <td>절도범</td>\n",
       "      <td>소계</td>\n",
       "      <td>천안시</td>\n",
       "      <td>274</td>\n",
       "      <td>244</td>\n",
       "      <td>223</td>\n",
       "      <td>290</td>\n",
       "      <td>445</td>\n",
       "      <td>1011</td>\n",
       "      <td>2484</td>\n",
       "      <td>1931</td>\n",
       "      <td>1451</td>\n",
       "      <td>1207</td>\n",
       "      <td>1032</td>\n",
       "      <td>1855</td>\n",
       "      <td>3090</td>\n",
       "      <td>4547</td>\n",
       "      <td>4244</td>\n",
       "      <td>4507</td>\n",
       "      <td>4628</td>\n",
       "    </tr>\n",
       "    <tr>\n",
       "      <th>28</th>\n",
       "      <td>절도범</td>\n",
       "      <td>소계</td>\n",
       "      <td>여수시</td>\n",
       "      <td>249</td>\n",
       "      <td>238</td>\n",
       "      <td>370</td>\n",
       "      <td>541</td>\n",
       "      <td>719</td>\n",
       "      <td>858</td>\n",
       "      <td>1014</td>\n",
       "      <td>968</td>\n",
       "      <td>961</td>\n",
       "      <td>1082</td>\n",
       "      <td>820</td>\n",
       "      <td>1129</td>\n",
       "      <td>1340</td>\n",
       "      <td>1661</td>\n",
       "      <td>1448</td>\n",
       "      <td>1468</td>\n",
       "      <td>1125</td>\n",
       "    </tr>\n",
       "    <tr>\n",
       "      <th>29</th>\n",
       "      <td>절도범</td>\n",
       "      <td>소계</td>\n",
       "      <td>춘천시</td>\n",
       "      <td>258</td>\n",
       "      <td>388</td>\n",
       "      <td>294</td>\n",
       "      <td>696</td>\n",
       "      <td>992</td>\n",
       "      <td>572</td>\n",
       "      <td>1307</td>\n",
       "      <td>1079</td>\n",
       "      <td>646</td>\n",
       "      <td>460</td>\n",
       "      <td>883</td>\n",
       "      <td>883</td>\n",
       "      <td>711</td>\n",
       "      <td>977</td>\n",
       "      <td>1354</td>\n",
       "      <td>1394</td>\n",
       "      <td>1721</td>\n",
       "    </tr>\n",
       "    <tr>\n",
       "      <th>30</th>\n",
       "      <td>절도범</td>\n",
       "      <td>소계</td>\n",
       "      <td>원주시</td>\n",
       "      <td>266</td>\n",
       "      <td>357</td>\n",
       "      <td>700</td>\n",
       "      <td>438</td>\n",
       "      <td>394</td>\n",
       "      <td>362</td>\n",
       "      <td>1861</td>\n",
       "      <td>1487</td>\n",
       "      <td>722</td>\n",
       "      <td>828</td>\n",
       "      <td>851</td>\n",
       "      <td>1139</td>\n",
       "      <td>1143</td>\n",
       "      <td>1224</td>\n",
       "      <td>1570</td>\n",
       "      <td>1852</td>\n",
       "      <td>2232</td>\n",
       "    </tr>\n",
       "    <tr>\n",
       "      <th>31</th>\n",
       "      <td>절도범</td>\n",
       "      <td>소계</td>\n",
       "      <td>평택시</td>\n",
       "      <td>0</td>\n",
       "      <td>0</td>\n",
       "      <td>0</td>\n",
       "      <td>2518</td>\n",
       "      <td>2019</td>\n",
       "      <td>781</td>\n",
       "      <td>1147</td>\n",
       "      <td>1103</td>\n",
       "      <td>1018</td>\n",
       "      <td>1175</td>\n",
       "      <td>1772</td>\n",
       "      <td>1902</td>\n",
       "      <td>2085</td>\n",
       "      <td>2420</td>\n",
       "      <td>2006</td>\n",
       "      <td>3294</td>\n",
       "      <td>2523</td>\n",
       "    </tr>\n",
       "    <tr>\n",
       "      <th>32</th>\n",
       "      <td>절도범</td>\n",
       "      <td>소계</td>\n",
       "      <td>경주시</td>\n",
       "      <td>0</td>\n",
       "      <td>0</td>\n",
       "      <td>0</td>\n",
       "      <td>2015</td>\n",
       "      <td>945</td>\n",
       "      <td>546</td>\n",
       "      <td>925</td>\n",
       "      <td>799</td>\n",
       "      <td>662</td>\n",
       "      <td>691</td>\n",
       "      <td>719</td>\n",
       "      <td>565</td>\n",
       "      <td>782</td>\n",
       "      <td>1120</td>\n",
       "      <td>1789</td>\n",
       "      <td>1826</td>\n",
       "      <td>1752</td>\n",
       "    </tr>\n",
       "    <tr>\n",
       "      <th>33</th>\n",
       "      <td>절도범</td>\n",
       "      <td>소계</td>\n",
       "      <td>김해시</td>\n",
       "      <td>0</td>\n",
       "      <td>0</td>\n",
       "      <td>0</td>\n",
       "      <td>347</td>\n",
       "      <td>457</td>\n",
       "      <td>899</td>\n",
       "      <td>1917</td>\n",
       "      <td>1115</td>\n",
       "      <td>1325</td>\n",
       "      <td>1942</td>\n",
       "      <td>1573</td>\n",
       "      <td>1496</td>\n",
       "      <td>1308</td>\n",
       "      <td>1302</td>\n",
       "      <td>1209</td>\n",
       "      <td>2319</td>\n",
       "      <td>3755</td>\n",
       "    </tr>\n",
       "    <tr>\n",
       "      <th>34</th>\n",
       "      <td>절도범</td>\n",
       "      <td>소계</td>\n",
       "      <td>순천시</td>\n",
       "      <td>0</td>\n",
       "      <td>0</td>\n",
       "      <td>0</td>\n",
       "      <td>189</td>\n",
       "      <td>420</td>\n",
       "      <td>461</td>\n",
       "      <td>903</td>\n",
       "      <td>1179</td>\n",
       "      <td>1340</td>\n",
       "      <td>1705</td>\n",
       "      <td>1488</td>\n",
       "      <td>1526</td>\n",
       "      <td>1803</td>\n",
       "      <td>1709</td>\n",
       "      <td>1889</td>\n",
       "      <td>1810</td>\n",
       "      <td>2225</td>\n",
       "    </tr>\n",
       "    <tr>\n",
       "      <th>35</th>\n",
       "      <td>절도범</td>\n",
       "      <td>소계</td>\n",
       "      <td>군포시</td>\n",
       "      <td>0</td>\n",
       "      <td>0</td>\n",
       "      <td>0</td>\n",
       "      <td>23</td>\n",
       "      <td>55</td>\n",
       "      <td>104</td>\n",
       "      <td>961</td>\n",
       "      <td>832</td>\n",
       "      <td>651</td>\n",
       "      <td>813</td>\n",
       "      <td>278</td>\n",
       "      <td>512</td>\n",
       "      <td>558</td>\n",
       "      <td>505</td>\n",
       "      <td>923</td>\n",
       "      <td>1200</td>\n",
       "      <td>878</td>\n",
       "    </tr>\n",
       "    <tr>\n",
       "      <th>36</th>\n",
       "      <td>절도범</td>\n",
       "      <td>소계</td>\n",
       "      <td>남양주시</td>\n",
       "      <td>0</td>\n",
       "      <td>0</td>\n",
       "      <td>0</td>\n",
       "      <td>446</td>\n",
       "      <td>372</td>\n",
       "      <td>382</td>\n",
       "      <td>642</td>\n",
       "      <td>993</td>\n",
       "      <td>871</td>\n",
       "      <td>430</td>\n",
       "      <td>690</td>\n",
       "      <td>997</td>\n",
       "      <td>818</td>\n",
       "      <td>882</td>\n",
       "      <td>1194</td>\n",
       "      <td>2118</td>\n",
       "      <td>1485</td>\n",
       "    </tr>\n",
       "    <tr>\n",
       "      <th>37</th>\n",
       "      <td>절도범</td>\n",
       "      <td>소계</td>\n",
       "      <td>강릉시</td>\n",
       "      <td>0</td>\n",
       "      <td>0</td>\n",
       "      <td>0</td>\n",
       "      <td>97</td>\n",
       "      <td>262</td>\n",
       "      <td>320</td>\n",
       "      <td>1606</td>\n",
       "      <td>1200</td>\n",
       "      <td>873</td>\n",
       "      <td>678</td>\n",
       "      <td>598</td>\n",
       "      <td>938</td>\n",
       "      <td>740</td>\n",
       "      <td>1434</td>\n",
       "      <td>1339</td>\n",
       "      <td>1325</td>\n",
       "      <td>1233</td>\n",
       "    </tr>\n",
       "    <tr>\n",
       "      <th>38</th>\n",
       "      <td>절도범</td>\n",
       "      <td>소계</td>\n",
       "      <td>충주시</td>\n",
       "      <td>0</td>\n",
       "      <td>0</td>\n",
       "      <td>0</td>\n",
       "      <td>13</td>\n",
       "      <td>36</td>\n",
       "      <td>387</td>\n",
       "      <td>1239</td>\n",
       "      <td>881</td>\n",
       "      <td>1141</td>\n",
       "      <td>1065</td>\n",
       "      <td>563</td>\n",
       "      <td>501</td>\n",
       "      <td>1064</td>\n",
       "      <td>1413</td>\n",
       "      <td>1287</td>\n",
       "      <td>1302</td>\n",
       "      <td>1195</td>\n",
       "    </tr>\n",
       "    <tr>\n",
       "      <th>39</th>\n",
       "      <td>절도범</td>\n",
       "      <td>소계</td>\n",
       "      <td>안동시</td>\n",
       "      <td>0</td>\n",
       "      <td>0</td>\n",
       "      <td>0</td>\n",
       "      <td>120</td>\n",
       "      <td>191</td>\n",
       "      <td>323</td>\n",
       "      <td>402</td>\n",
       "      <td>257</td>\n",
       "      <td>358</td>\n",
       "      <td>477</td>\n",
       "      <td>558</td>\n",
       "      <td>461</td>\n",
       "      <td>742</td>\n",
       "      <td>698</td>\n",
       "      <td>735</td>\n",
       "      <td>959</td>\n",
       "      <td>1159</td>\n",
       "    </tr>\n",
       "    <tr>\n",
       "      <th>40</th>\n",
       "      <td>절도범</td>\n",
       "      <td>소계</td>\n",
       "      <td>경산시</td>\n",
       "      <td>0</td>\n",
       "      <td>0</td>\n",
       "      <td>0</td>\n",
       "      <td>16</td>\n",
       "      <td>135</td>\n",
       "      <td>275</td>\n",
       "      <td>741</td>\n",
       "      <td>781</td>\n",
       "      <td>608</td>\n",
       "      <td>442</td>\n",
       "      <td>381</td>\n",
       "      <td>474</td>\n",
       "      <td>309</td>\n",
       "      <td>1406</td>\n",
       "      <td>2354</td>\n",
       "      <td>1665</td>\n",
       "      <td>1732</td>\n",
       "    </tr>\n",
       "    <tr>\n",
       "      <th>41</th>\n",
       "      <td>절도범</td>\n",
       "      <td>소계</td>\n",
       "      <td>아산시</td>\n",
       "      <td>0</td>\n",
       "      <td>0</td>\n",
       "      <td>0</td>\n",
       "      <td>432</td>\n",
       "      <td>353</td>\n",
       "      <td>368</td>\n",
       "      <td>740</td>\n",
       "      <td>620</td>\n",
       "      <td>478</td>\n",
       "      <td>482</td>\n",
       "      <td>292</td>\n",
       "      <td>475</td>\n",
       "      <td>1006</td>\n",
       "      <td>791</td>\n",
       "      <td>579</td>\n",
       "      <td>693</td>\n",
       "      <td>1667</td>\n",
       "    </tr>\n",
       "    <tr>\n",
       "      <th>42</th>\n",
       "      <td>절도범</td>\n",
       "      <td>소계</td>\n",
       "      <td>거제시</td>\n",
       "      <td>0</td>\n",
       "      <td>0</td>\n",
       "      <td>0</td>\n",
       "      <td>169</td>\n",
       "      <td>217</td>\n",
       "      <td>159</td>\n",
       "      <td>622</td>\n",
       "      <td>563</td>\n",
       "      <td>228</td>\n",
       "      <td>267</td>\n",
       "      <td>462</td>\n",
       "      <td>265</td>\n",
       "      <td>230</td>\n",
       "      <td>327</td>\n",
       "      <td>393</td>\n",
       "      <td>762</td>\n",
       "      <td>1030</td>\n",
       "    </tr>\n",
       "    <tr>\n",
       "      <th>43</th>\n",
       "      <td>절도범</td>\n",
       "      <td>소계</td>\n",
       "      <td>김천시</td>\n",
       "      <td>0</td>\n",
       "      <td>0</td>\n",
       "      <td>0</td>\n",
       "      <td>104</td>\n",
       "      <td>132</td>\n",
       "      <td>189</td>\n",
       "      <td>376</td>\n",
       "      <td>278</td>\n",
       "      <td>280</td>\n",
       "      <td>284</td>\n",
       "      <td>365</td>\n",
       "      <td>482</td>\n",
       "      <td>411</td>\n",
       "      <td>485</td>\n",
       "      <td>620</td>\n",
       "      <td>732</td>\n",
       "      <td>663</td>\n",
       "    </tr>\n",
       "    <tr>\n",
       "      <th>44</th>\n",
       "      <td>절도범</td>\n",
       "      <td>소계</td>\n",
       "      <td>정읍시</td>\n",
       "      <td>0</td>\n",
       "      <td>0</td>\n",
       "      <td>0</td>\n",
       "      <td>45</td>\n",
       "      <td>113</td>\n",
       "      <td>101</td>\n",
       "      <td>175</td>\n",
       "      <td>208</td>\n",
       "      <td>163</td>\n",
       "      <td>149</td>\n",
       "      <td>167</td>\n",
       "      <td>224</td>\n",
       "      <td>228</td>\n",
       "      <td>251</td>\n",
       "      <td>523</td>\n",
       "      <td>529</td>\n",
       "      <td>482</td>\n",
       "    </tr>\n",
       "    <tr>\n",
       "      <th>45</th>\n",
       "      <td>절도범</td>\n",
       "      <td>소계</td>\n",
       "      <td>용인시</td>\n",
       "      <td>0</td>\n",
       "      <td>0</td>\n",
       "      <td>0</td>\n",
       "      <td>0</td>\n",
       "      <td>0</td>\n",
       "      <td>0</td>\n",
       "      <td>0</td>\n",
       "      <td>0</td>\n",
       "      <td>0</td>\n",
       "      <td>0</td>\n",
       "      <td>517</td>\n",
       "      <td>2168</td>\n",
       "      <td>2086</td>\n",
       "      <td>2276</td>\n",
       "      <td>2784</td>\n",
       "      <td>3501</td>\n",
       "      <td>2437</td>\n",
       "    </tr>\n",
       "    <tr>\n",
       "      <th>46</th>\n",
       "      <td>절도범</td>\n",
       "      <td>소계</td>\n",
       "      <td>시흥시</td>\n",
       "      <td>0</td>\n",
       "      <td>0</td>\n",
       "      <td>0</td>\n",
       "      <td>0</td>\n",
       "      <td>0</td>\n",
       "      <td>0</td>\n",
       "      <td>0</td>\n",
       "      <td>0</td>\n",
       "      <td>0</td>\n",
       "      <td>0</td>\n",
       "      <td>1273</td>\n",
       "      <td>1808</td>\n",
       "      <td>2253</td>\n",
       "      <td>2393</td>\n",
       "      <td>2585</td>\n",
       "      <td>3199</td>\n",
       "      <td>1756</td>\n",
       "    </tr>\n",
       "    <tr>\n",
       "      <th>47</th>\n",
       "      <td>절도범</td>\n",
       "      <td>소계</td>\n",
       "      <td>파주시</td>\n",
       "      <td>0</td>\n",
       "      <td>0</td>\n",
       "      <td>0</td>\n",
       "      <td>0</td>\n",
       "      <td>0</td>\n",
       "      <td>0</td>\n",
       "      <td>0</td>\n",
       "      <td>0</td>\n",
       "      <td>0</td>\n",
       "      <td>0</td>\n",
       "      <td>784</td>\n",
       "      <td>1417</td>\n",
       "      <td>1489</td>\n",
       "      <td>1630</td>\n",
       "      <td>1347</td>\n",
       "      <td>1615</td>\n",
       "      <td>1127</td>\n",
       "    </tr>\n",
       "    <tr>\n",
       "      <th>48</th>\n",
       "      <td>절도범</td>\n",
       "      <td>소계</td>\n",
       "      <td>양산시</td>\n",
       "      <td>0</td>\n",
       "      <td>0</td>\n",
       "      <td>0</td>\n",
       "      <td>0</td>\n",
       "      <td>0</td>\n",
       "      <td>0</td>\n",
       "      <td>0</td>\n",
       "      <td>0</td>\n",
       "      <td>0</td>\n",
       "      <td>0</td>\n",
       "      <td>465</td>\n",
       "      <td>680</td>\n",
       "      <td>820</td>\n",
       "      <td>762</td>\n",
       "      <td>776</td>\n",
       "      <td>819</td>\n",
       "      <td>1629</td>\n",
       "    </tr>\n",
       "    <tr>\n",
       "      <th>49</th>\n",
       "      <td>절도범</td>\n",
       "      <td>소계</td>\n",
       "      <td>이천시</td>\n",
       "      <td>0</td>\n",
       "      <td>0</td>\n",
       "      <td>0</td>\n",
       "      <td>0</td>\n",
       "      <td>0</td>\n",
       "      <td>0</td>\n",
       "      <td>0</td>\n",
       "      <td>0</td>\n",
       "      <td>0</td>\n",
       "      <td>0</td>\n",
       "      <td>921</td>\n",
       "      <td>971</td>\n",
       "      <td>886</td>\n",
       "      <td>651</td>\n",
       "      <td>901</td>\n",
       "      <td>1047</td>\n",
       "      <td>803</td>\n",
       "    </tr>\n",
       "    <tr>\n",
       "      <th>50</th>\n",
       "      <td>절도범</td>\n",
       "      <td>소계</td>\n",
       "      <td>구리시</td>\n",
       "      <td>0</td>\n",
       "      <td>0</td>\n",
       "      <td>0</td>\n",
       "      <td>0</td>\n",
       "      <td>0</td>\n",
       "      <td>0</td>\n",
       "      <td>0</td>\n",
       "      <td>0</td>\n",
       "      <td>0</td>\n",
       "      <td>0</td>\n",
       "      <td>759</td>\n",
       "      <td>1280</td>\n",
       "      <td>1420</td>\n",
       "      <td>1590</td>\n",
       "      <td>1581</td>\n",
       "      <td>1916</td>\n",
       "      <td>1130</td>\n",
       "    </tr>\n",
       "    <tr>\n",
       "      <th>51</th>\n",
       "      <td>절도범</td>\n",
       "      <td>소계</td>\n",
       "      <td>서산시</td>\n",
       "      <td>0</td>\n",
       "      <td>0</td>\n",
       "      <td>0</td>\n",
       "      <td>0</td>\n",
       "      <td>0</td>\n",
       "      <td>0</td>\n",
       "      <td>0</td>\n",
       "      <td>0</td>\n",
       "      <td>0</td>\n",
       "      <td>0</td>\n",
       "      <td>161</td>\n",
       "      <td>204</td>\n",
       "      <td>227</td>\n",
       "      <td>517</td>\n",
       "      <td>849</td>\n",
       "      <td>941</td>\n",
       "      <td>749</td>\n",
       "    </tr>\n",
       "    <tr>\n",
       "      <th>52</th>\n",
       "      <td>절도범</td>\n",
       "      <td>소계</td>\n",
       "      <td>제천시</td>\n",
       "      <td>0</td>\n",
       "      <td>0</td>\n",
       "      <td>0</td>\n",
       "      <td>0</td>\n",
       "      <td>0</td>\n",
       "      <td>0</td>\n",
       "      <td>0</td>\n",
       "      <td>0</td>\n",
       "      <td>0</td>\n",
       "      <td>0</td>\n",
       "      <td>612</td>\n",
       "      <td>697</td>\n",
       "      <td>547</td>\n",
       "      <td>704</td>\n",
       "      <td>621</td>\n",
       "      <td>580</td>\n",
       "      <td>579</td>\n",
       "    </tr>\n",
       "    <tr>\n",
       "      <th>53</th>\n",
       "      <td>절도범</td>\n",
       "      <td>소계</td>\n",
       "      <td>논산시</td>\n",
       "      <td>0</td>\n",
       "      <td>0</td>\n",
       "      <td>0</td>\n",
       "      <td>0</td>\n",
       "      <td>0</td>\n",
       "      <td>0</td>\n",
       "      <td>0</td>\n",
       "      <td>0</td>\n",
       "      <td>0</td>\n",
       "      <td>0</td>\n",
       "      <td>372</td>\n",
       "      <td>628</td>\n",
       "      <td>417</td>\n",
       "      <td>988</td>\n",
       "      <td>673</td>\n",
       "      <td>592</td>\n",
       "      <td>828</td>\n",
       "    </tr>\n",
       "    <tr>\n",
       "      <th>54</th>\n",
       "      <td>절도범</td>\n",
       "      <td>소계</td>\n",
       "      <td>기타도시</td>\n",
       "      <td>4756</td>\n",
       "      <td>5170</td>\n",
       "      <td>6383</td>\n",
       "      <td>5168</td>\n",
       "      <td>7233</td>\n",
       "      <td>6780</td>\n",
       "      <td>11456</td>\n",
       "      <td>9962</td>\n",
       "      <td>8546</td>\n",
       "      <td>9458</td>\n",
       "      <td>9481</td>\n",
       "      <td>13118</td>\n",
       "      <td>11575</td>\n",
       "      <td>14764</td>\n",
       "      <td>14945</td>\n",
       "      <td>18703</td>\n",
       "      <td>17406</td>\n",
       "    </tr>\n",
       "    <tr>\n",
       "      <th>55</th>\n",
       "      <td>절도범</td>\n",
       "      <td>소계</td>\n",
       "      <td>도시이외</td>\n",
       "      <td>7778</td>\n",
       "      <td>6866</td>\n",
       "      <td>6981</td>\n",
       "      <td>5814</td>\n",
       "      <td>7078</td>\n",
       "      <td>7461</td>\n",
       "      <td>12021</td>\n",
       "      <td>10006</td>\n",
       "      <td>8770</td>\n",
       "      <td>9083</td>\n",
       "      <td>8662</td>\n",
       "      <td>9745</td>\n",
       "      <td>10914</td>\n",
       "      <td>14514</td>\n",
       "      <td>16684</td>\n",
       "      <td>16085</td>\n",
       "      <td>18937</td>\n",
       "    </tr>\n",
       "    <tr>\n",
       "      <th>56</th>\n",
       "      <td>절도범</td>\n",
       "      <td>소계</td>\n",
       "      <td>기타</td>\n",
       "      <td>24</td>\n",
       "      <td>3</td>\n",
       "      <td>16</td>\n",
       "      <td>2</td>\n",
       "      <td>4</td>\n",
       "      <td>360</td>\n",
       "      <td>5629</td>\n",
       "      <td>6748</td>\n",
       "      <td>6655</td>\n",
       "      <td>6788</td>\n",
       "      <td>0</td>\n",
       "      <td>0</td>\n",
       "      <td>0</td>\n",
       "      <td>0</td>\n",
       "      <td>0</td>\n",
       "      <td>0</td>\n",
       "      <td>0</td>\n",
       "    </tr>\n",
       "  </tbody>\n",
       "</table>\n",
       "</div>"
      ],
      "text/plain": [
       "      중   소   발생장소  1994년  1995년  1996년  1997년  1998년  1999년  2000년  2001년  \\\n",
       "0   절도범  소계  서울특별시  15389  15701  14053  12883  15658  14488  35927  52309   \n",
       "1   절도범  소계  부산광역시   5564   7649   7753   8589  11352  11013  13648  12268   \n",
       "2   절도범  소계  대구광역시   3052   2886   4039   4843   5466   6256   9450   7298   \n",
       "3   절도범  소계  인천광역시   3216   2583   4874   6687   5549   3930  10997   8325   \n",
       "4   절도범  소계  광주광역시   3375   4799   5355   5807   4980   2898   7687   8112   \n",
       "5   절도범  소계  대전광역시   2454   2656   3182   4552   3923   5502   7489   6397   \n",
       "6   절도범  소계  울산광역시   1083   1289   1888   3603   2981   4040   4641   4627   \n",
       "7   절도범  소계    부천시   1201    818    988    737    947   1196   3070   3093   \n",
       "8   절도범  소계    수원시   1916   1781   1830   2299   2264   1746   2763   2997   \n",
       "9   절도범  소계    성남시    999    921   1076   1398   1692   1843   3070   2847   \n",
       "10  절도범  소계    전주시    757    763    931   1124    843    791   1454   2650   \n",
       "11  절도범  소계    안양시    973    606    743   1051   1099    919   1158   1529   \n",
       "12  절도범  소계    청주시   1272   1334   2428   2136   2116   2488   3658   3395   \n",
       "13  절도범  소계    마산시    582    781    673   1042   1361   1603   2787   2350   \n",
       "14  절도범  소계    창원시    450    694    485    570    750    884   2321   2902   \n",
       "15  절도범  소계    광명시    444    498    647    601    674    516    554    630   \n",
       "16  절도범  소계    포항시    387    335    440    494    610    728   2132   2299   \n",
       "17  절도범  소계    안산시    801    863   1253   1311   1415   1204   1627   1834   \n",
       "18  절도범  소계    진주시    431    330    307    461    851   1026   1317   1192   \n",
       "19  절도범  소계    고양시    223    187    262    300    985    708   3303   2957   \n",
       "20  절도범  소계    제주시    789    744    747    802   1181    904   1220   1517   \n",
       "21  절도범  소계    목포시    320    237    255    747    569    349    797    937   \n",
       "22  절도범  소계   의정부시    332    221    269    248    345    323    803    904   \n",
       "23  절도범  소계    익산시      0      0      0    254    358    321    932   1583   \n",
       "24  절도범  소계    이리시    226    229    254      0      0      0      0      0   \n",
       "25  절도범  소계    군산시    223    314    291    351    377    335    771   1039   \n",
       "26  절도범  소계    구미시    191    225    248    690    520    685   2132   1723   \n",
       "27  절도범  소계    천안시    274    244    223    290    445   1011   2484   1931   \n",
       "28  절도범  소계    여수시    249    238    370    541    719    858   1014    968   \n",
       "29  절도범  소계    춘천시    258    388    294    696    992    572   1307   1079   \n",
       "30  절도범  소계    원주시    266    357    700    438    394    362   1861   1487   \n",
       "31  절도범  소계    평택시      0      0      0   2518   2019    781   1147   1103   \n",
       "32  절도범  소계    경주시      0      0      0   2015    945    546    925    799   \n",
       "33  절도범  소계    김해시      0      0      0    347    457    899   1917   1115   \n",
       "34  절도범  소계    순천시      0      0      0    189    420    461    903   1179   \n",
       "35  절도범  소계    군포시      0      0      0     23     55    104    961    832   \n",
       "36  절도범  소계   남양주시      0      0      0    446    372    382    642    993   \n",
       "37  절도범  소계    강릉시      0      0      0     97    262    320   1606   1200   \n",
       "38  절도범  소계    충주시      0      0      0     13     36    387   1239    881   \n",
       "39  절도범  소계    안동시      0      0      0    120    191    323    402    257   \n",
       "40  절도범  소계    경산시      0      0      0     16    135    275    741    781   \n",
       "41  절도범  소계    아산시      0      0      0    432    353    368    740    620   \n",
       "42  절도범  소계    거제시      0      0      0    169    217    159    622    563   \n",
       "43  절도범  소계    김천시      0      0      0    104    132    189    376    278   \n",
       "44  절도범  소계    정읍시      0      0      0     45    113    101    175    208   \n",
       "45  절도범  소계    용인시      0      0      0      0      0      0      0      0   \n",
       "46  절도범  소계    시흥시      0      0      0      0      0      0      0      0   \n",
       "47  절도범  소계    파주시      0      0      0      0      0      0      0      0   \n",
       "48  절도범  소계    양산시      0      0      0      0      0      0      0      0   \n",
       "49  절도범  소계    이천시      0      0      0      0      0      0      0      0   \n",
       "50  절도범  소계    구리시      0      0      0      0      0      0      0      0   \n",
       "51  절도범  소계    서산시      0      0      0      0      0      0      0      0   \n",
       "52  절도범  소계    제천시      0      0      0      0      0      0      0      0   \n",
       "53  절도범  소계    논산시      0      0      0      0      0      0      0      0   \n",
       "54  절도범  소계   기타도시   4756   5170   6383   5168   7233   6780  11456   9962   \n",
       "55  절도범  소계   도시이외   7778   6866   6981   5814   7078   7461  12021  10006   \n",
       "56  절도범  소계     기타     24      3     16      2      4    360   5629   6748   \n",
       "\n",
       "    2002년  2003년  2004년  2005년  2006년  2007년  2008년  2009년  2010년  \n",
       "0   61444  57332  36266  34057  29264  29973  28900  37212  49396  \n",
       "1   13386  14803  11939  11244  12741  12854  14469  22077  22300  \n",
       "2    5844   6973   5615   8903   9977   8644   8857  10319  15643  \n",
       "3    9548  10007   8676  13595  13025  11227  10822  11358  10587  \n",
       "4    7585   7919   6044   9173   9489  10715  12179  12288  12631  \n",
       "5    5344   5831   4431   4937   6806   8278   9326  10697   8746  \n",
       "6    4767   4259   3446   4780   4738   8831   7521   7557   7644  \n",
       "7    2405   3018   1851   6819   7022   6678   7884   7548   6064  \n",
       "8    3135   4440   5359   5833   5348   4465   5863   7014   5909  \n",
       "9    2150   3040   1925   3761   4500   4698   4054   6388   4743  \n",
       "10   1781   2052   2014   3279   3464   2965   3361   3072   4084  \n",
       "11   1538   1613   2049   2680   2936   2812   2481   2972   2611  \n",
       "12   3088   3857   2971   3080   3334   4753   3942   3802   4232  \n",
       "13   1794   1919   1576   1786   2315   2446   2201   2128   3191  \n",
       "14   2540   3177   3004   2292   2118   2668   3447   2932   4343  \n",
       "15    933   1171   1650   1774   1673   1512   1618   2575   1786  \n",
       "16   1857   1851   2072   2170   1936   2949   3582   3292   2942  \n",
       "17   1760   2363   2480   1926   2486   3402   4429   4539   4057  \n",
       "18   1112   1234   1481   1227   1176   2030   1969   2033   1826  \n",
       "19   2233   2921   2368   4928   3952   5037   5069   4544   3220  \n",
       "20   1099   1718   3312   4030   4382   3319   3836   3248   4560  \n",
       "21   1092   1467   1131   1297   1126   1145   1247   1442   1609  \n",
       "22   1178   1577   1684   2508   3540   2718   2577   3194   2001  \n",
       "23   1092   1198   1469   1248   1277   1122   1319   1806   2442  \n",
       "24      0      0      0      0      0      0      0      0      0  \n",
       "25    586    702    699    728    878    882    823    983   1230  \n",
       "26   1419   1404   2300   2185   2165   2394   2238   2650   2724  \n",
       "27   1451   1207   1032   1855   3090   4547   4244   4507   4628  \n",
       "28    961   1082    820   1129   1340   1661   1448   1468   1125  \n",
       "29    646    460    883    883    711    977   1354   1394   1721  \n",
       "30    722    828    851   1139   1143   1224   1570   1852   2232  \n",
       "31   1018   1175   1772   1902   2085   2420   2006   3294   2523  \n",
       "32    662    691    719    565    782   1120   1789   1826   1752  \n",
       "33   1325   1942   1573   1496   1308   1302   1209   2319   3755  \n",
       "34   1340   1705   1488   1526   1803   1709   1889   1810   2225  \n",
       "35    651    813    278    512    558    505    923   1200    878  \n",
       "36    871    430    690    997    818    882   1194   2118   1485  \n",
       "37    873    678    598    938    740   1434   1339   1325   1233  \n",
       "38   1141   1065    563    501   1064   1413   1287   1302   1195  \n",
       "39    358    477    558    461    742    698    735    959   1159  \n",
       "40    608    442    381    474    309   1406   2354   1665   1732  \n",
       "41    478    482    292    475   1006    791    579    693   1667  \n",
       "42    228    267    462    265    230    327    393    762   1030  \n",
       "43    280    284    365    482    411    485    620    732    663  \n",
       "44    163    149    167    224    228    251    523    529    482  \n",
       "45      0      0    517   2168   2086   2276   2784   3501   2437  \n",
       "46      0      0   1273   1808   2253   2393   2585   3199   1756  \n",
       "47      0      0    784   1417   1489   1630   1347   1615   1127  \n",
       "48      0      0    465    680    820    762    776    819   1629  \n",
       "49      0      0    921    971    886    651    901   1047    803  \n",
       "50      0      0    759   1280   1420   1590   1581   1916   1130  \n",
       "51      0      0    161    204    227    517    849    941    749  \n",
       "52      0      0    612    697    547    704    621    580    579  \n",
       "53      0      0    372    628    417    988    673    592    828  \n",
       "54   8546   9458   9481  13118  11575  14764  14945  18703  17406  \n",
       "55   8770   9083   8662   9745  10914  14514  16684  16085  18937  \n",
       "56   6655   6788      0      0      0      0      0      0      0  "
      ]
     },
     "execution_count": 8,
     "metadata": {},
     "output_type": "execute_result"
    }
   ],
   "source": [
    "dosi_df_total = dosi_df[dosi_df[\"소\"] == \"소계\"]\n",
    "dosi_df_total"
   ]
  },
  {
   "cell_type": "code",
   "execution_count": 16,
   "metadata": {},
   "outputs": [
    {
     "data": {
      "application/vnd.plotly.v1+json": {
       "config": {
        "plotlyServerURL": "https://plot.ly"
       },
       "data": [
        {
         "hovertemplate": "발생장소=서울특별시<br>년도=%{x}<br>발생건수=%{y}<extra></extra>",
         "legendgroup": "서울특별시",
         "line": {
          "color": "#636efa",
          "dash": "solid"
         },
         "marker": {
          "symbol": "circle"
         },
         "mode": "lines+markers",
         "name": "서울특별시",
         "orientation": "v",
         "showlegend": true,
         "type": "scatter",
         "x": [
          "1994년",
          "1995년",
          "1996년",
          "1997년",
          "1998년",
          "1999년",
          "2000년",
          "2001년",
          "2002년",
          "2003년",
          "2004년",
          "2005년",
          "2006년",
          "2007년",
          "2008년",
          "2009년",
          "2010년"
         ],
         "xaxis": "x",
         "y": [
          15389,
          15701,
          14053,
          12883,
          15658,
          14488,
          35927,
          52309,
          61444,
          57332,
          36266,
          34057,
          29264,
          29973,
          28900,
          37212,
          49396
         ],
         "yaxis": "y"
        },
        {
         "hovertemplate": "발생장소=부산광역시<br>년도=%{x}<br>발생건수=%{y}<extra></extra>",
         "legendgroup": "부산광역시",
         "line": {
          "color": "#EF553B",
          "dash": "solid"
         },
         "marker": {
          "symbol": "circle"
         },
         "mode": "lines+markers",
         "name": "부산광역시",
         "orientation": "v",
         "showlegend": true,
         "type": "scatter",
         "x": [
          "1994년",
          "1995년",
          "1996년",
          "1997년",
          "1998년",
          "1999년",
          "2000년",
          "2001년",
          "2002년",
          "2003년",
          "2004년",
          "2005년",
          "2006년",
          "2007년",
          "2008년",
          "2009년",
          "2010년"
         ],
         "xaxis": "x",
         "y": [
          5564,
          7649,
          7753,
          8589,
          11352,
          11013,
          13648,
          12268,
          13386,
          14803,
          11939,
          11244,
          12741,
          12854,
          14469,
          22077,
          22300
         ],
         "yaxis": "y"
        },
        {
         "hovertemplate": "발생장소=대구광역시<br>년도=%{x}<br>발생건수=%{y}<extra></extra>",
         "legendgroup": "대구광역시",
         "line": {
          "color": "#00cc96",
          "dash": "solid"
         },
         "marker": {
          "symbol": "circle"
         },
         "mode": "lines+markers",
         "name": "대구광역시",
         "orientation": "v",
         "showlegend": true,
         "type": "scatter",
         "x": [
          "1994년",
          "1995년",
          "1996년",
          "1997년",
          "1998년",
          "1999년",
          "2000년",
          "2001년",
          "2002년",
          "2003년",
          "2004년",
          "2005년",
          "2006년",
          "2007년",
          "2008년",
          "2009년",
          "2010년"
         ],
         "xaxis": "x",
         "y": [
          3052,
          2886,
          4039,
          4843,
          5466,
          6256,
          9450,
          7298,
          5844,
          6973,
          5615,
          8903,
          9977,
          8644,
          8857,
          10319,
          15643
         ],
         "yaxis": "y"
        },
        {
         "hovertemplate": "발생장소=인천광역시<br>년도=%{x}<br>발생건수=%{y}<extra></extra>",
         "legendgroup": "인천광역시",
         "line": {
          "color": "#ab63fa",
          "dash": "solid"
         },
         "marker": {
          "symbol": "circle"
         },
         "mode": "lines+markers",
         "name": "인천광역시",
         "orientation": "v",
         "showlegend": true,
         "type": "scatter",
         "x": [
          "1994년",
          "1995년",
          "1996년",
          "1997년",
          "1998년",
          "1999년",
          "2000년",
          "2001년",
          "2002년",
          "2003년",
          "2004년",
          "2005년",
          "2006년",
          "2007년",
          "2008년",
          "2009년",
          "2010년"
         ],
         "xaxis": "x",
         "y": [
          3216,
          2583,
          4874,
          6687,
          5549,
          3930,
          10997,
          8325,
          9548,
          10007,
          8676,
          13595,
          13025,
          11227,
          10822,
          11358,
          10587
         ],
         "yaxis": "y"
        },
        {
         "hovertemplate": "발생장소=광주광역시<br>년도=%{x}<br>발생건수=%{y}<extra></extra>",
         "legendgroup": "광주광역시",
         "line": {
          "color": "#FFA15A",
          "dash": "solid"
         },
         "marker": {
          "symbol": "circle"
         },
         "mode": "lines+markers",
         "name": "광주광역시",
         "orientation": "v",
         "showlegend": true,
         "type": "scatter",
         "x": [
          "1994년",
          "1995년",
          "1996년",
          "1997년",
          "1998년",
          "1999년",
          "2000년",
          "2001년",
          "2002년",
          "2003년",
          "2004년",
          "2005년",
          "2006년",
          "2007년",
          "2008년",
          "2009년",
          "2010년"
         ],
         "xaxis": "x",
         "y": [
          3375,
          4799,
          5355,
          5807,
          4980,
          2898,
          7687,
          8112,
          7585,
          7919,
          6044,
          9173,
          9489,
          10715,
          12179,
          12288,
          12631
         ],
         "yaxis": "y"
        },
        {
         "hovertemplate": "발생장소=대전광역시<br>년도=%{x}<br>발생건수=%{y}<extra></extra>",
         "legendgroup": "대전광역시",
         "line": {
          "color": "#19d3f3",
          "dash": "solid"
         },
         "marker": {
          "symbol": "circle"
         },
         "mode": "lines+markers",
         "name": "대전광역시",
         "orientation": "v",
         "showlegend": true,
         "type": "scatter",
         "x": [
          "1994년",
          "1995년",
          "1996년",
          "1997년",
          "1998년",
          "1999년",
          "2000년",
          "2001년",
          "2002년",
          "2003년",
          "2004년",
          "2005년",
          "2006년",
          "2007년",
          "2008년",
          "2009년",
          "2010년"
         ],
         "xaxis": "x",
         "y": [
          2454,
          2656,
          3182,
          4552,
          3923,
          5502,
          7489,
          6397,
          5344,
          5831,
          4431,
          4937,
          6806,
          8278,
          9326,
          10697,
          8746
         ],
         "yaxis": "y"
        },
        {
         "hovertemplate": "발생장소=울산광역시<br>년도=%{x}<br>발생건수=%{y}<extra></extra>",
         "legendgroup": "울산광역시",
         "line": {
          "color": "#FF6692",
          "dash": "solid"
         },
         "marker": {
          "symbol": "circle"
         },
         "mode": "lines+markers",
         "name": "울산광역시",
         "orientation": "v",
         "showlegend": true,
         "type": "scatter",
         "x": [
          "1994년",
          "1995년",
          "1996년",
          "1997년",
          "1998년",
          "1999년",
          "2000년",
          "2001년",
          "2002년",
          "2003년",
          "2004년",
          "2005년",
          "2006년",
          "2007년",
          "2008년",
          "2009년",
          "2010년"
         ],
         "xaxis": "x",
         "y": [
          1083,
          1289,
          1888,
          3603,
          2981,
          4040,
          4641,
          4627,
          4767,
          4259,
          3446,
          4780,
          4738,
          8831,
          7521,
          7557,
          7644
         ],
         "yaxis": "y"
        },
        {
         "hovertemplate": "발생장소=부천시<br>년도=%{x}<br>발생건수=%{y}<extra></extra>",
         "legendgroup": "부천시",
         "line": {
          "color": "#B6E880",
          "dash": "solid"
         },
         "marker": {
          "symbol": "circle"
         },
         "mode": "lines+markers",
         "name": "부천시",
         "orientation": "v",
         "showlegend": true,
         "type": "scatter",
         "x": [
          "1994년",
          "1995년",
          "1996년",
          "1997년",
          "1998년",
          "1999년",
          "2000년",
          "2001년",
          "2002년",
          "2003년",
          "2004년",
          "2005년",
          "2006년",
          "2007년",
          "2008년",
          "2009년",
          "2010년"
         ],
         "xaxis": "x",
         "y": [
          1201,
          818,
          988,
          737,
          947,
          1196,
          3070,
          3093,
          2405,
          3018,
          1851,
          6819,
          7022,
          6678,
          7884,
          7548,
          6064
         ],
         "yaxis": "y"
        },
        {
         "hovertemplate": "발생장소=수원시<br>년도=%{x}<br>발생건수=%{y}<extra></extra>",
         "legendgroup": "수원시",
         "line": {
          "color": "#FF97FF",
          "dash": "solid"
         },
         "marker": {
          "symbol": "circle"
         },
         "mode": "lines+markers",
         "name": "수원시",
         "orientation": "v",
         "showlegend": true,
         "type": "scatter",
         "x": [
          "1994년",
          "1995년",
          "1996년",
          "1997년",
          "1998년",
          "1999년",
          "2000년",
          "2001년",
          "2002년",
          "2003년",
          "2004년",
          "2005년",
          "2006년",
          "2007년",
          "2008년",
          "2009년",
          "2010년"
         ],
         "xaxis": "x",
         "y": [
          1916,
          1781,
          1830,
          2299,
          2264,
          1746,
          2763,
          2997,
          3135,
          4440,
          5359,
          5833,
          5348,
          4465,
          5863,
          7014,
          5909
         ],
         "yaxis": "y"
        },
        {
         "hovertemplate": "발생장소=성남시<br>년도=%{x}<br>발생건수=%{y}<extra></extra>",
         "legendgroup": "성남시",
         "line": {
          "color": "#FECB52",
          "dash": "solid"
         },
         "marker": {
          "symbol": "circle"
         },
         "mode": "lines+markers",
         "name": "성남시",
         "orientation": "v",
         "showlegend": true,
         "type": "scatter",
         "x": [
          "1994년",
          "1995년",
          "1996년",
          "1997년",
          "1998년",
          "1999년",
          "2000년",
          "2001년",
          "2002년",
          "2003년",
          "2004년",
          "2005년",
          "2006년",
          "2007년",
          "2008년",
          "2009년",
          "2010년"
         ],
         "xaxis": "x",
         "y": [
          999,
          921,
          1076,
          1398,
          1692,
          1843,
          3070,
          2847,
          2150,
          3040,
          1925,
          3761,
          4500,
          4698,
          4054,
          6388,
          4743
         ],
         "yaxis": "y"
        },
        {
         "hovertemplate": "발생장소=전주시<br>년도=%{x}<br>발생건수=%{y}<extra></extra>",
         "legendgroup": "전주시",
         "line": {
          "color": "#636efa",
          "dash": "solid"
         },
         "marker": {
          "symbol": "circle"
         },
         "mode": "lines+markers",
         "name": "전주시",
         "orientation": "v",
         "showlegend": true,
         "type": "scatter",
         "x": [
          "1994년",
          "1995년",
          "1996년",
          "1997년",
          "1998년",
          "1999년",
          "2000년",
          "2001년",
          "2002년",
          "2003년",
          "2004년",
          "2005년",
          "2006년",
          "2007년",
          "2008년",
          "2009년",
          "2010년"
         ],
         "xaxis": "x",
         "y": [
          757,
          763,
          931,
          1124,
          843,
          791,
          1454,
          2650,
          1781,
          2052,
          2014,
          3279,
          3464,
          2965,
          3361,
          3072,
          4084
         ],
         "yaxis": "y"
        },
        {
         "hovertemplate": "발생장소=안양시<br>년도=%{x}<br>발생건수=%{y}<extra></extra>",
         "legendgroup": "안양시",
         "line": {
          "color": "#EF553B",
          "dash": "solid"
         },
         "marker": {
          "symbol": "circle"
         },
         "mode": "lines+markers",
         "name": "안양시",
         "orientation": "v",
         "showlegend": true,
         "type": "scatter",
         "x": [
          "1994년",
          "1995년",
          "1996년",
          "1997년",
          "1998년",
          "1999년",
          "2000년",
          "2001년",
          "2002년",
          "2003년",
          "2004년",
          "2005년",
          "2006년",
          "2007년",
          "2008년",
          "2009년",
          "2010년"
         ],
         "xaxis": "x",
         "y": [
          973,
          606,
          743,
          1051,
          1099,
          919,
          1158,
          1529,
          1538,
          1613,
          2049,
          2680,
          2936,
          2812,
          2481,
          2972,
          2611
         ],
         "yaxis": "y"
        },
        {
         "hovertemplate": "발생장소=청주시<br>년도=%{x}<br>발생건수=%{y}<extra></extra>",
         "legendgroup": "청주시",
         "line": {
          "color": "#00cc96",
          "dash": "solid"
         },
         "marker": {
          "symbol": "circle"
         },
         "mode": "lines+markers",
         "name": "청주시",
         "orientation": "v",
         "showlegend": true,
         "type": "scatter",
         "x": [
          "1994년",
          "1995년",
          "1996년",
          "1997년",
          "1998년",
          "1999년",
          "2000년",
          "2001년",
          "2002년",
          "2003년",
          "2004년",
          "2005년",
          "2006년",
          "2007년",
          "2008년",
          "2009년",
          "2010년"
         ],
         "xaxis": "x",
         "y": [
          1272,
          1334,
          2428,
          2136,
          2116,
          2488,
          3658,
          3395,
          3088,
          3857,
          2971,
          3080,
          3334,
          4753,
          3942,
          3802,
          4232
         ],
         "yaxis": "y"
        },
        {
         "hovertemplate": "발생장소=마산시<br>년도=%{x}<br>발생건수=%{y}<extra></extra>",
         "legendgroup": "마산시",
         "line": {
          "color": "#ab63fa",
          "dash": "solid"
         },
         "marker": {
          "symbol": "circle"
         },
         "mode": "lines+markers",
         "name": "마산시",
         "orientation": "v",
         "showlegend": true,
         "type": "scatter",
         "x": [
          "1994년",
          "1995년",
          "1996년",
          "1997년",
          "1998년",
          "1999년",
          "2000년",
          "2001년",
          "2002년",
          "2003년",
          "2004년",
          "2005년",
          "2006년",
          "2007년",
          "2008년",
          "2009년",
          "2010년"
         ],
         "xaxis": "x",
         "y": [
          582,
          781,
          673,
          1042,
          1361,
          1603,
          2787,
          2350,
          1794,
          1919,
          1576,
          1786,
          2315,
          2446,
          2201,
          2128,
          3191
         ],
         "yaxis": "y"
        },
        {
         "hovertemplate": "발생장소=창원시<br>년도=%{x}<br>발생건수=%{y}<extra></extra>",
         "legendgroup": "창원시",
         "line": {
          "color": "#FFA15A",
          "dash": "solid"
         },
         "marker": {
          "symbol": "circle"
         },
         "mode": "lines+markers",
         "name": "창원시",
         "orientation": "v",
         "showlegend": true,
         "type": "scatter",
         "x": [
          "1994년",
          "1995년",
          "1996년",
          "1997년",
          "1998년",
          "1999년",
          "2000년",
          "2001년",
          "2002년",
          "2003년",
          "2004년",
          "2005년",
          "2006년",
          "2007년",
          "2008년",
          "2009년",
          "2010년"
         ],
         "xaxis": "x",
         "y": [
          450,
          694,
          485,
          570,
          750,
          884,
          2321,
          2902,
          2540,
          3177,
          3004,
          2292,
          2118,
          2668,
          3447,
          2932,
          4343
         ],
         "yaxis": "y"
        },
        {
         "hovertemplate": "발생장소=광명시<br>년도=%{x}<br>발생건수=%{y}<extra></extra>",
         "legendgroup": "광명시",
         "line": {
          "color": "#19d3f3",
          "dash": "solid"
         },
         "marker": {
          "symbol": "circle"
         },
         "mode": "lines+markers",
         "name": "광명시",
         "orientation": "v",
         "showlegend": true,
         "type": "scatter",
         "x": [
          "1994년",
          "1995년",
          "1996년",
          "1997년",
          "1998년",
          "1999년",
          "2000년",
          "2001년",
          "2002년",
          "2003년",
          "2004년",
          "2005년",
          "2006년",
          "2007년",
          "2008년",
          "2009년",
          "2010년"
         ],
         "xaxis": "x",
         "y": [
          444,
          498,
          647,
          601,
          674,
          516,
          554,
          630,
          933,
          1171,
          1650,
          1774,
          1673,
          1512,
          1618,
          2575,
          1786
         ],
         "yaxis": "y"
        },
        {
         "hovertemplate": "발생장소=포항시<br>년도=%{x}<br>발생건수=%{y}<extra></extra>",
         "legendgroup": "포항시",
         "line": {
          "color": "#FF6692",
          "dash": "solid"
         },
         "marker": {
          "symbol": "circle"
         },
         "mode": "lines+markers",
         "name": "포항시",
         "orientation": "v",
         "showlegend": true,
         "type": "scatter",
         "x": [
          "1994년",
          "1995년",
          "1996년",
          "1997년",
          "1998년",
          "1999년",
          "2000년",
          "2001년",
          "2002년",
          "2003년",
          "2004년",
          "2005년",
          "2006년",
          "2007년",
          "2008년",
          "2009년",
          "2010년"
         ],
         "xaxis": "x",
         "y": [
          387,
          335,
          440,
          494,
          610,
          728,
          2132,
          2299,
          1857,
          1851,
          2072,
          2170,
          1936,
          2949,
          3582,
          3292,
          2942
         ],
         "yaxis": "y"
        },
        {
         "hovertemplate": "발생장소=안산시<br>년도=%{x}<br>발생건수=%{y}<extra></extra>",
         "legendgroup": "안산시",
         "line": {
          "color": "#B6E880",
          "dash": "solid"
         },
         "marker": {
          "symbol": "circle"
         },
         "mode": "lines+markers",
         "name": "안산시",
         "orientation": "v",
         "showlegend": true,
         "type": "scatter",
         "x": [
          "1994년",
          "1995년",
          "1996년",
          "1997년",
          "1998년",
          "1999년",
          "2000년",
          "2001년",
          "2002년",
          "2003년",
          "2004년",
          "2005년",
          "2006년",
          "2007년",
          "2008년",
          "2009년",
          "2010년"
         ],
         "xaxis": "x",
         "y": [
          801,
          863,
          1253,
          1311,
          1415,
          1204,
          1627,
          1834,
          1760,
          2363,
          2480,
          1926,
          2486,
          3402,
          4429,
          4539,
          4057
         ],
         "yaxis": "y"
        },
        {
         "hovertemplate": "발생장소=진주시<br>년도=%{x}<br>발생건수=%{y}<extra></extra>",
         "legendgroup": "진주시",
         "line": {
          "color": "#FF97FF",
          "dash": "solid"
         },
         "marker": {
          "symbol": "circle"
         },
         "mode": "lines+markers",
         "name": "진주시",
         "orientation": "v",
         "showlegend": true,
         "type": "scatter",
         "x": [
          "1994년",
          "1995년",
          "1996년",
          "1997년",
          "1998년",
          "1999년",
          "2000년",
          "2001년",
          "2002년",
          "2003년",
          "2004년",
          "2005년",
          "2006년",
          "2007년",
          "2008년",
          "2009년",
          "2010년"
         ],
         "xaxis": "x",
         "y": [
          431,
          330,
          307,
          461,
          851,
          1026,
          1317,
          1192,
          1112,
          1234,
          1481,
          1227,
          1176,
          2030,
          1969,
          2033,
          1826
         ],
         "yaxis": "y"
        },
        {
         "hovertemplate": "발생장소=고양시<br>년도=%{x}<br>발생건수=%{y}<extra></extra>",
         "legendgroup": "고양시",
         "line": {
          "color": "#FECB52",
          "dash": "solid"
         },
         "marker": {
          "symbol": "circle"
         },
         "mode": "lines+markers",
         "name": "고양시",
         "orientation": "v",
         "showlegend": true,
         "type": "scatter",
         "x": [
          "1994년",
          "1995년",
          "1996년",
          "1997년",
          "1998년",
          "1999년",
          "2000년",
          "2001년",
          "2002년",
          "2003년",
          "2004년",
          "2005년",
          "2006년",
          "2007년",
          "2008년",
          "2009년",
          "2010년"
         ],
         "xaxis": "x",
         "y": [
          223,
          187,
          262,
          300,
          985,
          708,
          3303,
          2957,
          2233,
          2921,
          2368,
          4928,
          3952,
          5037,
          5069,
          4544,
          3220
         ],
         "yaxis": "y"
        },
        {
         "hovertemplate": "발생장소=제주시<br>년도=%{x}<br>발생건수=%{y}<extra></extra>",
         "legendgroup": "제주시",
         "line": {
          "color": "#636efa",
          "dash": "solid"
         },
         "marker": {
          "symbol": "circle"
         },
         "mode": "lines+markers",
         "name": "제주시",
         "orientation": "v",
         "showlegend": true,
         "type": "scatter",
         "x": [
          "1994년",
          "1995년",
          "1996년",
          "1997년",
          "1998년",
          "1999년",
          "2000년",
          "2001년",
          "2002년",
          "2003년",
          "2004년",
          "2005년",
          "2006년",
          "2007년",
          "2008년",
          "2009년",
          "2010년"
         ],
         "xaxis": "x",
         "y": [
          789,
          744,
          747,
          802,
          1181,
          904,
          1220,
          1517,
          1099,
          1718,
          3312,
          4030,
          4382,
          3319,
          3836,
          3248,
          4560
         ],
         "yaxis": "y"
        },
        {
         "hovertemplate": "발생장소=목포시<br>년도=%{x}<br>발생건수=%{y}<extra></extra>",
         "legendgroup": "목포시",
         "line": {
          "color": "#EF553B",
          "dash": "solid"
         },
         "marker": {
          "symbol": "circle"
         },
         "mode": "lines+markers",
         "name": "목포시",
         "orientation": "v",
         "showlegend": true,
         "type": "scatter",
         "x": [
          "1994년",
          "1995년",
          "1996년",
          "1997년",
          "1998년",
          "1999년",
          "2000년",
          "2001년",
          "2002년",
          "2003년",
          "2004년",
          "2005년",
          "2006년",
          "2007년",
          "2008년",
          "2009년",
          "2010년"
         ],
         "xaxis": "x",
         "y": [
          320,
          237,
          255,
          747,
          569,
          349,
          797,
          937,
          1092,
          1467,
          1131,
          1297,
          1126,
          1145,
          1247,
          1442,
          1609
         ],
         "yaxis": "y"
        },
        {
         "hovertemplate": "발생장소=의정부시<br>년도=%{x}<br>발생건수=%{y}<extra></extra>",
         "legendgroup": "의정부시",
         "line": {
          "color": "#00cc96",
          "dash": "solid"
         },
         "marker": {
          "symbol": "circle"
         },
         "mode": "lines+markers",
         "name": "의정부시",
         "orientation": "v",
         "showlegend": true,
         "type": "scatter",
         "x": [
          "1994년",
          "1995년",
          "1996년",
          "1997년",
          "1998년",
          "1999년",
          "2000년",
          "2001년",
          "2002년",
          "2003년",
          "2004년",
          "2005년",
          "2006년",
          "2007년",
          "2008년",
          "2009년",
          "2010년"
         ],
         "xaxis": "x",
         "y": [
          332,
          221,
          269,
          248,
          345,
          323,
          803,
          904,
          1178,
          1577,
          1684,
          2508,
          3540,
          2718,
          2577,
          3194,
          2001
         ],
         "yaxis": "y"
        },
        {
         "hovertemplate": "발생장소=익산시<br>년도=%{x}<br>발생건수=%{y}<extra></extra>",
         "legendgroup": "익산시",
         "line": {
          "color": "#ab63fa",
          "dash": "solid"
         },
         "marker": {
          "symbol": "circle"
         },
         "mode": "lines+markers",
         "name": "익산시",
         "orientation": "v",
         "showlegend": true,
         "type": "scatter",
         "x": [
          "1994년",
          "1995년",
          "1996년",
          "1997년",
          "1998년",
          "1999년",
          "2000년",
          "2001년",
          "2002년",
          "2003년",
          "2004년",
          "2005년",
          "2006년",
          "2007년",
          "2008년",
          "2009년",
          "2010년"
         ],
         "xaxis": "x",
         "y": [
          0,
          0,
          0,
          254,
          358,
          321,
          932,
          1583,
          1092,
          1198,
          1469,
          1248,
          1277,
          1122,
          1319,
          1806,
          2442
         ],
         "yaxis": "y"
        },
        {
         "hovertemplate": "발생장소=이리시<br>년도=%{x}<br>발생건수=%{y}<extra></extra>",
         "legendgroup": "이리시",
         "line": {
          "color": "#FFA15A",
          "dash": "solid"
         },
         "marker": {
          "symbol": "circle"
         },
         "mode": "lines+markers",
         "name": "이리시",
         "orientation": "v",
         "showlegend": true,
         "type": "scatter",
         "x": [
          "1994년",
          "1995년",
          "1996년",
          "1997년",
          "1998년",
          "1999년",
          "2000년",
          "2001년",
          "2002년",
          "2003년",
          "2004년",
          "2005년",
          "2006년",
          "2007년",
          "2008년",
          "2009년",
          "2010년"
         ],
         "xaxis": "x",
         "y": [
          226,
          229,
          254,
          0,
          0,
          0,
          0,
          0,
          0,
          0,
          0,
          0,
          0,
          0,
          0,
          0,
          0
         ],
         "yaxis": "y"
        },
        {
         "hovertemplate": "발생장소=군산시<br>년도=%{x}<br>발생건수=%{y}<extra></extra>",
         "legendgroup": "군산시",
         "line": {
          "color": "#19d3f3",
          "dash": "solid"
         },
         "marker": {
          "symbol": "circle"
         },
         "mode": "lines+markers",
         "name": "군산시",
         "orientation": "v",
         "showlegend": true,
         "type": "scatter",
         "x": [
          "1994년",
          "1995년",
          "1996년",
          "1997년",
          "1998년",
          "1999년",
          "2000년",
          "2001년",
          "2002년",
          "2003년",
          "2004년",
          "2005년",
          "2006년",
          "2007년",
          "2008년",
          "2009년",
          "2010년"
         ],
         "xaxis": "x",
         "y": [
          223,
          314,
          291,
          351,
          377,
          335,
          771,
          1039,
          586,
          702,
          699,
          728,
          878,
          882,
          823,
          983,
          1230
         ],
         "yaxis": "y"
        },
        {
         "hovertemplate": "발생장소=구미시<br>년도=%{x}<br>발생건수=%{y}<extra></extra>",
         "legendgroup": "구미시",
         "line": {
          "color": "#FF6692",
          "dash": "solid"
         },
         "marker": {
          "symbol": "circle"
         },
         "mode": "lines+markers",
         "name": "구미시",
         "orientation": "v",
         "showlegend": true,
         "type": "scatter",
         "x": [
          "1994년",
          "1995년",
          "1996년",
          "1997년",
          "1998년",
          "1999년",
          "2000년",
          "2001년",
          "2002년",
          "2003년",
          "2004년",
          "2005년",
          "2006년",
          "2007년",
          "2008년",
          "2009년",
          "2010년"
         ],
         "xaxis": "x",
         "y": [
          191,
          225,
          248,
          690,
          520,
          685,
          2132,
          1723,
          1419,
          1404,
          2300,
          2185,
          2165,
          2394,
          2238,
          2650,
          2724
         ],
         "yaxis": "y"
        },
        {
         "hovertemplate": "발생장소=천안시<br>년도=%{x}<br>발생건수=%{y}<extra></extra>",
         "legendgroup": "천안시",
         "line": {
          "color": "#B6E880",
          "dash": "solid"
         },
         "marker": {
          "symbol": "circle"
         },
         "mode": "lines+markers",
         "name": "천안시",
         "orientation": "v",
         "showlegend": true,
         "type": "scatter",
         "x": [
          "1994년",
          "1995년",
          "1996년",
          "1997년",
          "1998년",
          "1999년",
          "2000년",
          "2001년",
          "2002년",
          "2003년",
          "2004년",
          "2005년",
          "2006년",
          "2007년",
          "2008년",
          "2009년",
          "2010년"
         ],
         "xaxis": "x",
         "y": [
          274,
          244,
          223,
          290,
          445,
          1011,
          2484,
          1931,
          1451,
          1207,
          1032,
          1855,
          3090,
          4547,
          4244,
          4507,
          4628
         ],
         "yaxis": "y"
        },
        {
         "hovertemplate": "발생장소=여수시<br>년도=%{x}<br>발생건수=%{y}<extra></extra>",
         "legendgroup": "여수시",
         "line": {
          "color": "#FF97FF",
          "dash": "solid"
         },
         "marker": {
          "symbol": "circle"
         },
         "mode": "lines+markers",
         "name": "여수시",
         "orientation": "v",
         "showlegend": true,
         "type": "scatter",
         "x": [
          "1994년",
          "1995년",
          "1996년",
          "1997년",
          "1998년",
          "1999년",
          "2000년",
          "2001년",
          "2002년",
          "2003년",
          "2004년",
          "2005년",
          "2006년",
          "2007년",
          "2008년",
          "2009년",
          "2010년"
         ],
         "xaxis": "x",
         "y": [
          249,
          238,
          370,
          541,
          719,
          858,
          1014,
          968,
          961,
          1082,
          820,
          1129,
          1340,
          1661,
          1448,
          1468,
          1125
         ],
         "yaxis": "y"
        },
        {
         "hovertemplate": "발생장소=춘천시<br>년도=%{x}<br>발생건수=%{y}<extra></extra>",
         "legendgroup": "춘천시",
         "line": {
          "color": "#FECB52",
          "dash": "solid"
         },
         "marker": {
          "symbol": "circle"
         },
         "mode": "lines+markers",
         "name": "춘천시",
         "orientation": "v",
         "showlegend": true,
         "type": "scatter",
         "x": [
          "1994년",
          "1995년",
          "1996년",
          "1997년",
          "1998년",
          "1999년",
          "2000년",
          "2001년",
          "2002년",
          "2003년",
          "2004년",
          "2005년",
          "2006년",
          "2007년",
          "2008년",
          "2009년",
          "2010년"
         ],
         "xaxis": "x",
         "y": [
          258,
          388,
          294,
          696,
          992,
          572,
          1307,
          1079,
          646,
          460,
          883,
          883,
          711,
          977,
          1354,
          1394,
          1721
         ],
         "yaxis": "y"
        },
        {
         "hovertemplate": "발생장소=원주시<br>년도=%{x}<br>발생건수=%{y}<extra></extra>",
         "legendgroup": "원주시",
         "line": {
          "color": "#636efa",
          "dash": "solid"
         },
         "marker": {
          "symbol": "circle"
         },
         "mode": "lines+markers",
         "name": "원주시",
         "orientation": "v",
         "showlegend": true,
         "type": "scatter",
         "x": [
          "1994년",
          "1995년",
          "1996년",
          "1997년",
          "1998년",
          "1999년",
          "2000년",
          "2001년",
          "2002년",
          "2003년",
          "2004년",
          "2005년",
          "2006년",
          "2007년",
          "2008년",
          "2009년",
          "2010년"
         ],
         "xaxis": "x",
         "y": [
          266,
          357,
          700,
          438,
          394,
          362,
          1861,
          1487,
          722,
          828,
          851,
          1139,
          1143,
          1224,
          1570,
          1852,
          2232
         ],
         "yaxis": "y"
        },
        {
         "hovertemplate": "발생장소=평택시<br>년도=%{x}<br>발생건수=%{y}<extra></extra>",
         "legendgroup": "평택시",
         "line": {
          "color": "#EF553B",
          "dash": "solid"
         },
         "marker": {
          "symbol": "circle"
         },
         "mode": "lines+markers",
         "name": "평택시",
         "orientation": "v",
         "showlegend": true,
         "type": "scatter",
         "x": [
          "1994년",
          "1995년",
          "1996년",
          "1997년",
          "1998년",
          "1999년",
          "2000년",
          "2001년",
          "2002년",
          "2003년",
          "2004년",
          "2005년",
          "2006년",
          "2007년",
          "2008년",
          "2009년",
          "2010년"
         ],
         "xaxis": "x",
         "y": [
          0,
          0,
          0,
          2518,
          2019,
          781,
          1147,
          1103,
          1018,
          1175,
          1772,
          1902,
          2085,
          2420,
          2006,
          3294,
          2523
         ],
         "yaxis": "y"
        },
        {
         "hovertemplate": "발생장소=경주시<br>년도=%{x}<br>발생건수=%{y}<extra></extra>",
         "legendgroup": "경주시",
         "line": {
          "color": "#00cc96",
          "dash": "solid"
         },
         "marker": {
          "symbol": "circle"
         },
         "mode": "lines+markers",
         "name": "경주시",
         "orientation": "v",
         "showlegend": true,
         "type": "scatter",
         "x": [
          "1994년",
          "1995년",
          "1996년",
          "1997년",
          "1998년",
          "1999년",
          "2000년",
          "2001년",
          "2002년",
          "2003년",
          "2004년",
          "2005년",
          "2006년",
          "2007년",
          "2008년",
          "2009년",
          "2010년"
         ],
         "xaxis": "x",
         "y": [
          0,
          0,
          0,
          2015,
          945,
          546,
          925,
          799,
          662,
          691,
          719,
          565,
          782,
          1120,
          1789,
          1826,
          1752
         ],
         "yaxis": "y"
        },
        {
         "hovertemplate": "발생장소=김해시<br>년도=%{x}<br>발생건수=%{y}<extra></extra>",
         "legendgroup": "김해시",
         "line": {
          "color": "#ab63fa",
          "dash": "solid"
         },
         "marker": {
          "symbol": "circle"
         },
         "mode": "lines+markers",
         "name": "김해시",
         "orientation": "v",
         "showlegend": true,
         "type": "scatter",
         "x": [
          "1994년",
          "1995년",
          "1996년",
          "1997년",
          "1998년",
          "1999년",
          "2000년",
          "2001년",
          "2002년",
          "2003년",
          "2004년",
          "2005년",
          "2006년",
          "2007년",
          "2008년",
          "2009년",
          "2010년"
         ],
         "xaxis": "x",
         "y": [
          0,
          0,
          0,
          347,
          457,
          899,
          1917,
          1115,
          1325,
          1942,
          1573,
          1496,
          1308,
          1302,
          1209,
          2319,
          3755
         ],
         "yaxis": "y"
        },
        {
         "hovertemplate": "발생장소=순천시<br>년도=%{x}<br>발생건수=%{y}<extra></extra>",
         "legendgroup": "순천시",
         "line": {
          "color": "#FFA15A",
          "dash": "solid"
         },
         "marker": {
          "symbol": "circle"
         },
         "mode": "lines+markers",
         "name": "순천시",
         "orientation": "v",
         "showlegend": true,
         "type": "scatter",
         "x": [
          "1994년",
          "1995년",
          "1996년",
          "1997년",
          "1998년",
          "1999년",
          "2000년",
          "2001년",
          "2002년",
          "2003년",
          "2004년",
          "2005년",
          "2006년",
          "2007년",
          "2008년",
          "2009년",
          "2010년"
         ],
         "xaxis": "x",
         "y": [
          0,
          0,
          0,
          189,
          420,
          461,
          903,
          1179,
          1340,
          1705,
          1488,
          1526,
          1803,
          1709,
          1889,
          1810,
          2225
         ],
         "yaxis": "y"
        },
        {
         "hovertemplate": "발생장소=군포시<br>년도=%{x}<br>발생건수=%{y}<extra></extra>",
         "legendgroup": "군포시",
         "line": {
          "color": "#19d3f3",
          "dash": "solid"
         },
         "marker": {
          "symbol": "circle"
         },
         "mode": "lines+markers",
         "name": "군포시",
         "orientation": "v",
         "showlegend": true,
         "type": "scatter",
         "x": [
          "1994년",
          "1995년",
          "1996년",
          "1997년",
          "1998년",
          "1999년",
          "2000년",
          "2001년",
          "2002년",
          "2003년",
          "2004년",
          "2005년",
          "2006년",
          "2007년",
          "2008년",
          "2009년",
          "2010년"
         ],
         "xaxis": "x",
         "y": [
          0,
          0,
          0,
          23,
          55,
          104,
          961,
          832,
          651,
          813,
          278,
          512,
          558,
          505,
          923,
          1200,
          878
         ],
         "yaxis": "y"
        },
        {
         "hovertemplate": "발생장소=남양주시<br>년도=%{x}<br>발생건수=%{y}<extra></extra>",
         "legendgroup": "남양주시",
         "line": {
          "color": "#FF6692",
          "dash": "solid"
         },
         "marker": {
          "symbol": "circle"
         },
         "mode": "lines+markers",
         "name": "남양주시",
         "orientation": "v",
         "showlegend": true,
         "type": "scatter",
         "x": [
          "1994년",
          "1995년",
          "1996년",
          "1997년",
          "1998년",
          "1999년",
          "2000년",
          "2001년",
          "2002년",
          "2003년",
          "2004년",
          "2005년",
          "2006년",
          "2007년",
          "2008년",
          "2009년",
          "2010년"
         ],
         "xaxis": "x",
         "y": [
          0,
          0,
          0,
          446,
          372,
          382,
          642,
          993,
          871,
          430,
          690,
          997,
          818,
          882,
          1194,
          2118,
          1485
         ],
         "yaxis": "y"
        },
        {
         "hovertemplate": "발생장소=강릉시<br>년도=%{x}<br>발생건수=%{y}<extra></extra>",
         "legendgroup": "강릉시",
         "line": {
          "color": "#B6E880",
          "dash": "solid"
         },
         "marker": {
          "symbol": "circle"
         },
         "mode": "lines+markers",
         "name": "강릉시",
         "orientation": "v",
         "showlegend": true,
         "type": "scatter",
         "x": [
          "1994년",
          "1995년",
          "1996년",
          "1997년",
          "1998년",
          "1999년",
          "2000년",
          "2001년",
          "2002년",
          "2003년",
          "2004년",
          "2005년",
          "2006년",
          "2007년",
          "2008년",
          "2009년",
          "2010년"
         ],
         "xaxis": "x",
         "y": [
          0,
          0,
          0,
          97,
          262,
          320,
          1606,
          1200,
          873,
          678,
          598,
          938,
          740,
          1434,
          1339,
          1325,
          1233
         ],
         "yaxis": "y"
        },
        {
         "hovertemplate": "발생장소=충주시<br>년도=%{x}<br>발생건수=%{y}<extra></extra>",
         "legendgroup": "충주시",
         "line": {
          "color": "#FF97FF",
          "dash": "solid"
         },
         "marker": {
          "symbol": "circle"
         },
         "mode": "lines+markers",
         "name": "충주시",
         "orientation": "v",
         "showlegend": true,
         "type": "scatter",
         "x": [
          "1994년",
          "1995년",
          "1996년",
          "1997년",
          "1998년",
          "1999년",
          "2000년",
          "2001년",
          "2002년",
          "2003년",
          "2004년",
          "2005년",
          "2006년",
          "2007년",
          "2008년",
          "2009년",
          "2010년"
         ],
         "xaxis": "x",
         "y": [
          0,
          0,
          0,
          13,
          36,
          387,
          1239,
          881,
          1141,
          1065,
          563,
          501,
          1064,
          1413,
          1287,
          1302,
          1195
         ],
         "yaxis": "y"
        },
        {
         "hovertemplate": "발생장소=안동시<br>년도=%{x}<br>발생건수=%{y}<extra></extra>",
         "legendgroup": "안동시",
         "line": {
          "color": "#FECB52",
          "dash": "solid"
         },
         "marker": {
          "symbol": "circle"
         },
         "mode": "lines+markers",
         "name": "안동시",
         "orientation": "v",
         "showlegend": true,
         "type": "scatter",
         "x": [
          "1994년",
          "1995년",
          "1996년",
          "1997년",
          "1998년",
          "1999년",
          "2000년",
          "2001년",
          "2002년",
          "2003년",
          "2004년",
          "2005년",
          "2006년",
          "2007년",
          "2008년",
          "2009년",
          "2010년"
         ],
         "xaxis": "x",
         "y": [
          0,
          0,
          0,
          120,
          191,
          323,
          402,
          257,
          358,
          477,
          558,
          461,
          742,
          698,
          735,
          959,
          1159
         ],
         "yaxis": "y"
        },
        {
         "hovertemplate": "발생장소=경산시<br>년도=%{x}<br>발생건수=%{y}<extra></extra>",
         "legendgroup": "경산시",
         "line": {
          "color": "#636efa",
          "dash": "solid"
         },
         "marker": {
          "symbol": "circle"
         },
         "mode": "lines+markers",
         "name": "경산시",
         "orientation": "v",
         "showlegend": true,
         "type": "scatter",
         "x": [
          "1994년",
          "1995년",
          "1996년",
          "1997년",
          "1998년",
          "1999년",
          "2000년",
          "2001년",
          "2002년",
          "2003년",
          "2004년",
          "2005년",
          "2006년",
          "2007년",
          "2008년",
          "2009년",
          "2010년"
         ],
         "xaxis": "x",
         "y": [
          0,
          0,
          0,
          16,
          135,
          275,
          741,
          781,
          608,
          442,
          381,
          474,
          309,
          1406,
          2354,
          1665,
          1732
         ],
         "yaxis": "y"
        },
        {
         "hovertemplate": "발생장소=아산시<br>년도=%{x}<br>발생건수=%{y}<extra></extra>",
         "legendgroup": "아산시",
         "line": {
          "color": "#EF553B",
          "dash": "solid"
         },
         "marker": {
          "symbol": "circle"
         },
         "mode": "lines+markers",
         "name": "아산시",
         "orientation": "v",
         "showlegend": true,
         "type": "scatter",
         "x": [
          "1994년",
          "1995년",
          "1996년",
          "1997년",
          "1998년",
          "1999년",
          "2000년",
          "2001년",
          "2002년",
          "2003년",
          "2004년",
          "2005년",
          "2006년",
          "2007년",
          "2008년",
          "2009년",
          "2010년"
         ],
         "xaxis": "x",
         "y": [
          0,
          0,
          0,
          432,
          353,
          368,
          740,
          620,
          478,
          482,
          292,
          475,
          1006,
          791,
          579,
          693,
          1667
         ],
         "yaxis": "y"
        },
        {
         "hovertemplate": "발생장소=거제시<br>년도=%{x}<br>발생건수=%{y}<extra></extra>",
         "legendgroup": "거제시",
         "line": {
          "color": "#00cc96",
          "dash": "solid"
         },
         "marker": {
          "symbol": "circle"
         },
         "mode": "lines+markers",
         "name": "거제시",
         "orientation": "v",
         "showlegend": true,
         "type": "scatter",
         "x": [
          "1994년",
          "1995년",
          "1996년",
          "1997년",
          "1998년",
          "1999년",
          "2000년",
          "2001년",
          "2002년",
          "2003년",
          "2004년",
          "2005년",
          "2006년",
          "2007년",
          "2008년",
          "2009년",
          "2010년"
         ],
         "xaxis": "x",
         "y": [
          0,
          0,
          0,
          169,
          217,
          159,
          622,
          563,
          228,
          267,
          462,
          265,
          230,
          327,
          393,
          762,
          1030
         ],
         "yaxis": "y"
        },
        {
         "hovertemplate": "발생장소=김천시<br>년도=%{x}<br>발생건수=%{y}<extra></extra>",
         "legendgroup": "김천시",
         "line": {
          "color": "#ab63fa",
          "dash": "solid"
         },
         "marker": {
          "symbol": "circle"
         },
         "mode": "lines+markers",
         "name": "김천시",
         "orientation": "v",
         "showlegend": true,
         "type": "scatter",
         "x": [
          "1994년",
          "1995년",
          "1996년",
          "1997년",
          "1998년",
          "1999년",
          "2000년",
          "2001년",
          "2002년",
          "2003년",
          "2004년",
          "2005년",
          "2006년",
          "2007년",
          "2008년",
          "2009년",
          "2010년"
         ],
         "xaxis": "x",
         "y": [
          0,
          0,
          0,
          104,
          132,
          189,
          376,
          278,
          280,
          284,
          365,
          482,
          411,
          485,
          620,
          732,
          663
         ],
         "yaxis": "y"
        },
        {
         "hovertemplate": "발생장소=정읍시<br>년도=%{x}<br>발생건수=%{y}<extra></extra>",
         "legendgroup": "정읍시",
         "line": {
          "color": "#FFA15A",
          "dash": "solid"
         },
         "marker": {
          "symbol": "circle"
         },
         "mode": "lines+markers",
         "name": "정읍시",
         "orientation": "v",
         "showlegend": true,
         "type": "scatter",
         "x": [
          "1994년",
          "1995년",
          "1996년",
          "1997년",
          "1998년",
          "1999년",
          "2000년",
          "2001년",
          "2002년",
          "2003년",
          "2004년",
          "2005년",
          "2006년",
          "2007년",
          "2008년",
          "2009년",
          "2010년"
         ],
         "xaxis": "x",
         "y": [
          0,
          0,
          0,
          45,
          113,
          101,
          175,
          208,
          163,
          149,
          167,
          224,
          228,
          251,
          523,
          529,
          482
         ],
         "yaxis": "y"
        },
        {
         "hovertemplate": "발생장소=용인시<br>년도=%{x}<br>발생건수=%{y}<extra></extra>",
         "legendgroup": "용인시",
         "line": {
          "color": "#19d3f3",
          "dash": "solid"
         },
         "marker": {
          "symbol": "circle"
         },
         "mode": "lines+markers",
         "name": "용인시",
         "orientation": "v",
         "showlegend": true,
         "type": "scatter",
         "x": [
          "1994년",
          "1995년",
          "1996년",
          "1997년",
          "1998년",
          "1999년",
          "2000년",
          "2001년",
          "2002년",
          "2003년",
          "2004년",
          "2005년",
          "2006년",
          "2007년",
          "2008년",
          "2009년",
          "2010년"
         ],
         "xaxis": "x",
         "y": [
          0,
          0,
          0,
          0,
          0,
          0,
          0,
          0,
          0,
          0,
          517,
          2168,
          2086,
          2276,
          2784,
          3501,
          2437
         ],
         "yaxis": "y"
        },
        {
         "hovertemplate": "발생장소=시흥시<br>년도=%{x}<br>발생건수=%{y}<extra></extra>",
         "legendgroup": "시흥시",
         "line": {
          "color": "#FF6692",
          "dash": "solid"
         },
         "marker": {
          "symbol": "circle"
         },
         "mode": "lines+markers",
         "name": "시흥시",
         "orientation": "v",
         "showlegend": true,
         "type": "scatter",
         "x": [
          "1994년",
          "1995년",
          "1996년",
          "1997년",
          "1998년",
          "1999년",
          "2000년",
          "2001년",
          "2002년",
          "2003년",
          "2004년",
          "2005년",
          "2006년",
          "2007년",
          "2008년",
          "2009년",
          "2010년"
         ],
         "xaxis": "x",
         "y": [
          0,
          0,
          0,
          0,
          0,
          0,
          0,
          0,
          0,
          0,
          1273,
          1808,
          2253,
          2393,
          2585,
          3199,
          1756
         ],
         "yaxis": "y"
        },
        {
         "hovertemplate": "발생장소=파주시<br>년도=%{x}<br>발생건수=%{y}<extra></extra>",
         "legendgroup": "파주시",
         "line": {
          "color": "#B6E880",
          "dash": "solid"
         },
         "marker": {
          "symbol": "circle"
         },
         "mode": "lines+markers",
         "name": "파주시",
         "orientation": "v",
         "showlegend": true,
         "type": "scatter",
         "x": [
          "1994년",
          "1995년",
          "1996년",
          "1997년",
          "1998년",
          "1999년",
          "2000년",
          "2001년",
          "2002년",
          "2003년",
          "2004년",
          "2005년",
          "2006년",
          "2007년",
          "2008년",
          "2009년",
          "2010년"
         ],
         "xaxis": "x",
         "y": [
          0,
          0,
          0,
          0,
          0,
          0,
          0,
          0,
          0,
          0,
          784,
          1417,
          1489,
          1630,
          1347,
          1615,
          1127
         ],
         "yaxis": "y"
        },
        {
         "hovertemplate": "발생장소=양산시<br>년도=%{x}<br>발생건수=%{y}<extra></extra>",
         "legendgroup": "양산시",
         "line": {
          "color": "#FF97FF",
          "dash": "solid"
         },
         "marker": {
          "symbol": "circle"
         },
         "mode": "lines+markers",
         "name": "양산시",
         "orientation": "v",
         "showlegend": true,
         "type": "scatter",
         "x": [
          "1994년",
          "1995년",
          "1996년",
          "1997년",
          "1998년",
          "1999년",
          "2000년",
          "2001년",
          "2002년",
          "2003년",
          "2004년",
          "2005년",
          "2006년",
          "2007년",
          "2008년",
          "2009년",
          "2010년"
         ],
         "xaxis": "x",
         "y": [
          0,
          0,
          0,
          0,
          0,
          0,
          0,
          0,
          0,
          0,
          465,
          680,
          820,
          762,
          776,
          819,
          1629
         ],
         "yaxis": "y"
        },
        {
         "hovertemplate": "발생장소=이천시<br>년도=%{x}<br>발생건수=%{y}<extra></extra>",
         "legendgroup": "이천시",
         "line": {
          "color": "#FECB52",
          "dash": "solid"
         },
         "marker": {
          "symbol": "circle"
         },
         "mode": "lines+markers",
         "name": "이천시",
         "orientation": "v",
         "showlegend": true,
         "type": "scatter",
         "x": [
          "1994년",
          "1995년",
          "1996년",
          "1997년",
          "1998년",
          "1999년",
          "2000년",
          "2001년",
          "2002년",
          "2003년",
          "2004년",
          "2005년",
          "2006년",
          "2007년",
          "2008년",
          "2009년",
          "2010년"
         ],
         "xaxis": "x",
         "y": [
          0,
          0,
          0,
          0,
          0,
          0,
          0,
          0,
          0,
          0,
          921,
          971,
          886,
          651,
          901,
          1047,
          803
         ],
         "yaxis": "y"
        },
        {
         "hovertemplate": "발생장소=구리시<br>년도=%{x}<br>발생건수=%{y}<extra></extra>",
         "legendgroup": "구리시",
         "line": {
          "color": "#636efa",
          "dash": "solid"
         },
         "marker": {
          "symbol": "circle"
         },
         "mode": "lines+markers",
         "name": "구리시",
         "orientation": "v",
         "showlegend": true,
         "type": "scatter",
         "x": [
          "1994년",
          "1995년",
          "1996년",
          "1997년",
          "1998년",
          "1999년",
          "2000년",
          "2001년",
          "2002년",
          "2003년",
          "2004년",
          "2005년",
          "2006년",
          "2007년",
          "2008년",
          "2009년",
          "2010년"
         ],
         "xaxis": "x",
         "y": [
          0,
          0,
          0,
          0,
          0,
          0,
          0,
          0,
          0,
          0,
          759,
          1280,
          1420,
          1590,
          1581,
          1916,
          1130
         ],
         "yaxis": "y"
        },
        {
         "hovertemplate": "발생장소=서산시<br>년도=%{x}<br>발생건수=%{y}<extra></extra>",
         "legendgroup": "서산시",
         "line": {
          "color": "#EF553B",
          "dash": "solid"
         },
         "marker": {
          "symbol": "circle"
         },
         "mode": "lines+markers",
         "name": "서산시",
         "orientation": "v",
         "showlegend": true,
         "type": "scatter",
         "x": [
          "1994년",
          "1995년",
          "1996년",
          "1997년",
          "1998년",
          "1999년",
          "2000년",
          "2001년",
          "2002년",
          "2003년",
          "2004년",
          "2005년",
          "2006년",
          "2007년",
          "2008년",
          "2009년",
          "2010년"
         ],
         "xaxis": "x",
         "y": [
          0,
          0,
          0,
          0,
          0,
          0,
          0,
          0,
          0,
          0,
          161,
          204,
          227,
          517,
          849,
          941,
          749
         ],
         "yaxis": "y"
        },
        {
         "hovertemplate": "발생장소=제천시<br>년도=%{x}<br>발생건수=%{y}<extra></extra>",
         "legendgroup": "제천시",
         "line": {
          "color": "#00cc96",
          "dash": "solid"
         },
         "marker": {
          "symbol": "circle"
         },
         "mode": "lines+markers",
         "name": "제천시",
         "orientation": "v",
         "showlegend": true,
         "type": "scatter",
         "x": [
          "1994년",
          "1995년",
          "1996년",
          "1997년",
          "1998년",
          "1999년",
          "2000년",
          "2001년",
          "2002년",
          "2003년",
          "2004년",
          "2005년",
          "2006년",
          "2007년",
          "2008년",
          "2009년",
          "2010년"
         ],
         "xaxis": "x",
         "y": [
          0,
          0,
          0,
          0,
          0,
          0,
          0,
          0,
          0,
          0,
          612,
          697,
          547,
          704,
          621,
          580,
          579
         ],
         "yaxis": "y"
        },
        {
         "hovertemplate": "발생장소=논산시<br>년도=%{x}<br>발생건수=%{y}<extra></extra>",
         "legendgroup": "논산시",
         "line": {
          "color": "#ab63fa",
          "dash": "solid"
         },
         "marker": {
          "symbol": "circle"
         },
         "mode": "lines+markers",
         "name": "논산시",
         "orientation": "v",
         "showlegend": true,
         "type": "scatter",
         "x": [
          "1994년",
          "1995년",
          "1996년",
          "1997년",
          "1998년",
          "1999년",
          "2000년",
          "2001년",
          "2002년",
          "2003년",
          "2004년",
          "2005년",
          "2006년",
          "2007년",
          "2008년",
          "2009년",
          "2010년"
         ],
         "xaxis": "x",
         "y": [
          0,
          0,
          0,
          0,
          0,
          0,
          0,
          0,
          0,
          0,
          372,
          628,
          417,
          988,
          673,
          592,
          828
         ],
         "yaxis": "y"
        },
        {
         "hovertemplate": "발생장소=기타도시<br>년도=%{x}<br>발생건수=%{y}<extra></extra>",
         "legendgroup": "기타도시",
         "line": {
          "color": "#FFA15A",
          "dash": "solid"
         },
         "marker": {
          "symbol": "circle"
         },
         "mode": "lines+markers",
         "name": "기타도시",
         "orientation": "v",
         "showlegend": true,
         "type": "scatter",
         "x": [
          "1994년",
          "1995년",
          "1996년",
          "1997년",
          "1998년",
          "1999년",
          "2000년",
          "2001년",
          "2002년",
          "2003년",
          "2004년",
          "2005년",
          "2006년",
          "2007년",
          "2008년",
          "2009년",
          "2010년"
         ],
         "xaxis": "x",
         "y": [
          4756,
          5170,
          6383,
          5168,
          7233,
          6780,
          11456,
          9962,
          8546,
          9458,
          9481,
          13118,
          11575,
          14764,
          14945,
          18703,
          17406
         ],
         "yaxis": "y"
        },
        {
         "hovertemplate": "발생장소=도시이외<br>년도=%{x}<br>발생건수=%{y}<extra></extra>",
         "legendgroup": "도시이외",
         "line": {
          "color": "#19d3f3",
          "dash": "solid"
         },
         "marker": {
          "symbol": "circle"
         },
         "mode": "lines+markers",
         "name": "도시이외",
         "orientation": "v",
         "showlegend": true,
         "type": "scatter",
         "x": [
          "1994년",
          "1995년",
          "1996년",
          "1997년",
          "1998년",
          "1999년",
          "2000년",
          "2001년",
          "2002년",
          "2003년",
          "2004년",
          "2005년",
          "2006년",
          "2007년",
          "2008년",
          "2009년",
          "2010년"
         ],
         "xaxis": "x",
         "y": [
          7778,
          6866,
          6981,
          5814,
          7078,
          7461,
          12021,
          10006,
          8770,
          9083,
          8662,
          9745,
          10914,
          14514,
          16684,
          16085,
          18937
         ],
         "yaxis": "y"
        },
        {
         "hovertemplate": "발생장소=기타<br>년도=%{x}<br>발생건수=%{y}<extra></extra>",
         "legendgroup": "기타",
         "line": {
          "color": "#FF6692",
          "dash": "solid"
         },
         "marker": {
          "symbol": "circle"
         },
         "mode": "lines+markers",
         "name": "기타",
         "orientation": "v",
         "showlegend": true,
         "type": "scatter",
         "x": [
          "1994년",
          "1995년",
          "1996년",
          "1997년",
          "1998년",
          "1999년",
          "2000년",
          "2001년",
          "2002년",
          "2003년",
          "2004년",
          "2005년",
          "2006년",
          "2007년",
          "2008년",
          "2009년",
          "2010년"
         ],
         "xaxis": "x",
         "y": [
          24,
          3,
          16,
          2,
          4,
          360,
          5629,
          6748,
          6655,
          6788,
          0,
          0,
          0,
          0,
          0,
          0,
          0
         ],
         "yaxis": "y"
        }
       ],
       "layout": {
        "legend": {
         "title": {
          "text": "발생장소"
         },
         "tracegroupgap": 0
        },
        "template": {
         "data": {
          "bar": [
           {
            "error_x": {
             "color": "#2a3f5f"
            },
            "error_y": {
             "color": "#2a3f5f"
            },
            "marker": {
             "line": {
              "color": "#E5ECF6",
              "width": 0.5
             },
             "pattern": {
              "fillmode": "overlay",
              "size": 10,
              "solidity": 0.2
             }
            },
            "type": "bar"
           }
          ],
          "barpolar": [
           {
            "marker": {
             "line": {
              "color": "#E5ECF6",
              "width": 0.5
             },
             "pattern": {
              "fillmode": "overlay",
              "size": 10,
              "solidity": 0.2
             }
            },
            "type": "barpolar"
           }
          ],
          "carpet": [
           {
            "aaxis": {
             "endlinecolor": "#2a3f5f",
             "gridcolor": "white",
             "linecolor": "white",
             "minorgridcolor": "white",
             "startlinecolor": "#2a3f5f"
            },
            "baxis": {
             "endlinecolor": "#2a3f5f",
             "gridcolor": "white",
             "linecolor": "white",
             "minorgridcolor": "white",
             "startlinecolor": "#2a3f5f"
            },
            "type": "carpet"
           }
          ],
          "choropleth": [
           {
            "colorbar": {
             "outlinewidth": 0,
             "ticks": ""
            },
            "type": "choropleth"
           }
          ],
          "contour": [
           {
            "colorbar": {
             "outlinewidth": 0,
             "ticks": ""
            },
            "colorscale": [
             [
              0,
              "#0d0887"
             ],
             [
              0.1111111111111111,
              "#46039f"
             ],
             [
              0.2222222222222222,
              "#7201a8"
             ],
             [
              0.3333333333333333,
              "#9c179e"
             ],
             [
              0.4444444444444444,
              "#bd3786"
             ],
             [
              0.5555555555555556,
              "#d8576b"
             ],
             [
              0.6666666666666666,
              "#ed7953"
             ],
             [
              0.7777777777777778,
              "#fb9f3a"
             ],
             [
              0.8888888888888888,
              "#fdca26"
             ],
             [
              1,
              "#f0f921"
             ]
            ],
            "type": "contour"
           }
          ],
          "contourcarpet": [
           {
            "colorbar": {
             "outlinewidth": 0,
             "ticks": ""
            },
            "type": "contourcarpet"
           }
          ],
          "heatmap": [
           {
            "colorbar": {
             "outlinewidth": 0,
             "ticks": ""
            },
            "colorscale": [
             [
              0,
              "#0d0887"
             ],
             [
              0.1111111111111111,
              "#46039f"
             ],
             [
              0.2222222222222222,
              "#7201a8"
             ],
             [
              0.3333333333333333,
              "#9c179e"
             ],
             [
              0.4444444444444444,
              "#bd3786"
             ],
             [
              0.5555555555555556,
              "#d8576b"
             ],
             [
              0.6666666666666666,
              "#ed7953"
             ],
             [
              0.7777777777777778,
              "#fb9f3a"
             ],
             [
              0.8888888888888888,
              "#fdca26"
             ],
             [
              1,
              "#f0f921"
             ]
            ],
            "type": "heatmap"
           }
          ],
          "heatmapgl": [
           {
            "colorbar": {
             "outlinewidth": 0,
             "ticks": ""
            },
            "colorscale": [
             [
              0,
              "#0d0887"
             ],
             [
              0.1111111111111111,
              "#46039f"
             ],
             [
              0.2222222222222222,
              "#7201a8"
             ],
             [
              0.3333333333333333,
              "#9c179e"
             ],
             [
              0.4444444444444444,
              "#bd3786"
             ],
             [
              0.5555555555555556,
              "#d8576b"
             ],
             [
              0.6666666666666666,
              "#ed7953"
             ],
             [
              0.7777777777777778,
              "#fb9f3a"
             ],
             [
              0.8888888888888888,
              "#fdca26"
             ],
             [
              1,
              "#f0f921"
             ]
            ],
            "type": "heatmapgl"
           }
          ],
          "histogram": [
           {
            "marker": {
             "pattern": {
              "fillmode": "overlay",
              "size": 10,
              "solidity": 0.2
             }
            },
            "type": "histogram"
           }
          ],
          "histogram2d": [
           {
            "colorbar": {
             "outlinewidth": 0,
             "ticks": ""
            },
            "colorscale": [
             [
              0,
              "#0d0887"
             ],
             [
              0.1111111111111111,
              "#46039f"
             ],
             [
              0.2222222222222222,
              "#7201a8"
             ],
             [
              0.3333333333333333,
              "#9c179e"
             ],
             [
              0.4444444444444444,
              "#bd3786"
             ],
             [
              0.5555555555555556,
              "#d8576b"
             ],
             [
              0.6666666666666666,
              "#ed7953"
             ],
             [
              0.7777777777777778,
              "#fb9f3a"
             ],
             [
              0.8888888888888888,
              "#fdca26"
             ],
             [
              1,
              "#f0f921"
             ]
            ],
            "type": "histogram2d"
           }
          ],
          "histogram2dcontour": [
           {
            "colorbar": {
             "outlinewidth": 0,
             "ticks": ""
            },
            "colorscale": [
             [
              0,
              "#0d0887"
             ],
             [
              0.1111111111111111,
              "#46039f"
             ],
             [
              0.2222222222222222,
              "#7201a8"
             ],
             [
              0.3333333333333333,
              "#9c179e"
             ],
             [
              0.4444444444444444,
              "#bd3786"
             ],
             [
              0.5555555555555556,
              "#d8576b"
             ],
             [
              0.6666666666666666,
              "#ed7953"
             ],
             [
              0.7777777777777778,
              "#fb9f3a"
             ],
             [
              0.8888888888888888,
              "#fdca26"
             ],
             [
              1,
              "#f0f921"
             ]
            ],
            "type": "histogram2dcontour"
           }
          ],
          "mesh3d": [
           {
            "colorbar": {
             "outlinewidth": 0,
             "ticks": ""
            },
            "type": "mesh3d"
           }
          ],
          "parcoords": [
           {
            "line": {
             "colorbar": {
              "outlinewidth": 0,
              "ticks": ""
             }
            },
            "type": "parcoords"
           }
          ],
          "pie": [
           {
            "automargin": true,
            "type": "pie"
           }
          ],
          "scatter": [
           {
            "fillpattern": {
             "fillmode": "overlay",
             "size": 10,
             "solidity": 0.2
            },
            "type": "scatter"
           }
          ],
          "scatter3d": [
           {
            "line": {
             "colorbar": {
              "outlinewidth": 0,
              "ticks": ""
             }
            },
            "marker": {
             "colorbar": {
              "outlinewidth": 0,
              "ticks": ""
             }
            },
            "type": "scatter3d"
           }
          ],
          "scattercarpet": [
           {
            "marker": {
             "colorbar": {
              "outlinewidth": 0,
              "ticks": ""
             }
            },
            "type": "scattercarpet"
           }
          ],
          "scattergeo": [
           {
            "marker": {
             "colorbar": {
              "outlinewidth": 0,
              "ticks": ""
             }
            },
            "type": "scattergeo"
           }
          ],
          "scattergl": [
           {
            "marker": {
             "colorbar": {
              "outlinewidth": 0,
              "ticks": ""
             }
            },
            "type": "scattergl"
           }
          ],
          "scattermapbox": [
           {
            "marker": {
             "colorbar": {
              "outlinewidth": 0,
              "ticks": ""
             }
            },
            "type": "scattermapbox"
           }
          ],
          "scatterpolar": [
           {
            "marker": {
             "colorbar": {
              "outlinewidth": 0,
              "ticks": ""
             }
            },
            "type": "scatterpolar"
           }
          ],
          "scatterpolargl": [
           {
            "marker": {
             "colorbar": {
              "outlinewidth": 0,
              "ticks": ""
             }
            },
            "type": "scatterpolargl"
           }
          ],
          "scatterternary": [
           {
            "marker": {
             "colorbar": {
              "outlinewidth": 0,
              "ticks": ""
             }
            },
            "type": "scatterternary"
           }
          ],
          "surface": [
           {
            "colorbar": {
             "outlinewidth": 0,
             "ticks": ""
            },
            "colorscale": [
             [
              0,
              "#0d0887"
             ],
             [
              0.1111111111111111,
              "#46039f"
             ],
             [
              0.2222222222222222,
              "#7201a8"
             ],
             [
              0.3333333333333333,
              "#9c179e"
             ],
             [
              0.4444444444444444,
              "#bd3786"
             ],
             [
              0.5555555555555556,
              "#d8576b"
             ],
             [
              0.6666666666666666,
              "#ed7953"
             ],
             [
              0.7777777777777778,
              "#fb9f3a"
             ],
             [
              0.8888888888888888,
              "#fdca26"
             ],
             [
              1,
              "#f0f921"
             ]
            ],
            "type": "surface"
           }
          ],
          "table": [
           {
            "cells": {
             "fill": {
              "color": "#EBF0F8"
             },
             "line": {
              "color": "white"
             }
            },
            "header": {
             "fill": {
              "color": "#C8D4E3"
             },
             "line": {
              "color": "white"
             }
            },
            "type": "table"
           }
          ]
         },
         "layout": {
          "annotationdefaults": {
           "arrowcolor": "#2a3f5f",
           "arrowhead": 0,
           "arrowwidth": 1
          },
          "autotypenumbers": "strict",
          "coloraxis": {
           "colorbar": {
            "outlinewidth": 0,
            "ticks": ""
           }
          },
          "colorscale": {
           "diverging": [
            [
             0,
             "#8e0152"
            ],
            [
             0.1,
             "#c51b7d"
            ],
            [
             0.2,
             "#de77ae"
            ],
            [
             0.3,
             "#f1b6da"
            ],
            [
             0.4,
             "#fde0ef"
            ],
            [
             0.5,
             "#f7f7f7"
            ],
            [
             0.6,
             "#e6f5d0"
            ],
            [
             0.7,
             "#b8e186"
            ],
            [
             0.8,
             "#7fbc41"
            ],
            [
             0.9,
             "#4d9221"
            ],
            [
             1,
             "#276419"
            ]
           ],
           "sequential": [
            [
             0,
             "#0d0887"
            ],
            [
             0.1111111111111111,
             "#46039f"
            ],
            [
             0.2222222222222222,
             "#7201a8"
            ],
            [
             0.3333333333333333,
             "#9c179e"
            ],
            [
             0.4444444444444444,
             "#bd3786"
            ],
            [
             0.5555555555555556,
             "#d8576b"
            ],
            [
             0.6666666666666666,
             "#ed7953"
            ],
            [
             0.7777777777777778,
             "#fb9f3a"
            ],
            [
             0.8888888888888888,
             "#fdca26"
            ],
            [
             1,
             "#f0f921"
            ]
           ],
           "sequentialminus": [
            [
             0,
             "#0d0887"
            ],
            [
             0.1111111111111111,
             "#46039f"
            ],
            [
             0.2222222222222222,
             "#7201a8"
            ],
            [
             0.3333333333333333,
             "#9c179e"
            ],
            [
             0.4444444444444444,
             "#bd3786"
            ],
            [
             0.5555555555555556,
             "#d8576b"
            ],
            [
             0.6666666666666666,
             "#ed7953"
            ],
            [
             0.7777777777777778,
             "#fb9f3a"
            ],
            [
             0.8888888888888888,
             "#fdca26"
            ],
            [
             1,
             "#f0f921"
            ]
           ]
          },
          "colorway": [
           "#636efa",
           "#EF553B",
           "#00cc96",
           "#ab63fa",
           "#FFA15A",
           "#19d3f3",
           "#FF6692",
           "#B6E880",
           "#FF97FF",
           "#FECB52"
          ],
          "font": {
           "color": "#2a3f5f"
          },
          "geo": {
           "bgcolor": "white",
           "lakecolor": "white",
           "landcolor": "#E5ECF6",
           "showlakes": true,
           "showland": true,
           "subunitcolor": "white"
          },
          "hoverlabel": {
           "align": "left"
          },
          "hovermode": "closest",
          "mapbox": {
           "style": "light"
          },
          "paper_bgcolor": "white",
          "plot_bgcolor": "#E5ECF6",
          "polar": {
           "angularaxis": {
            "gridcolor": "white",
            "linecolor": "white",
            "ticks": ""
           },
           "bgcolor": "#E5ECF6",
           "radialaxis": {
            "gridcolor": "white",
            "linecolor": "white",
            "ticks": ""
           }
          },
          "scene": {
           "xaxis": {
            "backgroundcolor": "#E5ECF6",
            "gridcolor": "white",
            "gridwidth": 2,
            "linecolor": "white",
            "showbackground": true,
            "ticks": "",
            "zerolinecolor": "white"
           },
           "yaxis": {
            "backgroundcolor": "#E5ECF6",
            "gridcolor": "white",
            "gridwidth": 2,
            "linecolor": "white",
            "showbackground": true,
            "ticks": "",
            "zerolinecolor": "white"
           },
           "zaxis": {
            "backgroundcolor": "#E5ECF6",
            "gridcolor": "white",
            "gridwidth": 2,
            "linecolor": "white",
            "showbackground": true,
            "ticks": "",
            "zerolinecolor": "white"
           }
          },
          "shapedefaults": {
           "line": {
            "color": "#2a3f5f"
           }
          },
          "ternary": {
           "aaxis": {
            "gridcolor": "white",
            "linecolor": "white",
            "ticks": ""
           },
           "baxis": {
            "gridcolor": "white",
            "linecolor": "white",
            "ticks": ""
           },
           "bgcolor": "#E5ECF6",
           "caxis": {
            "gridcolor": "white",
            "linecolor": "white",
            "ticks": ""
           }
          },
          "title": {
           "x": 0.05
          },
          "xaxis": {
           "automargin": true,
           "gridcolor": "white",
           "linecolor": "white",
           "ticks": "",
           "title": {
            "standoff": 15
           },
           "zerolinecolor": "white",
           "zerolinewidth": 2
          },
          "yaxis": {
           "automargin": true,
           "gridcolor": "white",
           "linecolor": "white",
           "ticks": "",
           "title": {
            "standoff": 15
           },
           "zerolinecolor": "white",
           "zerolinewidth": 2
          }
         }
        },
        "title": {
         "text": "[ 년도별 & 지역별 발생한 절도범 건수 ]"
        },
        "xaxis": {
         "anchor": "y",
         "domain": [
          0,
          1
         ],
         "title": {
          "text": "년도"
         }
        },
        "yaxis": {
         "anchor": "x",
         "domain": [
          0,
          1
         ],
         "title": {
          "text": "발생건수"
         }
        }
       }
      }
     },
     "metadata": {},
     "output_type": "display_data"
    }
   ],
   "source": [
    "df_melted = dosi_df_total.melt(id_vars=[\"중\", \"소\", \"발생장소\"], var_name=\"년도\", value_name=\"발생건수\")\n",
    "\n",
    "fig = px.line(df_melted, x=\"년도\", y=\"발생건수\", color=\"발생장소\", title=\"[ 년도별 & 지역별 발생한 절도범 건수 ]\", markers=True)\n",
    "fig.show()"
   ]
  },
  {
   "cell_type": "markdown",
   "metadata": {},
   "source": [
    "##### [ 장소 ]"
   ]
  },
  {
   "cell_type": "code",
   "execution_count": 11,
   "metadata": {},
   "outputs": [
    {
     "data": {
      "text/html": [
       "<div>\n",
       "<style scoped>\n",
       "    .dataframe tbody tr th:only-of-type {\n",
       "        vertical-align: middle;\n",
       "    }\n",
       "\n",
       "    .dataframe tbody tr th {\n",
       "        vertical-align: top;\n",
       "    }\n",
       "\n",
       "    .dataframe thead th {\n",
       "        text-align: right;\n",
       "    }\n",
       "</style>\n",
       "<table border=\"1\" class=\"dataframe\">\n",
       "  <thead>\n",
       "    <tr style=\"text-align: right;\">\n",
       "      <th></th>\n",
       "      <th>대</th>\n",
       "      <th>중</th>\n",
       "      <th>소</th>\n",
       "      <th>발생장소</th>\n",
       "      <th>1994년</th>\n",
       "      <th>1995년</th>\n",
       "      <th>1996년</th>\n",
       "      <th>1997년</th>\n",
       "      <th>1998년</th>\n",
       "      <th>1999년</th>\n",
       "      <th>...</th>\n",
       "      <th>2001년</th>\n",
       "      <th>2002년</th>\n",
       "      <th>2003년</th>\n",
       "      <th>2004년</th>\n",
       "      <th>2005년</th>\n",
       "      <th>2006년</th>\n",
       "      <th>2007년</th>\n",
       "      <th>2008년</th>\n",
       "      <th>2009년</th>\n",
       "      <th>2010년</th>\n",
       "    </tr>\n",
       "  </thead>\n",
       "  <tbody>\n",
       "    <tr>\n",
       "      <th>0</th>\n",
       "      <td>총범죄</td>\n",
       "      <td>소계</td>\n",
       "      <td>소계</td>\n",
       "      <td>아파트연립다세대</td>\n",
       "      <td>29040</td>\n",
       "      <td>29768</td>\n",
       "      <td>34854</td>\n",
       "      <td>38995</td>\n",
       "      <td>51304</td>\n",
       "      <td>64405</td>\n",
       "      <td>...</td>\n",
       "      <td>78803</td>\n",
       "      <td>67524</td>\n",
       "      <td>75696</td>\n",
       "      <td>51569</td>\n",
       "      <td>56882</td>\n",
       "      <td>57995</td>\n",
       "      <td>60223</td>\n",
       "      <td>67220</td>\n",
       "      <td>69407</td>\n",
       "      <td>68193</td>\n",
       "    </tr>\n",
       "    <tr>\n",
       "      <th>1</th>\n",
       "      <td>총범죄</td>\n",
       "      <td>소계</td>\n",
       "      <td>소계</td>\n",
       "      <td>단독주택</td>\n",
       "      <td>69758</td>\n",
       "      <td>63390</td>\n",
       "      <td>63857</td>\n",
       "      <td>60788</td>\n",
       "      <td>67878</td>\n",
       "      <td>72176</td>\n",
       "      <td>...</td>\n",
       "      <td>77922</td>\n",
       "      <td>63811</td>\n",
       "      <td>63163</td>\n",
       "      <td>101715</td>\n",
       "      <td>99660</td>\n",
       "      <td>98633</td>\n",
       "      <td>103025</td>\n",
       "      <td>114438</td>\n",
       "      <td>121803</td>\n",
       "      <td>104185</td>\n",
       "    </tr>\n",
       "    <tr>\n",
       "      <th>2</th>\n",
       "      <td>총범죄</td>\n",
       "      <td>소계</td>\n",
       "      <td>소계</td>\n",
       "      <td>고속도로</td>\n",
       "      <td>18853</td>\n",
       "      <td>15964</td>\n",
       "      <td>17913</td>\n",
       "      <td>17333</td>\n",
       "      <td>14100</td>\n",
       "      <td>19700</td>\n",
       "      <td>...</td>\n",
       "      <td>22444</td>\n",
       "      <td>29653</td>\n",
       "      <td>36181</td>\n",
       "      <td>36829</td>\n",
       "      <td>27189</td>\n",
       "      <td>26444</td>\n",
       "      <td>27722</td>\n",
       "      <td>26722</td>\n",
       "      <td>26007</td>\n",
       "      <td>24094</td>\n",
       "    </tr>\n",
       "    <tr>\n",
       "      <th>3</th>\n",
       "      <td>총범죄</td>\n",
       "      <td>소계</td>\n",
       "      <td>소계</td>\n",
       "      <td>노 상</td>\n",
       "      <td>613625</td>\n",
       "      <td>588136</td>\n",
       "      <td>657907</td>\n",
       "      <td>770681</td>\n",
       "      <td>829448</td>\n",
       "      <td>777313</td>\n",
       "      <td>...</td>\n",
       "      <td>952832</td>\n",
       "      <td>955185</td>\n",
       "      <td>945084</td>\n",
       "      <td>1025940</td>\n",
       "      <td>883456</td>\n",
       "      <td>827277</td>\n",
       "      <td>943599</td>\n",
       "      <td>1059330</td>\n",
       "      <td>926208</td>\n",
       "      <td>840053</td>\n",
       "    </tr>\n",
       "    <tr>\n",
       "      <th>4</th>\n",
       "      <td>총범죄</td>\n",
       "      <td>소계</td>\n",
       "      <td>소계</td>\n",
       "      <td>상 점</td>\n",
       "      <td>51137</td>\n",
       "      <td>60577</td>\n",
       "      <td>69620</td>\n",
       "      <td>62469</td>\n",
       "      <td>73883</td>\n",
       "      <td>73310</td>\n",
       "      <td>...</td>\n",
       "      <td>75281</td>\n",
       "      <td>75391</td>\n",
       "      <td>80796</td>\n",
       "      <td>71676</td>\n",
       "      <td>56938</td>\n",
       "      <td>60784</td>\n",
       "      <td>63121</td>\n",
       "      <td>58334</td>\n",
       "      <td>71627</td>\n",
       "      <td>67420</td>\n",
       "    </tr>\n",
       "    <tr>\n",
       "      <th>...</th>\n",
       "      <td>...</td>\n",
       "      <td>...</td>\n",
       "      <td>...</td>\n",
       "      <td>...</td>\n",
       "      <td>...</td>\n",
       "      <td>...</td>\n",
       "      <td>...</td>\n",
       "      <td>...</td>\n",
       "      <td>...</td>\n",
       "      <td>...</td>\n",
       "      <td>...</td>\n",
       "      <td>...</td>\n",
       "      <td>...</td>\n",
       "      <td>...</td>\n",
       "      <td>...</td>\n",
       "      <td>...</td>\n",
       "      <td>...</td>\n",
       "      <td>...</td>\n",
       "      <td>...</td>\n",
       "      <td>...</td>\n",
       "      <td>...</td>\n",
       "    </tr>\n",
       "    <tr>\n",
       "      <th>4811</th>\n",
       "      <td>특별법범</td>\n",
       "      <td>기타특별법</td>\n",
       "      <td>소계</td>\n",
       "      <td>해 상</td>\n",
       "      <td>2466</td>\n",
       "      <td>3389</td>\n",
       "      <td>3601</td>\n",
       "      <td>15750</td>\n",
       "      <td>24136</td>\n",
       "      <td>20049</td>\n",
       "      <td>...</td>\n",
       "      <td>14801</td>\n",
       "      <td>16898</td>\n",
       "      <td>15380</td>\n",
       "      <td>1575</td>\n",
       "      <td>2514</td>\n",
       "      <td>3339</td>\n",
       "      <td>2877</td>\n",
       "      <td>1609</td>\n",
       "      <td>1280</td>\n",
       "      <td>2704</td>\n",
       "    </tr>\n",
       "    <tr>\n",
       "      <th>4812</th>\n",
       "      <td>특별법범</td>\n",
       "      <td>기타특별법</td>\n",
       "      <td>소계</td>\n",
       "      <td>부 대</td>\n",
       "      <td>6</td>\n",
       "      <td>30</td>\n",
       "      <td>13</td>\n",
       "      <td>10</td>\n",
       "      <td>10</td>\n",
       "      <td>18</td>\n",
       "      <td>...</td>\n",
       "      <td>20</td>\n",
       "      <td>37</td>\n",
       "      <td>33</td>\n",
       "      <td>22</td>\n",
       "      <td>9</td>\n",
       "      <td>9</td>\n",
       "      <td>14</td>\n",
       "      <td>21</td>\n",
       "      <td>21</td>\n",
       "      <td>13</td>\n",
       "    </tr>\n",
       "    <tr>\n",
       "      <th>4813</th>\n",
       "      <td>특별법범</td>\n",
       "      <td>기타특별법</td>\n",
       "      <td>소계</td>\n",
       "      <td>구금장소</td>\n",
       "      <td>4</td>\n",
       "      <td>9</td>\n",
       "      <td>2</td>\n",
       "      <td>11</td>\n",
       "      <td>12</td>\n",
       "      <td>9</td>\n",
       "      <td>...</td>\n",
       "      <td>93</td>\n",
       "      <td>36</td>\n",
       "      <td>7</td>\n",
       "      <td>1</td>\n",
       "      <td>0</td>\n",
       "      <td>2</td>\n",
       "      <td>0</td>\n",
       "      <td>0</td>\n",
       "      <td>0</td>\n",
       "      <td>1</td>\n",
       "    </tr>\n",
       "    <tr>\n",
       "      <th>4814</th>\n",
       "      <td>특별법범</td>\n",
       "      <td>기타특별법</td>\n",
       "      <td>소계</td>\n",
       "      <td>공 지</td>\n",
       "      <td>132</td>\n",
       "      <td>146</td>\n",
       "      <td>163</td>\n",
       "      <td>208</td>\n",
       "      <td>217</td>\n",
       "      <td>184</td>\n",
       "      <td>...</td>\n",
       "      <td>471</td>\n",
       "      <td>490</td>\n",
       "      <td>537</td>\n",
       "      <td>253</td>\n",
       "      <td>219</td>\n",
       "      <td>194</td>\n",
       "      <td>161</td>\n",
       "      <td>138</td>\n",
       "      <td>119</td>\n",
       "      <td>129</td>\n",
       "    </tr>\n",
       "    <tr>\n",
       "      <th>4815</th>\n",
       "      <td>특별법범</td>\n",
       "      <td>기타특별법</td>\n",
       "      <td>소계</td>\n",
       "      <td>기 타</td>\n",
       "      <td>4096</td>\n",
       "      <td>5084</td>\n",
       "      <td>5736</td>\n",
       "      <td>7513</td>\n",
       "      <td>9884</td>\n",
       "      <td>19352</td>\n",
       "      <td>...</td>\n",
       "      <td>25104</td>\n",
       "      <td>24725</td>\n",
       "      <td>29310</td>\n",
       "      <td>4484</td>\n",
       "      <td>3784</td>\n",
       "      <td>5210</td>\n",
       "      <td>6537</td>\n",
       "      <td>9302</td>\n",
       "      <td>9220</td>\n",
       "      <td>6523</td>\n",
       "    </tr>\n",
       "  </tbody>\n",
       "</table>\n",
       "<p>4816 rows × 21 columns</p>\n",
       "</div>"
      ],
      "text/plain": [
       "         대      중   소      발생장소   1994년   1995년   1996년   1997년   1998년  \\\n",
       "0      총범죄     소계  소계  아파트연립다세대   29040   29768   34854   38995   51304   \n",
       "1      총범죄     소계  소계      단독주택   69758   63390   63857   60788   67878   \n",
       "2      총범죄     소계  소계      고속도로   18853   15964   17913   17333   14100   \n",
       "3      총범죄     소계  소계       노 상  613625  588136  657907  770681  829448   \n",
       "4      총범죄     소계  소계       상 점   51137   60577   69620   62469   73883   \n",
       "...    ...    ...  ..       ...     ...     ...     ...     ...     ...   \n",
       "4811  특별법범  기타특별법  소계       해 상    2466    3389    3601   15750   24136   \n",
       "4812  특별법범  기타특별법  소계       부 대       6      30      13      10      10   \n",
       "4813  특별법범  기타특별법  소계      구금장소       4       9       2      11      12   \n",
       "4814  특별법범  기타특별법  소계       공 지     132     146     163     208     217   \n",
       "4815  특별법범  기타특별법  소계       기 타    4096    5084    5736    7513    9884   \n",
       "\n",
       "       1999년  ...   2001년   2002년   2003년    2004년   2005년   2006년   2007년  \\\n",
       "0      64405  ...   78803   67524   75696    51569   56882   57995   60223   \n",
       "1      72176  ...   77922   63811   63163   101715   99660   98633  103025   \n",
       "2      19700  ...   22444   29653   36181    36829   27189   26444   27722   \n",
       "3     777313  ...  952832  955185  945084  1025940  883456  827277  943599   \n",
       "4      73310  ...   75281   75391   80796    71676   56938   60784   63121   \n",
       "...      ...  ...     ...     ...     ...      ...     ...     ...     ...   \n",
       "4811   20049  ...   14801   16898   15380     1575    2514    3339    2877   \n",
       "4812      18  ...      20      37      33       22       9       9      14   \n",
       "4813       9  ...      93      36       7        1       0       2       0   \n",
       "4814     184  ...     471     490     537      253     219     194     161   \n",
       "4815   19352  ...   25104   24725   29310     4484    3784    5210    6537   \n",
       "\n",
       "        2008년   2009년   2010년  \n",
       "0       67220   69407   68193  \n",
       "1      114438  121803  104185  \n",
       "2       26722   26007   24094  \n",
       "3     1059330  926208  840053  \n",
       "4       58334   71627   67420  \n",
       "...       ...     ...     ...  \n",
       "4811     1609    1280    2704  \n",
       "4812       21      21      13  \n",
       "4813        0       0       1  \n",
       "4814      138     119     129  \n",
       "4815     9302    9220    6523  \n",
       "\n",
       "[4816 rows x 21 columns]"
      ]
     },
     "execution_count": 11,
     "metadata": {},
     "output_type": "execute_result"
    }
   ],
   "source": [
    "cursor.execute(\"select * from crime_place_before\")\n",
    "\n",
    "place = cursor.fetchall()\n",
    "place_df_start = pd.DataFrame(place)\n",
    "place_df_start"
   ]
  },
  {
   "cell_type": "code",
   "execution_count": 17,
   "metadata": {},
   "outputs": [
    {
     "data": {
      "text/html": [
       "<div>\n",
       "<style scoped>\n",
       "    .dataframe tbody tr th:only-of-type {\n",
       "        vertical-align: middle;\n",
       "    }\n",
       "\n",
       "    .dataframe tbody tr th {\n",
       "        vertical-align: top;\n",
       "    }\n",
       "\n",
       "    .dataframe thead th {\n",
       "        text-align: right;\n",
       "    }\n",
       "</style>\n",
       "<table border=\"1\" class=\"dataframe\">\n",
       "  <thead>\n",
       "    <tr style=\"text-align: right;\">\n",
       "      <th></th>\n",
       "      <th>대</th>\n",
       "      <th>중</th>\n",
       "      <th>소</th>\n",
       "      <th>발생장소</th>\n",
       "      <th>1994년</th>\n",
       "      <th>1995년</th>\n",
       "      <th>1996년</th>\n",
       "      <th>1997년</th>\n",
       "      <th>1998년</th>\n",
       "      <th>1999년</th>\n",
       "      <th>...</th>\n",
       "      <th>2001년</th>\n",
       "      <th>2002년</th>\n",
       "      <th>2003년</th>\n",
       "      <th>2004년</th>\n",
       "      <th>2005년</th>\n",
       "      <th>2006년</th>\n",
       "      <th>2007년</th>\n",
       "      <th>2008년</th>\n",
       "      <th>2009년</th>\n",
       "      <th>2010년</th>\n",
       "    </tr>\n",
       "  </thead>\n",
       "  <tbody>\n",
       "    <tr>\n",
       "      <th>0</th>\n",
       "      <td>형법범</td>\n",
       "      <td>절도범</td>\n",
       "      <td>소계</td>\n",
       "      <td>아파트연립다세대</td>\n",
       "      <td>5571</td>\n",
       "      <td>5512</td>\n",
       "      <td>6951</td>\n",
       "      <td>8616</td>\n",
       "      <td>9658</td>\n",
       "      <td>10337</td>\n",
       "      <td>...</td>\n",
       "      <td>27728</td>\n",
       "      <td>23031</td>\n",
       "      <td>24854</td>\n",
       "      <td>12981</td>\n",
       "      <td>19935</td>\n",
       "      <td>18744</td>\n",
       "      <td>20601</td>\n",
       "      <td>21125</td>\n",
       "      <td>22283</td>\n",
       "      <td>25624</td>\n",
       "    </tr>\n",
       "    <tr>\n",
       "      <th>1</th>\n",
       "      <td>형법범</td>\n",
       "      <td>절도범</td>\n",
       "      <td>소계</td>\n",
       "      <td>단독주택</td>\n",
       "      <td>9429</td>\n",
       "      <td>8292</td>\n",
       "      <td>9176</td>\n",
       "      <td>10263</td>\n",
       "      <td>11012</td>\n",
       "      <td>11894</td>\n",
       "      <td>...</td>\n",
       "      <td>21957</td>\n",
       "      <td>16588</td>\n",
       "      <td>16288</td>\n",
       "      <td>22743</td>\n",
       "      <td>27590</td>\n",
       "      <td>27251</td>\n",
       "      <td>31328</td>\n",
       "      <td>32560</td>\n",
       "      <td>36314</td>\n",
       "      <td>38158</td>\n",
       "    </tr>\n",
       "    <tr>\n",
       "      <th>2</th>\n",
       "      <td>형법범</td>\n",
       "      <td>절도범</td>\n",
       "      <td>소계</td>\n",
       "      <td>고속도로</td>\n",
       "      <td>52</td>\n",
       "      <td>38</td>\n",
       "      <td>40</td>\n",
       "      <td>54</td>\n",
       "      <td>46</td>\n",
       "      <td>57</td>\n",
       "      <td>...</td>\n",
       "      <td>114</td>\n",
       "      <td>118</td>\n",
       "      <td>151</td>\n",
       "      <td>113</td>\n",
       "      <td>155</td>\n",
       "      <td>343</td>\n",
       "      <td>143</td>\n",
       "      <td>97</td>\n",
       "      <td>103</td>\n",
       "      <td>150</td>\n",
       "    </tr>\n",
       "    <tr>\n",
       "      <th>3</th>\n",
       "      <td>형법범</td>\n",
       "      <td>절도범</td>\n",
       "      <td>소계</td>\n",
       "      <td>노 상</td>\n",
       "      <td>18892</td>\n",
       "      <td>22092</td>\n",
       "      <td>25248</td>\n",
       "      <td>30323</td>\n",
       "      <td>30734</td>\n",
       "      <td>25221</td>\n",
       "      <td>...</td>\n",
       "      <td>53168</td>\n",
       "      <td>49064</td>\n",
       "      <td>50987</td>\n",
       "      <td>42471</td>\n",
       "      <td>50746</td>\n",
       "      <td>53182</td>\n",
       "      <td>56690</td>\n",
       "      <td>58195</td>\n",
       "      <td>62288</td>\n",
       "      <td>62806</td>\n",
       "    </tr>\n",
       "    <tr>\n",
       "      <th>4</th>\n",
       "      <td>형법범</td>\n",
       "      <td>절도범</td>\n",
       "      <td>소계</td>\n",
       "      <td>상 점</td>\n",
       "      <td>6227</td>\n",
       "      <td>5657</td>\n",
       "      <td>6280</td>\n",
       "      <td>6916</td>\n",
       "      <td>8201</td>\n",
       "      <td>8928</td>\n",
       "      <td>...</td>\n",
       "      <td>16778</td>\n",
       "      <td>21099</td>\n",
       "      <td>21115</td>\n",
       "      <td>16388</td>\n",
       "      <td>17280</td>\n",
       "      <td>18868</td>\n",
       "      <td>21209</td>\n",
       "      <td>22704</td>\n",
       "      <td>31062</td>\n",
       "      <td>30156</td>\n",
       "    </tr>\n",
       "    <tr>\n",
       "      <th>...</th>\n",
       "      <td>...</td>\n",
       "      <td>...</td>\n",
       "      <td>...</td>\n",
       "      <td>...</td>\n",
       "      <td>...</td>\n",
       "      <td>...</td>\n",
       "      <td>...</td>\n",
       "      <td>...</td>\n",
       "      <td>...</td>\n",
       "      <td>...</td>\n",
       "      <td>...</td>\n",
       "      <td>...</td>\n",
       "      <td>...</td>\n",
       "      <td>...</td>\n",
       "      <td>...</td>\n",
       "      <td>...</td>\n",
       "      <td>...</td>\n",
       "      <td>...</td>\n",
       "      <td>...</td>\n",
       "      <td>...</td>\n",
       "      <td>...</td>\n",
       "    </tr>\n",
       "    <tr>\n",
       "      <th>161</th>\n",
       "      <td>형법범</td>\n",
       "      <td>절도범</td>\n",
       "      <td>상습절도</td>\n",
       "      <td>산 야</td>\n",
       "      <td>4</td>\n",
       "      <td>0</td>\n",
       "      <td>0</td>\n",
       "      <td>0</td>\n",
       "      <td>0</td>\n",
       "      <td>0</td>\n",
       "      <td>...</td>\n",
       "      <td>0</td>\n",
       "      <td>0</td>\n",
       "      <td>0</td>\n",
       "      <td>0</td>\n",
       "      <td>0</td>\n",
       "      <td>0</td>\n",
       "      <td>0</td>\n",
       "      <td>0</td>\n",
       "      <td>0</td>\n",
       "      <td>0</td>\n",
       "    </tr>\n",
       "    <tr>\n",
       "      <th>162</th>\n",
       "      <td>형법범</td>\n",
       "      <td>절도범</td>\n",
       "      <td>상습절도</td>\n",
       "      <td>해 상</td>\n",
       "      <td>1</td>\n",
       "      <td>0</td>\n",
       "      <td>0</td>\n",
       "      <td>0</td>\n",
       "      <td>0</td>\n",
       "      <td>0</td>\n",
       "      <td>...</td>\n",
       "      <td>0</td>\n",
       "      <td>0</td>\n",
       "      <td>0</td>\n",
       "      <td>0</td>\n",
       "      <td>0</td>\n",
       "      <td>0</td>\n",
       "      <td>0</td>\n",
       "      <td>0</td>\n",
       "      <td>0</td>\n",
       "      <td>0</td>\n",
       "    </tr>\n",
       "    <tr>\n",
       "      <th>163</th>\n",
       "      <td>형법범</td>\n",
       "      <td>절도범</td>\n",
       "      <td>상습절도</td>\n",
       "      <td>부 대</td>\n",
       "      <td>1</td>\n",
       "      <td>0</td>\n",
       "      <td>0</td>\n",
       "      <td>0</td>\n",
       "      <td>0</td>\n",
       "      <td>0</td>\n",
       "      <td>...</td>\n",
       "      <td>0</td>\n",
       "      <td>0</td>\n",
       "      <td>0</td>\n",
       "      <td>0</td>\n",
       "      <td>0</td>\n",
       "      <td>0</td>\n",
       "      <td>0</td>\n",
       "      <td>0</td>\n",
       "      <td>0</td>\n",
       "      <td>0</td>\n",
       "    </tr>\n",
       "    <tr>\n",
       "      <th>164</th>\n",
       "      <td>형법범</td>\n",
       "      <td>절도범</td>\n",
       "      <td>상습절도</td>\n",
       "      <td>공 지</td>\n",
       "      <td>2</td>\n",
       "      <td>0</td>\n",
       "      <td>0</td>\n",
       "      <td>0</td>\n",
       "      <td>0</td>\n",
       "      <td>0</td>\n",
       "      <td>...</td>\n",
       "      <td>0</td>\n",
       "      <td>0</td>\n",
       "      <td>0</td>\n",
       "      <td>0</td>\n",
       "      <td>0</td>\n",
       "      <td>0</td>\n",
       "      <td>0</td>\n",
       "      <td>0</td>\n",
       "      <td>0</td>\n",
       "      <td>0</td>\n",
       "    </tr>\n",
       "    <tr>\n",
       "      <th>165</th>\n",
       "      <td>형법범</td>\n",
       "      <td>절도범</td>\n",
       "      <td>상습절도</td>\n",
       "      <td>기 타</td>\n",
       "      <td>84</td>\n",
       "      <td>0</td>\n",
       "      <td>0</td>\n",
       "      <td>0</td>\n",
       "      <td>0</td>\n",
       "      <td>0</td>\n",
       "      <td>...</td>\n",
       "      <td>0</td>\n",
       "      <td>0</td>\n",
       "      <td>0</td>\n",
       "      <td>0</td>\n",
       "      <td>0</td>\n",
       "      <td>0</td>\n",
       "      <td>0</td>\n",
       "      <td>0</td>\n",
       "      <td>0</td>\n",
       "      <td>0</td>\n",
       "    </tr>\n",
       "  </tbody>\n",
       "</table>\n",
       "<p>166 rows × 21 columns</p>\n",
       "</div>"
      ],
      "text/plain": [
       "       대    중     소      발생장소  1994년  1995년  1996년  1997년  1998년  1999년  ...  \\\n",
       "0    형법범  절도범    소계  아파트연립다세대   5571   5512   6951   8616   9658  10337  ...   \n",
       "1    형법범  절도범    소계      단독주택   9429   8292   9176  10263  11012  11894  ...   \n",
       "2    형법범  절도범    소계      고속도로     52     38     40     54     46     57  ...   \n",
       "3    형법범  절도범    소계       노 상  18892  22092  25248  30323  30734  25221  ...   \n",
       "4    형법범  절도범    소계       상 점   6227   5657   6280   6916   8201   8928  ...   \n",
       "..   ...  ...   ...       ...    ...    ...    ...    ...    ...    ...  ...   \n",
       "161  형법범  절도범  상습절도       산 야      4      0      0      0      0      0  ...   \n",
       "162  형법범  절도범  상습절도       해 상      1      0      0      0      0      0  ...   \n",
       "163  형법범  절도범  상습절도       부 대      1      0      0      0      0      0  ...   \n",
       "164  형법범  절도범  상습절도       공 지      2      0      0      0      0      0  ...   \n",
       "165  형법범  절도범  상습절도       기 타     84      0      0      0      0      0  ...   \n",
       "\n",
       "     2001년  2002년  2003년  2004년  2005년  2006년  2007년  2008년  2009년  2010년  \n",
       "0    27728  23031  24854  12981  19935  18744  20601  21125  22283  25624  \n",
       "1    21957  16588  16288  22743  27590  27251  31328  32560  36314  38158  \n",
       "2      114    118    151    113    155    343    143     97    103    150  \n",
       "3    53168  49064  50987  42471  50746  53182  56690  58195  62288  62806  \n",
       "4    16778  21099  21115  16388  17280  18868  21209  22704  31062  30156  \n",
       "..     ...    ...    ...    ...    ...    ...    ...    ...    ...    ...  \n",
       "161      0      0      0      0      0      0      0      0      0      0  \n",
       "162      0      0      0      0      0      0      0      0      0      0  \n",
       "163      0      0      0      0      0      0      0      0      0      0  \n",
       "164      0      0      0      0      0      0      0      0      0      0  \n",
       "165      0      0      0      0      0      0      0      0      0      0  \n",
       "\n",
       "[166 rows x 21 columns]"
      ]
     },
     "execution_count": 17,
     "metadata": {},
     "output_type": "execute_result"
    }
   ],
   "source": [
    "place_df = place_df_start[place_df_start[\"중\"] == \"절도범\"]\n",
    "place_df.reset_index(inplace=True, drop=True)\n",
    "place_df"
   ]
  },
  {
   "cell_type": "code",
   "execution_count": 18,
   "metadata": {},
   "outputs": [
    {
     "name": "stderr",
     "output_type": "stream",
     "text": [
      "/tmp/ipykernel_37862/2361322919.py:2: SettingWithCopyWarning:\n",
      "\n",
      "\n",
      "A value is trying to be set on a copy of a slice from a DataFrame\n",
      "\n",
      "See the caveats in the documentation: https://pandas.pydata.org/pandas-docs/stable/user_guide/indexing.html#returning-a-view-versus-a-copy\n",
      "\n"
     ]
    },
    {
     "data": {
      "text/html": [
       "<div>\n",
       "<style scoped>\n",
       "    .dataframe tbody tr th:only-of-type {\n",
       "        vertical-align: middle;\n",
       "    }\n",
       "\n",
       "    .dataframe tbody tr th {\n",
       "        vertical-align: top;\n",
       "    }\n",
       "\n",
       "    .dataframe thead th {\n",
       "        text-align: right;\n",
       "    }\n",
       "</style>\n",
       "<table border=\"1\" class=\"dataframe\">\n",
       "  <thead>\n",
       "    <tr style=\"text-align: right;\">\n",
       "      <th></th>\n",
       "      <th>중</th>\n",
       "      <th>소</th>\n",
       "      <th>발생장소</th>\n",
       "      <th>1994년</th>\n",
       "      <th>1995년</th>\n",
       "      <th>1996년</th>\n",
       "      <th>1997년</th>\n",
       "      <th>1998년</th>\n",
       "      <th>1999년</th>\n",
       "      <th>2000년</th>\n",
       "      <th>2001년</th>\n",
       "      <th>2002년</th>\n",
       "      <th>2003년</th>\n",
       "      <th>2004년</th>\n",
       "      <th>2005년</th>\n",
       "      <th>2006년</th>\n",
       "      <th>2007년</th>\n",
       "      <th>2008년</th>\n",
       "      <th>2009년</th>\n",
       "      <th>2010년</th>\n",
       "    </tr>\n",
       "  </thead>\n",
       "  <tbody>\n",
       "    <tr>\n",
       "      <th>0</th>\n",
       "      <td>절도범</td>\n",
       "      <td>소계</td>\n",
       "      <td>아파트연립다세대</td>\n",
       "      <td>5571</td>\n",
       "      <td>5512</td>\n",
       "      <td>6951</td>\n",
       "      <td>8616</td>\n",
       "      <td>9658</td>\n",
       "      <td>10337</td>\n",
       "      <td>25193</td>\n",
       "      <td>27728</td>\n",
       "      <td>23031</td>\n",
       "      <td>24854</td>\n",
       "      <td>12981</td>\n",
       "      <td>19935</td>\n",
       "      <td>18744</td>\n",
       "      <td>20601</td>\n",
       "      <td>21125</td>\n",
       "      <td>22283</td>\n",
       "      <td>25624</td>\n",
       "    </tr>\n",
       "    <tr>\n",
       "      <th>1</th>\n",
       "      <td>절도범</td>\n",
       "      <td>소계</td>\n",
       "      <td>단독주택</td>\n",
       "      <td>9429</td>\n",
       "      <td>8292</td>\n",
       "      <td>9176</td>\n",
       "      <td>10263</td>\n",
       "      <td>11012</td>\n",
       "      <td>11894</td>\n",
       "      <td>23273</td>\n",
       "      <td>21957</td>\n",
       "      <td>16588</td>\n",
       "      <td>16288</td>\n",
       "      <td>22743</td>\n",
       "      <td>27590</td>\n",
       "      <td>27251</td>\n",
       "      <td>31328</td>\n",
       "      <td>32560</td>\n",
       "      <td>36314</td>\n",
       "      <td>38158</td>\n",
       "    </tr>\n",
       "    <tr>\n",
       "      <th>2</th>\n",
       "      <td>절도범</td>\n",
       "      <td>소계</td>\n",
       "      <td>고속도로</td>\n",
       "      <td>52</td>\n",
       "      <td>38</td>\n",
       "      <td>40</td>\n",
       "      <td>54</td>\n",
       "      <td>46</td>\n",
       "      <td>57</td>\n",
       "      <td>133</td>\n",
       "      <td>114</td>\n",
       "      <td>118</td>\n",
       "      <td>151</td>\n",
       "      <td>113</td>\n",
       "      <td>155</td>\n",
       "      <td>343</td>\n",
       "      <td>143</td>\n",
       "      <td>97</td>\n",
       "      <td>103</td>\n",
       "      <td>150</td>\n",
       "    </tr>\n",
       "    <tr>\n",
       "      <th>3</th>\n",
       "      <td>절도범</td>\n",
       "      <td>소계</td>\n",
       "      <td>노 상</td>\n",
       "      <td>18892</td>\n",
       "      <td>22092</td>\n",
       "      <td>25248</td>\n",
       "      <td>30323</td>\n",
       "      <td>30734</td>\n",
       "      <td>25221</td>\n",
       "      <td>52315</td>\n",
       "      <td>53168</td>\n",
       "      <td>49064</td>\n",
       "      <td>50987</td>\n",
       "      <td>42471</td>\n",
       "      <td>50746</td>\n",
       "      <td>53182</td>\n",
       "      <td>56690</td>\n",
       "      <td>58195</td>\n",
       "      <td>62288</td>\n",
       "      <td>62806</td>\n",
       "    </tr>\n",
       "    <tr>\n",
       "      <th>4</th>\n",
       "      <td>절도범</td>\n",
       "      <td>소계</td>\n",
       "      <td>상 점</td>\n",
       "      <td>6227</td>\n",
       "      <td>5657</td>\n",
       "      <td>6280</td>\n",
       "      <td>6916</td>\n",
       "      <td>8201</td>\n",
       "      <td>8928</td>\n",
       "      <td>15911</td>\n",
       "      <td>16778</td>\n",
       "      <td>21099</td>\n",
       "      <td>21115</td>\n",
       "      <td>16388</td>\n",
       "      <td>17280</td>\n",
       "      <td>18868</td>\n",
       "      <td>21209</td>\n",
       "      <td>22704</td>\n",
       "      <td>31062</td>\n",
       "      <td>30156</td>\n",
       "    </tr>\n",
       "    <tr>\n",
       "      <th>5</th>\n",
       "      <td>절도범</td>\n",
       "      <td>소계</td>\n",
       "      <td>시장·노점</td>\n",
       "      <td>686</td>\n",
       "      <td>529</td>\n",
       "      <td>575</td>\n",
       "      <td>598</td>\n",
       "      <td>650</td>\n",
       "      <td>977</td>\n",
       "      <td>1106</td>\n",
       "      <td>1049</td>\n",
       "      <td>1376</td>\n",
       "      <td>1286</td>\n",
       "      <td>814</td>\n",
       "      <td>712</td>\n",
       "      <td>596</td>\n",
       "      <td>628</td>\n",
       "      <td>607</td>\n",
       "      <td>766</td>\n",
       "      <td>1252</td>\n",
       "    </tr>\n",
       "    <tr>\n",
       "      <th>6</th>\n",
       "      <td>절도범</td>\n",
       "      <td>소계</td>\n",
       "      <td>숙박업소목욕탕</td>\n",
       "      <td>1994</td>\n",
       "      <td>1958</td>\n",
       "      <td>2185</td>\n",
       "      <td>2418</td>\n",
       "      <td>2193</td>\n",
       "      <td>2162</td>\n",
       "      <td>4707</td>\n",
       "      <td>5849</td>\n",
       "      <td>5523</td>\n",
       "      <td>6265</td>\n",
       "      <td>5978</td>\n",
       "      <td>7402</td>\n",
       "      <td>7179</td>\n",
       "      <td>7644</td>\n",
       "      <td>7588</td>\n",
       "      <td>8561</td>\n",
       "      <td>9267</td>\n",
       "    </tr>\n",
       "    <tr>\n",
       "      <th>7</th>\n",
       "      <td>절도범</td>\n",
       "      <td>소계</td>\n",
       "      <td>유흥접객업소</td>\n",
       "      <td>1845</td>\n",
       "      <td>1603</td>\n",
       "      <td>1431</td>\n",
       "      <td>1463</td>\n",
       "      <td>1358</td>\n",
       "      <td>1713</td>\n",
       "      <td>2861</td>\n",
       "      <td>3503</td>\n",
       "      <td>3307</td>\n",
       "      <td>2821</td>\n",
       "      <td>6442</td>\n",
       "      <td>8374</td>\n",
       "      <td>8687</td>\n",
       "      <td>9417</td>\n",
       "      <td>10544</td>\n",
       "      <td>15218</td>\n",
       "      <td>16146</td>\n",
       "    </tr>\n",
       "    <tr>\n",
       "      <th>8</th>\n",
       "      <td>절도범</td>\n",
       "      <td>소계</td>\n",
       "      <td>사무실</td>\n",
       "      <td>3110</td>\n",
       "      <td>3425</td>\n",
       "      <td>3703</td>\n",
       "      <td>4388</td>\n",
       "      <td>4569</td>\n",
       "      <td>4428</td>\n",
       "      <td>8796</td>\n",
       "      <td>9198</td>\n",
       "      <td>8449</td>\n",
       "      <td>9418</td>\n",
       "      <td>6747</td>\n",
       "      <td>7568</td>\n",
       "      <td>6784</td>\n",
       "      <td>7150</td>\n",
       "      <td>8044</td>\n",
       "      <td>7867</td>\n",
       "      <td>8493</td>\n",
       "    </tr>\n",
       "    <tr>\n",
       "      <th>9</th>\n",
       "      <td>절도범</td>\n",
       "      <td>소계</td>\n",
       "      <td>공 장</td>\n",
       "      <td>1141</td>\n",
       "      <td>1011</td>\n",
       "      <td>1051</td>\n",
       "      <td>1138</td>\n",
       "      <td>1583</td>\n",
       "      <td>1332</td>\n",
       "      <td>2151</td>\n",
       "      <td>1990</td>\n",
       "      <td>1708</td>\n",
       "      <td>2119</td>\n",
       "      <td>1807</td>\n",
       "      <td>2178</td>\n",
       "      <td>2178</td>\n",
       "      <td>3333</td>\n",
       "      <td>3696</td>\n",
       "      <td>2827</td>\n",
       "      <td>3561</td>\n",
       "    </tr>\n",
       "    <tr>\n",
       "      <th>10</th>\n",
       "      <td>절도범</td>\n",
       "      <td>소계</td>\n",
       "      <td>공사장·광산</td>\n",
       "      <td>463</td>\n",
       "      <td>485</td>\n",
       "      <td>512</td>\n",
       "      <td>584</td>\n",
       "      <td>834</td>\n",
       "      <td>685</td>\n",
       "      <td>1118</td>\n",
       "      <td>1133</td>\n",
       "      <td>1101</td>\n",
       "      <td>1231</td>\n",
       "      <td>1778</td>\n",
       "      <td>1952</td>\n",
       "      <td>2067</td>\n",
       "      <td>2297</td>\n",
       "      <td>3130</td>\n",
       "      <td>3163</td>\n",
       "      <td>4036</td>\n",
       "    </tr>\n",
       "    <tr>\n",
       "      <th>11</th>\n",
       "      <td>절도범</td>\n",
       "      <td>소계</td>\n",
       "      <td>창고</td>\n",
       "      <td>332</td>\n",
       "      <td>347</td>\n",
       "      <td>339</td>\n",
       "      <td>427</td>\n",
       "      <td>638</td>\n",
       "      <td>630</td>\n",
       "      <td>1101</td>\n",
       "      <td>1026</td>\n",
       "      <td>736</td>\n",
       "      <td>1005</td>\n",
       "      <td>858</td>\n",
       "      <td>1130</td>\n",
       "      <td>1179</td>\n",
       "      <td>1657</td>\n",
       "      <td>2298</td>\n",
       "      <td>2194</td>\n",
       "      <td>2352</td>\n",
       "    </tr>\n",
       "    <tr>\n",
       "      <th>12</th>\n",
       "      <td>절도범</td>\n",
       "      <td>소계</td>\n",
       "      <td>역대합실</td>\n",
       "      <td>242</td>\n",
       "      <td>695</td>\n",
       "      <td>560</td>\n",
       "      <td>696</td>\n",
       "      <td>900</td>\n",
       "      <td>691</td>\n",
       "      <td>628</td>\n",
       "      <td>481</td>\n",
       "      <td>494</td>\n",
       "      <td>330</td>\n",
       "      <td>308</td>\n",
       "      <td>421</td>\n",
       "      <td>417</td>\n",
       "      <td>447</td>\n",
       "      <td>430</td>\n",
       "      <td>539</td>\n",
       "      <td>842</td>\n",
       "    </tr>\n",
       "    <tr>\n",
       "      <th>13</th>\n",
       "      <td>절도범</td>\n",
       "      <td>소계</td>\n",
       "      <td>지하철</td>\n",
       "      <td>486</td>\n",
       "      <td>536</td>\n",
       "      <td>426</td>\n",
       "      <td>450</td>\n",
       "      <td>541</td>\n",
       "      <td>485</td>\n",
       "      <td>580</td>\n",
       "      <td>585</td>\n",
       "      <td>475</td>\n",
       "      <td>476</td>\n",
       "      <td>462</td>\n",
       "      <td>527</td>\n",
       "      <td>617</td>\n",
       "      <td>505</td>\n",
       "      <td>508</td>\n",
       "      <td>507</td>\n",
       "      <td>737</td>\n",
       "    </tr>\n",
       "    <tr>\n",
       "      <th>14</th>\n",
       "      <td>절도범</td>\n",
       "      <td>소계</td>\n",
       "      <td>기타교통수단내</td>\n",
       "      <td>935</td>\n",
       "      <td>1002</td>\n",
       "      <td>1092</td>\n",
       "      <td>1427</td>\n",
       "      <td>1320</td>\n",
       "      <td>1440</td>\n",
       "      <td>2306</td>\n",
       "      <td>2373</td>\n",
       "      <td>1863</td>\n",
       "      <td>1713</td>\n",
       "      <td>811</td>\n",
       "      <td>740</td>\n",
       "      <td>1067</td>\n",
       "      <td>1077</td>\n",
       "      <td>1284</td>\n",
       "      <td>1759</td>\n",
       "      <td>2205</td>\n",
       "    </tr>\n",
       "    <tr>\n",
       "      <th>15</th>\n",
       "      <td>절도범</td>\n",
       "      <td>소계</td>\n",
       "      <td>흥행장</td>\n",
       "      <td>232</td>\n",
       "      <td>227</td>\n",
       "      <td>175</td>\n",
       "      <td>167</td>\n",
       "      <td>205</td>\n",
       "      <td>287</td>\n",
       "      <td>625</td>\n",
       "      <td>451</td>\n",
       "      <td>586</td>\n",
       "      <td>380</td>\n",
       "      <td>664</td>\n",
       "      <td>1197</td>\n",
       "      <td>1018</td>\n",
       "      <td>596</td>\n",
       "      <td>524</td>\n",
       "      <td>713</td>\n",
       "      <td>631</td>\n",
       "    </tr>\n",
       "    <tr>\n",
       "      <th>16</th>\n",
       "      <td>절도범</td>\n",
       "      <td>소계</td>\n",
       "      <td>유원지</td>\n",
       "      <td>198</td>\n",
       "      <td>128</td>\n",
       "      <td>128</td>\n",
       "      <td>110</td>\n",
       "      <td>152</td>\n",
       "      <td>152</td>\n",
       "      <td>269</td>\n",
       "      <td>260</td>\n",
       "      <td>209</td>\n",
       "      <td>210</td>\n",
       "      <td>555</td>\n",
       "      <td>823</td>\n",
       "      <td>705</td>\n",
       "      <td>852</td>\n",
       "      <td>1009</td>\n",
       "      <td>1116</td>\n",
       "      <td>1536</td>\n",
       "    </tr>\n",
       "    <tr>\n",
       "      <th>17</th>\n",
       "      <td>절도범</td>\n",
       "      <td>소계</td>\n",
       "      <td>학 교</td>\n",
       "      <td>380</td>\n",
       "      <td>339</td>\n",
       "      <td>351</td>\n",
       "      <td>463</td>\n",
       "      <td>640</td>\n",
       "      <td>578</td>\n",
       "      <td>853</td>\n",
       "      <td>1279</td>\n",
       "      <td>1517</td>\n",
       "      <td>1101</td>\n",
       "      <td>1916</td>\n",
       "      <td>1939</td>\n",
       "      <td>1650</td>\n",
       "      <td>1918</td>\n",
       "      <td>1958</td>\n",
       "      <td>3394</td>\n",
       "      <td>3212</td>\n",
       "    </tr>\n",
       "    <tr>\n",
       "      <th>18</th>\n",
       "      <td>절도범</td>\n",
       "      <td>소계</td>\n",
       "      <td>금융기관</td>\n",
       "      <td>196</td>\n",
       "      <td>199</td>\n",
       "      <td>272</td>\n",
       "      <td>336</td>\n",
       "      <td>355</td>\n",
       "      <td>398</td>\n",
       "      <td>1136</td>\n",
       "      <td>2777</td>\n",
       "      <td>10963</td>\n",
       "      <td>13145</td>\n",
       "      <td>3110</td>\n",
       "      <td>2235</td>\n",
       "      <td>2708</td>\n",
       "      <td>3200</td>\n",
       "      <td>3938</td>\n",
       "      <td>4913</td>\n",
       "      <td>5902</td>\n",
       "    </tr>\n",
       "    <tr>\n",
       "      <th>19</th>\n",
       "      <td>절도범</td>\n",
       "      <td>소계</td>\n",
       "      <td>의료기관</td>\n",
       "      <td>315</td>\n",
       "      <td>273</td>\n",
       "      <td>361</td>\n",
       "      <td>414</td>\n",
       "      <td>443</td>\n",
       "      <td>485</td>\n",
       "      <td>952</td>\n",
       "      <td>1119</td>\n",
       "      <td>987</td>\n",
       "      <td>1109</td>\n",
       "      <td>1408</td>\n",
       "      <td>1689</td>\n",
       "      <td>2020</td>\n",
       "      <td>1966</td>\n",
       "      <td>2048</td>\n",
       "      <td>2566</td>\n",
       "      <td>2749</td>\n",
       "    </tr>\n",
       "    <tr>\n",
       "      <th>20</th>\n",
       "      <td>절도범</td>\n",
       "      <td>소계</td>\n",
       "      <td>종교기관</td>\n",
       "      <td>201</td>\n",
       "      <td>149</td>\n",
       "      <td>155</td>\n",
       "      <td>243</td>\n",
       "      <td>233</td>\n",
       "      <td>343</td>\n",
       "      <td>722</td>\n",
       "      <td>621</td>\n",
       "      <td>705</td>\n",
       "      <td>772</td>\n",
       "      <td>877</td>\n",
       "      <td>1068</td>\n",
       "      <td>1151</td>\n",
       "      <td>1374</td>\n",
       "      <td>1369</td>\n",
       "      <td>2174</td>\n",
       "      <td>2305</td>\n",
       "    </tr>\n",
       "    <tr>\n",
       "      <th>21</th>\n",
       "      <td>절도범</td>\n",
       "      <td>소계</td>\n",
       "      <td>산 야</td>\n",
       "      <td>236</td>\n",
       "      <td>211</td>\n",
       "      <td>157</td>\n",
       "      <td>216</td>\n",
       "      <td>314</td>\n",
       "      <td>294</td>\n",
       "      <td>458</td>\n",
       "      <td>470</td>\n",
       "      <td>396</td>\n",
       "      <td>438</td>\n",
       "      <td>822</td>\n",
       "      <td>1057</td>\n",
       "      <td>1176</td>\n",
       "      <td>1437</td>\n",
       "      <td>2013</td>\n",
       "      <td>1700</td>\n",
       "      <td>2397</td>\n",
       "    </tr>\n",
       "    <tr>\n",
       "      <th>22</th>\n",
       "      <td>절도범</td>\n",
       "      <td>소계</td>\n",
       "      <td>해 상</td>\n",
       "      <td>124</td>\n",
       "      <td>103</td>\n",
       "      <td>75</td>\n",
       "      <td>162</td>\n",
       "      <td>443</td>\n",
       "      <td>443</td>\n",
       "      <td>595</td>\n",
       "      <td>210</td>\n",
       "      <td>243</td>\n",
       "      <td>195</td>\n",
       "      <td>138</td>\n",
       "      <td>179</td>\n",
       "      <td>49</td>\n",
       "      <td>59</td>\n",
       "      <td>57</td>\n",
       "      <td>479</td>\n",
       "      <td>50</td>\n",
       "    </tr>\n",
       "    <tr>\n",
       "      <th>23</th>\n",
       "      <td>절도범</td>\n",
       "      <td>소계</td>\n",
       "      <td>부 대</td>\n",
       "      <td>17</td>\n",
       "      <td>16</td>\n",
       "      <td>13</td>\n",
       "      <td>17</td>\n",
       "      <td>21</td>\n",
       "      <td>20</td>\n",
       "      <td>58</td>\n",
       "      <td>26</td>\n",
       "      <td>46</td>\n",
       "      <td>31</td>\n",
       "      <td>10</td>\n",
       "      <td>14</td>\n",
       "      <td>22</td>\n",
       "      <td>21</td>\n",
       "      <td>40</td>\n",
       "      <td>46</td>\n",
       "      <td>81</td>\n",
       "    </tr>\n",
       "    <tr>\n",
       "      <th>24</th>\n",
       "      <td>절도범</td>\n",
       "      <td>소계</td>\n",
       "      <td>구금장소</td>\n",
       "      <td>32</td>\n",
       "      <td>9</td>\n",
       "      <td>10</td>\n",
       "      <td>10</td>\n",
       "      <td>7</td>\n",
       "      <td>6</td>\n",
       "      <td>12</td>\n",
       "      <td>8</td>\n",
       "      <td>10</td>\n",
       "      <td>11</td>\n",
       "      <td>0</td>\n",
       "      <td>1</td>\n",
       "      <td>0</td>\n",
       "      <td>0</td>\n",
       "      <td>0</td>\n",
       "      <td>2</td>\n",
       "      <td>2</td>\n",
       "    </tr>\n",
       "    <tr>\n",
       "      <th>25</th>\n",
       "      <td>절도범</td>\n",
       "      <td>소계</td>\n",
       "      <td>공 지</td>\n",
       "      <td>621</td>\n",
       "      <td>578</td>\n",
       "      <td>557</td>\n",
       "      <td>622</td>\n",
       "      <td>679</td>\n",
       "      <td>670</td>\n",
       "      <td>1057</td>\n",
       "      <td>807</td>\n",
       "      <td>567</td>\n",
       "      <td>636</td>\n",
       "      <td>329</td>\n",
       "      <td>484</td>\n",
       "      <td>369</td>\n",
       "      <td>396</td>\n",
       "      <td>452</td>\n",
       "      <td>318</td>\n",
       "      <td>370</td>\n",
       "    </tr>\n",
       "    <tr>\n",
       "      <th>26</th>\n",
       "      <td>절도범</td>\n",
       "      <td>소계</td>\n",
       "      <td>기 타</td>\n",
       "      <td>6298</td>\n",
       "      <td>7296</td>\n",
       "      <td>8415</td>\n",
       "      <td>10542</td>\n",
       "      <td>13709</td>\n",
       "      <td>14739</td>\n",
       "      <td>24960</td>\n",
       "      <td>25744</td>\n",
       "      <td>27296</td>\n",
       "      <td>29265</td>\n",
       "      <td>24781</td>\n",
       "      <td>31384</td>\n",
       "      <td>32643</td>\n",
       "      <td>36513</td>\n",
       "      <td>36998</td>\n",
       "      <td>43551</td>\n",
       "      <td>44390</td>\n",
       "    </tr>\n",
       "  </tbody>\n",
       "</table>\n",
       "</div>"
      ],
      "text/plain": [
       "      중   소      발생장소  1994년  1995년  1996년  1997년  1998년  1999년  2000년  2001년  \\\n",
       "0   절도범  소계  아파트연립다세대   5571   5512   6951   8616   9658  10337  25193  27728   \n",
       "1   절도범  소계      단독주택   9429   8292   9176  10263  11012  11894  23273  21957   \n",
       "2   절도범  소계      고속도로     52     38     40     54     46     57    133    114   \n",
       "3   절도범  소계       노 상  18892  22092  25248  30323  30734  25221  52315  53168   \n",
       "4   절도범  소계       상 점   6227   5657   6280   6916   8201   8928  15911  16778   \n",
       "5   절도범  소계     시장·노점    686    529    575    598    650    977   1106   1049   \n",
       "6   절도범  소계   숙박업소목욕탕   1994   1958   2185   2418   2193   2162   4707   5849   \n",
       "7   절도범  소계    유흥접객업소   1845   1603   1431   1463   1358   1713   2861   3503   \n",
       "8   절도범  소계       사무실   3110   3425   3703   4388   4569   4428   8796   9198   \n",
       "9   절도범  소계       공 장   1141   1011   1051   1138   1583   1332   2151   1990   \n",
       "10  절도범  소계    공사장·광산    463    485    512    584    834    685   1118   1133   \n",
       "11  절도범  소계        창고    332    347    339    427    638    630   1101   1026   \n",
       "12  절도범  소계      역대합실    242    695    560    696    900    691    628    481   \n",
       "13  절도범  소계       지하철    486    536    426    450    541    485    580    585   \n",
       "14  절도범  소계   기타교통수단내    935   1002   1092   1427   1320   1440   2306   2373   \n",
       "15  절도범  소계       흥행장    232    227    175    167    205    287    625    451   \n",
       "16  절도범  소계       유원지    198    128    128    110    152    152    269    260   \n",
       "17  절도범  소계       학 교    380    339    351    463    640    578    853   1279   \n",
       "18  절도범  소계      금융기관    196    199    272    336    355    398   1136   2777   \n",
       "19  절도범  소계      의료기관    315    273    361    414    443    485    952   1119   \n",
       "20  절도범  소계      종교기관    201    149    155    243    233    343    722    621   \n",
       "21  절도범  소계       산 야    236    211    157    216    314    294    458    470   \n",
       "22  절도범  소계       해 상    124    103     75    162    443    443    595    210   \n",
       "23  절도범  소계       부 대     17     16     13     17     21     20     58     26   \n",
       "24  절도범  소계      구금장소     32      9     10     10      7      6     12      8   \n",
       "25  절도범  소계       공 지    621    578    557    622    679    670   1057    807   \n",
       "26  절도범  소계       기 타   6298   7296   8415  10542  13709  14739  24960  25744   \n",
       "\n",
       "    2002년  2003년  2004년  2005년  2006년  2007년  2008년  2009년  2010년  \n",
       "0   23031  24854  12981  19935  18744  20601  21125  22283  25624  \n",
       "1   16588  16288  22743  27590  27251  31328  32560  36314  38158  \n",
       "2     118    151    113    155    343    143     97    103    150  \n",
       "3   49064  50987  42471  50746  53182  56690  58195  62288  62806  \n",
       "4   21099  21115  16388  17280  18868  21209  22704  31062  30156  \n",
       "5    1376   1286    814    712    596    628    607    766   1252  \n",
       "6    5523   6265   5978   7402   7179   7644   7588   8561   9267  \n",
       "7    3307   2821   6442   8374   8687   9417  10544  15218  16146  \n",
       "8    8449   9418   6747   7568   6784   7150   8044   7867   8493  \n",
       "9    1708   2119   1807   2178   2178   3333   3696   2827   3561  \n",
       "10   1101   1231   1778   1952   2067   2297   3130   3163   4036  \n",
       "11    736   1005    858   1130   1179   1657   2298   2194   2352  \n",
       "12    494    330    308    421    417    447    430    539    842  \n",
       "13    475    476    462    527    617    505    508    507    737  \n",
       "14   1863   1713    811    740   1067   1077   1284   1759   2205  \n",
       "15    586    380    664   1197   1018    596    524    713    631  \n",
       "16    209    210    555    823    705    852   1009   1116   1536  \n",
       "17   1517   1101   1916   1939   1650   1918   1958   3394   3212  \n",
       "18  10963  13145   3110   2235   2708   3200   3938   4913   5902  \n",
       "19    987   1109   1408   1689   2020   1966   2048   2566   2749  \n",
       "20    705    772    877   1068   1151   1374   1369   2174   2305  \n",
       "21    396    438    822   1057   1176   1437   2013   1700   2397  \n",
       "22    243    195    138    179     49     59     57    479     50  \n",
       "23     46     31     10     14     22     21     40     46     81  \n",
       "24     10     11      0      1      0      0      0      2      2  \n",
       "25    567    636    329    484    369    396    452    318    370  \n",
       "26  27296  29265  24781  31384  32643  36513  36998  43551  44390  "
      ]
     },
     "execution_count": 18,
     "metadata": {},
     "output_type": "execute_result"
    }
   ],
   "source": [
    "place_df_total = place_df[place_df[\"소\"] == \"소계\"]\n",
    "place_df_total.drop(columns=\"대\", inplace=True)\n",
    "place_df_total.reset_index(inplace=True, drop=True)\n",
    "place_df_total"
   ]
  },
  {
   "cell_type": "code",
   "execution_count": 19,
   "metadata": {},
   "outputs": [
    {
     "data": {
      "application/vnd.plotly.v1+json": {
       "config": {
        "plotlyServerURL": "https://plot.ly"
       },
       "data": [
        {
         "hovertemplate": "발생장소=아파트연립다세대<br>년도=%{x}<br>발생건수=%{y}<extra></extra>",
         "legendgroup": "아파트연립다세대",
         "line": {
          "color": "#636efa",
          "dash": "solid"
         },
         "marker": {
          "symbol": "circle"
         },
         "mode": "lines+markers",
         "name": "아파트연립다세대",
         "orientation": "v",
         "showlegend": true,
         "type": "scatter",
         "x": [
          "1994년",
          "1995년",
          "1996년",
          "1997년",
          "1998년",
          "1999년",
          "2000년",
          "2001년",
          "2002년",
          "2003년",
          "2004년",
          "2005년",
          "2006년",
          "2007년",
          "2008년",
          "2009년",
          "2010년"
         ],
         "xaxis": "x",
         "y": [
          5571,
          5512,
          6951,
          8616,
          9658,
          10337,
          25193,
          27728,
          23031,
          24854,
          12981,
          19935,
          18744,
          20601,
          21125,
          22283,
          25624
         ],
         "yaxis": "y"
        },
        {
         "hovertemplate": "발생장소=단독주택<br>년도=%{x}<br>발생건수=%{y}<extra></extra>",
         "legendgroup": "단독주택",
         "line": {
          "color": "#EF553B",
          "dash": "solid"
         },
         "marker": {
          "symbol": "circle"
         },
         "mode": "lines+markers",
         "name": "단독주택",
         "orientation": "v",
         "showlegend": true,
         "type": "scatter",
         "x": [
          "1994년",
          "1995년",
          "1996년",
          "1997년",
          "1998년",
          "1999년",
          "2000년",
          "2001년",
          "2002년",
          "2003년",
          "2004년",
          "2005년",
          "2006년",
          "2007년",
          "2008년",
          "2009년",
          "2010년"
         ],
         "xaxis": "x",
         "y": [
          9429,
          8292,
          9176,
          10263,
          11012,
          11894,
          23273,
          21957,
          16588,
          16288,
          22743,
          27590,
          27251,
          31328,
          32560,
          36314,
          38158
         ],
         "yaxis": "y"
        },
        {
         "hovertemplate": "발생장소=고속도로<br>년도=%{x}<br>발생건수=%{y}<extra></extra>",
         "legendgroup": "고속도로",
         "line": {
          "color": "#00cc96",
          "dash": "solid"
         },
         "marker": {
          "symbol": "circle"
         },
         "mode": "lines+markers",
         "name": "고속도로",
         "orientation": "v",
         "showlegend": true,
         "type": "scatter",
         "x": [
          "1994년",
          "1995년",
          "1996년",
          "1997년",
          "1998년",
          "1999년",
          "2000년",
          "2001년",
          "2002년",
          "2003년",
          "2004년",
          "2005년",
          "2006년",
          "2007년",
          "2008년",
          "2009년",
          "2010년"
         ],
         "xaxis": "x",
         "y": [
          52,
          38,
          40,
          54,
          46,
          57,
          133,
          114,
          118,
          151,
          113,
          155,
          343,
          143,
          97,
          103,
          150
         ],
         "yaxis": "y"
        },
        {
         "hovertemplate": "발생장소=노 상<br>년도=%{x}<br>발생건수=%{y}<extra></extra>",
         "legendgroup": "노 상",
         "line": {
          "color": "#ab63fa",
          "dash": "solid"
         },
         "marker": {
          "symbol": "circle"
         },
         "mode": "lines+markers",
         "name": "노 상",
         "orientation": "v",
         "showlegend": true,
         "type": "scatter",
         "x": [
          "1994년",
          "1995년",
          "1996년",
          "1997년",
          "1998년",
          "1999년",
          "2000년",
          "2001년",
          "2002년",
          "2003년",
          "2004년",
          "2005년",
          "2006년",
          "2007년",
          "2008년",
          "2009년",
          "2010년"
         ],
         "xaxis": "x",
         "y": [
          18892,
          22092,
          25248,
          30323,
          30734,
          25221,
          52315,
          53168,
          49064,
          50987,
          42471,
          50746,
          53182,
          56690,
          58195,
          62288,
          62806
         ],
         "yaxis": "y"
        },
        {
         "hovertemplate": "발생장소=상 점<br>년도=%{x}<br>발생건수=%{y}<extra></extra>",
         "legendgroup": "상 점",
         "line": {
          "color": "#FFA15A",
          "dash": "solid"
         },
         "marker": {
          "symbol": "circle"
         },
         "mode": "lines+markers",
         "name": "상 점",
         "orientation": "v",
         "showlegend": true,
         "type": "scatter",
         "x": [
          "1994년",
          "1995년",
          "1996년",
          "1997년",
          "1998년",
          "1999년",
          "2000년",
          "2001년",
          "2002년",
          "2003년",
          "2004년",
          "2005년",
          "2006년",
          "2007년",
          "2008년",
          "2009년",
          "2010년"
         ],
         "xaxis": "x",
         "y": [
          6227,
          5657,
          6280,
          6916,
          8201,
          8928,
          15911,
          16778,
          21099,
          21115,
          16388,
          17280,
          18868,
          21209,
          22704,
          31062,
          30156
         ],
         "yaxis": "y"
        },
        {
         "hovertemplate": "발생장소=시장·노점<br>년도=%{x}<br>발생건수=%{y}<extra></extra>",
         "legendgroup": "시장·노점",
         "line": {
          "color": "#19d3f3",
          "dash": "solid"
         },
         "marker": {
          "symbol": "circle"
         },
         "mode": "lines+markers",
         "name": "시장·노점",
         "orientation": "v",
         "showlegend": true,
         "type": "scatter",
         "x": [
          "1994년",
          "1995년",
          "1996년",
          "1997년",
          "1998년",
          "1999년",
          "2000년",
          "2001년",
          "2002년",
          "2003년",
          "2004년",
          "2005년",
          "2006년",
          "2007년",
          "2008년",
          "2009년",
          "2010년"
         ],
         "xaxis": "x",
         "y": [
          686,
          529,
          575,
          598,
          650,
          977,
          1106,
          1049,
          1376,
          1286,
          814,
          712,
          596,
          628,
          607,
          766,
          1252
         ],
         "yaxis": "y"
        },
        {
         "hovertemplate": "발생장소=숙박업소목욕탕<br>년도=%{x}<br>발생건수=%{y}<extra></extra>",
         "legendgroup": "숙박업소목욕탕",
         "line": {
          "color": "#FF6692",
          "dash": "solid"
         },
         "marker": {
          "symbol": "circle"
         },
         "mode": "lines+markers",
         "name": "숙박업소목욕탕",
         "orientation": "v",
         "showlegend": true,
         "type": "scatter",
         "x": [
          "1994년",
          "1995년",
          "1996년",
          "1997년",
          "1998년",
          "1999년",
          "2000년",
          "2001년",
          "2002년",
          "2003년",
          "2004년",
          "2005년",
          "2006년",
          "2007년",
          "2008년",
          "2009년",
          "2010년"
         ],
         "xaxis": "x",
         "y": [
          1994,
          1958,
          2185,
          2418,
          2193,
          2162,
          4707,
          5849,
          5523,
          6265,
          5978,
          7402,
          7179,
          7644,
          7588,
          8561,
          9267
         ],
         "yaxis": "y"
        },
        {
         "hovertemplate": "발생장소=유흥접객업소<br>년도=%{x}<br>발생건수=%{y}<extra></extra>",
         "legendgroup": "유흥접객업소",
         "line": {
          "color": "#B6E880",
          "dash": "solid"
         },
         "marker": {
          "symbol": "circle"
         },
         "mode": "lines+markers",
         "name": "유흥접객업소",
         "orientation": "v",
         "showlegend": true,
         "type": "scatter",
         "x": [
          "1994년",
          "1995년",
          "1996년",
          "1997년",
          "1998년",
          "1999년",
          "2000년",
          "2001년",
          "2002년",
          "2003년",
          "2004년",
          "2005년",
          "2006년",
          "2007년",
          "2008년",
          "2009년",
          "2010년"
         ],
         "xaxis": "x",
         "y": [
          1845,
          1603,
          1431,
          1463,
          1358,
          1713,
          2861,
          3503,
          3307,
          2821,
          6442,
          8374,
          8687,
          9417,
          10544,
          15218,
          16146
         ],
         "yaxis": "y"
        },
        {
         "hovertemplate": "발생장소=사무실<br>년도=%{x}<br>발생건수=%{y}<extra></extra>",
         "legendgroup": "사무실",
         "line": {
          "color": "#FF97FF",
          "dash": "solid"
         },
         "marker": {
          "symbol": "circle"
         },
         "mode": "lines+markers",
         "name": "사무실",
         "orientation": "v",
         "showlegend": true,
         "type": "scatter",
         "x": [
          "1994년",
          "1995년",
          "1996년",
          "1997년",
          "1998년",
          "1999년",
          "2000년",
          "2001년",
          "2002년",
          "2003년",
          "2004년",
          "2005년",
          "2006년",
          "2007년",
          "2008년",
          "2009년",
          "2010년"
         ],
         "xaxis": "x",
         "y": [
          3110,
          3425,
          3703,
          4388,
          4569,
          4428,
          8796,
          9198,
          8449,
          9418,
          6747,
          7568,
          6784,
          7150,
          8044,
          7867,
          8493
         ],
         "yaxis": "y"
        },
        {
         "hovertemplate": "발생장소=공 장<br>년도=%{x}<br>발생건수=%{y}<extra></extra>",
         "legendgroup": "공 장",
         "line": {
          "color": "#FECB52",
          "dash": "solid"
         },
         "marker": {
          "symbol": "circle"
         },
         "mode": "lines+markers",
         "name": "공 장",
         "orientation": "v",
         "showlegend": true,
         "type": "scatter",
         "x": [
          "1994년",
          "1995년",
          "1996년",
          "1997년",
          "1998년",
          "1999년",
          "2000년",
          "2001년",
          "2002년",
          "2003년",
          "2004년",
          "2005년",
          "2006년",
          "2007년",
          "2008년",
          "2009년",
          "2010년"
         ],
         "xaxis": "x",
         "y": [
          1141,
          1011,
          1051,
          1138,
          1583,
          1332,
          2151,
          1990,
          1708,
          2119,
          1807,
          2178,
          2178,
          3333,
          3696,
          2827,
          3561
         ],
         "yaxis": "y"
        },
        {
         "hovertemplate": "발생장소=공사장·광산<br>년도=%{x}<br>발생건수=%{y}<extra></extra>",
         "legendgroup": "공사장·광산",
         "line": {
          "color": "#636efa",
          "dash": "solid"
         },
         "marker": {
          "symbol": "circle"
         },
         "mode": "lines+markers",
         "name": "공사장·광산",
         "orientation": "v",
         "showlegend": true,
         "type": "scatter",
         "x": [
          "1994년",
          "1995년",
          "1996년",
          "1997년",
          "1998년",
          "1999년",
          "2000년",
          "2001년",
          "2002년",
          "2003년",
          "2004년",
          "2005년",
          "2006년",
          "2007년",
          "2008년",
          "2009년",
          "2010년"
         ],
         "xaxis": "x",
         "y": [
          463,
          485,
          512,
          584,
          834,
          685,
          1118,
          1133,
          1101,
          1231,
          1778,
          1952,
          2067,
          2297,
          3130,
          3163,
          4036
         ],
         "yaxis": "y"
        },
        {
         "hovertemplate": "발생장소=창고<br>년도=%{x}<br>발생건수=%{y}<extra></extra>",
         "legendgroup": "창고",
         "line": {
          "color": "#EF553B",
          "dash": "solid"
         },
         "marker": {
          "symbol": "circle"
         },
         "mode": "lines+markers",
         "name": "창고",
         "orientation": "v",
         "showlegend": true,
         "type": "scatter",
         "x": [
          "1994년",
          "1995년",
          "1996년",
          "1997년",
          "1998년",
          "1999년",
          "2000년",
          "2001년",
          "2002년",
          "2003년",
          "2004년",
          "2005년",
          "2006년",
          "2007년",
          "2008년",
          "2009년",
          "2010년"
         ],
         "xaxis": "x",
         "y": [
          332,
          347,
          339,
          427,
          638,
          630,
          1101,
          1026,
          736,
          1005,
          858,
          1130,
          1179,
          1657,
          2298,
          2194,
          2352
         ],
         "yaxis": "y"
        },
        {
         "hovertemplate": "발생장소=역대합실<br>년도=%{x}<br>발생건수=%{y}<extra></extra>",
         "legendgroup": "역대합실",
         "line": {
          "color": "#00cc96",
          "dash": "solid"
         },
         "marker": {
          "symbol": "circle"
         },
         "mode": "lines+markers",
         "name": "역대합실",
         "orientation": "v",
         "showlegend": true,
         "type": "scatter",
         "x": [
          "1994년",
          "1995년",
          "1996년",
          "1997년",
          "1998년",
          "1999년",
          "2000년",
          "2001년",
          "2002년",
          "2003년",
          "2004년",
          "2005년",
          "2006년",
          "2007년",
          "2008년",
          "2009년",
          "2010년"
         ],
         "xaxis": "x",
         "y": [
          242,
          695,
          560,
          696,
          900,
          691,
          628,
          481,
          494,
          330,
          308,
          421,
          417,
          447,
          430,
          539,
          842
         ],
         "yaxis": "y"
        },
        {
         "hovertemplate": "발생장소=지하철<br>년도=%{x}<br>발생건수=%{y}<extra></extra>",
         "legendgroup": "지하철",
         "line": {
          "color": "#ab63fa",
          "dash": "solid"
         },
         "marker": {
          "symbol": "circle"
         },
         "mode": "lines+markers",
         "name": "지하철",
         "orientation": "v",
         "showlegend": true,
         "type": "scatter",
         "x": [
          "1994년",
          "1995년",
          "1996년",
          "1997년",
          "1998년",
          "1999년",
          "2000년",
          "2001년",
          "2002년",
          "2003년",
          "2004년",
          "2005년",
          "2006년",
          "2007년",
          "2008년",
          "2009년",
          "2010년"
         ],
         "xaxis": "x",
         "y": [
          486,
          536,
          426,
          450,
          541,
          485,
          580,
          585,
          475,
          476,
          462,
          527,
          617,
          505,
          508,
          507,
          737
         ],
         "yaxis": "y"
        },
        {
         "hovertemplate": "발생장소=기타교통수단내<br>년도=%{x}<br>발생건수=%{y}<extra></extra>",
         "legendgroup": "기타교통수단내",
         "line": {
          "color": "#FFA15A",
          "dash": "solid"
         },
         "marker": {
          "symbol": "circle"
         },
         "mode": "lines+markers",
         "name": "기타교통수단내",
         "orientation": "v",
         "showlegend": true,
         "type": "scatter",
         "x": [
          "1994년",
          "1995년",
          "1996년",
          "1997년",
          "1998년",
          "1999년",
          "2000년",
          "2001년",
          "2002년",
          "2003년",
          "2004년",
          "2005년",
          "2006년",
          "2007년",
          "2008년",
          "2009년",
          "2010년"
         ],
         "xaxis": "x",
         "y": [
          935,
          1002,
          1092,
          1427,
          1320,
          1440,
          2306,
          2373,
          1863,
          1713,
          811,
          740,
          1067,
          1077,
          1284,
          1759,
          2205
         ],
         "yaxis": "y"
        },
        {
         "hovertemplate": "발생장소=흥행장<br>년도=%{x}<br>발생건수=%{y}<extra></extra>",
         "legendgroup": "흥행장",
         "line": {
          "color": "#19d3f3",
          "dash": "solid"
         },
         "marker": {
          "symbol": "circle"
         },
         "mode": "lines+markers",
         "name": "흥행장",
         "orientation": "v",
         "showlegend": true,
         "type": "scatter",
         "x": [
          "1994년",
          "1995년",
          "1996년",
          "1997년",
          "1998년",
          "1999년",
          "2000년",
          "2001년",
          "2002년",
          "2003년",
          "2004년",
          "2005년",
          "2006년",
          "2007년",
          "2008년",
          "2009년",
          "2010년"
         ],
         "xaxis": "x",
         "y": [
          232,
          227,
          175,
          167,
          205,
          287,
          625,
          451,
          586,
          380,
          664,
          1197,
          1018,
          596,
          524,
          713,
          631
         ],
         "yaxis": "y"
        },
        {
         "hovertemplate": "발생장소=유원지<br>년도=%{x}<br>발생건수=%{y}<extra></extra>",
         "legendgroup": "유원지",
         "line": {
          "color": "#FF6692",
          "dash": "solid"
         },
         "marker": {
          "symbol": "circle"
         },
         "mode": "lines+markers",
         "name": "유원지",
         "orientation": "v",
         "showlegend": true,
         "type": "scatter",
         "x": [
          "1994년",
          "1995년",
          "1996년",
          "1997년",
          "1998년",
          "1999년",
          "2000년",
          "2001년",
          "2002년",
          "2003년",
          "2004년",
          "2005년",
          "2006년",
          "2007년",
          "2008년",
          "2009년",
          "2010년"
         ],
         "xaxis": "x",
         "y": [
          198,
          128,
          128,
          110,
          152,
          152,
          269,
          260,
          209,
          210,
          555,
          823,
          705,
          852,
          1009,
          1116,
          1536
         ],
         "yaxis": "y"
        },
        {
         "hovertemplate": "발생장소=학 교<br>년도=%{x}<br>발생건수=%{y}<extra></extra>",
         "legendgroup": "학 교",
         "line": {
          "color": "#B6E880",
          "dash": "solid"
         },
         "marker": {
          "symbol": "circle"
         },
         "mode": "lines+markers",
         "name": "학 교",
         "orientation": "v",
         "showlegend": true,
         "type": "scatter",
         "x": [
          "1994년",
          "1995년",
          "1996년",
          "1997년",
          "1998년",
          "1999년",
          "2000년",
          "2001년",
          "2002년",
          "2003년",
          "2004년",
          "2005년",
          "2006년",
          "2007년",
          "2008년",
          "2009년",
          "2010년"
         ],
         "xaxis": "x",
         "y": [
          380,
          339,
          351,
          463,
          640,
          578,
          853,
          1279,
          1517,
          1101,
          1916,
          1939,
          1650,
          1918,
          1958,
          3394,
          3212
         ],
         "yaxis": "y"
        },
        {
         "hovertemplate": "발생장소=금융기관<br>년도=%{x}<br>발생건수=%{y}<extra></extra>",
         "legendgroup": "금융기관",
         "line": {
          "color": "#FF97FF",
          "dash": "solid"
         },
         "marker": {
          "symbol": "circle"
         },
         "mode": "lines+markers",
         "name": "금융기관",
         "orientation": "v",
         "showlegend": true,
         "type": "scatter",
         "x": [
          "1994년",
          "1995년",
          "1996년",
          "1997년",
          "1998년",
          "1999년",
          "2000년",
          "2001년",
          "2002년",
          "2003년",
          "2004년",
          "2005년",
          "2006년",
          "2007년",
          "2008년",
          "2009년",
          "2010년"
         ],
         "xaxis": "x",
         "y": [
          196,
          199,
          272,
          336,
          355,
          398,
          1136,
          2777,
          10963,
          13145,
          3110,
          2235,
          2708,
          3200,
          3938,
          4913,
          5902
         ],
         "yaxis": "y"
        },
        {
         "hovertemplate": "발생장소=의료기관<br>년도=%{x}<br>발생건수=%{y}<extra></extra>",
         "legendgroup": "의료기관",
         "line": {
          "color": "#FECB52",
          "dash": "solid"
         },
         "marker": {
          "symbol": "circle"
         },
         "mode": "lines+markers",
         "name": "의료기관",
         "orientation": "v",
         "showlegend": true,
         "type": "scatter",
         "x": [
          "1994년",
          "1995년",
          "1996년",
          "1997년",
          "1998년",
          "1999년",
          "2000년",
          "2001년",
          "2002년",
          "2003년",
          "2004년",
          "2005년",
          "2006년",
          "2007년",
          "2008년",
          "2009년",
          "2010년"
         ],
         "xaxis": "x",
         "y": [
          315,
          273,
          361,
          414,
          443,
          485,
          952,
          1119,
          987,
          1109,
          1408,
          1689,
          2020,
          1966,
          2048,
          2566,
          2749
         ],
         "yaxis": "y"
        },
        {
         "hovertemplate": "발생장소=종교기관<br>년도=%{x}<br>발생건수=%{y}<extra></extra>",
         "legendgroup": "종교기관",
         "line": {
          "color": "#636efa",
          "dash": "solid"
         },
         "marker": {
          "symbol": "circle"
         },
         "mode": "lines+markers",
         "name": "종교기관",
         "orientation": "v",
         "showlegend": true,
         "type": "scatter",
         "x": [
          "1994년",
          "1995년",
          "1996년",
          "1997년",
          "1998년",
          "1999년",
          "2000년",
          "2001년",
          "2002년",
          "2003년",
          "2004년",
          "2005년",
          "2006년",
          "2007년",
          "2008년",
          "2009년",
          "2010년"
         ],
         "xaxis": "x",
         "y": [
          201,
          149,
          155,
          243,
          233,
          343,
          722,
          621,
          705,
          772,
          877,
          1068,
          1151,
          1374,
          1369,
          2174,
          2305
         ],
         "yaxis": "y"
        },
        {
         "hovertemplate": "발생장소=산 야<br>년도=%{x}<br>발생건수=%{y}<extra></extra>",
         "legendgroup": "산 야",
         "line": {
          "color": "#EF553B",
          "dash": "solid"
         },
         "marker": {
          "symbol": "circle"
         },
         "mode": "lines+markers",
         "name": "산 야",
         "orientation": "v",
         "showlegend": true,
         "type": "scatter",
         "x": [
          "1994년",
          "1995년",
          "1996년",
          "1997년",
          "1998년",
          "1999년",
          "2000년",
          "2001년",
          "2002년",
          "2003년",
          "2004년",
          "2005년",
          "2006년",
          "2007년",
          "2008년",
          "2009년",
          "2010년"
         ],
         "xaxis": "x",
         "y": [
          236,
          211,
          157,
          216,
          314,
          294,
          458,
          470,
          396,
          438,
          822,
          1057,
          1176,
          1437,
          2013,
          1700,
          2397
         ],
         "yaxis": "y"
        },
        {
         "hovertemplate": "발생장소=해 상<br>년도=%{x}<br>발생건수=%{y}<extra></extra>",
         "legendgroup": "해 상",
         "line": {
          "color": "#00cc96",
          "dash": "solid"
         },
         "marker": {
          "symbol": "circle"
         },
         "mode": "lines+markers",
         "name": "해 상",
         "orientation": "v",
         "showlegend": true,
         "type": "scatter",
         "x": [
          "1994년",
          "1995년",
          "1996년",
          "1997년",
          "1998년",
          "1999년",
          "2000년",
          "2001년",
          "2002년",
          "2003년",
          "2004년",
          "2005년",
          "2006년",
          "2007년",
          "2008년",
          "2009년",
          "2010년"
         ],
         "xaxis": "x",
         "y": [
          124,
          103,
          75,
          162,
          443,
          443,
          595,
          210,
          243,
          195,
          138,
          179,
          49,
          59,
          57,
          479,
          50
         ],
         "yaxis": "y"
        },
        {
         "hovertemplate": "발생장소=부 대<br>년도=%{x}<br>발생건수=%{y}<extra></extra>",
         "legendgroup": "부 대",
         "line": {
          "color": "#ab63fa",
          "dash": "solid"
         },
         "marker": {
          "symbol": "circle"
         },
         "mode": "lines+markers",
         "name": "부 대",
         "orientation": "v",
         "showlegend": true,
         "type": "scatter",
         "x": [
          "1994년",
          "1995년",
          "1996년",
          "1997년",
          "1998년",
          "1999년",
          "2000년",
          "2001년",
          "2002년",
          "2003년",
          "2004년",
          "2005년",
          "2006년",
          "2007년",
          "2008년",
          "2009년",
          "2010년"
         ],
         "xaxis": "x",
         "y": [
          17,
          16,
          13,
          17,
          21,
          20,
          58,
          26,
          46,
          31,
          10,
          14,
          22,
          21,
          40,
          46,
          81
         ],
         "yaxis": "y"
        },
        {
         "hovertemplate": "발생장소=구금장소<br>년도=%{x}<br>발생건수=%{y}<extra></extra>",
         "legendgroup": "구금장소",
         "line": {
          "color": "#FFA15A",
          "dash": "solid"
         },
         "marker": {
          "symbol": "circle"
         },
         "mode": "lines+markers",
         "name": "구금장소",
         "orientation": "v",
         "showlegend": true,
         "type": "scatter",
         "x": [
          "1994년",
          "1995년",
          "1996년",
          "1997년",
          "1998년",
          "1999년",
          "2000년",
          "2001년",
          "2002년",
          "2003년",
          "2004년",
          "2005년",
          "2006년",
          "2007년",
          "2008년",
          "2009년",
          "2010년"
         ],
         "xaxis": "x",
         "y": [
          32,
          9,
          10,
          10,
          7,
          6,
          12,
          8,
          10,
          11,
          0,
          1,
          0,
          0,
          0,
          2,
          2
         ],
         "yaxis": "y"
        },
        {
         "hovertemplate": "발생장소=공 지<br>년도=%{x}<br>발생건수=%{y}<extra></extra>",
         "legendgroup": "공 지",
         "line": {
          "color": "#19d3f3",
          "dash": "solid"
         },
         "marker": {
          "symbol": "circle"
         },
         "mode": "lines+markers",
         "name": "공 지",
         "orientation": "v",
         "showlegend": true,
         "type": "scatter",
         "x": [
          "1994년",
          "1995년",
          "1996년",
          "1997년",
          "1998년",
          "1999년",
          "2000년",
          "2001년",
          "2002년",
          "2003년",
          "2004년",
          "2005년",
          "2006년",
          "2007년",
          "2008년",
          "2009년",
          "2010년"
         ],
         "xaxis": "x",
         "y": [
          621,
          578,
          557,
          622,
          679,
          670,
          1057,
          807,
          567,
          636,
          329,
          484,
          369,
          396,
          452,
          318,
          370
         ],
         "yaxis": "y"
        },
        {
         "hovertemplate": "발생장소=기 타<br>년도=%{x}<br>발생건수=%{y}<extra></extra>",
         "legendgroup": "기 타",
         "line": {
          "color": "#FF6692",
          "dash": "solid"
         },
         "marker": {
          "symbol": "circle"
         },
         "mode": "lines+markers",
         "name": "기 타",
         "orientation": "v",
         "showlegend": true,
         "type": "scatter",
         "x": [
          "1994년",
          "1995년",
          "1996년",
          "1997년",
          "1998년",
          "1999년",
          "2000년",
          "2001년",
          "2002년",
          "2003년",
          "2004년",
          "2005년",
          "2006년",
          "2007년",
          "2008년",
          "2009년",
          "2010년"
         ],
         "xaxis": "x",
         "y": [
          6298,
          7296,
          8415,
          10542,
          13709,
          14739,
          24960,
          25744,
          27296,
          29265,
          24781,
          31384,
          32643,
          36513,
          36998,
          43551,
          44390
         ],
         "yaxis": "y"
        }
       ],
       "layout": {
        "legend": {
         "title": {
          "text": "발생장소"
         },
         "tracegroupgap": 0
        },
        "template": {
         "data": {
          "bar": [
           {
            "error_x": {
             "color": "#2a3f5f"
            },
            "error_y": {
             "color": "#2a3f5f"
            },
            "marker": {
             "line": {
              "color": "#E5ECF6",
              "width": 0.5
             },
             "pattern": {
              "fillmode": "overlay",
              "size": 10,
              "solidity": 0.2
             }
            },
            "type": "bar"
           }
          ],
          "barpolar": [
           {
            "marker": {
             "line": {
              "color": "#E5ECF6",
              "width": 0.5
             },
             "pattern": {
              "fillmode": "overlay",
              "size": 10,
              "solidity": 0.2
             }
            },
            "type": "barpolar"
           }
          ],
          "carpet": [
           {
            "aaxis": {
             "endlinecolor": "#2a3f5f",
             "gridcolor": "white",
             "linecolor": "white",
             "minorgridcolor": "white",
             "startlinecolor": "#2a3f5f"
            },
            "baxis": {
             "endlinecolor": "#2a3f5f",
             "gridcolor": "white",
             "linecolor": "white",
             "minorgridcolor": "white",
             "startlinecolor": "#2a3f5f"
            },
            "type": "carpet"
           }
          ],
          "choropleth": [
           {
            "colorbar": {
             "outlinewidth": 0,
             "ticks": ""
            },
            "type": "choropleth"
           }
          ],
          "contour": [
           {
            "colorbar": {
             "outlinewidth": 0,
             "ticks": ""
            },
            "colorscale": [
             [
              0,
              "#0d0887"
             ],
             [
              0.1111111111111111,
              "#46039f"
             ],
             [
              0.2222222222222222,
              "#7201a8"
             ],
             [
              0.3333333333333333,
              "#9c179e"
             ],
             [
              0.4444444444444444,
              "#bd3786"
             ],
             [
              0.5555555555555556,
              "#d8576b"
             ],
             [
              0.6666666666666666,
              "#ed7953"
             ],
             [
              0.7777777777777778,
              "#fb9f3a"
             ],
             [
              0.8888888888888888,
              "#fdca26"
             ],
             [
              1,
              "#f0f921"
             ]
            ],
            "type": "contour"
           }
          ],
          "contourcarpet": [
           {
            "colorbar": {
             "outlinewidth": 0,
             "ticks": ""
            },
            "type": "contourcarpet"
           }
          ],
          "heatmap": [
           {
            "colorbar": {
             "outlinewidth": 0,
             "ticks": ""
            },
            "colorscale": [
             [
              0,
              "#0d0887"
             ],
             [
              0.1111111111111111,
              "#46039f"
             ],
             [
              0.2222222222222222,
              "#7201a8"
             ],
             [
              0.3333333333333333,
              "#9c179e"
             ],
             [
              0.4444444444444444,
              "#bd3786"
             ],
             [
              0.5555555555555556,
              "#d8576b"
             ],
             [
              0.6666666666666666,
              "#ed7953"
             ],
             [
              0.7777777777777778,
              "#fb9f3a"
             ],
             [
              0.8888888888888888,
              "#fdca26"
             ],
             [
              1,
              "#f0f921"
             ]
            ],
            "type": "heatmap"
           }
          ],
          "heatmapgl": [
           {
            "colorbar": {
             "outlinewidth": 0,
             "ticks": ""
            },
            "colorscale": [
             [
              0,
              "#0d0887"
             ],
             [
              0.1111111111111111,
              "#46039f"
             ],
             [
              0.2222222222222222,
              "#7201a8"
             ],
             [
              0.3333333333333333,
              "#9c179e"
             ],
             [
              0.4444444444444444,
              "#bd3786"
             ],
             [
              0.5555555555555556,
              "#d8576b"
             ],
             [
              0.6666666666666666,
              "#ed7953"
             ],
             [
              0.7777777777777778,
              "#fb9f3a"
             ],
             [
              0.8888888888888888,
              "#fdca26"
             ],
             [
              1,
              "#f0f921"
             ]
            ],
            "type": "heatmapgl"
           }
          ],
          "histogram": [
           {
            "marker": {
             "pattern": {
              "fillmode": "overlay",
              "size": 10,
              "solidity": 0.2
             }
            },
            "type": "histogram"
           }
          ],
          "histogram2d": [
           {
            "colorbar": {
             "outlinewidth": 0,
             "ticks": ""
            },
            "colorscale": [
             [
              0,
              "#0d0887"
             ],
             [
              0.1111111111111111,
              "#46039f"
             ],
             [
              0.2222222222222222,
              "#7201a8"
             ],
             [
              0.3333333333333333,
              "#9c179e"
             ],
             [
              0.4444444444444444,
              "#bd3786"
             ],
             [
              0.5555555555555556,
              "#d8576b"
             ],
             [
              0.6666666666666666,
              "#ed7953"
             ],
             [
              0.7777777777777778,
              "#fb9f3a"
             ],
             [
              0.8888888888888888,
              "#fdca26"
             ],
             [
              1,
              "#f0f921"
             ]
            ],
            "type": "histogram2d"
           }
          ],
          "histogram2dcontour": [
           {
            "colorbar": {
             "outlinewidth": 0,
             "ticks": ""
            },
            "colorscale": [
             [
              0,
              "#0d0887"
             ],
             [
              0.1111111111111111,
              "#46039f"
             ],
             [
              0.2222222222222222,
              "#7201a8"
             ],
             [
              0.3333333333333333,
              "#9c179e"
             ],
             [
              0.4444444444444444,
              "#bd3786"
             ],
             [
              0.5555555555555556,
              "#d8576b"
             ],
             [
              0.6666666666666666,
              "#ed7953"
             ],
             [
              0.7777777777777778,
              "#fb9f3a"
             ],
             [
              0.8888888888888888,
              "#fdca26"
             ],
             [
              1,
              "#f0f921"
             ]
            ],
            "type": "histogram2dcontour"
           }
          ],
          "mesh3d": [
           {
            "colorbar": {
             "outlinewidth": 0,
             "ticks": ""
            },
            "type": "mesh3d"
           }
          ],
          "parcoords": [
           {
            "line": {
             "colorbar": {
              "outlinewidth": 0,
              "ticks": ""
             }
            },
            "type": "parcoords"
           }
          ],
          "pie": [
           {
            "automargin": true,
            "type": "pie"
           }
          ],
          "scatter": [
           {
            "fillpattern": {
             "fillmode": "overlay",
             "size": 10,
             "solidity": 0.2
            },
            "type": "scatter"
           }
          ],
          "scatter3d": [
           {
            "line": {
             "colorbar": {
              "outlinewidth": 0,
              "ticks": ""
             }
            },
            "marker": {
             "colorbar": {
              "outlinewidth": 0,
              "ticks": ""
             }
            },
            "type": "scatter3d"
           }
          ],
          "scattercarpet": [
           {
            "marker": {
             "colorbar": {
              "outlinewidth": 0,
              "ticks": ""
             }
            },
            "type": "scattercarpet"
           }
          ],
          "scattergeo": [
           {
            "marker": {
             "colorbar": {
              "outlinewidth": 0,
              "ticks": ""
             }
            },
            "type": "scattergeo"
           }
          ],
          "scattergl": [
           {
            "marker": {
             "colorbar": {
              "outlinewidth": 0,
              "ticks": ""
             }
            },
            "type": "scattergl"
           }
          ],
          "scattermapbox": [
           {
            "marker": {
             "colorbar": {
              "outlinewidth": 0,
              "ticks": ""
             }
            },
            "type": "scattermapbox"
           }
          ],
          "scatterpolar": [
           {
            "marker": {
             "colorbar": {
              "outlinewidth": 0,
              "ticks": ""
             }
            },
            "type": "scatterpolar"
           }
          ],
          "scatterpolargl": [
           {
            "marker": {
             "colorbar": {
              "outlinewidth": 0,
              "ticks": ""
             }
            },
            "type": "scatterpolargl"
           }
          ],
          "scatterternary": [
           {
            "marker": {
             "colorbar": {
              "outlinewidth": 0,
              "ticks": ""
             }
            },
            "type": "scatterternary"
           }
          ],
          "surface": [
           {
            "colorbar": {
             "outlinewidth": 0,
             "ticks": ""
            },
            "colorscale": [
             [
              0,
              "#0d0887"
             ],
             [
              0.1111111111111111,
              "#46039f"
             ],
             [
              0.2222222222222222,
              "#7201a8"
             ],
             [
              0.3333333333333333,
              "#9c179e"
             ],
             [
              0.4444444444444444,
              "#bd3786"
             ],
             [
              0.5555555555555556,
              "#d8576b"
             ],
             [
              0.6666666666666666,
              "#ed7953"
             ],
             [
              0.7777777777777778,
              "#fb9f3a"
             ],
             [
              0.8888888888888888,
              "#fdca26"
             ],
             [
              1,
              "#f0f921"
             ]
            ],
            "type": "surface"
           }
          ],
          "table": [
           {
            "cells": {
             "fill": {
              "color": "#EBF0F8"
             },
             "line": {
              "color": "white"
             }
            },
            "header": {
             "fill": {
              "color": "#C8D4E3"
             },
             "line": {
              "color": "white"
             }
            },
            "type": "table"
           }
          ]
         },
         "layout": {
          "annotationdefaults": {
           "arrowcolor": "#2a3f5f",
           "arrowhead": 0,
           "arrowwidth": 1
          },
          "autotypenumbers": "strict",
          "coloraxis": {
           "colorbar": {
            "outlinewidth": 0,
            "ticks": ""
           }
          },
          "colorscale": {
           "diverging": [
            [
             0,
             "#8e0152"
            ],
            [
             0.1,
             "#c51b7d"
            ],
            [
             0.2,
             "#de77ae"
            ],
            [
             0.3,
             "#f1b6da"
            ],
            [
             0.4,
             "#fde0ef"
            ],
            [
             0.5,
             "#f7f7f7"
            ],
            [
             0.6,
             "#e6f5d0"
            ],
            [
             0.7,
             "#b8e186"
            ],
            [
             0.8,
             "#7fbc41"
            ],
            [
             0.9,
             "#4d9221"
            ],
            [
             1,
             "#276419"
            ]
           ],
           "sequential": [
            [
             0,
             "#0d0887"
            ],
            [
             0.1111111111111111,
             "#46039f"
            ],
            [
             0.2222222222222222,
             "#7201a8"
            ],
            [
             0.3333333333333333,
             "#9c179e"
            ],
            [
             0.4444444444444444,
             "#bd3786"
            ],
            [
             0.5555555555555556,
             "#d8576b"
            ],
            [
             0.6666666666666666,
             "#ed7953"
            ],
            [
             0.7777777777777778,
             "#fb9f3a"
            ],
            [
             0.8888888888888888,
             "#fdca26"
            ],
            [
             1,
             "#f0f921"
            ]
           ],
           "sequentialminus": [
            [
             0,
             "#0d0887"
            ],
            [
             0.1111111111111111,
             "#46039f"
            ],
            [
             0.2222222222222222,
             "#7201a8"
            ],
            [
             0.3333333333333333,
             "#9c179e"
            ],
            [
             0.4444444444444444,
             "#bd3786"
            ],
            [
             0.5555555555555556,
             "#d8576b"
            ],
            [
             0.6666666666666666,
             "#ed7953"
            ],
            [
             0.7777777777777778,
             "#fb9f3a"
            ],
            [
             0.8888888888888888,
             "#fdca26"
            ],
            [
             1,
             "#f0f921"
            ]
           ]
          },
          "colorway": [
           "#636efa",
           "#EF553B",
           "#00cc96",
           "#ab63fa",
           "#FFA15A",
           "#19d3f3",
           "#FF6692",
           "#B6E880",
           "#FF97FF",
           "#FECB52"
          ],
          "font": {
           "color": "#2a3f5f"
          },
          "geo": {
           "bgcolor": "white",
           "lakecolor": "white",
           "landcolor": "#E5ECF6",
           "showlakes": true,
           "showland": true,
           "subunitcolor": "white"
          },
          "hoverlabel": {
           "align": "left"
          },
          "hovermode": "closest",
          "mapbox": {
           "style": "light"
          },
          "paper_bgcolor": "white",
          "plot_bgcolor": "#E5ECF6",
          "polar": {
           "angularaxis": {
            "gridcolor": "white",
            "linecolor": "white",
            "ticks": ""
           },
           "bgcolor": "#E5ECF6",
           "radialaxis": {
            "gridcolor": "white",
            "linecolor": "white",
            "ticks": ""
           }
          },
          "scene": {
           "xaxis": {
            "backgroundcolor": "#E5ECF6",
            "gridcolor": "white",
            "gridwidth": 2,
            "linecolor": "white",
            "showbackground": true,
            "ticks": "",
            "zerolinecolor": "white"
           },
           "yaxis": {
            "backgroundcolor": "#E5ECF6",
            "gridcolor": "white",
            "gridwidth": 2,
            "linecolor": "white",
            "showbackground": true,
            "ticks": "",
            "zerolinecolor": "white"
           },
           "zaxis": {
            "backgroundcolor": "#E5ECF6",
            "gridcolor": "white",
            "gridwidth": 2,
            "linecolor": "white",
            "showbackground": true,
            "ticks": "",
            "zerolinecolor": "white"
           }
          },
          "shapedefaults": {
           "line": {
            "color": "#2a3f5f"
           }
          },
          "ternary": {
           "aaxis": {
            "gridcolor": "white",
            "linecolor": "white",
            "ticks": ""
           },
           "baxis": {
            "gridcolor": "white",
            "linecolor": "white",
            "ticks": ""
           },
           "bgcolor": "#E5ECF6",
           "caxis": {
            "gridcolor": "white",
            "linecolor": "white",
            "ticks": ""
           }
          },
          "title": {
           "x": 0.05
          },
          "xaxis": {
           "automargin": true,
           "gridcolor": "white",
           "linecolor": "white",
           "ticks": "",
           "title": {
            "standoff": 15
           },
           "zerolinecolor": "white",
           "zerolinewidth": 2
          },
          "yaxis": {
           "automargin": true,
           "gridcolor": "white",
           "linecolor": "white",
           "ticks": "",
           "title": {
            "standoff": 15
           },
           "zerolinecolor": "white",
           "zerolinewidth": 2
          }
         }
        },
        "title": {
         "text": "[ 장소별 발생한 절도범 건수 ]"
        },
        "xaxis": {
         "anchor": "y",
         "domain": [
          0,
          1
         ],
         "title": {
          "text": "년도"
         }
        },
        "yaxis": {
         "anchor": "x",
         "domain": [
          0,
          1
         ],
         "title": {
          "text": "발생건수"
         }
        }
       }
      }
     },
     "metadata": {},
     "output_type": "display_data"
    }
   ],
   "source": [
    "df_melted = place_df_total.melt(id_vars=[\"중\", \"소\", \"발생장소\"], var_name=\"년도\", value_name=\"발생건수\")\n",
    "\n",
    "fig = px.line(df_melted, x=\"년도\", y=\"발생건수\", color=\"발생장소\", title=\"[ 장소별 발생한 절도범 건수 ]\", markers=True)\n",
    "fig.show()"
   ]
  },
  {
   "cell_type": "markdown",
   "metadata": {},
   "source": [
    "##### [ 요일 ]"
   ]
  },
  {
   "cell_type": "code",
   "execution_count": 20,
   "metadata": {},
   "outputs": [
    {
     "data": {
      "text/html": [
       "<div>\n",
       "<style scoped>\n",
       "    .dataframe tbody tr th:only-of-type {\n",
       "        vertical-align: middle;\n",
       "    }\n",
       "\n",
       "    .dataframe tbody tr th {\n",
       "        vertical-align: top;\n",
       "    }\n",
       "\n",
       "    .dataframe thead th {\n",
       "        text-align: right;\n",
       "    }\n",
       "</style>\n",
       "<table border=\"1\" class=\"dataframe\">\n",
       "  <thead>\n",
       "    <tr style=\"text-align: right;\">\n",
       "      <th></th>\n",
       "      <th>대</th>\n",
       "      <th>중</th>\n",
       "      <th>소</th>\n",
       "      <th>요일별</th>\n",
       "      <th>1994년</th>\n",
       "      <th>1995년</th>\n",
       "      <th>1996년</th>\n",
       "      <th>1997년</th>\n",
       "      <th>1998년</th>\n",
       "      <th>1999년</th>\n",
       "      <th>...</th>\n",
       "      <th>2001년</th>\n",
       "      <th>2002년</th>\n",
       "      <th>2003년</th>\n",
       "      <th>2004년</th>\n",
       "      <th>2005년</th>\n",
       "      <th>2006년</th>\n",
       "      <th>2007년</th>\n",
       "      <th>2008년</th>\n",
       "      <th>2009년</th>\n",
       "      <th>2010년</th>\n",
       "    </tr>\n",
       "  </thead>\n",
       "  <tbody>\n",
       "    <tr>\n",
       "      <th>0</th>\n",
       "      <td>총범죄</td>\n",
       "      <td>소계</td>\n",
       "      <td>소계</td>\n",
       "      <td>금요일</td>\n",
       "      <td>155783</td>\n",
       "      <td>186346</td>\n",
       "      <td>186702</td>\n",
       "      <td>195362</td>\n",
       "      <td>223257</td>\n",
       "      <td>199731</td>\n",
       "      <td>...</td>\n",
       "      <td>220963</td>\n",
       "      <td>213900</td>\n",
       "      <td>205870</td>\n",
       "      <td>292731</td>\n",
       "      <td>263790</td>\n",
       "      <td>260812</td>\n",
       "      <td>278751</td>\n",
       "      <td>311326</td>\n",
       "      <td>308390</td>\n",
       "      <td>271056</td>\n",
       "    </tr>\n",
       "    <tr>\n",
       "      <th>1</th>\n",
       "      <td>총범죄</td>\n",
       "      <td>소계</td>\n",
       "      <td>소계</td>\n",
       "      <td>목요일</td>\n",
       "      <td>150113</td>\n",
       "      <td>172499</td>\n",
       "      <td>173836</td>\n",
       "      <td>194756</td>\n",
       "      <td>209550</td>\n",
       "      <td>195040</td>\n",
       "      <td>...</td>\n",
       "      <td>208664</td>\n",
       "      <td>198683</td>\n",
       "      <td>188425</td>\n",
       "      <td>289785</td>\n",
       "      <td>256386</td>\n",
       "      <td>258618</td>\n",
       "      <td>275767</td>\n",
       "      <td>309426</td>\n",
       "      <td>304192</td>\n",
       "      <td>269117</td>\n",
       "    </tr>\n",
       "    <tr>\n",
       "      <th>2</th>\n",
       "      <td>총범죄</td>\n",
       "      <td>소계</td>\n",
       "      <td>소계</td>\n",
       "      <td>미상</td>\n",
       "      <td>236241</td>\n",
       "      <td>40965</td>\n",
       "      <td>23124</td>\n",
       "      <td>43892</td>\n",
       "      <td>43303</td>\n",
       "      <td>51797</td>\n",
       "      <td>...</td>\n",
       "      <td>146888</td>\n",
       "      <td>187334</td>\n",
       "      <td>277639</td>\n",
       "      <td>0</td>\n",
       "      <td>0</td>\n",
       "      <td>0</td>\n",
       "      <td>0</td>\n",
       "      <td>0</td>\n",
       "      <td>0</td>\n",
       "      <td>0</td>\n",
       "    </tr>\n",
       "    <tr>\n",
       "      <th>3</th>\n",
       "      <td>총범죄</td>\n",
       "      <td>소계</td>\n",
       "      <td>소계</td>\n",
       "      <td>수요일</td>\n",
       "      <td>184010</td>\n",
       "      <td>239726</td>\n",
       "      <td>311642</td>\n",
       "      <td>339724</td>\n",
       "      <td>385102</td>\n",
       "      <td>389466</td>\n",
       "      <td>...</td>\n",
       "      <td>412886</td>\n",
       "      <td>406079</td>\n",
       "      <td>389249</td>\n",
       "      <td>289198</td>\n",
       "      <td>251979</td>\n",
       "      <td>256370</td>\n",
       "      <td>272834</td>\n",
       "      <td>301095</td>\n",
       "      <td>303618</td>\n",
       "      <td>260217</td>\n",
       "    </tr>\n",
       "    <tr>\n",
       "      <th>4</th>\n",
       "      <td>총범죄</td>\n",
       "      <td>소계</td>\n",
       "      <td>소계</td>\n",
       "      <td>월요일</td>\n",
       "      <td>163222</td>\n",
       "      <td>204418</td>\n",
       "      <td>233873</td>\n",
       "      <td>252088</td>\n",
       "      <td>285255</td>\n",
       "      <td>260266</td>\n",
       "      <td>...</td>\n",
       "      <td>271643</td>\n",
       "      <td>266589</td>\n",
       "      <td>274494</td>\n",
       "      <td>283695</td>\n",
       "      <td>250836</td>\n",
       "      <td>245820</td>\n",
       "      <td>260188</td>\n",
       "      <td>294789</td>\n",
       "      <td>294054</td>\n",
       "      <td>260612</td>\n",
       "    </tr>\n",
       "    <tr>\n",
       "      <th>...</th>\n",
       "      <td>...</td>\n",
       "      <td>...</td>\n",
       "      <td>...</td>\n",
       "      <td>...</td>\n",
       "      <td>...</td>\n",
       "      <td>...</td>\n",
       "      <td>...</td>\n",
       "      <td>...</td>\n",
       "      <td>...</td>\n",
       "      <td>...</td>\n",
       "      <td>...</td>\n",
       "      <td>...</td>\n",
       "      <td>...</td>\n",
       "      <td>...</td>\n",
       "      <td>...</td>\n",
       "      <td>...</td>\n",
       "      <td>...</td>\n",
       "      <td>...</td>\n",
       "      <td>...</td>\n",
       "      <td>...</td>\n",
       "      <td>...</td>\n",
       "    </tr>\n",
       "    <tr>\n",
       "      <th>2045</th>\n",
       "      <td>형법범</td>\n",
       "      <td>풍속범</td>\n",
       "      <td>소계</td>\n",
       "      <td>수요일</td>\n",
       "      <td>2245</td>\n",
       "      <td>2969</td>\n",
       "      <td>3179</td>\n",
       "      <td>3348</td>\n",
       "      <td>3534</td>\n",
       "      <td>4324</td>\n",
       "      <td>...</td>\n",
       "      <td>4147</td>\n",
       "      <td>3815</td>\n",
       "      <td>2932</td>\n",
       "      <td>2070</td>\n",
       "      <td>1541</td>\n",
       "      <td>2897</td>\n",
       "      <td>1944</td>\n",
       "      <td>1943</td>\n",
       "      <td>5088</td>\n",
       "      <td>2468</td>\n",
       "    </tr>\n",
       "    <tr>\n",
       "      <th>2046</th>\n",
       "      <td>형법범</td>\n",
       "      <td>풍속범</td>\n",
       "      <td>소계</td>\n",
       "      <td>월요일</td>\n",
       "      <td>1991</td>\n",
       "      <td>2442</td>\n",
       "      <td>2756</td>\n",
       "      <td>2556</td>\n",
       "      <td>2646</td>\n",
       "      <td>2793</td>\n",
       "      <td>...</td>\n",
       "      <td>2688</td>\n",
       "      <td>2534</td>\n",
       "      <td>2074</td>\n",
       "      <td>1934</td>\n",
       "      <td>1621</td>\n",
       "      <td>2826</td>\n",
       "      <td>1884</td>\n",
       "      <td>2007</td>\n",
       "      <td>5427</td>\n",
       "      <td>2280</td>\n",
       "    </tr>\n",
       "    <tr>\n",
       "      <th>2047</th>\n",
       "      <td>형법범</td>\n",
       "      <td>풍속범</td>\n",
       "      <td>소계</td>\n",
       "      <td>일요일</td>\n",
       "      <td>1449</td>\n",
       "      <td>1578</td>\n",
       "      <td>1418</td>\n",
       "      <td>1213</td>\n",
       "      <td>1390</td>\n",
       "      <td>1502</td>\n",
       "      <td>...</td>\n",
       "      <td>1640</td>\n",
       "      <td>1380</td>\n",
       "      <td>1056</td>\n",
       "      <td>1769</td>\n",
       "      <td>1472</td>\n",
       "      <td>2016</td>\n",
       "      <td>1791</td>\n",
       "      <td>1820</td>\n",
       "      <td>4179</td>\n",
       "      <td>1858</td>\n",
       "    </tr>\n",
       "    <tr>\n",
       "      <th>2048</th>\n",
       "      <td>형법범</td>\n",
       "      <td>풍속범</td>\n",
       "      <td>소계</td>\n",
       "      <td>토요일</td>\n",
       "      <td>1748</td>\n",
       "      <td>1977</td>\n",
       "      <td>1676</td>\n",
       "      <td>1515</td>\n",
       "      <td>1759</td>\n",
       "      <td>2044</td>\n",
       "      <td>...</td>\n",
       "      <td>1932</td>\n",
       "      <td>1591</td>\n",
       "      <td>1201</td>\n",
       "      <td>2272</td>\n",
       "      <td>1779</td>\n",
       "      <td>2572</td>\n",
       "      <td>2010</td>\n",
       "      <td>2226</td>\n",
       "      <td>4306</td>\n",
       "      <td>2138</td>\n",
       "    </tr>\n",
       "    <tr>\n",
       "      <th>2049</th>\n",
       "      <td>형법범</td>\n",
       "      <td>풍속범</td>\n",
       "      <td>소계</td>\n",
       "      <td>화요일</td>\n",
       "      <td>2014</td>\n",
       "      <td>2264</td>\n",
       "      <td>2052</td>\n",
       "      <td>2155</td>\n",
       "      <td>2023</td>\n",
       "      <td>2294</td>\n",
       "      <td>...</td>\n",
       "      <td>2421</td>\n",
       "      <td>2107</td>\n",
       "      <td>1723</td>\n",
       "      <td>1948</td>\n",
       "      <td>1665</td>\n",
       "      <td>2898</td>\n",
       "      <td>1936</td>\n",
       "      <td>2093</td>\n",
       "      <td>5197</td>\n",
       "      <td>2227</td>\n",
       "    </tr>\n",
       "  </tbody>\n",
       "</table>\n",
       "<p>2050 rows × 21 columns</p>\n",
       "</div>"
      ],
      "text/plain": [
       "        대    중   소  요일별   1994년   1995년   1996년   1997년   1998년   1999년  ...  \\\n",
       "0     총범죄   소계  소계  금요일  155783  186346  186702  195362  223257  199731  ...   \n",
       "1     총범죄   소계  소계  목요일  150113  172499  173836  194756  209550  195040  ...   \n",
       "2     총범죄   소계  소계   미상  236241   40965   23124   43892   43303   51797  ...   \n",
       "3     총범죄   소계  소계  수요일  184010  239726  311642  339724  385102  389466  ...   \n",
       "4     총범죄   소계  소계  월요일  163222  204418  233873  252088  285255  260266  ...   \n",
       "...   ...  ...  ..  ...     ...     ...     ...     ...     ...     ...  ...   \n",
       "2045  형법범  풍속범  소계  수요일    2245    2969    3179    3348    3534    4324  ...   \n",
       "2046  형법범  풍속범  소계  월요일    1991    2442    2756    2556    2646    2793  ...   \n",
       "2047  형법범  풍속범  소계  일요일    1449    1578    1418    1213    1390    1502  ...   \n",
       "2048  형법범  풍속범  소계  토요일    1748    1977    1676    1515    1759    2044  ...   \n",
       "2049  형법범  풍속범  소계  화요일    2014    2264    2052    2155    2023    2294  ...   \n",
       "\n",
       "       2001년   2002년   2003년   2004년   2005년   2006년   2007년   2008년   2009년  \\\n",
       "0     220963  213900  205870  292731  263790  260812  278751  311326  308390   \n",
       "1     208664  198683  188425  289785  256386  258618  275767  309426  304192   \n",
       "2     146888  187334  277639       0       0       0       0       0       0   \n",
       "3     412886  406079  389249  289198  251979  256370  272834  301095  303618   \n",
       "4     271643  266589  274494  283695  250836  245820  260188  294789  294054   \n",
       "...      ...     ...     ...     ...     ...     ...     ...     ...     ...   \n",
       "2045    4147    3815    2932    2070    1541    2897    1944    1943    5088   \n",
       "2046    2688    2534    2074    1934    1621    2826    1884    2007    5427   \n",
       "2047    1640    1380    1056    1769    1472    2016    1791    1820    4179   \n",
       "2048    1932    1591    1201    2272    1779    2572    2010    2226    4306   \n",
       "2049    2421    2107    1723    1948    1665    2898    1936    2093    5197   \n",
       "\n",
       "       2010년  \n",
       "0     271056  \n",
       "1     269117  \n",
       "2          0  \n",
       "3     260217  \n",
       "4     260612  \n",
       "...      ...  \n",
       "2045    2468  \n",
       "2046    2280  \n",
       "2047    1858  \n",
       "2048    2138  \n",
       "2049    2227  \n",
       "\n",
       "[2050 rows x 21 columns]"
      ]
     },
     "execution_count": 20,
     "metadata": {},
     "output_type": "execute_result"
    }
   ],
   "source": [
    "cursor.execute(\"select * from crime_dotweek_before\")\n",
    "\n",
    "dotweek = cursor.fetchall()\n",
    "dotweek_df_start = pd.DataFrame(dotweek)\n",
    "dotweek_df_start"
   ]
  },
  {
   "cell_type": "code",
   "execution_count": 21,
   "metadata": {},
   "outputs": [
    {
     "data": {
      "text/html": [
       "<div>\n",
       "<style scoped>\n",
       "    .dataframe tbody tr th:only-of-type {\n",
       "        vertical-align: middle;\n",
       "    }\n",
       "\n",
       "    .dataframe tbody tr th {\n",
       "        vertical-align: top;\n",
       "    }\n",
       "\n",
       "    .dataframe thead th {\n",
       "        text-align: right;\n",
       "    }\n",
       "</style>\n",
       "<table border=\"1\" class=\"dataframe\">\n",
       "  <thead>\n",
       "    <tr style=\"text-align: right;\">\n",
       "      <th></th>\n",
       "      <th>대</th>\n",
       "      <th>중</th>\n",
       "      <th>소</th>\n",
       "      <th>요일별</th>\n",
       "      <th>1994년</th>\n",
       "      <th>1995년</th>\n",
       "      <th>1996년</th>\n",
       "      <th>1997년</th>\n",
       "      <th>1998년</th>\n",
       "      <th>1999년</th>\n",
       "      <th>...</th>\n",
       "      <th>2001년</th>\n",
       "      <th>2002년</th>\n",
       "      <th>2003년</th>\n",
       "      <th>2004년</th>\n",
       "      <th>2005년</th>\n",
       "      <th>2006년</th>\n",
       "      <th>2007년</th>\n",
       "      <th>2008년</th>\n",
       "      <th>2009년</th>\n",
       "      <th>2010년</th>\n",
       "    </tr>\n",
       "  </thead>\n",
       "  <tbody>\n",
       "    <tr>\n",
       "      <th>0</th>\n",
       "      <td>형법범</td>\n",
       "      <td>절도범</td>\n",
       "      <td>상습절도</td>\n",
       "      <td>금요일</td>\n",
       "      <td>98</td>\n",
       "      <td>0</td>\n",
       "      <td>0</td>\n",
       "      <td>0</td>\n",
       "      <td>0</td>\n",
       "      <td>0</td>\n",
       "      <td>...</td>\n",
       "      <td>0</td>\n",
       "      <td>0</td>\n",
       "      <td>0</td>\n",
       "      <td>0</td>\n",
       "      <td>0</td>\n",
       "      <td>0</td>\n",
       "      <td>0</td>\n",
       "      <td>0</td>\n",
       "      <td>0</td>\n",
       "      <td>0</td>\n",
       "    </tr>\n",
       "    <tr>\n",
       "      <th>1</th>\n",
       "      <td>형법범</td>\n",
       "      <td>절도범</td>\n",
       "      <td>상습절도</td>\n",
       "      <td>목요일</td>\n",
       "      <td>55</td>\n",
       "      <td>0</td>\n",
       "      <td>0</td>\n",
       "      <td>0</td>\n",
       "      <td>0</td>\n",
       "      <td>0</td>\n",
       "      <td>...</td>\n",
       "      <td>0</td>\n",
       "      <td>0</td>\n",
       "      <td>0</td>\n",
       "      <td>0</td>\n",
       "      <td>0</td>\n",
       "      <td>0</td>\n",
       "      <td>0</td>\n",
       "      <td>0</td>\n",
       "      <td>0</td>\n",
       "      <td>0</td>\n",
       "    </tr>\n",
       "    <tr>\n",
       "      <th>2</th>\n",
       "      <td>형법범</td>\n",
       "      <td>절도범</td>\n",
       "      <td>상습절도</td>\n",
       "      <td>미상</td>\n",
       "      <td>170</td>\n",
       "      <td>0</td>\n",
       "      <td>0</td>\n",
       "      <td>0</td>\n",
       "      <td>0</td>\n",
       "      <td>0</td>\n",
       "      <td>...</td>\n",
       "      <td>0</td>\n",
       "      <td>0</td>\n",
       "      <td>0</td>\n",
       "      <td>0</td>\n",
       "      <td>0</td>\n",
       "      <td>0</td>\n",
       "      <td>0</td>\n",
       "      <td>0</td>\n",
       "      <td>0</td>\n",
       "      <td>0</td>\n",
       "    </tr>\n",
       "    <tr>\n",
       "      <th>3</th>\n",
       "      <td>형법범</td>\n",
       "      <td>절도범</td>\n",
       "      <td>상습절도</td>\n",
       "      <td>수요일</td>\n",
       "      <td>74</td>\n",
       "      <td>0</td>\n",
       "      <td>0</td>\n",
       "      <td>0</td>\n",
       "      <td>0</td>\n",
       "      <td>0</td>\n",
       "      <td>...</td>\n",
       "      <td>0</td>\n",
       "      <td>0</td>\n",
       "      <td>0</td>\n",
       "      <td>0</td>\n",
       "      <td>0</td>\n",
       "      <td>0</td>\n",
       "      <td>0</td>\n",
       "      <td>0</td>\n",
       "      <td>0</td>\n",
       "      <td>0</td>\n",
       "    </tr>\n",
       "    <tr>\n",
       "      <th>4</th>\n",
       "      <td>형법범</td>\n",
       "      <td>절도범</td>\n",
       "      <td>상습절도</td>\n",
       "      <td>월요일</td>\n",
       "      <td>72</td>\n",
       "      <td>0</td>\n",
       "      <td>0</td>\n",
       "      <td>0</td>\n",
       "      <td>0</td>\n",
       "      <td>0</td>\n",
       "      <td>...</td>\n",
       "      <td>0</td>\n",
       "      <td>0</td>\n",
       "      <td>0</td>\n",
       "      <td>0</td>\n",
       "      <td>0</td>\n",
       "      <td>0</td>\n",
       "      <td>0</td>\n",
       "      <td>0</td>\n",
       "      <td>0</td>\n",
       "      <td>0</td>\n",
       "    </tr>\n",
       "    <tr>\n",
       "      <th>5</th>\n",
       "      <td>형법범</td>\n",
       "      <td>절도범</td>\n",
       "      <td>상습절도</td>\n",
       "      <td>일요일</td>\n",
       "      <td>58</td>\n",
       "      <td>0</td>\n",
       "      <td>0</td>\n",
       "      <td>0</td>\n",
       "      <td>0</td>\n",
       "      <td>0</td>\n",
       "      <td>...</td>\n",
       "      <td>0</td>\n",
       "      <td>0</td>\n",
       "      <td>0</td>\n",
       "      <td>0</td>\n",
       "      <td>0</td>\n",
       "      <td>0</td>\n",
       "      <td>0</td>\n",
       "      <td>0</td>\n",
       "      <td>0</td>\n",
       "      <td>0</td>\n",
       "    </tr>\n",
       "    <tr>\n",
       "      <th>6</th>\n",
       "      <td>형법범</td>\n",
       "      <td>절도범</td>\n",
       "      <td>상습절도</td>\n",
       "      <td>토요일</td>\n",
       "      <td>69</td>\n",
       "      <td>0</td>\n",
       "      <td>0</td>\n",
       "      <td>0</td>\n",
       "      <td>0</td>\n",
       "      <td>0</td>\n",
       "      <td>...</td>\n",
       "      <td>0</td>\n",
       "      <td>0</td>\n",
       "      <td>0</td>\n",
       "      <td>0</td>\n",
       "      <td>0</td>\n",
       "      <td>0</td>\n",
       "      <td>0</td>\n",
       "      <td>0</td>\n",
       "      <td>0</td>\n",
       "      <td>0</td>\n",
       "    </tr>\n",
       "    <tr>\n",
       "      <th>7</th>\n",
       "      <td>형법범</td>\n",
       "      <td>절도범</td>\n",
       "      <td>상습절도</td>\n",
       "      <td>화요일</td>\n",
       "      <td>45</td>\n",
       "      <td>0</td>\n",
       "      <td>0</td>\n",
       "      <td>0</td>\n",
       "      <td>0</td>\n",
       "      <td>0</td>\n",
       "      <td>...</td>\n",
       "      <td>0</td>\n",
       "      <td>0</td>\n",
       "      <td>0</td>\n",
       "      <td>0</td>\n",
       "      <td>0</td>\n",
       "      <td>0</td>\n",
       "      <td>0</td>\n",
       "      <td>0</td>\n",
       "      <td>0</td>\n",
       "      <td>0</td>\n",
       "    </tr>\n",
       "    <tr>\n",
       "      <th>8</th>\n",
       "      <td>형법범</td>\n",
       "      <td>절도범</td>\n",
       "      <td>소계</td>\n",
       "      <td>금요일</td>\n",
       "      <td>6870</td>\n",
       "      <td>8321</td>\n",
       "      <td>8826</td>\n",
       "      <td>10346</td>\n",
       "      <td>11373</td>\n",
       "      <td>10086</td>\n",
       "      <td>...</td>\n",
       "      <td>21255</td>\n",
       "      <td>19364</td>\n",
       "      <td>19535</td>\n",
       "      <td>22549</td>\n",
       "      <td>28476</td>\n",
       "      <td>28943</td>\n",
       "      <td>32120</td>\n",
       "      <td>33312</td>\n",
       "      <td>38636</td>\n",
       "      <td>40101</td>\n",
       "    </tr>\n",
       "    <tr>\n",
       "      <th>9</th>\n",
       "      <td>형법범</td>\n",
       "      <td>절도범</td>\n",
       "      <td>소계</td>\n",
       "      <td>목요일</td>\n",
       "      <td>6695</td>\n",
       "      <td>7969</td>\n",
       "      <td>8598</td>\n",
       "      <td>10373</td>\n",
       "      <td>11383</td>\n",
       "      <td>10247</td>\n",
       "      <td>...</td>\n",
       "      <td>19766</td>\n",
       "      <td>18097</td>\n",
       "      <td>18431</td>\n",
       "      <td>22727</td>\n",
       "      <td>26950</td>\n",
       "      <td>27943</td>\n",
       "      <td>30438</td>\n",
       "      <td>32345</td>\n",
       "      <td>36574</td>\n",
       "      <td>38837</td>\n",
       "    </tr>\n",
       "    <tr>\n",
       "      <th>10</th>\n",
       "      <td>형법범</td>\n",
       "      <td>절도범</td>\n",
       "      <td>소계</td>\n",
       "      <td>미상</td>\n",
       "      <td>10801</td>\n",
       "      <td>1891</td>\n",
       "      <td>1222</td>\n",
       "      <td>2287</td>\n",
       "      <td>2518</td>\n",
       "      <td>3583</td>\n",
       "      <td>...</td>\n",
       "      <td>14277</td>\n",
       "      <td>22212</td>\n",
       "      <td>28573</td>\n",
       "      <td>0</td>\n",
       "      <td>0</td>\n",
       "      <td>0</td>\n",
       "      <td>0</td>\n",
       "      <td>0</td>\n",
       "      <td>0</td>\n",
       "      <td>0</td>\n",
       "    </tr>\n",
       "    <tr>\n",
       "      <th>11</th>\n",
       "      <td>형법범</td>\n",
       "      <td>절도범</td>\n",
       "      <td>소계</td>\n",
       "      <td>수요일</td>\n",
       "      <td>7745</td>\n",
       "      <td>10170</td>\n",
       "      <td>14088</td>\n",
       "      <td>16205</td>\n",
       "      <td>18385</td>\n",
       "      <td>20049</td>\n",
       "      <td>...</td>\n",
       "      <td>39575</td>\n",
       "      <td>40137</td>\n",
       "      <td>39929</td>\n",
       "      <td>22357</td>\n",
       "      <td>27137</td>\n",
       "      <td>28126</td>\n",
       "      <td>30518</td>\n",
       "      <td>31585</td>\n",
       "      <td>38113</td>\n",
       "      <td>37504</td>\n",
       "    </tr>\n",
       "    <tr>\n",
       "      <th>12</th>\n",
       "      <td>형법범</td>\n",
       "      <td>절도범</td>\n",
       "      <td>소계</td>\n",
       "      <td>월요일</td>\n",
       "      <td>7461</td>\n",
       "      <td>9574</td>\n",
       "      <td>11252</td>\n",
       "      <td>13277</td>\n",
       "      <td>15214</td>\n",
       "      <td>14241</td>\n",
       "      <td>...</td>\n",
       "      <td>26084</td>\n",
       "      <td>26789</td>\n",
       "      <td>28012</td>\n",
       "      <td>22385</td>\n",
       "      <td>27141</td>\n",
       "      <td>26643</td>\n",
       "      <td>29538</td>\n",
       "      <td>31699</td>\n",
       "      <td>36801</td>\n",
       "      <td>38334</td>\n",
       "    </tr>\n",
       "    <tr>\n",
       "      <th>13</th>\n",
       "      <td>형법범</td>\n",
       "      <td>절도범</td>\n",
       "      <td>소계</td>\n",
       "      <td>일요일</td>\n",
       "      <td>6387</td>\n",
       "      <td>7323</td>\n",
       "      <td>7821</td>\n",
       "      <td>8772</td>\n",
       "      <td>9855</td>\n",
       "      <td>8834</td>\n",
       "      <td>...</td>\n",
       "      <td>16807</td>\n",
       "      <td>14214</td>\n",
       "      <td>14963</td>\n",
       "      <td>19795</td>\n",
       "      <td>23824</td>\n",
       "      <td>24375</td>\n",
       "      <td>28256</td>\n",
       "      <td>28565</td>\n",
       "      <td>33346</td>\n",
       "      <td>35069</td>\n",
       "    </tr>\n",
       "    <tr>\n",
       "      <th>14</th>\n",
       "      <td>형법범</td>\n",
       "      <td>절도범</td>\n",
       "      <td>소계</td>\n",
       "      <td>토요일</td>\n",
       "      <td>7305</td>\n",
       "      <td>8381</td>\n",
       "      <td>8955</td>\n",
       "      <td>10252</td>\n",
       "      <td>10701</td>\n",
       "      <td>10877</td>\n",
       "      <td>...</td>\n",
       "      <td>19224</td>\n",
       "      <td>16012</td>\n",
       "      <td>15942</td>\n",
       "      <td>23232</td>\n",
       "      <td>28026</td>\n",
       "      <td>29266</td>\n",
       "      <td>31585</td>\n",
       "      <td>32833</td>\n",
       "      <td>37536</td>\n",
       "      <td>40575</td>\n",
       "    </tr>\n",
       "    <tr>\n",
       "      <th>15</th>\n",
       "      <td>형법범</td>\n",
       "      <td>절도범</td>\n",
       "      <td>소계</td>\n",
       "      <td>화요일</td>\n",
       "      <td>6991</td>\n",
       "      <td>9081</td>\n",
       "      <td>9476</td>\n",
       "      <td>11551</td>\n",
       "      <td>12009</td>\n",
       "      <td>11478</td>\n",
       "      <td>...</td>\n",
       "      <td>23716</td>\n",
       "      <td>21632</td>\n",
       "      <td>21967</td>\n",
       "      <td>22266</td>\n",
       "      <td>27226</td>\n",
       "      <td>27374</td>\n",
       "      <td>30003</td>\n",
       "      <td>32877</td>\n",
       "      <td>35417</td>\n",
       "      <td>38990</td>\n",
       "    </tr>\n",
       "    <tr>\n",
       "      <th>16</th>\n",
       "      <td>형법범</td>\n",
       "      <td>절도범</td>\n",
       "      <td>야간주거침입절도</td>\n",
       "      <td>금요일</td>\n",
       "      <td>365</td>\n",
       "      <td>0</td>\n",
       "      <td>0</td>\n",
       "      <td>0</td>\n",
       "      <td>0</td>\n",
       "      <td>0</td>\n",
       "      <td>...</td>\n",
       "      <td>0</td>\n",
       "      <td>0</td>\n",
       "      <td>0</td>\n",
       "      <td>0</td>\n",
       "      <td>0</td>\n",
       "      <td>0</td>\n",
       "      <td>0</td>\n",
       "      <td>0</td>\n",
       "      <td>0</td>\n",
       "      <td>0</td>\n",
       "    </tr>\n",
       "    <tr>\n",
       "      <th>17</th>\n",
       "      <td>형법범</td>\n",
       "      <td>절도범</td>\n",
       "      <td>야간주거침입절도</td>\n",
       "      <td>목요일</td>\n",
       "      <td>339</td>\n",
       "      <td>0</td>\n",
       "      <td>0</td>\n",
       "      <td>0</td>\n",
       "      <td>0</td>\n",
       "      <td>0</td>\n",
       "      <td>...</td>\n",
       "      <td>0</td>\n",
       "      <td>0</td>\n",
       "      <td>0</td>\n",
       "      <td>0</td>\n",
       "      <td>0</td>\n",
       "      <td>0</td>\n",
       "      <td>0</td>\n",
       "      <td>0</td>\n",
       "      <td>0</td>\n",
       "      <td>0</td>\n",
       "    </tr>\n",
       "    <tr>\n",
       "      <th>18</th>\n",
       "      <td>형법범</td>\n",
       "      <td>절도범</td>\n",
       "      <td>야간주거침입절도</td>\n",
       "      <td>미상</td>\n",
       "      <td>482</td>\n",
       "      <td>0</td>\n",
       "      <td>0</td>\n",
       "      <td>0</td>\n",
       "      <td>0</td>\n",
       "      <td>0</td>\n",
       "      <td>...</td>\n",
       "      <td>0</td>\n",
       "      <td>0</td>\n",
       "      <td>0</td>\n",
       "      <td>0</td>\n",
       "      <td>0</td>\n",
       "      <td>0</td>\n",
       "      <td>0</td>\n",
       "      <td>0</td>\n",
       "      <td>0</td>\n",
       "      <td>0</td>\n",
       "    </tr>\n",
       "    <tr>\n",
       "      <th>19</th>\n",
       "      <td>형법범</td>\n",
       "      <td>절도범</td>\n",
       "      <td>야간주거침입절도</td>\n",
       "      <td>수요일</td>\n",
       "      <td>368</td>\n",
       "      <td>0</td>\n",
       "      <td>0</td>\n",
       "      <td>0</td>\n",
       "      <td>0</td>\n",
       "      <td>0</td>\n",
       "      <td>...</td>\n",
       "      <td>0</td>\n",
       "      <td>0</td>\n",
       "      <td>0</td>\n",
       "      <td>0</td>\n",
       "      <td>0</td>\n",
       "      <td>0</td>\n",
       "      <td>0</td>\n",
       "      <td>0</td>\n",
       "      <td>0</td>\n",
       "      <td>0</td>\n",
       "    </tr>\n",
       "    <tr>\n",
       "      <th>20</th>\n",
       "      <td>형법범</td>\n",
       "      <td>절도범</td>\n",
       "      <td>야간주거침입절도</td>\n",
       "      <td>월요일</td>\n",
       "      <td>396</td>\n",
       "      <td>0</td>\n",
       "      <td>0</td>\n",
       "      <td>0</td>\n",
       "      <td>0</td>\n",
       "      <td>0</td>\n",
       "      <td>...</td>\n",
       "      <td>0</td>\n",
       "      <td>0</td>\n",
       "      <td>0</td>\n",
       "      <td>0</td>\n",
       "      <td>0</td>\n",
       "      <td>0</td>\n",
       "      <td>0</td>\n",
       "      <td>0</td>\n",
       "      <td>0</td>\n",
       "      <td>0</td>\n",
       "    </tr>\n",
       "    <tr>\n",
       "      <th>21</th>\n",
       "      <td>형법범</td>\n",
       "      <td>절도범</td>\n",
       "      <td>야간주거침입절도</td>\n",
       "      <td>일요일</td>\n",
       "      <td>369</td>\n",
       "      <td>0</td>\n",
       "      <td>0</td>\n",
       "      <td>0</td>\n",
       "      <td>0</td>\n",
       "      <td>0</td>\n",
       "      <td>...</td>\n",
       "      <td>0</td>\n",
       "      <td>0</td>\n",
       "      <td>0</td>\n",
       "      <td>0</td>\n",
       "      <td>0</td>\n",
       "      <td>0</td>\n",
       "      <td>0</td>\n",
       "      <td>0</td>\n",
       "      <td>0</td>\n",
       "      <td>0</td>\n",
       "    </tr>\n",
       "    <tr>\n",
       "      <th>22</th>\n",
       "      <td>형법범</td>\n",
       "      <td>절도범</td>\n",
       "      <td>야간주거침입절도</td>\n",
       "      <td>토요일</td>\n",
       "      <td>359</td>\n",
       "      <td>0</td>\n",
       "      <td>0</td>\n",
       "      <td>0</td>\n",
       "      <td>0</td>\n",
       "      <td>0</td>\n",
       "      <td>...</td>\n",
       "      <td>0</td>\n",
       "      <td>0</td>\n",
       "      <td>0</td>\n",
       "      <td>0</td>\n",
       "      <td>0</td>\n",
       "      <td>0</td>\n",
       "      <td>0</td>\n",
       "      <td>0</td>\n",
       "      <td>0</td>\n",
       "      <td>0</td>\n",
       "    </tr>\n",
       "    <tr>\n",
       "      <th>23</th>\n",
       "      <td>형법범</td>\n",
       "      <td>절도범</td>\n",
       "      <td>야간주거침입절도</td>\n",
       "      <td>화요일</td>\n",
       "      <td>359</td>\n",
       "      <td>0</td>\n",
       "      <td>0</td>\n",
       "      <td>0</td>\n",
       "      <td>0</td>\n",
       "      <td>0</td>\n",
       "      <td>...</td>\n",
       "      <td>0</td>\n",
       "      <td>0</td>\n",
       "      <td>0</td>\n",
       "      <td>0</td>\n",
       "      <td>0</td>\n",
       "      <td>0</td>\n",
       "      <td>0</td>\n",
       "      <td>0</td>\n",
       "      <td>0</td>\n",
       "      <td>0</td>\n",
       "    </tr>\n",
       "    <tr>\n",
       "      <th>24</th>\n",
       "      <td>형법범</td>\n",
       "      <td>절도범</td>\n",
       "      <td>야간주거침입절도(상습)</td>\n",
       "      <td>수요일</td>\n",
       "      <td>1</td>\n",
       "      <td>0</td>\n",
       "      <td>0</td>\n",
       "      <td>0</td>\n",
       "      <td>0</td>\n",
       "      <td>0</td>\n",
       "      <td>...</td>\n",
       "      <td>0</td>\n",
       "      <td>0</td>\n",
       "      <td>0</td>\n",
       "      <td>0</td>\n",
       "      <td>0</td>\n",
       "      <td>0</td>\n",
       "      <td>0</td>\n",
       "      <td>0</td>\n",
       "      <td>0</td>\n",
       "      <td>0</td>\n",
       "    </tr>\n",
       "    <tr>\n",
       "      <th>25</th>\n",
       "      <td>형법범</td>\n",
       "      <td>절도범</td>\n",
       "      <td>야간주거침입절도(상습)</td>\n",
       "      <td>토요일</td>\n",
       "      <td>1</td>\n",
       "      <td>0</td>\n",
       "      <td>0</td>\n",
       "      <td>0</td>\n",
       "      <td>0</td>\n",
       "      <td>0</td>\n",
       "      <td>...</td>\n",
       "      <td>0</td>\n",
       "      <td>0</td>\n",
       "      <td>0</td>\n",
       "      <td>0</td>\n",
       "      <td>0</td>\n",
       "      <td>0</td>\n",
       "      <td>0</td>\n",
       "      <td>0</td>\n",
       "      <td>0</td>\n",
       "      <td>0</td>\n",
       "    </tr>\n",
       "    <tr>\n",
       "      <th>26</th>\n",
       "      <td>형법범</td>\n",
       "      <td>절도범</td>\n",
       "      <td>절도</td>\n",
       "      <td>금요일</td>\n",
       "      <td>4344</td>\n",
       "      <td>0</td>\n",
       "      <td>0</td>\n",
       "      <td>0</td>\n",
       "      <td>0</td>\n",
       "      <td>0</td>\n",
       "      <td>...</td>\n",
       "      <td>0</td>\n",
       "      <td>0</td>\n",
       "      <td>0</td>\n",
       "      <td>0</td>\n",
       "      <td>0</td>\n",
       "      <td>0</td>\n",
       "      <td>0</td>\n",
       "      <td>0</td>\n",
       "      <td>0</td>\n",
       "      <td>0</td>\n",
       "    </tr>\n",
       "    <tr>\n",
       "      <th>27</th>\n",
       "      <td>형법범</td>\n",
       "      <td>절도범</td>\n",
       "      <td>절도</td>\n",
       "      <td>목요일</td>\n",
       "      <td>4365</td>\n",
       "      <td>0</td>\n",
       "      <td>0</td>\n",
       "      <td>0</td>\n",
       "      <td>0</td>\n",
       "      <td>0</td>\n",
       "      <td>...</td>\n",
       "      <td>0</td>\n",
       "      <td>0</td>\n",
       "      <td>0</td>\n",
       "      <td>0</td>\n",
       "      <td>0</td>\n",
       "      <td>0</td>\n",
       "      <td>0</td>\n",
       "      <td>0</td>\n",
       "      <td>0</td>\n",
       "      <td>0</td>\n",
       "    </tr>\n",
       "    <tr>\n",
       "      <th>28</th>\n",
       "      <td>형법범</td>\n",
       "      <td>절도범</td>\n",
       "      <td>절도</td>\n",
       "      <td>미상</td>\n",
       "      <td>6996</td>\n",
       "      <td>0</td>\n",
       "      <td>0</td>\n",
       "      <td>0</td>\n",
       "      <td>0</td>\n",
       "      <td>0</td>\n",
       "      <td>...</td>\n",
       "      <td>0</td>\n",
       "      <td>0</td>\n",
       "      <td>0</td>\n",
       "      <td>0</td>\n",
       "      <td>0</td>\n",
       "      <td>0</td>\n",
       "      <td>0</td>\n",
       "      <td>0</td>\n",
       "      <td>0</td>\n",
       "      <td>0</td>\n",
       "    </tr>\n",
       "    <tr>\n",
       "      <th>29</th>\n",
       "      <td>형법범</td>\n",
       "      <td>절도범</td>\n",
       "      <td>절도</td>\n",
       "      <td>수요일</td>\n",
       "      <td>5118</td>\n",
       "      <td>0</td>\n",
       "      <td>0</td>\n",
       "      <td>0</td>\n",
       "      <td>0</td>\n",
       "      <td>0</td>\n",
       "      <td>...</td>\n",
       "      <td>0</td>\n",
       "      <td>0</td>\n",
       "      <td>0</td>\n",
       "      <td>0</td>\n",
       "      <td>0</td>\n",
       "      <td>0</td>\n",
       "      <td>0</td>\n",
       "      <td>0</td>\n",
       "      <td>0</td>\n",
       "      <td>0</td>\n",
       "    </tr>\n",
       "    <tr>\n",
       "      <th>30</th>\n",
       "      <td>형법범</td>\n",
       "      <td>절도범</td>\n",
       "      <td>절도</td>\n",
       "      <td>월요일</td>\n",
       "      <td>4808</td>\n",
       "      <td>0</td>\n",
       "      <td>0</td>\n",
       "      <td>0</td>\n",
       "      <td>0</td>\n",
       "      <td>0</td>\n",
       "      <td>...</td>\n",
       "      <td>0</td>\n",
       "      <td>0</td>\n",
       "      <td>0</td>\n",
       "      <td>0</td>\n",
       "      <td>0</td>\n",
       "      <td>0</td>\n",
       "      <td>0</td>\n",
       "      <td>0</td>\n",
       "      <td>0</td>\n",
       "      <td>0</td>\n",
       "    </tr>\n",
       "    <tr>\n",
       "      <th>31</th>\n",
       "      <td>형법범</td>\n",
       "      <td>절도범</td>\n",
       "      <td>절도</td>\n",
       "      <td>일요일</td>\n",
       "      <td>3853</td>\n",
       "      <td>0</td>\n",
       "      <td>0</td>\n",
       "      <td>0</td>\n",
       "      <td>0</td>\n",
       "      <td>0</td>\n",
       "      <td>...</td>\n",
       "      <td>0</td>\n",
       "      <td>0</td>\n",
       "      <td>0</td>\n",
       "      <td>0</td>\n",
       "      <td>0</td>\n",
       "      <td>0</td>\n",
       "      <td>0</td>\n",
       "      <td>0</td>\n",
       "      <td>0</td>\n",
       "      <td>0</td>\n",
       "    </tr>\n",
       "    <tr>\n",
       "      <th>32</th>\n",
       "      <td>형법범</td>\n",
       "      <td>절도범</td>\n",
       "      <td>절도</td>\n",
       "      <td>토요일</td>\n",
       "      <td>4772</td>\n",
       "      <td>0</td>\n",
       "      <td>0</td>\n",
       "      <td>0</td>\n",
       "      <td>0</td>\n",
       "      <td>0</td>\n",
       "      <td>...</td>\n",
       "      <td>0</td>\n",
       "      <td>0</td>\n",
       "      <td>0</td>\n",
       "      <td>0</td>\n",
       "      <td>0</td>\n",
       "      <td>0</td>\n",
       "      <td>0</td>\n",
       "      <td>0</td>\n",
       "      <td>0</td>\n",
       "      <td>0</td>\n",
       "    </tr>\n",
       "    <tr>\n",
       "      <th>33</th>\n",
       "      <td>형법범</td>\n",
       "      <td>절도범</td>\n",
       "      <td>절도</td>\n",
       "      <td>화요일</td>\n",
       "      <td>4531</td>\n",
       "      <td>0</td>\n",
       "      <td>0</td>\n",
       "      <td>0</td>\n",
       "      <td>0</td>\n",
       "      <td>0</td>\n",
       "      <td>...</td>\n",
       "      <td>0</td>\n",
       "      <td>0</td>\n",
       "      <td>0</td>\n",
       "      <td>0</td>\n",
       "      <td>0</td>\n",
       "      <td>0</td>\n",
       "      <td>0</td>\n",
       "      <td>0</td>\n",
       "      <td>0</td>\n",
       "      <td>0</td>\n",
       "    </tr>\n",
       "    <tr>\n",
       "      <th>34</th>\n",
       "      <td>형법범</td>\n",
       "      <td>절도범</td>\n",
       "      <td>특가법(절도)</td>\n",
       "      <td>금요일</td>\n",
       "      <td>491</td>\n",
       "      <td>0</td>\n",
       "      <td>0</td>\n",
       "      <td>0</td>\n",
       "      <td>0</td>\n",
       "      <td>0</td>\n",
       "      <td>...</td>\n",
       "      <td>0</td>\n",
       "      <td>0</td>\n",
       "      <td>0</td>\n",
       "      <td>0</td>\n",
       "      <td>0</td>\n",
       "      <td>0</td>\n",
       "      <td>0</td>\n",
       "      <td>0</td>\n",
       "      <td>0</td>\n",
       "      <td>0</td>\n",
       "    </tr>\n",
       "    <tr>\n",
       "      <th>35</th>\n",
       "      <td>형법범</td>\n",
       "      <td>절도범</td>\n",
       "      <td>특가법(절도)</td>\n",
       "      <td>목요일</td>\n",
       "      <td>466</td>\n",
       "      <td>0</td>\n",
       "      <td>0</td>\n",
       "      <td>0</td>\n",
       "      <td>0</td>\n",
       "      <td>0</td>\n",
       "      <td>...</td>\n",
       "      <td>0</td>\n",
       "      <td>0</td>\n",
       "      <td>0</td>\n",
       "      <td>0</td>\n",
       "      <td>0</td>\n",
       "      <td>0</td>\n",
       "      <td>0</td>\n",
       "      <td>0</td>\n",
       "      <td>0</td>\n",
       "      <td>0</td>\n",
       "    </tr>\n",
       "    <tr>\n",
       "      <th>36</th>\n",
       "      <td>형법범</td>\n",
       "      <td>절도범</td>\n",
       "      <td>특가법(절도)</td>\n",
       "      <td>미상</td>\n",
       "      <td>815</td>\n",
       "      <td>0</td>\n",
       "      <td>0</td>\n",
       "      <td>0</td>\n",
       "      <td>0</td>\n",
       "      <td>0</td>\n",
       "      <td>...</td>\n",
       "      <td>0</td>\n",
       "      <td>0</td>\n",
       "      <td>0</td>\n",
       "      <td>0</td>\n",
       "      <td>0</td>\n",
       "      <td>0</td>\n",
       "      <td>0</td>\n",
       "      <td>0</td>\n",
       "      <td>0</td>\n",
       "      <td>0</td>\n",
       "    </tr>\n",
       "    <tr>\n",
       "      <th>37</th>\n",
       "      <td>형법범</td>\n",
       "      <td>절도범</td>\n",
       "      <td>특가법(절도)</td>\n",
       "      <td>수요일</td>\n",
       "      <td>466</td>\n",
       "      <td>0</td>\n",
       "      <td>0</td>\n",
       "      <td>0</td>\n",
       "      <td>0</td>\n",
       "      <td>0</td>\n",
       "      <td>...</td>\n",
       "      <td>0</td>\n",
       "      <td>0</td>\n",
       "      <td>0</td>\n",
       "      <td>0</td>\n",
       "      <td>0</td>\n",
       "      <td>0</td>\n",
       "      <td>0</td>\n",
       "      <td>0</td>\n",
       "      <td>0</td>\n",
       "      <td>0</td>\n",
       "    </tr>\n",
       "    <tr>\n",
       "      <th>38</th>\n",
       "      <td>형법범</td>\n",
       "      <td>절도범</td>\n",
       "      <td>특가법(절도)</td>\n",
       "      <td>월요일</td>\n",
       "      <td>438</td>\n",
       "      <td>0</td>\n",
       "      <td>0</td>\n",
       "      <td>0</td>\n",
       "      <td>0</td>\n",
       "      <td>0</td>\n",
       "      <td>...</td>\n",
       "      <td>0</td>\n",
       "      <td>0</td>\n",
       "      <td>0</td>\n",
       "      <td>0</td>\n",
       "      <td>0</td>\n",
       "      <td>0</td>\n",
       "      <td>0</td>\n",
       "      <td>0</td>\n",
       "      <td>0</td>\n",
       "      <td>0</td>\n",
       "    </tr>\n",
       "    <tr>\n",
       "      <th>39</th>\n",
       "      <td>형법범</td>\n",
       "      <td>절도범</td>\n",
       "      <td>특가법(절도)</td>\n",
       "      <td>일요일</td>\n",
       "      <td>400</td>\n",
       "      <td>0</td>\n",
       "      <td>0</td>\n",
       "      <td>0</td>\n",
       "      <td>0</td>\n",
       "      <td>0</td>\n",
       "      <td>...</td>\n",
       "      <td>0</td>\n",
       "      <td>0</td>\n",
       "      <td>0</td>\n",
       "      <td>0</td>\n",
       "      <td>0</td>\n",
       "      <td>0</td>\n",
       "      <td>0</td>\n",
       "      <td>0</td>\n",
       "      <td>0</td>\n",
       "      <td>0</td>\n",
       "    </tr>\n",
       "    <tr>\n",
       "      <th>40</th>\n",
       "      <td>형법범</td>\n",
       "      <td>절도범</td>\n",
       "      <td>특가법(절도)</td>\n",
       "      <td>토요일</td>\n",
       "      <td>381</td>\n",
       "      <td>0</td>\n",
       "      <td>0</td>\n",
       "      <td>0</td>\n",
       "      <td>0</td>\n",
       "      <td>0</td>\n",
       "      <td>...</td>\n",
       "      <td>0</td>\n",
       "      <td>0</td>\n",
       "      <td>0</td>\n",
       "      <td>0</td>\n",
       "      <td>0</td>\n",
       "      <td>0</td>\n",
       "      <td>0</td>\n",
       "      <td>0</td>\n",
       "      <td>0</td>\n",
       "      <td>0</td>\n",
       "    </tr>\n",
       "    <tr>\n",
       "      <th>41</th>\n",
       "      <td>형법범</td>\n",
       "      <td>절도범</td>\n",
       "      <td>특가법(절도)</td>\n",
       "      <td>화요일</td>\n",
       "      <td>422</td>\n",
       "      <td>0</td>\n",
       "      <td>0</td>\n",
       "      <td>0</td>\n",
       "      <td>0</td>\n",
       "      <td>0</td>\n",
       "      <td>...</td>\n",
       "      <td>0</td>\n",
       "      <td>0</td>\n",
       "      <td>0</td>\n",
       "      <td>0</td>\n",
       "      <td>0</td>\n",
       "      <td>0</td>\n",
       "      <td>0</td>\n",
       "      <td>0</td>\n",
       "      <td>0</td>\n",
       "      <td>0</td>\n",
       "    </tr>\n",
       "    <tr>\n",
       "      <th>42</th>\n",
       "      <td>형법범</td>\n",
       "      <td>절도범</td>\n",
       "      <td>특가법(절도강간)</td>\n",
       "      <td>화요일</td>\n",
       "      <td>1</td>\n",
       "      <td>0</td>\n",
       "      <td>0</td>\n",
       "      <td>0</td>\n",
       "      <td>0</td>\n",
       "      <td>0</td>\n",
       "      <td>...</td>\n",
       "      <td>0</td>\n",
       "      <td>0</td>\n",
       "      <td>0</td>\n",
       "      <td>0</td>\n",
       "      <td>0</td>\n",
       "      <td>0</td>\n",
       "      <td>0</td>\n",
       "      <td>0</td>\n",
       "      <td>0</td>\n",
       "      <td>0</td>\n",
       "    </tr>\n",
       "    <tr>\n",
       "      <th>43</th>\n",
       "      <td>형법범</td>\n",
       "      <td>절도범</td>\n",
       "      <td>특수절도</td>\n",
       "      <td>금요일</td>\n",
       "      <td>1569</td>\n",
       "      <td>0</td>\n",
       "      <td>0</td>\n",
       "      <td>0</td>\n",
       "      <td>0</td>\n",
       "      <td>0</td>\n",
       "      <td>...</td>\n",
       "      <td>0</td>\n",
       "      <td>0</td>\n",
       "      <td>0</td>\n",
       "      <td>0</td>\n",
       "      <td>0</td>\n",
       "      <td>0</td>\n",
       "      <td>0</td>\n",
       "      <td>0</td>\n",
       "      <td>0</td>\n",
       "      <td>0</td>\n",
       "    </tr>\n",
       "    <tr>\n",
       "      <th>44</th>\n",
       "      <td>형법범</td>\n",
       "      <td>절도범</td>\n",
       "      <td>특수절도</td>\n",
       "      <td>목요일</td>\n",
       "      <td>1470</td>\n",
       "      <td>0</td>\n",
       "      <td>0</td>\n",
       "      <td>0</td>\n",
       "      <td>0</td>\n",
       "      <td>0</td>\n",
       "      <td>...</td>\n",
       "      <td>0</td>\n",
       "      <td>0</td>\n",
       "      <td>0</td>\n",
       "      <td>0</td>\n",
       "      <td>0</td>\n",
       "      <td>0</td>\n",
       "      <td>0</td>\n",
       "      <td>0</td>\n",
       "      <td>0</td>\n",
       "      <td>0</td>\n",
       "    </tr>\n",
       "    <tr>\n",
       "      <th>45</th>\n",
       "      <td>형법범</td>\n",
       "      <td>절도범</td>\n",
       "      <td>특수절도</td>\n",
       "      <td>미상</td>\n",
       "      <td>2327</td>\n",
       "      <td>0</td>\n",
       "      <td>0</td>\n",
       "      <td>0</td>\n",
       "      <td>0</td>\n",
       "      <td>0</td>\n",
       "      <td>...</td>\n",
       "      <td>0</td>\n",
       "      <td>0</td>\n",
       "      <td>0</td>\n",
       "      <td>0</td>\n",
       "      <td>0</td>\n",
       "      <td>0</td>\n",
       "      <td>0</td>\n",
       "      <td>0</td>\n",
       "      <td>0</td>\n",
       "      <td>0</td>\n",
       "    </tr>\n",
       "    <tr>\n",
       "      <th>46</th>\n",
       "      <td>형법범</td>\n",
       "      <td>절도범</td>\n",
       "      <td>특수절도</td>\n",
       "      <td>수요일</td>\n",
       "      <td>1718</td>\n",
       "      <td>0</td>\n",
       "      <td>0</td>\n",
       "      <td>0</td>\n",
       "      <td>0</td>\n",
       "      <td>0</td>\n",
       "      <td>...</td>\n",
       "      <td>0</td>\n",
       "      <td>0</td>\n",
       "      <td>0</td>\n",
       "      <td>0</td>\n",
       "      <td>0</td>\n",
       "      <td>0</td>\n",
       "      <td>0</td>\n",
       "      <td>0</td>\n",
       "      <td>0</td>\n",
       "      <td>0</td>\n",
       "    </tr>\n",
       "    <tr>\n",
       "      <th>47</th>\n",
       "      <td>형법범</td>\n",
       "      <td>절도범</td>\n",
       "      <td>특수절도</td>\n",
       "      <td>월요일</td>\n",
       "      <td>1745</td>\n",
       "      <td>0</td>\n",
       "      <td>0</td>\n",
       "      <td>0</td>\n",
       "      <td>0</td>\n",
       "      <td>0</td>\n",
       "      <td>...</td>\n",
       "      <td>0</td>\n",
       "      <td>0</td>\n",
       "      <td>0</td>\n",
       "      <td>0</td>\n",
       "      <td>0</td>\n",
       "      <td>0</td>\n",
       "      <td>0</td>\n",
       "      <td>0</td>\n",
       "      <td>0</td>\n",
       "      <td>0</td>\n",
       "    </tr>\n",
       "    <tr>\n",
       "      <th>48</th>\n",
       "      <td>형법범</td>\n",
       "      <td>절도범</td>\n",
       "      <td>특수절도</td>\n",
       "      <td>일요일</td>\n",
       "      <td>1706</td>\n",
       "      <td>0</td>\n",
       "      <td>0</td>\n",
       "      <td>0</td>\n",
       "      <td>0</td>\n",
       "      <td>0</td>\n",
       "      <td>...</td>\n",
       "      <td>0</td>\n",
       "      <td>0</td>\n",
       "      <td>0</td>\n",
       "      <td>0</td>\n",
       "      <td>0</td>\n",
       "      <td>0</td>\n",
       "      <td>0</td>\n",
       "      <td>0</td>\n",
       "      <td>0</td>\n",
       "      <td>0</td>\n",
       "    </tr>\n",
       "    <tr>\n",
       "      <th>49</th>\n",
       "      <td>형법범</td>\n",
       "      <td>절도범</td>\n",
       "      <td>특수절도</td>\n",
       "      <td>토요일</td>\n",
       "      <td>1723</td>\n",
       "      <td>0</td>\n",
       "      <td>0</td>\n",
       "      <td>0</td>\n",
       "      <td>0</td>\n",
       "      <td>0</td>\n",
       "      <td>...</td>\n",
       "      <td>0</td>\n",
       "      <td>0</td>\n",
       "      <td>0</td>\n",
       "      <td>0</td>\n",
       "      <td>0</td>\n",
       "      <td>0</td>\n",
       "      <td>0</td>\n",
       "      <td>0</td>\n",
       "      <td>0</td>\n",
       "      <td>0</td>\n",
       "    </tr>\n",
       "    <tr>\n",
       "      <th>50</th>\n",
       "      <td>형법범</td>\n",
       "      <td>절도범</td>\n",
       "      <td>특수절도</td>\n",
       "      <td>화요일</td>\n",
       "      <td>1633</td>\n",
       "      <td>0</td>\n",
       "      <td>0</td>\n",
       "      <td>0</td>\n",
       "      <td>0</td>\n",
       "      <td>0</td>\n",
       "      <td>...</td>\n",
       "      <td>0</td>\n",
       "      <td>0</td>\n",
       "      <td>0</td>\n",
       "      <td>0</td>\n",
       "      <td>0</td>\n",
       "      <td>0</td>\n",
       "      <td>0</td>\n",
       "      <td>0</td>\n",
       "      <td>0</td>\n",
       "      <td>0</td>\n",
       "    </tr>\n",
       "    <tr>\n",
       "      <th>51</th>\n",
       "      <td>형법범</td>\n",
       "      <td>절도범</td>\n",
       "      <td>특수절도(상습)</td>\n",
       "      <td>금요일</td>\n",
       "      <td>3</td>\n",
       "      <td>0</td>\n",
       "      <td>0</td>\n",
       "      <td>0</td>\n",
       "      <td>0</td>\n",
       "      <td>0</td>\n",
       "      <td>...</td>\n",
       "      <td>0</td>\n",
       "      <td>0</td>\n",
       "      <td>0</td>\n",
       "      <td>0</td>\n",
       "      <td>0</td>\n",
       "      <td>0</td>\n",
       "      <td>0</td>\n",
       "      <td>0</td>\n",
       "      <td>0</td>\n",
       "      <td>0</td>\n",
       "    </tr>\n",
       "    <tr>\n",
       "      <th>52</th>\n",
       "      <td>형법범</td>\n",
       "      <td>절도범</td>\n",
       "      <td>특수절도(상습)</td>\n",
       "      <td>미상</td>\n",
       "      <td>11</td>\n",
       "      <td>0</td>\n",
       "      <td>0</td>\n",
       "      <td>0</td>\n",
       "      <td>0</td>\n",
       "      <td>0</td>\n",
       "      <td>...</td>\n",
       "      <td>0</td>\n",
       "      <td>0</td>\n",
       "      <td>0</td>\n",
       "      <td>0</td>\n",
       "      <td>0</td>\n",
       "      <td>0</td>\n",
       "      <td>0</td>\n",
       "      <td>0</td>\n",
       "      <td>0</td>\n",
       "      <td>0</td>\n",
       "    </tr>\n",
       "    <tr>\n",
       "      <th>53</th>\n",
       "      <td>형법범</td>\n",
       "      <td>절도범</td>\n",
       "      <td>특수절도(상습)</td>\n",
       "      <td>월요일</td>\n",
       "      <td>2</td>\n",
       "      <td>0</td>\n",
       "      <td>0</td>\n",
       "      <td>0</td>\n",
       "      <td>0</td>\n",
       "      <td>0</td>\n",
       "      <td>...</td>\n",
       "      <td>0</td>\n",
       "      <td>0</td>\n",
       "      <td>0</td>\n",
       "      <td>0</td>\n",
       "      <td>0</td>\n",
       "      <td>0</td>\n",
       "      <td>0</td>\n",
       "      <td>0</td>\n",
       "      <td>0</td>\n",
       "      <td>0</td>\n",
       "    </tr>\n",
       "    <tr>\n",
       "      <th>54</th>\n",
       "      <td>형법범</td>\n",
       "      <td>절도범</td>\n",
       "      <td>특수절도(상습)</td>\n",
       "      <td>일요일</td>\n",
       "      <td>1</td>\n",
       "      <td>0</td>\n",
       "      <td>0</td>\n",
       "      <td>0</td>\n",
       "      <td>0</td>\n",
       "      <td>0</td>\n",
       "      <td>...</td>\n",
       "      <td>0</td>\n",
       "      <td>0</td>\n",
       "      <td>0</td>\n",
       "      <td>0</td>\n",
       "      <td>0</td>\n",
       "      <td>0</td>\n",
       "      <td>0</td>\n",
       "      <td>0</td>\n",
       "      <td>0</td>\n",
       "      <td>0</td>\n",
       "    </tr>\n",
       "  </tbody>\n",
       "</table>\n",
       "<p>55 rows × 21 columns</p>\n",
       "</div>"
      ],
      "text/plain": [
       "      대    중             소  요일별  1994년  1995년  1996년  1997년  1998년  1999년  \\\n",
       "0   형법범  절도범          상습절도  금요일     98      0      0      0      0      0   \n",
       "1   형법범  절도범          상습절도  목요일     55      0      0      0      0      0   \n",
       "2   형법범  절도범          상습절도   미상    170      0      0      0      0      0   \n",
       "3   형법범  절도범          상습절도  수요일     74      0      0      0      0      0   \n",
       "4   형법범  절도범          상습절도  월요일     72      0      0      0      0      0   \n",
       "5   형법범  절도범          상습절도  일요일     58      0      0      0      0      0   \n",
       "6   형법범  절도범          상습절도  토요일     69      0      0      0      0      0   \n",
       "7   형법범  절도범          상습절도  화요일     45      0      0      0      0      0   \n",
       "8   형법범  절도범            소계  금요일   6870   8321   8826  10346  11373  10086   \n",
       "9   형법범  절도범            소계  목요일   6695   7969   8598  10373  11383  10247   \n",
       "10  형법범  절도범            소계   미상  10801   1891   1222   2287   2518   3583   \n",
       "11  형법범  절도범            소계  수요일   7745  10170  14088  16205  18385  20049   \n",
       "12  형법범  절도범            소계  월요일   7461   9574  11252  13277  15214  14241   \n",
       "13  형법범  절도범            소계  일요일   6387   7323   7821   8772   9855   8834   \n",
       "14  형법범  절도범            소계  토요일   7305   8381   8955  10252  10701  10877   \n",
       "15  형법범  절도범            소계  화요일   6991   9081   9476  11551  12009  11478   \n",
       "16  형법범  절도범      야간주거침입절도  금요일    365      0      0      0      0      0   \n",
       "17  형법범  절도범      야간주거침입절도  목요일    339      0      0      0      0      0   \n",
       "18  형법범  절도범      야간주거침입절도   미상    482      0      0      0      0      0   \n",
       "19  형법범  절도범      야간주거침입절도  수요일    368      0      0      0      0      0   \n",
       "20  형법범  절도범      야간주거침입절도  월요일    396      0      0      0      0      0   \n",
       "21  형법범  절도범      야간주거침입절도  일요일    369      0      0      0      0      0   \n",
       "22  형법범  절도범      야간주거침입절도  토요일    359      0      0      0      0      0   \n",
       "23  형법범  절도범      야간주거침입절도  화요일    359      0      0      0      0      0   \n",
       "24  형법범  절도범  야간주거침입절도(상습)  수요일      1      0      0      0      0      0   \n",
       "25  형법범  절도범  야간주거침입절도(상습)  토요일      1      0      0      0      0      0   \n",
       "26  형법범  절도범            절도  금요일   4344      0      0      0      0      0   \n",
       "27  형법범  절도범            절도  목요일   4365      0      0      0      0      0   \n",
       "28  형법범  절도범            절도   미상   6996      0      0      0      0      0   \n",
       "29  형법범  절도범            절도  수요일   5118      0      0      0      0      0   \n",
       "30  형법범  절도범            절도  월요일   4808      0      0      0      0      0   \n",
       "31  형법범  절도범            절도  일요일   3853      0      0      0      0      0   \n",
       "32  형법범  절도범            절도  토요일   4772      0      0      0      0      0   \n",
       "33  형법범  절도범            절도  화요일   4531      0      0      0      0      0   \n",
       "34  형법범  절도범       특가법(절도)  금요일    491      0      0      0      0      0   \n",
       "35  형법범  절도범       특가법(절도)  목요일    466      0      0      0      0      0   \n",
       "36  형법범  절도범       특가법(절도)   미상    815      0      0      0      0      0   \n",
       "37  형법범  절도범       특가법(절도)  수요일    466      0      0      0      0      0   \n",
       "38  형법범  절도범       특가법(절도)  월요일    438      0      0      0      0      0   \n",
       "39  형법범  절도범       특가법(절도)  일요일    400      0      0      0      0      0   \n",
       "40  형법범  절도범       특가법(절도)  토요일    381      0      0      0      0      0   \n",
       "41  형법범  절도범       특가법(절도)  화요일    422      0      0      0      0      0   \n",
       "42  형법범  절도범     특가법(절도강간)  화요일      1      0      0      0      0      0   \n",
       "43  형법범  절도범          특수절도  금요일   1569      0      0      0      0      0   \n",
       "44  형법범  절도범          특수절도  목요일   1470      0      0      0      0      0   \n",
       "45  형법범  절도범          특수절도   미상   2327      0      0      0      0      0   \n",
       "46  형법범  절도범          특수절도  수요일   1718      0      0      0      0      0   \n",
       "47  형법범  절도범          특수절도  월요일   1745      0      0      0      0      0   \n",
       "48  형법범  절도범          특수절도  일요일   1706      0      0      0      0      0   \n",
       "49  형법범  절도범          특수절도  토요일   1723      0      0      0      0      0   \n",
       "50  형법범  절도범          특수절도  화요일   1633      0      0      0      0      0   \n",
       "51  형법범  절도범      특수절도(상습)  금요일      3      0      0      0      0      0   \n",
       "52  형법범  절도범      특수절도(상습)   미상     11      0      0      0      0      0   \n",
       "53  형법범  절도범      특수절도(상습)  월요일      2      0      0      0      0      0   \n",
       "54  형법범  절도범      특수절도(상습)  일요일      1      0      0      0      0      0   \n",
       "\n",
       "    ...  2001년  2002년  2003년  2004년  2005년  2006년  2007년  2008년  2009년  2010년  \n",
       "0   ...      0      0      0      0      0      0      0      0      0      0  \n",
       "1   ...      0      0      0      0      0      0      0      0      0      0  \n",
       "2   ...      0      0      0      0      0      0      0      0      0      0  \n",
       "3   ...      0      0      0      0      0      0      0      0      0      0  \n",
       "4   ...      0      0      0      0      0      0      0      0      0      0  \n",
       "5   ...      0      0      0      0      0      0      0      0      0      0  \n",
       "6   ...      0      0      0      0      0      0      0      0      0      0  \n",
       "7   ...      0      0      0      0      0      0      0      0      0      0  \n",
       "8   ...  21255  19364  19535  22549  28476  28943  32120  33312  38636  40101  \n",
       "9   ...  19766  18097  18431  22727  26950  27943  30438  32345  36574  38837  \n",
       "10  ...  14277  22212  28573      0      0      0      0      0      0      0  \n",
       "11  ...  39575  40137  39929  22357  27137  28126  30518  31585  38113  37504  \n",
       "12  ...  26084  26789  28012  22385  27141  26643  29538  31699  36801  38334  \n",
       "13  ...  16807  14214  14963  19795  23824  24375  28256  28565  33346  35069  \n",
       "14  ...  19224  16012  15942  23232  28026  29266  31585  32833  37536  40575  \n",
       "15  ...  23716  21632  21967  22266  27226  27374  30003  32877  35417  38990  \n",
       "16  ...      0      0      0      0      0      0      0      0      0      0  \n",
       "17  ...      0      0      0      0      0      0      0      0      0      0  \n",
       "18  ...      0      0      0      0      0      0      0      0      0      0  \n",
       "19  ...      0      0      0      0      0      0      0      0      0      0  \n",
       "20  ...      0      0      0      0      0      0      0      0      0      0  \n",
       "21  ...      0      0      0      0      0      0      0      0      0      0  \n",
       "22  ...      0      0      0      0      0      0      0      0      0      0  \n",
       "23  ...      0      0      0      0      0      0      0      0      0      0  \n",
       "24  ...      0      0      0      0      0      0      0      0      0      0  \n",
       "25  ...      0      0      0      0      0      0      0      0      0      0  \n",
       "26  ...      0      0      0      0      0      0      0      0      0      0  \n",
       "27  ...      0      0      0      0      0      0      0      0      0      0  \n",
       "28  ...      0      0      0      0      0      0      0      0      0      0  \n",
       "29  ...      0      0      0      0      0      0      0      0      0      0  \n",
       "30  ...      0      0      0      0      0      0      0      0      0      0  \n",
       "31  ...      0      0      0      0      0      0      0      0      0      0  \n",
       "32  ...      0      0      0      0      0      0      0      0      0      0  \n",
       "33  ...      0      0      0      0      0      0      0      0      0      0  \n",
       "34  ...      0      0      0      0      0      0      0      0      0      0  \n",
       "35  ...      0      0      0      0      0      0      0      0      0      0  \n",
       "36  ...      0      0      0      0      0      0      0      0      0      0  \n",
       "37  ...      0      0      0      0      0      0      0      0      0      0  \n",
       "38  ...      0      0      0      0      0      0      0      0      0      0  \n",
       "39  ...      0      0      0      0      0      0      0      0      0      0  \n",
       "40  ...      0      0      0      0      0      0      0      0      0      0  \n",
       "41  ...      0      0      0      0      0      0      0      0      0      0  \n",
       "42  ...      0      0      0      0      0      0      0      0      0      0  \n",
       "43  ...      0      0      0      0      0      0      0      0      0      0  \n",
       "44  ...      0      0      0      0      0      0      0      0      0      0  \n",
       "45  ...      0      0      0      0      0      0      0      0      0      0  \n",
       "46  ...      0      0      0      0      0      0      0      0      0      0  \n",
       "47  ...      0      0      0      0      0      0      0      0      0      0  \n",
       "48  ...      0      0      0      0      0      0      0      0      0      0  \n",
       "49  ...      0      0      0      0      0      0      0      0      0      0  \n",
       "50  ...      0      0      0      0      0      0      0      0      0      0  \n",
       "51  ...      0      0      0      0      0      0      0      0      0      0  \n",
       "52  ...      0      0      0      0      0      0      0      0      0      0  \n",
       "53  ...      0      0      0      0      0      0      0      0      0      0  \n",
       "54  ...      0      0      0      0      0      0      0      0      0      0  \n",
       "\n",
       "[55 rows x 21 columns]"
      ]
     },
     "execution_count": 21,
     "metadata": {},
     "output_type": "execute_result"
    }
   ],
   "source": [
    "dotweek_df = dotweek_df_start[dotweek_df_start[\"중\"] == \"절도범\"]\n",
    "dotweek_df.reset_index(inplace=True, drop=True)\n",
    "dotweek_df"
   ]
  },
  {
   "cell_type": "code",
   "execution_count": 22,
   "metadata": {},
   "outputs": [
    {
     "name": "stderr",
     "output_type": "stream",
     "text": [
      "/tmp/ipykernel_37862/2733080067.py:2: SettingWithCopyWarning:\n",
      "\n",
      "\n",
      "A value is trying to be set on a copy of a slice from a DataFrame\n",
      "\n",
      "See the caveats in the documentation: https://pandas.pydata.org/pandas-docs/stable/user_guide/indexing.html#returning-a-view-versus-a-copy\n",
      "\n"
     ]
    },
    {
     "data": {
      "text/html": [
       "<div>\n",
       "<style scoped>\n",
       "    .dataframe tbody tr th:only-of-type {\n",
       "        vertical-align: middle;\n",
       "    }\n",
       "\n",
       "    .dataframe tbody tr th {\n",
       "        vertical-align: top;\n",
       "    }\n",
       "\n",
       "    .dataframe thead th {\n",
       "        text-align: right;\n",
       "    }\n",
       "</style>\n",
       "<table border=\"1\" class=\"dataframe\">\n",
       "  <thead>\n",
       "    <tr style=\"text-align: right;\">\n",
       "      <th></th>\n",
       "      <th>중</th>\n",
       "      <th>소</th>\n",
       "      <th>요일별</th>\n",
       "      <th>1994년</th>\n",
       "      <th>1995년</th>\n",
       "      <th>1996년</th>\n",
       "      <th>1997년</th>\n",
       "      <th>1998년</th>\n",
       "      <th>1999년</th>\n",
       "      <th>2000년</th>\n",
       "      <th>2001년</th>\n",
       "      <th>2002년</th>\n",
       "      <th>2003년</th>\n",
       "      <th>2004년</th>\n",
       "      <th>2005년</th>\n",
       "      <th>2006년</th>\n",
       "      <th>2007년</th>\n",
       "      <th>2008년</th>\n",
       "      <th>2009년</th>\n",
       "      <th>2010년</th>\n",
       "    </tr>\n",
       "  </thead>\n",
       "  <tbody>\n",
       "    <tr>\n",
       "      <th>0</th>\n",
       "      <td>절도범</td>\n",
       "      <td>소계</td>\n",
       "      <td>월요일</td>\n",
       "      <td>7461</td>\n",
       "      <td>9574</td>\n",
       "      <td>11252</td>\n",
       "      <td>13277</td>\n",
       "      <td>15214</td>\n",
       "      <td>14241</td>\n",
       "      <td>27547</td>\n",
       "      <td>26084</td>\n",
       "      <td>26789</td>\n",
       "      <td>28012</td>\n",
       "      <td>22385</td>\n",
       "      <td>27141</td>\n",
       "      <td>26643</td>\n",
       "      <td>29538</td>\n",
       "      <td>31699</td>\n",
       "      <td>36801</td>\n",
       "      <td>38334</td>\n",
       "    </tr>\n",
       "    <tr>\n",
       "      <th>1</th>\n",
       "      <td>절도범</td>\n",
       "      <td>소계</td>\n",
       "      <td>화요일</td>\n",
       "      <td>6991</td>\n",
       "      <td>9081</td>\n",
       "      <td>9476</td>\n",
       "      <td>11551</td>\n",
       "      <td>12009</td>\n",
       "      <td>11478</td>\n",
       "      <td>23148</td>\n",
       "      <td>23716</td>\n",
       "      <td>21632</td>\n",
       "      <td>21967</td>\n",
       "      <td>22266</td>\n",
       "      <td>27226</td>\n",
       "      <td>27374</td>\n",
       "      <td>30003</td>\n",
       "      <td>32877</td>\n",
       "      <td>35417</td>\n",
       "      <td>38990</td>\n",
       "    </tr>\n",
       "    <tr>\n",
       "      <th>2</th>\n",
       "      <td>절도범</td>\n",
       "      <td>소계</td>\n",
       "      <td>수요일</td>\n",
       "      <td>7745</td>\n",
       "      <td>10170</td>\n",
       "      <td>14088</td>\n",
       "      <td>16205</td>\n",
       "      <td>18385</td>\n",
       "      <td>20049</td>\n",
       "      <td>37782</td>\n",
       "      <td>39575</td>\n",
       "      <td>40137</td>\n",
       "      <td>39929</td>\n",
       "      <td>22357</td>\n",
       "      <td>27137</td>\n",
       "      <td>28126</td>\n",
       "      <td>30518</td>\n",
       "      <td>31585</td>\n",
       "      <td>38113</td>\n",
       "      <td>37504</td>\n",
       "    </tr>\n",
       "    <tr>\n",
       "      <th>3</th>\n",
       "      <td>절도범</td>\n",
       "      <td>소계</td>\n",
       "      <td>목요일</td>\n",
       "      <td>6695</td>\n",
       "      <td>7969</td>\n",
       "      <td>8598</td>\n",
       "      <td>10373</td>\n",
       "      <td>11383</td>\n",
       "      <td>10247</td>\n",
       "      <td>20973</td>\n",
       "      <td>19766</td>\n",
       "      <td>18097</td>\n",
       "      <td>18431</td>\n",
       "      <td>22727</td>\n",
       "      <td>26950</td>\n",
       "      <td>27943</td>\n",
       "      <td>30438</td>\n",
       "      <td>32345</td>\n",
       "      <td>36574</td>\n",
       "      <td>38837</td>\n",
       "    </tr>\n",
       "    <tr>\n",
       "      <th>4</th>\n",
       "      <td>절도범</td>\n",
       "      <td>소계</td>\n",
       "      <td>금요일</td>\n",
       "      <td>6870</td>\n",
       "      <td>8321</td>\n",
       "      <td>8826</td>\n",
       "      <td>10346</td>\n",
       "      <td>11373</td>\n",
       "      <td>10086</td>\n",
       "      <td>20950</td>\n",
       "      <td>21255</td>\n",
       "      <td>19364</td>\n",
       "      <td>19535</td>\n",
       "      <td>22549</td>\n",
       "      <td>28476</td>\n",
       "      <td>28943</td>\n",
       "      <td>32120</td>\n",
       "      <td>33312</td>\n",
       "      <td>38636</td>\n",
       "      <td>40101</td>\n",
       "    </tr>\n",
       "    <tr>\n",
       "      <th>5</th>\n",
       "      <td>절도범</td>\n",
       "      <td>소계</td>\n",
       "      <td>토요일</td>\n",
       "      <td>7305</td>\n",
       "      <td>8381</td>\n",
       "      <td>8955</td>\n",
       "      <td>10252</td>\n",
       "      <td>10701</td>\n",
       "      <td>10877</td>\n",
       "      <td>19799</td>\n",
       "      <td>19224</td>\n",
       "      <td>16012</td>\n",
       "      <td>15942</td>\n",
       "      <td>23232</td>\n",
       "      <td>28026</td>\n",
       "      <td>29266</td>\n",
       "      <td>31585</td>\n",
       "      <td>32833</td>\n",
       "      <td>37536</td>\n",
       "      <td>40575</td>\n",
       "    </tr>\n",
       "    <tr>\n",
       "      <th>6</th>\n",
       "      <td>절도범</td>\n",
       "      <td>소계</td>\n",
       "      <td>일요일</td>\n",
       "      <td>6387</td>\n",
       "      <td>7323</td>\n",
       "      <td>7821</td>\n",
       "      <td>8772</td>\n",
       "      <td>9855</td>\n",
       "      <td>8834</td>\n",
       "      <td>16721</td>\n",
       "      <td>16807</td>\n",
       "      <td>14214</td>\n",
       "      <td>14963</td>\n",
       "      <td>19795</td>\n",
       "      <td>23824</td>\n",
       "      <td>24375</td>\n",
       "      <td>28256</td>\n",
       "      <td>28565</td>\n",
       "      <td>33346</td>\n",
       "      <td>35069</td>\n",
       "    </tr>\n",
       "    <tr>\n",
       "      <th>7</th>\n",
       "      <td>절도범</td>\n",
       "      <td>소계</td>\n",
       "      <td>미상</td>\n",
       "      <td>10801</td>\n",
       "      <td>1891</td>\n",
       "      <td>1222</td>\n",
       "      <td>2287</td>\n",
       "      <td>2518</td>\n",
       "      <td>3583</td>\n",
       "      <td>6956</td>\n",
       "      <td>14277</td>\n",
       "      <td>22212</td>\n",
       "      <td>28573</td>\n",
       "      <td>0</td>\n",
       "      <td>0</td>\n",
       "      <td>0</td>\n",
       "      <td>0</td>\n",
       "      <td>0</td>\n",
       "      <td>0</td>\n",
       "      <td>0</td>\n",
       "    </tr>\n",
       "  </tbody>\n",
       "</table>\n",
       "</div>"
      ],
      "text/plain": [
       "     중   소  요일별  1994년  1995년  1996년  1997년  1998년  1999년  2000년  2001년  \\\n",
       "0  절도범  소계  월요일   7461   9574  11252  13277  15214  14241  27547  26084   \n",
       "1  절도범  소계  화요일   6991   9081   9476  11551  12009  11478  23148  23716   \n",
       "2  절도범  소계  수요일   7745  10170  14088  16205  18385  20049  37782  39575   \n",
       "3  절도범  소계  목요일   6695   7969   8598  10373  11383  10247  20973  19766   \n",
       "4  절도범  소계  금요일   6870   8321   8826  10346  11373  10086  20950  21255   \n",
       "5  절도범  소계  토요일   7305   8381   8955  10252  10701  10877  19799  19224   \n",
       "6  절도범  소계  일요일   6387   7323   7821   8772   9855   8834  16721  16807   \n",
       "7  절도범  소계   미상  10801   1891   1222   2287   2518   3583   6956  14277   \n",
       "\n",
       "   2002년  2003년  2004년  2005년  2006년  2007년  2008년  2009년  2010년  \n",
       "0  26789  28012  22385  27141  26643  29538  31699  36801  38334  \n",
       "1  21632  21967  22266  27226  27374  30003  32877  35417  38990  \n",
       "2  40137  39929  22357  27137  28126  30518  31585  38113  37504  \n",
       "3  18097  18431  22727  26950  27943  30438  32345  36574  38837  \n",
       "4  19364  19535  22549  28476  28943  32120  33312  38636  40101  \n",
       "5  16012  15942  23232  28026  29266  31585  32833  37536  40575  \n",
       "6  14214  14963  19795  23824  24375  28256  28565  33346  35069  \n",
       "7  22212  28573      0      0      0      0      0      0      0  "
      ]
     },
     "execution_count": 22,
     "metadata": {},
     "output_type": "execute_result"
    }
   ],
   "source": [
    "dotweek_df_total = dotweek_df[dotweek_df[\"소\"] == \"소계\"]\n",
    "dotweek_df_total.drop(columns=\"대\", inplace=True)\n",
    "dotweek_df_total.reset_index(inplace=True, drop=True)\n",
    "dotweek_df_total = dotweek_df_total.reindex([4,7,3,1,0,6,5,2])\n",
    "dotweek_df_total.reset_index(inplace=True, drop=True)\n",
    "dotweek_df_total"
   ]
  },
  {
   "cell_type": "code",
   "execution_count": 23,
   "metadata": {},
   "outputs": [
    {
     "data": {
      "application/vnd.plotly.v1+json": {
       "config": {
        "plotlyServerURL": "https://plot.ly"
       },
       "data": [
        {
         "hovertemplate": "요일별=월요일<br>년도=%{x}<br>발생건수=%{y}<extra></extra>",
         "legendgroup": "월요일",
         "line": {
          "color": "#636efa",
          "dash": "solid"
         },
         "marker": {
          "symbol": "circle"
         },
         "mode": "lines+markers",
         "name": "월요일",
         "orientation": "v",
         "showlegend": true,
         "type": "scatter",
         "x": [
          "1994년",
          "1995년",
          "1996년",
          "1997년",
          "1998년",
          "1999년",
          "2000년",
          "2001년",
          "2002년",
          "2003년",
          "2004년",
          "2005년",
          "2006년",
          "2007년",
          "2008년",
          "2009년",
          "2010년"
         ],
         "xaxis": "x",
         "y": [
          7461,
          9574,
          11252,
          13277,
          15214,
          14241,
          27547,
          26084,
          26789,
          28012,
          22385,
          27141,
          26643,
          29538,
          31699,
          36801,
          38334
         ],
         "yaxis": "y"
        },
        {
         "hovertemplate": "요일별=화요일<br>년도=%{x}<br>발생건수=%{y}<extra></extra>",
         "legendgroup": "화요일",
         "line": {
          "color": "#EF553B",
          "dash": "solid"
         },
         "marker": {
          "symbol": "circle"
         },
         "mode": "lines+markers",
         "name": "화요일",
         "orientation": "v",
         "showlegend": true,
         "type": "scatter",
         "x": [
          "1994년",
          "1995년",
          "1996년",
          "1997년",
          "1998년",
          "1999년",
          "2000년",
          "2001년",
          "2002년",
          "2003년",
          "2004년",
          "2005년",
          "2006년",
          "2007년",
          "2008년",
          "2009년",
          "2010년"
         ],
         "xaxis": "x",
         "y": [
          6991,
          9081,
          9476,
          11551,
          12009,
          11478,
          23148,
          23716,
          21632,
          21967,
          22266,
          27226,
          27374,
          30003,
          32877,
          35417,
          38990
         ],
         "yaxis": "y"
        },
        {
         "hovertemplate": "요일별=수요일<br>년도=%{x}<br>발생건수=%{y}<extra></extra>",
         "legendgroup": "수요일",
         "line": {
          "color": "#00cc96",
          "dash": "solid"
         },
         "marker": {
          "symbol": "circle"
         },
         "mode": "lines+markers",
         "name": "수요일",
         "orientation": "v",
         "showlegend": true,
         "type": "scatter",
         "x": [
          "1994년",
          "1995년",
          "1996년",
          "1997년",
          "1998년",
          "1999년",
          "2000년",
          "2001년",
          "2002년",
          "2003년",
          "2004년",
          "2005년",
          "2006년",
          "2007년",
          "2008년",
          "2009년",
          "2010년"
         ],
         "xaxis": "x",
         "y": [
          7745,
          10170,
          14088,
          16205,
          18385,
          20049,
          37782,
          39575,
          40137,
          39929,
          22357,
          27137,
          28126,
          30518,
          31585,
          38113,
          37504
         ],
         "yaxis": "y"
        },
        {
         "hovertemplate": "요일별=목요일<br>년도=%{x}<br>발생건수=%{y}<extra></extra>",
         "legendgroup": "목요일",
         "line": {
          "color": "#ab63fa",
          "dash": "solid"
         },
         "marker": {
          "symbol": "circle"
         },
         "mode": "lines+markers",
         "name": "목요일",
         "orientation": "v",
         "showlegend": true,
         "type": "scatter",
         "x": [
          "1994년",
          "1995년",
          "1996년",
          "1997년",
          "1998년",
          "1999년",
          "2000년",
          "2001년",
          "2002년",
          "2003년",
          "2004년",
          "2005년",
          "2006년",
          "2007년",
          "2008년",
          "2009년",
          "2010년"
         ],
         "xaxis": "x",
         "y": [
          6695,
          7969,
          8598,
          10373,
          11383,
          10247,
          20973,
          19766,
          18097,
          18431,
          22727,
          26950,
          27943,
          30438,
          32345,
          36574,
          38837
         ],
         "yaxis": "y"
        },
        {
         "hovertemplate": "요일별=금요일<br>년도=%{x}<br>발생건수=%{y}<extra></extra>",
         "legendgroup": "금요일",
         "line": {
          "color": "#FFA15A",
          "dash": "solid"
         },
         "marker": {
          "symbol": "circle"
         },
         "mode": "lines+markers",
         "name": "금요일",
         "orientation": "v",
         "showlegend": true,
         "type": "scatter",
         "x": [
          "1994년",
          "1995년",
          "1996년",
          "1997년",
          "1998년",
          "1999년",
          "2000년",
          "2001년",
          "2002년",
          "2003년",
          "2004년",
          "2005년",
          "2006년",
          "2007년",
          "2008년",
          "2009년",
          "2010년"
         ],
         "xaxis": "x",
         "y": [
          6870,
          8321,
          8826,
          10346,
          11373,
          10086,
          20950,
          21255,
          19364,
          19535,
          22549,
          28476,
          28943,
          32120,
          33312,
          38636,
          40101
         ],
         "yaxis": "y"
        },
        {
         "hovertemplate": "요일별=토요일<br>년도=%{x}<br>발생건수=%{y}<extra></extra>",
         "legendgroup": "토요일",
         "line": {
          "color": "#19d3f3",
          "dash": "solid"
         },
         "marker": {
          "symbol": "circle"
         },
         "mode": "lines+markers",
         "name": "토요일",
         "orientation": "v",
         "showlegend": true,
         "type": "scatter",
         "x": [
          "1994년",
          "1995년",
          "1996년",
          "1997년",
          "1998년",
          "1999년",
          "2000년",
          "2001년",
          "2002년",
          "2003년",
          "2004년",
          "2005년",
          "2006년",
          "2007년",
          "2008년",
          "2009년",
          "2010년"
         ],
         "xaxis": "x",
         "y": [
          7305,
          8381,
          8955,
          10252,
          10701,
          10877,
          19799,
          19224,
          16012,
          15942,
          23232,
          28026,
          29266,
          31585,
          32833,
          37536,
          40575
         ],
         "yaxis": "y"
        },
        {
         "hovertemplate": "요일별=일요일<br>년도=%{x}<br>발생건수=%{y}<extra></extra>",
         "legendgroup": "일요일",
         "line": {
          "color": "#FF6692",
          "dash": "solid"
         },
         "marker": {
          "symbol": "circle"
         },
         "mode": "lines+markers",
         "name": "일요일",
         "orientation": "v",
         "showlegend": true,
         "type": "scatter",
         "x": [
          "1994년",
          "1995년",
          "1996년",
          "1997년",
          "1998년",
          "1999년",
          "2000년",
          "2001년",
          "2002년",
          "2003년",
          "2004년",
          "2005년",
          "2006년",
          "2007년",
          "2008년",
          "2009년",
          "2010년"
         ],
         "xaxis": "x",
         "y": [
          6387,
          7323,
          7821,
          8772,
          9855,
          8834,
          16721,
          16807,
          14214,
          14963,
          19795,
          23824,
          24375,
          28256,
          28565,
          33346,
          35069
         ],
         "yaxis": "y"
        },
        {
         "hovertemplate": "요일별=미상<br>년도=%{x}<br>발생건수=%{y}<extra></extra>",
         "legendgroup": "미상",
         "line": {
          "color": "#B6E880",
          "dash": "solid"
         },
         "marker": {
          "symbol": "circle"
         },
         "mode": "lines+markers",
         "name": "미상",
         "orientation": "v",
         "showlegend": true,
         "type": "scatter",
         "x": [
          "1994년",
          "1995년",
          "1996년",
          "1997년",
          "1998년",
          "1999년",
          "2000년",
          "2001년",
          "2002년",
          "2003년",
          "2004년",
          "2005년",
          "2006년",
          "2007년",
          "2008년",
          "2009년",
          "2010년"
         ],
         "xaxis": "x",
         "y": [
          10801,
          1891,
          1222,
          2287,
          2518,
          3583,
          6956,
          14277,
          22212,
          28573,
          0,
          0,
          0,
          0,
          0,
          0,
          0
         ],
         "yaxis": "y"
        }
       ],
       "layout": {
        "legend": {
         "title": {
          "text": "요일별"
         },
         "tracegroupgap": 0
        },
        "template": {
         "data": {
          "bar": [
           {
            "error_x": {
             "color": "#2a3f5f"
            },
            "error_y": {
             "color": "#2a3f5f"
            },
            "marker": {
             "line": {
              "color": "#E5ECF6",
              "width": 0.5
             },
             "pattern": {
              "fillmode": "overlay",
              "size": 10,
              "solidity": 0.2
             }
            },
            "type": "bar"
           }
          ],
          "barpolar": [
           {
            "marker": {
             "line": {
              "color": "#E5ECF6",
              "width": 0.5
             },
             "pattern": {
              "fillmode": "overlay",
              "size": 10,
              "solidity": 0.2
             }
            },
            "type": "barpolar"
           }
          ],
          "carpet": [
           {
            "aaxis": {
             "endlinecolor": "#2a3f5f",
             "gridcolor": "white",
             "linecolor": "white",
             "minorgridcolor": "white",
             "startlinecolor": "#2a3f5f"
            },
            "baxis": {
             "endlinecolor": "#2a3f5f",
             "gridcolor": "white",
             "linecolor": "white",
             "minorgridcolor": "white",
             "startlinecolor": "#2a3f5f"
            },
            "type": "carpet"
           }
          ],
          "choropleth": [
           {
            "colorbar": {
             "outlinewidth": 0,
             "ticks": ""
            },
            "type": "choropleth"
           }
          ],
          "contour": [
           {
            "colorbar": {
             "outlinewidth": 0,
             "ticks": ""
            },
            "colorscale": [
             [
              0,
              "#0d0887"
             ],
             [
              0.1111111111111111,
              "#46039f"
             ],
             [
              0.2222222222222222,
              "#7201a8"
             ],
             [
              0.3333333333333333,
              "#9c179e"
             ],
             [
              0.4444444444444444,
              "#bd3786"
             ],
             [
              0.5555555555555556,
              "#d8576b"
             ],
             [
              0.6666666666666666,
              "#ed7953"
             ],
             [
              0.7777777777777778,
              "#fb9f3a"
             ],
             [
              0.8888888888888888,
              "#fdca26"
             ],
             [
              1,
              "#f0f921"
             ]
            ],
            "type": "contour"
           }
          ],
          "contourcarpet": [
           {
            "colorbar": {
             "outlinewidth": 0,
             "ticks": ""
            },
            "type": "contourcarpet"
           }
          ],
          "heatmap": [
           {
            "colorbar": {
             "outlinewidth": 0,
             "ticks": ""
            },
            "colorscale": [
             [
              0,
              "#0d0887"
             ],
             [
              0.1111111111111111,
              "#46039f"
             ],
             [
              0.2222222222222222,
              "#7201a8"
             ],
             [
              0.3333333333333333,
              "#9c179e"
             ],
             [
              0.4444444444444444,
              "#bd3786"
             ],
             [
              0.5555555555555556,
              "#d8576b"
             ],
             [
              0.6666666666666666,
              "#ed7953"
             ],
             [
              0.7777777777777778,
              "#fb9f3a"
             ],
             [
              0.8888888888888888,
              "#fdca26"
             ],
             [
              1,
              "#f0f921"
             ]
            ],
            "type": "heatmap"
           }
          ],
          "heatmapgl": [
           {
            "colorbar": {
             "outlinewidth": 0,
             "ticks": ""
            },
            "colorscale": [
             [
              0,
              "#0d0887"
             ],
             [
              0.1111111111111111,
              "#46039f"
             ],
             [
              0.2222222222222222,
              "#7201a8"
             ],
             [
              0.3333333333333333,
              "#9c179e"
             ],
             [
              0.4444444444444444,
              "#bd3786"
             ],
             [
              0.5555555555555556,
              "#d8576b"
             ],
             [
              0.6666666666666666,
              "#ed7953"
             ],
             [
              0.7777777777777778,
              "#fb9f3a"
             ],
             [
              0.8888888888888888,
              "#fdca26"
             ],
             [
              1,
              "#f0f921"
             ]
            ],
            "type": "heatmapgl"
           }
          ],
          "histogram": [
           {
            "marker": {
             "pattern": {
              "fillmode": "overlay",
              "size": 10,
              "solidity": 0.2
             }
            },
            "type": "histogram"
           }
          ],
          "histogram2d": [
           {
            "colorbar": {
             "outlinewidth": 0,
             "ticks": ""
            },
            "colorscale": [
             [
              0,
              "#0d0887"
             ],
             [
              0.1111111111111111,
              "#46039f"
             ],
             [
              0.2222222222222222,
              "#7201a8"
             ],
             [
              0.3333333333333333,
              "#9c179e"
             ],
             [
              0.4444444444444444,
              "#bd3786"
             ],
             [
              0.5555555555555556,
              "#d8576b"
             ],
             [
              0.6666666666666666,
              "#ed7953"
             ],
             [
              0.7777777777777778,
              "#fb9f3a"
             ],
             [
              0.8888888888888888,
              "#fdca26"
             ],
             [
              1,
              "#f0f921"
             ]
            ],
            "type": "histogram2d"
           }
          ],
          "histogram2dcontour": [
           {
            "colorbar": {
             "outlinewidth": 0,
             "ticks": ""
            },
            "colorscale": [
             [
              0,
              "#0d0887"
             ],
             [
              0.1111111111111111,
              "#46039f"
             ],
             [
              0.2222222222222222,
              "#7201a8"
             ],
             [
              0.3333333333333333,
              "#9c179e"
             ],
             [
              0.4444444444444444,
              "#bd3786"
             ],
             [
              0.5555555555555556,
              "#d8576b"
             ],
             [
              0.6666666666666666,
              "#ed7953"
             ],
             [
              0.7777777777777778,
              "#fb9f3a"
             ],
             [
              0.8888888888888888,
              "#fdca26"
             ],
             [
              1,
              "#f0f921"
             ]
            ],
            "type": "histogram2dcontour"
           }
          ],
          "mesh3d": [
           {
            "colorbar": {
             "outlinewidth": 0,
             "ticks": ""
            },
            "type": "mesh3d"
           }
          ],
          "parcoords": [
           {
            "line": {
             "colorbar": {
              "outlinewidth": 0,
              "ticks": ""
             }
            },
            "type": "parcoords"
           }
          ],
          "pie": [
           {
            "automargin": true,
            "type": "pie"
           }
          ],
          "scatter": [
           {
            "fillpattern": {
             "fillmode": "overlay",
             "size": 10,
             "solidity": 0.2
            },
            "type": "scatter"
           }
          ],
          "scatter3d": [
           {
            "line": {
             "colorbar": {
              "outlinewidth": 0,
              "ticks": ""
             }
            },
            "marker": {
             "colorbar": {
              "outlinewidth": 0,
              "ticks": ""
             }
            },
            "type": "scatter3d"
           }
          ],
          "scattercarpet": [
           {
            "marker": {
             "colorbar": {
              "outlinewidth": 0,
              "ticks": ""
             }
            },
            "type": "scattercarpet"
           }
          ],
          "scattergeo": [
           {
            "marker": {
             "colorbar": {
              "outlinewidth": 0,
              "ticks": ""
             }
            },
            "type": "scattergeo"
           }
          ],
          "scattergl": [
           {
            "marker": {
             "colorbar": {
              "outlinewidth": 0,
              "ticks": ""
             }
            },
            "type": "scattergl"
           }
          ],
          "scattermapbox": [
           {
            "marker": {
             "colorbar": {
              "outlinewidth": 0,
              "ticks": ""
             }
            },
            "type": "scattermapbox"
           }
          ],
          "scatterpolar": [
           {
            "marker": {
             "colorbar": {
              "outlinewidth": 0,
              "ticks": ""
             }
            },
            "type": "scatterpolar"
           }
          ],
          "scatterpolargl": [
           {
            "marker": {
             "colorbar": {
              "outlinewidth": 0,
              "ticks": ""
             }
            },
            "type": "scatterpolargl"
           }
          ],
          "scatterternary": [
           {
            "marker": {
             "colorbar": {
              "outlinewidth": 0,
              "ticks": ""
             }
            },
            "type": "scatterternary"
           }
          ],
          "surface": [
           {
            "colorbar": {
             "outlinewidth": 0,
             "ticks": ""
            },
            "colorscale": [
             [
              0,
              "#0d0887"
             ],
             [
              0.1111111111111111,
              "#46039f"
             ],
             [
              0.2222222222222222,
              "#7201a8"
             ],
             [
              0.3333333333333333,
              "#9c179e"
             ],
             [
              0.4444444444444444,
              "#bd3786"
             ],
             [
              0.5555555555555556,
              "#d8576b"
             ],
             [
              0.6666666666666666,
              "#ed7953"
             ],
             [
              0.7777777777777778,
              "#fb9f3a"
             ],
             [
              0.8888888888888888,
              "#fdca26"
             ],
             [
              1,
              "#f0f921"
             ]
            ],
            "type": "surface"
           }
          ],
          "table": [
           {
            "cells": {
             "fill": {
              "color": "#EBF0F8"
             },
             "line": {
              "color": "white"
             }
            },
            "header": {
             "fill": {
              "color": "#C8D4E3"
             },
             "line": {
              "color": "white"
             }
            },
            "type": "table"
           }
          ]
         },
         "layout": {
          "annotationdefaults": {
           "arrowcolor": "#2a3f5f",
           "arrowhead": 0,
           "arrowwidth": 1
          },
          "autotypenumbers": "strict",
          "coloraxis": {
           "colorbar": {
            "outlinewidth": 0,
            "ticks": ""
           }
          },
          "colorscale": {
           "diverging": [
            [
             0,
             "#8e0152"
            ],
            [
             0.1,
             "#c51b7d"
            ],
            [
             0.2,
             "#de77ae"
            ],
            [
             0.3,
             "#f1b6da"
            ],
            [
             0.4,
             "#fde0ef"
            ],
            [
             0.5,
             "#f7f7f7"
            ],
            [
             0.6,
             "#e6f5d0"
            ],
            [
             0.7,
             "#b8e186"
            ],
            [
             0.8,
             "#7fbc41"
            ],
            [
             0.9,
             "#4d9221"
            ],
            [
             1,
             "#276419"
            ]
           ],
           "sequential": [
            [
             0,
             "#0d0887"
            ],
            [
             0.1111111111111111,
             "#46039f"
            ],
            [
             0.2222222222222222,
             "#7201a8"
            ],
            [
             0.3333333333333333,
             "#9c179e"
            ],
            [
             0.4444444444444444,
             "#bd3786"
            ],
            [
             0.5555555555555556,
             "#d8576b"
            ],
            [
             0.6666666666666666,
             "#ed7953"
            ],
            [
             0.7777777777777778,
             "#fb9f3a"
            ],
            [
             0.8888888888888888,
             "#fdca26"
            ],
            [
             1,
             "#f0f921"
            ]
           ],
           "sequentialminus": [
            [
             0,
             "#0d0887"
            ],
            [
             0.1111111111111111,
             "#46039f"
            ],
            [
             0.2222222222222222,
             "#7201a8"
            ],
            [
             0.3333333333333333,
             "#9c179e"
            ],
            [
             0.4444444444444444,
             "#bd3786"
            ],
            [
             0.5555555555555556,
             "#d8576b"
            ],
            [
             0.6666666666666666,
             "#ed7953"
            ],
            [
             0.7777777777777778,
             "#fb9f3a"
            ],
            [
             0.8888888888888888,
             "#fdca26"
            ],
            [
             1,
             "#f0f921"
            ]
           ]
          },
          "colorway": [
           "#636efa",
           "#EF553B",
           "#00cc96",
           "#ab63fa",
           "#FFA15A",
           "#19d3f3",
           "#FF6692",
           "#B6E880",
           "#FF97FF",
           "#FECB52"
          ],
          "font": {
           "color": "#2a3f5f"
          },
          "geo": {
           "bgcolor": "white",
           "lakecolor": "white",
           "landcolor": "#E5ECF6",
           "showlakes": true,
           "showland": true,
           "subunitcolor": "white"
          },
          "hoverlabel": {
           "align": "left"
          },
          "hovermode": "closest",
          "mapbox": {
           "style": "light"
          },
          "paper_bgcolor": "white",
          "plot_bgcolor": "#E5ECF6",
          "polar": {
           "angularaxis": {
            "gridcolor": "white",
            "linecolor": "white",
            "ticks": ""
           },
           "bgcolor": "#E5ECF6",
           "radialaxis": {
            "gridcolor": "white",
            "linecolor": "white",
            "ticks": ""
           }
          },
          "scene": {
           "xaxis": {
            "backgroundcolor": "#E5ECF6",
            "gridcolor": "white",
            "gridwidth": 2,
            "linecolor": "white",
            "showbackground": true,
            "ticks": "",
            "zerolinecolor": "white"
           },
           "yaxis": {
            "backgroundcolor": "#E5ECF6",
            "gridcolor": "white",
            "gridwidth": 2,
            "linecolor": "white",
            "showbackground": true,
            "ticks": "",
            "zerolinecolor": "white"
           },
           "zaxis": {
            "backgroundcolor": "#E5ECF6",
            "gridcolor": "white",
            "gridwidth": 2,
            "linecolor": "white",
            "showbackground": true,
            "ticks": "",
            "zerolinecolor": "white"
           }
          },
          "shapedefaults": {
           "line": {
            "color": "#2a3f5f"
           }
          },
          "ternary": {
           "aaxis": {
            "gridcolor": "white",
            "linecolor": "white",
            "ticks": ""
           },
           "baxis": {
            "gridcolor": "white",
            "linecolor": "white",
            "ticks": ""
           },
           "bgcolor": "#E5ECF6",
           "caxis": {
            "gridcolor": "white",
            "linecolor": "white",
            "ticks": ""
           }
          },
          "title": {
           "x": 0.05
          },
          "xaxis": {
           "automargin": true,
           "gridcolor": "white",
           "linecolor": "white",
           "ticks": "",
           "title": {
            "standoff": 15
           },
           "zerolinecolor": "white",
           "zerolinewidth": 2
          },
          "yaxis": {
           "automargin": true,
           "gridcolor": "white",
           "linecolor": "white",
           "ticks": "",
           "title": {
            "standoff": 15
           },
           "zerolinecolor": "white",
           "zerolinewidth": 2
          }
         }
        },
        "title": {
         "text": "[ 요일별 발생한 절도범 건수 ]"
        },
        "xaxis": {
         "anchor": "y",
         "domain": [
          0,
          1
         ],
         "title": {
          "text": "년도"
         }
        },
        "yaxis": {
         "anchor": "x",
         "domain": [
          0,
          1
         ],
         "title": {
          "text": "발생건수"
         }
        }
       }
      }
     },
     "metadata": {},
     "output_type": "display_data"
    }
   ],
   "source": [
    "df_melted = dotweek_df_total.melt(id_vars=[\"중\", \"소\", \"요일별\"], var_name=\"년도\", value_name=\"발생건수\")\n",
    "\n",
    "fig = px.line(df_melted, x=\"년도\", y=\"발생건수\", color=\"요일별\", title=\"[ 요일별 발생한 절도범 건수 ]\", markers=True)\n",
    "fig.show()"
   ]
  },
  {
   "cell_type": "markdown",
   "metadata": {},
   "source": [
    "##### [ 시간 ]"
   ]
  },
  {
   "cell_type": "code",
   "execution_count": 24,
   "metadata": {},
   "outputs": [
    {
     "data": {
      "text/html": [
       "<div>\n",
       "<style scoped>\n",
       "    .dataframe tbody tr th:only-of-type {\n",
       "        vertical-align: middle;\n",
       "    }\n",
       "\n",
       "    .dataframe tbody tr th {\n",
       "        vertical-align: top;\n",
       "    }\n",
       "\n",
       "    .dataframe thead th {\n",
       "        text-align: right;\n",
       "    }\n",
       "</style>\n",
       "<table border=\"1\" class=\"dataframe\">\n",
       "  <thead>\n",
       "    <tr style=\"text-align: right;\">\n",
       "      <th></th>\n",
       "      <th>대</th>\n",
       "      <th>중</th>\n",
       "      <th>소</th>\n",
       "      <th>발생시간</th>\n",
       "      <th>1994년</th>\n",
       "      <th>1995년</th>\n",
       "      <th>1996년</th>\n",
       "      <th>1997년</th>\n",
       "      <th>1998년</th>\n",
       "      <th>1999년</th>\n",
       "      <th>...</th>\n",
       "      <th>2001년</th>\n",
       "      <th>2002년</th>\n",
       "      <th>2003년</th>\n",
       "      <th>2004년</th>\n",
       "      <th>2005년</th>\n",
       "      <th>2006년</th>\n",
       "      <th>2007년</th>\n",
       "      <th>2008년</th>\n",
       "      <th>2009년</th>\n",
       "      <th>2010년</th>\n",
       "    </tr>\n",
       "  </thead>\n",
       "  <tbody>\n",
       "    <tr>\n",
       "      <th>0</th>\n",
       "      <td>총범죄</td>\n",
       "      <td>소계</td>\n",
       "      <td>소계</td>\n",
       "      <td>심야(00:00~04:00)</td>\n",
       "      <td>116664</td>\n",
       "      <td>125759</td>\n",
       "      <td>135562</td>\n",
       "      <td>145650</td>\n",
       "      <td>181537</td>\n",
       "      <td>199965</td>\n",
       "      <td>...</td>\n",
       "      <td>231374</td>\n",
       "      <td>227356</td>\n",
       "      <td>232135</td>\n",
       "      <td>794266</td>\n",
       "      <td>669626</td>\n",
       "      <td>658792</td>\n",
       "      <td>682121</td>\n",
       "      <td>825648</td>\n",
       "      <td>838369</td>\n",
       "      <td>657125</td>\n",
       "    </tr>\n",
       "    <tr>\n",
       "      <th>1</th>\n",
       "      <td>총범죄</td>\n",
       "      <td>소계</td>\n",
       "      <td>소계</td>\n",
       "      <td>새벽(04:00~07:00)</td>\n",
       "      <td>38998</td>\n",
       "      <td>41308</td>\n",
       "      <td>43568</td>\n",
       "      <td>47170</td>\n",
       "      <td>48238</td>\n",
       "      <td>54892</td>\n",
       "      <td>...</td>\n",
       "      <td>64021</td>\n",
       "      <td>61087</td>\n",
       "      <td>60858</td>\n",
       "      <td>92146</td>\n",
       "      <td>83080</td>\n",
       "      <td>79152</td>\n",
       "      <td>90689</td>\n",
       "      <td>99263</td>\n",
       "      <td>94166</td>\n",
       "      <td>87811</td>\n",
       "    </tr>\n",
       "    <tr>\n",
       "      <th>2</th>\n",
       "      <td>총범죄</td>\n",
       "      <td>소계</td>\n",
       "      <td>소계</td>\n",
       "      <td>오전(07:00~12:00)</td>\n",
       "      <td>163507</td>\n",
       "      <td>180626</td>\n",
       "      <td>192047</td>\n",
       "      <td>195345</td>\n",
       "      <td>230522</td>\n",
       "      <td>231894</td>\n",
       "      <td>...</td>\n",
       "      <td>258970</td>\n",
       "      <td>235199</td>\n",
       "      <td>234504</td>\n",
       "      <td>206451</td>\n",
       "      <td>200434</td>\n",
       "      <td>207161</td>\n",
       "      <td>223647</td>\n",
       "      <td>243143</td>\n",
       "      <td>242713</td>\n",
       "      <td>231321</td>\n",
       "    </tr>\n",
       "    <tr>\n",
       "      <th>3</th>\n",
       "      <td>총범죄</td>\n",
       "      <td>소계</td>\n",
       "      <td>소계</td>\n",
       "      <td>오후(12:00~18:00)</td>\n",
       "      <td>248225</td>\n",
       "      <td>247811</td>\n",
       "      <td>258781</td>\n",
       "      <td>259432</td>\n",
       "      <td>294722</td>\n",
       "      <td>300942</td>\n",
       "      <td>...</td>\n",
       "      <td>299365</td>\n",
       "      <td>287782</td>\n",
       "      <td>285512</td>\n",
       "      <td>301583</td>\n",
       "      <td>272648</td>\n",
       "      <td>278197</td>\n",
       "      <td>298859</td>\n",
       "      <td>332056</td>\n",
       "      <td>316751</td>\n",
       "      <td>298739</td>\n",
       "    </tr>\n",
       "    <tr>\n",
       "      <th>4</th>\n",
       "      <td>총범죄</td>\n",
       "      <td>소계</td>\n",
       "      <td>소계</td>\n",
       "      <td>초저녁(18:00~20:00)</td>\n",
       "      <td>91141</td>\n",
       "      <td>94094</td>\n",
       "      <td>94087</td>\n",
       "      <td>102344</td>\n",
       "      <td>118736</td>\n",
       "      <td>114916</td>\n",
       "      <td>...</td>\n",
       "      <td>121742</td>\n",
       "      <td>115557</td>\n",
       "      <td>117096</td>\n",
       "      <td>104313</td>\n",
       "      <td>98884</td>\n",
       "      <td>98744</td>\n",
       "      <td>104802</td>\n",
       "      <td>113639</td>\n",
       "      <td>113412</td>\n",
       "      <td>113618</td>\n",
       "    </tr>\n",
       "    <tr>\n",
       "      <th>...</th>\n",
       "      <td>...</td>\n",
       "      <td>...</td>\n",
       "      <td>...</td>\n",
       "      <td>...</td>\n",
       "      <td>...</td>\n",
       "      <td>...</td>\n",
       "      <td>...</td>\n",
       "      <td>...</td>\n",
       "      <td>...</td>\n",
       "      <td>...</td>\n",
       "      <td>...</td>\n",
       "      <td>...</td>\n",
       "      <td>...</td>\n",
       "      <td>...</td>\n",
       "      <td>...</td>\n",
       "      <td>...</td>\n",
       "      <td>...</td>\n",
       "      <td>...</td>\n",
       "      <td>...</td>\n",
       "      <td>...</td>\n",
       "      <td>...</td>\n",
       "    </tr>\n",
       "    <tr>\n",
       "      <th>1829</th>\n",
       "      <td>특별법범</td>\n",
       "      <td>기타특별법</td>\n",
       "      <td>소계</td>\n",
       "      <td>오전(07:00~12:00)</td>\n",
       "      <td>2530</td>\n",
       "      <td>3625</td>\n",
       "      <td>3886</td>\n",
       "      <td>7636</td>\n",
       "      <td>10823</td>\n",
       "      <td>13079</td>\n",
       "      <td>...</td>\n",
       "      <td>19494</td>\n",
       "      <td>27573</td>\n",
       "      <td>26237</td>\n",
       "      <td>1932</td>\n",
       "      <td>2968</td>\n",
       "      <td>3061</td>\n",
       "      <td>3756</td>\n",
       "      <td>4090</td>\n",
       "      <td>3981</td>\n",
       "      <td>4294</td>\n",
       "    </tr>\n",
       "    <tr>\n",
       "      <th>1830</th>\n",
       "      <td>특별법범</td>\n",
       "      <td>기타특별법</td>\n",
       "      <td>소계</td>\n",
       "      <td>오후(12:00~18:00)</td>\n",
       "      <td>2535</td>\n",
       "      <td>3164</td>\n",
       "      <td>3506</td>\n",
       "      <td>6126</td>\n",
       "      <td>9500</td>\n",
       "      <td>9320</td>\n",
       "      <td>...</td>\n",
       "      <td>25198</td>\n",
       "      <td>34700</td>\n",
       "      <td>35638</td>\n",
       "      <td>1758</td>\n",
       "      <td>1767</td>\n",
       "      <td>2157</td>\n",
       "      <td>2664</td>\n",
       "      <td>5274</td>\n",
       "      <td>4344</td>\n",
       "      <td>3733</td>\n",
       "    </tr>\n",
       "    <tr>\n",
       "      <th>1831</th>\n",
       "      <td>특별법범</td>\n",
       "      <td>기타특별법</td>\n",
       "      <td>소계</td>\n",
       "      <td>초저녁(18:00~20:00)</td>\n",
       "      <td>401</td>\n",
       "      <td>575</td>\n",
       "      <td>589</td>\n",
       "      <td>1832</td>\n",
       "      <td>1982</td>\n",
       "      <td>1927</td>\n",
       "      <td>...</td>\n",
       "      <td>10325</td>\n",
       "      <td>12166</td>\n",
       "      <td>17555</td>\n",
       "      <td>378</td>\n",
       "      <td>690</td>\n",
       "      <td>530</td>\n",
       "      <td>378</td>\n",
       "      <td>795</td>\n",
       "      <td>608</td>\n",
       "      <td>486</td>\n",
       "    </tr>\n",
       "    <tr>\n",
       "      <th>1832</th>\n",
       "      <td>특별법범</td>\n",
       "      <td>기타특별법</td>\n",
       "      <td>소계</td>\n",
       "      <td>밤(20:00~24:00)</td>\n",
       "      <td>322</td>\n",
       "      <td>557</td>\n",
       "      <td>777</td>\n",
       "      <td>1793</td>\n",
       "      <td>2044</td>\n",
       "      <td>5161</td>\n",
       "      <td>...</td>\n",
       "      <td>43952</td>\n",
       "      <td>61550</td>\n",
       "      <td>84536</td>\n",
       "      <td>1216</td>\n",
       "      <td>742</td>\n",
       "      <td>877</td>\n",
       "      <td>1057</td>\n",
       "      <td>891</td>\n",
       "      <td>743</td>\n",
       "      <td>824</td>\n",
       "    </tr>\n",
       "    <tr>\n",
       "      <th>1833</th>\n",
       "      <td>특별법범</td>\n",
       "      <td>기타특별법</td>\n",
       "      <td>소계</td>\n",
       "      <td>미상</td>\n",
       "      <td>6675</td>\n",
       "      <td>7912</td>\n",
       "      <td>7427</td>\n",
       "      <td>9857</td>\n",
       "      <td>12518</td>\n",
       "      <td>21034</td>\n",
       "      <td>...</td>\n",
       "      <td>45669</td>\n",
       "      <td>61669</td>\n",
       "      <td>79056</td>\n",
       "      <td>0</td>\n",
       "      <td>0</td>\n",
       "      <td>0</td>\n",
       "      <td>0</td>\n",
       "      <td>0</td>\n",
       "      <td>0</td>\n",
       "      <td>0</td>\n",
       "    </tr>\n",
       "  </tbody>\n",
       "</table>\n",
       "<p>1834 rows × 21 columns</p>\n",
       "</div>"
      ],
      "text/plain": [
       "         대      중   소              발생시간   1994년   1995년   1996년   1997년  \\\n",
       "0      총범죄     소계  소계   심야(00:00~04:00)  116664  125759  135562  145650   \n",
       "1      총범죄     소계  소계   새벽(04:00~07:00)   38998   41308   43568   47170   \n",
       "2      총범죄     소계  소계   오전(07:00~12:00)  163507  180626  192047  195345   \n",
       "3      총범죄     소계  소계   오후(12:00~18:00)  248225  247811  258781  259432   \n",
       "4      총범죄     소계  소계  초저녁(18:00~20:00)   91141   94094   94087  102344   \n",
       "...    ...    ...  ..               ...     ...     ...     ...     ...   \n",
       "1829  특별법범  기타특별법  소계   오전(07:00~12:00)    2530    3625    3886    7636   \n",
       "1830  특별법범  기타특별법  소계   오후(12:00~18:00)    2535    3164    3506    6126   \n",
       "1831  특별법범  기타특별법  소계  초저녁(18:00~20:00)     401     575     589    1832   \n",
       "1832  특별법범  기타특별법  소계    밤(20:00~24:00)     322     557     777    1793   \n",
       "1833  특별법범  기타특별법  소계                미상    6675    7912    7427    9857   \n",
       "\n",
       "       1998년   1999년  ...   2001년   2002년   2003년   2004년   2005년   2006년  \\\n",
       "0     181537  199965  ...  231374  227356  232135  794266  669626  658792   \n",
       "1      48238   54892  ...   64021   61087   60858   92146   83080   79152   \n",
       "2     230522  231894  ...  258970  235199  234504  206451  200434  207161   \n",
       "3     294722  300942  ...  299365  287782  285512  301583  272648  278197   \n",
       "4     118736  114916  ...  121742  115557  117096  104313   98884   98744   \n",
       "...      ...     ...  ...     ...     ...     ...     ...     ...     ...   \n",
       "1829   10823   13079  ...   19494   27573   26237    1932    2968    3061   \n",
       "1830    9500    9320  ...   25198   34700   35638    1758    1767    2157   \n",
       "1831    1982    1927  ...   10325   12166   17555     378     690     530   \n",
       "1832    2044    5161  ...   43952   61550   84536    1216     742     877   \n",
       "1833   12518   21034  ...   45669   61669   79056       0       0       0   \n",
       "\n",
       "       2007년   2008년   2009년   2010년  \n",
       "0     682121  825648  838369  657125  \n",
       "1      90689   99263   94166   87811  \n",
       "2     223647  243143  242713  231321  \n",
       "3     298859  332056  316751  298739  \n",
       "4     104802  113639  113412  113618  \n",
       "...      ...     ...     ...     ...  \n",
       "1829    3756    4090    3981    4294  \n",
       "1830    2664    5274    4344    3733  \n",
       "1831     378     795     608     486  \n",
       "1832    1057     891     743     824  \n",
       "1833       0       0       0       0  \n",
       "\n",
       "[1834 rows x 21 columns]"
      ]
     },
     "execution_count": 24,
     "metadata": {},
     "output_type": "execute_result"
    }
   ],
   "source": [
    "cursor.execute(\"select * from crime_time_before\")\n",
    "\n",
    "time = cursor.fetchall()\n",
    "time_df_start = pd.DataFrame(time)\n",
    "time_df_start"
   ]
  },
  {
   "cell_type": "code",
   "execution_count": 25,
   "metadata": {},
   "outputs": [
    {
     "data": {
      "text/html": [
       "<div>\n",
       "<style scoped>\n",
       "    .dataframe tbody tr th:only-of-type {\n",
       "        vertical-align: middle;\n",
       "    }\n",
       "\n",
       "    .dataframe tbody tr th {\n",
       "        vertical-align: top;\n",
       "    }\n",
       "\n",
       "    .dataframe thead th {\n",
       "        text-align: right;\n",
       "    }\n",
       "</style>\n",
       "<table border=\"1\" class=\"dataframe\">\n",
       "  <thead>\n",
       "    <tr style=\"text-align: right;\">\n",
       "      <th></th>\n",
       "      <th>대</th>\n",
       "      <th>중</th>\n",
       "      <th>소</th>\n",
       "      <th>발생시간</th>\n",
       "      <th>1994년</th>\n",
       "      <th>1995년</th>\n",
       "      <th>1996년</th>\n",
       "      <th>1997년</th>\n",
       "      <th>1998년</th>\n",
       "      <th>1999년</th>\n",
       "      <th>...</th>\n",
       "      <th>2001년</th>\n",
       "      <th>2002년</th>\n",
       "      <th>2003년</th>\n",
       "      <th>2004년</th>\n",
       "      <th>2005년</th>\n",
       "      <th>2006년</th>\n",
       "      <th>2007년</th>\n",
       "      <th>2008년</th>\n",
       "      <th>2009년</th>\n",
       "      <th>2010년</th>\n",
       "    </tr>\n",
       "  </thead>\n",
       "  <tbody>\n",
       "    <tr>\n",
       "      <th>0</th>\n",
       "      <td>형법범</td>\n",
       "      <td>절도범</td>\n",
       "      <td>소계</td>\n",
       "      <td>심야(00:00~04:00)</td>\n",
       "      <td>10772</td>\n",
       "      <td>11609</td>\n",
       "      <td>12214</td>\n",
       "      <td>13829</td>\n",
       "      <td>16817</td>\n",
       "      <td>16923</td>\n",
       "      <td>...</td>\n",
       "      <td>26589</td>\n",
       "      <td>26527</td>\n",
       "      <td>27148</td>\n",
       "      <td>38555</td>\n",
       "      <td>43296</td>\n",
       "      <td>43641</td>\n",
       "      <td>49638</td>\n",
       "      <td>58482</td>\n",
       "      <td>76692</td>\n",
       "      <td>71944</td>\n",
       "    </tr>\n",
       "    <tr>\n",
       "      <th>1</th>\n",
       "      <td>형법범</td>\n",
       "      <td>절도범</td>\n",
       "      <td>소계</td>\n",
       "      <td>새벽(04:00~07:00)</td>\n",
       "      <td>2512</td>\n",
       "      <td>2816</td>\n",
       "      <td>3246</td>\n",
       "      <td>3876</td>\n",
       "      <td>3831</td>\n",
       "      <td>3945</td>\n",
       "      <td>...</td>\n",
       "      <td>8208</td>\n",
       "      <td>7039</td>\n",
       "      <td>7754</td>\n",
       "      <td>9830</td>\n",
       "      <td>11979</td>\n",
       "      <td>11936</td>\n",
       "      <td>12778</td>\n",
       "      <td>13249</td>\n",
       "      <td>14641</td>\n",
       "      <td>15402</td>\n",
       "    </tr>\n",
       "    <tr>\n",
       "      <th>2</th>\n",
       "      <td>형법범</td>\n",
       "      <td>절도범</td>\n",
       "      <td>소계</td>\n",
       "      <td>오전(07:00~12:00)</td>\n",
       "      <td>8414</td>\n",
       "      <td>9434</td>\n",
       "      <td>10896</td>\n",
       "      <td>13179</td>\n",
       "      <td>14693</td>\n",
       "      <td>14216</td>\n",
       "      <td>...</td>\n",
       "      <td>32837</td>\n",
       "      <td>30728</td>\n",
       "      <td>32747</td>\n",
       "      <td>24138</td>\n",
       "      <td>32036</td>\n",
       "      <td>32649</td>\n",
       "      <td>36209</td>\n",
       "      <td>36292</td>\n",
       "      <td>39723</td>\n",
       "      <td>43782</td>\n",
       "    </tr>\n",
       "    <tr>\n",
       "      <th>3</th>\n",
       "      <td>형법범</td>\n",
       "      <td>절도범</td>\n",
       "      <td>소계</td>\n",
       "      <td>오후(12:00~18:00)</td>\n",
       "      <td>13292</td>\n",
       "      <td>13968</td>\n",
       "      <td>15350</td>\n",
       "      <td>18006</td>\n",
       "      <td>19543</td>\n",
       "      <td>18746</td>\n",
       "      <td>...</td>\n",
       "      <td>37185</td>\n",
       "      <td>37219</td>\n",
       "      <td>38784</td>\n",
       "      <td>36568</td>\n",
       "      <td>43566</td>\n",
       "      <td>44265</td>\n",
       "      <td>49471</td>\n",
       "      <td>50038</td>\n",
       "      <td>56345</td>\n",
       "      <td>61137</td>\n",
       "    </tr>\n",
       "    <tr>\n",
       "      <th>4</th>\n",
       "      <td>형법범</td>\n",
       "      <td>절도범</td>\n",
       "      <td>소계</td>\n",
       "      <td>초저녁(18:00~20:00)</td>\n",
       "      <td>4581</td>\n",
       "      <td>5689</td>\n",
       "      <td>6043</td>\n",
       "      <td>7099</td>\n",
       "      <td>7370</td>\n",
       "      <td>6751</td>\n",
       "      <td>...</td>\n",
       "      <td>15128</td>\n",
       "      <td>14067</td>\n",
       "      <td>14361</td>\n",
       "      <td>15225</td>\n",
       "      <td>19429</td>\n",
       "      <td>20105</td>\n",
       "      <td>22139</td>\n",
       "      <td>23148</td>\n",
       "      <td>23916</td>\n",
       "      <td>27298</td>\n",
       "    </tr>\n",
       "    <tr>\n",
       "      <th>5</th>\n",
       "      <td>형법범</td>\n",
       "      <td>절도범</td>\n",
       "      <td>소계</td>\n",
       "      <td>밤(20:00~24:00)</td>\n",
       "      <td>9314</td>\n",
       "      <td>10529</td>\n",
       "      <td>11783</td>\n",
       "      <td>13080</td>\n",
       "      <td>13009</td>\n",
       "      <td>12271</td>\n",
       "      <td>...</td>\n",
       "      <td>24052</td>\n",
       "      <td>20796</td>\n",
       "      <td>23065</td>\n",
       "      <td>30995</td>\n",
       "      <td>38474</td>\n",
       "      <td>40074</td>\n",
       "      <td>42223</td>\n",
       "      <td>42007</td>\n",
       "      <td>45106</td>\n",
       "      <td>49847</td>\n",
       "    </tr>\n",
       "    <tr>\n",
       "      <th>6</th>\n",
       "      <td>형법범</td>\n",
       "      <td>절도범</td>\n",
       "      <td>소계</td>\n",
       "      <td>미상</td>\n",
       "      <td>11370</td>\n",
       "      <td>8665</td>\n",
       "      <td>10706</td>\n",
       "      <td>13994</td>\n",
       "      <td>16175</td>\n",
       "      <td>16543</td>\n",
       "      <td>...</td>\n",
       "      <td>36705</td>\n",
       "      <td>42081</td>\n",
       "      <td>43493</td>\n",
       "      <td>0</td>\n",
       "      <td>0</td>\n",
       "      <td>0</td>\n",
       "      <td>0</td>\n",
       "      <td>0</td>\n",
       "      <td>0</td>\n",
       "      <td>0</td>\n",
       "    </tr>\n",
       "    <tr>\n",
       "      <th>7</th>\n",
       "      <td>형법범</td>\n",
       "      <td>절도범</td>\n",
       "      <td>절도</td>\n",
       "      <td>심야(00:00~04:00)</td>\n",
       "      <td>4917</td>\n",
       "      <td>0</td>\n",
       "      <td>0</td>\n",
       "      <td>0</td>\n",
       "      <td>0</td>\n",
       "      <td>0</td>\n",
       "      <td>...</td>\n",
       "      <td>0</td>\n",
       "      <td>0</td>\n",
       "      <td>0</td>\n",
       "      <td>0</td>\n",
       "      <td>0</td>\n",
       "      <td>0</td>\n",
       "      <td>0</td>\n",
       "      <td>0</td>\n",
       "      <td>0</td>\n",
       "      <td>0</td>\n",
       "    </tr>\n",
       "    <tr>\n",
       "      <th>8</th>\n",
       "      <td>형법범</td>\n",
       "      <td>절도범</td>\n",
       "      <td>절도</td>\n",
       "      <td>새벽(04:00~07:00)</td>\n",
       "      <td>1785</td>\n",
       "      <td>0</td>\n",
       "      <td>0</td>\n",
       "      <td>0</td>\n",
       "      <td>0</td>\n",
       "      <td>0</td>\n",
       "      <td>...</td>\n",
       "      <td>0</td>\n",
       "      <td>0</td>\n",
       "      <td>0</td>\n",
       "      <td>0</td>\n",
       "      <td>0</td>\n",
       "      <td>0</td>\n",
       "      <td>0</td>\n",
       "      <td>0</td>\n",
       "      <td>0</td>\n",
       "      <td>0</td>\n",
       "    </tr>\n",
       "    <tr>\n",
       "      <th>9</th>\n",
       "      <td>형법범</td>\n",
       "      <td>절도범</td>\n",
       "      <td>절도</td>\n",
       "      <td>오전(07:00~12:00)</td>\n",
       "      <td>6256</td>\n",
       "      <td>0</td>\n",
       "      <td>0</td>\n",
       "      <td>0</td>\n",
       "      <td>0</td>\n",
       "      <td>0</td>\n",
       "      <td>...</td>\n",
       "      <td>0</td>\n",
       "      <td>0</td>\n",
       "      <td>0</td>\n",
       "      <td>0</td>\n",
       "      <td>0</td>\n",
       "      <td>0</td>\n",
       "      <td>0</td>\n",
       "      <td>0</td>\n",
       "      <td>0</td>\n",
       "      <td>0</td>\n",
       "    </tr>\n",
       "    <tr>\n",
       "      <th>10</th>\n",
       "      <td>형법범</td>\n",
       "      <td>절도범</td>\n",
       "      <td>절도</td>\n",
       "      <td>오후(12:00~18:00)</td>\n",
       "      <td>9142</td>\n",
       "      <td>0</td>\n",
       "      <td>0</td>\n",
       "      <td>0</td>\n",
       "      <td>0</td>\n",
       "      <td>0</td>\n",
       "      <td>...</td>\n",
       "      <td>0</td>\n",
       "      <td>0</td>\n",
       "      <td>0</td>\n",
       "      <td>0</td>\n",
       "      <td>0</td>\n",
       "      <td>0</td>\n",
       "      <td>0</td>\n",
       "      <td>0</td>\n",
       "      <td>0</td>\n",
       "      <td>0</td>\n",
       "    </tr>\n",
       "    <tr>\n",
       "      <th>11</th>\n",
       "      <td>형법범</td>\n",
       "      <td>절도범</td>\n",
       "      <td>절도</td>\n",
       "      <td>초저녁(18:00~20:00)</td>\n",
       "      <td>3110</td>\n",
       "      <td>0</td>\n",
       "      <td>0</td>\n",
       "      <td>0</td>\n",
       "      <td>0</td>\n",
       "      <td>0</td>\n",
       "      <td>...</td>\n",
       "      <td>0</td>\n",
       "      <td>0</td>\n",
       "      <td>0</td>\n",
       "      <td>0</td>\n",
       "      <td>0</td>\n",
       "      <td>0</td>\n",
       "      <td>0</td>\n",
       "      <td>0</td>\n",
       "      <td>0</td>\n",
       "      <td>0</td>\n",
       "    </tr>\n",
       "    <tr>\n",
       "      <th>12</th>\n",
       "      <td>형법범</td>\n",
       "      <td>절도범</td>\n",
       "      <td>절도</td>\n",
       "      <td>밤(20:00~24:00)</td>\n",
       "      <td>5967</td>\n",
       "      <td>0</td>\n",
       "      <td>0</td>\n",
       "      <td>0</td>\n",
       "      <td>0</td>\n",
       "      <td>0</td>\n",
       "      <td>...</td>\n",
       "      <td>0</td>\n",
       "      <td>0</td>\n",
       "      <td>0</td>\n",
       "      <td>0</td>\n",
       "      <td>0</td>\n",
       "      <td>0</td>\n",
       "      <td>0</td>\n",
       "      <td>0</td>\n",
       "      <td>0</td>\n",
       "      <td>0</td>\n",
       "    </tr>\n",
       "    <tr>\n",
       "      <th>13</th>\n",
       "      <td>형법범</td>\n",
       "      <td>절도범</td>\n",
       "      <td>절도</td>\n",
       "      <td>미상</td>\n",
       "      <td>7610</td>\n",
       "      <td>0</td>\n",
       "      <td>0</td>\n",
       "      <td>0</td>\n",
       "      <td>0</td>\n",
       "      <td>0</td>\n",
       "      <td>...</td>\n",
       "      <td>0</td>\n",
       "      <td>0</td>\n",
       "      <td>0</td>\n",
       "      <td>0</td>\n",
       "      <td>0</td>\n",
       "      <td>0</td>\n",
       "      <td>0</td>\n",
       "      <td>0</td>\n",
       "      <td>0</td>\n",
       "      <td>0</td>\n",
       "    </tr>\n",
       "    <tr>\n",
       "      <th>14</th>\n",
       "      <td>형법범</td>\n",
       "      <td>절도범</td>\n",
       "      <td>특가법(절도)</td>\n",
       "      <td>심야(00:00~04:00)</td>\n",
       "      <td>884</td>\n",
       "      <td>0</td>\n",
       "      <td>0</td>\n",
       "      <td>0</td>\n",
       "      <td>0</td>\n",
       "      <td>0</td>\n",
       "      <td>...</td>\n",
       "      <td>0</td>\n",
       "      <td>0</td>\n",
       "      <td>0</td>\n",
       "      <td>0</td>\n",
       "      <td>0</td>\n",
       "      <td>0</td>\n",
       "      <td>0</td>\n",
       "      <td>0</td>\n",
       "      <td>0</td>\n",
       "      <td>0</td>\n",
       "    </tr>\n",
       "    <tr>\n",
       "      <th>15</th>\n",
       "      <td>형법범</td>\n",
       "      <td>절도범</td>\n",
       "      <td>특가법(절도)</td>\n",
       "      <td>새벽(04:00~07:00)</td>\n",
       "      <td>167</td>\n",
       "      <td>0</td>\n",
       "      <td>0</td>\n",
       "      <td>0</td>\n",
       "      <td>0</td>\n",
       "      <td>0</td>\n",
       "      <td>...</td>\n",
       "      <td>0</td>\n",
       "      <td>0</td>\n",
       "      <td>0</td>\n",
       "      <td>0</td>\n",
       "      <td>0</td>\n",
       "      <td>0</td>\n",
       "      <td>0</td>\n",
       "      <td>0</td>\n",
       "      <td>0</td>\n",
       "      <td>0</td>\n",
       "    </tr>\n",
       "    <tr>\n",
       "      <th>16</th>\n",
       "      <td>형법범</td>\n",
       "      <td>절도범</td>\n",
       "      <td>특가법(절도)</td>\n",
       "      <td>오전(07:00~12:00)</td>\n",
       "      <td>602</td>\n",
       "      <td>0</td>\n",
       "      <td>0</td>\n",
       "      <td>0</td>\n",
       "      <td>0</td>\n",
       "      <td>0</td>\n",
       "      <td>...</td>\n",
       "      <td>0</td>\n",
       "      <td>0</td>\n",
       "      <td>0</td>\n",
       "      <td>0</td>\n",
       "      <td>0</td>\n",
       "      <td>0</td>\n",
       "      <td>0</td>\n",
       "      <td>0</td>\n",
       "      <td>0</td>\n",
       "      <td>0</td>\n",
       "    </tr>\n",
       "    <tr>\n",
       "      <th>17</th>\n",
       "      <td>형법범</td>\n",
       "      <td>절도범</td>\n",
       "      <td>특가법(절도)</td>\n",
       "      <td>오후(12:00~18:00)</td>\n",
       "      <td>947</td>\n",
       "      <td>0</td>\n",
       "      <td>0</td>\n",
       "      <td>0</td>\n",
       "      <td>0</td>\n",
       "      <td>0</td>\n",
       "      <td>...</td>\n",
       "      <td>0</td>\n",
       "      <td>0</td>\n",
       "      <td>0</td>\n",
       "      <td>0</td>\n",
       "      <td>0</td>\n",
       "      <td>0</td>\n",
       "      <td>0</td>\n",
       "      <td>0</td>\n",
       "      <td>0</td>\n",
       "      <td>0</td>\n",
       "    </tr>\n",
       "    <tr>\n",
       "      <th>18</th>\n",
       "      <td>형법범</td>\n",
       "      <td>절도범</td>\n",
       "      <td>특가법(절도)</td>\n",
       "      <td>초저녁(18:00~20:00)</td>\n",
       "      <td>222</td>\n",
       "      <td>0</td>\n",
       "      <td>0</td>\n",
       "      <td>0</td>\n",
       "      <td>0</td>\n",
       "      <td>0</td>\n",
       "      <td>...</td>\n",
       "      <td>0</td>\n",
       "      <td>0</td>\n",
       "      <td>0</td>\n",
       "      <td>0</td>\n",
       "      <td>0</td>\n",
       "      <td>0</td>\n",
       "      <td>0</td>\n",
       "      <td>0</td>\n",
       "      <td>0</td>\n",
       "      <td>0</td>\n",
       "    </tr>\n",
       "    <tr>\n",
       "      <th>19</th>\n",
       "      <td>형법범</td>\n",
       "      <td>절도범</td>\n",
       "      <td>특가법(절도)</td>\n",
       "      <td>밤(20:00~24:00)</td>\n",
       "      <td>412</td>\n",
       "      <td>0</td>\n",
       "      <td>0</td>\n",
       "      <td>0</td>\n",
       "      <td>0</td>\n",
       "      <td>0</td>\n",
       "      <td>...</td>\n",
       "      <td>0</td>\n",
       "      <td>0</td>\n",
       "      <td>0</td>\n",
       "      <td>0</td>\n",
       "      <td>0</td>\n",
       "      <td>0</td>\n",
       "      <td>0</td>\n",
       "      <td>0</td>\n",
       "      <td>0</td>\n",
       "      <td>0</td>\n",
       "    </tr>\n",
       "    <tr>\n",
       "      <th>20</th>\n",
       "      <td>형법범</td>\n",
       "      <td>절도범</td>\n",
       "      <td>특가법(절도)</td>\n",
       "      <td>미상</td>\n",
       "      <td>645</td>\n",
       "      <td>0</td>\n",
       "      <td>0</td>\n",
       "      <td>0</td>\n",
       "      <td>0</td>\n",
       "      <td>0</td>\n",
       "      <td>...</td>\n",
       "      <td>0</td>\n",
       "      <td>0</td>\n",
       "      <td>0</td>\n",
       "      <td>0</td>\n",
       "      <td>0</td>\n",
       "      <td>0</td>\n",
       "      <td>0</td>\n",
       "      <td>0</td>\n",
       "      <td>0</td>\n",
       "      <td>0</td>\n",
       "    </tr>\n",
       "    <tr>\n",
       "      <th>21</th>\n",
       "      <td>형법범</td>\n",
       "      <td>절도범</td>\n",
       "      <td>특가법(절도강간)</td>\n",
       "      <td>심야(00:00~04:00)</td>\n",
       "      <td>1</td>\n",
       "      <td>0</td>\n",
       "      <td>0</td>\n",
       "      <td>0</td>\n",
       "      <td>0</td>\n",
       "      <td>0</td>\n",
       "      <td>...</td>\n",
       "      <td>0</td>\n",
       "      <td>0</td>\n",
       "      <td>0</td>\n",
       "      <td>0</td>\n",
       "      <td>0</td>\n",
       "      <td>0</td>\n",
       "      <td>0</td>\n",
       "      <td>0</td>\n",
       "      <td>0</td>\n",
       "      <td>0</td>\n",
       "    </tr>\n",
       "    <tr>\n",
       "      <th>22</th>\n",
       "      <td>형법범</td>\n",
       "      <td>절도범</td>\n",
       "      <td>야간주거침입절도</td>\n",
       "      <td>심야(00:00~04:00)</td>\n",
       "      <td>1299</td>\n",
       "      <td>0</td>\n",
       "      <td>0</td>\n",
       "      <td>0</td>\n",
       "      <td>0</td>\n",
       "      <td>0</td>\n",
       "      <td>...</td>\n",
       "      <td>0</td>\n",
       "      <td>0</td>\n",
       "      <td>0</td>\n",
       "      <td>0</td>\n",
       "      <td>0</td>\n",
       "      <td>0</td>\n",
       "      <td>0</td>\n",
       "      <td>0</td>\n",
       "      <td>0</td>\n",
       "      <td>0</td>\n",
       "    </tr>\n",
       "    <tr>\n",
       "      <th>23</th>\n",
       "      <td>형법범</td>\n",
       "      <td>절도범</td>\n",
       "      <td>야간주거침입절도</td>\n",
       "      <td>새벽(04:00~07:00)</td>\n",
       "      <td>160</td>\n",
       "      <td>0</td>\n",
       "      <td>0</td>\n",
       "      <td>0</td>\n",
       "      <td>0</td>\n",
       "      <td>0</td>\n",
       "      <td>...</td>\n",
       "      <td>0</td>\n",
       "      <td>0</td>\n",
       "      <td>0</td>\n",
       "      <td>0</td>\n",
       "      <td>0</td>\n",
       "      <td>0</td>\n",
       "      <td>0</td>\n",
       "      <td>0</td>\n",
       "      <td>0</td>\n",
       "      <td>0</td>\n",
       "    </tr>\n",
       "    <tr>\n",
       "      <th>24</th>\n",
       "      <td>형법범</td>\n",
       "      <td>절도범</td>\n",
       "      <td>야간주거침입절도</td>\n",
       "      <td>오전(07:00~12:00)</td>\n",
       "      <td>77</td>\n",
       "      <td>0</td>\n",
       "      <td>0</td>\n",
       "      <td>0</td>\n",
       "      <td>0</td>\n",
       "      <td>0</td>\n",
       "      <td>...</td>\n",
       "      <td>0</td>\n",
       "      <td>0</td>\n",
       "      <td>0</td>\n",
       "      <td>0</td>\n",
       "      <td>0</td>\n",
       "      <td>0</td>\n",
       "      <td>0</td>\n",
       "      <td>0</td>\n",
       "      <td>0</td>\n",
       "      <td>0</td>\n",
       "    </tr>\n",
       "    <tr>\n",
       "      <th>25</th>\n",
       "      <td>형법범</td>\n",
       "      <td>절도범</td>\n",
       "      <td>야간주거침입절도</td>\n",
       "      <td>오후(12:00~18:00)</td>\n",
       "      <td>131</td>\n",
       "      <td>0</td>\n",
       "      <td>0</td>\n",
       "      <td>0</td>\n",
       "      <td>0</td>\n",
       "      <td>0</td>\n",
       "      <td>...</td>\n",
       "      <td>0</td>\n",
       "      <td>0</td>\n",
       "      <td>0</td>\n",
       "      <td>0</td>\n",
       "      <td>0</td>\n",
       "      <td>0</td>\n",
       "      <td>0</td>\n",
       "      <td>0</td>\n",
       "      <td>0</td>\n",
       "      <td>0</td>\n",
       "    </tr>\n",
       "    <tr>\n",
       "      <th>26</th>\n",
       "      <td>형법범</td>\n",
       "      <td>절도범</td>\n",
       "      <td>야간주거침입절도</td>\n",
       "      <td>초저녁(18:00~20:00)</td>\n",
       "      <td>242</td>\n",
       "      <td>0</td>\n",
       "      <td>0</td>\n",
       "      <td>0</td>\n",
       "      <td>0</td>\n",
       "      <td>0</td>\n",
       "      <td>...</td>\n",
       "      <td>0</td>\n",
       "      <td>0</td>\n",
       "      <td>0</td>\n",
       "      <td>0</td>\n",
       "      <td>0</td>\n",
       "      <td>0</td>\n",
       "      <td>0</td>\n",
       "      <td>0</td>\n",
       "      <td>0</td>\n",
       "      <td>0</td>\n",
       "    </tr>\n",
       "    <tr>\n",
       "      <th>27</th>\n",
       "      <td>형법범</td>\n",
       "      <td>절도범</td>\n",
       "      <td>야간주거침입절도</td>\n",
       "      <td>밤(20:00~24:00)</td>\n",
       "      <td>605</td>\n",
       "      <td>0</td>\n",
       "      <td>0</td>\n",
       "      <td>0</td>\n",
       "      <td>0</td>\n",
       "      <td>0</td>\n",
       "      <td>...</td>\n",
       "      <td>0</td>\n",
       "      <td>0</td>\n",
       "      <td>0</td>\n",
       "      <td>0</td>\n",
       "      <td>0</td>\n",
       "      <td>0</td>\n",
       "      <td>0</td>\n",
       "      <td>0</td>\n",
       "      <td>0</td>\n",
       "      <td>0</td>\n",
       "    </tr>\n",
       "    <tr>\n",
       "      <th>28</th>\n",
       "      <td>형법범</td>\n",
       "      <td>절도범</td>\n",
       "      <td>야간주거침입절도</td>\n",
       "      <td>미상</td>\n",
       "      <td>523</td>\n",
       "      <td>0</td>\n",
       "      <td>0</td>\n",
       "      <td>0</td>\n",
       "      <td>0</td>\n",
       "      <td>0</td>\n",
       "      <td>...</td>\n",
       "      <td>0</td>\n",
       "      <td>0</td>\n",
       "      <td>0</td>\n",
       "      <td>0</td>\n",
       "      <td>0</td>\n",
       "      <td>0</td>\n",
       "      <td>0</td>\n",
       "      <td>0</td>\n",
       "      <td>0</td>\n",
       "      <td>0</td>\n",
       "    </tr>\n",
       "    <tr>\n",
       "      <th>29</th>\n",
       "      <td>형법범</td>\n",
       "      <td>절도범</td>\n",
       "      <td>야간주거침입절도(상습)</td>\n",
       "      <td>심야(00:00~04:00)</td>\n",
       "      <td>2</td>\n",
       "      <td>0</td>\n",
       "      <td>0</td>\n",
       "      <td>0</td>\n",
       "      <td>0</td>\n",
       "      <td>0</td>\n",
       "      <td>...</td>\n",
       "      <td>0</td>\n",
       "      <td>0</td>\n",
       "      <td>0</td>\n",
       "      <td>0</td>\n",
       "      <td>0</td>\n",
       "      <td>0</td>\n",
       "      <td>0</td>\n",
       "      <td>0</td>\n",
       "      <td>0</td>\n",
       "      <td>0</td>\n",
       "    </tr>\n",
       "    <tr>\n",
       "      <th>30</th>\n",
       "      <td>형법범</td>\n",
       "      <td>절도범</td>\n",
       "      <td>특수절도</td>\n",
       "      <td>심야(00:00~04:00)</td>\n",
       "      <td>3552</td>\n",
       "      <td>0</td>\n",
       "      <td>0</td>\n",
       "      <td>0</td>\n",
       "      <td>0</td>\n",
       "      <td>0</td>\n",
       "      <td>...</td>\n",
       "      <td>0</td>\n",
       "      <td>0</td>\n",
       "      <td>0</td>\n",
       "      <td>0</td>\n",
       "      <td>0</td>\n",
       "      <td>0</td>\n",
       "      <td>0</td>\n",
       "      <td>0</td>\n",
       "      <td>0</td>\n",
       "      <td>0</td>\n",
       "    </tr>\n",
       "    <tr>\n",
       "      <th>31</th>\n",
       "      <td>형법범</td>\n",
       "      <td>절도범</td>\n",
       "      <td>특수절도</td>\n",
       "      <td>새벽(04:00~07:00)</td>\n",
       "      <td>382</td>\n",
       "      <td>0</td>\n",
       "      <td>0</td>\n",
       "      <td>0</td>\n",
       "      <td>0</td>\n",
       "      <td>0</td>\n",
       "      <td>...</td>\n",
       "      <td>0</td>\n",
       "      <td>0</td>\n",
       "      <td>0</td>\n",
       "      <td>0</td>\n",
       "      <td>0</td>\n",
       "      <td>0</td>\n",
       "      <td>0</td>\n",
       "      <td>0</td>\n",
       "      <td>0</td>\n",
       "      <td>0</td>\n",
       "    </tr>\n",
       "    <tr>\n",
       "      <th>32</th>\n",
       "      <td>형법범</td>\n",
       "      <td>절도범</td>\n",
       "      <td>특수절도</td>\n",
       "      <td>오전(07:00~12:00)</td>\n",
       "      <td>1367</td>\n",
       "      <td>0</td>\n",
       "      <td>0</td>\n",
       "      <td>0</td>\n",
       "      <td>0</td>\n",
       "      <td>0</td>\n",
       "      <td>...</td>\n",
       "      <td>0</td>\n",
       "      <td>0</td>\n",
       "      <td>0</td>\n",
       "      <td>0</td>\n",
       "      <td>0</td>\n",
       "      <td>0</td>\n",
       "      <td>0</td>\n",
       "      <td>0</td>\n",
       "      <td>0</td>\n",
       "      <td>0</td>\n",
       "    </tr>\n",
       "    <tr>\n",
       "      <th>33</th>\n",
       "      <td>형법범</td>\n",
       "      <td>절도범</td>\n",
       "      <td>특수절도</td>\n",
       "      <td>오후(12:00~18:00)</td>\n",
       "      <td>2910</td>\n",
       "      <td>0</td>\n",
       "      <td>0</td>\n",
       "      <td>0</td>\n",
       "      <td>0</td>\n",
       "      <td>0</td>\n",
       "      <td>...</td>\n",
       "      <td>0</td>\n",
       "      <td>0</td>\n",
       "      <td>0</td>\n",
       "      <td>0</td>\n",
       "      <td>0</td>\n",
       "      <td>0</td>\n",
       "      <td>0</td>\n",
       "      <td>0</td>\n",
       "      <td>0</td>\n",
       "      <td>0</td>\n",
       "    </tr>\n",
       "    <tr>\n",
       "      <th>34</th>\n",
       "      <td>형법범</td>\n",
       "      <td>절도범</td>\n",
       "      <td>특수절도</td>\n",
       "      <td>초저녁(18:00~20:00)</td>\n",
       "      <td>974</td>\n",
       "      <td>0</td>\n",
       "      <td>0</td>\n",
       "      <td>0</td>\n",
       "      <td>0</td>\n",
       "      <td>0</td>\n",
       "      <td>...</td>\n",
       "      <td>0</td>\n",
       "      <td>0</td>\n",
       "      <td>0</td>\n",
       "      <td>0</td>\n",
       "      <td>0</td>\n",
       "      <td>0</td>\n",
       "      <td>0</td>\n",
       "      <td>0</td>\n",
       "      <td>0</td>\n",
       "      <td>0</td>\n",
       "    </tr>\n",
       "    <tr>\n",
       "      <th>35</th>\n",
       "      <td>형법범</td>\n",
       "      <td>절도범</td>\n",
       "      <td>특수절도</td>\n",
       "      <td>밤(20:00~24:00)</td>\n",
       "      <td>2256</td>\n",
       "      <td>0</td>\n",
       "      <td>0</td>\n",
       "      <td>0</td>\n",
       "      <td>0</td>\n",
       "      <td>0</td>\n",
       "      <td>...</td>\n",
       "      <td>0</td>\n",
       "      <td>0</td>\n",
       "      <td>0</td>\n",
       "      <td>0</td>\n",
       "      <td>0</td>\n",
       "      <td>0</td>\n",
       "      <td>0</td>\n",
       "      <td>0</td>\n",
       "      <td>0</td>\n",
       "      <td>0</td>\n",
       "    </tr>\n",
       "    <tr>\n",
       "      <th>36</th>\n",
       "      <td>형법범</td>\n",
       "      <td>절도범</td>\n",
       "      <td>특수절도</td>\n",
       "      <td>미상</td>\n",
       "      <td>2450</td>\n",
       "      <td>0</td>\n",
       "      <td>0</td>\n",
       "      <td>0</td>\n",
       "      <td>0</td>\n",
       "      <td>0</td>\n",
       "      <td>...</td>\n",
       "      <td>0</td>\n",
       "      <td>0</td>\n",
       "      <td>0</td>\n",
       "      <td>0</td>\n",
       "      <td>0</td>\n",
       "      <td>0</td>\n",
       "      <td>0</td>\n",
       "      <td>0</td>\n",
       "      <td>0</td>\n",
       "      <td>0</td>\n",
       "    </tr>\n",
       "    <tr>\n",
       "      <th>37</th>\n",
       "      <td>형법범</td>\n",
       "      <td>절도범</td>\n",
       "      <td>특수절도(상습)</td>\n",
       "      <td>심야(00:00~04:00)</td>\n",
       "      <td>1</td>\n",
       "      <td>0</td>\n",
       "      <td>0</td>\n",
       "      <td>0</td>\n",
       "      <td>0</td>\n",
       "      <td>0</td>\n",
       "      <td>...</td>\n",
       "      <td>0</td>\n",
       "      <td>0</td>\n",
       "      <td>0</td>\n",
       "      <td>0</td>\n",
       "      <td>0</td>\n",
       "      <td>0</td>\n",
       "      <td>0</td>\n",
       "      <td>0</td>\n",
       "      <td>0</td>\n",
       "      <td>0</td>\n",
       "    </tr>\n",
       "    <tr>\n",
       "      <th>38</th>\n",
       "      <td>형법범</td>\n",
       "      <td>절도범</td>\n",
       "      <td>특수절도(상습)</td>\n",
       "      <td>오전(07:00~12:00)</td>\n",
       "      <td>3</td>\n",
       "      <td>0</td>\n",
       "      <td>0</td>\n",
       "      <td>0</td>\n",
       "      <td>0</td>\n",
       "      <td>0</td>\n",
       "      <td>...</td>\n",
       "      <td>0</td>\n",
       "      <td>0</td>\n",
       "      <td>0</td>\n",
       "      <td>0</td>\n",
       "      <td>0</td>\n",
       "      <td>0</td>\n",
       "      <td>0</td>\n",
       "      <td>0</td>\n",
       "      <td>0</td>\n",
       "      <td>0</td>\n",
       "    </tr>\n",
       "    <tr>\n",
       "      <th>39</th>\n",
       "      <td>형법범</td>\n",
       "      <td>절도범</td>\n",
       "      <td>특수절도(상습)</td>\n",
       "      <td>오후(12:00~18:00)</td>\n",
       "      <td>9</td>\n",
       "      <td>0</td>\n",
       "      <td>0</td>\n",
       "      <td>0</td>\n",
       "      <td>0</td>\n",
       "      <td>0</td>\n",
       "      <td>...</td>\n",
       "      <td>0</td>\n",
       "      <td>0</td>\n",
       "      <td>0</td>\n",
       "      <td>0</td>\n",
       "      <td>0</td>\n",
       "      <td>0</td>\n",
       "      <td>0</td>\n",
       "      <td>0</td>\n",
       "      <td>0</td>\n",
       "      <td>0</td>\n",
       "    </tr>\n",
       "    <tr>\n",
       "      <th>40</th>\n",
       "      <td>형법범</td>\n",
       "      <td>절도범</td>\n",
       "      <td>특수절도(상습)</td>\n",
       "      <td>밤(20:00~24:00)</td>\n",
       "      <td>2</td>\n",
       "      <td>0</td>\n",
       "      <td>0</td>\n",
       "      <td>0</td>\n",
       "      <td>0</td>\n",
       "      <td>0</td>\n",
       "      <td>...</td>\n",
       "      <td>0</td>\n",
       "      <td>0</td>\n",
       "      <td>0</td>\n",
       "      <td>0</td>\n",
       "      <td>0</td>\n",
       "      <td>0</td>\n",
       "      <td>0</td>\n",
       "      <td>0</td>\n",
       "      <td>0</td>\n",
       "      <td>0</td>\n",
       "    </tr>\n",
       "    <tr>\n",
       "      <th>41</th>\n",
       "      <td>형법범</td>\n",
       "      <td>절도범</td>\n",
       "      <td>특수절도(상습)</td>\n",
       "      <td>미상</td>\n",
       "      <td>2</td>\n",
       "      <td>0</td>\n",
       "      <td>0</td>\n",
       "      <td>0</td>\n",
       "      <td>0</td>\n",
       "      <td>0</td>\n",
       "      <td>...</td>\n",
       "      <td>0</td>\n",
       "      <td>0</td>\n",
       "      <td>0</td>\n",
       "      <td>0</td>\n",
       "      <td>0</td>\n",
       "      <td>0</td>\n",
       "      <td>0</td>\n",
       "      <td>0</td>\n",
       "      <td>0</td>\n",
       "      <td>0</td>\n",
       "    </tr>\n",
       "    <tr>\n",
       "      <th>42</th>\n",
       "      <td>형법범</td>\n",
       "      <td>절도범</td>\n",
       "      <td>상습절도</td>\n",
       "      <td>심야(00:00~04:00)</td>\n",
       "      <td>116</td>\n",
       "      <td>0</td>\n",
       "      <td>0</td>\n",
       "      <td>0</td>\n",
       "      <td>0</td>\n",
       "      <td>0</td>\n",
       "      <td>...</td>\n",
       "      <td>0</td>\n",
       "      <td>0</td>\n",
       "      <td>0</td>\n",
       "      <td>0</td>\n",
       "      <td>0</td>\n",
       "      <td>0</td>\n",
       "      <td>0</td>\n",
       "      <td>0</td>\n",
       "      <td>0</td>\n",
       "      <td>0</td>\n",
       "    </tr>\n",
       "    <tr>\n",
       "      <th>43</th>\n",
       "      <td>형법범</td>\n",
       "      <td>절도범</td>\n",
       "      <td>상습절도</td>\n",
       "      <td>새벽(04:00~07:00)</td>\n",
       "      <td>18</td>\n",
       "      <td>0</td>\n",
       "      <td>0</td>\n",
       "      <td>0</td>\n",
       "      <td>0</td>\n",
       "      <td>0</td>\n",
       "      <td>...</td>\n",
       "      <td>0</td>\n",
       "      <td>0</td>\n",
       "      <td>0</td>\n",
       "      <td>0</td>\n",
       "      <td>0</td>\n",
       "      <td>0</td>\n",
       "      <td>0</td>\n",
       "      <td>0</td>\n",
       "      <td>0</td>\n",
       "      <td>0</td>\n",
       "    </tr>\n",
       "    <tr>\n",
       "      <th>44</th>\n",
       "      <td>형법범</td>\n",
       "      <td>절도범</td>\n",
       "      <td>상습절도</td>\n",
       "      <td>오전(07:00~12:00)</td>\n",
       "      <td>109</td>\n",
       "      <td>0</td>\n",
       "      <td>0</td>\n",
       "      <td>0</td>\n",
       "      <td>0</td>\n",
       "      <td>0</td>\n",
       "      <td>...</td>\n",
       "      <td>0</td>\n",
       "      <td>0</td>\n",
       "      <td>0</td>\n",
       "      <td>0</td>\n",
       "      <td>0</td>\n",
       "      <td>0</td>\n",
       "      <td>0</td>\n",
       "      <td>0</td>\n",
       "      <td>0</td>\n",
       "      <td>0</td>\n",
       "    </tr>\n",
       "    <tr>\n",
       "      <th>45</th>\n",
       "      <td>형법범</td>\n",
       "      <td>절도범</td>\n",
       "      <td>상습절도</td>\n",
       "      <td>오후(12:00~18:00)</td>\n",
       "      <td>153</td>\n",
       "      <td>0</td>\n",
       "      <td>0</td>\n",
       "      <td>0</td>\n",
       "      <td>0</td>\n",
       "      <td>0</td>\n",
       "      <td>...</td>\n",
       "      <td>0</td>\n",
       "      <td>0</td>\n",
       "      <td>0</td>\n",
       "      <td>0</td>\n",
       "      <td>0</td>\n",
       "      <td>0</td>\n",
       "      <td>0</td>\n",
       "      <td>0</td>\n",
       "      <td>0</td>\n",
       "      <td>0</td>\n",
       "    </tr>\n",
       "    <tr>\n",
       "      <th>46</th>\n",
       "      <td>형법범</td>\n",
       "      <td>절도범</td>\n",
       "      <td>상습절도</td>\n",
       "      <td>초저녁(18:00~20:00)</td>\n",
       "      <td>33</td>\n",
       "      <td>0</td>\n",
       "      <td>0</td>\n",
       "      <td>0</td>\n",
       "      <td>0</td>\n",
       "      <td>0</td>\n",
       "      <td>...</td>\n",
       "      <td>0</td>\n",
       "      <td>0</td>\n",
       "      <td>0</td>\n",
       "      <td>0</td>\n",
       "      <td>0</td>\n",
       "      <td>0</td>\n",
       "      <td>0</td>\n",
       "      <td>0</td>\n",
       "      <td>0</td>\n",
       "      <td>0</td>\n",
       "    </tr>\n",
       "    <tr>\n",
       "      <th>47</th>\n",
       "      <td>형법범</td>\n",
       "      <td>절도범</td>\n",
       "      <td>상습절도</td>\n",
       "      <td>밤(20:00~24:00)</td>\n",
       "      <td>72</td>\n",
       "      <td>0</td>\n",
       "      <td>0</td>\n",
       "      <td>0</td>\n",
       "      <td>0</td>\n",
       "      <td>0</td>\n",
       "      <td>...</td>\n",
       "      <td>0</td>\n",
       "      <td>0</td>\n",
       "      <td>0</td>\n",
       "      <td>0</td>\n",
       "      <td>0</td>\n",
       "      <td>0</td>\n",
       "      <td>0</td>\n",
       "      <td>0</td>\n",
       "      <td>0</td>\n",
       "      <td>0</td>\n",
       "    </tr>\n",
       "    <tr>\n",
       "      <th>48</th>\n",
       "      <td>형법범</td>\n",
       "      <td>절도범</td>\n",
       "      <td>상습절도</td>\n",
       "      <td>미상</td>\n",
       "      <td>140</td>\n",
       "      <td>0</td>\n",
       "      <td>0</td>\n",
       "      <td>0</td>\n",
       "      <td>0</td>\n",
       "      <td>0</td>\n",
       "      <td>...</td>\n",
       "      <td>0</td>\n",
       "      <td>0</td>\n",
       "      <td>0</td>\n",
       "      <td>0</td>\n",
       "      <td>0</td>\n",
       "      <td>0</td>\n",
       "      <td>0</td>\n",
       "      <td>0</td>\n",
       "      <td>0</td>\n",
       "      <td>0</td>\n",
       "    </tr>\n",
       "  </tbody>\n",
       "</table>\n",
       "<p>49 rows × 21 columns</p>\n",
       "</div>"
      ],
      "text/plain": [
       "      대    중             소              발생시간  1994년  1995년  1996년  1997년  \\\n",
       "0   형법범  절도범            소계   심야(00:00~04:00)  10772  11609  12214  13829   \n",
       "1   형법범  절도범            소계   새벽(04:00~07:00)   2512   2816   3246   3876   \n",
       "2   형법범  절도범            소계   오전(07:00~12:00)   8414   9434  10896  13179   \n",
       "3   형법범  절도범            소계   오후(12:00~18:00)  13292  13968  15350  18006   \n",
       "4   형법범  절도범            소계  초저녁(18:00~20:00)   4581   5689   6043   7099   \n",
       "5   형법범  절도범            소계    밤(20:00~24:00)   9314  10529  11783  13080   \n",
       "6   형법범  절도범            소계                미상  11370   8665  10706  13994   \n",
       "7   형법범  절도범            절도   심야(00:00~04:00)   4917      0      0      0   \n",
       "8   형법범  절도범            절도   새벽(04:00~07:00)   1785      0      0      0   \n",
       "9   형법범  절도범            절도   오전(07:00~12:00)   6256      0      0      0   \n",
       "10  형법범  절도범            절도   오후(12:00~18:00)   9142      0      0      0   \n",
       "11  형법범  절도범            절도  초저녁(18:00~20:00)   3110      0      0      0   \n",
       "12  형법범  절도범            절도    밤(20:00~24:00)   5967      0      0      0   \n",
       "13  형법범  절도범            절도                미상   7610      0      0      0   \n",
       "14  형법범  절도범       특가법(절도)   심야(00:00~04:00)    884      0      0      0   \n",
       "15  형법범  절도범       특가법(절도)   새벽(04:00~07:00)    167      0      0      0   \n",
       "16  형법범  절도범       특가법(절도)   오전(07:00~12:00)    602      0      0      0   \n",
       "17  형법범  절도범       특가법(절도)   오후(12:00~18:00)    947      0      0      0   \n",
       "18  형법범  절도범       특가법(절도)  초저녁(18:00~20:00)    222      0      0      0   \n",
       "19  형법범  절도범       특가법(절도)    밤(20:00~24:00)    412      0      0      0   \n",
       "20  형법범  절도범       특가법(절도)                미상    645      0      0      0   \n",
       "21  형법범  절도범     특가법(절도강간)   심야(00:00~04:00)      1      0      0      0   \n",
       "22  형법범  절도범      야간주거침입절도   심야(00:00~04:00)   1299      0      0      0   \n",
       "23  형법범  절도범      야간주거침입절도   새벽(04:00~07:00)    160      0      0      0   \n",
       "24  형법범  절도범      야간주거침입절도   오전(07:00~12:00)     77      0      0      0   \n",
       "25  형법범  절도범      야간주거침입절도   오후(12:00~18:00)    131      0      0      0   \n",
       "26  형법범  절도범      야간주거침입절도  초저녁(18:00~20:00)    242      0      0      0   \n",
       "27  형법범  절도범      야간주거침입절도    밤(20:00~24:00)    605      0      0      0   \n",
       "28  형법범  절도범      야간주거침입절도                미상    523      0      0      0   \n",
       "29  형법범  절도범  야간주거침입절도(상습)   심야(00:00~04:00)      2      0      0      0   \n",
       "30  형법범  절도범          특수절도   심야(00:00~04:00)   3552      0      0      0   \n",
       "31  형법범  절도범          특수절도   새벽(04:00~07:00)    382      0      0      0   \n",
       "32  형법범  절도범          특수절도   오전(07:00~12:00)   1367      0      0      0   \n",
       "33  형법범  절도범          특수절도   오후(12:00~18:00)   2910      0      0      0   \n",
       "34  형법범  절도범          특수절도  초저녁(18:00~20:00)    974      0      0      0   \n",
       "35  형법범  절도범          특수절도    밤(20:00~24:00)   2256      0      0      0   \n",
       "36  형법범  절도범          특수절도                미상   2450      0      0      0   \n",
       "37  형법범  절도범      특수절도(상습)   심야(00:00~04:00)      1      0      0      0   \n",
       "38  형법범  절도범      특수절도(상습)   오전(07:00~12:00)      3      0      0      0   \n",
       "39  형법범  절도범      특수절도(상습)   오후(12:00~18:00)      9      0      0      0   \n",
       "40  형법범  절도범      특수절도(상습)    밤(20:00~24:00)      2      0      0      0   \n",
       "41  형법범  절도범      특수절도(상습)                미상      2      0      0      0   \n",
       "42  형법범  절도범          상습절도   심야(00:00~04:00)    116      0      0      0   \n",
       "43  형법범  절도범          상습절도   새벽(04:00~07:00)     18      0      0      0   \n",
       "44  형법범  절도범          상습절도   오전(07:00~12:00)    109      0      0      0   \n",
       "45  형법범  절도범          상습절도   오후(12:00~18:00)    153      0      0      0   \n",
       "46  형법범  절도범          상습절도  초저녁(18:00~20:00)     33      0      0      0   \n",
       "47  형법범  절도범          상습절도    밤(20:00~24:00)     72      0      0      0   \n",
       "48  형법범  절도범          상습절도                미상    140      0      0      0   \n",
       "\n",
       "    1998년  1999년  ...  2001년  2002년  2003년  2004년  2005년  2006년  2007년  2008년  \\\n",
       "0   16817  16923  ...  26589  26527  27148  38555  43296  43641  49638  58482   \n",
       "1    3831   3945  ...   8208   7039   7754   9830  11979  11936  12778  13249   \n",
       "2   14693  14216  ...  32837  30728  32747  24138  32036  32649  36209  36292   \n",
       "3   19543  18746  ...  37185  37219  38784  36568  43566  44265  49471  50038   \n",
       "4    7370   6751  ...  15128  14067  14361  15225  19429  20105  22139  23148   \n",
       "5   13009  12271  ...  24052  20796  23065  30995  38474  40074  42223  42007   \n",
       "6   16175  16543  ...  36705  42081  43493      0      0      0      0      0   \n",
       "7       0      0  ...      0      0      0      0      0      0      0      0   \n",
       "8       0      0  ...      0      0      0      0      0      0      0      0   \n",
       "9       0      0  ...      0      0      0      0      0      0      0      0   \n",
       "10      0      0  ...      0      0      0      0      0      0      0      0   \n",
       "11      0      0  ...      0      0      0      0      0      0      0      0   \n",
       "12      0      0  ...      0      0      0      0      0      0      0      0   \n",
       "13      0      0  ...      0      0      0      0      0      0      0      0   \n",
       "14      0      0  ...      0      0      0      0      0      0      0      0   \n",
       "15      0      0  ...      0      0      0      0      0      0      0      0   \n",
       "16      0      0  ...      0      0      0      0      0      0      0      0   \n",
       "17      0      0  ...      0      0      0      0      0      0      0      0   \n",
       "18      0      0  ...      0      0      0      0      0      0      0      0   \n",
       "19      0      0  ...      0      0      0      0      0      0      0      0   \n",
       "20      0      0  ...      0      0      0      0      0      0      0      0   \n",
       "21      0      0  ...      0      0      0      0      0      0      0      0   \n",
       "22      0      0  ...      0      0      0      0      0      0      0      0   \n",
       "23      0      0  ...      0      0      0      0      0      0      0      0   \n",
       "24      0      0  ...      0      0      0      0      0      0      0      0   \n",
       "25      0      0  ...      0      0      0      0      0      0      0      0   \n",
       "26      0      0  ...      0      0      0      0      0      0      0      0   \n",
       "27      0      0  ...      0      0      0      0      0      0      0      0   \n",
       "28      0      0  ...      0      0      0      0      0      0      0      0   \n",
       "29      0      0  ...      0      0      0      0      0      0      0      0   \n",
       "30      0      0  ...      0      0      0      0      0      0      0      0   \n",
       "31      0      0  ...      0      0      0      0      0      0      0      0   \n",
       "32      0      0  ...      0      0      0      0      0      0      0      0   \n",
       "33      0      0  ...      0      0      0      0      0      0      0      0   \n",
       "34      0      0  ...      0      0      0      0      0      0      0      0   \n",
       "35      0      0  ...      0      0      0      0      0      0      0      0   \n",
       "36      0      0  ...      0      0      0      0      0      0      0      0   \n",
       "37      0      0  ...      0      0      0      0      0      0      0      0   \n",
       "38      0      0  ...      0      0      0      0      0      0      0      0   \n",
       "39      0      0  ...      0      0      0      0      0      0      0      0   \n",
       "40      0      0  ...      0      0      0      0      0      0      0      0   \n",
       "41      0      0  ...      0      0      0      0      0      0      0      0   \n",
       "42      0      0  ...      0      0      0      0      0      0      0      0   \n",
       "43      0      0  ...      0      0      0      0      0      0      0      0   \n",
       "44      0      0  ...      0      0      0      0      0      0      0      0   \n",
       "45      0      0  ...      0      0      0      0      0      0      0      0   \n",
       "46      0      0  ...      0      0      0      0      0      0      0      0   \n",
       "47      0      0  ...      0      0      0      0      0      0      0      0   \n",
       "48      0      0  ...      0      0      0      0      0      0      0      0   \n",
       "\n",
       "    2009년  2010년  \n",
       "0   76692  71944  \n",
       "1   14641  15402  \n",
       "2   39723  43782  \n",
       "3   56345  61137  \n",
       "4   23916  27298  \n",
       "5   45106  49847  \n",
       "6       0      0  \n",
       "7       0      0  \n",
       "8       0      0  \n",
       "9       0      0  \n",
       "10      0      0  \n",
       "11      0      0  \n",
       "12      0      0  \n",
       "13      0      0  \n",
       "14      0      0  \n",
       "15      0      0  \n",
       "16      0      0  \n",
       "17      0      0  \n",
       "18      0      0  \n",
       "19      0      0  \n",
       "20      0      0  \n",
       "21      0      0  \n",
       "22      0      0  \n",
       "23      0      0  \n",
       "24      0      0  \n",
       "25      0      0  \n",
       "26      0      0  \n",
       "27      0      0  \n",
       "28      0      0  \n",
       "29      0      0  \n",
       "30      0      0  \n",
       "31      0      0  \n",
       "32      0      0  \n",
       "33      0      0  \n",
       "34      0      0  \n",
       "35      0      0  \n",
       "36      0      0  \n",
       "37      0      0  \n",
       "38      0      0  \n",
       "39      0      0  \n",
       "40      0      0  \n",
       "41      0      0  \n",
       "42      0      0  \n",
       "43      0      0  \n",
       "44      0      0  \n",
       "45      0      0  \n",
       "46      0      0  \n",
       "47      0      0  \n",
       "48      0      0  \n",
       "\n",
       "[49 rows x 21 columns]"
      ]
     },
     "execution_count": 25,
     "metadata": {},
     "output_type": "execute_result"
    }
   ],
   "source": [
    "time_df = time_df_start[time_df_start[\"중\"] == \"절도범\"]\n",
    "time_df.reset_index(inplace=True, drop=True)\n",
    "time_df"
   ]
  },
  {
   "cell_type": "code",
   "execution_count": 26,
   "metadata": {},
   "outputs": [
    {
     "name": "stderr",
     "output_type": "stream",
     "text": [
      "/tmp/ipykernel_37862/2570507428.py:2: SettingWithCopyWarning:\n",
      "\n",
      "\n",
      "A value is trying to be set on a copy of a slice from a DataFrame\n",
      "\n",
      "See the caveats in the documentation: https://pandas.pydata.org/pandas-docs/stable/user_guide/indexing.html#returning-a-view-versus-a-copy\n",
      "\n"
     ]
    },
    {
     "data": {
      "text/html": [
       "<div>\n",
       "<style scoped>\n",
       "    .dataframe tbody tr th:only-of-type {\n",
       "        vertical-align: middle;\n",
       "    }\n",
       "\n",
       "    .dataframe tbody tr th {\n",
       "        vertical-align: top;\n",
       "    }\n",
       "\n",
       "    .dataframe thead th {\n",
       "        text-align: right;\n",
       "    }\n",
       "</style>\n",
       "<table border=\"1\" class=\"dataframe\">\n",
       "  <thead>\n",
       "    <tr style=\"text-align: right;\">\n",
       "      <th></th>\n",
       "      <th>중</th>\n",
       "      <th>소</th>\n",
       "      <th>발생시간</th>\n",
       "      <th>1994년</th>\n",
       "      <th>1995년</th>\n",
       "      <th>1996년</th>\n",
       "      <th>1997년</th>\n",
       "      <th>1998년</th>\n",
       "      <th>1999년</th>\n",
       "      <th>2000년</th>\n",
       "      <th>2001년</th>\n",
       "      <th>2002년</th>\n",
       "      <th>2003년</th>\n",
       "      <th>2004년</th>\n",
       "      <th>2005년</th>\n",
       "      <th>2006년</th>\n",
       "      <th>2007년</th>\n",
       "      <th>2008년</th>\n",
       "      <th>2009년</th>\n",
       "      <th>2010년</th>\n",
       "    </tr>\n",
       "  </thead>\n",
       "  <tbody>\n",
       "    <tr>\n",
       "      <th>0</th>\n",
       "      <td>절도범</td>\n",
       "      <td>소계</td>\n",
       "      <td>심야(00:00~04:00)</td>\n",
       "      <td>10772</td>\n",
       "      <td>11609</td>\n",
       "      <td>12214</td>\n",
       "      <td>13829</td>\n",
       "      <td>16817</td>\n",
       "      <td>16923</td>\n",
       "      <td>27183</td>\n",
       "      <td>26589</td>\n",
       "      <td>26527</td>\n",
       "      <td>27148</td>\n",
       "      <td>38555</td>\n",
       "      <td>43296</td>\n",
       "      <td>43641</td>\n",
       "      <td>49638</td>\n",
       "      <td>58482</td>\n",
       "      <td>76692</td>\n",
       "      <td>71944</td>\n",
       "    </tr>\n",
       "    <tr>\n",
       "      <th>1</th>\n",
       "      <td>절도범</td>\n",
       "      <td>소계</td>\n",
       "      <td>새벽(04:00~07:00)</td>\n",
       "      <td>2512</td>\n",
       "      <td>2816</td>\n",
       "      <td>3246</td>\n",
       "      <td>3876</td>\n",
       "      <td>3831</td>\n",
       "      <td>3945</td>\n",
       "      <td>8230</td>\n",
       "      <td>8208</td>\n",
       "      <td>7039</td>\n",
       "      <td>7754</td>\n",
       "      <td>9830</td>\n",
       "      <td>11979</td>\n",
       "      <td>11936</td>\n",
       "      <td>12778</td>\n",
       "      <td>13249</td>\n",
       "      <td>14641</td>\n",
       "      <td>15402</td>\n",
       "    </tr>\n",
       "    <tr>\n",
       "      <th>2</th>\n",
       "      <td>절도범</td>\n",
       "      <td>소계</td>\n",
       "      <td>오전(07:00~12:00)</td>\n",
       "      <td>8414</td>\n",
       "      <td>9434</td>\n",
       "      <td>10896</td>\n",
       "      <td>13179</td>\n",
       "      <td>14693</td>\n",
       "      <td>14216</td>\n",
       "      <td>30704</td>\n",
       "      <td>32837</td>\n",
       "      <td>30728</td>\n",
       "      <td>32747</td>\n",
       "      <td>24138</td>\n",
       "      <td>32036</td>\n",
       "      <td>32649</td>\n",
       "      <td>36209</td>\n",
       "      <td>36292</td>\n",
       "      <td>39723</td>\n",
       "      <td>43782</td>\n",
       "    </tr>\n",
       "    <tr>\n",
       "      <th>3</th>\n",
       "      <td>절도범</td>\n",
       "      <td>소계</td>\n",
       "      <td>오후(12:00~18:00)</td>\n",
       "      <td>13292</td>\n",
       "      <td>13968</td>\n",
       "      <td>15350</td>\n",
       "      <td>18006</td>\n",
       "      <td>19543</td>\n",
       "      <td>18746</td>\n",
       "      <td>36958</td>\n",
       "      <td>37185</td>\n",
       "      <td>37219</td>\n",
       "      <td>38784</td>\n",
       "      <td>36568</td>\n",
       "      <td>43566</td>\n",
       "      <td>44265</td>\n",
       "      <td>49471</td>\n",
       "      <td>50038</td>\n",
       "      <td>56345</td>\n",
       "      <td>61137</td>\n",
       "    </tr>\n",
       "    <tr>\n",
       "      <th>4</th>\n",
       "      <td>절도범</td>\n",
       "      <td>소계</td>\n",
       "      <td>초저녁(18:00~20:00)</td>\n",
       "      <td>4581</td>\n",
       "      <td>5689</td>\n",
       "      <td>6043</td>\n",
       "      <td>7099</td>\n",
       "      <td>7370</td>\n",
       "      <td>6751</td>\n",
       "      <td>14913</td>\n",
       "      <td>15128</td>\n",
       "      <td>14067</td>\n",
       "      <td>14361</td>\n",
       "      <td>15225</td>\n",
       "      <td>19429</td>\n",
       "      <td>20105</td>\n",
       "      <td>22139</td>\n",
       "      <td>23148</td>\n",
       "      <td>23916</td>\n",
       "      <td>27298</td>\n",
       "    </tr>\n",
       "    <tr>\n",
       "      <th>5</th>\n",
       "      <td>절도범</td>\n",
       "      <td>소계</td>\n",
       "      <td>밤(20:00~24:00)</td>\n",
       "      <td>9314</td>\n",
       "      <td>10529</td>\n",
       "      <td>11783</td>\n",
       "      <td>13080</td>\n",
       "      <td>13009</td>\n",
       "      <td>12271</td>\n",
       "      <td>24551</td>\n",
       "      <td>24052</td>\n",
       "      <td>20796</td>\n",
       "      <td>23065</td>\n",
       "      <td>30995</td>\n",
       "      <td>38474</td>\n",
       "      <td>40074</td>\n",
       "      <td>42223</td>\n",
       "      <td>42007</td>\n",
       "      <td>45106</td>\n",
       "      <td>49847</td>\n",
       "    </tr>\n",
       "    <tr>\n",
       "      <th>6</th>\n",
       "      <td>절도범</td>\n",
       "      <td>소계</td>\n",
       "      <td>미상</td>\n",
       "      <td>11370</td>\n",
       "      <td>8665</td>\n",
       "      <td>10706</td>\n",
       "      <td>13994</td>\n",
       "      <td>16175</td>\n",
       "      <td>16543</td>\n",
       "      <td>31337</td>\n",
       "      <td>36705</td>\n",
       "      <td>42081</td>\n",
       "      <td>43493</td>\n",
       "      <td>0</td>\n",
       "      <td>0</td>\n",
       "      <td>0</td>\n",
       "      <td>0</td>\n",
       "      <td>0</td>\n",
       "      <td>0</td>\n",
       "      <td>0</td>\n",
       "    </tr>\n",
       "  </tbody>\n",
       "</table>\n",
       "</div>"
      ],
      "text/plain": [
       "     중   소              발생시간  1994년  1995년  1996년  1997년  1998년  1999년  2000년  \\\n",
       "0  절도범  소계   심야(00:00~04:00)  10772  11609  12214  13829  16817  16923  27183   \n",
       "1  절도범  소계   새벽(04:00~07:00)   2512   2816   3246   3876   3831   3945   8230   \n",
       "2  절도범  소계   오전(07:00~12:00)   8414   9434  10896  13179  14693  14216  30704   \n",
       "3  절도범  소계   오후(12:00~18:00)  13292  13968  15350  18006  19543  18746  36958   \n",
       "4  절도범  소계  초저녁(18:00~20:00)   4581   5689   6043   7099   7370   6751  14913   \n",
       "5  절도범  소계    밤(20:00~24:00)   9314  10529  11783  13080  13009  12271  24551   \n",
       "6  절도범  소계                미상  11370   8665  10706  13994  16175  16543  31337   \n",
       "\n",
       "   2001년  2002년  2003년  2004년  2005년  2006년  2007년  2008년  2009년  2010년  \n",
       "0  26589  26527  27148  38555  43296  43641  49638  58482  76692  71944  \n",
       "1   8208   7039   7754   9830  11979  11936  12778  13249  14641  15402  \n",
       "2  32837  30728  32747  24138  32036  32649  36209  36292  39723  43782  \n",
       "3  37185  37219  38784  36568  43566  44265  49471  50038  56345  61137  \n",
       "4  15128  14067  14361  15225  19429  20105  22139  23148  23916  27298  \n",
       "5  24052  20796  23065  30995  38474  40074  42223  42007  45106  49847  \n",
       "6  36705  42081  43493      0      0      0      0      0      0      0  "
      ]
     },
     "execution_count": 26,
     "metadata": {},
     "output_type": "execute_result"
    }
   ],
   "source": [
    "time_df_total = time_df[time_df[\"소\"] == \"소계\"]\n",
    "time_df_total.drop(columns=\"대\", inplace=True)\n",
    "time_df_total.reset_index(inplace=True, drop=True)\n",
    "time_df_total"
   ]
  },
  {
   "cell_type": "code",
   "execution_count": 27,
   "metadata": {},
   "outputs": [
    {
     "data": {
      "application/vnd.plotly.v1+json": {
       "config": {
        "plotlyServerURL": "https://plot.ly"
       },
       "data": [
        {
         "hovertemplate": "발생시간=심야(00:00~04:00)<br>년도=%{x}<br>발생건수=%{y}<extra></extra>",
         "legendgroup": "심야(00:00~04:00)",
         "line": {
          "color": "#636efa",
          "dash": "solid"
         },
         "marker": {
          "symbol": "circle"
         },
         "mode": "lines+markers",
         "name": "심야(00:00~04:00)",
         "orientation": "v",
         "showlegend": true,
         "type": "scatter",
         "x": [
          "1994년",
          "1995년",
          "1996년",
          "1997년",
          "1998년",
          "1999년",
          "2000년",
          "2001년",
          "2002년",
          "2003년",
          "2004년",
          "2005년",
          "2006년",
          "2007년",
          "2008년",
          "2009년",
          "2010년"
         ],
         "xaxis": "x",
         "y": [
          10772,
          11609,
          12214,
          13829,
          16817,
          16923,
          27183,
          26589,
          26527,
          27148,
          38555,
          43296,
          43641,
          49638,
          58482,
          76692,
          71944
         ],
         "yaxis": "y"
        },
        {
         "hovertemplate": "발생시간=새벽(04:00~07:00)<br>년도=%{x}<br>발생건수=%{y}<extra></extra>",
         "legendgroup": "새벽(04:00~07:00)",
         "line": {
          "color": "#EF553B",
          "dash": "solid"
         },
         "marker": {
          "symbol": "circle"
         },
         "mode": "lines+markers",
         "name": "새벽(04:00~07:00)",
         "orientation": "v",
         "showlegend": true,
         "type": "scatter",
         "x": [
          "1994년",
          "1995년",
          "1996년",
          "1997년",
          "1998년",
          "1999년",
          "2000년",
          "2001년",
          "2002년",
          "2003년",
          "2004년",
          "2005년",
          "2006년",
          "2007년",
          "2008년",
          "2009년",
          "2010년"
         ],
         "xaxis": "x",
         "y": [
          2512,
          2816,
          3246,
          3876,
          3831,
          3945,
          8230,
          8208,
          7039,
          7754,
          9830,
          11979,
          11936,
          12778,
          13249,
          14641,
          15402
         ],
         "yaxis": "y"
        },
        {
         "hovertemplate": "발생시간=오전(07:00~12:00)<br>년도=%{x}<br>발생건수=%{y}<extra></extra>",
         "legendgroup": "오전(07:00~12:00)",
         "line": {
          "color": "#00cc96",
          "dash": "solid"
         },
         "marker": {
          "symbol": "circle"
         },
         "mode": "lines+markers",
         "name": "오전(07:00~12:00)",
         "orientation": "v",
         "showlegend": true,
         "type": "scatter",
         "x": [
          "1994년",
          "1995년",
          "1996년",
          "1997년",
          "1998년",
          "1999년",
          "2000년",
          "2001년",
          "2002년",
          "2003년",
          "2004년",
          "2005년",
          "2006년",
          "2007년",
          "2008년",
          "2009년",
          "2010년"
         ],
         "xaxis": "x",
         "y": [
          8414,
          9434,
          10896,
          13179,
          14693,
          14216,
          30704,
          32837,
          30728,
          32747,
          24138,
          32036,
          32649,
          36209,
          36292,
          39723,
          43782
         ],
         "yaxis": "y"
        },
        {
         "hovertemplate": "발생시간=오후(12:00~18:00)<br>년도=%{x}<br>발생건수=%{y}<extra></extra>",
         "legendgroup": "오후(12:00~18:00)",
         "line": {
          "color": "#ab63fa",
          "dash": "solid"
         },
         "marker": {
          "symbol": "circle"
         },
         "mode": "lines+markers",
         "name": "오후(12:00~18:00)",
         "orientation": "v",
         "showlegend": true,
         "type": "scatter",
         "x": [
          "1994년",
          "1995년",
          "1996년",
          "1997년",
          "1998년",
          "1999년",
          "2000년",
          "2001년",
          "2002년",
          "2003년",
          "2004년",
          "2005년",
          "2006년",
          "2007년",
          "2008년",
          "2009년",
          "2010년"
         ],
         "xaxis": "x",
         "y": [
          13292,
          13968,
          15350,
          18006,
          19543,
          18746,
          36958,
          37185,
          37219,
          38784,
          36568,
          43566,
          44265,
          49471,
          50038,
          56345,
          61137
         ],
         "yaxis": "y"
        },
        {
         "hovertemplate": "발생시간=초저녁(18:00~20:00)<br>년도=%{x}<br>발생건수=%{y}<extra></extra>",
         "legendgroup": "초저녁(18:00~20:00)",
         "line": {
          "color": "#FFA15A",
          "dash": "solid"
         },
         "marker": {
          "symbol": "circle"
         },
         "mode": "lines+markers",
         "name": "초저녁(18:00~20:00)",
         "orientation": "v",
         "showlegend": true,
         "type": "scatter",
         "x": [
          "1994년",
          "1995년",
          "1996년",
          "1997년",
          "1998년",
          "1999년",
          "2000년",
          "2001년",
          "2002년",
          "2003년",
          "2004년",
          "2005년",
          "2006년",
          "2007년",
          "2008년",
          "2009년",
          "2010년"
         ],
         "xaxis": "x",
         "y": [
          4581,
          5689,
          6043,
          7099,
          7370,
          6751,
          14913,
          15128,
          14067,
          14361,
          15225,
          19429,
          20105,
          22139,
          23148,
          23916,
          27298
         ],
         "yaxis": "y"
        },
        {
         "hovertemplate": "발생시간=밤(20:00~24:00)<br>년도=%{x}<br>발생건수=%{y}<extra></extra>",
         "legendgroup": "밤(20:00~24:00)",
         "line": {
          "color": "#19d3f3",
          "dash": "solid"
         },
         "marker": {
          "symbol": "circle"
         },
         "mode": "lines+markers",
         "name": "밤(20:00~24:00)",
         "orientation": "v",
         "showlegend": true,
         "type": "scatter",
         "x": [
          "1994년",
          "1995년",
          "1996년",
          "1997년",
          "1998년",
          "1999년",
          "2000년",
          "2001년",
          "2002년",
          "2003년",
          "2004년",
          "2005년",
          "2006년",
          "2007년",
          "2008년",
          "2009년",
          "2010년"
         ],
         "xaxis": "x",
         "y": [
          9314,
          10529,
          11783,
          13080,
          13009,
          12271,
          24551,
          24052,
          20796,
          23065,
          30995,
          38474,
          40074,
          42223,
          42007,
          45106,
          49847
         ],
         "yaxis": "y"
        },
        {
         "hovertemplate": "발생시간=미상<br>년도=%{x}<br>발생건수=%{y}<extra></extra>",
         "legendgroup": "미상",
         "line": {
          "color": "#FF6692",
          "dash": "solid"
         },
         "marker": {
          "symbol": "circle"
         },
         "mode": "lines+markers",
         "name": "미상",
         "orientation": "v",
         "showlegend": true,
         "type": "scatter",
         "x": [
          "1994년",
          "1995년",
          "1996년",
          "1997년",
          "1998년",
          "1999년",
          "2000년",
          "2001년",
          "2002년",
          "2003년",
          "2004년",
          "2005년",
          "2006년",
          "2007년",
          "2008년",
          "2009년",
          "2010년"
         ],
         "xaxis": "x",
         "y": [
          11370,
          8665,
          10706,
          13994,
          16175,
          16543,
          31337,
          36705,
          42081,
          43493,
          0,
          0,
          0,
          0,
          0,
          0,
          0
         ],
         "yaxis": "y"
        }
       ],
       "layout": {
        "legend": {
         "title": {
          "text": "발생시간"
         },
         "tracegroupgap": 0
        },
        "template": {
         "data": {
          "bar": [
           {
            "error_x": {
             "color": "#2a3f5f"
            },
            "error_y": {
             "color": "#2a3f5f"
            },
            "marker": {
             "line": {
              "color": "#E5ECF6",
              "width": 0.5
             },
             "pattern": {
              "fillmode": "overlay",
              "size": 10,
              "solidity": 0.2
             }
            },
            "type": "bar"
           }
          ],
          "barpolar": [
           {
            "marker": {
             "line": {
              "color": "#E5ECF6",
              "width": 0.5
             },
             "pattern": {
              "fillmode": "overlay",
              "size": 10,
              "solidity": 0.2
             }
            },
            "type": "barpolar"
           }
          ],
          "carpet": [
           {
            "aaxis": {
             "endlinecolor": "#2a3f5f",
             "gridcolor": "white",
             "linecolor": "white",
             "minorgridcolor": "white",
             "startlinecolor": "#2a3f5f"
            },
            "baxis": {
             "endlinecolor": "#2a3f5f",
             "gridcolor": "white",
             "linecolor": "white",
             "minorgridcolor": "white",
             "startlinecolor": "#2a3f5f"
            },
            "type": "carpet"
           }
          ],
          "choropleth": [
           {
            "colorbar": {
             "outlinewidth": 0,
             "ticks": ""
            },
            "type": "choropleth"
           }
          ],
          "contour": [
           {
            "colorbar": {
             "outlinewidth": 0,
             "ticks": ""
            },
            "colorscale": [
             [
              0,
              "#0d0887"
             ],
             [
              0.1111111111111111,
              "#46039f"
             ],
             [
              0.2222222222222222,
              "#7201a8"
             ],
             [
              0.3333333333333333,
              "#9c179e"
             ],
             [
              0.4444444444444444,
              "#bd3786"
             ],
             [
              0.5555555555555556,
              "#d8576b"
             ],
             [
              0.6666666666666666,
              "#ed7953"
             ],
             [
              0.7777777777777778,
              "#fb9f3a"
             ],
             [
              0.8888888888888888,
              "#fdca26"
             ],
             [
              1,
              "#f0f921"
             ]
            ],
            "type": "contour"
           }
          ],
          "contourcarpet": [
           {
            "colorbar": {
             "outlinewidth": 0,
             "ticks": ""
            },
            "type": "contourcarpet"
           }
          ],
          "heatmap": [
           {
            "colorbar": {
             "outlinewidth": 0,
             "ticks": ""
            },
            "colorscale": [
             [
              0,
              "#0d0887"
             ],
             [
              0.1111111111111111,
              "#46039f"
             ],
             [
              0.2222222222222222,
              "#7201a8"
             ],
             [
              0.3333333333333333,
              "#9c179e"
             ],
             [
              0.4444444444444444,
              "#bd3786"
             ],
             [
              0.5555555555555556,
              "#d8576b"
             ],
             [
              0.6666666666666666,
              "#ed7953"
             ],
             [
              0.7777777777777778,
              "#fb9f3a"
             ],
             [
              0.8888888888888888,
              "#fdca26"
             ],
             [
              1,
              "#f0f921"
             ]
            ],
            "type": "heatmap"
           }
          ],
          "heatmapgl": [
           {
            "colorbar": {
             "outlinewidth": 0,
             "ticks": ""
            },
            "colorscale": [
             [
              0,
              "#0d0887"
             ],
             [
              0.1111111111111111,
              "#46039f"
             ],
             [
              0.2222222222222222,
              "#7201a8"
             ],
             [
              0.3333333333333333,
              "#9c179e"
             ],
             [
              0.4444444444444444,
              "#bd3786"
             ],
             [
              0.5555555555555556,
              "#d8576b"
             ],
             [
              0.6666666666666666,
              "#ed7953"
             ],
             [
              0.7777777777777778,
              "#fb9f3a"
             ],
             [
              0.8888888888888888,
              "#fdca26"
             ],
             [
              1,
              "#f0f921"
             ]
            ],
            "type": "heatmapgl"
           }
          ],
          "histogram": [
           {
            "marker": {
             "pattern": {
              "fillmode": "overlay",
              "size": 10,
              "solidity": 0.2
             }
            },
            "type": "histogram"
           }
          ],
          "histogram2d": [
           {
            "colorbar": {
             "outlinewidth": 0,
             "ticks": ""
            },
            "colorscale": [
             [
              0,
              "#0d0887"
             ],
             [
              0.1111111111111111,
              "#46039f"
             ],
             [
              0.2222222222222222,
              "#7201a8"
             ],
             [
              0.3333333333333333,
              "#9c179e"
             ],
             [
              0.4444444444444444,
              "#bd3786"
             ],
             [
              0.5555555555555556,
              "#d8576b"
             ],
             [
              0.6666666666666666,
              "#ed7953"
             ],
             [
              0.7777777777777778,
              "#fb9f3a"
             ],
             [
              0.8888888888888888,
              "#fdca26"
             ],
             [
              1,
              "#f0f921"
             ]
            ],
            "type": "histogram2d"
           }
          ],
          "histogram2dcontour": [
           {
            "colorbar": {
             "outlinewidth": 0,
             "ticks": ""
            },
            "colorscale": [
             [
              0,
              "#0d0887"
             ],
             [
              0.1111111111111111,
              "#46039f"
             ],
             [
              0.2222222222222222,
              "#7201a8"
             ],
             [
              0.3333333333333333,
              "#9c179e"
             ],
             [
              0.4444444444444444,
              "#bd3786"
             ],
             [
              0.5555555555555556,
              "#d8576b"
             ],
             [
              0.6666666666666666,
              "#ed7953"
             ],
             [
              0.7777777777777778,
              "#fb9f3a"
             ],
             [
              0.8888888888888888,
              "#fdca26"
             ],
             [
              1,
              "#f0f921"
             ]
            ],
            "type": "histogram2dcontour"
           }
          ],
          "mesh3d": [
           {
            "colorbar": {
             "outlinewidth": 0,
             "ticks": ""
            },
            "type": "mesh3d"
           }
          ],
          "parcoords": [
           {
            "line": {
             "colorbar": {
              "outlinewidth": 0,
              "ticks": ""
             }
            },
            "type": "parcoords"
           }
          ],
          "pie": [
           {
            "automargin": true,
            "type": "pie"
           }
          ],
          "scatter": [
           {
            "fillpattern": {
             "fillmode": "overlay",
             "size": 10,
             "solidity": 0.2
            },
            "type": "scatter"
           }
          ],
          "scatter3d": [
           {
            "line": {
             "colorbar": {
              "outlinewidth": 0,
              "ticks": ""
             }
            },
            "marker": {
             "colorbar": {
              "outlinewidth": 0,
              "ticks": ""
             }
            },
            "type": "scatter3d"
           }
          ],
          "scattercarpet": [
           {
            "marker": {
             "colorbar": {
              "outlinewidth": 0,
              "ticks": ""
             }
            },
            "type": "scattercarpet"
           }
          ],
          "scattergeo": [
           {
            "marker": {
             "colorbar": {
              "outlinewidth": 0,
              "ticks": ""
             }
            },
            "type": "scattergeo"
           }
          ],
          "scattergl": [
           {
            "marker": {
             "colorbar": {
              "outlinewidth": 0,
              "ticks": ""
             }
            },
            "type": "scattergl"
           }
          ],
          "scattermapbox": [
           {
            "marker": {
             "colorbar": {
              "outlinewidth": 0,
              "ticks": ""
             }
            },
            "type": "scattermapbox"
           }
          ],
          "scatterpolar": [
           {
            "marker": {
             "colorbar": {
              "outlinewidth": 0,
              "ticks": ""
             }
            },
            "type": "scatterpolar"
           }
          ],
          "scatterpolargl": [
           {
            "marker": {
             "colorbar": {
              "outlinewidth": 0,
              "ticks": ""
             }
            },
            "type": "scatterpolargl"
           }
          ],
          "scatterternary": [
           {
            "marker": {
             "colorbar": {
              "outlinewidth": 0,
              "ticks": ""
             }
            },
            "type": "scatterternary"
           }
          ],
          "surface": [
           {
            "colorbar": {
             "outlinewidth": 0,
             "ticks": ""
            },
            "colorscale": [
             [
              0,
              "#0d0887"
             ],
             [
              0.1111111111111111,
              "#46039f"
             ],
             [
              0.2222222222222222,
              "#7201a8"
             ],
             [
              0.3333333333333333,
              "#9c179e"
             ],
             [
              0.4444444444444444,
              "#bd3786"
             ],
             [
              0.5555555555555556,
              "#d8576b"
             ],
             [
              0.6666666666666666,
              "#ed7953"
             ],
             [
              0.7777777777777778,
              "#fb9f3a"
             ],
             [
              0.8888888888888888,
              "#fdca26"
             ],
             [
              1,
              "#f0f921"
             ]
            ],
            "type": "surface"
           }
          ],
          "table": [
           {
            "cells": {
             "fill": {
              "color": "#EBF0F8"
             },
             "line": {
              "color": "white"
             }
            },
            "header": {
             "fill": {
              "color": "#C8D4E3"
             },
             "line": {
              "color": "white"
             }
            },
            "type": "table"
           }
          ]
         },
         "layout": {
          "annotationdefaults": {
           "arrowcolor": "#2a3f5f",
           "arrowhead": 0,
           "arrowwidth": 1
          },
          "autotypenumbers": "strict",
          "coloraxis": {
           "colorbar": {
            "outlinewidth": 0,
            "ticks": ""
           }
          },
          "colorscale": {
           "diverging": [
            [
             0,
             "#8e0152"
            ],
            [
             0.1,
             "#c51b7d"
            ],
            [
             0.2,
             "#de77ae"
            ],
            [
             0.3,
             "#f1b6da"
            ],
            [
             0.4,
             "#fde0ef"
            ],
            [
             0.5,
             "#f7f7f7"
            ],
            [
             0.6,
             "#e6f5d0"
            ],
            [
             0.7,
             "#b8e186"
            ],
            [
             0.8,
             "#7fbc41"
            ],
            [
             0.9,
             "#4d9221"
            ],
            [
             1,
             "#276419"
            ]
           ],
           "sequential": [
            [
             0,
             "#0d0887"
            ],
            [
             0.1111111111111111,
             "#46039f"
            ],
            [
             0.2222222222222222,
             "#7201a8"
            ],
            [
             0.3333333333333333,
             "#9c179e"
            ],
            [
             0.4444444444444444,
             "#bd3786"
            ],
            [
             0.5555555555555556,
             "#d8576b"
            ],
            [
             0.6666666666666666,
             "#ed7953"
            ],
            [
             0.7777777777777778,
             "#fb9f3a"
            ],
            [
             0.8888888888888888,
             "#fdca26"
            ],
            [
             1,
             "#f0f921"
            ]
           ],
           "sequentialminus": [
            [
             0,
             "#0d0887"
            ],
            [
             0.1111111111111111,
             "#46039f"
            ],
            [
             0.2222222222222222,
             "#7201a8"
            ],
            [
             0.3333333333333333,
             "#9c179e"
            ],
            [
             0.4444444444444444,
             "#bd3786"
            ],
            [
             0.5555555555555556,
             "#d8576b"
            ],
            [
             0.6666666666666666,
             "#ed7953"
            ],
            [
             0.7777777777777778,
             "#fb9f3a"
            ],
            [
             0.8888888888888888,
             "#fdca26"
            ],
            [
             1,
             "#f0f921"
            ]
           ]
          },
          "colorway": [
           "#636efa",
           "#EF553B",
           "#00cc96",
           "#ab63fa",
           "#FFA15A",
           "#19d3f3",
           "#FF6692",
           "#B6E880",
           "#FF97FF",
           "#FECB52"
          ],
          "font": {
           "color": "#2a3f5f"
          },
          "geo": {
           "bgcolor": "white",
           "lakecolor": "white",
           "landcolor": "#E5ECF6",
           "showlakes": true,
           "showland": true,
           "subunitcolor": "white"
          },
          "hoverlabel": {
           "align": "left"
          },
          "hovermode": "closest",
          "mapbox": {
           "style": "light"
          },
          "paper_bgcolor": "white",
          "plot_bgcolor": "#E5ECF6",
          "polar": {
           "angularaxis": {
            "gridcolor": "white",
            "linecolor": "white",
            "ticks": ""
           },
           "bgcolor": "#E5ECF6",
           "radialaxis": {
            "gridcolor": "white",
            "linecolor": "white",
            "ticks": ""
           }
          },
          "scene": {
           "xaxis": {
            "backgroundcolor": "#E5ECF6",
            "gridcolor": "white",
            "gridwidth": 2,
            "linecolor": "white",
            "showbackground": true,
            "ticks": "",
            "zerolinecolor": "white"
           },
           "yaxis": {
            "backgroundcolor": "#E5ECF6",
            "gridcolor": "white",
            "gridwidth": 2,
            "linecolor": "white",
            "showbackground": true,
            "ticks": "",
            "zerolinecolor": "white"
           },
           "zaxis": {
            "backgroundcolor": "#E5ECF6",
            "gridcolor": "white",
            "gridwidth": 2,
            "linecolor": "white",
            "showbackground": true,
            "ticks": "",
            "zerolinecolor": "white"
           }
          },
          "shapedefaults": {
           "line": {
            "color": "#2a3f5f"
           }
          },
          "ternary": {
           "aaxis": {
            "gridcolor": "white",
            "linecolor": "white",
            "ticks": ""
           },
           "baxis": {
            "gridcolor": "white",
            "linecolor": "white",
            "ticks": ""
           },
           "bgcolor": "#E5ECF6",
           "caxis": {
            "gridcolor": "white",
            "linecolor": "white",
            "ticks": ""
           }
          },
          "title": {
           "x": 0.05
          },
          "xaxis": {
           "automargin": true,
           "gridcolor": "white",
           "linecolor": "white",
           "ticks": "",
           "title": {
            "standoff": 15
           },
           "zerolinecolor": "white",
           "zerolinewidth": 2
          },
          "yaxis": {
           "automargin": true,
           "gridcolor": "white",
           "linecolor": "white",
           "ticks": "",
           "title": {
            "standoff": 15
           },
           "zerolinecolor": "white",
           "zerolinewidth": 2
          }
         }
        },
        "title": {
         "text": "[ 발생시간별 발생한 절도범 건수 ]"
        },
        "xaxis": {
         "anchor": "y",
         "domain": [
          0,
          1
         ],
         "title": {
          "text": "년도"
         }
        },
        "yaxis": {
         "anchor": "x",
         "domain": [
          0,
          1
         ],
         "title": {
          "text": "발생건수"
         }
        }
       }
      }
     },
     "metadata": {},
     "output_type": "display_data"
    }
   ],
   "source": [
    "df_melted = time_df_total.melt(id_vars=[\"중\", \"소\", \"발생시간\"], var_name=\"년도\", value_name=\"발생건수\")\n",
    "\n",
    "fig = px.line(df_melted, x=\"년도\", y=\"발생건수\", color=\"발생시간\", title=\"[ 발생시간별 발생한 절도범 건수 ]\", markers=True)\n",
    "fig.show()"
   ]
  },
  {
   "cell_type": "markdown",
   "metadata": {},
   "source": [
    "##### [ 나이 ]"
   ]
  },
  {
   "cell_type": "code",
   "execution_count": 28,
   "metadata": {},
   "outputs": [
    {
     "data": {
      "text/html": [
       "<div>\n",
       "<style scoped>\n",
       "    .dataframe tbody tr th:only-of-type {\n",
       "        vertical-align: middle;\n",
       "    }\n",
       "\n",
       "    .dataframe tbody tr th {\n",
       "        vertical-align: top;\n",
       "    }\n",
       "\n",
       "    .dataframe thead th {\n",
       "        text-align: right;\n",
       "    }\n",
       "</style>\n",
       "<table border=\"1\" class=\"dataframe\">\n",
       "  <thead>\n",
       "    <tr style=\"text-align: right;\">\n",
       "      <th></th>\n",
       "      <th>대</th>\n",
       "      <th>중</th>\n",
       "      <th>소</th>\n",
       "      <th>연령별</th>\n",
       "      <th>1994년</th>\n",
       "      <th>1995년</th>\n",
       "      <th>1996년</th>\n",
       "      <th>1997년</th>\n",
       "      <th>1998년</th>\n",
       "      <th>1999년</th>\n",
       "      <th>...</th>\n",
       "      <th>2001년</th>\n",
       "      <th>2002년</th>\n",
       "      <th>2003년</th>\n",
       "      <th>2004년</th>\n",
       "      <th>2005년</th>\n",
       "      <th>2006년</th>\n",
       "      <th>2007년</th>\n",
       "      <th>2008년</th>\n",
       "      <th>2009년</th>\n",
       "      <th>2010년</th>\n",
       "    </tr>\n",
       "  </thead>\n",
       "  <tbody>\n",
       "    <tr>\n",
       "      <th>0</th>\n",
       "      <td>총범죄</td>\n",
       "      <td>소계</td>\n",
       "      <td>소계</td>\n",
       "      <td>미성년</td>\n",
       "      <td>108681</td>\n",
       "      <td>123372</td>\n",
       "      <td>136323</td>\n",
       "      <td>153380</td>\n",
       "      <td>151383</td>\n",
       "      <td>141519</td>\n",
       "      <td>...</td>\n",
       "      <td>131059</td>\n",
       "      <td>115210</td>\n",
       "      <td>96697</td>\n",
       "      <td>86861</td>\n",
       "      <td>83477</td>\n",
       "      <td>90628</td>\n",
       "      <td>115661</td>\n",
       "      <td>123044</td>\n",
       "      <td>118058</td>\n",
       "      <td>94862</td>\n",
       "    </tr>\n",
       "    <tr>\n",
       "      <th>1</th>\n",
       "      <td>총범죄</td>\n",
       "      <td>소계</td>\n",
       "      <td>소계</td>\n",
       "      <td>14세미만</td>\n",
       "      <td>2648</td>\n",
       "      <td>2109</td>\n",
       "      <td>2149</td>\n",
       "      <td>1875</td>\n",
       "      <td>1440</td>\n",
       "      <td>1339</td>\n",
       "      <td>...</td>\n",
       "      <td>1378</td>\n",
       "      <td>1667</td>\n",
       "      <td>1376</td>\n",
       "      <td>1503</td>\n",
       "      <td>1679</td>\n",
       "      <td>1718</td>\n",
       "      <td>2602</td>\n",
       "      <td>5547</td>\n",
       "      <td>2615</td>\n",
       "      <td>621</td>\n",
       "    </tr>\n",
       "    <tr>\n",
       "      <th>2</th>\n",
       "      <td>총범죄</td>\n",
       "      <td>소계</td>\n",
       "      <td>소계</td>\n",
       "      <td>성인</td>\n",
       "      <td>1302941</td>\n",
       "      <td>1325225</td>\n",
       "      <td>1412545</td>\n",
       "      <td>1516202</td>\n",
       "      <td>1707707</td>\n",
       "      <td>1777161</td>\n",
       "      <td>...</td>\n",
       "      <td>1841330</td>\n",
       "      <td>1821169</td>\n",
       "      <td>1811469</td>\n",
       "      <td>2093377</td>\n",
       "      <td>1838155</td>\n",
       "      <td>1858300</td>\n",
       "      <td>1955214</td>\n",
       "      <td>2144039</td>\n",
       "      <td>2151798</td>\n",
       "      <td>1836620</td>\n",
       "    </tr>\n",
       "    <tr>\n",
       "      <th>3</th>\n",
       "      <td>총범죄</td>\n",
       "      <td>소계</td>\n",
       "      <td>소계</td>\n",
       "      <td>미상</td>\n",
       "      <td>11996</td>\n",
       "      <td>1562</td>\n",
       "      <td>2532</td>\n",
       "      <td>2773</td>\n",
       "      <td>3906</td>\n",
       "      <td>7478</td>\n",
       "      <td>...</td>\n",
       "      <td>7785</td>\n",
       "      <td>6608</td>\n",
       "      <td>9044</td>\n",
       "      <td>87666</td>\n",
       "      <td>48194</td>\n",
       "      <td>43849</td>\n",
       "      <td>38670</td>\n",
       "      <td>66037</td>\n",
       "      <td>63859</td>\n",
       "      <td>54837</td>\n",
       "    </tr>\n",
       "    <tr>\n",
       "      <th>4</th>\n",
       "      <td>형법범</td>\n",
       "      <td>소계</td>\n",
       "      <td>소계</td>\n",
       "      <td>미성년</td>\n",
       "      <td>78972</td>\n",
       "      <td>84998</td>\n",
       "      <td>86611</td>\n",
       "      <td>99519</td>\n",
       "      <td>103243</td>\n",
       "      <td>94310</td>\n",
       "      <td>...</td>\n",
       "      <td>84518</td>\n",
       "      <td>75511</td>\n",
       "      <td>67408</td>\n",
       "      <td>61577</td>\n",
       "      <td>62008</td>\n",
       "      <td>66740</td>\n",
       "      <td>80008</td>\n",
       "      <td>75331</td>\n",
       "      <td>86087</td>\n",
       "      <td>74368</td>\n",
       "    </tr>\n",
       "    <tr>\n",
       "      <th>...</th>\n",
       "      <td>...</td>\n",
       "      <td>...</td>\n",
       "      <td>...</td>\n",
       "      <td>...</td>\n",
       "      <td>...</td>\n",
       "      <td>...</td>\n",
       "      <td>...</td>\n",
       "      <td>...</td>\n",
       "      <td>...</td>\n",
       "      <td>...</td>\n",
       "      <td>...</td>\n",
       "      <td>...</td>\n",
       "      <td>...</td>\n",
       "      <td>...</td>\n",
       "      <td>...</td>\n",
       "      <td>...</td>\n",
       "      <td>...</td>\n",
       "      <td>...</td>\n",
       "      <td>...</td>\n",
       "      <td>...</td>\n",
       "      <td>...</td>\n",
       "    </tr>\n",
       "    <tr>\n",
       "      <th>844</th>\n",
       "      <td>특별법범</td>\n",
       "      <td>후천성면역결핍증예방법</td>\n",
       "      <td>소계</td>\n",
       "      <td>성인</td>\n",
       "      <td>0</td>\n",
       "      <td>0</td>\n",
       "      <td>0</td>\n",
       "      <td>1</td>\n",
       "      <td>0</td>\n",
       "      <td>0</td>\n",
       "      <td>...</td>\n",
       "      <td>0</td>\n",
       "      <td>4</td>\n",
       "      <td>1</td>\n",
       "      <td>1</td>\n",
       "      <td>1</td>\n",
       "      <td>4</td>\n",
       "      <td>0</td>\n",
       "      <td>0</td>\n",
       "      <td>0</td>\n",
       "      <td>0</td>\n",
       "    </tr>\n",
       "    <tr>\n",
       "      <th>845</th>\n",
       "      <td>특별법범</td>\n",
       "      <td>기타특별법</td>\n",
       "      <td>소계</td>\n",
       "      <td>미성년</td>\n",
       "      <td>123</td>\n",
       "      <td>156</td>\n",
       "      <td>247</td>\n",
       "      <td>349</td>\n",
       "      <td>343</td>\n",
       "      <td>501</td>\n",
       "      <td>...</td>\n",
       "      <td>9346</td>\n",
       "      <td>11129</td>\n",
       "      <td>9059</td>\n",
       "      <td>64</td>\n",
       "      <td>54</td>\n",
       "      <td>46</td>\n",
       "      <td>115</td>\n",
       "      <td>172</td>\n",
       "      <td>174</td>\n",
       "      <td>153</td>\n",
       "    </tr>\n",
       "    <tr>\n",
       "      <th>846</th>\n",
       "      <td>특별법범</td>\n",
       "      <td>기타특별법</td>\n",
       "      <td>소계</td>\n",
       "      <td>14세미만</td>\n",
       "      <td>16</td>\n",
       "      <td>8</td>\n",
       "      <td>11</td>\n",
       "      <td>9</td>\n",
       "      <td>5</td>\n",
       "      <td>12</td>\n",
       "      <td>...</td>\n",
       "      <td>68</td>\n",
       "      <td>119</td>\n",
       "      <td>113</td>\n",
       "      <td>7</td>\n",
       "      <td>0</td>\n",
       "      <td>1</td>\n",
       "      <td>0</td>\n",
       "      <td>3</td>\n",
       "      <td>3</td>\n",
       "      <td>0</td>\n",
       "    </tr>\n",
       "    <tr>\n",
       "      <th>847</th>\n",
       "      <td>특별법범</td>\n",
       "      <td>기타특별법</td>\n",
       "      <td>소계</td>\n",
       "      <td>성인</td>\n",
       "      <td>15720</td>\n",
       "      <td>20643</td>\n",
       "      <td>20759</td>\n",
       "      <td>25204</td>\n",
       "      <td>28168</td>\n",
       "      <td>46281</td>\n",
       "      <td>...</td>\n",
       "      <td>169612</td>\n",
       "      <td>234276</td>\n",
       "      <td>282003</td>\n",
       "      <td>17279</td>\n",
       "      <td>15560</td>\n",
       "      <td>17812</td>\n",
       "      <td>19456</td>\n",
       "      <td>30305</td>\n",
       "      <td>41471</td>\n",
       "      <td>39456</td>\n",
       "    </tr>\n",
       "    <tr>\n",
       "      <th>848</th>\n",
       "      <td>특별법범</td>\n",
       "      <td>기타특별법</td>\n",
       "      <td>소계</td>\n",
       "      <td>미상</td>\n",
       "      <td>187</td>\n",
       "      <td>49</td>\n",
       "      <td>96</td>\n",
       "      <td>104</td>\n",
       "      <td>111</td>\n",
       "      <td>194</td>\n",
       "      <td>...</td>\n",
       "      <td>235</td>\n",
       "      <td>274</td>\n",
       "      <td>478</td>\n",
       "      <td>970</td>\n",
       "      <td>426</td>\n",
       "      <td>473</td>\n",
       "      <td>704</td>\n",
       "      <td>2382</td>\n",
       "      <td>2791</td>\n",
       "      <td>1820</td>\n",
       "    </tr>\n",
       "  </tbody>\n",
       "</table>\n",
       "<p>849 rows × 21 columns</p>\n",
       "</div>"
      ],
      "text/plain": [
       "        대            중   소    연령별    1994년    1995년    1996년    1997년  \\\n",
       "0     총범죄           소계  소계    미성년   108681   123372   136323   153380   \n",
       "1     총범죄           소계  소계  14세미만     2648     2109     2149     1875   \n",
       "2     총범죄           소계  소계     성인  1302941  1325225  1412545  1516202   \n",
       "3     총범죄           소계  소계     미상    11996     1562     2532     2773   \n",
       "4     형법범           소계  소계    미성년    78972    84998    86611    99519   \n",
       "..    ...          ...  ..    ...      ...      ...      ...      ...   \n",
       "844  특별법범  후천성면역결핍증예방법  소계     성인        0        0        0        1   \n",
       "845  특별법범        기타특별법  소계    미성년      123      156      247      349   \n",
       "846  특별법범        기타특별법  소계  14세미만       16        8       11        9   \n",
       "847  특별법범        기타특별법  소계     성인    15720    20643    20759    25204   \n",
       "848  특별법범        기타특별법  소계     미상      187       49       96      104   \n",
       "\n",
       "       1998년    1999년  ...    2001년    2002년    2003년    2004년    2005년  \\\n",
       "0     151383   141519  ...   131059   115210    96697    86861    83477   \n",
       "1       1440     1339  ...     1378     1667     1376     1503     1679   \n",
       "2    1707707  1777161  ...  1841330  1821169  1811469  2093377  1838155   \n",
       "3       3906     7478  ...     7785     6608     9044    87666    48194   \n",
       "4     103243    94310  ...    84518    75511    67408    61577    62008   \n",
       "..       ...      ...  ...      ...      ...      ...      ...      ...   \n",
       "844        0        0  ...        0        4        1        1        1   \n",
       "845      343      501  ...     9346    11129     9059       64       54   \n",
       "846        5       12  ...       68      119      113        7        0   \n",
       "847    28168    46281  ...   169612   234276   282003    17279    15560   \n",
       "848      111      194  ...      235      274      478      970      426   \n",
       "\n",
       "       2006년    2007년    2008년    2009년    2010년  \n",
       "0      90628   115661   123044   118058    94862  \n",
       "1       1718     2602     5547     2615      621  \n",
       "2    1858300  1955214  2144039  2151798  1836620  \n",
       "3      43849    38670    66037    63859    54837  \n",
       "4      66740    80008    75331    86087    74368  \n",
       "..       ...      ...      ...      ...      ...  \n",
       "844        4        0        0        0        0  \n",
       "845       46      115      172      174      153  \n",
       "846        1        0        3        3        0  \n",
       "847    17812    19456    30305    41471    39456  \n",
       "848      473      704     2382     2791     1820  \n",
       "\n",
       "[849 rows x 21 columns]"
      ]
     },
     "execution_count": 28,
     "metadata": {},
     "output_type": "execute_result"
    }
   ],
   "source": [
    "cursor.execute(\"select * from crime_age_before\")\n",
    "\n",
    "age = cursor.fetchall()\n",
    "age_df_start = pd.DataFrame(age)\n",
    "age_df_start"
   ]
  },
  {
   "cell_type": "code",
   "execution_count": 29,
   "metadata": {},
   "outputs": [
    {
     "data": {
      "text/html": [
       "<div>\n",
       "<style scoped>\n",
       "    .dataframe tbody tr th:only-of-type {\n",
       "        vertical-align: middle;\n",
       "    }\n",
       "\n",
       "    .dataframe tbody tr th {\n",
       "        vertical-align: top;\n",
       "    }\n",
       "\n",
       "    .dataframe thead th {\n",
       "        text-align: right;\n",
       "    }\n",
       "</style>\n",
       "<table border=\"1\" class=\"dataframe\">\n",
       "  <thead>\n",
       "    <tr style=\"text-align: right;\">\n",
       "      <th></th>\n",
       "      <th>대</th>\n",
       "      <th>중</th>\n",
       "      <th>소</th>\n",
       "      <th>연령별</th>\n",
       "      <th>1994년</th>\n",
       "      <th>1995년</th>\n",
       "      <th>1996년</th>\n",
       "      <th>1997년</th>\n",
       "      <th>1998년</th>\n",
       "      <th>1999년</th>\n",
       "      <th>...</th>\n",
       "      <th>2001년</th>\n",
       "      <th>2002년</th>\n",
       "      <th>2003년</th>\n",
       "      <th>2004년</th>\n",
       "      <th>2005년</th>\n",
       "      <th>2006년</th>\n",
       "      <th>2007년</th>\n",
       "      <th>2008년</th>\n",
       "      <th>2009년</th>\n",
       "      <th>2010년</th>\n",
       "    </tr>\n",
       "  </thead>\n",
       "  <tbody>\n",
       "    <tr>\n",
       "      <th>0</th>\n",
       "      <td>형법범</td>\n",
       "      <td>절도범</td>\n",
       "      <td>소계</td>\n",
       "      <td>미성년</td>\n",
       "      <td>29225</td>\n",
       "      <td>30181</td>\n",
       "      <td>31392</td>\n",
       "      <td>34201</td>\n",
       "      <td>41063</td>\n",
       "      <td>32898</td>\n",
       "      <td>...</td>\n",
       "      <td>25188</td>\n",
       "      <td>26345</td>\n",
       "      <td>24208</td>\n",
       "      <td>23417</td>\n",
       "      <td>27367</td>\n",
       "      <td>30652</td>\n",
       "      <td>38143</td>\n",
       "      <td>36044</td>\n",
       "      <td>43549</td>\n",
       "      <td>37069</td>\n",
       "    </tr>\n",
       "    <tr>\n",
       "      <th>1</th>\n",
       "      <td>형법범</td>\n",
       "      <td>절도범</td>\n",
       "      <td>소계</td>\n",
       "      <td>14세미만</td>\n",
       "      <td>1130</td>\n",
       "      <td>906</td>\n",
       "      <td>878</td>\n",
       "      <td>731</td>\n",
       "      <td>598</td>\n",
       "      <td>453</td>\n",
       "      <td>...</td>\n",
       "      <td>425</td>\n",
       "      <td>702</td>\n",
       "      <td>412</td>\n",
       "      <td>602</td>\n",
       "      <td>723</td>\n",
       "      <td>923</td>\n",
       "      <td>1305</td>\n",
       "      <td>986</td>\n",
       "      <td>512</td>\n",
       "      <td>201</td>\n",
       "    </tr>\n",
       "    <tr>\n",
       "      <th>2</th>\n",
       "      <td>형법범</td>\n",
       "      <td>절도범</td>\n",
       "      <td>소계</td>\n",
       "      <td>성인</td>\n",
       "      <td>23863</td>\n",
       "      <td>21808</td>\n",
       "      <td>20573</td>\n",
       "      <td>21973</td>\n",
       "      <td>31970</td>\n",
       "      <td>33613</td>\n",
       "      <td>...</td>\n",
       "      <td>34035</td>\n",
       "      <td>36962</td>\n",
       "      <td>37104</td>\n",
       "      <td>40590</td>\n",
       "      <td>42706</td>\n",
       "      <td>46600</td>\n",
       "      <td>53452</td>\n",
       "      <td>58546</td>\n",
       "      <td>79269</td>\n",
       "      <td>79148</td>\n",
       "    </tr>\n",
       "    <tr>\n",
       "      <th>3</th>\n",
       "      <td>형법범</td>\n",
       "      <td>절도범</td>\n",
       "      <td>소계</td>\n",
       "      <td>미상</td>\n",
       "      <td>283</td>\n",
       "      <td>31</td>\n",
       "      <td>65</td>\n",
       "      <td>116</td>\n",
       "      <td>161</td>\n",
       "      <td>300</td>\n",
       "      <td>...</td>\n",
       "      <td>249</td>\n",
       "      <td>337</td>\n",
       "      <td>339</td>\n",
       "      <td>4391</td>\n",
       "      <td>2076</td>\n",
       "      <td>1763</td>\n",
       "      <td>1613</td>\n",
       "      <td>1728</td>\n",
       "      <td>3266</td>\n",
       "      <td>2893</td>\n",
       "    </tr>\n",
       "    <tr>\n",
       "      <th>4</th>\n",
       "      <td>형법범</td>\n",
       "      <td>절도범</td>\n",
       "      <td>절도</td>\n",
       "      <td>미성년</td>\n",
       "      <td>6962</td>\n",
       "      <td>0</td>\n",
       "      <td>0</td>\n",
       "      <td>0</td>\n",
       "      <td>0</td>\n",
       "      <td>0</td>\n",
       "      <td>...</td>\n",
       "      <td>0</td>\n",
       "      <td>0</td>\n",
       "      <td>0</td>\n",
       "      <td>0</td>\n",
       "      <td>0</td>\n",
       "      <td>0</td>\n",
       "      <td>0</td>\n",
       "      <td>0</td>\n",
       "      <td>0</td>\n",
       "      <td>0</td>\n",
       "    </tr>\n",
       "    <tr>\n",
       "      <th>5</th>\n",
       "      <td>형법범</td>\n",
       "      <td>절도범</td>\n",
       "      <td>절도</td>\n",
       "      <td>14세미만</td>\n",
       "      <td>150</td>\n",
       "      <td>0</td>\n",
       "      <td>0</td>\n",
       "      <td>0</td>\n",
       "      <td>0</td>\n",
       "      <td>0</td>\n",
       "      <td>...</td>\n",
       "      <td>0</td>\n",
       "      <td>0</td>\n",
       "      <td>0</td>\n",
       "      <td>0</td>\n",
       "      <td>0</td>\n",
       "      <td>0</td>\n",
       "      <td>0</td>\n",
       "      <td>0</td>\n",
       "      <td>0</td>\n",
       "      <td>0</td>\n",
       "    </tr>\n",
       "    <tr>\n",
       "      <th>6</th>\n",
       "      <td>형법범</td>\n",
       "      <td>절도범</td>\n",
       "      <td>절도</td>\n",
       "      <td>성인</td>\n",
       "      <td>14427</td>\n",
       "      <td>0</td>\n",
       "      <td>0</td>\n",
       "      <td>0</td>\n",
       "      <td>0</td>\n",
       "      <td>0</td>\n",
       "      <td>...</td>\n",
       "      <td>0</td>\n",
       "      <td>0</td>\n",
       "      <td>0</td>\n",
       "      <td>0</td>\n",
       "      <td>0</td>\n",
       "      <td>0</td>\n",
       "      <td>0</td>\n",
       "      <td>0</td>\n",
       "      <td>0</td>\n",
       "      <td>0</td>\n",
       "    </tr>\n",
       "    <tr>\n",
       "      <th>7</th>\n",
       "      <td>형법범</td>\n",
       "      <td>절도범</td>\n",
       "      <td>절도</td>\n",
       "      <td>미상</td>\n",
       "      <td>106</td>\n",
       "      <td>0</td>\n",
       "      <td>0</td>\n",
       "      <td>0</td>\n",
       "      <td>0</td>\n",
       "      <td>0</td>\n",
       "      <td>...</td>\n",
       "      <td>0</td>\n",
       "      <td>0</td>\n",
       "      <td>0</td>\n",
       "      <td>0</td>\n",
       "      <td>0</td>\n",
       "      <td>0</td>\n",
       "      <td>0</td>\n",
       "      <td>0</td>\n",
       "      <td>0</td>\n",
       "      <td>0</td>\n",
       "    </tr>\n",
       "    <tr>\n",
       "      <th>8</th>\n",
       "      <td>형법범</td>\n",
       "      <td>절도범</td>\n",
       "      <td>특가법(절도)</td>\n",
       "      <td>미성년</td>\n",
       "      <td>1504</td>\n",
       "      <td>0</td>\n",
       "      <td>0</td>\n",
       "      <td>0</td>\n",
       "      <td>0</td>\n",
       "      <td>0</td>\n",
       "      <td>...</td>\n",
       "      <td>0</td>\n",
       "      <td>0</td>\n",
       "      <td>0</td>\n",
       "      <td>0</td>\n",
       "      <td>0</td>\n",
       "      <td>0</td>\n",
       "      <td>0</td>\n",
       "      <td>0</td>\n",
       "      <td>0</td>\n",
       "      <td>0</td>\n",
       "    </tr>\n",
       "    <tr>\n",
       "      <th>9</th>\n",
       "      <td>형법범</td>\n",
       "      <td>절도범</td>\n",
       "      <td>특가법(절도)</td>\n",
       "      <td>14세미만</td>\n",
       "      <td>63</td>\n",
       "      <td>0</td>\n",
       "      <td>0</td>\n",
       "      <td>0</td>\n",
       "      <td>0</td>\n",
       "      <td>0</td>\n",
       "      <td>...</td>\n",
       "      <td>0</td>\n",
       "      <td>0</td>\n",
       "      <td>0</td>\n",
       "      <td>0</td>\n",
       "      <td>0</td>\n",
       "      <td>0</td>\n",
       "      <td>0</td>\n",
       "      <td>0</td>\n",
       "      <td>0</td>\n",
       "      <td>0</td>\n",
       "    </tr>\n",
       "    <tr>\n",
       "      <th>10</th>\n",
       "      <td>형법범</td>\n",
       "      <td>절도범</td>\n",
       "      <td>특가법(절도)</td>\n",
       "      <td>성인</td>\n",
       "      <td>1753</td>\n",
       "      <td>0</td>\n",
       "      <td>0</td>\n",
       "      <td>0</td>\n",
       "      <td>0</td>\n",
       "      <td>0</td>\n",
       "      <td>...</td>\n",
       "      <td>0</td>\n",
       "      <td>0</td>\n",
       "      <td>0</td>\n",
       "      <td>0</td>\n",
       "      <td>0</td>\n",
       "      <td>0</td>\n",
       "      <td>0</td>\n",
       "      <td>0</td>\n",
       "      <td>0</td>\n",
       "      <td>0</td>\n",
       "    </tr>\n",
       "    <tr>\n",
       "      <th>11</th>\n",
       "      <td>형법범</td>\n",
       "      <td>절도범</td>\n",
       "      <td>특가법(절도)</td>\n",
       "      <td>미상</td>\n",
       "      <td>37</td>\n",
       "      <td>0</td>\n",
       "      <td>0</td>\n",
       "      <td>0</td>\n",
       "      <td>0</td>\n",
       "      <td>0</td>\n",
       "      <td>...</td>\n",
       "      <td>0</td>\n",
       "      <td>0</td>\n",
       "      <td>0</td>\n",
       "      <td>0</td>\n",
       "      <td>0</td>\n",
       "      <td>0</td>\n",
       "      <td>0</td>\n",
       "      <td>0</td>\n",
       "      <td>0</td>\n",
       "      <td>0</td>\n",
       "    </tr>\n",
       "    <tr>\n",
       "      <th>12</th>\n",
       "      <td>형법범</td>\n",
       "      <td>절도범</td>\n",
       "      <td>특가법(절도강간)</td>\n",
       "      <td>미성년</td>\n",
       "      <td>1</td>\n",
       "      <td>0</td>\n",
       "      <td>0</td>\n",
       "      <td>0</td>\n",
       "      <td>0</td>\n",
       "      <td>0</td>\n",
       "      <td>...</td>\n",
       "      <td>0</td>\n",
       "      <td>0</td>\n",
       "      <td>0</td>\n",
       "      <td>0</td>\n",
       "      <td>0</td>\n",
       "      <td>0</td>\n",
       "      <td>0</td>\n",
       "      <td>0</td>\n",
       "      <td>0</td>\n",
       "      <td>0</td>\n",
       "    </tr>\n",
       "    <tr>\n",
       "      <th>13</th>\n",
       "      <td>형법범</td>\n",
       "      <td>절도범</td>\n",
       "      <td>야간주거침입절도</td>\n",
       "      <td>미성년</td>\n",
       "      <td>807</td>\n",
       "      <td>0</td>\n",
       "      <td>0</td>\n",
       "      <td>0</td>\n",
       "      <td>0</td>\n",
       "      <td>0</td>\n",
       "      <td>...</td>\n",
       "      <td>0</td>\n",
       "      <td>0</td>\n",
       "      <td>0</td>\n",
       "      <td>0</td>\n",
       "      <td>0</td>\n",
       "      <td>0</td>\n",
       "      <td>0</td>\n",
       "      <td>0</td>\n",
       "      <td>0</td>\n",
       "      <td>0</td>\n",
       "    </tr>\n",
       "    <tr>\n",
       "      <th>14</th>\n",
       "      <td>형법범</td>\n",
       "      <td>절도범</td>\n",
       "      <td>야간주거침입절도</td>\n",
       "      <td>14세미만</td>\n",
       "      <td>9</td>\n",
       "      <td>0</td>\n",
       "      <td>0</td>\n",
       "      <td>0</td>\n",
       "      <td>0</td>\n",
       "      <td>0</td>\n",
       "      <td>...</td>\n",
       "      <td>0</td>\n",
       "      <td>0</td>\n",
       "      <td>0</td>\n",
       "      <td>0</td>\n",
       "      <td>0</td>\n",
       "      <td>0</td>\n",
       "      <td>0</td>\n",
       "      <td>0</td>\n",
       "      <td>0</td>\n",
       "      <td>0</td>\n",
       "    </tr>\n",
       "    <tr>\n",
       "      <th>15</th>\n",
       "      <td>형법범</td>\n",
       "      <td>절도범</td>\n",
       "      <td>야간주거침입절도</td>\n",
       "      <td>성인</td>\n",
       "      <td>1865</td>\n",
       "      <td>0</td>\n",
       "      <td>0</td>\n",
       "      <td>0</td>\n",
       "      <td>0</td>\n",
       "      <td>0</td>\n",
       "      <td>...</td>\n",
       "      <td>0</td>\n",
       "      <td>0</td>\n",
       "      <td>0</td>\n",
       "      <td>0</td>\n",
       "      <td>0</td>\n",
       "      <td>0</td>\n",
       "      <td>0</td>\n",
       "      <td>0</td>\n",
       "      <td>0</td>\n",
       "      <td>0</td>\n",
       "    </tr>\n",
       "    <tr>\n",
       "      <th>16</th>\n",
       "      <td>형법범</td>\n",
       "      <td>절도범</td>\n",
       "      <td>야간주거침입절도</td>\n",
       "      <td>미상</td>\n",
       "      <td>10</td>\n",
       "      <td>0</td>\n",
       "      <td>0</td>\n",
       "      <td>0</td>\n",
       "      <td>0</td>\n",
       "      <td>0</td>\n",
       "      <td>...</td>\n",
       "      <td>0</td>\n",
       "      <td>0</td>\n",
       "      <td>0</td>\n",
       "      <td>0</td>\n",
       "      <td>0</td>\n",
       "      <td>0</td>\n",
       "      <td>0</td>\n",
       "      <td>0</td>\n",
       "      <td>0</td>\n",
       "      <td>0</td>\n",
       "    </tr>\n",
       "    <tr>\n",
       "      <th>17</th>\n",
       "      <td>형법범</td>\n",
       "      <td>절도범</td>\n",
       "      <td>야간주거침입절도(상습)</td>\n",
       "      <td>미성년</td>\n",
       "      <td>1</td>\n",
       "      <td>0</td>\n",
       "      <td>0</td>\n",
       "      <td>0</td>\n",
       "      <td>0</td>\n",
       "      <td>0</td>\n",
       "      <td>...</td>\n",
       "      <td>0</td>\n",
       "      <td>0</td>\n",
       "      <td>0</td>\n",
       "      <td>0</td>\n",
       "      <td>0</td>\n",
       "      <td>0</td>\n",
       "      <td>0</td>\n",
       "      <td>0</td>\n",
       "      <td>0</td>\n",
       "      <td>0</td>\n",
       "    </tr>\n",
       "    <tr>\n",
       "      <th>18</th>\n",
       "      <td>형법범</td>\n",
       "      <td>절도범</td>\n",
       "      <td>야간주거침입절도(상습)</td>\n",
       "      <td>성인</td>\n",
       "      <td>5</td>\n",
       "      <td>0</td>\n",
       "      <td>0</td>\n",
       "      <td>0</td>\n",
       "      <td>0</td>\n",
       "      <td>0</td>\n",
       "      <td>...</td>\n",
       "      <td>0</td>\n",
       "      <td>0</td>\n",
       "      <td>0</td>\n",
       "      <td>0</td>\n",
       "      <td>0</td>\n",
       "      <td>0</td>\n",
       "      <td>0</td>\n",
       "      <td>0</td>\n",
       "      <td>0</td>\n",
       "      <td>0</td>\n",
       "    </tr>\n",
       "    <tr>\n",
       "      <th>19</th>\n",
       "      <td>형법범</td>\n",
       "      <td>절도범</td>\n",
       "      <td>특수절도</td>\n",
       "      <td>미성년</td>\n",
       "      <td>19815</td>\n",
       "      <td>0</td>\n",
       "      <td>0</td>\n",
       "      <td>0</td>\n",
       "      <td>0</td>\n",
       "      <td>0</td>\n",
       "      <td>...</td>\n",
       "      <td>0</td>\n",
       "      <td>0</td>\n",
       "      <td>0</td>\n",
       "      <td>0</td>\n",
       "      <td>0</td>\n",
       "      <td>0</td>\n",
       "      <td>0</td>\n",
       "      <td>0</td>\n",
       "      <td>0</td>\n",
       "      <td>0</td>\n",
       "    </tr>\n",
       "    <tr>\n",
       "      <th>20</th>\n",
       "      <td>형법범</td>\n",
       "      <td>절도범</td>\n",
       "      <td>특수절도</td>\n",
       "      <td>14세미만</td>\n",
       "      <td>901</td>\n",
       "      <td>0</td>\n",
       "      <td>0</td>\n",
       "      <td>0</td>\n",
       "      <td>0</td>\n",
       "      <td>0</td>\n",
       "      <td>...</td>\n",
       "      <td>0</td>\n",
       "      <td>0</td>\n",
       "      <td>0</td>\n",
       "      <td>0</td>\n",
       "      <td>0</td>\n",
       "      <td>0</td>\n",
       "      <td>0</td>\n",
       "      <td>0</td>\n",
       "      <td>0</td>\n",
       "      <td>0</td>\n",
       "    </tr>\n",
       "    <tr>\n",
       "      <th>21</th>\n",
       "      <td>형법범</td>\n",
       "      <td>절도범</td>\n",
       "      <td>특수절도</td>\n",
       "      <td>성인</td>\n",
       "      <td>5662</td>\n",
       "      <td>0</td>\n",
       "      <td>0</td>\n",
       "      <td>0</td>\n",
       "      <td>0</td>\n",
       "      <td>0</td>\n",
       "      <td>...</td>\n",
       "      <td>0</td>\n",
       "      <td>0</td>\n",
       "      <td>0</td>\n",
       "      <td>0</td>\n",
       "      <td>0</td>\n",
       "      <td>0</td>\n",
       "      <td>0</td>\n",
       "      <td>0</td>\n",
       "      <td>0</td>\n",
       "      <td>0</td>\n",
       "    </tr>\n",
       "    <tr>\n",
       "      <th>22</th>\n",
       "      <td>형법범</td>\n",
       "      <td>절도범</td>\n",
       "      <td>특수절도</td>\n",
       "      <td>미상</td>\n",
       "      <td>129</td>\n",
       "      <td>0</td>\n",
       "      <td>0</td>\n",
       "      <td>0</td>\n",
       "      <td>0</td>\n",
       "      <td>0</td>\n",
       "      <td>...</td>\n",
       "      <td>0</td>\n",
       "      <td>0</td>\n",
       "      <td>0</td>\n",
       "      <td>0</td>\n",
       "      <td>0</td>\n",
       "      <td>0</td>\n",
       "      <td>0</td>\n",
       "      <td>0</td>\n",
       "      <td>0</td>\n",
       "      <td>0</td>\n",
       "    </tr>\n",
       "    <tr>\n",
       "      <th>23</th>\n",
       "      <td>형법범</td>\n",
       "      <td>절도범</td>\n",
       "      <td>특수절도(상습)</td>\n",
       "      <td>미성년</td>\n",
       "      <td>5</td>\n",
       "      <td>0</td>\n",
       "      <td>0</td>\n",
       "      <td>0</td>\n",
       "      <td>0</td>\n",
       "      <td>0</td>\n",
       "      <td>...</td>\n",
       "      <td>0</td>\n",
       "      <td>0</td>\n",
       "      <td>0</td>\n",
       "      <td>0</td>\n",
       "      <td>0</td>\n",
       "      <td>0</td>\n",
       "      <td>0</td>\n",
       "      <td>0</td>\n",
       "      <td>0</td>\n",
       "      <td>0</td>\n",
       "    </tr>\n",
       "    <tr>\n",
       "      <th>24</th>\n",
       "      <td>형법범</td>\n",
       "      <td>절도범</td>\n",
       "      <td>특수절도(상습)</td>\n",
       "      <td>14세미만</td>\n",
       "      <td>2</td>\n",
       "      <td>0</td>\n",
       "      <td>0</td>\n",
       "      <td>0</td>\n",
       "      <td>0</td>\n",
       "      <td>0</td>\n",
       "      <td>...</td>\n",
       "      <td>0</td>\n",
       "      <td>0</td>\n",
       "      <td>0</td>\n",
       "      <td>0</td>\n",
       "      <td>0</td>\n",
       "      <td>0</td>\n",
       "      <td>0</td>\n",
       "      <td>0</td>\n",
       "      <td>0</td>\n",
       "      <td>0</td>\n",
       "    </tr>\n",
       "    <tr>\n",
       "      <th>25</th>\n",
       "      <td>형법범</td>\n",
       "      <td>절도범</td>\n",
       "      <td>특수절도(상습)</td>\n",
       "      <td>성인</td>\n",
       "      <td>5</td>\n",
       "      <td>0</td>\n",
       "      <td>0</td>\n",
       "      <td>0</td>\n",
       "      <td>0</td>\n",
       "      <td>0</td>\n",
       "      <td>...</td>\n",
       "      <td>0</td>\n",
       "      <td>0</td>\n",
       "      <td>0</td>\n",
       "      <td>0</td>\n",
       "      <td>0</td>\n",
       "      <td>0</td>\n",
       "      <td>0</td>\n",
       "      <td>0</td>\n",
       "      <td>0</td>\n",
       "      <td>0</td>\n",
       "    </tr>\n",
       "    <tr>\n",
       "      <th>26</th>\n",
       "      <td>형법범</td>\n",
       "      <td>절도범</td>\n",
       "      <td>상습절도</td>\n",
       "      <td>미성년</td>\n",
       "      <td>130</td>\n",
       "      <td>0</td>\n",
       "      <td>0</td>\n",
       "      <td>0</td>\n",
       "      <td>0</td>\n",
       "      <td>0</td>\n",
       "      <td>...</td>\n",
       "      <td>0</td>\n",
       "      <td>0</td>\n",
       "      <td>0</td>\n",
       "      <td>0</td>\n",
       "      <td>0</td>\n",
       "      <td>0</td>\n",
       "      <td>0</td>\n",
       "      <td>0</td>\n",
       "      <td>0</td>\n",
       "      <td>0</td>\n",
       "    </tr>\n",
       "    <tr>\n",
       "      <th>27</th>\n",
       "      <td>형법범</td>\n",
       "      <td>절도범</td>\n",
       "      <td>상습절도</td>\n",
       "      <td>14세미만</td>\n",
       "      <td>5</td>\n",
       "      <td>0</td>\n",
       "      <td>0</td>\n",
       "      <td>0</td>\n",
       "      <td>0</td>\n",
       "      <td>0</td>\n",
       "      <td>...</td>\n",
       "      <td>0</td>\n",
       "      <td>0</td>\n",
       "      <td>0</td>\n",
       "      <td>0</td>\n",
       "      <td>0</td>\n",
       "      <td>0</td>\n",
       "      <td>0</td>\n",
       "      <td>0</td>\n",
       "      <td>0</td>\n",
       "      <td>0</td>\n",
       "    </tr>\n",
       "    <tr>\n",
       "      <th>28</th>\n",
       "      <td>형법범</td>\n",
       "      <td>절도범</td>\n",
       "      <td>상습절도</td>\n",
       "      <td>성인</td>\n",
       "      <td>146</td>\n",
       "      <td>0</td>\n",
       "      <td>0</td>\n",
       "      <td>0</td>\n",
       "      <td>0</td>\n",
       "      <td>0</td>\n",
       "      <td>...</td>\n",
       "      <td>0</td>\n",
       "      <td>0</td>\n",
       "      <td>0</td>\n",
       "      <td>0</td>\n",
       "      <td>0</td>\n",
       "      <td>0</td>\n",
       "      <td>0</td>\n",
       "      <td>0</td>\n",
       "      <td>0</td>\n",
       "      <td>0</td>\n",
       "    </tr>\n",
       "    <tr>\n",
       "      <th>29</th>\n",
       "      <td>형법범</td>\n",
       "      <td>절도범</td>\n",
       "      <td>상습절도</td>\n",
       "      <td>미상</td>\n",
       "      <td>1</td>\n",
       "      <td>0</td>\n",
       "      <td>0</td>\n",
       "      <td>0</td>\n",
       "      <td>0</td>\n",
       "      <td>0</td>\n",
       "      <td>...</td>\n",
       "      <td>0</td>\n",
       "      <td>0</td>\n",
       "      <td>0</td>\n",
       "      <td>0</td>\n",
       "      <td>0</td>\n",
       "      <td>0</td>\n",
       "      <td>0</td>\n",
       "      <td>0</td>\n",
       "      <td>0</td>\n",
       "      <td>0</td>\n",
       "    </tr>\n",
       "  </tbody>\n",
       "</table>\n",
       "<p>30 rows × 21 columns</p>\n",
       "</div>"
      ],
      "text/plain": [
       "      대    중             소    연령별  1994년  1995년  1996년  1997년  1998년  1999년  \\\n",
       "0   형법범  절도범            소계    미성년  29225  30181  31392  34201  41063  32898   \n",
       "1   형법범  절도범            소계  14세미만   1130    906    878    731    598    453   \n",
       "2   형법범  절도범            소계     성인  23863  21808  20573  21973  31970  33613   \n",
       "3   형법범  절도범            소계     미상    283     31     65    116    161    300   \n",
       "4   형법범  절도범            절도    미성년   6962      0      0      0      0      0   \n",
       "5   형법범  절도범            절도  14세미만    150      0      0      0      0      0   \n",
       "6   형법범  절도범            절도     성인  14427      0      0      0      0      0   \n",
       "7   형법범  절도범            절도     미상    106      0      0      0      0      0   \n",
       "8   형법범  절도범       특가법(절도)    미성년   1504      0      0      0      0      0   \n",
       "9   형법범  절도범       특가법(절도)  14세미만     63      0      0      0      0      0   \n",
       "10  형법범  절도범       특가법(절도)     성인   1753      0      0      0      0      0   \n",
       "11  형법범  절도범       특가법(절도)     미상     37      0      0      0      0      0   \n",
       "12  형법범  절도범     특가법(절도강간)    미성년      1      0      0      0      0      0   \n",
       "13  형법범  절도범      야간주거침입절도    미성년    807      0      0      0      0      0   \n",
       "14  형법범  절도범      야간주거침입절도  14세미만      9      0      0      0      0      0   \n",
       "15  형법범  절도범      야간주거침입절도     성인   1865      0      0      0      0      0   \n",
       "16  형법범  절도범      야간주거침입절도     미상     10      0      0      0      0      0   \n",
       "17  형법범  절도범  야간주거침입절도(상습)    미성년      1      0      0      0      0      0   \n",
       "18  형법범  절도범  야간주거침입절도(상습)     성인      5      0      0      0      0      0   \n",
       "19  형법범  절도범          특수절도    미성년  19815      0      0      0      0      0   \n",
       "20  형법범  절도범          특수절도  14세미만    901      0      0      0      0      0   \n",
       "21  형법범  절도범          특수절도     성인   5662      0      0      0      0      0   \n",
       "22  형법범  절도범          특수절도     미상    129      0      0      0      0      0   \n",
       "23  형법범  절도범      특수절도(상습)    미성년      5      0      0      0      0      0   \n",
       "24  형법범  절도범      특수절도(상습)  14세미만      2      0      0      0      0      0   \n",
       "25  형법범  절도범      특수절도(상습)     성인      5      0      0      0      0      0   \n",
       "26  형법범  절도범          상습절도    미성년    130      0      0      0      0      0   \n",
       "27  형법범  절도범          상습절도  14세미만      5      0      0      0      0      0   \n",
       "28  형법범  절도범          상습절도     성인    146      0      0      0      0      0   \n",
       "29  형법범  절도범          상습절도     미상      1      0      0      0      0      0   \n",
       "\n",
       "    ...  2001년  2002년  2003년  2004년  2005년  2006년  2007년  2008년  2009년  2010년  \n",
       "0   ...  25188  26345  24208  23417  27367  30652  38143  36044  43549  37069  \n",
       "1   ...    425    702    412    602    723    923   1305    986    512    201  \n",
       "2   ...  34035  36962  37104  40590  42706  46600  53452  58546  79269  79148  \n",
       "3   ...    249    337    339   4391   2076   1763   1613   1728   3266   2893  \n",
       "4   ...      0      0      0      0      0      0      0      0      0      0  \n",
       "5   ...      0      0      0      0      0      0      0      0      0      0  \n",
       "6   ...      0      0      0      0      0      0      0      0      0      0  \n",
       "7   ...      0      0      0      0      0      0      0      0      0      0  \n",
       "8   ...      0      0      0      0      0      0      0      0      0      0  \n",
       "9   ...      0      0      0      0      0      0      0      0      0      0  \n",
       "10  ...      0      0      0      0      0      0      0      0      0      0  \n",
       "11  ...      0      0      0      0      0      0      0      0      0      0  \n",
       "12  ...      0      0      0      0      0      0      0      0      0      0  \n",
       "13  ...      0      0      0      0      0      0      0      0      0      0  \n",
       "14  ...      0      0      0      0      0      0      0      0      0      0  \n",
       "15  ...      0      0      0      0      0      0      0      0      0      0  \n",
       "16  ...      0      0      0      0      0      0      0      0      0      0  \n",
       "17  ...      0      0      0      0      0      0      0      0      0      0  \n",
       "18  ...      0      0      0      0      0      0      0      0      0      0  \n",
       "19  ...      0      0      0      0      0      0      0      0      0      0  \n",
       "20  ...      0      0      0      0      0      0      0      0      0      0  \n",
       "21  ...      0      0      0      0      0      0      0      0      0      0  \n",
       "22  ...      0      0      0      0      0      0      0      0      0      0  \n",
       "23  ...      0      0      0      0      0      0      0      0      0      0  \n",
       "24  ...      0      0      0      0      0      0      0      0      0      0  \n",
       "25  ...      0      0      0      0      0      0      0      0      0      0  \n",
       "26  ...      0      0      0      0      0      0      0      0      0      0  \n",
       "27  ...      0      0      0      0      0      0      0      0      0      0  \n",
       "28  ...      0      0      0      0      0      0      0      0      0      0  \n",
       "29  ...      0      0      0      0      0      0      0      0      0      0  \n",
       "\n",
       "[30 rows x 21 columns]"
      ]
     },
     "execution_count": 29,
     "metadata": {},
     "output_type": "execute_result"
    }
   ],
   "source": [
    "age_df = age_df_start[age_df_start[\"중\"] == \"절도범\"]\n",
    "age_df.reset_index(inplace=True, drop=True)\n",
    "age_df"
   ]
  },
  {
   "cell_type": "code",
   "execution_count": 30,
   "metadata": {},
   "outputs": [
    {
     "name": "stderr",
     "output_type": "stream",
     "text": [
      "/tmp/ipykernel_37862/3637754249.py:2: SettingWithCopyWarning:\n",
      "\n",
      "\n",
      "A value is trying to be set on a copy of a slice from a DataFrame\n",
      "\n",
      "See the caveats in the documentation: https://pandas.pydata.org/pandas-docs/stable/user_guide/indexing.html#returning-a-view-versus-a-copy\n",
      "\n"
     ]
    },
    {
     "data": {
      "text/html": [
       "<div>\n",
       "<style scoped>\n",
       "    .dataframe tbody tr th:only-of-type {\n",
       "        vertical-align: middle;\n",
       "    }\n",
       "\n",
       "    .dataframe tbody tr th {\n",
       "        vertical-align: top;\n",
       "    }\n",
       "\n",
       "    .dataframe thead th {\n",
       "        text-align: right;\n",
       "    }\n",
       "</style>\n",
       "<table border=\"1\" class=\"dataframe\">\n",
       "  <thead>\n",
       "    <tr style=\"text-align: right;\">\n",
       "      <th></th>\n",
       "      <th>중</th>\n",
       "      <th>소</th>\n",
       "      <th>연령별</th>\n",
       "      <th>1994년</th>\n",
       "      <th>1995년</th>\n",
       "      <th>1996년</th>\n",
       "      <th>1997년</th>\n",
       "      <th>1998년</th>\n",
       "      <th>1999년</th>\n",
       "      <th>2000년</th>\n",
       "      <th>2001년</th>\n",
       "      <th>2002년</th>\n",
       "      <th>2003년</th>\n",
       "      <th>2004년</th>\n",
       "      <th>2005년</th>\n",
       "      <th>2006년</th>\n",
       "      <th>2007년</th>\n",
       "      <th>2008년</th>\n",
       "      <th>2009년</th>\n",
       "      <th>2010년</th>\n",
       "    </tr>\n",
       "  </thead>\n",
       "  <tbody>\n",
       "    <tr>\n",
       "      <th>0</th>\n",
       "      <td>절도범</td>\n",
       "      <td>소계</td>\n",
       "      <td>미성년</td>\n",
       "      <td>29225</td>\n",
       "      <td>30181</td>\n",
       "      <td>31392</td>\n",
       "      <td>34201</td>\n",
       "      <td>41063</td>\n",
       "      <td>32898</td>\n",
       "      <td>32668</td>\n",
       "      <td>25188</td>\n",
       "      <td>26345</td>\n",
       "      <td>24208</td>\n",
       "      <td>23417</td>\n",
       "      <td>27367</td>\n",
       "      <td>30652</td>\n",
       "      <td>38143</td>\n",
       "      <td>36044</td>\n",
       "      <td>43549</td>\n",
       "      <td>37069</td>\n",
       "    </tr>\n",
       "    <tr>\n",
       "      <th>1</th>\n",
       "      <td>절도범</td>\n",
       "      <td>소계</td>\n",
       "      <td>14세미만</td>\n",
       "      <td>1130</td>\n",
       "      <td>906</td>\n",
       "      <td>878</td>\n",
       "      <td>731</td>\n",
       "      <td>598</td>\n",
       "      <td>453</td>\n",
       "      <td>477</td>\n",
       "      <td>425</td>\n",
       "      <td>702</td>\n",
       "      <td>412</td>\n",
       "      <td>602</td>\n",
       "      <td>723</td>\n",
       "      <td>923</td>\n",
       "      <td>1305</td>\n",
       "      <td>986</td>\n",
       "      <td>512</td>\n",
       "      <td>201</td>\n",
       "    </tr>\n",
       "    <tr>\n",
       "      <th>2</th>\n",
       "      <td>절도범</td>\n",
       "      <td>소계</td>\n",
       "      <td>성인</td>\n",
       "      <td>23863</td>\n",
       "      <td>21808</td>\n",
       "      <td>20573</td>\n",
       "      <td>21973</td>\n",
       "      <td>31970</td>\n",
       "      <td>33613</td>\n",
       "      <td>33112</td>\n",
       "      <td>34035</td>\n",
       "      <td>36962</td>\n",
       "      <td>37104</td>\n",
       "      <td>40590</td>\n",
       "      <td>42706</td>\n",
       "      <td>46600</td>\n",
       "      <td>53452</td>\n",
       "      <td>58546</td>\n",
       "      <td>79269</td>\n",
       "      <td>79148</td>\n",
       "    </tr>\n",
       "    <tr>\n",
       "      <th>3</th>\n",
       "      <td>절도범</td>\n",
       "      <td>소계</td>\n",
       "      <td>미상</td>\n",
       "      <td>283</td>\n",
       "      <td>31</td>\n",
       "      <td>65</td>\n",
       "      <td>116</td>\n",
       "      <td>161</td>\n",
       "      <td>300</td>\n",
       "      <td>302</td>\n",
       "      <td>249</td>\n",
       "      <td>337</td>\n",
       "      <td>339</td>\n",
       "      <td>4391</td>\n",
       "      <td>2076</td>\n",
       "      <td>1763</td>\n",
       "      <td>1613</td>\n",
       "      <td>1728</td>\n",
       "      <td>3266</td>\n",
       "      <td>2893</td>\n",
       "    </tr>\n",
       "  </tbody>\n",
       "</table>\n",
       "</div>"
      ],
      "text/plain": [
       "     중   소    연령별  1994년  1995년  1996년  1997년  1998년  1999년  2000년  2001년  \\\n",
       "0  절도범  소계    미성년  29225  30181  31392  34201  41063  32898  32668  25188   \n",
       "1  절도범  소계  14세미만   1130    906    878    731    598    453    477    425   \n",
       "2  절도범  소계     성인  23863  21808  20573  21973  31970  33613  33112  34035   \n",
       "3  절도범  소계     미상    283     31     65    116    161    300    302    249   \n",
       "\n",
       "   2002년  2003년  2004년  2005년  2006년  2007년  2008년  2009년  2010년  \n",
       "0  26345  24208  23417  27367  30652  38143  36044  43549  37069  \n",
       "1    702    412    602    723    923   1305    986    512    201  \n",
       "2  36962  37104  40590  42706  46600  53452  58546  79269  79148  \n",
       "3    337    339   4391   2076   1763   1613   1728   3266   2893  "
      ]
     },
     "execution_count": 30,
     "metadata": {},
     "output_type": "execute_result"
    }
   ],
   "source": [
    "age_df_total = age_df[age_df[\"소\"] == \"소계\"]\n",
    "age_df_total.drop(columns=\"대\", inplace=True)\n",
    "age_df_total.reset_index(inplace=True, drop=True)\n",
    "age_df_total"
   ]
  },
  {
   "cell_type": "code",
   "execution_count": 31,
   "metadata": {},
   "outputs": [
    {
     "data": {
      "application/vnd.plotly.v1+json": {
       "config": {
        "plotlyServerURL": "https://plot.ly"
       },
       "data": [
        {
         "hovertemplate": "연령별=미성년<br>년도=%{x}<br>발생건수=%{y}<extra></extra>",
         "legendgroup": "미성년",
         "line": {
          "color": "#636efa",
          "dash": "solid"
         },
         "marker": {
          "symbol": "circle"
         },
         "mode": "lines+markers",
         "name": "미성년",
         "orientation": "v",
         "showlegend": true,
         "type": "scatter",
         "x": [
          "1994년",
          "1995년",
          "1996년",
          "1997년",
          "1998년",
          "1999년",
          "2000년",
          "2001년",
          "2002년",
          "2003년",
          "2004년",
          "2005년",
          "2006년",
          "2007년",
          "2008년",
          "2009년",
          "2010년"
         ],
         "xaxis": "x",
         "y": [
          29225,
          30181,
          31392,
          34201,
          41063,
          32898,
          32668,
          25188,
          26345,
          24208,
          23417,
          27367,
          30652,
          38143,
          36044,
          43549,
          37069
         ],
         "yaxis": "y"
        },
        {
         "hovertemplate": "연령별=14세미만<br>년도=%{x}<br>발생건수=%{y}<extra></extra>",
         "legendgroup": "14세미만",
         "line": {
          "color": "#EF553B",
          "dash": "solid"
         },
         "marker": {
          "symbol": "circle"
         },
         "mode": "lines+markers",
         "name": "14세미만",
         "orientation": "v",
         "showlegend": true,
         "type": "scatter",
         "x": [
          "1994년",
          "1995년",
          "1996년",
          "1997년",
          "1998년",
          "1999년",
          "2000년",
          "2001년",
          "2002년",
          "2003년",
          "2004년",
          "2005년",
          "2006년",
          "2007년",
          "2008년",
          "2009년",
          "2010년"
         ],
         "xaxis": "x",
         "y": [
          1130,
          906,
          878,
          731,
          598,
          453,
          477,
          425,
          702,
          412,
          602,
          723,
          923,
          1305,
          986,
          512,
          201
         ],
         "yaxis": "y"
        },
        {
         "hovertemplate": "연령별=성인<br>년도=%{x}<br>발생건수=%{y}<extra></extra>",
         "legendgroup": "성인",
         "line": {
          "color": "#00cc96",
          "dash": "solid"
         },
         "marker": {
          "symbol": "circle"
         },
         "mode": "lines+markers",
         "name": "성인",
         "orientation": "v",
         "showlegend": true,
         "type": "scatter",
         "x": [
          "1994년",
          "1995년",
          "1996년",
          "1997년",
          "1998년",
          "1999년",
          "2000년",
          "2001년",
          "2002년",
          "2003년",
          "2004년",
          "2005년",
          "2006년",
          "2007년",
          "2008년",
          "2009년",
          "2010년"
         ],
         "xaxis": "x",
         "y": [
          23863,
          21808,
          20573,
          21973,
          31970,
          33613,
          33112,
          34035,
          36962,
          37104,
          40590,
          42706,
          46600,
          53452,
          58546,
          79269,
          79148
         ],
         "yaxis": "y"
        },
        {
         "hovertemplate": "연령별=미상<br>년도=%{x}<br>발생건수=%{y}<extra></extra>",
         "legendgroup": "미상",
         "line": {
          "color": "#ab63fa",
          "dash": "solid"
         },
         "marker": {
          "symbol": "circle"
         },
         "mode": "lines+markers",
         "name": "미상",
         "orientation": "v",
         "showlegend": true,
         "type": "scatter",
         "x": [
          "1994년",
          "1995년",
          "1996년",
          "1997년",
          "1998년",
          "1999년",
          "2000년",
          "2001년",
          "2002년",
          "2003년",
          "2004년",
          "2005년",
          "2006년",
          "2007년",
          "2008년",
          "2009년",
          "2010년"
         ],
         "xaxis": "x",
         "y": [
          283,
          31,
          65,
          116,
          161,
          300,
          302,
          249,
          337,
          339,
          4391,
          2076,
          1763,
          1613,
          1728,
          3266,
          2893
         ],
         "yaxis": "y"
        }
       ],
       "layout": {
        "legend": {
         "title": {
          "text": "연령별"
         },
         "tracegroupgap": 0
        },
        "template": {
         "data": {
          "bar": [
           {
            "error_x": {
             "color": "#2a3f5f"
            },
            "error_y": {
             "color": "#2a3f5f"
            },
            "marker": {
             "line": {
              "color": "#E5ECF6",
              "width": 0.5
             },
             "pattern": {
              "fillmode": "overlay",
              "size": 10,
              "solidity": 0.2
             }
            },
            "type": "bar"
           }
          ],
          "barpolar": [
           {
            "marker": {
             "line": {
              "color": "#E5ECF6",
              "width": 0.5
             },
             "pattern": {
              "fillmode": "overlay",
              "size": 10,
              "solidity": 0.2
             }
            },
            "type": "barpolar"
           }
          ],
          "carpet": [
           {
            "aaxis": {
             "endlinecolor": "#2a3f5f",
             "gridcolor": "white",
             "linecolor": "white",
             "minorgridcolor": "white",
             "startlinecolor": "#2a3f5f"
            },
            "baxis": {
             "endlinecolor": "#2a3f5f",
             "gridcolor": "white",
             "linecolor": "white",
             "minorgridcolor": "white",
             "startlinecolor": "#2a3f5f"
            },
            "type": "carpet"
           }
          ],
          "choropleth": [
           {
            "colorbar": {
             "outlinewidth": 0,
             "ticks": ""
            },
            "type": "choropleth"
           }
          ],
          "contour": [
           {
            "colorbar": {
             "outlinewidth": 0,
             "ticks": ""
            },
            "colorscale": [
             [
              0,
              "#0d0887"
             ],
             [
              0.1111111111111111,
              "#46039f"
             ],
             [
              0.2222222222222222,
              "#7201a8"
             ],
             [
              0.3333333333333333,
              "#9c179e"
             ],
             [
              0.4444444444444444,
              "#bd3786"
             ],
             [
              0.5555555555555556,
              "#d8576b"
             ],
             [
              0.6666666666666666,
              "#ed7953"
             ],
             [
              0.7777777777777778,
              "#fb9f3a"
             ],
             [
              0.8888888888888888,
              "#fdca26"
             ],
             [
              1,
              "#f0f921"
             ]
            ],
            "type": "contour"
           }
          ],
          "contourcarpet": [
           {
            "colorbar": {
             "outlinewidth": 0,
             "ticks": ""
            },
            "type": "contourcarpet"
           }
          ],
          "heatmap": [
           {
            "colorbar": {
             "outlinewidth": 0,
             "ticks": ""
            },
            "colorscale": [
             [
              0,
              "#0d0887"
             ],
             [
              0.1111111111111111,
              "#46039f"
             ],
             [
              0.2222222222222222,
              "#7201a8"
             ],
             [
              0.3333333333333333,
              "#9c179e"
             ],
             [
              0.4444444444444444,
              "#bd3786"
             ],
             [
              0.5555555555555556,
              "#d8576b"
             ],
             [
              0.6666666666666666,
              "#ed7953"
             ],
             [
              0.7777777777777778,
              "#fb9f3a"
             ],
             [
              0.8888888888888888,
              "#fdca26"
             ],
             [
              1,
              "#f0f921"
             ]
            ],
            "type": "heatmap"
           }
          ],
          "heatmapgl": [
           {
            "colorbar": {
             "outlinewidth": 0,
             "ticks": ""
            },
            "colorscale": [
             [
              0,
              "#0d0887"
             ],
             [
              0.1111111111111111,
              "#46039f"
             ],
             [
              0.2222222222222222,
              "#7201a8"
             ],
             [
              0.3333333333333333,
              "#9c179e"
             ],
             [
              0.4444444444444444,
              "#bd3786"
             ],
             [
              0.5555555555555556,
              "#d8576b"
             ],
             [
              0.6666666666666666,
              "#ed7953"
             ],
             [
              0.7777777777777778,
              "#fb9f3a"
             ],
             [
              0.8888888888888888,
              "#fdca26"
             ],
             [
              1,
              "#f0f921"
             ]
            ],
            "type": "heatmapgl"
           }
          ],
          "histogram": [
           {
            "marker": {
             "pattern": {
              "fillmode": "overlay",
              "size": 10,
              "solidity": 0.2
             }
            },
            "type": "histogram"
           }
          ],
          "histogram2d": [
           {
            "colorbar": {
             "outlinewidth": 0,
             "ticks": ""
            },
            "colorscale": [
             [
              0,
              "#0d0887"
             ],
             [
              0.1111111111111111,
              "#46039f"
             ],
             [
              0.2222222222222222,
              "#7201a8"
             ],
             [
              0.3333333333333333,
              "#9c179e"
             ],
             [
              0.4444444444444444,
              "#bd3786"
             ],
             [
              0.5555555555555556,
              "#d8576b"
             ],
             [
              0.6666666666666666,
              "#ed7953"
             ],
             [
              0.7777777777777778,
              "#fb9f3a"
             ],
             [
              0.8888888888888888,
              "#fdca26"
             ],
             [
              1,
              "#f0f921"
             ]
            ],
            "type": "histogram2d"
           }
          ],
          "histogram2dcontour": [
           {
            "colorbar": {
             "outlinewidth": 0,
             "ticks": ""
            },
            "colorscale": [
             [
              0,
              "#0d0887"
             ],
             [
              0.1111111111111111,
              "#46039f"
             ],
             [
              0.2222222222222222,
              "#7201a8"
             ],
             [
              0.3333333333333333,
              "#9c179e"
             ],
             [
              0.4444444444444444,
              "#bd3786"
             ],
             [
              0.5555555555555556,
              "#d8576b"
             ],
             [
              0.6666666666666666,
              "#ed7953"
             ],
             [
              0.7777777777777778,
              "#fb9f3a"
             ],
             [
              0.8888888888888888,
              "#fdca26"
             ],
             [
              1,
              "#f0f921"
             ]
            ],
            "type": "histogram2dcontour"
           }
          ],
          "mesh3d": [
           {
            "colorbar": {
             "outlinewidth": 0,
             "ticks": ""
            },
            "type": "mesh3d"
           }
          ],
          "parcoords": [
           {
            "line": {
             "colorbar": {
              "outlinewidth": 0,
              "ticks": ""
             }
            },
            "type": "parcoords"
           }
          ],
          "pie": [
           {
            "automargin": true,
            "type": "pie"
           }
          ],
          "scatter": [
           {
            "fillpattern": {
             "fillmode": "overlay",
             "size": 10,
             "solidity": 0.2
            },
            "type": "scatter"
           }
          ],
          "scatter3d": [
           {
            "line": {
             "colorbar": {
              "outlinewidth": 0,
              "ticks": ""
             }
            },
            "marker": {
             "colorbar": {
              "outlinewidth": 0,
              "ticks": ""
             }
            },
            "type": "scatter3d"
           }
          ],
          "scattercarpet": [
           {
            "marker": {
             "colorbar": {
              "outlinewidth": 0,
              "ticks": ""
             }
            },
            "type": "scattercarpet"
           }
          ],
          "scattergeo": [
           {
            "marker": {
             "colorbar": {
              "outlinewidth": 0,
              "ticks": ""
             }
            },
            "type": "scattergeo"
           }
          ],
          "scattergl": [
           {
            "marker": {
             "colorbar": {
              "outlinewidth": 0,
              "ticks": ""
             }
            },
            "type": "scattergl"
           }
          ],
          "scattermapbox": [
           {
            "marker": {
             "colorbar": {
              "outlinewidth": 0,
              "ticks": ""
             }
            },
            "type": "scattermapbox"
           }
          ],
          "scatterpolar": [
           {
            "marker": {
             "colorbar": {
              "outlinewidth": 0,
              "ticks": ""
             }
            },
            "type": "scatterpolar"
           }
          ],
          "scatterpolargl": [
           {
            "marker": {
             "colorbar": {
              "outlinewidth": 0,
              "ticks": ""
             }
            },
            "type": "scatterpolargl"
           }
          ],
          "scatterternary": [
           {
            "marker": {
             "colorbar": {
              "outlinewidth": 0,
              "ticks": ""
             }
            },
            "type": "scatterternary"
           }
          ],
          "surface": [
           {
            "colorbar": {
             "outlinewidth": 0,
             "ticks": ""
            },
            "colorscale": [
             [
              0,
              "#0d0887"
             ],
             [
              0.1111111111111111,
              "#46039f"
             ],
             [
              0.2222222222222222,
              "#7201a8"
             ],
             [
              0.3333333333333333,
              "#9c179e"
             ],
             [
              0.4444444444444444,
              "#bd3786"
             ],
             [
              0.5555555555555556,
              "#d8576b"
             ],
             [
              0.6666666666666666,
              "#ed7953"
             ],
             [
              0.7777777777777778,
              "#fb9f3a"
             ],
             [
              0.8888888888888888,
              "#fdca26"
             ],
             [
              1,
              "#f0f921"
             ]
            ],
            "type": "surface"
           }
          ],
          "table": [
           {
            "cells": {
             "fill": {
              "color": "#EBF0F8"
             },
             "line": {
              "color": "white"
             }
            },
            "header": {
             "fill": {
              "color": "#C8D4E3"
             },
             "line": {
              "color": "white"
             }
            },
            "type": "table"
           }
          ]
         },
         "layout": {
          "annotationdefaults": {
           "arrowcolor": "#2a3f5f",
           "arrowhead": 0,
           "arrowwidth": 1
          },
          "autotypenumbers": "strict",
          "coloraxis": {
           "colorbar": {
            "outlinewidth": 0,
            "ticks": ""
           }
          },
          "colorscale": {
           "diverging": [
            [
             0,
             "#8e0152"
            ],
            [
             0.1,
             "#c51b7d"
            ],
            [
             0.2,
             "#de77ae"
            ],
            [
             0.3,
             "#f1b6da"
            ],
            [
             0.4,
             "#fde0ef"
            ],
            [
             0.5,
             "#f7f7f7"
            ],
            [
             0.6,
             "#e6f5d0"
            ],
            [
             0.7,
             "#b8e186"
            ],
            [
             0.8,
             "#7fbc41"
            ],
            [
             0.9,
             "#4d9221"
            ],
            [
             1,
             "#276419"
            ]
           ],
           "sequential": [
            [
             0,
             "#0d0887"
            ],
            [
             0.1111111111111111,
             "#46039f"
            ],
            [
             0.2222222222222222,
             "#7201a8"
            ],
            [
             0.3333333333333333,
             "#9c179e"
            ],
            [
             0.4444444444444444,
             "#bd3786"
            ],
            [
             0.5555555555555556,
             "#d8576b"
            ],
            [
             0.6666666666666666,
             "#ed7953"
            ],
            [
             0.7777777777777778,
             "#fb9f3a"
            ],
            [
             0.8888888888888888,
             "#fdca26"
            ],
            [
             1,
             "#f0f921"
            ]
           ],
           "sequentialminus": [
            [
             0,
             "#0d0887"
            ],
            [
             0.1111111111111111,
             "#46039f"
            ],
            [
             0.2222222222222222,
             "#7201a8"
            ],
            [
             0.3333333333333333,
             "#9c179e"
            ],
            [
             0.4444444444444444,
             "#bd3786"
            ],
            [
             0.5555555555555556,
             "#d8576b"
            ],
            [
             0.6666666666666666,
             "#ed7953"
            ],
            [
             0.7777777777777778,
             "#fb9f3a"
            ],
            [
             0.8888888888888888,
             "#fdca26"
            ],
            [
             1,
             "#f0f921"
            ]
           ]
          },
          "colorway": [
           "#636efa",
           "#EF553B",
           "#00cc96",
           "#ab63fa",
           "#FFA15A",
           "#19d3f3",
           "#FF6692",
           "#B6E880",
           "#FF97FF",
           "#FECB52"
          ],
          "font": {
           "color": "#2a3f5f"
          },
          "geo": {
           "bgcolor": "white",
           "lakecolor": "white",
           "landcolor": "#E5ECF6",
           "showlakes": true,
           "showland": true,
           "subunitcolor": "white"
          },
          "hoverlabel": {
           "align": "left"
          },
          "hovermode": "closest",
          "mapbox": {
           "style": "light"
          },
          "paper_bgcolor": "white",
          "plot_bgcolor": "#E5ECF6",
          "polar": {
           "angularaxis": {
            "gridcolor": "white",
            "linecolor": "white",
            "ticks": ""
           },
           "bgcolor": "#E5ECF6",
           "radialaxis": {
            "gridcolor": "white",
            "linecolor": "white",
            "ticks": ""
           }
          },
          "scene": {
           "xaxis": {
            "backgroundcolor": "#E5ECF6",
            "gridcolor": "white",
            "gridwidth": 2,
            "linecolor": "white",
            "showbackground": true,
            "ticks": "",
            "zerolinecolor": "white"
           },
           "yaxis": {
            "backgroundcolor": "#E5ECF6",
            "gridcolor": "white",
            "gridwidth": 2,
            "linecolor": "white",
            "showbackground": true,
            "ticks": "",
            "zerolinecolor": "white"
           },
           "zaxis": {
            "backgroundcolor": "#E5ECF6",
            "gridcolor": "white",
            "gridwidth": 2,
            "linecolor": "white",
            "showbackground": true,
            "ticks": "",
            "zerolinecolor": "white"
           }
          },
          "shapedefaults": {
           "line": {
            "color": "#2a3f5f"
           }
          },
          "ternary": {
           "aaxis": {
            "gridcolor": "white",
            "linecolor": "white",
            "ticks": ""
           },
           "baxis": {
            "gridcolor": "white",
            "linecolor": "white",
            "ticks": ""
           },
           "bgcolor": "#E5ECF6",
           "caxis": {
            "gridcolor": "white",
            "linecolor": "white",
            "ticks": ""
           }
          },
          "title": {
           "x": 0.05
          },
          "xaxis": {
           "automargin": true,
           "gridcolor": "white",
           "linecolor": "white",
           "ticks": "",
           "title": {
            "standoff": 15
           },
           "zerolinecolor": "white",
           "zerolinewidth": 2
          },
          "yaxis": {
           "automargin": true,
           "gridcolor": "white",
           "linecolor": "white",
           "ticks": "",
           "title": {
            "standoff": 15
           },
           "zerolinecolor": "white",
           "zerolinewidth": 2
          }
         }
        },
        "title": {
         "text": "[ 연령별 발생한 절도범 건수 ]"
        },
        "xaxis": {
         "anchor": "y",
         "domain": [
          0,
          1
         ],
         "title": {
          "text": "년도"
         }
        },
        "yaxis": {
         "anchor": "x",
         "domain": [
          0,
          1
         ],
         "title": {
          "text": "발생건수"
         }
        }
       }
      }
     },
     "metadata": {},
     "output_type": "display_data"
    }
   ],
   "source": [
    "df_melted = age_df_total.melt(id_vars=[\"중\", \"소\", \"연령별\"], var_name=\"년도\", value_name=\"발생건수\")\n",
    "\n",
    "fig = px.line(df_melted, x=\"년도\", y=\"발생건수\", color=\"연령별\", title=\"[ 연령별 발생한 절도범 건수 ]\", markers=True)\n",
    "fig.show()"
   ]
  },
  {
   "cell_type": "markdown",
   "metadata": {},
   "source": [
    "##### [ 범죄동기 ]"
   ]
  },
  {
   "cell_type": "code",
   "execution_count": 32,
   "metadata": {},
   "outputs": [
    {
     "data": {
      "text/html": [
       "<div>\n",
       "<style scoped>\n",
       "    .dataframe tbody tr th:only-of-type {\n",
       "        vertical-align: middle;\n",
       "    }\n",
       "\n",
       "    .dataframe tbody tr th {\n",
       "        vertical-align: top;\n",
       "    }\n",
       "\n",
       "    .dataframe thead th {\n",
       "        text-align: right;\n",
       "    }\n",
       "</style>\n",
       "<table border=\"1\" class=\"dataframe\">\n",
       "  <thead>\n",
       "    <tr style=\"text-align: right;\">\n",
       "      <th></th>\n",
       "      <th>대</th>\n",
       "      <th>중</th>\n",
       "      <th>소</th>\n",
       "      <th>범행동기</th>\n",
       "      <th>1994년</th>\n",
       "      <th>1995년</th>\n",
       "      <th>1996년</th>\n",
       "      <th>1997년</th>\n",
       "      <th>1998년</th>\n",
       "      <th>1999년</th>\n",
       "      <th>...</th>\n",
       "      <th>2001년</th>\n",
       "      <th>2002년</th>\n",
       "      <th>2003년</th>\n",
       "      <th>2004년</th>\n",
       "      <th>2005년</th>\n",
       "      <th>2006년</th>\n",
       "      <th>2007년</th>\n",
       "      <th>2008년</th>\n",
       "      <th>2009년</th>\n",
       "      <th>2010년</th>\n",
       "    </tr>\n",
       "  </thead>\n",
       "  <tbody>\n",
       "    <tr>\n",
       "      <th>0</th>\n",
       "      <td>총범죄</td>\n",
       "      <td>소계</td>\n",
       "      <td>소계</td>\n",
       "      <td>이욕</td>\n",
       "      <td>184442</td>\n",
       "      <td>187138</td>\n",
       "      <td>191339</td>\n",
       "      <td>185785</td>\n",
       "      <td>226853</td>\n",
       "      <td>241986</td>\n",
       "      <td>...</td>\n",
       "      <td>220235</td>\n",
       "      <td>213188</td>\n",
       "      <td>217442</td>\n",
       "      <td>83540</td>\n",
       "      <td>73513</td>\n",
       "      <td>79960</td>\n",
       "      <td>83286</td>\n",
       "      <td>102075</td>\n",
       "      <td>124558</td>\n",
       "      <td>290974</td>\n",
       "    </tr>\n",
       "    <tr>\n",
       "      <th>1</th>\n",
       "      <td>총범죄</td>\n",
       "      <td>소계</td>\n",
       "      <td>소계</td>\n",
       "      <td>사행심</td>\n",
       "      <td>18824</td>\n",
       "      <td>20298</td>\n",
       "      <td>21047</td>\n",
       "      <td>21898</td>\n",
       "      <td>21103</td>\n",
       "      <td>21500</td>\n",
       "      <td>...</td>\n",
       "      <td>13858</td>\n",
       "      <td>20796</td>\n",
       "      <td>16405</td>\n",
       "      <td>26061</td>\n",
       "      <td>22196</td>\n",
       "      <td>31133</td>\n",
       "      <td>26597</td>\n",
       "      <td>31240</td>\n",
       "      <td>42330</td>\n",
       "      <td>562</td>\n",
       "    </tr>\n",
       "    <tr>\n",
       "      <th>2</th>\n",
       "      <td>총범죄</td>\n",
       "      <td>소계</td>\n",
       "      <td>소계</td>\n",
       "      <td>보복</td>\n",
       "      <td>6123</td>\n",
       "      <td>4789</td>\n",
       "      <td>4711</td>\n",
       "      <td>5733</td>\n",
       "      <td>5129</td>\n",
       "      <td>5323</td>\n",
       "      <td>...</td>\n",
       "      <td>4881</td>\n",
       "      <td>4264</td>\n",
       "      <td>3347</td>\n",
       "      <td>5543</td>\n",
       "      <td>4781</td>\n",
       "      <td>4421</td>\n",
       "      <td>4438</td>\n",
       "      <td>2081</td>\n",
       "      <td>1432</td>\n",
       "      <td>26164</td>\n",
       "    </tr>\n",
       "    <tr>\n",
       "      <th>3</th>\n",
       "      <td>총범죄</td>\n",
       "      <td>소계</td>\n",
       "      <td>소계</td>\n",
       "      <td>가정불화</td>\n",
       "      <td>5820</td>\n",
       "      <td>4479</td>\n",
       "      <td>4340</td>\n",
       "      <td>3679</td>\n",
       "      <td>6131</td>\n",
       "      <td>11404</td>\n",
       "      <td>...</td>\n",
       "      <td>12076</td>\n",
       "      <td>9976</td>\n",
       "      <td>10686</td>\n",
       "      <td>10636</td>\n",
       "      <td>8693</td>\n",
       "      <td>7890</td>\n",
       "      <td>7286</td>\n",
       "      <td>5469</td>\n",
       "      <td>4159</td>\n",
       "      <td>5348</td>\n",
       "    </tr>\n",
       "    <tr>\n",
       "      <th>4</th>\n",
       "      <td>총범죄</td>\n",
       "      <td>소계</td>\n",
       "      <td>소계</td>\n",
       "      <td>호기심</td>\n",
       "      <td>15272</td>\n",
       "      <td>17840</td>\n",
       "      <td>26890</td>\n",
       "      <td>32307</td>\n",
       "      <td>24490</td>\n",
       "      <td>14962</td>\n",
       "      <td>...</td>\n",
       "      <td>17429</td>\n",
       "      <td>17110</td>\n",
       "      <td>13504</td>\n",
       "      <td>15828</td>\n",
       "      <td>17762</td>\n",
       "      <td>25468</td>\n",
       "      <td>30557</td>\n",
       "      <td>33906</td>\n",
       "      <td>49894</td>\n",
       "      <td>25851</td>\n",
       "    </tr>\n",
       "    <tr>\n",
       "      <th>...</th>\n",
       "      <td>...</td>\n",
       "      <td>...</td>\n",
       "      <td>...</td>\n",
       "      <td>...</td>\n",
       "      <td>...</td>\n",
       "      <td>...</td>\n",
       "      <td>...</td>\n",
       "      <td>...</td>\n",
       "      <td>...</td>\n",
       "      <td>...</td>\n",
       "      <td>...</td>\n",
       "      <td>...</td>\n",
       "      <td>...</td>\n",
       "      <td>...</td>\n",
       "      <td>...</td>\n",
       "      <td>...</td>\n",
       "      <td>...</td>\n",
       "      <td>...</td>\n",
       "      <td>...</td>\n",
       "      <td>...</td>\n",
       "      <td>...</td>\n",
       "    </tr>\n",
       "    <tr>\n",
       "      <th>2174</th>\n",
       "      <td>특별법범</td>\n",
       "      <td>기타특별법</td>\n",
       "      <td>소계</td>\n",
       "      <td>유혹</td>\n",
       "      <td>64</td>\n",
       "      <td>57</td>\n",
       "      <td>36</td>\n",
       "      <td>64</td>\n",
       "      <td>52</td>\n",
       "      <td>356</td>\n",
       "      <td>...</td>\n",
       "      <td>1594</td>\n",
       "      <td>1337</td>\n",
       "      <td>1167</td>\n",
       "      <td>69</td>\n",
       "      <td>36</td>\n",
       "      <td>51</td>\n",
       "      <td>101</td>\n",
       "      <td>301</td>\n",
       "      <td>382</td>\n",
       "      <td>211</td>\n",
       "    </tr>\n",
       "    <tr>\n",
       "      <th>2175</th>\n",
       "      <td>특별법범</td>\n",
       "      <td>기타특별법</td>\n",
       "      <td>소계</td>\n",
       "      <td>우발적</td>\n",
       "      <td>169</td>\n",
       "      <td>283</td>\n",
       "      <td>346</td>\n",
       "      <td>506</td>\n",
       "      <td>371</td>\n",
       "      <td>760</td>\n",
       "      <td>...</td>\n",
       "      <td>13263</td>\n",
       "      <td>23018</td>\n",
       "      <td>22295</td>\n",
       "      <td>526</td>\n",
       "      <td>243</td>\n",
       "      <td>328</td>\n",
       "      <td>334</td>\n",
       "      <td>581</td>\n",
       "      <td>1093</td>\n",
       "      <td>766</td>\n",
       "    </tr>\n",
       "    <tr>\n",
       "      <th>2176</th>\n",
       "      <td>특별법범</td>\n",
       "      <td>기타특별법</td>\n",
       "      <td>소계</td>\n",
       "      <td>현실불만</td>\n",
       "      <td>24</td>\n",
       "      <td>35</td>\n",
       "      <td>46</td>\n",
       "      <td>108</td>\n",
       "      <td>132</td>\n",
       "      <td>129</td>\n",
       "      <td>...</td>\n",
       "      <td>282</td>\n",
       "      <td>382</td>\n",
       "      <td>680</td>\n",
       "      <td>221</td>\n",
       "      <td>105</td>\n",
       "      <td>42</td>\n",
       "      <td>67</td>\n",
       "      <td>69</td>\n",
       "      <td>99</td>\n",
       "      <td>97</td>\n",
       "    </tr>\n",
       "    <tr>\n",
       "      <th>2177</th>\n",
       "      <td>특별법범</td>\n",
       "      <td>기타특별법</td>\n",
       "      <td>소계</td>\n",
       "      <td>부주의</td>\n",
       "      <td>1491</td>\n",
       "      <td>2554</td>\n",
       "      <td>2296</td>\n",
       "      <td>4108</td>\n",
       "      <td>3243</td>\n",
       "      <td>5753</td>\n",
       "      <td>...</td>\n",
       "      <td>45962</td>\n",
       "      <td>58749</td>\n",
       "      <td>84826</td>\n",
       "      <td>1632</td>\n",
       "      <td>1227</td>\n",
       "      <td>1381</td>\n",
       "      <td>1539</td>\n",
       "      <td>2960</td>\n",
       "      <td>3911</td>\n",
       "      <td>3857</td>\n",
       "    </tr>\n",
       "    <tr>\n",
       "      <th>2178</th>\n",
       "      <td>특별법범</td>\n",
       "      <td>기타특별법</td>\n",
       "      <td>소계</td>\n",
       "      <td>기타</td>\n",
       "      <td>8654</td>\n",
       "      <td>11396</td>\n",
       "      <td>11040</td>\n",
       "      <td>15324</td>\n",
       "      <td>15635</td>\n",
       "      <td>25464</td>\n",
       "      <td>...</td>\n",
       "      <td>95634</td>\n",
       "      <td>137307</td>\n",
       "      <td>156443</td>\n",
       "      <td>14532</td>\n",
       "      <td>12544</td>\n",
       "      <td>14284</td>\n",
       "      <td>15790</td>\n",
       "      <td>24456</td>\n",
       "      <td>32458</td>\n",
       "      <td>23909</td>\n",
       "    </tr>\n",
       "  </tbody>\n",
       "</table>\n",
       "<p>2179 rows × 21 columns</p>\n",
       "</div>"
      ],
      "text/plain": [
       "         대      중   소  범행동기   1994년   1995년   1996년   1997년   1998년   1999년  \\\n",
       "0      총범죄     소계  소계    이욕  184442  187138  191339  185785  226853  241986   \n",
       "1      총범죄     소계  소계   사행심   18824   20298   21047   21898   21103   21500   \n",
       "2      총범죄     소계  소계    보복    6123    4789    4711    5733    5129    5323   \n",
       "3      총범죄     소계  소계  가정불화    5820    4479    4340    3679    6131   11404   \n",
       "4      총범죄     소계  소계   호기심   15272   17840   26890   32307   24490   14962   \n",
       "...    ...    ...  ..   ...     ...     ...     ...     ...     ...     ...   \n",
       "2174  특별법범  기타특별법  소계    유혹      64      57      36      64      52     356   \n",
       "2175  특별법범  기타특별법  소계   우발적     169     283     346     506     371     760   \n",
       "2176  특별법범  기타특별법  소계  현실불만      24      35      46     108     132     129   \n",
       "2177  특별법범  기타특별법  소계   부주의    1491    2554    2296    4108    3243    5753   \n",
       "2178  특별법범  기타특별법  소계    기타    8654   11396   11040   15324   15635   25464   \n",
       "\n",
       "      ...   2001년   2002년   2003년  2004년  2005년  2006년  2007년   2008년   2009년  \\\n",
       "0     ...  220235  213188  217442  83540  73513  79960  83286  102075  124558   \n",
       "1     ...   13858   20796   16405  26061  22196  31133  26597   31240   42330   \n",
       "2     ...    4881    4264    3347   5543   4781   4421   4438    2081    1432   \n",
       "3     ...   12076    9976   10686  10636   8693   7890   7286    5469    4159   \n",
       "4     ...   17429   17110   13504  15828  17762  25468  30557   33906   49894   \n",
       "...   ...     ...     ...     ...    ...    ...    ...    ...     ...     ...   \n",
       "2174  ...    1594    1337    1167     69     36     51    101     301     382   \n",
       "2175  ...   13263   23018   22295    526    243    328    334     581    1093   \n",
       "2176  ...     282     382     680    221    105     42     67      69      99   \n",
       "2177  ...   45962   58749   84826   1632   1227   1381   1539    2960    3911   \n",
       "2178  ...   95634  137307  156443  14532  12544  14284  15790   24456   32458   \n",
       "\n",
       "       2010년  \n",
       "0     290974  \n",
       "1        562  \n",
       "2      26164  \n",
       "3       5348  \n",
       "4      25851  \n",
       "...      ...  \n",
       "2174     211  \n",
       "2175     766  \n",
       "2176      97  \n",
       "2177    3857  \n",
       "2178   23909  \n",
       "\n",
       "[2179 rows x 21 columns]"
      ]
     },
     "execution_count": 32,
     "metadata": {},
     "output_type": "execute_result"
    }
   ],
   "source": [
    "cursor.execute(\"select * from crime_motive_before\")\n",
    "\n",
    "motive = cursor.fetchall()\n",
    "motive_df_start = pd.DataFrame(motive)\n",
    "motive_df_start"
   ]
  },
  {
   "cell_type": "code",
   "execution_count": 33,
   "metadata": {},
   "outputs": [
    {
     "data": {
      "text/html": [
       "<div>\n",
       "<style scoped>\n",
       "    .dataframe tbody tr th:only-of-type {\n",
       "        vertical-align: middle;\n",
       "    }\n",
       "\n",
       "    .dataframe tbody tr th {\n",
       "        vertical-align: top;\n",
       "    }\n",
       "\n",
       "    .dataframe thead th {\n",
       "        text-align: right;\n",
       "    }\n",
       "</style>\n",
       "<table border=\"1\" class=\"dataframe\">\n",
       "  <thead>\n",
       "    <tr style=\"text-align: right;\">\n",
       "      <th></th>\n",
       "      <th>대</th>\n",
       "      <th>중</th>\n",
       "      <th>소</th>\n",
       "      <th>범행동기</th>\n",
       "      <th>1994년</th>\n",
       "      <th>1995년</th>\n",
       "      <th>1996년</th>\n",
       "      <th>1997년</th>\n",
       "      <th>1998년</th>\n",
       "      <th>1999년</th>\n",
       "      <th>...</th>\n",
       "      <th>2001년</th>\n",
       "      <th>2002년</th>\n",
       "      <th>2003년</th>\n",
       "      <th>2004년</th>\n",
       "      <th>2005년</th>\n",
       "      <th>2006년</th>\n",
       "      <th>2007년</th>\n",
       "      <th>2008년</th>\n",
       "      <th>2009년</th>\n",
       "      <th>2010년</th>\n",
       "    </tr>\n",
       "  </thead>\n",
       "  <tbody>\n",
       "    <tr>\n",
       "      <th>0</th>\n",
       "      <td>형법범</td>\n",
       "      <td>절도범</td>\n",
       "      <td>소계</td>\n",
       "      <td>이욕</td>\n",
       "      <td>22267</td>\n",
       "      <td>20148</td>\n",
       "      <td>19751</td>\n",
       "      <td>20335</td>\n",
       "      <td>28156</td>\n",
       "      <td>27224</td>\n",
       "      <td>...</td>\n",
       "      <td>24623</td>\n",
       "      <td>25769</td>\n",
       "      <td>23964</td>\n",
       "      <td>12746</td>\n",
       "      <td>13015</td>\n",
       "      <td>13012</td>\n",
       "      <td>15196</td>\n",
       "      <td>17350</td>\n",
       "      <td>21761</td>\n",
       "      <td>36131</td>\n",
       "    </tr>\n",
       "    <tr>\n",
       "      <th>1</th>\n",
       "      <td>형법범</td>\n",
       "      <td>절도범</td>\n",
       "      <td>소계</td>\n",
       "      <td>사행심</td>\n",
       "      <td>1002</td>\n",
       "      <td>859</td>\n",
       "      <td>854</td>\n",
       "      <td>944</td>\n",
       "      <td>974</td>\n",
       "      <td>887</td>\n",
       "      <td>...</td>\n",
       "      <td>822</td>\n",
       "      <td>623</td>\n",
       "      <td>512</td>\n",
       "      <td>1225</td>\n",
       "      <td>1510</td>\n",
       "      <td>1659</td>\n",
       "      <td>1618</td>\n",
       "      <td>2078</td>\n",
       "      <td>3424</td>\n",
       "      <td>10</td>\n",
       "    </tr>\n",
       "    <tr>\n",
       "      <th>2</th>\n",
       "      <td>형법범</td>\n",
       "      <td>절도범</td>\n",
       "      <td>소계</td>\n",
       "      <td>보복</td>\n",
       "      <td>107</td>\n",
       "      <td>88</td>\n",
       "      <td>71</td>\n",
       "      <td>86</td>\n",
       "      <td>112</td>\n",
       "      <td>116</td>\n",
       "      <td>...</td>\n",
       "      <td>98</td>\n",
       "      <td>91</td>\n",
       "      <td>95</td>\n",
       "      <td>97</td>\n",
       "      <td>107</td>\n",
       "      <td>111</td>\n",
       "      <td>118</td>\n",
       "      <td>7</td>\n",
       "      <td>24</td>\n",
       "      <td>2023</td>\n",
       "    </tr>\n",
       "    <tr>\n",
       "      <th>3</th>\n",
       "      <td>형법범</td>\n",
       "      <td>절도범</td>\n",
       "      <td>소계</td>\n",
       "      <td>가정불화</td>\n",
       "      <td>101</td>\n",
       "      <td>90</td>\n",
       "      <td>57</td>\n",
       "      <td>45</td>\n",
       "      <td>65</td>\n",
       "      <td>82</td>\n",
       "      <td>...</td>\n",
       "      <td>67</td>\n",
       "      <td>74</td>\n",
       "      <td>61</td>\n",
       "      <td>78</td>\n",
       "      <td>90</td>\n",
       "      <td>102</td>\n",
       "      <td>95</td>\n",
       "      <td>56</td>\n",
       "      <td>57</td>\n",
       "      <td>75</td>\n",
       "    </tr>\n",
       "    <tr>\n",
       "      <th>4</th>\n",
       "      <td>형법범</td>\n",
       "      <td>절도범</td>\n",
       "      <td>소계</td>\n",
       "      <td>호기심</td>\n",
       "      <td>6020</td>\n",
       "      <td>7301</td>\n",
       "      <td>7701</td>\n",
       "      <td>8924</td>\n",
       "      <td>9011</td>\n",
       "      <td>6187</td>\n",
       "      <td>...</td>\n",
       "      <td>5003</td>\n",
       "      <td>6226</td>\n",
       "      <td>6061</td>\n",
       "      <td>7232</td>\n",
       "      <td>8563</td>\n",
       "      <td>9763</td>\n",
       "      <td>10952</td>\n",
       "      <td>9430</td>\n",
       "      <td>9420</td>\n",
       "      <td>8058</td>\n",
       "    </tr>\n",
       "    <tr>\n",
       "      <th>...</th>\n",
       "      <td>...</td>\n",
       "      <td>...</td>\n",
       "      <td>...</td>\n",
       "      <td>...</td>\n",
       "      <td>...</td>\n",
       "      <td>...</td>\n",
       "      <td>...</td>\n",
       "      <td>...</td>\n",
       "      <td>...</td>\n",
       "      <td>...</td>\n",
       "      <td>...</td>\n",
       "      <td>...</td>\n",
       "      <td>...</td>\n",
       "      <td>...</td>\n",
       "      <td>...</td>\n",
       "      <td>...</td>\n",
       "      <td>...</td>\n",
       "      <td>...</td>\n",
       "      <td>...</td>\n",
       "      <td>...</td>\n",
       "      <td>...</td>\n",
       "    </tr>\n",
       "    <tr>\n",
       "      <th>58</th>\n",
       "      <td>형법범</td>\n",
       "      <td>절도범</td>\n",
       "      <td>상습절도</td>\n",
       "      <td>호기심</td>\n",
       "      <td>9</td>\n",
       "      <td>0</td>\n",
       "      <td>0</td>\n",
       "      <td>0</td>\n",
       "      <td>0</td>\n",
       "      <td>0</td>\n",
       "      <td>...</td>\n",
       "      <td>0</td>\n",
       "      <td>0</td>\n",
       "      <td>0</td>\n",
       "      <td>0</td>\n",
       "      <td>0</td>\n",
       "      <td>0</td>\n",
       "      <td>0</td>\n",
       "      <td>0</td>\n",
       "      <td>0</td>\n",
       "      <td>0</td>\n",
       "    </tr>\n",
       "    <tr>\n",
       "      <th>59</th>\n",
       "      <td>형법범</td>\n",
       "      <td>절도범</td>\n",
       "      <td>상습절도</td>\n",
       "      <td>유혹</td>\n",
       "      <td>4</td>\n",
       "      <td>0</td>\n",
       "      <td>0</td>\n",
       "      <td>0</td>\n",
       "      <td>0</td>\n",
       "      <td>0</td>\n",
       "      <td>...</td>\n",
       "      <td>0</td>\n",
       "      <td>0</td>\n",
       "      <td>0</td>\n",
       "      <td>0</td>\n",
       "      <td>0</td>\n",
       "      <td>0</td>\n",
       "      <td>0</td>\n",
       "      <td>0</td>\n",
       "      <td>0</td>\n",
       "      <td>0</td>\n",
       "    </tr>\n",
       "    <tr>\n",
       "      <th>60</th>\n",
       "      <td>형법범</td>\n",
       "      <td>절도범</td>\n",
       "      <td>상습절도</td>\n",
       "      <td>우발적</td>\n",
       "      <td>16</td>\n",
       "      <td>0</td>\n",
       "      <td>0</td>\n",
       "      <td>0</td>\n",
       "      <td>0</td>\n",
       "      <td>0</td>\n",
       "      <td>...</td>\n",
       "      <td>0</td>\n",
       "      <td>0</td>\n",
       "      <td>0</td>\n",
       "      <td>0</td>\n",
       "      <td>0</td>\n",
       "      <td>0</td>\n",
       "      <td>0</td>\n",
       "      <td>0</td>\n",
       "      <td>0</td>\n",
       "      <td>0</td>\n",
       "    </tr>\n",
       "    <tr>\n",
       "      <th>61</th>\n",
       "      <td>형법범</td>\n",
       "      <td>절도범</td>\n",
       "      <td>상습절도</td>\n",
       "      <td>부주의</td>\n",
       "      <td>2</td>\n",
       "      <td>0</td>\n",
       "      <td>0</td>\n",
       "      <td>0</td>\n",
       "      <td>0</td>\n",
       "      <td>0</td>\n",
       "      <td>...</td>\n",
       "      <td>0</td>\n",
       "      <td>0</td>\n",
       "      <td>0</td>\n",
       "      <td>0</td>\n",
       "      <td>0</td>\n",
       "      <td>0</td>\n",
       "      <td>0</td>\n",
       "      <td>0</td>\n",
       "      <td>0</td>\n",
       "      <td>0</td>\n",
       "    </tr>\n",
       "    <tr>\n",
       "      <th>62</th>\n",
       "      <td>형법범</td>\n",
       "      <td>절도범</td>\n",
       "      <td>상습절도</td>\n",
       "      <td>기타</td>\n",
       "      <td>49</td>\n",
       "      <td>0</td>\n",
       "      <td>0</td>\n",
       "      <td>0</td>\n",
       "      <td>0</td>\n",
       "      <td>0</td>\n",
       "      <td>...</td>\n",
       "      <td>0</td>\n",
       "      <td>0</td>\n",
       "      <td>0</td>\n",
       "      <td>0</td>\n",
       "      <td>0</td>\n",
       "      <td>0</td>\n",
       "      <td>0</td>\n",
       "      <td>0</td>\n",
       "      <td>0</td>\n",
       "      <td>0</td>\n",
       "    </tr>\n",
       "  </tbody>\n",
       "</table>\n",
       "<p>63 rows × 21 columns</p>\n",
       "</div>"
      ],
      "text/plain": [
       "      대    중     소  범행동기  1994년  1995년  1996년  1997년  1998년  1999년  ...  \\\n",
       "0   형법범  절도범    소계    이욕  22267  20148  19751  20335  28156  27224  ...   \n",
       "1   형법범  절도범    소계   사행심   1002    859    854    944    974    887  ...   \n",
       "2   형법범  절도범    소계    보복    107     88     71     86    112    116  ...   \n",
       "3   형법범  절도범    소계  가정불화    101     90     57     45     65     82  ...   \n",
       "4   형법범  절도범    소계   호기심   6020   7301   7701   8924   9011   6187  ...   \n",
       "..  ...  ...   ...   ...    ...    ...    ...    ...    ...    ...  ...   \n",
       "58  형법범  절도범  상습절도   호기심      9      0      0      0      0      0  ...   \n",
       "59  형법범  절도범  상습절도    유혹      4      0      0      0      0      0  ...   \n",
       "60  형법범  절도범  상습절도   우발적     16      0      0      0      0      0  ...   \n",
       "61  형법범  절도범  상습절도   부주의      2      0      0      0      0      0  ...   \n",
       "62  형법범  절도범  상습절도    기타     49      0      0      0      0      0  ...   \n",
       "\n",
       "    2001년  2002년  2003년  2004년  2005년  2006년  2007년  2008년  2009년  2010년  \n",
       "0   24623  25769  23964  12746  13015  13012  15196  17350  21761  36131  \n",
       "1     822    623    512   1225   1510   1659   1618   2078   3424     10  \n",
       "2      98     91     95     97    107    111    118      7     24   2023  \n",
       "3      67     74     61     78     90    102     95     56     57     75  \n",
       "4    5003   6226   6061   7232   8563   9763  10952   9430   9420   8058  \n",
       "..    ...    ...    ...    ...    ...    ...    ...    ...    ...    ...  \n",
       "58      0      0      0      0      0      0      0      0      0      0  \n",
       "59      0      0      0      0      0      0      0      0      0      0  \n",
       "60      0      0      0      0      0      0      0      0      0      0  \n",
       "61      0      0      0      0      0      0      0      0      0      0  \n",
       "62      0      0      0      0      0      0      0      0      0      0  \n",
       "\n",
       "[63 rows x 21 columns]"
      ]
     },
     "execution_count": 33,
     "metadata": {},
     "output_type": "execute_result"
    }
   ],
   "source": [
    "motive_df = motive_df_start[motive_df_start[\"중\"] == \"절도범\"]\n",
    "motive_df.reset_index(inplace=True, drop=True)\n",
    "motive_df"
   ]
  },
  {
   "cell_type": "code",
   "execution_count": 34,
   "metadata": {},
   "outputs": [
    {
     "name": "stderr",
     "output_type": "stream",
     "text": [
      "/tmp/ipykernel_37862/4217943652.py:2: SettingWithCopyWarning:\n",
      "\n",
      "\n",
      "A value is trying to be set on a copy of a slice from a DataFrame\n",
      "\n",
      "See the caveats in the documentation: https://pandas.pydata.org/pandas-docs/stable/user_guide/indexing.html#returning-a-view-versus-a-copy\n",
      "\n"
     ]
    },
    {
     "data": {
      "text/html": [
       "<div>\n",
       "<style scoped>\n",
       "    .dataframe tbody tr th:only-of-type {\n",
       "        vertical-align: middle;\n",
       "    }\n",
       "\n",
       "    .dataframe tbody tr th {\n",
       "        vertical-align: top;\n",
       "    }\n",
       "\n",
       "    .dataframe thead th {\n",
       "        text-align: right;\n",
       "    }\n",
       "</style>\n",
       "<table border=\"1\" class=\"dataframe\">\n",
       "  <thead>\n",
       "    <tr style=\"text-align: right;\">\n",
       "      <th></th>\n",
       "      <th>중</th>\n",
       "      <th>소</th>\n",
       "      <th>범행동기</th>\n",
       "      <th>1994년</th>\n",
       "      <th>1995년</th>\n",
       "      <th>1996년</th>\n",
       "      <th>1997년</th>\n",
       "      <th>1998년</th>\n",
       "      <th>1999년</th>\n",
       "      <th>2000년</th>\n",
       "      <th>2001년</th>\n",
       "      <th>2002년</th>\n",
       "      <th>2003년</th>\n",
       "      <th>2004년</th>\n",
       "      <th>2005년</th>\n",
       "      <th>2006년</th>\n",
       "      <th>2007년</th>\n",
       "      <th>2008년</th>\n",
       "      <th>2009년</th>\n",
       "      <th>2010년</th>\n",
       "    </tr>\n",
       "  </thead>\n",
       "  <tbody>\n",
       "    <tr>\n",
       "      <th>0</th>\n",
       "      <td>절도범</td>\n",
       "      <td>소계</td>\n",
       "      <td>이욕</td>\n",
       "      <td>22267</td>\n",
       "      <td>20148</td>\n",
       "      <td>19751</td>\n",
       "      <td>20335</td>\n",
       "      <td>28156</td>\n",
       "      <td>27224</td>\n",
       "      <td>26733</td>\n",
       "      <td>24623</td>\n",
       "      <td>25769</td>\n",
       "      <td>23964</td>\n",
       "      <td>12746</td>\n",
       "      <td>13015</td>\n",
       "      <td>13012</td>\n",
       "      <td>15196</td>\n",
       "      <td>17350</td>\n",
       "      <td>21761</td>\n",
       "      <td>36131</td>\n",
       "    </tr>\n",
       "    <tr>\n",
       "      <th>1</th>\n",
       "      <td>절도범</td>\n",
       "      <td>소계</td>\n",
       "      <td>사행심</td>\n",
       "      <td>1002</td>\n",
       "      <td>859</td>\n",
       "      <td>854</td>\n",
       "      <td>944</td>\n",
       "      <td>974</td>\n",
       "      <td>887</td>\n",
       "      <td>915</td>\n",
       "      <td>822</td>\n",
       "      <td>623</td>\n",
       "      <td>512</td>\n",
       "      <td>1225</td>\n",
       "      <td>1510</td>\n",
       "      <td>1659</td>\n",
       "      <td>1618</td>\n",
       "      <td>2078</td>\n",
       "      <td>3424</td>\n",
       "      <td>10</td>\n",
       "    </tr>\n",
       "    <tr>\n",
       "      <th>2</th>\n",
       "      <td>절도범</td>\n",
       "      <td>소계</td>\n",
       "      <td>보복</td>\n",
       "      <td>107</td>\n",
       "      <td>88</td>\n",
       "      <td>71</td>\n",
       "      <td>86</td>\n",
       "      <td>112</td>\n",
       "      <td>116</td>\n",
       "      <td>95</td>\n",
       "      <td>98</td>\n",
       "      <td>91</td>\n",
       "      <td>95</td>\n",
       "      <td>97</td>\n",
       "      <td>107</td>\n",
       "      <td>111</td>\n",
       "      <td>118</td>\n",
       "      <td>7</td>\n",
       "      <td>24</td>\n",
       "      <td>2023</td>\n",
       "    </tr>\n",
       "    <tr>\n",
       "      <th>3</th>\n",
       "      <td>절도범</td>\n",
       "      <td>소계</td>\n",
       "      <td>가정불화</td>\n",
       "      <td>101</td>\n",
       "      <td>90</td>\n",
       "      <td>57</td>\n",
       "      <td>45</td>\n",
       "      <td>65</td>\n",
       "      <td>82</td>\n",
       "      <td>69</td>\n",
       "      <td>67</td>\n",
       "      <td>74</td>\n",
       "      <td>61</td>\n",
       "      <td>78</td>\n",
       "      <td>90</td>\n",
       "      <td>102</td>\n",
       "      <td>95</td>\n",
       "      <td>56</td>\n",
       "      <td>57</td>\n",
       "      <td>75</td>\n",
       "    </tr>\n",
       "    <tr>\n",
       "      <th>4</th>\n",
       "      <td>절도범</td>\n",
       "      <td>소계</td>\n",
       "      <td>호기심</td>\n",
       "      <td>6020</td>\n",
       "      <td>7301</td>\n",
       "      <td>7701</td>\n",
       "      <td>8924</td>\n",
       "      <td>9011</td>\n",
       "      <td>6187</td>\n",
       "      <td>6641</td>\n",
       "      <td>5003</td>\n",
       "      <td>6226</td>\n",
       "      <td>6061</td>\n",
       "      <td>7232</td>\n",
       "      <td>8563</td>\n",
       "      <td>9763</td>\n",
       "      <td>10952</td>\n",
       "      <td>9430</td>\n",
       "      <td>9420</td>\n",
       "      <td>8058</td>\n",
       "    </tr>\n",
       "    <tr>\n",
       "      <th>5</th>\n",
       "      <td>절도범</td>\n",
       "      <td>소계</td>\n",
       "      <td>유혹</td>\n",
       "      <td>1033</td>\n",
       "      <td>856</td>\n",
       "      <td>873</td>\n",
       "      <td>1290</td>\n",
       "      <td>1648</td>\n",
       "      <td>1416</td>\n",
       "      <td>1479</td>\n",
       "      <td>1160</td>\n",
       "      <td>1474</td>\n",
       "      <td>1229</td>\n",
       "      <td>1557</td>\n",
       "      <td>1623</td>\n",
       "      <td>2128</td>\n",
       "      <td>2753</td>\n",
       "      <td>3528</td>\n",
       "      <td>4776</td>\n",
       "      <td>3207</td>\n",
       "    </tr>\n",
       "    <tr>\n",
       "      <th>6</th>\n",
       "      <td>절도범</td>\n",
       "      <td>소계</td>\n",
       "      <td>우발적</td>\n",
       "      <td>7674</td>\n",
       "      <td>7777</td>\n",
       "      <td>7552</td>\n",
       "      <td>7479</td>\n",
       "      <td>9953</td>\n",
       "      <td>9492</td>\n",
       "      <td>9894</td>\n",
       "      <td>9555</td>\n",
       "      <td>9521</td>\n",
       "      <td>9843</td>\n",
       "      <td>13051</td>\n",
       "      <td>14782</td>\n",
       "      <td>18000</td>\n",
       "      <td>22798</td>\n",
       "      <td>27783</td>\n",
       "      <td>41186</td>\n",
       "      <td>34070</td>\n",
       "    </tr>\n",
       "    <tr>\n",
       "      <th>7</th>\n",
       "      <td>절도범</td>\n",
       "      <td>소계</td>\n",
       "      <td>현실불만</td>\n",
       "      <td>225</td>\n",
       "      <td>173</td>\n",
       "      <td>239</td>\n",
       "      <td>263</td>\n",
       "      <td>226</td>\n",
       "      <td>192</td>\n",
       "      <td>195</td>\n",
       "      <td>163</td>\n",
       "      <td>167</td>\n",
       "      <td>203</td>\n",
       "      <td>214</td>\n",
       "      <td>254</td>\n",
       "      <td>329</td>\n",
       "      <td>403</td>\n",
       "      <td>541</td>\n",
       "      <td>809</td>\n",
       "      <td>567</td>\n",
       "    </tr>\n",
       "    <tr>\n",
       "      <th>8</th>\n",
       "      <td>절도범</td>\n",
       "      <td>소계</td>\n",
       "      <td>부주의</td>\n",
       "      <td>463</td>\n",
       "      <td>624</td>\n",
       "      <td>707</td>\n",
       "      <td>851</td>\n",
       "      <td>1057</td>\n",
       "      <td>1167</td>\n",
       "      <td>1057</td>\n",
       "      <td>871</td>\n",
       "      <td>895</td>\n",
       "      <td>1102</td>\n",
       "      <td>579</td>\n",
       "      <td>706</td>\n",
       "      <td>803</td>\n",
       "      <td>1015</td>\n",
       "      <td>1550</td>\n",
       "      <td>2103</td>\n",
       "      <td>2144</td>\n",
       "    </tr>\n",
       "    <tr>\n",
       "      <th>9</th>\n",
       "      <td>절도범</td>\n",
       "      <td>소계</td>\n",
       "      <td>기타</td>\n",
       "      <td>14479</td>\n",
       "      <td>14104</td>\n",
       "      <td>14225</td>\n",
       "      <td>16073</td>\n",
       "      <td>21992</td>\n",
       "      <td>20048</td>\n",
       "      <td>19004</td>\n",
       "      <td>17110</td>\n",
       "      <td>18804</td>\n",
       "      <td>18581</td>\n",
       "      <td>31619</td>\n",
       "      <td>31499</td>\n",
       "      <td>33108</td>\n",
       "      <td>38260</td>\n",
       "      <td>33995</td>\n",
       "      <td>42524</td>\n",
       "      <td>32825</td>\n",
       "    </tr>\n",
       "  </tbody>\n",
       "</table>\n",
       "</div>"
      ],
      "text/plain": [
       "     중   소  범행동기  1994년  1995년  1996년  1997년  1998년  1999년  2000년  2001년  \\\n",
       "0  절도범  소계    이욕  22267  20148  19751  20335  28156  27224  26733  24623   \n",
       "1  절도범  소계   사행심   1002    859    854    944    974    887    915    822   \n",
       "2  절도범  소계    보복    107     88     71     86    112    116     95     98   \n",
       "3  절도범  소계  가정불화    101     90     57     45     65     82     69     67   \n",
       "4  절도범  소계   호기심   6020   7301   7701   8924   9011   6187   6641   5003   \n",
       "5  절도범  소계    유혹   1033    856    873   1290   1648   1416   1479   1160   \n",
       "6  절도범  소계   우발적   7674   7777   7552   7479   9953   9492   9894   9555   \n",
       "7  절도범  소계  현실불만    225    173    239    263    226    192    195    163   \n",
       "8  절도범  소계   부주의    463    624    707    851   1057   1167   1057    871   \n",
       "9  절도범  소계    기타  14479  14104  14225  16073  21992  20048  19004  17110   \n",
       "\n",
       "   2002년  2003년  2004년  2005년  2006년  2007년  2008년  2009년  2010년  \n",
       "0  25769  23964  12746  13015  13012  15196  17350  21761  36131  \n",
       "1    623    512   1225   1510   1659   1618   2078   3424     10  \n",
       "2     91     95     97    107    111    118      7     24   2023  \n",
       "3     74     61     78     90    102     95     56     57     75  \n",
       "4   6226   6061   7232   8563   9763  10952   9430   9420   8058  \n",
       "5   1474   1229   1557   1623   2128   2753   3528   4776   3207  \n",
       "6   9521   9843  13051  14782  18000  22798  27783  41186  34070  \n",
       "7    167    203    214    254    329    403    541    809    567  \n",
       "8    895   1102    579    706    803   1015   1550   2103   2144  \n",
       "9  18804  18581  31619  31499  33108  38260  33995  42524  32825  "
      ]
     },
     "execution_count": 34,
     "metadata": {},
     "output_type": "execute_result"
    }
   ],
   "source": [
    "motive_df_total = motive_df[motive_df[\"소\"] == \"소계\"]\n",
    "motive_df_total.drop(columns=\"대\", inplace=True)\n",
    "motive_df_total.reset_index(inplace=True, drop=True)\n",
    "motive_df_total"
   ]
  },
  {
   "cell_type": "code",
   "execution_count": 35,
   "metadata": {},
   "outputs": [
    {
     "data": {
      "application/vnd.plotly.v1+json": {
       "config": {
        "plotlyServerURL": "https://plot.ly"
       },
       "data": [
        {
         "hovertemplate": "범행동기=이욕<br>년도=%{x}<br>발생건수=%{y}<extra></extra>",
         "legendgroup": "이욕",
         "line": {
          "color": "#636efa",
          "dash": "solid"
         },
         "marker": {
          "symbol": "circle"
         },
         "mode": "lines+markers",
         "name": "이욕",
         "orientation": "v",
         "showlegend": true,
         "type": "scatter",
         "x": [
          "1994년",
          "1995년",
          "1996년",
          "1997년",
          "1998년",
          "1999년",
          "2000년",
          "2001년",
          "2002년",
          "2003년",
          "2004년",
          "2005년",
          "2006년",
          "2007년",
          "2008년",
          "2009년",
          "2010년"
         ],
         "xaxis": "x",
         "y": [
          22267,
          20148,
          19751,
          20335,
          28156,
          27224,
          26733,
          24623,
          25769,
          23964,
          12746,
          13015,
          13012,
          15196,
          17350,
          21761,
          36131
         ],
         "yaxis": "y"
        },
        {
         "hovertemplate": "범행동기=사행심<br>년도=%{x}<br>발생건수=%{y}<extra></extra>",
         "legendgroup": "사행심",
         "line": {
          "color": "#EF553B",
          "dash": "solid"
         },
         "marker": {
          "symbol": "circle"
         },
         "mode": "lines+markers",
         "name": "사행심",
         "orientation": "v",
         "showlegend": true,
         "type": "scatter",
         "x": [
          "1994년",
          "1995년",
          "1996년",
          "1997년",
          "1998년",
          "1999년",
          "2000년",
          "2001년",
          "2002년",
          "2003년",
          "2004년",
          "2005년",
          "2006년",
          "2007년",
          "2008년",
          "2009년",
          "2010년"
         ],
         "xaxis": "x",
         "y": [
          1002,
          859,
          854,
          944,
          974,
          887,
          915,
          822,
          623,
          512,
          1225,
          1510,
          1659,
          1618,
          2078,
          3424,
          10
         ],
         "yaxis": "y"
        },
        {
         "hovertemplate": "범행동기=보복<br>년도=%{x}<br>발생건수=%{y}<extra></extra>",
         "legendgroup": "보복",
         "line": {
          "color": "#00cc96",
          "dash": "solid"
         },
         "marker": {
          "symbol": "circle"
         },
         "mode": "lines+markers",
         "name": "보복",
         "orientation": "v",
         "showlegend": true,
         "type": "scatter",
         "x": [
          "1994년",
          "1995년",
          "1996년",
          "1997년",
          "1998년",
          "1999년",
          "2000년",
          "2001년",
          "2002년",
          "2003년",
          "2004년",
          "2005년",
          "2006년",
          "2007년",
          "2008년",
          "2009년",
          "2010년"
         ],
         "xaxis": "x",
         "y": [
          107,
          88,
          71,
          86,
          112,
          116,
          95,
          98,
          91,
          95,
          97,
          107,
          111,
          118,
          7,
          24,
          2023
         ],
         "yaxis": "y"
        },
        {
         "hovertemplate": "범행동기=가정불화<br>년도=%{x}<br>발생건수=%{y}<extra></extra>",
         "legendgroup": "가정불화",
         "line": {
          "color": "#ab63fa",
          "dash": "solid"
         },
         "marker": {
          "symbol": "circle"
         },
         "mode": "lines+markers",
         "name": "가정불화",
         "orientation": "v",
         "showlegend": true,
         "type": "scatter",
         "x": [
          "1994년",
          "1995년",
          "1996년",
          "1997년",
          "1998년",
          "1999년",
          "2000년",
          "2001년",
          "2002년",
          "2003년",
          "2004년",
          "2005년",
          "2006년",
          "2007년",
          "2008년",
          "2009년",
          "2010년"
         ],
         "xaxis": "x",
         "y": [
          101,
          90,
          57,
          45,
          65,
          82,
          69,
          67,
          74,
          61,
          78,
          90,
          102,
          95,
          56,
          57,
          75
         ],
         "yaxis": "y"
        },
        {
         "hovertemplate": "범행동기=호기심<br>년도=%{x}<br>발생건수=%{y}<extra></extra>",
         "legendgroup": "호기심",
         "line": {
          "color": "#FFA15A",
          "dash": "solid"
         },
         "marker": {
          "symbol": "circle"
         },
         "mode": "lines+markers",
         "name": "호기심",
         "orientation": "v",
         "showlegend": true,
         "type": "scatter",
         "x": [
          "1994년",
          "1995년",
          "1996년",
          "1997년",
          "1998년",
          "1999년",
          "2000년",
          "2001년",
          "2002년",
          "2003년",
          "2004년",
          "2005년",
          "2006년",
          "2007년",
          "2008년",
          "2009년",
          "2010년"
         ],
         "xaxis": "x",
         "y": [
          6020,
          7301,
          7701,
          8924,
          9011,
          6187,
          6641,
          5003,
          6226,
          6061,
          7232,
          8563,
          9763,
          10952,
          9430,
          9420,
          8058
         ],
         "yaxis": "y"
        },
        {
         "hovertemplate": "범행동기=유혹<br>년도=%{x}<br>발생건수=%{y}<extra></extra>",
         "legendgroup": "유혹",
         "line": {
          "color": "#19d3f3",
          "dash": "solid"
         },
         "marker": {
          "symbol": "circle"
         },
         "mode": "lines+markers",
         "name": "유혹",
         "orientation": "v",
         "showlegend": true,
         "type": "scatter",
         "x": [
          "1994년",
          "1995년",
          "1996년",
          "1997년",
          "1998년",
          "1999년",
          "2000년",
          "2001년",
          "2002년",
          "2003년",
          "2004년",
          "2005년",
          "2006년",
          "2007년",
          "2008년",
          "2009년",
          "2010년"
         ],
         "xaxis": "x",
         "y": [
          1033,
          856,
          873,
          1290,
          1648,
          1416,
          1479,
          1160,
          1474,
          1229,
          1557,
          1623,
          2128,
          2753,
          3528,
          4776,
          3207
         ],
         "yaxis": "y"
        },
        {
         "hovertemplate": "범행동기=우발적<br>년도=%{x}<br>발생건수=%{y}<extra></extra>",
         "legendgroup": "우발적",
         "line": {
          "color": "#FF6692",
          "dash": "solid"
         },
         "marker": {
          "symbol": "circle"
         },
         "mode": "lines+markers",
         "name": "우발적",
         "orientation": "v",
         "showlegend": true,
         "type": "scatter",
         "x": [
          "1994년",
          "1995년",
          "1996년",
          "1997년",
          "1998년",
          "1999년",
          "2000년",
          "2001년",
          "2002년",
          "2003년",
          "2004년",
          "2005년",
          "2006년",
          "2007년",
          "2008년",
          "2009년",
          "2010년"
         ],
         "xaxis": "x",
         "y": [
          7674,
          7777,
          7552,
          7479,
          9953,
          9492,
          9894,
          9555,
          9521,
          9843,
          13051,
          14782,
          18000,
          22798,
          27783,
          41186,
          34070
         ],
         "yaxis": "y"
        },
        {
         "hovertemplate": "범행동기=현실불만<br>년도=%{x}<br>발생건수=%{y}<extra></extra>",
         "legendgroup": "현실불만",
         "line": {
          "color": "#B6E880",
          "dash": "solid"
         },
         "marker": {
          "symbol": "circle"
         },
         "mode": "lines+markers",
         "name": "현실불만",
         "orientation": "v",
         "showlegend": true,
         "type": "scatter",
         "x": [
          "1994년",
          "1995년",
          "1996년",
          "1997년",
          "1998년",
          "1999년",
          "2000년",
          "2001년",
          "2002년",
          "2003년",
          "2004년",
          "2005년",
          "2006년",
          "2007년",
          "2008년",
          "2009년",
          "2010년"
         ],
         "xaxis": "x",
         "y": [
          225,
          173,
          239,
          263,
          226,
          192,
          195,
          163,
          167,
          203,
          214,
          254,
          329,
          403,
          541,
          809,
          567
         ],
         "yaxis": "y"
        },
        {
         "hovertemplate": "범행동기=부주의<br>년도=%{x}<br>발생건수=%{y}<extra></extra>",
         "legendgroup": "부주의",
         "line": {
          "color": "#FF97FF",
          "dash": "solid"
         },
         "marker": {
          "symbol": "circle"
         },
         "mode": "lines+markers",
         "name": "부주의",
         "orientation": "v",
         "showlegend": true,
         "type": "scatter",
         "x": [
          "1994년",
          "1995년",
          "1996년",
          "1997년",
          "1998년",
          "1999년",
          "2000년",
          "2001년",
          "2002년",
          "2003년",
          "2004년",
          "2005년",
          "2006년",
          "2007년",
          "2008년",
          "2009년",
          "2010년"
         ],
         "xaxis": "x",
         "y": [
          463,
          624,
          707,
          851,
          1057,
          1167,
          1057,
          871,
          895,
          1102,
          579,
          706,
          803,
          1015,
          1550,
          2103,
          2144
         ],
         "yaxis": "y"
        },
        {
         "hovertemplate": "범행동기=기타<br>년도=%{x}<br>발생건수=%{y}<extra></extra>",
         "legendgroup": "기타",
         "line": {
          "color": "#FECB52",
          "dash": "solid"
         },
         "marker": {
          "symbol": "circle"
         },
         "mode": "lines+markers",
         "name": "기타",
         "orientation": "v",
         "showlegend": true,
         "type": "scatter",
         "x": [
          "1994년",
          "1995년",
          "1996년",
          "1997년",
          "1998년",
          "1999년",
          "2000년",
          "2001년",
          "2002년",
          "2003년",
          "2004년",
          "2005년",
          "2006년",
          "2007년",
          "2008년",
          "2009년",
          "2010년"
         ],
         "xaxis": "x",
         "y": [
          14479,
          14104,
          14225,
          16073,
          21992,
          20048,
          19004,
          17110,
          18804,
          18581,
          31619,
          31499,
          33108,
          38260,
          33995,
          42524,
          32825
         ],
         "yaxis": "y"
        }
       ],
       "layout": {
        "legend": {
         "title": {
          "text": "범행동기"
         },
         "tracegroupgap": 0
        },
        "template": {
         "data": {
          "bar": [
           {
            "error_x": {
             "color": "#2a3f5f"
            },
            "error_y": {
             "color": "#2a3f5f"
            },
            "marker": {
             "line": {
              "color": "#E5ECF6",
              "width": 0.5
             },
             "pattern": {
              "fillmode": "overlay",
              "size": 10,
              "solidity": 0.2
             }
            },
            "type": "bar"
           }
          ],
          "barpolar": [
           {
            "marker": {
             "line": {
              "color": "#E5ECF6",
              "width": 0.5
             },
             "pattern": {
              "fillmode": "overlay",
              "size": 10,
              "solidity": 0.2
             }
            },
            "type": "barpolar"
           }
          ],
          "carpet": [
           {
            "aaxis": {
             "endlinecolor": "#2a3f5f",
             "gridcolor": "white",
             "linecolor": "white",
             "minorgridcolor": "white",
             "startlinecolor": "#2a3f5f"
            },
            "baxis": {
             "endlinecolor": "#2a3f5f",
             "gridcolor": "white",
             "linecolor": "white",
             "minorgridcolor": "white",
             "startlinecolor": "#2a3f5f"
            },
            "type": "carpet"
           }
          ],
          "choropleth": [
           {
            "colorbar": {
             "outlinewidth": 0,
             "ticks": ""
            },
            "type": "choropleth"
           }
          ],
          "contour": [
           {
            "colorbar": {
             "outlinewidth": 0,
             "ticks": ""
            },
            "colorscale": [
             [
              0,
              "#0d0887"
             ],
             [
              0.1111111111111111,
              "#46039f"
             ],
             [
              0.2222222222222222,
              "#7201a8"
             ],
             [
              0.3333333333333333,
              "#9c179e"
             ],
             [
              0.4444444444444444,
              "#bd3786"
             ],
             [
              0.5555555555555556,
              "#d8576b"
             ],
             [
              0.6666666666666666,
              "#ed7953"
             ],
             [
              0.7777777777777778,
              "#fb9f3a"
             ],
             [
              0.8888888888888888,
              "#fdca26"
             ],
             [
              1,
              "#f0f921"
             ]
            ],
            "type": "contour"
           }
          ],
          "contourcarpet": [
           {
            "colorbar": {
             "outlinewidth": 0,
             "ticks": ""
            },
            "type": "contourcarpet"
           }
          ],
          "heatmap": [
           {
            "colorbar": {
             "outlinewidth": 0,
             "ticks": ""
            },
            "colorscale": [
             [
              0,
              "#0d0887"
             ],
             [
              0.1111111111111111,
              "#46039f"
             ],
             [
              0.2222222222222222,
              "#7201a8"
             ],
             [
              0.3333333333333333,
              "#9c179e"
             ],
             [
              0.4444444444444444,
              "#bd3786"
             ],
             [
              0.5555555555555556,
              "#d8576b"
             ],
             [
              0.6666666666666666,
              "#ed7953"
             ],
             [
              0.7777777777777778,
              "#fb9f3a"
             ],
             [
              0.8888888888888888,
              "#fdca26"
             ],
             [
              1,
              "#f0f921"
             ]
            ],
            "type": "heatmap"
           }
          ],
          "heatmapgl": [
           {
            "colorbar": {
             "outlinewidth": 0,
             "ticks": ""
            },
            "colorscale": [
             [
              0,
              "#0d0887"
             ],
             [
              0.1111111111111111,
              "#46039f"
             ],
             [
              0.2222222222222222,
              "#7201a8"
             ],
             [
              0.3333333333333333,
              "#9c179e"
             ],
             [
              0.4444444444444444,
              "#bd3786"
             ],
             [
              0.5555555555555556,
              "#d8576b"
             ],
             [
              0.6666666666666666,
              "#ed7953"
             ],
             [
              0.7777777777777778,
              "#fb9f3a"
             ],
             [
              0.8888888888888888,
              "#fdca26"
             ],
             [
              1,
              "#f0f921"
             ]
            ],
            "type": "heatmapgl"
           }
          ],
          "histogram": [
           {
            "marker": {
             "pattern": {
              "fillmode": "overlay",
              "size": 10,
              "solidity": 0.2
             }
            },
            "type": "histogram"
           }
          ],
          "histogram2d": [
           {
            "colorbar": {
             "outlinewidth": 0,
             "ticks": ""
            },
            "colorscale": [
             [
              0,
              "#0d0887"
             ],
             [
              0.1111111111111111,
              "#46039f"
             ],
             [
              0.2222222222222222,
              "#7201a8"
             ],
             [
              0.3333333333333333,
              "#9c179e"
             ],
             [
              0.4444444444444444,
              "#bd3786"
             ],
             [
              0.5555555555555556,
              "#d8576b"
             ],
             [
              0.6666666666666666,
              "#ed7953"
             ],
             [
              0.7777777777777778,
              "#fb9f3a"
             ],
             [
              0.8888888888888888,
              "#fdca26"
             ],
             [
              1,
              "#f0f921"
             ]
            ],
            "type": "histogram2d"
           }
          ],
          "histogram2dcontour": [
           {
            "colorbar": {
             "outlinewidth": 0,
             "ticks": ""
            },
            "colorscale": [
             [
              0,
              "#0d0887"
             ],
             [
              0.1111111111111111,
              "#46039f"
             ],
             [
              0.2222222222222222,
              "#7201a8"
             ],
             [
              0.3333333333333333,
              "#9c179e"
             ],
             [
              0.4444444444444444,
              "#bd3786"
             ],
             [
              0.5555555555555556,
              "#d8576b"
             ],
             [
              0.6666666666666666,
              "#ed7953"
             ],
             [
              0.7777777777777778,
              "#fb9f3a"
             ],
             [
              0.8888888888888888,
              "#fdca26"
             ],
             [
              1,
              "#f0f921"
             ]
            ],
            "type": "histogram2dcontour"
           }
          ],
          "mesh3d": [
           {
            "colorbar": {
             "outlinewidth": 0,
             "ticks": ""
            },
            "type": "mesh3d"
           }
          ],
          "parcoords": [
           {
            "line": {
             "colorbar": {
              "outlinewidth": 0,
              "ticks": ""
             }
            },
            "type": "parcoords"
           }
          ],
          "pie": [
           {
            "automargin": true,
            "type": "pie"
           }
          ],
          "scatter": [
           {
            "fillpattern": {
             "fillmode": "overlay",
             "size": 10,
             "solidity": 0.2
            },
            "type": "scatter"
           }
          ],
          "scatter3d": [
           {
            "line": {
             "colorbar": {
              "outlinewidth": 0,
              "ticks": ""
             }
            },
            "marker": {
             "colorbar": {
              "outlinewidth": 0,
              "ticks": ""
             }
            },
            "type": "scatter3d"
           }
          ],
          "scattercarpet": [
           {
            "marker": {
             "colorbar": {
              "outlinewidth": 0,
              "ticks": ""
             }
            },
            "type": "scattercarpet"
           }
          ],
          "scattergeo": [
           {
            "marker": {
             "colorbar": {
              "outlinewidth": 0,
              "ticks": ""
             }
            },
            "type": "scattergeo"
           }
          ],
          "scattergl": [
           {
            "marker": {
             "colorbar": {
              "outlinewidth": 0,
              "ticks": ""
             }
            },
            "type": "scattergl"
           }
          ],
          "scattermapbox": [
           {
            "marker": {
             "colorbar": {
              "outlinewidth": 0,
              "ticks": ""
             }
            },
            "type": "scattermapbox"
           }
          ],
          "scatterpolar": [
           {
            "marker": {
             "colorbar": {
              "outlinewidth": 0,
              "ticks": ""
             }
            },
            "type": "scatterpolar"
           }
          ],
          "scatterpolargl": [
           {
            "marker": {
             "colorbar": {
              "outlinewidth": 0,
              "ticks": ""
             }
            },
            "type": "scatterpolargl"
           }
          ],
          "scatterternary": [
           {
            "marker": {
             "colorbar": {
              "outlinewidth": 0,
              "ticks": ""
             }
            },
            "type": "scatterternary"
           }
          ],
          "surface": [
           {
            "colorbar": {
             "outlinewidth": 0,
             "ticks": ""
            },
            "colorscale": [
             [
              0,
              "#0d0887"
             ],
             [
              0.1111111111111111,
              "#46039f"
             ],
             [
              0.2222222222222222,
              "#7201a8"
             ],
             [
              0.3333333333333333,
              "#9c179e"
             ],
             [
              0.4444444444444444,
              "#bd3786"
             ],
             [
              0.5555555555555556,
              "#d8576b"
             ],
             [
              0.6666666666666666,
              "#ed7953"
             ],
             [
              0.7777777777777778,
              "#fb9f3a"
             ],
             [
              0.8888888888888888,
              "#fdca26"
             ],
             [
              1,
              "#f0f921"
             ]
            ],
            "type": "surface"
           }
          ],
          "table": [
           {
            "cells": {
             "fill": {
              "color": "#EBF0F8"
             },
             "line": {
              "color": "white"
             }
            },
            "header": {
             "fill": {
              "color": "#C8D4E3"
             },
             "line": {
              "color": "white"
             }
            },
            "type": "table"
           }
          ]
         },
         "layout": {
          "annotationdefaults": {
           "arrowcolor": "#2a3f5f",
           "arrowhead": 0,
           "arrowwidth": 1
          },
          "autotypenumbers": "strict",
          "coloraxis": {
           "colorbar": {
            "outlinewidth": 0,
            "ticks": ""
           }
          },
          "colorscale": {
           "diverging": [
            [
             0,
             "#8e0152"
            ],
            [
             0.1,
             "#c51b7d"
            ],
            [
             0.2,
             "#de77ae"
            ],
            [
             0.3,
             "#f1b6da"
            ],
            [
             0.4,
             "#fde0ef"
            ],
            [
             0.5,
             "#f7f7f7"
            ],
            [
             0.6,
             "#e6f5d0"
            ],
            [
             0.7,
             "#b8e186"
            ],
            [
             0.8,
             "#7fbc41"
            ],
            [
             0.9,
             "#4d9221"
            ],
            [
             1,
             "#276419"
            ]
           ],
           "sequential": [
            [
             0,
             "#0d0887"
            ],
            [
             0.1111111111111111,
             "#46039f"
            ],
            [
             0.2222222222222222,
             "#7201a8"
            ],
            [
             0.3333333333333333,
             "#9c179e"
            ],
            [
             0.4444444444444444,
             "#bd3786"
            ],
            [
             0.5555555555555556,
             "#d8576b"
            ],
            [
             0.6666666666666666,
             "#ed7953"
            ],
            [
             0.7777777777777778,
             "#fb9f3a"
            ],
            [
             0.8888888888888888,
             "#fdca26"
            ],
            [
             1,
             "#f0f921"
            ]
           ],
           "sequentialminus": [
            [
             0,
             "#0d0887"
            ],
            [
             0.1111111111111111,
             "#46039f"
            ],
            [
             0.2222222222222222,
             "#7201a8"
            ],
            [
             0.3333333333333333,
             "#9c179e"
            ],
            [
             0.4444444444444444,
             "#bd3786"
            ],
            [
             0.5555555555555556,
             "#d8576b"
            ],
            [
             0.6666666666666666,
             "#ed7953"
            ],
            [
             0.7777777777777778,
             "#fb9f3a"
            ],
            [
             0.8888888888888888,
             "#fdca26"
            ],
            [
             1,
             "#f0f921"
            ]
           ]
          },
          "colorway": [
           "#636efa",
           "#EF553B",
           "#00cc96",
           "#ab63fa",
           "#FFA15A",
           "#19d3f3",
           "#FF6692",
           "#B6E880",
           "#FF97FF",
           "#FECB52"
          ],
          "font": {
           "color": "#2a3f5f"
          },
          "geo": {
           "bgcolor": "white",
           "lakecolor": "white",
           "landcolor": "#E5ECF6",
           "showlakes": true,
           "showland": true,
           "subunitcolor": "white"
          },
          "hoverlabel": {
           "align": "left"
          },
          "hovermode": "closest",
          "mapbox": {
           "style": "light"
          },
          "paper_bgcolor": "white",
          "plot_bgcolor": "#E5ECF6",
          "polar": {
           "angularaxis": {
            "gridcolor": "white",
            "linecolor": "white",
            "ticks": ""
           },
           "bgcolor": "#E5ECF6",
           "radialaxis": {
            "gridcolor": "white",
            "linecolor": "white",
            "ticks": ""
           }
          },
          "scene": {
           "xaxis": {
            "backgroundcolor": "#E5ECF6",
            "gridcolor": "white",
            "gridwidth": 2,
            "linecolor": "white",
            "showbackground": true,
            "ticks": "",
            "zerolinecolor": "white"
           },
           "yaxis": {
            "backgroundcolor": "#E5ECF6",
            "gridcolor": "white",
            "gridwidth": 2,
            "linecolor": "white",
            "showbackground": true,
            "ticks": "",
            "zerolinecolor": "white"
           },
           "zaxis": {
            "backgroundcolor": "#E5ECF6",
            "gridcolor": "white",
            "gridwidth": 2,
            "linecolor": "white",
            "showbackground": true,
            "ticks": "",
            "zerolinecolor": "white"
           }
          },
          "shapedefaults": {
           "line": {
            "color": "#2a3f5f"
           }
          },
          "ternary": {
           "aaxis": {
            "gridcolor": "white",
            "linecolor": "white",
            "ticks": ""
           },
           "baxis": {
            "gridcolor": "white",
            "linecolor": "white",
            "ticks": ""
           },
           "bgcolor": "#E5ECF6",
           "caxis": {
            "gridcolor": "white",
            "linecolor": "white",
            "ticks": ""
           }
          },
          "title": {
           "x": 0.05
          },
          "xaxis": {
           "automargin": true,
           "gridcolor": "white",
           "linecolor": "white",
           "ticks": "",
           "title": {
            "standoff": 15
           },
           "zerolinecolor": "white",
           "zerolinewidth": 2
          },
          "yaxis": {
           "automargin": true,
           "gridcolor": "white",
           "linecolor": "white",
           "ticks": "",
           "title": {
            "standoff": 15
           },
           "zerolinecolor": "white",
           "zerolinewidth": 2
          }
         }
        },
        "title": {
         "text": "[ 범행동기별 발생한 절도범 건수 ]"
        },
        "xaxis": {
         "anchor": "y",
         "domain": [
          0,
          1
         ],
         "title": {
          "text": "년도"
         }
        },
        "yaxis": {
         "anchor": "x",
         "domain": [
          0,
          1
         ],
         "title": {
          "text": "발생건수"
         }
        }
       }
      }
     },
     "metadata": {},
     "output_type": "display_data"
    }
   ],
   "source": [
    "df_melted = motive_df_total.melt(id_vars=[\"중\", \"소\", \"범행동기\"], var_name=\"년도\", value_name=\"발생건수\")\n",
    "\n",
    "fig = px.line(df_melted, x=\"년도\", y=\"발생건수\", color=\"범행동기\", title=\"[ 범행동기별 발생한 절도범 건수 ]\", markers=True)\n",
    "fig.show()"
   ]
  },
  {
   "cell_type": "code",
   "execution_count": 36,
   "metadata": {},
   "outputs": [],
   "source": [
    "lsw.close()"
   ]
  }
 ],
 "metadata": {
  "kernelspec": {
   "display_name": "eda_venv",
   "language": "python",
   "name": "python3"
  },
  "language_info": {
   "codemirror_mode": {
    "name": "ipython",
    "version": 3
   },
   "file_extension": ".py",
   "mimetype": "text/x-python",
   "name": "python",
   "nbconvert_exporter": "python",
   "pygments_lexer": "ipython3",
   "version": "3.10.12"
  }
 },
 "nbformat": 4,
 "nbformat_minor": 2
}
