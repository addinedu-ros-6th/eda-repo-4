{
 "cells": [
  {
   "cell_type": "markdown",
   "metadata": {},
   "source": [
    "--------------\n",
    "# 발표 시각화 자료\n",
    "--------------"
   ]
  },
  {
   "cell_type": "markdown",
   "metadata": {},
   "source": [
    "## 초기세팅"
   ]
  },
  {
   "cell_type": "code",
   "execution_count": 1,
   "metadata": {},
   "outputs": [],
   "source": [
    "import pandas as pd\n",
    "import mysql.connector\n",
    "import plotly.express as px\n",
    "import matplotlib.pyplot as plt\n",
    "import seaborn as sns\n",
    "import koreanize_matplotlib\n",
    "aws_RDS = mysql.connector.connect(\n",
    "host = \"database-1.cz44qgu84nin.ap-northeast-2.rds.amazonaws.com\",\n",
    "user = \"admin\",\n",
    "password = \"123123123\",\n",
    "database = \"edabase\"\n",
    ")"
   ]
  },
  {
   "cell_type": "markdown",
   "metadata": {},
   "source": [
    "### 절도범 데이터 가지고오기"
   ]
  },
  {
   "cell_type": "code",
   "execution_count": 2,
   "metadata": {},
   "outputs": [
    {
     "data": {
      "text/html": [
       "<div>\n",
       "<style scoped>\n",
       "    .dataframe tbody tr th:only-of-type {\n",
       "        vertical-align: middle;\n",
       "    }\n",
       "\n",
       "    .dataframe tbody tr th {\n",
       "        vertical-align: top;\n",
       "    }\n",
       "\n",
       "    .dataframe thead th {\n",
       "        text-align: right;\n",
       "    }\n",
       "</style>\n",
       "<table border=\"1\" class=\"dataframe\">\n",
       "  <thead>\n",
       "    <tr style=\"text-align: right;\">\n",
       "      <th></th>\n",
       "      <th>소</th>\n",
       "      <th>1994년</th>\n",
       "      <th>1995년</th>\n",
       "      <th>1996년</th>\n",
       "      <th>1997년</th>\n",
       "      <th>1998년</th>\n",
       "      <th>1999년</th>\n",
       "      <th>2000년</th>\n",
       "      <th>2001년</th>\n",
       "      <th>2002년</th>\n",
       "    </tr>\n",
       "  </thead>\n",
       "  <tbody>\n",
       "    <tr>\n",
       "      <th>0</th>\n",
       "      <td>절도</td>\n",
       "      <td>38787</td>\n",
       "      <td>43856</td>\n",
       "      <td>51853</td>\n",
       "      <td>62685</td>\n",
       "      <td>62749</td>\n",
       "      <td>60598</td>\n",
       "      <td>140388</td>\n",
       "      <td>147087</td>\n",
       "      <td>130527</td>\n",
       "    </tr>\n",
       "    <tr>\n",
       "      <th>1</th>\n",
       "      <td>특가법(절도)</td>\n",
       "      <td>3879</td>\n",
       "      <td>2342</td>\n",
       "      <td>1996</td>\n",
       "      <td>2362</td>\n",
       "      <td>3812</td>\n",
       "      <td>7136</td>\n",
       "      <td>9388</td>\n",
       "      <td>12330</td>\n",
       "      <td>20014</td>\n",
       "    </tr>\n",
       "    <tr>\n",
       "      <th>2</th>\n",
       "      <td>야간주거침입절도</td>\n",
       "      <td>3037</td>\n",
       "      <td>2619</td>\n",
       "      <td>2528</td>\n",
       "      <td>2593</td>\n",
       "      <td>3202</td>\n",
       "      <td>3337</td>\n",
       "      <td>3510</td>\n",
       "      <td>3089</td>\n",
       "      <td>3199</td>\n",
       "    </tr>\n",
       "    <tr>\n",
       "      <th>3</th>\n",
       "      <td>야간주거침입절도(상습)</td>\n",
       "      <td>2</td>\n",
       "      <td>4</td>\n",
       "      <td>2</td>\n",
       "      <td>0</td>\n",
       "      <td>12</td>\n",
       "      <td>7</td>\n",
       "      <td>4</td>\n",
       "      <td>9</td>\n",
       "      <td>3</td>\n",
       "    </tr>\n",
       "    <tr>\n",
       "      <th>4</th>\n",
       "      <td>특수절도</td>\n",
       "      <td>13891</td>\n",
       "      <td>13596</td>\n",
       "      <td>13653</td>\n",
       "      <td>14805</td>\n",
       "      <td>20870</td>\n",
       "      <td>17507</td>\n",
       "      <td>19620</td>\n",
       "      <td>17248</td>\n",
       "      <td>23155</td>\n",
       "    </tr>\n",
       "    <tr>\n",
       "      <th>5</th>\n",
       "      <td>자동차·선박등불법사용</td>\n",
       "      <td>0</td>\n",
       "      <td>0</td>\n",
       "      <td>0</td>\n",
       "      <td>351</td>\n",
       "      <td>379</td>\n",
       "      <td>343</td>\n",
       "      <td>384</td>\n",
       "      <td>373</td>\n",
       "      <td>425</td>\n",
       "    </tr>\n",
       "    <tr>\n",
       "      <th>6</th>\n",
       "      <td>특수절도(상습)</td>\n",
       "      <td>17</td>\n",
       "      <td>16</td>\n",
       "      <td>5</td>\n",
       "      <td>20</td>\n",
       "      <td>67</td>\n",
       "      <td>41</td>\n",
       "      <td>12</td>\n",
       "      <td>56</td>\n",
       "      <td>45</td>\n",
       "    </tr>\n",
       "    <tr>\n",
       "      <th>7</th>\n",
       "      <td>상습절도</td>\n",
       "      <td>641</td>\n",
       "      <td>277</td>\n",
       "      <td>201</td>\n",
       "      <td>247</td>\n",
       "      <td>347</td>\n",
       "      <td>426</td>\n",
       "      <td>570</td>\n",
       "      <td>512</td>\n",
       "      <td>1089</td>\n",
       "    </tr>\n",
       "  </tbody>\n",
       "</table>\n",
       "</div>"
      ],
      "text/plain": [
       "              소  1994년  1995년  1996년  1997년  1998년  1999년   2000년   2001년  \\\n",
       "0            절도  38787  43856  51853  62685  62749  60598  140388  147087   \n",
       "1       특가법(절도)   3879   2342   1996   2362   3812   7136    9388   12330   \n",
       "2      야간주거침입절도   3037   2619   2528   2593   3202   3337    3510    3089   \n",
       "3  야간주거침입절도(상습)      2      4      2      0     12      7       4       9   \n",
       "4          특수절도  13891  13596  13653  14805  20870  17507   19620   17248   \n",
       "5   자동차·선박등불법사용      0      0      0    351    379    343     384     373   \n",
       "6      특수절도(상습)     17     16      5     20     67     41      12      56   \n",
       "7          상습절도    641    277    201    247    347    426     570     512   \n",
       "\n",
       "    2002년  \n",
       "0  130527  \n",
       "1   20014  \n",
       "2    3199  \n",
       "3       3  \n",
       "4   23155  \n",
       "5     425  \n",
       "6      45  \n",
       "7    1089  "
      ]
     },
     "execution_count": 2,
     "metadata": {},
     "output_type": "execute_result"
    }
   ],
   "source": [
    "# 10년이전 절도범 총 범죄 건수 가지고 오기\n",
    "# 2003년, 2004년, 2005년, 2006년, 2007년, 2008년, 2009년, 2010년\n",
    "\n",
    "cursor = aws_RDS.cursor(dictionary=True ,buffered=True)\n",
    "cursor.execute(\"SELECT  소, 1994년, 1995년, 1996년, 1997년, 1998년, 1999년, 2000년, 2001년, 2002년\\\n",
    "                FROM crime_count_before2\\\n",
    "                where 중 = '절도범' and not 소 = '소계' and not 소 = '특가법(절도강간)'; \")\n",
    "\n",
    "result = cursor.fetchall()\n",
    "\n",
    "year98_theft_df = pd.DataFrame(result)\n",
    "year98_theft_df\n",
    " "
   ]
  },
  {
   "cell_type": "code",
   "execution_count": 3,
   "metadata": {},
   "outputs": [
    {
     "data": {
      "text/html": [
       "<div>\n",
       "<style scoped>\n",
       "    .dataframe tbody tr th:only-of-type {\n",
       "        vertical-align: middle;\n",
       "    }\n",
       "\n",
       "    .dataframe tbody tr th {\n",
       "        vertical-align: top;\n",
       "    }\n",
       "\n",
       "    .dataframe thead th {\n",
       "        text-align: right;\n",
       "    }\n",
       "</style>\n",
       "<table border=\"1\" class=\"dataframe\">\n",
       "  <thead>\n",
       "    <tr style=\"text-align: right;\">\n",
       "      <th></th>\n",
       "      <th>소</th>\n",
       "      <th>2011년</th>\n",
       "      <th>2012년</th>\n",
       "      <th>2013년</th>\n",
       "      <th>2014년</th>\n",
       "      <th>2015년</th>\n",
       "      <th>2016년</th>\n",
       "      <th>2017년</th>\n",
       "    </tr>\n",
       "  </thead>\n",
       "  <tbody>\n",
       "    <tr>\n",
       "      <th>0</th>\n",
       "      <td>절도</td>\n",
       "      <td>241401</td>\n",
       "      <td>253166</td>\n",
       "      <td>248785</td>\n",
       "      <td>229194</td>\n",
       "      <td>211886</td>\n",
       "      <td>175765</td>\n",
       "      <td>160627</td>\n",
       "    </tr>\n",
       "    <tr>\n",
       "      <th>1</th>\n",
       "      <td>절도(상습)</td>\n",
       "      <td>0</td>\n",
       "      <td>0</td>\n",
       "      <td>1052</td>\n",
       "      <td>805</td>\n",
       "      <td>5017</td>\n",
       "      <td>3123</td>\n",
       "      <td>1940</td>\n",
       "    </tr>\n",
       "    <tr>\n",
       "      <th>2</th>\n",
       "      <td>특수절도</td>\n",
       "      <td>21730</td>\n",
       "      <td>21705</td>\n",
       "      <td>20362</td>\n",
       "      <td>17921</td>\n",
       "      <td>18636</td>\n",
       "      <td>15506</td>\n",
       "      <td>13128</td>\n",
       "    </tr>\n",
       "    <tr>\n",
       "      <th>3</th>\n",
       "      <td>특수절도(상습)</td>\n",
       "      <td>40</td>\n",
       "      <td>28</td>\n",
       "      <td>14</td>\n",
       "      <td>46</td>\n",
       "      <td>445</td>\n",
       "      <td>449</td>\n",
       "      <td>87</td>\n",
       "    </tr>\n",
       "    <tr>\n",
       "      <th>4</th>\n",
       "      <td>야간주거침입절도</td>\n",
       "      <td>5018</td>\n",
       "      <td>4553</td>\n",
       "      <td>5537</td>\n",
       "      <td>6292</td>\n",
       "      <td>7439</td>\n",
       "      <td>7065</td>\n",
       "      <td>6659</td>\n",
       "    </tr>\n",
       "    <tr>\n",
       "      <th>5</th>\n",
       "      <td>야간주거침입절도(상습)</td>\n",
       "      <td>16</td>\n",
       "      <td>14</td>\n",
       "      <td>15</td>\n",
       "      <td>20</td>\n",
       "      <td>333</td>\n",
       "      <td>276</td>\n",
       "      <td>132</td>\n",
       "    </tr>\n",
       "    <tr>\n",
       "      <th>6</th>\n",
       "      <td>불법사용</td>\n",
       "      <td>303</td>\n",
       "      <td>294</td>\n",
       "      <td>320</td>\n",
       "      <td>359</td>\n",
       "      <td>380</td>\n",
       "      <td>518</td>\n",
       "      <td>542</td>\n",
       "    </tr>\n",
       "    <tr>\n",
       "      <th>7</th>\n",
       "      <td>불법사용(상습)</td>\n",
       "      <td>0</td>\n",
       "      <td>0</td>\n",
       "      <td>0</td>\n",
       "      <td>0</td>\n",
       "      <td>0</td>\n",
       "      <td>1</td>\n",
       "      <td>1</td>\n",
       "    </tr>\n",
       "    <tr>\n",
       "      <th>8</th>\n",
       "      <td>절도·불법사용(상습)</td>\n",
       "      <td>599</td>\n",
       "      <td>365</td>\n",
       "      <td>0</td>\n",
       "      <td>0</td>\n",
       "      <td>0</td>\n",
       "      <td>0</td>\n",
       "      <td>0</td>\n",
       "    </tr>\n",
       "    <tr>\n",
       "      <th>9</th>\n",
       "      <td>특가법(절도)</td>\n",
       "      <td>12255</td>\n",
       "      <td>10335</td>\n",
       "      <td>12257</td>\n",
       "      <td>11585</td>\n",
       "      <td>1717</td>\n",
       "      <td>334</td>\n",
       "      <td>641</td>\n",
       "    </tr>\n",
       "    <tr>\n",
       "      <th>10</th>\n",
       "      <td>특가법(단체등의조직)</td>\n",
       "      <td>0</td>\n",
       "      <td>0</td>\n",
       "      <td>1</td>\n",
       "      <td>0</td>\n",
       "      <td>0</td>\n",
       "      <td>0</td>\n",
       "      <td>0</td>\n",
       "    </tr>\n",
       "  </tbody>\n",
       "</table>\n",
       "</div>"
      ],
      "text/plain": [
       "               소   2011년   2012년   2013년   2014년   2015년   2016년   2017년\n",
       "0             절도  241401  253166  248785  229194  211886  175765  160627\n",
       "1         절도(상습)       0       0    1052     805    5017    3123    1940\n",
       "2           특수절도   21730   21705   20362   17921   18636   15506   13128\n",
       "3       특수절도(상습)      40      28      14      46     445     449      87\n",
       "4       야간주거침입절도    5018    4553    5537    6292    7439    7065    6659\n",
       "5   야간주거침입절도(상습)      16      14      15      20     333     276     132\n",
       "6           불법사용     303     294     320     359     380     518     542\n",
       "7       불법사용(상습)       0       0       0       0       0       1       1\n",
       "8    절도·불법사용(상습)     599     365       0       0       0       0       0\n",
       "9        특가법(절도)   12255   10335   12257   11585    1717     334     641\n",
       "10   특가법(단체등의조직)       0       0       1       0       0       0       0"
      ]
     },
     "execution_count": 3,
     "metadata": {},
     "output_type": "execute_result"
    }
   ],
   "source": [
    "# 10년이후 절도범 총 범죄 건수 가지고 오기\n",
    "# 2018년, 2019년, 2020년, 2021년, 2022년\n",
    "\n",
    "cursor = aws_RDS.cursor(dictionary=True ,buffered=True)\n",
    "cursor.execute(\"SELECT  소, 2011년, 2012년, 2013년, 2014년, 2015년, 2016년, 2017년\\\n",
    "                FROM crime_count_after\\\n",
    "                where 중 = '절도범죄' and not 소 = '소계' and not 소 = '특가법(절도강간)'; \")\n",
    "\n",
    "result = cursor.fetchall()\n",
    "\n",
    "year22_theft_df = pd.DataFrame(result)\n",
    "year22_theft_df\n",
    " "
   ]
  },
  {
   "cell_type": "code",
   "execution_count": 4,
   "metadata": {},
   "outputs": [
    {
     "data": {
      "text/html": [
       "<div>\n",
       "<style scoped>\n",
       "    .dataframe tbody tr th:only-of-type {\n",
       "        vertical-align: middle;\n",
       "    }\n",
       "\n",
       "    .dataframe tbody tr th {\n",
       "        vertical-align: top;\n",
       "    }\n",
       "\n",
       "    .dataframe thead th {\n",
       "        text-align: right;\n",
       "    }\n",
       "</style>\n",
       "<table border=\"1\" class=\"dataframe\">\n",
       "  <thead>\n",
       "    <tr style=\"text-align: right;\">\n",
       "      <th></th>\n",
       "      <th>소</th>\n",
       "      <th>2012년</th>\n",
       "      <th>2013년</th>\n",
       "      <th>2014년</th>\n",
       "      <th>2015년</th>\n",
       "      <th>2016년</th>\n",
       "      <th>2017년</th>\n",
       "      <th>2018년</th>\n",
       "      <th>2019년</th>\n",
       "      <th>2020년</th>\n",
       "      <th>2021년</th>\n",
       "      <th>2022년</th>\n",
       "    </tr>\n",
       "  </thead>\n",
       "  <tbody>\n",
       "    <tr>\n",
       "      <th>0</th>\n",
       "      <td>교통사고</td>\n",
       "      <td>297226</td>\n",
       "      <td>298083</td>\n",
       "      <td>313617</td>\n",
       "      <td>338212</td>\n",
       "      <td>324770</td>\n",
       "      <td>269434</td>\n",
       "      <td>237354</td>\n",
       "      <td>240802</td>\n",
       "      <td>225762</td>\n",
       "      <td>190488</td>\n",
       "      <td>109931</td>\n",
       "    </tr>\n",
       "    <tr>\n",
       "      <th>1</th>\n",
       "      <td>교통사고외</td>\n",
       "      <td>245558</td>\n",
       "      <td>275370</td>\n",
       "      <td>259876</td>\n",
       "      <td>258453</td>\n",
       "      <td>275631</td>\n",
       "      <td>231728</td>\n",
       "      <td>171017</td>\n",
       "      <td>136552</td>\n",
       "      <td>122963</td>\n",
       "      <td>118146</td>\n",
       "      <td>131098</td>\n",
       "    </tr>\n",
       "  </tbody>\n",
       "</table>\n",
       "</div>"
      ],
      "text/plain": [
       "       소   2012년   2013년   2014년   2015년   2016년   2017년   2018년   2019년  \\\n",
       "0   교통사고  297226  298083  313617  338212  324770  269434  237354  240802   \n",
       "1  교통사고외  245558  275370  259876  258453  275631  231728  171017  136552   \n",
       "\n",
       "    2020년   2021년   2022년  \n",
       "0  225762  190488  109931  \n",
       "1  122963  118146  131098  "
      ]
     },
     "execution_count": 4,
     "metadata": {},
     "output_type": "execute_result"
    }
   ],
   "source": [
    "# 10년이후 교통범 총 범죄 건수 가지고 오기\n",
    "# 2003년, 2004년, 2005년, 2006년, 2007년, 2008년, 2009년, 2010년\n",
    "\n",
    "cursor = aws_RDS.cursor(dictionary=True ,buffered=True)\n",
    "\n",
    "cursor.execute(\"SELECT  소,2012년, 2013년, 2014년, 2015년, 2016년, 2017년, 2018년, 2019년, 2020년, 2021년, 2022년\\\n",
    "                FROM crime_count_after\\\n",
    "                where 소 like '%교통%'; \")\n",
    "\n",
    "result = cursor.fetchall()\n",
    "\n",
    "traffic_df = pd.DataFrame(result)\n",
    "traffic_df\n",
    " "
   ]
  },
  {
   "cell_type": "markdown",
   "metadata": {},
   "source": [
    "### 풍속범 데이터 가지고오기"
   ]
  },
  {
   "cell_type": "code",
   "execution_count": 5,
   "metadata": {},
   "outputs": [],
   "source": [
    "winddf= pd.read_csv(\"../Data/범죄발생및검거현황/풍속범(11~22).csv\", encoding=\"utf-8\")\n",
    "winddf2= pd.read_csv(\"../Data/범죄발생및검거현황/풍속범(94~10).csv\", encoding=\"utf-8\")"
   ]
  },
  {
   "cell_type": "markdown",
   "metadata": {},
   "source": [
    "### 지능범 데이터 가지고오기"
   ]
  },
  {
   "cell_type": "code",
   "execution_count": 6,
   "metadata": {},
   "outputs": [],
   "source": [
    "### 지능범 데이터 가지고오기\n",
    "Itdf= pd.read_csv(\"../Data/범죄발생및검거현황/지능범(11~22).csv\", encoding=\"utf-8\")\n",
    "Itdf2= pd.read_csv(\"../Data/범죄발생및검거현황/지능범(94~10).csv\", encoding=\"utf-8\")"
   ]
  },
  {
   "cell_type": "markdown",
   "metadata": {},
   "source": [
    "### 강력범 데이터 가지고오기"
   ]
  },
  {
   "cell_type": "code",
   "execution_count": 7,
   "metadata": {},
   "outputs": [
    {
     "data": {
      "text/html": [
       "<div>\n",
       "<style scoped>\n",
       "    .dataframe tbody tr th:only-of-type {\n",
       "        vertical-align: middle;\n",
       "    }\n",
       "\n",
       "    .dataframe tbody tr th {\n",
       "        vertical-align: top;\n",
       "    }\n",
       "\n",
       "    .dataframe thead th {\n",
       "        text-align: right;\n",
       "    }\n",
       "</style>\n",
       "<table border=\"1\" class=\"dataframe\">\n",
       "  <thead>\n",
       "    <tr style=\"text-align: right;\">\n",
       "      <th></th>\n",
       "      <th>소</th>\n",
       "      <th>1994년</th>\n",
       "      <th>1995년</th>\n",
       "      <th>1996년</th>\n",
       "      <th>1997년</th>\n",
       "      <th>1998년</th>\n",
       "      <th>1999년</th>\n",
       "      <th>2000년</th>\n",
       "      <th>2001년</th>\n",
       "      <th>2002년</th>\n",
       "    </tr>\n",
       "  </thead>\n",
       "  <tbody>\n",
       "    <tr>\n",
       "      <th>0</th>\n",
       "      <td>살인</td>\n",
       "      <td>653</td>\n",
       "      <td>630</td>\n",
       "      <td>679</td>\n",
       "      <td>784</td>\n",
       "      <td>963</td>\n",
       "      <td>976</td>\n",
       "      <td>941</td>\n",
       "      <td>1051</td>\n",
       "      <td>957</td>\n",
       "    </tr>\n",
       "    <tr>\n",
       "      <th>1</th>\n",
       "      <td>강도</td>\n",
       "      <td>4580</td>\n",
       "      <td>3674</td>\n",
       "      <td>3670</td>\n",
       "      <td>4420</td>\n",
       "      <td>5516</td>\n",
       "      <td>4972</td>\n",
       "      <td>5461</td>\n",
       "      <td>5692</td>\n",
       "      <td>5906</td>\n",
       "    </tr>\n",
       "    <tr>\n",
       "      <th>2</th>\n",
       "      <td>강간</td>\n",
       "      <td>6173</td>\n",
       "      <td>4844</td>\n",
       "      <td>5580</td>\n",
       "      <td>5627</td>\n",
       "      <td>5978</td>\n",
       "      <td>6359</td>\n",
       "      <td>6855</td>\n",
       "      <td>6751</td>\n",
       "      <td>6119</td>\n",
       "    </tr>\n",
       "    <tr>\n",
       "      <th>3</th>\n",
       "      <td>방화</td>\n",
       "      <td>708</td>\n",
       "      <td>614</td>\n",
       "      <td>726</td>\n",
       "      <td>768</td>\n",
       "      <td>1145</td>\n",
       "      <td>1093</td>\n",
       "      <td>1263</td>\n",
       "      <td>1364</td>\n",
       "      <td>1371</td>\n",
       "    </tr>\n",
       "  </tbody>\n",
       "</table>\n",
       "</div>"
      ],
      "text/plain": [
       "    소  1994년  1995년  1996년  1997년  1998년  1999년  2000년  2001년  2002년\n",
       "0  살인    653    630    679    784    963    976    941   1051    957\n",
       "1  강도   4580   3674   3670   4420   5516   4972   5461   5692   5906\n",
       "2  강간   6173   4844   5580   5627   5978   6359   6855   6751   6119\n",
       "3  방화    708    614    726    768   1145   1093   1263   1364   1371"
      ]
     },
     "execution_count": 7,
     "metadata": {},
     "output_type": "execute_result"
    }
   ],
   "source": [
    "cursor = aws_RDS.cursor(dictionary=True ,buffered=True)\n",
    "cursor.execute(\"SELECT 소, 1994년, 1995년, 1996년, 1997년, 1998년, 1999년, 2000년, 2001년, 2002년\\\n",
    "                FROM crime_count_before2\\\n",
    "                where 중 = '강력범' and not 소 = '소계' ; \")\n",
    "\n",
    "result = cursor.fetchall()\n",
    "\n",
    "year08_power_df = pd.DataFrame(result)\n",
    "year08_power_df\n",
    " "
   ]
  },
  {
   "cell_type": "markdown",
   "metadata": {},
   "source": [
    "## 전체 시각화 자료"
   ]
  },
  {
   "cell_type": "markdown",
   "metadata": {},
   "source": [
    "### 총건수 시각화"
   ]
  },
  {
   "cell_type": "code",
   "execution_count": null,
   "metadata": {},
   "outputs": [],
   "source": []
  },
  {
   "cell_type": "markdown",
   "metadata": {},
   "source": [
    "### 범죄 유형별 시각화 "
   ]
  },
  {
   "cell_type": "code",
   "execution_count": null,
   "metadata": {},
   "outputs": [],
   "source": []
  },
  {
   "cell_type": "markdown",
   "metadata": {},
   "source": [
    "## 강력범"
   ]
  },
  {
   "cell_type": "code",
   "execution_count": 8,
   "metadata": {},
   "outputs": [
    {
     "data": {
      "application/vnd.plotly.v1+json": {
       "config": {
        "plotlyServerURL": "https://plot.ly"
       },
       "data": [
        {
         "hovertemplate": "Category=살인<br>Year=%{text}<br>Value=%{y}<extra></extra>",
         "legendgroup": "살인",
         "line": {
          "color": "#636efa",
          "dash": "solid"
         },
         "marker": {
          "symbol": "circle"
         },
         "mode": "lines+markers+text",
         "name": "살인",
         "orientation": "v",
         "showlegend": true,
         "text": [
          "1994년",
          "1995년",
          "1996년",
          "1997년",
          "1998년",
          "1999년",
          "2000년",
          "2001년",
          "2002년"
         ],
         "type": "scatter",
         "x": [
          "1994년",
          "1995년",
          "1996년",
          "1997년",
          "1998년",
          "1999년",
          "2000년",
          "2001년",
          "2002년"
         ],
         "xaxis": "x",
         "y": [
          653,
          630,
          679,
          784,
          963,
          976,
          941,
          1051,
          957
         ],
         "yaxis": "y"
        },
        {
         "hovertemplate": "Category=강도<br>Year=%{text}<br>Value=%{y}<extra></extra>",
         "legendgroup": "강도",
         "line": {
          "color": "#EF553B",
          "dash": "solid"
         },
         "marker": {
          "symbol": "circle"
         },
         "mode": "lines+markers+text",
         "name": "강도",
         "orientation": "v",
         "showlegend": true,
         "text": [
          "1994년",
          "1995년",
          "1996년",
          "1997년",
          "1998년",
          "1999년",
          "2000년",
          "2001년",
          "2002년"
         ],
         "type": "scatter",
         "x": [
          "1994년",
          "1995년",
          "1996년",
          "1997년",
          "1998년",
          "1999년",
          "2000년",
          "2001년",
          "2002년"
         ],
         "xaxis": "x",
         "y": [
          4580,
          3674,
          3670,
          4420,
          5516,
          4972,
          5461,
          5692,
          5906
         ],
         "yaxis": "y"
        },
        {
         "hovertemplate": "Category=강간<br>Year=%{text}<br>Value=%{y}<extra></extra>",
         "legendgroup": "강간",
         "line": {
          "color": "#00cc96",
          "dash": "solid"
         },
         "marker": {
          "symbol": "circle"
         },
         "mode": "lines+markers+text",
         "name": "강간",
         "orientation": "v",
         "showlegend": true,
         "text": [
          "1994년",
          "1995년",
          "1996년",
          "1997년",
          "1998년",
          "1999년",
          "2000년",
          "2001년",
          "2002년"
         ],
         "type": "scatter",
         "x": [
          "1994년",
          "1995년",
          "1996년",
          "1997년",
          "1998년",
          "1999년",
          "2000년",
          "2001년",
          "2002년"
         ],
         "xaxis": "x",
         "y": [
          6173,
          4844,
          5580,
          5627,
          5978,
          6359,
          6855,
          6751,
          6119
         ],
         "yaxis": "y"
        },
        {
         "hovertemplate": "Category=방화<br>Year=%{text}<br>Value=%{y}<extra></extra>",
         "legendgroup": "방화",
         "line": {
          "color": "#ab63fa",
          "dash": "solid"
         },
         "marker": {
          "symbol": "circle"
         },
         "mode": "lines+markers+text",
         "name": "방화",
         "orientation": "v",
         "showlegend": true,
         "text": [
          "1994년",
          "1995년",
          "1996년",
          "1997년",
          "1998년",
          "1999년",
          "2000년",
          "2001년",
          "2002년"
         ],
         "type": "scatter",
         "x": [
          "1994년",
          "1995년",
          "1996년",
          "1997년",
          "1998년",
          "1999년",
          "2000년",
          "2001년",
          "2002년"
         ],
         "xaxis": "x",
         "y": [
          708,
          614,
          726,
          768,
          1145,
          1093,
          1263,
          1364,
          1371
         ],
         "yaxis": "y"
        }
       ],
       "layout": {
        "legend": {
         "title": {
          "text": "Category"
         },
         "tracegroupgap": 0
        },
        "margin": {
         "t": 60
        },
        "template": {
         "data": {
          "bar": [
           {
            "error_x": {
             "color": "#2a3f5f"
            },
            "error_y": {
             "color": "#2a3f5f"
            },
            "marker": {
             "line": {
              "color": "#E5ECF6",
              "width": 0.5
             },
             "pattern": {
              "fillmode": "overlay",
              "size": 10,
              "solidity": 0.2
             }
            },
            "type": "bar"
           }
          ],
          "barpolar": [
           {
            "marker": {
             "line": {
              "color": "#E5ECF6",
              "width": 0.5
             },
             "pattern": {
              "fillmode": "overlay",
              "size": 10,
              "solidity": 0.2
             }
            },
            "type": "barpolar"
           }
          ],
          "carpet": [
           {
            "aaxis": {
             "endlinecolor": "#2a3f5f",
             "gridcolor": "white",
             "linecolor": "white",
             "minorgridcolor": "white",
             "startlinecolor": "#2a3f5f"
            },
            "baxis": {
             "endlinecolor": "#2a3f5f",
             "gridcolor": "white",
             "linecolor": "white",
             "minorgridcolor": "white",
             "startlinecolor": "#2a3f5f"
            },
            "type": "carpet"
           }
          ],
          "choropleth": [
           {
            "colorbar": {
             "outlinewidth": 0,
             "ticks": ""
            },
            "type": "choropleth"
           }
          ],
          "contour": [
           {
            "colorbar": {
             "outlinewidth": 0,
             "ticks": ""
            },
            "colorscale": [
             [
              0,
              "#0d0887"
             ],
             [
              0.1111111111111111,
              "#46039f"
             ],
             [
              0.2222222222222222,
              "#7201a8"
             ],
             [
              0.3333333333333333,
              "#9c179e"
             ],
             [
              0.4444444444444444,
              "#bd3786"
             ],
             [
              0.5555555555555556,
              "#d8576b"
             ],
             [
              0.6666666666666666,
              "#ed7953"
             ],
             [
              0.7777777777777778,
              "#fb9f3a"
             ],
             [
              0.8888888888888888,
              "#fdca26"
             ],
             [
              1,
              "#f0f921"
             ]
            ],
            "type": "contour"
           }
          ],
          "contourcarpet": [
           {
            "colorbar": {
             "outlinewidth": 0,
             "ticks": ""
            },
            "type": "contourcarpet"
           }
          ],
          "heatmap": [
           {
            "colorbar": {
             "outlinewidth": 0,
             "ticks": ""
            },
            "colorscale": [
             [
              0,
              "#0d0887"
             ],
             [
              0.1111111111111111,
              "#46039f"
             ],
             [
              0.2222222222222222,
              "#7201a8"
             ],
             [
              0.3333333333333333,
              "#9c179e"
             ],
             [
              0.4444444444444444,
              "#bd3786"
             ],
             [
              0.5555555555555556,
              "#d8576b"
             ],
             [
              0.6666666666666666,
              "#ed7953"
             ],
             [
              0.7777777777777778,
              "#fb9f3a"
             ],
             [
              0.8888888888888888,
              "#fdca26"
             ],
             [
              1,
              "#f0f921"
             ]
            ],
            "type": "heatmap"
           }
          ],
          "heatmapgl": [
           {
            "colorbar": {
             "outlinewidth": 0,
             "ticks": ""
            },
            "colorscale": [
             [
              0,
              "#0d0887"
             ],
             [
              0.1111111111111111,
              "#46039f"
             ],
             [
              0.2222222222222222,
              "#7201a8"
             ],
             [
              0.3333333333333333,
              "#9c179e"
             ],
             [
              0.4444444444444444,
              "#bd3786"
             ],
             [
              0.5555555555555556,
              "#d8576b"
             ],
             [
              0.6666666666666666,
              "#ed7953"
             ],
             [
              0.7777777777777778,
              "#fb9f3a"
             ],
             [
              0.8888888888888888,
              "#fdca26"
             ],
             [
              1,
              "#f0f921"
             ]
            ],
            "type": "heatmapgl"
           }
          ],
          "histogram": [
           {
            "marker": {
             "pattern": {
              "fillmode": "overlay",
              "size": 10,
              "solidity": 0.2
             }
            },
            "type": "histogram"
           }
          ],
          "histogram2d": [
           {
            "colorbar": {
             "outlinewidth": 0,
             "ticks": ""
            },
            "colorscale": [
             [
              0,
              "#0d0887"
             ],
             [
              0.1111111111111111,
              "#46039f"
             ],
             [
              0.2222222222222222,
              "#7201a8"
             ],
             [
              0.3333333333333333,
              "#9c179e"
             ],
             [
              0.4444444444444444,
              "#bd3786"
             ],
             [
              0.5555555555555556,
              "#d8576b"
             ],
             [
              0.6666666666666666,
              "#ed7953"
             ],
             [
              0.7777777777777778,
              "#fb9f3a"
             ],
             [
              0.8888888888888888,
              "#fdca26"
             ],
             [
              1,
              "#f0f921"
             ]
            ],
            "type": "histogram2d"
           }
          ],
          "histogram2dcontour": [
           {
            "colorbar": {
             "outlinewidth": 0,
             "ticks": ""
            },
            "colorscale": [
             [
              0,
              "#0d0887"
             ],
             [
              0.1111111111111111,
              "#46039f"
             ],
             [
              0.2222222222222222,
              "#7201a8"
             ],
             [
              0.3333333333333333,
              "#9c179e"
             ],
             [
              0.4444444444444444,
              "#bd3786"
             ],
             [
              0.5555555555555556,
              "#d8576b"
             ],
             [
              0.6666666666666666,
              "#ed7953"
             ],
             [
              0.7777777777777778,
              "#fb9f3a"
             ],
             [
              0.8888888888888888,
              "#fdca26"
             ],
             [
              1,
              "#f0f921"
             ]
            ],
            "type": "histogram2dcontour"
           }
          ],
          "mesh3d": [
           {
            "colorbar": {
             "outlinewidth": 0,
             "ticks": ""
            },
            "type": "mesh3d"
           }
          ],
          "parcoords": [
           {
            "line": {
             "colorbar": {
              "outlinewidth": 0,
              "ticks": ""
             }
            },
            "type": "parcoords"
           }
          ],
          "pie": [
           {
            "automargin": true,
            "type": "pie"
           }
          ],
          "scatter": [
           {
            "fillpattern": {
             "fillmode": "overlay",
             "size": 10,
             "solidity": 0.2
            },
            "type": "scatter"
           }
          ],
          "scatter3d": [
           {
            "line": {
             "colorbar": {
              "outlinewidth": 0,
              "ticks": ""
             }
            },
            "marker": {
             "colorbar": {
              "outlinewidth": 0,
              "ticks": ""
             }
            },
            "type": "scatter3d"
           }
          ],
          "scattercarpet": [
           {
            "marker": {
             "colorbar": {
              "outlinewidth": 0,
              "ticks": ""
             }
            },
            "type": "scattercarpet"
           }
          ],
          "scattergeo": [
           {
            "marker": {
             "colorbar": {
              "outlinewidth": 0,
              "ticks": ""
             }
            },
            "type": "scattergeo"
           }
          ],
          "scattergl": [
           {
            "marker": {
             "colorbar": {
              "outlinewidth": 0,
              "ticks": ""
             }
            },
            "type": "scattergl"
           }
          ],
          "scattermapbox": [
           {
            "marker": {
             "colorbar": {
              "outlinewidth": 0,
              "ticks": ""
             }
            },
            "type": "scattermapbox"
           }
          ],
          "scatterpolar": [
           {
            "marker": {
             "colorbar": {
              "outlinewidth": 0,
              "ticks": ""
             }
            },
            "type": "scatterpolar"
           }
          ],
          "scatterpolargl": [
           {
            "marker": {
             "colorbar": {
              "outlinewidth": 0,
              "ticks": ""
             }
            },
            "type": "scatterpolargl"
           }
          ],
          "scatterternary": [
           {
            "marker": {
             "colorbar": {
              "outlinewidth": 0,
              "ticks": ""
             }
            },
            "type": "scatterternary"
           }
          ],
          "surface": [
           {
            "colorbar": {
             "outlinewidth": 0,
             "ticks": ""
            },
            "colorscale": [
             [
              0,
              "#0d0887"
             ],
             [
              0.1111111111111111,
              "#46039f"
             ],
             [
              0.2222222222222222,
              "#7201a8"
             ],
             [
              0.3333333333333333,
              "#9c179e"
             ],
             [
              0.4444444444444444,
              "#bd3786"
             ],
             [
              0.5555555555555556,
              "#d8576b"
             ],
             [
              0.6666666666666666,
              "#ed7953"
             ],
             [
              0.7777777777777778,
              "#fb9f3a"
             ],
             [
              0.8888888888888888,
              "#fdca26"
             ],
             [
              1,
              "#f0f921"
             ]
            ],
            "type": "surface"
           }
          ],
          "table": [
           {
            "cells": {
             "fill": {
              "color": "#EBF0F8"
             },
             "line": {
              "color": "white"
             }
            },
            "header": {
             "fill": {
              "color": "#C8D4E3"
             },
             "line": {
              "color": "white"
             }
            },
            "type": "table"
           }
          ]
         },
         "layout": {
          "annotationdefaults": {
           "arrowcolor": "#2a3f5f",
           "arrowhead": 0,
           "arrowwidth": 1
          },
          "autotypenumbers": "strict",
          "coloraxis": {
           "colorbar": {
            "outlinewidth": 0,
            "ticks": ""
           }
          },
          "colorscale": {
           "diverging": [
            [
             0,
             "#8e0152"
            ],
            [
             0.1,
             "#c51b7d"
            ],
            [
             0.2,
             "#de77ae"
            ],
            [
             0.3,
             "#f1b6da"
            ],
            [
             0.4,
             "#fde0ef"
            ],
            [
             0.5,
             "#f7f7f7"
            ],
            [
             0.6,
             "#e6f5d0"
            ],
            [
             0.7,
             "#b8e186"
            ],
            [
             0.8,
             "#7fbc41"
            ],
            [
             0.9,
             "#4d9221"
            ],
            [
             1,
             "#276419"
            ]
           ],
           "sequential": [
            [
             0,
             "#0d0887"
            ],
            [
             0.1111111111111111,
             "#46039f"
            ],
            [
             0.2222222222222222,
             "#7201a8"
            ],
            [
             0.3333333333333333,
             "#9c179e"
            ],
            [
             0.4444444444444444,
             "#bd3786"
            ],
            [
             0.5555555555555556,
             "#d8576b"
            ],
            [
             0.6666666666666666,
             "#ed7953"
            ],
            [
             0.7777777777777778,
             "#fb9f3a"
            ],
            [
             0.8888888888888888,
             "#fdca26"
            ],
            [
             1,
             "#f0f921"
            ]
           ],
           "sequentialminus": [
            [
             0,
             "#0d0887"
            ],
            [
             0.1111111111111111,
             "#46039f"
            ],
            [
             0.2222222222222222,
             "#7201a8"
            ],
            [
             0.3333333333333333,
             "#9c179e"
            ],
            [
             0.4444444444444444,
             "#bd3786"
            ],
            [
             0.5555555555555556,
             "#d8576b"
            ],
            [
             0.6666666666666666,
             "#ed7953"
            ],
            [
             0.7777777777777778,
             "#fb9f3a"
            ],
            [
             0.8888888888888888,
             "#fdca26"
            ],
            [
             1,
             "#f0f921"
            ]
           ]
          },
          "colorway": [
           "#636efa",
           "#EF553B",
           "#00cc96",
           "#ab63fa",
           "#FFA15A",
           "#19d3f3",
           "#FF6692",
           "#B6E880",
           "#FF97FF",
           "#FECB52"
          ],
          "font": {
           "color": "#2a3f5f"
          },
          "geo": {
           "bgcolor": "white",
           "lakecolor": "white",
           "landcolor": "#E5ECF6",
           "showlakes": true,
           "showland": true,
           "subunitcolor": "white"
          },
          "hoverlabel": {
           "align": "left"
          },
          "hovermode": "closest",
          "mapbox": {
           "style": "light"
          },
          "paper_bgcolor": "white",
          "plot_bgcolor": "#E5ECF6",
          "polar": {
           "angularaxis": {
            "gridcolor": "white",
            "linecolor": "white",
            "ticks": ""
           },
           "bgcolor": "#E5ECF6",
           "radialaxis": {
            "gridcolor": "white",
            "linecolor": "white",
            "ticks": ""
           }
          },
          "scene": {
           "xaxis": {
            "backgroundcolor": "#E5ECF6",
            "gridcolor": "white",
            "gridwidth": 2,
            "linecolor": "white",
            "showbackground": true,
            "ticks": "",
            "zerolinecolor": "white"
           },
           "yaxis": {
            "backgroundcolor": "#E5ECF6",
            "gridcolor": "white",
            "gridwidth": 2,
            "linecolor": "white",
            "showbackground": true,
            "ticks": "",
            "zerolinecolor": "white"
           },
           "zaxis": {
            "backgroundcolor": "#E5ECF6",
            "gridcolor": "white",
            "gridwidth": 2,
            "linecolor": "white",
            "showbackground": true,
            "ticks": "",
            "zerolinecolor": "white"
           }
          },
          "shapedefaults": {
           "line": {
            "color": "#2a3f5f"
           }
          },
          "ternary": {
           "aaxis": {
            "gridcolor": "white",
            "linecolor": "white",
            "ticks": ""
           },
           "baxis": {
            "gridcolor": "white",
            "linecolor": "white",
            "ticks": ""
           },
           "bgcolor": "#E5ECF6",
           "caxis": {
            "gridcolor": "white",
            "linecolor": "white",
            "ticks": ""
           }
          },
          "title": {
           "x": 0.05
          },
          "xaxis": {
           "automargin": true,
           "gridcolor": "white",
           "linecolor": "white",
           "ticks": "",
           "title": {
            "standoff": 15
           },
           "zerolinecolor": "white",
           "zerolinewidth": 2
          },
          "yaxis": {
           "automargin": true,
           "gridcolor": "white",
           "linecolor": "white",
           "ticks": "",
           "title": {
            "standoff": 15
           },
           "zerolinecolor": "white",
           "zerolinewidth": 2
          }
         }
        },
        "title": {
         "text": "강력범 범죄 유형"
        },
        "xaxis": {
         "anchor": "y",
         "domain": [
          0,
          1
         ],
         "title": {
          "text": "Year"
         }
        },
        "yaxis": {
         "anchor": "x",
         "domain": [
          0,
          1
         ],
         "title": {
          "text": "Value"
         }
        }
       }
      }
     },
     "metadata": {},
     "output_type": "display_data"
    }
   ],
   "source": [
    "meltyear08_power_df  = pd.melt(year08_power_df, id_vars=['소'], var_name=\"년도\")\n",
    "fig = px.line(meltyear08_power_df, x='년도', y='value', color='소', \n",
    "            #  barmode='group',\n",
    "             text='년도', \n",
    "             labels={'년도': 'Year', 'value': 'Value', '소': 'Category'})\n",
    "\n",
    "fig.update_layout(title='강력범 범죄 유형', xaxis_title='Year', yaxis_title='Value')\n",
    "\n",
    "fig.show()"
   ]
  },
  {
   "cell_type": "code",
   "execution_count": 17,
   "metadata": {},
   "outputs": [],
   "source": [
    "fig.write_html(\"file.html\")"
   ]
  },
  {
   "cell_type": "markdown",
   "metadata": {},
   "source": [
    "## 절도범"
   ]
  },
  {
   "cell_type": "markdown",
   "metadata": {},
   "source": [
    "### 94 ~ 01 까지의 데이터 \n",
    "> 99년이후 엄청나게 큰수로 증가\n",
    "1. IMF이후 생계형 범죄 증가"
   ]
  },
  {
   "cell_type": "code",
   "execution_count": 9,
   "metadata": {},
   "outputs": [
    {
     "data": {
      "application/vnd.plotly.v1+json": {
       "config": {
        "plotlyServerURL": "https://plot.ly"
       },
       "data": [
        {
         "alignmentgroup": "True",
         "hovertemplate": "Category=절도<br>Year=%{text}<br>Value=%{y}<extra></extra>",
         "legendgroup": "절도",
         "marker": {
          "color": "#636efa",
          "pattern": {
           "shape": ""
          }
         },
         "name": "절도",
         "offsetgroup": "절도",
         "orientation": "v",
         "showlegend": true,
         "text": [
          "1994년",
          "1995년",
          "1996년",
          "1997년",
          "1998년",
          "1999년",
          "2000년",
          "2001년",
          "2002년"
         ],
         "textposition": "auto",
         "type": "bar",
         "x": [
          "1994년",
          "1995년",
          "1996년",
          "1997년",
          "1998년",
          "1999년",
          "2000년",
          "2001년",
          "2002년"
         ],
         "xaxis": "x",
         "y": [
          38787,
          43856,
          51853,
          62685,
          62749,
          60598,
          140388,
          147087,
          130527
         ],
         "yaxis": "y"
        },
        {
         "alignmentgroup": "True",
         "hovertemplate": "Category=특가법(절도)<br>Year=%{text}<br>Value=%{y}<extra></extra>",
         "legendgroup": "특가법(절도)",
         "marker": {
          "color": "#EF553B",
          "pattern": {
           "shape": ""
          }
         },
         "name": "특가법(절도)",
         "offsetgroup": "특가법(절도)",
         "orientation": "v",
         "showlegend": true,
         "text": [
          "1994년",
          "1995년",
          "1996년",
          "1997년",
          "1998년",
          "1999년",
          "2000년",
          "2001년",
          "2002년"
         ],
         "textposition": "auto",
         "type": "bar",
         "x": [
          "1994년",
          "1995년",
          "1996년",
          "1997년",
          "1998년",
          "1999년",
          "2000년",
          "2001년",
          "2002년"
         ],
         "xaxis": "x",
         "y": [
          3879,
          2342,
          1996,
          2362,
          3812,
          7136,
          9388,
          12330,
          20014
         ],
         "yaxis": "y"
        },
        {
         "alignmentgroup": "True",
         "hovertemplate": "Category=야간주거침입절도<br>Year=%{text}<br>Value=%{y}<extra></extra>",
         "legendgroup": "야간주거침입절도",
         "marker": {
          "color": "#00cc96",
          "pattern": {
           "shape": ""
          }
         },
         "name": "야간주거침입절도",
         "offsetgroup": "야간주거침입절도",
         "orientation": "v",
         "showlegend": true,
         "text": [
          "1994년",
          "1995년",
          "1996년",
          "1997년",
          "1998년",
          "1999년",
          "2000년",
          "2001년",
          "2002년"
         ],
         "textposition": "auto",
         "type": "bar",
         "x": [
          "1994년",
          "1995년",
          "1996년",
          "1997년",
          "1998년",
          "1999년",
          "2000년",
          "2001년",
          "2002년"
         ],
         "xaxis": "x",
         "y": [
          3037,
          2619,
          2528,
          2593,
          3202,
          3337,
          3510,
          3089,
          3199
         ],
         "yaxis": "y"
        },
        {
         "alignmentgroup": "True",
         "hovertemplate": "Category=야간주거침입절도(상습)<br>Year=%{text}<br>Value=%{y}<extra></extra>",
         "legendgroup": "야간주거침입절도(상습)",
         "marker": {
          "color": "#ab63fa",
          "pattern": {
           "shape": ""
          }
         },
         "name": "야간주거침입절도(상습)",
         "offsetgroup": "야간주거침입절도(상습)",
         "orientation": "v",
         "showlegend": true,
         "text": [
          "1994년",
          "1995년",
          "1996년",
          "1997년",
          "1998년",
          "1999년",
          "2000년",
          "2001년",
          "2002년"
         ],
         "textposition": "auto",
         "type": "bar",
         "x": [
          "1994년",
          "1995년",
          "1996년",
          "1997년",
          "1998년",
          "1999년",
          "2000년",
          "2001년",
          "2002년"
         ],
         "xaxis": "x",
         "y": [
          2,
          4,
          2,
          0,
          12,
          7,
          4,
          9,
          3
         ],
         "yaxis": "y"
        },
        {
         "alignmentgroup": "True",
         "hovertemplate": "Category=특수절도<br>Year=%{text}<br>Value=%{y}<extra></extra>",
         "legendgroup": "특수절도",
         "marker": {
          "color": "#FFA15A",
          "pattern": {
           "shape": ""
          }
         },
         "name": "특수절도",
         "offsetgroup": "특수절도",
         "orientation": "v",
         "showlegend": true,
         "text": [
          "1994년",
          "1995년",
          "1996년",
          "1997년",
          "1998년",
          "1999년",
          "2000년",
          "2001년",
          "2002년"
         ],
         "textposition": "auto",
         "type": "bar",
         "x": [
          "1994년",
          "1995년",
          "1996년",
          "1997년",
          "1998년",
          "1999년",
          "2000년",
          "2001년",
          "2002년"
         ],
         "xaxis": "x",
         "y": [
          13891,
          13596,
          13653,
          14805,
          20870,
          17507,
          19620,
          17248,
          23155
         ],
         "yaxis": "y"
        },
        {
         "alignmentgroup": "True",
         "hovertemplate": "Category=자동차·선박등불법사용<br>Year=%{text}<br>Value=%{y}<extra></extra>",
         "legendgroup": "자동차·선박등불법사용",
         "marker": {
          "color": "#19d3f3",
          "pattern": {
           "shape": ""
          }
         },
         "name": "자동차·선박등불법사용",
         "offsetgroup": "자동차·선박등불법사용",
         "orientation": "v",
         "showlegend": true,
         "text": [
          "1994년",
          "1995년",
          "1996년",
          "1997년",
          "1998년",
          "1999년",
          "2000년",
          "2001년",
          "2002년"
         ],
         "textposition": "auto",
         "type": "bar",
         "x": [
          "1994년",
          "1995년",
          "1996년",
          "1997년",
          "1998년",
          "1999년",
          "2000년",
          "2001년",
          "2002년"
         ],
         "xaxis": "x",
         "y": [
          0,
          0,
          0,
          351,
          379,
          343,
          384,
          373,
          425
         ],
         "yaxis": "y"
        },
        {
         "alignmentgroup": "True",
         "hovertemplate": "Category=특수절도(상습)<br>Year=%{text}<br>Value=%{y}<extra></extra>",
         "legendgroup": "특수절도(상습)",
         "marker": {
          "color": "#FF6692",
          "pattern": {
           "shape": ""
          }
         },
         "name": "특수절도(상습)",
         "offsetgroup": "특수절도(상습)",
         "orientation": "v",
         "showlegend": true,
         "text": [
          "1994년",
          "1995년",
          "1996년",
          "1997년",
          "1998년",
          "1999년",
          "2000년",
          "2001년",
          "2002년"
         ],
         "textposition": "auto",
         "type": "bar",
         "x": [
          "1994년",
          "1995년",
          "1996년",
          "1997년",
          "1998년",
          "1999년",
          "2000년",
          "2001년",
          "2002년"
         ],
         "xaxis": "x",
         "y": [
          17,
          16,
          5,
          20,
          67,
          41,
          12,
          56,
          45
         ],
         "yaxis": "y"
        },
        {
         "alignmentgroup": "True",
         "hovertemplate": "Category=상습절도<br>Year=%{text}<br>Value=%{y}<extra></extra>",
         "legendgroup": "상습절도",
         "marker": {
          "color": "#B6E880",
          "pattern": {
           "shape": ""
          }
         },
         "name": "상습절도",
         "offsetgroup": "상습절도",
         "orientation": "v",
         "showlegend": true,
         "text": [
          "1994년",
          "1995년",
          "1996년",
          "1997년",
          "1998년",
          "1999년",
          "2000년",
          "2001년",
          "2002년"
         ],
         "textposition": "auto",
         "type": "bar",
         "x": [
          "1994년",
          "1995년",
          "1996년",
          "1997년",
          "1998년",
          "1999년",
          "2000년",
          "2001년",
          "2002년"
         ],
         "xaxis": "x",
         "y": [
          641,
          277,
          201,
          247,
          347,
          426,
          570,
          512,
          1089
         ],
         "yaxis": "y"
        }
       ],
       "layout": {
        "barmode": "group",
        "legend": {
         "title": {
          "text": "Category"
         },
         "tracegroupgap": 0
        },
        "margin": {
         "t": 60
        },
        "template": {
         "data": {
          "bar": [
           {
            "error_x": {
             "color": "#2a3f5f"
            },
            "error_y": {
             "color": "#2a3f5f"
            },
            "marker": {
             "line": {
              "color": "#E5ECF6",
              "width": 0.5
             },
             "pattern": {
              "fillmode": "overlay",
              "size": 10,
              "solidity": 0.2
             }
            },
            "type": "bar"
           }
          ],
          "barpolar": [
           {
            "marker": {
             "line": {
              "color": "#E5ECF6",
              "width": 0.5
             },
             "pattern": {
              "fillmode": "overlay",
              "size": 10,
              "solidity": 0.2
             }
            },
            "type": "barpolar"
           }
          ],
          "carpet": [
           {
            "aaxis": {
             "endlinecolor": "#2a3f5f",
             "gridcolor": "white",
             "linecolor": "white",
             "minorgridcolor": "white",
             "startlinecolor": "#2a3f5f"
            },
            "baxis": {
             "endlinecolor": "#2a3f5f",
             "gridcolor": "white",
             "linecolor": "white",
             "minorgridcolor": "white",
             "startlinecolor": "#2a3f5f"
            },
            "type": "carpet"
           }
          ],
          "choropleth": [
           {
            "colorbar": {
             "outlinewidth": 0,
             "ticks": ""
            },
            "type": "choropleth"
           }
          ],
          "contour": [
           {
            "colorbar": {
             "outlinewidth": 0,
             "ticks": ""
            },
            "colorscale": [
             [
              0,
              "#0d0887"
             ],
             [
              0.1111111111111111,
              "#46039f"
             ],
             [
              0.2222222222222222,
              "#7201a8"
             ],
             [
              0.3333333333333333,
              "#9c179e"
             ],
             [
              0.4444444444444444,
              "#bd3786"
             ],
             [
              0.5555555555555556,
              "#d8576b"
             ],
             [
              0.6666666666666666,
              "#ed7953"
             ],
             [
              0.7777777777777778,
              "#fb9f3a"
             ],
             [
              0.8888888888888888,
              "#fdca26"
             ],
             [
              1,
              "#f0f921"
             ]
            ],
            "type": "contour"
           }
          ],
          "contourcarpet": [
           {
            "colorbar": {
             "outlinewidth": 0,
             "ticks": ""
            },
            "type": "contourcarpet"
           }
          ],
          "heatmap": [
           {
            "colorbar": {
             "outlinewidth": 0,
             "ticks": ""
            },
            "colorscale": [
             [
              0,
              "#0d0887"
             ],
             [
              0.1111111111111111,
              "#46039f"
             ],
             [
              0.2222222222222222,
              "#7201a8"
             ],
             [
              0.3333333333333333,
              "#9c179e"
             ],
             [
              0.4444444444444444,
              "#bd3786"
             ],
             [
              0.5555555555555556,
              "#d8576b"
             ],
             [
              0.6666666666666666,
              "#ed7953"
             ],
             [
              0.7777777777777778,
              "#fb9f3a"
             ],
             [
              0.8888888888888888,
              "#fdca26"
             ],
             [
              1,
              "#f0f921"
             ]
            ],
            "type": "heatmap"
           }
          ],
          "heatmapgl": [
           {
            "colorbar": {
             "outlinewidth": 0,
             "ticks": ""
            },
            "colorscale": [
             [
              0,
              "#0d0887"
             ],
             [
              0.1111111111111111,
              "#46039f"
             ],
             [
              0.2222222222222222,
              "#7201a8"
             ],
             [
              0.3333333333333333,
              "#9c179e"
             ],
             [
              0.4444444444444444,
              "#bd3786"
             ],
             [
              0.5555555555555556,
              "#d8576b"
             ],
             [
              0.6666666666666666,
              "#ed7953"
             ],
             [
              0.7777777777777778,
              "#fb9f3a"
             ],
             [
              0.8888888888888888,
              "#fdca26"
             ],
             [
              1,
              "#f0f921"
             ]
            ],
            "type": "heatmapgl"
           }
          ],
          "histogram": [
           {
            "marker": {
             "pattern": {
              "fillmode": "overlay",
              "size": 10,
              "solidity": 0.2
             }
            },
            "type": "histogram"
           }
          ],
          "histogram2d": [
           {
            "colorbar": {
             "outlinewidth": 0,
             "ticks": ""
            },
            "colorscale": [
             [
              0,
              "#0d0887"
             ],
             [
              0.1111111111111111,
              "#46039f"
             ],
             [
              0.2222222222222222,
              "#7201a8"
             ],
             [
              0.3333333333333333,
              "#9c179e"
             ],
             [
              0.4444444444444444,
              "#bd3786"
             ],
             [
              0.5555555555555556,
              "#d8576b"
             ],
             [
              0.6666666666666666,
              "#ed7953"
             ],
             [
              0.7777777777777778,
              "#fb9f3a"
             ],
             [
              0.8888888888888888,
              "#fdca26"
             ],
             [
              1,
              "#f0f921"
             ]
            ],
            "type": "histogram2d"
           }
          ],
          "histogram2dcontour": [
           {
            "colorbar": {
             "outlinewidth": 0,
             "ticks": ""
            },
            "colorscale": [
             [
              0,
              "#0d0887"
             ],
             [
              0.1111111111111111,
              "#46039f"
             ],
             [
              0.2222222222222222,
              "#7201a8"
             ],
             [
              0.3333333333333333,
              "#9c179e"
             ],
             [
              0.4444444444444444,
              "#bd3786"
             ],
             [
              0.5555555555555556,
              "#d8576b"
             ],
             [
              0.6666666666666666,
              "#ed7953"
             ],
             [
              0.7777777777777778,
              "#fb9f3a"
             ],
             [
              0.8888888888888888,
              "#fdca26"
             ],
             [
              1,
              "#f0f921"
             ]
            ],
            "type": "histogram2dcontour"
           }
          ],
          "mesh3d": [
           {
            "colorbar": {
             "outlinewidth": 0,
             "ticks": ""
            },
            "type": "mesh3d"
           }
          ],
          "parcoords": [
           {
            "line": {
             "colorbar": {
              "outlinewidth": 0,
              "ticks": ""
             }
            },
            "type": "parcoords"
           }
          ],
          "pie": [
           {
            "automargin": true,
            "type": "pie"
           }
          ],
          "scatter": [
           {
            "fillpattern": {
             "fillmode": "overlay",
             "size": 10,
             "solidity": 0.2
            },
            "type": "scatter"
           }
          ],
          "scatter3d": [
           {
            "line": {
             "colorbar": {
              "outlinewidth": 0,
              "ticks": ""
             }
            },
            "marker": {
             "colorbar": {
              "outlinewidth": 0,
              "ticks": ""
             }
            },
            "type": "scatter3d"
           }
          ],
          "scattercarpet": [
           {
            "marker": {
             "colorbar": {
              "outlinewidth": 0,
              "ticks": ""
             }
            },
            "type": "scattercarpet"
           }
          ],
          "scattergeo": [
           {
            "marker": {
             "colorbar": {
              "outlinewidth": 0,
              "ticks": ""
             }
            },
            "type": "scattergeo"
           }
          ],
          "scattergl": [
           {
            "marker": {
             "colorbar": {
              "outlinewidth": 0,
              "ticks": ""
             }
            },
            "type": "scattergl"
           }
          ],
          "scattermapbox": [
           {
            "marker": {
             "colorbar": {
              "outlinewidth": 0,
              "ticks": ""
             }
            },
            "type": "scattermapbox"
           }
          ],
          "scatterpolar": [
           {
            "marker": {
             "colorbar": {
              "outlinewidth": 0,
              "ticks": ""
             }
            },
            "type": "scatterpolar"
           }
          ],
          "scatterpolargl": [
           {
            "marker": {
             "colorbar": {
              "outlinewidth": 0,
              "ticks": ""
             }
            },
            "type": "scatterpolargl"
           }
          ],
          "scatterternary": [
           {
            "marker": {
             "colorbar": {
              "outlinewidth": 0,
              "ticks": ""
             }
            },
            "type": "scatterternary"
           }
          ],
          "surface": [
           {
            "colorbar": {
             "outlinewidth": 0,
             "ticks": ""
            },
            "colorscale": [
             [
              0,
              "#0d0887"
             ],
             [
              0.1111111111111111,
              "#46039f"
             ],
             [
              0.2222222222222222,
              "#7201a8"
             ],
             [
              0.3333333333333333,
              "#9c179e"
             ],
             [
              0.4444444444444444,
              "#bd3786"
             ],
             [
              0.5555555555555556,
              "#d8576b"
             ],
             [
              0.6666666666666666,
              "#ed7953"
             ],
             [
              0.7777777777777778,
              "#fb9f3a"
             ],
             [
              0.8888888888888888,
              "#fdca26"
             ],
             [
              1,
              "#f0f921"
             ]
            ],
            "type": "surface"
           }
          ],
          "table": [
           {
            "cells": {
             "fill": {
              "color": "#EBF0F8"
             },
             "line": {
              "color": "white"
             }
            },
            "header": {
             "fill": {
              "color": "#C8D4E3"
             },
             "line": {
              "color": "white"
             }
            },
            "type": "table"
           }
          ]
         },
         "layout": {
          "annotationdefaults": {
           "arrowcolor": "#2a3f5f",
           "arrowhead": 0,
           "arrowwidth": 1
          },
          "autotypenumbers": "strict",
          "coloraxis": {
           "colorbar": {
            "outlinewidth": 0,
            "ticks": ""
           }
          },
          "colorscale": {
           "diverging": [
            [
             0,
             "#8e0152"
            ],
            [
             0.1,
             "#c51b7d"
            ],
            [
             0.2,
             "#de77ae"
            ],
            [
             0.3,
             "#f1b6da"
            ],
            [
             0.4,
             "#fde0ef"
            ],
            [
             0.5,
             "#f7f7f7"
            ],
            [
             0.6,
             "#e6f5d0"
            ],
            [
             0.7,
             "#b8e186"
            ],
            [
             0.8,
             "#7fbc41"
            ],
            [
             0.9,
             "#4d9221"
            ],
            [
             1,
             "#276419"
            ]
           ],
           "sequential": [
            [
             0,
             "#0d0887"
            ],
            [
             0.1111111111111111,
             "#46039f"
            ],
            [
             0.2222222222222222,
             "#7201a8"
            ],
            [
             0.3333333333333333,
             "#9c179e"
            ],
            [
             0.4444444444444444,
             "#bd3786"
            ],
            [
             0.5555555555555556,
             "#d8576b"
            ],
            [
             0.6666666666666666,
             "#ed7953"
            ],
            [
             0.7777777777777778,
             "#fb9f3a"
            ],
            [
             0.8888888888888888,
             "#fdca26"
            ],
            [
             1,
             "#f0f921"
            ]
           ],
           "sequentialminus": [
            [
             0,
             "#0d0887"
            ],
            [
             0.1111111111111111,
             "#46039f"
            ],
            [
             0.2222222222222222,
             "#7201a8"
            ],
            [
             0.3333333333333333,
             "#9c179e"
            ],
            [
             0.4444444444444444,
             "#bd3786"
            ],
            [
             0.5555555555555556,
             "#d8576b"
            ],
            [
             0.6666666666666666,
             "#ed7953"
            ],
            [
             0.7777777777777778,
             "#fb9f3a"
            ],
            [
             0.8888888888888888,
             "#fdca26"
            ],
            [
             1,
             "#f0f921"
            ]
           ]
          },
          "colorway": [
           "#636efa",
           "#EF553B",
           "#00cc96",
           "#ab63fa",
           "#FFA15A",
           "#19d3f3",
           "#FF6692",
           "#B6E880",
           "#FF97FF",
           "#FECB52"
          ],
          "font": {
           "color": "#2a3f5f"
          },
          "geo": {
           "bgcolor": "white",
           "lakecolor": "white",
           "landcolor": "#E5ECF6",
           "showlakes": true,
           "showland": true,
           "subunitcolor": "white"
          },
          "hoverlabel": {
           "align": "left"
          },
          "hovermode": "closest",
          "mapbox": {
           "style": "light"
          },
          "paper_bgcolor": "white",
          "plot_bgcolor": "#E5ECF6",
          "polar": {
           "angularaxis": {
            "gridcolor": "white",
            "linecolor": "white",
            "ticks": ""
           },
           "bgcolor": "#E5ECF6",
           "radialaxis": {
            "gridcolor": "white",
            "linecolor": "white",
            "ticks": ""
           }
          },
          "scene": {
           "xaxis": {
            "backgroundcolor": "#E5ECF6",
            "gridcolor": "white",
            "gridwidth": 2,
            "linecolor": "white",
            "showbackground": true,
            "ticks": "",
            "zerolinecolor": "white"
           },
           "yaxis": {
            "backgroundcolor": "#E5ECF6",
            "gridcolor": "white",
            "gridwidth": 2,
            "linecolor": "white",
            "showbackground": true,
            "ticks": "",
            "zerolinecolor": "white"
           },
           "zaxis": {
            "backgroundcolor": "#E5ECF6",
            "gridcolor": "white",
            "gridwidth": 2,
            "linecolor": "white",
            "showbackground": true,
            "ticks": "",
            "zerolinecolor": "white"
           }
          },
          "shapedefaults": {
           "line": {
            "color": "#2a3f5f"
           }
          },
          "ternary": {
           "aaxis": {
            "gridcolor": "white",
            "linecolor": "white",
            "ticks": ""
           },
           "baxis": {
            "gridcolor": "white",
            "linecolor": "white",
            "ticks": ""
           },
           "bgcolor": "#E5ECF6",
           "caxis": {
            "gridcolor": "white",
            "linecolor": "white",
            "ticks": ""
           }
          },
          "title": {
           "x": 0.05
          },
          "xaxis": {
           "automargin": true,
           "gridcolor": "white",
           "linecolor": "white",
           "ticks": "",
           "title": {
            "standoff": 15
           },
           "zerolinecolor": "white",
           "zerolinewidth": 2
          },
          "yaxis": {
           "automargin": true,
           "gridcolor": "white",
           "linecolor": "white",
           "ticks": "",
           "title": {
            "standoff": 15
           },
           "zerolinecolor": "white",
           "zerolinewidth": 2
          }
         }
        },
        "title": {
         "font": {
          "color": "black",
          "size": 24
         },
         "text": "년도별 절도 범죄 세부",
         "x": 0.4,
         "xanchor": "center",
         "yanchor": "top"
        },
        "xaxis": {
         "anchor": "y",
         "domain": [
          0,
          1
         ],
         "title": {
          "font": {
           "color": "black",
           "family": "Arial, sans-serif",
           "size": 20
          },
          "text": "년도"
         }
        },
        "yaxis": {
         "anchor": "x",
         "domain": [
          0,
          1
         ],
         "range": [
          0,
          250000
         ],
         "title": {
          "font": {
           "color": "black",
           "family": "Arial, sans-serif",
           "size": 20
          },
          "text": "발생건수"
         }
        }
       }
      }
     },
     "metadata": {},
     "output_type": "display_data"
    }
   ],
   "source": [
    "meltyear98_theft_df = pd.melt(year98_theft_df, id_vars=['소'], var_name=\"년도\")\n",
    "import plotly.express as px\n",
    "\n",
    "fig = px.bar(meltyear98_theft_df, x='년도', y='value', color='소', \n",
    "             barmode='group',\n",
    "             text='년도', \n",
    "             labels={'년도': 'Year', 'value': 'Value', '소': 'Category'})\n",
    "\n",
    "fig.update_layout(\n",
    "    title={\n",
    "        'text': '년도별 절도 범죄 세부',\n",
    "        'x': 0.4,\n",
    "        'xanchor': 'center',\n",
    "        'yanchor': 'top',\n",
    "        'font': {\n",
    "            'size': 24,\n",
    "            'color': 'black'\n",
    "        }\n",
    "    }, xaxis_title={\n",
    "        'text': '년도',\n",
    "        'font': {\n",
    "            'size': 20,\n",
    "            'family': 'Arial, sans-serif',\n",
    "            'color': 'black'\n",
    "        }\n",
    "    }, yaxis_title={\n",
    "        'text': '발생건수',\n",
    "        'font': {\n",
    "            'size': 20,\n",
    "            'family': 'Arial, sans-serif',\n",
    "            'color': 'black'\n",
    "        }\n",
    "    }\n",
    ")\n",
    "fig.update_yaxes(range=[0, 250000])\n",
    "fig.show()"
   ]
  },
  {
   "cell_type": "markdown",
   "metadata": {},
   "source": [
    "### 11 ~ 17 까지의 데이터\n",
    "> 절도범은 지속적으로 늘다가 2015년부터 조금씩줄어들기 시작한다\n",
    "1. CCTV와 블랙박스 범죄 예방용 카메라등이 작용했다고 볼 수 있다.\n",
    "2. 범죄의 트렌드 변화가 일어나고있다고 생각한다."
   ]
  },
  {
   "cell_type": "code",
   "execution_count": 10,
   "metadata": {},
   "outputs": [
    {
     "data": {
      "application/vnd.plotly.v1+json": {
       "config": {
        "plotlyServerURL": "https://plot.ly"
       },
       "data": [
        {
         "alignmentgroup": "True",
         "hovertemplate": "Category=절도<br>Year=%{text}<br>Value=%{y}<extra></extra>",
         "legendgroup": "절도",
         "marker": {
          "color": "#636efa",
          "pattern": {
           "shape": ""
          }
         },
         "name": "절도",
         "offsetgroup": "절도",
         "orientation": "v",
         "showlegend": true,
         "text": [
          "2011년",
          "2012년",
          "2013년",
          "2014년",
          "2015년",
          "2016년",
          "2017년"
         ],
         "textposition": "auto",
         "type": "bar",
         "x": [
          "2011년",
          "2012년",
          "2013년",
          "2014년",
          "2015년",
          "2016년",
          "2017년"
         ],
         "xaxis": "x",
         "y": [
          241401,
          253166,
          248785,
          229194,
          211886,
          175765,
          160627
         ],
         "yaxis": "y"
        },
        {
         "alignmentgroup": "True",
         "hovertemplate": "Category=절도(상습)<br>Year=%{text}<br>Value=%{y}<extra></extra>",
         "legendgroup": "절도(상습)",
         "marker": {
          "color": "#EF553B",
          "pattern": {
           "shape": ""
          }
         },
         "name": "절도(상습)",
         "offsetgroup": "절도(상습)",
         "orientation": "v",
         "showlegend": true,
         "text": [
          "2011년",
          "2012년",
          "2013년",
          "2014년",
          "2015년",
          "2016년",
          "2017년"
         ],
         "textposition": "auto",
         "type": "bar",
         "x": [
          "2011년",
          "2012년",
          "2013년",
          "2014년",
          "2015년",
          "2016년",
          "2017년"
         ],
         "xaxis": "x",
         "y": [
          0,
          0,
          1052,
          805,
          5017,
          3123,
          1940
         ],
         "yaxis": "y"
        },
        {
         "alignmentgroup": "True",
         "hovertemplate": "Category=특수절도<br>Year=%{text}<br>Value=%{y}<extra></extra>",
         "legendgroup": "특수절도",
         "marker": {
          "color": "#00cc96",
          "pattern": {
           "shape": ""
          }
         },
         "name": "특수절도",
         "offsetgroup": "특수절도",
         "orientation": "v",
         "showlegend": true,
         "text": [
          "2011년",
          "2012년",
          "2013년",
          "2014년",
          "2015년",
          "2016년",
          "2017년"
         ],
         "textposition": "auto",
         "type": "bar",
         "x": [
          "2011년",
          "2012년",
          "2013년",
          "2014년",
          "2015년",
          "2016년",
          "2017년"
         ],
         "xaxis": "x",
         "y": [
          21730,
          21705,
          20362,
          17921,
          18636,
          15506,
          13128
         ],
         "yaxis": "y"
        },
        {
         "alignmentgroup": "True",
         "hovertemplate": "Category=특수절도(상습)<br>Year=%{text}<br>Value=%{y}<extra></extra>",
         "legendgroup": "특수절도(상습)",
         "marker": {
          "color": "#ab63fa",
          "pattern": {
           "shape": ""
          }
         },
         "name": "특수절도(상습)",
         "offsetgroup": "특수절도(상습)",
         "orientation": "v",
         "showlegend": true,
         "text": [
          "2011년",
          "2012년",
          "2013년",
          "2014년",
          "2015년",
          "2016년",
          "2017년"
         ],
         "textposition": "auto",
         "type": "bar",
         "x": [
          "2011년",
          "2012년",
          "2013년",
          "2014년",
          "2015년",
          "2016년",
          "2017년"
         ],
         "xaxis": "x",
         "y": [
          40,
          28,
          14,
          46,
          445,
          449,
          87
         ],
         "yaxis": "y"
        },
        {
         "alignmentgroup": "True",
         "hovertemplate": "Category=야간주거침입절도<br>Year=%{text}<br>Value=%{y}<extra></extra>",
         "legendgroup": "야간주거침입절도",
         "marker": {
          "color": "#FFA15A",
          "pattern": {
           "shape": ""
          }
         },
         "name": "야간주거침입절도",
         "offsetgroup": "야간주거침입절도",
         "orientation": "v",
         "showlegend": true,
         "text": [
          "2011년",
          "2012년",
          "2013년",
          "2014년",
          "2015년",
          "2016년",
          "2017년"
         ],
         "textposition": "auto",
         "type": "bar",
         "x": [
          "2011년",
          "2012년",
          "2013년",
          "2014년",
          "2015년",
          "2016년",
          "2017년"
         ],
         "xaxis": "x",
         "y": [
          5018,
          4553,
          5537,
          6292,
          7439,
          7065,
          6659
         ],
         "yaxis": "y"
        },
        {
         "alignmentgroup": "True",
         "hovertemplate": "Category=야간주거침입절도(상습)<br>Year=%{text}<br>Value=%{y}<extra></extra>",
         "legendgroup": "야간주거침입절도(상습)",
         "marker": {
          "color": "#19d3f3",
          "pattern": {
           "shape": ""
          }
         },
         "name": "야간주거침입절도(상습)",
         "offsetgroup": "야간주거침입절도(상습)",
         "orientation": "v",
         "showlegend": true,
         "text": [
          "2011년",
          "2012년",
          "2013년",
          "2014년",
          "2015년",
          "2016년",
          "2017년"
         ],
         "textposition": "auto",
         "type": "bar",
         "x": [
          "2011년",
          "2012년",
          "2013년",
          "2014년",
          "2015년",
          "2016년",
          "2017년"
         ],
         "xaxis": "x",
         "y": [
          16,
          14,
          15,
          20,
          333,
          276,
          132
         ],
         "yaxis": "y"
        },
        {
         "alignmentgroup": "True",
         "hovertemplate": "Category=불법사용<br>Year=%{text}<br>Value=%{y}<extra></extra>",
         "legendgroup": "불법사용",
         "marker": {
          "color": "#FF6692",
          "pattern": {
           "shape": ""
          }
         },
         "name": "불법사용",
         "offsetgroup": "불법사용",
         "orientation": "v",
         "showlegend": true,
         "text": [
          "2011년",
          "2012년",
          "2013년",
          "2014년",
          "2015년",
          "2016년",
          "2017년"
         ],
         "textposition": "auto",
         "type": "bar",
         "x": [
          "2011년",
          "2012년",
          "2013년",
          "2014년",
          "2015년",
          "2016년",
          "2017년"
         ],
         "xaxis": "x",
         "y": [
          303,
          294,
          320,
          359,
          380,
          518,
          542
         ],
         "yaxis": "y"
        },
        {
         "alignmentgroup": "True",
         "hovertemplate": "Category=불법사용(상습)<br>Year=%{text}<br>Value=%{y}<extra></extra>",
         "legendgroup": "불법사용(상습)",
         "marker": {
          "color": "#B6E880",
          "pattern": {
           "shape": ""
          }
         },
         "name": "불법사용(상습)",
         "offsetgroup": "불법사용(상습)",
         "orientation": "v",
         "showlegend": true,
         "text": [
          "2011년",
          "2012년",
          "2013년",
          "2014년",
          "2015년",
          "2016년",
          "2017년"
         ],
         "textposition": "auto",
         "type": "bar",
         "x": [
          "2011년",
          "2012년",
          "2013년",
          "2014년",
          "2015년",
          "2016년",
          "2017년"
         ],
         "xaxis": "x",
         "y": [
          0,
          0,
          0,
          0,
          0,
          1,
          1
         ],
         "yaxis": "y"
        },
        {
         "alignmentgroup": "True",
         "hovertemplate": "Category=절도·불법사용(상습)<br>Year=%{text}<br>Value=%{y}<extra></extra>",
         "legendgroup": "절도·불법사용(상습)",
         "marker": {
          "color": "#FF97FF",
          "pattern": {
           "shape": ""
          }
         },
         "name": "절도·불법사용(상습)",
         "offsetgroup": "절도·불법사용(상습)",
         "orientation": "v",
         "showlegend": true,
         "text": [
          "2011년",
          "2012년",
          "2013년",
          "2014년",
          "2015년",
          "2016년",
          "2017년"
         ],
         "textposition": "auto",
         "type": "bar",
         "x": [
          "2011년",
          "2012년",
          "2013년",
          "2014년",
          "2015년",
          "2016년",
          "2017년"
         ],
         "xaxis": "x",
         "y": [
          599,
          365,
          0,
          0,
          0,
          0,
          0
         ],
         "yaxis": "y"
        },
        {
         "alignmentgroup": "True",
         "hovertemplate": "Category=특가법(절도)<br>Year=%{text}<br>Value=%{y}<extra></extra>",
         "legendgroup": "특가법(절도)",
         "marker": {
          "color": "#FECB52",
          "pattern": {
           "shape": ""
          }
         },
         "name": "특가법(절도)",
         "offsetgroup": "특가법(절도)",
         "orientation": "v",
         "showlegend": true,
         "text": [
          "2011년",
          "2012년",
          "2013년",
          "2014년",
          "2015년",
          "2016년",
          "2017년"
         ],
         "textposition": "auto",
         "type": "bar",
         "x": [
          "2011년",
          "2012년",
          "2013년",
          "2014년",
          "2015년",
          "2016년",
          "2017년"
         ],
         "xaxis": "x",
         "y": [
          12255,
          10335,
          12257,
          11585,
          1717,
          334,
          641
         ],
         "yaxis": "y"
        },
        {
         "alignmentgroup": "True",
         "hovertemplate": "Category=특가법(단체등의조직)<br>Year=%{text}<br>Value=%{y}<extra></extra>",
         "legendgroup": "특가법(단체등의조직)",
         "marker": {
          "color": "#636efa",
          "pattern": {
           "shape": ""
          }
         },
         "name": "특가법(단체등의조직)",
         "offsetgroup": "특가법(단체등의조직)",
         "orientation": "v",
         "showlegend": true,
         "text": [
          "2011년",
          "2012년",
          "2013년",
          "2014년",
          "2015년",
          "2016년",
          "2017년"
         ],
         "textposition": "auto",
         "type": "bar",
         "x": [
          "2011년",
          "2012년",
          "2013년",
          "2014년",
          "2015년",
          "2016년",
          "2017년"
         ],
         "xaxis": "x",
         "y": [
          0,
          0,
          1,
          0,
          0,
          0,
          0
         ],
         "yaxis": "y"
        }
       ],
       "layout": {
        "barmode": "group",
        "legend": {
         "title": {
          "text": "Category"
         },
         "tracegroupgap": 0
        },
        "margin": {
         "t": 60
        },
        "template": {
         "data": {
          "bar": [
           {
            "error_x": {
             "color": "#2a3f5f"
            },
            "error_y": {
             "color": "#2a3f5f"
            },
            "marker": {
             "line": {
              "color": "#E5ECF6",
              "width": 0.5
             },
             "pattern": {
              "fillmode": "overlay",
              "size": 10,
              "solidity": 0.2
             }
            },
            "type": "bar"
           }
          ],
          "barpolar": [
           {
            "marker": {
             "line": {
              "color": "#E5ECF6",
              "width": 0.5
             },
             "pattern": {
              "fillmode": "overlay",
              "size": 10,
              "solidity": 0.2
             }
            },
            "type": "barpolar"
           }
          ],
          "carpet": [
           {
            "aaxis": {
             "endlinecolor": "#2a3f5f",
             "gridcolor": "white",
             "linecolor": "white",
             "minorgridcolor": "white",
             "startlinecolor": "#2a3f5f"
            },
            "baxis": {
             "endlinecolor": "#2a3f5f",
             "gridcolor": "white",
             "linecolor": "white",
             "minorgridcolor": "white",
             "startlinecolor": "#2a3f5f"
            },
            "type": "carpet"
           }
          ],
          "choropleth": [
           {
            "colorbar": {
             "outlinewidth": 0,
             "ticks": ""
            },
            "type": "choropleth"
           }
          ],
          "contour": [
           {
            "colorbar": {
             "outlinewidth": 0,
             "ticks": ""
            },
            "colorscale": [
             [
              0,
              "#0d0887"
             ],
             [
              0.1111111111111111,
              "#46039f"
             ],
             [
              0.2222222222222222,
              "#7201a8"
             ],
             [
              0.3333333333333333,
              "#9c179e"
             ],
             [
              0.4444444444444444,
              "#bd3786"
             ],
             [
              0.5555555555555556,
              "#d8576b"
             ],
             [
              0.6666666666666666,
              "#ed7953"
             ],
             [
              0.7777777777777778,
              "#fb9f3a"
             ],
             [
              0.8888888888888888,
              "#fdca26"
             ],
             [
              1,
              "#f0f921"
             ]
            ],
            "type": "contour"
           }
          ],
          "contourcarpet": [
           {
            "colorbar": {
             "outlinewidth": 0,
             "ticks": ""
            },
            "type": "contourcarpet"
           }
          ],
          "heatmap": [
           {
            "colorbar": {
             "outlinewidth": 0,
             "ticks": ""
            },
            "colorscale": [
             [
              0,
              "#0d0887"
             ],
             [
              0.1111111111111111,
              "#46039f"
             ],
             [
              0.2222222222222222,
              "#7201a8"
             ],
             [
              0.3333333333333333,
              "#9c179e"
             ],
             [
              0.4444444444444444,
              "#bd3786"
             ],
             [
              0.5555555555555556,
              "#d8576b"
             ],
             [
              0.6666666666666666,
              "#ed7953"
             ],
             [
              0.7777777777777778,
              "#fb9f3a"
             ],
             [
              0.8888888888888888,
              "#fdca26"
             ],
             [
              1,
              "#f0f921"
             ]
            ],
            "type": "heatmap"
           }
          ],
          "heatmapgl": [
           {
            "colorbar": {
             "outlinewidth": 0,
             "ticks": ""
            },
            "colorscale": [
             [
              0,
              "#0d0887"
             ],
             [
              0.1111111111111111,
              "#46039f"
             ],
             [
              0.2222222222222222,
              "#7201a8"
             ],
             [
              0.3333333333333333,
              "#9c179e"
             ],
             [
              0.4444444444444444,
              "#bd3786"
             ],
             [
              0.5555555555555556,
              "#d8576b"
             ],
             [
              0.6666666666666666,
              "#ed7953"
             ],
             [
              0.7777777777777778,
              "#fb9f3a"
             ],
             [
              0.8888888888888888,
              "#fdca26"
             ],
             [
              1,
              "#f0f921"
             ]
            ],
            "type": "heatmapgl"
           }
          ],
          "histogram": [
           {
            "marker": {
             "pattern": {
              "fillmode": "overlay",
              "size": 10,
              "solidity": 0.2
             }
            },
            "type": "histogram"
           }
          ],
          "histogram2d": [
           {
            "colorbar": {
             "outlinewidth": 0,
             "ticks": ""
            },
            "colorscale": [
             [
              0,
              "#0d0887"
             ],
             [
              0.1111111111111111,
              "#46039f"
             ],
             [
              0.2222222222222222,
              "#7201a8"
             ],
             [
              0.3333333333333333,
              "#9c179e"
             ],
             [
              0.4444444444444444,
              "#bd3786"
             ],
             [
              0.5555555555555556,
              "#d8576b"
             ],
             [
              0.6666666666666666,
              "#ed7953"
             ],
             [
              0.7777777777777778,
              "#fb9f3a"
             ],
             [
              0.8888888888888888,
              "#fdca26"
             ],
             [
              1,
              "#f0f921"
             ]
            ],
            "type": "histogram2d"
           }
          ],
          "histogram2dcontour": [
           {
            "colorbar": {
             "outlinewidth": 0,
             "ticks": ""
            },
            "colorscale": [
             [
              0,
              "#0d0887"
             ],
             [
              0.1111111111111111,
              "#46039f"
             ],
             [
              0.2222222222222222,
              "#7201a8"
             ],
             [
              0.3333333333333333,
              "#9c179e"
             ],
             [
              0.4444444444444444,
              "#bd3786"
             ],
             [
              0.5555555555555556,
              "#d8576b"
             ],
             [
              0.6666666666666666,
              "#ed7953"
             ],
             [
              0.7777777777777778,
              "#fb9f3a"
             ],
             [
              0.8888888888888888,
              "#fdca26"
             ],
             [
              1,
              "#f0f921"
             ]
            ],
            "type": "histogram2dcontour"
           }
          ],
          "mesh3d": [
           {
            "colorbar": {
             "outlinewidth": 0,
             "ticks": ""
            },
            "type": "mesh3d"
           }
          ],
          "parcoords": [
           {
            "line": {
             "colorbar": {
              "outlinewidth": 0,
              "ticks": ""
             }
            },
            "type": "parcoords"
           }
          ],
          "pie": [
           {
            "automargin": true,
            "type": "pie"
           }
          ],
          "scatter": [
           {
            "fillpattern": {
             "fillmode": "overlay",
             "size": 10,
             "solidity": 0.2
            },
            "type": "scatter"
           }
          ],
          "scatter3d": [
           {
            "line": {
             "colorbar": {
              "outlinewidth": 0,
              "ticks": ""
             }
            },
            "marker": {
             "colorbar": {
              "outlinewidth": 0,
              "ticks": ""
             }
            },
            "type": "scatter3d"
           }
          ],
          "scattercarpet": [
           {
            "marker": {
             "colorbar": {
              "outlinewidth": 0,
              "ticks": ""
             }
            },
            "type": "scattercarpet"
           }
          ],
          "scattergeo": [
           {
            "marker": {
             "colorbar": {
              "outlinewidth": 0,
              "ticks": ""
             }
            },
            "type": "scattergeo"
           }
          ],
          "scattergl": [
           {
            "marker": {
             "colorbar": {
              "outlinewidth": 0,
              "ticks": ""
             }
            },
            "type": "scattergl"
           }
          ],
          "scattermapbox": [
           {
            "marker": {
             "colorbar": {
              "outlinewidth": 0,
              "ticks": ""
             }
            },
            "type": "scattermapbox"
           }
          ],
          "scatterpolar": [
           {
            "marker": {
             "colorbar": {
              "outlinewidth": 0,
              "ticks": ""
             }
            },
            "type": "scatterpolar"
           }
          ],
          "scatterpolargl": [
           {
            "marker": {
             "colorbar": {
              "outlinewidth": 0,
              "ticks": ""
             }
            },
            "type": "scatterpolargl"
           }
          ],
          "scatterternary": [
           {
            "marker": {
             "colorbar": {
              "outlinewidth": 0,
              "ticks": ""
             }
            },
            "type": "scatterternary"
           }
          ],
          "surface": [
           {
            "colorbar": {
             "outlinewidth": 0,
             "ticks": ""
            },
            "colorscale": [
             [
              0,
              "#0d0887"
             ],
             [
              0.1111111111111111,
              "#46039f"
             ],
             [
              0.2222222222222222,
              "#7201a8"
             ],
             [
              0.3333333333333333,
              "#9c179e"
             ],
             [
              0.4444444444444444,
              "#bd3786"
             ],
             [
              0.5555555555555556,
              "#d8576b"
             ],
             [
              0.6666666666666666,
              "#ed7953"
             ],
             [
              0.7777777777777778,
              "#fb9f3a"
             ],
             [
              0.8888888888888888,
              "#fdca26"
             ],
             [
              1,
              "#f0f921"
             ]
            ],
            "type": "surface"
           }
          ],
          "table": [
           {
            "cells": {
             "fill": {
              "color": "#EBF0F8"
             },
             "line": {
              "color": "white"
             }
            },
            "header": {
             "fill": {
              "color": "#C8D4E3"
             },
             "line": {
              "color": "white"
             }
            },
            "type": "table"
           }
          ]
         },
         "layout": {
          "annotationdefaults": {
           "arrowcolor": "#2a3f5f",
           "arrowhead": 0,
           "arrowwidth": 1
          },
          "autotypenumbers": "strict",
          "coloraxis": {
           "colorbar": {
            "outlinewidth": 0,
            "ticks": ""
           }
          },
          "colorscale": {
           "diverging": [
            [
             0,
             "#8e0152"
            ],
            [
             0.1,
             "#c51b7d"
            ],
            [
             0.2,
             "#de77ae"
            ],
            [
             0.3,
             "#f1b6da"
            ],
            [
             0.4,
             "#fde0ef"
            ],
            [
             0.5,
             "#f7f7f7"
            ],
            [
             0.6,
             "#e6f5d0"
            ],
            [
             0.7,
             "#b8e186"
            ],
            [
             0.8,
             "#7fbc41"
            ],
            [
             0.9,
             "#4d9221"
            ],
            [
             1,
             "#276419"
            ]
           ],
           "sequential": [
            [
             0,
             "#0d0887"
            ],
            [
             0.1111111111111111,
             "#46039f"
            ],
            [
             0.2222222222222222,
             "#7201a8"
            ],
            [
             0.3333333333333333,
             "#9c179e"
            ],
            [
             0.4444444444444444,
             "#bd3786"
            ],
            [
             0.5555555555555556,
             "#d8576b"
            ],
            [
             0.6666666666666666,
             "#ed7953"
            ],
            [
             0.7777777777777778,
             "#fb9f3a"
            ],
            [
             0.8888888888888888,
             "#fdca26"
            ],
            [
             1,
             "#f0f921"
            ]
           ],
           "sequentialminus": [
            [
             0,
             "#0d0887"
            ],
            [
             0.1111111111111111,
             "#46039f"
            ],
            [
             0.2222222222222222,
             "#7201a8"
            ],
            [
             0.3333333333333333,
             "#9c179e"
            ],
            [
             0.4444444444444444,
             "#bd3786"
            ],
            [
             0.5555555555555556,
             "#d8576b"
            ],
            [
             0.6666666666666666,
             "#ed7953"
            ],
            [
             0.7777777777777778,
             "#fb9f3a"
            ],
            [
             0.8888888888888888,
             "#fdca26"
            ],
            [
             1,
             "#f0f921"
            ]
           ]
          },
          "colorway": [
           "#636efa",
           "#EF553B",
           "#00cc96",
           "#ab63fa",
           "#FFA15A",
           "#19d3f3",
           "#FF6692",
           "#B6E880",
           "#FF97FF",
           "#FECB52"
          ],
          "font": {
           "color": "#2a3f5f"
          },
          "geo": {
           "bgcolor": "white",
           "lakecolor": "white",
           "landcolor": "#E5ECF6",
           "showlakes": true,
           "showland": true,
           "subunitcolor": "white"
          },
          "hoverlabel": {
           "align": "left"
          },
          "hovermode": "closest",
          "mapbox": {
           "style": "light"
          },
          "paper_bgcolor": "white",
          "plot_bgcolor": "#E5ECF6",
          "polar": {
           "angularaxis": {
            "gridcolor": "white",
            "linecolor": "white",
            "ticks": ""
           },
           "bgcolor": "#E5ECF6",
           "radialaxis": {
            "gridcolor": "white",
            "linecolor": "white",
            "ticks": ""
           }
          },
          "scene": {
           "xaxis": {
            "backgroundcolor": "#E5ECF6",
            "gridcolor": "white",
            "gridwidth": 2,
            "linecolor": "white",
            "showbackground": true,
            "ticks": "",
            "zerolinecolor": "white"
           },
           "yaxis": {
            "backgroundcolor": "#E5ECF6",
            "gridcolor": "white",
            "gridwidth": 2,
            "linecolor": "white",
            "showbackground": true,
            "ticks": "",
            "zerolinecolor": "white"
           },
           "zaxis": {
            "backgroundcolor": "#E5ECF6",
            "gridcolor": "white",
            "gridwidth": 2,
            "linecolor": "white",
            "showbackground": true,
            "ticks": "",
            "zerolinecolor": "white"
           }
          },
          "shapedefaults": {
           "line": {
            "color": "#2a3f5f"
           }
          },
          "ternary": {
           "aaxis": {
            "gridcolor": "white",
            "linecolor": "white",
            "ticks": ""
           },
           "baxis": {
            "gridcolor": "white",
            "linecolor": "white",
            "ticks": ""
           },
           "bgcolor": "#E5ECF6",
           "caxis": {
            "gridcolor": "white",
            "linecolor": "white",
            "ticks": ""
           }
          },
          "title": {
           "x": 0.05
          },
          "xaxis": {
           "automargin": true,
           "gridcolor": "white",
           "linecolor": "white",
           "ticks": "",
           "title": {
            "standoff": 15
           },
           "zerolinecolor": "white",
           "zerolinewidth": 2
          },
          "yaxis": {
           "automargin": true,
           "gridcolor": "white",
           "linecolor": "white",
           "ticks": "",
           "title": {
            "standoff": 15
           },
           "zerolinecolor": "white",
           "zerolinewidth": 2
          }
         }
        },
        "title": {
         "text": "범죄 유형"
        },
        "xaxis": {
         "anchor": "y",
         "domain": [
          0,
          1
         ],
         "title": {
          "text": "Year"
         }
        },
        "yaxis": {
         "anchor": "x",
         "domain": [
          0,
          1
         ],
         "title": {
          "text": "Value"
         }
        }
       }
      }
     },
     "metadata": {},
     "output_type": "display_data"
    }
   ],
   "source": [
    "dfyear22_theft_df  = pd.melt(year22_theft_df, id_vars=['소'], var_name=\"년도\")\n",
    "\n",
    "\n",
    "fig = px.bar(dfyear22_theft_df, x='년도', y='value', color='소', \n",
    "             barmode='group',\n",
    "             text='년도', \n",
    "             labels={'년도': 'Year', 'value': 'Value', '소': 'Category'})\n",
    "fig.update_layout(\n",
    "    title={\n",
    "        'text': '년도별 절도 범죄 세부',\n",
    "        'x': 0.4,\n",
    "        'xanchor': 'center',\n",
    "        'yanchor': 'top',\n",
    "        'font': {\n",
    "            'size': 24,\n",
    "            'color': 'black'\n",
    "        }\n",
    "    },\n",
    "    xaxis_title={\n",
    "        'text': '년도',\n",
    "        'font': {\n",
    "            'size': 20,\n",
    "            'family': 'Arial, sans-serif',\n",
    "            'color': 'black'\n",
    "        }\n",
    "    },\n",
    "    yaxis_title={\n",
    "        'text': '발생건수',\n",
    "        'font': {\n",
    "            'size': 20,\n",
    "            'family': 'Arial, sans-serif',\n",
    "            'color': 'black'\n",
    "        }\n",
    "    }\n",
    ")\n",
    "\n",
    "fig.update_layout(title='범죄 유형', xaxis_title='Year', yaxis_title='Value')\n",
    "\n",
    "fig.show()"
   ]
  },
  {
   "cell_type": "markdown",
   "metadata": {},
   "source": [
    "### 경제 성장률, 실업률, 외환보유액, 환율, 물가상승률, 경상수지 시각화"
   ]
  },
  {
   "cell_type": "code",
   "execution_count": null,
   "metadata": {},
   "outputs": [],
   "source": []
  },
  {
   "cell_type": "markdown",
   "metadata": {},
   "source": [
    "## 지능범"
   ]
  },
  {
   "cell_type": "markdown",
   "metadata": {},
   "source": [
    "### 94~10\n",
    ">\n",
    "1.\n",
    "2."
   ]
  },
  {
   "cell_type": "code",
   "execution_count": 11,
   "metadata": {},
   "outputs": [
    {
     "data": {
      "application/vnd.plotly.v1+json": {
       "config": {
        "plotlyServerURL": "https://plot.ly"
       },
       "data": [
        {
         "alignmentgroup": "True",
         "hovertemplate": "지능범 유형=%{x}<br>Year=1994<br>Value=%{text}<extra></extra>",
         "legendgroup": "직무유기",
         "marker": {
          "color": "#636efa",
          "pattern": {
           "shape": ""
          }
         },
         "name": "직무유기",
         "offsetgroup": "직무유기",
         "orientation": "v",
         "showlegend": true,
         "text": [
          271
         ],
         "textposition": "auto",
         "type": "bar",
         "x": [
          "직무유기"
         ],
         "xaxis": "x",
         "y": [
          271
         ],
         "yaxis": "y"
        },
        {
         "alignmentgroup": "True",
         "hovertemplate": "지능범 유형=%{x}<br>Year=1994<br>Value=%{text}<extra></extra>",
         "legendgroup": "직권남용",
         "marker": {
          "color": "#EF553B",
          "pattern": {
           "shape": ""
          }
         },
         "name": "직권남용",
         "offsetgroup": "직권남용",
         "orientation": "v",
         "showlegend": true,
         "text": [
          43
         ],
         "textposition": "auto",
         "type": "bar",
         "x": [
          "직권남용"
         ],
         "xaxis": "x",
         "y": [
          43
         ],
         "yaxis": "y"
        },
        {
         "alignmentgroup": "True",
         "hovertemplate": "지능범 유형=%{x}<br>Year=1994<br>Value=%{text}<extra></extra>",
         "legendgroup": "증수",
         "marker": {
          "color": "#00cc96",
          "pattern": {
           "shape": ""
          }
         },
         "name": "증수",
         "offsetgroup": "증수",
         "orientation": "v",
         "showlegend": true,
         "text": [
          273
         ],
         "textposition": "auto",
         "type": "bar",
         "x": [
          "증수"
         ],
         "xaxis": "x",
         "y": [
          273
         ],
         "yaxis": "y"
        },
        {
         "alignmentgroup": "True",
         "hovertemplate": "지능범 유형=%{x}<br>Year=1994<br>Value=%{text}<extra></extra>",
         "legendgroup": "통화",
         "marker": {
          "color": "#ab63fa",
          "pattern": {
           "shape": ""
          }
         },
         "name": "통화",
         "offsetgroup": "통화",
         "orientation": "v",
         "showlegend": true,
         "text": [
          39
         ],
         "textposition": "auto",
         "type": "bar",
         "x": [
          "통화"
         ],
         "xaxis": "x",
         "y": [
          39
         ],
         "yaxis": "y"
        },
        {
         "alignmentgroup": "True",
         "hovertemplate": "지능범 유형=%{x}<br>Year=1994<br>Value=%{text}<extra></extra>",
         "legendgroup": "문서인장",
         "marker": {
          "color": "#FFA15A",
          "pattern": {
           "shape": ""
          }
         },
         "name": "문서인장",
         "offsetgroup": "문서인장",
         "orientation": "v",
         "showlegend": true,
         "text": [
          1419
         ],
         "textposition": "auto",
         "type": "bar",
         "x": [
          "문서인장"
         ],
         "xaxis": "x",
         "y": [
          1419
         ],
         "yaxis": "y"
        },
        {
         "alignmentgroup": "True",
         "hovertemplate": "지능범 유형=%{x}<br>Year=1994<br>Value=%{text}<extra></extra>",
         "legendgroup": "유가증권인지",
         "marker": {
          "color": "#19d3f3",
          "pattern": {
           "shape": ""
          }
         },
         "name": "유가증권인지",
         "offsetgroup": "유가증권인지",
         "orientation": "v",
         "showlegend": true,
         "text": [
          0
         ],
         "textposition": "auto",
         "type": "bar",
         "x": [
          "유가증권인지"
         ],
         "xaxis": "x",
         "y": [
          0
         ],
         "yaxis": "y"
        },
        {
         "alignmentgroup": "True",
         "hovertemplate": "지능범 유형=%{x}<br>Year=1994<br>Value=%{text}<extra></extra>",
         "legendgroup": "사기",
         "marker": {
          "color": "#FF6692",
          "pattern": {
           "shape": ""
          }
         },
         "name": "사기",
         "offsetgroup": "사기",
         "orientation": "v",
         "showlegend": true,
         "text": [
          "125,192"
         ],
         "textposition": "auto",
         "type": "bar",
         "x": [
          "사기"
         ],
         "xaxis": "x",
         "y": [
          "125,192"
         ],
         "yaxis": "y"
        },
        {
         "alignmentgroup": "True",
         "hovertemplate": "지능범 유형=%{x}<br>Year=1994<br>Value=%{text}<extra></extra>",
         "legendgroup": "횡령",
         "marker": {
          "color": "#B6E880",
          "pattern": {
           "shape": ""
          }
         },
         "name": "횡령",
         "offsetgroup": "횡령",
         "orientation": "v",
         "showlegend": true,
         "text": [
          12822
         ],
         "textposition": "auto",
         "type": "bar",
         "x": [
          "횡령"
         ],
         "xaxis": "x",
         "y": [
          12822
         ],
         "yaxis": "y"
        },
        {
         "alignmentgroup": "True",
         "hovertemplate": "지능범 유형=%{x}<br>Year=1994<br>Value=%{text}<extra></extra>",
         "legendgroup": "배임",
         "marker": {
          "color": "#FF97FF",
          "pattern": {
           "shape": ""
          }
         },
         "name": "배임",
         "offsetgroup": "배임",
         "orientation": "v",
         "showlegend": true,
         "text": [
          3204
         ],
         "textposition": "auto",
         "type": "bar",
         "x": [
          "배임"
         ],
         "xaxis": "x",
         "y": [
          3204
         ],
         "yaxis": "y"
        }
       ],
       "frames": [
        {
         "data": [
          {
           "alignmentgroup": "True",
           "hovertemplate": "지능범 유형=%{x}<br>Year=1994<br>Value=%{text}<extra></extra>",
           "legendgroup": "직무유기",
           "marker": {
            "color": "#636efa",
            "pattern": {
             "shape": ""
            }
           },
           "name": "직무유기",
           "offsetgroup": "직무유기",
           "orientation": "v",
           "showlegend": true,
           "text": [
            271
           ],
           "textposition": "auto",
           "type": "bar",
           "x": [
            "직무유기"
           ],
           "xaxis": "x",
           "y": [
            271
           ],
           "yaxis": "y"
          },
          {
           "alignmentgroup": "True",
           "hovertemplate": "지능범 유형=%{x}<br>Year=1994<br>Value=%{text}<extra></extra>",
           "legendgroup": "직권남용",
           "marker": {
            "color": "#EF553B",
            "pattern": {
             "shape": ""
            }
           },
           "name": "직권남용",
           "offsetgroup": "직권남용",
           "orientation": "v",
           "showlegend": true,
           "text": [
            43
           ],
           "textposition": "auto",
           "type": "bar",
           "x": [
            "직권남용"
           ],
           "xaxis": "x",
           "y": [
            43
           ],
           "yaxis": "y"
          },
          {
           "alignmentgroup": "True",
           "hovertemplate": "지능범 유형=%{x}<br>Year=1994<br>Value=%{text}<extra></extra>",
           "legendgroup": "증수",
           "marker": {
            "color": "#00cc96",
            "pattern": {
             "shape": ""
            }
           },
           "name": "증수",
           "offsetgroup": "증수",
           "orientation": "v",
           "showlegend": true,
           "text": [
            273
           ],
           "textposition": "auto",
           "type": "bar",
           "x": [
            "증수"
           ],
           "xaxis": "x",
           "y": [
            273
           ],
           "yaxis": "y"
          },
          {
           "alignmentgroup": "True",
           "hovertemplate": "지능범 유형=%{x}<br>Year=1994<br>Value=%{text}<extra></extra>",
           "legendgroup": "통화",
           "marker": {
            "color": "#ab63fa",
            "pattern": {
             "shape": ""
            }
           },
           "name": "통화",
           "offsetgroup": "통화",
           "orientation": "v",
           "showlegend": true,
           "text": [
            39
           ],
           "textposition": "auto",
           "type": "bar",
           "x": [
            "통화"
           ],
           "xaxis": "x",
           "y": [
            39
           ],
           "yaxis": "y"
          },
          {
           "alignmentgroup": "True",
           "hovertemplate": "지능범 유형=%{x}<br>Year=1994<br>Value=%{text}<extra></extra>",
           "legendgroup": "문서인장",
           "marker": {
            "color": "#FFA15A",
            "pattern": {
             "shape": ""
            }
           },
           "name": "문서인장",
           "offsetgroup": "문서인장",
           "orientation": "v",
           "showlegend": true,
           "text": [
            1419
           ],
           "textposition": "auto",
           "type": "bar",
           "x": [
            "문서인장"
           ],
           "xaxis": "x",
           "y": [
            1419
           ],
           "yaxis": "y"
          },
          {
           "alignmentgroup": "True",
           "hovertemplate": "지능범 유형=%{x}<br>Year=1994<br>Value=%{text}<extra></extra>",
           "legendgroup": "유가증권인지",
           "marker": {
            "color": "#19d3f3",
            "pattern": {
             "shape": ""
            }
           },
           "name": "유가증권인지",
           "offsetgroup": "유가증권인지",
           "orientation": "v",
           "showlegend": true,
           "text": [
            0
           ],
           "textposition": "auto",
           "type": "bar",
           "x": [
            "유가증권인지"
           ],
           "xaxis": "x",
           "y": [
            0
           ],
           "yaxis": "y"
          },
          {
           "alignmentgroup": "True",
           "hovertemplate": "지능범 유형=%{x}<br>Year=1994<br>Value=%{text}<extra></extra>",
           "legendgroup": "사기",
           "marker": {
            "color": "#FF6692",
            "pattern": {
             "shape": ""
            }
           },
           "name": "사기",
           "offsetgroup": "사기",
           "orientation": "v",
           "showlegend": true,
           "text": [
            "125,192"
           ],
           "textposition": "auto",
           "type": "bar",
           "x": [
            "사기"
           ],
           "xaxis": "x",
           "y": [
            "125,192"
           ],
           "yaxis": "y"
          },
          {
           "alignmentgroup": "True",
           "hovertemplate": "지능범 유형=%{x}<br>Year=1994<br>Value=%{text}<extra></extra>",
           "legendgroup": "횡령",
           "marker": {
            "color": "#B6E880",
            "pattern": {
             "shape": ""
            }
           },
           "name": "횡령",
           "offsetgroup": "횡령",
           "orientation": "v",
           "showlegend": true,
           "text": [
            12822
           ],
           "textposition": "auto",
           "type": "bar",
           "x": [
            "횡령"
           ],
           "xaxis": "x",
           "y": [
            12822
           ],
           "yaxis": "y"
          },
          {
           "alignmentgroup": "True",
           "hovertemplate": "지능범 유형=%{x}<br>Year=1994<br>Value=%{text}<extra></extra>",
           "legendgroup": "배임",
           "marker": {
            "color": "#FF97FF",
            "pattern": {
             "shape": ""
            }
           },
           "name": "배임",
           "offsetgroup": "배임",
           "orientation": "v",
           "showlegend": true,
           "text": [
            3204
           ],
           "textposition": "auto",
           "type": "bar",
           "x": [
            "배임"
           ],
           "xaxis": "x",
           "y": [
            3204
           ],
           "yaxis": "y"
          }
         ],
         "name": "1994"
        },
        {
         "data": [
          {
           "alignmentgroup": "True",
           "hovertemplate": "지능범 유형=%{x}<br>Year=1995<br>Value=%{text}<extra></extra>",
           "legendgroup": "직무유기",
           "marker": {
            "color": "#636efa",
            "pattern": {
             "shape": ""
            }
           },
           "name": "직무유기",
           "offsetgroup": "직무유기",
           "orientation": "v",
           "showlegend": true,
           "text": [
            144
           ],
           "textposition": "auto",
           "type": "bar",
           "x": [
            "직무유기"
           ],
           "xaxis": "x",
           "y": [
            144
           ],
           "yaxis": "y"
          },
          {
           "alignmentgroup": "True",
           "hovertemplate": "지능범 유형=%{x}<br>Year=1995<br>Value=%{text}<extra></extra>",
           "legendgroup": "직권남용",
           "marker": {
            "color": "#EF553B",
            "pattern": {
             "shape": ""
            }
           },
           "name": "직권남용",
           "offsetgroup": "직권남용",
           "orientation": "v",
           "showlegend": true,
           "text": [
            66
           ],
           "textposition": "auto",
           "type": "bar",
           "x": [
            "직권남용"
           ],
           "xaxis": "x",
           "y": [
            66
           ],
           "yaxis": "y"
          },
          {
           "alignmentgroup": "True",
           "hovertemplate": "지능범 유형=%{x}<br>Year=1995<br>Value=%{text}<extra></extra>",
           "legendgroup": "증수",
           "marker": {
            "color": "#00cc96",
            "pattern": {
             "shape": ""
            }
           },
           "name": "증수",
           "offsetgroup": "증수",
           "orientation": "v",
           "showlegend": true,
           "text": [
            272
           ],
           "textposition": "auto",
           "type": "bar",
           "x": [
            "증수"
           ],
           "xaxis": "x",
           "y": [
            272
           ],
           "yaxis": "y"
          },
          {
           "alignmentgroup": "True",
           "hovertemplate": "지능범 유형=%{x}<br>Year=1995<br>Value=%{text}<extra></extra>",
           "legendgroup": "통화",
           "marker": {
            "color": "#ab63fa",
            "pattern": {
             "shape": ""
            }
           },
           "name": "통화",
           "offsetgroup": "통화",
           "orientation": "v",
           "showlegend": true,
           "text": [
            10
           ],
           "textposition": "auto",
           "type": "bar",
           "x": [
            "통화"
           ],
           "xaxis": "x",
           "y": [
            10
           ],
           "yaxis": "y"
          },
          {
           "alignmentgroup": "True",
           "hovertemplate": "지능범 유형=%{x}<br>Year=1995<br>Value=%{text}<extra></extra>",
           "legendgroup": "문서인장",
           "marker": {
            "color": "#FFA15A",
            "pattern": {
             "shape": ""
            }
           },
           "name": "문서인장",
           "offsetgroup": "문서인장",
           "orientation": "v",
           "showlegend": true,
           "text": [
            1556
           ],
           "textposition": "auto",
           "type": "bar",
           "x": [
            "문서인장"
           ],
           "xaxis": "x",
           "y": [
            1556
           ],
           "yaxis": "y"
          },
          {
           "alignmentgroup": "True",
           "hovertemplate": "지능범 유형=%{x}<br>Year=1995<br>Value=%{text}<extra></extra>",
           "legendgroup": "유가증권인지",
           "marker": {
            "color": "#19d3f3",
            "pattern": {
             "shape": ""
            }
           },
           "name": "유가증권인지",
           "offsetgroup": "유가증권인지",
           "orientation": "v",
           "showlegend": true,
           "text": [
            6245
           ],
           "textposition": "auto",
           "type": "bar",
           "x": [
            "유가증권인지"
           ],
           "xaxis": "x",
           "y": [
            6245
           ],
           "yaxis": "y"
          },
          {
           "alignmentgroup": "True",
           "hovertemplate": "지능범 유형=%{x}<br>Year=1995<br>Value=%{text}<extra></extra>",
           "legendgroup": "사기",
           "marker": {
            "color": "#FF6692",
            "pattern": {
             "shape": ""
            }
           },
           "name": "사기",
           "offsetgroup": "사기",
           "orientation": "v",
           "showlegend": true,
           "text": [
            "162,483"
           ],
           "textposition": "auto",
           "type": "bar",
           "x": [
            "사기"
           ],
           "xaxis": "x",
           "y": [
            "162,483"
           ],
           "yaxis": "y"
          },
          {
           "alignmentgroup": "True",
           "hovertemplate": "지능범 유형=%{x}<br>Year=1995<br>Value=%{text}<extra></extra>",
           "legendgroup": "횡령",
           "marker": {
            "color": "#B6E880",
            "pattern": {
             "shape": ""
            }
           },
           "name": "횡령",
           "offsetgroup": "횡령",
           "orientation": "v",
           "showlegend": true,
           "text": [
            13604
           ],
           "textposition": "auto",
           "type": "bar",
           "x": [
            "횡령"
           ],
           "xaxis": "x",
           "y": [
            13604
           ],
           "yaxis": "y"
          },
          {
           "alignmentgroup": "True",
           "hovertemplate": "지능범 유형=%{x}<br>Year=1995<br>Value=%{text}<extra></extra>",
           "legendgroup": "배임",
           "marker": {
            "color": "#FF97FF",
            "pattern": {
             "shape": ""
            }
           },
           "name": "배임",
           "offsetgroup": "배임",
           "orientation": "v",
           "showlegend": true,
           "text": [
            3135
           ],
           "textposition": "auto",
           "type": "bar",
           "x": [
            "배임"
           ],
           "xaxis": "x",
           "y": [
            3135
           ],
           "yaxis": "y"
          }
         ],
         "name": "1995"
        },
        {
         "data": [
          {
           "alignmentgroup": "True",
           "hovertemplate": "지능범 유형=%{x}<br>Year=1996<br>Value=%{text}<extra></extra>",
           "legendgroup": "직무유기",
           "marker": {
            "color": "#636efa",
            "pattern": {
             "shape": ""
            }
           },
           "name": "직무유기",
           "offsetgroup": "직무유기",
           "orientation": "v",
           "showlegend": true,
           "text": [
            136
           ],
           "textposition": "auto",
           "type": "bar",
           "x": [
            "직무유기"
           ],
           "xaxis": "x",
           "y": [
            136
           ],
           "yaxis": "y"
          },
          {
           "alignmentgroup": "True",
           "hovertemplate": "지능범 유형=%{x}<br>Year=1996<br>Value=%{text}<extra></extra>",
           "legendgroup": "직권남용",
           "marker": {
            "color": "#EF553B",
            "pattern": {
             "shape": ""
            }
           },
           "name": "직권남용",
           "offsetgroup": "직권남용",
           "orientation": "v",
           "showlegend": true,
           "text": [
            47
           ],
           "textposition": "auto",
           "type": "bar",
           "x": [
            "직권남용"
           ],
           "xaxis": "x",
           "y": [
            47
           ],
           "yaxis": "y"
          },
          {
           "alignmentgroup": "True",
           "hovertemplate": "지능범 유형=%{x}<br>Year=1996<br>Value=%{text}<extra></extra>",
           "legendgroup": "증수",
           "marker": {
            "color": "#00cc96",
            "pattern": {
             "shape": ""
            }
           },
           "name": "증수",
           "offsetgroup": "증수",
           "orientation": "v",
           "showlegend": true,
           "text": [
            231
           ],
           "textposition": "auto",
           "type": "bar",
           "x": [
            "증수"
           ],
           "xaxis": "x",
           "y": [
            231
           ],
           "yaxis": "y"
          },
          {
           "alignmentgroup": "True",
           "hovertemplate": "지능범 유형=%{x}<br>Year=1996<br>Value=%{text}<extra></extra>",
           "legendgroup": "통화",
           "marker": {
            "color": "#ab63fa",
            "pattern": {
             "shape": ""
            }
           },
           "name": "통화",
           "offsetgroup": "통화",
           "orientation": "v",
           "showlegend": true,
           "text": [
            22
           ],
           "textposition": "auto",
           "type": "bar",
           "x": [
            "통화"
           ],
           "xaxis": "x",
           "y": [
            22
           ],
           "yaxis": "y"
          },
          {
           "alignmentgroup": "True",
           "hovertemplate": "지능범 유형=%{x}<br>Year=1996<br>Value=%{text}<extra></extra>",
           "legendgroup": "문서인장",
           "marker": {
            "color": "#FFA15A",
            "pattern": {
             "shape": ""
            }
           },
           "name": "문서인장",
           "offsetgroup": "문서인장",
           "orientation": "v",
           "showlegend": true,
           "text": [
            1547
           ],
           "textposition": "auto",
           "type": "bar",
           "x": [
            "문서인장"
           ],
           "xaxis": "x",
           "y": [
            1547
           ],
           "yaxis": "y"
          },
          {
           "alignmentgroup": "True",
           "hovertemplate": "지능범 유형=%{x}<br>Year=1996<br>Value=%{text}<extra></extra>",
           "legendgroup": "유가증권인지",
           "marker": {
            "color": "#19d3f3",
            "pattern": {
             "shape": ""
            }
           },
           "name": "유가증권인지",
           "offsetgroup": "유가증권인지",
           "orientation": "v",
           "showlegend": true,
           "text": [
            0
           ],
           "textposition": "auto",
           "type": "bar",
           "x": [
            "유가증권인지"
           ],
           "xaxis": "x",
           "y": [
            0
           ],
           "yaxis": "y"
          },
          {
           "alignmentgroup": "True",
           "hovertemplate": "지능범 유형=%{x}<br>Year=1996<br>Value=%{text}<extra></extra>",
           "legendgroup": "사기",
           "marker": {
            "color": "#FF6692",
            "pattern": {
             "shape": ""
            }
           },
           "name": "사기",
           "offsetgroup": "사기",
           "orientation": "v",
           "showlegend": true,
           "text": [
            "191,101"
           ],
           "textposition": "auto",
           "type": "bar",
           "x": [
            "사기"
           ],
           "xaxis": "x",
           "y": [
            "191,101"
           ],
           "yaxis": "y"
          },
          {
           "alignmentgroup": "True",
           "hovertemplate": "지능범 유형=%{x}<br>Year=1996<br>Value=%{text}<extra></extra>",
           "legendgroup": "횡령",
           "marker": {
            "color": "#B6E880",
            "pattern": {
             "shape": ""
            }
           },
           "name": "횡령",
           "offsetgroup": "횡령",
           "orientation": "v",
           "showlegend": true,
           "text": [
            13582
           ],
           "textposition": "auto",
           "type": "bar",
           "x": [
            "횡령"
           ],
           "xaxis": "x",
           "y": [
            13582
           ],
           "yaxis": "y"
          },
          {
           "alignmentgroup": "True",
           "hovertemplate": "지능범 유형=%{x}<br>Year=1996<br>Value=%{text}<extra></extra>",
           "legendgroup": "배임",
           "marker": {
            "color": "#FF97FF",
            "pattern": {
             "shape": ""
            }
           },
           "name": "배임",
           "offsetgroup": "배임",
           "orientation": "v",
           "showlegend": true,
           "text": [
            3304
           ],
           "textposition": "auto",
           "type": "bar",
           "x": [
            "배임"
           ],
           "xaxis": "x",
           "y": [
            3304
           ],
           "yaxis": "y"
          }
         ],
         "name": "1996"
        },
        {
         "data": [
          {
           "alignmentgroup": "True",
           "hovertemplate": "지능범 유형=%{x}<br>Year=1997<br>Value=%{text}<extra></extra>",
           "legendgroup": "직무유기",
           "marker": {
            "color": "#636efa",
            "pattern": {
             "shape": ""
            }
           },
           "name": "직무유기",
           "offsetgroup": "직무유기",
           "orientation": "v",
           "showlegend": true,
           "text": [
            150
           ],
           "textposition": "auto",
           "type": "bar",
           "x": [
            "직무유기"
           ],
           "xaxis": "x",
           "y": [
            150
           ],
           "yaxis": "y"
          },
          {
           "alignmentgroup": "True",
           "hovertemplate": "지능범 유형=%{x}<br>Year=1997<br>Value=%{text}<extra></extra>",
           "legendgroup": "직권남용",
           "marker": {
            "color": "#EF553B",
            "pattern": {
             "shape": ""
            }
           },
           "name": "직권남용",
           "offsetgroup": "직권남용",
           "orientation": "v",
           "showlegend": true,
           "text": [
            45
           ],
           "textposition": "auto",
           "type": "bar",
           "x": [
            "직권남용"
           ],
           "xaxis": "x",
           "y": [
            45
           ],
           "yaxis": "y"
          },
          {
           "alignmentgroup": "True",
           "hovertemplate": "지능범 유형=%{x}<br>Year=1997<br>Value=%{text}<extra></extra>",
           "legendgroup": "증수",
           "marker": {
            "color": "#00cc96",
            "pattern": {
             "shape": ""
            }
           },
           "name": "증수",
           "offsetgroup": "증수",
           "orientation": "v",
           "showlegend": true,
           "text": [
            387
           ],
           "textposition": "auto",
           "type": "bar",
           "x": [
            "증수"
           ],
           "xaxis": "x",
           "y": [
            387
           ],
           "yaxis": "y"
          },
          {
           "alignmentgroup": "True",
           "hovertemplate": "지능범 유형=%{x}<br>Year=1997<br>Value=%{text}<extra></extra>",
           "legendgroup": "통화",
           "marker": {
            "color": "#ab63fa",
            "pattern": {
             "shape": ""
            }
           },
           "name": "통화",
           "offsetgroup": "통화",
           "orientation": "v",
           "showlegend": true,
           "text": [
            33
           ],
           "textposition": "auto",
           "type": "bar",
           "x": [
            "통화"
           ],
           "xaxis": "x",
           "y": [
            33
           ],
           "yaxis": "y"
          },
          {
           "alignmentgroup": "True",
           "hovertemplate": "지능범 유형=%{x}<br>Year=1997<br>Value=%{text}<extra></extra>",
           "legendgroup": "문서인장",
           "marker": {
            "color": "#FFA15A",
            "pattern": {
             "shape": ""
            }
           },
           "name": "문서인장",
           "offsetgroup": "문서인장",
           "orientation": "v",
           "showlegend": true,
           "text": [
            1658
           ],
           "textposition": "auto",
           "type": "bar",
           "x": [
            "문서인장"
           ],
           "xaxis": "x",
           "y": [
            1658
           ],
           "yaxis": "y"
          },
          {
           "alignmentgroup": "True",
           "hovertemplate": "지능범 유형=%{x}<br>Year=1997<br>Value=%{text}<extra></extra>",
           "legendgroup": "유가증권인지",
           "marker": {
            "color": "#19d3f3",
            "pattern": {
             "shape": ""
            }
           },
           "name": "유가증권인지",
           "offsetgroup": "유가증권인지",
           "orientation": "v",
           "showlegend": true,
           "text": [
            8392
           ],
           "textposition": "auto",
           "type": "bar",
           "x": [
            "유가증권인지"
           ],
           "xaxis": "x",
           "y": [
            8392
           ],
           "yaxis": "y"
          },
          {
           "alignmentgroup": "True",
           "hovertemplate": "지능범 유형=%{x}<br>Year=1997<br>Value=%{text}<extra></extra>",
           "legendgroup": "사기",
           "marker": {
            "color": "#FF6692",
            "pattern": {
             "shape": ""
            }
           },
           "name": "사기",
           "offsetgroup": "사기",
           "orientation": "v",
           "showlegend": true,
           "text": [
            "176,588"
           ],
           "textposition": "auto",
           "type": "bar",
           "x": [
            "사기"
           ],
           "xaxis": "x",
           "y": [
            "176,588"
           ],
           "yaxis": "y"
          },
          {
           "alignmentgroup": "True",
           "hovertemplate": "지능범 유형=%{x}<br>Year=1997<br>Value=%{text}<extra></extra>",
           "legendgroup": "횡령",
           "marker": {
            "color": "#B6E880",
            "pattern": {
             "shape": ""
            }
           },
           "name": "횡령",
           "offsetgroup": "횡령",
           "orientation": "v",
           "showlegend": true,
           "text": [
            12929
           ],
           "textposition": "auto",
           "type": "bar",
           "x": [
            "횡령"
           ],
           "xaxis": "x",
           "y": [
            12929
           ],
           "yaxis": "y"
          },
          {
           "alignmentgroup": "True",
           "hovertemplate": "지능범 유형=%{x}<br>Year=1997<br>Value=%{text}<extra></extra>",
           "legendgroup": "배임",
           "marker": {
            "color": "#FF97FF",
            "pattern": {
             "shape": ""
            }
           },
           "name": "배임",
           "offsetgroup": "배임",
           "orientation": "v",
           "showlegend": true,
           "text": [
            3066
           ],
           "textposition": "auto",
           "type": "bar",
           "x": [
            "배임"
           ],
           "xaxis": "x",
           "y": [
            3066
           ],
           "yaxis": "y"
          }
         ],
         "name": "1997"
        },
        {
         "data": [
          {
           "alignmentgroup": "True",
           "hovertemplate": "지능범 유형=%{x}<br>Year=1998<br>Value=%{text}<extra></extra>",
           "legendgroup": "직무유기",
           "marker": {
            "color": "#636efa",
            "pattern": {
             "shape": ""
            }
           },
           "name": "직무유기",
           "offsetgroup": "직무유기",
           "orientation": "v",
           "showlegend": true,
           "text": [
            232
           ],
           "textposition": "auto",
           "type": "bar",
           "x": [
            "직무유기"
           ],
           "xaxis": "x",
           "y": [
            232
           ],
           "yaxis": "y"
          },
          {
           "alignmentgroup": "True",
           "hovertemplate": "지능범 유형=%{x}<br>Year=1998<br>Value=%{text}<extra></extra>",
           "legendgroup": "직권남용",
           "marker": {
            "color": "#EF553B",
            "pattern": {
             "shape": ""
            }
           },
           "name": "직권남용",
           "offsetgroup": "직권남용",
           "orientation": "v",
           "showlegend": true,
           "text": [
            102
           ],
           "textposition": "auto",
           "type": "bar",
           "x": [
            "직권남용"
           ],
           "xaxis": "x",
           "y": [
            102
           ],
           "yaxis": "y"
          },
          {
           "alignmentgroup": "True",
           "hovertemplate": "지능범 유형=%{x}<br>Year=1998<br>Value=%{text}<extra></extra>",
           "legendgroup": "증수",
           "marker": {
            "color": "#00cc96",
            "pattern": {
             "shape": ""
            }
           },
           "name": "증수",
           "offsetgroup": "증수",
           "orientation": "v",
           "showlegend": true,
           "text": [
            555
           ],
           "textposition": "auto",
           "type": "bar",
           "x": [
            "증수"
           ],
           "xaxis": "x",
           "y": [
            555
           ],
           "yaxis": "y"
          },
          {
           "alignmentgroup": "True",
           "hovertemplate": "지능범 유형=%{x}<br>Year=1998<br>Value=%{text}<extra></extra>",
           "legendgroup": "통화",
           "marker": {
            "color": "#ab63fa",
            "pattern": {
             "shape": ""
            }
           },
           "name": "통화",
           "offsetgroup": "통화",
           "orientation": "v",
           "showlegend": true,
           "text": [
            114
           ],
           "textposition": "auto",
           "type": "bar",
           "x": [
            "통화"
           ],
           "xaxis": "x",
           "y": [
            114
           ],
           "yaxis": "y"
          },
          {
           "alignmentgroup": "True",
           "hovertemplate": "지능범 유형=%{x}<br>Year=1998<br>Value=%{text}<extra></extra>",
           "legendgroup": "문서인장",
           "marker": {
            "color": "#FFA15A",
            "pattern": {
             "shape": ""
            }
           },
           "name": "문서인장",
           "offsetgroup": "문서인장",
           "orientation": "v",
           "showlegend": true,
           "text": [
            1777
           ],
           "textposition": "auto",
           "type": "bar",
           "x": [
            "문서인장"
           ],
           "xaxis": "x",
           "y": [
            1777
           ],
           "yaxis": "y"
          },
          {
           "alignmentgroup": "True",
           "hovertemplate": "지능범 유형=%{x}<br>Year=1998<br>Value=%{text}<extra></extra>",
           "legendgroup": "유가증권인지",
           "marker": {
            "color": "#19d3f3",
            "pattern": {
             "shape": ""
            }
           },
           "name": "유가증권인지",
           "offsetgroup": "유가증권인지",
           "orientation": "v",
           "showlegend": true,
           "text": [
            10484
           ],
           "textposition": "auto",
           "type": "bar",
           "x": [
            "유가증권인지"
           ],
           "xaxis": "x",
           "y": [
            10484
           ],
           "yaxis": "y"
          },
          {
           "alignmentgroup": "True",
           "hovertemplate": "지능범 유형=%{x}<br>Year=1998<br>Value=%{text}<extra></extra>",
           "legendgroup": "사기",
           "marker": {
            "color": "#FF6692",
            "pattern": {
             "shape": ""
            }
           },
           "name": "사기",
           "offsetgroup": "사기",
           "orientation": "v",
           "showlegend": true,
           "text": [
            "206,702"
           ],
           "textposition": "auto",
           "type": "bar",
           "x": [
            "사기"
           ],
           "xaxis": "x",
           "y": [
            "206,702"
           ],
           "yaxis": "y"
          },
          {
           "alignmentgroup": "True",
           "hovertemplate": "지능범 유형=%{x}<br>Year=1998<br>Value=%{text}<extra></extra>",
           "legendgroup": "횡령",
           "marker": {
            "color": "#B6E880",
            "pattern": {
             "shape": ""
            }
           },
           "name": "횡령",
           "offsetgroup": "횡령",
           "orientation": "v",
           "showlegend": true,
           "text": [
            16536
           ],
           "textposition": "auto",
           "type": "bar",
           "x": [
            "횡령"
           ],
           "xaxis": "x",
           "y": [
            16536
           ],
           "yaxis": "y"
          },
          {
           "alignmentgroup": "True",
           "hovertemplate": "지능범 유형=%{x}<br>Year=1998<br>Value=%{text}<extra></extra>",
           "legendgroup": "배임",
           "marker": {
            "color": "#FF97FF",
            "pattern": {
             "shape": ""
            }
           },
           "name": "배임",
           "offsetgroup": "배임",
           "orientation": "v",
           "showlegend": true,
           "text": [
            3762
           ],
           "textposition": "auto",
           "type": "bar",
           "x": [
            "배임"
           ],
           "xaxis": "x",
           "y": [
            3762
           ],
           "yaxis": "y"
          }
         ],
         "name": "1998"
        },
        {
         "data": [
          {
           "alignmentgroup": "True",
           "hovertemplate": "지능범 유형=%{x}<br>Year=1999<br>Value=%{text}<extra></extra>",
           "legendgroup": "직무유기",
           "marker": {
            "color": "#636efa",
            "pattern": {
             "shape": ""
            }
           },
           "name": "직무유기",
           "offsetgroup": "직무유기",
           "orientation": "v",
           "showlegend": true,
           "text": [
            1758
           ],
           "textposition": "auto",
           "type": "bar",
           "x": [
            "직무유기"
           ],
           "xaxis": "x",
           "y": [
            1758
           ],
           "yaxis": "y"
          },
          {
           "alignmentgroup": "True",
           "hovertemplate": "지능범 유형=%{x}<br>Year=1999<br>Value=%{text}<extra></extra>",
           "legendgroup": "직권남용",
           "marker": {
            "color": "#EF553B",
            "pattern": {
             "shape": ""
            }
           },
           "name": "직권남용",
           "offsetgroup": "직권남용",
           "orientation": "v",
           "showlegend": true,
           "text": [
            84
           ],
           "textposition": "auto",
           "type": "bar",
           "x": [
            "직권남용"
           ],
           "xaxis": "x",
           "y": [
            84
           ],
           "yaxis": "y"
          },
          {
           "alignmentgroup": "True",
           "hovertemplate": "지능범 유형=%{x}<br>Year=1999<br>Value=%{text}<extra></extra>",
           "legendgroup": "증수",
           "marker": {
            "color": "#00cc96",
            "pattern": {
             "shape": ""
            }
           },
           "name": "증수",
           "offsetgroup": "증수",
           "orientation": "v",
           "showlegend": true,
           "text": [
            8920
           ],
           "textposition": "auto",
           "type": "bar",
           "x": [
            "증수"
           ],
           "xaxis": "x",
           "y": [
            8920
           ],
           "yaxis": "y"
          },
          {
           "alignmentgroup": "True",
           "hovertemplate": "지능범 유형=%{x}<br>Year=1999<br>Value=%{text}<extra></extra>",
           "legendgroup": "통화",
           "marker": {
            "color": "#ab63fa",
            "pattern": {
             "shape": ""
            }
           },
           "name": "통화",
           "offsetgroup": "통화",
           "orientation": "v",
           "showlegend": true,
           "text": [
            746
           ],
           "textposition": "auto",
           "type": "bar",
           "x": [
            "통화"
           ],
           "xaxis": "x",
           "y": [
            746
           ],
           "yaxis": "y"
          },
          {
           "alignmentgroup": "True",
           "hovertemplate": "지능범 유형=%{x}<br>Year=1999<br>Value=%{text}<extra></extra>",
           "legendgroup": "문서인장",
           "marker": {
            "color": "#FFA15A",
            "pattern": {
             "shape": ""
            }
           },
           "name": "문서인장",
           "offsetgroup": "문서인장",
           "orientation": "v",
           "showlegend": true,
           "text": [
            1482
           ],
           "textposition": "auto",
           "type": "bar",
           "x": [
            "문서인장"
           ],
           "xaxis": "x",
           "y": [
            1482
           ],
           "yaxis": "y"
          },
          {
           "alignmentgroup": "True",
           "hovertemplate": "지능범 유형=%{x}<br>Year=1999<br>Value=%{text}<extra></extra>",
           "legendgroup": "유가증권인지",
           "marker": {
            "color": "#19d3f3",
            "pattern": {
             "shape": ""
            }
           },
           "name": "유가증권인지",
           "offsetgroup": "유가증권인지",
           "orientation": "v",
           "showlegend": true,
           "text": [
            13019
           ],
           "textposition": "auto",
           "type": "bar",
           "x": [
            "유가증권인지"
           ],
           "xaxis": "x",
           "y": [
            13019
           ],
           "yaxis": "y"
          },
          {
           "alignmentgroup": "True",
           "hovertemplate": "지능범 유형=%{x}<br>Year=1999<br>Value=%{text}<extra></extra>",
           "legendgroup": "사기",
           "marker": {
            "color": "#FF6692",
            "pattern": {
             "shape": ""
            }
           },
           "name": "사기",
           "offsetgroup": "사기",
           "orientation": "v",
           "showlegend": true,
           "text": [
            "190,944"
           ],
           "textposition": "auto",
           "type": "bar",
           "x": [
            "사기"
           ],
           "xaxis": "x",
           "y": [
            "190,944"
           ],
           "yaxis": "y"
          },
          {
           "alignmentgroup": "True",
           "hovertemplate": "지능범 유형=%{x}<br>Year=1999<br>Value=%{text}<extra></extra>",
           "legendgroup": "횡령",
           "marker": {
            "color": "#B6E880",
            "pattern": {
             "shape": ""
            }
           },
           "name": "횡령",
           "offsetgroup": "횡령",
           "orientation": "v",
           "showlegend": true,
           "text": [
            14232
           ],
           "textposition": "auto",
           "type": "bar",
           "x": [
            "횡령"
           ],
           "xaxis": "x",
           "y": [
            14232
           ],
           "yaxis": "y"
          },
          {
           "alignmentgroup": "True",
           "hovertemplate": "지능범 유형=%{x}<br>Year=1999<br>Value=%{text}<extra></extra>",
           "legendgroup": "배임",
           "marker": {
            "color": "#FF97FF",
            "pattern": {
             "shape": ""
            }
           },
           "name": "배임",
           "offsetgroup": "배임",
           "orientation": "v",
           "showlegend": true,
           "text": [
            3933
           ],
           "textposition": "auto",
           "type": "bar",
           "x": [
            "배임"
           ],
           "xaxis": "x",
           "y": [
            3933
           ],
           "yaxis": "y"
          }
         ],
         "name": "1999"
        },
        {
         "data": [
          {
           "alignmentgroup": "True",
           "hovertemplate": "지능범 유형=%{x}<br>Year=2000<br>Value=%{text}<extra></extra>",
           "legendgroup": "직무유기",
           "marker": {
            "color": "#636efa",
            "pattern": {
             "shape": ""
            }
           },
           "name": "직무유기",
           "offsetgroup": "직무유기",
           "orientation": "v",
           "showlegend": true,
           "text": [
            253
           ],
           "textposition": "auto",
           "type": "bar",
           "x": [
            "직무유기"
           ],
           "xaxis": "x",
           "y": [
            253
           ],
           "yaxis": "y"
          },
          {
           "alignmentgroup": "True",
           "hovertemplate": "지능범 유형=%{x}<br>Year=2000<br>Value=%{text}<extra></extra>",
           "legendgroup": "직권남용",
           "marker": {
            "color": "#EF553B",
            "pattern": {
             "shape": ""
            }
           },
           "name": "직권남용",
           "offsetgroup": "직권남용",
           "orientation": "v",
           "showlegend": true,
           "text": [
            123
           ],
           "textposition": "auto",
           "type": "bar",
           "x": [
            "직권남용"
           ],
           "xaxis": "x",
           "y": [
            123
           ],
           "yaxis": "y"
          },
          {
           "alignmentgroup": "True",
           "hovertemplate": "지능범 유형=%{x}<br>Year=2000<br>Value=%{text}<extra></extra>",
           "legendgroup": "증수",
           "marker": {
            "color": "#00cc96",
            "pattern": {
             "shape": ""
            }
           },
           "name": "증수",
           "offsetgroup": "증수",
           "orientation": "v",
           "showlegend": true,
           "text": [
            922
           ],
           "textposition": "auto",
           "type": "bar",
           "x": [
            "증수"
           ],
           "xaxis": "x",
           "y": [
            922
           ],
           "yaxis": "y"
          },
          {
           "alignmentgroup": "True",
           "hovertemplate": "지능범 유형=%{x}<br>Year=2000<br>Value=%{text}<extra></extra>",
           "legendgroup": "통화",
           "marker": {
            "color": "#ab63fa",
            "pattern": {
             "shape": ""
            }
           },
           "name": "통화",
           "offsetgroup": "통화",
           "orientation": "v",
           "showlegend": true,
           "text": [
            191
           ],
           "textposition": "auto",
           "type": "bar",
           "x": [
            "통화"
           ],
           "xaxis": "x",
           "y": [
            191
           ],
           "yaxis": "y"
          },
          {
           "alignmentgroup": "True",
           "hovertemplate": "지능범 유형=%{x}<br>Year=2000<br>Value=%{text}<extra></extra>",
           "legendgroup": "문서인장",
           "marker": {
            "color": "#FFA15A",
            "pattern": {
             "shape": ""
            }
           },
           "name": "문서인장",
           "offsetgroup": "문서인장",
           "orientation": "v",
           "showlegend": true,
           "text": [
            1213
           ],
           "textposition": "auto",
           "type": "bar",
           "x": [
            "문서인장"
           ],
           "xaxis": "x",
           "y": [
            1213
           ],
           "yaxis": "y"
          },
          {
           "alignmentgroup": "True",
           "hovertemplate": "지능범 유형=%{x}<br>Year=2000<br>Value=%{text}<extra></extra>",
           "legendgroup": "유가증권인지",
           "marker": {
            "color": "#19d3f3",
            "pattern": {
             "shape": ""
            }
           },
           "name": "유가증권인지",
           "offsetgroup": "유가증권인지",
           "orientation": "v",
           "showlegend": true,
           "text": [
            11984
           ],
           "textposition": "auto",
           "type": "bar",
           "x": [
            "유가증권인지"
           ],
           "xaxis": "x",
           "y": [
            11984
           ],
           "yaxis": "y"
          },
          {
           "alignmentgroup": "True",
           "hovertemplate": "지능범 유형=%{x}<br>Year=2000<br>Value=%{text}<extra></extra>",
           "legendgroup": "사기",
           "marker": {
            "color": "#FF6692",
            "pattern": {
             "shape": ""
            }
           },
           "name": "사기",
           "offsetgroup": "사기",
           "orientation": "v",
           "showlegend": true,
           "text": [
            "152,450"
           ],
           "textposition": "auto",
           "type": "bar",
           "x": [
            "사기"
           ],
           "xaxis": "x",
           "y": [
            "152,450"
           ],
           "yaxis": "y"
          },
          {
           "alignmentgroup": "True",
           "hovertemplate": "지능범 유형=%{x}<br>Year=2000<br>Value=%{text}<extra></extra>",
           "legendgroup": "횡령",
           "marker": {
            "color": "#B6E880",
            "pattern": {
             "shape": ""
            }
           },
           "name": "횡령",
           "offsetgroup": "횡령",
           "orientation": "v",
           "showlegend": true,
           "text": [
            10853
           ],
           "textposition": "auto",
           "type": "bar",
           "x": [
            "횡령"
           ],
           "xaxis": "x",
           "y": [
            10853
           ],
           "yaxis": "y"
          },
          {
           "alignmentgroup": "True",
           "hovertemplate": "지능범 유형=%{x}<br>Year=2000<br>Value=%{text}<extra></extra>",
           "legendgroup": "배임",
           "marker": {
            "color": "#FF97FF",
            "pattern": {
             "shape": ""
            }
           },
           "name": "배임",
           "offsetgroup": "배임",
           "orientation": "v",
           "showlegend": true,
           "text": [
            2540
           ],
           "textposition": "auto",
           "type": "bar",
           "x": [
            "배임"
           ],
           "xaxis": "x",
           "y": [
            2540
           ],
           "yaxis": "y"
          }
         ],
         "name": "2000"
        },
        {
         "data": [
          {
           "alignmentgroup": "True",
           "hovertemplate": "지능범 유형=%{x}<br>Year=2001<br>Value=%{text}<extra></extra>",
           "legendgroup": "직무유기",
           "marker": {
            "color": "#636efa",
            "pattern": {
             "shape": ""
            }
           },
           "name": "직무유기",
           "offsetgroup": "직무유기",
           "orientation": "v",
           "showlegend": true,
           "text": [
            215
           ],
           "textposition": "auto",
           "type": "bar",
           "x": [
            "직무유기"
           ],
           "xaxis": "x",
           "y": [
            215
           ],
           "yaxis": "y"
          },
          {
           "alignmentgroup": "True",
           "hovertemplate": "지능범 유형=%{x}<br>Year=2001<br>Value=%{text}<extra></extra>",
           "legendgroup": "직권남용",
           "marker": {
            "color": "#EF553B",
            "pattern": {
             "shape": ""
            }
           },
           "name": "직권남용",
           "offsetgroup": "직권남용",
           "orientation": "v",
           "showlegend": true,
           "text": [
            117
           ],
           "textposition": "auto",
           "type": "bar",
           "x": [
            "직권남용"
           ],
           "xaxis": "x",
           "y": [
            117
           ],
           "yaxis": "y"
          },
          {
           "alignmentgroup": "True",
           "hovertemplate": "지능범 유형=%{x}<br>Year=2001<br>Value=%{text}<extra></extra>",
           "legendgroup": "증수",
           "marker": {
            "color": "#00cc96",
            "pattern": {
             "shape": ""
            }
           },
           "name": "증수",
           "offsetgroup": "증수",
           "orientation": "v",
           "showlegend": true,
           "text": [
            290
           ],
           "textposition": "auto",
           "type": "bar",
           "x": [
            "증수"
           ],
           "xaxis": "x",
           "y": [
            290
           ],
           "yaxis": "y"
          },
          {
           "alignmentgroup": "True",
           "hovertemplate": "지능범 유형=%{x}<br>Year=2001<br>Value=%{text}<extra></extra>",
           "legendgroup": "통화",
           "marker": {
            "color": "#ab63fa",
            "pattern": {
             "shape": ""
            }
           },
           "name": "통화",
           "offsetgroup": "통화",
           "orientation": "v",
           "showlegend": true,
           "text": [
            244
           ],
           "textposition": "auto",
           "type": "bar",
           "x": [
            "통화"
           ],
           "xaxis": "x",
           "y": [
            244
           ],
           "yaxis": "y"
          },
          {
           "alignmentgroup": "True",
           "hovertemplate": "지능범 유형=%{x}<br>Year=2001<br>Value=%{text}<extra></extra>",
           "legendgroup": "문서인장",
           "marker": {
            "color": "#FFA15A",
            "pattern": {
             "shape": ""
            }
           },
           "name": "문서인장",
           "offsetgroup": "문서인장",
           "orientation": "v",
           "showlegend": true,
           "text": [
            1128
           ],
           "textposition": "auto",
           "type": "bar",
           "x": [
            "문서인장"
           ],
           "xaxis": "x",
           "y": [
            1128
           ],
           "yaxis": "y"
          },
          {
           "alignmentgroup": "True",
           "hovertemplate": "지능범 유형=%{x}<br>Year=2001<br>Value=%{text}<extra></extra>",
           "legendgroup": "유가증권인지",
           "marker": {
            "color": "#19d3f3",
            "pattern": {
             "shape": ""
            }
           },
           "name": "유가증권인지",
           "offsetgroup": "유가증권인지",
           "orientation": "v",
           "showlegend": true,
           "text": [
            13168
           ],
           "textposition": "auto",
           "type": "bar",
           "x": [
            "유가증권인지"
           ],
           "xaxis": "x",
           "y": [
            13168
           ],
           "yaxis": "y"
          },
          {
           "alignmentgroup": "True",
           "hovertemplate": "지능범 유형=%{x}<br>Year=2001<br>Value=%{text}<extra></extra>",
           "legendgroup": "사기",
           "marker": {
            "color": "#FF6692",
            "pattern": {
             "shape": ""
            }
           },
           "name": "사기",
           "offsetgroup": "사기",
           "orientation": "v",
           "showlegend": true,
           "text": [
            "169,553"
           ],
           "textposition": "auto",
           "type": "bar",
           "x": [
            "사기"
           ],
           "xaxis": "x",
           "y": [
            "169,553"
           ],
           "yaxis": "y"
          },
          {
           "alignmentgroup": "True",
           "hovertemplate": "지능범 유형=%{x}<br>Year=2001<br>Value=%{text}<extra></extra>",
           "legendgroup": "횡령",
           "marker": {
            "color": "#B6E880",
            "pattern": {
             "shape": ""
            }
           },
           "name": "횡령",
           "offsetgroup": "횡령",
           "orientation": "v",
           "showlegend": true,
           "text": [
            20791
           ],
           "textposition": "auto",
           "type": "bar",
           "x": [
            "횡령"
           ],
           "xaxis": "x",
           "y": [
            20791
           ],
           "yaxis": "y"
          },
          {
           "alignmentgroup": "True",
           "hovertemplate": "지능범 유형=%{x}<br>Year=2001<br>Value=%{text}<extra></extra>",
           "legendgroup": "배임",
           "marker": {
            "color": "#FF97FF",
            "pattern": {
             "shape": ""
            }
           },
           "name": "배임",
           "offsetgroup": "배임",
           "orientation": "v",
           "showlegend": true,
           "text": [
            3858
           ],
           "textposition": "auto",
           "type": "bar",
           "x": [
            "배임"
           ],
           "xaxis": "x",
           "y": [
            3858
           ],
           "yaxis": "y"
          }
         ],
         "name": "2001"
        },
        {
         "data": [
          {
           "alignmentgroup": "True",
           "hovertemplate": "지능범 유형=%{x}<br>Year=2002<br>Value=%{text}<extra></extra>",
           "legendgroup": "직무유기",
           "marker": {
            "color": "#636efa",
            "pattern": {
             "shape": ""
            }
           },
           "name": "직무유기",
           "offsetgroup": "직무유기",
           "orientation": "v",
           "showlegend": true,
           "text": [
            187
           ],
           "textposition": "auto",
           "type": "bar",
           "x": [
            "직무유기"
           ],
           "xaxis": "x",
           "y": [
            187
           ],
           "yaxis": "y"
          },
          {
           "alignmentgroup": "True",
           "hovertemplate": "지능범 유형=%{x}<br>Year=2002<br>Value=%{text}<extra></extra>",
           "legendgroup": "직권남용",
           "marker": {
            "color": "#EF553B",
            "pattern": {
             "shape": ""
            }
           },
           "name": "직권남용",
           "offsetgroup": "직권남용",
           "orientation": "v",
           "showlegend": true,
           "text": [
            97
           ],
           "textposition": "auto",
           "type": "bar",
           "x": [
            "직권남용"
           ],
           "xaxis": "x",
           "y": [
            97
           ],
           "yaxis": "y"
          },
          {
           "alignmentgroup": "True",
           "hovertemplate": "지능범 유형=%{x}<br>Year=2002<br>Value=%{text}<extra></extra>",
           "legendgroup": "증수",
           "marker": {
            "color": "#00cc96",
            "pattern": {
             "shape": ""
            }
           },
           "name": "증수",
           "offsetgroup": "증수",
           "orientation": "v",
           "showlegend": true,
           "text": [
            269
           ],
           "textposition": "auto",
           "type": "bar",
           "x": [
            "증수"
           ],
           "xaxis": "x",
           "y": [
            269
           ],
           "yaxis": "y"
          },
          {
           "alignmentgroup": "True",
           "hovertemplate": "지능범 유형=%{x}<br>Year=2002<br>Value=%{text}<extra></extra>",
           "legendgroup": "통화",
           "marker": {
            "color": "#ab63fa",
            "pattern": {
             "shape": ""
            }
           },
           "name": "통화",
           "offsetgroup": "통화",
           "orientation": "v",
           "showlegend": true,
           "text": [
            339
           ],
           "textposition": "auto",
           "type": "bar",
           "x": [
            "통화"
           ],
           "xaxis": "x",
           "y": [
            339
           ],
           "yaxis": "y"
          },
          {
           "alignmentgroup": "True",
           "hovertemplate": "지능범 유형=%{x}<br>Year=2002<br>Value=%{text}<extra></extra>",
           "legendgroup": "문서인장",
           "marker": {
            "color": "#FFA15A",
            "pattern": {
             "shape": ""
            }
           },
           "name": "문서인장",
           "offsetgroup": "문서인장",
           "orientation": "v",
           "showlegend": true,
           "text": [
            881
           ],
           "textposition": "auto",
           "type": "bar",
           "x": [
            "문서인장"
           ],
           "xaxis": "x",
           "y": [
            881
           ],
           "yaxis": "y"
          },
          {
           "alignmentgroup": "True",
           "hovertemplate": "지능범 유형=%{x}<br>Year=2002<br>Value=%{text}<extra></extra>",
           "legendgroup": "유가증권인지",
           "marker": {
            "color": "#19d3f3",
            "pattern": {
             "shape": ""
            }
           },
           "name": "유가증권인지",
           "offsetgroup": "유가증권인지",
           "orientation": "v",
           "showlegend": true,
           "text": [
            12633
           ],
           "textposition": "auto",
           "type": "bar",
           "x": [
            "유가증권인지"
           ],
           "xaxis": "x",
           "y": [
            12633
           ],
           "yaxis": "y"
          },
          {
           "alignmentgroup": "True",
           "hovertemplate": "지능범 유형=%{x}<br>Year=2002<br>Value=%{text}<extra></extra>",
           "legendgroup": "사기",
           "marker": {
            "color": "#FF6692",
            "pattern": {
             "shape": ""
            }
           },
           "name": "사기",
           "offsetgroup": "사기",
           "orientation": "v",
           "showlegend": true,
           "text": [
            "183,327"
           ],
           "textposition": "auto",
           "type": "bar",
           "x": [
            "사기"
           ],
           "xaxis": "x",
           "y": [
            "183,327"
           ],
           "yaxis": "y"
          },
          {
           "alignmentgroup": "True",
           "hovertemplate": "지능범 유형=%{x}<br>Year=2002<br>Value=%{text}<extra></extra>",
           "legendgroup": "횡령",
           "marker": {
            "color": "#B6E880",
            "pattern": {
             "shape": ""
            }
           },
           "name": "횡령",
           "offsetgroup": "횡령",
           "orientation": "v",
           "showlegend": true,
           "text": [
            19600
           ],
           "textposition": "auto",
           "type": "bar",
           "x": [
            "횡령"
           ],
           "xaxis": "x",
           "y": [
            19600
           ],
           "yaxis": "y"
          },
          {
           "alignmentgroup": "True",
           "hovertemplate": "지능범 유형=%{x}<br>Year=2002<br>Value=%{text}<extra></extra>",
           "legendgroup": "배임",
           "marker": {
            "color": "#FF97FF",
            "pattern": {
             "shape": ""
            }
           },
           "name": "배임",
           "offsetgroup": "배임",
           "orientation": "v",
           "showlegend": true,
           "text": [
            3386
           ],
           "textposition": "auto",
           "type": "bar",
           "x": [
            "배임"
           ],
           "xaxis": "x",
           "y": [
            3386
           ],
           "yaxis": "y"
          }
         ],
         "name": "2002"
        },
        {
         "data": [
          {
           "alignmentgroup": "True",
           "hovertemplate": "지능범 유형=%{x}<br>Year=2003<br>Value=%{text}<extra></extra>",
           "legendgroup": "직무유기",
           "marker": {
            "color": "#636efa",
            "pattern": {
             "shape": ""
            }
           },
           "name": "직무유기",
           "offsetgroup": "직무유기",
           "orientation": "v",
           "showlegend": true,
           "text": [
            214
           ],
           "textposition": "auto",
           "type": "bar",
           "x": [
            "직무유기"
           ],
           "xaxis": "x",
           "y": [
            214
           ],
           "yaxis": "y"
          },
          {
           "alignmentgroup": "True",
           "hovertemplate": "지능범 유형=%{x}<br>Year=2003<br>Value=%{text}<extra></extra>",
           "legendgroup": "직권남용",
           "marker": {
            "color": "#EF553B",
            "pattern": {
             "shape": ""
            }
           },
           "name": "직권남용",
           "offsetgroup": "직권남용",
           "orientation": "v",
           "showlegend": true,
           "text": [
            112
           ],
           "textposition": "auto",
           "type": "bar",
           "x": [
            "직권남용"
           ],
           "xaxis": "x",
           "y": [
            112
           ],
           "yaxis": "y"
          },
          {
           "alignmentgroup": "True",
           "hovertemplate": "지능범 유형=%{x}<br>Year=2003<br>Value=%{text}<extra></extra>",
           "legendgroup": "증수",
           "marker": {
            "color": "#00cc96",
            "pattern": {
             "shape": ""
            }
           },
           "name": "증수",
           "offsetgroup": "증수",
           "orientation": "v",
           "showlegend": true,
           "text": [
            231
           ],
           "textposition": "auto",
           "type": "bar",
           "x": [
            "증수"
           ],
           "xaxis": "x",
           "y": [
            231
           ],
           "yaxis": "y"
          },
          {
           "alignmentgroup": "True",
           "hovertemplate": "지능범 유형=%{x}<br>Year=2003<br>Value=%{text}<extra></extra>",
           "legendgroup": "통화",
           "marker": {
            "color": "#ab63fa",
            "pattern": {
             "shape": ""
            }
           },
           "name": "통화",
           "offsetgroup": "통화",
           "orientation": "v",
           "showlegend": true,
           "text": [
            454
           ],
           "textposition": "auto",
           "type": "bar",
           "x": [
            "통화"
           ],
           "xaxis": "x",
           "y": [
            454
           ],
           "yaxis": "y"
          },
          {
           "alignmentgroup": "True",
           "hovertemplate": "지능범 유형=%{x}<br>Year=2003<br>Value=%{text}<extra></extra>",
           "legendgroup": "문서인장",
           "marker": {
            "color": "#FFA15A",
            "pattern": {
             "shape": ""
            }
           },
           "name": "문서인장",
           "offsetgroup": "문서인장",
           "orientation": "v",
           "showlegend": true,
           "text": [
            997
           ],
           "textposition": "auto",
           "type": "bar",
           "x": [
            "문서인장"
           ],
           "xaxis": "x",
           "y": [
            997
           ],
           "yaxis": "y"
          },
          {
           "alignmentgroup": "True",
           "hovertemplate": "지능범 유형=%{x}<br>Year=2003<br>Value=%{text}<extra></extra>",
           "legendgroup": "유가증권인지",
           "marker": {
            "color": "#19d3f3",
            "pattern": {
             "shape": ""
            }
           },
           "name": "유가증권인지",
           "offsetgroup": "유가증권인지",
           "orientation": "v",
           "showlegend": true,
           "text": [
            13206
           ],
           "textposition": "auto",
           "type": "bar",
           "x": [
            "유가증권인지"
           ],
           "xaxis": "x",
           "y": [
            13206
           ],
           "yaxis": "y"
          },
          {
           "alignmentgroup": "True",
           "hovertemplate": "지능범 유형=%{x}<br>Year=2003<br>Value=%{text}<extra></extra>",
           "legendgroup": "사기",
           "marker": {
            "color": "#FF6692",
            "pattern": {
             "shape": ""
            }
           },
           "name": "사기",
           "offsetgroup": "사기",
           "orientation": "v",
           "showlegend": true,
           "text": [
            "231,951"
           ],
           "textposition": "auto",
           "type": "bar",
           "x": [
            "사기"
           ],
           "xaxis": "x",
           "y": [
            "231,951"
           ],
           "yaxis": "y"
          },
          {
           "alignmentgroup": "True",
           "hovertemplate": "지능범 유형=%{x}<br>Year=2003<br>Value=%{text}<extra></extra>",
           "legendgroup": "횡령",
           "marker": {
            "color": "#B6E880",
            "pattern": {
             "shape": ""
            }
           },
           "name": "횡령",
           "offsetgroup": "횡령",
           "orientation": "v",
           "showlegend": true,
           "text": [
            22286
           ],
           "textposition": "auto",
           "type": "bar",
           "x": [
            "횡령"
           ],
           "xaxis": "x",
           "y": [
            22286
           ],
           "yaxis": "y"
          },
          {
           "alignmentgroup": "True",
           "hovertemplate": "지능범 유형=%{x}<br>Year=2003<br>Value=%{text}<extra></extra>",
           "legendgroup": "배임",
           "marker": {
            "color": "#FF97FF",
            "pattern": {
             "shape": ""
            }
           },
           "name": "배임",
           "offsetgroup": "배임",
           "orientation": "v",
           "showlegend": true,
           "text": [
            4416
           ],
           "textposition": "auto",
           "type": "bar",
           "x": [
            "배임"
           ],
           "xaxis": "x",
           "y": [
            4416
           ],
           "yaxis": "y"
          }
         ],
         "name": "2003"
        },
        {
         "data": [
          {
           "alignmentgroup": "True",
           "hovertemplate": "지능범 유형=%{x}<br>Year=2004<br>Value=%{text}<extra></extra>",
           "legendgroup": "직무유기",
           "marker": {
            "color": "#636efa",
            "pattern": {
             "shape": ""
            }
           },
           "name": "직무유기",
           "offsetgroup": "직무유기",
           "orientation": "v",
           "showlegend": true,
           "text": [
            226
           ],
           "textposition": "auto",
           "type": "bar",
           "x": [
            "직무유기"
           ],
           "xaxis": "x",
           "y": [
            226
           ],
           "yaxis": "y"
          },
          {
           "alignmentgroup": "True",
           "hovertemplate": "지능범 유형=%{x}<br>Year=2004<br>Value=%{text}<extra></extra>",
           "legendgroup": "직권남용",
           "marker": {
            "color": "#EF553B",
            "pattern": {
             "shape": ""
            }
           },
           "name": "직권남용",
           "offsetgroup": "직권남용",
           "orientation": "v",
           "showlegend": true,
           "text": [
            172
           ],
           "textposition": "auto",
           "type": "bar",
           "x": [
            "직권남용"
           ],
           "xaxis": "x",
           "y": [
            172
           ],
           "yaxis": "y"
          },
          {
           "alignmentgroup": "True",
           "hovertemplate": "지능범 유형=%{x}<br>Year=2004<br>Value=%{text}<extra></extra>",
           "legendgroup": "증수",
           "marker": {
            "color": "#00cc96",
            "pattern": {
             "shape": ""
            }
           },
           "name": "증수",
           "offsetgroup": "증수",
           "orientation": "v",
           "showlegend": true,
           "text": [
            377
           ],
           "textposition": "auto",
           "type": "bar",
           "x": [
            "증수"
           ],
           "xaxis": "x",
           "y": [
            377
           ],
           "yaxis": "y"
          },
          {
           "alignmentgroup": "True",
           "hovertemplate": "지능범 유형=%{x}<br>Year=2004<br>Value=%{text}<extra></extra>",
           "legendgroup": "통화",
           "marker": {
            "color": "#ab63fa",
            "pattern": {
             "shape": ""
            }
           },
           "name": "통화",
           "offsetgroup": "통화",
           "orientation": "v",
           "showlegend": true,
           "text": [
            568
           ],
           "textposition": "auto",
           "type": "bar",
           "x": [
            "통화"
           ],
           "xaxis": "x",
           "y": [
            568
           ],
           "yaxis": "y"
          },
          {
           "alignmentgroup": "True",
           "hovertemplate": "지능범 유형=%{x}<br>Year=2004<br>Value=%{text}<extra></extra>",
           "legendgroup": "문서인장",
           "marker": {
            "color": "#FFA15A",
            "pattern": {
             "shape": ""
            }
           },
           "name": "문서인장",
           "offsetgroup": "문서인장",
           "orientation": "v",
           "showlegend": true,
           "text": [
            1387
           ],
           "textposition": "auto",
           "type": "bar",
           "x": [
            "문서인장"
           ],
           "xaxis": "x",
           "y": [
            1387
           ],
           "yaxis": "y"
          },
          {
           "alignmentgroup": "True",
           "hovertemplate": "지능범 유형=%{x}<br>Year=2004<br>Value=%{text}<extra></extra>",
           "legendgroup": "유가증권인지",
           "marker": {
            "color": "#19d3f3",
            "pattern": {
             "shape": ""
            }
           },
           "name": "유가증권인지",
           "offsetgroup": "유가증권인지",
           "orientation": "v",
           "showlegend": true,
           "text": [
            16760
           ],
           "textposition": "auto",
           "type": "bar",
           "x": [
            "유가증권인지"
           ],
           "xaxis": "x",
           "y": [
            16760
           ],
           "yaxis": "y"
          },
          {
           "alignmentgroup": "True",
           "hovertemplate": "지능범 유형=%{x}<br>Year=2004<br>Value=%{text}<extra></extra>",
           "legendgroup": "사기",
           "marker": {
            "color": "#FF6692",
            "pattern": {
             "shape": ""
            }
           },
           "name": "사기",
           "offsetgroup": "사기",
           "orientation": "v",
           "showlegend": true,
           "text": [
            "169,553"
           ],
           "textposition": "auto",
           "type": "bar",
           "x": [
            "사기"
           ],
           "xaxis": "x",
           "y": [
            "169,553"
           ],
           "yaxis": "y"
          },
          {
           "alignmentgroup": "True",
           "hovertemplate": "지능범 유형=%{x}<br>Year=2004<br>Value=%{text}<extra></extra>",
           "legendgroup": "횡령",
           "marker": {
            "color": "#B6E880",
            "pattern": {
             "shape": ""
            }
           },
           "name": "횡령",
           "offsetgroup": "횡령",
           "orientation": "v",
           "showlegend": true,
           "text": [
            25702
           ],
           "textposition": "auto",
           "type": "bar",
           "x": [
            "횡령"
           ],
           "xaxis": "x",
           "y": [
            25702
           ],
           "yaxis": "y"
          },
          {
           "alignmentgroup": "True",
           "hovertemplate": "지능범 유형=%{x}<br>Year=2004<br>Value=%{text}<extra></extra>",
           "legendgroup": "배임",
           "marker": {
            "color": "#FF97FF",
            "pattern": {
             "shape": ""
            }
           },
           "name": "배임",
           "offsetgroup": "배임",
           "orientation": "v",
           "showlegend": true,
           "text": [
            5787
           ],
           "textposition": "auto",
           "type": "bar",
           "x": [
            "배임"
           ],
           "xaxis": "x",
           "y": [
            5787
           ],
           "yaxis": "y"
          }
         ],
         "name": "2004"
        },
        {
         "data": [
          {
           "alignmentgroup": "True",
           "hovertemplate": "지능범 유형=%{x}<br>Year=2005<br>Value=%{text}<extra></extra>",
           "legendgroup": "직무유기",
           "marker": {
            "color": "#636efa",
            "pattern": {
             "shape": ""
            }
           },
           "name": "직무유기",
           "offsetgroup": "직무유기",
           "orientation": "v",
           "showlegend": true,
           "text": [
            268
           ],
           "textposition": "auto",
           "type": "bar",
           "x": [
            "직무유기"
           ],
           "xaxis": "x",
           "y": [
            268
           ],
           "yaxis": "y"
          },
          {
           "alignmentgroup": "True",
           "hovertemplate": "지능범 유형=%{x}<br>Year=2005<br>Value=%{text}<extra></extra>",
           "legendgroup": "직권남용",
           "marker": {
            "color": "#EF553B",
            "pattern": {
             "shape": ""
            }
           },
           "name": "직권남용",
           "offsetgroup": "직권남용",
           "orientation": "v",
           "showlegend": true,
           "text": [
            150
           ],
           "textposition": "auto",
           "type": "bar",
           "x": [
            "직권남용"
           ],
           "xaxis": "x",
           "y": [
            150
           ],
           "yaxis": "y"
          },
          {
           "alignmentgroup": "True",
           "hovertemplate": "지능범 유형=%{x}<br>Year=2005<br>Value=%{text}<extra></extra>",
           "legendgroup": "증수",
           "marker": {
            "color": "#00cc96",
            "pattern": {
             "shape": ""
            }
           },
           "name": "증수",
           "offsetgroup": "증수",
           "orientation": "v",
           "showlegend": true,
           "text": [
            382
           ],
           "textposition": "auto",
           "type": "bar",
           "x": [
            "증수"
           ],
           "xaxis": "x",
           "y": [
            382
           ],
           "yaxis": "y"
          },
          {
           "alignmentgroup": "True",
           "hovertemplate": "지능범 유형=%{x}<br>Year=2005<br>Value=%{text}<extra></extra>",
           "legendgroup": "통화",
           "marker": {
            "color": "#ab63fa",
            "pattern": {
             "shape": ""
            }
           },
           "name": "통화",
           "offsetgroup": "통화",
           "orientation": "v",
           "showlegend": true,
           "text": [
            1426
           ],
           "textposition": "auto",
           "type": "bar",
           "x": [
            "통화"
           ],
           "xaxis": "x",
           "y": [
            1426
           ],
           "yaxis": "y"
          },
          {
           "alignmentgroup": "True",
           "hovertemplate": "지능범 유형=%{x}<br>Year=2005<br>Value=%{text}<extra></extra>",
           "legendgroup": "문서인장",
           "marker": {
            "color": "#FFA15A",
            "pattern": {
             "shape": ""
            }
           },
           "name": "문서인장",
           "offsetgroup": "문서인장",
           "orientation": "v",
           "showlegend": true,
           "text": [
            1875
           ],
           "textposition": "auto",
           "type": "bar",
           "x": [
            "문서인장"
           ],
           "xaxis": "x",
           "y": [
            1875
           ],
           "yaxis": "y"
          },
          {
           "alignmentgroup": "True",
           "hovertemplate": "지능범 유형=%{x}<br>Year=2005<br>Value=%{text}<extra></extra>",
           "legendgroup": "유가증권인지",
           "marker": {
            "color": "#19d3f3",
            "pattern": {
             "shape": ""
            }
           },
           "name": "유가증권인지",
           "offsetgroup": "유가증권인지",
           "orientation": "v",
           "showlegend": true,
           "text": [
            17067
           ],
           "textposition": "auto",
           "type": "bar",
           "x": [
            "유가증권인지"
           ],
           "xaxis": "x",
           "y": [
            17067
           ],
           "yaxis": "y"
          },
          {
           "alignmentgroup": "True",
           "hovertemplate": "지능범 유형=%{x}<br>Year=2005<br>Value=%{text}<extra></extra>",
           "legendgroup": "사기",
           "marker": {
            "color": "#FF6692",
            "pattern": {
             "shape": ""
            }
           },
           "name": "사기",
           "offsetgroup": "사기",
           "orientation": "v",
           "showlegend": true,
           "text": [
            "195,033"
           ],
           "textposition": "auto",
           "type": "bar",
           "x": [
            "사기"
           ],
           "xaxis": "x",
           "y": [
            "195,033"
           ],
           "yaxis": "y"
          },
          {
           "alignmentgroup": "True",
           "hovertemplate": "지능범 유형=%{x}<br>Year=2005<br>Value=%{text}<extra></extra>",
           "legendgroup": "횡령",
           "marker": {
            "color": "#B6E880",
            "pattern": {
             "shape": ""
            }
           },
           "name": "횡령",
           "offsetgroup": "횡령",
           "orientation": "v",
           "showlegend": true,
           "text": [
            23650
           ],
           "textposition": "auto",
           "type": "bar",
           "x": [
            "횡령"
           ],
           "xaxis": "x",
           "y": [
            23650
           ],
           "yaxis": "y"
          },
          {
           "alignmentgroup": "True",
           "hovertemplate": "지능범 유형=%{x}<br>Year=2005<br>Value=%{text}<extra></extra>",
           "legendgroup": "배임",
           "marker": {
            "color": "#FF97FF",
            "pattern": {
             "shape": ""
            }
           },
           "name": "배임",
           "offsetgroup": "배임",
           "orientation": "v",
           "showlegend": true,
           "text": [
            4829
           ],
           "textposition": "auto",
           "type": "bar",
           "x": [
            "배임"
           ],
           "xaxis": "x",
           "y": [
            4829
           ],
           "yaxis": "y"
          }
         ],
         "name": "2005"
        },
        {
         "data": [
          {
           "alignmentgroup": "True",
           "hovertemplate": "지능범 유형=%{x}<br>Year=2006<br>Value=%{text}<extra></extra>",
           "legendgroup": "직무유기",
           "marker": {
            "color": "#636efa",
            "pattern": {
             "shape": ""
            }
           },
           "name": "직무유기",
           "offsetgroup": "직무유기",
           "orientation": "v",
           "showlegend": true,
           "text": [
            309
           ],
           "textposition": "auto",
           "type": "bar",
           "x": [
            "직무유기"
           ],
           "xaxis": "x",
           "y": [
            309
           ],
           "yaxis": "y"
          },
          {
           "alignmentgroup": "True",
           "hovertemplate": "지능범 유형=%{x}<br>Year=2006<br>Value=%{text}<extra></extra>",
           "legendgroup": "직권남용",
           "marker": {
            "color": "#EF553B",
            "pattern": {
             "shape": ""
            }
           },
           "name": "직권남용",
           "offsetgroup": "직권남용",
           "orientation": "v",
           "showlegend": true,
           "text": [
            195
           ],
           "textposition": "auto",
           "type": "bar",
           "x": [
            "직권남용"
           ],
           "xaxis": "x",
           "y": [
            195
           ],
           "yaxis": "y"
          },
          {
           "alignmentgroup": "True",
           "hovertemplate": "지능범 유형=%{x}<br>Year=2006<br>Value=%{text}<extra></extra>",
           "legendgroup": "증수",
           "marker": {
            "color": "#00cc96",
            "pattern": {
             "shape": ""
            }
           },
           "name": "증수",
           "offsetgroup": "증수",
           "orientation": "v",
           "showlegend": true,
           "text": [
            240
           ],
           "textposition": "auto",
           "type": "bar",
           "x": [
            "증수"
           ],
           "xaxis": "x",
           "y": [
            240
           ],
           "yaxis": "y"
          },
          {
           "alignmentgroup": "True",
           "hovertemplate": "지능범 유형=%{x}<br>Year=2006<br>Value=%{text}<extra></extra>",
           "legendgroup": "통화",
           "marker": {
            "color": "#ab63fa",
            "pattern": {
             "shape": ""
            }
           },
           "name": "통화",
           "offsetgroup": "통화",
           "orientation": "v",
           "showlegend": true,
           "text": [
            3119
           ],
           "textposition": "auto",
           "type": "bar",
           "x": [
            "통화"
           ],
           "xaxis": "x",
           "y": [
            3119
           ],
           "yaxis": "y"
          },
          {
           "alignmentgroup": "True",
           "hovertemplate": "지능범 유형=%{x}<br>Year=2006<br>Value=%{text}<extra></extra>",
           "legendgroup": "문서인장",
           "marker": {
            "color": "#FFA15A",
            "pattern": {
             "shape": ""
            }
           },
           "name": "문서인장",
           "offsetgroup": "문서인장",
           "orientation": "v",
           "showlegend": true,
           "text": [
            2567
           ],
           "textposition": "auto",
           "type": "bar",
           "x": [
            "문서인장"
           ],
           "xaxis": "x",
           "y": [
            2567
           ],
           "yaxis": "y"
          },
          {
           "alignmentgroup": "True",
           "hovertemplate": "지능범 유형=%{x}<br>Year=2006<br>Value=%{text}<extra></extra>",
           "legendgroup": "유가증권인지",
           "marker": {
            "color": "#19d3f3",
            "pattern": {
             "shape": ""
            }
           },
           "name": "유가증권인지",
           "offsetgroup": "유가증권인지",
           "orientation": "v",
           "showlegend": true,
           "text": [
            20833
           ],
           "textposition": "auto",
           "type": "bar",
           "x": [
            "유가증권인지"
           ],
           "xaxis": "x",
           "y": [
            20833
           ],
           "yaxis": "y"
          },
          {
           "alignmentgroup": "True",
           "hovertemplate": "지능범 유형=%{x}<br>Year=2006<br>Value=%{text}<extra></extra>",
           "legendgroup": "사기",
           "marker": {
            "color": "#FF6692",
            "pattern": {
             "shape": ""
            }
           },
           "name": "사기",
           "offsetgroup": "사기",
           "orientation": "v",
           "showlegend": true,
           "text": [
            "202,240"
           ],
           "textposition": "auto",
           "type": "bar",
           "x": [
            "사기"
           ],
           "xaxis": "x",
           "y": [
            "202,240"
           ],
           "yaxis": "y"
          },
          {
           "alignmentgroup": "True",
           "hovertemplate": "지능범 유형=%{x}<br>Year=2006<br>Value=%{text}<extra></extra>",
           "legendgroup": "횡령",
           "marker": {
            "color": "#B6E880",
            "pattern": {
             "shape": ""
            }
           },
           "name": "횡령",
           "offsetgroup": "횡령",
           "orientation": "v",
           "showlegend": true,
           "text": [
            24389
           ],
           "textposition": "auto",
           "type": "bar",
           "x": [
            "횡령"
           ],
           "xaxis": "x",
           "y": [
            24389
           ],
           "yaxis": "y"
          },
          {
           "alignmentgroup": "True",
           "hovertemplate": "지능범 유형=%{x}<br>Year=2006<br>Value=%{text}<extra></extra>",
           "legendgroup": "배임",
           "marker": {
            "color": "#FF97FF",
            "pattern": {
             "shape": ""
            }
           },
           "name": "배임",
           "offsetgroup": "배임",
           "orientation": "v",
           "showlegend": true,
           "text": [
            4813
           ],
           "textposition": "auto",
           "type": "bar",
           "x": [
            "배임"
           ],
           "xaxis": "x",
           "y": [
            4813
           ],
           "yaxis": "y"
          }
         ],
         "name": "2006"
        },
        {
         "data": [
          {
           "alignmentgroup": "True",
           "hovertemplate": "지능범 유형=%{x}<br>Year=2007<br>Value=%{text}<extra></extra>",
           "legendgroup": "직무유기",
           "marker": {
            "color": "#636efa",
            "pattern": {
             "shape": ""
            }
           },
           "name": "직무유기",
           "offsetgroup": "직무유기",
           "orientation": "v",
           "showlegend": true,
           "text": [
            285
           ],
           "textposition": "auto",
           "type": "bar",
           "x": [
            "직무유기"
           ],
           "xaxis": "x",
           "y": [
            285
           ],
           "yaxis": "y"
          },
          {
           "alignmentgroup": "True",
           "hovertemplate": "지능범 유형=%{x}<br>Year=2007<br>Value=%{text}<extra></extra>",
           "legendgroup": "직권남용",
           "marker": {
            "color": "#EF553B",
            "pattern": {
             "shape": ""
            }
           },
           "name": "직권남용",
           "offsetgroup": "직권남용",
           "orientation": "v",
           "showlegend": true,
           "text": [
            176
           ],
           "textposition": "auto",
           "type": "bar",
           "x": [
            "직권남용"
           ],
           "xaxis": "x",
           "y": [
            176
           ],
           "yaxis": "y"
          },
          {
           "alignmentgroup": "True",
           "hovertemplate": "지능범 유형=%{x}<br>Year=2007<br>Value=%{text}<extra></extra>",
           "legendgroup": "증수",
           "marker": {
            "color": "#00cc96",
            "pattern": {
             "shape": ""
            }
           },
           "name": "증수",
           "offsetgroup": "증수",
           "orientation": "v",
           "showlegend": true,
           "text": [
            284
           ],
           "textposition": "auto",
           "type": "bar",
           "x": [
            "증수"
           ],
           "xaxis": "x",
           "y": [
            284
           ],
           "yaxis": "y"
          },
          {
           "alignmentgroup": "True",
           "hovertemplate": "지능범 유형=%{x}<br>Year=2007<br>Value=%{text}<extra></extra>",
           "legendgroup": "통화",
           "marker": {
            "color": "#ab63fa",
            "pattern": {
             "shape": ""
            }
           },
           "name": "통화",
           "offsetgroup": "통화",
           "orientation": "v",
           "showlegend": true,
           "text": [
            3615
           ],
           "textposition": "auto",
           "type": "bar",
           "x": [
            "통화"
           ],
           "xaxis": "x",
           "y": [
            3615
           ],
           "yaxis": "y"
          },
          {
           "alignmentgroup": "True",
           "hovertemplate": "지능범 유형=%{x}<br>Year=2007<br>Value=%{text}<extra></extra>",
           "legendgroup": "문서인장",
           "marker": {
            "color": "#FFA15A",
            "pattern": {
             "shape": ""
            }
           },
           "name": "문서인장",
           "offsetgroup": "문서인장",
           "orientation": "v",
           "showlegend": true,
           "text": [
            1651
           ],
           "textposition": "auto",
           "type": "bar",
           "x": [
            "문서인장"
           ],
           "xaxis": "x",
           "y": [
            1651
           ],
           "yaxis": "y"
          },
          {
           "alignmentgroup": "True",
           "hovertemplate": "지능범 유형=%{x}<br>Year=2007<br>Value=%{text}<extra></extra>",
           "legendgroup": "유가증권인지",
           "marker": {
            "color": "#19d3f3",
            "pattern": {
             "shape": ""
            }
           },
           "name": "유가증권인지",
           "offsetgroup": "유가증권인지",
           "orientation": "v",
           "showlegend": true,
           "text": [
            17526
           ],
           "textposition": "auto",
           "type": "bar",
           "x": [
            "유가증권인지"
           ],
           "xaxis": "x",
           "y": [
            17526
           ],
           "yaxis": "y"
          },
          {
           "alignmentgroup": "True",
           "hovertemplate": "지능범 유형=%{x}<br>Year=2007<br>Value=%{text}<extra></extra>",
           "legendgroup": "사기",
           "marker": {
            "color": "#FF6692",
            "pattern": {
             "shape": ""
            }
           },
           "name": "사기",
           "offsetgroup": "사기",
           "orientation": "v",
           "showlegend": true,
           "text": [
            "181,837"
           ],
           "textposition": "auto",
           "type": "bar",
           "x": [
            "사기"
           ],
           "xaxis": "x",
           "y": [
            "181,837"
           ],
           "yaxis": "y"
          },
          {
           "alignmentgroup": "True",
           "hovertemplate": "지능범 유형=%{x}<br>Year=2007<br>Value=%{text}<extra></extra>",
           "legendgroup": "횡령",
           "marker": {
            "color": "#B6E880",
            "pattern": {
             "shape": ""
            }
           },
           "name": "횡령",
           "offsetgroup": "횡령",
           "orientation": "v",
           "showlegend": true,
           "text": [
            23183
           ],
           "textposition": "auto",
           "type": "bar",
           "x": [
            "횡령"
           ],
           "xaxis": "x",
           "y": [
            23183
           ],
           "yaxis": "y"
          },
          {
           "alignmentgroup": "True",
           "hovertemplate": "지능범 유형=%{x}<br>Year=2007<br>Value=%{text}<extra></extra>",
           "legendgroup": "배임",
           "marker": {
            "color": "#FF97FF",
            "pattern": {
             "shape": ""
            }
           },
           "name": "배임",
           "offsetgroup": "배임",
           "orientation": "v",
           "showlegend": true,
           "text": [
            4656
           ],
           "textposition": "auto",
           "type": "bar",
           "x": [
            "배임"
           ],
           "xaxis": "x",
           "y": [
            4656
           ],
           "yaxis": "y"
          }
         ],
         "name": "2007"
        },
        {
         "data": [
          {
           "alignmentgroup": "True",
           "hovertemplate": "지능범 유형=%{x}<br>Year=2008<br>Value=%{text}<extra></extra>",
           "legendgroup": "직무유기",
           "marker": {
            "color": "#636efa",
            "pattern": {
             "shape": ""
            }
           },
           "name": "직무유기",
           "offsetgroup": "직무유기",
           "orientation": "v",
           "showlegend": true,
           "text": [
            332
           ],
           "textposition": "auto",
           "type": "bar",
           "x": [
            "직무유기"
           ],
           "xaxis": "x",
           "y": [
            332
           ],
           "yaxis": "y"
          },
          {
           "alignmentgroup": "True",
           "hovertemplate": "지능범 유형=%{x}<br>Year=2008<br>Value=%{text}<extra></extra>",
           "legendgroup": "직권남용",
           "marker": {
            "color": "#EF553B",
            "pattern": {
             "shape": ""
            }
           },
           "name": "직권남용",
           "offsetgroup": "직권남용",
           "orientation": "v",
           "showlegend": true,
           "text": [
            222
           ],
           "textposition": "auto",
           "type": "bar",
           "x": [
            "직권남용"
           ],
           "xaxis": "x",
           "y": [
            222
           ],
           "yaxis": "y"
          },
          {
           "alignmentgroup": "True",
           "hovertemplate": "지능범 유형=%{x}<br>Year=2008<br>Value=%{text}<extra></extra>",
           "legendgroup": "증수",
           "marker": {
            "color": "#00cc96",
            "pattern": {
             "shape": ""
            }
           },
           "name": "증수",
           "offsetgroup": "증수",
           "orientation": "v",
           "showlegend": true,
           "text": [
            333
           ],
           "textposition": "auto",
           "type": "bar",
           "x": [
            "증수"
           ],
           "xaxis": "x",
           "y": [
            333
           ],
           "yaxis": "y"
          },
          {
           "alignmentgroup": "True",
           "hovertemplate": "지능범 유형=%{x}<br>Year=2008<br>Value=%{text}<extra></extra>",
           "legendgroup": "통화",
           "marker": {
            "color": "#ab63fa",
            "pattern": {
             "shape": ""
            }
           },
           "name": "통화",
           "offsetgroup": "통화",
           "orientation": "v",
           "showlegend": true,
           "text": [
            3644
           ],
           "textposition": "auto",
           "type": "bar",
           "x": [
            "통화"
           ],
           "xaxis": "x",
           "y": [
            3644
           ],
           "yaxis": "y"
          },
          {
           "alignmentgroup": "True",
           "hovertemplate": "지능범 유형=%{x}<br>Year=2008<br>Value=%{text}<extra></extra>",
           "legendgroup": "문서인장",
           "marker": {
            "color": "#FFA15A",
            "pattern": {
             "shape": ""
            }
           },
           "name": "문서인장",
           "offsetgroup": "문서인장",
           "orientation": "v",
           "showlegend": true,
           "text": [
            1353
           ],
           "textposition": "auto",
           "type": "bar",
           "x": [
            "문서인장"
           ],
           "xaxis": "x",
           "y": [
            1353
           ],
           "yaxis": "y"
          },
          {
           "alignmentgroup": "True",
           "hovertemplate": "지능범 유형=%{x}<br>Year=2008<br>Value=%{text}<extra></extra>",
           "legendgroup": "유가증권인지",
           "marker": {
            "color": "#19d3f3",
            "pattern": {
             "shape": ""
            }
           },
           "name": "유가증권인지",
           "offsetgroup": "유가증권인지",
           "orientation": "v",
           "showlegend": true,
           "text": [
            21486
           ],
           "textposition": "auto",
           "type": "bar",
           "x": [
            "유가증권인지"
           ],
           "xaxis": "x",
           "y": [
            21486
           ],
           "yaxis": "y"
          },
          {
           "alignmentgroup": "True",
           "hovertemplate": "지능범 유형=%{x}<br>Year=2008<br>Value=%{text}<extra></extra>",
           "legendgroup": "사기",
           "marker": {
            "color": "#FF6692",
            "pattern": {
             "shape": ""
            }
           },
           "name": "사기",
           "offsetgroup": "사기",
           "orientation": "v",
           "showlegend": true,
           "text": [
            "202,132"
           ],
           "textposition": "auto",
           "type": "bar",
           "x": [
            "사기"
           ],
           "xaxis": "x",
           "y": [
            "202,132"
           ],
           "yaxis": "y"
          },
          {
           "alignmentgroup": "True",
           "hovertemplate": "지능범 유형=%{x}<br>Year=2008<br>Value=%{text}<extra></extra>",
           "legendgroup": "횡령",
           "marker": {
            "color": "#B6E880",
            "pattern": {
             "shape": ""
            }
           },
           "name": "횡령",
           "offsetgroup": "횡령",
           "orientation": "v",
           "showlegend": true,
           "text": [
            26082
           ],
           "textposition": "auto",
           "type": "bar",
           "x": [
            "횡령"
           ],
           "xaxis": "x",
           "y": [
            26082
           ],
           "yaxis": "y"
          },
          {
           "alignmentgroup": "True",
           "hovertemplate": "지능범 유형=%{x}<br>Year=2008<br>Value=%{text}<extra></extra>",
           "legendgroup": "배임",
           "marker": {
            "color": "#FF97FF",
            "pattern": {
             "shape": ""
            }
           },
           "name": "배임",
           "offsetgroup": "배임",
           "orientation": "v",
           "showlegend": true,
           "text": [
            4743
           ],
           "textposition": "auto",
           "type": "bar",
           "x": [
            "배임"
           ],
           "xaxis": "x",
           "y": [
            4743
           ],
           "yaxis": "y"
          }
         ],
         "name": "2008"
        },
        {
         "data": [
          {
           "alignmentgroup": "True",
           "hovertemplate": "지능범 유형=%{x}<br>Year=2009<br>Value=%{text}<extra></extra>",
           "legendgroup": "직무유기",
           "marker": {
            "color": "#636efa",
            "pattern": {
             "shape": ""
            }
           },
           "name": "직무유기",
           "offsetgroup": "직무유기",
           "orientation": "v",
           "showlegend": true,
           "text": [
            378
           ],
           "textposition": "auto",
           "type": "bar",
           "x": [
            "직무유기"
           ],
           "xaxis": "x",
           "y": [
            378
           ],
           "yaxis": "y"
          },
          {
           "alignmentgroup": "True",
           "hovertemplate": "지능범 유형=%{x}<br>Year=2009<br>Value=%{text}<extra></extra>",
           "legendgroup": "직권남용",
           "marker": {
            "color": "#EF553B",
            "pattern": {
             "shape": ""
            }
           },
           "name": "직권남용",
           "offsetgroup": "직권남용",
           "orientation": "v",
           "showlegend": true,
           "text": [
            196
           ],
           "textposition": "auto",
           "type": "bar",
           "x": [
            "직권남용"
           ],
           "xaxis": "x",
           "y": [
            196
           ],
           "yaxis": "y"
          },
          {
           "alignmentgroup": "True",
           "hovertemplate": "지능범 유형=%{x}<br>Year=2009<br>Value=%{text}<extra></extra>",
           "legendgroup": "증수",
           "marker": {
            "color": "#00cc96",
            "pattern": {
             "shape": ""
            }
           },
           "name": "증수",
           "offsetgroup": "증수",
           "orientation": "v",
           "showlegend": true,
           "text": [
            374
           ],
           "textposition": "auto",
           "type": "bar",
           "x": [
            "증수"
           ],
           "xaxis": "x",
           "y": [
            374
           ],
           "yaxis": "y"
          },
          {
           "alignmentgroup": "True",
           "hovertemplate": "지능범 유형=%{x}<br>Year=2009<br>Value=%{text}<extra></extra>",
           "legendgroup": "통화",
           "marker": {
            "color": "#ab63fa",
            "pattern": {
             "shape": ""
            }
           },
           "name": "통화",
           "offsetgroup": "통화",
           "orientation": "v",
           "showlegend": true,
           "text": [
            4389
           ],
           "textposition": "auto",
           "type": "bar",
           "x": [
            "통화"
           ],
           "xaxis": "x",
           "y": [
            4389
           ],
           "yaxis": "y"
          },
          {
           "alignmentgroup": "True",
           "hovertemplate": "지능범 유형=%{x}<br>Year=2009<br>Value=%{text}<extra></extra>",
           "legendgroup": "문서인장",
           "marker": {
            "color": "#FFA15A",
            "pattern": {
             "shape": ""
            }
           },
           "name": "문서인장",
           "offsetgroup": "문서인장",
           "orientation": "v",
           "showlegend": true,
           "text": [
            1332
           ],
           "textposition": "auto",
           "type": "bar",
           "x": [
            "문서인장"
           ],
           "xaxis": "x",
           "y": [
            1332
           ],
           "yaxis": "y"
          },
          {
           "alignmentgroup": "True",
           "hovertemplate": "지능범 유형=%{x}<br>Year=2009<br>Value=%{text}<extra></extra>",
           "legendgroup": "유가증권인지",
           "marker": {
            "color": "#19d3f3",
            "pattern": {
             "shape": ""
            }
           },
           "name": "유가증권인지",
           "offsetgroup": "유가증권인지",
           "orientation": "v",
           "showlegend": true,
           "text": [
            20698
           ],
           "textposition": "auto",
           "type": "bar",
           "x": [
            "유가증권인지"
           ],
           "xaxis": "x",
           "y": [
            20698
           ],
           "yaxis": "y"
          },
          {
           "alignmentgroup": "True",
           "hovertemplate": "지능범 유형=%{x}<br>Year=2009<br>Value=%{text}<extra></extra>",
           "legendgroup": "사기",
           "marker": {
            "color": "#FF6692",
            "pattern": {
             "shape": ""
            }
           },
           "name": "사기",
           "offsetgroup": "사기",
           "orientation": "v",
           "showlegend": true,
           "text": [
            "221,897"
           ],
           "textposition": "auto",
           "type": "bar",
           "x": [
            "사기"
           ],
           "xaxis": "x",
           "y": [
            "221,897"
           ],
           "yaxis": "y"
          },
          {
           "alignmentgroup": "True",
           "hovertemplate": "지능범 유형=%{x}<br>Year=2009<br>Value=%{text}<extra></extra>",
           "legendgroup": "횡령",
           "marker": {
            "color": "#B6E880",
            "pattern": {
             "shape": ""
            }
           },
           "name": "횡령",
           "offsetgroup": "횡령",
           "orientation": "v",
           "showlegend": true,
           "text": [
            26626
           ],
           "textposition": "auto",
           "type": "bar",
           "x": [
            "횡령"
           ],
           "xaxis": "x",
           "y": [
            26626
           ],
           "yaxis": "y"
          },
          {
           "alignmentgroup": "True",
           "hovertemplate": "지능범 유형=%{x}<br>Year=2009<br>Value=%{text}<extra></extra>",
           "legendgroup": "배임",
           "marker": {
            "color": "#FF97FF",
            "pattern": {
             "shape": ""
            }
           },
           "name": "배임",
           "offsetgroup": "배임",
           "orientation": "v",
           "showlegend": true,
           "text": [
            6216
           ],
           "textposition": "auto",
           "type": "bar",
           "x": [
            "배임"
           ],
           "xaxis": "x",
           "y": [
            6216
           ],
           "yaxis": "y"
          }
         ],
         "name": "2009"
        },
        {
         "data": [
          {
           "alignmentgroup": "True",
           "hovertemplate": "지능범 유형=%{x}<br>Year=2010<br>Value=%{text}<extra></extra>",
           "legendgroup": "직무유기",
           "marker": {
            "color": "#636efa",
            "pattern": {
             "shape": ""
            }
           },
           "name": "직무유기",
           "offsetgroup": "직무유기",
           "orientation": "v",
           "showlegend": true,
           "text": [
            421
           ],
           "textposition": "auto",
           "type": "bar",
           "x": [
            "직무유기"
           ],
           "xaxis": "x",
           "y": [
            421
           ],
           "yaxis": "y"
          },
          {
           "alignmentgroup": "True",
           "hovertemplate": "지능범 유형=%{x}<br>Year=2010<br>Value=%{text}<extra></extra>",
           "legendgroup": "직권남용",
           "marker": {
            "color": "#EF553B",
            "pattern": {
             "shape": ""
            }
           },
           "name": "직권남용",
           "offsetgroup": "직권남용",
           "orientation": "v",
           "showlegend": true,
           "text": [
            234
           ],
           "textposition": "auto",
           "type": "bar",
           "x": [
            "직권남용"
           ],
           "xaxis": "x",
           "y": [
            234
           ],
           "yaxis": "y"
          },
          {
           "alignmentgroup": "True",
           "hovertemplate": "지능범 유형=%{x}<br>Year=2010<br>Value=%{text}<extra></extra>",
           "legendgroup": "증수",
           "marker": {
            "color": "#00cc96",
            "pattern": {
             "shape": ""
            }
           },
           "name": "증수",
           "offsetgroup": "증수",
           "orientation": "v",
           "showlegend": true,
           "text": [
            851
           ],
           "textposition": "auto",
           "type": "bar",
           "x": [
            "증수"
           ],
           "xaxis": "x",
           "y": [
            851
           ],
           "yaxis": "y"
          },
          {
           "alignmentgroup": "True",
           "hovertemplate": "지능범 유형=%{x}<br>Year=2010<br>Value=%{text}<extra></extra>",
           "legendgroup": "통화",
           "marker": {
            "color": "#ab63fa",
            "pattern": {
             "shape": ""
            }
           },
           "name": "통화",
           "offsetgroup": "통화",
           "orientation": "v",
           "showlegend": true,
           "text": [
            5440
           ],
           "textposition": "auto",
           "type": "bar",
           "x": [
            "통화"
           ],
           "xaxis": "x",
           "y": [
            5440
           ],
           "yaxis": "y"
          },
          {
           "alignmentgroup": "True",
           "hovertemplate": "지능범 유형=%{x}<br>Year=2010<br>Value=%{text}<extra></extra>",
           "legendgroup": "문서인장",
           "marker": {
            "color": "#FFA15A",
            "pattern": {
             "shape": ""
            }
           },
           "name": "문서인장",
           "offsetgroup": "문서인장",
           "orientation": "v",
           "showlegend": true,
           "text": [
            912
           ],
           "textposition": "auto",
           "type": "bar",
           "x": [
            "문서인장"
           ],
           "xaxis": "x",
           "y": [
            912
           ],
           "yaxis": "y"
          },
          {
           "alignmentgroup": "True",
           "hovertemplate": "지능범 유형=%{x}<br>Year=2010<br>Value=%{text}<extra></extra>",
           "legendgroup": "유가증권인지",
           "marker": {
            "color": "#19d3f3",
            "pattern": {
             "shape": ""
            }
           },
           "name": "유가증권인지",
           "offsetgroup": "유가증권인지",
           "orientation": "v",
           "showlegend": true,
           "text": [
            16532
           ],
           "textposition": "auto",
           "type": "bar",
           "x": [
            "유가증권인지"
           ],
           "xaxis": "x",
           "y": [
            16532
           ],
           "yaxis": "y"
          },
          {
           "alignmentgroup": "True",
           "hovertemplate": "지능범 유형=%{x}<br>Year=2010<br>Value=%{text}<extra></extra>",
           "legendgroup": "사기",
           "marker": {
            "color": "#FF6692",
            "pattern": {
             "shape": ""
            }
           },
           "name": "사기",
           "offsetgroup": "사기",
           "orientation": "v",
           "showlegend": true,
           "text": [
            "203,799"
           ],
           "textposition": "auto",
           "type": "bar",
           "x": [
            "사기"
           ],
           "xaxis": "x",
           "y": [
            "203,799"
           ],
           "yaxis": "y"
          },
          {
           "alignmentgroup": "True",
           "hovertemplate": "지능범 유형=%{x}<br>Year=2010<br>Value=%{text}<extra></extra>",
           "legendgroup": "횡령",
           "marker": {
            "color": "#B6E880",
            "pattern": {
             "shape": ""
            }
           },
           "name": "횡령",
           "offsetgroup": "횡령",
           "orientation": "v",
           "showlegend": true,
           "text": [
            25738
           ],
           "textposition": "auto",
           "type": "bar",
           "x": [
            "횡령"
           ],
           "xaxis": "x",
           "y": [
            25738
           ],
           "yaxis": "y"
          },
          {
           "alignmentgroup": "True",
           "hovertemplate": "지능범 유형=%{x}<br>Year=2010<br>Value=%{text}<extra></extra>",
           "legendgroup": "배임",
           "marker": {
            "color": "#FF97FF",
            "pattern": {
             "shape": ""
            }
           },
           "name": "배임",
           "offsetgroup": "배임",
           "orientation": "v",
           "showlegend": true,
           "text": [
            14264
           ],
           "textposition": "auto",
           "type": "bar",
           "x": [
            "배임"
           ],
           "xaxis": "x",
           "y": [
            14264
           ],
           "yaxis": "y"
          }
         ],
         "name": "2010"
        }
       ],
       "layout": {
        "barmode": "group",
        "legend": {
         "title": {
          "text": "지능범 유형"
         },
         "tracegroupgap": 0
        },
        "margin": {
         "t": 60
        },
        "sliders": [
         {
          "active": 0,
          "currentvalue": {
           "prefix": "Year="
          },
          "len": 0.9,
          "pad": {
           "b": 10,
           "t": 60
          },
          "steps": [
           {
            "args": [
             [
              "1994"
             ],
             {
              "frame": {
               "duration": 0,
               "redraw": true
              },
              "fromcurrent": true,
              "mode": "immediate",
              "transition": {
               "duration": 0,
               "easing": "linear"
              }
             }
            ],
            "label": "1994",
            "method": "animate"
           },
           {
            "args": [
             [
              "1995"
             ],
             {
              "frame": {
               "duration": 0,
               "redraw": true
              },
              "fromcurrent": true,
              "mode": "immediate",
              "transition": {
               "duration": 0,
               "easing": "linear"
              }
             }
            ],
            "label": "1995",
            "method": "animate"
           },
           {
            "args": [
             [
              "1996"
             ],
             {
              "frame": {
               "duration": 0,
               "redraw": true
              },
              "fromcurrent": true,
              "mode": "immediate",
              "transition": {
               "duration": 0,
               "easing": "linear"
              }
             }
            ],
            "label": "1996",
            "method": "animate"
           },
           {
            "args": [
             [
              "1997"
             ],
             {
              "frame": {
               "duration": 0,
               "redraw": true
              },
              "fromcurrent": true,
              "mode": "immediate",
              "transition": {
               "duration": 0,
               "easing": "linear"
              }
             }
            ],
            "label": "1997",
            "method": "animate"
           },
           {
            "args": [
             [
              "1998"
             ],
             {
              "frame": {
               "duration": 0,
               "redraw": true
              },
              "fromcurrent": true,
              "mode": "immediate",
              "transition": {
               "duration": 0,
               "easing": "linear"
              }
             }
            ],
            "label": "1998",
            "method": "animate"
           },
           {
            "args": [
             [
              "1999"
             ],
             {
              "frame": {
               "duration": 0,
               "redraw": true
              },
              "fromcurrent": true,
              "mode": "immediate",
              "transition": {
               "duration": 0,
               "easing": "linear"
              }
             }
            ],
            "label": "1999",
            "method": "animate"
           },
           {
            "args": [
             [
              "2000"
             ],
             {
              "frame": {
               "duration": 0,
               "redraw": true
              },
              "fromcurrent": true,
              "mode": "immediate",
              "transition": {
               "duration": 0,
               "easing": "linear"
              }
             }
            ],
            "label": "2000",
            "method": "animate"
           },
           {
            "args": [
             [
              "2001"
             ],
             {
              "frame": {
               "duration": 0,
               "redraw": true
              },
              "fromcurrent": true,
              "mode": "immediate",
              "transition": {
               "duration": 0,
               "easing": "linear"
              }
             }
            ],
            "label": "2001",
            "method": "animate"
           },
           {
            "args": [
             [
              "2002"
             ],
             {
              "frame": {
               "duration": 0,
               "redraw": true
              },
              "fromcurrent": true,
              "mode": "immediate",
              "transition": {
               "duration": 0,
               "easing": "linear"
              }
             }
            ],
            "label": "2002",
            "method": "animate"
           },
           {
            "args": [
             [
              "2003"
             ],
             {
              "frame": {
               "duration": 0,
               "redraw": true
              },
              "fromcurrent": true,
              "mode": "immediate",
              "transition": {
               "duration": 0,
               "easing": "linear"
              }
             }
            ],
            "label": "2003",
            "method": "animate"
           },
           {
            "args": [
             [
              "2004"
             ],
             {
              "frame": {
               "duration": 0,
               "redraw": true
              },
              "fromcurrent": true,
              "mode": "immediate",
              "transition": {
               "duration": 0,
               "easing": "linear"
              }
             }
            ],
            "label": "2004",
            "method": "animate"
           },
           {
            "args": [
             [
              "2005"
             ],
             {
              "frame": {
               "duration": 0,
               "redraw": true
              },
              "fromcurrent": true,
              "mode": "immediate",
              "transition": {
               "duration": 0,
               "easing": "linear"
              }
             }
            ],
            "label": "2005",
            "method": "animate"
           },
           {
            "args": [
             [
              "2006"
             ],
             {
              "frame": {
               "duration": 0,
               "redraw": true
              },
              "fromcurrent": true,
              "mode": "immediate",
              "transition": {
               "duration": 0,
               "easing": "linear"
              }
             }
            ],
            "label": "2006",
            "method": "animate"
           },
           {
            "args": [
             [
              "2007"
             ],
             {
              "frame": {
               "duration": 0,
               "redraw": true
              },
              "fromcurrent": true,
              "mode": "immediate",
              "transition": {
               "duration": 0,
               "easing": "linear"
              }
             }
            ],
            "label": "2007",
            "method": "animate"
           },
           {
            "args": [
             [
              "2008"
             ],
             {
              "frame": {
               "duration": 0,
               "redraw": true
              },
              "fromcurrent": true,
              "mode": "immediate",
              "transition": {
               "duration": 0,
               "easing": "linear"
              }
             }
            ],
            "label": "2008",
            "method": "animate"
           },
           {
            "args": [
             [
              "2009"
             ],
             {
              "frame": {
               "duration": 0,
               "redraw": true
              },
              "fromcurrent": true,
              "mode": "immediate",
              "transition": {
               "duration": 0,
               "easing": "linear"
              }
             }
            ],
            "label": "2009",
            "method": "animate"
           },
           {
            "args": [
             [
              "2010"
             ],
             {
              "frame": {
               "duration": 0,
               "redraw": true
              },
              "fromcurrent": true,
              "mode": "immediate",
              "transition": {
               "duration": 0,
               "easing": "linear"
              }
             }
            ],
            "label": "2010",
            "method": "animate"
           }
          ],
          "x": 0.1,
          "xanchor": "left",
          "y": 0,
          "yanchor": "top"
         }
        ],
        "template": {
         "data": {
          "bar": [
           {
            "error_x": {
             "color": "#2a3f5f"
            },
            "error_y": {
             "color": "#2a3f5f"
            },
            "marker": {
             "line": {
              "color": "#E5ECF6",
              "width": 0.5
             },
             "pattern": {
              "fillmode": "overlay",
              "size": 10,
              "solidity": 0.2
             }
            },
            "type": "bar"
           }
          ],
          "barpolar": [
           {
            "marker": {
             "line": {
              "color": "#E5ECF6",
              "width": 0.5
             },
             "pattern": {
              "fillmode": "overlay",
              "size": 10,
              "solidity": 0.2
             }
            },
            "type": "barpolar"
           }
          ],
          "carpet": [
           {
            "aaxis": {
             "endlinecolor": "#2a3f5f",
             "gridcolor": "white",
             "linecolor": "white",
             "minorgridcolor": "white",
             "startlinecolor": "#2a3f5f"
            },
            "baxis": {
             "endlinecolor": "#2a3f5f",
             "gridcolor": "white",
             "linecolor": "white",
             "minorgridcolor": "white",
             "startlinecolor": "#2a3f5f"
            },
            "type": "carpet"
           }
          ],
          "choropleth": [
           {
            "colorbar": {
             "outlinewidth": 0,
             "ticks": ""
            },
            "type": "choropleth"
           }
          ],
          "contour": [
           {
            "colorbar": {
             "outlinewidth": 0,
             "ticks": ""
            },
            "colorscale": [
             [
              0,
              "#0d0887"
             ],
             [
              0.1111111111111111,
              "#46039f"
             ],
             [
              0.2222222222222222,
              "#7201a8"
             ],
             [
              0.3333333333333333,
              "#9c179e"
             ],
             [
              0.4444444444444444,
              "#bd3786"
             ],
             [
              0.5555555555555556,
              "#d8576b"
             ],
             [
              0.6666666666666666,
              "#ed7953"
             ],
             [
              0.7777777777777778,
              "#fb9f3a"
             ],
             [
              0.8888888888888888,
              "#fdca26"
             ],
             [
              1,
              "#f0f921"
             ]
            ],
            "type": "contour"
           }
          ],
          "contourcarpet": [
           {
            "colorbar": {
             "outlinewidth": 0,
             "ticks": ""
            },
            "type": "contourcarpet"
           }
          ],
          "heatmap": [
           {
            "colorbar": {
             "outlinewidth": 0,
             "ticks": ""
            },
            "colorscale": [
             [
              0,
              "#0d0887"
             ],
             [
              0.1111111111111111,
              "#46039f"
             ],
             [
              0.2222222222222222,
              "#7201a8"
             ],
             [
              0.3333333333333333,
              "#9c179e"
             ],
             [
              0.4444444444444444,
              "#bd3786"
             ],
             [
              0.5555555555555556,
              "#d8576b"
             ],
             [
              0.6666666666666666,
              "#ed7953"
             ],
             [
              0.7777777777777778,
              "#fb9f3a"
             ],
             [
              0.8888888888888888,
              "#fdca26"
             ],
             [
              1,
              "#f0f921"
             ]
            ],
            "type": "heatmap"
           }
          ],
          "heatmapgl": [
           {
            "colorbar": {
             "outlinewidth": 0,
             "ticks": ""
            },
            "colorscale": [
             [
              0,
              "#0d0887"
             ],
             [
              0.1111111111111111,
              "#46039f"
             ],
             [
              0.2222222222222222,
              "#7201a8"
             ],
             [
              0.3333333333333333,
              "#9c179e"
             ],
             [
              0.4444444444444444,
              "#bd3786"
             ],
             [
              0.5555555555555556,
              "#d8576b"
             ],
             [
              0.6666666666666666,
              "#ed7953"
             ],
             [
              0.7777777777777778,
              "#fb9f3a"
             ],
             [
              0.8888888888888888,
              "#fdca26"
             ],
             [
              1,
              "#f0f921"
             ]
            ],
            "type": "heatmapgl"
           }
          ],
          "histogram": [
           {
            "marker": {
             "pattern": {
              "fillmode": "overlay",
              "size": 10,
              "solidity": 0.2
             }
            },
            "type": "histogram"
           }
          ],
          "histogram2d": [
           {
            "colorbar": {
             "outlinewidth": 0,
             "ticks": ""
            },
            "colorscale": [
             [
              0,
              "#0d0887"
             ],
             [
              0.1111111111111111,
              "#46039f"
             ],
             [
              0.2222222222222222,
              "#7201a8"
             ],
             [
              0.3333333333333333,
              "#9c179e"
             ],
             [
              0.4444444444444444,
              "#bd3786"
             ],
             [
              0.5555555555555556,
              "#d8576b"
             ],
             [
              0.6666666666666666,
              "#ed7953"
             ],
             [
              0.7777777777777778,
              "#fb9f3a"
             ],
             [
              0.8888888888888888,
              "#fdca26"
             ],
             [
              1,
              "#f0f921"
             ]
            ],
            "type": "histogram2d"
           }
          ],
          "histogram2dcontour": [
           {
            "colorbar": {
             "outlinewidth": 0,
             "ticks": ""
            },
            "colorscale": [
             [
              0,
              "#0d0887"
             ],
             [
              0.1111111111111111,
              "#46039f"
             ],
             [
              0.2222222222222222,
              "#7201a8"
             ],
             [
              0.3333333333333333,
              "#9c179e"
             ],
             [
              0.4444444444444444,
              "#bd3786"
             ],
             [
              0.5555555555555556,
              "#d8576b"
             ],
             [
              0.6666666666666666,
              "#ed7953"
             ],
             [
              0.7777777777777778,
              "#fb9f3a"
             ],
             [
              0.8888888888888888,
              "#fdca26"
             ],
             [
              1,
              "#f0f921"
             ]
            ],
            "type": "histogram2dcontour"
           }
          ],
          "mesh3d": [
           {
            "colorbar": {
             "outlinewidth": 0,
             "ticks": ""
            },
            "type": "mesh3d"
           }
          ],
          "parcoords": [
           {
            "line": {
             "colorbar": {
              "outlinewidth": 0,
              "ticks": ""
             }
            },
            "type": "parcoords"
           }
          ],
          "pie": [
           {
            "automargin": true,
            "type": "pie"
           }
          ],
          "scatter": [
           {
            "fillpattern": {
             "fillmode": "overlay",
             "size": 10,
             "solidity": 0.2
            },
            "type": "scatter"
           }
          ],
          "scatter3d": [
           {
            "line": {
             "colorbar": {
              "outlinewidth": 0,
              "ticks": ""
             }
            },
            "marker": {
             "colorbar": {
              "outlinewidth": 0,
              "ticks": ""
             }
            },
            "type": "scatter3d"
           }
          ],
          "scattercarpet": [
           {
            "marker": {
             "colorbar": {
              "outlinewidth": 0,
              "ticks": ""
             }
            },
            "type": "scattercarpet"
           }
          ],
          "scattergeo": [
           {
            "marker": {
             "colorbar": {
              "outlinewidth": 0,
              "ticks": ""
             }
            },
            "type": "scattergeo"
           }
          ],
          "scattergl": [
           {
            "marker": {
             "colorbar": {
              "outlinewidth": 0,
              "ticks": ""
             }
            },
            "type": "scattergl"
           }
          ],
          "scattermapbox": [
           {
            "marker": {
             "colorbar": {
              "outlinewidth": 0,
              "ticks": ""
             }
            },
            "type": "scattermapbox"
           }
          ],
          "scatterpolar": [
           {
            "marker": {
             "colorbar": {
              "outlinewidth": 0,
              "ticks": ""
             }
            },
            "type": "scatterpolar"
           }
          ],
          "scatterpolargl": [
           {
            "marker": {
             "colorbar": {
              "outlinewidth": 0,
              "ticks": ""
             }
            },
            "type": "scatterpolargl"
           }
          ],
          "scatterternary": [
           {
            "marker": {
             "colorbar": {
              "outlinewidth": 0,
              "ticks": ""
             }
            },
            "type": "scatterternary"
           }
          ],
          "surface": [
           {
            "colorbar": {
             "outlinewidth": 0,
             "ticks": ""
            },
            "colorscale": [
             [
              0,
              "#0d0887"
             ],
             [
              0.1111111111111111,
              "#46039f"
             ],
             [
              0.2222222222222222,
              "#7201a8"
             ],
             [
              0.3333333333333333,
              "#9c179e"
             ],
             [
              0.4444444444444444,
              "#bd3786"
             ],
             [
              0.5555555555555556,
              "#d8576b"
             ],
             [
              0.6666666666666666,
              "#ed7953"
             ],
             [
              0.7777777777777778,
              "#fb9f3a"
             ],
             [
              0.8888888888888888,
              "#fdca26"
             ],
             [
              1,
              "#f0f921"
             ]
            ],
            "type": "surface"
           }
          ],
          "table": [
           {
            "cells": {
             "fill": {
              "color": "#EBF0F8"
             },
             "line": {
              "color": "white"
             }
            },
            "header": {
             "fill": {
              "color": "#C8D4E3"
             },
             "line": {
              "color": "white"
             }
            },
            "type": "table"
           }
          ]
         },
         "layout": {
          "annotationdefaults": {
           "arrowcolor": "#2a3f5f",
           "arrowhead": 0,
           "arrowwidth": 1
          },
          "autotypenumbers": "strict",
          "coloraxis": {
           "colorbar": {
            "outlinewidth": 0,
            "ticks": ""
           }
          },
          "colorscale": {
           "diverging": [
            [
             0,
             "#8e0152"
            ],
            [
             0.1,
             "#c51b7d"
            ],
            [
             0.2,
             "#de77ae"
            ],
            [
             0.3,
             "#f1b6da"
            ],
            [
             0.4,
             "#fde0ef"
            ],
            [
             0.5,
             "#f7f7f7"
            ],
            [
             0.6,
             "#e6f5d0"
            ],
            [
             0.7,
             "#b8e186"
            ],
            [
             0.8,
             "#7fbc41"
            ],
            [
             0.9,
             "#4d9221"
            ],
            [
             1,
             "#276419"
            ]
           ],
           "sequential": [
            [
             0,
             "#0d0887"
            ],
            [
             0.1111111111111111,
             "#46039f"
            ],
            [
             0.2222222222222222,
             "#7201a8"
            ],
            [
             0.3333333333333333,
             "#9c179e"
            ],
            [
             0.4444444444444444,
             "#bd3786"
            ],
            [
             0.5555555555555556,
             "#d8576b"
            ],
            [
             0.6666666666666666,
             "#ed7953"
            ],
            [
             0.7777777777777778,
             "#fb9f3a"
            ],
            [
             0.8888888888888888,
             "#fdca26"
            ],
            [
             1,
             "#f0f921"
            ]
           ],
           "sequentialminus": [
            [
             0,
             "#0d0887"
            ],
            [
             0.1111111111111111,
             "#46039f"
            ],
            [
             0.2222222222222222,
             "#7201a8"
            ],
            [
             0.3333333333333333,
             "#9c179e"
            ],
            [
             0.4444444444444444,
             "#bd3786"
            ],
            [
             0.5555555555555556,
             "#d8576b"
            ],
            [
             0.6666666666666666,
             "#ed7953"
            ],
            [
             0.7777777777777778,
             "#fb9f3a"
            ],
            [
             0.8888888888888888,
             "#fdca26"
            ],
            [
             1,
             "#f0f921"
            ]
           ]
          },
          "colorway": [
           "#636efa",
           "#EF553B",
           "#00cc96",
           "#ab63fa",
           "#FFA15A",
           "#19d3f3",
           "#FF6692",
           "#B6E880",
           "#FF97FF",
           "#FECB52"
          ],
          "font": {
           "color": "#2a3f5f"
          },
          "geo": {
           "bgcolor": "white",
           "lakecolor": "white",
           "landcolor": "#E5ECF6",
           "showlakes": true,
           "showland": true,
           "subunitcolor": "white"
          },
          "hoverlabel": {
           "align": "left"
          },
          "hovermode": "closest",
          "mapbox": {
           "style": "light"
          },
          "paper_bgcolor": "white",
          "plot_bgcolor": "#E5ECF6",
          "polar": {
           "angularaxis": {
            "gridcolor": "white",
            "linecolor": "white",
            "ticks": ""
           },
           "bgcolor": "#E5ECF6",
           "radialaxis": {
            "gridcolor": "white",
            "linecolor": "white",
            "ticks": ""
           }
          },
          "scene": {
           "xaxis": {
            "backgroundcolor": "#E5ECF6",
            "gridcolor": "white",
            "gridwidth": 2,
            "linecolor": "white",
            "showbackground": true,
            "ticks": "",
            "zerolinecolor": "white"
           },
           "yaxis": {
            "backgroundcolor": "#E5ECF6",
            "gridcolor": "white",
            "gridwidth": 2,
            "linecolor": "white",
            "showbackground": true,
            "ticks": "",
            "zerolinecolor": "white"
           },
           "zaxis": {
            "backgroundcolor": "#E5ECF6",
            "gridcolor": "white",
            "gridwidth": 2,
            "linecolor": "white",
            "showbackground": true,
            "ticks": "",
            "zerolinecolor": "white"
           }
          },
          "shapedefaults": {
           "line": {
            "color": "#2a3f5f"
           }
          },
          "ternary": {
           "aaxis": {
            "gridcolor": "white",
            "linecolor": "white",
            "ticks": ""
           },
           "baxis": {
            "gridcolor": "white",
            "linecolor": "white",
            "ticks": ""
           },
           "bgcolor": "#E5ECF6",
           "caxis": {
            "gridcolor": "white",
            "linecolor": "white",
            "ticks": ""
           }
          },
          "title": {
           "x": 0.05
          },
          "xaxis": {
           "automargin": true,
           "gridcolor": "white",
           "linecolor": "white",
           "ticks": "",
           "title": {
            "standoff": 15
           },
           "zerolinecolor": "white",
           "zerolinewidth": 2
          },
          "yaxis": {
           "automargin": true,
           "gridcolor": "white",
           "linecolor": "white",
           "ticks": "",
           "title": {
            "standoff": 15
           },
           "zerolinecolor": "white",
           "zerolinewidth": 2
          }
         }
        },
        "title": {
         "font": {
          "color": "black",
          "family": "Arial, sans-serif",
          "size": 24
         },
         "text": "지능범 범죄 유형",
         "x": 0.5,
         "xanchor": "center",
         "yanchor": "top"
        },
        "updatemenus": [
         {
          "buttons": [
           {
            "args": [
             null,
             {
              "frame": {
               "duration": 500,
               "redraw": true
              },
              "fromcurrent": true,
              "mode": "immediate",
              "transition": {
               "duration": 500,
               "easing": "linear"
              }
             }
            ],
            "label": "&#9654;",
            "method": "animate"
           },
           {
            "args": [
             [
              null
             ],
             {
              "frame": {
               "duration": 0,
               "redraw": true
              },
              "fromcurrent": true,
              "mode": "immediate",
              "transition": {
               "duration": 0,
               "easing": "linear"
              }
             }
            ],
            "label": "&#9724;",
            "method": "animate"
           }
          ],
          "direction": "left",
          "pad": {
           "r": 10,
           "t": 70
          },
          "showactive": false,
          "type": "buttons",
          "x": 0.1,
          "xanchor": "right",
          "y": 0,
          "yanchor": "top"
         }
        ],
        "xaxis": {
         "anchor": "y",
         "categoryarray": [
          "직무유기",
          "직권남용",
          "증수",
          "통화",
          "문서인장",
          "유가증권인지",
          "사기",
          "횡령",
          "배임"
         ],
         "categoryorder": "array",
         "domain": [
          0,
          1
         ],
         "dtick": 1,
         "tickmode": "linear",
         "title": {
          "font": {
           "color": "black",
           "family": "Arial, sans-serif",
           "size": 20
          },
          "text": "년도"
         }
        },
        "yaxis": {
         "anchor": "x",
         "domain": [
          0,
          1
         ],
         "title": {
          "font": {
           "color": "black",
           "family": "Arial, sans-serif",
           "size": 20
          },
          "text": "발생건수"
         },
         "type": "log"
        }
       }
      }
     },
     "metadata": {},
     "output_type": "display_data"
    }
   ],
   "source": [
    "MeltItdf2 = pd.melt(Itdf2, id_vars=['시점'], var_name=\"유형\", value_name=\"value\")\n",
    "\n",
    "fig = px.bar(MeltItdf2, x='유형', y='value', color='유형', \n",
    "             barmode='group',\n",
    "             text='value', \n",
    "             labels={'시점': 'Year', 'value': 'Value', '유형': '지능범 유형'},\n",
    "             animation_frame='시점')\n",
    "\n",
    "fig.update_layout(\n",
    "    title={\n",
    "        'text': '지능범 범죄 유형',\n",
    "        'x': 0.5,\n",
    "        'xanchor': 'center',\n",
    "        'yanchor': 'top',\n",
    "        'font': {\n",
    "            'size': 24,\n",
    "            'family': 'Arial, sans-serif',\n",
    "            'color': 'black'\n",
    "        }\n",
    "    },\n",
    "    xaxis_title={\n",
    "        'text': '년도',\n",
    "        'font': {\n",
    "            'size': 20,\n",
    "            'family': 'Arial, sans-serif',\n",
    "            'color': 'black'\n",
    "        }\n",
    "    },\n",
    "    yaxis_title={\n",
    "        'text': '발생건수',\n",
    "        'font': {\n",
    "            'size': 20,\n",
    "            'family': 'Arial, sans-serif',\n",
    "            'color': 'black'\n",
    "        }\n",
    "    },\n",
    "    xaxis=dict(\n",
    "        tickmode='linear',\n",
    "        dtick=1\n",
    "    ),\n",
    "    yaxis=dict(\n",
    "        type='log'\n",
    "    )\n",
    ")\n",
    "\n",
    "fig.show()"
   ]
  },
  {
   "cell_type": "markdown",
   "metadata": {},
   "source": [
    "### 11~22\n",
    ">\n",
    "1.\n",
    "2."
   ]
  },
  {
   "cell_type": "code",
   "execution_count": 12,
   "metadata": {},
   "outputs": [
    {
     "data": {
      "application/vnd.plotly.v1+json": {
       "config": {
        "plotlyServerURL": "https://plot.ly"
       },
       "data": [
        {
         "alignmentgroup": "True",
         "hovertemplate": "지능범 유형=%{x}<br>Year=2011<br>Value=%{text}<extra></extra>",
         "legendgroup": "직무유기",
         "marker": {
          "color": "#636efa",
          "pattern": {
           "shape": ""
          }
         },
         "name": "직무유기",
         "offsetgroup": "직무유기",
         "orientation": "v",
         "showlegend": true,
         "text": [
          377
         ],
         "textposition": "auto",
         "type": "bar",
         "x": [
          "직무유기"
         ],
         "xaxis": "x",
         "y": [
          377
         ],
         "yaxis": "y"
        },
        {
         "alignmentgroup": "True",
         "hovertemplate": "지능범 유형=%{x}<br>Year=2011<br>Value=%{text}<extra></extra>",
         "legendgroup": "직권남용",
         "marker": {
          "color": "#EF553B",
          "pattern": {
           "shape": ""
          }
         },
         "name": "직권남용",
         "offsetgroup": "직권남용",
         "orientation": "v",
         "showlegend": true,
         "text": [
          226
         ],
         "textposition": "auto",
         "type": "bar",
         "x": [
          "직권남용"
         ],
         "xaxis": "x",
         "y": [
          226
         ],
         "yaxis": "y"
        },
        {
         "alignmentgroup": "True",
         "hovertemplate": "지능범 유형=%{x}<br>Year=2011<br>Value=%{text}<extra></extra>",
         "legendgroup": "증수뢰",
         "marker": {
          "color": "#00cc96",
          "pattern": {
           "shape": ""
          }
         },
         "name": "증수뢰",
         "offsetgroup": "증수뢰",
         "orientation": "v",
         "showlegend": true,
         "text": [
          586
         ],
         "textposition": "auto",
         "type": "bar",
         "x": [
          "증수뢰"
         ],
         "xaxis": "x",
         "y": [
          586
         ],
         "yaxis": "y"
        },
        {
         "alignmentgroup": "True",
         "hovertemplate": "지능범 유형=%{x}<br>Year=2011<br>Value=%{text}<extra></extra>",
         "legendgroup": "통화",
         "marker": {
          "color": "#ab63fa",
          "pattern": {
           "shape": ""
          }
         },
         "name": "통화",
         "offsetgroup": "통화",
         "orientation": "v",
         "showlegend": true,
         "text": [
          7900
         ],
         "textposition": "auto",
         "type": "bar",
         "x": [
          "통화"
         ],
         "xaxis": "x",
         "y": [
          7900
         ],
         "yaxis": "y"
        },
        {
         "alignmentgroup": "True",
         "hovertemplate": "지능범 유형=%{x}<br>Year=2011<br>Value=%{text}<extra></extra>",
         "legendgroup": "문서인장",
         "marker": {
          "color": "#FFA15A",
          "pattern": {
           "shape": ""
          }
         },
         "name": "문서인장",
         "offsetgroup": "문서인장",
         "orientation": "v",
         "showlegend": true,
         "text": [
          14948
         ],
         "textposition": "auto",
         "type": "bar",
         "x": [
          "문서인장"
         ],
         "xaxis": "x",
         "y": [
          14948
         ],
         "yaxis": "y"
        },
        {
         "alignmentgroup": "True",
         "hovertemplate": "지능범 유형=%{x}<br>Year=2011<br>Value=%{text}<extra></extra>",
         "legendgroup": "유가증권인지",
         "marker": {
          "color": "#19d3f3",
          "pattern": {
           "shape": ""
          }
         },
         "name": "유가증권인지",
         "offsetgroup": "유가증권인지",
         "orientation": "v",
         "showlegend": true,
         "text": [
          803
         ],
         "textposition": "auto",
         "type": "bar",
         "x": [
          "유가증권인지"
         ],
         "xaxis": "x",
         "y": [
          803
         ],
         "yaxis": "y"
        },
        {
         "alignmentgroup": "True",
         "hovertemplate": "지능범 유형=%{x}<br>Year=2011<br>Value=%{text}<extra></extra>",
         "legendgroup": "사기",
         "marker": {
          "color": "#FF6692",
          "pattern": {
           "shape": ""
          }
         },
         "name": "사기",
         "offsetgroup": "사기",
         "orientation": "v",
         "showlegend": true,
         "text": [
          223470
         ],
         "textposition": "auto",
         "type": "bar",
         "x": [
          "사기"
         ],
         "xaxis": "x",
         "y": [
          223470
         ],
         "yaxis": "y"
        },
        {
         "alignmentgroup": "True",
         "hovertemplate": "지능범 유형=%{x}<br>Year=2011<br>Value=%{text}<extra></extra>",
         "legendgroup": "횡령",
         "marker": {
          "color": "#B6E880",
          "pattern": {
           "shape": ""
          }
         },
         "name": "횡령",
         "offsetgroup": "횡령",
         "orientation": "v",
         "showlegend": true,
         "text": [
          26767
         ],
         "textposition": "auto",
         "type": "bar",
         "x": [
          "횡령"
         ],
         "xaxis": "x",
         "y": [
          26767
         ],
         "yaxis": "y"
        },
        {
         "alignmentgroup": "True",
         "hovertemplate": "지능범 유형=%{x}<br>Year=2011<br>Value=%{text}<extra></extra>",
         "legendgroup": "배임",
         "marker": {
          "color": "#FF97FF",
          "pattern": {
           "shape": ""
          }
         },
         "name": "배임",
         "offsetgroup": "배임",
         "orientation": "v",
         "showlegend": true,
         "text": [
          4725
         ],
         "textposition": "auto",
         "type": "bar",
         "x": [
          "배임"
         ],
         "xaxis": "x",
         "y": [
          4725
         ],
         "yaxis": "y"
        }
       ],
       "frames": [
        {
         "data": [
          {
           "alignmentgroup": "True",
           "hovertemplate": "지능범 유형=%{x}<br>Year=2011<br>Value=%{text}<extra></extra>",
           "legendgroup": "직무유기",
           "marker": {
            "color": "#636efa",
            "pattern": {
             "shape": ""
            }
           },
           "name": "직무유기",
           "offsetgroup": "직무유기",
           "orientation": "v",
           "showlegend": true,
           "text": [
            377
           ],
           "textposition": "auto",
           "type": "bar",
           "x": [
            "직무유기"
           ],
           "xaxis": "x",
           "y": [
            377
           ],
           "yaxis": "y"
          },
          {
           "alignmentgroup": "True",
           "hovertemplate": "지능범 유형=%{x}<br>Year=2011<br>Value=%{text}<extra></extra>",
           "legendgroup": "직권남용",
           "marker": {
            "color": "#EF553B",
            "pattern": {
             "shape": ""
            }
           },
           "name": "직권남용",
           "offsetgroup": "직권남용",
           "orientation": "v",
           "showlegend": true,
           "text": [
            226
           ],
           "textposition": "auto",
           "type": "bar",
           "x": [
            "직권남용"
           ],
           "xaxis": "x",
           "y": [
            226
           ],
           "yaxis": "y"
          },
          {
           "alignmentgroup": "True",
           "hovertemplate": "지능범 유형=%{x}<br>Year=2011<br>Value=%{text}<extra></extra>",
           "legendgroup": "증수뢰",
           "marker": {
            "color": "#00cc96",
            "pattern": {
             "shape": ""
            }
           },
           "name": "증수뢰",
           "offsetgroup": "증수뢰",
           "orientation": "v",
           "showlegend": true,
           "text": [
            586
           ],
           "textposition": "auto",
           "type": "bar",
           "x": [
            "증수뢰"
           ],
           "xaxis": "x",
           "y": [
            586
           ],
           "yaxis": "y"
          },
          {
           "alignmentgroup": "True",
           "hovertemplate": "지능범 유형=%{x}<br>Year=2011<br>Value=%{text}<extra></extra>",
           "legendgroup": "통화",
           "marker": {
            "color": "#ab63fa",
            "pattern": {
             "shape": ""
            }
           },
           "name": "통화",
           "offsetgroup": "통화",
           "orientation": "v",
           "showlegend": true,
           "text": [
            7900
           ],
           "textposition": "auto",
           "type": "bar",
           "x": [
            "통화"
           ],
           "xaxis": "x",
           "y": [
            7900
           ],
           "yaxis": "y"
          },
          {
           "alignmentgroup": "True",
           "hovertemplate": "지능범 유형=%{x}<br>Year=2011<br>Value=%{text}<extra></extra>",
           "legendgroup": "문서인장",
           "marker": {
            "color": "#FFA15A",
            "pattern": {
             "shape": ""
            }
           },
           "name": "문서인장",
           "offsetgroup": "문서인장",
           "orientation": "v",
           "showlegend": true,
           "text": [
            14948
           ],
           "textposition": "auto",
           "type": "bar",
           "x": [
            "문서인장"
           ],
           "xaxis": "x",
           "y": [
            14948
           ],
           "yaxis": "y"
          },
          {
           "alignmentgroup": "True",
           "hovertemplate": "지능범 유형=%{x}<br>Year=2011<br>Value=%{text}<extra></extra>",
           "legendgroup": "유가증권인지",
           "marker": {
            "color": "#19d3f3",
            "pattern": {
             "shape": ""
            }
           },
           "name": "유가증권인지",
           "offsetgroup": "유가증권인지",
           "orientation": "v",
           "showlegend": true,
           "text": [
            803
           ],
           "textposition": "auto",
           "type": "bar",
           "x": [
            "유가증권인지"
           ],
           "xaxis": "x",
           "y": [
            803
           ],
           "yaxis": "y"
          },
          {
           "alignmentgroup": "True",
           "hovertemplate": "지능범 유형=%{x}<br>Year=2011<br>Value=%{text}<extra></extra>",
           "legendgroup": "사기",
           "marker": {
            "color": "#FF6692",
            "pattern": {
             "shape": ""
            }
           },
           "name": "사기",
           "offsetgroup": "사기",
           "orientation": "v",
           "showlegend": true,
           "text": [
            223470
           ],
           "textposition": "auto",
           "type": "bar",
           "x": [
            "사기"
           ],
           "xaxis": "x",
           "y": [
            223470
           ],
           "yaxis": "y"
          },
          {
           "alignmentgroup": "True",
           "hovertemplate": "지능범 유형=%{x}<br>Year=2011<br>Value=%{text}<extra></extra>",
           "legendgroup": "횡령",
           "marker": {
            "color": "#B6E880",
            "pattern": {
             "shape": ""
            }
           },
           "name": "횡령",
           "offsetgroup": "횡령",
           "orientation": "v",
           "showlegend": true,
           "text": [
            26767
           ],
           "textposition": "auto",
           "type": "bar",
           "x": [
            "횡령"
           ],
           "xaxis": "x",
           "y": [
            26767
           ],
           "yaxis": "y"
          },
          {
           "alignmentgroup": "True",
           "hovertemplate": "지능범 유형=%{x}<br>Year=2011<br>Value=%{text}<extra></extra>",
           "legendgroup": "배임",
           "marker": {
            "color": "#FF97FF",
            "pattern": {
             "shape": ""
            }
           },
           "name": "배임",
           "offsetgroup": "배임",
           "orientation": "v",
           "showlegend": true,
           "text": [
            4725
           ],
           "textposition": "auto",
           "type": "bar",
           "x": [
            "배임"
           ],
           "xaxis": "x",
           "y": [
            4725
           ],
           "yaxis": "y"
          }
         ],
         "name": "2011"
        },
        {
         "data": [
          {
           "alignmentgroup": "True",
           "hovertemplate": "지능범 유형=%{x}<br>Year=2012<br>Value=%{text}<extra></extra>",
           "legendgroup": "직무유기",
           "marker": {
            "color": "#636efa",
            "pattern": {
             "shape": ""
            }
           },
           "name": "직무유기",
           "offsetgroup": "직무유기",
           "orientation": "v",
           "showlegend": true,
           "text": [
            496
           ],
           "textposition": "auto",
           "type": "bar",
           "x": [
            "직무유기"
           ],
           "xaxis": "x",
           "y": [
            496
           ],
           "yaxis": "y"
          },
          {
           "alignmentgroup": "True",
           "hovertemplate": "지능범 유형=%{x}<br>Year=2012<br>Value=%{text}<extra></extra>",
           "legendgroup": "직권남용",
           "marker": {
            "color": "#EF553B",
            "pattern": {
             "shape": ""
            }
           },
           "name": "직권남용",
           "offsetgroup": "직권남용",
           "orientation": "v",
           "showlegend": true,
           "text": [
            276
           ],
           "textposition": "auto",
           "type": "bar",
           "x": [
            "직권남용"
           ],
           "xaxis": "x",
           "y": [
            276
           ],
           "yaxis": "y"
          },
          {
           "alignmentgroup": "True",
           "hovertemplate": "지능범 유형=%{x}<br>Year=2012<br>Value=%{text}<extra></extra>",
           "legendgroup": "증수뢰",
           "marker": {
            "color": "#00cc96",
            "pattern": {
             "shape": ""
            }
           },
           "name": "증수뢰",
           "offsetgroup": "증수뢰",
           "orientation": "v",
           "showlegend": true,
           "text": [
            357
           ],
           "textposition": "auto",
           "type": "bar",
           "x": [
            "증수뢰"
           ],
           "xaxis": "x",
           "y": [
            357
           ],
           "yaxis": "y"
          },
          {
           "alignmentgroup": "True",
           "hovertemplate": "지능범 유형=%{x}<br>Year=2012<br>Value=%{text}<extra></extra>",
           "legendgroup": "통화",
           "marker": {
            "color": "#ab63fa",
            "pattern": {
             "shape": ""
            }
           },
           "name": "통화",
           "offsetgroup": "통화",
           "orientation": "v",
           "showlegend": true,
           "text": [
            8203
           ],
           "textposition": "auto",
           "type": "bar",
           "x": [
            "통화"
           ],
           "xaxis": "x",
           "y": [
            8203
           ],
           "yaxis": "y"
          },
          {
           "alignmentgroup": "True",
           "hovertemplate": "지능범 유형=%{x}<br>Year=2012<br>Value=%{text}<extra></extra>",
           "legendgroup": "문서인장",
           "marker": {
            "color": "#FFA15A",
            "pattern": {
             "shape": ""
            }
           },
           "name": "문서인장",
           "offsetgroup": "문서인장",
           "orientation": "v",
           "showlegend": true,
           "text": [
            14393
           ],
           "textposition": "auto",
           "type": "bar",
           "x": [
            "문서인장"
           ],
           "xaxis": "x",
           "y": [
            14393
           ],
           "yaxis": "y"
          },
          {
           "alignmentgroup": "True",
           "hovertemplate": "지능범 유형=%{x}<br>Year=2012<br>Value=%{text}<extra></extra>",
           "legendgroup": "유가증권인지",
           "marker": {
            "color": "#19d3f3",
            "pattern": {
             "shape": ""
            }
           },
           "name": "유가증권인지",
           "offsetgroup": "유가증권인지",
           "orientation": "v",
           "showlegend": true,
           "text": [
            508
           ],
           "textposition": "auto",
           "type": "bar",
           "x": [
            "유가증권인지"
           ],
           "xaxis": "x",
           "y": [
            508
           ],
           "yaxis": "y"
          },
          {
           "alignmentgroup": "True",
           "hovertemplate": "지능범 유형=%{x}<br>Year=2012<br>Value=%{text}<extra></extra>",
           "legendgroup": "사기",
           "marker": {
            "color": "#FF6692",
            "pattern": {
             "shape": ""
            }
           },
           "name": "사기",
           "offsetgroup": "사기",
           "orientation": "v",
           "showlegend": true,
           "text": [
            235366
           ],
           "textposition": "auto",
           "type": "bar",
           "x": [
            "사기"
           ],
           "xaxis": "x",
           "y": [
            235366
           ],
           "yaxis": "y"
          },
          {
           "alignmentgroup": "True",
           "hovertemplate": "지능범 유형=%{x}<br>Year=2012<br>Value=%{text}<extra></extra>",
           "legendgroup": "횡령",
           "marker": {
            "color": "#B6E880",
            "pattern": {
             "shape": ""
            }
           },
           "name": "횡령",
           "offsetgroup": "횡령",
           "orientation": "v",
           "showlegend": true,
           "text": [
            31273
           ],
           "textposition": "auto",
           "type": "bar",
           "x": [
            "횡령"
           ],
           "xaxis": "x",
           "y": [
            31273
           ],
           "yaxis": "y"
          },
          {
           "alignmentgroup": "True",
           "hovertemplate": "지능범 유형=%{x}<br>Year=2012<br>Value=%{text}<extra></extra>",
           "legendgroup": "배임",
           "marker": {
            "color": "#FF97FF",
            "pattern": {
             "shape": ""
            }
           },
           "name": "배임",
           "offsetgroup": "배임",
           "orientation": "v",
           "showlegend": true,
           "text": [
            4229
           ],
           "textposition": "auto",
           "type": "bar",
           "x": [
            "배임"
           ],
           "xaxis": "x",
           "y": [
            4229
           ],
           "yaxis": "y"
          }
         ],
         "name": "2012"
        },
        {
         "data": [
          {
           "alignmentgroup": "True",
           "hovertemplate": "지능범 유형=%{x}<br>Year=2013<br>Value=%{text}<extra></extra>",
           "legendgroup": "직무유기",
           "marker": {
            "color": "#636efa",
            "pattern": {
             "shape": ""
            }
           },
           "name": "직무유기",
           "offsetgroup": "직무유기",
           "orientation": "v",
           "showlegend": true,
           "text": [
            555
           ],
           "textposition": "auto",
           "type": "bar",
           "x": [
            "직무유기"
           ],
           "xaxis": "x",
           "y": [
            555
           ],
           "yaxis": "y"
          },
          {
           "alignmentgroup": "True",
           "hovertemplate": "지능범 유형=%{x}<br>Year=2013<br>Value=%{text}<extra></extra>",
           "legendgroup": "직권남용",
           "marker": {
            "color": "#EF553B",
            "pattern": {
             "shape": ""
            }
           },
           "name": "직권남용",
           "offsetgroup": "직권남용",
           "orientation": "v",
           "showlegend": true,
           "text": [
            325
           ],
           "textposition": "auto",
           "type": "bar",
           "x": [
            "직권남용"
           ],
           "xaxis": "x",
           "y": [
            325
           ],
           "yaxis": "y"
          },
          {
           "alignmentgroup": "True",
           "hovertemplate": "지능범 유형=%{x}<br>Year=2013<br>Value=%{text}<extra></extra>",
           "legendgroup": "증수뢰",
           "marker": {
            "color": "#00cc96",
            "pattern": {
             "shape": ""
            }
           },
           "name": "증수뢰",
           "offsetgroup": "증수뢰",
           "orientation": "v",
           "showlegend": true,
           "text": [
            253
           ],
           "textposition": "auto",
           "type": "bar",
           "x": [
            "증수뢰"
           ],
           "xaxis": "x",
           "y": [
            253
           ],
           "yaxis": "y"
          },
          {
           "alignmentgroup": "True",
           "hovertemplate": "지능범 유형=%{x}<br>Year=2013<br>Value=%{text}<extra></extra>",
           "legendgroup": "통화",
           "marker": {
            "color": "#ab63fa",
            "pattern": {
             "shape": ""
            }
           },
           "name": "통화",
           "offsetgroup": "통화",
           "orientation": "v",
           "showlegend": true,
           "text": [
            3874
           ],
           "textposition": "auto",
           "type": "bar",
           "x": [
            "통화"
           ],
           "xaxis": "x",
           "y": [
            3874
           ],
           "yaxis": "y"
          },
          {
           "alignmentgroup": "True",
           "hovertemplate": "지능범 유형=%{x}<br>Year=2013<br>Value=%{text}<extra></extra>",
           "legendgroup": "문서인장",
           "marker": {
            "color": "#FFA15A",
            "pattern": {
             "shape": ""
            }
           },
           "name": "문서인장",
           "offsetgroup": "문서인장",
           "orientation": "v",
           "showlegend": true,
           "text": [
            15385
           ],
           "textposition": "auto",
           "type": "bar",
           "x": [
            "문서인장"
           ],
           "xaxis": "x",
           "y": [
            15385
           ],
           "yaxis": "y"
          },
          {
           "alignmentgroup": "True",
           "hovertemplate": "지능범 유형=%{x}<br>Year=2013<br>Value=%{text}<extra></extra>",
           "legendgroup": "유가증권인지",
           "marker": {
            "color": "#19d3f3",
            "pattern": {
             "shape": ""
            }
           },
           "name": "유가증권인지",
           "offsetgroup": "유가증권인지",
           "orientation": "v",
           "showlegend": true,
           "text": [
            456
           ],
           "textposition": "auto",
           "type": "bar",
           "x": [
            "유가증권인지"
           ],
           "xaxis": "x",
           "y": [
            456
           ],
           "yaxis": "y"
          },
          {
           "alignmentgroup": "True",
           "hovertemplate": "지능범 유형=%{x}<br>Year=2013<br>Value=%{text}<extra></extra>",
           "legendgroup": "사기",
           "marker": {
            "color": "#FF6692",
            "pattern": {
             "shape": ""
            }
           },
           "name": "사기",
           "offsetgroup": "사기",
           "orientation": "v",
           "showlegend": true,
           "text": [
            269082
           ],
           "textposition": "auto",
           "type": "bar",
           "x": [
            "사기"
           ],
           "xaxis": "x",
           "y": [
            269082
           ],
           "yaxis": "y"
          },
          {
           "alignmentgroup": "True",
           "hovertemplate": "지능범 유형=%{x}<br>Year=2013<br>Value=%{text}<extra></extra>",
           "legendgroup": "횡령",
           "marker": {
            "color": "#B6E880",
            "pattern": {
             "shape": ""
            }
           },
           "name": "횡령",
           "offsetgroup": "횡령",
           "orientation": "v",
           "showlegend": true,
           "text": [
            34892
           ],
           "textposition": "auto",
           "type": "bar",
           "x": [
            "횡령"
           ],
           "xaxis": "x",
           "y": [
            34892
           ],
           "yaxis": "y"
          },
          {
           "alignmentgroup": "True",
           "hovertemplate": "지능범 유형=%{x}<br>Year=2013<br>Value=%{text}<extra></extra>",
           "legendgroup": "배임",
           "marker": {
            "color": "#FF97FF",
            "pattern": {
             "shape": ""
            }
           },
           "name": "배임",
           "offsetgroup": "배임",
           "orientation": "v",
           "showlegend": true,
           "text": [
            4617
           ],
           "textposition": "auto",
           "type": "bar",
           "x": [
            "배임"
           ],
           "xaxis": "x",
           "y": [
            4617
           ],
           "yaxis": "y"
          }
         ],
         "name": "2013"
        },
        {
         "data": [
          {
           "alignmentgroup": "True",
           "hovertemplate": "지능범 유형=%{x}<br>Year=2014<br>Value=%{text}<extra></extra>",
           "legendgroup": "직무유기",
           "marker": {
            "color": "#636efa",
            "pattern": {
             "shape": ""
            }
           },
           "name": "직무유기",
           "offsetgroup": "직무유기",
           "orientation": "v",
           "showlegend": true,
           "text": [
            577
           ],
           "textposition": "auto",
           "type": "bar",
           "x": [
            "직무유기"
           ],
           "xaxis": "x",
           "y": [
            577
           ],
           "yaxis": "y"
          },
          {
           "alignmentgroup": "True",
           "hovertemplate": "지능범 유형=%{x}<br>Year=2014<br>Value=%{text}<extra></extra>",
           "legendgroup": "직권남용",
           "marker": {
            "color": "#EF553B",
            "pattern": {
             "shape": ""
            }
           },
           "name": "직권남용",
           "offsetgroup": "직권남용",
           "orientation": "v",
           "showlegend": true,
           "text": [
            364
           ],
           "textposition": "auto",
           "type": "bar",
           "x": [
            "직권남용"
           ],
           "xaxis": "x",
           "y": [
            364
           ],
           "yaxis": "y"
          },
          {
           "alignmentgroup": "True",
           "hovertemplate": "지능범 유형=%{x}<br>Year=2014<br>Value=%{text}<extra></extra>",
           "legendgroup": "증수뢰",
           "marker": {
            "color": "#00cc96",
            "pattern": {
             "shape": ""
            }
           },
           "name": "증수뢰",
           "offsetgroup": "증수뢰",
           "orientation": "v",
           "showlegend": true,
           "text": [
            251
           ],
           "textposition": "auto",
           "type": "bar",
           "x": [
            "증수뢰"
           ],
           "xaxis": "x",
           "y": [
            251
           ],
           "yaxis": "y"
          },
          {
           "alignmentgroup": "True",
           "hovertemplate": "지능범 유형=%{x}<br>Year=2014<br>Value=%{text}<extra></extra>",
           "legendgroup": "통화",
           "marker": {
            "color": "#ab63fa",
            "pattern": {
             "shape": ""
            }
           },
           "name": "통화",
           "offsetgroup": "통화",
           "orientation": "v",
           "showlegend": true,
           "text": [
            2770
           ],
           "textposition": "auto",
           "type": "bar",
           "x": [
            "통화"
           ],
           "xaxis": "x",
           "y": [
            2770
           ],
           "yaxis": "y"
          },
          {
           "alignmentgroup": "True",
           "hovertemplate": "지능범 유형=%{x}<br>Year=2014<br>Value=%{text}<extra></extra>",
           "legendgroup": "문서인장",
           "marker": {
            "color": "#FFA15A",
            "pattern": {
             "shape": ""
            }
           },
           "name": "문서인장",
           "offsetgroup": "문서인장",
           "orientation": "v",
           "showlegend": true,
           "text": [
            14441
           ],
           "textposition": "auto",
           "type": "bar",
           "x": [
            "문서인장"
           ],
           "xaxis": "x",
           "y": [
            14441
           ],
           "yaxis": "y"
          },
          {
           "alignmentgroup": "True",
           "hovertemplate": "지능범 유형=%{x}<br>Year=2014<br>Value=%{text}<extra></extra>",
           "legendgroup": "유가증권인지",
           "marker": {
            "color": "#19d3f3",
            "pattern": {
             "shape": ""
            }
           },
           "name": "유가증권인지",
           "offsetgroup": "유가증권인지",
           "orientation": "v",
           "showlegend": true,
           "text": [
            360
           ],
           "textposition": "auto",
           "type": "bar",
           "x": [
            "유가증권인지"
           ],
           "xaxis": "x",
           "y": [
            360
           ],
           "yaxis": "y"
          },
          {
           "alignmentgroup": "True",
           "hovertemplate": "지능범 유형=%{x}<br>Year=2014<br>Value=%{text}<extra></extra>",
           "legendgroup": "사기",
           "marker": {
            "color": "#FF6692",
            "pattern": {
             "shape": ""
            }
           },
           "name": "사기",
           "offsetgroup": "사기",
           "orientation": "v",
           "showlegend": true,
           "text": [
            238409
           ],
           "textposition": "auto",
           "type": "bar",
           "x": [
            "사기"
           ],
           "xaxis": "x",
           "y": [
            238409
           ],
           "yaxis": "y"
          },
          {
           "alignmentgroup": "True",
           "hovertemplate": "지능범 유형=%{x}<br>Year=2014<br>Value=%{text}<extra></extra>",
           "legendgroup": "횡령",
           "marker": {
            "color": "#B6E880",
            "pattern": {
             "shape": ""
            }
           },
           "name": "횡령",
           "offsetgroup": "횡령",
           "orientation": "v",
           "showlegend": true,
           "text": [
            37024
           ],
           "textposition": "auto",
           "type": "bar",
           "x": [
            "횡령"
           ],
           "xaxis": "x",
           "y": [
            37024
           ],
           "yaxis": "y"
          },
          {
           "alignmentgroup": "True",
           "hovertemplate": "지능범 유형=%{x}<br>Year=2014<br>Value=%{text}<extra></extra>",
           "legendgroup": "배임",
           "marker": {
            "color": "#FF97FF",
            "pattern": {
             "shape": ""
            }
           },
           "name": "배임",
           "offsetgroup": "배임",
           "orientation": "v",
           "showlegend": true,
           "text": [
            4456
           ],
           "textposition": "auto",
           "type": "bar",
           "x": [
            "배임"
           ],
           "xaxis": "x",
           "y": [
            4456
           ],
           "yaxis": "y"
          }
         ],
         "name": "2014"
        },
        {
         "data": [
          {
           "alignmentgroup": "True",
           "hovertemplate": "지능범 유형=%{x}<br>Year=2015<br>Value=%{text}<extra></extra>",
           "legendgroup": "직무유기",
           "marker": {
            "color": "#636efa",
            "pattern": {
             "shape": ""
            }
           },
           "name": "직무유기",
           "offsetgroup": "직무유기",
           "orientation": "v",
           "showlegend": true,
           "text": [
            507
           ],
           "textposition": "auto",
           "type": "bar",
           "x": [
            "직무유기"
           ],
           "xaxis": "x",
           "y": [
            507
           ],
           "yaxis": "y"
          },
          {
           "alignmentgroup": "True",
           "hovertemplate": "지능범 유형=%{x}<br>Year=2015<br>Value=%{text}<extra></extra>",
           "legendgroup": "직권남용",
           "marker": {
            "color": "#EF553B",
            "pattern": {
             "shape": ""
            }
           },
           "name": "직권남용",
           "offsetgroup": "직권남용",
           "orientation": "v",
           "showlegend": true,
           "text": [
            401
           ],
           "textposition": "auto",
           "type": "bar",
           "x": [
            "직권남용"
           ],
           "xaxis": "x",
           "y": [
            401
           ],
           "yaxis": "y"
          },
          {
           "alignmentgroup": "True",
           "hovertemplate": "지능범 유형=%{x}<br>Year=2015<br>Value=%{text}<extra></extra>",
           "legendgroup": "증수뢰",
           "marker": {
            "color": "#00cc96",
            "pattern": {
             "shape": ""
            }
           },
           "name": "증수뢰",
           "offsetgroup": "증수뢰",
           "orientation": "v",
           "showlegend": true,
           "text": [
            247
           ],
           "textposition": "auto",
           "type": "bar",
           "x": [
            "증수뢰"
           ],
           "xaxis": "x",
           "y": [
            247
           ],
           "yaxis": "y"
          },
          {
           "alignmentgroup": "True",
           "hovertemplate": "지능범 유형=%{x}<br>Year=2015<br>Value=%{text}<extra></extra>",
           "legendgroup": "통화",
           "marker": {
            "color": "#ab63fa",
            "pattern": {
             "shape": ""
            }
           },
           "name": "통화",
           "offsetgroup": "통화",
           "orientation": "v",
           "showlegend": true,
           "text": [
            1822
           ],
           "textposition": "auto",
           "type": "bar",
           "x": [
            "통화"
           ],
           "xaxis": "x",
           "y": [
            1822
           ],
           "yaxis": "y"
          },
          {
           "alignmentgroup": "True",
           "hovertemplate": "지능범 유형=%{x}<br>Year=2015<br>Value=%{text}<extra></extra>",
           "legendgroup": "문서인장",
           "marker": {
            "color": "#FFA15A",
            "pattern": {
             "shape": ""
            }
           },
           "name": "문서인장",
           "offsetgroup": "문서인장",
           "orientation": "v",
           "showlegend": true,
           "text": [
            14546
           ],
           "textposition": "auto",
           "type": "bar",
           "x": [
            "문서인장"
           ],
           "xaxis": "x",
           "y": [
            14546
           ],
           "yaxis": "y"
          },
          {
           "alignmentgroup": "True",
           "hovertemplate": "지능범 유형=%{x}<br>Year=2015<br>Value=%{text}<extra></extra>",
           "legendgroup": "유가증권인지",
           "marker": {
            "color": "#19d3f3",
            "pattern": {
             "shape": ""
            }
           },
           "name": "유가증권인지",
           "offsetgroup": "유가증권인지",
           "orientation": "v",
           "showlegend": true,
           "text": [
            282
           ],
           "textposition": "auto",
           "type": "bar",
           "x": [
            "유가증권인지"
           ],
           "xaxis": "x",
           "y": [
            282
           ],
           "yaxis": "y"
          },
          {
           "alignmentgroup": "True",
           "hovertemplate": "지능범 유형=%{x}<br>Year=2015<br>Value=%{text}<extra></extra>",
           "legendgroup": "사기",
           "marker": {
            "color": "#FF6692",
            "pattern": {
             "shape": ""
            }
           },
           "name": "사기",
           "offsetgroup": "사기",
           "orientation": "v",
           "showlegend": true,
           "text": [
            247293
           ],
           "textposition": "auto",
           "type": "bar",
           "x": [
            "사기"
           ],
           "xaxis": "x",
           "y": [
            247293
           ],
           "yaxis": "y"
          },
          {
           "alignmentgroup": "True",
           "hovertemplate": "지능범 유형=%{x}<br>Year=2015<br>Value=%{text}<extra></extra>",
           "legendgroup": "횡령",
           "marker": {
            "color": "#B6E880",
            "pattern": {
             "shape": ""
            }
           },
           "name": "횡령",
           "offsetgroup": "횡령",
           "orientation": "v",
           "showlegend": true,
           "text": [
            46734
           ],
           "textposition": "auto",
           "type": "bar",
           "x": [
            "횡령"
           ],
           "xaxis": "x",
           "y": [
            46734
           ],
           "yaxis": "y"
          },
          {
           "alignmentgroup": "True",
           "hovertemplate": "지능범 유형=%{x}<br>Year=2015<br>Value=%{text}<extra></extra>",
           "legendgroup": "배임",
           "marker": {
            "color": "#FF97FF",
            "pattern": {
             "shape": ""
            }
           },
           "name": "배임",
           "offsetgroup": "배임",
           "orientation": "v",
           "showlegend": true,
           "text": [
            4289
           ],
           "textposition": "auto",
           "type": "bar",
           "x": [
            "배임"
           ],
           "xaxis": "x",
           "y": [
            4289
           ],
           "yaxis": "y"
          }
         ],
         "name": "2015"
        },
        {
         "data": [
          {
           "alignmentgroup": "True",
           "hovertemplate": "지능범 유형=%{x}<br>Year=2016<br>Value=%{text}<extra></extra>",
           "legendgroup": "직무유기",
           "marker": {
            "color": "#636efa",
            "pattern": {
             "shape": ""
            }
           },
           "name": "직무유기",
           "offsetgroup": "직무유기",
           "orientation": "v",
           "showlegend": true,
           "text": [
            531
           ],
           "textposition": "auto",
           "type": "bar",
           "x": [
            "직무유기"
           ],
           "xaxis": "x",
           "y": [
            531
           ],
           "yaxis": "y"
          },
          {
           "alignmentgroup": "True",
           "hovertemplate": "지능범 유형=%{x}<br>Year=2016<br>Value=%{text}<extra></extra>",
           "legendgroup": "직권남용",
           "marker": {
            "color": "#EF553B",
            "pattern": {
             "shape": ""
            }
           },
           "name": "직권남용",
           "offsetgroup": "직권남용",
           "orientation": "v",
           "showlegend": true,
           "text": [
            437
           ],
           "textposition": "auto",
           "type": "bar",
           "x": [
            "직권남용"
           ],
           "xaxis": "x",
           "y": [
            437
           ],
           "yaxis": "y"
          },
          {
           "alignmentgroup": "True",
           "hovertemplate": "지능범 유형=%{x}<br>Year=2016<br>Value=%{text}<extra></extra>",
           "legendgroup": "증수뢰",
           "marker": {
            "color": "#00cc96",
            "pattern": {
             "shape": ""
            }
           },
           "name": "증수뢰",
           "offsetgroup": "증수뢰",
           "orientation": "v",
           "showlegend": true,
           "text": [
            260
           ],
           "textposition": "auto",
           "type": "bar",
           "x": [
            "증수뢰"
           ],
           "xaxis": "x",
           "y": [
            260
           ],
           "yaxis": "y"
          },
          {
           "alignmentgroup": "True",
           "hovertemplate": "지능범 유형=%{x}<br>Year=2016<br>Value=%{text}<extra></extra>",
           "legendgroup": "통화",
           "marker": {
            "color": "#ab63fa",
            "pattern": {
             "shape": ""
            }
           },
           "name": "통화",
           "offsetgroup": "통화",
           "orientation": "v",
           "showlegend": true,
           "text": [
            1811
           ],
           "textposition": "auto",
           "type": "bar",
           "x": [
            "통화"
           ],
           "xaxis": "x",
           "y": [
            1811
           ],
           "yaxis": "y"
          },
          {
           "alignmentgroup": "True",
           "hovertemplate": "지능범 유형=%{x}<br>Year=2016<br>Value=%{text}<extra></extra>",
           "legendgroup": "문서인장",
           "marker": {
            "color": "#FFA15A",
            "pattern": {
             "shape": ""
            }
           },
           "name": "문서인장",
           "offsetgroup": "문서인장",
           "orientation": "v",
           "showlegend": true,
           "text": [
            13295
           ],
           "textposition": "auto",
           "type": "bar",
           "x": [
            "문서인장"
           ],
           "xaxis": "x",
           "y": [
            13295
           ],
           "yaxis": "y"
          },
          {
           "alignmentgroup": "True",
           "hovertemplate": "지능범 유형=%{x}<br>Year=2016<br>Value=%{text}<extra></extra>",
           "legendgroup": "유가증권인지",
           "marker": {
            "color": "#19d3f3",
            "pattern": {
             "shape": ""
            }
           },
           "name": "유가증권인지",
           "offsetgroup": "유가증권인지",
           "orientation": "v",
           "showlegend": true,
           "text": [
            219
           ],
           "textposition": "auto",
           "type": "bar",
           "x": [
            "유가증권인지"
           ],
           "xaxis": "x",
           "y": [
            219
           ],
           "yaxis": "y"
          },
          {
           "alignmentgroup": "True",
           "hovertemplate": "지능범 유형=%{x}<br>Year=2016<br>Value=%{text}<extra></extra>",
           "legendgroup": "사기",
           "marker": {
            "color": "#FF6692",
            "pattern": {
             "shape": ""
            }
           },
           "name": "사기",
           "offsetgroup": "사기",
           "orientation": "v",
           "showlegend": true,
           "text": [
            241613
           ],
           "textposition": "auto",
           "type": "bar",
           "x": [
            "사기"
           ],
           "xaxis": "x",
           "y": [
            241613
           ],
           "yaxis": "y"
          },
          {
           "alignmentgroup": "True",
           "hovertemplate": "지능범 유형=%{x}<br>Year=2016<br>Value=%{text}<extra></extra>",
           "legendgroup": "횡령",
           "marker": {
            "color": "#B6E880",
            "pattern": {
             "shape": ""
            }
           },
           "name": "횡령",
           "offsetgroup": "횡령",
           "orientation": "v",
           "showlegend": true,
           "text": [
            50053
           ],
           "textposition": "auto",
           "type": "bar",
           "x": [
            "횡령"
           ],
           "xaxis": "x",
           "y": [
            50053
           ],
           "yaxis": "y"
          },
          {
           "alignmentgroup": "True",
           "hovertemplate": "지능범 유형=%{x}<br>Year=2016<br>Value=%{text}<extra></extra>",
           "legendgroup": "배임",
           "marker": {
            "color": "#FF97FF",
            "pattern": {
             "shape": ""
            }
           },
           "name": "배임",
           "offsetgroup": "배임",
           "orientation": "v",
           "showlegend": true,
           "text": [
            4358
           ],
           "textposition": "auto",
           "type": "bar",
           "x": [
            "배임"
           ],
           "xaxis": "x",
           "y": [
            4358
           ],
           "yaxis": "y"
          }
         ],
         "name": "2016"
        },
        {
         "data": [
          {
           "alignmentgroup": "True",
           "hovertemplate": "지능범 유형=%{x}<br>Year=2017<br>Value=%{text}<extra></extra>",
           "legendgroup": "직무유기",
           "marker": {
            "color": "#636efa",
            "pattern": {
             "shape": ""
            }
           },
           "name": "직무유기",
           "offsetgroup": "직무유기",
           "orientation": "v",
           "showlegend": true,
           "text": [
            504
           ],
           "textposition": "auto",
           "type": "bar",
           "x": [
            "직무유기"
           ],
           "xaxis": "x",
           "y": [
            504
           ],
           "yaxis": "y"
          },
          {
           "alignmentgroup": "True",
           "hovertemplate": "지능범 유형=%{x}<br>Year=2017<br>Value=%{text}<extra></extra>",
           "legendgroup": "직권남용",
           "marker": {
            "color": "#EF553B",
            "pattern": {
             "shape": ""
            }
           },
           "name": "직권남용",
           "offsetgroup": "직권남용",
           "orientation": "v",
           "showlegend": true,
           "text": [
            494
           ],
           "textposition": "auto",
           "type": "bar",
           "x": [
            "직권남용"
           ],
           "xaxis": "x",
           "y": [
            494
           ],
           "yaxis": "y"
          },
          {
           "alignmentgroup": "True",
           "hovertemplate": "지능범 유형=%{x}<br>Year=2017<br>Value=%{text}<extra></extra>",
           "legendgroup": "증수뢰",
           "marker": {
            "color": "#00cc96",
            "pattern": {
             "shape": ""
            }
           },
           "name": "증수뢰",
           "offsetgroup": "증수뢰",
           "orientation": "v",
           "showlegend": true,
           "text": [
            312
           ],
           "textposition": "auto",
           "type": "bar",
           "x": [
            "증수뢰"
           ],
           "xaxis": "x",
           "y": [
            312
           ],
           "yaxis": "y"
          },
          {
           "alignmentgroup": "True",
           "hovertemplate": "지능범 유형=%{x}<br>Year=2017<br>Value=%{text}<extra></extra>",
           "legendgroup": "통화",
           "marker": {
            "color": "#ab63fa",
            "pattern": {
             "shape": ""
            }
           },
           "name": "통화",
           "offsetgroup": "통화",
           "orientation": "v",
           "showlegend": true,
           "text": [
            2794
           ],
           "textposition": "auto",
           "type": "bar",
           "x": [
            "통화"
           ],
           "xaxis": "x",
           "y": [
            2794
           ],
           "yaxis": "y"
          },
          {
           "alignmentgroup": "True",
           "hovertemplate": "지능범 유형=%{x}<br>Year=2017<br>Value=%{text}<extra></extra>",
           "legendgroup": "문서인장",
           "marker": {
            "color": "#FFA15A",
            "pattern": {
             "shape": ""
            }
           },
           "name": "문서인장",
           "offsetgroup": "문서인장",
           "orientation": "v",
           "showlegend": true,
           "text": [
            12452
           ],
           "textposition": "auto",
           "type": "bar",
           "x": [
            "문서인장"
           ],
           "xaxis": "x",
           "y": [
            12452
           ],
           "yaxis": "y"
          },
          {
           "alignmentgroup": "True",
           "hovertemplate": "지능범 유형=%{x}<br>Year=2017<br>Value=%{text}<extra></extra>",
           "legendgroup": "유가증권인지",
           "marker": {
            "color": "#19d3f3",
            "pattern": {
             "shape": ""
            }
           },
           "name": "유가증권인지",
           "offsetgroup": "유가증권인지",
           "orientation": "v",
           "showlegend": true,
           "text": [
            217
           ],
           "textposition": "auto",
           "type": "bar",
           "x": [
            "유가증권인지"
           ],
           "xaxis": "x",
           "y": [
            217
           ],
           "yaxis": "y"
          },
          {
           "alignmentgroup": "True",
           "hovertemplate": "지능범 유형=%{x}<br>Year=2017<br>Value=%{text}<extra></extra>",
           "legendgroup": "사기",
           "marker": {
            "color": "#FF6692",
            "pattern": {
             "shape": ""
            }
           },
           "name": "사기",
           "offsetgroup": "사기",
           "orientation": "v",
           "showlegend": true,
           "text": [
            231489
           ],
           "textposition": "auto",
           "type": "bar",
           "x": [
            "사기"
           ],
           "xaxis": "x",
           "y": [
            231489
           ],
           "yaxis": "y"
          },
          {
           "alignmentgroup": "True",
           "hovertemplate": "지능범 유형=%{x}<br>Year=2017<br>Value=%{text}<extra></extra>",
           "legendgroup": "횡령",
           "marker": {
            "color": "#B6E880",
            "pattern": {
             "shape": ""
            }
           },
           "name": "횡령",
           "offsetgroup": "횡령",
           "orientation": "v",
           "showlegend": true,
           "text": [
            50498
           ],
           "textposition": "auto",
           "type": "bar",
           "x": [
            "횡령"
           ],
           "xaxis": "x",
           "y": [
            50498
           ],
           "yaxis": "y"
          },
          {
           "alignmentgroup": "True",
           "hovertemplate": "지능범 유형=%{x}<br>Year=2017<br>Value=%{text}<extra></extra>",
           "legendgroup": "배임",
           "marker": {
            "color": "#FF97FF",
            "pattern": {
             "shape": ""
            }
           },
           "name": "배임",
           "offsetgroup": "배임",
           "orientation": "v",
           "showlegend": true,
           "text": [
            3706
           ],
           "textposition": "auto",
           "type": "bar",
           "x": [
            "배임"
           ],
           "xaxis": "x",
           "y": [
            3706
           ],
           "yaxis": "y"
          }
         ],
         "name": "2017"
        },
        {
         "data": [
          {
           "alignmentgroup": "True",
           "hovertemplate": "지능범 유형=%{x}<br>Year=2018<br>Value=%{text}<extra></extra>",
           "legendgroup": "직무유기",
           "marker": {
            "color": "#636efa",
            "pattern": {
             "shape": ""
            }
           },
           "name": "직무유기",
           "offsetgroup": "직무유기",
           "orientation": "v",
           "showlegend": true,
           "text": [
            581
           ],
           "textposition": "auto",
           "type": "bar",
           "x": [
            "직무유기"
           ],
           "xaxis": "x",
           "y": [
            581
           ],
           "yaxis": "y"
          },
          {
           "alignmentgroup": "True",
           "hovertemplate": "지능범 유형=%{x}<br>Year=2018<br>Value=%{text}<extra></extra>",
           "legendgroup": "직권남용",
           "marker": {
            "color": "#EF553B",
            "pattern": {
             "shape": ""
            }
           },
           "name": "직권남용",
           "offsetgroup": "직권남용",
           "orientation": "v",
           "showlegend": true,
           "text": [
            603
           ],
           "textposition": "auto",
           "type": "bar",
           "x": [
            "직권남용"
           ],
           "xaxis": "x",
           "y": [
            603
           ],
           "yaxis": "y"
          },
          {
           "alignmentgroup": "True",
           "hovertemplate": "지능범 유형=%{x}<br>Year=2018<br>Value=%{text}<extra></extra>",
           "legendgroup": "증수뢰",
           "marker": {
            "color": "#00cc96",
            "pattern": {
             "shape": ""
            }
           },
           "name": "증수뢰",
           "offsetgroup": "증수뢰",
           "orientation": "v",
           "showlegend": true,
           "text": [
            347
           ],
           "textposition": "auto",
           "type": "bar",
           "x": [
            "증수뢰"
           ],
           "xaxis": "x",
           "y": [
            347
           ],
           "yaxis": "y"
          },
          {
           "alignmentgroup": "True",
           "hovertemplate": "지능범 유형=%{x}<br>Year=2018<br>Value=%{text}<extra></extra>",
           "legendgroup": "통화",
           "marker": {
            "color": "#ab63fa",
            "pattern": {
             "shape": ""
            }
           },
           "name": "통화",
           "offsetgroup": "통화",
           "orientation": "v",
           "showlegend": true,
           "text": [
            1194
           ],
           "textposition": "auto",
           "type": "bar",
           "x": [
            "통화"
           ],
           "xaxis": "x",
           "y": [
            1194
           ],
           "yaxis": "y"
          },
          {
           "alignmentgroup": "True",
           "hovertemplate": "지능범 유형=%{x}<br>Year=2018<br>Value=%{text}<extra></extra>",
           "legendgroup": "문서인장",
           "marker": {
            "color": "#FFA15A",
            "pattern": {
             "shape": ""
            }
           },
           "name": "문서인장",
           "offsetgroup": "문서인장",
           "orientation": "v",
           "showlegend": true,
           "text": [
            12290
           ],
           "textposition": "auto",
           "type": "bar",
           "x": [
            "문서인장"
           ],
           "xaxis": "x",
           "y": [
            12290
           ],
           "yaxis": "y"
          },
          {
           "alignmentgroup": "True",
           "hovertemplate": "지능범 유형=%{x}<br>Year=2018<br>Value=%{text}<extra></extra>",
           "legendgroup": "유가증권인지",
           "marker": {
            "color": "#19d3f3",
            "pattern": {
             "shape": ""
            }
           },
           "name": "유가증권인지",
           "offsetgroup": "유가증권인지",
           "orientation": "v",
           "showlegend": true,
           "text": [
            197
           ],
           "textposition": "auto",
           "type": "bar",
           "x": [
            "유가증권인지"
           ],
           "xaxis": "x",
           "y": [
            197
           ],
           "yaxis": "y"
          },
          {
           "alignmentgroup": "True",
           "hovertemplate": "지능범 유형=%{x}<br>Year=2018<br>Value=%{text}<extra></extra>",
           "legendgroup": "사기",
           "marker": {
            "color": "#FF6692",
            "pattern": {
             "shape": ""
            }
           },
           "name": "사기",
           "offsetgroup": "사기",
           "orientation": "v",
           "showlegend": true,
           "text": [
            270029
           ],
           "textposition": "auto",
           "type": "bar",
           "x": [
            "사기"
           ],
           "xaxis": "x",
           "y": [
            270029
           ],
           "yaxis": "y"
          },
          {
           "alignmentgroup": "True",
           "hovertemplate": "지능범 유형=%{x}<br>Year=2018<br>Value=%{text}<extra></extra>",
           "legendgroup": "횡령",
           "marker": {
            "color": "#B6E880",
            "pattern": {
             "shape": ""
            }
           },
           "name": "횡령",
           "offsetgroup": "횡령",
           "orientation": "v",
           "showlegend": true,
           "text": [
            55113
           ],
           "textposition": "auto",
           "type": "bar",
           "x": [
            "횡령"
           ],
           "xaxis": "x",
           "y": [
            55113
           ],
           "yaxis": "y"
          },
          {
           "alignmentgroup": "True",
           "hovertemplate": "지능범 유형=%{x}<br>Year=2018<br>Value=%{text}<extra></extra>",
           "legendgroup": "배임",
           "marker": {
            "color": "#FF97FF",
            "pattern": {
             "shape": ""
            }
           },
           "name": "배임",
           "offsetgroup": "배임",
           "orientation": "v",
           "showlegend": true,
           "text": [
            4344
           ],
           "textposition": "auto",
           "type": "bar",
           "x": [
            "배임"
           ],
           "xaxis": "x",
           "y": [
            4344
           ],
           "yaxis": "y"
          }
         ],
         "name": "2018"
        },
        {
         "data": [
          {
           "alignmentgroup": "True",
           "hovertemplate": "지능범 유형=%{x}<br>Year=2019<br>Value=%{text}<extra></extra>",
           "legendgroup": "직무유기",
           "marker": {
            "color": "#636efa",
            "pattern": {
             "shape": ""
            }
           },
           "name": "직무유기",
           "offsetgroup": "직무유기",
           "orientation": "v",
           "showlegend": true,
           "text": [
            590
           ],
           "textposition": "auto",
           "type": "bar",
           "x": [
            "직무유기"
           ],
           "xaxis": "x",
           "y": [
            590
           ],
           "yaxis": "y"
          },
          {
           "alignmentgroup": "True",
           "hovertemplate": "지능범 유형=%{x}<br>Year=2019<br>Value=%{text}<extra></extra>",
           "legendgroup": "직권남용",
           "marker": {
            "color": "#EF553B",
            "pattern": {
             "shape": ""
            }
           },
           "name": "직권남용",
           "offsetgroup": "직권남용",
           "orientation": "v",
           "showlegend": true,
           "text": [
            674
           ],
           "textposition": "auto",
           "type": "bar",
           "x": [
            "직권남용"
           ],
           "xaxis": "x",
           "y": [
            674
           ],
           "yaxis": "y"
          },
          {
           "alignmentgroup": "True",
           "hovertemplate": "지능범 유형=%{x}<br>Year=2019<br>Value=%{text}<extra></extra>",
           "legendgroup": "증수뢰",
           "marker": {
            "color": "#00cc96",
            "pattern": {
             "shape": ""
            }
           },
           "name": "증수뢰",
           "offsetgroup": "증수뢰",
           "orientation": "v",
           "showlegend": true,
           "text": [
            260
           ],
           "textposition": "auto",
           "type": "bar",
           "x": [
            "증수뢰"
           ],
           "xaxis": "x",
           "y": [
            260
           ],
           "yaxis": "y"
          },
          {
           "alignmentgroup": "True",
           "hovertemplate": "지능범 유형=%{x}<br>Year=2019<br>Value=%{text}<extra></extra>",
           "legendgroup": "통화",
           "marker": {
            "color": "#ab63fa",
            "pattern": {
             "shape": ""
            }
           },
           "name": "통화",
           "offsetgroup": "통화",
           "orientation": "v",
           "showlegend": true,
           "text": [
            980
           ],
           "textposition": "auto",
           "type": "bar",
           "x": [
            "통화"
           ],
           "xaxis": "x",
           "y": [
            980
           ],
           "yaxis": "y"
          },
          {
           "alignmentgroup": "True",
           "hovertemplate": "지능범 유형=%{x}<br>Year=2019<br>Value=%{text}<extra></extra>",
           "legendgroup": "문서인장",
           "marker": {
            "color": "#FFA15A",
            "pattern": {
             "shape": ""
            }
           },
           "name": "문서인장",
           "offsetgroup": "문서인장",
           "orientation": "v",
           "showlegend": true,
           "text": [
            11343
           ],
           "textposition": "auto",
           "type": "bar",
           "x": [
            "문서인장"
           ],
           "xaxis": "x",
           "y": [
            11343
           ],
           "yaxis": "y"
          },
          {
           "alignmentgroup": "True",
           "hovertemplate": "지능범 유형=%{x}<br>Year=2019<br>Value=%{text}<extra></extra>",
           "legendgroup": "유가증권인지",
           "marker": {
            "color": "#19d3f3",
            "pattern": {
             "shape": ""
            }
           },
           "name": "유가증권인지",
           "offsetgroup": "유가증권인지",
           "orientation": "v",
           "showlegend": true,
           "text": [
            140
           ],
           "textposition": "auto",
           "type": "bar",
           "x": [
            "유가증권인지"
           ],
           "xaxis": "x",
           "y": [
            140
           ],
           "yaxis": "y"
          },
          {
           "alignmentgroup": "True",
           "hovertemplate": "지능범 유형=%{x}<br>Year=2019<br>Value=%{text}<extra></extra>",
           "legendgroup": "사기",
           "marker": {
            "color": "#FF6692",
            "pattern": {
             "shape": ""
            }
           },
           "name": "사기",
           "offsetgroup": "사기",
           "orientation": "v",
           "showlegend": true,
           "text": [
            304472
           ],
           "textposition": "auto",
           "type": "bar",
           "x": [
            "사기"
           ],
           "xaxis": "x",
           "y": [
            304472
           ],
           "yaxis": "y"
          },
          {
           "alignmentgroup": "True",
           "hovertemplate": "지능범 유형=%{x}<br>Year=2019<br>Value=%{text}<extra></extra>",
           "legendgroup": "횡령",
           "marker": {
            "color": "#B6E880",
            "pattern": {
             "shape": ""
            }
           },
           "name": "횡령",
           "offsetgroup": "횡령",
           "orientation": "v",
           "showlegend": true,
           "text": [
            58508
           ],
           "textposition": "auto",
           "type": "bar",
           "x": [
            "횡령"
           ],
           "xaxis": "x",
           "y": [
            58508
           ],
           "yaxis": "y"
          },
          {
           "alignmentgroup": "True",
           "hovertemplate": "지능범 유형=%{x}<br>Year=2019<br>Value=%{text}<extra></extra>",
           "legendgroup": "배임",
           "marker": {
            "color": "#FF97FF",
            "pattern": {
             "shape": ""
            }
           },
           "name": "배임",
           "offsetgroup": "배임",
           "orientation": "v",
           "showlegend": true,
           "text": [
            4566
           ],
           "textposition": "auto",
           "type": "bar",
           "x": [
            "배임"
           ],
           "xaxis": "x",
           "y": [
            4566
           ],
           "yaxis": "y"
          }
         ],
         "name": "2019"
        },
        {
         "data": [
          {
           "alignmentgroup": "True",
           "hovertemplate": "지능범 유형=%{x}<br>Year=2020<br>Value=%{text}<extra></extra>",
           "legendgroup": "직무유기",
           "marker": {
            "color": "#636efa",
            "pattern": {
             "shape": ""
            }
           },
           "name": "직무유기",
           "offsetgroup": "직무유기",
           "orientation": "v",
           "showlegend": true,
           "text": [
            730
           ],
           "textposition": "auto",
           "type": "bar",
           "x": [
            "직무유기"
           ],
           "xaxis": "x",
           "y": [
            730
           ],
           "yaxis": "y"
          },
          {
           "alignmentgroup": "True",
           "hovertemplate": "지능범 유형=%{x}<br>Year=2020<br>Value=%{text}<extra></extra>",
           "legendgroup": "직권남용",
           "marker": {
            "color": "#EF553B",
            "pattern": {
             "shape": ""
            }
           },
           "name": "직권남용",
           "offsetgroup": "직권남용",
           "orientation": "v",
           "showlegend": true,
           "text": [
            724
           ],
           "textposition": "auto",
           "type": "bar",
           "x": [
            "직권남용"
           ],
           "xaxis": "x",
           "y": [
            724
           ],
           "yaxis": "y"
          },
          {
           "alignmentgroup": "True",
           "hovertemplate": "지능범 유형=%{x}<br>Year=2020<br>Value=%{text}<extra></extra>",
           "legendgroup": "증수뢰",
           "marker": {
            "color": "#00cc96",
            "pattern": {
             "shape": ""
            }
           },
           "name": "증수뢰",
           "offsetgroup": "증수뢰",
           "orientation": "v",
           "showlegend": true,
           "text": [
            289
           ],
           "textposition": "auto",
           "type": "bar",
           "x": [
            "증수뢰"
           ],
           "xaxis": "x",
           "y": [
            289
           ],
           "yaxis": "y"
          },
          {
           "alignmentgroup": "True",
           "hovertemplate": "지능범 유형=%{x}<br>Year=2020<br>Value=%{text}<extra></extra>",
           "legendgroup": "통화",
           "marker": {
            "color": "#ab63fa",
            "pattern": {
             "shape": ""
            }
           },
           "name": "통화",
           "offsetgroup": "통화",
           "orientation": "v",
           "showlegend": true,
           "text": [
            626
           ],
           "textposition": "auto",
           "type": "bar",
           "x": [
            "통화"
           ],
           "xaxis": "x",
           "y": [
            626
           ],
           "yaxis": "y"
          },
          {
           "alignmentgroup": "True",
           "hovertemplate": "지능범 유형=%{x}<br>Year=2020<br>Value=%{text}<extra></extra>",
           "legendgroup": "문서인장",
           "marker": {
            "color": "#FFA15A",
            "pattern": {
             "shape": ""
            }
           },
           "name": "문서인장",
           "offsetgroup": "문서인장",
           "orientation": "v",
           "showlegend": true,
           "text": [
            11533
           ],
           "textposition": "auto",
           "type": "bar",
           "x": [
            "문서인장"
           ],
           "xaxis": "x",
           "y": [
            11533
           ],
           "yaxis": "y"
          },
          {
           "alignmentgroup": "True",
           "hovertemplate": "지능범 유형=%{x}<br>Year=2020<br>Value=%{text}<extra></extra>",
           "legendgroup": "유가증권인지",
           "marker": {
            "color": "#19d3f3",
            "pattern": {
             "shape": ""
            }
           },
           "name": "유가증권인지",
           "offsetgroup": "유가증권인지",
           "orientation": "v",
           "showlegend": true,
           "text": [
            84
           ],
           "textposition": "auto",
           "type": "bar",
           "x": [
            "유가증권인지"
           ],
           "xaxis": "x",
           "y": [
            84
           ],
           "yaxis": "y"
          },
          {
           "alignmentgroup": "True",
           "hovertemplate": "지능범 유형=%{x}<br>Year=2020<br>Value=%{text}<extra></extra>",
           "legendgroup": "사기",
           "marker": {
            "color": "#FF6692",
            "pattern": {
             "shape": ""
            }
           },
           "name": "사기",
           "offsetgroup": "사기",
           "orientation": "v",
           "showlegend": true,
           "text": [
            347675
           ],
           "textposition": "auto",
           "type": "bar",
           "x": [
            "사기"
           ],
           "xaxis": "x",
           "y": [
            347675
           ],
           "yaxis": "y"
          },
          {
           "alignmentgroup": "True",
           "hovertemplate": "지능범 유형=%{x}<br>Year=2020<br>Value=%{text}<extra></extra>",
           "legendgroup": "횡령",
           "marker": {
            "color": "#B6E880",
            "pattern": {
             "shape": ""
            }
           },
           "name": "횡령",
           "offsetgroup": "횡령",
           "orientation": "v",
           "showlegend": true,
           "text": [
            58889
           ],
           "textposition": "auto",
           "type": "bar",
           "x": [
            "횡령"
           ],
           "xaxis": "x",
           "y": [
            58889
           ],
           "yaxis": "y"
          },
          {
           "alignmentgroup": "True",
           "hovertemplate": "지능범 유형=%{x}<br>Year=2020<br>Value=%{text}<extra></extra>",
           "legendgroup": "배임",
           "marker": {
            "color": "#FF97FF",
            "pattern": {
             "shape": ""
            }
           },
           "name": "배임",
           "offsetgroup": "배임",
           "orientation": "v",
           "showlegend": true,
           "text": [
            4092
           ],
           "textposition": "auto",
           "type": "bar",
           "x": [
            "배임"
           ],
           "xaxis": "x",
           "y": [
            4092
           ],
           "yaxis": "y"
          }
         ],
         "name": "2020"
        },
        {
         "data": [
          {
           "alignmentgroup": "True",
           "hovertemplate": "지능범 유형=%{x}<br>Year=2021<br>Value=%{text}<extra></extra>",
           "legendgroup": "직무유기",
           "marker": {
            "color": "#636efa",
            "pattern": {
             "shape": ""
            }
           },
           "name": "직무유기",
           "offsetgroup": "직무유기",
           "orientation": "v",
           "showlegend": true,
           "text": [
            957
           ],
           "textposition": "auto",
           "type": "bar",
           "x": [
            "직무유기"
           ],
           "xaxis": "x",
           "y": [
            957
           ],
           "yaxis": "y"
          },
          {
           "alignmentgroup": "True",
           "hovertemplate": "지능범 유형=%{x}<br>Year=2021<br>Value=%{text}<extra></extra>",
           "legendgroup": "직권남용",
           "marker": {
            "color": "#EF553B",
            "pattern": {
             "shape": ""
            }
           },
           "name": "직권남용",
           "offsetgroup": "직권남용",
           "orientation": "v",
           "showlegend": true,
           "text": [
            875
           ],
           "textposition": "auto",
           "type": "bar",
           "x": [
            "직권남용"
           ],
           "xaxis": "x",
           "y": [
            875
           ],
           "yaxis": "y"
          },
          {
           "alignmentgroup": "True",
           "hovertemplate": "지능범 유형=%{x}<br>Year=2021<br>Value=%{text}<extra></extra>",
           "legendgroup": "증수뢰",
           "marker": {
            "color": "#00cc96",
            "pattern": {
             "shape": ""
            }
           },
           "name": "증수뢰",
           "offsetgroup": "증수뢰",
           "orientation": "v",
           "showlegend": true,
           "text": [
            402
           ],
           "textposition": "auto",
           "type": "bar",
           "x": [
            "증수뢰"
           ],
           "xaxis": "x",
           "y": [
            402
           ],
           "yaxis": "y"
          },
          {
           "alignmentgroup": "True",
           "hovertemplate": "지능범 유형=%{x}<br>Year=2021<br>Value=%{text}<extra></extra>",
           "legendgroup": "통화",
           "marker": {
            "color": "#ab63fa",
            "pattern": {
             "shape": ""
            }
           },
           "name": "통화",
           "offsetgroup": "통화",
           "orientation": "v",
           "showlegend": true,
           "text": [
            376
           ],
           "textposition": "auto",
           "type": "bar",
           "x": [
            "통화"
           ],
           "xaxis": "x",
           "y": [
            376
           ],
           "yaxis": "y"
          },
          {
           "alignmentgroup": "True",
           "hovertemplate": "지능범 유형=%{x}<br>Year=2021<br>Value=%{text}<extra></extra>",
           "legendgroup": "문서인장",
           "marker": {
            "color": "#FFA15A",
            "pattern": {
             "shape": ""
            }
           },
           "name": "문서인장",
           "offsetgroup": "문서인장",
           "orientation": "v",
           "showlegend": true,
           "text": [
            10472
           ],
           "textposition": "auto",
           "type": "bar",
           "x": [
            "문서인장"
           ],
           "xaxis": "x",
           "y": [
            10472
           ],
           "yaxis": "y"
          },
          {
           "alignmentgroup": "True",
           "hovertemplate": "지능범 유형=%{x}<br>Year=2021<br>Value=%{text}<extra></extra>",
           "legendgroup": "유가증권인지",
           "marker": {
            "color": "#19d3f3",
            "pattern": {
             "shape": ""
            }
           },
           "name": "유가증권인지",
           "offsetgroup": "유가증권인지",
           "orientation": "v",
           "showlegend": true,
           "text": [
            63
           ],
           "textposition": "auto",
           "type": "bar",
           "x": [
            "유가증권인지"
           ],
           "xaxis": "x",
           "y": [
            63
           ],
           "yaxis": "y"
          },
          {
           "alignmentgroup": "True",
           "hovertemplate": "지능범 유형=%{x}<br>Year=2021<br>Value=%{text}<extra></extra>",
           "legendgroup": "사기",
           "marker": {
            "color": "#FF6692",
            "pattern": {
             "shape": ""
            }
           },
           "name": "사기",
           "offsetgroup": "사기",
           "orientation": "v",
           "showlegend": true,
           "text": [
            294075
           ],
           "textposition": "auto",
           "type": "bar",
           "x": [
            "사기"
           ],
           "xaxis": "x",
           "y": [
            294075
           ],
           "yaxis": "y"
          },
          {
           "alignmentgroup": "True",
           "hovertemplate": "지능범 유형=%{x}<br>Year=2021<br>Value=%{text}<extra></extra>",
           "legendgroup": "횡령",
           "marker": {
            "color": "#B6E880",
            "pattern": {
             "shape": ""
            }
           },
           "name": "횡령",
           "offsetgroup": "횡령",
           "orientation": "v",
           "showlegend": true,
           "text": [
            50421
           ],
           "textposition": "auto",
           "type": "bar",
           "x": [
            "횡령"
           ],
           "xaxis": "x",
           "y": [
            50421
           ],
           "yaxis": "y"
          },
          {
           "alignmentgroup": "True",
           "hovertemplate": "지능범 유형=%{x}<br>Year=2021<br>Value=%{text}<extra></extra>",
           "legendgroup": "배임",
           "marker": {
            "color": "#FF97FF",
            "pattern": {
             "shape": ""
            }
           },
           "name": "배임",
           "offsetgroup": "배임",
           "orientation": "v",
           "showlegend": true,
           "text": [
            3466
           ],
           "textposition": "auto",
           "type": "bar",
           "x": [
            "배임"
           ],
           "xaxis": "x",
           "y": [
            3466
           ],
           "yaxis": "y"
          }
         ],
         "name": "2021"
        },
        {
         "data": [
          {
           "alignmentgroup": "True",
           "hovertemplate": "지능범 유형=%{x}<br>Year=2022<br>Value=%{text}<extra></extra>",
           "legendgroup": "직무유기",
           "marker": {
            "color": "#636efa",
            "pattern": {
             "shape": ""
            }
           },
           "name": "직무유기",
           "offsetgroup": "직무유기",
           "orientation": "v",
           "showlegend": true,
           "text": [
            1550
           ],
           "textposition": "auto",
           "type": "bar",
           "x": [
            "직무유기"
           ],
           "xaxis": "x",
           "y": [
            1550
           ],
           "yaxis": "y"
          },
          {
           "alignmentgroup": "True",
           "hovertemplate": "지능범 유형=%{x}<br>Year=2022<br>Value=%{text}<extra></extra>",
           "legendgroup": "직권남용",
           "marker": {
            "color": "#EF553B",
            "pattern": {
             "shape": ""
            }
           },
           "name": "직권남용",
           "offsetgroup": "직권남용",
           "orientation": "v",
           "showlegend": true,
           "text": [
            1792
           ],
           "textposition": "auto",
           "type": "bar",
           "x": [
            "직권남용"
           ],
           "xaxis": "x",
           "y": [
            1792
           ],
           "yaxis": "y"
          },
          {
           "alignmentgroup": "True",
           "hovertemplate": "지능범 유형=%{x}<br>Year=2022<br>Value=%{text}<extra></extra>",
           "legendgroup": "증수뢰",
           "marker": {
            "color": "#00cc96",
            "pattern": {
             "shape": ""
            }
           },
           "name": "증수뢰",
           "offsetgroup": "증수뢰",
           "orientation": "v",
           "showlegend": true,
           "text": [
            320
           ],
           "textposition": "auto",
           "type": "bar",
           "x": [
            "증수뢰"
           ],
           "xaxis": "x",
           "y": [
            320
           ],
           "yaxis": "y"
          },
          {
           "alignmentgroup": "True",
           "hovertemplate": "지능범 유형=%{x}<br>Year=2022<br>Value=%{text}<extra></extra>",
           "legendgroup": "통화",
           "marker": {
            "color": "#ab63fa",
            "pattern": {
             "shape": ""
            }
           },
           "name": "통화",
           "offsetgroup": "통화",
           "orientation": "v",
           "showlegend": true,
           "text": [
            452
           ],
           "textposition": "auto",
           "type": "bar",
           "x": [
            "통화"
           ],
           "xaxis": "x",
           "y": [
            452
           ],
           "yaxis": "y"
          },
          {
           "alignmentgroup": "True",
           "hovertemplate": "지능범 유형=%{x}<br>Year=2022<br>Value=%{text}<extra></extra>",
           "legendgroup": "문서인장",
           "marker": {
            "color": "#FFA15A",
            "pattern": {
             "shape": ""
            }
           },
           "name": "문서인장",
           "offsetgroup": "문서인장",
           "orientation": "v",
           "showlegend": true,
           "text": [
            11259
           ],
           "textposition": "auto",
           "type": "bar",
           "x": [
            "문서인장"
           ],
           "xaxis": "x",
           "y": [
            11259
           ],
           "yaxis": "y"
          },
          {
           "alignmentgroup": "True",
           "hovertemplate": "지능범 유형=%{x}<br>Year=2022<br>Value=%{text}<extra></extra>",
           "legendgroup": "유가증권인지",
           "marker": {
            "color": "#19d3f3",
            "pattern": {
             "shape": ""
            }
           },
           "name": "유가증권인지",
           "offsetgroup": "유가증권인지",
           "orientation": "v",
           "showlegend": true,
           "text": [
            58
           ],
           "textposition": "auto",
           "type": "bar",
           "x": [
            "유가증권인지"
           ],
           "xaxis": "x",
           "y": [
            58
           ],
           "yaxis": "y"
          },
          {
           "alignmentgroup": "True",
           "hovertemplate": "지능범 유형=%{x}<br>Year=2022<br>Value=%{text}<extra></extra>",
           "legendgroup": "사기",
           "marker": {
            "color": "#FF6692",
            "pattern": {
             "shape": ""
            }
           },
           "name": "사기",
           "offsetgroup": "사기",
           "orientation": "v",
           "showlegend": true,
           "text": [
            325848
           ],
           "textposition": "auto",
           "type": "bar",
           "x": [
            "사기"
           ],
           "xaxis": "x",
           "y": [
            325848
           ],
           "yaxis": "y"
          },
          {
           "alignmentgroup": "True",
           "hovertemplate": "지능범 유형=%{x}<br>Year=2022<br>Value=%{text}<extra></extra>",
           "legendgroup": "횡령",
           "marker": {
            "color": "#B6E880",
            "pattern": {
             "shape": ""
            }
           },
           "name": "횡령",
           "offsetgroup": "횡령",
           "orientation": "v",
           "showlegend": true,
           "text": [
            60220
           ],
           "textposition": "auto",
           "type": "bar",
           "x": [
            "횡령"
           ],
           "xaxis": "x",
           "y": [
            60220
           ],
           "yaxis": "y"
          },
          {
           "alignmentgroup": "True",
           "hovertemplate": "지능범 유형=%{x}<br>Year=2022<br>Value=%{text}<extra></extra>",
           "legendgroup": "배임",
           "marker": {
            "color": "#FF97FF",
            "pattern": {
             "shape": ""
            }
           },
           "name": "배임",
           "offsetgroup": "배임",
           "orientation": "v",
           "showlegend": true,
           "text": [
            3606
           ],
           "textposition": "auto",
           "type": "bar",
           "x": [
            "배임"
           ],
           "xaxis": "x",
           "y": [
            3606
           ],
           "yaxis": "y"
          }
         ],
         "name": "2022"
        }
       ],
       "layout": {
        "barmode": "group",
        "legend": {
         "title": {
          "text": "지능범 유형"
         },
         "tracegroupgap": 0
        },
        "margin": {
         "t": 60
        },
        "sliders": [
         {
          "active": 0,
          "currentvalue": {
           "prefix": "Year="
          },
          "len": 0.9,
          "pad": {
           "b": 10,
           "t": 60
          },
          "steps": [
           {
            "args": [
             [
              "2011"
             ],
             {
              "frame": {
               "duration": 0,
               "redraw": true
              },
              "fromcurrent": true,
              "mode": "immediate",
              "transition": {
               "duration": 0,
               "easing": "linear"
              }
             }
            ],
            "label": "2011",
            "method": "animate"
           },
           {
            "args": [
             [
              "2012"
             ],
             {
              "frame": {
               "duration": 0,
               "redraw": true
              },
              "fromcurrent": true,
              "mode": "immediate",
              "transition": {
               "duration": 0,
               "easing": "linear"
              }
             }
            ],
            "label": "2012",
            "method": "animate"
           },
           {
            "args": [
             [
              "2013"
             ],
             {
              "frame": {
               "duration": 0,
               "redraw": true
              },
              "fromcurrent": true,
              "mode": "immediate",
              "transition": {
               "duration": 0,
               "easing": "linear"
              }
             }
            ],
            "label": "2013",
            "method": "animate"
           },
           {
            "args": [
             [
              "2014"
             ],
             {
              "frame": {
               "duration": 0,
               "redraw": true
              },
              "fromcurrent": true,
              "mode": "immediate",
              "transition": {
               "duration": 0,
               "easing": "linear"
              }
             }
            ],
            "label": "2014",
            "method": "animate"
           },
           {
            "args": [
             [
              "2015"
             ],
             {
              "frame": {
               "duration": 0,
               "redraw": true
              },
              "fromcurrent": true,
              "mode": "immediate",
              "transition": {
               "duration": 0,
               "easing": "linear"
              }
             }
            ],
            "label": "2015",
            "method": "animate"
           },
           {
            "args": [
             [
              "2016"
             ],
             {
              "frame": {
               "duration": 0,
               "redraw": true
              },
              "fromcurrent": true,
              "mode": "immediate",
              "transition": {
               "duration": 0,
               "easing": "linear"
              }
             }
            ],
            "label": "2016",
            "method": "animate"
           },
           {
            "args": [
             [
              "2017"
             ],
             {
              "frame": {
               "duration": 0,
               "redraw": true
              },
              "fromcurrent": true,
              "mode": "immediate",
              "transition": {
               "duration": 0,
               "easing": "linear"
              }
             }
            ],
            "label": "2017",
            "method": "animate"
           },
           {
            "args": [
             [
              "2018"
             ],
             {
              "frame": {
               "duration": 0,
               "redraw": true
              },
              "fromcurrent": true,
              "mode": "immediate",
              "transition": {
               "duration": 0,
               "easing": "linear"
              }
             }
            ],
            "label": "2018",
            "method": "animate"
           },
           {
            "args": [
             [
              "2019"
             ],
             {
              "frame": {
               "duration": 0,
               "redraw": true
              },
              "fromcurrent": true,
              "mode": "immediate",
              "transition": {
               "duration": 0,
               "easing": "linear"
              }
             }
            ],
            "label": "2019",
            "method": "animate"
           },
           {
            "args": [
             [
              "2020"
             ],
             {
              "frame": {
               "duration": 0,
               "redraw": true
              },
              "fromcurrent": true,
              "mode": "immediate",
              "transition": {
               "duration": 0,
               "easing": "linear"
              }
             }
            ],
            "label": "2020",
            "method": "animate"
           },
           {
            "args": [
             [
              "2021"
             ],
             {
              "frame": {
               "duration": 0,
               "redraw": true
              },
              "fromcurrent": true,
              "mode": "immediate",
              "transition": {
               "duration": 0,
               "easing": "linear"
              }
             }
            ],
            "label": "2021",
            "method": "animate"
           },
           {
            "args": [
             [
              "2022"
             ],
             {
              "frame": {
               "duration": 0,
               "redraw": true
              },
              "fromcurrent": true,
              "mode": "immediate",
              "transition": {
               "duration": 0,
               "easing": "linear"
              }
             }
            ],
            "label": "2022",
            "method": "animate"
           }
          ],
          "x": 0.1,
          "xanchor": "left",
          "y": 0,
          "yanchor": "top"
         }
        ],
        "template": {
         "data": {
          "bar": [
           {
            "error_x": {
             "color": "#2a3f5f"
            },
            "error_y": {
             "color": "#2a3f5f"
            },
            "marker": {
             "line": {
              "color": "#E5ECF6",
              "width": 0.5
             },
             "pattern": {
              "fillmode": "overlay",
              "size": 10,
              "solidity": 0.2
             }
            },
            "type": "bar"
           }
          ],
          "barpolar": [
           {
            "marker": {
             "line": {
              "color": "#E5ECF6",
              "width": 0.5
             },
             "pattern": {
              "fillmode": "overlay",
              "size": 10,
              "solidity": 0.2
             }
            },
            "type": "barpolar"
           }
          ],
          "carpet": [
           {
            "aaxis": {
             "endlinecolor": "#2a3f5f",
             "gridcolor": "white",
             "linecolor": "white",
             "minorgridcolor": "white",
             "startlinecolor": "#2a3f5f"
            },
            "baxis": {
             "endlinecolor": "#2a3f5f",
             "gridcolor": "white",
             "linecolor": "white",
             "minorgridcolor": "white",
             "startlinecolor": "#2a3f5f"
            },
            "type": "carpet"
           }
          ],
          "choropleth": [
           {
            "colorbar": {
             "outlinewidth": 0,
             "ticks": ""
            },
            "type": "choropleth"
           }
          ],
          "contour": [
           {
            "colorbar": {
             "outlinewidth": 0,
             "ticks": ""
            },
            "colorscale": [
             [
              0,
              "#0d0887"
             ],
             [
              0.1111111111111111,
              "#46039f"
             ],
             [
              0.2222222222222222,
              "#7201a8"
             ],
             [
              0.3333333333333333,
              "#9c179e"
             ],
             [
              0.4444444444444444,
              "#bd3786"
             ],
             [
              0.5555555555555556,
              "#d8576b"
             ],
             [
              0.6666666666666666,
              "#ed7953"
             ],
             [
              0.7777777777777778,
              "#fb9f3a"
             ],
             [
              0.8888888888888888,
              "#fdca26"
             ],
             [
              1,
              "#f0f921"
             ]
            ],
            "type": "contour"
           }
          ],
          "contourcarpet": [
           {
            "colorbar": {
             "outlinewidth": 0,
             "ticks": ""
            },
            "type": "contourcarpet"
           }
          ],
          "heatmap": [
           {
            "colorbar": {
             "outlinewidth": 0,
             "ticks": ""
            },
            "colorscale": [
             [
              0,
              "#0d0887"
             ],
             [
              0.1111111111111111,
              "#46039f"
             ],
             [
              0.2222222222222222,
              "#7201a8"
             ],
             [
              0.3333333333333333,
              "#9c179e"
             ],
             [
              0.4444444444444444,
              "#bd3786"
             ],
             [
              0.5555555555555556,
              "#d8576b"
             ],
             [
              0.6666666666666666,
              "#ed7953"
             ],
             [
              0.7777777777777778,
              "#fb9f3a"
             ],
             [
              0.8888888888888888,
              "#fdca26"
             ],
             [
              1,
              "#f0f921"
             ]
            ],
            "type": "heatmap"
           }
          ],
          "heatmapgl": [
           {
            "colorbar": {
             "outlinewidth": 0,
             "ticks": ""
            },
            "colorscale": [
             [
              0,
              "#0d0887"
             ],
             [
              0.1111111111111111,
              "#46039f"
             ],
             [
              0.2222222222222222,
              "#7201a8"
             ],
             [
              0.3333333333333333,
              "#9c179e"
             ],
             [
              0.4444444444444444,
              "#bd3786"
             ],
             [
              0.5555555555555556,
              "#d8576b"
             ],
             [
              0.6666666666666666,
              "#ed7953"
             ],
             [
              0.7777777777777778,
              "#fb9f3a"
             ],
             [
              0.8888888888888888,
              "#fdca26"
             ],
             [
              1,
              "#f0f921"
             ]
            ],
            "type": "heatmapgl"
           }
          ],
          "histogram": [
           {
            "marker": {
             "pattern": {
              "fillmode": "overlay",
              "size": 10,
              "solidity": 0.2
             }
            },
            "type": "histogram"
           }
          ],
          "histogram2d": [
           {
            "colorbar": {
             "outlinewidth": 0,
             "ticks": ""
            },
            "colorscale": [
             [
              0,
              "#0d0887"
             ],
             [
              0.1111111111111111,
              "#46039f"
             ],
             [
              0.2222222222222222,
              "#7201a8"
             ],
             [
              0.3333333333333333,
              "#9c179e"
             ],
             [
              0.4444444444444444,
              "#bd3786"
             ],
             [
              0.5555555555555556,
              "#d8576b"
             ],
             [
              0.6666666666666666,
              "#ed7953"
             ],
             [
              0.7777777777777778,
              "#fb9f3a"
             ],
             [
              0.8888888888888888,
              "#fdca26"
             ],
             [
              1,
              "#f0f921"
             ]
            ],
            "type": "histogram2d"
           }
          ],
          "histogram2dcontour": [
           {
            "colorbar": {
             "outlinewidth": 0,
             "ticks": ""
            },
            "colorscale": [
             [
              0,
              "#0d0887"
             ],
             [
              0.1111111111111111,
              "#46039f"
             ],
             [
              0.2222222222222222,
              "#7201a8"
             ],
             [
              0.3333333333333333,
              "#9c179e"
             ],
             [
              0.4444444444444444,
              "#bd3786"
             ],
             [
              0.5555555555555556,
              "#d8576b"
             ],
             [
              0.6666666666666666,
              "#ed7953"
             ],
             [
              0.7777777777777778,
              "#fb9f3a"
             ],
             [
              0.8888888888888888,
              "#fdca26"
             ],
             [
              1,
              "#f0f921"
             ]
            ],
            "type": "histogram2dcontour"
           }
          ],
          "mesh3d": [
           {
            "colorbar": {
             "outlinewidth": 0,
             "ticks": ""
            },
            "type": "mesh3d"
           }
          ],
          "parcoords": [
           {
            "line": {
             "colorbar": {
              "outlinewidth": 0,
              "ticks": ""
             }
            },
            "type": "parcoords"
           }
          ],
          "pie": [
           {
            "automargin": true,
            "type": "pie"
           }
          ],
          "scatter": [
           {
            "fillpattern": {
             "fillmode": "overlay",
             "size": 10,
             "solidity": 0.2
            },
            "type": "scatter"
           }
          ],
          "scatter3d": [
           {
            "line": {
             "colorbar": {
              "outlinewidth": 0,
              "ticks": ""
             }
            },
            "marker": {
             "colorbar": {
              "outlinewidth": 0,
              "ticks": ""
             }
            },
            "type": "scatter3d"
           }
          ],
          "scattercarpet": [
           {
            "marker": {
             "colorbar": {
              "outlinewidth": 0,
              "ticks": ""
             }
            },
            "type": "scattercarpet"
           }
          ],
          "scattergeo": [
           {
            "marker": {
             "colorbar": {
              "outlinewidth": 0,
              "ticks": ""
             }
            },
            "type": "scattergeo"
           }
          ],
          "scattergl": [
           {
            "marker": {
             "colorbar": {
              "outlinewidth": 0,
              "ticks": ""
             }
            },
            "type": "scattergl"
           }
          ],
          "scattermapbox": [
           {
            "marker": {
             "colorbar": {
              "outlinewidth": 0,
              "ticks": ""
             }
            },
            "type": "scattermapbox"
           }
          ],
          "scatterpolar": [
           {
            "marker": {
             "colorbar": {
              "outlinewidth": 0,
              "ticks": ""
             }
            },
            "type": "scatterpolar"
           }
          ],
          "scatterpolargl": [
           {
            "marker": {
             "colorbar": {
              "outlinewidth": 0,
              "ticks": ""
             }
            },
            "type": "scatterpolargl"
           }
          ],
          "scatterternary": [
           {
            "marker": {
             "colorbar": {
              "outlinewidth": 0,
              "ticks": ""
             }
            },
            "type": "scatterternary"
           }
          ],
          "surface": [
           {
            "colorbar": {
             "outlinewidth": 0,
             "ticks": ""
            },
            "colorscale": [
             [
              0,
              "#0d0887"
             ],
             [
              0.1111111111111111,
              "#46039f"
             ],
             [
              0.2222222222222222,
              "#7201a8"
             ],
             [
              0.3333333333333333,
              "#9c179e"
             ],
             [
              0.4444444444444444,
              "#bd3786"
             ],
             [
              0.5555555555555556,
              "#d8576b"
             ],
             [
              0.6666666666666666,
              "#ed7953"
             ],
             [
              0.7777777777777778,
              "#fb9f3a"
             ],
             [
              0.8888888888888888,
              "#fdca26"
             ],
             [
              1,
              "#f0f921"
             ]
            ],
            "type": "surface"
           }
          ],
          "table": [
           {
            "cells": {
             "fill": {
              "color": "#EBF0F8"
             },
             "line": {
              "color": "white"
             }
            },
            "header": {
             "fill": {
              "color": "#C8D4E3"
             },
             "line": {
              "color": "white"
             }
            },
            "type": "table"
           }
          ]
         },
         "layout": {
          "annotationdefaults": {
           "arrowcolor": "#2a3f5f",
           "arrowhead": 0,
           "arrowwidth": 1
          },
          "autotypenumbers": "strict",
          "coloraxis": {
           "colorbar": {
            "outlinewidth": 0,
            "ticks": ""
           }
          },
          "colorscale": {
           "diverging": [
            [
             0,
             "#8e0152"
            ],
            [
             0.1,
             "#c51b7d"
            ],
            [
             0.2,
             "#de77ae"
            ],
            [
             0.3,
             "#f1b6da"
            ],
            [
             0.4,
             "#fde0ef"
            ],
            [
             0.5,
             "#f7f7f7"
            ],
            [
             0.6,
             "#e6f5d0"
            ],
            [
             0.7,
             "#b8e186"
            ],
            [
             0.8,
             "#7fbc41"
            ],
            [
             0.9,
             "#4d9221"
            ],
            [
             1,
             "#276419"
            ]
           ],
           "sequential": [
            [
             0,
             "#0d0887"
            ],
            [
             0.1111111111111111,
             "#46039f"
            ],
            [
             0.2222222222222222,
             "#7201a8"
            ],
            [
             0.3333333333333333,
             "#9c179e"
            ],
            [
             0.4444444444444444,
             "#bd3786"
            ],
            [
             0.5555555555555556,
             "#d8576b"
            ],
            [
             0.6666666666666666,
             "#ed7953"
            ],
            [
             0.7777777777777778,
             "#fb9f3a"
            ],
            [
             0.8888888888888888,
             "#fdca26"
            ],
            [
             1,
             "#f0f921"
            ]
           ],
           "sequentialminus": [
            [
             0,
             "#0d0887"
            ],
            [
             0.1111111111111111,
             "#46039f"
            ],
            [
             0.2222222222222222,
             "#7201a8"
            ],
            [
             0.3333333333333333,
             "#9c179e"
            ],
            [
             0.4444444444444444,
             "#bd3786"
            ],
            [
             0.5555555555555556,
             "#d8576b"
            ],
            [
             0.6666666666666666,
             "#ed7953"
            ],
            [
             0.7777777777777778,
             "#fb9f3a"
            ],
            [
             0.8888888888888888,
             "#fdca26"
            ],
            [
             1,
             "#f0f921"
            ]
           ]
          },
          "colorway": [
           "#636efa",
           "#EF553B",
           "#00cc96",
           "#ab63fa",
           "#FFA15A",
           "#19d3f3",
           "#FF6692",
           "#B6E880",
           "#FF97FF",
           "#FECB52"
          ],
          "font": {
           "color": "#2a3f5f"
          },
          "geo": {
           "bgcolor": "white",
           "lakecolor": "white",
           "landcolor": "#E5ECF6",
           "showlakes": true,
           "showland": true,
           "subunitcolor": "white"
          },
          "hoverlabel": {
           "align": "left"
          },
          "hovermode": "closest",
          "mapbox": {
           "style": "light"
          },
          "paper_bgcolor": "white",
          "plot_bgcolor": "#E5ECF6",
          "polar": {
           "angularaxis": {
            "gridcolor": "white",
            "linecolor": "white",
            "ticks": ""
           },
           "bgcolor": "#E5ECF6",
           "radialaxis": {
            "gridcolor": "white",
            "linecolor": "white",
            "ticks": ""
           }
          },
          "scene": {
           "xaxis": {
            "backgroundcolor": "#E5ECF6",
            "gridcolor": "white",
            "gridwidth": 2,
            "linecolor": "white",
            "showbackground": true,
            "ticks": "",
            "zerolinecolor": "white"
           },
           "yaxis": {
            "backgroundcolor": "#E5ECF6",
            "gridcolor": "white",
            "gridwidth": 2,
            "linecolor": "white",
            "showbackground": true,
            "ticks": "",
            "zerolinecolor": "white"
           },
           "zaxis": {
            "backgroundcolor": "#E5ECF6",
            "gridcolor": "white",
            "gridwidth": 2,
            "linecolor": "white",
            "showbackground": true,
            "ticks": "",
            "zerolinecolor": "white"
           }
          },
          "shapedefaults": {
           "line": {
            "color": "#2a3f5f"
           }
          },
          "ternary": {
           "aaxis": {
            "gridcolor": "white",
            "linecolor": "white",
            "ticks": ""
           },
           "baxis": {
            "gridcolor": "white",
            "linecolor": "white",
            "ticks": ""
           },
           "bgcolor": "#E5ECF6",
           "caxis": {
            "gridcolor": "white",
            "linecolor": "white",
            "ticks": ""
           }
          },
          "title": {
           "x": 0.05
          },
          "xaxis": {
           "automargin": true,
           "gridcolor": "white",
           "linecolor": "white",
           "ticks": "",
           "title": {
            "standoff": 15
           },
           "zerolinecolor": "white",
           "zerolinewidth": 2
          },
          "yaxis": {
           "automargin": true,
           "gridcolor": "white",
           "linecolor": "white",
           "ticks": "",
           "title": {
            "standoff": 15
           },
           "zerolinecolor": "white",
           "zerolinewidth": 2
          }
         }
        },
        "title": {
         "font": {
          "color": "black",
          "family": "Arial, sans-serif",
          "size": 24
         },
         "text": "지능범 범죄 유형",
         "x": 0.5,
         "xanchor": "center",
         "yanchor": "top"
        },
        "updatemenus": [
         {
          "buttons": [
           {
            "args": [
             null,
             {
              "frame": {
               "duration": 500,
               "redraw": true
              },
              "fromcurrent": true,
              "mode": "immediate",
              "transition": {
               "duration": 500,
               "easing": "linear"
              }
             }
            ],
            "label": "&#9654;",
            "method": "animate"
           },
           {
            "args": [
             [
              null
             ],
             {
              "frame": {
               "duration": 0,
               "redraw": true
              },
              "fromcurrent": true,
              "mode": "immediate",
              "transition": {
               "duration": 0,
               "easing": "linear"
              }
             }
            ],
            "label": "&#9724;",
            "method": "animate"
           }
          ],
          "direction": "left",
          "pad": {
           "r": 10,
           "t": 70
          },
          "showactive": false,
          "type": "buttons",
          "x": 0.1,
          "xanchor": "right",
          "y": 0,
          "yanchor": "top"
         }
        ],
        "xaxis": {
         "anchor": "y",
         "categoryarray": [
          "직무유기",
          "직권남용",
          "증수뢰",
          "통화",
          "문서인장",
          "유가증권인지",
          "사기",
          "횡령",
          "배임"
         ],
         "categoryorder": "array",
         "domain": [
          0,
          1
         ],
         "dtick": 1,
         "tickmode": "linear",
         "title": {
          "font": {
           "color": "black",
           "family": "Arial, sans-serif",
           "size": 20
          },
          "text": "년도"
         }
        },
        "yaxis": {
         "anchor": "x",
         "domain": [
          0,
          1
         ],
         "title": {
          "font": {
           "color": "black",
           "family": "Arial, sans-serif",
           "size": 20
          },
          "text": "발생건수"
         },
         "type": "log"
        }
       }
      }
     },
     "metadata": {},
     "output_type": "display_data"
    }
   ],
   "source": [
    "MeltItdf = pd.melt(Itdf, id_vars=['시점'], var_name=\"유형\", value_name=\"value\")\n",
    "\n",
    "fig = px.bar(MeltItdf, x='유형', y='value', color='유형', \n",
    "             barmode='group',\n",
    "             text='value', \n",
    "             labels={'시점': 'Year', 'value': 'Value', '유형': '지능범 유형'},\n",
    "             animation_frame='시점')\n",
    "\n",
    "fig.update_layout(\n",
    "    title={\n",
    "        'text': '지능범 범죄 유형',\n",
    "        'x': 0.5,\n",
    "        'xanchor': 'center',\n",
    "        'yanchor': 'top',\n",
    "        'font': {\n",
    "            'size': 24,\n",
    "            'family': 'Arial, sans-serif',\n",
    "            'color': 'black'\n",
    "        }\n",
    "    },\n",
    "    xaxis_title={\n",
    "        'text': '년도',\n",
    "        'font': {\n",
    "            'size': 20,\n",
    "            'family': 'Arial, sans-serif',\n",
    "            'color': 'black'\n",
    "        }\n",
    "    },\n",
    "    yaxis_title={\n",
    "        'text': '발생건수',\n",
    "        'font': {\n",
    "            'size': 20,\n",
    "            'family': 'Arial, sans-serif',\n",
    "            'color': 'black'\n",
    "        }\n",
    "    },\n",
    "    xaxis=dict(\n",
    "        tickmode='linear',\n",
    "        dtick=1\n",
    "    ),\n",
    "    yaxis=dict(\n",
    "        type='log'\n",
    "    )\n",
    ")\n",
    "\n",
    "fig.show()"
   ]
  },
  {
   "cell_type": "markdown",
   "metadata": {},
   "source": [
    "## 폭력범 "
   ]
  },
  {
   "cell_type": "markdown",
   "metadata": {},
   "source": [
    "### [before 폭력범 결론]\n",
    "> 1999년 기점으로 비율 및 횟수 증가 원인 분석\n",
    "1. 인구수가 많이 밀집되어 있는 곳일 수록 범죄율이 증가함\n",
    "2. 경제적 요인: IMF 경제 위기로 인해 많은 사람들이 실직하거나 경제적 어려움을 겪으면서 경제적 스트레스와 불안 증가 → 피해자와의 관계"
   ]
  },
  {
   "cell_type": "code",
   "execution_count": null,
   "metadata": {},
   "outputs": [],
   "source": []
  },
  {
   "cell_type": "markdown",
   "metadata": {},
   "source": [
    "### [after 폭력범 결론]\n",
    "> 2019~2021년 사이 급격하게 감소한 원인 분석\n",
    "1. 노상, 유흥접객업소가 가장 많고 기준 연도 사이에서 감소 추세를 보임\n",
    "2.  코로나로 인한 신체적 활동 감소"
   ]
  },
  {
   "cell_type": "code",
   "execution_count": null,
   "metadata": {},
   "outputs": [],
   "source": []
  },
  {
   "cell_type": "markdown",
   "metadata": {},
   "source": [
    "## 풍속범"
   ]
  },
  {
   "cell_type": "markdown",
   "metadata": {},
   "source": [
    "### 풍속범 시각화\n",
    " > 1999년과 2008년 부근의 도박범죄의 발생건수가 크게증가함\n",
    "1. IMF\n",
    "2. 미국의 서브프라임모기지 사태로 인한 외환위기\n",
    "3. 경제가 크게 휘청이거나 불안해질때 사람들은 크게 동요하여 도박범죄가 늘어나는것을 볼수있다,"
   ]
  },
  {
   "cell_type": "code",
   "execution_count": 13,
   "metadata": {},
   "outputs": [
    {
     "data": {
      "application/vnd.plotly.v1+json": {
       "config": {
        "plotlyServerURL": "https://plot.ly"
       },
       "data": [
        {
         "alignmentgroup": "True",
         "hovertemplate": "풍속범죄 유형=성풍속범<br>Year=%{x}<br>Value=%{text}<extra></extra>",
         "legendgroup": "성풍속범",
         "marker": {
          "color": "#636efa",
          "pattern": {
           "shape": ""
          }
         },
         "name": "성풍속범",
         "offsetgroup": "성풍속범",
         "orientation": "v",
         "showlegend": true,
         "text": [
          8366,
          7744,
          7530,
          6791,
          6820,
          6749,
          6433,
          6392,
          5921,
          5684,
          5268,
          4484,
          4359,
          4040,
          3373,
          3293,
          2437
         ],
         "textposition": "auto",
         "type": "bar",
         "x": [
          1994,
          1995,
          1996,
          1997,
          1998,
          1999,
          2000,
          2001,
          2002,
          2003,
          2004,
          2005,
          2006,
          2007,
          2008,
          2009,
          2010
         ],
         "xaxis": "x",
         "y": [
          8366,
          7744,
          7530,
          6791,
          6820,
          6749,
          6433,
          6392,
          5921,
          5684,
          5268,
          4484,
          4359,
          4040,
          3373,
          3293,
          2437
         ],
         "yaxis": "y"
        },
        {
         "alignmentgroup": "True",
         "hovertemplate": "풍속범죄 유형=도박범죄<br>Year=%{x}<br>Value=%{text}<extra></extra>",
         "legendgroup": "도박범죄",
         "marker": {
          "color": "#EF553B",
          "pattern": {
           "shape": ""
          }
         },
         "name": "도박범죄",
         "offsetgroup": "도박범죄",
         "orientation": "v",
         "showlegend": true,
         "text": [
          7239,
          7084,
          6552,
          6961,
          7710,
          9763,
          11656,
          12127,
          10684,
          7984,
          8730,
          7008,
          14681,
          9523,
          11038,
          31500,
          13236
         ],
         "textposition": "auto",
         "type": "bar",
         "x": [
          1994,
          1995,
          1996,
          1997,
          1998,
          1999,
          2000,
          2001,
          2002,
          2003,
          2004,
          2005,
          2006,
          2007,
          2008,
          2009,
          2010
         ],
         "xaxis": "x",
         "y": [
          7239,
          7084,
          6552,
          6961,
          7710,
          9763,
          11656,
          12127,
          10684,
          7984,
          8730,
          7008,
          14681,
          9523,
          11038,
          31500,
          13236
         ],
         "yaxis": "y"
        }
       ],
       "layout": {
        "barmode": "group",
        "legend": {
         "title": {
          "text": "풍속범죄 유형"
         },
         "tracegroupgap": 0
        },
        "margin": {
         "t": 60
        },
        "template": {
         "data": {
          "bar": [
           {
            "error_x": {
             "color": "#2a3f5f"
            },
            "error_y": {
             "color": "#2a3f5f"
            },
            "marker": {
             "line": {
              "color": "#E5ECF6",
              "width": 0.5
             },
             "pattern": {
              "fillmode": "overlay",
              "size": 10,
              "solidity": 0.2
             }
            },
            "type": "bar"
           }
          ],
          "barpolar": [
           {
            "marker": {
             "line": {
              "color": "#E5ECF6",
              "width": 0.5
             },
             "pattern": {
              "fillmode": "overlay",
              "size": 10,
              "solidity": 0.2
             }
            },
            "type": "barpolar"
           }
          ],
          "carpet": [
           {
            "aaxis": {
             "endlinecolor": "#2a3f5f",
             "gridcolor": "white",
             "linecolor": "white",
             "minorgridcolor": "white",
             "startlinecolor": "#2a3f5f"
            },
            "baxis": {
             "endlinecolor": "#2a3f5f",
             "gridcolor": "white",
             "linecolor": "white",
             "minorgridcolor": "white",
             "startlinecolor": "#2a3f5f"
            },
            "type": "carpet"
           }
          ],
          "choropleth": [
           {
            "colorbar": {
             "outlinewidth": 0,
             "ticks": ""
            },
            "type": "choropleth"
           }
          ],
          "contour": [
           {
            "colorbar": {
             "outlinewidth": 0,
             "ticks": ""
            },
            "colorscale": [
             [
              0,
              "#0d0887"
             ],
             [
              0.1111111111111111,
              "#46039f"
             ],
             [
              0.2222222222222222,
              "#7201a8"
             ],
             [
              0.3333333333333333,
              "#9c179e"
             ],
             [
              0.4444444444444444,
              "#bd3786"
             ],
             [
              0.5555555555555556,
              "#d8576b"
             ],
             [
              0.6666666666666666,
              "#ed7953"
             ],
             [
              0.7777777777777778,
              "#fb9f3a"
             ],
             [
              0.8888888888888888,
              "#fdca26"
             ],
             [
              1,
              "#f0f921"
             ]
            ],
            "type": "contour"
           }
          ],
          "contourcarpet": [
           {
            "colorbar": {
             "outlinewidth": 0,
             "ticks": ""
            },
            "type": "contourcarpet"
           }
          ],
          "heatmap": [
           {
            "colorbar": {
             "outlinewidth": 0,
             "ticks": ""
            },
            "colorscale": [
             [
              0,
              "#0d0887"
             ],
             [
              0.1111111111111111,
              "#46039f"
             ],
             [
              0.2222222222222222,
              "#7201a8"
             ],
             [
              0.3333333333333333,
              "#9c179e"
             ],
             [
              0.4444444444444444,
              "#bd3786"
             ],
             [
              0.5555555555555556,
              "#d8576b"
             ],
             [
              0.6666666666666666,
              "#ed7953"
             ],
             [
              0.7777777777777778,
              "#fb9f3a"
             ],
             [
              0.8888888888888888,
              "#fdca26"
             ],
             [
              1,
              "#f0f921"
             ]
            ],
            "type": "heatmap"
           }
          ],
          "heatmapgl": [
           {
            "colorbar": {
             "outlinewidth": 0,
             "ticks": ""
            },
            "colorscale": [
             [
              0,
              "#0d0887"
             ],
             [
              0.1111111111111111,
              "#46039f"
             ],
             [
              0.2222222222222222,
              "#7201a8"
             ],
             [
              0.3333333333333333,
              "#9c179e"
             ],
             [
              0.4444444444444444,
              "#bd3786"
             ],
             [
              0.5555555555555556,
              "#d8576b"
             ],
             [
              0.6666666666666666,
              "#ed7953"
             ],
             [
              0.7777777777777778,
              "#fb9f3a"
             ],
             [
              0.8888888888888888,
              "#fdca26"
             ],
             [
              1,
              "#f0f921"
             ]
            ],
            "type": "heatmapgl"
           }
          ],
          "histogram": [
           {
            "marker": {
             "pattern": {
              "fillmode": "overlay",
              "size": 10,
              "solidity": 0.2
             }
            },
            "type": "histogram"
           }
          ],
          "histogram2d": [
           {
            "colorbar": {
             "outlinewidth": 0,
             "ticks": ""
            },
            "colorscale": [
             [
              0,
              "#0d0887"
             ],
             [
              0.1111111111111111,
              "#46039f"
             ],
             [
              0.2222222222222222,
              "#7201a8"
             ],
             [
              0.3333333333333333,
              "#9c179e"
             ],
             [
              0.4444444444444444,
              "#bd3786"
             ],
             [
              0.5555555555555556,
              "#d8576b"
             ],
             [
              0.6666666666666666,
              "#ed7953"
             ],
             [
              0.7777777777777778,
              "#fb9f3a"
             ],
             [
              0.8888888888888888,
              "#fdca26"
             ],
             [
              1,
              "#f0f921"
             ]
            ],
            "type": "histogram2d"
           }
          ],
          "histogram2dcontour": [
           {
            "colorbar": {
             "outlinewidth": 0,
             "ticks": ""
            },
            "colorscale": [
             [
              0,
              "#0d0887"
             ],
             [
              0.1111111111111111,
              "#46039f"
             ],
             [
              0.2222222222222222,
              "#7201a8"
             ],
             [
              0.3333333333333333,
              "#9c179e"
             ],
             [
              0.4444444444444444,
              "#bd3786"
             ],
             [
              0.5555555555555556,
              "#d8576b"
             ],
             [
              0.6666666666666666,
              "#ed7953"
             ],
             [
              0.7777777777777778,
              "#fb9f3a"
             ],
             [
              0.8888888888888888,
              "#fdca26"
             ],
             [
              1,
              "#f0f921"
             ]
            ],
            "type": "histogram2dcontour"
           }
          ],
          "mesh3d": [
           {
            "colorbar": {
             "outlinewidth": 0,
             "ticks": ""
            },
            "type": "mesh3d"
           }
          ],
          "parcoords": [
           {
            "line": {
             "colorbar": {
              "outlinewidth": 0,
              "ticks": ""
             }
            },
            "type": "parcoords"
           }
          ],
          "pie": [
           {
            "automargin": true,
            "type": "pie"
           }
          ],
          "scatter": [
           {
            "fillpattern": {
             "fillmode": "overlay",
             "size": 10,
             "solidity": 0.2
            },
            "type": "scatter"
           }
          ],
          "scatter3d": [
           {
            "line": {
             "colorbar": {
              "outlinewidth": 0,
              "ticks": ""
             }
            },
            "marker": {
             "colorbar": {
              "outlinewidth": 0,
              "ticks": ""
             }
            },
            "type": "scatter3d"
           }
          ],
          "scattercarpet": [
           {
            "marker": {
             "colorbar": {
              "outlinewidth": 0,
              "ticks": ""
             }
            },
            "type": "scattercarpet"
           }
          ],
          "scattergeo": [
           {
            "marker": {
             "colorbar": {
              "outlinewidth": 0,
              "ticks": ""
             }
            },
            "type": "scattergeo"
           }
          ],
          "scattergl": [
           {
            "marker": {
             "colorbar": {
              "outlinewidth": 0,
              "ticks": ""
             }
            },
            "type": "scattergl"
           }
          ],
          "scattermapbox": [
           {
            "marker": {
             "colorbar": {
              "outlinewidth": 0,
              "ticks": ""
             }
            },
            "type": "scattermapbox"
           }
          ],
          "scatterpolar": [
           {
            "marker": {
             "colorbar": {
              "outlinewidth": 0,
              "ticks": ""
             }
            },
            "type": "scatterpolar"
           }
          ],
          "scatterpolargl": [
           {
            "marker": {
             "colorbar": {
              "outlinewidth": 0,
              "ticks": ""
             }
            },
            "type": "scatterpolargl"
           }
          ],
          "scatterternary": [
           {
            "marker": {
             "colorbar": {
              "outlinewidth": 0,
              "ticks": ""
             }
            },
            "type": "scatterternary"
           }
          ],
          "surface": [
           {
            "colorbar": {
             "outlinewidth": 0,
             "ticks": ""
            },
            "colorscale": [
             [
              0,
              "#0d0887"
             ],
             [
              0.1111111111111111,
              "#46039f"
             ],
             [
              0.2222222222222222,
              "#7201a8"
             ],
             [
              0.3333333333333333,
              "#9c179e"
             ],
             [
              0.4444444444444444,
              "#bd3786"
             ],
             [
              0.5555555555555556,
              "#d8576b"
             ],
             [
              0.6666666666666666,
              "#ed7953"
             ],
             [
              0.7777777777777778,
              "#fb9f3a"
             ],
             [
              0.8888888888888888,
              "#fdca26"
             ],
             [
              1,
              "#f0f921"
             ]
            ],
            "type": "surface"
           }
          ],
          "table": [
           {
            "cells": {
             "fill": {
              "color": "#EBF0F8"
             },
             "line": {
              "color": "white"
             }
            },
            "header": {
             "fill": {
              "color": "#C8D4E3"
             },
             "line": {
              "color": "white"
             }
            },
            "type": "table"
           }
          ]
         },
         "layout": {
          "annotationdefaults": {
           "arrowcolor": "#2a3f5f",
           "arrowhead": 0,
           "arrowwidth": 1
          },
          "autotypenumbers": "strict",
          "coloraxis": {
           "colorbar": {
            "outlinewidth": 0,
            "ticks": ""
           }
          },
          "colorscale": {
           "diverging": [
            [
             0,
             "#8e0152"
            ],
            [
             0.1,
             "#c51b7d"
            ],
            [
             0.2,
             "#de77ae"
            ],
            [
             0.3,
             "#f1b6da"
            ],
            [
             0.4,
             "#fde0ef"
            ],
            [
             0.5,
             "#f7f7f7"
            ],
            [
             0.6,
             "#e6f5d0"
            ],
            [
             0.7,
             "#b8e186"
            ],
            [
             0.8,
             "#7fbc41"
            ],
            [
             0.9,
             "#4d9221"
            ],
            [
             1,
             "#276419"
            ]
           ],
           "sequential": [
            [
             0,
             "#0d0887"
            ],
            [
             0.1111111111111111,
             "#46039f"
            ],
            [
             0.2222222222222222,
             "#7201a8"
            ],
            [
             0.3333333333333333,
             "#9c179e"
            ],
            [
             0.4444444444444444,
             "#bd3786"
            ],
            [
             0.5555555555555556,
             "#d8576b"
            ],
            [
             0.6666666666666666,
             "#ed7953"
            ],
            [
             0.7777777777777778,
             "#fb9f3a"
            ],
            [
             0.8888888888888888,
             "#fdca26"
            ],
            [
             1,
             "#f0f921"
            ]
           ],
           "sequentialminus": [
            [
             0,
             "#0d0887"
            ],
            [
             0.1111111111111111,
             "#46039f"
            ],
            [
             0.2222222222222222,
             "#7201a8"
            ],
            [
             0.3333333333333333,
             "#9c179e"
            ],
            [
             0.4444444444444444,
             "#bd3786"
            ],
            [
             0.5555555555555556,
             "#d8576b"
            ],
            [
             0.6666666666666666,
             "#ed7953"
            ],
            [
             0.7777777777777778,
             "#fb9f3a"
            ],
            [
             0.8888888888888888,
             "#fdca26"
            ],
            [
             1,
             "#f0f921"
            ]
           ]
          },
          "colorway": [
           "#636efa",
           "#EF553B",
           "#00cc96",
           "#ab63fa",
           "#FFA15A",
           "#19d3f3",
           "#FF6692",
           "#B6E880",
           "#FF97FF",
           "#FECB52"
          ],
          "font": {
           "color": "#2a3f5f"
          },
          "geo": {
           "bgcolor": "white",
           "lakecolor": "white",
           "landcolor": "#E5ECF6",
           "showlakes": true,
           "showland": true,
           "subunitcolor": "white"
          },
          "hoverlabel": {
           "align": "left"
          },
          "hovermode": "closest",
          "mapbox": {
           "style": "light"
          },
          "paper_bgcolor": "white",
          "plot_bgcolor": "#E5ECF6",
          "polar": {
           "angularaxis": {
            "gridcolor": "white",
            "linecolor": "white",
            "ticks": ""
           },
           "bgcolor": "#E5ECF6",
           "radialaxis": {
            "gridcolor": "white",
            "linecolor": "white",
            "ticks": ""
           }
          },
          "scene": {
           "xaxis": {
            "backgroundcolor": "#E5ECF6",
            "gridcolor": "white",
            "gridwidth": 2,
            "linecolor": "white",
            "showbackground": true,
            "ticks": "",
            "zerolinecolor": "white"
           },
           "yaxis": {
            "backgroundcolor": "#E5ECF6",
            "gridcolor": "white",
            "gridwidth": 2,
            "linecolor": "white",
            "showbackground": true,
            "ticks": "",
            "zerolinecolor": "white"
           },
           "zaxis": {
            "backgroundcolor": "#E5ECF6",
            "gridcolor": "white",
            "gridwidth": 2,
            "linecolor": "white",
            "showbackground": true,
            "ticks": "",
            "zerolinecolor": "white"
           }
          },
          "shapedefaults": {
           "line": {
            "color": "#2a3f5f"
           }
          },
          "ternary": {
           "aaxis": {
            "gridcolor": "white",
            "linecolor": "white",
            "ticks": ""
           },
           "baxis": {
            "gridcolor": "white",
            "linecolor": "white",
            "ticks": ""
           },
           "bgcolor": "#E5ECF6",
           "caxis": {
            "gridcolor": "white",
            "linecolor": "white",
            "ticks": ""
           }
          },
          "title": {
           "x": 0.05
          },
          "xaxis": {
           "automargin": true,
           "gridcolor": "white",
           "linecolor": "white",
           "ticks": "",
           "title": {
            "standoff": 15
           },
           "zerolinecolor": "white",
           "zerolinewidth": 2
          },
          "yaxis": {
           "automargin": true,
           "gridcolor": "white",
           "linecolor": "white",
           "ticks": "",
           "title": {
            "standoff": 15
           },
           "zerolinecolor": "white",
           "zerolinewidth": 2
          }
         }
        },
        "title": {
         "text": "풍속범 범죄 유형"
        },
        "xaxis": {
         "anchor": "y",
         "domain": [
          0,
          1
         ],
         "dtick": 1,
         "tick0": 2011,
         "tickmode": "linear",
         "title": {
          "text": "Year"
         }
        },
        "yaxis": {
         "anchor": "x",
         "domain": [
          0,
          1
         ],
         "title": {
          "text": "Value"
         }
        }
       }
      }
     },
     "metadata": {},
     "output_type": "display_data"
    }
   ],
   "source": [
    "meltwinddf = pd.melt(winddf2, id_vars=['시점'], var_name=\"유형\", value_name=\"value\")\n",
    "\n",
    "\n",
    "fig = px.bar(meltwinddf, x='시점', y='value', color='유형', \n",
    "             barmode='group',\n",
    "             text='value', \n",
    "             labels={'시점': 'Year', 'value': 'Value', '유형': '풍속범죄 유형'})\n",
    "\n",
    "\n",
    "fig.update_layout(\n",
    "    title='풍속범 범죄 유형', \n",
    "    xaxis_title='Year', \n",
    "    yaxis_title='Value',\n",
    "    xaxis=dict(\n",
    "        tickmode='linear',\n",
    "        tick0=2011,\n",
    "        dtick=1\n",
    "    )\n",
    ")\n",
    "\n",
    "\n",
    "fig.show()"
   ]
  },
  {
   "cell_type": "markdown",
   "metadata": {},
   "source": [
    "## 교통범"
   ]
  },
  {
   "cell_type": "markdown",
   "metadata": {},
   "source": [
    "### 교통범(16년 기점) - 16년 기점으로 크게 감소 - 교통범의 발생횟수 및 비율 감소\n",
    "1. 데이터 : 공공질서 준수 수준(운전자 교통질서, 13세 이상 인구) 2년 단위\n",
    "데이터 근거 자료(근거 자료 출처 들어가는 순서) : kosis 주제별 통계 - 사회일반 - 사회 조사 - 범죄와 안전 - 2008년 이후 - 공공질서 준수 수준(운전자 교통질서)\n",
    "데이터 자료 형식(sql에 넣을 수 있는지 여부까지) : 기존 sql에 넣었던 테이블과 동일한 형식\n",
    "연결 지을 수 있는 것 : 운전자들의 교통 질서 수준이 높아짐에 따라 교통범의 발생횟수가 줄었다"
   ]
  },
  {
   "cell_type": "code",
   "execution_count": 14,
   "metadata": {},
   "outputs": [
    {
     "data": {
      "application/vnd.plotly.v1+json": {
       "config": {
        "plotlyServerURL": "https://plot.ly"
       },
       "data": [
        {
         "alignmentgroup": "True",
         "hovertemplate": "Category=교통사고<br>Year=%{text}<br>Value=%{y}<extra></extra>",
         "legendgroup": "교통사고",
         "marker": {
          "color": "#636efa",
          "pattern": {
           "shape": ""
          }
         },
         "name": "교통사고",
         "offsetgroup": "교통사고",
         "orientation": "v",
         "showlegend": true,
         "text": [
          "2012년",
          "2013년",
          "2014년",
          "2015년",
          "2016년",
          "2017년",
          "2018년",
          "2019년",
          "2020년",
          "2021년",
          "2022년"
         ],
         "textposition": "auto",
         "type": "bar",
         "x": [
          "2012년",
          "2013년",
          "2014년",
          "2015년",
          "2016년",
          "2017년",
          "2018년",
          "2019년",
          "2020년",
          "2021년",
          "2022년"
         ],
         "xaxis": "x",
         "y": [
          297226,
          298083,
          313617,
          338212,
          324770,
          269434,
          237354,
          240802,
          225762,
          190488,
          109931
         ],
         "yaxis": "y"
        },
        {
         "alignmentgroup": "True",
         "hovertemplate": "Category=교통사고외<br>Year=%{text}<br>Value=%{y}<extra></extra>",
         "legendgroup": "교통사고외",
         "marker": {
          "color": "#EF553B",
          "pattern": {
           "shape": ""
          }
         },
         "name": "교통사고외",
         "offsetgroup": "교통사고외",
         "orientation": "v",
         "showlegend": true,
         "text": [
          "2012년",
          "2013년",
          "2014년",
          "2015년",
          "2016년",
          "2017년",
          "2018년",
          "2019년",
          "2020년",
          "2021년",
          "2022년"
         ],
         "textposition": "auto",
         "type": "bar",
         "x": [
          "2012년",
          "2013년",
          "2014년",
          "2015년",
          "2016년",
          "2017년",
          "2018년",
          "2019년",
          "2020년",
          "2021년",
          "2022년"
         ],
         "xaxis": "x",
         "y": [
          245558,
          275370,
          259876,
          258453,
          275631,
          231728,
          171017,
          136552,
          122963,
          118146,
          131098
         ],
         "yaxis": "y"
        }
       ],
       "layout": {
        "barmode": "group",
        "legend": {
         "title": {
          "text": "Category"
         },
         "tracegroupgap": 0
        },
        "margin": {
         "t": 60
        },
        "template": {
         "data": {
          "bar": [
           {
            "error_x": {
             "color": "#2a3f5f"
            },
            "error_y": {
             "color": "#2a3f5f"
            },
            "marker": {
             "line": {
              "color": "#E5ECF6",
              "width": 0.5
             },
             "pattern": {
              "fillmode": "overlay",
              "size": 10,
              "solidity": 0.2
             }
            },
            "type": "bar"
           }
          ],
          "barpolar": [
           {
            "marker": {
             "line": {
              "color": "#E5ECF6",
              "width": 0.5
             },
             "pattern": {
              "fillmode": "overlay",
              "size": 10,
              "solidity": 0.2
             }
            },
            "type": "barpolar"
           }
          ],
          "carpet": [
           {
            "aaxis": {
             "endlinecolor": "#2a3f5f",
             "gridcolor": "white",
             "linecolor": "white",
             "minorgridcolor": "white",
             "startlinecolor": "#2a3f5f"
            },
            "baxis": {
             "endlinecolor": "#2a3f5f",
             "gridcolor": "white",
             "linecolor": "white",
             "minorgridcolor": "white",
             "startlinecolor": "#2a3f5f"
            },
            "type": "carpet"
           }
          ],
          "choropleth": [
           {
            "colorbar": {
             "outlinewidth": 0,
             "ticks": ""
            },
            "type": "choropleth"
           }
          ],
          "contour": [
           {
            "colorbar": {
             "outlinewidth": 0,
             "ticks": ""
            },
            "colorscale": [
             [
              0,
              "#0d0887"
             ],
             [
              0.1111111111111111,
              "#46039f"
             ],
             [
              0.2222222222222222,
              "#7201a8"
             ],
             [
              0.3333333333333333,
              "#9c179e"
             ],
             [
              0.4444444444444444,
              "#bd3786"
             ],
             [
              0.5555555555555556,
              "#d8576b"
             ],
             [
              0.6666666666666666,
              "#ed7953"
             ],
             [
              0.7777777777777778,
              "#fb9f3a"
             ],
             [
              0.8888888888888888,
              "#fdca26"
             ],
             [
              1,
              "#f0f921"
             ]
            ],
            "type": "contour"
           }
          ],
          "contourcarpet": [
           {
            "colorbar": {
             "outlinewidth": 0,
             "ticks": ""
            },
            "type": "contourcarpet"
           }
          ],
          "heatmap": [
           {
            "colorbar": {
             "outlinewidth": 0,
             "ticks": ""
            },
            "colorscale": [
             [
              0,
              "#0d0887"
             ],
             [
              0.1111111111111111,
              "#46039f"
             ],
             [
              0.2222222222222222,
              "#7201a8"
             ],
             [
              0.3333333333333333,
              "#9c179e"
             ],
             [
              0.4444444444444444,
              "#bd3786"
             ],
             [
              0.5555555555555556,
              "#d8576b"
             ],
             [
              0.6666666666666666,
              "#ed7953"
             ],
             [
              0.7777777777777778,
              "#fb9f3a"
             ],
             [
              0.8888888888888888,
              "#fdca26"
             ],
             [
              1,
              "#f0f921"
             ]
            ],
            "type": "heatmap"
           }
          ],
          "heatmapgl": [
           {
            "colorbar": {
             "outlinewidth": 0,
             "ticks": ""
            },
            "colorscale": [
             [
              0,
              "#0d0887"
             ],
             [
              0.1111111111111111,
              "#46039f"
             ],
             [
              0.2222222222222222,
              "#7201a8"
             ],
             [
              0.3333333333333333,
              "#9c179e"
             ],
             [
              0.4444444444444444,
              "#bd3786"
             ],
             [
              0.5555555555555556,
              "#d8576b"
             ],
             [
              0.6666666666666666,
              "#ed7953"
             ],
             [
              0.7777777777777778,
              "#fb9f3a"
             ],
             [
              0.8888888888888888,
              "#fdca26"
             ],
             [
              1,
              "#f0f921"
             ]
            ],
            "type": "heatmapgl"
           }
          ],
          "histogram": [
           {
            "marker": {
             "pattern": {
              "fillmode": "overlay",
              "size": 10,
              "solidity": 0.2
             }
            },
            "type": "histogram"
           }
          ],
          "histogram2d": [
           {
            "colorbar": {
             "outlinewidth": 0,
             "ticks": ""
            },
            "colorscale": [
             [
              0,
              "#0d0887"
             ],
             [
              0.1111111111111111,
              "#46039f"
             ],
             [
              0.2222222222222222,
              "#7201a8"
             ],
             [
              0.3333333333333333,
              "#9c179e"
             ],
             [
              0.4444444444444444,
              "#bd3786"
             ],
             [
              0.5555555555555556,
              "#d8576b"
             ],
             [
              0.6666666666666666,
              "#ed7953"
             ],
             [
              0.7777777777777778,
              "#fb9f3a"
             ],
             [
              0.8888888888888888,
              "#fdca26"
             ],
             [
              1,
              "#f0f921"
             ]
            ],
            "type": "histogram2d"
           }
          ],
          "histogram2dcontour": [
           {
            "colorbar": {
             "outlinewidth": 0,
             "ticks": ""
            },
            "colorscale": [
             [
              0,
              "#0d0887"
             ],
             [
              0.1111111111111111,
              "#46039f"
             ],
             [
              0.2222222222222222,
              "#7201a8"
             ],
             [
              0.3333333333333333,
              "#9c179e"
             ],
             [
              0.4444444444444444,
              "#bd3786"
             ],
             [
              0.5555555555555556,
              "#d8576b"
             ],
             [
              0.6666666666666666,
              "#ed7953"
             ],
             [
              0.7777777777777778,
              "#fb9f3a"
             ],
             [
              0.8888888888888888,
              "#fdca26"
             ],
             [
              1,
              "#f0f921"
             ]
            ],
            "type": "histogram2dcontour"
           }
          ],
          "mesh3d": [
           {
            "colorbar": {
             "outlinewidth": 0,
             "ticks": ""
            },
            "type": "mesh3d"
           }
          ],
          "parcoords": [
           {
            "line": {
             "colorbar": {
              "outlinewidth": 0,
              "ticks": ""
             }
            },
            "type": "parcoords"
           }
          ],
          "pie": [
           {
            "automargin": true,
            "type": "pie"
           }
          ],
          "scatter": [
           {
            "fillpattern": {
             "fillmode": "overlay",
             "size": 10,
             "solidity": 0.2
            },
            "type": "scatter"
           }
          ],
          "scatter3d": [
           {
            "line": {
             "colorbar": {
              "outlinewidth": 0,
              "ticks": ""
             }
            },
            "marker": {
             "colorbar": {
              "outlinewidth": 0,
              "ticks": ""
             }
            },
            "type": "scatter3d"
           }
          ],
          "scattercarpet": [
           {
            "marker": {
             "colorbar": {
              "outlinewidth": 0,
              "ticks": ""
             }
            },
            "type": "scattercarpet"
           }
          ],
          "scattergeo": [
           {
            "marker": {
             "colorbar": {
              "outlinewidth": 0,
              "ticks": ""
             }
            },
            "type": "scattergeo"
           }
          ],
          "scattergl": [
           {
            "marker": {
             "colorbar": {
              "outlinewidth": 0,
              "ticks": ""
             }
            },
            "type": "scattergl"
           }
          ],
          "scattermapbox": [
           {
            "marker": {
             "colorbar": {
              "outlinewidth": 0,
              "ticks": ""
             }
            },
            "type": "scattermapbox"
           }
          ],
          "scatterpolar": [
           {
            "marker": {
             "colorbar": {
              "outlinewidth": 0,
              "ticks": ""
             }
            },
            "type": "scatterpolar"
           }
          ],
          "scatterpolargl": [
           {
            "marker": {
             "colorbar": {
              "outlinewidth": 0,
              "ticks": ""
             }
            },
            "type": "scatterpolargl"
           }
          ],
          "scatterternary": [
           {
            "marker": {
             "colorbar": {
              "outlinewidth": 0,
              "ticks": ""
             }
            },
            "type": "scatterternary"
           }
          ],
          "surface": [
           {
            "colorbar": {
             "outlinewidth": 0,
             "ticks": ""
            },
            "colorscale": [
             [
              0,
              "#0d0887"
             ],
             [
              0.1111111111111111,
              "#46039f"
             ],
             [
              0.2222222222222222,
              "#7201a8"
             ],
             [
              0.3333333333333333,
              "#9c179e"
             ],
             [
              0.4444444444444444,
              "#bd3786"
             ],
             [
              0.5555555555555556,
              "#d8576b"
             ],
             [
              0.6666666666666666,
              "#ed7953"
             ],
             [
              0.7777777777777778,
              "#fb9f3a"
             ],
             [
              0.8888888888888888,
              "#fdca26"
             ],
             [
              1,
              "#f0f921"
             ]
            ],
            "type": "surface"
           }
          ],
          "table": [
           {
            "cells": {
             "fill": {
              "color": "#EBF0F8"
             },
             "line": {
              "color": "white"
             }
            },
            "header": {
             "fill": {
              "color": "#C8D4E3"
             },
             "line": {
              "color": "white"
             }
            },
            "type": "table"
           }
          ]
         },
         "layout": {
          "annotationdefaults": {
           "arrowcolor": "#2a3f5f",
           "arrowhead": 0,
           "arrowwidth": 1
          },
          "autotypenumbers": "strict",
          "coloraxis": {
           "colorbar": {
            "outlinewidth": 0,
            "ticks": ""
           }
          },
          "colorscale": {
           "diverging": [
            [
             0,
             "#8e0152"
            ],
            [
             0.1,
             "#c51b7d"
            ],
            [
             0.2,
             "#de77ae"
            ],
            [
             0.3,
             "#f1b6da"
            ],
            [
             0.4,
             "#fde0ef"
            ],
            [
             0.5,
             "#f7f7f7"
            ],
            [
             0.6,
             "#e6f5d0"
            ],
            [
             0.7,
             "#b8e186"
            ],
            [
             0.8,
             "#7fbc41"
            ],
            [
             0.9,
             "#4d9221"
            ],
            [
             1,
             "#276419"
            ]
           ],
           "sequential": [
            [
             0,
             "#0d0887"
            ],
            [
             0.1111111111111111,
             "#46039f"
            ],
            [
             0.2222222222222222,
             "#7201a8"
            ],
            [
             0.3333333333333333,
             "#9c179e"
            ],
            [
             0.4444444444444444,
             "#bd3786"
            ],
            [
             0.5555555555555556,
             "#d8576b"
            ],
            [
             0.6666666666666666,
             "#ed7953"
            ],
            [
             0.7777777777777778,
             "#fb9f3a"
            ],
            [
             0.8888888888888888,
             "#fdca26"
            ],
            [
             1,
             "#f0f921"
            ]
           ],
           "sequentialminus": [
            [
             0,
             "#0d0887"
            ],
            [
             0.1111111111111111,
             "#46039f"
            ],
            [
             0.2222222222222222,
             "#7201a8"
            ],
            [
             0.3333333333333333,
             "#9c179e"
            ],
            [
             0.4444444444444444,
             "#bd3786"
            ],
            [
             0.5555555555555556,
             "#d8576b"
            ],
            [
             0.6666666666666666,
             "#ed7953"
            ],
            [
             0.7777777777777778,
             "#fb9f3a"
            ],
            [
             0.8888888888888888,
             "#fdca26"
            ],
            [
             1,
             "#f0f921"
            ]
           ]
          },
          "colorway": [
           "#636efa",
           "#EF553B",
           "#00cc96",
           "#ab63fa",
           "#FFA15A",
           "#19d3f3",
           "#FF6692",
           "#B6E880",
           "#FF97FF",
           "#FECB52"
          ],
          "font": {
           "color": "#2a3f5f"
          },
          "geo": {
           "bgcolor": "white",
           "lakecolor": "white",
           "landcolor": "#E5ECF6",
           "showlakes": true,
           "showland": true,
           "subunitcolor": "white"
          },
          "hoverlabel": {
           "align": "left"
          },
          "hovermode": "closest",
          "mapbox": {
           "style": "light"
          },
          "paper_bgcolor": "white",
          "plot_bgcolor": "#E5ECF6",
          "polar": {
           "angularaxis": {
            "gridcolor": "white",
            "linecolor": "white",
            "ticks": ""
           },
           "bgcolor": "#E5ECF6",
           "radialaxis": {
            "gridcolor": "white",
            "linecolor": "white",
            "ticks": ""
           }
          },
          "scene": {
           "xaxis": {
            "backgroundcolor": "#E5ECF6",
            "gridcolor": "white",
            "gridwidth": 2,
            "linecolor": "white",
            "showbackground": true,
            "ticks": "",
            "zerolinecolor": "white"
           },
           "yaxis": {
            "backgroundcolor": "#E5ECF6",
            "gridcolor": "white",
            "gridwidth": 2,
            "linecolor": "white",
            "showbackground": true,
            "ticks": "",
            "zerolinecolor": "white"
           },
           "zaxis": {
            "backgroundcolor": "#E5ECF6",
            "gridcolor": "white",
            "gridwidth": 2,
            "linecolor": "white",
            "showbackground": true,
            "ticks": "",
            "zerolinecolor": "white"
           }
          },
          "shapedefaults": {
           "line": {
            "color": "#2a3f5f"
           }
          },
          "ternary": {
           "aaxis": {
            "gridcolor": "white",
            "linecolor": "white",
            "ticks": ""
           },
           "baxis": {
            "gridcolor": "white",
            "linecolor": "white",
            "ticks": ""
           },
           "bgcolor": "#E5ECF6",
           "caxis": {
            "gridcolor": "white",
            "linecolor": "white",
            "ticks": ""
           }
          },
          "title": {
           "x": 0.05
          },
          "xaxis": {
           "automargin": true,
           "gridcolor": "white",
           "linecolor": "white",
           "ticks": "",
           "title": {
            "standoff": 15
           },
           "zerolinecolor": "white",
           "zerolinewidth": 2
          },
          "yaxis": {
           "automargin": true,
           "gridcolor": "white",
           "linecolor": "white",
           "ticks": "",
           "title": {
            "standoff": 15
           },
           "zerolinecolor": "white",
           "zerolinewidth": 2
          }
         }
        },
        "title": {
         "font": {
          "color": "black",
          "size": 24
         },
         "text": "년도별 교통 범죄 ",
         "x": 0.4,
         "xanchor": "center",
         "yanchor": "top"
        },
        "xaxis": {
         "anchor": "y",
         "domain": [
          0,
          1
         ],
         "title": {
          "font": {
           "color": "black",
           "family": "Arial, sans-serif",
           "size": 20
          },
          "text": "년도"
         }
        },
        "yaxis": {
         "anchor": "x",
         "domain": [
          0,
          1
         ],
         "title": {
          "font": {
           "color": "black",
           "family": "Arial, sans-serif",
           "size": 20
          },
          "text": "발생건수"
         }
        }
       }
      }
     },
     "metadata": {},
     "output_type": "display_data"
    }
   ],
   "source": [
    "melttraffic_df = pd.melt(traffic_df, id_vars=['소'], var_name=\"년도\")\n",
    "import plotly.express as px\n",
    "\n",
    "fig = px.bar(melttraffic_df, x='년도', y='value', color='소', \n",
    "             barmode='group',\n",
    "             text='년도', \n",
    "             labels={'년도': 'Year', 'value': 'Value', '소': 'Category'})\n",
    "\n",
    "fig.update_layout(\n",
    "    title={\n",
    "        'text': '년도별 교통 범죄 ',\n",
    "        'x': 0.4,\n",
    "        'xanchor': 'center',\n",
    "        'yanchor': 'top',\n",
    "        'font': {\n",
    "            'size': 24,\n",
    "            'color': 'black'\n",
    "        }\n",
    "    }, xaxis_title={\n",
    "        'text': '년도',\n",
    "        'font': {\n",
    "            'size': 20,\n",
    "            'family': 'Arial, sans-serif',\n",
    "            'color': 'black'\n",
    "        }\n",
    "    }, yaxis_title={\n",
    "        'text': '발생건수',\n",
    "        'font': {\n",
    "            'size': 20,\n",
    "            'family': 'Arial, sans-serif',\n",
    "            'color': 'black'\n",
    "        }\n",
    "    }\n",
    ")\n",
    "fig.show()\n"
   ]
  },
  {
   "cell_type": "markdown",
   "metadata": {},
   "source": [
    "## 지역별 시각화"
   ]
  },
  {
   "cell_type": "markdown",
   "metadata": {},
   "source": [
    "### 강력범"
   ]
  },
  {
   "cell_type": "code",
   "execution_count": null,
   "metadata": {},
   "outputs": [],
   "source": []
  },
  {
   "cell_type": "markdown",
   "metadata": {},
   "source": [
    "### 절도범"
   ]
  },
  {
   "cell_type": "code",
   "execution_count": null,
   "metadata": {},
   "outputs": [],
   "source": []
  },
  {
   "cell_type": "markdown",
   "metadata": {},
   "source": [
    "### 교통범"
   ]
  },
  {
   "cell_type": "code",
   "execution_count": null,
   "metadata": {},
   "outputs": [],
   "source": []
  },
  {
   "cell_type": "markdown",
   "metadata": {},
   "source": [
    "### 지능범"
   ]
  },
  {
   "cell_type": "code",
   "execution_count": null,
   "metadata": {},
   "outputs": [],
   "source": []
  },
  {
   "cell_type": "markdown",
   "metadata": {},
   "source": [
    "### 교통범"
   ]
  },
  {
   "cell_type": "code",
   "execution_count": null,
   "metadata": {},
   "outputs": [],
   "source": []
  }
 ],
 "metadata": {
  "kernelspec": {
   "display_name": "Python 3",
   "language": "python",
   "name": "python3"
  },
  "language_info": {
   "codemirror_mode": {
    "name": "ipython",
    "version": 3
   },
   "file_extension": ".py",
   "mimetype": "text/x-python",
   "name": "python",
   "nbconvert_exporter": "python",
   "pygments_lexer": "ipython3",
   "version": "3.10.11"
  }
 },
 "nbformat": 4,
 "nbformat_minor": 2
}
