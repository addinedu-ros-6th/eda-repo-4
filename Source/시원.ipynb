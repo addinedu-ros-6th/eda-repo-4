{
 "cells": [
  {
   "cell_type": "markdown",
   "metadata": {},
   "source": [
    "# 1994~2010년 기준 \n",
    "* 절도범: 비율 및 횟수 동일하게 증가(절도범 유형만 따로 1994~2010년도 범위에서 분석하기)    \n",
    "* 절도범 및 폭력범: 1999년 기점으로 비율 및 횟수 증가(1998~2000년도 범위에서 분석하기)"
   ]
  },
  {
   "cell_type": "markdown",
   "metadata": {},
   "source": [
    "### * 초기설정"
   ]
  },
  {
   "cell_type": "code",
   "execution_count": 1,
   "metadata": {},
   "outputs": [],
   "source": [
    "import mysql.connector\n",
    "\n",
    "import pandas as pd\n",
    "import numpy as np\n",
    "import folium\n",
    "import seaborn as sns\n",
    "import koreanize_matplotlib\n",
    "import plotly.express as px\n",
    "import plotly.graph_objects as go\n",
    "from plotly.subplots import make_subplots"
   ]
  },
  {
   "cell_type": "code",
   "execution_count": 2,
   "metadata": {},
   "outputs": [],
   "source": [
    "lsw = mysql.connector.connect(\n",
    "host = \"database-1.cz44qgu84nin.ap-northeast-2.rds.amazonaws.com\",\n",
    "user = \"sw\",\n",
    "password = \"1234\",\n",
    "database = \"edabase\"\n",
    ")\n",
    "\n",
    "cursor = lsw.cursor(dictionary=True ,buffered=True)\n",
    "cursor.execute(\"use edabase\")"
   ]
  },
  {
   "cell_type": "code",
   "execution_count": 3,
   "metadata": {},
   "outputs": [
    {
     "data": {
      "text/plain": [
       "[{'Tables_in_edabase': 'crime_age_after'},\n",
       " {'Tables_in_edabase': 'crime_age_before'},\n",
       " {'Tables_in_edabase': 'crime_count_after'},\n",
       " {'Tables_in_edabase': 'crime_count_before'},\n",
       " {'Tables_in_edabase': 'crime_count_before2'},\n",
       " {'Tables_in_edabase': 'crime_dosi_after'},\n",
       " {'Tables_in_edabase': 'crime_dosi_before'},\n",
       " {'Tables_in_edabase': 'crime_dotweek_after'},\n",
       " {'Tables_in_edabase': 'crime_dotweek_before'},\n",
       " {'Tables_in_edabase': 'crime_edu_before'},\n",
       " {'Tables_in_edabase': 'crime_motive_after'},\n",
       " {'Tables_in_edabase': 'crime_motive_before'},\n",
       " {'Tables_in_edabase': 'crime_place_after'},\n",
       " {'Tables_in_edabase': 'crime_place_before'},\n",
       " {'Tables_in_edabase': 'crime_time_after'},\n",
       " {'Tables_in_edabase': 'crime_time_before'}]"
      ]
     },
     "execution_count": 3,
     "metadata": {},
     "output_type": "execute_result"
    }
   ],
   "source": [
    "cursor.execute(\"show tables\")\n",
    "cursor.fetchall()"
   ]
  },
  {
   "cell_type": "markdown",
   "metadata": {},
   "source": [
    "### 1. 절도범 유형만 따로 1994~2010년도 범위에서 분석하기"
   ]
  },
  {
   "cell_type": "markdown",
   "metadata": {},
   "source": [
    "##### [ 지역 ]"
   ]
  },
  {
   "cell_type": "code",
   "execution_count": 4,
   "metadata": {},
   "outputs": [
    {
     "data": {
      "text/html": [
       "<div>\n",
       "<style scoped>\n",
       "    .dataframe tbody tr th:only-of-type {\n",
       "        vertical-align: middle;\n",
       "    }\n",
       "\n",
       "    .dataframe tbody tr th {\n",
       "        vertical-align: top;\n",
       "    }\n",
       "\n",
       "    .dataframe thead th {\n",
       "        text-align: right;\n",
       "    }\n",
       "</style>\n",
       "<table border=\"1\" class=\"dataframe\">\n",
       "  <thead>\n",
       "    <tr style=\"text-align: right;\">\n",
       "      <th></th>\n",
       "      <th>대</th>\n",
       "      <th>중</th>\n",
       "      <th>소</th>\n",
       "      <th>발생장소</th>\n",
       "      <th>1994년</th>\n",
       "      <th>1995년</th>\n",
       "      <th>1996년</th>\n",
       "      <th>1997년</th>\n",
       "      <th>1998년</th>\n",
       "      <th>1999년</th>\n",
       "      <th>...</th>\n",
       "      <th>2001년</th>\n",
       "      <th>2002년</th>\n",
       "      <th>2003년</th>\n",
       "      <th>2004년</th>\n",
       "      <th>2005년</th>\n",
       "      <th>2006년</th>\n",
       "      <th>2007년</th>\n",
       "      <th>2008년</th>\n",
       "      <th>2009년</th>\n",
       "      <th>2010년</th>\n",
       "    </tr>\n",
       "  </thead>\n",
       "  <tbody>\n",
       "    <tr>\n",
       "      <th>0</th>\n",
       "      <td>총범죄</td>\n",
       "      <td>소계</td>\n",
       "      <td>소계</td>\n",
       "      <td>서울특별시</td>\n",
       "      <td>346198</td>\n",
       "      <td>350674</td>\n",
       "      <td>347022</td>\n",
       "      <td>349602</td>\n",
       "      <td>377918</td>\n",
       "      <td>349658</td>\n",
       "      <td>...</td>\n",
       "      <td>407157</td>\n",
       "      <td>371736</td>\n",
       "      <td>378072</td>\n",
       "      <td>396355</td>\n",
       "      <td>353242</td>\n",
       "      <td>347290</td>\n",
       "      <td>356719</td>\n",
       "      <td>392626</td>\n",
       "      <td>405857</td>\n",
       "      <td>348541</td>\n",
       "    </tr>\n",
       "    <tr>\n",
       "      <th>1</th>\n",
       "      <td>총범죄</td>\n",
       "      <td>소계</td>\n",
       "      <td>소계</td>\n",
       "      <td>부산광역시</td>\n",
       "      <td>108512</td>\n",
       "      <td>113321</td>\n",
       "      <td>117861</td>\n",
       "      <td>118091</td>\n",
       "      <td>138857</td>\n",
       "      <td>134248</td>\n",
       "      <td>...</td>\n",
       "      <td>133624</td>\n",
       "      <td>121514</td>\n",
       "      <td>136483</td>\n",
       "      <td>155995</td>\n",
       "      <td>122499</td>\n",
       "      <td>126900</td>\n",
       "      <td>141593</td>\n",
       "      <td>170436</td>\n",
       "      <td>176217</td>\n",
       "      <td>130047</td>\n",
       "    </tr>\n",
       "    <tr>\n",
       "      <th>2</th>\n",
       "      <td>총범죄</td>\n",
       "      <td>소계</td>\n",
       "      <td>소계</td>\n",
       "      <td>대구광역시</td>\n",
       "      <td>69962</td>\n",
       "      <td>72023</td>\n",
       "      <td>76304</td>\n",
       "      <td>83084</td>\n",
       "      <td>97816</td>\n",
       "      <td>93489</td>\n",
       "      <td>...</td>\n",
       "      <td>102852</td>\n",
       "      <td>105298</td>\n",
       "      <td>101180</td>\n",
       "      <td>110640</td>\n",
       "      <td>90386</td>\n",
       "      <td>89404</td>\n",
       "      <td>93814</td>\n",
       "      <td>106545</td>\n",
       "      <td>97603</td>\n",
       "      <td>96342</td>\n",
       "    </tr>\n",
       "    <tr>\n",
       "      <th>3</th>\n",
       "      <td>총범죄</td>\n",
       "      <td>소계</td>\n",
       "      <td>소계</td>\n",
       "      <td>인천광역시</td>\n",
       "      <td>66975</td>\n",
       "      <td>63755</td>\n",
       "      <td>73695</td>\n",
       "      <td>84735</td>\n",
       "      <td>103836</td>\n",
       "      <td>95142</td>\n",
       "      <td>...</td>\n",
       "      <td>102654</td>\n",
       "      <td>111568</td>\n",
       "      <td>108207</td>\n",
       "      <td>104419</td>\n",
       "      <td>100871</td>\n",
       "      <td>108648</td>\n",
       "      <td>102302</td>\n",
       "      <td>108802</td>\n",
       "      <td>106071</td>\n",
       "      <td>86782</td>\n",
       "    </tr>\n",
       "    <tr>\n",
       "      <th>4</th>\n",
       "      <td>총범죄</td>\n",
       "      <td>소계</td>\n",
       "      <td>소계</td>\n",
       "      <td>광주광역시</td>\n",
       "      <td>38927</td>\n",
       "      <td>43409</td>\n",
       "      <td>49746</td>\n",
       "      <td>52208</td>\n",
       "      <td>64698</td>\n",
       "      <td>56147</td>\n",
       "      <td>...</td>\n",
       "      <td>65979</td>\n",
       "      <td>65028</td>\n",
       "      <td>67753</td>\n",
       "      <td>58808</td>\n",
       "      <td>57898</td>\n",
       "      <td>54954</td>\n",
       "      <td>58955</td>\n",
       "      <td>60902</td>\n",
       "      <td>60785</td>\n",
       "      <td>62091</td>\n",
       "    </tr>\n",
       "    <tr>\n",
       "      <th>...</th>\n",
       "      <td>...</td>\n",
       "      <td>...</td>\n",
       "      <td>...</td>\n",
       "      <td>...</td>\n",
       "      <td>...</td>\n",
       "      <td>...</td>\n",
       "      <td>...</td>\n",
       "      <td>...</td>\n",
       "      <td>...</td>\n",
       "      <td>...</td>\n",
       "      <td>...</td>\n",
       "      <td>...</td>\n",
       "      <td>...</td>\n",
       "      <td>...</td>\n",
       "      <td>...</td>\n",
       "      <td>...</td>\n",
       "      <td>...</td>\n",
       "      <td>...</td>\n",
       "      <td>...</td>\n",
       "      <td>...</td>\n",
       "      <td>...</td>\n",
       "    </tr>\n",
       "    <tr>\n",
       "      <th>10051</th>\n",
       "      <td>특별법범</td>\n",
       "      <td>기타특별법</td>\n",
       "      <td>소계</td>\n",
       "      <td>제천시</td>\n",
       "      <td>0</td>\n",
       "      <td>0</td>\n",
       "      <td>0</td>\n",
       "      <td>0</td>\n",
       "      <td>0</td>\n",
       "      <td>0</td>\n",
       "      <td>...</td>\n",
       "      <td>0</td>\n",
       "      <td>0</td>\n",
       "      <td>0</td>\n",
       "      <td>19</td>\n",
       "      <td>16</td>\n",
       "      <td>15</td>\n",
       "      <td>0</td>\n",
       "      <td>0</td>\n",
       "      <td>0</td>\n",
       "      <td>0</td>\n",
       "    </tr>\n",
       "    <tr>\n",
       "      <th>10052</th>\n",
       "      <td>특별법범</td>\n",
       "      <td>기타특별법</td>\n",
       "      <td>소계</td>\n",
       "      <td>논산시</td>\n",
       "      <td>0</td>\n",
       "      <td>0</td>\n",
       "      <td>0</td>\n",
       "      <td>0</td>\n",
       "      <td>0</td>\n",
       "      <td>0</td>\n",
       "      <td>...</td>\n",
       "      <td>0</td>\n",
       "      <td>0</td>\n",
       "      <td>0</td>\n",
       "      <td>38</td>\n",
       "      <td>54</td>\n",
       "      <td>167</td>\n",
       "      <td>0</td>\n",
       "      <td>0</td>\n",
       "      <td>0</td>\n",
       "      <td>0</td>\n",
       "    </tr>\n",
       "    <tr>\n",
       "      <th>10053</th>\n",
       "      <td>특별법범</td>\n",
       "      <td>기타특별법</td>\n",
       "      <td>소계</td>\n",
       "      <td>기타도시</td>\n",
       "      <td>773</td>\n",
       "      <td>1722</td>\n",
       "      <td>1843</td>\n",
       "      <td>5706</td>\n",
       "      <td>5060</td>\n",
       "      <td>5944</td>\n",
       "      <td>...</td>\n",
       "      <td>11199</td>\n",
       "      <td>15231</td>\n",
       "      <td>18009</td>\n",
       "      <td>1726</td>\n",
       "      <td>2209</td>\n",
       "      <td>2346</td>\n",
       "      <td>0</td>\n",
       "      <td>0</td>\n",
       "      <td>0</td>\n",
       "      <td>0</td>\n",
       "    </tr>\n",
       "    <tr>\n",
       "      <th>10054</th>\n",
       "      <td>특별법범</td>\n",
       "      <td>기타특별법</td>\n",
       "      <td>소계</td>\n",
       "      <td>도시이외</td>\n",
       "      <td>4253</td>\n",
       "      <td>4514</td>\n",
       "      <td>4815</td>\n",
       "      <td>7039</td>\n",
       "      <td>9940</td>\n",
       "      <td>12604</td>\n",
       "      <td>...</td>\n",
       "      <td>30857</td>\n",
       "      <td>43130</td>\n",
       "      <td>47955</td>\n",
       "      <td>1473</td>\n",
       "      <td>1255</td>\n",
       "      <td>2193</td>\n",
       "      <td>0</td>\n",
       "      <td>0</td>\n",
       "      <td>0</td>\n",
       "      <td>0</td>\n",
       "    </tr>\n",
       "    <tr>\n",
       "      <th>10055</th>\n",
       "      <td>특별법범</td>\n",
       "      <td>기타특별법</td>\n",
       "      <td>소계</td>\n",
       "      <td>기타</td>\n",
       "      <td>7</td>\n",
       "      <td>13</td>\n",
       "      <td>12</td>\n",
       "      <td>9</td>\n",
       "      <td>3</td>\n",
       "      <td>372</td>\n",
       "      <td>...</td>\n",
       "      <td>8782</td>\n",
       "      <td>11894</td>\n",
       "      <td>12311</td>\n",
       "      <td>0</td>\n",
       "      <td>0</td>\n",
       "      <td>0</td>\n",
       "      <td>0</td>\n",
       "      <td>0</td>\n",
       "      <td>0</td>\n",
       "      <td>0</td>\n",
       "    </tr>\n",
       "  </tbody>\n",
       "</table>\n",
       "<p>10056 rows × 21 columns</p>\n",
       "</div>"
      ],
      "text/plain": [
       "          대      중   소   발생장소   1994년   1995년   1996년   1997년   1998년   1999년  \\\n",
       "0       총범죄     소계  소계  서울특별시  346198  350674  347022  349602  377918  349658   \n",
       "1       총범죄     소계  소계  부산광역시  108512  113321  117861  118091  138857  134248   \n",
       "2       총범죄     소계  소계  대구광역시   69962   72023   76304   83084   97816   93489   \n",
       "3       총범죄     소계  소계  인천광역시   66975   63755   73695   84735  103836   95142   \n",
       "4       총범죄     소계  소계  광주광역시   38927   43409   49746   52208   64698   56147   \n",
       "...     ...    ...  ..    ...     ...     ...     ...     ...     ...     ...   \n",
       "10051  특별법범  기타특별법  소계    제천시       0       0       0       0       0       0   \n",
       "10052  특별법범  기타특별법  소계    논산시       0       0       0       0       0       0   \n",
       "10053  특별법범  기타특별법  소계   기타도시     773    1722    1843    5706    5060    5944   \n",
       "10054  특별법범  기타특별법  소계   도시이외    4253    4514    4815    7039    9940   12604   \n",
       "10055  특별법범  기타특별법  소계     기타       7      13      12       9       3     372   \n",
       "\n",
       "       ...   2001년   2002년   2003년   2004년   2005년   2006년   2007년   2008년  \\\n",
       "0      ...  407157  371736  378072  396355  353242  347290  356719  392626   \n",
       "1      ...  133624  121514  136483  155995  122499  126900  141593  170436   \n",
       "2      ...  102852  105298  101180  110640   90386   89404   93814  106545   \n",
       "3      ...  102654  111568  108207  104419  100871  108648  102302  108802   \n",
       "4      ...   65979   65028   67753   58808   57898   54954   58955   60902   \n",
       "...    ...     ...     ...     ...     ...     ...     ...     ...     ...   \n",
       "10051  ...       0       0       0      19      16      15       0       0   \n",
       "10052  ...       0       0       0      38      54     167       0       0   \n",
       "10053  ...   11199   15231   18009    1726    2209    2346       0       0   \n",
       "10054  ...   30857   43130   47955    1473    1255    2193       0       0   \n",
       "10055  ...    8782   11894   12311       0       0       0       0       0   \n",
       "\n",
       "        2009년   2010년  \n",
       "0      405857  348541  \n",
       "1      176217  130047  \n",
       "2       97603   96342  \n",
       "3      106071   86782  \n",
       "4       60785   62091  \n",
       "...       ...     ...  \n",
       "10051       0       0  \n",
       "10052       0       0  \n",
       "10053       0       0  \n",
       "10054       0       0  \n",
       "10055       0       0  \n",
       "\n",
       "[10056 rows x 21 columns]"
      ]
     },
     "execution_count": 4,
     "metadata": {},
     "output_type": "execute_result"
    }
   ],
   "source": [
    "cursor.execute(\"select * from crime_dosi_before\")\n",
    "\n",
    "dosi = cursor.fetchall()\n",
    "dosi_df_start = pd.DataFrame(dosi)\n",
    "dosi_df_start"
   ]
  },
  {
   "cell_type": "code",
   "execution_count": 5,
   "metadata": {},
   "outputs": [
    {
     "name": "stdout",
     "output_type": "stream",
     "text": [
      "<class 'pandas.core.frame.DataFrame'>\n",
      "RangeIndex: 10056 entries, 0 to 10055\n",
      "Data columns (total 21 columns):\n",
      " #   Column  Non-Null Count  Dtype \n",
      "---  ------  --------------  ----- \n",
      " 0   대       10056 non-null  object\n",
      " 1   중       10056 non-null  object\n",
      " 2   소       10056 non-null  object\n",
      " 3   발생장소    10056 non-null  object\n",
      " 4   1994년   10056 non-null  int64 \n",
      " 5   1995년   10056 non-null  int64 \n",
      " 6   1996년   10056 non-null  int64 \n",
      " 7   1997년   10056 non-null  int64 \n",
      " 8   1998년   10056 non-null  int64 \n",
      " 9   1999년   10056 non-null  int64 \n",
      " 10  2000년   10056 non-null  int64 \n",
      " 11  2001년   10056 non-null  int64 \n",
      " 12  2002년   10056 non-null  int64 \n",
      " 13  2003년   10056 non-null  int64 \n",
      " 14  2004년   10056 non-null  int64 \n",
      " 15  2005년   10056 non-null  int64 \n",
      " 16  2006년   10056 non-null  int64 \n",
      " 17  2007년   10056 non-null  int64 \n",
      " 18  2008년   10056 non-null  int64 \n",
      " 19  2009년   10056 non-null  int64 \n",
      " 20  2010년   10056 non-null  int64 \n",
      "dtypes: int64(17), object(4)\n",
      "memory usage: 1.6+ MB\n"
     ]
    }
   ],
   "source": [
    "dosi_df_start.info()"
   ]
  },
  {
   "cell_type": "code",
   "execution_count": 6,
   "metadata": {},
   "outputs": [],
   "source": [
    "dosi_df = dosi_df_start[dosi_df_start[\"중\"] == \"폭력범\"]\n",
    "dosi_df.reset_index(inplace=True, drop=True)"
   ]
  },
  {
   "cell_type": "code",
   "execution_count": 7,
   "metadata": {},
   "outputs": [
    {
     "name": "stderr",
     "output_type": "stream",
     "text": [
      "/tmp/ipykernel_23927/3166770567.py:1: SettingWithCopyWarning: \n",
      "A value is trying to be set on a copy of a slice from a DataFrame\n",
      "\n",
      "See the caveats in the documentation: https://pandas.pydata.org/pandas-docs/stable/user_guide/indexing.html#returning-a-view-versus-a-copy\n",
      "  dosi_df.drop(columns=\"대\", inplace=True)\n"
     ]
    },
    {
     "data": {
      "text/html": [
       "<div>\n",
       "<style scoped>\n",
       "    .dataframe tbody tr th:only-of-type {\n",
       "        vertical-align: middle;\n",
       "    }\n",
       "\n",
       "    .dataframe tbody tr th {\n",
       "        vertical-align: top;\n",
       "    }\n",
       "\n",
       "    .dataframe thead th {\n",
       "        text-align: right;\n",
       "    }\n",
       "</style>\n",
       "<table border=\"1\" class=\"dataframe\">\n",
       "  <thead>\n",
       "    <tr style=\"text-align: right;\">\n",
       "      <th></th>\n",
       "      <th>중</th>\n",
       "      <th>소</th>\n",
       "      <th>발생장소</th>\n",
       "      <th>1994년</th>\n",
       "      <th>1995년</th>\n",
       "      <th>1996년</th>\n",
       "      <th>1997년</th>\n",
       "      <th>1998년</th>\n",
       "      <th>1999년</th>\n",
       "      <th>2000년</th>\n",
       "      <th>2001년</th>\n",
       "      <th>2002년</th>\n",
       "      <th>2003년</th>\n",
       "      <th>2004년</th>\n",
       "      <th>2005년</th>\n",
       "      <th>2006년</th>\n",
       "      <th>2007년</th>\n",
       "      <th>2008년</th>\n",
       "      <th>2009년</th>\n",
       "      <th>2010년</th>\n",
       "    </tr>\n",
       "  </thead>\n",
       "  <tbody>\n",
       "    <tr>\n",
       "      <th>0</th>\n",
       "      <td>폭력범</td>\n",
       "      <td>소계</td>\n",
       "      <td>서울특별시</td>\n",
       "      <td>60141</td>\n",
       "      <td>57139</td>\n",
       "      <td>57239</td>\n",
       "      <td>58106</td>\n",
       "      <td>67782</td>\n",
       "      <td>84819</td>\n",
       "      <td>96424</td>\n",
       "      <td>99160</td>\n",
       "      <td>81642</td>\n",
       "      <td>81705</td>\n",
       "      <td>80561</td>\n",
       "      <td>74940</td>\n",
       "      <td>70754</td>\n",
       "      <td>74010</td>\n",
       "      <td>74293</td>\n",
       "      <td>73064</td>\n",
       "      <td>68788</td>\n",
       "    </tr>\n",
       "    <tr>\n",
       "      <th>1</th>\n",
       "      <td>폭력범</td>\n",
       "      <td>소계</td>\n",
       "      <td>부산광역시</td>\n",
       "      <td>14258</td>\n",
       "      <td>14357</td>\n",
       "      <td>14246</td>\n",
       "      <td>13451</td>\n",
       "      <td>17442</td>\n",
       "      <td>19573</td>\n",
       "      <td>21844</td>\n",
       "      <td>23815</td>\n",
       "      <td>19365</td>\n",
       "      <td>18901</td>\n",
       "      <td>20620</td>\n",
       "      <td>18944</td>\n",
       "      <td>18910</td>\n",
       "      <td>19597</td>\n",
       "      <td>21366</td>\n",
       "      <td>30290</td>\n",
       "      <td>20623</td>\n",
       "    </tr>\n",
       "    <tr>\n",
       "      <th>2</th>\n",
       "      <td>폭력범</td>\n",
       "      <td>소계</td>\n",
       "      <td>대구광역시</td>\n",
       "      <td>9541</td>\n",
       "      <td>8828</td>\n",
       "      <td>8676</td>\n",
       "      <td>10559</td>\n",
       "      <td>12436</td>\n",
       "      <td>14990</td>\n",
       "      <td>19190</td>\n",
       "      <td>19424</td>\n",
       "      <td>16932</td>\n",
       "      <td>17389</td>\n",
       "      <td>15383</td>\n",
       "      <td>15785</td>\n",
       "      <td>15472</td>\n",
       "      <td>16267</td>\n",
       "      <td>17203</td>\n",
       "      <td>16860</td>\n",
       "      <td>16255</td>\n",
       "    </tr>\n",
       "    <tr>\n",
       "      <th>3</th>\n",
       "      <td>폭력범</td>\n",
       "      <td>소계</td>\n",
       "      <td>인천광역시</td>\n",
       "      <td>10812</td>\n",
       "      <td>9857</td>\n",
       "      <td>11566</td>\n",
       "      <td>12957</td>\n",
       "      <td>13006</td>\n",
       "      <td>16872</td>\n",
       "      <td>22566</td>\n",
       "      <td>20417</td>\n",
       "      <td>17244</td>\n",
       "      <td>18797</td>\n",
       "      <td>18297</td>\n",
       "      <td>18950</td>\n",
       "      <td>19223</td>\n",
       "      <td>17570</td>\n",
       "      <td>16554</td>\n",
       "      <td>16268</td>\n",
       "      <td>14351</td>\n",
       "    </tr>\n",
       "    <tr>\n",
       "      <th>4</th>\n",
       "      <td>폭력범</td>\n",
       "      <td>소계</td>\n",
       "      <td>광주광역시</td>\n",
       "      <td>7501</td>\n",
       "      <td>7962</td>\n",
       "      <td>8870</td>\n",
       "      <td>8619</td>\n",
       "      <td>9521</td>\n",
       "      <td>11061</td>\n",
       "      <td>13383</td>\n",
       "      <td>13851</td>\n",
       "      <td>11840</td>\n",
       "      <td>11562</td>\n",
       "      <td>9586</td>\n",
       "      <td>10846</td>\n",
       "      <td>10596</td>\n",
       "      <td>10762</td>\n",
       "      <td>10959</td>\n",
       "      <td>11475</td>\n",
       "      <td>10871</td>\n",
       "    </tr>\n",
       "    <tr>\n",
       "      <th>5</th>\n",
       "      <td>폭력범</td>\n",
       "      <td>소계</td>\n",
       "      <td>대전광역시</td>\n",
       "      <td>3481</td>\n",
       "      <td>3601</td>\n",
       "      <td>3680</td>\n",
       "      <td>3701</td>\n",
       "      <td>4346</td>\n",
       "      <td>6229</td>\n",
       "      <td>6504</td>\n",
       "      <td>6611</td>\n",
       "      <td>5399</td>\n",
       "      <td>5892</td>\n",
       "      <td>5131</td>\n",
       "      <td>4643</td>\n",
       "      <td>5066</td>\n",
       "      <td>5688</td>\n",
       "      <td>6251</td>\n",
       "      <td>7397</td>\n",
       "      <td>5340</td>\n",
       "    </tr>\n",
       "    <tr>\n",
       "      <th>6</th>\n",
       "      <td>폭력범</td>\n",
       "      <td>소계</td>\n",
       "      <td>울산광역시</td>\n",
       "      <td>5620</td>\n",
       "      <td>5513</td>\n",
       "      <td>6123</td>\n",
       "      <td>5655</td>\n",
       "      <td>5777</td>\n",
       "      <td>7130</td>\n",
       "      <td>8375</td>\n",
       "      <td>7927</td>\n",
       "      <td>6381</td>\n",
       "      <td>7098</td>\n",
       "      <td>5658</td>\n",
       "      <td>6299</td>\n",
       "      <td>6463</td>\n",
       "      <td>7229</td>\n",
       "      <td>7311</td>\n",
       "      <td>7246</td>\n",
       "      <td>7120</td>\n",
       "    </tr>\n",
       "    <tr>\n",
       "      <th>7</th>\n",
       "      <td>폭력범</td>\n",
       "      <td>소계</td>\n",
       "      <td>부천시</td>\n",
       "      <td>2805</td>\n",
       "      <td>2439</td>\n",
       "      <td>2771</td>\n",
       "      <td>2893</td>\n",
       "      <td>2881</td>\n",
       "      <td>4178</td>\n",
       "      <td>4972</td>\n",
       "      <td>4917</td>\n",
       "      <td>4564</td>\n",
       "      <td>4868</td>\n",
       "      <td>4755</td>\n",
       "      <td>6472</td>\n",
       "      <td>6505</td>\n",
       "      <td>6778</td>\n",
       "      <td>7117</td>\n",
       "      <td>7039</td>\n",
       "      <td>6812</td>\n",
       "    </tr>\n",
       "    <tr>\n",
       "      <th>8</th>\n",
       "      <td>폭력범</td>\n",
       "      <td>소계</td>\n",
       "      <td>수원시</td>\n",
       "      <td>3212</td>\n",
       "      <td>3003</td>\n",
       "      <td>3314</td>\n",
       "      <td>3534</td>\n",
       "      <td>4065</td>\n",
       "      <td>5047</td>\n",
       "      <td>5619</td>\n",
       "      <td>5645</td>\n",
       "      <td>5638</td>\n",
       "      <td>6569</td>\n",
       "      <td>6414</td>\n",
       "      <td>6298</td>\n",
       "      <td>6295</td>\n",
       "      <td>6770</td>\n",
       "      <td>7070</td>\n",
       "      <td>7165</td>\n",
       "      <td>7098</td>\n",
       "    </tr>\n",
       "    <tr>\n",
       "      <th>9</th>\n",
       "      <td>폭력범</td>\n",
       "      <td>소계</td>\n",
       "      <td>성남시</td>\n",
       "      <td>3054</td>\n",
       "      <td>2956</td>\n",
       "      <td>3375</td>\n",
       "      <td>3609</td>\n",
       "      <td>4184</td>\n",
       "      <td>5465</td>\n",
       "      <td>5916</td>\n",
       "      <td>5804</td>\n",
       "      <td>5155</td>\n",
       "      <td>5893</td>\n",
       "      <td>4925</td>\n",
       "      <td>5228</td>\n",
       "      <td>5636</td>\n",
       "      <td>6412</td>\n",
       "      <td>6288</td>\n",
       "      <td>6528</td>\n",
       "      <td>5955</td>\n",
       "    </tr>\n",
       "    <tr>\n",
       "      <th>10</th>\n",
       "      <td>폭력범</td>\n",
       "      <td>소계</td>\n",
       "      <td>전주시</td>\n",
       "      <td>2177</td>\n",
       "      <td>1953</td>\n",
       "      <td>2069</td>\n",
       "      <td>2101</td>\n",
       "      <td>2365</td>\n",
       "      <td>2590</td>\n",
       "      <td>2911</td>\n",
       "      <td>3190</td>\n",
       "      <td>2580</td>\n",
       "      <td>2406</td>\n",
       "      <td>2313</td>\n",
       "      <td>2652</td>\n",
       "      <td>2773</td>\n",
       "      <td>2716</td>\n",
       "      <td>2825</td>\n",
       "      <td>3227</td>\n",
       "      <td>3056</td>\n",
       "    </tr>\n",
       "    <tr>\n",
       "      <th>11</th>\n",
       "      <td>폭력범</td>\n",
       "      <td>소계</td>\n",
       "      <td>안양시</td>\n",
       "      <td>2313</td>\n",
       "      <td>2122</td>\n",
       "      <td>2168</td>\n",
       "      <td>2702</td>\n",
       "      <td>2668</td>\n",
       "      <td>3060</td>\n",
       "      <td>3470</td>\n",
       "      <td>3758</td>\n",
       "      <td>3192</td>\n",
       "      <td>2962</td>\n",
       "      <td>3536</td>\n",
       "      <td>3396</td>\n",
       "      <td>3487</td>\n",
       "      <td>3620</td>\n",
       "      <td>3556</td>\n",
       "      <td>3592</td>\n",
       "      <td>3457</td>\n",
       "    </tr>\n",
       "    <tr>\n",
       "      <th>12</th>\n",
       "      <td>폭력범</td>\n",
       "      <td>소계</td>\n",
       "      <td>청주시</td>\n",
       "      <td>2158</td>\n",
       "      <td>2336</td>\n",
       "      <td>2518</td>\n",
       "      <td>2379</td>\n",
       "      <td>2266</td>\n",
       "      <td>3018</td>\n",
       "      <td>4373</td>\n",
       "      <td>4784</td>\n",
       "      <td>3796</td>\n",
       "      <td>4018</td>\n",
       "      <td>2941</td>\n",
       "      <td>3140</td>\n",
       "      <td>4092</td>\n",
       "      <td>4584</td>\n",
       "      <td>4411</td>\n",
       "      <td>3375</td>\n",
       "      <td>4050</td>\n",
       "    </tr>\n",
       "    <tr>\n",
       "      <th>13</th>\n",
       "      <td>폭력범</td>\n",
       "      <td>소계</td>\n",
       "      <td>마산시</td>\n",
       "      <td>2719</td>\n",
       "      <td>3239</td>\n",
       "      <td>3341</td>\n",
       "      <td>3384</td>\n",
       "      <td>3458</td>\n",
       "      <td>3890</td>\n",
       "      <td>4520</td>\n",
       "      <td>4492</td>\n",
       "      <td>3331</td>\n",
       "      <td>2916</td>\n",
       "      <td>2273</td>\n",
       "      <td>2409</td>\n",
       "      <td>2559</td>\n",
       "      <td>2470</td>\n",
       "      <td>2885</td>\n",
       "      <td>2627</td>\n",
       "      <td>2598</td>\n",
       "    </tr>\n",
       "    <tr>\n",
       "      <th>14</th>\n",
       "      <td>폭력범</td>\n",
       "      <td>소계</td>\n",
       "      <td>창원시</td>\n",
       "      <td>1688</td>\n",
       "      <td>1605</td>\n",
       "      <td>1546</td>\n",
       "      <td>1640</td>\n",
       "      <td>1628</td>\n",
       "      <td>2386</td>\n",
       "      <td>3049</td>\n",
       "      <td>3442</td>\n",
       "      <td>2770</td>\n",
       "      <td>3013</td>\n",
       "      <td>2557</td>\n",
       "      <td>2635</td>\n",
       "      <td>2322</td>\n",
       "      <td>2605</td>\n",
       "      <td>2925</td>\n",
       "      <td>2746</td>\n",
       "      <td>2974</td>\n",
       "    </tr>\n",
       "    <tr>\n",
       "      <th>15</th>\n",
       "      <td>폭력범</td>\n",
       "      <td>소계</td>\n",
       "      <td>광명시</td>\n",
       "      <td>947</td>\n",
       "      <td>997</td>\n",
       "      <td>1237</td>\n",
       "      <td>1378</td>\n",
       "      <td>1639</td>\n",
       "      <td>1650</td>\n",
       "      <td>1833</td>\n",
       "      <td>1885</td>\n",
       "      <td>1807</td>\n",
       "      <td>1850</td>\n",
       "      <td>2068</td>\n",
       "      <td>2019</td>\n",
       "      <td>2002</td>\n",
       "      <td>2133</td>\n",
       "      <td>2097</td>\n",
       "      <td>2495</td>\n",
       "      <td>2166</td>\n",
       "    </tr>\n",
       "    <tr>\n",
       "      <th>16</th>\n",
       "      <td>폭력범</td>\n",
       "      <td>소계</td>\n",
       "      <td>포항시</td>\n",
       "      <td>1881</td>\n",
       "      <td>1880</td>\n",
       "      <td>2070</td>\n",
       "      <td>2081</td>\n",
       "      <td>2512</td>\n",
       "      <td>3393</td>\n",
       "      <td>3872</td>\n",
       "      <td>3944</td>\n",
       "      <td>3062</td>\n",
       "      <td>3074</td>\n",
       "      <td>3396</td>\n",
       "      <td>3166</td>\n",
       "      <td>2850</td>\n",
       "      <td>2799</td>\n",
       "      <td>2991</td>\n",
       "      <td>2658</td>\n",
       "      <td>2511</td>\n",
       "    </tr>\n",
       "    <tr>\n",
       "      <th>17</th>\n",
       "      <td>폭력범</td>\n",
       "      <td>소계</td>\n",
       "      <td>안산시</td>\n",
       "      <td>1441</td>\n",
       "      <td>1458</td>\n",
       "      <td>1861</td>\n",
       "      <td>2056</td>\n",
       "      <td>2315</td>\n",
       "      <td>2861</td>\n",
       "      <td>2695</td>\n",
       "      <td>3051</td>\n",
       "      <td>3032</td>\n",
       "      <td>3501</td>\n",
       "      <td>3588</td>\n",
       "      <td>3750</td>\n",
       "      <td>3701</td>\n",
       "      <td>4390</td>\n",
       "      <td>4622</td>\n",
       "      <td>4483</td>\n",
       "      <td>4805</td>\n",
       "    </tr>\n",
       "    <tr>\n",
       "      <th>18</th>\n",
       "      <td>폭력범</td>\n",
       "      <td>소계</td>\n",
       "      <td>진주시</td>\n",
       "      <td>1566</td>\n",
       "      <td>1544</td>\n",
       "      <td>1543</td>\n",
       "      <td>1622</td>\n",
       "      <td>1683</td>\n",
       "      <td>2171</td>\n",
       "      <td>2770</td>\n",
       "      <td>2408</td>\n",
       "      <td>1532</td>\n",
       "      <td>1790</td>\n",
       "      <td>1760</td>\n",
       "      <td>1561</td>\n",
       "      <td>1662</td>\n",
       "      <td>1853</td>\n",
       "      <td>1742</td>\n",
       "      <td>2040</td>\n",
       "      <td>1748</td>\n",
       "    </tr>\n",
       "    <tr>\n",
       "      <th>19</th>\n",
       "      <td>폭력범</td>\n",
       "      <td>소계</td>\n",
       "      <td>고양시</td>\n",
       "      <td>976</td>\n",
       "      <td>1338</td>\n",
       "      <td>1675</td>\n",
       "      <td>1860</td>\n",
       "      <td>2366</td>\n",
       "      <td>2693</td>\n",
       "      <td>3709</td>\n",
       "      <td>4158</td>\n",
       "      <td>3846</td>\n",
       "      <td>4162</td>\n",
       "      <td>4114</td>\n",
       "      <td>4872</td>\n",
       "      <td>4592</td>\n",
       "      <td>5102</td>\n",
       "      <td>5423</td>\n",
       "      <td>5170</td>\n",
       "      <td>4908</td>\n",
       "    </tr>\n",
       "    <tr>\n",
       "      <th>20</th>\n",
       "      <td>폭력범</td>\n",
       "      <td>소계</td>\n",
       "      <td>제주시</td>\n",
       "      <td>2645</td>\n",
       "      <td>3180</td>\n",
       "      <td>3277</td>\n",
       "      <td>2880</td>\n",
       "      <td>2790</td>\n",
       "      <td>3534</td>\n",
       "      <td>3684</td>\n",
       "      <td>3711</td>\n",
       "      <td>3716</td>\n",
       "      <td>3542</td>\n",
       "      <td>5317</td>\n",
       "      <td>4933</td>\n",
       "      <td>4671</td>\n",
       "      <td>4386</td>\n",
       "      <td>5190</td>\n",
       "      <td>5015</td>\n",
       "      <td>4801</td>\n",
       "    </tr>\n",
       "    <tr>\n",
       "      <th>21</th>\n",
       "      <td>폭력범</td>\n",
       "      <td>소계</td>\n",
       "      <td>목포시</td>\n",
       "      <td>1539</td>\n",
       "      <td>1502</td>\n",
       "      <td>1425</td>\n",
       "      <td>1777</td>\n",
       "      <td>2135</td>\n",
       "      <td>2212</td>\n",
       "      <td>2437</td>\n",
       "      <td>2308</td>\n",
       "      <td>2238</td>\n",
       "      <td>2537</td>\n",
       "      <td>2515</td>\n",
       "      <td>2627</td>\n",
       "      <td>2536</td>\n",
       "      <td>2283</td>\n",
       "      <td>2637</td>\n",
       "      <td>2336</td>\n",
       "      <td>2348</td>\n",
       "    </tr>\n",
       "    <tr>\n",
       "      <th>22</th>\n",
       "      <td>폭력범</td>\n",
       "      <td>소계</td>\n",
       "      <td>의정부시</td>\n",
       "      <td>1473</td>\n",
       "      <td>1629</td>\n",
       "      <td>1675</td>\n",
       "      <td>1661</td>\n",
       "      <td>1603</td>\n",
       "      <td>1861</td>\n",
       "      <td>2600</td>\n",
       "      <td>2784</td>\n",
       "      <td>2882</td>\n",
       "      <td>2811</td>\n",
       "      <td>2768</td>\n",
       "      <td>2770</td>\n",
       "      <td>3290</td>\n",
       "      <td>3570</td>\n",
       "      <td>3819</td>\n",
       "      <td>3647</td>\n",
       "      <td>3334</td>\n",
       "    </tr>\n",
       "    <tr>\n",
       "      <th>23</th>\n",
       "      <td>폭력범</td>\n",
       "      <td>소계</td>\n",
       "      <td>익산시</td>\n",
       "      <td>0</td>\n",
       "      <td>0</td>\n",
       "      <td>0</td>\n",
       "      <td>893</td>\n",
       "      <td>960</td>\n",
       "      <td>1165</td>\n",
       "      <td>1739</td>\n",
       "      <td>1731</td>\n",
       "      <td>1309</td>\n",
       "      <td>1473</td>\n",
       "      <td>1384</td>\n",
       "      <td>1377</td>\n",
       "      <td>1400</td>\n",
       "      <td>1487</td>\n",
       "      <td>1602</td>\n",
       "      <td>1746</td>\n",
       "      <td>1576</td>\n",
       "    </tr>\n",
       "    <tr>\n",
       "      <th>24</th>\n",
       "      <td>폭력범</td>\n",
       "      <td>소계</td>\n",
       "      <td>이리시</td>\n",
       "      <td>960</td>\n",
       "      <td>854</td>\n",
       "      <td>853</td>\n",
       "      <td>0</td>\n",
       "      <td>0</td>\n",
       "      <td>0</td>\n",
       "      <td>0</td>\n",
       "      <td>0</td>\n",
       "      <td>0</td>\n",
       "      <td>0</td>\n",
       "      <td>0</td>\n",
       "      <td>0</td>\n",
       "      <td>0</td>\n",
       "      <td>0</td>\n",
       "      <td>0</td>\n",
       "      <td>0</td>\n",
       "      <td>0</td>\n",
       "    </tr>\n",
       "    <tr>\n",
       "      <th>25</th>\n",
       "      <td>폭력범</td>\n",
       "      <td>소계</td>\n",
       "      <td>군산시</td>\n",
       "      <td>1111</td>\n",
       "      <td>1366</td>\n",
       "      <td>1396</td>\n",
       "      <td>1338</td>\n",
       "      <td>1485</td>\n",
       "      <td>1861</td>\n",
       "      <td>2032</td>\n",
       "      <td>1981</td>\n",
       "      <td>1470</td>\n",
       "      <td>1431</td>\n",
       "      <td>1390</td>\n",
       "      <td>1414</td>\n",
       "      <td>1450</td>\n",
       "      <td>1396</td>\n",
       "      <td>1235</td>\n",
       "      <td>1438</td>\n",
       "      <td>1252</td>\n",
       "    </tr>\n",
       "    <tr>\n",
       "      <th>26</th>\n",
       "      <td>폭력범</td>\n",
       "      <td>소계</td>\n",
       "      <td>구미시</td>\n",
       "      <td>1535</td>\n",
       "      <td>1386</td>\n",
       "      <td>1383</td>\n",
       "      <td>1234</td>\n",
       "      <td>1344</td>\n",
       "      <td>2650</td>\n",
       "      <td>3194</td>\n",
       "      <td>2600</td>\n",
       "      <td>2053</td>\n",
       "      <td>2281</td>\n",
       "      <td>2528</td>\n",
       "      <td>2335</td>\n",
       "      <td>2138</td>\n",
       "      <td>2171</td>\n",
       "      <td>2084</td>\n",
       "      <td>2149</td>\n",
       "      <td>2128</td>\n",
       "    </tr>\n",
       "    <tr>\n",
       "      <th>27</th>\n",
       "      <td>폭력범</td>\n",
       "      <td>소계</td>\n",
       "      <td>천안시</td>\n",
       "      <td>747</td>\n",
       "      <td>984</td>\n",
       "      <td>872</td>\n",
       "      <td>974</td>\n",
       "      <td>978</td>\n",
       "      <td>1318</td>\n",
       "      <td>1917</td>\n",
       "      <td>1831</td>\n",
       "      <td>1306</td>\n",
       "      <td>1489</td>\n",
       "      <td>1710</td>\n",
       "      <td>1720</td>\n",
       "      <td>2184</td>\n",
       "      <td>2425</td>\n",
       "      <td>2520</td>\n",
       "      <td>2911</td>\n",
       "      <td>2240</td>\n",
       "    </tr>\n",
       "    <tr>\n",
       "      <th>28</th>\n",
       "      <td>폭력범</td>\n",
       "      <td>소계</td>\n",
       "      <td>여수시</td>\n",
       "      <td>1353</td>\n",
       "      <td>1393</td>\n",
       "      <td>1540</td>\n",
       "      <td>1474</td>\n",
       "      <td>1716</td>\n",
       "      <td>2123</td>\n",
       "      <td>2313</td>\n",
       "      <td>2154</td>\n",
       "      <td>1925</td>\n",
       "      <td>2473</td>\n",
       "      <td>2363</td>\n",
       "      <td>2503</td>\n",
       "      <td>2269</td>\n",
       "      <td>2213</td>\n",
       "      <td>2021</td>\n",
       "      <td>1936</td>\n",
       "      <td>1899</td>\n",
       "    </tr>\n",
       "    <tr>\n",
       "      <th>29</th>\n",
       "      <td>폭력범</td>\n",
       "      <td>소계</td>\n",
       "      <td>춘천시</td>\n",
       "      <td>943</td>\n",
       "      <td>1064</td>\n",
       "      <td>1014</td>\n",
       "      <td>992</td>\n",
       "      <td>1005</td>\n",
       "      <td>1451</td>\n",
       "      <td>2164</td>\n",
       "      <td>2088</td>\n",
       "      <td>1175</td>\n",
       "      <td>1050</td>\n",
       "      <td>966</td>\n",
       "      <td>868</td>\n",
       "      <td>1108</td>\n",
       "      <td>1469</td>\n",
       "      <td>1610</td>\n",
       "      <td>1649</td>\n",
       "      <td>2169</td>\n",
       "    </tr>\n",
       "    <tr>\n",
       "      <th>30</th>\n",
       "      <td>폭력범</td>\n",
       "      <td>소계</td>\n",
       "      <td>원주시</td>\n",
       "      <td>620</td>\n",
       "      <td>585</td>\n",
       "      <td>916</td>\n",
       "      <td>1065</td>\n",
       "      <td>1091</td>\n",
       "      <td>1518</td>\n",
       "      <td>1843</td>\n",
       "      <td>1845</td>\n",
       "      <td>1742</td>\n",
       "      <td>1529</td>\n",
       "      <td>1384</td>\n",
       "      <td>1379</td>\n",
       "      <td>1930</td>\n",
       "      <td>2277</td>\n",
       "      <td>2513</td>\n",
       "      <td>2661</td>\n",
       "      <td>3118</td>\n",
       "    </tr>\n",
       "    <tr>\n",
       "      <th>31</th>\n",
       "      <td>폭력범</td>\n",
       "      <td>소계</td>\n",
       "      <td>평택시</td>\n",
       "      <td>0</td>\n",
       "      <td>0</td>\n",
       "      <td>0</td>\n",
       "      <td>5842</td>\n",
       "      <td>3013</td>\n",
       "      <td>1928</td>\n",
       "      <td>1932</td>\n",
       "      <td>2010</td>\n",
       "      <td>1737</td>\n",
       "      <td>2115</td>\n",
       "      <td>1980</td>\n",
       "      <td>2275</td>\n",
       "      <td>2066</td>\n",
       "      <td>2321</td>\n",
       "      <td>2427</td>\n",
       "      <td>2788</td>\n",
       "      <td>2595</td>\n",
       "    </tr>\n",
       "    <tr>\n",
       "      <th>32</th>\n",
       "      <td>폭력범</td>\n",
       "      <td>소계</td>\n",
       "      <td>경주시</td>\n",
       "      <td>0</td>\n",
       "      <td>0</td>\n",
       "      <td>0</td>\n",
       "      <td>4642</td>\n",
       "      <td>2096</td>\n",
       "      <td>1456</td>\n",
       "      <td>1124</td>\n",
       "      <td>1175</td>\n",
       "      <td>1092</td>\n",
       "      <td>1115</td>\n",
       "      <td>1185</td>\n",
       "      <td>1198</td>\n",
       "      <td>1127</td>\n",
       "      <td>1333</td>\n",
       "      <td>1455</td>\n",
       "      <td>1613</td>\n",
       "      <td>1430</td>\n",
       "    </tr>\n",
       "    <tr>\n",
       "      <th>33</th>\n",
       "      <td>폭력범</td>\n",
       "      <td>소계</td>\n",
       "      <td>김해시</td>\n",
       "      <td>0</td>\n",
       "      <td>0</td>\n",
       "      <td>0</td>\n",
       "      <td>1109</td>\n",
       "      <td>1356</td>\n",
       "      <td>1872</td>\n",
       "      <td>2462</td>\n",
       "      <td>2074</td>\n",
       "      <td>1942</td>\n",
       "      <td>2264</td>\n",
       "      <td>2094</td>\n",
       "      <td>2448</td>\n",
       "      <td>2444</td>\n",
       "      <td>2433</td>\n",
       "      <td>2487</td>\n",
       "      <td>2717</td>\n",
       "      <td>3097</td>\n",
       "    </tr>\n",
       "    <tr>\n",
       "      <th>34</th>\n",
       "      <td>폭력범</td>\n",
       "      <td>소계</td>\n",
       "      <td>순천시</td>\n",
       "      <td>0</td>\n",
       "      <td>0</td>\n",
       "      <td>0</td>\n",
       "      <td>828</td>\n",
       "      <td>1269</td>\n",
       "      <td>1508</td>\n",
       "      <td>1626</td>\n",
       "      <td>1813</td>\n",
       "      <td>1682</td>\n",
       "      <td>2253</td>\n",
       "      <td>2110</td>\n",
       "      <td>2013</td>\n",
       "      <td>2114</td>\n",
       "      <td>1729</td>\n",
       "      <td>1819</td>\n",
       "      <td>1751</td>\n",
       "      <td>1620</td>\n",
       "    </tr>\n",
       "    <tr>\n",
       "      <th>35</th>\n",
       "      <td>폭력범</td>\n",
       "      <td>소계</td>\n",
       "      <td>군포시</td>\n",
       "      <td>0</td>\n",
       "      <td>0</td>\n",
       "      <td>0</td>\n",
       "      <td>45</td>\n",
       "      <td>230</td>\n",
       "      <td>897</td>\n",
       "      <td>1578</td>\n",
       "      <td>1652</td>\n",
       "      <td>1420</td>\n",
       "      <td>1486</td>\n",
       "      <td>1383</td>\n",
       "      <td>1207</td>\n",
       "      <td>1149</td>\n",
       "      <td>1167</td>\n",
       "      <td>1420</td>\n",
       "      <td>1226</td>\n",
       "      <td>1297</td>\n",
       "    </tr>\n",
       "    <tr>\n",
       "      <th>36</th>\n",
       "      <td>폭력범</td>\n",
       "      <td>소계</td>\n",
       "      <td>남양주시</td>\n",
       "      <td>0</td>\n",
       "      <td>0</td>\n",
       "      <td>0</td>\n",
       "      <td>1197</td>\n",
       "      <td>1663</td>\n",
       "      <td>2211</td>\n",
       "      <td>2130</td>\n",
       "      <td>2017</td>\n",
       "      <td>1445</td>\n",
       "      <td>1584</td>\n",
       "      <td>1828</td>\n",
       "      <td>1742</td>\n",
       "      <td>1630</td>\n",
       "      <td>1947</td>\n",
       "      <td>2154</td>\n",
       "      <td>2041</td>\n",
       "      <td>2256</td>\n",
       "    </tr>\n",
       "    <tr>\n",
       "      <th>37</th>\n",
       "      <td>폭력범</td>\n",
       "      <td>소계</td>\n",
       "      <td>강릉시</td>\n",
       "      <td>0</td>\n",
       "      <td>0</td>\n",
       "      <td>0</td>\n",
       "      <td>436</td>\n",
       "      <td>888</td>\n",
       "      <td>2022</td>\n",
       "      <td>2851</td>\n",
       "      <td>2544</td>\n",
       "      <td>1884</td>\n",
       "      <td>2099</td>\n",
       "      <td>2003</td>\n",
       "      <td>1915</td>\n",
       "      <td>1734</td>\n",
       "      <td>1790</td>\n",
       "      <td>1731</td>\n",
       "      <td>2416</td>\n",
       "      <td>2157</td>\n",
       "    </tr>\n",
       "    <tr>\n",
       "      <th>38</th>\n",
       "      <td>폭력범</td>\n",
       "      <td>소계</td>\n",
       "      <td>충주시</td>\n",
       "      <td>0</td>\n",
       "      <td>0</td>\n",
       "      <td>0</td>\n",
       "      <td>15</td>\n",
       "      <td>53</td>\n",
       "      <td>854</td>\n",
       "      <td>1202</td>\n",
       "      <td>1069</td>\n",
       "      <td>621</td>\n",
       "      <td>793</td>\n",
       "      <td>659</td>\n",
       "      <td>613</td>\n",
       "      <td>703</td>\n",
       "      <td>930</td>\n",
       "      <td>1194</td>\n",
       "      <td>1106</td>\n",
       "      <td>1112</td>\n",
       "    </tr>\n",
       "    <tr>\n",
       "      <th>39</th>\n",
       "      <td>폭력범</td>\n",
       "      <td>소계</td>\n",
       "      <td>안동시</td>\n",
       "      <td>0</td>\n",
       "      <td>0</td>\n",
       "      <td>0</td>\n",
       "      <td>405</td>\n",
       "      <td>656</td>\n",
       "      <td>1248</td>\n",
       "      <td>914</td>\n",
       "      <td>980</td>\n",
       "      <td>908</td>\n",
       "      <td>982</td>\n",
       "      <td>1258</td>\n",
       "      <td>1144</td>\n",
       "      <td>1189</td>\n",
       "      <td>1122</td>\n",
       "      <td>1271</td>\n",
       "      <td>1311</td>\n",
       "      <td>1062</td>\n",
       "    </tr>\n",
       "    <tr>\n",
       "      <th>40</th>\n",
       "      <td>폭력범</td>\n",
       "      <td>소계</td>\n",
       "      <td>경산시</td>\n",
       "      <td>0</td>\n",
       "      <td>0</td>\n",
       "      <td>0</td>\n",
       "      <td>22</td>\n",
       "      <td>72</td>\n",
       "      <td>800</td>\n",
       "      <td>1099</td>\n",
       "      <td>1138</td>\n",
       "      <td>926</td>\n",
       "      <td>930</td>\n",
       "      <td>945</td>\n",
       "      <td>1078</td>\n",
       "      <td>1048</td>\n",
       "      <td>1393</td>\n",
       "      <td>1603</td>\n",
       "      <td>1585</td>\n",
       "      <td>1420</td>\n",
       "    </tr>\n",
       "    <tr>\n",
       "      <th>41</th>\n",
       "      <td>폭력범</td>\n",
       "      <td>소계</td>\n",
       "      <td>아산시</td>\n",
       "      <td>0</td>\n",
       "      <td>0</td>\n",
       "      <td>0</td>\n",
       "      <td>502</td>\n",
       "      <td>621</td>\n",
       "      <td>683</td>\n",
       "      <td>930</td>\n",
       "      <td>1083</td>\n",
       "      <td>823</td>\n",
       "      <td>965</td>\n",
       "      <td>826</td>\n",
       "      <td>720</td>\n",
       "      <td>862</td>\n",
       "      <td>847</td>\n",
       "      <td>765</td>\n",
       "      <td>710</td>\n",
       "      <td>778</td>\n",
       "    </tr>\n",
       "    <tr>\n",
       "      <th>42</th>\n",
       "      <td>폭력범</td>\n",
       "      <td>소계</td>\n",
       "      <td>거제시</td>\n",
       "      <td>0</td>\n",
       "      <td>0</td>\n",
       "      <td>0</td>\n",
       "      <td>690</td>\n",
       "      <td>710</td>\n",
       "      <td>757</td>\n",
       "      <td>947</td>\n",
       "      <td>1038</td>\n",
       "      <td>680</td>\n",
       "      <td>750</td>\n",
       "      <td>848</td>\n",
       "      <td>1037</td>\n",
       "      <td>1001</td>\n",
       "      <td>1087</td>\n",
       "      <td>1124</td>\n",
       "      <td>1036</td>\n",
       "      <td>884</td>\n",
       "    </tr>\n",
       "    <tr>\n",
       "      <th>43</th>\n",
       "      <td>폭력범</td>\n",
       "      <td>소계</td>\n",
       "      <td>김천시</td>\n",
       "      <td>0</td>\n",
       "      <td>0</td>\n",
       "      <td>0</td>\n",
       "      <td>333</td>\n",
       "      <td>406</td>\n",
       "      <td>477</td>\n",
       "      <td>713</td>\n",
       "      <td>792</td>\n",
       "      <td>678</td>\n",
       "      <td>698</td>\n",
       "      <td>646</td>\n",
       "      <td>641</td>\n",
       "      <td>610</td>\n",
       "      <td>607</td>\n",
       "      <td>560</td>\n",
       "      <td>598</td>\n",
       "      <td>548</td>\n",
       "    </tr>\n",
       "    <tr>\n",
       "      <th>44</th>\n",
       "      <td>폭력범</td>\n",
       "      <td>소계</td>\n",
       "      <td>정읍시</td>\n",
       "      <td>0</td>\n",
       "      <td>0</td>\n",
       "      <td>0</td>\n",
       "      <td>192</td>\n",
       "      <td>275</td>\n",
       "      <td>315</td>\n",
       "      <td>382</td>\n",
       "      <td>428</td>\n",
       "      <td>358</td>\n",
       "      <td>406</td>\n",
       "      <td>457</td>\n",
       "      <td>439</td>\n",
       "      <td>513</td>\n",
       "      <td>554</td>\n",
       "      <td>537</td>\n",
       "      <td>591</td>\n",
       "      <td>549</td>\n",
       "    </tr>\n",
       "    <tr>\n",
       "      <th>45</th>\n",
       "      <td>폭력범</td>\n",
       "      <td>소계</td>\n",
       "      <td>용인시</td>\n",
       "      <td>0</td>\n",
       "      <td>0</td>\n",
       "      <td>0</td>\n",
       "      <td>0</td>\n",
       "      <td>0</td>\n",
       "      <td>0</td>\n",
       "      <td>0</td>\n",
       "      <td>0</td>\n",
       "      <td>0</td>\n",
       "      <td>0</td>\n",
       "      <td>1603</td>\n",
       "      <td>2014</td>\n",
       "      <td>1879</td>\n",
       "      <td>2274</td>\n",
       "      <td>2418</td>\n",
       "      <td>2575</td>\n",
       "      <td>2577</td>\n",
       "    </tr>\n",
       "    <tr>\n",
       "      <th>46</th>\n",
       "      <td>폭력범</td>\n",
       "      <td>소계</td>\n",
       "      <td>시흥시</td>\n",
       "      <td>0</td>\n",
       "      <td>0</td>\n",
       "      <td>0</td>\n",
       "      <td>0</td>\n",
       "      <td>0</td>\n",
       "      <td>0</td>\n",
       "      <td>0</td>\n",
       "      <td>0</td>\n",
       "      <td>0</td>\n",
       "      <td>0</td>\n",
       "      <td>2411</td>\n",
       "      <td>2668</td>\n",
       "      <td>2393</td>\n",
       "      <td>2669</td>\n",
       "      <td>2667</td>\n",
       "      <td>2796</td>\n",
       "      <td>2656</td>\n",
       "    </tr>\n",
       "    <tr>\n",
       "      <th>47</th>\n",
       "      <td>폭력범</td>\n",
       "      <td>소계</td>\n",
       "      <td>파주시</td>\n",
       "      <td>0</td>\n",
       "      <td>0</td>\n",
       "      <td>0</td>\n",
       "      <td>0</td>\n",
       "      <td>0</td>\n",
       "      <td>0</td>\n",
       "      <td>0</td>\n",
       "      <td>0</td>\n",
       "      <td>0</td>\n",
       "      <td>0</td>\n",
       "      <td>927</td>\n",
       "      <td>1279</td>\n",
       "      <td>1265</td>\n",
       "      <td>1442</td>\n",
       "      <td>1514</td>\n",
       "      <td>1772</td>\n",
       "      <td>1821</td>\n",
       "    </tr>\n",
       "    <tr>\n",
       "      <th>48</th>\n",
       "      <td>폭력범</td>\n",
       "      <td>소계</td>\n",
       "      <td>양산시</td>\n",
       "      <td>0</td>\n",
       "      <td>0</td>\n",
       "      <td>0</td>\n",
       "      <td>0</td>\n",
       "      <td>0</td>\n",
       "      <td>0</td>\n",
       "      <td>0</td>\n",
       "      <td>0</td>\n",
       "      <td>0</td>\n",
       "      <td>0</td>\n",
       "      <td>920</td>\n",
       "      <td>824</td>\n",
       "      <td>1058</td>\n",
       "      <td>1176</td>\n",
       "      <td>1202</td>\n",
       "      <td>1237</td>\n",
       "      <td>1470</td>\n",
       "    </tr>\n",
       "    <tr>\n",
       "      <th>49</th>\n",
       "      <td>폭력범</td>\n",
       "      <td>소계</td>\n",
       "      <td>이천시</td>\n",
       "      <td>0</td>\n",
       "      <td>0</td>\n",
       "      <td>0</td>\n",
       "      <td>0</td>\n",
       "      <td>0</td>\n",
       "      <td>0</td>\n",
       "      <td>0</td>\n",
       "      <td>0</td>\n",
       "      <td>0</td>\n",
       "      <td>0</td>\n",
       "      <td>822</td>\n",
       "      <td>873</td>\n",
       "      <td>921</td>\n",
       "      <td>911</td>\n",
       "      <td>1047</td>\n",
       "      <td>1127</td>\n",
       "      <td>1055</td>\n",
       "    </tr>\n",
       "    <tr>\n",
       "      <th>50</th>\n",
       "      <td>폭력범</td>\n",
       "      <td>소계</td>\n",
       "      <td>구리시</td>\n",
       "      <td>0</td>\n",
       "      <td>0</td>\n",
       "      <td>0</td>\n",
       "      <td>0</td>\n",
       "      <td>0</td>\n",
       "      <td>0</td>\n",
       "      <td>0</td>\n",
       "      <td>0</td>\n",
       "      <td>0</td>\n",
       "      <td>0</td>\n",
       "      <td>1535</td>\n",
       "      <td>1675</td>\n",
       "      <td>1439</td>\n",
       "      <td>1714</td>\n",
       "      <td>1831</td>\n",
       "      <td>1688</td>\n",
       "      <td>1576</td>\n",
       "    </tr>\n",
       "    <tr>\n",
       "      <th>51</th>\n",
       "      <td>폭력범</td>\n",
       "      <td>소계</td>\n",
       "      <td>서산시</td>\n",
       "      <td>0</td>\n",
       "      <td>0</td>\n",
       "      <td>0</td>\n",
       "      <td>0</td>\n",
       "      <td>0</td>\n",
       "      <td>0</td>\n",
       "      <td>0</td>\n",
       "      <td>0</td>\n",
       "      <td>0</td>\n",
       "      <td>0</td>\n",
       "      <td>435</td>\n",
       "      <td>406</td>\n",
       "      <td>383</td>\n",
       "      <td>497</td>\n",
       "      <td>592</td>\n",
       "      <td>548</td>\n",
       "      <td>640</td>\n",
       "    </tr>\n",
       "    <tr>\n",
       "      <th>52</th>\n",
       "      <td>폭력범</td>\n",
       "      <td>소계</td>\n",
       "      <td>제천시</td>\n",
       "      <td>0</td>\n",
       "      <td>0</td>\n",
       "      <td>0</td>\n",
       "      <td>0</td>\n",
       "      <td>0</td>\n",
       "      <td>0</td>\n",
       "      <td>0</td>\n",
       "      <td>0</td>\n",
       "      <td>0</td>\n",
       "      <td>0</td>\n",
       "      <td>618</td>\n",
       "      <td>667</td>\n",
       "      <td>713</td>\n",
       "      <td>952</td>\n",
       "      <td>866</td>\n",
       "      <td>765</td>\n",
       "      <td>726</td>\n",
       "    </tr>\n",
       "    <tr>\n",
       "      <th>53</th>\n",
       "      <td>폭력범</td>\n",
       "      <td>소계</td>\n",
       "      <td>논산시</td>\n",
       "      <td>0</td>\n",
       "      <td>0</td>\n",
       "      <td>0</td>\n",
       "      <td>0</td>\n",
       "      <td>0</td>\n",
       "      <td>0</td>\n",
       "      <td>0</td>\n",
       "      <td>0</td>\n",
       "      <td>0</td>\n",
       "      <td>0</td>\n",
       "      <td>484</td>\n",
       "      <td>567</td>\n",
       "      <td>522</td>\n",
       "      <td>486</td>\n",
       "      <td>531</td>\n",
       "      <td>447</td>\n",
       "      <td>372</td>\n",
       "    </tr>\n",
       "    <tr>\n",
       "      <th>54</th>\n",
       "      <td>폭력범</td>\n",
       "      <td>소계</td>\n",
       "      <td>기타도시</td>\n",
       "      <td>15287</td>\n",
       "      <td>16360</td>\n",
       "      <td>19718</td>\n",
       "      <td>12219</td>\n",
       "      <td>16386</td>\n",
       "      <td>19933</td>\n",
       "      <td>20045</td>\n",
       "      <td>20403</td>\n",
       "      <td>18300</td>\n",
       "      <td>19581</td>\n",
       "      <td>18802</td>\n",
       "      <td>19234</td>\n",
       "      <td>18590</td>\n",
       "      <td>19648</td>\n",
       "      <td>21168</td>\n",
       "      <td>22267</td>\n",
       "      <td>21044</td>\n",
       "    </tr>\n",
       "    <tr>\n",
       "      <th>55</th>\n",
       "      <td>폭력범</td>\n",
       "      <td>소계</td>\n",
       "      <td>도시이외</td>\n",
       "      <td>26484</td>\n",
       "      <td>22048</td>\n",
       "      <td>20880</td>\n",
       "      <td>13616</td>\n",
       "      <td>17258</td>\n",
       "      <td>21557</td>\n",
       "      <td>23275</td>\n",
       "      <td>21670</td>\n",
       "      <td>17989</td>\n",
       "      <td>18421</td>\n",
       "      <td>17484</td>\n",
       "      <td>16755</td>\n",
       "      <td>16680</td>\n",
       "      <td>17095</td>\n",
       "      <td>18005</td>\n",
       "      <td>17803</td>\n",
       "      <td>17244</td>\n",
       "    </tr>\n",
       "    <tr>\n",
       "      <th>56</th>\n",
       "      <td>폭력범</td>\n",
       "      <td>소계</td>\n",
       "      <td>기타</td>\n",
       "      <td>59</td>\n",
       "      <td>12</td>\n",
       "      <td>54</td>\n",
       "      <td>7</td>\n",
       "      <td>10</td>\n",
       "      <td>987</td>\n",
       "      <td>8503</td>\n",
       "      <td>10443</td>\n",
       "      <td>8521</td>\n",
       "      <td>9469</td>\n",
       "      <td>0</td>\n",
       "      <td>0</td>\n",
       "      <td>0</td>\n",
       "      <td>0</td>\n",
       "      <td>0</td>\n",
       "      <td>0</td>\n",
       "      <td>0</td>\n",
       "    </tr>\n",
       "  </tbody>\n",
       "</table>\n",
       "</div>"
      ],
      "text/plain": [
       "      중   소   발생장소  1994년  1995년  1996년  1997년  1998년  1999년  2000년  2001년  \\\n",
       "0   폭력범  소계  서울특별시  60141  57139  57239  58106  67782  84819  96424  99160   \n",
       "1   폭력범  소계  부산광역시  14258  14357  14246  13451  17442  19573  21844  23815   \n",
       "2   폭력범  소계  대구광역시   9541   8828   8676  10559  12436  14990  19190  19424   \n",
       "3   폭력범  소계  인천광역시  10812   9857  11566  12957  13006  16872  22566  20417   \n",
       "4   폭력범  소계  광주광역시   7501   7962   8870   8619   9521  11061  13383  13851   \n",
       "5   폭력범  소계  대전광역시   3481   3601   3680   3701   4346   6229   6504   6611   \n",
       "6   폭력범  소계  울산광역시   5620   5513   6123   5655   5777   7130   8375   7927   \n",
       "7   폭력범  소계    부천시   2805   2439   2771   2893   2881   4178   4972   4917   \n",
       "8   폭력범  소계    수원시   3212   3003   3314   3534   4065   5047   5619   5645   \n",
       "9   폭력범  소계    성남시   3054   2956   3375   3609   4184   5465   5916   5804   \n",
       "10  폭력범  소계    전주시   2177   1953   2069   2101   2365   2590   2911   3190   \n",
       "11  폭력범  소계    안양시   2313   2122   2168   2702   2668   3060   3470   3758   \n",
       "12  폭력범  소계    청주시   2158   2336   2518   2379   2266   3018   4373   4784   \n",
       "13  폭력범  소계    마산시   2719   3239   3341   3384   3458   3890   4520   4492   \n",
       "14  폭력범  소계    창원시   1688   1605   1546   1640   1628   2386   3049   3442   \n",
       "15  폭력범  소계    광명시    947    997   1237   1378   1639   1650   1833   1885   \n",
       "16  폭력범  소계    포항시   1881   1880   2070   2081   2512   3393   3872   3944   \n",
       "17  폭력범  소계    안산시   1441   1458   1861   2056   2315   2861   2695   3051   \n",
       "18  폭력범  소계    진주시   1566   1544   1543   1622   1683   2171   2770   2408   \n",
       "19  폭력범  소계    고양시    976   1338   1675   1860   2366   2693   3709   4158   \n",
       "20  폭력범  소계    제주시   2645   3180   3277   2880   2790   3534   3684   3711   \n",
       "21  폭력범  소계    목포시   1539   1502   1425   1777   2135   2212   2437   2308   \n",
       "22  폭력범  소계   의정부시   1473   1629   1675   1661   1603   1861   2600   2784   \n",
       "23  폭력범  소계    익산시      0      0      0    893    960   1165   1739   1731   \n",
       "24  폭력범  소계    이리시    960    854    853      0      0      0      0      0   \n",
       "25  폭력범  소계    군산시   1111   1366   1396   1338   1485   1861   2032   1981   \n",
       "26  폭력범  소계    구미시   1535   1386   1383   1234   1344   2650   3194   2600   \n",
       "27  폭력범  소계    천안시    747    984    872    974    978   1318   1917   1831   \n",
       "28  폭력범  소계    여수시   1353   1393   1540   1474   1716   2123   2313   2154   \n",
       "29  폭력범  소계    춘천시    943   1064   1014    992   1005   1451   2164   2088   \n",
       "30  폭력범  소계    원주시    620    585    916   1065   1091   1518   1843   1845   \n",
       "31  폭력범  소계    평택시      0      0      0   5842   3013   1928   1932   2010   \n",
       "32  폭력범  소계    경주시      0      0      0   4642   2096   1456   1124   1175   \n",
       "33  폭력범  소계    김해시      0      0      0   1109   1356   1872   2462   2074   \n",
       "34  폭력범  소계    순천시      0      0      0    828   1269   1508   1626   1813   \n",
       "35  폭력범  소계    군포시      0      0      0     45    230    897   1578   1652   \n",
       "36  폭력범  소계   남양주시      0      0      0   1197   1663   2211   2130   2017   \n",
       "37  폭력범  소계    강릉시      0      0      0    436    888   2022   2851   2544   \n",
       "38  폭력범  소계    충주시      0      0      0     15     53    854   1202   1069   \n",
       "39  폭력범  소계    안동시      0      0      0    405    656   1248    914    980   \n",
       "40  폭력범  소계    경산시      0      0      0     22     72    800   1099   1138   \n",
       "41  폭력범  소계    아산시      0      0      0    502    621    683    930   1083   \n",
       "42  폭력범  소계    거제시      0      0      0    690    710    757    947   1038   \n",
       "43  폭력범  소계    김천시      0      0      0    333    406    477    713    792   \n",
       "44  폭력범  소계    정읍시      0      0      0    192    275    315    382    428   \n",
       "45  폭력범  소계    용인시      0      0      0      0      0      0      0      0   \n",
       "46  폭력범  소계    시흥시      0      0      0      0      0      0      0      0   \n",
       "47  폭력범  소계    파주시      0      0      0      0      0      0      0      0   \n",
       "48  폭력범  소계    양산시      0      0      0      0      0      0      0      0   \n",
       "49  폭력범  소계    이천시      0      0      0      0      0      0      0      0   \n",
       "50  폭력범  소계    구리시      0      0      0      0      0      0      0      0   \n",
       "51  폭력범  소계    서산시      0      0      0      0      0      0      0      0   \n",
       "52  폭력범  소계    제천시      0      0      0      0      0      0      0      0   \n",
       "53  폭력범  소계    논산시      0      0      0      0      0      0      0      0   \n",
       "54  폭력범  소계   기타도시  15287  16360  19718  12219  16386  19933  20045  20403   \n",
       "55  폭력범  소계   도시이외  26484  22048  20880  13616  17258  21557  23275  21670   \n",
       "56  폭력범  소계     기타     59     12     54      7     10    987   8503  10443   \n",
       "\n",
       "    2002년  2003년  2004년  2005년  2006년  2007년  2008년  2009년  2010년  \n",
       "0   81642  81705  80561  74940  70754  74010  74293  73064  68788  \n",
       "1   19365  18901  20620  18944  18910  19597  21366  30290  20623  \n",
       "2   16932  17389  15383  15785  15472  16267  17203  16860  16255  \n",
       "3   17244  18797  18297  18950  19223  17570  16554  16268  14351  \n",
       "4   11840  11562   9586  10846  10596  10762  10959  11475  10871  \n",
       "5    5399   5892   5131   4643   5066   5688   6251   7397   5340  \n",
       "6    6381   7098   5658   6299   6463   7229   7311   7246   7120  \n",
       "7    4564   4868   4755   6472   6505   6778   7117   7039   6812  \n",
       "8    5638   6569   6414   6298   6295   6770   7070   7165   7098  \n",
       "9    5155   5893   4925   5228   5636   6412   6288   6528   5955  \n",
       "10   2580   2406   2313   2652   2773   2716   2825   3227   3056  \n",
       "11   3192   2962   3536   3396   3487   3620   3556   3592   3457  \n",
       "12   3796   4018   2941   3140   4092   4584   4411   3375   4050  \n",
       "13   3331   2916   2273   2409   2559   2470   2885   2627   2598  \n",
       "14   2770   3013   2557   2635   2322   2605   2925   2746   2974  \n",
       "15   1807   1850   2068   2019   2002   2133   2097   2495   2166  \n",
       "16   3062   3074   3396   3166   2850   2799   2991   2658   2511  \n",
       "17   3032   3501   3588   3750   3701   4390   4622   4483   4805  \n",
       "18   1532   1790   1760   1561   1662   1853   1742   2040   1748  \n",
       "19   3846   4162   4114   4872   4592   5102   5423   5170   4908  \n",
       "20   3716   3542   5317   4933   4671   4386   5190   5015   4801  \n",
       "21   2238   2537   2515   2627   2536   2283   2637   2336   2348  \n",
       "22   2882   2811   2768   2770   3290   3570   3819   3647   3334  \n",
       "23   1309   1473   1384   1377   1400   1487   1602   1746   1576  \n",
       "24      0      0      0      0      0      0      0      0      0  \n",
       "25   1470   1431   1390   1414   1450   1396   1235   1438   1252  \n",
       "26   2053   2281   2528   2335   2138   2171   2084   2149   2128  \n",
       "27   1306   1489   1710   1720   2184   2425   2520   2911   2240  \n",
       "28   1925   2473   2363   2503   2269   2213   2021   1936   1899  \n",
       "29   1175   1050    966    868   1108   1469   1610   1649   2169  \n",
       "30   1742   1529   1384   1379   1930   2277   2513   2661   3118  \n",
       "31   1737   2115   1980   2275   2066   2321   2427   2788   2595  \n",
       "32   1092   1115   1185   1198   1127   1333   1455   1613   1430  \n",
       "33   1942   2264   2094   2448   2444   2433   2487   2717   3097  \n",
       "34   1682   2253   2110   2013   2114   1729   1819   1751   1620  \n",
       "35   1420   1486   1383   1207   1149   1167   1420   1226   1297  \n",
       "36   1445   1584   1828   1742   1630   1947   2154   2041   2256  \n",
       "37   1884   2099   2003   1915   1734   1790   1731   2416   2157  \n",
       "38    621    793    659    613    703    930   1194   1106   1112  \n",
       "39    908    982   1258   1144   1189   1122   1271   1311   1062  \n",
       "40    926    930    945   1078   1048   1393   1603   1585   1420  \n",
       "41    823    965    826    720    862    847    765    710    778  \n",
       "42    680    750    848   1037   1001   1087   1124   1036    884  \n",
       "43    678    698    646    641    610    607    560    598    548  \n",
       "44    358    406    457    439    513    554    537    591    549  \n",
       "45      0      0   1603   2014   1879   2274   2418   2575   2577  \n",
       "46      0      0   2411   2668   2393   2669   2667   2796   2656  \n",
       "47      0      0    927   1279   1265   1442   1514   1772   1821  \n",
       "48      0      0    920    824   1058   1176   1202   1237   1470  \n",
       "49      0      0    822    873    921    911   1047   1127   1055  \n",
       "50      0      0   1535   1675   1439   1714   1831   1688   1576  \n",
       "51      0      0    435    406    383    497    592    548    640  \n",
       "52      0      0    618    667    713    952    866    765    726  \n",
       "53      0      0    484    567    522    486    531    447    372  \n",
       "54  18300  19581  18802  19234  18590  19648  21168  22267  21044  \n",
       "55  17989  18421  17484  16755  16680  17095  18005  17803  17244  \n",
       "56   8521   9469      0      0      0      0      0      0      0  "
      ]
     },
     "execution_count": 7,
     "metadata": {},
     "output_type": "execute_result"
    }
   ],
   "source": [
    "dosi_df.drop(columns=\"대\", inplace=True)\n",
    "dosi_df"
   ]
  },
  {
   "cell_type": "code",
   "execution_count": 8,
   "metadata": {},
   "outputs": [
    {
     "data": {
      "text/html": [
       "<div>\n",
       "<style scoped>\n",
       "    .dataframe tbody tr th:only-of-type {\n",
       "        vertical-align: middle;\n",
       "    }\n",
       "\n",
       "    .dataframe tbody tr th {\n",
       "        vertical-align: top;\n",
       "    }\n",
       "\n",
       "    .dataframe thead th {\n",
       "        text-align: right;\n",
       "    }\n",
       "</style>\n",
       "<table border=\"1\" class=\"dataframe\">\n",
       "  <thead>\n",
       "    <tr style=\"text-align: right;\">\n",
       "      <th></th>\n",
       "      <th>중</th>\n",
       "      <th>소</th>\n",
       "      <th>발생장소</th>\n",
       "      <th>1994년</th>\n",
       "      <th>1995년</th>\n",
       "      <th>1996년</th>\n",
       "      <th>1997년</th>\n",
       "      <th>1998년</th>\n",
       "      <th>1999년</th>\n",
       "      <th>2000년</th>\n",
       "      <th>2001년</th>\n",
       "      <th>2002년</th>\n",
       "      <th>2003년</th>\n",
       "      <th>2004년</th>\n",
       "      <th>2005년</th>\n",
       "      <th>2006년</th>\n",
       "      <th>2007년</th>\n",
       "      <th>2008년</th>\n",
       "      <th>2009년</th>\n",
       "      <th>2010년</th>\n",
       "    </tr>\n",
       "  </thead>\n",
       "  <tbody>\n",
       "    <tr>\n",
       "      <th>0</th>\n",
       "      <td>폭력범</td>\n",
       "      <td>소계</td>\n",
       "      <td>서울특별시</td>\n",
       "      <td>60141</td>\n",
       "      <td>57139</td>\n",
       "      <td>57239</td>\n",
       "      <td>58106</td>\n",
       "      <td>67782</td>\n",
       "      <td>84819</td>\n",
       "      <td>96424</td>\n",
       "      <td>99160</td>\n",
       "      <td>81642</td>\n",
       "      <td>81705</td>\n",
       "      <td>80561</td>\n",
       "      <td>74940</td>\n",
       "      <td>70754</td>\n",
       "      <td>74010</td>\n",
       "      <td>74293</td>\n",
       "      <td>73064</td>\n",
       "      <td>68788</td>\n",
       "    </tr>\n",
       "    <tr>\n",
       "      <th>1</th>\n",
       "      <td>폭력범</td>\n",
       "      <td>소계</td>\n",
       "      <td>부산광역시</td>\n",
       "      <td>14258</td>\n",
       "      <td>14357</td>\n",
       "      <td>14246</td>\n",
       "      <td>13451</td>\n",
       "      <td>17442</td>\n",
       "      <td>19573</td>\n",
       "      <td>21844</td>\n",
       "      <td>23815</td>\n",
       "      <td>19365</td>\n",
       "      <td>18901</td>\n",
       "      <td>20620</td>\n",
       "      <td>18944</td>\n",
       "      <td>18910</td>\n",
       "      <td>19597</td>\n",
       "      <td>21366</td>\n",
       "      <td>30290</td>\n",
       "      <td>20623</td>\n",
       "    </tr>\n",
       "    <tr>\n",
       "      <th>2</th>\n",
       "      <td>폭력범</td>\n",
       "      <td>소계</td>\n",
       "      <td>대구광역시</td>\n",
       "      <td>9541</td>\n",
       "      <td>8828</td>\n",
       "      <td>8676</td>\n",
       "      <td>10559</td>\n",
       "      <td>12436</td>\n",
       "      <td>14990</td>\n",
       "      <td>19190</td>\n",
       "      <td>19424</td>\n",
       "      <td>16932</td>\n",
       "      <td>17389</td>\n",
       "      <td>15383</td>\n",
       "      <td>15785</td>\n",
       "      <td>15472</td>\n",
       "      <td>16267</td>\n",
       "      <td>17203</td>\n",
       "      <td>16860</td>\n",
       "      <td>16255</td>\n",
       "    </tr>\n",
       "    <tr>\n",
       "      <th>3</th>\n",
       "      <td>폭력범</td>\n",
       "      <td>소계</td>\n",
       "      <td>인천광역시</td>\n",
       "      <td>10812</td>\n",
       "      <td>9857</td>\n",
       "      <td>11566</td>\n",
       "      <td>12957</td>\n",
       "      <td>13006</td>\n",
       "      <td>16872</td>\n",
       "      <td>22566</td>\n",
       "      <td>20417</td>\n",
       "      <td>17244</td>\n",
       "      <td>18797</td>\n",
       "      <td>18297</td>\n",
       "      <td>18950</td>\n",
       "      <td>19223</td>\n",
       "      <td>17570</td>\n",
       "      <td>16554</td>\n",
       "      <td>16268</td>\n",
       "      <td>14351</td>\n",
       "    </tr>\n",
       "    <tr>\n",
       "      <th>4</th>\n",
       "      <td>폭력범</td>\n",
       "      <td>소계</td>\n",
       "      <td>광주광역시</td>\n",
       "      <td>7501</td>\n",
       "      <td>7962</td>\n",
       "      <td>8870</td>\n",
       "      <td>8619</td>\n",
       "      <td>9521</td>\n",
       "      <td>11061</td>\n",
       "      <td>13383</td>\n",
       "      <td>13851</td>\n",
       "      <td>11840</td>\n",
       "      <td>11562</td>\n",
       "      <td>9586</td>\n",
       "      <td>10846</td>\n",
       "      <td>10596</td>\n",
       "      <td>10762</td>\n",
       "      <td>10959</td>\n",
       "      <td>11475</td>\n",
       "      <td>10871</td>\n",
       "    </tr>\n",
       "    <tr>\n",
       "      <th>5</th>\n",
       "      <td>폭력범</td>\n",
       "      <td>소계</td>\n",
       "      <td>대전광역시</td>\n",
       "      <td>3481</td>\n",
       "      <td>3601</td>\n",
       "      <td>3680</td>\n",
       "      <td>3701</td>\n",
       "      <td>4346</td>\n",
       "      <td>6229</td>\n",
       "      <td>6504</td>\n",
       "      <td>6611</td>\n",
       "      <td>5399</td>\n",
       "      <td>5892</td>\n",
       "      <td>5131</td>\n",
       "      <td>4643</td>\n",
       "      <td>5066</td>\n",
       "      <td>5688</td>\n",
       "      <td>6251</td>\n",
       "      <td>7397</td>\n",
       "      <td>5340</td>\n",
       "    </tr>\n",
       "    <tr>\n",
       "      <th>6</th>\n",
       "      <td>폭력범</td>\n",
       "      <td>소계</td>\n",
       "      <td>울산광역시</td>\n",
       "      <td>5620</td>\n",
       "      <td>5513</td>\n",
       "      <td>6123</td>\n",
       "      <td>5655</td>\n",
       "      <td>5777</td>\n",
       "      <td>7130</td>\n",
       "      <td>8375</td>\n",
       "      <td>7927</td>\n",
       "      <td>6381</td>\n",
       "      <td>7098</td>\n",
       "      <td>5658</td>\n",
       "      <td>6299</td>\n",
       "      <td>6463</td>\n",
       "      <td>7229</td>\n",
       "      <td>7311</td>\n",
       "      <td>7246</td>\n",
       "      <td>7120</td>\n",
       "    </tr>\n",
       "    <tr>\n",
       "      <th>7</th>\n",
       "      <td>폭력범</td>\n",
       "      <td>소계</td>\n",
       "      <td>부천시</td>\n",
       "      <td>2805</td>\n",
       "      <td>2439</td>\n",
       "      <td>2771</td>\n",
       "      <td>2893</td>\n",
       "      <td>2881</td>\n",
       "      <td>4178</td>\n",
       "      <td>4972</td>\n",
       "      <td>4917</td>\n",
       "      <td>4564</td>\n",
       "      <td>4868</td>\n",
       "      <td>4755</td>\n",
       "      <td>6472</td>\n",
       "      <td>6505</td>\n",
       "      <td>6778</td>\n",
       "      <td>7117</td>\n",
       "      <td>7039</td>\n",
       "      <td>6812</td>\n",
       "    </tr>\n",
       "    <tr>\n",
       "      <th>8</th>\n",
       "      <td>폭력범</td>\n",
       "      <td>소계</td>\n",
       "      <td>수원시</td>\n",
       "      <td>3212</td>\n",
       "      <td>3003</td>\n",
       "      <td>3314</td>\n",
       "      <td>3534</td>\n",
       "      <td>4065</td>\n",
       "      <td>5047</td>\n",
       "      <td>5619</td>\n",
       "      <td>5645</td>\n",
       "      <td>5638</td>\n",
       "      <td>6569</td>\n",
       "      <td>6414</td>\n",
       "      <td>6298</td>\n",
       "      <td>6295</td>\n",
       "      <td>6770</td>\n",
       "      <td>7070</td>\n",
       "      <td>7165</td>\n",
       "      <td>7098</td>\n",
       "    </tr>\n",
       "    <tr>\n",
       "      <th>9</th>\n",
       "      <td>폭력범</td>\n",
       "      <td>소계</td>\n",
       "      <td>성남시</td>\n",
       "      <td>3054</td>\n",
       "      <td>2956</td>\n",
       "      <td>3375</td>\n",
       "      <td>3609</td>\n",
       "      <td>4184</td>\n",
       "      <td>5465</td>\n",
       "      <td>5916</td>\n",
       "      <td>5804</td>\n",
       "      <td>5155</td>\n",
       "      <td>5893</td>\n",
       "      <td>4925</td>\n",
       "      <td>5228</td>\n",
       "      <td>5636</td>\n",
       "      <td>6412</td>\n",
       "      <td>6288</td>\n",
       "      <td>6528</td>\n",
       "      <td>5955</td>\n",
       "    </tr>\n",
       "    <tr>\n",
       "      <th>10</th>\n",
       "      <td>폭력범</td>\n",
       "      <td>소계</td>\n",
       "      <td>전주시</td>\n",
       "      <td>2177</td>\n",
       "      <td>1953</td>\n",
       "      <td>2069</td>\n",
       "      <td>2101</td>\n",
       "      <td>2365</td>\n",
       "      <td>2590</td>\n",
       "      <td>2911</td>\n",
       "      <td>3190</td>\n",
       "      <td>2580</td>\n",
       "      <td>2406</td>\n",
       "      <td>2313</td>\n",
       "      <td>2652</td>\n",
       "      <td>2773</td>\n",
       "      <td>2716</td>\n",
       "      <td>2825</td>\n",
       "      <td>3227</td>\n",
       "      <td>3056</td>\n",
       "    </tr>\n",
       "    <tr>\n",
       "      <th>11</th>\n",
       "      <td>폭력범</td>\n",
       "      <td>소계</td>\n",
       "      <td>안양시</td>\n",
       "      <td>2313</td>\n",
       "      <td>2122</td>\n",
       "      <td>2168</td>\n",
       "      <td>2702</td>\n",
       "      <td>2668</td>\n",
       "      <td>3060</td>\n",
       "      <td>3470</td>\n",
       "      <td>3758</td>\n",
       "      <td>3192</td>\n",
       "      <td>2962</td>\n",
       "      <td>3536</td>\n",
       "      <td>3396</td>\n",
       "      <td>3487</td>\n",
       "      <td>3620</td>\n",
       "      <td>3556</td>\n",
       "      <td>3592</td>\n",
       "      <td>3457</td>\n",
       "    </tr>\n",
       "    <tr>\n",
       "      <th>12</th>\n",
       "      <td>폭력범</td>\n",
       "      <td>소계</td>\n",
       "      <td>청주시</td>\n",
       "      <td>2158</td>\n",
       "      <td>2336</td>\n",
       "      <td>2518</td>\n",
       "      <td>2379</td>\n",
       "      <td>2266</td>\n",
       "      <td>3018</td>\n",
       "      <td>4373</td>\n",
       "      <td>4784</td>\n",
       "      <td>3796</td>\n",
       "      <td>4018</td>\n",
       "      <td>2941</td>\n",
       "      <td>3140</td>\n",
       "      <td>4092</td>\n",
       "      <td>4584</td>\n",
       "      <td>4411</td>\n",
       "      <td>3375</td>\n",
       "      <td>4050</td>\n",
       "    </tr>\n",
       "    <tr>\n",
       "      <th>13</th>\n",
       "      <td>폭력범</td>\n",
       "      <td>소계</td>\n",
       "      <td>마산시</td>\n",
       "      <td>2719</td>\n",
       "      <td>3239</td>\n",
       "      <td>3341</td>\n",
       "      <td>3384</td>\n",
       "      <td>3458</td>\n",
       "      <td>3890</td>\n",
       "      <td>4520</td>\n",
       "      <td>4492</td>\n",
       "      <td>3331</td>\n",
       "      <td>2916</td>\n",
       "      <td>2273</td>\n",
       "      <td>2409</td>\n",
       "      <td>2559</td>\n",
       "      <td>2470</td>\n",
       "      <td>2885</td>\n",
       "      <td>2627</td>\n",
       "      <td>2598</td>\n",
       "    </tr>\n",
       "    <tr>\n",
       "      <th>14</th>\n",
       "      <td>폭력범</td>\n",
       "      <td>소계</td>\n",
       "      <td>창원시</td>\n",
       "      <td>1688</td>\n",
       "      <td>1605</td>\n",
       "      <td>1546</td>\n",
       "      <td>1640</td>\n",
       "      <td>1628</td>\n",
       "      <td>2386</td>\n",
       "      <td>3049</td>\n",
       "      <td>3442</td>\n",
       "      <td>2770</td>\n",
       "      <td>3013</td>\n",
       "      <td>2557</td>\n",
       "      <td>2635</td>\n",
       "      <td>2322</td>\n",
       "      <td>2605</td>\n",
       "      <td>2925</td>\n",
       "      <td>2746</td>\n",
       "      <td>2974</td>\n",
       "    </tr>\n",
       "    <tr>\n",
       "      <th>15</th>\n",
       "      <td>폭력범</td>\n",
       "      <td>소계</td>\n",
       "      <td>광명시</td>\n",
       "      <td>947</td>\n",
       "      <td>997</td>\n",
       "      <td>1237</td>\n",
       "      <td>1378</td>\n",
       "      <td>1639</td>\n",
       "      <td>1650</td>\n",
       "      <td>1833</td>\n",
       "      <td>1885</td>\n",
       "      <td>1807</td>\n",
       "      <td>1850</td>\n",
       "      <td>2068</td>\n",
       "      <td>2019</td>\n",
       "      <td>2002</td>\n",
       "      <td>2133</td>\n",
       "      <td>2097</td>\n",
       "      <td>2495</td>\n",
       "      <td>2166</td>\n",
       "    </tr>\n",
       "    <tr>\n",
       "      <th>16</th>\n",
       "      <td>폭력범</td>\n",
       "      <td>소계</td>\n",
       "      <td>포항시</td>\n",
       "      <td>1881</td>\n",
       "      <td>1880</td>\n",
       "      <td>2070</td>\n",
       "      <td>2081</td>\n",
       "      <td>2512</td>\n",
       "      <td>3393</td>\n",
       "      <td>3872</td>\n",
       "      <td>3944</td>\n",
       "      <td>3062</td>\n",
       "      <td>3074</td>\n",
       "      <td>3396</td>\n",
       "      <td>3166</td>\n",
       "      <td>2850</td>\n",
       "      <td>2799</td>\n",
       "      <td>2991</td>\n",
       "      <td>2658</td>\n",
       "      <td>2511</td>\n",
       "    </tr>\n",
       "    <tr>\n",
       "      <th>17</th>\n",
       "      <td>폭력범</td>\n",
       "      <td>소계</td>\n",
       "      <td>안산시</td>\n",
       "      <td>1441</td>\n",
       "      <td>1458</td>\n",
       "      <td>1861</td>\n",
       "      <td>2056</td>\n",
       "      <td>2315</td>\n",
       "      <td>2861</td>\n",
       "      <td>2695</td>\n",
       "      <td>3051</td>\n",
       "      <td>3032</td>\n",
       "      <td>3501</td>\n",
       "      <td>3588</td>\n",
       "      <td>3750</td>\n",
       "      <td>3701</td>\n",
       "      <td>4390</td>\n",
       "      <td>4622</td>\n",
       "      <td>4483</td>\n",
       "      <td>4805</td>\n",
       "    </tr>\n",
       "    <tr>\n",
       "      <th>18</th>\n",
       "      <td>폭력범</td>\n",
       "      <td>소계</td>\n",
       "      <td>진주시</td>\n",
       "      <td>1566</td>\n",
       "      <td>1544</td>\n",
       "      <td>1543</td>\n",
       "      <td>1622</td>\n",
       "      <td>1683</td>\n",
       "      <td>2171</td>\n",
       "      <td>2770</td>\n",
       "      <td>2408</td>\n",
       "      <td>1532</td>\n",
       "      <td>1790</td>\n",
       "      <td>1760</td>\n",
       "      <td>1561</td>\n",
       "      <td>1662</td>\n",
       "      <td>1853</td>\n",
       "      <td>1742</td>\n",
       "      <td>2040</td>\n",
       "      <td>1748</td>\n",
       "    </tr>\n",
       "    <tr>\n",
       "      <th>19</th>\n",
       "      <td>폭력범</td>\n",
       "      <td>소계</td>\n",
       "      <td>고양시</td>\n",
       "      <td>976</td>\n",
       "      <td>1338</td>\n",
       "      <td>1675</td>\n",
       "      <td>1860</td>\n",
       "      <td>2366</td>\n",
       "      <td>2693</td>\n",
       "      <td>3709</td>\n",
       "      <td>4158</td>\n",
       "      <td>3846</td>\n",
       "      <td>4162</td>\n",
       "      <td>4114</td>\n",
       "      <td>4872</td>\n",
       "      <td>4592</td>\n",
       "      <td>5102</td>\n",
       "      <td>5423</td>\n",
       "      <td>5170</td>\n",
       "      <td>4908</td>\n",
       "    </tr>\n",
       "    <tr>\n",
       "      <th>20</th>\n",
       "      <td>폭력범</td>\n",
       "      <td>소계</td>\n",
       "      <td>제주시</td>\n",
       "      <td>2645</td>\n",
       "      <td>3180</td>\n",
       "      <td>3277</td>\n",
       "      <td>2880</td>\n",
       "      <td>2790</td>\n",
       "      <td>3534</td>\n",
       "      <td>3684</td>\n",
       "      <td>3711</td>\n",
       "      <td>3716</td>\n",
       "      <td>3542</td>\n",
       "      <td>5317</td>\n",
       "      <td>4933</td>\n",
       "      <td>4671</td>\n",
       "      <td>4386</td>\n",
       "      <td>5190</td>\n",
       "      <td>5015</td>\n",
       "      <td>4801</td>\n",
       "    </tr>\n",
       "    <tr>\n",
       "      <th>21</th>\n",
       "      <td>폭력범</td>\n",
       "      <td>소계</td>\n",
       "      <td>목포시</td>\n",
       "      <td>1539</td>\n",
       "      <td>1502</td>\n",
       "      <td>1425</td>\n",
       "      <td>1777</td>\n",
       "      <td>2135</td>\n",
       "      <td>2212</td>\n",
       "      <td>2437</td>\n",
       "      <td>2308</td>\n",
       "      <td>2238</td>\n",
       "      <td>2537</td>\n",
       "      <td>2515</td>\n",
       "      <td>2627</td>\n",
       "      <td>2536</td>\n",
       "      <td>2283</td>\n",
       "      <td>2637</td>\n",
       "      <td>2336</td>\n",
       "      <td>2348</td>\n",
       "    </tr>\n",
       "    <tr>\n",
       "      <th>22</th>\n",
       "      <td>폭력범</td>\n",
       "      <td>소계</td>\n",
       "      <td>의정부시</td>\n",
       "      <td>1473</td>\n",
       "      <td>1629</td>\n",
       "      <td>1675</td>\n",
       "      <td>1661</td>\n",
       "      <td>1603</td>\n",
       "      <td>1861</td>\n",
       "      <td>2600</td>\n",
       "      <td>2784</td>\n",
       "      <td>2882</td>\n",
       "      <td>2811</td>\n",
       "      <td>2768</td>\n",
       "      <td>2770</td>\n",
       "      <td>3290</td>\n",
       "      <td>3570</td>\n",
       "      <td>3819</td>\n",
       "      <td>3647</td>\n",
       "      <td>3334</td>\n",
       "    </tr>\n",
       "    <tr>\n",
       "      <th>23</th>\n",
       "      <td>폭력범</td>\n",
       "      <td>소계</td>\n",
       "      <td>익산시</td>\n",
       "      <td>0</td>\n",
       "      <td>0</td>\n",
       "      <td>0</td>\n",
       "      <td>893</td>\n",
       "      <td>960</td>\n",
       "      <td>1165</td>\n",
       "      <td>1739</td>\n",
       "      <td>1731</td>\n",
       "      <td>1309</td>\n",
       "      <td>1473</td>\n",
       "      <td>1384</td>\n",
       "      <td>1377</td>\n",
       "      <td>1400</td>\n",
       "      <td>1487</td>\n",
       "      <td>1602</td>\n",
       "      <td>1746</td>\n",
       "      <td>1576</td>\n",
       "    </tr>\n",
       "    <tr>\n",
       "      <th>24</th>\n",
       "      <td>폭력범</td>\n",
       "      <td>소계</td>\n",
       "      <td>이리시</td>\n",
       "      <td>960</td>\n",
       "      <td>854</td>\n",
       "      <td>853</td>\n",
       "      <td>0</td>\n",
       "      <td>0</td>\n",
       "      <td>0</td>\n",
       "      <td>0</td>\n",
       "      <td>0</td>\n",
       "      <td>0</td>\n",
       "      <td>0</td>\n",
       "      <td>0</td>\n",
       "      <td>0</td>\n",
       "      <td>0</td>\n",
       "      <td>0</td>\n",
       "      <td>0</td>\n",
       "      <td>0</td>\n",
       "      <td>0</td>\n",
       "    </tr>\n",
       "    <tr>\n",
       "      <th>25</th>\n",
       "      <td>폭력범</td>\n",
       "      <td>소계</td>\n",
       "      <td>군산시</td>\n",
       "      <td>1111</td>\n",
       "      <td>1366</td>\n",
       "      <td>1396</td>\n",
       "      <td>1338</td>\n",
       "      <td>1485</td>\n",
       "      <td>1861</td>\n",
       "      <td>2032</td>\n",
       "      <td>1981</td>\n",
       "      <td>1470</td>\n",
       "      <td>1431</td>\n",
       "      <td>1390</td>\n",
       "      <td>1414</td>\n",
       "      <td>1450</td>\n",
       "      <td>1396</td>\n",
       "      <td>1235</td>\n",
       "      <td>1438</td>\n",
       "      <td>1252</td>\n",
       "    </tr>\n",
       "    <tr>\n",
       "      <th>26</th>\n",
       "      <td>폭력범</td>\n",
       "      <td>소계</td>\n",
       "      <td>구미시</td>\n",
       "      <td>1535</td>\n",
       "      <td>1386</td>\n",
       "      <td>1383</td>\n",
       "      <td>1234</td>\n",
       "      <td>1344</td>\n",
       "      <td>2650</td>\n",
       "      <td>3194</td>\n",
       "      <td>2600</td>\n",
       "      <td>2053</td>\n",
       "      <td>2281</td>\n",
       "      <td>2528</td>\n",
       "      <td>2335</td>\n",
       "      <td>2138</td>\n",
       "      <td>2171</td>\n",
       "      <td>2084</td>\n",
       "      <td>2149</td>\n",
       "      <td>2128</td>\n",
       "    </tr>\n",
       "    <tr>\n",
       "      <th>27</th>\n",
       "      <td>폭력범</td>\n",
       "      <td>소계</td>\n",
       "      <td>천안시</td>\n",
       "      <td>747</td>\n",
       "      <td>984</td>\n",
       "      <td>872</td>\n",
       "      <td>974</td>\n",
       "      <td>978</td>\n",
       "      <td>1318</td>\n",
       "      <td>1917</td>\n",
       "      <td>1831</td>\n",
       "      <td>1306</td>\n",
       "      <td>1489</td>\n",
       "      <td>1710</td>\n",
       "      <td>1720</td>\n",
       "      <td>2184</td>\n",
       "      <td>2425</td>\n",
       "      <td>2520</td>\n",
       "      <td>2911</td>\n",
       "      <td>2240</td>\n",
       "    </tr>\n",
       "    <tr>\n",
       "      <th>28</th>\n",
       "      <td>폭력범</td>\n",
       "      <td>소계</td>\n",
       "      <td>여수시</td>\n",
       "      <td>1353</td>\n",
       "      <td>1393</td>\n",
       "      <td>1540</td>\n",
       "      <td>1474</td>\n",
       "      <td>1716</td>\n",
       "      <td>2123</td>\n",
       "      <td>2313</td>\n",
       "      <td>2154</td>\n",
       "      <td>1925</td>\n",
       "      <td>2473</td>\n",
       "      <td>2363</td>\n",
       "      <td>2503</td>\n",
       "      <td>2269</td>\n",
       "      <td>2213</td>\n",
       "      <td>2021</td>\n",
       "      <td>1936</td>\n",
       "      <td>1899</td>\n",
       "    </tr>\n",
       "    <tr>\n",
       "      <th>29</th>\n",
       "      <td>폭력범</td>\n",
       "      <td>소계</td>\n",
       "      <td>춘천시</td>\n",
       "      <td>943</td>\n",
       "      <td>1064</td>\n",
       "      <td>1014</td>\n",
       "      <td>992</td>\n",
       "      <td>1005</td>\n",
       "      <td>1451</td>\n",
       "      <td>2164</td>\n",
       "      <td>2088</td>\n",
       "      <td>1175</td>\n",
       "      <td>1050</td>\n",
       "      <td>966</td>\n",
       "      <td>868</td>\n",
       "      <td>1108</td>\n",
       "      <td>1469</td>\n",
       "      <td>1610</td>\n",
       "      <td>1649</td>\n",
       "      <td>2169</td>\n",
       "    </tr>\n",
       "    <tr>\n",
       "      <th>30</th>\n",
       "      <td>폭력범</td>\n",
       "      <td>소계</td>\n",
       "      <td>원주시</td>\n",
       "      <td>620</td>\n",
       "      <td>585</td>\n",
       "      <td>916</td>\n",
       "      <td>1065</td>\n",
       "      <td>1091</td>\n",
       "      <td>1518</td>\n",
       "      <td>1843</td>\n",
       "      <td>1845</td>\n",
       "      <td>1742</td>\n",
       "      <td>1529</td>\n",
       "      <td>1384</td>\n",
       "      <td>1379</td>\n",
       "      <td>1930</td>\n",
       "      <td>2277</td>\n",
       "      <td>2513</td>\n",
       "      <td>2661</td>\n",
       "      <td>3118</td>\n",
       "    </tr>\n",
       "    <tr>\n",
       "      <th>31</th>\n",
       "      <td>폭력범</td>\n",
       "      <td>소계</td>\n",
       "      <td>평택시</td>\n",
       "      <td>0</td>\n",
       "      <td>0</td>\n",
       "      <td>0</td>\n",
       "      <td>5842</td>\n",
       "      <td>3013</td>\n",
       "      <td>1928</td>\n",
       "      <td>1932</td>\n",
       "      <td>2010</td>\n",
       "      <td>1737</td>\n",
       "      <td>2115</td>\n",
       "      <td>1980</td>\n",
       "      <td>2275</td>\n",
       "      <td>2066</td>\n",
       "      <td>2321</td>\n",
       "      <td>2427</td>\n",
       "      <td>2788</td>\n",
       "      <td>2595</td>\n",
       "    </tr>\n",
       "    <tr>\n",
       "      <th>32</th>\n",
       "      <td>폭력범</td>\n",
       "      <td>소계</td>\n",
       "      <td>경주시</td>\n",
       "      <td>0</td>\n",
       "      <td>0</td>\n",
       "      <td>0</td>\n",
       "      <td>4642</td>\n",
       "      <td>2096</td>\n",
       "      <td>1456</td>\n",
       "      <td>1124</td>\n",
       "      <td>1175</td>\n",
       "      <td>1092</td>\n",
       "      <td>1115</td>\n",
       "      <td>1185</td>\n",
       "      <td>1198</td>\n",
       "      <td>1127</td>\n",
       "      <td>1333</td>\n",
       "      <td>1455</td>\n",
       "      <td>1613</td>\n",
       "      <td>1430</td>\n",
       "    </tr>\n",
       "    <tr>\n",
       "      <th>33</th>\n",
       "      <td>폭력범</td>\n",
       "      <td>소계</td>\n",
       "      <td>김해시</td>\n",
       "      <td>0</td>\n",
       "      <td>0</td>\n",
       "      <td>0</td>\n",
       "      <td>1109</td>\n",
       "      <td>1356</td>\n",
       "      <td>1872</td>\n",
       "      <td>2462</td>\n",
       "      <td>2074</td>\n",
       "      <td>1942</td>\n",
       "      <td>2264</td>\n",
       "      <td>2094</td>\n",
       "      <td>2448</td>\n",
       "      <td>2444</td>\n",
       "      <td>2433</td>\n",
       "      <td>2487</td>\n",
       "      <td>2717</td>\n",
       "      <td>3097</td>\n",
       "    </tr>\n",
       "    <tr>\n",
       "      <th>34</th>\n",
       "      <td>폭력범</td>\n",
       "      <td>소계</td>\n",
       "      <td>순천시</td>\n",
       "      <td>0</td>\n",
       "      <td>0</td>\n",
       "      <td>0</td>\n",
       "      <td>828</td>\n",
       "      <td>1269</td>\n",
       "      <td>1508</td>\n",
       "      <td>1626</td>\n",
       "      <td>1813</td>\n",
       "      <td>1682</td>\n",
       "      <td>2253</td>\n",
       "      <td>2110</td>\n",
       "      <td>2013</td>\n",
       "      <td>2114</td>\n",
       "      <td>1729</td>\n",
       "      <td>1819</td>\n",
       "      <td>1751</td>\n",
       "      <td>1620</td>\n",
       "    </tr>\n",
       "    <tr>\n",
       "      <th>35</th>\n",
       "      <td>폭력범</td>\n",
       "      <td>소계</td>\n",
       "      <td>군포시</td>\n",
       "      <td>0</td>\n",
       "      <td>0</td>\n",
       "      <td>0</td>\n",
       "      <td>45</td>\n",
       "      <td>230</td>\n",
       "      <td>897</td>\n",
       "      <td>1578</td>\n",
       "      <td>1652</td>\n",
       "      <td>1420</td>\n",
       "      <td>1486</td>\n",
       "      <td>1383</td>\n",
       "      <td>1207</td>\n",
       "      <td>1149</td>\n",
       "      <td>1167</td>\n",
       "      <td>1420</td>\n",
       "      <td>1226</td>\n",
       "      <td>1297</td>\n",
       "    </tr>\n",
       "    <tr>\n",
       "      <th>36</th>\n",
       "      <td>폭력범</td>\n",
       "      <td>소계</td>\n",
       "      <td>남양주시</td>\n",
       "      <td>0</td>\n",
       "      <td>0</td>\n",
       "      <td>0</td>\n",
       "      <td>1197</td>\n",
       "      <td>1663</td>\n",
       "      <td>2211</td>\n",
       "      <td>2130</td>\n",
       "      <td>2017</td>\n",
       "      <td>1445</td>\n",
       "      <td>1584</td>\n",
       "      <td>1828</td>\n",
       "      <td>1742</td>\n",
       "      <td>1630</td>\n",
       "      <td>1947</td>\n",
       "      <td>2154</td>\n",
       "      <td>2041</td>\n",
       "      <td>2256</td>\n",
       "    </tr>\n",
       "    <tr>\n",
       "      <th>37</th>\n",
       "      <td>폭력범</td>\n",
       "      <td>소계</td>\n",
       "      <td>강릉시</td>\n",
       "      <td>0</td>\n",
       "      <td>0</td>\n",
       "      <td>0</td>\n",
       "      <td>436</td>\n",
       "      <td>888</td>\n",
       "      <td>2022</td>\n",
       "      <td>2851</td>\n",
       "      <td>2544</td>\n",
       "      <td>1884</td>\n",
       "      <td>2099</td>\n",
       "      <td>2003</td>\n",
       "      <td>1915</td>\n",
       "      <td>1734</td>\n",
       "      <td>1790</td>\n",
       "      <td>1731</td>\n",
       "      <td>2416</td>\n",
       "      <td>2157</td>\n",
       "    </tr>\n",
       "    <tr>\n",
       "      <th>38</th>\n",
       "      <td>폭력범</td>\n",
       "      <td>소계</td>\n",
       "      <td>충주시</td>\n",
       "      <td>0</td>\n",
       "      <td>0</td>\n",
       "      <td>0</td>\n",
       "      <td>15</td>\n",
       "      <td>53</td>\n",
       "      <td>854</td>\n",
       "      <td>1202</td>\n",
       "      <td>1069</td>\n",
       "      <td>621</td>\n",
       "      <td>793</td>\n",
       "      <td>659</td>\n",
       "      <td>613</td>\n",
       "      <td>703</td>\n",
       "      <td>930</td>\n",
       "      <td>1194</td>\n",
       "      <td>1106</td>\n",
       "      <td>1112</td>\n",
       "    </tr>\n",
       "    <tr>\n",
       "      <th>39</th>\n",
       "      <td>폭력범</td>\n",
       "      <td>소계</td>\n",
       "      <td>안동시</td>\n",
       "      <td>0</td>\n",
       "      <td>0</td>\n",
       "      <td>0</td>\n",
       "      <td>405</td>\n",
       "      <td>656</td>\n",
       "      <td>1248</td>\n",
       "      <td>914</td>\n",
       "      <td>980</td>\n",
       "      <td>908</td>\n",
       "      <td>982</td>\n",
       "      <td>1258</td>\n",
       "      <td>1144</td>\n",
       "      <td>1189</td>\n",
       "      <td>1122</td>\n",
       "      <td>1271</td>\n",
       "      <td>1311</td>\n",
       "      <td>1062</td>\n",
       "    </tr>\n",
       "    <tr>\n",
       "      <th>40</th>\n",
       "      <td>폭력범</td>\n",
       "      <td>소계</td>\n",
       "      <td>경산시</td>\n",
       "      <td>0</td>\n",
       "      <td>0</td>\n",
       "      <td>0</td>\n",
       "      <td>22</td>\n",
       "      <td>72</td>\n",
       "      <td>800</td>\n",
       "      <td>1099</td>\n",
       "      <td>1138</td>\n",
       "      <td>926</td>\n",
       "      <td>930</td>\n",
       "      <td>945</td>\n",
       "      <td>1078</td>\n",
       "      <td>1048</td>\n",
       "      <td>1393</td>\n",
       "      <td>1603</td>\n",
       "      <td>1585</td>\n",
       "      <td>1420</td>\n",
       "    </tr>\n",
       "    <tr>\n",
       "      <th>41</th>\n",
       "      <td>폭력범</td>\n",
       "      <td>소계</td>\n",
       "      <td>아산시</td>\n",
       "      <td>0</td>\n",
       "      <td>0</td>\n",
       "      <td>0</td>\n",
       "      <td>502</td>\n",
       "      <td>621</td>\n",
       "      <td>683</td>\n",
       "      <td>930</td>\n",
       "      <td>1083</td>\n",
       "      <td>823</td>\n",
       "      <td>965</td>\n",
       "      <td>826</td>\n",
       "      <td>720</td>\n",
       "      <td>862</td>\n",
       "      <td>847</td>\n",
       "      <td>765</td>\n",
       "      <td>710</td>\n",
       "      <td>778</td>\n",
       "    </tr>\n",
       "    <tr>\n",
       "      <th>42</th>\n",
       "      <td>폭력범</td>\n",
       "      <td>소계</td>\n",
       "      <td>거제시</td>\n",
       "      <td>0</td>\n",
       "      <td>0</td>\n",
       "      <td>0</td>\n",
       "      <td>690</td>\n",
       "      <td>710</td>\n",
       "      <td>757</td>\n",
       "      <td>947</td>\n",
       "      <td>1038</td>\n",
       "      <td>680</td>\n",
       "      <td>750</td>\n",
       "      <td>848</td>\n",
       "      <td>1037</td>\n",
       "      <td>1001</td>\n",
       "      <td>1087</td>\n",
       "      <td>1124</td>\n",
       "      <td>1036</td>\n",
       "      <td>884</td>\n",
       "    </tr>\n",
       "    <tr>\n",
       "      <th>43</th>\n",
       "      <td>폭력범</td>\n",
       "      <td>소계</td>\n",
       "      <td>김천시</td>\n",
       "      <td>0</td>\n",
       "      <td>0</td>\n",
       "      <td>0</td>\n",
       "      <td>333</td>\n",
       "      <td>406</td>\n",
       "      <td>477</td>\n",
       "      <td>713</td>\n",
       "      <td>792</td>\n",
       "      <td>678</td>\n",
       "      <td>698</td>\n",
       "      <td>646</td>\n",
       "      <td>641</td>\n",
       "      <td>610</td>\n",
       "      <td>607</td>\n",
       "      <td>560</td>\n",
       "      <td>598</td>\n",
       "      <td>548</td>\n",
       "    </tr>\n",
       "    <tr>\n",
       "      <th>44</th>\n",
       "      <td>폭력범</td>\n",
       "      <td>소계</td>\n",
       "      <td>정읍시</td>\n",
       "      <td>0</td>\n",
       "      <td>0</td>\n",
       "      <td>0</td>\n",
       "      <td>192</td>\n",
       "      <td>275</td>\n",
       "      <td>315</td>\n",
       "      <td>382</td>\n",
       "      <td>428</td>\n",
       "      <td>358</td>\n",
       "      <td>406</td>\n",
       "      <td>457</td>\n",
       "      <td>439</td>\n",
       "      <td>513</td>\n",
       "      <td>554</td>\n",
       "      <td>537</td>\n",
       "      <td>591</td>\n",
       "      <td>549</td>\n",
       "    </tr>\n",
       "    <tr>\n",
       "      <th>45</th>\n",
       "      <td>폭력범</td>\n",
       "      <td>소계</td>\n",
       "      <td>용인시</td>\n",
       "      <td>0</td>\n",
       "      <td>0</td>\n",
       "      <td>0</td>\n",
       "      <td>0</td>\n",
       "      <td>0</td>\n",
       "      <td>0</td>\n",
       "      <td>0</td>\n",
       "      <td>0</td>\n",
       "      <td>0</td>\n",
       "      <td>0</td>\n",
       "      <td>1603</td>\n",
       "      <td>2014</td>\n",
       "      <td>1879</td>\n",
       "      <td>2274</td>\n",
       "      <td>2418</td>\n",
       "      <td>2575</td>\n",
       "      <td>2577</td>\n",
       "    </tr>\n",
       "    <tr>\n",
       "      <th>46</th>\n",
       "      <td>폭력범</td>\n",
       "      <td>소계</td>\n",
       "      <td>시흥시</td>\n",
       "      <td>0</td>\n",
       "      <td>0</td>\n",
       "      <td>0</td>\n",
       "      <td>0</td>\n",
       "      <td>0</td>\n",
       "      <td>0</td>\n",
       "      <td>0</td>\n",
       "      <td>0</td>\n",
       "      <td>0</td>\n",
       "      <td>0</td>\n",
       "      <td>2411</td>\n",
       "      <td>2668</td>\n",
       "      <td>2393</td>\n",
       "      <td>2669</td>\n",
       "      <td>2667</td>\n",
       "      <td>2796</td>\n",
       "      <td>2656</td>\n",
       "    </tr>\n",
       "    <tr>\n",
       "      <th>47</th>\n",
       "      <td>폭력범</td>\n",
       "      <td>소계</td>\n",
       "      <td>파주시</td>\n",
       "      <td>0</td>\n",
       "      <td>0</td>\n",
       "      <td>0</td>\n",
       "      <td>0</td>\n",
       "      <td>0</td>\n",
       "      <td>0</td>\n",
       "      <td>0</td>\n",
       "      <td>0</td>\n",
       "      <td>0</td>\n",
       "      <td>0</td>\n",
       "      <td>927</td>\n",
       "      <td>1279</td>\n",
       "      <td>1265</td>\n",
       "      <td>1442</td>\n",
       "      <td>1514</td>\n",
       "      <td>1772</td>\n",
       "      <td>1821</td>\n",
       "    </tr>\n",
       "    <tr>\n",
       "      <th>48</th>\n",
       "      <td>폭력범</td>\n",
       "      <td>소계</td>\n",
       "      <td>양산시</td>\n",
       "      <td>0</td>\n",
       "      <td>0</td>\n",
       "      <td>0</td>\n",
       "      <td>0</td>\n",
       "      <td>0</td>\n",
       "      <td>0</td>\n",
       "      <td>0</td>\n",
       "      <td>0</td>\n",
       "      <td>0</td>\n",
       "      <td>0</td>\n",
       "      <td>920</td>\n",
       "      <td>824</td>\n",
       "      <td>1058</td>\n",
       "      <td>1176</td>\n",
       "      <td>1202</td>\n",
       "      <td>1237</td>\n",
       "      <td>1470</td>\n",
       "    </tr>\n",
       "    <tr>\n",
       "      <th>49</th>\n",
       "      <td>폭력범</td>\n",
       "      <td>소계</td>\n",
       "      <td>이천시</td>\n",
       "      <td>0</td>\n",
       "      <td>0</td>\n",
       "      <td>0</td>\n",
       "      <td>0</td>\n",
       "      <td>0</td>\n",
       "      <td>0</td>\n",
       "      <td>0</td>\n",
       "      <td>0</td>\n",
       "      <td>0</td>\n",
       "      <td>0</td>\n",
       "      <td>822</td>\n",
       "      <td>873</td>\n",
       "      <td>921</td>\n",
       "      <td>911</td>\n",
       "      <td>1047</td>\n",
       "      <td>1127</td>\n",
       "      <td>1055</td>\n",
       "    </tr>\n",
       "    <tr>\n",
       "      <th>50</th>\n",
       "      <td>폭력범</td>\n",
       "      <td>소계</td>\n",
       "      <td>구리시</td>\n",
       "      <td>0</td>\n",
       "      <td>0</td>\n",
       "      <td>0</td>\n",
       "      <td>0</td>\n",
       "      <td>0</td>\n",
       "      <td>0</td>\n",
       "      <td>0</td>\n",
       "      <td>0</td>\n",
       "      <td>0</td>\n",
       "      <td>0</td>\n",
       "      <td>1535</td>\n",
       "      <td>1675</td>\n",
       "      <td>1439</td>\n",
       "      <td>1714</td>\n",
       "      <td>1831</td>\n",
       "      <td>1688</td>\n",
       "      <td>1576</td>\n",
       "    </tr>\n",
       "    <tr>\n",
       "      <th>51</th>\n",
       "      <td>폭력범</td>\n",
       "      <td>소계</td>\n",
       "      <td>서산시</td>\n",
       "      <td>0</td>\n",
       "      <td>0</td>\n",
       "      <td>0</td>\n",
       "      <td>0</td>\n",
       "      <td>0</td>\n",
       "      <td>0</td>\n",
       "      <td>0</td>\n",
       "      <td>0</td>\n",
       "      <td>0</td>\n",
       "      <td>0</td>\n",
       "      <td>435</td>\n",
       "      <td>406</td>\n",
       "      <td>383</td>\n",
       "      <td>497</td>\n",
       "      <td>592</td>\n",
       "      <td>548</td>\n",
       "      <td>640</td>\n",
       "    </tr>\n",
       "    <tr>\n",
       "      <th>52</th>\n",
       "      <td>폭력범</td>\n",
       "      <td>소계</td>\n",
       "      <td>제천시</td>\n",
       "      <td>0</td>\n",
       "      <td>0</td>\n",
       "      <td>0</td>\n",
       "      <td>0</td>\n",
       "      <td>0</td>\n",
       "      <td>0</td>\n",
       "      <td>0</td>\n",
       "      <td>0</td>\n",
       "      <td>0</td>\n",
       "      <td>0</td>\n",
       "      <td>618</td>\n",
       "      <td>667</td>\n",
       "      <td>713</td>\n",
       "      <td>952</td>\n",
       "      <td>866</td>\n",
       "      <td>765</td>\n",
       "      <td>726</td>\n",
       "    </tr>\n",
       "    <tr>\n",
       "      <th>53</th>\n",
       "      <td>폭력범</td>\n",
       "      <td>소계</td>\n",
       "      <td>논산시</td>\n",
       "      <td>0</td>\n",
       "      <td>0</td>\n",
       "      <td>0</td>\n",
       "      <td>0</td>\n",
       "      <td>0</td>\n",
       "      <td>0</td>\n",
       "      <td>0</td>\n",
       "      <td>0</td>\n",
       "      <td>0</td>\n",
       "      <td>0</td>\n",
       "      <td>484</td>\n",
       "      <td>567</td>\n",
       "      <td>522</td>\n",
       "      <td>486</td>\n",
       "      <td>531</td>\n",
       "      <td>447</td>\n",
       "      <td>372</td>\n",
       "    </tr>\n",
       "    <tr>\n",
       "      <th>54</th>\n",
       "      <td>폭력범</td>\n",
       "      <td>소계</td>\n",
       "      <td>기타도시</td>\n",
       "      <td>15287</td>\n",
       "      <td>16360</td>\n",
       "      <td>19718</td>\n",
       "      <td>12219</td>\n",
       "      <td>16386</td>\n",
       "      <td>19933</td>\n",
       "      <td>20045</td>\n",
       "      <td>20403</td>\n",
       "      <td>18300</td>\n",
       "      <td>19581</td>\n",
       "      <td>18802</td>\n",
       "      <td>19234</td>\n",
       "      <td>18590</td>\n",
       "      <td>19648</td>\n",
       "      <td>21168</td>\n",
       "      <td>22267</td>\n",
       "      <td>21044</td>\n",
       "    </tr>\n",
       "    <tr>\n",
       "      <th>55</th>\n",
       "      <td>폭력범</td>\n",
       "      <td>소계</td>\n",
       "      <td>도시이외</td>\n",
       "      <td>26484</td>\n",
       "      <td>22048</td>\n",
       "      <td>20880</td>\n",
       "      <td>13616</td>\n",
       "      <td>17258</td>\n",
       "      <td>21557</td>\n",
       "      <td>23275</td>\n",
       "      <td>21670</td>\n",
       "      <td>17989</td>\n",
       "      <td>18421</td>\n",
       "      <td>17484</td>\n",
       "      <td>16755</td>\n",
       "      <td>16680</td>\n",
       "      <td>17095</td>\n",
       "      <td>18005</td>\n",
       "      <td>17803</td>\n",
       "      <td>17244</td>\n",
       "    </tr>\n",
       "    <tr>\n",
       "      <th>56</th>\n",
       "      <td>폭력범</td>\n",
       "      <td>소계</td>\n",
       "      <td>기타</td>\n",
       "      <td>59</td>\n",
       "      <td>12</td>\n",
       "      <td>54</td>\n",
       "      <td>7</td>\n",
       "      <td>10</td>\n",
       "      <td>987</td>\n",
       "      <td>8503</td>\n",
       "      <td>10443</td>\n",
       "      <td>8521</td>\n",
       "      <td>9469</td>\n",
       "      <td>0</td>\n",
       "      <td>0</td>\n",
       "      <td>0</td>\n",
       "      <td>0</td>\n",
       "      <td>0</td>\n",
       "      <td>0</td>\n",
       "      <td>0</td>\n",
       "    </tr>\n",
       "  </tbody>\n",
       "</table>\n",
       "</div>"
      ],
      "text/plain": [
       "      중   소   발생장소  1994년  1995년  1996년  1997년  1998년  1999년  2000년  2001년  \\\n",
       "0   폭력범  소계  서울특별시  60141  57139  57239  58106  67782  84819  96424  99160   \n",
       "1   폭력범  소계  부산광역시  14258  14357  14246  13451  17442  19573  21844  23815   \n",
       "2   폭력범  소계  대구광역시   9541   8828   8676  10559  12436  14990  19190  19424   \n",
       "3   폭력범  소계  인천광역시  10812   9857  11566  12957  13006  16872  22566  20417   \n",
       "4   폭력범  소계  광주광역시   7501   7962   8870   8619   9521  11061  13383  13851   \n",
       "5   폭력범  소계  대전광역시   3481   3601   3680   3701   4346   6229   6504   6611   \n",
       "6   폭력범  소계  울산광역시   5620   5513   6123   5655   5777   7130   8375   7927   \n",
       "7   폭력범  소계    부천시   2805   2439   2771   2893   2881   4178   4972   4917   \n",
       "8   폭력범  소계    수원시   3212   3003   3314   3534   4065   5047   5619   5645   \n",
       "9   폭력범  소계    성남시   3054   2956   3375   3609   4184   5465   5916   5804   \n",
       "10  폭력범  소계    전주시   2177   1953   2069   2101   2365   2590   2911   3190   \n",
       "11  폭력범  소계    안양시   2313   2122   2168   2702   2668   3060   3470   3758   \n",
       "12  폭력범  소계    청주시   2158   2336   2518   2379   2266   3018   4373   4784   \n",
       "13  폭력범  소계    마산시   2719   3239   3341   3384   3458   3890   4520   4492   \n",
       "14  폭력범  소계    창원시   1688   1605   1546   1640   1628   2386   3049   3442   \n",
       "15  폭력범  소계    광명시    947    997   1237   1378   1639   1650   1833   1885   \n",
       "16  폭력범  소계    포항시   1881   1880   2070   2081   2512   3393   3872   3944   \n",
       "17  폭력범  소계    안산시   1441   1458   1861   2056   2315   2861   2695   3051   \n",
       "18  폭력범  소계    진주시   1566   1544   1543   1622   1683   2171   2770   2408   \n",
       "19  폭력범  소계    고양시    976   1338   1675   1860   2366   2693   3709   4158   \n",
       "20  폭력범  소계    제주시   2645   3180   3277   2880   2790   3534   3684   3711   \n",
       "21  폭력범  소계    목포시   1539   1502   1425   1777   2135   2212   2437   2308   \n",
       "22  폭력범  소계   의정부시   1473   1629   1675   1661   1603   1861   2600   2784   \n",
       "23  폭력범  소계    익산시      0      0      0    893    960   1165   1739   1731   \n",
       "24  폭력범  소계    이리시    960    854    853      0      0      0      0      0   \n",
       "25  폭력범  소계    군산시   1111   1366   1396   1338   1485   1861   2032   1981   \n",
       "26  폭력범  소계    구미시   1535   1386   1383   1234   1344   2650   3194   2600   \n",
       "27  폭력범  소계    천안시    747    984    872    974    978   1318   1917   1831   \n",
       "28  폭력범  소계    여수시   1353   1393   1540   1474   1716   2123   2313   2154   \n",
       "29  폭력범  소계    춘천시    943   1064   1014    992   1005   1451   2164   2088   \n",
       "30  폭력범  소계    원주시    620    585    916   1065   1091   1518   1843   1845   \n",
       "31  폭력범  소계    평택시      0      0      0   5842   3013   1928   1932   2010   \n",
       "32  폭력범  소계    경주시      0      0      0   4642   2096   1456   1124   1175   \n",
       "33  폭력범  소계    김해시      0      0      0   1109   1356   1872   2462   2074   \n",
       "34  폭력범  소계    순천시      0      0      0    828   1269   1508   1626   1813   \n",
       "35  폭력범  소계    군포시      0      0      0     45    230    897   1578   1652   \n",
       "36  폭력범  소계   남양주시      0      0      0   1197   1663   2211   2130   2017   \n",
       "37  폭력범  소계    강릉시      0      0      0    436    888   2022   2851   2544   \n",
       "38  폭력범  소계    충주시      0      0      0     15     53    854   1202   1069   \n",
       "39  폭력범  소계    안동시      0      0      0    405    656   1248    914    980   \n",
       "40  폭력범  소계    경산시      0      0      0     22     72    800   1099   1138   \n",
       "41  폭력범  소계    아산시      0      0      0    502    621    683    930   1083   \n",
       "42  폭력범  소계    거제시      0      0      0    690    710    757    947   1038   \n",
       "43  폭력범  소계    김천시      0      0      0    333    406    477    713    792   \n",
       "44  폭력범  소계    정읍시      0      0      0    192    275    315    382    428   \n",
       "45  폭력범  소계    용인시      0      0      0      0      0      0      0      0   \n",
       "46  폭력범  소계    시흥시      0      0      0      0      0      0      0      0   \n",
       "47  폭력범  소계    파주시      0      0      0      0      0      0      0      0   \n",
       "48  폭력범  소계    양산시      0      0      0      0      0      0      0      0   \n",
       "49  폭력범  소계    이천시      0      0      0      0      0      0      0      0   \n",
       "50  폭력범  소계    구리시      0      0      0      0      0      0      0      0   \n",
       "51  폭력범  소계    서산시      0      0      0      0      0      0      0      0   \n",
       "52  폭력범  소계    제천시      0      0      0      0      0      0      0      0   \n",
       "53  폭력범  소계    논산시      0      0      0      0      0      0      0      0   \n",
       "54  폭력범  소계   기타도시  15287  16360  19718  12219  16386  19933  20045  20403   \n",
       "55  폭력범  소계   도시이외  26484  22048  20880  13616  17258  21557  23275  21670   \n",
       "56  폭력범  소계     기타     59     12     54      7     10    987   8503  10443   \n",
       "\n",
       "    2002년  2003년  2004년  2005년  2006년  2007년  2008년  2009년  2010년  \n",
       "0   81642  81705  80561  74940  70754  74010  74293  73064  68788  \n",
       "1   19365  18901  20620  18944  18910  19597  21366  30290  20623  \n",
       "2   16932  17389  15383  15785  15472  16267  17203  16860  16255  \n",
       "3   17244  18797  18297  18950  19223  17570  16554  16268  14351  \n",
       "4   11840  11562   9586  10846  10596  10762  10959  11475  10871  \n",
       "5    5399   5892   5131   4643   5066   5688   6251   7397   5340  \n",
       "6    6381   7098   5658   6299   6463   7229   7311   7246   7120  \n",
       "7    4564   4868   4755   6472   6505   6778   7117   7039   6812  \n",
       "8    5638   6569   6414   6298   6295   6770   7070   7165   7098  \n",
       "9    5155   5893   4925   5228   5636   6412   6288   6528   5955  \n",
       "10   2580   2406   2313   2652   2773   2716   2825   3227   3056  \n",
       "11   3192   2962   3536   3396   3487   3620   3556   3592   3457  \n",
       "12   3796   4018   2941   3140   4092   4584   4411   3375   4050  \n",
       "13   3331   2916   2273   2409   2559   2470   2885   2627   2598  \n",
       "14   2770   3013   2557   2635   2322   2605   2925   2746   2974  \n",
       "15   1807   1850   2068   2019   2002   2133   2097   2495   2166  \n",
       "16   3062   3074   3396   3166   2850   2799   2991   2658   2511  \n",
       "17   3032   3501   3588   3750   3701   4390   4622   4483   4805  \n",
       "18   1532   1790   1760   1561   1662   1853   1742   2040   1748  \n",
       "19   3846   4162   4114   4872   4592   5102   5423   5170   4908  \n",
       "20   3716   3542   5317   4933   4671   4386   5190   5015   4801  \n",
       "21   2238   2537   2515   2627   2536   2283   2637   2336   2348  \n",
       "22   2882   2811   2768   2770   3290   3570   3819   3647   3334  \n",
       "23   1309   1473   1384   1377   1400   1487   1602   1746   1576  \n",
       "24      0      0      0      0      0      0      0      0      0  \n",
       "25   1470   1431   1390   1414   1450   1396   1235   1438   1252  \n",
       "26   2053   2281   2528   2335   2138   2171   2084   2149   2128  \n",
       "27   1306   1489   1710   1720   2184   2425   2520   2911   2240  \n",
       "28   1925   2473   2363   2503   2269   2213   2021   1936   1899  \n",
       "29   1175   1050    966    868   1108   1469   1610   1649   2169  \n",
       "30   1742   1529   1384   1379   1930   2277   2513   2661   3118  \n",
       "31   1737   2115   1980   2275   2066   2321   2427   2788   2595  \n",
       "32   1092   1115   1185   1198   1127   1333   1455   1613   1430  \n",
       "33   1942   2264   2094   2448   2444   2433   2487   2717   3097  \n",
       "34   1682   2253   2110   2013   2114   1729   1819   1751   1620  \n",
       "35   1420   1486   1383   1207   1149   1167   1420   1226   1297  \n",
       "36   1445   1584   1828   1742   1630   1947   2154   2041   2256  \n",
       "37   1884   2099   2003   1915   1734   1790   1731   2416   2157  \n",
       "38    621    793    659    613    703    930   1194   1106   1112  \n",
       "39    908    982   1258   1144   1189   1122   1271   1311   1062  \n",
       "40    926    930    945   1078   1048   1393   1603   1585   1420  \n",
       "41    823    965    826    720    862    847    765    710    778  \n",
       "42    680    750    848   1037   1001   1087   1124   1036    884  \n",
       "43    678    698    646    641    610    607    560    598    548  \n",
       "44    358    406    457    439    513    554    537    591    549  \n",
       "45      0      0   1603   2014   1879   2274   2418   2575   2577  \n",
       "46      0      0   2411   2668   2393   2669   2667   2796   2656  \n",
       "47      0      0    927   1279   1265   1442   1514   1772   1821  \n",
       "48      0      0    920    824   1058   1176   1202   1237   1470  \n",
       "49      0      0    822    873    921    911   1047   1127   1055  \n",
       "50      0      0   1535   1675   1439   1714   1831   1688   1576  \n",
       "51      0      0    435    406    383    497    592    548    640  \n",
       "52      0      0    618    667    713    952    866    765    726  \n",
       "53      0      0    484    567    522    486    531    447    372  \n",
       "54  18300  19581  18802  19234  18590  19648  21168  22267  21044  \n",
       "55  17989  18421  17484  16755  16680  17095  18005  17803  17244  \n",
       "56   8521   9469      0      0      0      0      0      0      0  "
      ]
     },
     "execution_count": 8,
     "metadata": {},
     "output_type": "execute_result"
    }
   ],
   "source": [
    "dosi_df_total = dosi_df[dosi_df[\"소\"] == \"소계\"]\n",
    "dosi_df_total"
   ]
  },
  {
   "cell_type": "code",
   "execution_count": 9,
   "metadata": {},
   "outputs": [
    {
     "data": {
      "application/vnd.plotly.v1+json": {
       "config": {
        "plotlyServerURL": "https://plot.ly"
       },
       "data": [
        {
         "hovertemplate": "발생장소=서울특별시<br>년도=%{x}<br>발생건수=%{y}<extra></extra>",
         "legendgroup": "서울특별시",
         "line": {
          "color": "#636efa",
          "dash": "solid"
         },
         "marker": {
          "symbol": "circle"
         },
         "mode": "lines+markers",
         "name": "서울특별시",
         "orientation": "v",
         "showlegend": true,
         "type": "scatter",
         "x": [
          "1994년",
          "1995년",
          "1996년",
          "1997년",
          "1998년",
          "1999년",
          "2000년",
          "2001년",
          "2002년",
          "2003년",
          "2004년",
          "2005년",
          "2006년",
          "2007년",
          "2008년",
          "2009년",
          "2010년"
         ],
         "xaxis": "x",
         "y": [
          60141,
          57139,
          57239,
          58106,
          67782,
          84819,
          96424,
          99160,
          81642,
          81705,
          80561,
          74940,
          70754,
          74010,
          74293,
          73064,
          68788
         ],
         "yaxis": "y"
        },
        {
         "hovertemplate": "발생장소=부산광역시<br>년도=%{x}<br>발생건수=%{y}<extra></extra>",
         "legendgroup": "부산광역시",
         "line": {
          "color": "#EF553B",
          "dash": "solid"
         },
         "marker": {
          "symbol": "circle"
         },
         "mode": "lines+markers",
         "name": "부산광역시",
         "orientation": "v",
         "showlegend": true,
         "type": "scatter",
         "x": [
          "1994년",
          "1995년",
          "1996년",
          "1997년",
          "1998년",
          "1999년",
          "2000년",
          "2001년",
          "2002년",
          "2003년",
          "2004년",
          "2005년",
          "2006년",
          "2007년",
          "2008년",
          "2009년",
          "2010년"
         ],
         "xaxis": "x",
         "y": [
          14258,
          14357,
          14246,
          13451,
          17442,
          19573,
          21844,
          23815,
          19365,
          18901,
          20620,
          18944,
          18910,
          19597,
          21366,
          30290,
          20623
         ],
         "yaxis": "y"
        },
        {
         "hovertemplate": "발생장소=대구광역시<br>년도=%{x}<br>발생건수=%{y}<extra></extra>",
         "legendgroup": "대구광역시",
         "line": {
          "color": "#00cc96",
          "dash": "solid"
         },
         "marker": {
          "symbol": "circle"
         },
         "mode": "lines+markers",
         "name": "대구광역시",
         "orientation": "v",
         "showlegend": true,
         "type": "scatter",
         "x": [
          "1994년",
          "1995년",
          "1996년",
          "1997년",
          "1998년",
          "1999년",
          "2000년",
          "2001년",
          "2002년",
          "2003년",
          "2004년",
          "2005년",
          "2006년",
          "2007년",
          "2008년",
          "2009년",
          "2010년"
         ],
         "xaxis": "x",
         "y": [
          9541,
          8828,
          8676,
          10559,
          12436,
          14990,
          19190,
          19424,
          16932,
          17389,
          15383,
          15785,
          15472,
          16267,
          17203,
          16860,
          16255
         ],
         "yaxis": "y"
        },
        {
         "hovertemplate": "발생장소=인천광역시<br>년도=%{x}<br>발생건수=%{y}<extra></extra>",
         "legendgroup": "인천광역시",
         "line": {
          "color": "#ab63fa",
          "dash": "solid"
         },
         "marker": {
          "symbol": "circle"
         },
         "mode": "lines+markers",
         "name": "인천광역시",
         "orientation": "v",
         "showlegend": true,
         "type": "scatter",
         "x": [
          "1994년",
          "1995년",
          "1996년",
          "1997년",
          "1998년",
          "1999년",
          "2000년",
          "2001년",
          "2002년",
          "2003년",
          "2004년",
          "2005년",
          "2006년",
          "2007년",
          "2008년",
          "2009년",
          "2010년"
         ],
         "xaxis": "x",
         "y": [
          10812,
          9857,
          11566,
          12957,
          13006,
          16872,
          22566,
          20417,
          17244,
          18797,
          18297,
          18950,
          19223,
          17570,
          16554,
          16268,
          14351
         ],
         "yaxis": "y"
        },
        {
         "hovertemplate": "발생장소=광주광역시<br>년도=%{x}<br>발생건수=%{y}<extra></extra>",
         "legendgroup": "광주광역시",
         "line": {
          "color": "#FFA15A",
          "dash": "solid"
         },
         "marker": {
          "symbol": "circle"
         },
         "mode": "lines+markers",
         "name": "광주광역시",
         "orientation": "v",
         "showlegend": true,
         "type": "scatter",
         "x": [
          "1994년",
          "1995년",
          "1996년",
          "1997년",
          "1998년",
          "1999년",
          "2000년",
          "2001년",
          "2002년",
          "2003년",
          "2004년",
          "2005년",
          "2006년",
          "2007년",
          "2008년",
          "2009년",
          "2010년"
         ],
         "xaxis": "x",
         "y": [
          7501,
          7962,
          8870,
          8619,
          9521,
          11061,
          13383,
          13851,
          11840,
          11562,
          9586,
          10846,
          10596,
          10762,
          10959,
          11475,
          10871
         ],
         "yaxis": "y"
        },
        {
         "hovertemplate": "발생장소=대전광역시<br>년도=%{x}<br>발생건수=%{y}<extra></extra>",
         "legendgroup": "대전광역시",
         "line": {
          "color": "#19d3f3",
          "dash": "solid"
         },
         "marker": {
          "symbol": "circle"
         },
         "mode": "lines+markers",
         "name": "대전광역시",
         "orientation": "v",
         "showlegend": true,
         "type": "scatter",
         "x": [
          "1994년",
          "1995년",
          "1996년",
          "1997년",
          "1998년",
          "1999년",
          "2000년",
          "2001년",
          "2002년",
          "2003년",
          "2004년",
          "2005년",
          "2006년",
          "2007년",
          "2008년",
          "2009년",
          "2010년"
         ],
         "xaxis": "x",
         "y": [
          3481,
          3601,
          3680,
          3701,
          4346,
          6229,
          6504,
          6611,
          5399,
          5892,
          5131,
          4643,
          5066,
          5688,
          6251,
          7397,
          5340
         ],
         "yaxis": "y"
        },
        {
         "hovertemplate": "발생장소=울산광역시<br>년도=%{x}<br>발생건수=%{y}<extra></extra>",
         "legendgroup": "울산광역시",
         "line": {
          "color": "#FF6692",
          "dash": "solid"
         },
         "marker": {
          "symbol": "circle"
         },
         "mode": "lines+markers",
         "name": "울산광역시",
         "orientation": "v",
         "showlegend": true,
         "type": "scatter",
         "x": [
          "1994년",
          "1995년",
          "1996년",
          "1997년",
          "1998년",
          "1999년",
          "2000년",
          "2001년",
          "2002년",
          "2003년",
          "2004년",
          "2005년",
          "2006년",
          "2007년",
          "2008년",
          "2009년",
          "2010년"
         ],
         "xaxis": "x",
         "y": [
          5620,
          5513,
          6123,
          5655,
          5777,
          7130,
          8375,
          7927,
          6381,
          7098,
          5658,
          6299,
          6463,
          7229,
          7311,
          7246,
          7120
         ],
         "yaxis": "y"
        },
        {
         "hovertemplate": "발생장소=부천시<br>년도=%{x}<br>발생건수=%{y}<extra></extra>",
         "legendgroup": "부천시",
         "line": {
          "color": "#B6E880",
          "dash": "solid"
         },
         "marker": {
          "symbol": "circle"
         },
         "mode": "lines+markers",
         "name": "부천시",
         "orientation": "v",
         "showlegend": true,
         "type": "scatter",
         "x": [
          "1994년",
          "1995년",
          "1996년",
          "1997년",
          "1998년",
          "1999년",
          "2000년",
          "2001년",
          "2002년",
          "2003년",
          "2004년",
          "2005년",
          "2006년",
          "2007년",
          "2008년",
          "2009년",
          "2010년"
         ],
         "xaxis": "x",
         "y": [
          2805,
          2439,
          2771,
          2893,
          2881,
          4178,
          4972,
          4917,
          4564,
          4868,
          4755,
          6472,
          6505,
          6778,
          7117,
          7039,
          6812
         ],
         "yaxis": "y"
        },
        {
         "hovertemplate": "발생장소=수원시<br>년도=%{x}<br>발생건수=%{y}<extra></extra>",
         "legendgroup": "수원시",
         "line": {
          "color": "#FF97FF",
          "dash": "solid"
         },
         "marker": {
          "symbol": "circle"
         },
         "mode": "lines+markers",
         "name": "수원시",
         "orientation": "v",
         "showlegend": true,
         "type": "scatter",
         "x": [
          "1994년",
          "1995년",
          "1996년",
          "1997년",
          "1998년",
          "1999년",
          "2000년",
          "2001년",
          "2002년",
          "2003년",
          "2004년",
          "2005년",
          "2006년",
          "2007년",
          "2008년",
          "2009년",
          "2010년"
         ],
         "xaxis": "x",
         "y": [
          3212,
          3003,
          3314,
          3534,
          4065,
          5047,
          5619,
          5645,
          5638,
          6569,
          6414,
          6298,
          6295,
          6770,
          7070,
          7165,
          7098
         ],
         "yaxis": "y"
        },
        {
         "hovertemplate": "발생장소=성남시<br>년도=%{x}<br>발생건수=%{y}<extra></extra>",
         "legendgroup": "성남시",
         "line": {
          "color": "#FECB52",
          "dash": "solid"
         },
         "marker": {
          "symbol": "circle"
         },
         "mode": "lines+markers",
         "name": "성남시",
         "orientation": "v",
         "showlegend": true,
         "type": "scatter",
         "x": [
          "1994년",
          "1995년",
          "1996년",
          "1997년",
          "1998년",
          "1999년",
          "2000년",
          "2001년",
          "2002년",
          "2003년",
          "2004년",
          "2005년",
          "2006년",
          "2007년",
          "2008년",
          "2009년",
          "2010년"
         ],
         "xaxis": "x",
         "y": [
          3054,
          2956,
          3375,
          3609,
          4184,
          5465,
          5916,
          5804,
          5155,
          5893,
          4925,
          5228,
          5636,
          6412,
          6288,
          6528,
          5955
         ],
         "yaxis": "y"
        },
        {
         "hovertemplate": "발생장소=전주시<br>년도=%{x}<br>발생건수=%{y}<extra></extra>",
         "legendgroup": "전주시",
         "line": {
          "color": "#636efa",
          "dash": "solid"
         },
         "marker": {
          "symbol": "circle"
         },
         "mode": "lines+markers",
         "name": "전주시",
         "orientation": "v",
         "showlegend": true,
         "type": "scatter",
         "x": [
          "1994년",
          "1995년",
          "1996년",
          "1997년",
          "1998년",
          "1999년",
          "2000년",
          "2001년",
          "2002년",
          "2003년",
          "2004년",
          "2005년",
          "2006년",
          "2007년",
          "2008년",
          "2009년",
          "2010년"
         ],
         "xaxis": "x",
         "y": [
          2177,
          1953,
          2069,
          2101,
          2365,
          2590,
          2911,
          3190,
          2580,
          2406,
          2313,
          2652,
          2773,
          2716,
          2825,
          3227,
          3056
         ],
         "yaxis": "y"
        },
        {
         "hovertemplate": "발생장소=안양시<br>년도=%{x}<br>발생건수=%{y}<extra></extra>",
         "legendgroup": "안양시",
         "line": {
          "color": "#EF553B",
          "dash": "solid"
         },
         "marker": {
          "symbol": "circle"
         },
         "mode": "lines+markers",
         "name": "안양시",
         "orientation": "v",
         "showlegend": true,
         "type": "scatter",
         "x": [
          "1994년",
          "1995년",
          "1996년",
          "1997년",
          "1998년",
          "1999년",
          "2000년",
          "2001년",
          "2002년",
          "2003년",
          "2004년",
          "2005년",
          "2006년",
          "2007년",
          "2008년",
          "2009년",
          "2010년"
         ],
         "xaxis": "x",
         "y": [
          2313,
          2122,
          2168,
          2702,
          2668,
          3060,
          3470,
          3758,
          3192,
          2962,
          3536,
          3396,
          3487,
          3620,
          3556,
          3592,
          3457
         ],
         "yaxis": "y"
        },
        {
         "hovertemplate": "발생장소=청주시<br>년도=%{x}<br>발생건수=%{y}<extra></extra>",
         "legendgroup": "청주시",
         "line": {
          "color": "#00cc96",
          "dash": "solid"
         },
         "marker": {
          "symbol": "circle"
         },
         "mode": "lines+markers",
         "name": "청주시",
         "orientation": "v",
         "showlegend": true,
         "type": "scatter",
         "x": [
          "1994년",
          "1995년",
          "1996년",
          "1997년",
          "1998년",
          "1999년",
          "2000년",
          "2001년",
          "2002년",
          "2003년",
          "2004년",
          "2005년",
          "2006년",
          "2007년",
          "2008년",
          "2009년",
          "2010년"
         ],
         "xaxis": "x",
         "y": [
          2158,
          2336,
          2518,
          2379,
          2266,
          3018,
          4373,
          4784,
          3796,
          4018,
          2941,
          3140,
          4092,
          4584,
          4411,
          3375,
          4050
         ],
         "yaxis": "y"
        },
        {
         "hovertemplate": "발생장소=마산시<br>년도=%{x}<br>발생건수=%{y}<extra></extra>",
         "legendgroup": "마산시",
         "line": {
          "color": "#ab63fa",
          "dash": "solid"
         },
         "marker": {
          "symbol": "circle"
         },
         "mode": "lines+markers",
         "name": "마산시",
         "orientation": "v",
         "showlegend": true,
         "type": "scatter",
         "x": [
          "1994년",
          "1995년",
          "1996년",
          "1997년",
          "1998년",
          "1999년",
          "2000년",
          "2001년",
          "2002년",
          "2003년",
          "2004년",
          "2005년",
          "2006년",
          "2007년",
          "2008년",
          "2009년",
          "2010년"
         ],
         "xaxis": "x",
         "y": [
          2719,
          3239,
          3341,
          3384,
          3458,
          3890,
          4520,
          4492,
          3331,
          2916,
          2273,
          2409,
          2559,
          2470,
          2885,
          2627,
          2598
         ],
         "yaxis": "y"
        },
        {
         "hovertemplate": "발생장소=창원시<br>년도=%{x}<br>발생건수=%{y}<extra></extra>",
         "legendgroup": "창원시",
         "line": {
          "color": "#FFA15A",
          "dash": "solid"
         },
         "marker": {
          "symbol": "circle"
         },
         "mode": "lines+markers",
         "name": "창원시",
         "orientation": "v",
         "showlegend": true,
         "type": "scatter",
         "x": [
          "1994년",
          "1995년",
          "1996년",
          "1997년",
          "1998년",
          "1999년",
          "2000년",
          "2001년",
          "2002년",
          "2003년",
          "2004년",
          "2005년",
          "2006년",
          "2007년",
          "2008년",
          "2009년",
          "2010년"
         ],
         "xaxis": "x",
         "y": [
          1688,
          1605,
          1546,
          1640,
          1628,
          2386,
          3049,
          3442,
          2770,
          3013,
          2557,
          2635,
          2322,
          2605,
          2925,
          2746,
          2974
         ],
         "yaxis": "y"
        },
        {
         "hovertemplate": "발생장소=광명시<br>년도=%{x}<br>발생건수=%{y}<extra></extra>",
         "legendgroup": "광명시",
         "line": {
          "color": "#19d3f3",
          "dash": "solid"
         },
         "marker": {
          "symbol": "circle"
         },
         "mode": "lines+markers",
         "name": "광명시",
         "orientation": "v",
         "showlegend": true,
         "type": "scatter",
         "x": [
          "1994년",
          "1995년",
          "1996년",
          "1997년",
          "1998년",
          "1999년",
          "2000년",
          "2001년",
          "2002년",
          "2003년",
          "2004년",
          "2005년",
          "2006년",
          "2007년",
          "2008년",
          "2009년",
          "2010년"
         ],
         "xaxis": "x",
         "y": [
          947,
          997,
          1237,
          1378,
          1639,
          1650,
          1833,
          1885,
          1807,
          1850,
          2068,
          2019,
          2002,
          2133,
          2097,
          2495,
          2166
         ],
         "yaxis": "y"
        },
        {
         "hovertemplate": "발생장소=포항시<br>년도=%{x}<br>발생건수=%{y}<extra></extra>",
         "legendgroup": "포항시",
         "line": {
          "color": "#FF6692",
          "dash": "solid"
         },
         "marker": {
          "symbol": "circle"
         },
         "mode": "lines+markers",
         "name": "포항시",
         "orientation": "v",
         "showlegend": true,
         "type": "scatter",
         "x": [
          "1994년",
          "1995년",
          "1996년",
          "1997년",
          "1998년",
          "1999년",
          "2000년",
          "2001년",
          "2002년",
          "2003년",
          "2004년",
          "2005년",
          "2006년",
          "2007년",
          "2008년",
          "2009년",
          "2010년"
         ],
         "xaxis": "x",
         "y": [
          1881,
          1880,
          2070,
          2081,
          2512,
          3393,
          3872,
          3944,
          3062,
          3074,
          3396,
          3166,
          2850,
          2799,
          2991,
          2658,
          2511
         ],
         "yaxis": "y"
        },
        {
         "hovertemplate": "발생장소=안산시<br>년도=%{x}<br>발생건수=%{y}<extra></extra>",
         "legendgroup": "안산시",
         "line": {
          "color": "#B6E880",
          "dash": "solid"
         },
         "marker": {
          "symbol": "circle"
         },
         "mode": "lines+markers",
         "name": "안산시",
         "orientation": "v",
         "showlegend": true,
         "type": "scatter",
         "x": [
          "1994년",
          "1995년",
          "1996년",
          "1997년",
          "1998년",
          "1999년",
          "2000년",
          "2001년",
          "2002년",
          "2003년",
          "2004년",
          "2005년",
          "2006년",
          "2007년",
          "2008년",
          "2009년",
          "2010년"
         ],
         "xaxis": "x",
         "y": [
          1441,
          1458,
          1861,
          2056,
          2315,
          2861,
          2695,
          3051,
          3032,
          3501,
          3588,
          3750,
          3701,
          4390,
          4622,
          4483,
          4805
         ],
         "yaxis": "y"
        },
        {
         "hovertemplate": "발생장소=진주시<br>년도=%{x}<br>발생건수=%{y}<extra></extra>",
         "legendgroup": "진주시",
         "line": {
          "color": "#FF97FF",
          "dash": "solid"
         },
         "marker": {
          "symbol": "circle"
         },
         "mode": "lines+markers",
         "name": "진주시",
         "orientation": "v",
         "showlegend": true,
         "type": "scatter",
         "x": [
          "1994년",
          "1995년",
          "1996년",
          "1997년",
          "1998년",
          "1999년",
          "2000년",
          "2001년",
          "2002년",
          "2003년",
          "2004년",
          "2005년",
          "2006년",
          "2007년",
          "2008년",
          "2009년",
          "2010년"
         ],
         "xaxis": "x",
         "y": [
          1566,
          1544,
          1543,
          1622,
          1683,
          2171,
          2770,
          2408,
          1532,
          1790,
          1760,
          1561,
          1662,
          1853,
          1742,
          2040,
          1748
         ],
         "yaxis": "y"
        },
        {
         "hovertemplate": "발생장소=고양시<br>년도=%{x}<br>발생건수=%{y}<extra></extra>",
         "legendgroup": "고양시",
         "line": {
          "color": "#FECB52",
          "dash": "solid"
         },
         "marker": {
          "symbol": "circle"
         },
         "mode": "lines+markers",
         "name": "고양시",
         "orientation": "v",
         "showlegend": true,
         "type": "scatter",
         "x": [
          "1994년",
          "1995년",
          "1996년",
          "1997년",
          "1998년",
          "1999년",
          "2000년",
          "2001년",
          "2002년",
          "2003년",
          "2004년",
          "2005년",
          "2006년",
          "2007년",
          "2008년",
          "2009년",
          "2010년"
         ],
         "xaxis": "x",
         "y": [
          976,
          1338,
          1675,
          1860,
          2366,
          2693,
          3709,
          4158,
          3846,
          4162,
          4114,
          4872,
          4592,
          5102,
          5423,
          5170,
          4908
         ],
         "yaxis": "y"
        },
        {
         "hovertemplate": "발생장소=제주시<br>년도=%{x}<br>발생건수=%{y}<extra></extra>",
         "legendgroup": "제주시",
         "line": {
          "color": "#636efa",
          "dash": "solid"
         },
         "marker": {
          "symbol": "circle"
         },
         "mode": "lines+markers",
         "name": "제주시",
         "orientation": "v",
         "showlegend": true,
         "type": "scatter",
         "x": [
          "1994년",
          "1995년",
          "1996년",
          "1997년",
          "1998년",
          "1999년",
          "2000년",
          "2001년",
          "2002년",
          "2003년",
          "2004년",
          "2005년",
          "2006년",
          "2007년",
          "2008년",
          "2009년",
          "2010년"
         ],
         "xaxis": "x",
         "y": [
          2645,
          3180,
          3277,
          2880,
          2790,
          3534,
          3684,
          3711,
          3716,
          3542,
          5317,
          4933,
          4671,
          4386,
          5190,
          5015,
          4801
         ],
         "yaxis": "y"
        },
        {
         "hovertemplate": "발생장소=목포시<br>년도=%{x}<br>발생건수=%{y}<extra></extra>",
         "legendgroup": "목포시",
         "line": {
          "color": "#EF553B",
          "dash": "solid"
         },
         "marker": {
          "symbol": "circle"
         },
         "mode": "lines+markers",
         "name": "목포시",
         "orientation": "v",
         "showlegend": true,
         "type": "scatter",
         "x": [
          "1994년",
          "1995년",
          "1996년",
          "1997년",
          "1998년",
          "1999년",
          "2000년",
          "2001년",
          "2002년",
          "2003년",
          "2004년",
          "2005년",
          "2006년",
          "2007년",
          "2008년",
          "2009년",
          "2010년"
         ],
         "xaxis": "x",
         "y": [
          1539,
          1502,
          1425,
          1777,
          2135,
          2212,
          2437,
          2308,
          2238,
          2537,
          2515,
          2627,
          2536,
          2283,
          2637,
          2336,
          2348
         ],
         "yaxis": "y"
        },
        {
         "hovertemplate": "발생장소=의정부시<br>년도=%{x}<br>발생건수=%{y}<extra></extra>",
         "legendgroup": "의정부시",
         "line": {
          "color": "#00cc96",
          "dash": "solid"
         },
         "marker": {
          "symbol": "circle"
         },
         "mode": "lines+markers",
         "name": "의정부시",
         "orientation": "v",
         "showlegend": true,
         "type": "scatter",
         "x": [
          "1994년",
          "1995년",
          "1996년",
          "1997년",
          "1998년",
          "1999년",
          "2000년",
          "2001년",
          "2002년",
          "2003년",
          "2004년",
          "2005년",
          "2006년",
          "2007년",
          "2008년",
          "2009년",
          "2010년"
         ],
         "xaxis": "x",
         "y": [
          1473,
          1629,
          1675,
          1661,
          1603,
          1861,
          2600,
          2784,
          2882,
          2811,
          2768,
          2770,
          3290,
          3570,
          3819,
          3647,
          3334
         ],
         "yaxis": "y"
        },
        {
         "hovertemplate": "발생장소=익산시<br>년도=%{x}<br>발생건수=%{y}<extra></extra>",
         "legendgroup": "익산시",
         "line": {
          "color": "#ab63fa",
          "dash": "solid"
         },
         "marker": {
          "symbol": "circle"
         },
         "mode": "lines+markers",
         "name": "익산시",
         "orientation": "v",
         "showlegend": true,
         "type": "scatter",
         "x": [
          "1994년",
          "1995년",
          "1996년",
          "1997년",
          "1998년",
          "1999년",
          "2000년",
          "2001년",
          "2002년",
          "2003년",
          "2004년",
          "2005년",
          "2006년",
          "2007년",
          "2008년",
          "2009년",
          "2010년"
         ],
         "xaxis": "x",
         "y": [
          0,
          0,
          0,
          893,
          960,
          1165,
          1739,
          1731,
          1309,
          1473,
          1384,
          1377,
          1400,
          1487,
          1602,
          1746,
          1576
         ],
         "yaxis": "y"
        },
        {
         "hovertemplate": "발생장소=이리시<br>년도=%{x}<br>발생건수=%{y}<extra></extra>",
         "legendgroup": "이리시",
         "line": {
          "color": "#FFA15A",
          "dash": "solid"
         },
         "marker": {
          "symbol": "circle"
         },
         "mode": "lines+markers",
         "name": "이리시",
         "orientation": "v",
         "showlegend": true,
         "type": "scatter",
         "x": [
          "1994년",
          "1995년",
          "1996년",
          "1997년",
          "1998년",
          "1999년",
          "2000년",
          "2001년",
          "2002년",
          "2003년",
          "2004년",
          "2005년",
          "2006년",
          "2007년",
          "2008년",
          "2009년",
          "2010년"
         ],
         "xaxis": "x",
         "y": [
          960,
          854,
          853,
          0,
          0,
          0,
          0,
          0,
          0,
          0,
          0,
          0,
          0,
          0,
          0,
          0,
          0
         ],
         "yaxis": "y"
        },
        {
         "hovertemplate": "발생장소=군산시<br>년도=%{x}<br>발생건수=%{y}<extra></extra>",
         "legendgroup": "군산시",
         "line": {
          "color": "#19d3f3",
          "dash": "solid"
         },
         "marker": {
          "symbol": "circle"
         },
         "mode": "lines+markers",
         "name": "군산시",
         "orientation": "v",
         "showlegend": true,
         "type": "scatter",
         "x": [
          "1994년",
          "1995년",
          "1996년",
          "1997년",
          "1998년",
          "1999년",
          "2000년",
          "2001년",
          "2002년",
          "2003년",
          "2004년",
          "2005년",
          "2006년",
          "2007년",
          "2008년",
          "2009년",
          "2010년"
         ],
         "xaxis": "x",
         "y": [
          1111,
          1366,
          1396,
          1338,
          1485,
          1861,
          2032,
          1981,
          1470,
          1431,
          1390,
          1414,
          1450,
          1396,
          1235,
          1438,
          1252
         ],
         "yaxis": "y"
        },
        {
         "hovertemplate": "발생장소=구미시<br>년도=%{x}<br>발생건수=%{y}<extra></extra>",
         "legendgroup": "구미시",
         "line": {
          "color": "#FF6692",
          "dash": "solid"
         },
         "marker": {
          "symbol": "circle"
         },
         "mode": "lines+markers",
         "name": "구미시",
         "orientation": "v",
         "showlegend": true,
         "type": "scatter",
         "x": [
          "1994년",
          "1995년",
          "1996년",
          "1997년",
          "1998년",
          "1999년",
          "2000년",
          "2001년",
          "2002년",
          "2003년",
          "2004년",
          "2005년",
          "2006년",
          "2007년",
          "2008년",
          "2009년",
          "2010년"
         ],
         "xaxis": "x",
         "y": [
          1535,
          1386,
          1383,
          1234,
          1344,
          2650,
          3194,
          2600,
          2053,
          2281,
          2528,
          2335,
          2138,
          2171,
          2084,
          2149,
          2128
         ],
         "yaxis": "y"
        },
        {
         "hovertemplate": "발생장소=천안시<br>년도=%{x}<br>발생건수=%{y}<extra></extra>",
         "legendgroup": "천안시",
         "line": {
          "color": "#B6E880",
          "dash": "solid"
         },
         "marker": {
          "symbol": "circle"
         },
         "mode": "lines+markers",
         "name": "천안시",
         "orientation": "v",
         "showlegend": true,
         "type": "scatter",
         "x": [
          "1994년",
          "1995년",
          "1996년",
          "1997년",
          "1998년",
          "1999년",
          "2000년",
          "2001년",
          "2002년",
          "2003년",
          "2004년",
          "2005년",
          "2006년",
          "2007년",
          "2008년",
          "2009년",
          "2010년"
         ],
         "xaxis": "x",
         "y": [
          747,
          984,
          872,
          974,
          978,
          1318,
          1917,
          1831,
          1306,
          1489,
          1710,
          1720,
          2184,
          2425,
          2520,
          2911,
          2240
         ],
         "yaxis": "y"
        },
        {
         "hovertemplate": "발생장소=여수시<br>년도=%{x}<br>발생건수=%{y}<extra></extra>",
         "legendgroup": "여수시",
         "line": {
          "color": "#FF97FF",
          "dash": "solid"
         },
         "marker": {
          "symbol": "circle"
         },
         "mode": "lines+markers",
         "name": "여수시",
         "orientation": "v",
         "showlegend": true,
         "type": "scatter",
         "x": [
          "1994년",
          "1995년",
          "1996년",
          "1997년",
          "1998년",
          "1999년",
          "2000년",
          "2001년",
          "2002년",
          "2003년",
          "2004년",
          "2005년",
          "2006년",
          "2007년",
          "2008년",
          "2009년",
          "2010년"
         ],
         "xaxis": "x",
         "y": [
          1353,
          1393,
          1540,
          1474,
          1716,
          2123,
          2313,
          2154,
          1925,
          2473,
          2363,
          2503,
          2269,
          2213,
          2021,
          1936,
          1899
         ],
         "yaxis": "y"
        },
        {
         "hovertemplate": "발생장소=춘천시<br>년도=%{x}<br>발생건수=%{y}<extra></extra>",
         "legendgroup": "춘천시",
         "line": {
          "color": "#FECB52",
          "dash": "solid"
         },
         "marker": {
          "symbol": "circle"
         },
         "mode": "lines+markers",
         "name": "춘천시",
         "orientation": "v",
         "showlegend": true,
         "type": "scatter",
         "x": [
          "1994년",
          "1995년",
          "1996년",
          "1997년",
          "1998년",
          "1999년",
          "2000년",
          "2001년",
          "2002년",
          "2003년",
          "2004년",
          "2005년",
          "2006년",
          "2007년",
          "2008년",
          "2009년",
          "2010년"
         ],
         "xaxis": "x",
         "y": [
          943,
          1064,
          1014,
          992,
          1005,
          1451,
          2164,
          2088,
          1175,
          1050,
          966,
          868,
          1108,
          1469,
          1610,
          1649,
          2169
         ],
         "yaxis": "y"
        },
        {
         "hovertemplate": "발생장소=원주시<br>년도=%{x}<br>발생건수=%{y}<extra></extra>",
         "legendgroup": "원주시",
         "line": {
          "color": "#636efa",
          "dash": "solid"
         },
         "marker": {
          "symbol": "circle"
         },
         "mode": "lines+markers",
         "name": "원주시",
         "orientation": "v",
         "showlegend": true,
         "type": "scatter",
         "x": [
          "1994년",
          "1995년",
          "1996년",
          "1997년",
          "1998년",
          "1999년",
          "2000년",
          "2001년",
          "2002년",
          "2003년",
          "2004년",
          "2005년",
          "2006년",
          "2007년",
          "2008년",
          "2009년",
          "2010년"
         ],
         "xaxis": "x",
         "y": [
          620,
          585,
          916,
          1065,
          1091,
          1518,
          1843,
          1845,
          1742,
          1529,
          1384,
          1379,
          1930,
          2277,
          2513,
          2661,
          3118
         ],
         "yaxis": "y"
        },
        {
         "hovertemplate": "발생장소=평택시<br>년도=%{x}<br>발생건수=%{y}<extra></extra>",
         "legendgroup": "평택시",
         "line": {
          "color": "#EF553B",
          "dash": "solid"
         },
         "marker": {
          "symbol": "circle"
         },
         "mode": "lines+markers",
         "name": "평택시",
         "orientation": "v",
         "showlegend": true,
         "type": "scatter",
         "x": [
          "1994년",
          "1995년",
          "1996년",
          "1997년",
          "1998년",
          "1999년",
          "2000년",
          "2001년",
          "2002년",
          "2003년",
          "2004년",
          "2005년",
          "2006년",
          "2007년",
          "2008년",
          "2009년",
          "2010년"
         ],
         "xaxis": "x",
         "y": [
          0,
          0,
          0,
          5842,
          3013,
          1928,
          1932,
          2010,
          1737,
          2115,
          1980,
          2275,
          2066,
          2321,
          2427,
          2788,
          2595
         ],
         "yaxis": "y"
        },
        {
         "hovertemplate": "발생장소=경주시<br>년도=%{x}<br>발생건수=%{y}<extra></extra>",
         "legendgroup": "경주시",
         "line": {
          "color": "#00cc96",
          "dash": "solid"
         },
         "marker": {
          "symbol": "circle"
         },
         "mode": "lines+markers",
         "name": "경주시",
         "orientation": "v",
         "showlegend": true,
         "type": "scatter",
         "x": [
          "1994년",
          "1995년",
          "1996년",
          "1997년",
          "1998년",
          "1999년",
          "2000년",
          "2001년",
          "2002년",
          "2003년",
          "2004년",
          "2005년",
          "2006년",
          "2007년",
          "2008년",
          "2009년",
          "2010년"
         ],
         "xaxis": "x",
         "y": [
          0,
          0,
          0,
          4642,
          2096,
          1456,
          1124,
          1175,
          1092,
          1115,
          1185,
          1198,
          1127,
          1333,
          1455,
          1613,
          1430
         ],
         "yaxis": "y"
        },
        {
         "hovertemplate": "발생장소=김해시<br>년도=%{x}<br>발생건수=%{y}<extra></extra>",
         "legendgroup": "김해시",
         "line": {
          "color": "#ab63fa",
          "dash": "solid"
         },
         "marker": {
          "symbol": "circle"
         },
         "mode": "lines+markers",
         "name": "김해시",
         "orientation": "v",
         "showlegend": true,
         "type": "scatter",
         "x": [
          "1994년",
          "1995년",
          "1996년",
          "1997년",
          "1998년",
          "1999년",
          "2000년",
          "2001년",
          "2002년",
          "2003년",
          "2004년",
          "2005년",
          "2006년",
          "2007년",
          "2008년",
          "2009년",
          "2010년"
         ],
         "xaxis": "x",
         "y": [
          0,
          0,
          0,
          1109,
          1356,
          1872,
          2462,
          2074,
          1942,
          2264,
          2094,
          2448,
          2444,
          2433,
          2487,
          2717,
          3097
         ],
         "yaxis": "y"
        },
        {
         "hovertemplate": "발생장소=순천시<br>년도=%{x}<br>발생건수=%{y}<extra></extra>",
         "legendgroup": "순천시",
         "line": {
          "color": "#FFA15A",
          "dash": "solid"
         },
         "marker": {
          "symbol": "circle"
         },
         "mode": "lines+markers",
         "name": "순천시",
         "orientation": "v",
         "showlegend": true,
         "type": "scatter",
         "x": [
          "1994년",
          "1995년",
          "1996년",
          "1997년",
          "1998년",
          "1999년",
          "2000년",
          "2001년",
          "2002년",
          "2003년",
          "2004년",
          "2005년",
          "2006년",
          "2007년",
          "2008년",
          "2009년",
          "2010년"
         ],
         "xaxis": "x",
         "y": [
          0,
          0,
          0,
          828,
          1269,
          1508,
          1626,
          1813,
          1682,
          2253,
          2110,
          2013,
          2114,
          1729,
          1819,
          1751,
          1620
         ],
         "yaxis": "y"
        },
        {
         "hovertemplate": "발생장소=군포시<br>년도=%{x}<br>발생건수=%{y}<extra></extra>",
         "legendgroup": "군포시",
         "line": {
          "color": "#19d3f3",
          "dash": "solid"
         },
         "marker": {
          "symbol": "circle"
         },
         "mode": "lines+markers",
         "name": "군포시",
         "orientation": "v",
         "showlegend": true,
         "type": "scatter",
         "x": [
          "1994년",
          "1995년",
          "1996년",
          "1997년",
          "1998년",
          "1999년",
          "2000년",
          "2001년",
          "2002년",
          "2003년",
          "2004년",
          "2005년",
          "2006년",
          "2007년",
          "2008년",
          "2009년",
          "2010년"
         ],
         "xaxis": "x",
         "y": [
          0,
          0,
          0,
          45,
          230,
          897,
          1578,
          1652,
          1420,
          1486,
          1383,
          1207,
          1149,
          1167,
          1420,
          1226,
          1297
         ],
         "yaxis": "y"
        },
        {
         "hovertemplate": "발생장소=남양주시<br>년도=%{x}<br>발생건수=%{y}<extra></extra>",
         "legendgroup": "남양주시",
         "line": {
          "color": "#FF6692",
          "dash": "solid"
         },
         "marker": {
          "symbol": "circle"
         },
         "mode": "lines+markers",
         "name": "남양주시",
         "orientation": "v",
         "showlegend": true,
         "type": "scatter",
         "x": [
          "1994년",
          "1995년",
          "1996년",
          "1997년",
          "1998년",
          "1999년",
          "2000년",
          "2001년",
          "2002년",
          "2003년",
          "2004년",
          "2005년",
          "2006년",
          "2007년",
          "2008년",
          "2009년",
          "2010년"
         ],
         "xaxis": "x",
         "y": [
          0,
          0,
          0,
          1197,
          1663,
          2211,
          2130,
          2017,
          1445,
          1584,
          1828,
          1742,
          1630,
          1947,
          2154,
          2041,
          2256
         ],
         "yaxis": "y"
        },
        {
         "hovertemplate": "발생장소=강릉시<br>년도=%{x}<br>발생건수=%{y}<extra></extra>",
         "legendgroup": "강릉시",
         "line": {
          "color": "#B6E880",
          "dash": "solid"
         },
         "marker": {
          "symbol": "circle"
         },
         "mode": "lines+markers",
         "name": "강릉시",
         "orientation": "v",
         "showlegend": true,
         "type": "scatter",
         "x": [
          "1994년",
          "1995년",
          "1996년",
          "1997년",
          "1998년",
          "1999년",
          "2000년",
          "2001년",
          "2002년",
          "2003년",
          "2004년",
          "2005년",
          "2006년",
          "2007년",
          "2008년",
          "2009년",
          "2010년"
         ],
         "xaxis": "x",
         "y": [
          0,
          0,
          0,
          436,
          888,
          2022,
          2851,
          2544,
          1884,
          2099,
          2003,
          1915,
          1734,
          1790,
          1731,
          2416,
          2157
         ],
         "yaxis": "y"
        },
        {
         "hovertemplate": "발생장소=충주시<br>년도=%{x}<br>발생건수=%{y}<extra></extra>",
         "legendgroup": "충주시",
         "line": {
          "color": "#FF97FF",
          "dash": "solid"
         },
         "marker": {
          "symbol": "circle"
         },
         "mode": "lines+markers",
         "name": "충주시",
         "orientation": "v",
         "showlegend": true,
         "type": "scatter",
         "x": [
          "1994년",
          "1995년",
          "1996년",
          "1997년",
          "1998년",
          "1999년",
          "2000년",
          "2001년",
          "2002년",
          "2003년",
          "2004년",
          "2005년",
          "2006년",
          "2007년",
          "2008년",
          "2009년",
          "2010년"
         ],
         "xaxis": "x",
         "y": [
          0,
          0,
          0,
          15,
          53,
          854,
          1202,
          1069,
          621,
          793,
          659,
          613,
          703,
          930,
          1194,
          1106,
          1112
         ],
         "yaxis": "y"
        },
        {
         "hovertemplate": "발생장소=안동시<br>년도=%{x}<br>발생건수=%{y}<extra></extra>",
         "legendgroup": "안동시",
         "line": {
          "color": "#FECB52",
          "dash": "solid"
         },
         "marker": {
          "symbol": "circle"
         },
         "mode": "lines+markers",
         "name": "안동시",
         "orientation": "v",
         "showlegend": true,
         "type": "scatter",
         "x": [
          "1994년",
          "1995년",
          "1996년",
          "1997년",
          "1998년",
          "1999년",
          "2000년",
          "2001년",
          "2002년",
          "2003년",
          "2004년",
          "2005년",
          "2006년",
          "2007년",
          "2008년",
          "2009년",
          "2010년"
         ],
         "xaxis": "x",
         "y": [
          0,
          0,
          0,
          405,
          656,
          1248,
          914,
          980,
          908,
          982,
          1258,
          1144,
          1189,
          1122,
          1271,
          1311,
          1062
         ],
         "yaxis": "y"
        },
        {
         "hovertemplate": "발생장소=경산시<br>년도=%{x}<br>발생건수=%{y}<extra></extra>",
         "legendgroup": "경산시",
         "line": {
          "color": "#636efa",
          "dash": "solid"
         },
         "marker": {
          "symbol": "circle"
         },
         "mode": "lines+markers",
         "name": "경산시",
         "orientation": "v",
         "showlegend": true,
         "type": "scatter",
         "x": [
          "1994년",
          "1995년",
          "1996년",
          "1997년",
          "1998년",
          "1999년",
          "2000년",
          "2001년",
          "2002년",
          "2003년",
          "2004년",
          "2005년",
          "2006년",
          "2007년",
          "2008년",
          "2009년",
          "2010년"
         ],
         "xaxis": "x",
         "y": [
          0,
          0,
          0,
          22,
          72,
          800,
          1099,
          1138,
          926,
          930,
          945,
          1078,
          1048,
          1393,
          1603,
          1585,
          1420
         ],
         "yaxis": "y"
        },
        {
         "hovertemplate": "발생장소=아산시<br>년도=%{x}<br>발생건수=%{y}<extra></extra>",
         "legendgroup": "아산시",
         "line": {
          "color": "#EF553B",
          "dash": "solid"
         },
         "marker": {
          "symbol": "circle"
         },
         "mode": "lines+markers",
         "name": "아산시",
         "orientation": "v",
         "showlegend": true,
         "type": "scatter",
         "x": [
          "1994년",
          "1995년",
          "1996년",
          "1997년",
          "1998년",
          "1999년",
          "2000년",
          "2001년",
          "2002년",
          "2003년",
          "2004년",
          "2005년",
          "2006년",
          "2007년",
          "2008년",
          "2009년",
          "2010년"
         ],
         "xaxis": "x",
         "y": [
          0,
          0,
          0,
          502,
          621,
          683,
          930,
          1083,
          823,
          965,
          826,
          720,
          862,
          847,
          765,
          710,
          778
         ],
         "yaxis": "y"
        },
        {
         "hovertemplate": "발생장소=거제시<br>년도=%{x}<br>발생건수=%{y}<extra></extra>",
         "legendgroup": "거제시",
         "line": {
          "color": "#00cc96",
          "dash": "solid"
         },
         "marker": {
          "symbol": "circle"
         },
         "mode": "lines+markers",
         "name": "거제시",
         "orientation": "v",
         "showlegend": true,
         "type": "scatter",
         "x": [
          "1994년",
          "1995년",
          "1996년",
          "1997년",
          "1998년",
          "1999년",
          "2000년",
          "2001년",
          "2002년",
          "2003년",
          "2004년",
          "2005년",
          "2006년",
          "2007년",
          "2008년",
          "2009년",
          "2010년"
         ],
         "xaxis": "x",
         "y": [
          0,
          0,
          0,
          690,
          710,
          757,
          947,
          1038,
          680,
          750,
          848,
          1037,
          1001,
          1087,
          1124,
          1036,
          884
         ],
         "yaxis": "y"
        },
        {
         "hovertemplate": "발생장소=김천시<br>년도=%{x}<br>발생건수=%{y}<extra></extra>",
         "legendgroup": "김천시",
         "line": {
          "color": "#ab63fa",
          "dash": "solid"
         },
         "marker": {
          "symbol": "circle"
         },
         "mode": "lines+markers",
         "name": "김천시",
         "orientation": "v",
         "showlegend": true,
         "type": "scatter",
         "x": [
          "1994년",
          "1995년",
          "1996년",
          "1997년",
          "1998년",
          "1999년",
          "2000년",
          "2001년",
          "2002년",
          "2003년",
          "2004년",
          "2005년",
          "2006년",
          "2007년",
          "2008년",
          "2009년",
          "2010년"
         ],
         "xaxis": "x",
         "y": [
          0,
          0,
          0,
          333,
          406,
          477,
          713,
          792,
          678,
          698,
          646,
          641,
          610,
          607,
          560,
          598,
          548
         ],
         "yaxis": "y"
        },
        {
         "hovertemplate": "발생장소=정읍시<br>년도=%{x}<br>발생건수=%{y}<extra></extra>",
         "legendgroup": "정읍시",
         "line": {
          "color": "#FFA15A",
          "dash": "solid"
         },
         "marker": {
          "symbol": "circle"
         },
         "mode": "lines+markers",
         "name": "정읍시",
         "orientation": "v",
         "showlegend": true,
         "type": "scatter",
         "x": [
          "1994년",
          "1995년",
          "1996년",
          "1997년",
          "1998년",
          "1999년",
          "2000년",
          "2001년",
          "2002년",
          "2003년",
          "2004년",
          "2005년",
          "2006년",
          "2007년",
          "2008년",
          "2009년",
          "2010년"
         ],
         "xaxis": "x",
         "y": [
          0,
          0,
          0,
          192,
          275,
          315,
          382,
          428,
          358,
          406,
          457,
          439,
          513,
          554,
          537,
          591,
          549
         ],
         "yaxis": "y"
        },
        {
         "hovertemplate": "발생장소=용인시<br>년도=%{x}<br>발생건수=%{y}<extra></extra>",
         "legendgroup": "용인시",
         "line": {
          "color": "#19d3f3",
          "dash": "solid"
         },
         "marker": {
          "symbol": "circle"
         },
         "mode": "lines+markers",
         "name": "용인시",
         "orientation": "v",
         "showlegend": true,
         "type": "scatter",
         "x": [
          "1994년",
          "1995년",
          "1996년",
          "1997년",
          "1998년",
          "1999년",
          "2000년",
          "2001년",
          "2002년",
          "2003년",
          "2004년",
          "2005년",
          "2006년",
          "2007년",
          "2008년",
          "2009년",
          "2010년"
         ],
         "xaxis": "x",
         "y": [
          0,
          0,
          0,
          0,
          0,
          0,
          0,
          0,
          0,
          0,
          1603,
          2014,
          1879,
          2274,
          2418,
          2575,
          2577
         ],
         "yaxis": "y"
        },
        {
         "hovertemplate": "발생장소=시흥시<br>년도=%{x}<br>발생건수=%{y}<extra></extra>",
         "legendgroup": "시흥시",
         "line": {
          "color": "#FF6692",
          "dash": "solid"
         },
         "marker": {
          "symbol": "circle"
         },
         "mode": "lines+markers",
         "name": "시흥시",
         "orientation": "v",
         "showlegend": true,
         "type": "scatter",
         "x": [
          "1994년",
          "1995년",
          "1996년",
          "1997년",
          "1998년",
          "1999년",
          "2000년",
          "2001년",
          "2002년",
          "2003년",
          "2004년",
          "2005년",
          "2006년",
          "2007년",
          "2008년",
          "2009년",
          "2010년"
         ],
         "xaxis": "x",
         "y": [
          0,
          0,
          0,
          0,
          0,
          0,
          0,
          0,
          0,
          0,
          2411,
          2668,
          2393,
          2669,
          2667,
          2796,
          2656
         ],
         "yaxis": "y"
        },
        {
         "hovertemplate": "발생장소=파주시<br>년도=%{x}<br>발생건수=%{y}<extra></extra>",
         "legendgroup": "파주시",
         "line": {
          "color": "#B6E880",
          "dash": "solid"
         },
         "marker": {
          "symbol": "circle"
         },
         "mode": "lines+markers",
         "name": "파주시",
         "orientation": "v",
         "showlegend": true,
         "type": "scatter",
         "x": [
          "1994년",
          "1995년",
          "1996년",
          "1997년",
          "1998년",
          "1999년",
          "2000년",
          "2001년",
          "2002년",
          "2003년",
          "2004년",
          "2005년",
          "2006년",
          "2007년",
          "2008년",
          "2009년",
          "2010년"
         ],
         "xaxis": "x",
         "y": [
          0,
          0,
          0,
          0,
          0,
          0,
          0,
          0,
          0,
          0,
          927,
          1279,
          1265,
          1442,
          1514,
          1772,
          1821
         ],
         "yaxis": "y"
        },
        {
         "hovertemplate": "발생장소=양산시<br>년도=%{x}<br>발생건수=%{y}<extra></extra>",
         "legendgroup": "양산시",
         "line": {
          "color": "#FF97FF",
          "dash": "solid"
         },
         "marker": {
          "symbol": "circle"
         },
         "mode": "lines+markers",
         "name": "양산시",
         "orientation": "v",
         "showlegend": true,
         "type": "scatter",
         "x": [
          "1994년",
          "1995년",
          "1996년",
          "1997년",
          "1998년",
          "1999년",
          "2000년",
          "2001년",
          "2002년",
          "2003년",
          "2004년",
          "2005년",
          "2006년",
          "2007년",
          "2008년",
          "2009년",
          "2010년"
         ],
         "xaxis": "x",
         "y": [
          0,
          0,
          0,
          0,
          0,
          0,
          0,
          0,
          0,
          0,
          920,
          824,
          1058,
          1176,
          1202,
          1237,
          1470
         ],
         "yaxis": "y"
        },
        {
         "hovertemplate": "발생장소=이천시<br>년도=%{x}<br>발생건수=%{y}<extra></extra>",
         "legendgroup": "이천시",
         "line": {
          "color": "#FECB52",
          "dash": "solid"
         },
         "marker": {
          "symbol": "circle"
         },
         "mode": "lines+markers",
         "name": "이천시",
         "orientation": "v",
         "showlegend": true,
         "type": "scatter",
         "x": [
          "1994년",
          "1995년",
          "1996년",
          "1997년",
          "1998년",
          "1999년",
          "2000년",
          "2001년",
          "2002년",
          "2003년",
          "2004년",
          "2005년",
          "2006년",
          "2007년",
          "2008년",
          "2009년",
          "2010년"
         ],
         "xaxis": "x",
         "y": [
          0,
          0,
          0,
          0,
          0,
          0,
          0,
          0,
          0,
          0,
          822,
          873,
          921,
          911,
          1047,
          1127,
          1055
         ],
         "yaxis": "y"
        },
        {
         "hovertemplate": "발생장소=구리시<br>년도=%{x}<br>발생건수=%{y}<extra></extra>",
         "legendgroup": "구리시",
         "line": {
          "color": "#636efa",
          "dash": "solid"
         },
         "marker": {
          "symbol": "circle"
         },
         "mode": "lines+markers",
         "name": "구리시",
         "orientation": "v",
         "showlegend": true,
         "type": "scatter",
         "x": [
          "1994년",
          "1995년",
          "1996년",
          "1997년",
          "1998년",
          "1999년",
          "2000년",
          "2001년",
          "2002년",
          "2003년",
          "2004년",
          "2005년",
          "2006년",
          "2007년",
          "2008년",
          "2009년",
          "2010년"
         ],
         "xaxis": "x",
         "y": [
          0,
          0,
          0,
          0,
          0,
          0,
          0,
          0,
          0,
          0,
          1535,
          1675,
          1439,
          1714,
          1831,
          1688,
          1576
         ],
         "yaxis": "y"
        },
        {
         "hovertemplate": "발생장소=서산시<br>년도=%{x}<br>발생건수=%{y}<extra></extra>",
         "legendgroup": "서산시",
         "line": {
          "color": "#EF553B",
          "dash": "solid"
         },
         "marker": {
          "symbol": "circle"
         },
         "mode": "lines+markers",
         "name": "서산시",
         "orientation": "v",
         "showlegend": true,
         "type": "scatter",
         "x": [
          "1994년",
          "1995년",
          "1996년",
          "1997년",
          "1998년",
          "1999년",
          "2000년",
          "2001년",
          "2002년",
          "2003년",
          "2004년",
          "2005년",
          "2006년",
          "2007년",
          "2008년",
          "2009년",
          "2010년"
         ],
         "xaxis": "x",
         "y": [
          0,
          0,
          0,
          0,
          0,
          0,
          0,
          0,
          0,
          0,
          435,
          406,
          383,
          497,
          592,
          548,
          640
         ],
         "yaxis": "y"
        },
        {
         "hovertemplate": "발생장소=제천시<br>년도=%{x}<br>발생건수=%{y}<extra></extra>",
         "legendgroup": "제천시",
         "line": {
          "color": "#00cc96",
          "dash": "solid"
         },
         "marker": {
          "symbol": "circle"
         },
         "mode": "lines+markers",
         "name": "제천시",
         "orientation": "v",
         "showlegend": true,
         "type": "scatter",
         "x": [
          "1994년",
          "1995년",
          "1996년",
          "1997년",
          "1998년",
          "1999년",
          "2000년",
          "2001년",
          "2002년",
          "2003년",
          "2004년",
          "2005년",
          "2006년",
          "2007년",
          "2008년",
          "2009년",
          "2010년"
         ],
         "xaxis": "x",
         "y": [
          0,
          0,
          0,
          0,
          0,
          0,
          0,
          0,
          0,
          0,
          618,
          667,
          713,
          952,
          866,
          765,
          726
         ],
         "yaxis": "y"
        },
        {
         "hovertemplate": "발생장소=논산시<br>년도=%{x}<br>발생건수=%{y}<extra></extra>",
         "legendgroup": "논산시",
         "line": {
          "color": "#ab63fa",
          "dash": "solid"
         },
         "marker": {
          "symbol": "circle"
         },
         "mode": "lines+markers",
         "name": "논산시",
         "orientation": "v",
         "showlegend": true,
         "type": "scatter",
         "x": [
          "1994년",
          "1995년",
          "1996년",
          "1997년",
          "1998년",
          "1999년",
          "2000년",
          "2001년",
          "2002년",
          "2003년",
          "2004년",
          "2005년",
          "2006년",
          "2007년",
          "2008년",
          "2009년",
          "2010년"
         ],
         "xaxis": "x",
         "y": [
          0,
          0,
          0,
          0,
          0,
          0,
          0,
          0,
          0,
          0,
          484,
          567,
          522,
          486,
          531,
          447,
          372
         ],
         "yaxis": "y"
        },
        {
         "hovertemplate": "발생장소=기타도시<br>년도=%{x}<br>발생건수=%{y}<extra></extra>",
         "legendgroup": "기타도시",
         "line": {
          "color": "#FFA15A",
          "dash": "solid"
         },
         "marker": {
          "symbol": "circle"
         },
         "mode": "lines+markers",
         "name": "기타도시",
         "orientation": "v",
         "showlegend": true,
         "type": "scatter",
         "x": [
          "1994년",
          "1995년",
          "1996년",
          "1997년",
          "1998년",
          "1999년",
          "2000년",
          "2001년",
          "2002년",
          "2003년",
          "2004년",
          "2005년",
          "2006년",
          "2007년",
          "2008년",
          "2009년",
          "2010년"
         ],
         "xaxis": "x",
         "y": [
          15287,
          16360,
          19718,
          12219,
          16386,
          19933,
          20045,
          20403,
          18300,
          19581,
          18802,
          19234,
          18590,
          19648,
          21168,
          22267,
          21044
         ],
         "yaxis": "y"
        },
        {
         "hovertemplate": "발생장소=도시이외<br>년도=%{x}<br>발생건수=%{y}<extra></extra>",
         "legendgroup": "도시이외",
         "line": {
          "color": "#19d3f3",
          "dash": "solid"
         },
         "marker": {
          "symbol": "circle"
         },
         "mode": "lines+markers",
         "name": "도시이외",
         "orientation": "v",
         "showlegend": true,
         "type": "scatter",
         "x": [
          "1994년",
          "1995년",
          "1996년",
          "1997년",
          "1998년",
          "1999년",
          "2000년",
          "2001년",
          "2002년",
          "2003년",
          "2004년",
          "2005년",
          "2006년",
          "2007년",
          "2008년",
          "2009년",
          "2010년"
         ],
         "xaxis": "x",
         "y": [
          26484,
          22048,
          20880,
          13616,
          17258,
          21557,
          23275,
          21670,
          17989,
          18421,
          17484,
          16755,
          16680,
          17095,
          18005,
          17803,
          17244
         ],
         "yaxis": "y"
        },
        {
         "hovertemplate": "발생장소=기타<br>년도=%{x}<br>발생건수=%{y}<extra></extra>",
         "legendgroup": "기타",
         "line": {
          "color": "#FF6692",
          "dash": "solid"
         },
         "marker": {
          "symbol": "circle"
         },
         "mode": "lines+markers",
         "name": "기타",
         "orientation": "v",
         "showlegend": true,
         "type": "scatter",
         "x": [
          "1994년",
          "1995년",
          "1996년",
          "1997년",
          "1998년",
          "1999년",
          "2000년",
          "2001년",
          "2002년",
          "2003년",
          "2004년",
          "2005년",
          "2006년",
          "2007년",
          "2008년",
          "2009년",
          "2010년"
         ],
         "xaxis": "x",
         "y": [
          59,
          12,
          54,
          7,
          10,
          987,
          8503,
          10443,
          8521,
          9469,
          0,
          0,
          0,
          0,
          0,
          0,
          0
         ],
         "yaxis": "y"
        }
       ],
       "layout": {
        "legend": {
         "title": {
          "text": "발생장소"
         },
         "tracegroupgap": 0
        },
        "template": {
         "data": {
          "bar": [
           {
            "error_x": {
             "color": "#2a3f5f"
            },
            "error_y": {
             "color": "#2a3f5f"
            },
            "marker": {
             "line": {
              "color": "#E5ECF6",
              "width": 0.5
             },
             "pattern": {
              "fillmode": "overlay",
              "size": 10,
              "solidity": 0.2
             }
            },
            "type": "bar"
           }
          ],
          "barpolar": [
           {
            "marker": {
             "line": {
              "color": "#E5ECF6",
              "width": 0.5
             },
             "pattern": {
              "fillmode": "overlay",
              "size": 10,
              "solidity": 0.2
             }
            },
            "type": "barpolar"
           }
          ],
          "carpet": [
           {
            "aaxis": {
             "endlinecolor": "#2a3f5f",
             "gridcolor": "white",
             "linecolor": "white",
             "minorgridcolor": "white",
             "startlinecolor": "#2a3f5f"
            },
            "baxis": {
             "endlinecolor": "#2a3f5f",
             "gridcolor": "white",
             "linecolor": "white",
             "minorgridcolor": "white",
             "startlinecolor": "#2a3f5f"
            },
            "type": "carpet"
           }
          ],
          "choropleth": [
           {
            "colorbar": {
             "outlinewidth": 0,
             "ticks": ""
            },
            "type": "choropleth"
           }
          ],
          "contour": [
           {
            "colorbar": {
             "outlinewidth": 0,
             "ticks": ""
            },
            "colorscale": [
             [
              0,
              "#0d0887"
             ],
             [
              0.1111111111111111,
              "#46039f"
             ],
             [
              0.2222222222222222,
              "#7201a8"
             ],
             [
              0.3333333333333333,
              "#9c179e"
             ],
             [
              0.4444444444444444,
              "#bd3786"
             ],
             [
              0.5555555555555556,
              "#d8576b"
             ],
             [
              0.6666666666666666,
              "#ed7953"
             ],
             [
              0.7777777777777778,
              "#fb9f3a"
             ],
             [
              0.8888888888888888,
              "#fdca26"
             ],
             [
              1,
              "#f0f921"
             ]
            ],
            "type": "contour"
           }
          ],
          "contourcarpet": [
           {
            "colorbar": {
             "outlinewidth": 0,
             "ticks": ""
            },
            "type": "contourcarpet"
           }
          ],
          "heatmap": [
           {
            "colorbar": {
             "outlinewidth": 0,
             "ticks": ""
            },
            "colorscale": [
             [
              0,
              "#0d0887"
             ],
             [
              0.1111111111111111,
              "#46039f"
             ],
             [
              0.2222222222222222,
              "#7201a8"
             ],
             [
              0.3333333333333333,
              "#9c179e"
             ],
             [
              0.4444444444444444,
              "#bd3786"
             ],
             [
              0.5555555555555556,
              "#d8576b"
             ],
             [
              0.6666666666666666,
              "#ed7953"
             ],
             [
              0.7777777777777778,
              "#fb9f3a"
             ],
             [
              0.8888888888888888,
              "#fdca26"
             ],
             [
              1,
              "#f0f921"
             ]
            ],
            "type": "heatmap"
           }
          ],
          "heatmapgl": [
           {
            "colorbar": {
             "outlinewidth": 0,
             "ticks": ""
            },
            "colorscale": [
             [
              0,
              "#0d0887"
             ],
             [
              0.1111111111111111,
              "#46039f"
             ],
             [
              0.2222222222222222,
              "#7201a8"
             ],
             [
              0.3333333333333333,
              "#9c179e"
             ],
             [
              0.4444444444444444,
              "#bd3786"
             ],
             [
              0.5555555555555556,
              "#d8576b"
             ],
             [
              0.6666666666666666,
              "#ed7953"
             ],
             [
              0.7777777777777778,
              "#fb9f3a"
             ],
             [
              0.8888888888888888,
              "#fdca26"
             ],
             [
              1,
              "#f0f921"
             ]
            ],
            "type": "heatmapgl"
           }
          ],
          "histogram": [
           {
            "marker": {
             "pattern": {
              "fillmode": "overlay",
              "size": 10,
              "solidity": 0.2
             }
            },
            "type": "histogram"
           }
          ],
          "histogram2d": [
           {
            "colorbar": {
             "outlinewidth": 0,
             "ticks": ""
            },
            "colorscale": [
             [
              0,
              "#0d0887"
             ],
             [
              0.1111111111111111,
              "#46039f"
             ],
             [
              0.2222222222222222,
              "#7201a8"
             ],
             [
              0.3333333333333333,
              "#9c179e"
             ],
             [
              0.4444444444444444,
              "#bd3786"
             ],
             [
              0.5555555555555556,
              "#d8576b"
             ],
             [
              0.6666666666666666,
              "#ed7953"
             ],
             [
              0.7777777777777778,
              "#fb9f3a"
             ],
             [
              0.8888888888888888,
              "#fdca26"
             ],
             [
              1,
              "#f0f921"
             ]
            ],
            "type": "histogram2d"
           }
          ],
          "histogram2dcontour": [
           {
            "colorbar": {
             "outlinewidth": 0,
             "ticks": ""
            },
            "colorscale": [
             [
              0,
              "#0d0887"
             ],
             [
              0.1111111111111111,
              "#46039f"
             ],
             [
              0.2222222222222222,
              "#7201a8"
             ],
             [
              0.3333333333333333,
              "#9c179e"
             ],
             [
              0.4444444444444444,
              "#bd3786"
             ],
             [
              0.5555555555555556,
              "#d8576b"
             ],
             [
              0.6666666666666666,
              "#ed7953"
             ],
             [
              0.7777777777777778,
              "#fb9f3a"
             ],
             [
              0.8888888888888888,
              "#fdca26"
             ],
             [
              1,
              "#f0f921"
             ]
            ],
            "type": "histogram2dcontour"
           }
          ],
          "mesh3d": [
           {
            "colorbar": {
             "outlinewidth": 0,
             "ticks": ""
            },
            "type": "mesh3d"
           }
          ],
          "parcoords": [
           {
            "line": {
             "colorbar": {
              "outlinewidth": 0,
              "ticks": ""
             }
            },
            "type": "parcoords"
           }
          ],
          "pie": [
           {
            "automargin": true,
            "type": "pie"
           }
          ],
          "scatter": [
           {
            "fillpattern": {
             "fillmode": "overlay",
             "size": 10,
             "solidity": 0.2
            },
            "type": "scatter"
           }
          ],
          "scatter3d": [
           {
            "line": {
             "colorbar": {
              "outlinewidth": 0,
              "ticks": ""
             }
            },
            "marker": {
             "colorbar": {
              "outlinewidth": 0,
              "ticks": ""
             }
            },
            "type": "scatter3d"
           }
          ],
          "scattercarpet": [
           {
            "marker": {
             "colorbar": {
              "outlinewidth": 0,
              "ticks": ""
             }
            },
            "type": "scattercarpet"
           }
          ],
          "scattergeo": [
           {
            "marker": {
             "colorbar": {
              "outlinewidth": 0,
              "ticks": ""
             }
            },
            "type": "scattergeo"
           }
          ],
          "scattergl": [
           {
            "marker": {
             "colorbar": {
              "outlinewidth": 0,
              "ticks": ""
             }
            },
            "type": "scattergl"
           }
          ],
          "scattermapbox": [
           {
            "marker": {
             "colorbar": {
              "outlinewidth": 0,
              "ticks": ""
             }
            },
            "type": "scattermapbox"
           }
          ],
          "scatterpolar": [
           {
            "marker": {
             "colorbar": {
              "outlinewidth": 0,
              "ticks": ""
             }
            },
            "type": "scatterpolar"
           }
          ],
          "scatterpolargl": [
           {
            "marker": {
             "colorbar": {
              "outlinewidth": 0,
              "ticks": ""
             }
            },
            "type": "scatterpolargl"
           }
          ],
          "scatterternary": [
           {
            "marker": {
             "colorbar": {
              "outlinewidth": 0,
              "ticks": ""
             }
            },
            "type": "scatterternary"
           }
          ],
          "surface": [
           {
            "colorbar": {
             "outlinewidth": 0,
             "ticks": ""
            },
            "colorscale": [
             [
              0,
              "#0d0887"
             ],
             [
              0.1111111111111111,
              "#46039f"
             ],
             [
              0.2222222222222222,
              "#7201a8"
             ],
             [
              0.3333333333333333,
              "#9c179e"
             ],
             [
              0.4444444444444444,
              "#bd3786"
             ],
             [
              0.5555555555555556,
              "#d8576b"
             ],
             [
              0.6666666666666666,
              "#ed7953"
             ],
             [
              0.7777777777777778,
              "#fb9f3a"
             ],
             [
              0.8888888888888888,
              "#fdca26"
             ],
             [
              1,
              "#f0f921"
             ]
            ],
            "type": "surface"
           }
          ],
          "table": [
           {
            "cells": {
             "fill": {
              "color": "#EBF0F8"
             },
             "line": {
              "color": "white"
             }
            },
            "header": {
             "fill": {
              "color": "#C8D4E3"
             },
             "line": {
              "color": "white"
             }
            },
            "type": "table"
           }
          ]
         },
         "layout": {
          "annotationdefaults": {
           "arrowcolor": "#2a3f5f",
           "arrowhead": 0,
           "arrowwidth": 1
          },
          "autotypenumbers": "strict",
          "coloraxis": {
           "colorbar": {
            "outlinewidth": 0,
            "ticks": ""
           }
          },
          "colorscale": {
           "diverging": [
            [
             0,
             "#8e0152"
            ],
            [
             0.1,
             "#c51b7d"
            ],
            [
             0.2,
             "#de77ae"
            ],
            [
             0.3,
             "#f1b6da"
            ],
            [
             0.4,
             "#fde0ef"
            ],
            [
             0.5,
             "#f7f7f7"
            ],
            [
             0.6,
             "#e6f5d0"
            ],
            [
             0.7,
             "#b8e186"
            ],
            [
             0.8,
             "#7fbc41"
            ],
            [
             0.9,
             "#4d9221"
            ],
            [
             1,
             "#276419"
            ]
           ],
           "sequential": [
            [
             0,
             "#0d0887"
            ],
            [
             0.1111111111111111,
             "#46039f"
            ],
            [
             0.2222222222222222,
             "#7201a8"
            ],
            [
             0.3333333333333333,
             "#9c179e"
            ],
            [
             0.4444444444444444,
             "#bd3786"
            ],
            [
             0.5555555555555556,
             "#d8576b"
            ],
            [
             0.6666666666666666,
             "#ed7953"
            ],
            [
             0.7777777777777778,
             "#fb9f3a"
            ],
            [
             0.8888888888888888,
             "#fdca26"
            ],
            [
             1,
             "#f0f921"
            ]
           ],
           "sequentialminus": [
            [
             0,
             "#0d0887"
            ],
            [
             0.1111111111111111,
             "#46039f"
            ],
            [
             0.2222222222222222,
             "#7201a8"
            ],
            [
             0.3333333333333333,
             "#9c179e"
            ],
            [
             0.4444444444444444,
             "#bd3786"
            ],
            [
             0.5555555555555556,
             "#d8576b"
            ],
            [
             0.6666666666666666,
             "#ed7953"
            ],
            [
             0.7777777777777778,
             "#fb9f3a"
            ],
            [
             0.8888888888888888,
             "#fdca26"
            ],
            [
             1,
             "#f0f921"
            ]
           ]
          },
          "colorway": [
           "#636efa",
           "#EF553B",
           "#00cc96",
           "#ab63fa",
           "#FFA15A",
           "#19d3f3",
           "#FF6692",
           "#B6E880",
           "#FF97FF",
           "#FECB52"
          ],
          "font": {
           "color": "#2a3f5f"
          },
          "geo": {
           "bgcolor": "white",
           "lakecolor": "white",
           "landcolor": "#E5ECF6",
           "showlakes": true,
           "showland": true,
           "subunitcolor": "white"
          },
          "hoverlabel": {
           "align": "left"
          },
          "hovermode": "closest",
          "mapbox": {
           "style": "light"
          },
          "paper_bgcolor": "white",
          "plot_bgcolor": "#E5ECF6",
          "polar": {
           "angularaxis": {
            "gridcolor": "white",
            "linecolor": "white",
            "ticks": ""
           },
           "bgcolor": "#E5ECF6",
           "radialaxis": {
            "gridcolor": "white",
            "linecolor": "white",
            "ticks": ""
           }
          },
          "scene": {
           "xaxis": {
            "backgroundcolor": "#E5ECF6",
            "gridcolor": "white",
            "gridwidth": 2,
            "linecolor": "white",
            "showbackground": true,
            "ticks": "",
            "zerolinecolor": "white"
           },
           "yaxis": {
            "backgroundcolor": "#E5ECF6",
            "gridcolor": "white",
            "gridwidth": 2,
            "linecolor": "white",
            "showbackground": true,
            "ticks": "",
            "zerolinecolor": "white"
           },
           "zaxis": {
            "backgroundcolor": "#E5ECF6",
            "gridcolor": "white",
            "gridwidth": 2,
            "linecolor": "white",
            "showbackground": true,
            "ticks": "",
            "zerolinecolor": "white"
           }
          },
          "shapedefaults": {
           "line": {
            "color": "#2a3f5f"
           }
          },
          "ternary": {
           "aaxis": {
            "gridcolor": "white",
            "linecolor": "white",
            "ticks": ""
           },
           "baxis": {
            "gridcolor": "white",
            "linecolor": "white",
            "ticks": ""
           },
           "bgcolor": "#E5ECF6",
           "caxis": {
            "gridcolor": "white",
            "linecolor": "white",
            "ticks": ""
           }
          },
          "title": {
           "x": 0.05
          },
          "xaxis": {
           "automargin": true,
           "gridcolor": "white",
           "linecolor": "white",
           "ticks": "",
           "title": {
            "standoff": 15
           },
           "zerolinecolor": "white",
           "zerolinewidth": 2
          },
          "yaxis": {
           "automargin": true,
           "gridcolor": "white",
           "linecolor": "white",
           "ticks": "",
           "title": {
            "standoff": 15
           },
           "zerolinecolor": "white",
           "zerolinewidth": 2
          }
         }
        },
        "title": {
         "text": "[ 년도별 & 지역별 발생한 폭력범 건수 ]"
        },
        "xaxis": {
         "anchor": "y",
         "domain": [
          0,
          1
         ],
         "title": {
          "text": "년도"
         }
        },
        "yaxis": {
         "anchor": "x",
         "domain": [
          0,
          1
         ],
         "title": {
          "text": "발생건수"
         }
        }
       }
      }
     },
     "metadata": {},
     "output_type": "display_data"
    }
   ],
   "source": [
    "df_melted = dosi_df_total.melt(id_vars=[\"중\", \"소\", \"발생장소\"], var_name=\"년도\", value_name=\"발생건수\")\n",
    "\n",
    "fig = px.line(df_melted, x=\"년도\", y=\"발생건수\", color=\"발생장소\", title=\"[ 년도별 & 지역별 발생한 폭력범 건수 ]\", markers=True)\n",
    "fig.show()"
   ]
  },
  {
   "cell_type": "markdown",
   "metadata": {},
   "source": [
    "##### [ 장소 ]"
   ]
  },
  {
   "cell_type": "code",
   "execution_count": 10,
   "metadata": {},
   "outputs": [
    {
     "data": {
      "text/html": [
       "<div>\n",
       "<style scoped>\n",
       "    .dataframe tbody tr th:only-of-type {\n",
       "        vertical-align: middle;\n",
       "    }\n",
       "\n",
       "    .dataframe tbody tr th {\n",
       "        vertical-align: top;\n",
       "    }\n",
       "\n",
       "    .dataframe thead th {\n",
       "        text-align: right;\n",
       "    }\n",
       "</style>\n",
       "<table border=\"1\" class=\"dataframe\">\n",
       "  <thead>\n",
       "    <tr style=\"text-align: right;\">\n",
       "      <th></th>\n",
       "      <th>대</th>\n",
       "      <th>중</th>\n",
       "      <th>소</th>\n",
       "      <th>발생장소</th>\n",
       "      <th>1994년</th>\n",
       "      <th>1995년</th>\n",
       "      <th>1996년</th>\n",
       "      <th>1997년</th>\n",
       "      <th>1998년</th>\n",
       "      <th>1999년</th>\n",
       "      <th>...</th>\n",
       "      <th>2001년</th>\n",
       "      <th>2002년</th>\n",
       "      <th>2003년</th>\n",
       "      <th>2004년</th>\n",
       "      <th>2005년</th>\n",
       "      <th>2006년</th>\n",
       "      <th>2007년</th>\n",
       "      <th>2008년</th>\n",
       "      <th>2009년</th>\n",
       "      <th>2010년</th>\n",
       "    </tr>\n",
       "  </thead>\n",
       "  <tbody>\n",
       "    <tr>\n",
       "      <th>0</th>\n",
       "      <td>총범죄</td>\n",
       "      <td>소계</td>\n",
       "      <td>소계</td>\n",
       "      <td>아파트연립다세대</td>\n",
       "      <td>29040</td>\n",
       "      <td>29768</td>\n",
       "      <td>34854</td>\n",
       "      <td>38995</td>\n",
       "      <td>51304</td>\n",
       "      <td>64405</td>\n",
       "      <td>...</td>\n",
       "      <td>78803</td>\n",
       "      <td>67524</td>\n",
       "      <td>75696</td>\n",
       "      <td>51569</td>\n",
       "      <td>56882</td>\n",
       "      <td>57995</td>\n",
       "      <td>60223</td>\n",
       "      <td>67220</td>\n",
       "      <td>69407</td>\n",
       "      <td>68193</td>\n",
       "    </tr>\n",
       "    <tr>\n",
       "      <th>1</th>\n",
       "      <td>총범죄</td>\n",
       "      <td>소계</td>\n",
       "      <td>소계</td>\n",
       "      <td>단독주택</td>\n",
       "      <td>69758</td>\n",
       "      <td>63390</td>\n",
       "      <td>63857</td>\n",
       "      <td>60788</td>\n",
       "      <td>67878</td>\n",
       "      <td>72176</td>\n",
       "      <td>...</td>\n",
       "      <td>77922</td>\n",
       "      <td>63811</td>\n",
       "      <td>63163</td>\n",
       "      <td>101715</td>\n",
       "      <td>99660</td>\n",
       "      <td>98633</td>\n",
       "      <td>103025</td>\n",
       "      <td>114438</td>\n",
       "      <td>121803</td>\n",
       "      <td>104185</td>\n",
       "    </tr>\n",
       "    <tr>\n",
       "      <th>2</th>\n",
       "      <td>총범죄</td>\n",
       "      <td>소계</td>\n",
       "      <td>소계</td>\n",
       "      <td>고속도로</td>\n",
       "      <td>18853</td>\n",
       "      <td>15964</td>\n",
       "      <td>17913</td>\n",
       "      <td>17333</td>\n",
       "      <td>14100</td>\n",
       "      <td>19700</td>\n",
       "      <td>...</td>\n",
       "      <td>22444</td>\n",
       "      <td>29653</td>\n",
       "      <td>36181</td>\n",
       "      <td>36829</td>\n",
       "      <td>27189</td>\n",
       "      <td>26444</td>\n",
       "      <td>27722</td>\n",
       "      <td>26722</td>\n",
       "      <td>26007</td>\n",
       "      <td>24094</td>\n",
       "    </tr>\n",
       "    <tr>\n",
       "      <th>3</th>\n",
       "      <td>총범죄</td>\n",
       "      <td>소계</td>\n",
       "      <td>소계</td>\n",
       "      <td>노 상</td>\n",
       "      <td>613625</td>\n",
       "      <td>588136</td>\n",
       "      <td>657907</td>\n",
       "      <td>770681</td>\n",
       "      <td>829448</td>\n",
       "      <td>777313</td>\n",
       "      <td>...</td>\n",
       "      <td>952832</td>\n",
       "      <td>955185</td>\n",
       "      <td>945084</td>\n",
       "      <td>1025940</td>\n",
       "      <td>883456</td>\n",
       "      <td>827277</td>\n",
       "      <td>943599</td>\n",
       "      <td>1059330</td>\n",
       "      <td>926208</td>\n",
       "      <td>840053</td>\n",
       "    </tr>\n",
       "    <tr>\n",
       "      <th>4</th>\n",
       "      <td>총범죄</td>\n",
       "      <td>소계</td>\n",
       "      <td>소계</td>\n",
       "      <td>상 점</td>\n",
       "      <td>51137</td>\n",
       "      <td>60577</td>\n",
       "      <td>69620</td>\n",
       "      <td>62469</td>\n",
       "      <td>73883</td>\n",
       "      <td>73310</td>\n",
       "      <td>...</td>\n",
       "      <td>75281</td>\n",
       "      <td>75391</td>\n",
       "      <td>80796</td>\n",
       "      <td>71676</td>\n",
       "      <td>56938</td>\n",
       "      <td>60784</td>\n",
       "      <td>63121</td>\n",
       "      <td>58334</td>\n",
       "      <td>71627</td>\n",
       "      <td>67420</td>\n",
       "    </tr>\n",
       "    <tr>\n",
       "      <th>...</th>\n",
       "      <td>...</td>\n",
       "      <td>...</td>\n",
       "      <td>...</td>\n",
       "      <td>...</td>\n",
       "      <td>...</td>\n",
       "      <td>...</td>\n",
       "      <td>...</td>\n",
       "      <td>...</td>\n",
       "      <td>...</td>\n",
       "      <td>...</td>\n",
       "      <td>...</td>\n",
       "      <td>...</td>\n",
       "      <td>...</td>\n",
       "      <td>...</td>\n",
       "      <td>...</td>\n",
       "      <td>...</td>\n",
       "      <td>...</td>\n",
       "      <td>...</td>\n",
       "      <td>...</td>\n",
       "      <td>...</td>\n",
       "      <td>...</td>\n",
       "    </tr>\n",
       "    <tr>\n",
       "      <th>4811</th>\n",
       "      <td>특별법범</td>\n",
       "      <td>기타특별법</td>\n",
       "      <td>소계</td>\n",
       "      <td>해 상</td>\n",
       "      <td>2466</td>\n",
       "      <td>3389</td>\n",
       "      <td>3601</td>\n",
       "      <td>15750</td>\n",
       "      <td>24136</td>\n",
       "      <td>20049</td>\n",
       "      <td>...</td>\n",
       "      <td>14801</td>\n",
       "      <td>16898</td>\n",
       "      <td>15380</td>\n",
       "      <td>1575</td>\n",
       "      <td>2514</td>\n",
       "      <td>3339</td>\n",
       "      <td>2877</td>\n",
       "      <td>1609</td>\n",
       "      <td>1280</td>\n",
       "      <td>2704</td>\n",
       "    </tr>\n",
       "    <tr>\n",
       "      <th>4812</th>\n",
       "      <td>특별법범</td>\n",
       "      <td>기타특별법</td>\n",
       "      <td>소계</td>\n",
       "      <td>부 대</td>\n",
       "      <td>6</td>\n",
       "      <td>30</td>\n",
       "      <td>13</td>\n",
       "      <td>10</td>\n",
       "      <td>10</td>\n",
       "      <td>18</td>\n",
       "      <td>...</td>\n",
       "      <td>20</td>\n",
       "      <td>37</td>\n",
       "      <td>33</td>\n",
       "      <td>22</td>\n",
       "      <td>9</td>\n",
       "      <td>9</td>\n",
       "      <td>14</td>\n",
       "      <td>21</td>\n",
       "      <td>21</td>\n",
       "      <td>13</td>\n",
       "    </tr>\n",
       "    <tr>\n",
       "      <th>4813</th>\n",
       "      <td>특별법범</td>\n",
       "      <td>기타특별법</td>\n",
       "      <td>소계</td>\n",
       "      <td>구금장소</td>\n",
       "      <td>4</td>\n",
       "      <td>9</td>\n",
       "      <td>2</td>\n",
       "      <td>11</td>\n",
       "      <td>12</td>\n",
       "      <td>9</td>\n",
       "      <td>...</td>\n",
       "      <td>93</td>\n",
       "      <td>36</td>\n",
       "      <td>7</td>\n",
       "      <td>1</td>\n",
       "      <td>0</td>\n",
       "      <td>2</td>\n",
       "      <td>0</td>\n",
       "      <td>0</td>\n",
       "      <td>0</td>\n",
       "      <td>1</td>\n",
       "    </tr>\n",
       "    <tr>\n",
       "      <th>4814</th>\n",
       "      <td>특별법범</td>\n",
       "      <td>기타특별법</td>\n",
       "      <td>소계</td>\n",
       "      <td>공 지</td>\n",
       "      <td>132</td>\n",
       "      <td>146</td>\n",
       "      <td>163</td>\n",
       "      <td>208</td>\n",
       "      <td>217</td>\n",
       "      <td>184</td>\n",
       "      <td>...</td>\n",
       "      <td>471</td>\n",
       "      <td>490</td>\n",
       "      <td>537</td>\n",
       "      <td>253</td>\n",
       "      <td>219</td>\n",
       "      <td>194</td>\n",
       "      <td>161</td>\n",
       "      <td>138</td>\n",
       "      <td>119</td>\n",
       "      <td>129</td>\n",
       "    </tr>\n",
       "    <tr>\n",
       "      <th>4815</th>\n",
       "      <td>특별법범</td>\n",
       "      <td>기타특별법</td>\n",
       "      <td>소계</td>\n",
       "      <td>기 타</td>\n",
       "      <td>4096</td>\n",
       "      <td>5084</td>\n",
       "      <td>5736</td>\n",
       "      <td>7513</td>\n",
       "      <td>9884</td>\n",
       "      <td>19352</td>\n",
       "      <td>...</td>\n",
       "      <td>25104</td>\n",
       "      <td>24725</td>\n",
       "      <td>29310</td>\n",
       "      <td>4484</td>\n",
       "      <td>3784</td>\n",
       "      <td>5210</td>\n",
       "      <td>6537</td>\n",
       "      <td>9302</td>\n",
       "      <td>9220</td>\n",
       "      <td>6523</td>\n",
       "    </tr>\n",
       "  </tbody>\n",
       "</table>\n",
       "<p>4816 rows × 21 columns</p>\n",
       "</div>"
      ],
      "text/plain": [
       "         대      중   소      발생장소   1994년   1995년   1996년   1997년   1998년  \\\n",
       "0      총범죄     소계  소계  아파트연립다세대   29040   29768   34854   38995   51304   \n",
       "1      총범죄     소계  소계      단독주택   69758   63390   63857   60788   67878   \n",
       "2      총범죄     소계  소계      고속도로   18853   15964   17913   17333   14100   \n",
       "3      총범죄     소계  소계       노 상  613625  588136  657907  770681  829448   \n",
       "4      총범죄     소계  소계       상 점   51137   60577   69620   62469   73883   \n",
       "...    ...    ...  ..       ...     ...     ...     ...     ...     ...   \n",
       "4811  특별법범  기타특별법  소계       해 상    2466    3389    3601   15750   24136   \n",
       "4812  특별법범  기타특별법  소계       부 대       6      30      13      10      10   \n",
       "4813  특별법범  기타특별법  소계      구금장소       4       9       2      11      12   \n",
       "4814  특별법범  기타특별법  소계       공 지     132     146     163     208     217   \n",
       "4815  특별법범  기타특별법  소계       기 타    4096    5084    5736    7513    9884   \n",
       "\n",
       "       1999년  ...   2001년   2002년   2003년    2004년   2005년   2006년   2007년  \\\n",
       "0      64405  ...   78803   67524   75696    51569   56882   57995   60223   \n",
       "1      72176  ...   77922   63811   63163   101715   99660   98633  103025   \n",
       "2      19700  ...   22444   29653   36181    36829   27189   26444   27722   \n",
       "3     777313  ...  952832  955185  945084  1025940  883456  827277  943599   \n",
       "4      73310  ...   75281   75391   80796    71676   56938   60784   63121   \n",
       "...      ...  ...     ...     ...     ...      ...     ...     ...     ...   \n",
       "4811   20049  ...   14801   16898   15380     1575    2514    3339    2877   \n",
       "4812      18  ...      20      37      33       22       9       9      14   \n",
       "4813       9  ...      93      36       7        1       0       2       0   \n",
       "4814     184  ...     471     490     537      253     219     194     161   \n",
       "4815   19352  ...   25104   24725   29310     4484    3784    5210    6537   \n",
       "\n",
       "        2008년   2009년   2010년  \n",
       "0       67220   69407   68193  \n",
       "1      114438  121803  104185  \n",
       "2       26722   26007   24094  \n",
       "3     1059330  926208  840053  \n",
       "4       58334   71627   67420  \n",
       "...       ...     ...     ...  \n",
       "4811     1609    1280    2704  \n",
       "4812       21      21      13  \n",
       "4813        0       0       1  \n",
       "4814      138     119     129  \n",
       "4815     9302    9220    6523  \n",
       "\n",
       "[4816 rows x 21 columns]"
      ]
     },
     "execution_count": 10,
     "metadata": {},
     "output_type": "execute_result"
    }
   ],
   "source": [
    "cursor.execute(\"select * from crime_place_before\")\n",
    "\n",
    "place = cursor.fetchall()\n",
    "place_df_start = pd.DataFrame(place)\n",
    "place_df_start"
   ]
  },
  {
   "cell_type": "code",
   "execution_count": 11,
   "metadata": {},
   "outputs": [
    {
     "data": {
      "text/html": [
       "<div>\n",
       "<style scoped>\n",
       "    .dataframe tbody tr th:only-of-type {\n",
       "        vertical-align: middle;\n",
       "    }\n",
       "\n",
       "    .dataframe tbody tr th {\n",
       "        vertical-align: top;\n",
       "    }\n",
       "\n",
       "    .dataframe thead th {\n",
       "        text-align: right;\n",
       "    }\n",
       "</style>\n",
       "<table border=\"1\" class=\"dataframe\">\n",
       "  <thead>\n",
       "    <tr style=\"text-align: right;\">\n",
       "      <th></th>\n",
       "      <th>대</th>\n",
       "      <th>중</th>\n",
       "      <th>소</th>\n",
       "      <th>발생장소</th>\n",
       "      <th>1994년</th>\n",
       "      <th>1995년</th>\n",
       "      <th>1996년</th>\n",
       "      <th>1997년</th>\n",
       "      <th>1998년</th>\n",
       "      <th>1999년</th>\n",
       "      <th>...</th>\n",
       "      <th>2001년</th>\n",
       "      <th>2002년</th>\n",
       "      <th>2003년</th>\n",
       "      <th>2004년</th>\n",
       "      <th>2005년</th>\n",
       "      <th>2006년</th>\n",
       "      <th>2007년</th>\n",
       "      <th>2008년</th>\n",
       "      <th>2009년</th>\n",
       "      <th>2010년</th>\n",
       "    </tr>\n",
       "  </thead>\n",
       "  <tbody>\n",
       "    <tr>\n",
       "      <th>0</th>\n",
       "      <td>형법범</td>\n",
       "      <td>폭력범</td>\n",
       "      <td>소계</td>\n",
       "      <td>아파트연립다세대</td>\n",
       "      <td>7718</td>\n",
       "      <td>7969</td>\n",
       "      <td>9644</td>\n",
       "      <td>10280</td>\n",
       "      <td>14511</td>\n",
       "      <td>22129</td>\n",
       "      <td>...</td>\n",
       "      <td>25082</td>\n",
       "      <td>20127</td>\n",
       "      <td>23524</td>\n",
       "      <td>16782</td>\n",
       "      <td>17746</td>\n",
       "      <td>17949</td>\n",
       "      <td>17973</td>\n",
       "      <td>19369</td>\n",
       "      <td>19689</td>\n",
       "      <td>19316</td>\n",
       "    </tr>\n",
       "    <tr>\n",
       "      <th>1</th>\n",
       "      <td>형법범</td>\n",
       "      <td>폭력범</td>\n",
       "      <td>소계</td>\n",
       "      <td>단독주택</td>\n",
       "      <td>17726</td>\n",
       "      <td>15390</td>\n",
       "      <td>15427</td>\n",
       "      <td>14141</td>\n",
       "      <td>17215</td>\n",
       "      <td>23409</td>\n",
       "      <td>...</td>\n",
       "      <td>23968</td>\n",
       "      <td>18122</td>\n",
       "      <td>19030</td>\n",
       "      <td>26876</td>\n",
       "      <td>26150</td>\n",
       "      <td>23878</td>\n",
       "      <td>24253</td>\n",
       "      <td>24805</td>\n",
       "      <td>24892</td>\n",
       "      <td>20075</td>\n",
       "    </tr>\n",
       "    <tr>\n",
       "      <th>2</th>\n",
       "      <td>형법범</td>\n",
       "      <td>폭력범</td>\n",
       "      <td>소계</td>\n",
       "      <td>고속도로</td>\n",
       "      <td>274</td>\n",
       "      <td>240</td>\n",
       "      <td>270</td>\n",
       "      <td>240</td>\n",
       "      <td>207</td>\n",
       "      <td>275</td>\n",
       "      <td>...</td>\n",
       "      <td>365</td>\n",
       "      <td>340</td>\n",
       "      <td>398</td>\n",
       "      <td>310</td>\n",
       "      <td>269</td>\n",
       "      <td>269</td>\n",
       "      <td>289</td>\n",
       "      <td>328</td>\n",
       "      <td>351</td>\n",
       "      <td>347</td>\n",
       "    </tr>\n",
       "    <tr>\n",
       "      <th>3</th>\n",
       "      <td>형법범</td>\n",
       "      <td>폭력범</td>\n",
       "      <td>소계</td>\n",
       "      <td>노 상</td>\n",
       "      <td>88047</td>\n",
       "      <td>83827</td>\n",
       "      <td>87666</td>\n",
       "      <td>90900</td>\n",
       "      <td>102878</td>\n",
       "      <td>115922</td>\n",
       "      <td>...</td>\n",
       "      <td>143371</td>\n",
       "      <td>123772</td>\n",
       "      <td>124330</td>\n",
       "      <td>119951</td>\n",
       "      <td>121984</td>\n",
       "      <td>122313</td>\n",
       "      <td>131305</td>\n",
       "      <td>136544</td>\n",
       "      <td>139758</td>\n",
       "      <td>128489</td>\n",
       "    </tr>\n",
       "    <tr>\n",
       "      <th>4</th>\n",
       "      <td>형법범</td>\n",
       "      <td>폭력범</td>\n",
       "      <td>소계</td>\n",
       "      <td>상 점</td>\n",
       "      <td>7317</td>\n",
       "      <td>7414</td>\n",
       "      <td>8581</td>\n",
       "      <td>8753</td>\n",
       "      <td>11107</td>\n",
       "      <td>15281</td>\n",
       "      <td>...</td>\n",
       "      <td>18196</td>\n",
       "      <td>15078</td>\n",
       "      <td>16439</td>\n",
       "      <td>9038</td>\n",
       "      <td>7962</td>\n",
       "      <td>7673</td>\n",
       "      <td>7741</td>\n",
       "      <td>8071</td>\n",
       "      <td>8512</td>\n",
       "      <td>9185</td>\n",
       "    </tr>\n",
       "    <tr>\n",
       "      <th>5</th>\n",
       "      <td>형법범</td>\n",
       "      <td>폭력범</td>\n",
       "      <td>소계</td>\n",
       "      <td>시장·노점</td>\n",
       "      <td>2120</td>\n",
       "      <td>1857</td>\n",
       "      <td>1783</td>\n",
       "      <td>1837</td>\n",
       "      <td>2225</td>\n",
       "      <td>2848</td>\n",
       "      <td>...</td>\n",
       "      <td>2828</td>\n",
       "      <td>2182</td>\n",
       "      <td>2421</td>\n",
       "      <td>1859</td>\n",
       "      <td>1684</td>\n",
       "      <td>1460</td>\n",
       "      <td>1260</td>\n",
       "      <td>1217</td>\n",
       "      <td>1269</td>\n",
       "      <td>1458</td>\n",
       "    </tr>\n",
       "    <tr>\n",
       "      <th>6</th>\n",
       "      <td>형법범</td>\n",
       "      <td>폭력범</td>\n",
       "      <td>소계</td>\n",
       "      <td>숙박업소목욕탕</td>\n",
       "      <td>3991</td>\n",
       "      <td>3647</td>\n",
       "      <td>3435</td>\n",
       "      <td>3549</td>\n",
       "      <td>3430</td>\n",
       "      <td>4296</td>\n",
       "      <td>...</td>\n",
       "      <td>5774</td>\n",
       "      <td>4878</td>\n",
       "      <td>5040</td>\n",
       "      <td>5225</td>\n",
       "      <td>5327</td>\n",
       "      <td>5646</td>\n",
       "      <td>5754</td>\n",
       "      <td>6071</td>\n",
       "      <td>5974</td>\n",
       "      <td>5366</td>\n",
       "    </tr>\n",
       "    <tr>\n",
       "      <th>7</th>\n",
       "      <td>형법범</td>\n",
       "      <td>폭력범</td>\n",
       "      <td>소계</td>\n",
       "      <td>유흥접객업소</td>\n",
       "      <td>24389</td>\n",
       "      <td>23019</td>\n",
       "      <td>22274</td>\n",
       "      <td>21799</td>\n",
       "      <td>19883</td>\n",
       "      <td>27659</td>\n",
       "      <td>...</td>\n",
       "      <td>33268</td>\n",
       "      <td>26850</td>\n",
       "      <td>25128</td>\n",
       "      <td>34643</td>\n",
       "      <td>35819</td>\n",
       "      <td>34351</td>\n",
       "      <td>34733</td>\n",
       "      <td>34500</td>\n",
       "      <td>34988</td>\n",
       "      <td>35628</td>\n",
       "    </tr>\n",
       "    <tr>\n",
       "      <th>8</th>\n",
       "      <td>형법범</td>\n",
       "      <td>폭력범</td>\n",
       "      <td>소계</td>\n",
       "      <td>사무실</td>\n",
       "      <td>6589</td>\n",
       "      <td>5932</td>\n",
       "      <td>6389</td>\n",
       "      <td>6270</td>\n",
       "      <td>6346</td>\n",
       "      <td>7356</td>\n",
       "      <td>...</td>\n",
       "      <td>8542</td>\n",
       "      <td>7154</td>\n",
       "      <td>7499</td>\n",
       "      <td>9598</td>\n",
       "      <td>9296</td>\n",
       "      <td>9724</td>\n",
       "      <td>9363</td>\n",
       "      <td>9914</td>\n",
       "      <td>11205</td>\n",
       "      <td>10050</td>\n",
       "    </tr>\n",
       "    <tr>\n",
       "      <th>9</th>\n",
       "      <td>형법범</td>\n",
       "      <td>폭력범</td>\n",
       "      <td>소계</td>\n",
       "      <td>공 장</td>\n",
       "      <td>2029</td>\n",
       "      <td>1615</td>\n",
       "      <td>1445</td>\n",
       "      <td>1346</td>\n",
       "      <td>1213</td>\n",
       "      <td>1564</td>\n",
       "      <td>...</td>\n",
       "      <td>1612</td>\n",
       "      <td>1373</td>\n",
       "      <td>1395</td>\n",
       "      <td>1474</td>\n",
       "      <td>1460</td>\n",
       "      <td>1337</td>\n",
       "      <td>1323</td>\n",
       "      <td>1290</td>\n",
       "      <td>1499</td>\n",
       "      <td>1653</td>\n",
       "    </tr>\n",
       "    <tr>\n",
       "      <th>10</th>\n",
       "      <td>형법범</td>\n",
       "      <td>폭력범</td>\n",
       "      <td>소계</td>\n",
       "      <td>공사장·광산</td>\n",
       "      <td>1811</td>\n",
       "      <td>1587</td>\n",
       "      <td>1534</td>\n",
       "      <td>1467</td>\n",
       "      <td>999</td>\n",
       "      <td>1055</td>\n",
       "      <td>...</td>\n",
       "      <td>1118</td>\n",
       "      <td>1043</td>\n",
       "      <td>1149</td>\n",
       "      <td>1525</td>\n",
       "      <td>1188</td>\n",
       "      <td>1233</td>\n",
       "      <td>1174</td>\n",
       "      <td>1270</td>\n",
       "      <td>1194</td>\n",
       "      <td>1304</td>\n",
       "    </tr>\n",
       "    <tr>\n",
       "      <th>11</th>\n",
       "      <td>형법범</td>\n",
       "      <td>폭력범</td>\n",
       "      <td>소계</td>\n",
       "      <td>창고</td>\n",
       "      <td>131</td>\n",
       "      <td>93</td>\n",
       "      <td>142</td>\n",
       "      <td>107</td>\n",
       "      <td>121</td>\n",
       "      <td>132</td>\n",
       "      <td>...</td>\n",
       "      <td>145</td>\n",
       "      <td>139</td>\n",
       "      <td>125</td>\n",
       "      <td>76</td>\n",
       "      <td>126</td>\n",
       "      <td>141</td>\n",
       "      <td>143</td>\n",
       "      <td>165</td>\n",
       "      <td>192</td>\n",
       "      <td>205</td>\n",
       "    </tr>\n",
       "    <tr>\n",
       "      <th>12</th>\n",
       "      <td>형법범</td>\n",
       "      <td>폭력범</td>\n",
       "      <td>소계</td>\n",
       "      <td>역대합실</td>\n",
       "      <td>563</td>\n",
       "      <td>522</td>\n",
       "      <td>518</td>\n",
       "      <td>539</td>\n",
       "      <td>640</td>\n",
       "      <td>769</td>\n",
       "      <td>...</td>\n",
       "      <td>835</td>\n",
       "      <td>669</td>\n",
       "      <td>781</td>\n",
       "      <td>1040</td>\n",
       "      <td>1008</td>\n",
       "      <td>959</td>\n",
       "      <td>1021</td>\n",
       "      <td>1008</td>\n",
       "      <td>1075</td>\n",
       "      <td>1280</td>\n",
       "    </tr>\n",
       "    <tr>\n",
       "      <th>13</th>\n",
       "      <td>형법범</td>\n",
       "      <td>폭력범</td>\n",
       "      <td>소계</td>\n",
       "      <td>지하철</td>\n",
       "      <td>310</td>\n",
       "      <td>274</td>\n",
       "      <td>288</td>\n",
       "      <td>299</td>\n",
       "      <td>377</td>\n",
       "      <td>428</td>\n",
       "      <td>...</td>\n",
       "      <td>635</td>\n",
       "      <td>554</td>\n",
       "      <td>630</td>\n",
       "      <td>835</td>\n",
       "      <td>882</td>\n",
       "      <td>887</td>\n",
       "      <td>855</td>\n",
       "      <td>805</td>\n",
       "      <td>835</td>\n",
       "      <td>817</td>\n",
       "    </tr>\n",
       "    <tr>\n",
       "      <th>14</th>\n",
       "      <td>형법범</td>\n",
       "      <td>폭력범</td>\n",
       "      <td>소계</td>\n",
       "      <td>기타교통수단내</td>\n",
       "      <td>1760</td>\n",
       "      <td>1682</td>\n",
       "      <td>1766</td>\n",
       "      <td>1884</td>\n",
       "      <td>1769</td>\n",
       "      <td>2285</td>\n",
       "      <td>...</td>\n",
       "      <td>2724</td>\n",
       "      <td>2375</td>\n",
       "      <td>2528</td>\n",
       "      <td>1158</td>\n",
       "      <td>1084</td>\n",
       "      <td>1149</td>\n",
       "      <td>1711</td>\n",
       "      <td>1472</td>\n",
       "      <td>1531</td>\n",
       "      <td>2023</td>\n",
       "    </tr>\n",
       "    <tr>\n",
       "      <th>15</th>\n",
       "      <td>형법범</td>\n",
       "      <td>폭력범</td>\n",
       "      <td>소계</td>\n",
       "      <td>흥행장</td>\n",
       "      <td>1316</td>\n",
       "      <td>1197</td>\n",
       "      <td>976</td>\n",
       "      <td>839</td>\n",
       "      <td>813</td>\n",
       "      <td>1219</td>\n",
       "      <td>...</td>\n",
       "      <td>1233</td>\n",
       "      <td>1095</td>\n",
       "      <td>1000</td>\n",
       "      <td>1256</td>\n",
       "      <td>1287</td>\n",
       "      <td>1368</td>\n",
       "      <td>746</td>\n",
       "      <td>794</td>\n",
       "      <td>689</td>\n",
       "      <td>478</td>\n",
       "    </tr>\n",
       "    <tr>\n",
       "      <th>16</th>\n",
       "      <td>형법범</td>\n",
       "      <td>폭력범</td>\n",
       "      <td>소계</td>\n",
       "      <td>유원지</td>\n",
       "      <td>936</td>\n",
       "      <td>795</td>\n",
       "      <td>749</td>\n",
       "      <td>781</td>\n",
       "      <td>748</td>\n",
       "      <td>734</td>\n",
       "      <td>...</td>\n",
       "      <td>758</td>\n",
       "      <td>525</td>\n",
       "      <td>546</td>\n",
       "      <td>2181</td>\n",
       "      <td>2380</td>\n",
       "      <td>2483</td>\n",
       "      <td>2605</td>\n",
       "      <td>3027</td>\n",
       "      <td>3220</td>\n",
       "      <td>3160</td>\n",
       "    </tr>\n",
       "    <tr>\n",
       "      <th>17</th>\n",
       "      <td>형법범</td>\n",
       "      <td>폭력범</td>\n",
       "      <td>소계</td>\n",
       "      <td>학 교</td>\n",
       "      <td>1318</td>\n",
       "      <td>2367</td>\n",
       "      <td>2023</td>\n",
       "      <td>2293</td>\n",
       "      <td>1821</td>\n",
       "      <td>1815</td>\n",
       "      <td>...</td>\n",
       "      <td>2446</td>\n",
       "      <td>2023</td>\n",
       "      <td>2209</td>\n",
       "      <td>1746</td>\n",
       "      <td>2073</td>\n",
       "      <td>2131</td>\n",
       "      <td>2495</td>\n",
       "      <td>2845</td>\n",
       "      <td>3136</td>\n",
       "      <td>2674</td>\n",
       "    </tr>\n",
       "    <tr>\n",
       "      <th>18</th>\n",
       "      <td>형법범</td>\n",
       "      <td>폭력범</td>\n",
       "      <td>소계</td>\n",
       "      <td>금융기관</td>\n",
       "      <td>123</td>\n",
       "      <td>137</td>\n",
       "      <td>168</td>\n",
       "      <td>155</td>\n",
       "      <td>219</td>\n",
       "      <td>219</td>\n",
       "      <td>...</td>\n",
       "      <td>350</td>\n",
       "      <td>325</td>\n",
       "      <td>336</td>\n",
       "      <td>427</td>\n",
       "      <td>320</td>\n",
       "      <td>356</td>\n",
       "      <td>468</td>\n",
       "      <td>521</td>\n",
       "      <td>769</td>\n",
       "      <td>412</td>\n",
       "    </tr>\n",
       "    <tr>\n",
       "      <th>19</th>\n",
       "      <td>형법범</td>\n",
       "      <td>폭력범</td>\n",
       "      <td>소계</td>\n",
       "      <td>의료기관</td>\n",
       "      <td>787</td>\n",
       "      <td>653</td>\n",
       "      <td>730</td>\n",
       "      <td>650</td>\n",
       "      <td>798</td>\n",
       "      <td>1071</td>\n",
       "      <td>...</td>\n",
       "      <td>1350</td>\n",
       "      <td>1107</td>\n",
       "      <td>1207</td>\n",
       "      <td>1591</td>\n",
       "      <td>1638</td>\n",
       "      <td>1807</td>\n",
       "      <td>1966</td>\n",
       "      <td>1951</td>\n",
       "      <td>2315</td>\n",
       "      <td>2181</td>\n",
       "    </tr>\n",
       "    <tr>\n",
       "      <th>20</th>\n",
       "      <td>형법범</td>\n",
       "      <td>폭력범</td>\n",
       "      <td>소계</td>\n",
       "      <td>종교기관</td>\n",
       "      <td>283</td>\n",
       "      <td>270</td>\n",
       "      <td>223</td>\n",
       "      <td>292</td>\n",
       "      <td>304</td>\n",
       "      <td>405</td>\n",
       "      <td>...</td>\n",
       "      <td>454</td>\n",
       "      <td>375</td>\n",
       "      <td>412</td>\n",
       "      <td>704</td>\n",
       "      <td>766</td>\n",
       "      <td>757</td>\n",
       "      <td>749</td>\n",
       "      <td>750</td>\n",
       "      <td>778</td>\n",
       "      <td>703</td>\n",
       "    </tr>\n",
       "    <tr>\n",
       "      <th>21</th>\n",
       "      <td>형법범</td>\n",
       "      <td>폭력범</td>\n",
       "      <td>소계</td>\n",
       "      <td>산 야</td>\n",
       "      <td>798</td>\n",
       "      <td>634</td>\n",
       "      <td>533</td>\n",
       "      <td>572</td>\n",
       "      <td>573</td>\n",
       "      <td>552</td>\n",
       "      <td>...</td>\n",
       "      <td>565</td>\n",
       "      <td>530</td>\n",
       "      <td>455</td>\n",
       "      <td>700</td>\n",
       "      <td>785</td>\n",
       "      <td>856</td>\n",
       "      <td>842</td>\n",
       "      <td>891</td>\n",
       "      <td>979</td>\n",
       "      <td>1038</td>\n",
       "    </tr>\n",
       "    <tr>\n",
       "      <th>22</th>\n",
       "      <td>형법범</td>\n",
       "      <td>폭력범</td>\n",
       "      <td>소계</td>\n",
       "      <td>해 상</td>\n",
       "      <td>746</td>\n",
       "      <td>596</td>\n",
       "      <td>508</td>\n",
       "      <td>694</td>\n",
       "      <td>705</td>\n",
       "      <td>780</td>\n",
       "      <td>...</td>\n",
       "      <td>904</td>\n",
       "      <td>577</td>\n",
       "      <td>570</td>\n",
       "      <td>387</td>\n",
       "      <td>364</td>\n",
       "      <td>282</td>\n",
       "      <td>204</td>\n",
       "      <td>145</td>\n",
       "      <td>238</td>\n",
       "      <td>204</td>\n",
       "    </tr>\n",
       "    <tr>\n",
       "      <th>23</th>\n",
       "      <td>형법범</td>\n",
       "      <td>폭력범</td>\n",
       "      <td>소계</td>\n",
       "      <td>부 대</td>\n",
       "      <td>83</td>\n",
       "      <td>68</td>\n",
       "      <td>46</td>\n",
       "      <td>56</td>\n",
       "      <td>58</td>\n",
       "      <td>64</td>\n",
       "      <td>...</td>\n",
       "      <td>63</td>\n",
       "      <td>49</td>\n",
       "      <td>75</td>\n",
       "      <td>45</td>\n",
       "      <td>56</td>\n",
       "      <td>27</td>\n",
       "      <td>41</td>\n",
       "      <td>29</td>\n",
       "      <td>45</td>\n",
       "      <td>60</td>\n",
       "    </tr>\n",
       "    <tr>\n",
       "      <th>24</th>\n",
       "      <td>형법범</td>\n",
       "      <td>폭력범</td>\n",
       "      <td>소계</td>\n",
       "      <td>구금장소</td>\n",
       "      <td>71</td>\n",
       "      <td>84</td>\n",
       "      <td>61</td>\n",
       "      <td>80</td>\n",
       "      <td>81</td>\n",
       "      <td>88</td>\n",
       "      <td>...</td>\n",
       "      <td>63</td>\n",
       "      <td>54</td>\n",
       "      <td>48</td>\n",
       "      <td>15</td>\n",
       "      <td>8</td>\n",
       "      <td>11</td>\n",
       "      <td>9</td>\n",
       "      <td>13</td>\n",
       "      <td>7</td>\n",
       "      <td>12</td>\n",
       "    </tr>\n",
       "    <tr>\n",
       "      <th>25</th>\n",
       "      <td>형법범</td>\n",
       "      <td>폭력범</td>\n",
       "      <td>소계</td>\n",
       "      <td>공 지</td>\n",
       "      <td>1320</td>\n",
       "      <td>1185</td>\n",
       "      <td>1175</td>\n",
       "      <td>1143</td>\n",
       "      <td>1056</td>\n",
       "      <td>1137</td>\n",
       "      <td>...</td>\n",
       "      <td>1087</td>\n",
       "      <td>816</td>\n",
       "      <td>836</td>\n",
       "      <td>467</td>\n",
       "      <td>405</td>\n",
       "      <td>345</td>\n",
       "      <td>334</td>\n",
       "      <td>288</td>\n",
       "      <td>284</td>\n",
       "      <td>190</td>\n",
       "    </tr>\n",
       "    <tr>\n",
       "      <th>26</th>\n",
       "      <td>형법범</td>\n",
       "      <td>폭력범</td>\n",
       "      <td>소계</td>\n",
       "      <td>기 타</td>\n",
       "      <td>20491</td>\n",
       "      <td>23436</td>\n",
       "      <td>26537</td>\n",
       "      <td>29709</td>\n",
       "      <td>36312</td>\n",
       "      <td>48782</td>\n",
       "      <td>...</td>\n",
       "      <td>60309</td>\n",
       "      <td>51798</td>\n",
       "      <td>56782</td>\n",
       "      <td>46555</td>\n",
       "      <td>43296</td>\n",
       "      <td>42577</td>\n",
       "      <td>45799</td>\n",
       "      <td>47425</td>\n",
       "      <td>50323</td>\n",
       "      <td>44039</td>\n",
       "    </tr>\n",
       "  </tbody>\n",
       "</table>\n",
       "<p>27 rows × 21 columns</p>\n",
       "</div>"
      ],
      "text/plain": [
       "      대    중   소      발생장소  1994년  1995년  1996년  1997년   1998년   1999년  ...  \\\n",
       "0   형법범  폭력범  소계  아파트연립다세대   7718   7969   9644  10280   14511   22129  ...   \n",
       "1   형법범  폭력범  소계      단독주택  17726  15390  15427  14141   17215   23409  ...   \n",
       "2   형법범  폭력범  소계      고속도로    274    240    270    240     207     275  ...   \n",
       "3   형법범  폭력범  소계       노 상  88047  83827  87666  90900  102878  115922  ...   \n",
       "4   형법범  폭력범  소계       상 점   7317   7414   8581   8753   11107   15281  ...   \n",
       "5   형법범  폭력범  소계     시장·노점   2120   1857   1783   1837    2225    2848  ...   \n",
       "6   형법범  폭력범  소계   숙박업소목욕탕   3991   3647   3435   3549    3430    4296  ...   \n",
       "7   형법범  폭력범  소계    유흥접객업소  24389  23019  22274  21799   19883   27659  ...   \n",
       "8   형법범  폭력범  소계       사무실   6589   5932   6389   6270    6346    7356  ...   \n",
       "9   형법범  폭력범  소계       공 장   2029   1615   1445   1346    1213    1564  ...   \n",
       "10  형법범  폭력범  소계    공사장·광산   1811   1587   1534   1467     999    1055  ...   \n",
       "11  형법범  폭력범  소계        창고    131     93    142    107     121     132  ...   \n",
       "12  형법범  폭력범  소계      역대합실    563    522    518    539     640     769  ...   \n",
       "13  형법범  폭력범  소계       지하철    310    274    288    299     377     428  ...   \n",
       "14  형법범  폭력범  소계   기타교통수단내   1760   1682   1766   1884    1769    2285  ...   \n",
       "15  형법범  폭력범  소계       흥행장   1316   1197    976    839     813    1219  ...   \n",
       "16  형법범  폭력범  소계       유원지    936    795    749    781     748     734  ...   \n",
       "17  형법범  폭력범  소계       학 교   1318   2367   2023   2293    1821    1815  ...   \n",
       "18  형법범  폭력범  소계      금융기관    123    137    168    155     219     219  ...   \n",
       "19  형법범  폭력범  소계      의료기관    787    653    730    650     798    1071  ...   \n",
       "20  형법범  폭력범  소계      종교기관    283    270    223    292     304     405  ...   \n",
       "21  형법범  폭력범  소계       산 야    798    634    533    572     573     552  ...   \n",
       "22  형법범  폭력범  소계       해 상    746    596    508    694     705     780  ...   \n",
       "23  형법범  폭력범  소계       부 대     83     68     46     56      58      64  ...   \n",
       "24  형법범  폭력범  소계      구금장소     71     84     61     80      81      88  ...   \n",
       "25  형법범  폭력범  소계       공 지   1320   1185   1175   1143    1056    1137  ...   \n",
       "26  형법범  폭력범  소계       기 타  20491  23436  26537  29709   36312   48782  ...   \n",
       "\n",
       "     2001년   2002년   2003년   2004년   2005년   2006년   2007년   2008년   2009년  \\\n",
       "0    25082   20127   23524   16782   17746   17949   17973   19369   19689   \n",
       "1    23968   18122   19030   26876   26150   23878   24253   24805   24892   \n",
       "2      365     340     398     310     269     269     289     328     351   \n",
       "3   143371  123772  124330  119951  121984  122313  131305  136544  139758   \n",
       "4    18196   15078   16439    9038    7962    7673    7741    8071    8512   \n",
       "5     2828    2182    2421    1859    1684    1460    1260    1217    1269   \n",
       "6     5774    4878    5040    5225    5327    5646    5754    6071    5974   \n",
       "7    33268   26850   25128   34643   35819   34351   34733   34500   34988   \n",
       "8     8542    7154    7499    9598    9296    9724    9363    9914   11205   \n",
       "9     1612    1373    1395    1474    1460    1337    1323    1290    1499   \n",
       "10    1118    1043    1149    1525    1188    1233    1174    1270    1194   \n",
       "11     145     139     125      76     126     141     143     165     192   \n",
       "12     835     669     781    1040    1008     959    1021    1008    1075   \n",
       "13     635     554     630     835     882     887     855     805     835   \n",
       "14    2724    2375    2528    1158    1084    1149    1711    1472    1531   \n",
       "15    1233    1095    1000    1256    1287    1368     746     794     689   \n",
       "16     758     525     546    2181    2380    2483    2605    3027    3220   \n",
       "17    2446    2023    2209    1746    2073    2131    2495    2845    3136   \n",
       "18     350     325     336     427     320     356     468     521     769   \n",
       "19    1350    1107    1207    1591    1638    1807    1966    1951    2315   \n",
       "20     454     375     412     704     766     757     749     750     778   \n",
       "21     565     530     455     700     785     856     842     891     979   \n",
       "22     904     577     570     387     364     282     204     145     238   \n",
       "23      63      49      75      45      56      27      41      29      45   \n",
       "24      63      54      48      15       8      11       9      13       7   \n",
       "25    1087     816     836     467     405     345     334     288     284   \n",
       "26   60309   51798   56782   46555   43296   42577   45799   47425   50323   \n",
       "\n",
       "     2010년  \n",
       "0    19316  \n",
       "1    20075  \n",
       "2      347  \n",
       "3   128489  \n",
       "4     9185  \n",
       "5     1458  \n",
       "6     5366  \n",
       "7    35628  \n",
       "8    10050  \n",
       "9     1653  \n",
       "10    1304  \n",
       "11     205  \n",
       "12    1280  \n",
       "13     817  \n",
       "14    2023  \n",
       "15     478  \n",
       "16    3160  \n",
       "17    2674  \n",
       "18     412  \n",
       "19    2181  \n",
       "20     703  \n",
       "21    1038  \n",
       "22     204  \n",
       "23      60  \n",
       "24      12  \n",
       "25     190  \n",
       "26   44039  \n",
       "\n",
       "[27 rows x 21 columns]"
      ]
     },
     "execution_count": 11,
     "metadata": {},
     "output_type": "execute_result"
    }
   ],
   "source": [
    "place_df = place_df_start[place_df_start[\"중\"] == \"폭력범\"]\n",
    "place_df.reset_index(inplace=True, drop=True)\n",
    "place_df"
   ]
  },
  {
   "cell_type": "code",
   "execution_count": 12,
   "metadata": {},
   "outputs": [
    {
     "data": {
      "text/html": [
       "<div>\n",
       "<style scoped>\n",
       "    .dataframe tbody tr th:only-of-type {\n",
       "        vertical-align: middle;\n",
       "    }\n",
       "\n",
       "    .dataframe tbody tr th {\n",
       "        vertical-align: top;\n",
       "    }\n",
       "\n",
       "    .dataframe thead th {\n",
       "        text-align: right;\n",
       "    }\n",
       "</style>\n",
       "<table border=\"1\" class=\"dataframe\">\n",
       "  <thead>\n",
       "    <tr style=\"text-align: right;\">\n",
       "      <th></th>\n",
       "      <th>중</th>\n",
       "      <th>소</th>\n",
       "      <th>발생장소</th>\n",
       "      <th>1994년</th>\n",
       "      <th>1995년</th>\n",
       "      <th>1996년</th>\n",
       "      <th>1997년</th>\n",
       "      <th>1998년</th>\n",
       "      <th>1999년</th>\n",
       "      <th>2000년</th>\n",
       "      <th>2001년</th>\n",
       "      <th>2002년</th>\n",
       "      <th>2003년</th>\n",
       "      <th>2004년</th>\n",
       "      <th>2005년</th>\n",
       "      <th>2006년</th>\n",
       "      <th>2007년</th>\n",
       "      <th>2008년</th>\n",
       "      <th>2009년</th>\n",
       "      <th>2010년</th>\n",
       "    </tr>\n",
       "  </thead>\n",
       "  <tbody>\n",
       "    <tr>\n",
       "      <th>0</th>\n",
       "      <td>폭력범</td>\n",
       "      <td>소계</td>\n",
       "      <td>아파트연립다세대</td>\n",
       "      <td>7718</td>\n",
       "      <td>7969</td>\n",
       "      <td>9644</td>\n",
       "      <td>10280</td>\n",
       "      <td>14511</td>\n",
       "      <td>22129</td>\n",
       "      <td>24240</td>\n",
       "      <td>25082</td>\n",
       "      <td>20127</td>\n",
       "      <td>23524</td>\n",
       "      <td>16782</td>\n",
       "      <td>17746</td>\n",
       "      <td>17949</td>\n",
       "      <td>17973</td>\n",
       "      <td>19369</td>\n",
       "      <td>19689</td>\n",
       "      <td>19316</td>\n",
       "    </tr>\n",
       "    <tr>\n",
       "      <th>1</th>\n",
       "      <td>폭력범</td>\n",
       "      <td>소계</td>\n",
       "      <td>단독주택</td>\n",
       "      <td>17726</td>\n",
       "      <td>15390</td>\n",
       "      <td>15427</td>\n",
       "      <td>14141</td>\n",
       "      <td>17215</td>\n",
       "      <td>23409</td>\n",
       "      <td>25363</td>\n",
       "      <td>23968</td>\n",
       "      <td>18122</td>\n",
       "      <td>19030</td>\n",
       "      <td>26876</td>\n",
       "      <td>26150</td>\n",
       "      <td>23878</td>\n",
       "      <td>24253</td>\n",
       "      <td>24805</td>\n",
       "      <td>24892</td>\n",
       "      <td>20075</td>\n",
       "    </tr>\n",
       "    <tr>\n",
       "      <th>2</th>\n",
       "      <td>폭력범</td>\n",
       "      <td>소계</td>\n",
       "      <td>고속도로</td>\n",
       "      <td>274</td>\n",
       "      <td>240</td>\n",
       "      <td>270</td>\n",
       "      <td>240</td>\n",
       "      <td>207</td>\n",
       "      <td>275</td>\n",
       "      <td>374</td>\n",
       "      <td>365</td>\n",
       "      <td>340</td>\n",
       "      <td>398</td>\n",
       "      <td>310</td>\n",
       "      <td>269</td>\n",
       "      <td>269</td>\n",
       "      <td>289</td>\n",
       "      <td>328</td>\n",
       "      <td>351</td>\n",
       "      <td>347</td>\n",
       "    </tr>\n",
       "    <tr>\n",
       "      <th>3</th>\n",
       "      <td>폭력범</td>\n",
       "      <td>소계</td>\n",
       "      <td>노 상</td>\n",
       "      <td>88047</td>\n",
       "      <td>83827</td>\n",
       "      <td>87666</td>\n",
       "      <td>90900</td>\n",
       "      <td>102878</td>\n",
       "      <td>115922</td>\n",
       "      <td>140158</td>\n",
       "      <td>143371</td>\n",
       "      <td>123772</td>\n",
       "      <td>124330</td>\n",
       "      <td>119951</td>\n",
       "      <td>121984</td>\n",
       "      <td>122313</td>\n",
       "      <td>131305</td>\n",
       "      <td>136544</td>\n",
       "      <td>139758</td>\n",
       "      <td>128489</td>\n",
       "    </tr>\n",
       "    <tr>\n",
       "      <th>4</th>\n",
       "      <td>폭력범</td>\n",
       "      <td>소계</td>\n",
       "      <td>상 점</td>\n",
       "      <td>7317</td>\n",
       "      <td>7414</td>\n",
       "      <td>8581</td>\n",
       "      <td>8753</td>\n",
       "      <td>11107</td>\n",
       "      <td>15281</td>\n",
       "      <td>17761</td>\n",
       "      <td>18196</td>\n",
       "      <td>15078</td>\n",
       "      <td>16439</td>\n",
       "      <td>9038</td>\n",
       "      <td>7962</td>\n",
       "      <td>7673</td>\n",
       "      <td>7741</td>\n",
       "      <td>8071</td>\n",
       "      <td>8512</td>\n",
       "      <td>9185</td>\n",
       "    </tr>\n",
       "    <tr>\n",
       "      <th>5</th>\n",
       "      <td>폭력범</td>\n",
       "      <td>소계</td>\n",
       "      <td>시장·노점</td>\n",
       "      <td>2120</td>\n",
       "      <td>1857</td>\n",
       "      <td>1783</td>\n",
       "      <td>1837</td>\n",
       "      <td>2225</td>\n",
       "      <td>2848</td>\n",
       "      <td>3235</td>\n",
       "      <td>2828</td>\n",
       "      <td>2182</td>\n",
       "      <td>2421</td>\n",
       "      <td>1859</td>\n",
       "      <td>1684</td>\n",
       "      <td>1460</td>\n",
       "      <td>1260</td>\n",
       "      <td>1217</td>\n",
       "      <td>1269</td>\n",
       "      <td>1458</td>\n",
       "    </tr>\n",
       "    <tr>\n",
       "      <th>6</th>\n",
       "      <td>폭력범</td>\n",
       "      <td>소계</td>\n",
       "      <td>숙박업소목욕탕</td>\n",
       "      <td>3991</td>\n",
       "      <td>3647</td>\n",
       "      <td>3435</td>\n",
       "      <td>3549</td>\n",
       "      <td>3430</td>\n",
       "      <td>4296</td>\n",
       "      <td>5441</td>\n",
       "      <td>5774</td>\n",
       "      <td>4878</td>\n",
       "      <td>5040</td>\n",
       "      <td>5225</td>\n",
       "      <td>5327</td>\n",
       "      <td>5646</td>\n",
       "      <td>5754</td>\n",
       "      <td>6071</td>\n",
       "      <td>5974</td>\n",
       "      <td>5366</td>\n",
       "    </tr>\n",
       "    <tr>\n",
       "      <th>7</th>\n",
       "      <td>폭력범</td>\n",
       "      <td>소계</td>\n",
       "      <td>유흥접객업소</td>\n",
       "      <td>24389</td>\n",
       "      <td>23019</td>\n",
       "      <td>22274</td>\n",
       "      <td>21799</td>\n",
       "      <td>19883</td>\n",
       "      <td>27659</td>\n",
       "      <td>33300</td>\n",
       "      <td>33268</td>\n",
       "      <td>26850</td>\n",
       "      <td>25128</td>\n",
       "      <td>34643</td>\n",
       "      <td>35819</td>\n",
       "      <td>34351</td>\n",
       "      <td>34733</td>\n",
       "      <td>34500</td>\n",
       "      <td>34988</td>\n",
       "      <td>35628</td>\n",
       "    </tr>\n",
       "    <tr>\n",
       "      <th>8</th>\n",
       "      <td>폭력범</td>\n",
       "      <td>소계</td>\n",
       "      <td>사무실</td>\n",
       "      <td>6589</td>\n",
       "      <td>5932</td>\n",
       "      <td>6389</td>\n",
       "      <td>6270</td>\n",
       "      <td>6346</td>\n",
       "      <td>7356</td>\n",
       "      <td>8420</td>\n",
       "      <td>8542</td>\n",
       "      <td>7154</td>\n",
       "      <td>7499</td>\n",
       "      <td>9598</td>\n",
       "      <td>9296</td>\n",
       "      <td>9724</td>\n",
       "      <td>9363</td>\n",
       "      <td>9914</td>\n",
       "      <td>11205</td>\n",
       "      <td>10050</td>\n",
       "    </tr>\n",
       "    <tr>\n",
       "      <th>9</th>\n",
       "      <td>폭력범</td>\n",
       "      <td>소계</td>\n",
       "      <td>공 장</td>\n",
       "      <td>2029</td>\n",
       "      <td>1615</td>\n",
       "      <td>1445</td>\n",
       "      <td>1346</td>\n",
       "      <td>1213</td>\n",
       "      <td>1564</td>\n",
       "      <td>1639</td>\n",
       "      <td>1612</td>\n",
       "      <td>1373</td>\n",
       "      <td>1395</td>\n",
       "      <td>1474</td>\n",
       "      <td>1460</td>\n",
       "      <td>1337</td>\n",
       "      <td>1323</td>\n",
       "      <td>1290</td>\n",
       "      <td>1499</td>\n",
       "      <td>1653</td>\n",
       "    </tr>\n",
       "    <tr>\n",
       "      <th>10</th>\n",
       "      <td>폭력범</td>\n",
       "      <td>소계</td>\n",
       "      <td>공사장·광산</td>\n",
       "      <td>1811</td>\n",
       "      <td>1587</td>\n",
       "      <td>1534</td>\n",
       "      <td>1467</td>\n",
       "      <td>999</td>\n",
       "      <td>1055</td>\n",
       "      <td>1162</td>\n",
       "      <td>1118</td>\n",
       "      <td>1043</td>\n",
       "      <td>1149</td>\n",
       "      <td>1525</td>\n",
       "      <td>1188</td>\n",
       "      <td>1233</td>\n",
       "      <td>1174</td>\n",
       "      <td>1270</td>\n",
       "      <td>1194</td>\n",
       "      <td>1304</td>\n",
       "    </tr>\n",
       "    <tr>\n",
       "      <th>11</th>\n",
       "      <td>폭력범</td>\n",
       "      <td>소계</td>\n",
       "      <td>창고</td>\n",
       "      <td>131</td>\n",
       "      <td>93</td>\n",
       "      <td>142</td>\n",
       "      <td>107</td>\n",
       "      <td>121</td>\n",
       "      <td>132</td>\n",
       "      <td>138</td>\n",
       "      <td>145</td>\n",
       "      <td>139</td>\n",
       "      <td>125</td>\n",
       "      <td>76</td>\n",
       "      <td>126</td>\n",
       "      <td>141</td>\n",
       "      <td>143</td>\n",
       "      <td>165</td>\n",
       "      <td>192</td>\n",
       "      <td>205</td>\n",
       "    </tr>\n",
       "    <tr>\n",
       "      <th>12</th>\n",
       "      <td>폭력범</td>\n",
       "      <td>소계</td>\n",
       "      <td>역대합실</td>\n",
       "      <td>563</td>\n",
       "      <td>522</td>\n",
       "      <td>518</td>\n",
       "      <td>539</td>\n",
       "      <td>640</td>\n",
       "      <td>769</td>\n",
       "      <td>810</td>\n",
       "      <td>835</td>\n",
       "      <td>669</td>\n",
       "      <td>781</td>\n",
       "      <td>1040</td>\n",
       "      <td>1008</td>\n",
       "      <td>959</td>\n",
       "      <td>1021</td>\n",
       "      <td>1008</td>\n",
       "      <td>1075</td>\n",
       "      <td>1280</td>\n",
       "    </tr>\n",
       "    <tr>\n",
       "      <th>13</th>\n",
       "      <td>폭력범</td>\n",
       "      <td>소계</td>\n",
       "      <td>지하철</td>\n",
       "      <td>310</td>\n",
       "      <td>274</td>\n",
       "      <td>288</td>\n",
       "      <td>299</td>\n",
       "      <td>377</td>\n",
       "      <td>428</td>\n",
       "      <td>577</td>\n",
       "      <td>635</td>\n",
       "      <td>554</td>\n",
       "      <td>630</td>\n",
       "      <td>835</td>\n",
       "      <td>882</td>\n",
       "      <td>887</td>\n",
       "      <td>855</td>\n",
       "      <td>805</td>\n",
       "      <td>835</td>\n",
       "      <td>817</td>\n",
       "    </tr>\n",
       "    <tr>\n",
       "      <th>14</th>\n",
       "      <td>폭력범</td>\n",
       "      <td>소계</td>\n",
       "      <td>기타교통수단내</td>\n",
       "      <td>1760</td>\n",
       "      <td>1682</td>\n",
       "      <td>1766</td>\n",
       "      <td>1884</td>\n",
       "      <td>1769</td>\n",
       "      <td>2285</td>\n",
       "      <td>2681</td>\n",
       "      <td>2724</td>\n",
       "      <td>2375</td>\n",
       "      <td>2528</td>\n",
       "      <td>1158</td>\n",
       "      <td>1084</td>\n",
       "      <td>1149</td>\n",
       "      <td>1711</td>\n",
       "      <td>1472</td>\n",
       "      <td>1531</td>\n",
       "      <td>2023</td>\n",
       "    </tr>\n",
       "    <tr>\n",
       "      <th>15</th>\n",
       "      <td>폭력범</td>\n",
       "      <td>소계</td>\n",
       "      <td>흥행장</td>\n",
       "      <td>1316</td>\n",
       "      <td>1197</td>\n",
       "      <td>976</td>\n",
       "      <td>839</td>\n",
       "      <td>813</td>\n",
       "      <td>1219</td>\n",
       "      <td>1661</td>\n",
       "      <td>1233</td>\n",
       "      <td>1095</td>\n",
       "      <td>1000</td>\n",
       "      <td>1256</td>\n",
       "      <td>1287</td>\n",
       "      <td>1368</td>\n",
       "      <td>746</td>\n",
       "      <td>794</td>\n",
       "      <td>689</td>\n",
       "      <td>478</td>\n",
       "    </tr>\n",
       "    <tr>\n",
       "      <th>16</th>\n",
       "      <td>폭력범</td>\n",
       "      <td>소계</td>\n",
       "      <td>유원지</td>\n",
       "      <td>936</td>\n",
       "      <td>795</td>\n",
       "      <td>749</td>\n",
       "      <td>781</td>\n",
       "      <td>748</td>\n",
       "      <td>734</td>\n",
       "      <td>849</td>\n",
       "      <td>758</td>\n",
       "      <td>525</td>\n",
       "      <td>546</td>\n",
       "      <td>2181</td>\n",
       "      <td>2380</td>\n",
       "      <td>2483</td>\n",
       "      <td>2605</td>\n",
       "      <td>3027</td>\n",
       "      <td>3220</td>\n",
       "      <td>3160</td>\n",
       "    </tr>\n",
       "    <tr>\n",
       "      <th>17</th>\n",
       "      <td>폭력범</td>\n",
       "      <td>소계</td>\n",
       "      <td>학 교</td>\n",
       "      <td>1318</td>\n",
       "      <td>2367</td>\n",
       "      <td>2023</td>\n",
       "      <td>2293</td>\n",
       "      <td>1821</td>\n",
       "      <td>1815</td>\n",
       "      <td>2080</td>\n",
       "      <td>2446</td>\n",
       "      <td>2023</td>\n",
       "      <td>2209</td>\n",
       "      <td>1746</td>\n",
       "      <td>2073</td>\n",
       "      <td>2131</td>\n",
       "      <td>2495</td>\n",
       "      <td>2845</td>\n",
       "      <td>3136</td>\n",
       "      <td>2674</td>\n",
       "    </tr>\n",
       "    <tr>\n",
       "      <th>18</th>\n",
       "      <td>폭력범</td>\n",
       "      <td>소계</td>\n",
       "      <td>금융기관</td>\n",
       "      <td>123</td>\n",
       "      <td>137</td>\n",
       "      <td>168</td>\n",
       "      <td>155</td>\n",
       "      <td>219</td>\n",
       "      <td>219</td>\n",
       "      <td>327</td>\n",
       "      <td>350</td>\n",
       "      <td>325</td>\n",
       "      <td>336</td>\n",
       "      <td>427</td>\n",
       "      <td>320</td>\n",
       "      <td>356</td>\n",
       "      <td>468</td>\n",
       "      <td>521</td>\n",
       "      <td>769</td>\n",
       "      <td>412</td>\n",
       "    </tr>\n",
       "    <tr>\n",
       "      <th>19</th>\n",
       "      <td>폭력범</td>\n",
       "      <td>소계</td>\n",
       "      <td>의료기관</td>\n",
       "      <td>787</td>\n",
       "      <td>653</td>\n",
       "      <td>730</td>\n",
       "      <td>650</td>\n",
       "      <td>798</td>\n",
       "      <td>1071</td>\n",
       "      <td>1352</td>\n",
       "      <td>1350</td>\n",
       "      <td>1107</td>\n",
       "      <td>1207</td>\n",
       "      <td>1591</td>\n",
       "      <td>1638</td>\n",
       "      <td>1807</td>\n",
       "      <td>1966</td>\n",
       "      <td>1951</td>\n",
       "      <td>2315</td>\n",
       "      <td>2181</td>\n",
       "    </tr>\n",
       "    <tr>\n",
       "      <th>20</th>\n",
       "      <td>폭력범</td>\n",
       "      <td>소계</td>\n",
       "      <td>종교기관</td>\n",
       "      <td>283</td>\n",
       "      <td>270</td>\n",
       "      <td>223</td>\n",
       "      <td>292</td>\n",
       "      <td>304</td>\n",
       "      <td>405</td>\n",
       "      <td>467</td>\n",
       "      <td>454</td>\n",
       "      <td>375</td>\n",
       "      <td>412</td>\n",
       "      <td>704</td>\n",
       "      <td>766</td>\n",
       "      <td>757</td>\n",
       "      <td>749</td>\n",
       "      <td>750</td>\n",
       "      <td>778</td>\n",
       "      <td>703</td>\n",
       "    </tr>\n",
       "    <tr>\n",
       "      <th>21</th>\n",
       "      <td>폭력범</td>\n",
       "      <td>소계</td>\n",
       "      <td>산 야</td>\n",
       "      <td>798</td>\n",
       "      <td>634</td>\n",
       "      <td>533</td>\n",
       "      <td>572</td>\n",
       "      <td>573</td>\n",
       "      <td>552</td>\n",
       "      <td>626</td>\n",
       "      <td>565</td>\n",
       "      <td>530</td>\n",
       "      <td>455</td>\n",
       "      <td>700</td>\n",
       "      <td>785</td>\n",
       "      <td>856</td>\n",
       "      <td>842</td>\n",
       "      <td>891</td>\n",
       "      <td>979</td>\n",
       "      <td>1038</td>\n",
       "    </tr>\n",
       "    <tr>\n",
       "      <th>22</th>\n",
       "      <td>폭력범</td>\n",
       "      <td>소계</td>\n",
       "      <td>해 상</td>\n",
       "      <td>746</td>\n",
       "      <td>596</td>\n",
       "      <td>508</td>\n",
       "      <td>694</td>\n",
       "      <td>705</td>\n",
       "      <td>780</td>\n",
       "      <td>1120</td>\n",
       "      <td>904</td>\n",
       "      <td>577</td>\n",
       "      <td>570</td>\n",
       "      <td>387</td>\n",
       "      <td>364</td>\n",
       "      <td>282</td>\n",
       "      <td>204</td>\n",
       "      <td>145</td>\n",
       "      <td>238</td>\n",
       "      <td>204</td>\n",
       "    </tr>\n",
       "    <tr>\n",
       "      <th>23</th>\n",
       "      <td>폭력범</td>\n",
       "      <td>소계</td>\n",
       "      <td>부 대</td>\n",
       "      <td>83</td>\n",
       "      <td>68</td>\n",
       "      <td>46</td>\n",
       "      <td>56</td>\n",
       "      <td>58</td>\n",
       "      <td>64</td>\n",
       "      <td>59</td>\n",
       "      <td>63</td>\n",
       "      <td>49</td>\n",
       "      <td>75</td>\n",
       "      <td>45</td>\n",
       "      <td>56</td>\n",
       "      <td>27</td>\n",
       "      <td>41</td>\n",
       "      <td>29</td>\n",
       "      <td>45</td>\n",
       "      <td>60</td>\n",
       "    </tr>\n",
       "    <tr>\n",
       "      <th>24</th>\n",
       "      <td>폭력범</td>\n",
       "      <td>소계</td>\n",
       "      <td>구금장소</td>\n",
       "      <td>71</td>\n",
       "      <td>84</td>\n",
       "      <td>61</td>\n",
       "      <td>80</td>\n",
       "      <td>81</td>\n",
       "      <td>88</td>\n",
       "      <td>70</td>\n",
       "      <td>63</td>\n",
       "      <td>54</td>\n",
       "      <td>48</td>\n",
       "      <td>15</td>\n",
       "      <td>8</td>\n",
       "      <td>11</td>\n",
       "      <td>9</td>\n",
       "      <td>13</td>\n",
       "      <td>7</td>\n",
       "      <td>12</td>\n",
       "    </tr>\n",
       "    <tr>\n",
       "      <th>25</th>\n",
       "      <td>폭력범</td>\n",
       "      <td>소계</td>\n",
       "      <td>공 지</td>\n",
       "      <td>1320</td>\n",
       "      <td>1185</td>\n",
       "      <td>1175</td>\n",
       "      <td>1143</td>\n",
       "      <td>1056</td>\n",
       "      <td>1137</td>\n",
       "      <td>1287</td>\n",
       "      <td>1087</td>\n",
       "      <td>816</td>\n",
       "      <td>836</td>\n",
       "      <td>467</td>\n",
       "      <td>405</td>\n",
       "      <td>345</td>\n",
       "      <td>334</td>\n",
       "      <td>288</td>\n",
       "      <td>284</td>\n",
       "      <td>190</td>\n",
       "    </tr>\n",
       "    <tr>\n",
       "      <th>26</th>\n",
       "      <td>폭력범</td>\n",
       "      <td>소계</td>\n",
       "      <td>기 타</td>\n",
       "      <td>20491</td>\n",
       "      <td>23436</td>\n",
       "      <td>26537</td>\n",
       "      <td>29709</td>\n",
       "      <td>36312</td>\n",
       "      <td>48782</td>\n",
       "      <td>58433</td>\n",
       "      <td>60309</td>\n",
       "      <td>51798</td>\n",
       "      <td>56782</td>\n",
       "      <td>46555</td>\n",
       "      <td>43296</td>\n",
       "      <td>42577</td>\n",
       "      <td>45799</td>\n",
       "      <td>47425</td>\n",
       "      <td>50323</td>\n",
       "      <td>44039</td>\n",
       "    </tr>\n",
       "  </tbody>\n",
       "</table>\n",
       "</div>"
      ],
      "text/plain": [
       "      중   소      발생장소  1994년  1995년  1996년  1997년   1998년   1999년   2000년  \\\n",
       "0   폭력범  소계  아파트연립다세대   7718   7969   9644  10280   14511   22129   24240   \n",
       "1   폭력범  소계      단독주택  17726  15390  15427  14141   17215   23409   25363   \n",
       "2   폭력범  소계      고속도로    274    240    270    240     207     275     374   \n",
       "3   폭력범  소계       노 상  88047  83827  87666  90900  102878  115922  140158   \n",
       "4   폭력범  소계       상 점   7317   7414   8581   8753   11107   15281   17761   \n",
       "5   폭력범  소계     시장·노점   2120   1857   1783   1837    2225    2848    3235   \n",
       "6   폭력범  소계   숙박업소목욕탕   3991   3647   3435   3549    3430    4296    5441   \n",
       "7   폭력범  소계    유흥접객업소  24389  23019  22274  21799   19883   27659   33300   \n",
       "8   폭력범  소계       사무실   6589   5932   6389   6270    6346    7356    8420   \n",
       "9   폭력범  소계       공 장   2029   1615   1445   1346    1213    1564    1639   \n",
       "10  폭력범  소계    공사장·광산   1811   1587   1534   1467     999    1055    1162   \n",
       "11  폭력범  소계        창고    131     93    142    107     121     132     138   \n",
       "12  폭력범  소계      역대합실    563    522    518    539     640     769     810   \n",
       "13  폭력범  소계       지하철    310    274    288    299     377     428     577   \n",
       "14  폭력범  소계   기타교통수단내   1760   1682   1766   1884    1769    2285    2681   \n",
       "15  폭력범  소계       흥행장   1316   1197    976    839     813    1219    1661   \n",
       "16  폭력범  소계       유원지    936    795    749    781     748     734     849   \n",
       "17  폭력범  소계       학 교   1318   2367   2023   2293    1821    1815    2080   \n",
       "18  폭력범  소계      금융기관    123    137    168    155     219     219     327   \n",
       "19  폭력범  소계      의료기관    787    653    730    650     798    1071    1352   \n",
       "20  폭력범  소계      종교기관    283    270    223    292     304     405     467   \n",
       "21  폭력범  소계       산 야    798    634    533    572     573     552     626   \n",
       "22  폭력범  소계       해 상    746    596    508    694     705     780    1120   \n",
       "23  폭력범  소계       부 대     83     68     46     56      58      64      59   \n",
       "24  폭력범  소계      구금장소     71     84     61     80      81      88      70   \n",
       "25  폭력범  소계       공 지   1320   1185   1175   1143    1056    1137    1287   \n",
       "26  폭력범  소계       기 타  20491  23436  26537  29709   36312   48782   58433   \n",
       "\n",
       "     2001년   2002년   2003년   2004년   2005년   2006년   2007년   2008년   2009년  \\\n",
       "0    25082   20127   23524   16782   17746   17949   17973   19369   19689   \n",
       "1    23968   18122   19030   26876   26150   23878   24253   24805   24892   \n",
       "2      365     340     398     310     269     269     289     328     351   \n",
       "3   143371  123772  124330  119951  121984  122313  131305  136544  139758   \n",
       "4    18196   15078   16439    9038    7962    7673    7741    8071    8512   \n",
       "5     2828    2182    2421    1859    1684    1460    1260    1217    1269   \n",
       "6     5774    4878    5040    5225    5327    5646    5754    6071    5974   \n",
       "7    33268   26850   25128   34643   35819   34351   34733   34500   34988   \n",
       "8     8542    7154    7499    9598    9296    9724    9363    9914   11205   \n",
       "9     1612    1373    1395    1474    1460    1337    1323    1290    1499   \n",
       "10    1118    1043    1149    1525    1188    1233    1174    1270    1194   \n",
       "11     145     139     125      76     126     141     143     165     192   \n",
       "12     835     669     781    1040    1008     959    1021    1008    1075   \n",
       "13     635     554     630     835     882     887     855     805     835   \n",
       "14    2724    2375    2528    1158    1084    1149    1711    1472    1531   \n",
       "15    1233    1095    1000    1256    1287    1368     746     794     689   \n",
       "16     758     525     546    2181    2380    2483    2605    3027    3220   \n",
       "17    2446    2023    2209    1746    2073    2131    2495    2845    3136   \n",
       "18     350     325     336     427     320     356     468     521     769   \n",
       "19    1350    1107    1207    1591    1638    1807    1966    1951    2315   \n",
       "20     454     375     412     704     766     757     749     750     778   \n",
       "21     565     530     455     700     785     856     842     891     979   \n",
       "22     904     577     570     387     364     282     204     145     238   \n",
       "23      63      49      75      45      56      27      41      29      45   \n",
       "24      63      54      48      15       8      11       9      13       7   \n",
       "25    1087     816     836     467     405     345     334     288     284   \n",
       "26   60309   51798   56782   46555   43296   42577   45799   47425   50323   \n",
       "\n",
       "     2010년  \n",
       "0    19316  \n",
       "1    20075  \n",
       "2      347  \n",
       "3   128489  \n",
       "4     9185  \n",
       "5     1458  \n",
       "6     5366  \n",
       "7    35628  \n",
       "8    10050  \n",
       "9     1653  \n",
       "10    1304  \n",
       "11     205  \n",
       "12    1280  \n",
       "13     817  \n",
       "14    2023  \n",
       "15     478  \n",
       "16    3160  \n",
       "17    2674  \n",
       "18     412  \n",
       "19    2181  \n",
       "20     703  \n",
       "21    1038  \n",
       "22     204  \n",
       "23      60  \n",
       "24      12  \n",
       "25     190  \n",
       "26   44039  "
      ]
     },
     "execution_count": 12,
     "metadata": {},
     "output_type": "execute_result"
    }
   ],
   "source": [
    "place_df_total = place_df[place_df[\"소\"] == \"소계\"]\n",
    "place_df_total.drop(columns=\"대\", inplace=True)\n",
    "place_df_total.reset_index(inplace=True, drop=True)\n",
    "place_df_total"
   ]
  },
  {
   "cell_type": "code",
   "execution_count": 13,
   "metadata": {},
   "outputs": [
    {
     "data": {
      "application/vnd.plotly.v1+json": {
       "config": {
        "plotlyServerURL": "https://plot.ly"
       },
       "data": [
        {
         "hovertemplate": "발생장소=아파트연립다세대<br>년도=%{x}<br>발생건수=%{y}<extra></extra>",
         "legendgroup": "아파트연립다세대",
         "line": {
          "color": "#636efa",
          "dash": "solid"
         },
         "marker": {
          "symbol": "circle"
         },
         "mode": "lines+markers",
         "name": "아파트연립다세대",
         "orientation": "v",
         "showlegend": true,
         "type": "scatter",
         "x": [
          "1994년",
          "1995년",
          "1996년",
          "1997년",
          "1998년",
          "1999년",
          "2000년",
          "2001년",
          "2002년",
          "2003년",
          "2004년",
          "2005년",
          "2006년",
          "2007년",
          "2008년",
          "2009년",
          "2010년"
         ],
         "xaxis": "x",
         "y": [
          7718,
          7969,
          9644,
          10280,
          14511,
          22129,
          24240,
          25082,
          20127,
          23524,
          16782,
          17746,
          17949,
          17973,
          19369,
          19689,
          19316
         ],
         "yaxis": "y"
        },
        {
         "hovertemplate": "발생장소=단독주택<br>년도=%{x}<br>발생건수=%{y}<extra></extra>",
         "legendgroup": "단독주택",
         "line": {
          "color": "#EF553B",
          "dash": "solid"
         },
         "marker": {
          "symbol": "circle"
         },
         "mode": "lines+markers",
         "name": "단독주택",
         "orientation": "v",
         "showlegend": true,
         "type": "scatter",
         "x": [
          "1994년",
          "1995년",
          "1996년",
          "1997년",
          "1998년",
          "1999년",
          "2000년",
          "2001년",
          "2002년",
          "2003년",
          "2004년",
          "2005년",
          "2006년",
          "2007년",
          "2008년",
          "2009년",
          "2010년"
         ],
         "xaxis": "x",
         "y": [
          17726,
          15390,
          15427,
          14141,
          17215,
          23409,
          25363,
          23968,
          18122,
          19030,
          26876,
          26150,
          23878,
          24253,
          24805,
          24892,
          20075
         ],
         "yaxis": "y"
        },
        {
         "hovertemplate": "발생장소=고속도로<br>년도=%{x}<br>발생건수=%{y}<extra></extra>",
         "legendgroup": "고속도로",
         "line": {
          "color": "#00cc96",
          "dash": "solid"
         },
         "marker": {
          "symbol": "circle"
         },
         "mode": "lines+markers",
         "name": "고속도로",
         "orientation": "v",
         "showlegend": true,
         "type": "scatter",
         "x": [
          "1994년",
          "1995년",
          "1996년",
          "1997년",
          "1998년",
          "1999년",
          "2000년",
          "2001년",
          "2002년",
          "2003년",
          "2004년",
          "2005년",
          "2006년",
          "2007년",
          "2008년",
          "2009년",
          "2010년"
         ],
         "xaxis": "x",
         "y": [
          274,
          240,
          270,
          240,
          207,
          275,
          374,
          365,
          340,
          398,
          310,
          269,
          269,
          289,
          328,
          351,
          347
         ],
         "yaxis": "y"
        },
        {
         "hovertemplate": "발생장소=노 상<br>년도=%{x}<br>발생건수=%{y}<extra></extra>",
         "legendgroup": "노 상",
         "line": {
          "color": "#ab63fa",
          "dash": "solid"
         },
         "marker": {
          "symbol": "circle"
         },
         "mode": "lines+markers",
         "name": "노 상",
         "orientation": "v",
         "showlegend": true,
         "type": "scatter",
         "x": [
          "1994년",
          "1995년",
          "1996년",
          "1997년",
          "1998년",
          "1999년",
          "2000년",
          "2001년",
          "2002년",
          "2003년",
          "2004년",
          "2005년",
          "2006년",
          "2007년",
          "2008년",
          "2009년",
          "2010년"
         ],
         "xaxis": "x",
         "y": [
          88047,
          83827,
          87666,
          90900,
          102878,
          115922,
          140158,
          143371,
          123772,
          124330,
          119951,
          121984,
          122313,
          131305,
          136544,
          139758,
          128489
         ],
         "yaxis": "y"
        },
        {
         "hovertemplate": "발생장소=상 점<br>년도=%{x}<br>발생건수=%{y}<extra></extra>",
         "legendgroup": "상 점",
         "line": {
          "color": "#FFA15A",
          "dash": "solid"
         },
         "marker": {
          "symbol": "circle"
         },
         "mode": "lines+markers",
         "name": "상 점",
         "orientation": "v",
         "showlegend": true,
         "type": "scatter",
         "x": [
          "1994년",
          "1995년",
          "1996년",
          "1997년",
          "1998년",
          "1999년",
          "2000년",
          "2001년",
          "2002년",
          "2003년",
          "2004년",
          "2005년",
          "2006년",
          "2007년",
          "2008년",
          "2009년",
          "2010년"
         ],
         "xaxis": "x",
         "y": [
          7317,
          7414,
          8581,
          8753,
          11107,
          15281,
          17761,
          18196,
          15078,
          16439,
          9038,
          7962,
          7673,
          7741,
          8071,
          8512,
          9185
         ],
         "yaxis": "y"
        },
        {
         "hovertemplate": "발생장소=시장·노점<br>년도=%{x}<br>발생건수=%{y}<extra></extra>",
         "legendgroup": "시장·노점",
         "line": {
          "color": "#19d3f3",
          "dash": "solid"
         },
         "marker": {
          "symbol": "circle"
         },
         "mode": "lines+markers",
         "name": "시장·노점",
         "orientation": "v",
         "showlegend": true,
         "type": "scatter",
         "x": [
          "1994년",
          "1995년",
          "1996년",
          "1997년",
          "1998년",
          "1999년",
          "2000년",
          "2001년",
          "2002년",
          "2003년",
          "2004년",
          "2005년",
          "2006년",
          "2007년",
          "2008년",
          "2009년",
          "2010년"
         ],
         "xaxis": "x",
         "y": [
          2120,
          1857,
          1783,
          1837,
          2225,
          2848,
          3235,
          2828,
          2182,
          2421,
          1859,
          1684,
          1460,
          1260,
          1217,
          1269,
          1458
         ],
         "yaxis": "y"
        },
        {
         "hovertemplate": "발생장소=숙박업소목욕탕<br>년도=%{x}<br>발생건수=%{y}<extra></extra>",
         "legendgroup": "숙박업소목욕탕",
         "line": {
          "color": "#FF6692",
          "dash": "solid"
         },
         "marker": {
          "symbol": "circle"
         },
         "mode": "lines+markers",
         "name": "숙박업소목욕탕",
         "orientation": "v",
         "showlegend": true,
         "type": "scatter",
         "x": [
          "1994년",
          "1995년",
          "1996년",
          "1997년",
          "1998년",
          "1999년",
          "2000년",
          "2001년",
          "2002년",
          "2003년",
          "2004년",
          "2005년",
          "2006년",
          "2007년",
          "2008년",
          "2009년",
          "2010년"
         ],
         "xaxis": "x",
         "y": [
          3991,
          3647,
          3435,
          3549,
          3430,
          4296,
          5441,
          5774,
          4878,
          5040,
          5225,
          5327,
          5646,
          5754,
          6071,
          5974,
          5366
         ],
         "yaxis": "y"
        },
        {
         "hovertemplate": "발생장소=유흥접객업소<br>년도=%{x}<br>발생건수=%{y}<extra></extra>",
         "legendgroup": "유흥접객업소",
         "line": {
          "color": "#B6E880",
          "dash": "solid"
         },
         "marker": {
          "symbol": "circle"
         },
         "mode": "lines+markers",
         "name": "유흥접객업소",
         "orientation": "v",
         "showlegend": true,
         "type": "scatter",
         "x": [
          "1994년",
          "1995년",
          "1996년",
          "1997년",
          "1998년",
          "1999년",
          "2000년",
          "2001년",
          "2002년",
          "2003년",
          "2004년",
          "2005년",
          "2006년",
          "2007년",
          "2008년",
          "2009년",
          "2010년"
         ],
         "xaxis": "x",
         "y": [
          24389,
          23019,
          22274,
          21799,
          19883,
          27659,
          33300,
          33268,
          26850,
          25128,
          34643,
          35819,
          34351,
          34733,
          34500,
          34988,
          35628
         ],
         "yaxis": "y"
        },
        {
         "hovertemplate": "발생장소=사무실<br>년도=%{x}<br>발생건수=%{y}<extra></extra>",
         "legendgroup": "사무실",
         "line": {
          "color": "#FF97FF",
          "dash": "solid"
         },
         "marker": {
          "symbol": "circle"
         },
         "mode": "lines+markers",
         "name": "사무실",
         "orientation": "v",
         "showlegend": true,
         "type": "scatter",
         "x": [
          "1994년",
          "1995년",
          "1996년",
          "1997년",
          "1998년",
          "1999년",
          "2000년",
          "2001년",
          "2002년",
          "2003년",
          "2004년",
          "2005년",
          "2006년",
          "2007년",
          "2008년",
          "2009년",
          "2010년"
         ],
         "xaxis": "x",
         "y": [
          6589,
          5932,
          6389,
          6270,
          6346,
          7356,
          8420,
          8542,
          7154,
          7499,
          9598,
          9296,
          9724,
          9363,
          9914,
          11205,
          10050
         ],
         "yaxis": "y"
        },
        {
         "hovertemplate": "발생장소=공 장<br>년도=%{x}<br>발생건수=%{y}<extra></extra>",
         "legendgroup": "공 장",
         "line": {
          "color": "#FECB52",
          "dash": "solid"
         },
         "marker": {
          "symbol": "circle"
         },
         "mode": "lines+markers",
         "name": "공 장",
         "orientation": "v",
         "showlegend": true,
         "type": "scatter",
         "x": [
          "1994년",
          "1995년",
          "1996년",
          "1997년",
          "1998년",
          "1999년",
          "2000년",
          "2001년",
          "2002년",
          "2003년",
          "2004년",
          "2005년",
          "2006년",
          "2007년",
          "2008년",
          "2009년",
          "2010년"
         ],
         "xaxis": "x",
         "y": [
          2029,
          1615,
          1445,
          1346,
          1213,
          1564,
          1639,
          1612,
          1373,
          1395,
          1474,
          1460,
          1337,
          1323,
          1290,
          1499,
          1653
         ],
         "yaxis": "y"
        },
        {
         "hovertemplate": "발생장소=공사장·광산<br>년도=%{x}<br>발생건수=%{y}<extra></extra>",
         "legendgroup": "공사장·광산",
         "line": {
          "color": "#636efa",
          "dash": "solid"
         },
         "marker": {
          "symbol": "circle"
         },
         "mode": "lines+markers",
         "name": "공사장·광산",
         "orientation": "v",
         "showlegend": true,
         "type": "scatter",
         "x": [
          "1994년",
          "1995년",
          "1996년",
          "1997년",
          "1998년",
          "1999년",
          "2000년",
          "2001년",
          "2002년",
          "2003년",
          "2004년",
          "2005년",
          "2006년",
          "2007년",
          "2008년",
          "2009년",
          "2010년"
         ],
         "xaxis": "x",
         "y": [
          1811,
          1587,
          1534,
          1467,
          999,
          1055,
          1162,
          1118,
          1043,
          1149,
          1525,
          1188,
          1233,
          1174,
          1270,
          1194,
          1304
         ],
         "yaxis": "y"
        },
        {
         "hovertemplate": "발생장소=창고<br>년도=%{x}<br>발생건수=%{y}<extra></extra>",
         "legendgroup": "창고",
         "line": {
          "color": "#EF553B",
          "dash": "solid"
         },
         "marker": {
          "symbol": "circle"
         },
         "mode": "lines+markers",
         "name": "창고",
         "orientation": "v",
         "showlegend": true,
         "type": "scatter",
         "x": [
          "1994년",
          "1995년",
          "1996년",
          "1997년",
          "1998년",
          "1999년",
          "2000년",
          "2001년",
          "2002년",
          "2003년",
          "2004년",
          "2005년",
          "2006년",
          "2007년",
          "2008년",
          "2009년",
          "2010년"
         ],
         "xaxis": "x",
         "y": [
          131,
          93,
          142,
          107,
          121,
          132,
          138,
          145,
          139,
          125,
          76,
          126,
          141,
          143,
          165,
          192,
          205
         ],
         "yaxis": "y"
        },
        {
         "hovertemplate": "발생장소=역대합실<br>년도=%{x}<br>발생건수=%{y}<extra></extra>",
         "legendgroup": "역대합실",
         "line": {
          "color": "#00cc96",
          "dash": "solid"
         },
         "marker": {
          "symbol": "circle"
         },
         "mode": "lines+markers",
         "name": "역대합실",
         "orientation": "v",
         "showlegend": true,
         "type": "scatter",
         "x": [
          "1994년",
          "1995년",
          "1996년",
          "1997년",
          "1998년",
          "1999년",
          "2000년",
          "2001년",
          "2002년",
          "2003년",
          "2004년",
          "2005년",
          "2006년",
          "2007년",
          "2008년",
          "2009년",
          "2010년"
         ],
         "xaxis": "x",
         "y": [
          563,
          522,
          518,
          539,
          640,
          769,
          810,
          835,
          669,
          781,
          1040,
          1008,
          959,
          1021,
          1008,
          1075,
          1280
         ],
         "yaxis": "y"
        },
        {
         "hovertemplate": "발생장소=지하철<br>년도=%{x}<br>발생건수=%{y}<extra></extra>",
         "legendgroup": "지하철",
         "line": {
          "color": "#ab63fa",
          "dash": "solid"
         },
         "marker": {
          "symbol": "circle"
         },
         "mode": "lines+markers",
         "name": "지하철",
         "orientation": "v",
         "showlegend": true,
         "type": "scatter",
         "x": [
          "1994년",
          "1995년",
          "1996년",
          "1997년",
          "1998년",
          "1999년",
          "2000년",
          "2001년",
          "2002년",
          "2003년",
          "2004년",
          "2005년",
          "2006년",
          "2007년",
          "2008년",
          "2009년",
          "2010년"
         ],
         "xaxis": "x",
         "y": [
          310,
          274,
          288,
          299,
          377,
          428,
          577,
          635,
          554,
          630,
          835,
          882,
          887,
          855,
          805,
          835,
          817
         ],
         "yaxis": "y"
        },
        {
         "hovertemplate": "발생장소=기타교통수단내<br>년도=%{x}<br>발생건수=%{y}<extra></extra>",
         "legendgroup": "기타교통수단내",
         "line": {
          "color": "#FFA15A",
          "dash": "solid"
         },
         "marker": {
          "symbol": "circle"
         },
         "mode": "lines+markers",
         "name": "기타교통수단내",
         "orientation": "v",
         "showlegend": true,
         "type": "scatter",
         "x": [
          "1994년",
          "1995년",
          "1996년",
          "1997년",
          "1998년",
          "1999년",
          "2000년",
          "2001년",
          "2002년",
          "2003년",
          "2004년",
          "2005년",
          "2006년",
          "2007년",
          "2008년",
          "2009년",
          "2010년"
         ],
         "xaxis": "x",
         "y": [
          1760,
          1682,
          1766,
          1884,
          1769,
          2285,
          2681,
          2724,
          2375,
          2528,
          1158,
          1084,
          1149,
          1711,
          1472,
          1531,
          2023
         ],
         "yaxis": "y"
        },
        {
         "hovertemplate": "발생장소=흥행장<br>년도=%{x}<br>발생건수=%{y}<extra></extra>",
         "legendgroup": "흥행장",
         "line": {
          "color": "#19d3f3",
          "dash": "solid"
         },
         "marker": {
          "symbol": "circle"
         },
         "mode": "lines+markers",
         "name": "흥행장",
         "orientation": "v",
         "showlegend": true,
         "type": "scatter",
         "x": [
          "1994년",
          "1995년",
          "1996년",
          "1997년",
          "1998년",
          "1999년",
          "2000년",
          "2001년",
          "2002년",
          "2003년",
          "2004년",
          "2005년",
          "2006년",
          "2007년",
          "2008년",
          "2009년",
          "2010년"
         ],
         "xaxis": "x",
         "y": [
          1316,
          1197,
          976,
          839,
          813,
          1219,
          1661,
          1233,
          1095,
          1000,
          1256,
          1287,
          1368,
          746,
          794,
          689,
          478
         ],
         "yaxis": "y"
        },
        {
         "hovertemplate": "발생장소=유원지<br>년도=%{x}<br>발생건수=%{y}<extra></extra>",
         "legendgroup": "유원지",
         "line": {
          "color": "#FF6692",
          "dash": "solid"
         },
         "marker": {
          "symbol": "circle"
         },
         "mode": "lines+markers",
         "name": "유원지",
         "orientation": "v",
         "showlegend": true,
         "type": "scatter",
         "x": [
          "1994년",
          "1995년",
          "1996년",
          "1997년",
          "1998년",
          "1999년",
          "2000년",
          "2001년",
          "2002년",
          "2003년",
          "2004년",
          "2005년",
          "2006년",
          "2007년",
          "2008년",
          "2009년",
          "2010년"
         ],
         "xaxis": "x",
         "y": [
          936,
          795,
          749,
          781,
          748,
          734,
          849,
          758,
          525,
          546,
          2181,
          2380,
          2483,
          2605,
          3027,
          3220,
          3160
         ],
         "yaxis": "y"
        },
        {
         "hovertemplate": "발생장소=학 교<br>년도=%{x}<br>발생건수=%{y}<extra></extra>",
         "legendgroup": "학 교",
         "line": {
          "color": "#B6E880",
          "dash": "solid"
         },
         "marker": {
          "symbol": "circle"
         },
         "mode": "lines+markers",
         "name": "학 교",
         "orientation": "v",
         "showlegend": true,
         "type": "scatter",
         "x": [
          "1994년",
          "1995년",
          "1996년",
          "1997년",
          "1998년",
          "1999년",
          "2000년",
          "2001년",
          "2002년",
          "2003년",
          "2004년",
          "2005년",
          "2006년",
          "2007년",
          "2008년",
          "2009년",
          "2010년"
         ],
         "xaxis": "x",
         "y": [
          1318,
          2367,
          2023,
          2293,
          1821,
          1815,
          2080,
          2446,
          2023,
          2209,
          1746,
          2073,
          2131,
          2495,
          2845,
          3136,
          2674
         ],
         "yaxis": "y"
        },
        {
         "hovertemplate": "발생장소=금융기관<br>년도=%{x}<br>발생건수=%{y}<extra></extra>",
         "legendgroup": "금융기관",
         "line": {
          "color": "#FF97FF",
          "dash": "solid"
         },
         "marker": {
          "symbol": "circle"
         },
         "mode": "lines+markers",
         "name": "금융기관",
         "orientation": "v",
         "showlegend": true,
         "type": "scatter",
         "x": [
          "1994년",
          "1995년",
          "1996년",
          "1997년",
          "1998년",
          "1999년",
          "2000년",
          "2001년",
          "2002년",
          "2003년",
          "2004년",
          "2005년",
          "2006년",
          "2007년",
          "2008년",
          "2009년",
          "2010년"
         ],
         "xaxis": "x",
         "y": [
          123,
          137,
          168,
          155,
          219,
          219,
          327,
          350,
          325,
          336,
          427,
          320,
          356,
          468,
          521,
          769,
          412
         ],
         "yaxis": "y"
        },
        {
         "hovertemplate": "발생장소=의료기관<br>년도=%{x}<br>발생건수=%{y}<extra></extra>",
         "legendgroup": "의료기관",
         "line": {
          "color": "#FECB52",
          "dash": "solid"
         },
         "marker": {
          "symbol": "circle"
         },
         "mode": "lines+markers",
         "name": "의료기관",
         "orientation": "v",
         "showlegend": true,
         "type": "scatter",
         "x": [
          "1994년",
          "1995년",
          "1996년",
          "1997년",
          "1998년",
          "1999년",
          "2000년",
          "2001년",
          "2002년",
          "2003년",
          "2004년",
          "2005년",
          "2006년",
          "2007년",
          "2008년",
          "2009년",
          "2010년"
         ],
         "xaxis": "x",
         "y": [
          787,
          653,
          730,
          650,
          798,
          1071,
          1352,
          1350,
          1107,
          1207,
          1591,
          1638,
          1807,
          1966,
          1951,
          2315,
          2181
         ],
         "yaxis": "y"
        },
        {
         "hovertemplate": "발생장소=종교기관<br>년도=%{x}<br>발생건수=%{y}<extra></extra>",
         "legendgroup": "종교기관",
         "line": {
          "color": "#636efa",
          "dash": "solid"
         },
         "marker": {
          "symbol": "circle"
         },
         "mode": "lines+markers",
         "name": "종교기관",
         "orientation": "v",
         "showlegend": true,
         "type": "scatter",
         "x": [
          "1994년",
          "1995년",
          "1996년",
          "1997년",
          "1998년",
          "1999년",
          "2000년",
          "2001년",
          "2002년",
          "2003년",
          "2004년",
          "2005년",
          "2006년",
          "2007년",
          "2008년",
          "2009년",
          "2010년"
         ],
         "xaxis": "x",
         "y": [
          283,
          270,
          223,
          292,
          304,
          405,
          467,
          454,
          375,
          412,
          704,
          766,
          757,
          749,
          750,
          778,
          703
         ],
         "yaxis": "y"
        },
        {
         "hovertemplate": "발생장소=산 야<br>년도=%{x}<br>발생건수=%{y}<extra></extra>",
         "legendgroup": "산 야",
         "line": {
          "color": "#EF553B",
          "dash": "solid"
         },
         "marker": {
          "symbol": "circle"
         },
         "mode": "lines+markers",
         "name": "산 야",
         "orientation": "v",
         "showlegend": true,
         "type": "scatter",
         "x": [
          "1994년",
          "1995년",
          "1996년",
          "1997년",
          "1998년",
          "1999년",
          "2000년",
          "2001년",
          "2002년",
          "2003년",
          "2004년",
          "2005년",
          "2006년",
          "2007년",
          "2008년",
          "2009년",
          "2010년"
         ],
         "xaxis": "x",
         "y": [
          798,
          634,
          533,
          572,
          573,
          552,
          626,
          565,
          530,
          455,
          700,
          785,
          856,
          842,
          891,
          979,
          1038
         ],
         "yaxis": "y"
        },
        {
         "hovertemplate": "발생장소=해 상<br>년도=%{x}<br>발생건수=%{y}<extra></extra>",
         "legendgroup": "해 상",
         "line": {
          "color": "#00cc96",
          "dash": "solid"
         },
         "marker": {
          "symbol": "circle"
         },
         "mode": "lines+markers",
         "name": "해 상",
         "orientation": "v",
         "showlegend": true,
         "type": "scatter",
         "x": [
          "1994년",
          "1995년",
          "1996년",
          "1997년",
          "1998년",
          "1999년",
          "2000년",
          "2001년",
          "2002년",
          "2003년",
          "2004년",
          "2005년",
          "2006년",
          "2007년",
          "2008년",
          "2009년",
          "2010년"
         ],
         "xaxis": "x",
         "y": [
          746,
          596,
          508,
          694,
          705,
          780,
          1120,
          904,
          577,
          570,
          387,
          364,
          282,
          204,
          145,
          238,
          204
         ],
         "yaxis": "y"
        },
        {
         "hovertemplate": "발생장소=부 대<br>년도=%{x}<br>발생건수=%{y}<extra></extra>",
         "legendgroup": "부 대",
         "line": {
          "color": "#ab63fa",
          "dash": "solid"
         },
         "marker": {
          "symbol": "circle"
         },
         "mode": "lines+markers",
         "name": "부 대",
         "orientation": "v",
         "showlegend": true,
         "type": "scatter",
         "x": [
          "1994년",
          "1995년",
          "1996년",
          "1997년",
          "1998년",
          "1999년",
          "2000년",
          "2001년",
          "2002년",
          "2003년",
          "2004년",
          "2005년",
          "2006년",
          "2007년",
          "2008년",
          "2009년",
          "2010년"
         ],
         "xaxis": "x",
         "y": [
          83,
          68,
          46,
          56,
          58,
          64,
          59,
          63,
          49,
          75,
          45,
          56,
          27,
          41,
          29,
          45,
          60
         ],
         "yaxis": "y"
        },
        {
         "hovertemplate": "발생장소=구금장소<br>년도=%{x}<br>발생건수=%{y}<extra></extra>",
         "legendgroup": "구금장소",
         "line": {
          "color": "#FFA15A",
          "dash": "solid"
         },
         "marker": {
          "symbol": "circle"
         },
         "mode": "lines+markers",
         "name": "구금장소",
         "orientation": "v",
         "showlegend": true,
         "type": "scatter",
         "x": [
          "1994년",
          "1995년",
          "1996년",
          "1997년",
          "1998년",
          "1999년",
          "2000년",
          "2001년",
          "2002년",
          "2003년",
          "2004년",
          "2005년",
          "2006년",
          "2007년",
          "2008년",
          "2009년",
          "2010년"
         ],
         "xaxis": "x",
         "y": [
          71,
          84,
          61,
          80,
          81,
          88,
          70,
          63,
          54,
          48,
          15,
          8,
          11,
          9,
          13,
          7,
          12
         ],
         "yaxis": "y"
        },
        {
         "hovertemplate": "발생장소=공 지<br>년도=%{x}<br>발생건수=%{y}<extra></extra>",
         "legendgroup": "공 지",
         "line": {
          "color": "#19d3f3",
          "dash": "solid"
         },
         "marker": {
          "symbol": "circle"
         },
         "mode": "lines+markers",
         "name": "공 지",
         "orientation": "v",
         "showlegend": true,
         "type": "scatter",
         "x": [
          "1994년",
          "1995년",
          "1996년",
          "1997년",
          "1998년",
          "1999년",
          "2000년",
          "2001년",
          "2002년",
          "2003년",
          "2004년",
          "2005년",
          "2006년",
          "2007년",
          "2008년",
          "2009년",
          "2010년"
         ],
         "xaxis": "x",
         "y": [
          1320,
          1185,
          1175,
          1143,
          1056,
          1137,
          1287,
          1087,
          816,
          836,
          467,
          405,
          345,
          334,
          288,
          284,
          190
         ],
         "yaxis": "y"
        },
        {
         "hovertemplate": "발생장소=기 타<br>년도=%{x}<br>발생건수=%{y}<extra></extra>",
         "legendgroup": "기 타",
         "line": {
          "color": "#FF6692",
          "dash": "solid"
         },
         "marker": {
          "symbol": "circle"
         },
         "mode": "lines+markers",
         "name": "기 타",
         "orientation": "v",
         "showlegend": true,
         "type": "scatter",
         "x": [
          "1994년",
          "1995년",
          "1996년",
          "1997년",
          "1998년",
          "1999년",
          "2000년",
          "2001년",
          "2002년",
          "2003년",
          "2004년",
          "2005년",
          "2006년",
          "2007년",
          "2008년",
          "2009년",
          "2010년"
         ],
         "xaxis": "x",
         "y": [
          20491,
          23436,
          26537,
          29709,
          36312,
          48782,
          58433,
          60309,
          51798,
          56782,
          46555,
          43296,
          42577,
          45799,
          47425,
          50323,
          44039
         ],
         "yaxis": "y"
        }
       ],
       "layout": {
        "legend": {
         "title": {
          "text": "발생장소"
         },
         "tracegroupgap": 0
        },
        "template": {
         "data": {
          "bar": [
           {
            "error_x": {
             "color": "#2a3f5f"
            },
            "error_y": {
             "color": "#2a3f5f"
            },
            "marker": {
             "line": {
              "color": "#E5ECF6",
              "width": 0.5
             },
             "pattern": {
              "fillmode": "overlay",
              "size": 10,
              "solidity": 0.2
             }
            },
            "type": "bar"
           }
          ],
          "barpolar": [
           {
            "marker": {
             "line": {
              "color": "#E5ECF6",
              "width": 0.5
             },
             "pattern": {
              "fillmode": "overlay",
              "size": 10,
              "solidity": 0.2
             }
            },
            "type": "barpolar"
           }
          ],
          "carpet": [
           {
            "aaxis": {
             "endlinecolor": "#2a3f5f",
             "gridcolor": "white",
             "linecolor": "white",
             "minorgridcolor": "white",
             "startlinecolor": "#2a3f5f"
            },
            "baxis": {
             "endlinecolor": "#2a3f5f",
             "gridcolor": "white",
             "linecolor": "white",
             "minorgridcolor": "white",
             "startlinecolor": "#2a3f5f"
            },
            "type": "carpet"
           }
          ],
          "choropleth": [
           {
            "colorbar": {
             "outlinewidth": 0,
             "ticks": ""
            },
            "type": "choropleth"
           }
          ],
          "contour": [
           {
            "colorbar": {
             "outlinewidth": 0,
             "ticks": ""
            },
            "colorscale": [
             [
              0,
              "#0d0887"
             ],
             [
              0.1111111111111111,
              "#46039f"
             ],
             [
              0.2222222222222222,
              "#7201a8"
             ],
             [
              0.3333333333333333,
              "#9c179e"
             ],
             [
              0.4444444444444444,
              "#bd3786"
             ],
             [
              0.5555555555555556,
              "#d8576b"
             ],
             [
              0.6666666666666666,
              "#ed7953"
             ],
             [
              0.7777777777777778,
              "#fb9f3a"
             ],
             [
              0.8888888888888888,
              "#fdca26"
             ],
             [
              1,
              "#f0f921"
             ]
            ],
            "type": "contour"
           }
          ],
          "contourcarpet": [
           {
            "colorbar": {
             "outlinewidth": 0,
             "ticks": ""
            },
            "type": "contourcarpet"
           }
          ],
          "heatmap": [
           {
            "colorbar": {
             "outlinewidth": 0,
             "ticks": ""
            },
            "colorscale": [
             [
              0,
              "#0d0887"
             ],
             [
              0.1111111111111111,
              "#46039f"
             ],
             [
              0.2222222222222222,
              "#7201a8"
             ],
             [
              0.3333333333333333,
              "#9c179e"
             ],
             [
              0.4444444444444444,
              "#bd3786"
             ],
             [
              0.5555555555555556,
              "#d8576b"
             ],
             [
              0.6666666666666666,
              "#ed7953"
             ],
             [
              0.7777777777777778,
              "#fb9f3a"
             ],
             [
              0.8888888888888888,
              "#fdca26"
             ],
             [
              1,
              "#f0f921"
             ]
            ],
            "type": "heatmap"
           }
          ],
          "heatmapgl": [
           {
            "colorbar": {
             "outlinewidth": 0,
             "ticks": ""
            },
            "colorscale": [
             [
              0,
              "#0d0887"
             ],
             [
              0.1111111111111111,
              "#46039f"
             ],
             [
              0.2222222222222222,
              "#7201a8"
             ],
             [
              0.3333333333333333,
              "#9c179e"
             ],
             [
              0.4444444444444444,
              "#bd3786"
             ],
             [
              0.5555555555555556,
              "#d8576b"
             ],
             [
              0.6666666666666666,
              "#ed7953"
             ],
             [
              0.7777777777777778,
              "#fb9f3a"
             ],
             [
              0.8888888888888888,
              "#fdca26"
             ],
             [
              1,
              "#f0f921"
             ]
            ],
            "type": "heatmapgl"
           }
          ],
          "histogram": [
           {
            "marker": {
             "pattern": {
              "fillmode": "overlay",
              "size": 10,
              "solidity": 0.2
             }
            },
            "type": "histogram"
           }
          ],
          "histogram2d": [
           {
            "colorbar": {
             "outlinewidth": 0,
             "ticks": ""
            },
            "colorscale": [
             [
              0,
              "#0d0887"
             ],
             [
              0.1111111111111111,
              "#46039f"
             ],
             [
              0.2222222222222222,
              "#7201a8"
             ],
             [
              0.3333333333333333,
              "#9c179e"
             ],
             [
              0.4444444444444444,
              "#bd3786"
             ],
             [
              0.5555555555555556,
              "#d8576b"
             ],
             [
              0.6666666666666666,
              "#ed7953"
             ],
             [
              0.7777777777777778,
              "#fb9f3a"
             ],
             [
              0.8888888888888888,
              "#fdca26"
             ],
             [
              1,
              "#f0f921"
             ]
            ],
            "type": "histogram2d"
           }
          ],
          "histogram2dcontour": [
           {
            "colorbar": {
             "outlinewidth": 0,
             "ticks": ""
            },
            "colorscale": [
             [
              0,
              "#0d0887"
             ],
             [
              0.1111111111111111,
              "#46039f"
             ],
             [
              0.2222222222222222,
              "#7201a8"
             ],
             [
              0.3333333333333333,
              "#9c179e"
             ],
             [
              0.4444444444444444,
              "#bd3786"
             ],
             [
              0.5555555555555556,
              "#d8576b"
             ],
             [
              0.6666666666666666,
              "#ed7953"
             ],
             [
              0.7777777777777778,
              "#fb9f3a"
             ],
             [
              0.8888888888888888,
              "#fdca26"
             ],
             [
              1,
              "#f0f921"
             ]
            ],
            "type": "histogram2dcontour"
           }
          ],
          "mesh3d": [
           {
            "colorbar": {
             "outlinewidth": 0,
             "ticks": ""
            },
            "type": "mesh3d"
           }
          ],
          "parcoords": [
           {
            "line": {
             "colorbar": {
              "outlinewidth": 0,
              "ticks": ""
             }
            },
            "type": "parcoords"
           }
          ],
          "pie": [
           {
            "automargin": true,
            "type": "pie"
           }
          ],
          "scatter": [
           {
            "fillpattern": {
             "fillmode": "overlay",
             "size": 10,
             "solidity": 0.2
            },
            "type": "scatter"
           }
          ],
          "scatter3d": [
           {
            "line": {
             "colorbar": {
              "outlinewidth": 0,
              "ticks": ""
             }
            },
            "marker": {
             "colorbar": {
              "outlinewidth": 0,
              "ticks": ""
             }
            },
            "type": "scatter3d"
           }
          ],
          "scattercarpet": [
           {
            "marker": {
             "colorbar": {
              "outlinewidth": 0,
              "ticks": ""
             }
            },
            "type": "scattercarpet"
           }
          ],
          "scattergeo": [
           {
            "marker": {
             "colorbar": {
              "outlinewidth": 0,
              "ticks": ""
             }
            },
            "type": "scattergeo"
           }
          ],
          "scattergl": [
           {
            "marker": {
             "colorbar": {
              "outlinewidth": 0,
              "ticks": ""
             }
            },
            "type": "scattergl"
           }
          ],
          "scattermapbox": [
           {
            "marker": {
             "colorbar": {
              "outlinewidth": 0,
              "ticks": ""
             }
            },
            "type": "scattermapbox"
           }
          ],
          "scatterpolar": [
           {
            "marker": {
             "colorbar": {
              "outlinewidth": 0,
              "ticks": ""
             }
            },
            "type": "scatterpolar"
           }
          ],
          "scatterpolargl": [
           {
            "marker": {
             "colorbar": {
              "outlinewidth": 0,
              "ticks": ""
             }
            },
            "type": "scatterpolargl"
           }
          ],
          "scatterternary": [
           {
            "marker": {
             "colorbar": {
              "outlinewidth": 0,
              "ticks": ""
             }
            },
            "type": "scatterternary"
           }
          ],
          "surface": [
           {
            "colorbar": {
             "outlinewidth": 0,
             "ticks": ""
            },
            "colorscale": [
             [
              0,
              "#0d0887"
             ],
             [
              0.1111111111111111,
              "#46039f"
             ],
             [
              0.2222222222222222,
              "#7201a8"
             ],
             [
              0.3333333333333333,
              "#9c179e"
             ],
             [
              0.4444444444444444,
              "#bd3786"
             ],
             [
              0.5555555555555556,
              "#d8576b"
             ],
             [
              0.6666666666666666,
              "#ed7953"
             ],
             [
              0.7777777777777778,
              "#fb9f3a"
             ],
             [
              0.8888888888888888,
              "#fdca26"
             ],
             [
              1,
              "#f0f921"
             ]
            ],
            "type": "surface"
           }
          ],
          "table": [
           {
            "cells": {
             "fill": {
              "color": "#EBF0F8"
             },
             "line": {
              "color": "white"
             }
            },
            "header": {
             "fill": {
              "color": "#C8D4E3"
             },
             "line": {
              "color": "white"
             }
            },
            "type": "table"
           }
          ]
         },
         "layout": {
          "annotationdefaults": {
           "arrowcolor": "#2a3f5f",
           "arrowhead": 0,
           "arrowwidth": 1
          },
          "autotypenumbers": "strict",
          "coloraxis": {
           "colorbar": {
            "outlinewidth": 0,
            "ticks": ""
           }
          },
          "colorscale": {
           "diverging": [
            [
             0,
             "#8e0152"
            ],
            [
             0.1,
             "#c51b7d"
            ],
            [
             0.2,
             "#de77ae"
            ],
            [
             0.3,
             "#f1b6da"
            ],
            [
             0.4,
             "#fde0ef"
            ],
            [
             0.5,
             "#f7f7f7"
            ],
            [
             0.6,
             "#e6f5d0"
            ],
            [
             0.7,
             "#b8e186"
            ],
            [
             0.8,
             "#7fbc41"
            ],
            [
             0.9,
             "#4d9221"
            ],
            [
             1,
             "#276419"
            ]
           ],
           "sequential": [
            [
             0,
             "#0d0887"
            ],
            [
             0.1111111111111111,
             "#46039f"
            ],
            [
             0.2222222222222222,
             "#7201a8"
            ],
            [
             0.3333333333333333,
             "#9c179e"
            ],
            [
             0.4444444444444444,
             "#bd3786"
            ],
            [
             0.5555555555555556,
             "#d8576b"
            ],
            [
             0.6666666666666666,
             "#ed7953"
            ],
            [
             0.7777777777777778,
             "#fb9f3a"
            ],
            [
             0.8888888888888888,
             "#fdca26"
            ],
            [
             1,
             "#f0f921"
            ]
           ],
           "sequentialminus": [
            [
             0,
             "#0d0887"
            ],
            [
             0.1111111111111111,
             "#46039f"
            ],
            [
             0.2222222222222222,
             "#7201a8"
            ],
            [
             0.3333333333333333,
             "#9c179e"
            ],
            [
             0.4444444444444444,
             "#bd3786"
            ],
            [
             0.5555555555555556,
             "#d8576b"
            ],
            [
             0.6666666666666666,
             "#ed7953"
            ],
            [
             0.7777777777777778,
             "#fb9f3a"
            ],
            [
             0.8888888888888888,
             "#fdca26"
            ],
            [
             1,
             "#f0f921"
            ]
           ]
          },
          "colorway": [
           "#636efa",
           "#EF553B",
           "#00cc96",
           "#ab63fa",
           "#FFA15A",
           "#19d3f3",
           "#FF6692",
           "#B6E880",
           "#FF97FF",
           "#FECB52"
          ],
          "font": {
           "color": "#2a3f5f"
          },
          "geo": {
           "bgcolor": "white",
           "lakecolor": "white",
           "landcolor": "#E5ECF6",
           "showlakes": true,
           "showland": true,
           "subunitcolor": "white"
          },
          "hoverlabel": {
           "align": "left"
          },
          "hovermode": "closest",
          "mapbox": {
           "style": "light"
          },
          "paper_bgcolor": "white",
          "plot_bgcolor": "#E5ECF6",
          "polar": {
           "angularaxis": {
            "gridcolor": "white",
            "linecolor": "white",
            "ticks": ""
           },
           "bgcolor": "#E5ECF6",
           "radialaxis": {
            "gridcolor": "white",
            "linecolor": "white",
            "ticks": ""
           }
          },
          "scene": {
           "xaxis": {
            "backgroundcolor": "#E5ECF6",
            "gridcolor": "white",
            "gridwidth": 2,
            "linecolor": "white",
            "showbackground": true,
            "ticks": "",
            "zerolinecolor": "white"
           },
           "yaxis": {
            "backgroundcolor": "#E5ECF6",
            "gridcolor": "white",
            "gridwidth": 2,
            "linecolor": "white",
            "showbackground": true,
            "ticks": "",
            "zerolinecolor": "white"
           },
           "zaxis": {
            "backgroundcolor": "#E5ECF6",
            "gridcolor": "white",
            "gridwidth": 2,
            "linecolor": "white",
            "showbackground": true,
            "ticks": "",
            "zerolinecolor": "white"
           }
          },
          "shapedefaults": {
           "line": {
            "color": "#2a3f5f"
           }
          },
          "ternary": {
           "aaxis": {
            "gridcolor": "white",
            "linecolor": "white",
            "ticks": ""
           },
           "baxis": {
            "gridcolor": "white",
            "linecolor": "white",
            "ticks": ""
           },
           "bgcolor": "#E5ECF6",
           "caxis": {
            "gridcolor": "white",
            "linecolor": "white",
            "ticks": ""
           }
          },
          "title": {
           "x": 0.05
          },
          "xaxis": {
           "automargin": true,
           "gridcolor": "white",
           "linecolor": "white",
           "ticks": "",
           "title": {
            "standoff": 15
           },
           "zerolinecolor": "white",
           "zerolinewidth": 2
          },
          "yaxis": {
           "automargin": true,
           "gridcolor": "white",
           "linecolor": "white",
           "ticks": "",
           "title": {
            "standoff": 15
           },
           "zerolinecolor": "white",
           "zerolinewidth": 2
          }
         }
        },
        "title": {
         "text": "[ 장소별 발생한 폭력범 건수 ]"
        },
        "xaxis": {
         "anchor": "y",
         "domain": [
          0,
          1
         ],
         "title": {
          "text": "년도"
         }
        },
        "yaxis": {
         "anchor": "x",
         "domain": [
          0,
          1
         ],
         "title": {
          "text": "발생건수"
         }
        }
       }
      }
     },
     "metadata": {},
     "output_type": "display_data"
    }
   ],
   "source": [
    "df_melted = place_df_total.melt(id_vars=[\"중\", \"소\", \"발생장소\"], var_name=\"년도\", value_name=\"발생건수\")\n",
    "\n",
    "fig = px.line(df_melted, x=\"년도\", y=\"발생건수\", color=\"발생장소\", title=\"[ 장소별 발생한 폭력범 건수 ]\", markers=True)\n",
    "fig.show()"
   ]
  },
  {
   "cell_type": "markdown",
   "metadata": {},
   "source": [
    "##### [ 요일 ]"
   ]
  },
  {
   "cell_type": "code",
   "execution_count": 14,
   "metadata": {},
   "outputs": [
    {
     "data": {
      "text/html": [
       "<div>\n",
       "<style scoped>\n",
       "    .dataframe tbody tr th:only-of-type {\n",
       "        vertical-align: middle;\n",
       "    }\n",
       "\n",
       "    .dataframe tbody tr th {\n",
       "        vertical-align: top;\n",
       "    }\n",
       "\n",
       "    .dataframe thead th {\n",
       "        text-align: right;\n",
       "    }\n",
       "</style>\n",
       "<table border=\"1\" class=\"dataframe\">\n",
       "  <thead>\n",
       "    <tr style=\"text-align: right;\">\n",
       "      <th></th>\n",
       "      <th>대</th>\n",
       "      <th>중</th>\n",
       "      <th>소</th>\n",
       "      <th>요일별</th>\n",
       "      <th>1994년</th>\n",
       "      <th>1995년</th>\n",
       "      <th>1996년</th>\n",
       "      <th>1997년</th>\n",
       "      <th>1998년</th>\n",
       "      <th>1999년</th>\n",
       "      <th>...</th>\n",
       "      <th>2001년</th>\n",
       "      <th>2002년</th>\n",
       "      <th>2003년</th>\n",
       "      <th>2004년</th>\n",
       "      <th>2005년</th>\n",
       "      <th>2006년</th>\n",
       "      <th>2007년</th>\n",
       "      <th>2008년</th>\n",
       "      <th>2009년</th>\n",
       "      <th>2010년</th>\n",
       "    </tr>\n",
       "  </thead>\n",
       "  <tbody>\n",
       "    <tr>\n",
       "      <th>0</th>\n",
       "      <td>총범죄</td>\n",
       "      <td>소계</td>\n",
       "      <td>소계</td>\n",
       "      <td>금요일</td>\n",
       "      <td>155783</td>\n",
       "      <td>186346</td>\n",
       "      <td>186702</td>\n",
       "      <td>195362</td>\n",
       "      <td>223257</td>\n",
       "      <td>199731</td>\n",
       "      <td>...</td>\n",
       "      <td>220963</td>\n",
       "      <td>213900</td>\n",
       "      <td>205870</td>\n",
       "      <td>292731</td>\n",
       "      <td>263790</td>\n",
       "      <td>260812</td>\n",
       "      <td>278751</td>\n",
       "      <td>311326</td>\n",
       "      <td>308390</td>\n",
       "      <td>271056</td>\n",
       "    </tr>\n",
       "    <tr>\n",
       "      <th>1</th>\n",
       "      <td>총범죄</td>\n",
       "      <td>소계</td>\n",
       "      <td>소계</td>\n",
       "      <td>목요일</td>\n",
       "      <td>150113</td>\n",
       "      <td>172499</td>\n",
       "      <td>173836</td>\n",
       "      <td>194756</td>\n",
       "      <td>209550</td>\n",
       "      <td>195040</td>\n",
       "      <td>...</td>\n",
       "      <td>208664</td>\n",
       "      <td>198683</td>\n",
       "      <td>188425</td>\n",
       "      <td>289785</td>\n",
       "      <td>256386</td>\n",
       "      <td>258618</td>\n",
       "      <td>275767</td>\n",
       "      <td>309426</td>\n",
       "      <td>304192</td>\n",
       "      <td>269117</td>\n",
       "    </tr>\n",
       "    <tr>\n",
       "      <th>2</th>\n",
       "      <td>총범죄</td>\n",
       "      <td>소계</td>\n",
       "      <td>소계</td>\n",
       "      <td>미상</td>\n",
       "      <td>236241</td>\n",
       "      <td>40965</td>\n",
       "      <td>23124</td>\n",
       "      <td>43892</td>\n",
       "      <td>43303</td>\n",
       "      <td>51797</td>\n",
       "      <td>...</td>\n",
       "      <td>146888</td>\n",
       "      <td>187334</td>\n",
       "      <td>277639</td>\n",
       "      <td>0</td>\n",
       "      <td>0</td>\n",
       "      <td>0</td>\n",
       "      <td>0</td>\n",
       "      <td>0</td>\n",
       "      <td>0</td>\n",
       "      <td>0</td>\n",
       "    </tr>\n",
       "    <tr>\n",
       "      <th>3</th>\n",
       "      <td>총범죄</td>\n",
       "      <td>소계</td>\n",
       "      <td>소계</td>\n",
       "      <td>수요일</td>\n",
       "      <td>184010</td>\n",
       "      <td>239726</td>\n",
       "      <td>311642</td>\n",
       "      <td>339724</td>\n",
       "      <td>385102</td>\n",
       "      <td>389466</td>\n",
       "      <td>...</td>\n",
       "      <td>412886</td>\n",
       "      <td>406079</td>\n",
       "      <td>389249</td>\n",
       "      <td>289198</td>\n",
       "      <td>251979</td>\n",
       "      <td>256370</td>\n",
       "      <td>272834</td>\n",
       "      <td>301095</td>\n",
       "      <td>303618</td>\n",
       "      <td>260217</td>\n",
       "    </tr>\n",
       "    <tr>\n",
       "      <th>4</th>\n",
       "      <td>총범죄</td>\n",
       "      <td>소계</td>\n",
       "      <td>소계</td>\n",
       "      <td>월요일</td>\n",
       "      <td>163222</td>\n",
       "      <td>204418</td>\n",
       "      <td>233873</td>\n",
       "      <td>252088</td>\n",
       "      <td>285255</td>\n",
       "      <td>260266</td>\n",
       "      <td>...</td>\n",
       "      <td>271643</td>\n",
       "      <td>266589</td>\n",
       "      <td>274494</td>\n",
       "      <td>283695</td>\n",
       "      <td>250836</td>\n",
       "      <td>245820</td>\n",
       "      <td>260188</td>\n",
       "      <td>294789</td>\n",
       "      <td>294054</td>\n",
       "      <td>260612</td>\n",
       "    </tr>\n",
       "    <tr>\n",
       "      <th>...</th>\n",
       "      <td>...</td>\n",
       "      <td>...</td>\n",
       "      <td>...</td>\n",
       "      <td>...</td>\n",
       "      <td>...</td>\n",
       "      <td>...</td>\n",
       "      <td>...</td>\n",
       "      <td>...</td>\n",
       "      <td>...</td>\n",
       "      <td>...</td>\n",
       "      <td>...</td>\n",
       "      <td>...</td>\n",
       "      <td>...</td>\n",
       "      <td>...</td>\n",
       "      <td>...</td>\n",
       "      <td>...</td>\n",
       "      <td>...</td>\n",
       "      <td>...</td>\n",
       "      <td>...</td>\n",
       "      <td>...</td>\n",
       "      <td>...</td>\n",
       "    </tr>\n",
       "    <tr>\n",
       "      <th>2045</th>\n",
       "      <td>형법범</td>\n",
       "      <td>풍속범</td>\n",
       "      <td>소계</td>\n",
       "      <td>수요일</td>\n",
       "      <td>2245</td>\n",
       "      <td>2969</td>\n",
       "      <td>3179</td>\n",
       "      <td>3348</td>\n",
       "      <td>3534</td>\n",
       "      <td>4324</td>\n",
       "      <td>...</td>\n",
       "      <td>4147</td>\n",
       "      <td>3815</td>\n",
       "      <td>2932</td>\n",
       "      <td>2070</td>\n",
       "      <td>1541</td>\n",
       "      <td>2897</td>\n",
       "      <td>1944</td>\n",
       "      <td>1943</td>\n",
       "      <td>5088</td>\n",
       "      <td>2468</td>\n",
       "    </tr>\n",
       "    <tr>\n",
       "      <th>2046</th>\n",
       "      <td>형법범</td>\n",
       "      <td>풍속범</td>\n",
       "      <td>소계</td>\n",
       "      <td>월요일</td>\n",
       "      <td>1991</td>\n",
       "      <td>2442</td>\n",
       "      <td>2756</td>\n",
       "      <td>2556</td>\n",
       "      <td>2646</td>\n",
       "      <td>2793</td>\n",
       "      <td>...</td>\n",
       "      <td>2688</td>\n",
       "      <td>2534</td>\n",
       "      <td>2074</td>\n",
       "      <td>1934</td>\n",
       "      <td>1621</td>\n",
       "      <td>2826</td>\n",
       "      <td>1884</td>\n",
       "      <td>2007</td>\n",
       "      <td>5427</td>\n",
       "      <td>2280</td>\n",
       "    </tr>\n",
       "    <tr>\n",
       "      <th>2047</th>\n",
       "      <td>형법범</td>\n",
       "      <td>풍속범</td>\n",
       "      <td>소계</td>\n",
       "      <td>일요일</td>\n",
       "      <td>1449</td>\n",
       "      <td>1578</td>\n",
       "      <td>1418</td>\n",
       "      <td>1213</td>\n",
       "      <td>1390</td>\n",
       "      <td>1502</td>\n",
       "      <td>...</td>\n",
       "      <td>1640</td>\n",
       "      <td>1380</td>\n",
       "      <td>1056</td>\n",
       "      <td>1769</td>\n",
       "      <td>1472</td>\n",
       "      <td>2016</td>\n",
       "      <td>1791</td>\n",
       "      <td>1820</td>\n",
       "      <td>4179</td>\n",
       "      <td>1858</td>\n",
       "    </tr>\n",
       "    <tr>\n",
       "      <th>2048</th>\n",
       "      <td>형법범</td>\n",
       "      <td>풍속범</td>\n",
       "      <td>소계</td>\n",
       "      <td>토요일</td>\n",
       "      <td>1748</td>\n",
       "      <td>1977</td>\n",
       "      <td>1676</td>\n",
       "      <td>1515</td>\n",
       "      <td>1759</td>\n",
       "      <td>2044</td>\n",
       "      <td>...</td>\n",
       "      <td>1932</td>\n",
       "      <td>1591</td>\n",
       "      <td>1201</td>\n",
       "      <td>2272</td>\n",
       "      <td>1779</td>\n",
       "      <td>2572</td>\n",
       "      <td>2010</td>\n",
       "      <td>2226</td>\n",
       "      <td>4306</td>\n",
       "      <td>2138</td>\n",
       "    </tr>\n",
       "    <tr>\n",
       "      <th>2049</th>\n",
       "      <td>형법범</td>\n",
       "      <td>풍속범</td>\n",
       "      <td>소계</td>\n",
       "      <td>화요일</td>\n",
       "      <td>2014</td>\n",
       "      <td>2264</td>\n",
       "      <td>2052</td>\n",
       "      <td>2155</td>\n",
       "      <td>2023</td>\n",
       "      <td>2294</td>\n",
       "      <td>...</td>\n",
       "      <td>2421</td>\n",
       "      <td>2107</td>\n",
       "      <td>1723</td>\n",
       "      <td>1948</td>\n",
       "      <td>1665</td>\n",
       "      <td>2898</td>\n",
       "      <td>1936</td>\n",
       "      <td>2093</td>\n",
       "      <td>5197</td>\n",
       "      <td>2227</td>\n",
       "    </tr>\n",
       "  </tbody>\n",
       "</table>\n",
       "<p>2050 rows × 21 columns</p>\n",
       "</div>"
      ],
      "text/plain": [
       "        대    중   소  요일별   1994년   1995년   1996년   1997년   1998년   1999년  ...  \\\n",
       "0     총범죄   소계  소계  금요일  155783  186346  186702  195362  223257  199731  ...   \n",
       "1     총범죄   소계  소계  목요일  150113  172499  173836  194756  209550  195040  ...   \n",
       "2     총범죄   소계  소계   미상  236241   40965   23124   43892   43303   51797  ...   \n",
       "3     총범죄   소계  소계  수요일  184010  239726  311642  339724  385102  389466  ...   \n",
       "4     총범죄   소계  소계  월요일  163222  204418  233873  252088  285255  260266  ...   \n",
       "...   ...  ...  ..  ...     ...     ...     ...     ...     ...     ...  ...   \n",
       "2045  형법범  풍속범  소계  수요일    2245    2969    3179    3348    3534    4324  ...   \n",
       "2046  형법범  풍속범  소계  월요일    1991    2442    2756    2556    2646    2793  ...   \n",
       "2047  형법범  풍속범  소계  일요일    1449    1578    1418    1213    1390    1502  ...   \n",
       "2048  형법범  풍속범  소계  토요일    1748    1977    1676    1515    1759    2044  ...   \n",
       "2049  형법범  풍속범  소계  화요일    2014    2264    2052    2155    2023    2294  ...   \n",
       "\n",
       "       2001년   2002년   2003년   2004년   2005년   2006년   2007년   2008년   2009년  \\\n",
       "0     220963  213900  205870  292731  263790  260812  278751  311326  308390   \n",
       "1     208664  198683  188425  289785  256386  258618  275767  309426  304192   \n",
       "2     146888  187334  277639       0       0       0       0       0       0   \n",
       "3     412886  406079  389249  289198  251979  256370  272834  301095  303618   \n",
       "4     271643  266589  274494  283695  250836  245820  260188  294789  294054   \n",
       "...      ...     ...     ...     ...     ...     ...     ...     ...     ...   \n",
       "2045    4147    3815    2932    2070    1541    2897    1944    1943    5088   \n",
       "2046    2688    2534    2074    1934    1621    2826    1884    2007    5427   \n",
       "2047    1640    1380    1056    1769    1472    2016    1791    1820    4179   \n",
       "2048    1932    1591    1201    2272    1779    2572    2010    2226    4306   \n",
       "2049    2421    2107    1723    1948    1665    2898    1936    2093    5197   \n",
       "\n",
       "       2010년  \n",
       "0     271056  \n",
       "1     269117  \n",
       "2          0  \n",
       "3     260217  \n",
       "4     260612  \n",
       "...      ...  \n",
       "2045    2468  \n",
       "2046    2280  \n",
       "2047    1858  \n",
       "2048    2138  \n",
       "2049    2227  \n",
       "\n",
       "[2050 rows x 21 columns]"
      ]
     },
     "execution_count": 14,
     "metadata": {},
     "output_type": "execute_result"
    }
   ],
   "source": [
    "cursor.execute(\"select * from crime_dotweek_before\")\n",
    "\n",
    "dotweek = cursor.fetchall()\n",
    "dotweek_df_start = pd.DataFrame(dotweek)\n",
    "dotweek_df_start"
   ]
  },
  {
   "cell_type": "code",
   "execution_count": 15,
   "metadata": {},
   "outputs": [
    {
     "data": {
      "text/html": [
       "<div>\n",
       "<style scoped>\n",
       "    .dataframe tbody tr th:only-of-type {\n",
       "        vertical-align: middle;\n",
       "    }\n",
       "\n",
       "    .dataframe tbody tr th {\n",
       "        vertical-align: top;\n",
       "    }\n",
       "\n",
       "    .dataframe thead th {\n",
       "        text-align: right;\n",
       "    }\n",
       "</style>\n",
       "<table border=\"1\" class=\"dataframe\">\n",
       "  <thead>\n",
       "    <tr style=\"text-align: right;\">\n",
       "      <th></th>\n",
       "      <th>대</th>\n",
       "      <th>중</th>\n",
       "      <th>소</th>\n",
       "      <th>요일별</th>\n",
       "      <th>1994년</th>\n",
       "      <th>1995년</th>\n",
       "      <th>1996년</th>\n",
       "      <th>1997년</th>\n",
       "      <th>1998년</th>\n",
       "      <th>1999년</th>\n",
       "      <th>...</th>\n",
       "      <th>2001년</th>\n",
       "      <th>2002년</th>\n",
       "      <th>2003년</th>\n",
       "      <th>2004년</th>\n",
       "      <th>2005년</th>\n",
       "      <th>2006년</th>\n",
       "      <th>2007년</th>\n",
       "      <th>2008년</th>\n",
       "      <th>2009년</th>\n",
       "      <th>2010년</th>\n",
       "    </tr>\n",
       "  </thead>\n",
       "  <tbody>\n",
       "    <tr>\n",
       "      <th>0</th>\n",
       "      <td>형법범</td>\n",
       "      <td>폭력범</td>\n",
       "      <td>소계</td>\n",
       "      <td>금요일</td>\n",
       "      <td>21997</td>\n",
       "      <td>24172</td>\n",
       "      <td>24084</td>\n",
       "      <td>23920</td>\n",
       "      <td>28485</td>\n",
       "      <td>32654</td>\n",
       "      <td>...</td>\n",
       "      <td>38669</td>\n",
       "      <td>32387</td>\n",
       "      <td>31914</td>\n",
       "      <td>40394</td>\n",
       "      <td>41492</td>\n",
       "      <td>40760</td>\n",
       "      <td>42445</td>\n",
       "      <td>44153</td>\n",
       "      <td>45605</td>\n",
       "      <td>42130</td>\n",
       "    </tr>\n",
       "    <tr>\n",
       "      <th>1</th>\n",
       "      <td>형법범</td>\n",
       "      <td>폭력범</td>\n",
       "      <td>소계</td>\n",
       "      <td>목요일</td>\n",
       "      <td>21875</td>\n",
       "      <td>23551</td>\n",
       "      <td>23365</td>\n",
       "      <td>24528</td>\n",
       "      <td>27402</td>\n",
       "      <td>32871</td>\n",
       "      <td>...</td>\n",
       "      <td>37368</td>\n",
       "      <td>30143</td>\n",
       "      <td>28668</td>\n",
       "      <td>40253</td>\n",
       "      <td>39802</td>\n",
       "      <td>39331</td>\n",
       "      <td>40749</td>\n",
       "      <td>42499</td>\n",
       "      <td>44360</td>\n",
       "      <td>40278</td>\n",
       "    </tr>\n",
       "    <tr>\n",
       "      <th>2</th>\n",
       "      <td>형법범</td>\n",
       "      <td>폭력범</td>\n",
       "      <td>소계</td>\n",
       "      <td>미상</td>\n",
       "      <td>31908</td>\n",
       "      <td>5616</td>\n",
       "      <td>2390</td>\n",
       "      <td>4591</td>\n",
       "      <td>4370</td>\n",
       "      <td>6518</td>\n",
       "      <td>...</td>\n",
       "      <td>25371</td>\n",
       "      <td>26957</td>\n",
       "      <td>40838</td>\n",
       "      <td>0</td>\n",
       "      <td>0</td>\n",
       "      <td>0</td>\n",
       "      <td>0</td>\n",
       "      <td>0</td>\n",
       "      <td>0</td>\n",
       "      <td>0</td>\n",
       "    </tr>\n",
       "    <tr>\n",
       "      <th>3</th>\n",
       "      <td>형법범</td>\n",
       "      <td>폭력범</td>\n",
       "      <td>소계</td>\n",
       "      <td>수요일</td>\n",
       "      <td>25594</td>\n",
       "      <td>31030</td>\n",
       "      <td>39849</td>\n",
       "      <td>42332</td>\n",
       "      <td>49531</td>\n",
       "      <td>66202</td>\n",
       "      <td>...</td>\n",
       "      <td>70270</td>\n",
       "      <td>59010</td>\n",
       "      <td>55495</td>\n",
       "      <td>40414</td>\n",
       "      <td>39444</td>\n",
       "      <td>39413</td>\n",
       "      <td>40851</td>\n",
       "      <td>41968</td>\n",
       "      <td>43405</td>\n",
       "      <td>39716</td>\n",
       "    </tr>\n",
       "    <tr>\n",
       "      <th>4</th>\n",
       "      <td>형법범</td>\n",
       "      <td>폭력범</td>\n",
       "      <td>소계</td>\n",
       "      <td>월요일</td>\n",
       "      <td>23391</td>\n",
       "      <td>27908</td>\n",
       "      <td>31439</td>\n",
       "      <td>31902</td>\n",
       "      <td>35744</td>\n",
       "      <td>41451</td>\n",
       "      <td>...</td>\n",
       "      <td>45608</td>\n",
       "      <td>38852</td>\n",
       "      <td>41583</td>\n",
       "      <td>37399</td>\n",
       "      <td>37051</td>\n",
       "      <td>36064</td>\n",
       "      <td>38280</td>\n",
       "      <td>38527</td>\n",
       "      <td>40640</td>\n",
       "      <td>38095</td>\n",
       "    </tr>\n",
       "    <tr>\n",
       "      <th>5</th>\n",
       "      <td>형법범</td>\n",
       "      <td>폭력범</td>\n",
       "      <td>소계</td>\n",
       "      <td>일요일</td>\n",
       "      <td>21389</td>\n",
       "      <td>22632</td>\n",
       "      <td>22405</td>\n",
       "      <td>21320</td>\n",
       "      <td>25004</td>\n",
       "      <td>31500</td>\n",
       "      <td>...</td>\n",
       "      <td>38705</td>\n",
       "      <td>30773</td>\n",
       "      <td>30031</td>\n",
       "      <td>43433</td>\n",
       "      <td>42689</td>\n",
       "      <td>42502</td>\n",
       "      <td>44758</td>\n",
       "      <td>46150</td>\n",
       "      <td>47224</td>\n",
       "      <td>44946</td>\n",
       "    </tr>\n",
       "    <tr>\n",
       "      <th>6</th>\n",
       "      <td>형법범</td>\n",
       "      <td>폭력범</td>\n",
       "      <td>소계</td>\n",
       "      <td>토요일</td>\n",
       "      <td>23174</td>\n",
       "      <td>24883</td>\n",
       "      <td>24266</td>\n",
       "      <td>23323</td>\n",
       "      <td>26186</td>\n",
       "      <td>34459</td>\n",
       "      <td>...</td>\n",
       "      <td>37752</td>\n",
       "      <td>29703</td>\n",
       "      <td>28675</td>\n",
       "      <td>43592</td>\n",
       "      <td>44294</td>\n",
       "      <td>44135</td>\n",
       "      <td>46530</td>\n",
       "      <td>48834</td>\n",
       "      <td>50057</td>\n",
       "      <td>46726</td>\n",
       "    </tr>\n",
       "    <tr>\n",
       "      <th>7</th>\n",
       "      <td>형법범</td>\n",
       "      <td>폭력범</td>\n",
       "      <td>소계</td>\n",
       "      <td>화요일</td>\n",
       "      <td>23719</td>\n",
       "      <td>26698</td>\n",
       "      <td>27093</td>\n",
       "      <td>28759</td>\n",
       "      <td>29687</td>\n",
       "      <td>36619</td>\n",
       "      <td>...</td>\n",
       "      <td>44302</td>\n",
       "      <td>36105</td>\n",
       "      <td>37689</td>\n",
       "      <td>40979</td>\n",
       "      <td>40591</td>\n",
       "      <td>39764</td>\n",
       "      <td>41543</td>\n",
       "      <td>43377</td>\n",
       "      <td>44456</td>\n",
       "      <td>40456</td>\n",
       "    </tr>\n",
       "  </tbody>\n",
       "</table>\n",
       "<p>8 rows × 21 columns</p>\n",
       "</div>"
      ],
      "text/plain": [
       "     대    중   소  요일별  1994년  1995년  1996년  1997년  1998년  1999년  ...  2001년  \\\n",
       "0  형법범  폭력범  소계  금요일  21997  24172  24084  23920  28485  32654  ...  38669   \n",
       "1  형법범  폭력범  소계  목요일  21875  23551  23365  24528  27402  32871  ...  37368   \n",
       "2  형법범  폭력범  소계   미상  31908   5616   2390   4591   4370   6518  ...  25371   \n",
       "3  형법범  폭력범  소계  수요일  25594  31030  39849  42332  49531  66202  ...  70270   \n",
       "4  형법범  폭력범  소계  월요일  23391  27908  31439  31902  35744  41451  ...  45608   \n",
       "5  형법범  폭력범  소계  일요일  21389  22632  22405  21320  25004  31500  ...  38705   \n",
       "6  형법범  폭력범  소계  토요일  23174  24883  24266  23323  26186  34459  ...  37752   \n",
       "7  형법범  폭력범  소계  화요일  23719  26698  27093  28759  29687  36619  ...  44302   \n",
       "\n",
       "   2002년  2003년  2004년  2005년  2006년  2007년  2008년  2009년  2010년  \n",
       "0  32387  31914  40394  41492  40760  42445  44153  45605  42130  \n",
       "1  30143  28668  40253  39802  39331  40749  42499  44360  40278  \n",
       "2  26957  40838      0      0      0      0      0      0      0  \n",
       "3  59010  55495  40414  39444  39413  40851  41968  43405  39716  \n",
       "4  38852  41583  37399  37051  36064  38280  38527  40640  38095  \n",
       "5  30773  30031  43433  42689  42502  44758  46150  47224  44946  \n",
       "6  29703  28675  43592  44294  44135  46530  48834  50057  46726  \n",
       "7  36105  37689  40979  40591  39764  41543  43377  44456  40456  \n",
       "\n",
       "[8 rows x 21 columns]"
      ]
     },
     "execution_count": 15,
     "metadata": {},
     "output_type": "execute_result"
    }
   ],
   "source": [
    "dotweek_df = dotweek_df_start[dotweek_df_start[\"중\"] == \"폭력범\"]\n",
    "dotweek_df.reset_index(inplace=True, drop=True)\n",
    "dotweek_df"
   ]
  },
  {
   "cell_type": "code",
   "execution_count": 16,
   "metadata": {},
   "outputs": [
    {
     "data": {
      "text/html": [
       "<div>\n",
       "<style scoped>\n",
       "    .dataframe tbody tr th:only-of-type {\n",
       "        vertical-align: middle;\n",
       "    }\n",
       "\n",
       "    .dataframe tbody tr th {\n",
       "        vertical-align: top;\n",
       "    }\n",
       "\n",
       "    .dataframe thead th {\n",
       "        text-align: right;\n",
       "    }\n",
       "</style>\n",
       "<table border=\"1\" class=\"dataframe\">\n",
       "  <thead>\n",
       "    <tr style=\"text-align: right;\">\n",
       "      <th></th>\n",
       "      <th>중</th>\n",
       "      <th>소</th>\n",
       "      <th>요일별</th>\n",
       "      <th>1994년</th>\n",
       "      <th>1995년</th>\n",
       "      <th>1996년</th>\n",
       "      <th>1997년</th>\n",
       "      <th>1998년</th>\n",
       "      <th>1999년</th>\n",
       "      <th>2000년</th>\n",
       "      <th>2001년</th>\n",
       "      <th>2002년</th>\n",
       "      <th>2003년</th>\n",
       "      <th>2004년</th>\n",
       "      <th>2005년</th>\n",
       "      <th>2006년</th>\n",
       "      <th>2007년</th>\n",
       "      <th>2008년</th>\n",
       "      <th>2009년</th>\n",
       "      <th>2010년</th>\n",
       "    </tr>\n",
       "  </thead>\n",
       "  <tbody>\n",
       "    <tr>\n",
       "      <th>0</th>\n",
       "      <td>폭력범</td>\n",
       "      <td>소계</td>\n",
       "      <td>월요일</td>\n",
       "      <td>23391</td>\n",
       "      <td>27908</td>\n",
       "      <td>31439</td>\n",
       "      <td>31902</td>\n",
       "      <td>35744</td>\n",
       "      <td>41451</td>\n",
       "      <td>48116</td>\n",
       "      <td>45608</td>\n",
       "      <td>38852</td>\n",
       "      <td>41583</td>\n",
       "      <td>37399</td>\n",
       "      <td>37051</td>\n",
       "      <td>36064</td>\n",
       "      <td>38280</td>\n",
       "      <td>38527</td>\n",
       "      <td>40640</td>\n",
       "      <td>38095</td>\n",
       "    </tr>\n",
       "    <tr>\n",
       "      <th>1</th>\n",
       "      <td>폭력범</td>\n",
       "      <td>소계</td>\n",
       "      <td>화요일</td>\n",
       "      <td>23719</td>\n",
       "      <td>26698</td>\n",
       "      <td>27093</td>\n",
       "      <td>28759</td>\n",
       "      <td>29687</td>\n",
       "      <td>36619</td>\n",
       "      <td>43670</td>\n",
       "      <td>44302</td>\n",
       "      <td>36105</td>\n",
       "      <td>37689</td>\n",
       "      <td>40979</td>\n",
       "      <td>40591</td>\n",
       "      <td>39764</td>\n",
       "      <td>41543</td>\n",
       "      <td>43377</td>\n",
       "      <td>44456</td>\n",
       "      <td>40456</td>\n",
       "    </tr>\n",
       "    <tr>\n",
       "      <th>2</th>\n",
       "      <td>폭력범</td>\n",
       "      <td>소계</td>\n",
       "      <td>수요일</td>\n",
       "      <td>25594</td>\n",
       "      <td>31030</td>\n",
       "      <td>39849</td>\n",
       "      <td>42332</td>\n",
       "      <td>49531</td>\n",
       "      <td>66202</td>\n",
       "      <td>70652</td>\n",
       "      <td>70270</td>\n",
       "      <td>59010</td>\n",
       "      <td>55495</td>\n",
       "      <td>40414</td>\n",
       "      <td>39444</td>\n",
       "      <td>39413</td>\n",
       "      <td>40851</td>\n",
       "      <td>41968</td>\n",
       "      <td>43405</td>\n",
       "      <td>39716</td>\n",
       "    </tr>\n",
       "    <tr>\n",
       "      <th>3</th>\n",
       "      <td>폭력범</td>\n",
       "      <td>소계</td>\n",
       "      <td>목요일</td>\n",
       "      <td>21875</td>\n",
       "      <td>23551</td>\n",
       "      <td>23365</td>\n",
       "      <td>24528</td>\n",
       "      <td>27402</td>\n",
       "      <td>32871</td>\n",
       "      <td>40041</td>\n",
       "      <td>37368</td>\n",
       "      <td>30143</td>\n",
       "      <td>28668</td>\n",
       "      <td>40253</td>\n",
       "      <td>39802</td>\n",
       "      <td>39331</td>\n",
       "      <td>40749</td>\n",
       "      <td>42499</td>\n",
       "      <td>44360</td>\n",
       "      <td>40278</td>\n",
       "    </tr>\n",
       "    <tr>\n",
       "      <th>4</th>\n",
       "      <td>폭력범</td>\n",
       "      <td>소계</td>\n",
       "      <td>금요일</td>\n",
       "      <td>21997</td>\n",
       "      <td>24172</td>\n",
       "      <td>24084</td>\n",
       "      <td>23920</td>\n",
       "      <td>28485</td>\n",
       "      <td>32654</td>\n",
       "      <td>39975</td>\n",
       "      <td>38669</td>\n",
       "      <td>32387</td>\n",
       "      <td>31914</td>\n",
       "      <td>40394</td>\n",
       "      <td>41492</td>\n",
       "      <td>40760</td>\n",
       "      <td>42445</td>\n",
       "      <td>44153</td>\n",
       "      <td>45605</td>\n",
       "      <td>42130</td>\n",
       "    </tr>\n",
       "    <tr>\n",
       "      <th>5</th>\n",
       "      <td>폭력범</td>\n",
       "      <td>소계</td>\n",
       "      <td>토요일</td>\n",
       "      <td>23174</td>\n",
       "      <td>24883</td>\n",
       "      <td>24266</td>\n",
       "      <td>23323</td>\n",
       "      <td>26186</td>\n",
       "      <td>34459</td>\n",
       "      <td>39414</td>\n",
       "      <td>37752</td>\n",
       "      <td>29703</td>\n",
       "      <td>28675</td>\n",
       "      <td>43592</td>\n",
       "      <td>44294</td>\n",
       "      <td>44135</td>\n",
       "      <td>46530</td>\n",
       "      <td>48834</td>\n",
       "      <td>50057</td>\n",
       "      <td>46726</td>\n",
       "    </tr>\n",
       "    <tr>\n",
       "      <th>6</th>\n",
       "      <td>폭력범</td>\n",
       "      <td>소계</td>\n",
       "      <td>일요일</td>\n",
       "      <td>21389</td>\n",
       "      <td>22632</td>\n",
       "      <td>22405</td>\n",
       "      <td>21320</td>\n",
       "      <td>25004</td>\n",
       "      <td>31500</td>\n",
       "      <td>39316</td>\n",
       "      <td>38705</td>\n",
       "      <td>30773</td>\n",
       "      <td>30031</td>\n",
       "      <td>43433</td>\n",
       "      <td>42689</td>\n",
       "      <td>42502</td>\n",
       "      <td>44758</td>\n",
       "      <td>46150</td>\n",
       "      <td>47224</td>\n",
       "      <td>44946</td>\n",
       "    </tr>\n",
       "    <tr>\n",
       "      <th>7</th>\n",
       "      <td>폭력범</td>\n",
       "      <td>소계</td>\n",
       "      <td>미상</td>\n",
       "      <td>31908</td>\n",
       "      <td>5616</td>\n",
       "      <td>2390</td>\n",
       "      <td>4591</td>\n",
       "      <td>4370</td>\n",
       "      <td>6518</td>\n",
       "      <td>12446</td>\n",
       "      <td>25371</td>\n",
       "      <td>26957</td>\n",
       "      <td>40838</td>\n",
       "      <td>0</td>\n",
       "      <td>0</td>\n",
       "      <td>0</td>\n",
       "      <td>0</td>\n",
       "      <td>0</td>\n",
       "      <td>0</td>\n",
       "      <td>0</td>\n",
       "    </tr>\n",
       "  </tbody>\n",
       "</table>\n",
       "</div>"
      ],
      "text/plain": [
       "     중   소  요일별  1994년  1995년  1996년  1997년  1998년  1999년  2000년  2001년  \\\n",
       "0  폭력범  소계  월요일  23391  27908  31439  31902  35744  41451  48116  45608   \n",
       "1  폭력범  소계  화요일  23719  26698  27093  28759  29687  36619  43670  44302   \n",
       "2  폭력범  소계  수요일  25594  31030  39849  42332  49531  66202  70652  70270   \n",
       "3  폭력범  소계  목요일  21875  23551  23365  24528  27402  32871  40041  37368   \n",
       "4  폭력범  소계  금요일  21997  24172  24084  23920  28485  32654  39975  38669   \n",
       "5  폭력범  소계  토요일  23174  24883  24266  23323  26186  34459  39414  37752   \n",
       "6  폭력범  소계  일요일  21389  22632  22405  21320  25004  31500  39316  38705   \n",
       "7  폭력범  소계   미상  31908   5616   2390   4591   4370   6518  12446  25371   \n",
       "\n",
       "   2002년  2003년  2004년  2005년  2006년  2007년  2008년  2009년  2010년  \n",
       "0  38852  41583  37399  37051  36064  38280  38527  40640  38095  \n",
       "1  36105  37689  40979  40591  39764  41543  43377  44456  40456  \n",
       "2  59010  55495  40414  39444  39413  40851  41968  43405  39716  \n",
       "3  30143  28668  40253  39802  39331  40749  42499  44360  40278  \n",
       "4  32387  31914  40394  41492  40760  42445  44153  45605  42130  \n",
       "5  29703  28675  43592  44294  44135  46530  48834  50057  46726  \n",
       "6  30773  30031  43433  42689  42502  44758  46150  47224  44946  \n",
       "7  26957  40838      0      0      0      0      0      0      0  "
      ]
     },
     "execution_count": 16,
     "metadata": {},
     "output_type": "execute_result"
    }
   ],
   "source": [
    "dotweek_df_total = dotweek_df[dotweek_df[\"소\"] == \"소계\"]\n",
    "dotweek_df_total.drop(columns=\"대\", inplace=True)\n",
    "dotweek_df_total.reset_index(inplace=True, drop=True)\n",
    "dotweek_df_total = dotweek_df_total.reindex([4,7,3,1,0,6,5,2])\n",
    "dotweek_df_total.reset_index(inplace=True, drop=True)\n",
    "dotweek_df_total"
   ]
  },
  {
   "cell_type": "code",
   "execution_count": 17,
   "metadata": {},
   "outputs": [
    {
     "data": {
      "application/vnd.plotly.v1+json": {
       "config": {
        "plotlyServerURL": "https://plot.ly"
       },
       "data": [
        {
         "hovertemplate": "요일별=월요일<br>년도=%{x}<br>발생건수=%{y}<extra></extra>",
         "legendgroup": "월요일",
         "line": {
          "color": "#636efa",
          "dash": "solid"
         },
         "marker": {
          "symbol": "circle"
         },
         "mode": "lines+markers",
         "name": "월요일",
         "orientation": "v",
         "showlegend": true,
         "type": "scatter",
         "x": [
          "1994년",
          "1995년",
          "1996년",
          "1997년",
          "1998년",
          "1999년",
          "2000년",
          "2001년",
          "2002년",
          "2003년",
          "2004년",
          "2005년",
          "2006년",
          "2007년",
          "2008년",
          "2009년",
          "2010년"
         ],
         "xaxis": "x",
         "y": [
          23391,
          27908,
          31439,
          31902,
          35744,
          41451,
          48116,
          45608,
          38852,
          41583,
          37399,
          37051,
          36064,
          38280,
          38527,
          40640,
          38095
         ],
         "yaxis": "y"
        },
        {
         "hovertemplate": "요일별=화요일<br>년도=%{x}<br>발생건수=%{y}<extra></extra>",
         "legendgroup": "화요일",
         "line": {
          "color": "#EF553B",
          "dash": "solid"
         },
         "marker": {
          "symbol": "circle"
         },
         "mode": "lines+markers",
         "name": "화요일",
         "orientation": "v",
         "showlegend": true,
         "type": "scatter",
         "x": [
          "1994년",
          "1995년",
          "1996년",
          "1997년",
          "1998년",
          "1999년",
          "2000년",
          "2001년",
          "2002년",
          "2003년",
          "2004년",
          "2005년",
          "2006년",
          "2007년",
          "2008년",
          "2009년",
          "2010년"
         ],
         "xaxis": "x",
         "y": [
          23719,
          26698,
          27093,
          28759,
          29687,
          36619,
          43670,
          44302,
          36105,
          37689,
          40979,
          40591,
          39764,
          41543,
          43377,
          44456,
          40456
         ],
         "yaxis": "y"
        },
        {
         "hovertemplate": "요일별=수요일<br>년도=%{x}<br>발생건수=%{y}<extra></extra>",
         "legendgroup": "수요일",
         "line": {
          "color": "#00cc96",
          "dash": "solid"
         },
         "marker": {
          "symbol": "circle"
         },
         "mode": "lines+markers",
         "name": "수요일",
         "orientation": "v",
         "showlegend": true,
         "type": "scatter",
         "x": [
          "1994년",
          "1995년",
          "1996년",
          "1997년",
          "1998년",
          "1999년",
          "2000년",
          "2001년",
          "2002년",
          "2003년",
          "2004년",
          "2005년",
          "2006년",
          "2007년",
          "2008년",
          "2009년",
          "2010년"
         ],
         "xaxis": "x",
         "y": [
          25594,
          31030,
          39849,
          42332,
          49531,
          66202,
          70652,
          70270,
          59010,
          55495,
          40414,
          39444,
          39413,
          40851,
          41968,
          43405,
          39716
         ],
         "yaxis": "y"
        },
        {
         "hovertemplate": "요일별=목요일<br>년도=%{x}<br>발생건수=%{y}<extra></extra>",
         "legendgroup": "목요일",
         "line": {
          "color": "#ab63fa",
          "dash": "solid"
         },
         "marker": {
          "symbol": "circle"
         },
         "mode": "lines+markers",
         "name": "목요일",
         "orientation": "v",
         "showlegend": true,
         "type": "scatter",
         "x": [
          "1994년",
          "1995년",
          "1996년",
          "1997년",
          "1998년",
          "1999년",
          "2000년",
          "2001년",
          "2002년",
          "2003년",
          "2004년",
          "2005년",
          "2006년",
          "2007년",
          "2008년",
          "2009년",
          "2010년"
         ],
         "xaxis": "x",
         "y": [
          21875,
          23551,
          23365,
          24528,
          27402,
          32871,
          40041,
          37368,
          30143,
          28668,
          40253,
          39802,
          39331,
          40749,
          42499,
          44360,
          40278
         ],
         "yaxis": "y"
        },
        {
         "hovertemplate": "요일별=금요일<br>년도=%{x}<br>발생건수=%{y}<extra></extra>",
         "legendgroup": "금요일",
         "line": {
          "color": "#FFA15A",
          "dash": "solid"
         },
         "marker": {
          "symbol": "circle"
         },
         "mode": "lines+markers",
         "name": "금요일",
         "orientation": "v",
         "showlegend": true,
         "type": "scatter",
         "x": [
          "1994년",
          "1995년",
          "1996년",
          "1997년",
          "1998년",
          "1999년",
          "2000년",
          "2001년",
          "2002년",
          "2003년",
          "2004년",
          "2005년",
          "2006년",
          "2007년",
          "2008년",
          "2009년",
          "2010년"
         ],
         "xaxis": "x",
         "y": [
          21997,
          24172,
          24084,
          23920,
          28485,
          32654,
          39975,
          38669,
          32387,
          31914,
          40394,
          41492,
          40760,
          42445,
          44153,
          45605,
          42130
         ],
         "yaxis": "y"
        },
        {
         "hovertemplate": "요일별=토요일<br>년도=%{x}<br>발생건수=%{y}<extra></extra>",
         "legendgroup": "토요일",
         "line": {
          "color": "#19d3f3",
          "dash": "solid"
         },
         "marker": {
          "symbol": "circle"
         },
         "mode": "lines+markers",
         "name": "토요일",
         "orientation": "v",
         "showlegend": true,
         "type": "scatter",
         "x": [
          "1994년",
          "1995년",
          "1996년",
          "1997년",
          "1998년",
          "1999년",
          "2000년",
          "2001년",
          "2002년",
          "2003년",
          "2004년",
          "2005년",
          "2006년",
          "2007년",
          "2008년",
          "2009년",
          "2010년"
         ],
         "xaxis": "x",
         "y": [
          23174,
          24883,
          24266,
          23323,
          26186,
          34459,
          39414,
          37752,
          29703,
          28675,
          43592,
          44294,
          44135,
          46530,
          48834,
          50057,
          46726
         ],
         "yaxis": "y"
        },
        {
         "hovertemplate": "요일별=일요일<br>년도=%{x}<br>발생건수=%{y}<extra></extra>",
         "legendgroup": "일요일",
         "line": {
          "color": "#FF6692",
          "dash": "solid"
         },
         "marker": {
          "symbol": "circle"
         },
         "mode": "lines+markers",
         "name": "일요일",
         "orientation": "v",
         "showlegend": true,
         "type": "scatter",
         "x": [
          "1994년",
          "1995년",
          "1996년",
          "1997년",
          "1998년",
          "1999년",
          "2000년",
          "2001년",
          "2002년",
          "2003년",
          "2004년",
          "2005년",
          "2006년",
          "2007년",
          "2008년",
          "2009년",
          "2010년"
         ],
         "xaxis": "x",
         "y": [
          21389,
          22632,
          22405,
          21320,
          25004,
          31500,
          39316,
          38705,
          30773,
          30031,
          43433,
          42689,
          42502,
          44758,
          46150,
          47224,
          44946
         ],
         "yaxis": "y"
        },
        {
         "hovertemplate": "요일별=미상<br>년도=%{x}<br>발생건수=%{y}<extra></extra>",
         "legendgroup": "미상",
         "line": {
          "color": "#B6E880",
          "dash": "solid"
         },
         "marker": {
          "symbol": "circle"
         },
         "mode": "lines+markers",
         "name": "미상",
         "orientation": "v",
         "showlegend": true,
         "type": "scatter",
         "x": [
          "1994년",
          "1995년",
          "1996년",
          "1997년",
          "1998년",
          "1999년",
          "2000년",
          "2001년",
          "2002년",
          "2003년",
          "2004년",
          "2005년",
          "2006년",
          "2007년",
          "2008년",
          "2009년",
          "2010년"
         ],
         "xaxis": "x",
         "y": [
          31908,
          5616,
          2390,
          4591,
          4370,
          6518,
          12446,
          25371,
          26957,
          40838,
          0,
          0,
          0,
          0,
          0,
          0,
          0
         ],
         "yaxis": "y"
        }
       ],
       "layout": {
        "legend": {
         "title": {
          "text": "요일별"
         },
         "tracegroupgap": 0
        },
        "template": {
         "data": {
          "bar": [
           {
            "error_x": {
             "color": "#2a3f5f"
            },
            "error_y": {
             "color": "#2a3f5f"
            },
            "marker": {
             "line": {
              "color": "#E5ECF6",
              "width": 0.5
             },
             "pattern": {
              "fillmode": "overlay",
              "size": 10,
              "solidity": 0.2
             }
            },
            "type": "bar"
           }
          ],
          "barpolar": [
           {
            "marker": {
             "line": {
              "color": "#E5ECF6",
              "width": 0.5
             },
             "pattern": {
              "fillmode": "overlay",
              "size": 10,
              "solidity": 0.2
             }
            },
            "type": "barpolar"
           }
          ],
          "carpet": [
           {
            "aaxis": {
             "endlinecolor": "#2a3f5f",
             "gridcolor": "white",
             "linecolor": "white",
             "minorgridcolor": "white",
             "startlinecolor": "#2a3f5f"
            },
            "baxis": {
             "endlinecolor": "#2a3f5f",
             "gridcolor": "white",
             "linecolor": "white",
             "minorgridcolor": "white",
             "startlinecolor": "#2a3f5f"
            },
            "type": "carpet"
           }
          ],
          "choropleth": [
           {
            "colorbar": {
             "outlinewidth": 0,
             "ticks": ""
            },
            "type": "choropleth"
           }
          ],
          "contour": [
           {
            "colorbar": {
             "outlinewidth": 0,
             "ticks": ""
            },
            "colorscale": [
             [
              0,
              "#0d0887"
             ],
             [
              0.1111111111111111,
              "#46039f"
             ],
             [
              0.2222222222222222,
              "#7201a8"
             ],
             [
              0.3333333333333333,
              "#9c179e"
             ],
             [
              0.4444444444444444,
              "#bd3786"
             ],
             [
              0.5555555555555556,
              "#d8576b"
             ],
             [
              0.6666666666666666,
              "#ed7953"
             ],
             [
              0.7777777777777778,
              "#fb9f3a"
             ],
             [
              0.8888888888888888,
              "#fdca26"
             ],
             [
              1,
              "#f0f921"
             ]
            ],
            "type": "contour"
           }
          ],
          "contourcarpet": [
           {
            "colorbar": {
             "outlinewidth": 0,
             "ticks": ""
            },
            "type": "contourcarpet"
           }
          ],
          "heatmap": [
           {
            "colorbar": {
             "outlinewidth": 0,
             "ticks": ""
            },
            "colorscale": [
             [
              0,
              "#0d0887"
             ],
             [
              0.1111111111111111,
              "#46039f"
             ],
             [
              0.2222222222222222,
              "#7201a8"
             ],
             [
              0.3333333333333333,
              "#9c179e"
             ],
             [
              0.4444444444444444,
              "#bd3786"
             ],
             [
              0.5555555555555556,
              "#d8576b"
             ],
             [
              0.6666666666666666,
              "#ed7953"
             ],
             [
              0.7777777777777778,
              "#fb9f3a"
             ],
             [
              0.8888888888888888,
              "#fdca26"
             ],
             [
              1,
              "#f0f921"
             ]
            ],
            "type": "heatmap"
           }
          ],
          "heatmapgl": [
           {
            "colorbar": {
             "outlinewidth": 0,
             "ticks": ""
            },
            "colorscale": [
             [
              0,
              "#0d0887"
             ],
             [
              0.1111111111111111,
              "#46039f"
             ],
             [
              0.2222222222222222,
              "#7201a8"
             ],
             [
              0.3333333333333333,
              "#9c179e"
             ],
             [
              0.4444444444444444,
              "#bd3786"
             ],
             [
              0.5555555555555556,
              "#d8576b"
             ],
             [
              0.6666666666666666,
              "#ed7953"
             ],
             [
              0.7777777777777778,
              "#fb9f3a"
             ],
             [
              0.8888888888888888,
              "#fdca26"
             ],
             [
              1,
              "#f0f921"
             ]
            ],
            "type": "heatmapgl"
           }
          ],
          "histogram": [
           {
            "marker": {
             "pattern": {
              "fillmode": "overlay",
              "size": 10,
              "solidity": 0.2
             }
            },
            "type": "histogram"
           }
          ],
          "histogram2d": [
           {
            "colorbar": {
             "outlinewidth": 0,
             "ticks": ""
            },
            "colorscale": [
             [
              0,
              "#0d0887"
             ],
             [
              0.1111111111111111,
              "#46039f"
             ],
             [
              0.2222222222222222,
              "#7201a8"
             ],
             [
              0.3333333333333333,
              "#9c179e"
             ],
             [
              0.4444444444444444,
              "#bd3786"
             ],
             [
              0.5555555555555556,
              "#d8576b"
             ],
             [
              0.6666666666666666,
              "#ed7953"
             ],
             [
              0.7777777777777778,
              "#fb9f3a"
             ],
             [
              0.8888888888888888,
              "#fdca26"
             ],
             [
              1,
              "#f0f921"
             ]
            ],
            "type": "histogram2d"
           }
          ],
          "histogram2dcontour": [
           {
            "colorbar": {
             "outlinewidth": 0,
             "ticks": ""
            },
            "colorscale": [
             [
              0,
              "#0d0887"
             ],
             [
              0.1111111111111111,
              "#46039f"
             ],
             [
              0.2222222222222222,
              "#7201a8"
             ],
             [
              0.3333333333333333,
              "#9c179e"
             ],
             [
              0.4444444444444444,
              "#bd3786"
             ],
             [
              0.5555555555555556,
              "#d8576b"
             ],
             [
              0.6666666666666666,
              "#ed7953"
             ],
             [
              0.7777777777777778,
              "#fb9f3a"
             ],
             [
              0.8888888888888888,
              "#fdca26"
             ],
             [
              1,
              "#f0f921"
             ]
            ],
            "type": "histogram2dcontour"
           }
          ],
          "mesh3d": [
           {
            "colorbar": {
             "outlinewidth": 0,
             "ticks": ""
            },
            "type": "mesh3d"
           }
          ],
          "parcoords": [
           {
            "line": {
             "colorbar": {
              "outlinewidth": 0,
              "ticks": ""
             }
            },
            "type": "parcoords"
           }
          ],
          "pie": [
           {
            "automargin": true,
            "type": "pie"
           }
          ],
          "scatter": [
           {
            "fillpattern": {
             "fillmode": "overlay",
             "size": 10,
             "solidity": 0.2
            },
            "type": "scatter"
           }
          ],
          "scatter3d": [
           {
            "line": {
             "colorbar": {
              "outlinewidth": 0,
              "ticks": ""
             }
            },
            "marker": {
             "colorbar": {
              "outlinewidth": 0,
              "ticks": ""
             }
            },
            "type": "scatter3d"
           }
          ],
          "scattercarpet": [
           {
            "marker": {
             "colorbar": {
              "outlinewidth": 0,
              "ticks": ""
             }
            },
            "type": "scattercarpet"
           }
          ],
          "scattergeo": [
           {
            "marker": {
             "colorbar": {
              "outlinewidth": 0,
              "ticks": ""
             }
            },
            "type": "scattergeo"
           }
          ],
          "scattergl": [
           {
            "marker": {
             "colorbar": {
              "outlinewidth": 0,
              "ticks": ""
             }
            },
            "type": "scattergl"
           }
          ],
          "scattermapbox": [
           {
            "marker": {
             "colorbar": {
              "outlinewidth": 0,
              "ticks": ""
             }
            },
            "type": "scattermapbox"
           }
          ],
          "scatterpolar": [
           {
            "marker": {
             "colorbar": {
              "outlinewidth": 0,
              "ticks": ""
             }
            },
            "type": "scatterpolar"
           }
          ],
          "scatterpolargl": [
           {
            "marker": {
             "colorbar": {
              "outlinewidth": 0,
              "ticks": ""
             }
            },
            "type": "scatterpolargl"
           }
          ],
          "scatterternary": [
           {
            "marker": {
             "colorbar": {
              "outlinewidth": 0,
              "ticks": ""
             }
            },
            "type": "scatterternary"
           }
          ],
          "surface": [
           {
            "colorbar": {
             "outlinewidth": 0,
             "ticks": ""
            },
            "colorscale": [
             [
              0,
              "#0d0887"
             ],
             [
              0.1111111111111111,
              "#46039f"
             ],
             [
              0.2222222222222222,
              "#7201a8"
             ],
             [
              0.3333333333333333,
              "#9c179e"
             ],
             [
              0.4444444444444444,
              "#bd3786"
             ],
             [
              0.5555555555555556,
              "#d8576b"
             ],
             [
              0.6666666666666666,
              "#ed7953"
             ],
             [
              0.7777777777777778,
              "#fb9f3a"
             ],
             [
              0.8888888888888888,
              "#fdca26"
             ],
             [
              1,
              "#f0f921"
             ]
            ],
            "type": "surface"
           }
          ],
          "table": [
           {
            "cells": {
             "fill": {
              "color": "#EBF0F8"
             },
             "line": {
              "color": "white"
             }
            },
            "header": {
             "fill": {
              "color": "#C8D4E3"
             },
             "line": {
              "color": "white"
             }
            },
            "type": "table"
           }
          ]
         },
         "layout": {
          "annotationdefaults": {
           "arrowcolor": "#2a3f5f",
           "arrowhead": 0,
           "arrowwidth": 1
          },
          "autotypenumbers": "strict",
          "coloraxis": {
           "colorbar": {
            "outlinewidth": 0,
            "ticks": ""
           }
          },
          "colorscale": {
           "diverging": [
            [
             0,
             "#8e0152"
            ],
            [
             0.1,
             "#c51b7d"
            ],
            [
             0.2,
             "#de77ae"
            ],
            [
             0.3,
             "#f1b6da"
            ],
            [
             0.4,
             "#fde0ef"
            ],
            [
             0.5,
             "#f7f7f7"
            ],
            [
             0.6,
             "#e6f5d0"
            ],
            [
             0.7,
             "#b8e186"
            ],
            [
             0.8,
             "#7fbc41"
            ],
            [
             0.9,
             "#4d9221"
            ],
            [
             1,
             "#276419"
            ]
           ],
           "sequential": [
            [
             0,
             "#0d0887"
            ],
            [
             0.1111111111111111,
             "#46039f"
            ],
            [
             0.2222222222222222,
             "#7201a8"
            ],
            [
             0.3333333333333333,
             "#9c179e"
            ],
            [
             0.4444444444444444,
             "#bd3786"
            ],
            [
             0.5555555555555556,
             "#d8576b"
            ],
            [
             0.6666666666666666,
             "#ed7953"
            ],
            [
             0.7777777777777778,
             "#fb9f3a"
            ],
            [
             0.8888888888888888,
             "#fdca26"
            ],
            [
             1,
             "#f0f921"
            ]
           ],
           "sequentialminus": [
            [
             0,
             "#0d0887"
            ],
            [
             0.1111111111111111,
             "#46039f"
            ],
            [
             0.2222222222222222,
             "#7201a8"
            ],
            [
             0.3333333333333333,
             "#9c179e"
            ],
            [
             0.4444444444444444,
             "#bd3786"
            ],
            [
             0.5555555555555556,
             "#d8576b"
            ],
            [
             0.6666666666666666,
             "#ed7953"
            ],
            [
             0.7777777777777778,
             "#fb9f3a"
            ],
            [
             0.8888888888888888,
             "#fdca26"
            ],
            [
             1,
             "#f0f921"
            ]
           ]
          },
          "colorway": [
           "#636efa",
           "#EF553B",
           "#00cc96",
           "#ab63fa",
           "#FFA15A",
           "#19d3f3",
           "#FF6692",
           "#B6E880",
           "#FF97FF",
           "#FECB52"
          ],
          "font": {
           "color": "#2a3f5f"
          },
          "geo": {
           "bgcolor": "white",
           "lakecolor": "white",
           "landcolor": "#E5ECF6",
           "showlakes": true,
           "showland": true,
           "subunitcolor": "white"
          },
          "hoverlabel": {
           "align": "left"
          },
          "hovermode": "closest",
          "mapbox": {
           "style": "light"
          },
          "paper_bgcolor": "white",
          "plot_bgcolor": "#E5ECF6",
          "polar": {
           "angularaxis": {
            "gridcolor": "white",
            "linecolor": "white",
            "ticks": ""
           },
           "bgcolor": "#E5ECF6",
           "radialaxis": {
            "gridcolor": "white",
            "linecolor": "white",
            "ticks": ""
           }
          },
          "scene": {
           "xaxis": {
            "backgroundcolor": "#E5ECF6",
            "gridcolor": "white",
            "gridwidth": 2,
            "linecolor": "white",
            "showbackground": true,
            "ticks": "",
            "zerolinecolor": "white"
           },
           "yaxis": {
            "backgroundcolor": "#E5ECF6",
            "gridcolor": "white",
            "gridwidth": 2,
            "linecolor": "white",
            "showbackground": true,
            "ticks": "",
            "zerolinecolor": "white"
           },
           "zaxis": {
            "backgroundcolor": "#E5ECF6",
            "gridcolor": "white",
            "gridwidth": 2,
            "linecolor": "white",
            "showbackground": true,
            "ticks": "",
            "zerolinecolor": "white"
           }
          },
          "shapedefaults": {
           "line": {
            "color": "#2a3f5f"
           }
          },
          "ternary": {
           "aaxis": {
            "gridcolor": "white",
            "linecolor": "white",
            "ticks": ""
           },
           "baxis": {
            "gridcolor": "white",
            "linecolor": "white",
            "ticks": ""
           },
           "bgcolor": "#E5ECF6",
           "caxis": {
            "gridcolor": "white",
            "linecolor": "white",
            "ticks": ""
           }
          },
          "title": {
           "x": 0.05
          },
          "xaxis": {
           "automargin": true,
           "gridcolor": "white",
           "linecolor": "white",
           "ticks": "",
           "title": {
            "standoff": 15
           },
           "zerolinecolor": "white",
           "zerolinewidth": 2
          },
          "yaxis": {
           "automargin": true,
           "gridcolor": "white",
           "linecolor": "white",
           "ticks": "",
           "title": {
            "standoff": 15
           },
           "zerolinecolor": "white",
           "zerolinewidth": 2
          }
         }
        },
        "title": {
         "text": "[ 요일별 발생한 절도범 건수 ]"
        },
        "xaxis": {
         "anchor": "y",
         "domain": [
          0,
          1
         ],
         "title": {
          "text": "년도"
         }
        },
        "yaxis": {
         "anchor": "x",
         "domain": [
          0,
          1
         ],
         "title": {
          "text": "발생건수"
         }
        }
       }
      }
     },
     "metadata": {},
     "output_type": "display_data"
    }
   ],
   "source": [
    "df_melted = dotweek_df_total.melt(id_vars=[\"중\", \"소\", \"요일별\"], var_name=\"년도\", value_name=\"발생건수\")\n",
    "\n",
    "fig = px.line(df_melted, x=\"년도\", y=\"발생건수\", color=\"요일별\", title=\"[ 요일별 발생한 절도범 건수 ]\", markers=True)\n",
    "fig.show()"
   ]
  },
  {
   "cell_type": "markdown",
   "metadata": {},
   "source": [
    "##### [ 시간 ]"
   ]
  },
  {
   "cell_type": "code",
   "execution_count": 18,
   "metadata": {},
   "outputs": [
    {
     "data": {
      "text/html": [
       "<div>\n",
       "<style scoped>\n",
       "    .dataframe tbody tr th:only-of-type {\n",
       "        vertical-align: middle;\n",
       "    }\n",
       "\n",
       "    .dataframe tbody tr th {\n",
       "        vertical-align: top;\n",
       "    }\n",
       "\n",
       "    .dataframe thead th {\n",
       "        text-align: right;\n",
       "    }\n",
       "</style>\n",
       "<table border=\"1\" class=\"dataframe\">\n",
       "  <thead>\n",
       "    <tr style=\"text-align: right;\">\n",
       "      <th></th>\n",
       "      <th>대</th>\n",
       "      <th>중</th>\n",
       "      <th>소</th>\n",
       "      <th>발생시간</th>\n",
       "      <th>1994년</th>\n",
       "      <th>1995년</th>\n",
       "      <th>1996년</th>\n",
       "      <th>1997년</th>\n",
       "      <th>1998년</th>\n",
       "      <th>1999년</th>\n",
       "      <th>...</th>\n",
       "      <th>2001년</th>\n",
       "      <th>2002년</th>\n",
       "      <th>2003년</th>\n",
       "      <th>2004년</th>\n",
       "      <th>2005년</th>\n",
       "      <th>2006년</th>\n",
       "      <th>2007년</th>\n",
       "      <th>2008년</th>\n",
       "      <th>2009년</th>\n",
       "      <th>2010년</th>\n",
       "    </tr>\n",
       "  </thead>\n",
       "  <tbody>\n",
       "    <tr>\n",
       "      <th>0</th>\n",
       "      <td>총범죄</td>\n",
       "      <td>소계</td>\n",
       "      <td>소계</td>\n",
       "      <td>심야(00:00~04:00)</td>\n",
       "      <td>116664</td>\n",
       "      <td>125759</td>\n",
       "      <td>135562</td>\n",
       "      <td>145650</td>\n",
       "      <td>181537</td>\n",
       "      <td>199965</td>\n",
       "      <td>...</td>\n",
       "      <td>231374</td>\n",
       "      <td>227356</td>\n",
       "      <td>232135</td>\n",
       "      <td>794266</td>\n",
       "      <td>669626</td>\n",
       "      <td>658792</td>\n",
       "      <td>682121</td>\n",
       "      <td>825648</td>\n",
       "      <td>838369</td>\n",
       "      <td>657125</td>\n",
       "    </tr>\n",
       "    <tr>\n",
       "      <th>1</th>\n",
       "      <td>총범죄</td>\n",
       "      <td>소계</td>\n",
       "      <td>소계</td>\n",
       "      <td>새벽(04:00~07:00)</td>\n",
       "      <td>38998</td>\n",
       "      <td>41308</td>\n",
       "      <td>43568</td>\n",
       "      <td>47170</td>\n",
       "      <td>48238</td>\n",
       "      <td>54892</td>\n",
       "      <td>...</td>\n",
       "      <td>64021</td>\n",
       "      <td>61087</td>\n",
       "      <td>60858</td>\n",
       "      <td>92146</td>\n",
       "      <td>83080</td>\n",
       "      <td>79152</td>\n",
       "      <td>90689</td>\n",
       "      <td>99263</td>\n",
       "      <td>94166</td>\n",
       "      <td>87811</td>\n",
       "    </tr>\n",
       "    <tr>\n",
       "      <th>2</th>\n",
       "      <td>총범죄</td>\n",
       "      <td>소계</td>\n",
       "      <td>소계</td>\n",
       "      <td>오전(07:00~12:00)</td>\n",
       "      <td>163507</td>\n",
       "      <td>180626</td>\n",
       "      <td>192047</td>\n",
       "      <td>195345</td>\n",
       "      <td>230522</td>\n",
       "      <td>231894</td>\n",
       "      <td>...</td>\n",
       "      <td>258970</td>\n",
       "      <td>235199</td>\n",
       "      <td>234504</td>\n",
       "      <td>206451</td>\n",
       "      <td>200434</td>\n",
       "      <td>207161</td>\n",
       "      <td>223647</td>\n",
       "      <td>243143</td>\n",
       "      <td>242713</td>\n",
       "      <td>231321</td>\n",
       "    </tr>\n",
       "    <tr>\n",
       "      <th>3</th>\n",
       "      <td>총범죄</td>\n",
       "      <td>소계</td>\n",
       "      <td>소계</td>\n",
       "      <td>오후(12:00~18:00)</td>\n",
       "      <td>248225</td>\n",
       "      <td>247811</td>\n",
       "      <td>258781</td>\n",
       "      <td>259432</td>\n",
       "      <td>294722</td>\n",
       "      <td>300942</td>\n",
       "      <td>...</td>\n",
       "      <td>299365</td>\n",
       "      <td>287782</td>\n",
       "      <td>285512</td>\n",
       "      <td>301583</td>\n",
       "      <td>272648</td>\n",
       "      <td>278197</td>\n",
       "      <td>298859</td>\n",
       "      <td>332056</td>\n",
       "      <td>316751</td>\n",
       "      <td>298739</td>\n",
       "    </tr>\n",
       "    <tr>\n",
       "      <th>4</th>\n",
       "      <td>총범죄</td>\n",
       "      <td>소계</td>\n",
       "      <td>소계</td>\n",
       "      <td>초저녁(18:00~20:00)</td>\n",
       "      <td>91141</td>\n",
       "      <td>94094</td>\n",
       "      <td>94087</td>\n",
       "      <td>102344</td>\n",
       "      <td>118736</td>\n",
       "      <td>114916</td>\n",
       "      <td>...</td>\n",
       "      <td>121742</td>\n",
       "      <td>115557</td>\n",
       "      <td>117096</td>\n",
       "      <td>104313</td>\n",
       "      <td>98884</td>\n",
       "      <td>98744</td>\n",
       "      <td>104802</td>\n",
       "      <td>113639</td>\n",
       "      <td>113412</td>\n",
       "      <td>113618</td>\n",
       "    </tr>\n",
       "    <tr>\n",
       "      <th>...</th>\n",
       "      <td>...</td>\n",
       "      <td>...</td>\n",
       "      <td>...</td>\n",
       "      <td>...</td>\n",
       "      <td>...</td>\n",
       "      <td>...</td>\n",
       "      <td>...</td>\n",
       "      <td>...</td>\n",
       "      <td>...</td>\n",
       "      <td>...</td>\n",
       "      <td>...</td>\n",
       "      <td>...</td>\n",
       "      <td>...</td>\n",
       "      <td>...</td>\n",
       "      <td>...</td>\n",
       "      <td>...</td>\n",
       "      <td>...</td>\n",
       "      <td>...</td>\n",
       "      <td>...</td>\n",
       "      <td>...</td>\n",
       "      <td>...</td>\n",
       "    </tr>\n",
       "    <tr>\n",
       "      <th>271</th>\n",
       "      <td>형법범</td>\n",
       "      <td>기타형법범</td>\n",
       "      <td>기타</td>\n",
       "      <td>새벽(04:00~07:00)</td>\n",
       "      <td>0</td>\n",
       "      <td>0</td>\n",
       "      <td>0</td>\n",
       "      <td>0</td>\n",
       "      <td>0</td>\n",
       "      <td>0</td>\n",
       "      <td>...</td>\n",
       "      <td>0</td>\n",
       "      <td>0</td>\n",
       "      <td>0</td>\n",
       "      <td>0</td>\n",
       "      <td>6</td>\n",
       "      <td>0</td>\n",
       "      <td>4</td>\n",
       "      <td>0</td>\n",
       "      <td>1</td>\n",
       "      <td>1</td>\n",
       "    </tr>\n",
       "    <tr>\n",
       "      <th>272</th>\n",
       "      <td>형법범</td>\n",
       "      <td>기타형법범</td>\n",
       "      <td>기타</td>\n",
       "      <td>오전(07:00~12:00)</td>\n",
       "      <td>0</td>\n",
       "      <td>0</td>\n",
       "      <td>0</td>\n",
       "      <td>0</td>\n",
       "      <td>0</td>\n",
       "      <td>0</td>\n",
       "      <td>...</td>\n",
       "      <td>0</td>\n",
       "      <td>0</td>\n",
       "      <td>0</td>\n",
       "      <td>7</td>\n",
       "      <td>9</td>\n",
       "      <td>18</td>\n",
       "      <td>68</td>\n",
       "      <td>55</td>\n",
       "      <td>3</td>\n",
       "      <td>2</td>\n",
       "    </tr>\n",
       "    <tr>\n",
       "      <th>273</th>\n",
       "      <td>형법범</td>\n",
       "      <td>기타형법범</td>\n",
       "      <td>기타</td>\n",
       "      <td>오후(12:00~18:00)</td>\n",
       "      <td>0</td>\n",
       "      <td>0</td>\n",
       "      <td>0</td>\n",
       "      <td>0</td>\n",
       "      <td>0</td>\n",
       "      <td>0</td>\n",
       "      <td>...</td>\n",
       "      <td>0</td>\n",
       "      <td>0</td>\n",
       "      <td>0</td>\n",
       "      <td>8</td>\n",
       "      <td>12</td>\n",
       "      <td>17</td>\n",
       "      <td>61</td>\n",
       "      <td>46</td>\n",
       "      <td>2</td>\n",
       "      <td>5</td>\n",
       "    </tr>\n",
       "    <tr>\n",
       "      <th>274</th>\n",
       "      <td>형법범</td>\n",
       "      <td>기타형법범</td>\n",
       "      <td>기타</td>\n",
       "      <td>초저녁(18:00~20:00)</td>\n",
       "      <td>0</td>\n",
       "      <td>0</td>\n",
       "      <td>0</td>\n",
       "      <td>0</td>\n",
       "      <td>0</td>\n",
       "      <td>0</td>\n",
       "      <td>...</td>\n",
       "      <td>0</td>\n",
       "      <td>0</td>\n",
       "      <td>0</td>\n",
       "      <td>6</td>\n",
       "      <td>4</td>\n",
       "      <td>4</td>\n",
       "      <td>6</td>\n",
       "      <td>7</td>\n",
       "      <td>0</td>\n",
       "      <td>0</td>\n",
       "    </tr>\n",
       "    <tr>\n",
       "      <th>275</th>\n",
       "      <td>형법범</td>\n",
       "      <td>기타형법범</td>\n",
       "      <td>기타</td>\n",
       "      <td>밤(20:00~24:00)</td>\n",
       "      <td>0</td>\n",
       "      <td>0</td>\n",
       "      <td>0</td>\n",
       "      <td>0</td>\n",
       "      <td>0</td>\n",
       "      <td>0</td>\n",
       "      <td>...</td>\n",
       "      <td>0</td>\n",
       "      <td>0</td>\n",
       "      <td>0</td>\n",
       "      <td>14</td>\n",
       "      <td>16</td>\n",
       "      <td>1</td>\n",
       "      <td>20</td>\n",
       "      <td>7</td>\n",
       "      <td>1</td>\n",
       "      <td>0</td>\n",
       "    </tr>\n",
       "  </tbody>\n",
       "</table>\n",
       "<p>276 rows × 21 columns</p>\n",
       "</div>"
      ],
      "text/plain": [
       "       대      중   소              발생시간   1994년   1995년   1996년   1997년   1998년  \\\n",
       "0    총범죄     소계  소계   심야(00:00~04:00)  116664  125759  135562  145650  181537   \n",
       "1    총범죄     소계  소계   새벽(04:00~07:00)   38998   41308   43568   47170   48238   \n",
       "2    총범죄     소계  소계   오전(07:00~12:00)  163507  180626  192047  195345  230522   \n",
       "3    총범죄     소계  소계   오후(12:00~18:00)  248225  247811  258781  259432  294722   \n",
       "4    총범죄     소계  소계  초저녁(18:00~20:00)   91141   94094   94087  102344  118736   \n",
       "..   ...    ...  ..               ...     ...     ...     ...     ...     ...   \n",
       "271  형법범  기타형법범  기타   새벽(04:00~07:00)       0       0       0       0       0   \n",
       "272  형법범  기타형법범  기타   오전(07:00~12:00)       0       0       0       0       0   \n",
       "273  형법범  기타형법범  기타   오후(12:00~18:00)       0       0       0       0       0   \n",
       "274  형법범  기타형법범  기타  초저녁(18:00~20:00)       0       0       0       0       0   \n",
       "275  형법범  기타형법범  기타    밤(20:00~24:00)       0       0       0       0       0   \n",
       "\n",
       "      1999년  ...   2001년   2002년   2003년   2004년   2005년   2006년   2007년  \\\n",
       "0    199965  ...  231374  227356  232135  794266  669626  658792  682121   \n",
       "1     54892  ...   64021   61087   60858   92146   83080   79152   90689   \n",
       "2    231894  ...  258970  235199  234504  206451  200434  207161  223647   \n",
       "3    300942  ...  299365  287782  285512  301583  272648  278197  298859   \n",
       "4    114916  ...  121742  115557  117096  104313   98884   98744  104802   \n",
       "..      ...  ...     ...     ...     ...     ...     ...     ...     ...   \n",
       "271       0  ...       0       0       0       0       6       0       4   \n",
       "272       0  ...       0       0       0       7       9      18      68   \n",
       "273       0  ...       0       0       0       8      12      17      61   \n",
       "274       0  ...       0       0       0       6       4       4       6   \n",
       "275       0  ...       0       0       0      14      16       1      20   \n",
       "\n",
       "      2008년   2009년   2010년  \n",
       "0    825648  838369  657125  \n",
       "1     99263   94166   87811  \n",
       "2    243143  242713  231321  \n",
       "3    332056  316751  298739  \n",
       "4    113639  113412  113618  \n",
       "..      ...     ...     ...  \n",
       "271       0       1       1  \n",
       "272      55       3       2  \n",
       "273      46       2       5  \n",
       "274       7       0       0  \n",
       "275       7       1       0  \n",
       "\n",
       "[276 rows x 21 columns]"
      ]
     },
     "execution_count": 18,
     "metadata": {},
     "output_type": "execute_result"
    }
   ],
   "source": [
    "cursor.execute(\"select * from crime_time_before\")\n",
    "\n",
    "time = cursor.fetchall()\n",
    "time_df_start = pd.DataFrame(time)\n",
    "time_df_start"
   ]
  },
  {
   "cell_type": "code",
   "execution_count": 19,
   "metadata": {},
   "outputs": [
    {
     "data": {
      "text/html": [
       "<div>\n",
       "<style scoped>\n",
       "    .dataframe tbody tr th:only-of-type {\n",
       "        vertical-align: middle;\n",
       "    }\n",
       "\n",
       "    .dataframe tbody tr th {\n",
       "        vertical-align: top;\n",
       "    }\n",
       "\n",
       "    .dataframe thead th {\n",
       "        text-align: right;\n",
       "    }\n",
       "</style>\n",
       "<table border=\"1\" class=\"dataframe\">\n",
       "  <thead>\n",
       "    <tr style=\"text-align: right;\">\n",
       "      <th></th>\n",
       "      <th>대</th>\n",
       "      <th>중</th>\n",
       "      <th>소</th>\n",
       "      <th>발생시간</th>\n",
       "      <th>1994년</th>\n",
       "      <th>1995년</th>\n",
       "      <th>1996년</th>\n",
       "      <th>1997년</th>\n",
       "      <th>1998년</th>\n",
       "      <th>1999년</th>\n",
       "      <th>...</th>\n",
       "      <th>2001년</th>\n",
       "      <th>2002년</th>\n",
       "      <th>2003년</th>\n",
       "      <th>2004년</th>\n",
       "      <th>2005년</th>\n",
       "      <th>2006년</th>\n",
       "      <th>2007년</th>\n",
       "      <th>2008년</th>\n",
       "      <th>2009년</th>\n",
       "      <th>2010년</th>\n",
       "    </tr>\n",
       "  </thead>\n",
       "  <tbody>\n",
       "  </tbody>\n",
       "</table>\n",
       "<p>0 rows × 21 columns</p>\n",
       "</div>"
      ],
      "text/plain": [
       "Empty DataFrame\n",
       "Columns: [대, 중, 소, 발생시간, 1994년, 1995년, 1996년, 1997년, 1998년, 1999년, 2000년, 2001년, 2002년, 2003년, 2004년, 2005년, 2006년, 2007년, 2008년, 2009년, 2010년]\n",
       "Index: []\n",
       "\n",
       "[0 rows x 21 columns]"
      ]
     },
     "execution_count": 19,
     "metadata": {},
     "output_type": "execute_result"
    }
   ],
   "source": [
    "time_df = time_df_start[time_df_start[\"중\"] == \"폭력범\"]\n",
    "time_df.reset_index(inplace=True, drop=True)\n",
    "time_df"
   ]
  },
  {
   "cell_type": "code",
   "execution_count": 20,
   "metadata": {},
   "outputs": [
    {
     "data": {
      "text/html": [
       "<div>\n",
       "<style scoped>\n",
       "    .dataframe tbody tr th:only-of-type {\n",
       "        vertical-align: middle;\n",
       "    }\n",
       "\n",
       "    .dataframe tbody tr th {\n",
       "        vertical-align: top;\n",
       "    }\n",
       "\n",
       "    .dataframe thead th {\n",
       "        text-align: right;\n",
       "    }\n",
       "</style>\n",
       "<table border=\"1\" class=\"dataframe\">\n",
       "  <thead>\n",
       "    <tr style=\"text-align: right;\">\n",
       "      <th></th>\n",
       "      <th>중</th>\n",
       "      <th>소</th>\n",
       "      <th>발생시간</th>\n",
       "      <th>1994년</th>\n",
       "      <th>1995년</th>\n",
       "      <th>1996년</th>\n",
       "      <th>1997년</th>\n",
       "      <th>1998년</th>\n",
       "      <th>1999년</th>\n",
       "      <th>2000년</th>\n",
       "      <th>2001년</th>\n",
       "      <th>2002년</th>\n",
       "      <th>2003년</th>\n",
       "      <th>2004년</th>\n",
       "      <th>2005년</th>\n",
       "      <th>2006년</th>\n",
       "      <th>2007년</th>\n",
       "      <th>2008년</th>\n",
       "      <th>2009년</th>\n",
       "      <th>2010년</th>\n",
       "    </tr>\n",
       "  </thead>\n",
       "  <tbody>\n",
       "  </tbody>\n",
       "</table>\n",
       "</div>"
      ],
      "text/plain": [
       "Empty DataFrame\n",
       "Columns: [중, 소, 발생시간, 1994년, 1995년, 1996년, 1997년, 1998년, 1999년, 2000년, 2001년, 2002년, 2003년, 2004년, 2005년, 2006년, 2007년, 2008년, 2009년, 2010년]\n",
       "Index: []"
      ]
     },
     "execution_count": 20,
     "metadata": {},
     "output_type": "execute_result"
    }
   ],
   "source": [
    "time_df_total = time_df[time_df[\"소\"] == \"소계\"]\n",
    "time_df_total.drop(columns=\"대\", inplace=True)\n",
    "time_df_total.reset_index(inplace=True, drop=True)\n",
    "time_df_total"
   ]
  },
  {
   "cell_type": "code",
   "execution_count": 21,
   "metadata": {},
   "outputs": [
    {
     "data": {
      "application/vnd.plotly.v1+json": {
       "config": {
        "plotlyServerURL": "https://plot.ly"
       },
       "data": [],
       "layout": {
        "legend": {
         "tracegroupgap": 0
        },
        "template": {
         "data": {
          "bar": [
           {
            "error_x": {
             "color": "#2a3f5f"
            },
            "error_y": {
             "color": "#2a3f5f"
            },
            "marker": {
             "line": {
              "color": "#E5ECF6",
              "width": 0.5
             },
             "pattern": {
              "fillmode": "overlay",
              "size": 10,
              "solidity": 0.2
             }
            },
            "type": "bar"
           }
          ],
          "barpolar": [
           {
            "marker": {
             "line": {
              "color": "#E5ECF6",
              "width": 0.5
             },
             "pattern": {
              "fillmode": "overlay",
              "size": 10,
              "solidity": 0.2
             }
            },
            "type": "barpolar"
           }
          ],
          "carpet": [
           {
            "aaxis": {
             "endlinecolor": "#2a3f5f",
             "gridcolor": "white",
             "linecolor": "white",
             "minorgridcolor": "white",
             "startlinecolor": "#2a3f5f"
            },
            "baxis": {
             "endlinecolor": "#2a3f5f",
             "gridcolor": "white",
             "linecolor": "white",
             "minorgridcolor": "white",
             "startlinecolor": "#2a3f5f"
            },
            "type": "carpet"
           }
          ],
          "choropleth": [
           {
            "colorbar": {
             "outlinewidth": 0,
             "ticks": ""
            },
            "type": "choropleth"
           }
          ],
          "contour": [
           {
            "colorbar": {
             "outlinewidth": 0,
             "ticks": ""
            },
            "colorscale": [
             [
              0,
              "#0d0887"
             ],
             [
              0.1111111111111111,
              "#46039f"
             ],
             [
              0.2222222222222222,
              "#7201a8"
             ],
             [
              0.3333333333333333,
              "#9c179e"
             ],
             [
              0.4444444444444444,
              "#bd3786"
             ],
             [
              0.5555555555555556,
              "#d8576b"
             ],
             [
              0.6666666666666666,
              "#ed7953"
             ],
             [
              0.7777777777777778,
              "#fb9f3a"
             ],
             [
              0.8888888888888888,
              "#fdca26"
             ],
             [
              1,
              "#f0f921"
             ]
            ],
            "type": "contour"
           }
          ],
          "contourcarpet": [
           {
            "colorbar": {
             "outlinewidth": 0,
             "ticks": ""
            },
            "type": "contourcarpet"
           }
          ],
          "heatmap": [
           {
            "colorbar": {
             "outlinewidth": 0,
             "ticks": ""
            },
            "colorscale": [
             [
              0,
              "#0d0887"
             ],
             [
              0.1111111111111111,
              "#46039f"
             ],
             [
              0.2222222222222222,
              "#7201a8"
             ],
             [
              0.3333333333333333,
              "#9c179e"
             ],
             [
              0.4444444444444444,
              "#bd3786"
             ],
             [
              0.5555555555555556,
              "#d8576b"
             ],
             [
              0.6666666666666666,
              "#ed7953"
             ],
             [
              0.7777777777777778,
              "#fb9f3a"
             ],
             [
              0.8888888888888888,
              "#fdca26"
             ],
             [
              1,
              "#f0f921"
             ]
            ],
            "type": "heatmap"
           }
          ],
          "heatmapgl": [
           {
            "colorbar": {
             "outlinewidth": 0,
             "ticks": ""
            },
            "colorscale": [
             [
              0,
              "#0d0887"
             ],
             [
              0.1111111111111111,
              "#46039f"
             ],
             [
              0.2222222222222222,
              "#7201a8"
             ],
             [
              0.3333333333333333,
              "#9c179e"
             ],
             [
              0.4444444444444444,
              "#bd3786"
             ],
             [
              0.5555555555555556,
              "#d8576b"
             ],
             [
              0.6666666666666666,
              "#ed7953"
             ],
             [
              0.7777777777777778,
              "#fb9f3a"
             ],
             [
              0.8888888888888888,
              "#fdca26"
             ],
             [
              1,
              "#f0f921"
             ]
            ],
            "type": "heatmapgl"
           }
          ],
          "histogram": [
           {
            "marker": {
             "pattern": {
              "fillmode": "overlay",
              "size": 10,
              "solidity": 0.2
             }
            },
            "type": "histogram"
           }
          ],
          "histogram2d": [
           {
            "colorbar": {
             "outlinewidth": 0,
             "ticks": ""
            },
            "colorscale": [
             [
              0,
              "#0d0887"
             ],
             [
              0.1111111111111111,
              "#46039f"
             ],
             [
              0.2222222222222222,
              "#7201a8"
             ],
             [
              0.3333333333333333,
              "#9c179e"
             ],
             [
              0.4444444444444444,
              "#bd3786"
             ],
             [
              0.5555555555555556,
              "#d8576b"
             ],
             [
              0.6666666666666666,
              "#ed7953"
             ],
             [
              0.7777777777777778,
              "#fb9f3a"
             ],
             [
              0.8888888888888888,
              "#fdca26"
             ],
             [
              1,
              "#f0f921"
             ]
            ],
            "type": "histogram2d"
           }
          ],
          "histogram2dcontour": [
           {
            "colorbar": {
             "outlinewidth": 0,
             "ticks": ""
            },
            "colorscale": [
             [
              0,
              "#0d0887"
             ],
             [
              0.1111111111111111,
              "#46039f"
             ],
             [
              0.2222222222222222,
              "#7201a8"
             ],
             [
              0.3333333333333333,
              "#9c179e"
             ],
             [
              0.4444444444444444,
              "#bd3786"
             ],
             [
              0.5555555555555556,
              "#d8576b"
             ],
             [
              0.6666666666666666,
              "#ed7953"
             ],
             [
              0.7777777777777778,
              "#fb9f3a"
             ],
             [
              0.8888888888888888,
              "#fdca26"
             ],
             [
              1,
              "#f0f921"
             ]
            ],
            "type": "histogram2dcontour"
           }
          ],
          "mesh3d": [
           {
            "colorbar": {
             "outlinewidth": 0,
             "ticks": ""
            },
            "type": "mesh3d"
           }
          ],
          "parcoords": [
           {
            "line": {
             "colorbar": {
              "outlinewidth": 0,
              "ticks": ""
             }
            },
            "type": "parcoords"
           }
          ],
          "pie": [
           {
            "automargin": true,
            "type": "pie"
           }
          ],
          "scatter": [
           {
            "fillpattern": {
             "fillmode": "overlay",
             "size": 10,
             "solidity": 0.2
            },
            "type": "scatter"
           }
          ],
          "scatter3d": [
           {
            "line": {
             "colorbar": {
              "outlinewidth": 0,
              "ticks": ""
             }
            },
            "marker": {
             "colorbar": {
              "outlinewidth": 0,
              "ticks": ""
             }
            },
            "type": "scatter3d"
           }
          ],
          "scattercarpet": [
           {
            "marker": {
             "colorbar": {
              "outlinewidth": 0,
              "ticks": ""
             }
            },
            "type": "scattercarpet"
           }
          ],
          "scattergeo": [
           {
            "marker": {
             "colorbar": {
              "outlinewidth": 0,
              "ticks": ""
             }
            },
            "type": "scattergeo"
           }
          ],
          "scattergl": [
           {
            "marker": {
             "colorbar": {
              "outlinewidth": 0,
              "ticks": ""
             }
            },
            "type": "scattergl"
           }
          ],
          "scattermapbox": [
           {
            "marker": {
             "colorbar": {
              "outlinewidth": 0,
              "ticks": ""
             }
            },
            "type": "scattermapbox"
           }
          ],
          "scatterpolar": [
           {
            "marker": {
             "colorbar": {
              "outlinewidth": 0,
              "ticks": ""
             }
            },
            "type": "scatterpolar"
           }
          ],
          "scatterpolargl": [
           {
            "marker": {
             "colorbar": {
              "outlinewidth": 0,
              "ticks": ""
             }
            },
            "type": "scatterpolargl"
           }
          ],
          "scatterternary": [
           {
            "marker": {
             "colorbar": {
              "outlinewidth": 0,
              "ticks": ""
             }
            },
            "type": "scatterternary"
           }
          ],
          "surface": [
           {
            "colorbar": {
             "outlinewidth": 0,
             "ticks": ""
            },
            "colorscale": [
             [
              0,
              "#0d0887"
             ],
             [
              0.1111111111111111,
              "#46039f"
             ],
             [
              0.2222222222222222,
              "#7201a8"
             ],
             [
              0.3333333333333333,
              "#9c179e"
             ],
             [
              0.4444444444444444,
              "#bd3786"
             ],
             [
              0.5555555555555556,
              "#d8576b"
             ],
             [
              0.6666666666666666,
              "#ed7953"
             ],
             [
              0.7777777777777778,
              "#fb9f3a"
             ],
             [
              0.8888888888888888,
              "#fdca26"
             ],
             [
              1,
              "#f0f921"
             ]
            ],
            "type": "surface"
           }
          ],
          "table": [
           {
            "cells": {
             "fill": {
              "color": "#EBF0F8"
             },
             "line": {
              "color": "white"
             }
            },
            "header": {
             "fill": {
              "color": "#C8D4E3"
             },
             "line": {
              "color": "white"
             }
            },
            "type": "table"
           }
          ]
         },
         "layout": {
          "annotationdefaults": {
           "arrowcolor": "#2a3f5f",
           "arrowhead": 0,
           "arrowwidth": 1
          },
          "autotypenumbers": "strict",
          "coloraxis": {
           "colorbar": {
            "outlinewidth": 0,
            "ticks": ""
           }
          },
          "colorscale": {
           "diverging": [
            [
             0,
             "#8e0152"
            ],
            [
             0.1,
             "#c51b7d"
            ],
            [
             0.2,
             "#de77ae"
            ],
            [
             0.3,
             "#f1b6da"
            ],
            [
             0.4,
             "#fde0ef"
            ],
            [
             0.5,
             "#f7f7f7"
            ],
            [
             0.6,
             "#e6f5d0"
            ],
            [
             0.7,
             "#b8e186"
            ],
            [
             0.8,
             "#7fbc41"
            ],
            [
             0.9,
             "#4d9221"
            ],
            [
             1,
             "#276419"
            ]
           ],
           "sequential": [
            [
             0,
             "#0d0887"
            ],
            [
             0.1111111111111111,
             "#46039f"
            ],
            [
             0.2222222222222222,
             "#7201a8"
            ],
            [
             0.3333333333333333,
             "#9c179e"
            ],
            [
             0.4444444444444444,
             "#bd3786"
            ],
            [
             0.5555555555555556,
             "#d8576b"
            ],
            [
             0.6666666666666666,
             "#ed7953"
            ],
            [
             0.7777777777777778,
             "#fb9f3a"
            ],
            [
             0.8888888888888888,
             "#fdca26"
            ],
            [
             1,
             "#f0f921"
            ]
           ],
           "sequentialminus": [
            [
             0,
             "#0d0887"
            ],
            [
             0.1111111111111111,
             "#46039f"
            ],
            [
             0.2222222222222222,
             "#7201a8"
            ],
            [
             0.3333333333333333,
             "#9c179e"
            ],
            [
             0.4444444444444444,
             "#bd3786"
            ],
            [
             0.5555555555555556,
             "#d8576b"
            ],
            [
             0.6666666666666666,
             "#ed7953"
            ],
            [
             0.7777777777777778,
             "#fb9f3a"
            ],
            [
             0.8888888888888888,
             "#fdca26"
            ],
            [
             1,
             "#f0f921"
            ]
           ]
          },
          "colorway": [
           "#636efa",
           "#EF553B",
           "#00cc96",
           "#ab63fa",
           "#FFA15A",
           "#19d3f3",
           "#FF6692",
           "#B6E880",
           "#FF97FF",
           "#FECB52"
          ],
          "font": {
           "color": "#2a3f5f"
          },
          "geo": {
           "bgcolor": "white",
           "lakecolor": "white",
           "landcolor": "#E5ECF6",
           "showlakes": true,
           "showland": true,
           "subunitcolor": "white"
          },
          "hoverlabel": {
           "align": "left"
          },
          "hovermode": "closest",
          "mapbox": {
           "style": "light"
          },
          "paper_bgcolor": "white",
          "plot_bgcolor": "#E5ECF6",
          "polar": {
           "angularaxis": {
            "gridcolor": "white",
            "linecolor": "white",
            "ticks": ""
           },
           "bgcolor": "#E5ECF6",
           "radialaxis": {
            "gridcolor": "white",
            "linecolor": "white",
            "ticks": ""
           }
          },
          "scene": {
           "xaxis": {
            "backgroundcolor": "#E5ECF6",
            "gridcolor": "white",
            "gridwidth": 2,
            "linecolor": "white",
            "showbackground": true,
            "ticks": "",
            "zerolinecolor": "white"
           },
           "yaxis": {
            "backgroundcolor": "#E5ECF6",
            "gridcolor": "white",
            "gridwidth": 2,
            "linecolor": "white",
            "showbackground": true,
            "ticks": "",
            "zerolinecolor": "white"
           },
           "zaxis": {
            "backgroundcolor": "#E5ECF6",
            "gridcolor": "white",
            "gridwidth": 2,
            "linecolor": "white",
            "showbackground": true,
            "ticks": "",
            "zerolinecolor": "white"
           }
          },
          "shapedefaults": {
           "line": {
            "color": "#2a3f5f"
           }
          },
          "ternary": {
           "aaxis": {
            "gridcolor": "white",
            "linecolor": "white",
            "ticks": ""
           },
           "baxis": {
            "gridcolor": "white",
            "linecolor": "white",
            "ticks": ""
           },
           "bgcolor": "#E5ECF6",
           "caxis": {
            "gridcolor": "white",
            "linecolor": "white",
            "ticks": ""
           }
          },
          "title": {
           "x": 0.05
          },
          "xaxis": {
           "automargin": true,
           "gridcolor": "white",
           "linecolor": "white",
           "ticks": "",
           "title": {
            "standoff": 15
           },
           "zerolinecolor": "white",
           "zerolinewidth": 2
          },
          "yaxis": {
           "automargin": true,
           "gridcolor": "white",
           "linecolor": "white",
           "ticks": "",
           "title": {
            "standoff": 15
           },
           "zerolinecolor": "white",
           "zerolinewidth": 2
          }
         }
        },
        "title": {
         "text": "[ 발생시간별 발생한 폭력범 건수 ]"
        },
        "xaxis": {
         "anchor": "y",
         "domain": [
          0,
          1
         ],
         "title": {
          "text": "년도"
         }
        },
        "yaxis": {
         "anchor": "x",
         "domain": [
          0,
          1
         ],
         "title": {
          "text": "발생건수"
         }
        }
       }
      }
     },
     "metadata": {},
     "output_type": "display_data"
    }
   ],
   "source": [
    "df_melted = time_df_total.melt(id_vars=[\"중\", \"소\", \"발생시간\"], var_name=\"년도\", value_name=\"발생건수\")\n",
    "\n",
    "fig = px.line(df_melted, x=\"년도\", y=\"발생건수\", color=\"발생시간\", title=\"[ 발생시간별 발생한 폭력범 건수 ]\", markers=True)\n",
    "fig.show()"
   ]
  },
  {
   "cell_type": "markdown",
   "metadata": {},
   "source": [
    "##### [ 나이 ]"
   ]
  },
  {
   "cell_type": "code",
   "execution_count": 22,
   "metadata": {},
   "outputs": [
    {
     "data": {
      "text/html": [
       "<div>\n",
       "<style scoped>\n",
       "    .dataframe tbody tr th:only-of-type {\n",
       "        vertical-align: middle;\n",
       "    }\n",
       "\n",
       "    .dataframe tbody tr th {\n",
       "        vertical-align: top;\n",
       "    }\n",
       "\n",
       "    .dataframe thead th {\n",
       "        text-align: right;\n",
       "    }\n",
       "</style>\n",
       "<table border=\"1\" class=\"dataframe\">\n",
       "  <thead>\n",
       "    <tr style=\"text-align: right;\">\n",
       "      <th></th>\n",
       "      <th>대</th>\n",
       "      <th>중</th>\n",
       "      <th>소</th>\n",
       "      <th>연령별</th>\n",
       "      <th>1994년</th>\n",
       "      <th>1995년</th>\n",
       "      <th>1996년</th>\n",
       "      <th>1997년</th>\n",
       "      <th>1998년</th>\n",
       "      <th>1999년</th>\n",
       "      <th>...</th>\n",
       "      <th>2001년</th>\n",
       "      <th>2002년</th>\n",
       "      <th>2003년</th>\n",
       "      <th>2004년</th>\n",
       "      <th>2005년</th>\n",
       "      <th>2006년</th>\n",
       "      <th>2007년</th>\n",
       "      <th>2008년</th>\n",
       "      <th>2009년</th>\n",
       "      <th>2010년</th>\n",
       "    </tr>\n",
       "  </thead>\n",
       "  <tbody>\n",
       "    <tr>\n",
       "      <th>0</th>\n",
       "      <td>총범죄</td>\n",
       "      <td>소계</td>\n",
       "      <td>소계</td>\n",
       "      <td>미성년</td>\n",
       "      <td>108681</td>\n",
       "      <td>123372</td>\n",
       "      <td>136323</td>\n",
       "      <td>153380</td>\n",
       "      <td>151383</td>\n",
       "      <td>141519</td>\n",
       "      <td>...</td>\n",
       "      <td>131059</td>\n",
       "      <td>115210</td>\n",
       "      <td>96697</td>\n",
       "      <td>86861</td>\n",
       "      <td>83477</td>\n",
       "      <td>90628</td>\n",
       "      <td>115661</td>\n",
       "      <td>123044</td>\n",
       "      <td>118058</td>\n",
       "      <td>94862</td>\n",
       "    </tr>\n",
       "    <tr>\n",
       "      <th>1</th>\n",
       "      <td>총범죄</td>\n",
       "      <td>소계</td>\n",
       "      <td>소계</td>\n",
       "      <td>14세미만</td>\n",
       "      <td>2648</td>\n",
       "      <td>2109</td>\n",
       "      <td>2149</td>\n",
       "      <td>1875</td>\n",
       "      <td>1440</td>\n",
       "      <td>1339</td>\n",
       "      <td>...</td>\n",
       "      <td>1378</td>\n",
       "      <td>1667</td>\n",
       "      <td>1376</td>\n",
       "      <td>1503</td>\n",
       "      <td>1679</td>\n",
       "      <td>1718</td>\n",
       "      <td>2602</td>\n",
       "      <td>5547</td>\n",
       "      <td>2615</td>\n",
       "      <td>621</td>\n",
       "    </tr>\n",
       "    <tr>\n",
       "      <th>2</th>\n",
       "      <td>총범죄</td>\n",
       "      <td>소계</td>\n",
       "      <td>소계</td>\n",
       "      <td>성인</td>\n",
       "      <td>1302941</td>\n",
       "      <td>1325225</td>\n",
       "      <td>1412545</td>\n",
       "      <td>1516202</td>\n",
       "      <td>1707707</td>\n",
       "      <td>1777161</td>\n",
       "      <td>...</td>\n",
       "      <td>1841330</td>\n",
       "      <td>1821169</td>\n",
       "      <td>1811469</td>\n",
       "      <td>2093377</td>\n",
       "      <td>1838155</td>\n",
       "      <td>1858300</td>\n",
       "      <td>1955214</td>\n",
       "      <td>2144039</td>\n",
       "      <td>2151798</td>\n",
       "      <td>1836620</td>\n",
       "    </tr>\n",
       "    <tr>\n",
       "      <th>3</th>\n",
       "      <td>총범죄</td>\n",
       "      <td>소계</td>\n",
       "      <td>소계</td>\n",
       "      <td>미상</td>\n",
       "      <td>11996</td>\n",
       "      <td>1562</td>\n",
       "      <td>2532</td>\n",
       "      <td>2773</td>\n",
       "      <td>3906</td>\n",
       "      <td>7478</td>\n",
       "      <td>...</td>\n",
       "      <td>7785</td>\n",
       "      <td>6608</td>\n",
       "      <td>9044</td>\n",
       "      <td>87666</td>\n",
       "      <td>48194</td>\n",
       "      <td>43849</td>\n",
       "      <td>38670</td>\n",
       "      <td>66037</td>\n",
       "      <td>63859</td>\n",
       "      <td>54837</td>\n",
       "    </tr>\n",
       "    <tr>\n",
       "      <th>4</th>\n",
       "      <td>형법범</td>\n",
       "      <td>소계</td>\n",
       "      <td>소계</td>\n",
       "      <td>미성년</td>\n",
       "      <td>78972</td>\n",
       "      <td>84998</td>\n",
       "      <td>86611</td>\n",
       "      <td>99519</td>\n",
       "      <td>103243</td>\n",
       "      <td>94310</td>\n",
       "      <td>...</td>\n",
       "      <td>84518</td>\n",
       "      <td>75511</td>\n",
       "      <td>67408</td>\n",
       "      <td>61577</td>\n",
       "      <td>62008</td>\n",
       "      <td>66740</td>\n",
       "      <td>80008</td>\n",
       "      <td>75331</td>\n",
       "      <td>86087</td>\n",
       "      <td>74368</td>\n",
       "    </tr>\n",
       "    <tr>\n",
       "      <th>...</th>\n",
       "      <td>...</td>\n",
       "      <td>...</td>\n",
       "      <td>...</td>\n",
       "      <td>...</td>\n",
       "      <td>...</td>\n",
       "      <td>...</td>\n",
       "      <td>...</td>\n",
       "      <td>...</td>\n",
       "      <td>...</td>\n",
       "      <td>...</td>\n",
       "      <td>...</td>\n",
       "      <td>...</td>\n",
       "      <td>...</td>\n",
       "      <td>...</td>\n",
       "      <td>...</td>\n",
       "      <td>...</td>\n",
       "      <td>...</td>\n",
       "      <td>...</td>\n",
       "      <td>...</td>\n",
       "      <td>...</td>\n",
       "      <td>...</td>\n",
       "    </tr>\n",
       "    <tr>\n",
       "      <th>844</th>\n",
       "      <td>특별법범</td>\n",
       "      <td>후천성면역결핍증예방법</td>\n",
       "      <td>소계</td>\n",
       "      <td>성인</td>\n",
       "      <td>0</td>\n",
       "      <td>0</td>\n",
       "      <td>0</td>\n",
       "      <td>1</td>\n",
       "      <td>0</td>\n",
       "      <td>0</td>\n",
       "      <td>...</td>\n",
       "      <td>0</td>\n",
       "      <td>4</td>\n",
       "      <td>1</td>\n",
       "      <td>1</td>\n",
       "      <td>1</td>\n",
       "      <td>4</td>\n",
       "      <td>0</td>\n",
       "      <td>0</td>\n",
       "      <td>0</td>\n",
       "      <td>0</td>\n",
       "    </tr>\n",
       "    <tr>\n",
       "      <th>845</th>\n",
       "      <td>특별법범</td>\n",
       "      <td>기타특별법</td>\n",
       "      <td>소계</td>\n",
       "      <td>미성년</td>\n",
       "      <td>123</td>\n",
       "      <td>156</td>\n",
       "      <td>247</td>\n",
       "      <td>349</td>\n",
       "      <td>343</td>\n",
       "      <td>501</td>\n",
       "      <td>...</td>\n",
       "      <td>9346</td>\n",
       "      <td>11129</td>\n",
       "      <td>9059</td>\n",
       "      <td>64</td>\n",
       "      <td>54</td>\n",
       "      <td>46</td>\n",
       "      <td>115</td>\n",
       "      <td>172</td>\n",
       "      <td>174</td>\n",
       "      <td>153</td>\n",
       "    </tr>\n",
       "    <tr>\n",
       "      <th>846</th>\n",
       "      <td>특별법범</td>\n",
       "      <td>기타특별법</td>\n",
       "      <td>소계</td>\n",
       "      <td>14세미만</td>\n",
       "      <td>16</td>\n",
       "      <td>8</td>\n",
       "      <td>11</td>\n",
       "      <td>9</td>\n",
       "      <td>5</td>\n",
       "      <td>12</td>\n",
       "      <td>...</td>\n",
       "      <td>68</td>\n",
       "      <td>119</td>\n",
       "      <td>113</td>\n",
       "      <td>7</td>\n",
       "      <td>0</td>\n",
       "      <td>1</td>\n",
       "      <td>0</td>\n",
       "      <td>3</td>\n",
       "      <td>3</td>\n",
       "      <td>0</td>\n",
       "    </tr>\n",
       "    <tr>\n",
       "      <th>847</th>\n",
       "      <td>특별법범</td>\n",
       "      <td>기타특별법</td>\n",
       "      <td>소계</td>\n",
       "      <td>성인</td>\n",
       "      <td>15720</td>\n",
       "      <td>20643</td>\n",
       "      <td>20759</td>\n",
       "      <td>25204</td>\n",
       "      <td>28168</td>\n",
       "      <td>46281</td>\n",
       "      <td>...</td>\n",
       "      <td>169612</td>\n",
       "      <td>234276</td>\n",
       "      <td>282003</td>\n",
       "      <td>17279</td>\n",
       "      <td>15560</td>\n",
       "      <td>17812</td>\n",
       "      <td>19456</td>\n",
       "      <td>30305</td>\n",
       "      <td>41471</td>\n",
       "      <td>39456</td>\n",
       "    </tr>\n",
       "    <tr>\n",
       "      <th>848</th>\n",
       "      <td>특별법범</td>\n",
       "      <td>기타특별법</td>\n",
       "      <td>소계</td>\n",
       "      <td>미상</td>\n",
       "      <td>187</td>\n",
       "      <td>49</td>\n",
       "      <td>96</td>\n",
       "      <td>104</td>\n",
       "      <td>111</td>\n",
       "      <td>194</td>\n",
       "      <td>...</td>\n",
       "      <td>235</td>\n",
       "      <td>274</td>\n",
       "      <td>478</td>\n",
       "      <td>970</td>\n",
       "      <td>426</td>\n",
       "      <td>473</td>\n",
       "      <td>704</td>\n",
       "      <td>2382</td>\n",
       "      <td>2791</td>\n",
       "      <td>1820</td>\n",
       "    </tr>\n",
       "  </tbody>\n",
       "</table>\n",
       "<p>849 rows × 21 columns</p>\n",
       "</div>"
      ],
      "text/plain": [
       "        대            중   소    연령별    1994년    1995년    1996년    1997년  \\\n",
       "0     총범죄           소계  소계    미성년   108681   123372   136323   153380   \n",
       "1     총범죄           소계  소계  14세미만     2648     2109     2149     1875   \n",
       "2     총범죄           소계  소계     성인  1302941  1325225  1412545  1516202   \n",
       "3     총범죄           소계  소계     미상    11996     1562     2532     2773   \n",
       "4     형법범           소계  소계    미성년    78972    84998    86611    99519   \n",
       "..    ...          ...  ..    ...      ...      ...      ...      ...   \n",
       "844  특별법범  후천성면역결핍증예방법  소계     성인        0        0        0        1   \n",
       "845  특별법범        기타특별법  소계    미성년      123      156      247      349   \n",
       "846  특별법범        기타특별법  소계  14세미만       16        8       11        9   \n",
       "847  특별법범        기타특별법  소계     성인    15720    20643    20759    25204   \n",
       "848  특별법범        기타특별법  소계     미상      187       49       96      104   \n",
       "\n",
       "       1998년    1999년  ...    2001년    2002년    2003년    2004년    2005년  \\\n",
       "0     151383   141519  ...   131059   115210    96697    86861    83477   \n",
       "1       1440     1339  ...     1378     1667     1376     1503     1679   \n",
       "2    1707707  1777161  ...  1841330  1821169  1811469  2093377  1838155   \n",
       "3       3906     7478  ...     7785     6608     9044    87666    48194   \n",
       "4     103243    94310  ...    84518    75511    67408    61577    62008   \n",
       "..       ...      ...  ...      ...      ...      ...      ...      ...   \n",
       "844        0        0  ...        0        4        1        1        1   \n",
       "845      343      501  ...     9346    11129     9059       64       54   \n",
       "846        5       12  ...       68      119      113        7        0   \n",
       "847    28168    46281  ...   169612   234276   282003    17279    15560   \n",
       "848      111      194  ...      235      274      478      970      426   \n",
       "\n",
       "       2006년    2007년    2008년    2009년    2010년  \n",
       "0      90628   115661   123044   118058    94862  \n",
       "1       1718     2602     5547     2615      621  \n",
       "2    1858300  1955214  2144039  2151798  1836620  \n",
       "3      43849    38670    66037    63859    54837  \n",
       "4      66740    80008    75331    86087    74368  \n",
       "..       ...      ...      ...      ...      ...  \n",
       "844        4        0        0        0        0  \n",
       "845       46      115      172      174      153  \n",
       "846        1        0        3        3        0  \n",
       "847    17812    19456    30305    41471    39456  \n",
       "848      473      704     2382     2791     1820  \n",
       "\n",
       "[849 rows x 21 columns]"
      ]
     },
     "execution_count": 22,
     "metadata": {},
     "output_type": "execute_result"
    }
   ],
   "source": [
    "cursor.execute(\"select * from crime_age_before\")\n",
    "\n",
    "age = cursor.fetchall()\n",
    "age_df_start = pd.DataFrame(age)\n",
    "age_df_start"
   ]
  },
  {
   "cell_type": "code",
   "execution_count": 23,
   "metadata": {},
   "outputs": [
    {
     "data": {
      "text/html": [
       "<div>\n",
       "<style scoped>\n",
       "    .dataframe tbody tr th:only-of-type {\n",
       "        vertical-align: middle;\n",
       "    }\n",
       "\n",
       "    .dataframe tbody tr th {\n",
       "        vertical-align: top;\n",
       "    }\n",
       "\n",
       "    .dataframe thead th {\n",
       "        text-align: right;\n",
       "    }\n",
       "</style>\n",
       "<table border=\"1\" class=\"dataframe\">\n",
       "  <thead>\n",
       "    <tr style=\"text-align: right;\">\n",
       "      <th></th>\n",
       "      <th>대</th>\n",
       "      <th>중</th>\n",
       "      <th>소</th>\n",
       "      <th>연령별</th>\n",
       "      <th>1994년</th>\n",
       "      <th>1995년</th>\n",
       "      <th>1996년</th>\n",
       "      <th>1997년</th>\n",
       "      <th>1998년</th>\n",
       "      <th>1999년</th>\n",
       "      <th>...</th>\n",
       "      <th>2001년</th>\n",
       "      <th>2002년</th>\n",
       "      <th>2003년</th>\n",
       "      <th>2004년</th>\n",
       "      <th>2005년</th>\n",
       "      <th>2006년</th>\n",
       "      <th>2007년</th>\n",
       "      <th>2008년</th>\n",
       "      <th>2009년</th>\n",
       "      <th>2010년</th>\n",
       "    </tr>\n",
       "  </thead>\n",
       "  <tbody>\n",
       "    <tr>\n",
       "      <th>0</th>\n",
       "      <td>형법범</td>\n",
       "      <td>폭력범</td>\n",
       "      <td>소계</td>\n",
       "      <td>미성년</td>\n",
       "      <td>40611</td>\n",
       "      <td>47317</td>\n",
       "      <td>47735</td>\n",
       "      <td>56747</td>\n",
       "      <td>52111</td>\n",
       "      <td>52205</td>\n",
       "      <td>...</td>\n",
       "      <td>49410</td>\n",
       "      <td>37375</td>\n",
       "      <td>31510</td>\n",
       "      <td>27424</td>\n",
       "      <td>26635</td>\n",
       "      <td>27223</td>\n",
       "      <td>32265</td>\n",
       "      <td>30294</td>\n",
       "      <td>30241</td>\n",
       "      <td>24578</td>\n",
       "    </tr>\n",
       "    <tr>\n",
       "      <th>1</th>\n",
       "      <td>형법범</td>\n",
       "      <td>폭력범</td>\n",
       "      <td>소계</td>\n",
       "      <td>14세미만</td>\n",
       "      <td>483</td>\n",
       "      <td>376</td>\n",
       "      <td>426</td>\n",
       "      <td>369</td>\n",
       "      <td>305</td>\n",
       "      <td>321</td>\n",
       "      <td>...</td>\n",
       "      <td>345</td>\n",
       "      <td>361</td>\n",
       "      <td>350</td>\n",
       "      <td>326</td>\n",
       "      <td>428</td>\n",
       "      <td>396</td>\n",
       "      <td>646</td>\n",
       "      <td>597</td>\n",
       "      <td>273</td>\n",
       "      <td>133</td>\n",
       "    </tr>\n",
       "    <tr>\n",
       "      <th>2</th>\n",
       "      <td>형법범</td>\n",
       "      <td>폭력범</td>\n",
       "      <td>소계</td>\n",
       "      <td>성인</td>\n",
       "      <td>290172</td>\n",
       "      <td>277499</td>\n",
       "      <td>288029</td>\n",
       "      <td>292906</td>\n",
       "      <td>334480</td>\n",
       "      <td>420955</td>\n",
       "      <td>...</td>\n",
       "      <td>462869</td>\n",
       "      <td>398113</td>\n",
       "      <td>402128</td>\n",
       "      <td>410404</td>\n",
       "      <td>400788</td>\n",
       "      <td>396763</td>\n",
       "      <td>413009</td>\n",
       "      <td>419512</td>\n",
       "      <td>415786</td>\n",
       "      <td>370120</td>\n",
       "    </tr>\n",
       "    <tr>\n",
       "      <th>3</th>\n",
       "      <td>형법범</td>\n",
       "      <td>폭력범</td>\n",
       "      <td>소계</td>\n",
       "      <td>미상</td>\n",
       "      <td>1964</td>\n",
       "      <td>248</td>\n",
       "      <td>330</td>\n",
       "      <td>368</td>\n",
       "      <td>688</td>\n",
       "      <td>1893</td>\n",
       "      <td>...</td>\n",
       "      <td>1656</td>\n",
       "      <td>1427</td>\n",
       "      <td>2026</td>\n",
       "      <td>14725</td>\n",
       "      <td>8342</td>\n",
       "      <td>5742</td>\n",
       "      <td>5360</td>\n",
       "      <td>4836</td>\n",
       "      <td>4718</td>\n",
       "      <td>4486</td>\n",
       "    </tr>\n",
       "  </tbody>\n",
       "</table>\n",
       "<p>4 rows × 21 columns</p>\n",
       "</div>"
      ],
      "text/plain": [
       "     대    중   소    연령별   1994년   1995년   1996년   1997년   1998년   1999년  ...  \\\n",
       "0  형법범  폭력범  소계    미성년   40611   47317   47735   56747   52111   52205  ...   \n",
       "1  형법범  폭력범  소계  14세미만     483     376     426     369     305     321  ...   \n",
       "2  형법범  폭력범  소계     성인  290172  277499  288029  292906  334480  420955  ...   \n",
       "3  형법범  폭력범  소계     미상    1964     248     330     368     688    1893  ...   \n",
       "\n",
       "    2001년   2002년   2003년   2004년   2005년   2006년   2007년   2008년   2009년  \\\n",
       "0   49410   37375   31510   27424   26635   27223   32265   30294   30241   \n",
       "1     345     361     350     326     428     396     646     597     273   \n",
       "2  462869  398113  402128  410404  400788  396763  413009  419512  415786   \n",
       "3    1656    1427    2026   14725    8342    5742    5360    4836    4718   \n",
       "\n",
       "    2010년  \n",
       "0   24578  \n",
       "1     133  \n",
       "2  370120  \n",
       "3    4486  \n",
       "\n",
       "[4 rows x 21 columns]"
      ]
     },
     "execution_count": 23,
     "metadata": {},
     "output_type": "execute_result"
    }
   ],
   "source": [
    "age_df = age_df_start[age_df_start[\"중\"] == \"폭력범\"]\n",
    "age_df.reset_index(inplace=True, drop=True)\n",
    "age_df"
   ]
  },
  {
   "cell_type": "code",
   "execution_count": 24,
   "metadata": {},
   "outputs": [
    {
     "data": {
      "text/html": [
       "<div>\n",
       "<style scoped>\n",
       "    .dataframe tbody tr th:only-of-type {\n",
       "        vertical-align: middle;\n",
       "    }\n",
       "\n",
       "    .dataframe tbody tr th {\n",
       "        vertical-align: top;\n",
       "    }\n",
       "\n",
       "    .dataframe thead th {\n",
       "        text-align: right;\n",
       "    }\n",
       "</style>\n",
       "<table border=\"1\" class=\"dataframe\">\n",
       "  <thead>\n",
       "    <tr style=\"text-align: right;\">\n",
       "      <th></th>\n",
       "      <th>중</th>\n",
       "      <th>소</th>\n",
       "      <th>연령별</th>\n",
       "      <th>1994년</th>\n",
       "      <th>1995년</th>\n",
       "      <th>1996년</th>\n",
       "      <th>1997년</th>\n",
       "      <th>1998년</th>\n",
       "      <th>1999년</th>\n",
       "      <th>2000년</th>\n",
       "      <th>2001년</th>\n",
       "      <th>2002년</th>\n",
       "      <th>2003년</th>\n",
       "      <th>2004년</th>\n",
       "      <th>2005년</th>\n",
       "      <th>2006년</th>\n",
       "      <th>2007년</th>\n",
       "      <th>2008년</th>\n",
       "      <th>2009년</th>\n",
       "      <th>2010년</th>\n",
       "    </tr>\n",
       "  </thead>\n",
       "  <tbody>\n",
       "    <tr>\n",
       "      <th>0</th>\n",
       "      <td>폭력범</td>\n",
       "      <td>소계</td>\n",
       "      <td>미성년</td>\n",
       "      <td>40611</td>\n",
       "      <td>47317</td>\n",
       "      <td>47735</td>\n",
       "      <td>56747</td>\n",
       "      <td>52111</td>\n",
       "      <td>52205</td>\n",
       "      <td>54178</td>\n",
       "      <td>49410</td>\n",
       "      <td>37375</td>\n",
       "      <td>31510</td>\n",
       "      <td>27424</td>\n",
       "      <td>26635</td>\n",
       "      <td>27223</td>\n",
       "      <td>32265</td>\n",
       "      <td>30294</td>\n",
       "      <td>30241</td>\n",
       "      <td>24578</td>\n",
       "    </tr>\n",
       "    <tr>\n",
       "      <th>1</th>\n",
       "      <td>폭력범</td>\n",
       "      <td>소계</td>\n",
       "      <td>14세미만</td>\n",
       "      <td>483</td>\n",
       "      <td>376</td>\n",
       "      <td>426</td>\n",
       "      <td>369</td>\n",
       "      <td>305</td>\n",
       "      <td>321</td>\n",
       "      <td>353</td>\n",
       "      <td>345</td>\n",
       "      <td>361</td>\n",
       "      <td>350</td>\n",
       "      <td>326</td>\n",
       "      <td>428</td>\n",
       "      <td>396</td>\n",
       "      <td>646</td>\n",
       "      <td>597</td>\n",
       "      <td>273</td>\n",
       "      <td>133</td>\n",
       "    </tr>\n",
       "    <tr>\n",
       "      <th>2</th>\n",
       "      <td>폭력범</td>\n",
       "      <td>소계</td>\n",
       "      <td>성인</td>\n",
       "      <td>290172</td>\n",
       "      <td>277499</td>\n",
       "      <td>288029</td>\n",
       "      <td>292906</td>\n",
       "      <td>334480</td>\n",
       "      <td>420955</td>\n",
       "      <td>462110</td>\n",
       "      <td>462869</td>\n",
       "      <td>398113</td>\n",
       "      <td>402128</td>\n",
       "      <td>410404</td>\n",
       "      <td>400788</td>\n",
       "      <td>396763</td>\n",
       "      <td>413009</td>\n",
       "      <td>419512</td>\n",
       "      <td>415786</td>\n",
       "      <td>370120</td>\n",
       "    </tr>\n",
       "    <tr>\n",
       "      <th>3</th>\n",
       "      <td>폭력범</td>\n",
       "      <td>소계</td>\n",
       "      <td>미상</td>\n",
       "      <td>1964</td>\n",
       "      <td>248</td>\n",
       "      <td>330</td>\n",
       "      <td>368</td>\n",
       "      <td>688</td>\n",
       "      <td>1893</td>\n",
       "      <td>1333</td>\n",
       "      <td>1656</td>\n",
       "      <td>1427</td>\n",
       "      <td>2026</td>\n",
       "      <td>14725</td>\n",
       "      <td>8342</td>\n",
       "      <td>5742</td>\n",
       "      <td>5360</td>\n",
       "      <td>4836</td>\n",
       "      <td>4718</td>\n",
       "      <td>4486</td>\n",
       "    </tr>\n",
       "  </tbody>\n",
       "</table>\n",
       "</div>"
      ],
      "text/plain": [
       "     중   소    연령별   1994년   1995년   1996년   1997년   1998년   1999년   2000년  \\\n",
       "0  폭력범  소계    미성년   40611   47317   47735   56747   52111   52205   54178   \n",
       "1  폭력범  소계  14세미만     483     376     426     369     305     321     353   \n",
       "2  폭력범  소계     성인  290172  277499  288029  292906  334480  420955  462110   \n",
       "3  폭력범  소계     미상    1964     248     330     368     688    1893    1333   \n",
       "\n",
       "    2001년   2002년   2003년   2004년   2005년   2006년   2007년   2008년   2009년  \\\n",
       "0   49410   37375   31510   27424   26635   27223   32265   30294   30241   \n",
       "1     345     361     350     326     428     396     646     597     273   \n",
       "2  462869  398113  402128  410404  400788  396763  413009  419512  415786   \n",
       "3    1656    1427    2026   14725    8342    5742    5360    4836    4718   \n",
       "\n",
       "    2010년  \n",
       "0   24578  \n",
       "1     133  \n",
       "2  370120  \n",
       "3    4486  "
      ]
     },
     "execution_count": 24,
     "metadata": {},
     "output_type": "execute_result"
    }
   ],
   "source": [
    "age_df_total = age_df[age_df[\"소\"] == \"소계\"]\n",
    "age_df_total.drop(columns=\"대\", inplace=True)\n",
    "age_df_total.reset_index(inplace=True, drop=True)\n",
    "age_df_total"
   ]
  },
  {
   "cell_type": "code",
   "execution_count": 25,
   "metadata": {},
   "outputs": [
    {
     "data": {
      "application/vnd.plotly.v1+json": {
       "config": {
        "plotlyServerURL": "https://plot.ly"
       },
       "data": [
        {
         "hovertemplate": "연령별=미성년<br>년도=%{x}<br>발생건수=%{y}<extra></extra>",
         "legendgroup": "미성년",
         "line": {
          "color": "#636efa",
          "dash": "solid"
         },
         "marker": {
          "symbol": "circle"
         },
         "mode": "lines+markers",
         "name": "미성년",
         "orientation": "v",
         "showlegend": true,
         "type": "scatter",
         "x": [
          "1994년",
          "1995년",
          "1996년",
          "1997년",
          "1998년",
          "1999년",
          "2000년",
          "2001년",
          "2002년",
          "2003년",
          "2004년",
          "2005년",
          "2006년",
          "2007년",
          "2008년",
          "2009년",
          "2010년"
         ],
         "xaxis": "x",
         "y": [
          40611,
          47317,
          47735,
          56747,
          52111,
          52205,
          54178,
          49410,
          37375,
          31510,
          27424,
          26635,
          27223,
          32265,
          30294,
          30241,
          24578
         ],
         "yaxis": "y"
        },
        {
         "hovertemplate": "연령별=14세미만<br>년도=%{x}<br>발생건수=%{y}<extra></extra>",
         "legendgroup": "14세미만",
         "line": {
          "color": "#EF553B",
          "dash": "solid"
         },
         "marker": {
          "symbol": "circle"
         },
         "mode": "lines+markers",
         "name": "14세미만",
         "orientation": "v",
         "showlegend": true,
         "type": "scatter",
         "x": [
          "1994년",
          "1995년",
          "1996년",
          "1997년",
          "1998년",
          "1999년",
          "2000년",
          "2001년",
          "2002년",
          "2003년",
          "2004년",
          "2005년",
          "2006년",
          "2007년",
          "2008년",
          "2009년",
          "2010년"
         ],
         "xaxis": "x",
         "y": [
          483,
          376,
          426,
          369,
          305,
          321,
          353,
          345,
          361,
          350,
          326,
          428,
          396,
          646,
          597,
          273,
          133
         ],
         "yaxis": "y"
        },
        {
         "hovertemplate": "연령별=성인<br>년도=%{x}<br>발생건수=%{y}<extra></extra>",
         "legendgroup": "성인",
         "line": {
          "color": "#00cc96",
          "dash": "solid"
         },
         "marker": {
          "symbol": "circle"
         },
         "mode": "lines+markers",
         "name": "성인",
         "orientation": "v",
         "showlegend": true,
         "type": "scatter",
         "x": [
          "1994년",
          "1995년",
          "1996년",
          "1997년",
          "1998년",
          "1999년",
          "2000년",
          "2001년",
          "2002년",
          "2003년",
          "2004년",
          "2005년",
          "2006년",
          "2007년",
          "2008년",
          "2009년",
          "2010년"
         ],
         "xaxis": "x",
         "y": [
          290172,
          277499,
          288029,
          292906,
          334480,
          420955,
          462110,
          462869,
          398113,
          402128,
          410404,
          400788,
          396763,
          413009,
          419512,
          415786,
          370120
         ],
         "yaxis": "y"
        },
        {
         "hovertemplate": "연령별=미상<br>년도=%{x}<br>발생건수=%{y}<extra></extra>",
         "legendgroup": "미상",
         "line": {
          "color": "#ab63fa",
          "dash": "solid"
         },
         "marker": {
          "symbol": "circle"
         },
         "mode": "lines+markers",
         "name": "미상",
         "orientation": "v",
         "showlegend": true,
         "type": "scatter",
         "x": [
          "1994년",
          "1995년",
          "1996년",
          "1997년",
          "1998년",
          "1999년",
          "2000년",
          "2001년",
          "2002년",
          "2003년",
          "2004년",
          "2005년",
          "2006년",
          "2007년",
          "2008년",
          "2009년",
          "2010년"
         ],
         "xaxis": "x",
         "y": [
          1964,
          248,
          330,
          368,
          688,
          1893,
          1333,
          1656,
          1427,
          2026,
          14725,
          8342,
          5742,
          5360,
          4836,
          4718,
          4486
         ],
         "yaxis": "y"
        }
       ],
       "layout": {
        "legend": {
         "title": {
          "text": "연령별"
         },
         "tracegroupgap": 0
        },
        "template": {
         "data": {
          "bar": [
           {
            "error_x": {
             "color": "#2a3f5f"
            },
            "error_y": {
             "color": "#2a3f5f"
            },
            "marker": {
             "line": {
              "color": "#E5ECF6",
              "width": 0.5
             },
             "pattern": {
              "fillmode": "overlay",
              "size": 10,
              "solidity": 0.2
             }
            },
            "type": "bar"
           }
          ],
          "barpolar": [
           {
            "marker": {
             "line": {
              "color": "#E5ECF6",
              "width": 0.5
             },
             "pattern": {
              "fillmode": "overlay",
              "size": 10,
              "solidity": 0.2
             }
            },
            "type": "barpolar"
           }
          ],
          "carpet": [
           {
            "aaxis": {
             "endlinecolor": "#2a3f5f",
             "gridcolor": "white",
             "linecolor": "white",
             "minorgridcolor": "white",
             "startlinecolor": "#2a3f5f"
            },
            "baxis": {
             "endlinecolor": "#2a3f5f",
             "gridcolor": "white",
             "linecolor": "white",
             "minorgridcolor": "white",
             "startlinecolor": "#2a3f5f"
            },
            "type": "carpet"
           }
          ],
          "choropleth": [
           {
            "colorbar": {
             "outlinewidth": 0,
             "ticks": ""
            },
            "type": "choropleth"
           }
          ],
          "contour": [
           {
            "colorbar": {
             "outlinewidth": 0,
             "ticks": ""
            },
            "colorscale": [
             [
              0,
              "#0d0887"
             ],
             [
              0.1111111111111111,
              "#46039f"
             ],
             [
              0.2222222222222222,
              "#7201a8"
             ],
             [
              0.3333333333333333,
              "#9c179e"
             ],
             [
              0.4444444444444444,
              "#bd3786"
             ],
             [
              0.5555555555555556,
              "#d8576b"
             ],
             [
              0.6666666666666666,
              "#ed7953"
             ],
             [
              0.7777777777777778,
              "#fb9f3a"
             ],
             [
              0.8888888888888888,
              "#fdca26"
             ],
             [
              1,
              "#f0f921"
             ]
            ],
            "type": "contour"
           }
          ],
          "contourcarpet": [
           {
            "colorbar": {
             "outlinewidth": 0,
             "ticks": ""
            },
            "type": "contourcarpet"
           }
          ],
          "heatmap": [
           {
            "colorbar": {
             "outlinewidth": 0,
             "ticks": ""
            },
            "colorscale": [
             [
              0,
              "#0d0887"
             ],
             [
              0.1111111111111111,
              "#46039f"
             ],
             [
              0.2222222222222222,
              "#7201a8"
             ],
             [
              0.3333333333333333,
              "#9c179e"
             ],
             [
              0.4444444444444444,
              "#bd3786"
             ],
             [
              0.5555555555555556,
              "#d8576b"
             ],
             [
              0.6666666666666666,
              "#ed7953"
             ],
             [
              0.7777777777777778,
              "#fb9f3a"
             ],
             [
              0.8888888888888888,
              "#fdca26"
             ],
             [
              1,
              "#f0f921"
             ]
            ],
            "type": "heatmap"
           }
          ],
          "heatmapgl": [
           {
            "colorbar": {
             "outlinewidth": 0,
             "ticks": ""
            },
            "colorscale": [
             [
              0,
              "#0d0887"
             ],
             [
              0.1111111111111111,
              "#46039f"
             ],
             [
              0.2222222222222222,
              "#7201a8"
             ],
             [
              0.3333333333333333,
              "#9c179e"
             ],
             [
              0.4444444444444444,
              "#bd3786"
             ],
             [
              0.5555555555555556,
              "#d8576b"
             ],
             [
              0.6666666666666666,
              "#ed7953"
             ],
             [
              0.7777777777777778,
              "#fb9f3a"
             ],
             [
              0.8888888888888888,
              "#fdca26"
             ],
             [
              1,
              "#f0f921"
             ]
            ],
            "type": "heatmapgl"
           }
          ],
          "histogram": [
           {
            "marker": {
             "pattern": {
              "fillmode": "overlay",
              "size": 10,
              "solidity": 0.2
             }
            },
            "type": "histogram"
           }
          ],
          "histogram2d": [
           {
            "colorbar": {
             "outlinewidth": 0,
             "ticks": ""
            },
            "colorscale": [
             [
              0,
              "#0d0887"
             ],
             [
              0.1111111111111111,
              "#46039f"
             ],
             [
              0.2222222222222222,
              "#7201a8"
             ],
             [
              0.3333333333333333,
              "#9c179e"
             ],
             [
              0.4444444444444444,
              "#bd3786"
             ],
             [
              0.5555555555555556,
              "#d8576b"
             ],
             [
              0.6666666666666666,
              "#ed7953"
             ],
             [
              0.7777777777777778,
              "#fb9f3a"
             ],
             [
              0.8888888888888888,
              "#fdca26"
             ],
             [
              1,
              "#f0f921"
             ]
            ],
            "type": "histogram2d"
           }
          ],
          "histogram2dcontour": [
           {
            "colorbar": {
             "outlinewidth": 0,
             "ticks": ""
            },
            "colorscale": [
             [
              0,
              "#0d0887"
             ],
             [
              0.1111111111111111,
              "#46039f"
             ],
             [
              0.2222222222222222,
              "#7201a8"
             ],
             [
              0.3333333333333333,
              "#9c179e"
             ],
             [
              0.4444444444444444,
              "#bd3786"
             ],
             [
              0.5555555555555556,
              "#d8576b"
             ],
             [
              0.6666666666666666,
              "#ed7953"
             ],
             [
              0.7777777777777778,
              "#fb9f3a"
             ],
             [
              0.8888888888888888,
              "#fdca26"
             ],
             [
              1,
              "#f0f921"
             ]
            ],
            "type": "histogram2dcontour"
           }
          ],
          "mesh3d": [
           {
            "colorbar": {
             "outlinewidth": 0,
             "ticks": ""
            },
            "type": "mesh3d"
           }
          ],
          "parcoords": [
           {
            "line": {
             "colorbar": {
              "outlinewidth": 0,
              "ticks": ""
             }
            },
            "type": "parcoords"
           }
          ],
          "pie": [
           {
            "automargin": true,
            "type": "pie"
           }
          ],
          "scatter": [
           {
            "fillpattern": {
             "fillmode": "overlay",
             "size": 10,
             "solidity": 0.2
            },
            "type": "scatter"
           }
          ],
          "scatter3d": [
           {
            "line": {
             "colorbar": {
              "outlinewidth": 0,
              "ticks": ""
             }
            },
            "marker": {
             "colorbar": {
              "outlinewidth": 0,
              "ticks": ""
             }
            },
            "type": "scatter3d"
           }
          ],
          "scattercarpet": [
           {
            "marker": {
             "colorbar": {
              "outlinewidth": 0,
              "ticks": ""
             }
            },
            "type": "scattercarpet"
           }
          ],
          "scattergeo": [
           {
            "marker": {
             "colorbar": {
              "outlinewidth": 0,
              "ticks": ""
             }
            },
            "type": "scattergeo"
           }
          ],
          "scattergl": [
           {
            "marker": {
             "colorbar": {
              "outlinewidth": 0,
              "ticks": ""
             }
            },
            "type": "scattergl"
           }
          ],
          "scattermapbox": [
           {
            "marker": {
             "colorbar": {
              "outlinewidth": 0,
              "ticks": ""
             }
            },
            "type": "scattermapbox"
           }
          ],
          "scatterpolar": [
           {
            "marker": {
             "colorbar": {
              "outlinewidth": 0,
              "ticks": ""
             }
            },
            "type": "scatterpolar"
           }
          ],
          "scatterpolargl": [
           {
            "marker": {
             "colorbar": {
              "outlinewidth": 0,
              "ticks": ""
             }
            },
            "type": "scatterpolargl"
           }
          ],
          "scatterternary": [
           {
            "marker": {
             "colorbar": {
              "outlinewidth": 0,
              "ticks": ""
             }
            },
            "type": "scatterternary"
           }
          ],
          "surface": [
           {
            "colorbar": {
             "outlinewidth": 0,
             "ticks": ""
            },
            "colorscale": [
             [
              0,
              "#0d0887"
             ],
             [
              0.1111111111111111,
              "#46039f"
             ],
             [
              0.2222222222222222,
              "#7201a8"
             ],
             [
              0.3333333333333333,
              "#9c179e"
             ],
             [
              0.4444444444444444,
              "#bd3786"
             ],
             [
              0.5555555555555556,
              "#d8576b"
             ],
             [
              0.6666666666666666,
              "#ed7953"
             ],
             [
              0.7777777777777778,
              "#fb9f3a"
             ],
             [
              0.8888888888888888,
              "#fdca26"
             ],
             [
              1,
              "#f0f921"
             ]
            ],
            "type": "surface"
           }
          ],
          "table": [
           {
            "cells": {
             "fill": {
              "color": "#EBF0F8"
             },
             "line": {
              "color": "white"
             }
            },
            "header": {
             "fill": {
              "color": "#C8D4E3"
             },
             "line": {
              "color": "white"
             }
            },
            "type": "table"
           }
          ]
         },
         "layout": {
          "annotationdefaults": {
           "arrowcolor": "#2a3f5f",
           "arrowhead": 0,
           "arrowwidth": 1
          },
          "autotypenumbers": "strict",
          "coloraxis": {
           "colorbar": {
            "outlinewidth": 0,
            "ticks": ""
           }
          },
          "colorscale": {
           "diverging": [
            [
             0,
             "#8e0152"
            ],
            [
             0.1,
             "#c51b7d"
            ],
            [
             0.2,
             "#de77ae"
            ],
            [
             0.3,
             "#f1b6da"
            ],
            [
             0.4,
             "#fde0ef"
            ],
            [
             0.5,
             "#f7f7f7"
            ],
            [
             0.6,
             "#e6f5d0"
            ],
            [
             0.7,
             "#b8e186"
            ],
            [
             0.8,
             "#7fbc41"
            ],
            [
             0.9,
             "#4d9221"
            ],
            [
             1,
             "#276419"
            ]
           ],
           "sequential": [
            [
             0,
             "#0d0887"
            ],
            [
             0.1111111111111111,
             "#46039f"
            ],
            [
             0.2222222222222222,
             "#7201a8"
            ],
            [
             0.3333333333333333,
             "#9c179e"
            ],
            [
             0.4444444444444444,
             "#bd3786"
            ],
            [
             0.5555555555555556,
             "#d8576b"
            ],
            [
             0.6666666666666666,
             "#ed7953"
            ],
            [
             0.7777777777777778,
             "#fb9f3a"
            ],
            [
             0.8888888888888888,
             "#fdca26"
            ],
            [
             1,
             "#f0f921"
            ]
           ],
           "sequentialminus": [
            [
             0,
             "#0d0887"
            ],
            [
             0.1111111111111111,
             "#46039f"
            ],
            [
             0.2222222222222222,
             "#7201a8"
            ],
            [
             0.3333333333333333,
             "#9c179e"
            ],
            [
             0.4444444444444444,
             "#bd3786"
            ],
            [
             0.5555555555555556,
             "#d8576b"
            ],
            [
             0.6666666666666666,
             "#ed7953"
            ],
            [
             0.7777777777777778,
             "#fb9f3a"
            ],
            [
             0.8888888888888888,
             "#fdca26"
            ],
            [
             1,
             "#f0f921"
            ]
           ]
          },
          "colorway": [
           "#636efa",
           "#EF553B",
           "#00cc96",
           "#ab63fa",
           "#FFA15A",
           "#19d3f3",
           "#FF6692",
           "#B6E880",
           "#FF97FF",
           "#FECB52"
          ],
          "font": {
           "color": "#2a3f5f"
          },
          "geo": {
           "bgcolor": "white",
           "lakecolor": "white",
           "landcolor": "#E5ECF6",
           "showlakes": true,
           "showland": true,
           "subunitcolor": "white"
          },
          "hoverlabel": {
           "align": "left"
          },
          "hovermode": "closest",
          "mapbox": {
           "style": "light"
          },
          "paper_bgcolor": "white",
          "plot_bgcolor": "#E5ECF6",
          "polar": {
           "angularaxis": {
            "gridcolor": "white",
            "linecolor": "white",
            "ticks": ""
           },
           "bgcolor": "#E5ECF6",
           "radialaxis": {
            "gridcolor": "white",
            "linecolor": "white",
            "ticks": ""
           }
          },
          "scene": {
           "xaxis": {
            "backgroundcolor": "#E5ECF6",
            "gridcolor": "white",
            "gridwidth": 2,
            "linecolor": "white",
            "showbackground": true,
            "ticks": "",
            "zerolinecolor": "white"
           },
           "yaxis": {
            "backgroundcolor": "#E5ECF6",
            "gridcolor": "white",
            "gridwidth": 2,
            "linecolor": "white",
            "showbackground": true,
            "ticks": "",
            "zerolinecolor": "white"
           },
           "zaxis": {
            "backgroundcolor": "#E5ECF6",
            "gridcolor": "white",
            "gridwidth": 2,
            "linecolor": "white",
            "showbackground": true,
            "ticks": "",
            "zerolinecolor": "white"
           }
          },
          "shapedefaults": {
           "line": {
            "color": "#2a3f5f"
           }
          },
          "ternary": {
           "aaxis": {
            "gridcolor": "white",
            "linecolor": "white",
            "ticks": ""
           },
           "baxis": {
            "gridcolor": "white",
            "linecolor": "white",
            "ticks": ""
           },
           "bgcolor": "#E5ECF6",
           "caxis": {
            "gridcolor": "white",
            "linecolor": "white",
            "ticks": ""
           }
          },
          "title": {
           "x": 0.05
          },
          "xaxis": {
           "automargin": true,
           "gridcolor": "white",
           "linecolor": "white",
           "ticks": "",
           "title": {
            "standoff": 15
           },
           "zerolinecolor": "white",
           "zerolinewidth": 2
          },
          "yaxis": {
           "automargin": true,
           "gridcolor": "white",
           "linecolor": "white",
           "ticks": "",
           "title": {
            "standoff": 15
           },
           "zerolinecolor": "white",
           "zerolinewidth": 2
          }
         }
        },
        "title": {
         "text": "[ 연령별 발생한 폭력범 건수 ]"
        },
        "xaxis": {
         "anchor": "y",
         "domain": [
          0,
          1
         ],
         "title": {
          "text": "년도"
         }
        },
        "yaxis": {
         "anchor": "x",
         "domain": [
          0,
          1
         ],
         "title": {
          "text": "발생건수"
         }
        }
       }
      }
     },
     "metadata": {},
     "output_type": "display_data"
    }
   ],
   "source": [
    "df_melted = age_df_total.melt(id_vars=[\"중\", \"소\", \"연령별\"], var_name=\"년도\", value_name=\"발생건수\")\n",
    "\n",
    "fig = px.line(df_melted, x=\"년도\", y=\"발생건수\", color=\"연령별\", title=\"[ 연령별 발생한 폭력범 건수 ]\", markers=True)\n",
    "fig.show()"
   ]
  },
  {
   "cell_type": "markdown",
   "metadata": {},
   "source": [
    "##### [ 범죄동기 ]"
   ]
  },
  {
   "cell_type": "code",
   "execution_count": 26,
   "metadata": {},
   "outputs": [
    {
     "data": {
      "text/html": [
       "<div>\n",
       "<style scoped>\n",
       "    .dataframe tbody tr th:only-of-type {\n",
       "        vertical-align: middle;\n",
       "    }\n",
       "\n",
       "    .dataframe tbody tr th {\n",
       "        vertical-align: top;\n",
       "    }\n",
       "\n",
       "    .dataframe thead th {\n",
       "        text-align: right;\n",
       "    }\n",
       "</style>\n",
       "<table border=\"1\" class=\"dataframe\">\n",
       "  <thead>\n",
       "    <tr style=\"text-align: right;\">\n",
       "      <th></th>\n",
       "      <th>대</th>\n",
       "      <th>중</th>\n",
       "      <th>소</th>\n",
       "      <th>범행동기</th>\n",
       "      <th>1994년</th>\n",
       "      <th>1995년</th>\n",
       "      <th>1996년</th>\n",
       "      <th>1997년</th>\n",
       "      <th>1998년</th>\n",
       "      <th>1999년</th>\n",
       "      <th>...</th>\n",
       "      <th>2001년</th>\n",
       "      <th>2002년</th>\n",
       "      <th>2003년</th>\n",
       "      <th>2004년</th>\n",
       "      <th>2005년</th>\n",
       "      <th>2006년</th>\n",
       "      <th>2007년</th>\n",
       "      <th>2008년</th>\n",
       "      <th>2009년</th>\n",
       "      <th>2010년</th>\n",
       "    </tr>\n",
       "  </thead>\n",
       "  <tbody>\n",
       "    <tr>\n",
       "      <th>0</th>\n",
       "      <td>총범죄</td>\n",
       "      <td>소계</td>\n",
       "      <td>소계</td>\n",
       "      <td>이욕</td>\n",
       "      <td>184442</td>\n",
       "      <td>187138</td>\n",
       "      <td>191339</td>\n",
       "      <td>185785</td>\n",
       "      <td>226853</td>\n",
       "      <td>241986</td>\n",
       "      <td>...</td>\n",
       "      <td>220235</td>\n",
       "      <td>213188</td>\n",
       "      <td>217442</td>\n",
       "      <td>83540</td>\n",
       "      <td>73513</td>\n",
       "      <td>79960</td>\n",
       "      <td>83286</td>\n",
       "      <td>102075</td>\n",
       "      <td>124558</td>\n",
       "      <td>290974</td>\n",
       "    </tr>\n",
       "    <tr>\n",
       "      <th>1</th>\n",
       "      <td>총범죄</td>\n",
       "      <td>소계</td>\n",
       "      <td>소계</td>\n",
       "      <td>사행심</td>\n",
       "      <td>18824</td>\n",
       "      <td>20298</td>\n",
       "      <td>21047</td>\n",
       "      <td>21898</td>\n",
       "      <td>21103</td>\n",
       "      <td>21500</td>\n",
       "      <td>...</td>\n",
       "      <td>13858</td>\n",
       "      <td>20796</td>\n",
       "      <td>16405</td>\n",
       "      <td>26061</td>\n",
       "      <td>22196</td>\n",
       "      <td>31133</td>\n",
       "      <td>26597</td>\n",
       "      <td>31240</td>\n",
       "      <td>42330</td>\n",
       "      <td>562</td>\n",
       "    </tr>\n",
       "    <tr>\n",
       "      <th>2</th>\n",
       "      <td>총범죄</td>\n",
       "      <td>소계</td>\n",
       "      <td>소계</td>\n",
       "      <td>보복</td>\n",
       "      <td>6123</td>\n",
       "      <td>4789</td>\n",
       "      <td>4711</td>\n",
       "      <td>5733</td>\n",
       "      <td>5129</td>\n",
       "      <td>5323</td>\n",
       "      <td>...</td>\n",
       "      <td>4881</td>\n",
       "      <td>4264</td>\n",
       "      <td>3347</td>\n",
       "      <td>5543</td>\n",
       "      <td>4781</td>\n",
       "      <td>4421</td>\n",
       "      <td>4438</td>\n",
       "      <td>2081</td>\n",
       "      <td>1432</td>\n",
       "      <td>26164</td>\n",
       "    </tr>\n",
       "    <tr>\n",
       "      <th>3</th>\n",
       "      <td>총범죄</td>\n",
       "      <td>소계</td>\n",
       "      <td>소계</td>\n",
       "      <td>가정불화</td>\n",
       "      <td>5820</td>\n",
       "      <td>4479</td>\n",
       "      <td>4340</td>\n",
       "      <td>3679</td>\n",
       "      <td>6131</td>\n",
       "      <td>11404</td>\n",
       "      <td>...</td>\n",
       "      <td>12076</td>\n",
       "      <td>9976</td>\n",
       "      <td>10686</td>\n",
       "      <td>10636</td>\n",
       "      <td>8693</td>\n",
       "      <td>7890</td>\n",
       "      <td>7286</td>\n",
       "      <td>5469</td>\n",
       "      <td>4159</td>\n",
       "      <td>5348</td>\n",
       "    </tr>\n",
       "    <tr>\n",
       "      <th>4</th>\n",
       "      <td>총범죄</td>\n",
       "      <td>소계</td>\n",
       "      <td>소계</td>\n",
       "      <td>호기심</td>\n",
       "      <td>15272</td>\n",
       "      <td>17840</td>\n",
       "      <td>26890</td>\n",
       "      <td>32307</td>\n",
       "      <td>24490</td>\n",
       "      <td>14962</td>\n",
       "      <td>...</td>\n",
       "      <td>17429</td>\n",
       "      <td>17110</td>\n",
       "      <td>13504</td>\n",
       "      <td>15828</td>\n",
       "      <td>17762</td>\n",
       "      <td>25468</td>\n",
       "      <td>30557</td>\n",
       "      <td>33906</td>\n",
       "      <td>49894</td>\n",
       "      <td>25851</td>\n",
       "    </tr>\n",
       "    <tr>\n",
       "      <th>...</th>\n",
       "      <td>...</td>\n",
       "      <td>...</td>\n",
       "      <td>...</td>\n",
       "      <td>...</td>\n",
       "      <td>...</td>\n",
       "      <td>...</td>\n",
       "      <td>...</td>\n",
       "      <td>...</td>\n",
       "      <td>...</td>\n",
       "      <td>...</td>\n",
       "      <td>...</td>\n",
       "      <td>...</td>\n",
       "      <td>...</td>\n",
       "      <td>...</td>\n",
       "      <td>...</td>\n",
       "      <td>...</td>\n",
       "      <td>...</td>\n",
       "      <td>...</td>\n",
       "      <td>...</td>\n",
       "      <td>...</td>\n",
       "      <td>...</td>\n",
       "    </tr>\n",
       "    <tr>\n",
       "      <th>2174</th>\n",
       "      <td>특별법범</td>\n",
       "      <td>기타특별법</td>\n",
       "      <td>소계</td>\n",
       "      <td>유혹</td>\n",
       "      <td>64</td>\n",
       "      <td>57</td>\n",
       "      <td>36</td>\n",
       "      <td>64</td>\n",
       "      <td>52</td>\n",
       "      <td>356</td>\n",
       "      <td>...</td>\n",
       "      <td>1594</td>\n",
       "      <td>1337</td>\n",
       "      <td>1167</td>\n",
       "      <td>69</td>\n",
       "      <td>36</td>\n",
       "      <td>51</td>\n",
       "      <td>101</td>\n",
       "      <td>301</td>\n",
       "      <td>382</td>\n",
       "      <td>211</td>\n",
       "    </tr>\n",
       "    <tr>\n",
       "      <th>2175</th>\n",
       "      <td>특별법범</td>\n",
       "      <td>기타특별법</td>\n",
       "      <td>소계</td>\n",
       "      <td>우발적</td>\n",
       "      <td>169</td>\n",
       "      <td>283</td>\n",
       "      <td>346</td>\n",
       "      <td>506</td>\n",
       "      <td>371</td>\n",
       "      <td>760</td>\n",
       "      <td>...</td>\n",
       "      <td>13263</td>\n",
       "      <td>23018</td>\n",
       "      <td>22295</td>\n",
       "      <td>526</td>\n",
       "      <td>243</td>\n",
       "      <td>328</td>\n",
       "      <td>334</td>\n",
       "      <td>581</td>\n",
       "      <td>1093</td>\n",
       "      <td>766</td>\n",
       "    </tr>\n",
       "    <tr>\n",
       "      <th>2176</th>\n",
       "      <td>특별법범</td>\n",
       "      <td>기타특별법</td>\n",
       "      <td>소계</td>\n",
       "      <td>현실불만</td>\n",
       "      <td>24</td>\n",
       "      <td>35</td>\n",
       "      <td>46</td>\n",
       "      <td>108</td>\n",
       "      <td>132</td>\n",
       "      <td>129</td>\n",
       "      <td>...</td>\n",
       "      <td>282</td>\n",
       "      <td>382</td>\n",
       "      <td>680</td>\n",
       "      <td>221</td>\n",
       "      <td>105</td>\n",
       "      <td>42</td>\n",
       "      <td>67</td>\n",
       "      <td>69</td>\n",
       "      <td>99</td>\n",
       "      <td>97</td>\n",
       "    </tr>\n",
       "    <tr>\n",
       "      <th>2177</th>\n",
       "      <td>특별법범</td>\n",
       "      <td>기타특별법</td>\n",
       "      <td>소계</td>\n",
       "      <td>부주의</td>\n",
       "      <td>1491</td>\n",
       "      <td>2554</td>\n",
       "      <td>2296</td>\n",
       "      <td>4108</td>\n",
       "      <td>3243</td>\n",
       "      <td>5753</td>\n",
       "      <td>...</td>\n",
       "      <td>45962</td>\n",
       "      <td>58749</td>\n",
       "      <td>84826</td>\n",
       "      <td>1632</td>\n",
       "      <td>1227</td>\n",
       "      <td>1381</td>\n",
       "      <td>1539</td>\n",
       "      <td>2960</td>\n",
       "      <td>3911</td>\n",
       "      <td>3857</td>\n",
       "    </tr>\n",
       "    <tr>\n",
       "      <th>2178</th>\n",
       "      <td>특별법범</td>\n",
       "      <td>기타특별법</td>\n",
       "      <td>소계</td>\n",
       "      <td>기타</td>\n",
       "      <td>8654</td>\n",
       "      <td>11396</td>\n",
       "      <td>11040</td>\n",
       "      <td>15324</td>\n",
       "      <td>15635</td>\n",
       "      <td>25464</td>\n",
       "      <td>...</td>\n",
       "      <td>95634</td>\n",
       "      <td>137307</td>\n",
       "      <td>156443</td>\n",
       "      <td>14532</td>\n",
       "      <td>12544</td>\n",
       "      <td>14284</td>\n",
       "      <td>15790</td>\n",
       "      <td>24456</td>\n",
       "      <td>32458</td>\n",
       "      <td>23909</td>\n",
       "    </tr>\n",
       "  </tbody>\n",
       "</table>\n",
       "<p>2179 rows × 21 columns</p>\n",
       "</div>"
      ],
      "text/plain": [
       "         대      중   소  범행동기   1994년   1995년   1996년   1997년   1998년   1999년  \\\n",
       "0      총범죄     소계  소계    이욕  184442  187138  191339  185785  226853  241986   \n",
       "1      총범죄     소계  소계   사행심   18824   20298   21047   21898   21103   21500   \n",
       "2      총범죄     소계  소계    보복    6123    4789    4711    5733    5129    5323   \n",
       "3      총범죄     소계  소계  가정불화    5820    4479    4340    3679    6131   11404   \n",
       "4      총범죄     소계  소계   호기심   15272   17840   26890   32307   24490   14962   \n",
       "...    ...    ...  ..   ...     ...     ...     ...     ...     ...     ...   \n",
       "2174  특별법범  기타특별법  소계    유혹      64      57      36      64      52     356   \n",
       "2175  특별법범  기타특별법  소계   우발적     169     283     346     506     371     760   \n",
       "2176  특별법범  기타특별법  소계  현실불만      24      35      46     108     132     129   \n",
       "2177  특별법범  기타특별법  소계   부주의    1491    2554    2296    4108    3243    5753   \n",
       "2178  특별법범  기타특별법  소계    기타    8654   11396   11040   15324   15635   25464   \n",
       "\n",
       "      ...   2001년   2002년   2003년  2004년  2005년  2006년  2007년   2008년   2009년  \\\n",
       "0     ...  220235  213188  217442  83540  73513  79960  83286  102075  124558   \n",
       "1     ...   13858   20796   16405  26061  22196  31133  26597   31240   42330   \n",
       "2     ...    4881    4264    3347   5543   4781   4421   4438    2081    1432   \n",
       "3     ...   12076    9976   10686  10636   8693   7890   7286    5469    4159   \n",
       "4     ...   17429   17110   13504  15828  17762  25468  30557   33906   49894   \n",
       "...   ...     ...     ...     ...    ...    ...    ...    ...     ...     ...   \n",
       "2174  ...    1594    1337    1167     69     36     51    101     301     382   \n",
       "2175  ...   13263   23018   22295    526    243    328    334     581    1093   \n",
       "2176  ...     282     382     680    221    105     42     67      69      99   \n",
       "2177  ...   45962   58749   84826   1632   1227   1381   1539    2960    3911   \n",
       "2178  ...   95634  137307  156443  14532  12544  14284  15790   24456   32458   \n",
       "\n",
       "       2010년  \n",
       "0     290974  \n",
       "1        562  \n",
       "2      26164  \n",
       "3       5348  \n",
       "4      25851  \n",
       "...      ...  \n",
       "2174     211  \n",
       "2175     766  \n",
       "2176      97  \n",
       "2177    3857  \n",
       "2178   23909  \n",
       "\n",
       "[2179 rows x 21 columns]"
      ]
     },
     "execution_count": 26,
     "metadata": {},
     "output_type": "execute_result"
    }
   ],
   "source": [
    "cursor.execute(\"select * from crime_motive_before\")\n",
    "\n",
    "motive = cursor.fetchall()\n",
    "motive_df_start = pd.DataFrame(motive)\n",
    "motive_df_start"
   ]
  },
  {
   "cell_type": "code",
   "execution_count": 27,
   "metadata": {},
   "outputs": [
    {
     "data": {
      "text/html": [
       "<div>\n",
       "<style scoped>\n",
       "    .dataframe tbody tr th:only-of-type {\n",
       "        vertical-align: middle;\n",
       "    }\n",
       "\n",
       "    .dataframe tbody tr th {\n",
       "        vertical-align: top;\n",
       "    }\n",
       "\n",
       "    .dataframe thead th {\n",
       "        text-align: right;\n",
       "    }\n",
       "</style>\n",
       "<table border=\"1\" class=\"dataframe\">\n",
       "  <thead>\n",
       "    <tr style=\"text-align: right;\">\n",
       "      <th></th>\n",
       "      <th>대</th>\n",
       "      <th>중</th>\n",
       "      <th>소</th>\n",
       "      <th>범행동기</th>\n",
       "      <th>1994년</th>\n",
       "      <th>1995년</th>\n",
       "      <th>1996년</th>\n",
       "      <th>1997년</th>\n",
       "      <th>1998년</th>\n",
       "      <th>1999년</th>\n",
       "      <th>...</th>\n",
       "      <th>2001년</th>\n",
       "      <th>2002년</th>\n",
       "      <th>2003년</th>\n",
       "      <th>2004년</th>\n",
       "      <th>2005년</th>\n",
       "      <th>2006년</th>\n",
       "      <th>2007년</th>\n",
       "      <th>2008년</th>\n",
       "      <th>2009년</th>\n",
       "      <th>2010년</th>\n",
       "    </tr>\n",
       "  </thead>\n",
       "  <tbody>\n",
       "    <tr>\n",
       "      <th>0</th>\n",
       "      <td>형법범</td>\n",
       "      <td>폭력범</td>\n",
       "      <td>소계</td>\n",
       "      <td>이욕</td>\n",
       "      <td>16334</td>\n",
       "      <td>17285</td>\n",
       "      <td>17012</td>\n",
       "      <td>17547</td>\n",
       "      <td>16095</td>\n",
       "      <td>19221</td>\n",
       "      <td>...</td>\n",
       "      <td>22035</td>\n",
       "      <td>17090</td>\n",
       "      <td>18372</td>\n",
       "      <td>3652</td>\n",
       "      <td>2849</td>\n",
       "      <td>2825</td>\n",
       "      <td>2627</td>\n",
       "      <td>3652</td>\n",
       "      <td>3943</td>\n",
       "      <td>23197</td>\n",
       "    </tr>\n",
       "    <tr>\n",
       "      <th>1</th>\n",
       "      <td>형법범</td>\n",
       "      <td>폭력범</td>\n",
       "      <td>소계</td>\n",
       "      <td>사행심</td>\n",
       "      <td>1106</td>\n",
       "      <td>2015</td>\n",
       "      <td>2232</td>\n",
       "      <td>1023</td>\n",
       "      <td>683</td>\n",
       "      <td>469</td>\n",
       "      <td>...</td>\n",
       "      <td>352</td>\n",
       "      <td>260</td>\n",
       "      <td>234</td>\n",
       "      <td>822</td>\n",
       "      <td>646</td>\n",
       "      <td>694</td>\n",
       "      <td>710</td>\n",
       "      <td>958</td>\n",
       "      <td>1204</td>\n",
       "      <td>55</td>\n",
       "    </tr>\n",
       "    <tr>\n",
       "      <th>2</th>\n",
       "      <td>형법범</td>\n",
       "      <td>폭력범</td>\n",
       "      <td>소계</td>\n",
       "      <td>보복</td>\n",
       "      <td>5246</td>\n",
       "      <td>4042</td>\n",
       "      <td>3910</td>\n",
       "      <td>4819</td>\n",
       "      <td>4352</td>\n",
       "      <td>4378</td>\n",
       "      <td>...</td>\n",
       "      <td>3876</td>\n",
       "      <td>3209</td>\n",
       "      <td>2348</td>\n",
       "      <td>2929</td>\n",
       "      <td>2436</td>\n",
       "      <td>2351</td>\n",
       "      <td>2216</td>\n",
       "      <td>101</td>\n",
       "      <td>73</td>\n",
       "      <td>501</td>\n",
       "    </tr>\n",
       "    <tr>\n",
       "      <th>3</th>\n",
       "      <td>형법범</td>\n",
       "      <td>폭력범</td>\n",
       "      <td>소계</td>\n",
       "      <td>가정불화</td>\n",
       "      <td>3938</td>\n",
       "      <td>2911</td>\n",
       "      <td>2955</td>\n",
       "      <td>2552</td>\n",
       "      <td>4967</td>\n",
       "      <td>10009</td>\n",
       "      <td>...</td>\n",
       "      <td>10798</td>\n",
       "      <td>8944</td>\n",
       "      <td>9610</td>\n",
       "      <td>8444</td>\n",
       "      <td>7069</td>\n",
       "      <td>6331</td>\n",
       "      <td>5797</td>\n",
       "      <td>4217</td>\n",
       "      <td>3198</td>\n",
       "      <td>4148</td>\n",
       "    </tr>\n",
       "    <tr>\n",
       "      <th>4</th>\n",
       "      <td>형법범</td>\n",
       "      <td>폭력범</td>\n",
       "      <td>소계</td>\n",
       "      <td>호기심</td>\n",
       "      <td>958</td>\n",
       "      <td>1089</td>\n",
       "      <td>2183</td>\n",
       "      <td>3229</td>\n",
       "      <td>1947</td>\n",
       "      <td>986</td>\n",
       "      <td>...</td>\n",
       "      <td>2141</td>\n",
       "      <td>1518</td>\n",
       "      <td>506</td>\n",
       "      <td>541</td>\n",
       "      <td>603</td>\n",
       "      <td>596</td>\n",
       "      <td>618</td>\n",
       "      <td>810</td>\n",
       "      <td>735</td>\n",
       "      <td>529</td>\n",
       "    </tr>\n",
       "    <tr>\n",
       "      <th>5</th>\n",
       "      <td>형법범</td>\n",
       "      <td>폭력범</td>\n",
       "      <td>소계</td>\n",
       "      <td>유혹</td>\n",
       "      <td>589</td>\n",
       "      <td>585</td>\n",
       "      <td>643</td>\n",
       "      <td>717</td>\n",
       "      <td>1137</td>\n",
       "      <td>992</td>\n",
       "      <td>...</td>\n",
       "      <td>1352</td>\n",
       "      <td>928</td>\n",
       "      <td>573</td>\n",
       "      <td>596</td>\n",
       "      <td>710</td>\n",
       "      <td>603</td>\n",
       "      <td>602</td>\n",
       "      <td>721</td>\n",
       "      <td>741</td>\n",
       "      <td>309</td>\n",
       "    </tr>\n",
       "    <tr>\n",
       "      <th>6</th>\n",
       "      <td>형법범</td>\n",
       "      <td>폭력범</td>\n",
       "      <td>소계</td>\n",
       "      <td>우발적</td>\n",
       "      <td>179972</td>\n",
       "      <td>181413</td>\n",
       "      <td>187459</td>\n",
       "      <td>194596</td>\n",
       "      <td>214419</td>\n",
       "      <td>274524</td>\n",
       "      <td>...</td>\n",
       "      <td>315226</td>\n",
       "      <td>270260</td>\n",
       "      <td>261085</td>\n",
       "      <td>273954</td>\n",
       "      <td>260440</td>\n",
       "      <td>249428</td>\n",
       "      <td>254346</td>\n",
       "      <td>267431</td>\n",
       "      <td>264807</td>\n",
       "      <td>210814</td>\n",
       "    </tr>\n",
       "    <tr>\n",
       "      <th>7</th>\n",
       "      <td>형법범</td>\n",
       "      <td>폭력범</td>\n",
       "      <td>소계</td>\n",
       "      <td>현실불만</td>\n",
       "      <td>8828</td>\n",
       "      <td>8290</td>\n",
       "      <td>9000</td>\n",
       "      <td>8232</td>\n",
       "      <td>8045</td>\n",
       "      <td>14144</td>\n",
       "      <td>...</td>\n",
       "      <td>10028</td>\n",
       "      <td>8071</td>\n",
       "      <td>7268</td>\n",
       "      <td>7849</td>\n",
       "      <td>6870</td>\n",
       "      <td>6700</td>\n",
       "      <td>6874</td>\n",
       "      <td>8887</td>\n",
       "      <td>8766</td>\n",
       "      <td>7232</td>\n",
       "    </tr>\n",
       "    <tr>\n",
       "      <th>8</th>\n",
       "      <td>형법범</td>\n",
       "      <td>폭력범</td>\n",
       "      <td>소계</td>\n",
       "      <td>부주의</td>\n",
       "      <td>5259</td>\n",
       "      <td>6629</td>\n",
       "      <td>7630</td>\n",
       "      <td>8350</td>\n",
       "      <td>8822</td>\n",
       "      <td>11537</td>\n",
       "      <td>...</td>\n",
       "      <td>8815</td>\n",
       "      <td>7606</td>\n",
       "      <td>7805</td>\n",
       "      <td>3416</td>\n",
       "      <td>3175</td>\n",
       "      <td>3317</td>\n",
       "      <td>3278</td>\n",
       "      <td>3690</td>\n",
       "      <td>3540</td>\n",
       "      <td>3719</td>\n",
       "    </tr>\n",
       "    <tr>\n",
       "      <th>9</th>\n",
       "      <td>형법범</td>\n",
       "      <td>폭력범</td>\n",
       "      <td>소계</td>\n",
       "      <td>기타</td>\n",
       "      <td>110517</td>\n",
       "      <td>100805</td>\n",
       "      <td>103070</td>\n",
       "      <td>108956</td>\n",
       "      <td>126812</td>\n",
       "      <td>138793</td>\n",
       "      <td>...</td>\n",
       "      <td>139312</td>\n",
       "      <td>118999</td>\n",
       "      <td>127863</td>\n",
       "      <td>150350</td>\n",
       "      <td>150967</td>\n",
       "      <td>156883</td>\n",
       "      <td>173566</td>\n",
       "      <td>164175</td>\n",
       "      <td>163738</td>\n",
       "      <td>148680</td>\n",
       "    </tr>\n",
       "  </tbody>\n",
       "</table>\n",
       "<p>10 rows × 21 columns</p>\n",
       "</div>"
      ],
      "text/plain": [
       "     대    중   소  범행동기   1994년   1995년   1996년   1997년   1998년   1999년  ...  \\\n",
       "0  형법범  폭력범  소계    이욕   16334   17285   17012   17547   16095   19221  ...   \n",
       "1  형법범  폭력범  소계   사행심    1106    2015    2232    1023     683     469  ...   \n",
       "2  형법범  폭력범  소계    보복    5246    4042    3910    4819    4352    4378  ...   \n",
       "3  형법범  폭력범  소계  가정불화    3938    2911    2955    2552    4967   10009  ...   \n",
       "4  형법범  폭력범  소계   호기심     958    1089    2183    3229    1947     986  ...   \n",
       "5  형법범  폭력범  소계    유혹     589     585     643     717    1137     992  ...   \n",
       "6  형법범  폭력범  소계   우발적  179972  181413  187459  194596  214419  274524  ...   \n",
       "7  형법범  폭력범  소계  현실불만    8828    8290    9000    8232    8045   14144  ...   \n",
       "8  형법범  폭력범  소계   부주의    5259    6629    7630    8350    8822   11537  ...   \n",
       "9  형법범  폭력범  소계    기타  110517  100805  103070  108956  126812  138793  ...   \n",
       "\n",
       "    2001년   2002년   2003년   2004년   2005년   2006년   2007년   2008년   2009년  \\\n",
       "0   22035   17090   18372    3652    2849    2825    2627    3652    3943   \n",
       "1     352     260     234     822     646     694     710     958    1204   \n",
       "2    3876    3209    2348    2929    2436    2351    2216     101      73   \n",
       "3   10798    8944    9610    8444    7069    6331    5797    4217    3198   \n",
       "4    2141    1518     506     541     603     596     618     810     735   \n",
       "5    1352     928     573     596     710     603     602     721     741   \n",
       "6  315226  270260  261085  273954  260440  249428  254346  267431  264807   \n",
       "7   10028    8071    7268    7849    6870    6700    6874    8887    8766   \n",
       "8    8815    7606    7805    3416    3175    3317    3278    3690    3540   \n",
       "9  139312  118999  127863  150350  150967  156883  173566  164175  163738   \n",
       "\n",
       "    2010년  \n",
       "0   23197  \n",
       "1      55  \n",
       "2     501  \n",
       "3    4148  \n",
       "4     529  \n",
       "5     309  \n",
       "6  210814  \n",
       "7    7232  \n",
       "8    3719  \n",
       "9  148680  \n",
       "\n",
       "[10 rows x 21 columns]"
      ]
     },
     "execution_count": 27,
     "metadata": {},
     "output_type": "execute_result"
    }
   ],
   "source": [
    "motive_df = motive_df_start[motive_df_start[\"중\"] == \"폭력범\"]\n",
    "motive_df.reset_index(inplace=True, drop=True)\n",
    "motive_df"
   ]
  },
  {
   "cell_type": "code",
   "execution_count": 28,
   "metadata": {},
   "outputs": [
    {
     "data": {
      "text/html": [
       "<div>\n",
       "<style scoped>\n",
       "    .dataframe tbody tr th:only-of-type {\n",
       "        vertical-align: middle;\n",
       "    }\n",
       "\n",
       "    .dataframe tbody tr th {\n",
       "        vertical-align: top;\n",
       "    }\n",
       "\n",
       "    .dataframe thead th {\n",
       "        text-align: right;\n",
       "    }\n",
       "</style>\n",
       "<table border=\"1\" class=\"dataframe\">\n",
       "  <thead>\n",
       "    <tr style=\"text-align: right;\">\n",
       "      <th></th>\n",
       "      <th>중</th>\n",
       "      <th>소</th>\n",
       "      <th>범행동기</th>\n",
       "      <th>1994년</th>\n",
       "      <th>1995년</th>\n",
       "      <th>1996년</th>\n",
       "      <th>1997년</th>\n",
       "      <th>1998년</th>\n",
       "      <th>1999년</th>\n",
       "      <th>2000년</th>\n",
       "      <th>2001년</th>\n",
       "      <th>2002년</th>\n",
       "      <th>2003년</th>\n",
       "      <th>2004년</th>\n",
       "      <th>2005년</th>\n",
       "      <th>2006년</th>\n",
       "      <th>2007년</th>\n",
       "      <th>2008년</th>\n",
       "      <th>2009년</th>\n",
       "      <th>2010년</th>\n",
       "    </tr>\n",
       "  </thead>\n",
       "  <tbody>\n",
       "    <tr>\n",
       "      <th>0</th>\n",
       "      <td>폭력범</td>\n",
       "      <td>소계</td>\n",
       "      <td>이욕</td>\n",
       "      <td>16334</td>\n",
       "      <td>17285</td>\n",
       "      <td>17012</td>\n",
       "      <td>17547</td>\n",
       "      <td>16095</td>\n",
       "      <td>19221</td>\n",
       "      <td>20684</td>\n",
       "      <td>22035</td>\n",
       "      <td>17090</td>\n",
       "      <td>18372</td>\n",
       "      <td>3652</td>\n",
       "      <td>2849</td>\n",
       "      <td>2825</td>\n",
       "      <td>2627</td>\n",
       "      <td>3652</td>\n",
       "      <td>3943</td>\n",
       "      <td>23197</td>\n",
       "    </tr>\n",
       "    <tr>\n",
       "      <th>1</th>\n",
       "      <td>폭력범</td>\n",
       "      <td>소계</td>\n",
       "      <td>사행심</td>\n",
       "      <td>1106</td>\n",
       "      <td>2015</td>\n",
       "      <td>2232</td>\n",
       "      <td>1023</td>\n",
       "      <td>683</td>\n",
       "      <td>469</td>\n",
       "      <td>360</td>\n",
       "      <td>352</td>\n",
       "      <td>260</td>\n",
       "      <td>234</td>\n",
       "      <td>822</td>\n",
       "      <td>646</td>\n",
       "      <td>694</td>\n",
       "      <td>710</td>\n",
       "      <td>958</td>\n",
       "      <td>1204</td>\n",
       "      <td>55</td>\n",
       "    </tr>\n",
       "    <tr>\n",
       "      <th>2</th>\n",
       "      <td>폭력범</td>\n",
       "      <td>소계</td>\n",
       "      <td>보복</td>\n",
       "      <td>5246</td>\n",
       "      <td>4042</td>\n",
       "      <td>3910</td>\n",
       "      <td>4819</td>\n",
       "      <td>4352</td>\n",
       "      <td>4378</td>\n",
       "      <td>4469</td>\n",
       "      <td>3876</td>\n",
       "      <td>3209</td>\n",
       "      <td>2348</td>\n",
       "      <td>2929</td>\n",
       "      <td>2436</td>\n",
       "      <td>2351</td>\n",
       "      <td>2216</td>\n",
       "      <td>101</td>\n",
       "      <td>73</td>\n",
       "      <td>501</td>\n",
       "    </tr>\n",
       "    <tr>\n",
       "      <th>3</th>\n",
       "      <td>폭력범</td>\n",
       "      <td>소계</td>\n",
       "      <td>가정불화</td>\n",
       "      <td>3938</td>\n",
       "      <td>2911</td>\n",
       "      <td>2955</td>\n",
       "      <td>2552</td>\n",
       "      <td>4967</td>\n",
       "      <td>10009</td>\n",
       "      <td>10441</td>\n",
       "      <td>10798</td>\n",
       "      <td>8944</td>\n",
       "      <td>9610</td>\n",
       "      <td>8444</td>\n",
       "      <td>7069</td>\n",
       "      <td>6331</td>\n",
       "      <td>5797</td>\n",
       "      <td>4217</td>\n",
       "      <td>3198</td>\n",
       "      <td>4148</td>\n",
       "    </tr>\n",
       "    <tr>\n",
       "      <th>4</th>\n",
       "      <td>폭력범</td>\n",
       "      <td>소계</td>\n",
       "      <td>호기심</td>\n",
       "      <td>958</td>\n",
       "      <td>1089</td>\n",
       "      <td>2183</td>\n",
       "      <td>3229</td>\n",
       "      <td>1947</td>\n",
       "      <td>986</td>\n",
       "      <td>965</td>\n",
       "      <td>2141</td>\n",
       "      <td>1518</td>\n",
       "      <td>506</td>\n",
       "      <td>541</td>\n",
       "      <td>603</td>\n",
       "      <td>596</td>\n",
       "      <td>618</td>\n",
       "      <td>810</td>\n",
       "      <td>735</td>\n",
       "      <td>529</td>\n",
       "    </tr>\n",
       "    <tr>\n",
       "      <th>5</th>\n",
       "      <td>폭력범</td>\n",
       "      <td>소계</td>\n",
       "      <td>유혹</td>\n",
       "      <td>589</td>\n",
       "      <td>585</td>\n",
       "      <td>643</td>\n",
       "      <td>717</td>\n",
       "      <td>1137</td>\n",
       "      <td>992</td>\n",
       "      <td>811</td>\n",
       "      <td>1352</td>\n",
       "      <td>928</td>\n",
       "      <td>573</td>\n",
       "      <td>596</td>\n",
       "      <td>710</td>\n",
       "      <td>603</td>\n",
       "      <td>602</td>\n",
       "      <td>721</td>\n",
       "      <td>741</td>\n",
       "      <td>309</td>\n",
       "    </tr>\n",
       "    <tr>\n",
       "      <th>6</th>\n",
       "      <td>폭력범</td>\n",
       "      <td>소계</td>\n",
       "      <td>우발적</td>\n",
       "      <td>179972</td>\n",
       "      <td>181413</td>\n",
       "      <td>187459</td>\n",
       "      <td>194596</td>\n",
       "      <td>214419</td>\n",
       "      <td>274524</td>\n",
       "      <td>313589</td>\n",
       "      <td>315226</td>\n",
       "      <td>270260</td>\n",
       "      <td>261085</td>\n",
       "      <td>273954</td>\n",
       "      <td>260440</td>\n",
       "      <td>249428</td>\n",
       "      <td>254346</td>\n",
       "      <td>267431</td>\n",
       "      <td>264807</td>\n",
       "      <td>210814</td>\n",
       "    </tr>\n",
       "    <tr>\n",
       "      <th>7</th>\n",
       "      <td>폭력범</td>\n",
       "      <td>소계</td>\n",
       "      <td>현실불만</td>\n",
       "      <td>8828</td>\n",
       "      <td>8290</td>\n",
       "      <td>9000</td>\n",
       "      <td>8232</td>\n",
       "      <td>8045</td>\n",
       "      <td>14144</td>\n",
       "      <td>10112</td>\n",
       "      <td>10028</td>\n",
       "      <td>8071</td>\n",
       "      <td>7268</td>\n",
       "      <td>7849</td>\n",
       "      <td>6870</td>\n",
       "      <td>6700</td>\n",
       "      <td>6874</td>\n",
       "      <td>8887</td>\n",
       "      <td>8766</td>\n",
       "      <td>7232</td>\n",
       "    </tr>\n",
       "    <tr>\n",
       "      <th>8</th>\n",
       "      <td>폭력범</td>\n",
       "      <td>소계</td>\n",
       "      <td>부주의</td>\n",
       "      <td>5259</td>\n",
       "      <td>6629</td>\n",
       "      <td>7630</td>\n",
       "      <td>8350</td>\n",
       "      <td>8822</td>\n",
       "      <td>11537</td>\n",
       "      <td>10010</td>\n",
       "      <td>8815</td>\n",
       "      <td>7606</td>\n",
       "      <td>7805</td>\n",
       "      <td>3416</td>\n",
       "      <td>3175</td>\n",
       "      <td>3317</td>\n",
       "      <td>3278</td>\n",
       "      <td>3690</td>\n",
       "      <td>3540</td>\n",
       "      <td>3719</td>\n",
       "    </tr>\n",
       "    <tr>\n",
       "      <th>9</th>\n",
       "      <td>폭력범</td>\n",
       "      <td>소계</td>\n",
       "      <td>기타</td>\n",
       "      <td>110517</td>\n",
       "      <td>100805</td>\n",
       "      <td>103070</td>\n",
       "      <td>108956</td>\n",
       "      <td>126812</td>\n",
       "      <td>138793</td>\n",
       "      <td>146180</td>\n",
       "      <td>139312</td>\n",
       "      <td>118999</td>\n",
       "      <td>127863</td>\n",
       "      <td>150350</td>\n",
       "      <td>150967</td>\n",
       "      <td>156883</td>\n",
       "      <td>173566</td>\n",
       "      <td>164175</td>\n",
       "      <td>163738</td>\n",
       "      <td>148680</td>\n",
       "    </tr>\n",
       "  </tbody>\n",
       "</table>\n",
       "</div>"
      ],
      "text/plain": [
       "     중   소  범행동기   1994년   1995년   1996년   1997년   1998년   1999년   2000년  \\\n",
       "0  폭력범  소계    이욕   16334   17285   17012   17547   16095   19221   20684   \n",
       "1  폭력범  소계   사행심    1106    2015    2232    1023     683     469     360   \n",
       "2  폭력범  소계    보복    5246    4042    3910    4819    4352    4378    4469   \n",
       "3  폭력범  소계  가정불화    3938    2911    2955    2552    4967   10009   10441   \n",
       "4  폭력범  소계   호기심     958    1089    2183    3229    1947     986     965   \n",
       "5  폭력범  소계    유혹     589     585     643     717    1137     992     811   \n",
       "6  폭력범  소계   우발적  179972  181413  187459  194596  214419  274524  313589   \n",
       "7  폭력범  소계  현실불만    8828    8290    9000    8232    8045   14144   10112   \n",
       "8  폭력범  소계   부주의    5259    6629    7630    8350    8822   11537   10010   \n",
       "9  폭력범  소계    기타  110517  100805  103070  108956  126812  138793  146180   \n",
       "\n",
       "    2001년   2002년   2003년   2004년   2005년   2006년   2007년   2008년   2009년  \\\n",
       "0   22035   17090   18372    3652    2849    2825    2627    3652    3943   \n",
       "1     352     260     234     822     646     694     710     958    1204   \n",
       "2    3876    3209    2348    2929    2436    2351    2216     101      73   \n",
       "3   10798    8944    9610    8444    7069    6331    5797    4217    3198   \n",
       "4    2141    1518     506     541     603     596     618     810     735   \n",
       "5    1352     928     573     596     710     603     602     721     741   \n",
       "6  315226  270260  261085  273954  260440  249428  254346  267431  264807   \n",
       "7   10028    8071    7268    7849    6870    6700    6874    8887    8766   \n",
       "8    8815    7606    7805    3416    3175    3317    3278    3690    3540   \n",
       "9  139312  118999  127863  150350  150967  156883  173566  164175  163738   \n",
       "\n",
       "    2010년  \n",
       "0   23197  \n",
       "1      55  \n",
       "2     501  \n",
       "3    4148  \n",
       "4     529  \n",
       "5     309  \n",
       "6  210814  \n",
       "7    7232  \n",
       "8    3719  \n",
       "9  148680  "
      ]
     },
     "execution_count": 28,
     "metadata": {},
     "output_type": "execute_result"
    }
   ],
   "source": [
    "motive_df_total = motive_df[motive_df[\"소\"] == \"소계\"]\n",
    "motive_df_total.drop(columns=\"대\", inplace=True)\n",
    "motive_df_total.reset_index(inplace=True, drop=True)\n",
    "motive_df_total"
   ]
  },
  {
   "cell_type": "code",
   "execution_count": 29,
   "metadata": {},
   "outputs": [
    {
     "data": {
      "application/vnd.plotly.v1+json": {
       "config": {
        "plotlyServerURL": "https://plot.ly"
       },
       "data": [
        {
         "hovertemplate": "범행동기=이욕<br>년도=%{x}<br>발생건수=%{y}<extra></extra>",
         "legendgroup": "이욕",
         "line": {
          "color": "#636efa",
          "dash": "solid"
         },
         "marker": {
          "symbol": "circle"
         },
         "mode": "lines+markers",
         "name": "이욕",
         "orientation": "v",
         "showlegend": true,
         "type": "scatter",
         "x": [
          "1994년",
          "1995년",
          "1996년",
          "1997년",
          "1998년",
          "1999년",
          "2000년",
          "2001년",
          "2002년",
          "2003년",
          "2004년",
          "2005년",
          "2006년",
          "2007년",
          "2008년",
          "2009년",
          "2010년"
         ],
         "xaxis": "x",
         "y": [
          16334,
          17285,
          17012,
          17547,
          16095,
          19221,
          20684,
          22035,
          17090,
          18372,
          3652,
          2849,
          2825,
          2627,
          3652,
          3943,
          23197
         ],
         "yaxis": "y"
        },
        {
         "hovertemplate": "범행동기=사행심<br>년도=%{x}<br>발생건수=%{y}<extra></extra>",
         "legendgroup": "사행심",
         "line": {
          "color": "#EF553B",
          "dash": "solid"
         },
         "marker": {
          "symbol": "circle"
         },
         "mode": "lines+markers",
         "name": "사행심",
         "orientation": "v",
         "showlegend": true,
         "type": "scatter",
         "x": [
          "1994년",
          "1995년",
          "1996년",
          "1997년",
          "1998년",
          "1999년",
          "2000년",
          "2001년",
          "2002년",
          "2003년",
          "2004년",
          "2005년",
          "2006년",
          "2007년",
          "2008년",
          "2009년",
          "2010년"
         ],
         "xaxis": "x",
         "y": [
          1106,
          2015,
          2232,
          1023,
          683,
          469,
          360,
          352,
          260,
          234,
          822,
          646,
          694,
          710,
          958,
          1204,
          55
         ],
         "yaxis": "y"
        },
        {
         "hovertemplate": "범행동기=보복<br>년도=%{x}<br>발생건수=%{y}<extra></extra>",
         "legendgroup": "보복",
         "line": {
          "color": "#00cc96",
          "dash": "solid"
         },
         "marker": {
          "symbol": "circle"
         },
         "mode": "lines+markers",
         "name": "보복",
         "orientation": "v",
         "showlegend": true,
         "type": "scatter",
         "x": [
          "1994년",
          "1995년",
          "1996년",
          "1997년",
          "1998년",
          "1999년",
          "2000년",
          "2001년",
          "2002년",
          "2003년",
          "2004년",
          "2005년",
          "2006년",
          "2007년",
          "2008년",
          "2009년",
          "2010년"
         ],
         "xaxis": "x",
         "y": [
          5246,
          4042,
          3910,
          4819,
          4352,
          4378,
          4469,
          3876,
          3209,
          2348,
          2929,
          2436,
          2351,
          2216,
          101,
          73,
          501
         ],
         "yaxis": "y"
        },
        {
         "hovertemplate": "범행동기=가정불화<br>년도=%{x}<br>발생건수=%{y}<extra></extra>",
         "legendgroup": "가정불화",
         "line": {
          "color": "#ab63fa",
          "dash": "solid"
         },
         "marker": {
          "symbol": "circle"
         },
         "mode": "lines+markers",
         "name": "가정불화",
         "orientation": "v",
         "showlegend": true,
         "type": "scatter",
         "x": [
          "1994년",
          "1995년",
          "1996년",
          "1997년",
          "1998년",
          "1999년",
          "2000년",
          "2001년",
          "2002년",
          "2003년",
          "2004년",
          "2005년",
          "2006년",
          "2007년",
          "2008년",
          "2009년",
          "2010년"
         ],
         "xaxis": "x",
         "y": [
          3938,
          2911,
          2955,
          2552,
          4967,
          10009,
          10441,
          10798,
          8944,
          9610,
          8444,
          7069,
          6331,
          5797,
          4217,
          3198,
          4148
         ],
         "yaxis": "y"
        },
        {
         "hovertemplate": "범행동기=호기심<br>년도=%{x}<br>발생건수=%{y}<extra></extra>",
         "legendgroup": "호기심",
         "line": {
          "color": "#FFA15A",
          "dash": "solid"
         },
         "marker": {
          "symbol": "circle"
         },
         "mode": "lines+markers",
         "name": "호기심",
         "orientation": "v",
         "showlegend": true,
         "type": "scatter",
         "x": [
          "1994년",
          "1995년",
          "1996년",
          "1997년",
          "1998년",
          "1999년",
          "2000년",
          "2001년",
          "2002년",
          "2003년",
          "2004년",
          "2005년",
          "2006년",
          "2007년",
          "2008년",
          "2009년",
          "2010년"
         ],
         "xaxis": "x",
         "y": [
          958,
          1089,
          2183,
          3229,
          1947,
          986,
          965,
          2141,
          1518,
          506,
          541,
          603,
          596,
          618,
          810,
          735,
          529
         ],
         "yaxis": "y"
        },
        {
         "hovertemplate": "범행동기=유혹<br>년도=%{x}<br>발생건수=%{y}<extra></extra>",
         "legendgroup": "유혹",
         "line": {
          "color": "#19d3f3",
          "dash": "solid"
         },
         "marker": {
          "symbol": "circle"
         },
         "mode": "lines+markers",
         "name": "유혹",
         "orientation": "v",
         "showlegend": true,
         "type": "scatter",
         "x": [
          "1994년",
          "1995년",
          "1996년",
          "1997년",
          "1998년",
          "1999년",
          "2000년",
          "2001년",
          "2002년",
          "2003년",
          "2004년",
          "2005년",
          "2006년",
          "2007년",
          "2008년",
          "2009년",
          "2010년"
         ],
         "xaxis": "x",
         "y": [
          589,
          585,
          643,
          717,
          1137,
          992,
          811,
          1352,
          928,
          573,
          596,
          710,
          603,
          602,
          721,
          741,
          309
         ],
         "yaxis": "y"
        },
        {
         "hovertemplate": "범행동기=우발적<br>년도=%{x}<br>발생건수=%{y}<extra></extra>",
         "legendgroup": "우발적",
         "line": {
          "color": "#FF6692",
          "dash": "solid"
         },
         "marker": {
          "symbol": "circle"
         },
         "mode": "lines+markers",
         "name": "우발적",
         "orientation": "v",
         "showlegend": true,
         "type": "scatter",
         "x": [
          "1994년",
          "1995년",
          "1996년",
          "1997년",
          "1998년",
          "1999년",
          "2000년",
          "2001년",
          "2002년",
          "2003년",
          "2004년",
          "2005년",
          "2006년",
          "2007년",
          "2008년",
          "2009년",
          "2010년"
         ],
         "xaxis": "x",
         "y": [
          179972,
          181413,
          187459,
          194596,
          214419,
          274524,
          313589,
          315226,
          270260,
          261085,
          273954,
          260440,
          249428,
          254346,
          267431,
          264807,
          210814
         ],
         "yaxis": "y"
        },
        {
         "hovertemplate": "범행동기=현실불만<br>년도=%{x}<br>발생건수=%{y}<extra></extra>",
         "legendgroup": "현실불만",
         "line": {
          "color": "#B6E880",
          "dash": "solid"
         },
         "marker": {
          "symbol": "circle"
         },
         "mode": "lines+markers",
         "name": "현실불만",
         "orientation": "v",
         "showlegend": true,
         "type": "scatter",
         "x": [
          "1994년",
          "1995년",
          "1996년",
          "1997년",
          "1998년",
          "1999년",
          "2000년",
          "2001년",
          "2002년",
          "2003년",
          "2004년",
          "2005년",
          "2006년",
          "2007년",
          "2008년",
          "2009년",
          "2010년"
         ],
         "xaxis": "x",
         "y": [
          8828,
          8290,
          9000,
          8232,
          8045,
          14144,
          10112,
          10028,
          8071,
          7268,
          7849,
          6870,
          6700,
          6874,
          8887,
          8766,
          7232
         ],
         "yaxis": "y"
        },
        {
         "hovertemplate": "범행동기=부주의<br>년도=%{x}<br>발생건수=%{y}<extra></extra>",
         "legendgroup": "부주의",
         "line": {
          "color": "#FF97FF",
          "dash": "solid"
         },
         "marker": {
          "symbol": "circle"
         },
         "mode": "lines+markers",
         "name": "부주의",
         "orientation": "v",
         "showlegend": true,
         "type": "scatter",
         "x": [
          "1994년",
          "1995년",
          "1996년",
          "1997년",
          "1998년",
          "1999년",
          "2000년",
          "2001년",
          "2002년",
          "2003년",
          "2004년",
          "2005년",
          "2006년",
          "2007년",
          "2008년",
          "2009년",
          "2010년"
         ],
         "xaxis": "x",
         "y": [
          5259,
          6629,
          7630,
          8350,
          8822,
          11537,
          10010,
          8815,
          7606,
          7805,
          3416,
          3175,
          3317,
          3278,
          3690,
          3540,
          3719
         ],
         "yaxis": "y"
        },
        {
         "hovertemplate": "범행동기=기타<br>년도=%{x}<br>발생건수=%{y}<extra></extra>",
         "legendgroup": "기타",
         "line": {
          "color": "#FECB52",
          "dash": "solid"
         },
         "marker": {
          "symbol": "circle"
         },
         "mode": "lines+markers",
         "name": "기타",
         "orientation": "v",
         "showlegend": true,
         "type": "scatter",
         "x": [
          "1994년",
          "1995년",
          "1996년",
          "1997년",
          "1998년",
          "1999년",
          "2000년",
          "2001년",
          "2002년",
          "2003년",
          "2004년",
          "2005년",
          "2006년",
          "2007년",
          "2008년",
          "2009년",
          "2010년"
         ],
         "xaxis": "x",
         "y": [
          110517,
          100805,
          103070,
          108956,
          126812,
          138793,
          146180,
          139312,
          118999,
          127863,
          150350,
          150967,
          156883,
          173566,
          164175,
          163738,
          148680
         ],
         "yaxis": "y"
        }
       ],
       "layout": {
        "legend": {
         "title": {
          "text": "범행동기"
         },
         "tracegroupgap": 0
        },
        "template": {
         "data": {
          "bar": [
           {
            "error_x": {
             "color": "#2a3f5f"
            },
            "error_y": {
             "color": "#2a3f5f"
            },
            "marker": {
             "line": {
              "color": "#E5ECF6",
              "width": 0.5
             },
             "pattern": {
              "fillmode": "overlay",
              "size": 10,
              "solidity": 0.2
             }
            },
            "type": "bar"
           }
          ],
          "barpolar": [
           {
            "marker": {
             "line": {
              "color": "#E5ECF6",
              "width": 0.5
             },
             "pattern": {
              "fillmode": "overlay",
              "size": 10,
              "solidity": 0.2
             }
            },
            "type": "barpolar"
           }
          ],
          "carpet": [
           {
            "aaxis": {
             "endlinecolor": "#2a3f5f",
             "gridcolor": "white",
             "linecolor": "white",
             "minorgridcolor": "white",
             "startlinecolor": "#2a3f5f"
            },
            "baxis": {
             "endlinecolor": "#2a3f5f",
             "gridcolor": "white",
             "linecolor": "white",
             "minorgridcolor": "white",
             "startlinecolor": "#2a3f5f"
            },
            "type": "carpet"
           }
          ],
          "choropleth": [
           {
            "colorbar": {
             "outlinewidth": 0,
             "ticks": ""
            },
            "type": "choropleth"
           }
          ],
          "contour": [
           {
            "colorbar": {
             "outlinewidth": 0,
             "ticks": ""
            },
            "colorscale": [
             [
              0,
              "#0d0887"
             ],
             [
              0.1111111111111111,
              "#46039f"
             ],
             [
              0.2222222222222222,
              "#7201a8"
             ],
             [
              0.3333333333333333,
              "#9c179e"
             ],
             [
              0.4444444444444444,
              "#bd3786"
             ],
             [
              0.5555555555555556,
              "#d8576b"
             ],
             [
              0.6666666666666666,
              "#ed7953"
             ],
             [
              0.7777777777777778,
              "#fb9f3a"
             ],
             [
              0.8888888888888888,
              "#fdca26"
             ],
             [
              1,
              "#f0f921"
             ]
            ],
            "type": "contour"
           }
          ],
          "contourcarpet": [
           {
            "colorbar": {
             "outlinewidth": 0,
             "ticks": ""
            },
            "type": "contourcarpet"
           }
          ],
          "heatmap": [
           {
            "colorbar": {
             "outlinewidth": 0,
             "ticks": ""
            },
            "colorscale": [
             [
              0,
              "#0d0887"
             ],
             [
              0.1111111111111111,
              "#46039f"
             ],
             [
              0.2222222222222222,
              "#7201a8"
             ],
             [
              0.3333333333333333,
              "#9c179e"
             ],
             [
              0.4444444444444444,
              "#bd3786"
             ],
             [
              0.5555555555555556,
              "#d8576b"
             ],
             [
              0.6666666666666666,
              "#ed7953"
             ],
             [
              0.7777777777777778,
              "#fb9f3a"
             ],
             [
              0.8888888888888888,
              "#fdca26"
             ],
             [
              1,
              "#f0f921"
             ]
            ],
            "type": "heatmap"
           }
          ],
          "heatmapgl": [
           {
            "colorbar": {
             "outlinewidth": 0,
             "ticks": ""
            },
            "colorscale": [
             [
              0,
              "#0d0887"
             ],
             [
              0.1111111111111111,
              "#46039f"
             ],
             [
              0.2222222222222222,
              "#7201a8"
             ],
             [
              0.3333333333333333,
              "#9c179e"
             ],
             [
              0.4444444444444444,
              "#bd3786"
             ],
             [
              0.5555555555555556,
              "#d8576b"
             ],
             [
              0.6666666666666666,
              "#ed7953"
             ],
             [
              0.7777777777777778,
              "#fb9f3a"
             ],
             [
              0.8888888888888888,
              "#fdca26"
             ],
             [
              1,
              "#f0f921"
             ]
            ],
            "type": "heatmapgl"
           }
          ],
          "histogram": [
           {
            "marker": {
             "pattern": {
              "fillmode": "overlay",
              "size": 10,
              "solidity": 0.2
             }
            },
            "type": "histogram"
           }
          ],
          "histogram2d": [
           {
            "colorbar": {
             "outlinewidth": 0,
             "ticks": ""
            },
            "colorscale": [
             [
              0,
              "#0d0887"
             ],
             [
              0.1111111111111111,
              "#46039f"
             ],
             [
              0.2222222222222222,
              "#7201a8"
             ],
             [
              0.3333333333333333,
              "#9c179e"
             ],
             [
              0.4444444444444444,
              "#bd3786"
             ],
             [
              0.5555555555555556,
              "#d8576b"
             ],
             [
              0.6666666666666666,
              "#ed7953"
             ],
             [
              0.7777777777777778,
              "#fb9f3a"
             ],
             [
              0.8888888888888888,
              "#fdca26"
             ],
             [
              1,
              "#f0f921"
             ]
            ],
            "type": "histogram2d"
           }
          ],
          "histogram2dcontour": [
           {
            "colorbar": {
             "outlinewidth": 0,
             "ticks": ""
            },
            "colorscale": [
             [
              0,
              "#0d0887"
             ],
             [
              0.1111111111111111,
              "#46039f"
             ],
             [
              0.2222222222222222,
              "#7201a8"
             ],
             [
              0.3333333333333333,
              "#9c179e"
             ],
             [
              0.4444444444444444,
              "#bd3786"
             ],
             [
              0.5555555555555556,
              "#d8576b"
             ],
             [
              0.6666666666666666,
              "#ed7953"
             ],
             [
              0.7777777777777778,
              "#fb9f3a"
             ],
             [
              0.8888888888888888,
              "#fdca26"
             ],
             [
              1,
              "#f0f921"
             ]
            ],
            "type": "histogram2dcontour"
           }
          ],
          "mesh3d": [
           {
            "colorbar": {
             "outlinewidth": 0,
             "ticks": ""
            },
            "type": "mesh3d"
           }
          ],
          "parcoords": [
           {
            "line": {
             "colorbar": {
              "outlinewidth": 0,
              "ticks": ""
             }
            },
            "type": "parcoords"
           }
          ],
          "pie": [
           {
            "automargin": true,
            "type": "pie"
           }
          ],
          "scatter": [
           {
            "fillpattern": {
             "fillmode": "overlay",
             "size": 10,
             "solidity": 0.2
            },
            "type": "scatter"
           }
          ],
          "scatter3d": [
           {
            "line": {
             "colorbar": {
              "outlinewidth": 0,
              "ticks": ""
             }
            },
            "marker": {
             "colorbar": {
              "outlinewidth": 0,
              "ticks": ""
             }
            },
            "type": "scatter3d"
           }
          ],
          "scattercarpet": [
           {
            "marker": {
             "colorbar": {
              "outlinewidth": 0,
              "ticks": ""
             }
            },
            "type": "scattercarpet"
           }
          ],
          "scattergeo": [
           {
            "marker": {
             "colorbar": {
              "outlinewidth": 0,
              "ticks": ""
             }
            },
            "type": "scattergeo"
           }
          ],
          "scattergl": [
           {
            "marker": {
             "colorbar": {
              "outlinewidth": 0,
              "ticks": ""
             }
            },
            "type": "scattergl"
           }
          ],
          "scattermapbox": [
           {
            "marker": {
             "colorbar": {
              "outlinewidth": 0,
              "ticks": ""
             }
            },
            "type": "scattermapbox"
           }
          ],
          "scatterpolar": [
           {
            "marker": {
             "colorbar": {
              "outlinewidth": 0,
              "ticks": ""
             }
            },
            "type": "scatterpolar"
           }
          ],
          "scatterpolargl": [
           {
            "marker": {
             "colorbar": {
              "outlinewidth": 0,
              "ticks": ""
             }
            },
            "type": "scatterpolargl"
           }
          ],
          "scatterternary": [
           {
            "marker": {
             "colorbar": {
              "outlinewidth": 0,
              "ticks": ""
             }
            },
            "type": "scatterternary"
           }
          ],
          "surface": [
           {
            "colorbar": {
             "outlinewidth": 0,
             "ticks": ""
            },
            "colorscale": [
             [
              0,
              "#0d0887"
             ],
             [
              0.1111111111111111,
              "#46039f"
             ],
             [
              0.2222222222222222,
              "#7201a8"
             ],
             [
              0.3333333333333333,
              "#9c179e"
             ],
             [
              0.4444444444444444,
              "#bd3786"
             ],
             [
              0.5555555555555556,
              "#d8576b"
             ],
             [
              0.6666666666666666,
              "#ed7953"
             ],
             [
              0.7777777777777778,
              "#fb9f3a"
             ],
             [
              0.8888888888888888,
              "#fdca26"
             ],
             [
              1,
              "#f0f921"
             ]
            ],
            "type": "surface"
           }
          ],
          "table": [
           {
            "cells": {
             "fill": {
              "color": "#EBF0F8"
             },
             "line": {
              "color": "white"
             }
            },
            "header": {
             "fill": {
              "color": "#C8D4E3"
             },
             "line": {
              "color": "white"
             }
            },
            "type": "table"
           }
          ]
         },
         "layout": {
          "annotationdefaults": {
           "arrowcolor": "#2a3f5f",
           "arrowhead": 0,
           "arrowwidth": 1
          },
          "autotypenumbers": "strict",
          "coloraxis": {
           "colorbar": {
            "outlinewidth": 0,
            "ticks": ""
           }
          },
          "colorscale": {
           "diverging": [
            [
             0,
             "#8e0152"
            ],
            [
             0.1,
             "#c51b7d"
            ],
            [
             0.2,
             "#de77ae"
            ],
            [
             0.3,
             "#f1b6da"
            ],
            [
             0.4,
             "#fde0ef"
            ],
            [
             0.5,
             "#f7f7f7"
            ],
            [
             0.6,
             "#e6f5d0"
            ],
            [
             0.7,
             "#b8e186"
            ],
            [
             0.8,
             "#7fbc41"
            ],
            [
             0.9,
             "#4d9221"
            ],
            [
             1,
             "#276419"
            ]
           ],
           "sequential": [
            [
             0,
             "#0d0887"
            ],
            [
             0.1111111111111111,
             "#46039f"
            ],
            [
             0.2222222222222222,
             "#7201a8"
            ],
            [
             0.3333333333333333,
             "#9c179e"
            ],
            [
             0.4444444444444444,
             "#bd3786"
            ],
            [
             0.5555555555555556,
             "#d8576b"
            ],
            [
             0.6666666666666666,
             "#ed7953"
            ],
            [
             0.7777777777777778,
             "#fb9f3a"
            ],
            [
             0.8888888888888888,
             "#fdca26"
            ],
            [
             1,
             "#f0f921"
            ]
           ],
           "sequentialminus": [
            [
             0,
             "#0d0887"
            ],
            [
             0.1111111111111111,
             "#46039f"
            ],
            [
             0.2222222222222222,
             "#7201a8"
            ],
            [
             0.3333333333333333,
             "#9c179e"
            ],
            [
             0.4444444444444444,
             "#bd3786"
            ],
            [
             0.5555555555555556,
             "#d8576b"
            ],
            [
             0.6666666666666666,
             "#ed7953"
            ],
            [
             0.7777777777777778,
             "#fb9f3a"
            ],
            [
             0.8888888888888888,
             "#fdca26"
            ],
            [
             1,
             "#f0f921"
            ]
           ]
          },
          "colorway": [
           "#636efa",
           "#EF553B",
           "#00cc96",
           "#ab63fa",
           "#FFA15A",
           "#19d3f3",
           "#FF6692",
           "#B6E880",
           "#FF97FF",
           "#FECB52"
          ],
          "font": {
           "color": "#2a3f5f"
          },
          "geo": {
           "bgcolor": "white",
           "lakecolor": "white",
           "landcolor": "#E5ECF6",
           "showlakes": true,
           "showland": true,
           "subunitcolor": "white"
          },
          "hoverlabel": {
           "align": "left"
          },
          "hovermode": "closest",
          "mapbox": {
           "style": "light"
          },
          "paper_bgcolor": "white",
          "plot_bgcolor": "#E5ECF6",
          "polar": {
           "angularaxis": {
            "gridcolor": "white",
            "linecolor": "white",
            "ticks": ""
           },
           "bgcolor": "#E5ECF6",
           "radialaxis": {
            "gridcolor": "white",
            "linecolor": "white",
            "ticks": ""
           }
          },
          "scene": {
           "xaxis": {
            "backgroundcolor": "#E5ECF6",
            "gridcolor": "white",
            "gridwidth": 2,
            "linecolor": "white",
            "showbackground": true,
            "ticks": "",
            "zerolinecolor": "white"
           },
           "yaxis": {
            "backgroundcolor": "#E5ECF6",
            "gridcolor": "white",
            "gridwidth": 2,
            "linecolor": "white",
            "showbackground": true,
            "ticks": "",
            "zerolinecolor": "white"
           },
           "zaxis": {
            "backgroundcolor": "#E5ECF6",
            "gridcolor": "white",
            "gridwidth": 2,
            "linecolor": "white",
            "showbackground": true,
            "ticks": "",
            "zerolinecolor": "white"
           }
          },
          "shapedefaults": {
           "line": {
            "color": "#2a3f5f"
           }
          },
          "ternary": {
           "aaxis": {
            "gridcolor": "white",
            "linecolor": "white",
            "ticks": ""
           },
           "baxis": {
            "gridcolor": "white",
            "linecolor": "white",
            "ticks": ""
           },
           "bgcolor": "#E5ECF6",
           "caxis": {
            "gridcolor": "white",
            "linecolor": "white",
            "ticks": ""
           }
          },
          "title": {
           "x": 0.05
          },
          "xaxis": {
           "automargin": true,
           "gridcolor": "white",
           "linecolor": "white",
           "ticks": "",
           "title": {
            "standoff": 15
           },
           "zerolinecolor": "white",
           "zerolinewidth": 2
          },
          "yaxis": {
           "automargin": true,
           "gridcolor": "white",
           "linecolor": "white",
           "ticks": "",
           "title": {
            "standoff": 15
           },
           "zerolinecolor": "white",
           "zerolinewidth": 2
          }
         }
        },
        "title": {
         "text": "[ 범행동기별 발생한 폭력범 건수 ]"
        },
        "xaxis": {
         "anchor": "y",
         "domain": [
          0,
          1
         ],
         "title": {
          "text": "년도"
         }
        },
        "yaxis": {
         "anchor": "x",
         "domain": [
          0,
          1
         ],
         "title": {
          "text": "발생건수"
         }
        }
       }
      }
     },
     "metadata": {},
     "output_type": "display_data"
    }
   ],
   "source": [
    "df_melted = motive_df_total.melt(id_vars=[\"중\", \"소\", \"범행동기\"], var_name=\"년도\", value_name=\"발생건수\")\n",
    "\n",
    "fig = px.line(df_melted, x=\"년도\", y=\"발생건수\", color=\"범행동기\", title=\"[ 범행동기별 발생한 폭력범 건수 ]\", markers=True)\n",
    "fig.show()"
   ]
  },
  {
   "cell_type": "code",
   "execution_count": 30,
   "metadata": {},
   "outputs": [],
   "source": [
    "lsw.close()"
   ]
  },
  {
   "cell_type": "code",
   "execution_count": 34,
   "metadata": {},
   "outputs": [
    {
     "data": {
      "application/vnd.plotly.v1+json": {
       "config": {
        "plotlyServerURL": "https://plot.ly"
       },
       "data": [
        {
         "lat": [
          37.5665,
          35.1796,
          37.4563,
          35.8714,
          36.3504,
          35.1595,
          37.2636,
          35.5384,
          36.487,
          37.6584
         ],
         "locationmode": "ISO-3",
         "lon": [
          126.978,
          129.0756,
          126.7052,
          128.6014,
          127.3845,
          126.8526,
          127.0286,
          129.3114,
          127.2826,
          126.832
         ],
         "marker": {
          "color": "blue",
          "size": 8,
          "symbol": "circle"
         },
         "mode": "markers",
         "text": [
          "Seoul",
          "Busan",
          "Incheon",
          "Daegu",
          "Daejeon",
          "Gwangju",
          "Suwon",
          "Ulsan",
          "Sejong",
          "Goyang"
         ],
         "type": "scattergeo"
        }
       ],
       "layout": {
        "geo": {
         "countrycolor": "rgb(204, 204, 204)",
         "landcolor": "rgb(217, 217, 217)",
         "lataxis": {
          "range": [
           33,
           39
          ]
         },
         "lonaxis": {
          "range": [
           124,
           131
          ]
         },
         "projection": {
          "type": "mercator"
         },
         "resolution": 50,
         "scope": "asia",
         "showcountries": true,
         "showland": true
        },
        "template": {
         "data": {
          "bar": [
           {
            "error_x": {
             "color": "#2a3f5f"
            },
            "error_y": {
             "color": "#2a3f5f"
            },
            "marker": {
             "line": {
              "color": "#E5ECF6",
              "width": 0.5
             },
             "pattern": {
              "fillmode": "overlay",
              "size": 10,
              "solidity": 0.2
             }
            },
            "type": "bar"
           }
          ],
          "barpolar": [
           {
            "marker": {
             "line": {
              "color": "#E5ECF6",
              "width": 0.5
             },
             "pattern": {
              "fillmode": "overlay",
              "size": 10,
              "solidity": 0.2
             }
            },
            "type": "barpolar"
           }
          ],
          "carpet": [
           {
            "aaxis": {
             "endlinecolor": "#2a3f5f",
             "gridcolor": "white",
             "linecolor": "white",
             "minorgridcolor": "white",
             "startlinecolor": "#2a3f5f"
            },
            "baxis": {
             "endlinecolor": "#2a3f5f",
             "gridcolor": "white",
             "linecolor": "white",
             "minorgridcolor": "white",
             "startlinecolor": "#2a3f5f"
            },
            "type": "carpet"
           }
          ],
          "choropleth": [
           {
            "colorbar": {
             "outlinewidth": 0,
             "ticks": ""
            },
            "type": "choropleth"
           }
          ],
          "contour": [
           {
            "colorbar": {
             "outlinewidth": 0,
             "ticks": ""
            },
            "colorscale": [
             [
              0,
              "#0d0887"
             ],
             [
              0.1111111111111111,
              "#46039f"
             ],
             [
              0.2222222222222222,
              "#7201a8"
             ],
             [
              0.3333333333333333,
              "#9c179e"
             ],
             [
              0.4444444444444444,
              "#bd3786"
             ],
             [
              0.5555555555555556,
              "#d8576b"
             ],
             [
              0.6666666666666666,
              "#ed7953"
             ],
             [
              0.7777777777777778,
              "#fb9f3a"
             ],
             [
              0.8888888888888888,
              "#fdca26"
             ],
             [
              1,
              "#f0f921"
             ]
            ],
            "type": "contour"
           }
          ],
          "contourcarpet": [
           {
            "colorbar": {
             "outlinewidth": 0,
             "ticks": ""
            },
            "type": "contourcarpet"
           }
          ],
          "heatmap": [
           {
            "colorbar": {
             "outlinewidth": 0,
             "ticks": ""
            },
            "colorscale": [
             [
              0,
              "#0d0887"
             ],
             [
              0.1111111111111111,
              "#46039f"
             ],
             [
              0.2222222222222222,
              "#7201a8"
             ],
             [
              0.3333333333333333,
              "#9c179e"
             ],
             [
              0.4444444444444444,
              "#bd3786"
             ],
             [
              0.5555555555555556,
              "#d8576b"
             ],
             [
              0.6666666666666666,
              "#ed7953"
             ],
             [
              0.7777777777777778,
              "#fb9f3a"
             ],
             [
              0.8888888888888888,
              "#fdca26"
             ],
             [
              1,
              "#f0f921"
             ]
            ],
            "type": "heatmap"
           }
          ],
          "heatmapgl": [
           {
            "colorbar": {
             "outlinewidth": 0,
             "ticks": ""
            },
            "colorscale": [
             [
              0,
              "#0d0887"
             ],
             [
              0.1111111111111111,
              "#46039f"
             ],
             [
              0.2222222222222222,
              "#7201a8"
             ],
             [
              0.3333333333333333,
              "#9c179e"
             ],
             [
              0.4444444444444444,
              "#bd3786"
             ],
             [
              0.5555555555555556,
              "#d8576b"
             ],
             [
              0.6666666666666666,
              "#ed7953"
             ],
             [
              0.7777777777777778,
              "#fb9f3a"
             ],
             [
              0.8888888888888888,
              "#fdca26"
             ],
             [
              1,
              "#f0f921"
             ]
            ],
            "type": "heatmapgl"
           }
          ],
          "histogram": [
           {
            "marker": {
             "pattern": {
              "fillmode": "overlay",
              "size": 10,
              "solidity": 0.2
             }
            },
            "type": "histogram"
           }
          ],
          "histogram2d": [
           {
            "colorbar": {
             "outlinewidth": 0,
             "ticks": ""
            },
            "colorscale": [
             [
              0,
              "#0d0887"
             ],
             [
              0.1111111111111111,
              "#46039f"
             ],
             [
              0.2222222222222222,
              "#7201a8"
             ],
             [
              0.3333333333333333,
              "#9c179e"
             ],
             [
              0.4444444444444444,
              "#bd3786"
             ],
             [
              0.5555555555555556,
              "#d8576b"
             ],
             [
              0.6666666666666666,
              "#ed7953"
             ],
             [
              0.7777777777777778,
              "#fb9f3a"
             ],
             [
              0.8888888888888888,
              "#fdca26"
             ],
             [
              1,
              "#f0f921"
             ]
            ],
            "type": "histogram2d"
           }
          ],
          "histogram2dcontour": [
           {
            "colorbar": {
             "outlinewidth": 0,
             "ticks": ""
            },
            "colorscale": [
             [
              0,
              "#0d0887"
             ],
             [
              0.1111111111111111,
              "#46039f"
             ],
             [
              0.2222222222222222,
              "#7201a8"
             ],
             [
              0.3333333333333333,
              "#9c179e"
             ],
             [
              0.4444444444444444,
              "#bd3786"
             ],
             [
              0.5555555555555556,
              "#d8576b"
             ],
             [
              0.6666666666666666,
              "#ed7953"
             ],
             [
              0.7777777777777778,
              "#fb9f3a"
             ],
             [
              0.8888888888888888,
              "#fdca26"
             ],
             [
              1,
              "#f0f921"
             ]
            ],
            "type": "histogram2dcontour"
           }
          ],
          "mesh3d": [
           {
            "colorbar": {
             "outlinewidth": 0,
             "ticks": ""
            },
            "type": "mesh3d"
           }
          ],
          "parcoords": [
           {
            "line": {
             "colorbar": {
              "outlinewidth": 0,
              "ticks": ""
             }
            },
            "type": "parcoords"
           }
          ],
          "pie": [
           {
            "automargin": true,
            "type": "pie"
           }
          ],
          "scatter": [
           {
            "fillpattern": {
             "fillmode": "overlay",
             "size": 10,
             "solidity": 0.2
            },
            "type": "scatter"
           }
          ],
          "scatter3d": [
           {
            "line": {
             "colorbar": {
              "outlinewidth": 0,
              "ticks": ""
             }
            },
            "marker": {
             "colorbar": {
              "outlinewidth": 0,
              "ticks": ""
             }
            },
            "type": "scatter3d"
           }
          ],
          "scattercarpet": [
           {
            "marker": {
             "colorbar": {
              "outlinewidth": 0,
              "ticks": ""
             }
            },
            "type": "scattercarpet"
           }
          ],
          "scattergeo": [
           {
            "marker": {
             "colorbar": {
              "outlinewidth": 0,
              "ticks": ""
             }
            },
            "type": "scattergeo"
           }
          ],
          "scattergl": [
           {
            "marker": {
             "colorbar": {
              "outlinewidth": 0,
              "ticks": ""
             }
            },
            "type": "scattergl"
           }
          ],
          "scattermapbox": [
           {
            "marker": {
             "colorbar": {
              "outlinewidth": 0,
              "ticks": ""
             }
            },
            "type": "scattermapbox"
           }
          ],
          "scatterpolar": [
           {
            "marker": {
             "colorbar": {
              "outlinewidth": 0,
              "ticks": ""
             }
            },
            "type": "scatterpolar"
           }
          ],
          "scatterpolargl": [
           {
            "marker": {
             "colorbar": {
              "outlinewidth": 0,
              "ticks": ""
             }
            },
            "type": "scatterpolargl"
           }
          ],
          "scatterternary": [
           {
            "marker": {
             "colorbar": {
              "outlinewidth": 0,
              "ticks": ""
             }
            },
            "type": "scatterternary"
           }
          ],
          "surface": [
           {
            "colorbar": {
             "outlinewidth": 0,
             "ticks": ""
            },
            "colorscale": [
             [
              0,
              "#0d0887"
             ],
             [
              0.1111111111111111,
              "#46039f"
             ],
             [
              0.2222222222222222,
              "#7201a8"
             ],
             [
              0.3333333333333333,
              "#9c179e"
             ],
             [
              0.4444444444444444,
              "#bd3786"
             ],
             [
              0.5555555555555556,
              "#d8576b"
             ],
             [
              0.6666666666666666,
              "#ed7953"
             ],
             [
              0.7777777777777778,
              "#fb9f3a"
             ],
             [
              0.8888888888888888,
              "#fdca26"
             ],
             [
              1,
              "#f0f921"
             ]
            ],
            "type": "surface"
           }
          ],
          "table": [
           {
            "cells": {
             "fill": {
              "color": "#EBF0F8"
             },
             "line": {
              "color": "white"
             }
            },
            "header": {
             "fill": {
              "color": "#C8D4E3"
             },
             "line": {
              "color": "white"
             }
            },
            "type": "table"
           }
          ]
         },
         "layout": {
          "annotationdefaults": {
           "arrowcolor": "#2a3f5f",
           "arrowhead": 0,
           "arrowwidth": 1
          },
          "autotypenumbers": "strict",
          "coloraxis": {
           "colorbar": {
            "outlinewidth": 0,
            "ticks": ""
           }
          },
          "colorscale": {
           "diverging": [
            [
             0,
             "#8e0152"
            ],
            [
             0.1,
             "#c51b7d"
            ],
            [
             0.2,
             "#de77ae"
            ],
            [
             0.3,
             "#f1b6da"
            ],
            [
             0.4,
             "#fde0ef"
            ],
            [
             0.5,
             "#f7f7f7"
            ],
            [
             0.6,
             "#e6f5d0"
            ],
            [
             0.7,
             "#b8e186"
            ],
            [
             0.8,
             "#7fbc41"
            ],
            [
             0.9,
             "#4d9221"
            ],
            [
             1,
             "#276419"
            ]
           ],
           "sequential": [
            [
             0,
             "#0d0887"
            ],
            [
             0.1111111111111111,
             "#46039f"
            ],
            [
             0.2222222222222222,
             "#7201a8"
            ],
            [
             0.3333333333333333,
             "#9c179e"
            ],
            [
             0.4444444444444444,
             "#bd3786"
            ],
            [
             0.5555555555555556,
             "#d8576b"
            ],
            [
             0.6666666666666666,
             "#ed7953"
            ],
            [
             0.7777777777777778,
             "#fb9f3a"
            ],
            [
             0.8888888888888888,
             "#fdca26"
            ],
            [
             1,
             "#f0f921"
            ]
           ],
           "sequentialminus": [
            [
             0,
             "#0d0887"
            ],
            [
             0.1111111111111111,
             "#46039f"
            ],
            [
             0.2222222222222222,
             "#7201a8"
            ],
            [
             0.3333333333333333,
             "#9c179e"
            ],
            [
             0.4444444444444444,
             "#bd3786"
            ],
            [
             0.5555555555555556,
             "#d8576b"
            ],
            [
             0.6666666666666666,
             "#ed7953"
            ],
            [
             0.7777777777777778,
             "#fb9f3a"
            ],
            [
             0.8888888888888888,
             "#fdca26"
            ],
            [
             1,
             "#f0f921"
            ]
           ]
          },
          "colorway": [
           "#636efa",
           "#EF553B",
           "#00cc96",
           "#ab63fa",
           "#FFA15A",
           "#19d3f3",
           "#FF6692",
           "#B6E880",
           "#FF97FF",
           "#FECB52"
          ],
          "font": {
           "color": "#2a3f5f"
          },
          "geo": {
           "bgcolor": "white",
           "lakecolor": "white",
           "landcolor": "#E5ECF6",
           "showlakes": true,
           "showland": true,
           "subunitcolor": "white"
          },
          "hoverlabel": {
           "align": "left"
          },
          "hovermode": "closest",
          "mapbox": {
           "style": "light"
          },
          "paper_bgcolor": "white",
          "plot_bgcolor": "#E5ECF6",
          "polar": {
           "angularaxis": {
            "gridcolor": "white",
            "linecolor": "white",
            "ticks": ""
           },
           "bgcolor": "#E5ECF6",
           "radialaxis": {
            "gridcolor": "white",
            "linecolor": "white",
            "ticks": ""
           }
          },
          "scene": {
           "xaxis": {
            "backgroundcolor": "#E5ECF6",
            "gridcolor": "white",
            "gridwidth": 2,
            "linecolor": "white",
            "showbackground": true,
            "ticks": "",
            "zerolinecolor": "white"
           },
           "yaxis": {
            "backgroundcolor": "#E5ECF6",
            "gridcolor": "white",
            "gridwidth": 2,
            "linecolor": "white",
            "showbackground": true,
            "ticks": "",
            "zerolinecolor": "white"
           },
           "zaxis": {
            "backgroundcolor": "#E5ECF6",
            "gridcolor": "white",
            "gridwidth": 2,
            "linecolor": "white",
            "showbackground": true,
            "ticks": "",
            "zerolinecolor": "white"
           }
          },
          "shapedefaults": {
           "line": {
            "color": "#2a3f5f"
           }
          },
          "ternary": {
           "aaxis": {
            "gridcolor": "white",
            "linecolor": "white",
            "ticks": ""
           },
           "baxis": {
            "gridcolor": "white",
            "linecolor": "white",
            "ticks": ""
           },
           "bgcolor": "#E5ECF6",
           "caxis": {
            "gridcolor": "white",
            "linecolor": "white",
            "ticks": ""
           }
          },
          "title": {
           "x": 0.05
          },
          "xaxis": {
           "automargin": true,
           "gridcolor": "white",
           "linecolor": "white",
           "ticks": "",
           "title": {
            "standoff": 15
           },
           "zerolinecolor": "white",
           "zerolinewidth": 2
          },
          "yaxis": {
           "automargin": true,
           "gridcolor": "white",
           "linecolor": "white",
           "ticks": "",
           "title": {
            "standoff": 15
           },
           "zerolinecolor": "white",
           "zerolinewidth": 2
          }
         }
        },
        "title": {
         "text": "Sample Geographic Scatter Plot of South Korea"
        }
       }
      }
     },
     "metadata": {},
     "output_type": "display_data"
    }
   ],
   "source": [
    "import plotly.graph_objects as go\n",
    "\n",
    "# Sample data points for various locations in South Korea\n",
    "data = [\n",
    "    {'city': 'Seoul', 'lat': 37.5665, 'lon': 126.9780},\n",
    "    {'city': 'Busan', 'lat': 35.1796, 'lon': 129.0756},\n",
    "    {'city': 'Incheon', 'lat': 37.4563, 'lon': 126.7052},\n",
    "    {'city': 'Daegu', 'lat': 35.8714, 'lon': 128.6014},\n",
    "    {'city': 'Daejeon', 'lat': 36.3504, 'lon': 127.3845},\n",
    "    {'city': 'Gwangju', 'lat': 35.1595, 'lon': 126.8526},\n",
    "    {'city': 'Suwon', 'lat': 37.2636, 'lon': 127.0286},\n",
    "    {'city': 'Ulsan', 'lat': 35.5384, 'lon': 129.3114},\n",
    "    {'city': 'Sejong', 'lat': 36.4870, 'lon': 127.2826},\n",
    "    {'city': 'Goyang', 'lat': 37.6584, 'lon': 126.8320}\n",
    "]\n",
    "\n",
    "# Extracting data for plotting\n",
    "lats = [item['lat'] for item in data]\n",
    "lons = [item['lon'] for item in data]\n",
    "cities = [item['city'] for item in data]\n",
    "\n",
    "# Creating the scattergeo plot\n",
    "fig = go.Figure()\n",
    "\n",
    "fig.add_trace(go.Scattergeo(\n",
    "    locationmode='ISO-3',\n",
    "    lon=lons,\n",
    "    lat=lats,\n",
    "    text=cities,\n",
    "    mode='markers',\n",
    "    marker=dict(\n",
    "        size=8,\n",
    "        symbol='circle',\n",
    "        color='blue',\n",
    "    )\n",
    "))\n",
    "\n",
    "fig.update_layout(\n",
    "    title='Sample Geographic Scatter Plot of South Korea',\n",
    "    geo=dict(\n",
    "        scope='asia',\n",
    "        resolution=50,\n",
    "        showland=True,\n",
    "        landcolor=\"rgb(217, 217, 217)\",\n",
    "        showcountries=True,\n",
    "        countrycolor=\"rgb(204, 204, 204)\",\n",
    "        lataxis=dict(\n",
    "            range=[33, 39]\n",
    "        ),\n",
    "        lonaxis=dict(\n",
    "            range=[124, 131]\n",
    "        ),\n",
    "        projection=dict(\n",
    "            type='mercator'\n",
    "        )\n",
    "    )\n",
    ")\n",
    "\n",
    "fig.show()\n"
   ]
  },
  {
   "cell_type": "code",
   "execution_count": 35,
   "metadata": {},
   "outputs": [
    {
     "data": {
      "application/vnd.plotly.v1+json": {
       "config": {
        "plotlyServerURL": "https://plot.ly"
       },
       "data": [
        {
         "lat": [
          37.5665,
          35.1796,
          37.4563,
          35.8714,
          36.3504,
          35.1595,
          37.2636,
          35.5384,
          36.487,
          37.6584
         ],
         "lon": [
          126.978,
          129.0756,
          126.7052,
          128.6014,
          127.3845,
          126.8526,
          127.0286,
          129.3114,
          127.2826,
          126.832
         ],
         "marker": {
          "color": "blue",
          "size": 9
         },
         "mode": "markers",
         "text": [
          "Seoul",
          "Busan",
          "Incheon",
          "Daegu",
          "Daejeon",
          "Gwangju",
          "Suwon",
          "Ulsan",
          "Sejong",
          "Goyang"
         ],
         "type": "scattermapbox"
        }
       ],
       "layout": {
        "autosize": true,
        "hovermode": "closest",
        "mapbox": {
         "accesstoken": "YOUR_MAPBOX_ACCESS_TOKEN",
         "bearing": 0,
         "center": {
          "lat": 36.5,
          "lon": 127.5
         },
         "pitch": 0,
         "style": "streets",
         "zoom": 5
        },
        "template": {
         "data": {
          "bar": [
           {
            "error_x": {
             "color": "#2a3f5f"
            },
            "error_y": {
             "color": "#2a3f5f"
            },
            "marker": {
             "line": {
              "color": "#E5ECF6",
              "width": 0.5
             },
             "pattern": {
              "fillmode": "overlay",
              "size": 10,
              "solidity": 0.2
             }
            },
            "type": "bar"
           }
          ],
          "barpolar": [
           {
            "marker": {
             "line": {
              "color": "#E5ECF6",
              "width": 0.5
             },
             "pattern": {
              "fillmode": "overlay",
              "size": 10,
              "solidity": 0.2
             }
            },
            "type": "barpolar"
           }
          ],
          "carpet": [
           {
            "aaxis": {
             "endlinecolor": "#2a3f5f",
             "gridcolor": "white",
             "linecolor": "white",
             "minorgridcolor": "white",
             "startlinecolor": "#2a3f5f"
            },
            "baxis": {
             "endlinecolor": "#2a3f5f",
             "gridcolor": "white",
             "linecolor": "white",
             "minorgridcolor": "white",
             "startlinecolor": "#2a3f5f"
            },
            "type": "carpet"
           }
          ],
          "choropleth": [
           {
            "colorbar": {
             "outlinewidth": 0,
             "ticks": ""
            },
            "type": "choropleth"
           }
          ],
          "contour": [
           {
            "colorbar": {
             "outlinewidth": 0,
             "ticks": ""
            },
            "colorscale": [
             [
              0,
              "#0d0887"
             ],
             [
              0.1111111111111111,
              "#46039f"
             ],
             [
              0.2222222222222222,
              "#7201a8"
             ],
             [
              0.3333333333333333,
              "#9c179e"
             ],
             [
              0.4444444444444444,
              "#bd3786"
             ],
             [
              0.5555555555555556,
              "#d8576b"
             ],
             [
              0.6666666666666666,
              "#ed7953"
             ],
             [
              0.7777777777777778,
              "#fb9f3a"
             ],
             [
              0.8888888888888888,
              "#fdca26"
             ],
             [
              1,
              "#f0f921"
             ]
            ],
            "type": "contour"
           }
          ],
          "contourcarpet": [
           {
            "colorbar": {
             "outlinewidth": 0,
             "ticks": ""
            },
            "type": "contourcarpet"
           }
          ],
          "heatmap": [
           {
            "colorbar": {
             "outlinewidth": 0,
             "ticks": ""
            },
            "colorscale": [
             [
              0,
              "#0d0887"
             ],
             [
              0.1111111111111111,
              "#46039f"
             ],
             [
              0.2222222222222222,
              "#7201a8"
             ],
             [
              0.3333333333333333,
              "#9c179e"
             ],
             [
              0.4444444444444444,
              "#bd3786"
             ],
             [
              0.5555555555555556,
              "#d8576b"
             ],
             [
              0.6666666666666666,
              "#ed7953"
             ],
             [
              0.7777777777777778,
              "#fb9f3a"
             ],
             [
              0.8888888888888888,
              "#fdca26"
             ],
             [
              1,
              "#f0f921"
             ]
            ],
            "type": "heatmap"
           }
          ],
          "heatmapgl": [
           {
            "colorbar": {
             "outlinewidth": 0,
             "ticks": ""
            },
            "colorscale": [
             [
              0,
              "#0d0887"
             ],
             [
              0.1111111111111111,
              "#46039f"
             ],
             [
              0.2222222222222222,
              "#7201a8"
             ],
             [
              0.3333333333333333,
              "#9c179e"
             ],
             [
              0.4444444444444444,
              "#bd3786"
             ],
             [
              0.5555555555555556,
              "#d8576b"
             ],
             [
              0.6666666666666666,
              "#ed7953"
             ],
             [
              0.7777777777777778,
              "#fb9f3a"
             ],
             [
              0.8888888888888888,
              "#fdca26"
             ],
             [
              1,
              "#f0f921"
             ]
            ],
            "type": "heatmapgl"
           }
          ],
          "histogram": [
           {
            "marker": {
             "pattern": {
              "fillmode": "overlay",
              "size": 10,
              "solidity": 0.2
             }
            },
            "type": "histogram"
           }
          ],
          "histogram2d": [
           {
            "colorbar": {
             "outlinewidth": 0,
             "ticks": ""
            },
            "colorscale": [
             [
              0,
              "#0d0887"
             ],
             [
              0.1111111111111111,
              "#46039f"
             ],
             [
              0.2222222222222222,
              "#7201a8"
             ],
             [
              0.3333333333333333,
              "#9c179e"
             ],
             [
              0.4444444444444444,
              "#bd3786"
             ],
             [
              0.5555555555555556,
              "#d8576b"
             ],
             [
              0.6666666666666666,
              "#ed7953"
             ],
             [
              0.7777777777777778,
              "#fb9f3a"
             ],
             [
              0.8888888888888888,
              "#fdca26"
             ],
             [
              1,
              "#f0f921"
             ]
            ],
            "type": "histogram2d"
           }
          ],
          "histogram2dcontour": [
           {
            "colorbar": {
             "outlinewidth": 0,
             "ticks": ""
            },
            "colorscale": [
             [
              0,
              "#0d0887"
             ],
             [
              0.1111111111111111,
              "#46039f"
             ],
             [
              0.2222222222222222,
              "#7201a8"
             ],
             [
              0.3333333333333333,
              "#9c179e"
             ],
             [
              0.4444444444444444,
              "#bd3786"
             ],
             [
              0.5555555555555556,
              "#d8576b"
             ],
             [
              0.6666666666666666,
              "#ed7953"
             ],
             [
              0.7777777777777778,
              "#fb9f3a"
             ],
             [
              0.8888888888888888,
              "#fdca26"
             ],
             [
              1,
              "#f0f921"
             ]
            ],
            "type": "histogram2dcontour"
           }
          ],
          "mesh3d": [
           {
            "colorbar": {
             "outlinewidth": 0,
             "ticks": ""
            },
            "type": "mesh3d"
           }
          ],
          "parcoords": [
           {
            "line": {
             "colorbar": {
              "outlinewidth": 0,
              "ticks": ""
             }
            },
            "type": "parcoords"
           }
          ],
          "pie": [
           {
            "automargin": true,
            "type": "pie"
           }
          ],
          "scatter": [
           {
            "fillpattern": {
             "fillmode": "overlay",
             "size": 10,
             "solidity": 0.2
            },
            "type": "scatter"
           }
          ],
          "scatter3d": [
           {
            "line": {
             "colorbar": {
              "outlinewidth": 0,
              "ticks": ""
             }
            },
            "marker": {
             "colorbar": {
              "outlinewidth": 0,
              "ticks": ""
             }
            },
            "type": "scatter3d"
           }
          ],
          "scattercarpet": [
           {
            "marker": {
             "colorbar": {
              "outlinewidth": 0,
              "ticks": ""
             }
            },
            "type": "scattercarpet"
           }
          ],
          "scattergeo": [
           {
            "marker": {
             "colorbar": {
              "outlinewidth": 0,
              "ticks": ""
             }
            },
            "type": "scattergeo"
           }
          ],
          "scattergl": [
           {
            "marker": {
             "colorbar": {
              "outlinewidth": 0,
              "ticks": ""
             }
            },
            "type": "scattergl"
           }
          ],
          "scattermapbox": [
           {
            "marker": {
             "colorbar": {
              "outlinewidth": 0,
              "ticks": ""
             }
            },
            "type": "scattermapbox"
           }
          ],
          "scatterpolar": [
           {
            "marker": {
             "colorbar": {
              "outlinewidth": 0,
              "ticks": ""
             }
            },
            "type": "scatterpolar"
           }
          ],
          "scatterpolargl": [
           {
            "marker": {
             "colorbar": {
              "outlinewidth": 0,
              "ticks": ""
             }
            },
            "type": "scatterpolargl"
           }
          ],
          "scatterternary": [
           {
            "marker": {
             "colorbar": {
              "outlinewidth": 0,
              "ticks": ""
             }
            },
            "type": "scatterternary"
           }
          ],
          "surface": [
           {
            "colorbar": {
             "outlinewidth": 0,
             "ticks": ""
            },
            "colorscale": [
             [
              0,
              "#0d0887"
             ],
             [
              0.1111111111111111,
              "#46039f"
             ],
             [
              0.2222222222222222,
              "#7201a8"
             ],
             [
              0.3333333333333333,
              "#9c179e"
             ],
             [
              0.4444444444444444,
              "#bd3786"
             ],
             [
              0.5555555555555556,
              "#d8576b"
             ],
             [
              0.6666666666666666,
              "#ed7953"
             ],
             [
              0.7777777777777778,
              "#fb9f3a"
             ],
             [
              0.8888888888888888,
              "#fdca26"
             ],
             [
              1,
              "#f0f921"
             ]
            ],
            "type": "surface"
           }
          ],
          "table": [
           {
            "cells": {
             "fill": {
              "color": "#EBF0F8"
             },
             "line": {
              "color": "white"
             }
            },
            "header": {
             "fill": {
              "color": "#C8D4E3"
             },
             "line": {
              "color": "white"
             }
            },
            "type": "table"
           }
          ]
         },
         "layout": {
          "annotationdefaults": {
           "arrowcolor": "#2a3f5f",
           "arrowhead": 0,
           "arrowwidth": 1
          },
          "autotypenumbers": "strict",
          "coloraxis": {
           "colorbar": {
            "outlinewidth": 0,
            "ticks": ""
           }
          },
          "colorscale": {
           "diverging": [
            [
             0,
             "#8e0152"
            ],
            [
             0.1,
             "#c51b7d"
            ],
            [
             0.2,
             "#de77ae"
            ],
            [
             0.3,
             "#f1b6da"
            ],
            [
             0.4,
             "#fde0ef"
            ],
            [
             0.5,
             "#f7f7f7"
            ],
            [
             0.6,
             "#e6f5d0"
            ],
            [
             0.7,
             "#b8e186"
            ],
            [
             0.8,
             "#7fbc41"
            ],
            [
             0.9,
             "#4d9221"
            ],
            [
             1,
             "#276419"
            ]
           ],
           "sequential": [
            [
             0,
             "#0d0887"
            ],
            [
             0.1111111111111111,
             "#46039f"
            ],
            [
             0.2222222222222222,
             "#7201a8"
            ],
            [
             0.3333333333333333,
             "#9c179e"
            ],
            [
             0.4444444444444444,
             "#bd3786"
            ],
            [
             0.5555555555555556,
             "#d8576b"
            ],
            [
             0.6666666666666666,
             "#ed7953"
            ],
            [
             0.7777777777777778,
             "#fb9f3a"
            ],
            [
             0.8888888888888888,
             "#fdca26"
            ],
            [
             1,
             "#f0f921"
            ]
           ],
           "sequentialminus": [
            [
             0,
             "#0d0887"
            ],
            [
             0.1111111111111111,
             "#46039f"
            ],
            [
             0.2222222222222222,
             "#7201a8"
            ],
            [
             0.3333333333333333,
             "#9c179e"
            ],
            [
             0.4444444444444444,
             "#bd3786"
            ],
            [
             0.5555555555555556,
             "#d8576b"
            ],
            [
             0.6666666666666666,
             "#ed7953"
            ],
            [
             0.7777777777777778,
             "#fb9f3a"
            ],
            [
             0.8888888888888888,
             "#fdca26"
            ],
            [
             1,
             "#f0f921"
            ]
           ]
          },
          "colorway": [
           "#636efa",
           "#EF553B",
           "#00cc96",
           "#ab63fa",
           "#FFA15A",
           "#19d3f3",
           "#FF6692",
           "#B6E880",
           "#FF97FF",
           "#FECB52"
          ],
          "font": {
           "color": "#2a3f5f"
          },
          "geo": {
           "bgcolor": "white",
           "lakecolor": "white",
           "landcolor": "#E5ECF6",
           "showlakes": true,
           "showland": true,
           "subunitcolor": "white"
          },
          "hoverlabel": {
           "align": "left"
          },
          "hovermode": "closest",
          "mapbox": {
           "style": "light"
          },
          "paper_bgcolor": "white",
          "plot_bgcolor": "#E5ECF6",
          "polar": {
           "angularaxis": {
            "gridcolor": "white",
            "linecolor": "white",
            "ticks": ""
           },
           "bgcolor": "#E5ECF6",
           "radialaxis": {
            "gridcolor": "white",
            "linecolor": "white",
            "ticks": ""
           }
          },
          "scene": {
           "xaxis": {
            "backgroundcolor": "#E5ECF6",
            "gridcolor": "white",
            "gridwidth": 2,
            "linecolor": "white",
            "showbackground": true,
            "ticks": "",
            "zerolinecolor": "white"
           },
           "yaxis": {
            "backgroundcolor": "#E5ECF6",
            "gridcolor": "white",
            "gridwidth": 2,
            "linecolor": "white",
            "showbackground": true,
            "ticks": "",
            "zerolinecolor": "white"
           },
           "zaxis": {
            "backgroundcolor": "#E5ECF6",
            "gridcolor": "white",
            "gridwidth": 2,
            "linecolor": "white",
            "showbackground": true,
            "ticks": "",
            "zerolinecolor": "white"
           }
          },
          "shapedefaults": {
           "line": {
            "color": "#2a3f5f"
           }
          },
          "ternary": {
           "aaxis": {
            "gridcolor": "white",
            "linecolor": "white",
            "ticks": ""
           },
           "baxis": {
            "gridcolor": "white",
            "linecolor": "white",
            "ticks": ""
           },
           "bgcolor": "#E5ECF6",
           "caxis": {
            "gridcolor": "white",
            "linecolor": "white",
            "ticks": ""
           }
          },
          "title": {
           "x": 0.05
          },
          "xaxis": {
           "automargin": true,
           "gridcolor": "white",
           "linecolor": "white",
           "ticks": "",
           "title": {
            "standoff": 15
           },
           "zerolinecolor": "white",
           "zerolinewidth": 2
          },
          "yaxis": {
           "automargin": true,
           "gridcolor": "white",
           "linecolor": "white",
           "ticks": "",
           "title": {
            "standoff": 15
           },
           "zerolinecolor": "white",
           "zerolinewidth": 2
          }
         }
        },
        "title": {
         "text": "Sample Geographic Scatter Plot of South Korea"
        }
       }
      }
     },
     "metadata": {},
     "output_type": "display_data"
    }
   ],
   "source": [
    "import plotly.graph_objects as go\n",
    "\n",
    "# Your Mapbox access token\n",
    "mapbox_access_token = 'YOUR_MAPBOX_ACCESS_TOKEN'\n",
    "\n",
    "# Sample data points for various locations in South Korea\n",
    "data = [\n",
    "    {'city': 'Seoul', 'lat': 37.5665, 'lon': 126.9780},\n",
    "    {'city': 'Busan', 'lat': 35.1796, 'lon': 129.0756},\n",
    "    {'city': 'Incheon', 'lat': 37.4563, 'lon': 126.7052},\n",
    "    {'city': 'Daegu', 'lat': 35.8714, 'lon': 128.6014},\n",
    "    {'city': 'Daejeon', 'lat': 36.3504, 'lon': 127.3845},\n",
    "    {'city': 'Gwangju', 'lat': 35.1595, 'lon': 126.8526},\n",
    "    {'city': 'Suwon', 'lat': 37.2636, 'lon': 127.0286},\n",
    "    {'city': 'Ulsan', 'lat': 35.5384, 'lon': 129.3114},\n",
    "    {'city': 'Sejong', 'lat': 36.4870, 'lon': 127.2826},\n",
    "    {'city': 'Goyang', 'lat': 37.6584, 'lon': 126.8320}\n",
    "]\n",
    "\n",
    "# Extracting data for plotting\n",
    "lats = [item['lat'] for item in data]\n",
    "lons = [item['lon'] for item in data]\n",
    "cities = [item['city'] for item in data]\n",
    "\n",
    "# Creating the scattermapbox plot\n",
    "fig = go.Figure()\n",
    "\n",
    "fig.add_trace(go.Scattermapbox(\n",
    "    lon=lons,\n",
    "    lat=lats,\n",
    "    text=cities,\n",
    "    mode='markers',\n",
    "    marker=go.scattermapbox.Marker(\n",
    "        size=9,\n",
    "        color='blue'\n",
    "    )\n",
    "))\n",
    "\n",
    "fig.update_layout(\n",
    "    title='Sample Geographic Scatter Plot of South Korea',\n",
    "    autosize=True,\n",
    "    hovermode='closest',\n",
    "    mapbox=dict(\n",
    "        accesstoken=mapbox_access_token,\n",
    "        bearing=0,\n",
    "        center=dict(\n",
    "            lat=36.5,\n",
    "            lon=127.5\n",
    "        ),\n",
    "        pitch=0,\n",
    "        zoom=5,\n",
    "        style='streets'  # You can change this to 'satellite', 'satellite-streets', 'light', 'dark', etc.\n",
    "    ),\n",
    ")\n",
    "\n",
    "fig.show()"
   ]
  },
  {
   "cell_type": "markdown",
   "metadata": {},
   "source": []
  }
 ],
 "metadata": {
  "kernelspec": {
   "display_name": "eda_venv",
   "language": "python",
   "name": "python3"
  },
  "language_info": {
   "codemirror_mode": {
    "name": "ipython",
    "version": 3
   },
   "file_extension": ".py",
   "mimetype": "text/x-python",
   "name": "python",
   "nbconvert_exporter": "python",
   "pygments_lexer": "ipython3",
   "version": "3.10.12"
  }
 },
 "nbformat": 4,
 "nbformat_minor": 2
}
